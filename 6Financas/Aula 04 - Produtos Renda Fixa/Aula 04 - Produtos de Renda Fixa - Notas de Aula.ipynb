{
 "cells": [
  {
   "cell_type": "markdown",
   "metadata": {},
   "source": [
    "# Produtos de Renda Fixa\n",
    "\n",
    "Após completar este capítulo, você será capaz de:\n",
    "\n",
    "- Identificar do que se tratam os diversos títulos de Renda Fixa, bem como seus riscos, vantagens e desvantagens;\n",
    "- Descrever os principais tipos de títulos públicos e privados;\n",
    "- Calcular o preço de títulos pré-fixados e pós-fixados;\n",
    "- Distinguir MtM e Accrual;\n",
    "- Compreender conceitos como TIR, YTM, PU, VNA e spread de crédito."
   ]
  },
  {
   "cell_type": "markdown",
   "metadata": {},
   "source": [
    "## Títulos\n",
    "\n",
    "A ideia de investir em um título de Renda Fixa é ter um investimento com rentabilidade previsível. \n",
    "É na verdade uma categoria de investimentos que abrange vários formatos diferentes. \n",
    "\n",
    "Em geral eles são utilizados por países e instituições para obter financiamentos para suas atividades.\n",
    "\n",
    "Ao ser comprado, o título garante que o proprietário receba uma remuneração em juros até que o título atinja\n",
    "sua maturidade, quando receberá o valor integral + juros.\n",
    "Alguns títulos também possuem pagamentos periódicos de juros.\n",
    "\n",
    "Em geral ao verificar o título, podemos identificar o tipo de remuneração e tempo de maturidade:\n",
    "\n",
    "![img.png](Imagens/04_01_exemplo_cdb.png)\n",
    "\n",
    "O CDB da imagem paga 13,07% ao ano, com valor mínimo de investimento inicial de R$1000,00 e maturidade em 26/10/2026,\n",
    "ou seja, até a data de maturidade o título será valorizado em 13,07% a.a.\n",
    "\n",
    "Repare que basicamente existem 3 formas de calcular a remuneração:\n",
    "\n",
    "1. Pós-fixada: Utiliza-se uma taxa de referência que só será realmente conhecida após o vencimento do título\n",
    " (por exemplo, taxa SELIC que varia a cada 45 dias)\n",
    "\n",
    "2. Pré-fixada: Define-se uma taxa fixa anual, por exemplo, 10% a.a.\n",
    "\n",
    "3. Mista/Híbrida: Utiliza uma taxa de referência + uma fixa, por exemplo, IPCA + 5,14% (só saberemos o IPCA após ele ter\n",
    " sido calculado ao final do período)\t\n",
    "\n",
    "Estes títulos podem ser comprados nas corretoras imobiliárias, sendo adquiridos no **mercardo primário**, ou seja, comprando diretamente do emissor, ou via **mercado secundário**, quando se adquire um título de outro investidor que\n",
    "quer se desfazer do título.\n",
    "\n",
    "Vamos ver os principais tipos a seguir."
   ]
  },
  {
   "cell_type": "code",
   "execution_count": 8,
   "metadata": {
    "ExecuteTime": {
     "end_time": "2022-02-04T22:30:07.635620Z",
     "start_time": "2022-02-04T22:30:07.606120Z"
    }
   },
   "outputs": [],
   "source": [
    "VP = 1000\n",
    "i = 13.07/100\n",
    "n_per = 5\n",
    "ir = 15/100"
   ]
  },
  {
   "cell_type": "code",
   "execution_count": 9,
   "metadata": {
    "ExecuteTime": {
     "end_time": "2022-02-04T22:30:56.739021Z",
     "start_time": "2022-02-04T22:30:56.693002Z"
    }
   },
   "outputs": [
    {
     "data": {
      "text/plain": [
       "1848.148911511424"
      ]
     },
     "execution_count": 9,
     "metadata": {},
     "output_type": "execute_result"
    }
   ],
   "source": [
    "VF = VP*(1+i)**n_per\n",
    "VF"
   ]
  },
  {
   "cell_type": "code",
   "execution_count": 11,
   "metadata": {
    "ExecuteTime": {
     "end_time": "2022-02-04T22:32:01.143949Z",
     "start_time": "2022-02-04T22:32:01.137950Z"
    }
   },
   "outputs": [
    {
     "data": {
      "text/plain": [
       "1720.9265747847105"
      ]
     },
     "execution_count": 11,
     "metadata": {},
     "output_type": "execute_result"
    }
   ],
   "source": [
    "VL = (VF - VP) * (1-ir) + VP\n",
    "VL"
   ]
  },
  {
   "cell_type": "markdown",
   "metadata": {},
   "source": [
    "### Títulos Públicos\n",
    "\n",
    "São títulos emitidos por governos para obter parte do capital utilizado nos gastos públicos.\n",
    "\n",
    "No Brasil eles podem ser facilmente negociados pela plataforma do [Tesouro Direto](https://www.tesourodireto.com.br/). \n",
    "Existem atualmente 3 principais títulos nesta plataforma:\n",
    "\n",
    "Nome |Tipo de cálculo de taxa  de juros   |Taxa atual (Nov/2021)\n",
    "-----|----------|----------------\n",
    "Tesouro SELIC (LFT)\t     |Pós-fixado | SELIC + 0,1135% (SELIC 2024)    \n",
    "Tesouro Prefixado (LTN)\t |Pré-fixado | 11,96% (Prefixado 2024)\t \n",
    "Tesouro IPCA+ (NTN-B Principal)\t |Misto      | IPCA + 5,14% (IPCA+ 2026)\t \n",
    "\n",
    "Existem vários títulos com maturidades diferentes. Para cada um deles, ainda, existem também modalidades que pagam cupons semestrais de juros.\n",
    "\n",
    "Os títulos públicos são tratados como de menor risco pois tem apoio do governo, que pode, no pior dos casos, \"imprimir\" dinheiro e honrar as dívidas com os investidores.\n",
    "\n",
    "Mas nem sempre isso ocorre: [Mercado já aposta no 10º calote da dívida da Argentina](https://exame.com/economia/mercado-ja-aposta-no-10o-calote-da-divida-da-argentina/)"
   ]
  },
  {
   "cell_type": "markdown",
   "metadata": {},
   "source": [
    "### Títulos privados\n",
    "\n",
    "Os Títulos privados são emitidos por (adivinhe!) empresas privadas, os tipos mais comuns são os **CDB** (Certificado de Depósito Bancário), **LCI** (Letra de Crédito Imobiliário) e **LCA** (Letra de Crédito Agrário) são emitidos por instituições financeiras para financiar suas atividades e afins. \n",
    "\n",
    "Quando se trata de um título emitido por uma\n",
    "empresa para pagar dívidas, adquirir materiais, máquinas, etc são chamados de **debêntures**.\n",
    " \n",
    "- CDB (Certificado de Depósito Bancário)\n",
    "\n",
    "É um título emitido por bancos para captação de fundos. \n",
    "As remunerações são dos mesmos tipos já citados, as pós fixadas geralmente são atreladas ao CDI \n",
    "(Certificado de Depósito Interbancário, um título para empréstimo entre instituições financeiras) \n",
    "\n",
    "- LCI (Letra de Crédito Imobiliário) e LCA (Letra de Crédito Agrário)\n",
    "\n",
    "São títulos emitidos por instituições financeiras para financiar projetos imobiliários e agrários. É como se você estivesse emprestando dinheiro aos setores imobiliários ou agrário. Existe um incentivo as estes produtos pois não existe cobrança de imposto de renda sobre os rendimentos!\n",
    "\n",
    "Estes 3 títulos são garantidos pelo FGC (Fundo Garantidor de Créditos, mais a seguir), de forma que o investidor estaria protegido até certo ponto em caso de calote da instituição.\n",
    "\n",
    "- Debênture\n",
    "\n",
    "Quando uma empresa precisa fazer grandes empréstimos, ela pode negociar com uma instituição financeira e adquirir um empréstimo como eu e você, mas ela também como alternativa emitir títulos no mercado, os debêntures. O investidor que compra uma debênture recebe o direito de crédito estipulado pelo título, também remunerado em uma das 3 formas acima.\n",
    "\n",
    "A diferença das debêntures é que estas não são garantidas pelo FGC, os riscos envolvidos dependem da capacidade da empresa honrar sua dívidas. Alguns modelos de debêntures tem como garantias bens da companhia ou preferência de pagamento perante outros credores. \n",
    "\n",
    "---\n",
    "\n",
    "A *Rodovias do Tietê* emitiu debêntures em 2013 bem atrativos (IPCA + 8%), [porém deixou de pagar seus juros em 2017](https://6minutos.uol.com.br/minhas-financas/calote-das-debentures-da-rodovias-do-tiete-serve-de-alerta-para-o-investidor/),\n",
    "o que levou a um impasse que culminou com a recuperação judicial da empresa e títulos que valiam R$ 0 pois não se sabe quando e se será possível receber os pagamentos.  \n",
    "\n",
    "---\n",
    "\n",
    "Mas não se desanime por causa desta notícia, existem boas oportunidades com boas empresas, como as lendárias debêntures ([CVRDA6](https://conteudos.xpi.com.br/renda-fixa/relatorios/debentures-participativas-da-vale-entenda-o-que-sao-por-que-estao-falando-delas/))\n",
    "da Vale, emitidos em 1997 quando da sua privatização, para remunerar quanto à exploração de determinadas \n",
    "jazidas no Brasil. O detentor é remunerado em uma porcentagem do faturamento líquido dessas jazidas, hoje aproximadamente 7%, e um detalhe: a debênture não tem realmente um prazo, enquanto as jazidas produzirem, os investidores continuam recebendo remuneração, algo que deve acontecer até 2060."
   ]
  },
  {
   "cell_type": "markdown",
   "metadata": {},
   "source": [
    "### Tributação\n",
    "\n",
    "Com exceção de LCA e LCI **(e debêntures incentivadas)**, que são isentas de imposto, a tributação destes títulos segue uma tabela regressiva de acordo com o tempo em que o investimento foi mantido:\n",
    "\n",
    "Tempo |Alíquota IR\n",
    "-----|----------\n",
    "Até 180 dias\t | 22.5% \n",
    "De 181 dias a 360 dias\t |20.0%\n",
    "De 360 dias a 720 dias\t |17.5%\n",
    "Acima de 720 dias\t |15.0%\n",
    "\n",
    "Vale a pena também lembrar que existe **uma cobrança de IOF caso o investimento seja mantido por menos de 30 dias**!\n",
    "Ela começa valendo **96% dos rendimentos (sim!)** caso o investimento seja mantido por apenas 1 dia e vai se reduzindo\n",
    "diariamente até alcançar 0% em 30 dias."
   ]
  },
  {
   "cell_type": "markdown",
   "metadata": {},
   "source": [
    "### O FGC\n",
    "\n",
    " O FGC define-se como \"uma associação civil, sem fins lucrativos, com personalidade jurídica de direito privado\" que visa garantir uma estabilidade e impedir ou mitigar crises bancárias sistêmicas,\n",
    " protegendo depositantes e investidores.\n",
    "\n",
    "O FGC define o limite de R$ 250 mil por CPF por instituição financeira, ou seja, em teoria, se você tem depositados valores em um banco que pede falência ou entra em recuperação, o FGC agiria como fiador e\n",
    "lhe pagaria o valor devido até o limite.\n",
    "\n",
    "**Até 1 Mi de Reais (equivalente a quatro contas)**"
   ]
  },
  {
   "cell_type": "markdown",
   "metadata": {},
   "source": [
    "\n",
    "## Preços\n",
    "\n",
    "### Tipos de fluxos\n",
    "\n",
    "#### Bullet\n",
    "\n",
    "O fluxo *bullet* paga o juros e a amortização do principal apenas no vencimento, sem nenhum fluxo intermediário.\n",
    "\n",
    "![img.png](Imagens/04_03_Fluxo_Bullet.jpg)\n",
    "\n",
    "As vezes, a terminologia *bullet* pode ser utilizada apenas para o pagamento do principal. Ou seja, ainda que haja pagamentos intermediários de juros, se todo o principal é pago apenas no vencimento, também pode ser considerado *bullet*.\n",
    "\n",
    "#### Fluxo de caixa\n",
    "\n",
    "O termo **fluxo de caixa** é utilizado para descrever fluxos periódicos de pagamentos, que podem envolver tanto pagamento de juros como de amortização de principal. Nas imagens abaixo, temos alguns exemplos de fluxos de caixa.\n",
    "\n",
    "![img.png](Imagens/04_04_Fluxo_Caixa_1.jpg)\n",
    "![img.png](Imagens/04_05_Fluxo_Caixa_2.jpg)\n",
    "\n",
    "1. **Amortização no fim**: há um fluxo recorrente de pagamento de juros, mas o principal é pago inteiramente na última parcela, que coincide com o vencimento da operação. Ex: NTN-B.\n",
    "2. **Amortização constante**: O principal é diluído em parcelas iguais (amortizações constantes) e o juros é cobrado sobre o saldo devedor, portanto, os juros iniciais são maiores que os finais. Ex: Financiamentos imobiliários com sistema SAC.\n",
    "3. **Parcelas constantes**: tanto os juros como as amortizações variam em cada parcela, mas de tal forma que a soma deles seja sempre igual, portanto, as parcelas permanecem iguais em todos os fluxos. Ex: Parcelamento de compras ou financiamentos via sistema Price."
   ]
  },
  {
   "cell_type": "markdown",
   "metadata": {},
   "source": [
    "## Marcação a Mercado (*MtM*) x *Accrual*\n",
    "\n",
    "Os preços de mercado de ativos tanto de renda fixa quanto de renda variável flutuam diariamente.   Expressões como \"marcação a mercado\" e \"marcação na curva\" são termos utilizados no mercado financeiro para indicar o modo como é obtido o preço de um título.\n",
    "\n",
    "**Marcação a mercado** (MtM, de *Marked to Market*) é o processo de refletir o valor de mercado dos ativos, é o preço pelo qual ele seria vendido.  É a marcação adequada para títulos que ficam em carteira, mas disponíveis para negociação.\n",
    "\n",
    "Para ativos líquidos, o processo de marcar a mercado é rápido e assertivo e baseia-se nos preços de negociação publicados. Já para ativos ilíquidos, ou seja, aqueles cuja a venda não é tão simples ou frequente, a marcação a mercado é feita pela estimativa do preço justo pelo qual o ativo seria negociado no mercado (geralmente, utilizando modelos).\n",
    " \n",
    "**Accrual** ou **marcação na curva** é uma forma de marcar o preço de um ativo a partir do valor que ele foi negociado (comprado) no início da operação e é o valor adequado para precificar um título, caso ele seja mantido até o vencimento.\n",
    "\n",
    "Em geral, a marcação a mercado apresenta mais oscilações, pois considera as mudanças do mercado e está constantemente atualizando o preço baseado nestas informações. As mudanças que impactam os preços podem ocorrer devido às variações nas ofertas e demandas, projeções de taxas de juros e mudanças macroeconômicas, entre outros.\n",
    "\n",
    "**PU** ou Preço Unitário refere-se ao preço de mercado de uma quantidade do título. O valor base utilizado para o PU pode ser de R\\\\$1,00, R\\\\$100,00, R\\\\$1.000,00 ou qualquer outro valor especificado (em geral, é definido na emissão do papel e relacionado ao VN). \n",
    "\n",
    "Para obter o MtM a partir do PU, basta multiplicar a quantidade da operação realizada ou quantidade em carteira:\n",
    "\n",
    "$$ MtM = Qtde \\cdot PU $$"
   ]
  },
  {
   "cell_type": "markdown",
   "metadata": {},
   "source": [
    "**Exemplo 1**\n",
    "\n",
    "Considere uma LTN emitida na data 07/02/2018 com vencimento em 01/01/2025.\n",
    "Seu cliente comprou esta LTN no dia 02/03/2020 e gostaria de saber quanto ele ganharia se vendesse hoje, 23/03/2020.\n",
    "\n",
    "Buscando os dados no Tesouro Direto, você obteve a seguinte informação:\n",
    "\n",
    "Dia |Taxa | PU\n",
    "----|-----|---\n",
    "07/02/2018|9,77\\%|526,93\n",
    "02/03/2020|5,95\\%|756,79\n",
    "23/03/2020|8,19\\%|687,39\n",
    "\n",
    "Os dados do Tesouro Direto referem-se ao preço de mercado, os preços que foram negociados (compra/venda) em cada data base.\n",
    "\n",
    "Portanto, sabemos que o cliente pagou 756,79 por título comprado em 07/02/2018 e que, se vendesse hoje, venderia pelo valor de 687,39.\n",
    "\n",
    "Podemos ver que ele perderia 756,79 - 687,39 = 69,40 nesta operação, o que equivale a -9,17\\% a.p. (69,40 / 756,79).\n",
    "\n",
    "Visto este resultado, o cliente desistiu da venda, decidindo manter o título até o vencimento e perguntou o valor justo para este caso. Ou seja, ele quer saber o quanto já rendeu/rentabilizou desde a data em que comprou o título.\n",
    "\n",
    "Podemos obter este valor calculando de duas formas:\n",
    "\n",
    "- Accruar os juros do início da operação (02/03) até  data base de cálculo (22/03);\n",
    "- Descontar os juros ainda não rentabilizados do valor futuro.\n",
    "\n",
    "![img.png](Imagens/04_06_LTN_na_Curva.jpg)\n",
    "\n",
    "Na primeira opção, calculamos o prazo decorrido do início da operação até a data base e incluímos os juros deste período:\n",
    "\n",
    "- C = 756,79\n",
    "- i = 5,95\\%\n",
    "- n1 = DU(02/03/20, 23/03/20) / 252\n",
    "- n1 = 15/252\n",
    "\n",
    "$$ PU = C \\cdot (1 + i)^{n1} $$\n",
    "$$ PU = 759,40 $$"
   ]
  },
  {
   "cell_type": "code",
   "execution_count": 19,
   "metadata": {
    "ExecuteTime": {
     "end_time": "2022-02-04T23:33:19.549383Z",
     "start_time": "2022-02-04T23:33:19.536881Z"
    }
   },
   "outputs": [
    {
     "data": {
      "text/plain": [
       "759.3980709879505"
      ]
     },
     "execution_count": 19,
     "metadata": {},
     "output_type": "execute_result"
    }
   ],
   "source": [
    "# Accruando\n",
    "C = 756.79\n",
    "i = 5.95/100\n",
    "n1 = 15/252\n",
    "\n",
    "PU = C * (1 + i)**n1\n",
    "PU"
   ]
  },
  {
   "cell_type": "markdown",
   "metadata": {},
   "source": [
    "Na segunda opção, podemos descontar do valor futuro a taxa contratada:\n",
    "\n",
    "- M = 1000,00\n",
    "- i = 5,95%\n",
    "- n2 = DU(23/03/20, 01/01/25) / 252\n",
    "- n2 = 1200/252\n",
    "\n",
    "$$ Preco = \\frac{M}{(1 + i)^{n2}} $$\n",
    "$$ Preco = 759,40 $$\n",
    "\n",
    "![img.png](Imagens/04_07_LTN_Grafico.png)"
   ]
  },
  {
   "cell_type": "code",
   "execution_count": 20,
   "metadata": {
    "ExecuteTime": {
     "end_time": "2022-02-04T23:36:08.807809Z",
     "start_time": "2022-02-04T23:36:08.803631Z"
    }
   },
   "outputs": [
    {
     "data": {
      "text/plain": [
       "759.4017857583738"
      ]
     },
     "execution_count": 20,
     "metadata": {},
     "output_type": "execute_result"
    }
   ],
   "source": [
    "# Descontnado\n",
    "M = 1000\n",
    "i = 5.95/100\n",
    "n2 = 1200/252\n",
    "PU = M / (1 + i)**n2\n",
    "PU"
   ]
  },
  {
   "cell_type": "code",
   "execution_count": 21,
   "metadata": {
    "ExecuteTime": {
     "end_time": "2022-02-04T23:37:00.399994Z",
     "start_time": "2022-02-04T23:37:00.386990Z"
    }
   },
   "outputs": [
    {
     "name": "stdout",
     "output_type": "stream",
     "text": [
      "0.17359239175221886\n",
      "2.6117857583737987\n"
     ]
    }
   ],
   "source": [
    "# Juros por dia\n",
    "\n",
    "J_dia = C * ((1 + i)**(1/252) - 1)\n",
    "print(J_dia)\n",
    "print(PU - C)"
   ]
  },
  {
   "cell_type": "markdown",
   "metadata": {},
   "source": [
    "-----\n",
    "**Definição**:\n",
    "YTM ou Yield-to-Maturity ou TIR do papel até o vencimento: é a rentabilidade do papel se ficar com ele até o vencimento. É a taxa de juros pela qual negociamos os papéis.\n",
    "\n",
    "-----\n",
    "\n",
    "### Pré-fixados\n",
    "\n",
    "Para obter o preço de mercado de um título pré-fixado, basta descontarmos o valor futuro até o valor presente pela taxa de mercado.\n",
    "\n",
    "$$ PU = \\frac{VN}{(1 + r)^t} $$\n",
    "\n",
    "Em que:\n",
    "\n",
    "- VN é o valor nominal;\n",
    "- r é a taxa de juros livre de risco vigente na data base;\n",
    "- t é o prazo da data base até o vencimento do título.\n",
    "\n",
    "---\n",
    "\n",
    "**Observação**: Para cálculo de MtM, o prazo deve ser contado a partir da **data base**, e não da data de início do contrato ou emissão do papel.\n",
    "\n",
    "---\n",
    "\n",
    "Para títulos com fluxos de caixa, a regra é a mesma. Os valores de cada fluxo *VF_i* são calculados e descontados a valor presente separadamente e, por fim, somam-se todos os valores presentes.\n",
    "\n",
    "$$ PU = \\sum_{i=1}^{n} \\frac{VF_i}{(1 + r_i)^{t_i}} $$\n",
    "\n",
    "Na imagem abaixo, o 0 (zero) representa a data base, os quatro fluxos representam quatro fluxos futuros (ainda não vencidos). Cada fluxo deve ser descontadao com a taxa e prazo adequado de acordo com sua respectiva data.\n",
    "![img.png](Imagens/04_08_MtM_CF.jpg)\n",
    "\n",
    "**Exemplo 2**\n",
    "Preço de uma NTN-F.\n",
    "\n",
    "NTN-F é um título pré-fixado com pagamento de cupons semestrais. A taxa do cupom pago é de 10% a.a. O valor do notional é VN = R$ 1.000.\n",
    "\n",
    "Primeiro, calculemos o valor do cupom semestral $c_S$:\n",
    "\n",
    "$$ c_S = (1 + c_A)^{1/2} - 1 $$\n",
    "\n",
    "$$ c_S = (1 + 10\\%)^{1/2} - 1 $$\n",
    "\n",
    "$$ c_S = 4,8808\\% a.s.$$\n",
    "\n",
    "![img.png](Imagens/04_09_NTNF_CF.png)\n",
    "\n",
    "Onde:\n",
    "\n",
    "- $C_S$ = pagamento de juros semestral\n",
    "- $VN$ = 1.000,00\n",
    "- $i$ = taxa efetiva anual\n",
    "- $t_n$ = dias úteis no período\n",
    "\n",
    "ERRATA: O ultimo expoente eh igual $ t_n $"
   ]
  },
  {
   "cell_type": "markdown",
   "metadata": {},
   "source": [
    "### Pós-fixados\n",
    "Nos títulos pós-fixados, o valor nominal é atualizado por um indexador (IPCA, IGP-M ou Selic), originando o VNA (Valor Nominal Atualizado).\n",
    "\n",
    "O VNA pode ser calculado pela diferença entre o número índice do indexador na data base do índice e a data de liquidação da operação:\n",
    "\n",
    "$$ VNA_{Atual} = VN \\cdot \\frac{NI_t}{NI_0} $$\n",
    "\n",
    "$$ VNA_{Proj} = VNA_{Atual} \\cdot (1 + Index)^{t_n} $$\n",
    "\n",
    "Onde:\n",
    "\n",
    "- $NI_0$ = número índice do indexador na data base inicial;\n",
    "- $NI_t$ = número índice do indexador na data de cálculo\n",
    "- $Index$ = projeção do indexador para o futuro\n",
    "- $t_n$ é o prazo anualizado da data de cálculo até o vencimento do papel.\n",
    "\n",
    "---\n",
    "Data bases de indexadores:\n",
    "\n",
    "Indexador | Data base inicial\n",
    "------|------\n",
    "IPCA  | 15/07/2000\n",
    "IGP-M | 01/07/2000\n",
    "Selic | 01/07/2000\n",
    "\n",
    "---\n",
    "\n",
    "Para obter o preço de um título pós-fixado, primeiramente, definimos o fluxo de caixa, calculando o valor dos cupons com o valor base 100 (ou percentual). Posteriormente, incluímos a atualização do indexador (VNA) sobre a cotação do papel obtida.\n",
    "\n",
    "$$ PU = VNA_{Proj} \\cdot \\frac{cotação}{100} $$\n",
    "\n",
    "![img.png](Imagens/04_10_NTNB_CF.PNG)\n",
    "\n",
    "Onde:\n",
    "\n",
    "- $J$ = pagamento de juros considerando a cotação do título em 100%;\n",
    "- $i$ = taxa efetiva anual;\n",
    "- $T_n$ = dias úteis no período"
   ]
  },
  {
   "cell_type": "code",
   "execution_count": null,
   "metadata": {},
   "outputs": [],
   "source": [
    "NI_1 = 100\n",
    "NI_4 = 100*(1 + IPCA_2)*(1 + IPCA_3)*(1 + IPCA_4)\n",
    "...\n",
    "\n",
    "# F = fator de atualização de IPCA\n",
    "# acumulando inflação mensalmente por taxas:\n",
    "F = (1 + IPCA_1)*(1 + IPCA_2)*(1 + IPCA_3)\n",
    "\n",
    "# 0: junho\n",
    "# 1: julho\n",
    "# 2: agosto\n",
    "# 3: setembro\n",
    "# acumulando inflação mensalmente por taxas:\n",
    "F = NI_3/NI_0 # divide pelo índice do mês anterior\n",
    "\n",
    "NI_3 = NI_0*(1 + IPCA_1)*(1 + IPCA_2)*(1 + IPCA_3)\n",
    "\n",
    "NI_1 = NI_0*(1 + IPCA_1)"
   ]
  },
  {
   "cell_type": "markdown",
   "metadata": {},
   "source": [
    "### Títulos Privados e *Spread* de Crédito\n",
    "\n",
    "No mercado de títulos privados, é comum considerar um spread de crédito que reflita o excesso de risco em relação aos títulos do governo (considerados de menor risco). Este spread significa que o título terá uma taxa mais atrativa que o tesouro.\n",
    "\n",
    "Para calcular preço justo destes títulos, podemos:\n",
    "\n",
    "- descontar o Valor Futuro pela TIR, que contemplará a taxa básica de juros (livre de risco, igual ao do tesouro) e o spread deforma embutida ou\n",
    "\n",
    "$$ PU = \\frac{VF}{(1+TIR)^n} $$\n",
    "\n",
    "- descontar separadamente pela taxa livre de risco e pelo spread de crédito.\n",
    "\n",
    "$$ PU = \\frac{VF}{(1 + r)^n \\cdot (1 + s)^n} $$\n",
    "\n",
    "\n",
    "## [Conteúdo adicional] Convenções de contagem de dias\n",
    "Convenções de contagem de dias:\n",
    "\n",
    "- https://stringfixer.com/pt/ACT/360\n",
    "- https://www.isda.org/search/day%20count\n",
    "\n",
    "Calendário com feriados bancários:\n",
    "- https://www.anbima.com.br/feriados/feriados.asp\n",
    "\n",
    "\n",
    "## Referências\n",
    "\n",
    "- https://www.btgpactualdigital.com/como-investir/artigos/investimentos\n",
    "- https://www.fgc.org.br/ \n",
    "\n",
    "- Descrição de títulos públicos: \n",
    "https://sisweb.tesouro.gov.br/apex/f?p=2501:9::::9:P9_ID_PUBLICACAO_ANEXO:4710\n",
    "\n",
    "- As metodologias de cálculo e o histórico de preços e taxas dos títulos públicos:\n",
    "https://www.tesourodireto.com.br/titulos/tipos-de-tesouro.htm\n",
    "\n",
    "- O histórico de preços de títulos públicos:\n",
    "https://www.tesourodireto.com.br/titulos/historico-de-precos-e-taxas.htm\n",
    "\n",
    "- Taxa Yield:\n",
    "https://warren.com.br/blog/o-que-e-yield/\n",
    "\n",
    "- TIR - Taxa Interna de Retorno:\n",
    "https://warren.com.br/blog/taxa-interna-de-retorno-tir/\n"
   ]
  },
  {
   "cell_type": "code",
   "execution_count": null,
   "metadata": {
    "ExecuteTime": {
     "end_time": "2022-02-05T00:30:12.625434Z",
     "start_time": "2022-02-05T00:29:17.029243Z"
    }
   },
   "outputs": [],
   "source": []
  },
  {
   "cell_type": "code",
   "execution_count": null,
   "metadata": {
    "ExecuteTime": {
     "end_time": "2022-02-05T00:48:10.901256Z",
     "start_time": "2022-02-05T00:48:10.881797Z"
    }
   },
   "outputs": [],
   "source": []
  },
  {
   "cell_type": "code",
   "execution_count": null,
   "metadata": {
    "ExecuteTime": {
     "end_time": "2022-02-05T00:48:14.901590Z",
     "start_time": "2022-02-05T00:48:14.569440Z"
    }
   },
   "outputs": [],
   "source": []
  },
  {
   "cell_type": "code",
   "execution_count": null,
   "metadata": {
    "ExecuteTime": {
     "end_time": "2022-02-05T00:53:21.075533Z",
     "start_time": "2022-02-05T00:53:20.734115Z"
    }
   },
   "outputs": [],
   "source": []
  },
  {
   "cell_type": "code",
   "execution_count": null,
   "metadata": {
    "ExecuteTime": {
     "end_time": "2022-02-05T01:10:03.073100Z",
     "start_time": "2022-02-05T01:10:03.039912Z"
    }
   },
   "outputs": [],
   "source": []
  }
 ],
 "metadata": {
  "kernelspec": {
   "display_name": "Python 3",
   "language": "python",
   "name": "python3"
  },
  "language_info": {
   "codemirror_mode": {
    "name": "ipython",
    "version": 3
   },
   "file_extension": ".py",
   "mimetype": "text/x-python",
   "name": "python",
   "nbconvert_exporter": "python",
   "pygments_lexer": "ipython3",
   "version": "3.9.5"
  },
  "latex_envs": {
   "LaTeX_envs_menu_present": true,
   "autoclose": false,
   "autocomplete": true,
   "bibliofile": "biblio.bib",
   "cite_by": "apalike",
   "current_citInitial": 1,
   "eqLabelWithNumbers": true,
   "eqNumInitial": 1,
   "hotkeys": {
    "equation": "Ctrl-E",
    "itemize": "Ctrl-I"
   },
   "labels_anchors": false,
   "latex_user_defs": false,
   "report_style_numbering": false,
   "user_envs_cfg": false
  },
  "toc": {
   "base_numbering": 1,
   "nav_menu": {},
   "number_sections": true,
   "sideBar": true,
   "skip_h1_title": false,
   "title_cell": "Table of Contents",
   "title_sidebar": "Contents",
   "toc_cell": false,
   "toc_position": {},
   "toc_section_display": true,
   "toc_window_display": false
  },
  "varInspector": {
   "cols": {
    "lenName": 16,
    "lenType": 16,
    "lenVar": 40
   },
   "kernels_config": {
    "python": {
     "delete_cmd_postfix": "",
     "delete_cmd_prefix": "del ",
     "library": "var_list.py",
     "varRefreshCmd": "print(var_dic_list())"
    },
    "r": {
     "delete_cmd_postfix": ") ",
     "delete_cmd_prefix": "rm(",
     "library": "var_list.r",
     "varRefreshCmd": "cat(var_dic_list()) "
    }
   },
   "types_to_exclude": [
    "module",
    "function",
    "builtin_function_or_method",
    "instance",
    "_Feature"
   ],
   "window_display": false
  }
 },
 "nbformat": 4,
 "nbformat_minor": 4
}
