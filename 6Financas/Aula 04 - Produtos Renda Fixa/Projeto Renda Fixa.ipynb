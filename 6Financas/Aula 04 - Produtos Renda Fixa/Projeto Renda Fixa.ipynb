{
 "cells": [
  {
   "cell_type": "markdown",
   "id": "ccbe9283",
   "metadata": {},
   "source": [
    "# Avaliação – Produto Renda Fixa\n",
    "## Construção de uma calculadora de renda fixa em Python - NTN-F\n",
    "\n",
    "\n",
    "Formato de envio: arquivo .ipynb (Jupyter Notebook) conforme instruções a seguir.\n",
    "\n",
    "- Pode construir quantos métodos/classes/funções adicionais desejarem;\n",
    "- Pode utilizar bibliotecas abertas;\n",
    "- O arquivo deve conter as funções solicitadas e os cenários de teste (pelo menos um teste para cada função/método). \n",
    "- Comente as funções e o que mais achar necessário no código;\n",
    "- Grupos de até 4 pessoas.\n",
    "\n",
    "Exemplo de definição da função com docstring detalhando os parâmetros:\n",
    "\n",
    "```{python}\n",
    "def calcula_soma(a, b):\n",
    "''' Calcula a soma de dois números decimais\n",
    "    a: float\n",
    "    b: float\n",
    "    '''\n",
    "    return a + b\n",
    "```\n",
    "\n",
    "Exemplo de teste da função com a definição dos parâmetros e chamada da função:\n",
    "\n",
    "```{python}\n",
    "a = 1.3\n",
    "b = 10.07\n",
    "resultado = calcula_soma(a, b):\n",
    "print(f'Resultado: {resultado}')\n",
    "```\n",
    "\n",
    "- A nota da avaliação considerará apenas o resultado das funções desejadas (existência de bugs, bom funcionamento, etc);\n",
    "- Na avaliação qualitativa, faremos comentários de melhorias na estrutura do código (para fins de evolução de aprendizado, e não para reduzir nota).\n",
    "\n",
    "### Funções/métodos mínimos de entrega:\n",
    "- calcula_prazo(dt_ini, dt_fim, feriados, convencao)\n",
    "    - Retorna: prazo anualizado (float)\n",
    "    - convencao: 'DU/252' ou 'DC/360'\n",
    "    \n",
    "    \n",
    "- constroi_fluxo(dt_fim, frequencia)\n",
    "    - Retorna: Lista de datas dos fluxos (list datetime.date)\n",
    "    \n",
    "    \n",
    "- calcula_pu(VF, prazo_anual, taxa_anual)\n",
    "    - Retorna pu (float)\n",
    "    \n",
    "    \n",
    "- calcula_taxa_anual(PU, prazo_anual, valor_base=100)\n",
    "    - Retorna: taxa_anual (float)\n",
    "    \n",
    "    \n",
    "- calcula_pu_ntnf(dt_venc, dt_base, tir) *\n",
    "    - Retorna: pu (float)\n",
    "    - Imprime tabela com o cashflow (Data do fluxo, VF, DU, Fator de desconto, PU)\n",
    "\n",
    "\\* semelhante ao calculado em aula no Excel. Sugere-se aproveitar as funções anteriores para este cálculo.\n",
    "\n",
    "### Sugestões (itens não obrigatórios):\n",
    "- Utilizar variáveis de data no formato datetime.date;\n",
    "- Utilizar o calendário Anbima em .xls (disponibilizado no material de aula ou em: https://www.anbima.com.br/feriados/arqs/feriados_nacionais.xls) para cálculo de dias úteis;\n",
    "\n",
    "### Itens adicionais:\n",
    "\n",
    "Se você deseja incrementar seu framework para construção de portfólio pessoal, seguem algumas sugestões de melhorias para o projeto. \n",
    "\n",
    "Obs: Estes itens não serão considerados na nota, trabalhe neles apenas após ter garantido a parte obrigatória:\n",
    "\n",
    "- Implementar diversas contagens de prazo. Ex: DU/252, 30/360, ACT/360, ACT/ACT. Ver padrões ISDA.\n",
    "- Implementar tratamento de dias úteis/feriados. Por exemplo, se o vencimento de um fluxo cai num feriado/fim de semana, deslocar para o dia útil anterior ou próximo; escolher o critério via parâmetro;\n",
    "- Calcular accrual. Ex: def calcula_accrual(dt_ini, dt_base, taxa_anual);\n",
    "- Ler dados históricos (por exemplos, planilhas do tesouro direto) e fazer gráfico da série de preços de mercado ou das taxas;\n",
    "- Fazer gráficos de séries históricas de preço de mercado e preço accruado no mesmo gráfico.\n",
    "- Etc.\n"
   ]
  }
 ],
 "metadata": {
  "kernelspec": {
   "display_name": "Python 3 (ipykernel)",
   "language": "python",
   "name": "python3"
  },
  "language_info": {
   "codemirror_mode": {
    "name": "ipython",
    "version": 3
   },
   "file_extension": ".py",
   "mimetype": "text/x-python",
   "name": "python",
   "nbconvert_exporter": "python",
   "pygments_lexer": "ipython3",
   "version": "3.8.5"
  },
  "latex_envs": {
   "LaTeX_envs_menu_present": true,
   "autoclose": false,
   "autocomplete": true,
   "bibliofile": "biblio.bib",
   "cite_by": "apalike",
   "current_citInitial": 1,
   "eqLabelWithNumbers": true,
   "eqNumInitial": 1,
   "hotkeys": {
    "equation": "Ctrl-E",
    "itemize": "Ctrl-I"
   },
   "labels_anchors": false,
   "latex_user_defs": false,
   "report_style_numbering": false,
   "user_envs_cfg": false
  },
  "toc": {
   "base_numbering": 1,
   "nav_menu": {},
   "number_sections": true,
   "sideBar": true,
   "skip_h1_title": false,
   "title_cell": "Table of Contents",
   "title_sidebar": "Contents",
   "toc_cell": false,
   "toc_position": {},
   "toc_section_display": true,
   "toc_window_display": false
  },
  "varInspector": {
   "cols": {
    "lenName": 16,
    "lenType": 16,
    "lenVar": 40
   },
   "kernels_config": {
    "python": {
     "delete_cmd_postfix": "",
     "delete_cmd_prefix": "del ",
     "library": "var_list.py",
     "varRefreshCmd": "print(var_dic_list())"
    },
    "r": {
     "delete_cmd_postfix": ") ",
     "delete_cmd_prefix": "rm(",
     "library": "var_list.r",
     "varRefreshCmd": "cat(var_dic_list()) "
    }
   },
   "types_to_exclude": [
    "module",
    "function",
    "builtin_function_or_method",
    "instance",
    "_Feature"
   ],
   "window_display": false
  }
 },
 "nbformat": 4,
 "nbformat_minor": 5
}
