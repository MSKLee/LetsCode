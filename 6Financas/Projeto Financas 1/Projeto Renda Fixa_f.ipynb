{
 "cells": [
  {
   "cell_type": "markdown",
   "id": "ccbe9283",
   "metadata": {},
   "source": [
    "# Avaliação – Produto Renda Fixa\n",
    "## Construção de uma calculadora de renda fixa em Python - NTN-F\n",
    "\n",
    "\n",
    "Formato de envio: arquivo .ipynb (Jupyter Notebook) conforme instruções a seguir.\n",
    "\n",
    "- Pode construir quantos métodos/classes/funções adicionais desejarem;\n",
    "- Pode utilizar bibliotecas abertas;\n",
    "- O arquivo deve conter as funções solicitadas e os cenários de teste (pelo menos um teste para cada função/método). \n",
    "- Comente as funções e o que mais achar necessário no código;\n",
    "\n",
    "Exemplo de definição da função com docstring detalhando os parâmetros:\n",
    "\n",
    "```{python}\n",
    "def calcula_soma(a, b):\n",
    "''' Calcula a soma de dois números decimais\n",
    "    a: float\n",
    "    b: float\n",
    "    '''\n",
    "    return a + b\n",
    "```\n",
    "\n",
    "Exemplo de teste da função com a definição dos parâmetros e chamada da função:\n",
    "\n",
    "```{python}\n",
    "a = 1.3\n",
    "b = 10.07\n",
    "resultado = calcula_soma(a, b):\n",
    "print(f'Resultado: {resultado}')\n",
    "```\n",
    "\n",
    "- A nota da avaliação considerará apenas o resultado das funções desejadas (existência de bugs, bom funcionamento, etc);\n",
    "- Na avaliação qualitativa, faremos comentários de melhorias na estrutura do código (para fins de evolução de aprendizado, e não para reduzir nota).\n",
    "\n",
    "### Funções/métodos mínimos de entrega:\n",
    "- calcula_prazo(dt_ini, dt_fim, feriados, convencao)\n",
    "    - Retorna: prazo anualizado (float)\n",
    "    - convencao: 'DU/252' ou 'DC/360'\n",
    "    \n",
    "    \n",
    "- constroi_fluxo(dt_fim, frequencia)\n",
    "    - Retorna: Lista de datas dos fluxos (list datetime.date)\n",
    "    \n",
    "    \n",
    "- calcula_pu(VF, prazo_anual, taxa_anual)\n",
    "    - Retorna pu (float)\n",
    "    \n",
    "    \n",
    "- calcula_taxa_anual(PU, prazo_anual, valor_base=100)\n",
    "    - Retorna: taxa_anual (float)\n",
    "    \n",
    "    \n",
    "- calcula_pu_ntnf(dt_venc, dt_base, tir) *\n",
    "    - Retorna: pu (float)\n",
    "    - Imprime tabela com o cashflow (Data do fluxo, VF, DU, Fator de desconto, PU)\n",
    "\n",
    "\\* semelhante ao calculado em aula no Excel. Sugere-se aproveitar as funções anteriores para este cálculo.\n",
    "\n",
    "### Sugestões (itens não obrigatórios):\n",
    "- Utilizar variáveis de data no formato datetime.date;\n",
    "- Utilizar o calendário Anbima em .xls (disponibilizado no material de aula ou em: https://www.anbima.com.br/feriados/arqs/feriados_nacionais.xls) para cálculo de dias úteis;\n",
    "\n",
    "### Itens adicionais:\n",
    "\n",
    "Se você deseja incrementar seu framework para construção de portfólio pessoal, seguem algumas sugestões de melhorias para o projeto. \n",
    "\n",
    "Obs: Estes itens não serão considerados na nota, trabalhe neles apenas após ter garantido a parte obrigatória:\n",
    "\n",
    "- Implementar diversas contagens de prazo. Ex: DU/252, 30/360, ACT/360, ACT/ACT. Ver padrões ISDA.\n",
    "- Implementar tratamento de dias úteis/feriados. Por exemplo, se o vencimento de um fluxo cai num feriado/fim de semana, deslocar para o dia útil anterior ou próximo; escolher o critério via parâmetro;\n",
    "- Calcular accrual. Ex: def calcula_accrual(dt_ini, dt_base, taxa_anual);\n",
    "- Ler dados históricos (por exemplos, planilhas do tesouro direto) e fazer gráfico da série de preços de mercado ou das taxas;\n",
    "- Fazer gráficos de séries históricas de preço de mercado e preço accruado no mesmo gráfico.\n",
    "- Etc.\n"
   ]
  },
  {
   "cell_type": "code",
   "execution_count": 1,
   "metadata": {},
   "outputs": [],
   "source": [
    "# Função datetime.timedelta"
   ]
  },
  {
   "cell_type": "markdown",
   "metadata": {},
   "source": [
    "- calcula_prazo(dt_ini, dt_fim, feriados, convencao)\n",
    "    - Retorna: prazo anualizado (float)\n",
    "    - convencao: 'DU/252' ou 'DC/360'\n",
    "    "
   ]
  },
  {
   "cell_type": "markdown",
   "metadata": {},
   "source": [
    "## Criando função de cálculo de prazo"
   ]
  },
  {
   "cell_type": "code",
   "execution_count": 175,
   "metadata": {},
   "outputs": [],
   "source": [
    "import pandas as pd\n",
    "import numpy as np\n",
    "from datetime import datetime\n",
    "\n",
    "def calcula_prazo(dt_ini, dt_fim, feriados, convencao):\n",
    "    f = '%d/%m/%Y'\n",
    "    dif_uteis = np.busday_count(datetime.strptime(dt_ini, f).date(), datetime.strptime(dt_fim, f).date()) - feriados\n",
    "    if convencao == 252:\n",
    "        return dif_uteis/252\n",
    "    elif convencao == 360:\n",
    "        return dif/360\n",
    "    else:\n",
    "        return dif_uteis"
   ]
  },
  {
   "cell_type": "code",
   "execution_count": 155,
   "metadata": {},
   "outputs": [],
   "source": [
    "s = '18/02/2022'\n",
    "t = '01/01/2031'\n",
    "f = '%d/%m/%Y'"
   ]
  },
  {
   "cell_type": "code",
   "execution_count": 156,
   "metadata": {},
   "outputs": [
    {
     "data": {
      "text/plain": [
       "9.166666666666666"
      ]
     },
     "execution_count": 156,
     "metadata": {},
     "output_type": "execute_result"
    }
   ],
   "source": [
    "# Aplicação da Função\n",
    "\n",
    "calcula_prazo(s, t, 3, 252)"
   ]
  },
  {
   "cell_type": "code",
   "execution_count": 157,
   "metadata": {},
   "outputs": [
    {
     "data": {
      "text/plain": [
       "9.166666666666666"
      ]
     },
     "execution_count": 157,
     "metadata": {},
     "output_type": "execute_result"
    }
   ],
   "source": [
    "# Teste\n",
    "\n",
    "dif = np.busday_count(datetime.strptime(s, f).date(), datetime.strptime(t, f).date())\n",
    "\n",
    "(dif - 3) / 252"
   ]
  },
  {
   "cell_type": "markdown",
   "metadata": {},
   "source": [
    "## Criando função para mostrar a lista de datas entre duas datas"
   ]
  },
  {
   "cell_type": "code",
   "execution_count": 93,
   "metadata": {},
   "outputs": [],
   "source": [
    "from datetime import date, timedelta\n",
    "\n",
    "def lista_dias(data_inicial, data_final):\n",
    "    f = '%d/%m/%Y'\n",
    "    d1 = datetime.strptime(data_inicial, f)\n",
    "    d2 = datetime.strptime(data_final, f)\n",
    "\n",
    "    # Padronizando as datas\n",
    "\n",
    "    dias = pd.Series(pd.date_range(d1, d2-timedelta(days=1),freq='d').strftime('%Y-%m-%d'))\n",
    "\n",
    "    return dias"
   ]
  },
  {
   "cell_type": "code",
   "execution_count": 7,
   "metadata": {},
   "outputs": [
    {
     "data": {
      "text/plain": [
       "0    2022-02-18\n",
       "1    2022-02-19\n",
       "2    2022-02-20\n",
       "3    2022-02-21\n",
       "4    2022-02-22\n",
       "dtype: object"
      ]
     },
     "execution_count": 7,
     "metadata": {},
     "output_type": "execute_result"
    }
   ],
   "source": [
    "dias = lista_dias('18/02/2022', '01/01/2031')\n",
    "dias.head()"
   ]
  },
  {
   "cell_type": "code",
   "execution_count": 8,
   "metadata": {},
   "outputs": [
    {
     "data": {
      "text/plain": [
       "3239"
      ]
     },
     "execution_count": 8,
     "metadata": {},
     "output_type": "execute_result"
    }
   ],
   "source": [
    "dias.size"
   ]
  },
  {
   "cell_type": "markdown",
   "metadata": {},
   "source": [
    "## Importando a planilha de feriados nacionais e fazendo o tratamento"
   ]
  },
  {
   "cell_type": "markdown",
   "metadata": {},
   "source": [
    "### Função Tratamento de Datas"
   ]
  },
  {
   "cell_type": "code",
   "execution_count": 9,
   "metadata": {},
   "outputs": [
    {
     "data": {
      "text/html": [
       "<div>\n",
       "<style scoped>\n",
       "    .dataframe tbody tr th:only-of-type {\n",
       "        vertical-align: middle;\n",
       "    }\n",
       "\n",
       "    .dataframe tbody tr th {\n",
       "        vertical-align: top;\n",
       "    }\n",
       "\n",
       "    .dataframe thead th {\n",
       "        text-align: right;\n",
       "    }\n",
       "</style>\n",
       "<table border=\"1\" class=\"dataframe\">\n",
       "  <thead>\n",
       "    <tr style=\"text-align: right;\">\n",
       "      <th></th>\n",
       "      <th>Data</th>\n",
       "      <th>Dia da Semana</th>\n",
       "      <th>Feriado</th>\n",
       "    </tr>\n",
       "  </thead>\n",
       "  <tbody>\n",
       "    <tr>\n",
       "      <th>7</th>\n",
       "      <td>2001-09-07 00:00:00</td>\n",
       "      <td>sexta-feira</td>\n",
       "      <td>Independência do Brasil</td>\n",
       "    </tr>\n",
       "    <tr>\n",
       "      <th>837</th>\n",
       "      <td>2070-11-02 00:00:00</td>\n",
       "      <td>domingo</td>\n",
       "      <td>Finados</td>\n",
       "    </tr>\n",
       "    <tr>\n",
       "      <th>563</th>\n",
       "      <td>2047-12-25 00:00:00</td>\n",
       "      <td>quarta-feira</td>\n",
       "      <td>Natal</td>\n",
       "    </tr>\n",
       "    <tr>\n",
       "      <th>347</th>\n",
       "      <td>2029-12-25 00:00:00</td>\n",
       "      <td>terça-feira</td>\n",
       "      <td>Natal</td>\n",
       "    </tr>\n",
       "    <tr>\n",
       "      <th>662</th>\n",
       "      <td>2056-02-15 00:00:00</td>\n",
       "      <td>terça-feira</td>\n",
       "      <td>Carnaval</td>\n",
       "    </tr>\n",
       "  </tbody>\n",
       "</table>\n",
       "</div>"
      ],
      "text/plain": [
       "                    Data Dia da Semana                  Feriado\n",
       "7    2001-09-07 00:00:00   sexta-feira  Independência do Brasil\n",
       "837  2070-11-02 00:00:00       domingo                  Finados\n",
       "563  2047-12-25 00:00:00  quarta-feira                    Natal\n",
       "347  2029-12-25 00:00:00   terça-feira                    Natal\n",
       "662  2056-02-15 00:00:00   terça-feira                 Carnaval"
      ]
     },
     "execution_count": 9,
     "metadata": {},
     "output_type": "execute_result"
    }
   ],
   "source": [
    "import pandas as pd\n",
    "\n",
    "df_fn = pd.read_excel('feriados_nacionais.xls')\n",
    "df_fn.sample(10).head()"
   ]
  },
  {
   "cell_type": "code",
   "execution_count": 10,
   "metadata": {},
   "outputs": [
    {
     "name": "stdout",
     "output_type": "stream",
     "text": [
      "<class 'pandas.core.frame.DataFrame'>\n",
      "RangeIndex: 945 entries, 0 to 944\n",
      "Data columns (total 3 columns):\n",
      " #   Column         Non-Null Count  Dtype \n",
      "---  ------         --------------  ----- \n",
      " 0   Data           941 non-null    object\n",
      " 1   Dia da Semana  936 non-null    object\n",
      " 2   Feriado        936 non-null    object\n",
      "dtypes: object(3)\n",
      "memory usage: 22.3+ KB\n"
     ]
    }
   ],
   "source": [
    "df_fn.info()"
   ]
  },
  {
   "cell_type": "code",
   "execution_count": 11,
   "metadata": {},
   "outputs": [],
   "source": [
    "import pandas as pd\n",
    "\n",
    "def clean_data(df):\n",
    "    df = pd.to_datetime(df, errors='coerce')\n",
    "    df = df.dropna(how = 'all')\n",
    "    df = df.dt.strftime('%Y-%m-%d')\n",
    "\n",
    "    return df"
   ]
  },
  {
   "cell_type": "code",
   "execution_count": 12,
   "metadata": {},
   "outputs": [
    {
     "data": {
      "text/plain": [
       "936"
      ]
     },
     "execution_count": 12,
     "metadata": {},
     "output_type": "execute_result"
    }
   ],
   "source": [
    "# Teste\n",
    "\n",
    "lista_feriados = clean_data(df_fn['Data'])\n",
    "lista_feriados.size"
   ]
  },
  {
   "cell_type": "code",
   "execution_count": 13,
   "metadata": {},
   "outputs": [
    {
     "data": {
      "text/plain": [
       "0    2001-01-01\n",
       "1    2001-02-26\n",
       "2    2001-02-27\n",
       "3    2001-04-13\n",
       "4    2001-04-21\n",
       "Name: Data, dtype: object"
      ]
     },
     "execution_count": 13,
     "metadata": {},
     "output_type": "execute_result"
    }
   ],
   "source": [
    "lista_feriados.head()"
   ]
  },
  {
   "cell_type": "markdown",
   "metadata": {},
   "source": [
    "### Função Lista com as Datas dos feriados entre o intervalo"
   ]
  },
  {
   "cell_type": "code",
   "execution_count": 14,
   "metadata": {},
   "outputs": [],
   "source": [
    "def datas_feriados(data_dias, data_feriados):\n",
    "    dias_feriados = pd.Series(data_dias.isin(data_feriados).values)\n",
    "    dias_feriados[dias_feriados].index\n",
    "    feriados = pd.Series(data_dias[dias_feriados].values)\n",
    "    return feriados"
   ]
  },
  {
   "cell_type": "code",
   "execution_count": 15,
   "metadata": {},
   "outputs": [
    {
     "data": {
      "text/plain": [
       "0      2022-02-28\n",
       "1      2022-03-01\n",
       "2      2022-04-15\n",
       "3      2022-04-21\n",
       "4      2022-05-01\n",
       "          ...    \n",
       "102    2030-09-07\n",
       "103    2030-10-12\n",
       "104    2030-11-02\n",
       "105    2030-11-15\n",
       "106    2030-12-25\n",
       "Length: 107, dtype: object"
      ]
     },
     "execution_count": 15,
     "metadata": {},
     "output_type": "execute_result"
    }
   ],
   "source": [
    "# Teste\n",
    "\n",
    "f_entre = datas_feriados(dias, lista_feriados)\n",
    "f_entre"
   ]
  },
  {
   "cell_type": "code",
   "execution_count": 16,
   "metadata": {},
   "outputs": [
    {
     "data": {
      "text/plain": [
       "107"
      ]
     },
     "execution_count": 16,
     "metadata": {},
     "output_type": "execute_result"
    }
   ],
   "source": [
    "# Número de Feriados\n",
    "\n",
    "f_entre.count()"
   ]
  },
  {
   "cell_type": "code",
   "execution_count": 17,
   "metadata": {
    "scrolled": false
   },
   "outputs": [
    {
     "data": {
      "text/plain": [
       "8.88888888888889"
      ]
     },
     "execution_count": 17,
     "metadata": {},
     "output_type": "execute_result"
    }
   ],
   "source": [
    "# Testando função calcula_prazo com função feriados\n",
    "\n",
    "calcula_prazo('01/01/2022','01/01/2031', f_entre.count(), 252)"
   ]
  },
  {
   "cell_type": "markdown",
   "metadata": {},
   "source": [
    "### Função para Lista de Dias sem os feriados"
   ]
  },
  {
   "cell_type": "code",
   "execution_count": 18,
   "metadata": {},
   "outputs": [],
   "source": [
    "def sem_feriados(data_dias, data_feriados):\n",
    "    lista_s_feriados = data_dias[~data_dias.isin(data_feriados)]\n",
    "    return lista_s_feriados"
   ]
  },
  {
   "cell_type": "code",
   "execution_count": 19,
   "metadata": {},
   "outputs": [
    {
     "data": {
      "text/plain": [
       "0       2022-02-18\n",
       "1       2022-02-19\n",
       "2       2022-02-20\n",
       "3       2022-02-21\n",
       "4       2022-02-22\n",
       "           ...    \n",
       "3234    2030-12-27\n",
       "3235    2030-12-28\n",
       "3236    2030-12-29\n",
       "3237    2030-12-30\n",
       "3238    2030-12-31\n",
       "Length: 3132, dtype: object"
      ]
     },
     "execution_count": 19,
     "metadata": {},
     "output_type": "execute_result"
    }
   ],
   "source": [
    "# Teste\n",
    "\n",
    "lista_sem_feriados = sem_feriados(dias, f_entre)\n",
    "lista_sem_feriados"
   ]
  },
  {
   "cell_type": "code",
   "execution_count": 20,
   "metadata": {},
   "outputs": [
    {
     "data": {
      "text/plain": [
       "3132"
      ]
     },
     "execution_count": 20,
     "metadata": {},
     "output_type": "execute_result"
    }
   ],
   "source": [
    "# Número de dias sem feriados\n",
    "\n",
    "lista_sem_feriados.count()"
   ]
  },
  {
   "cell_type": "code",
   "execution_count": 21,
   "metadata": {},
   "outputs": [
    {
     "data": {
      "text/plain": [
       "3132"
      ]
     },
     "execution_count": 21,
     "metadata": {},
     "output_type": "execute_result"
    }
   ],
   "source": [
    "# Conferindo o resultado\n",
    "\n",
    "dias.count() - f_entre.count()"
   ]
  },
  {
   "cell_type": "markdown",
   "metadata": {},
   "source": [
    "- constroi_fluxo(dt_fim, frequencia)\n",
    "    - Retorna: Lista de datas dos fluxos (list datetime.date)\n"
   ]
  },
  {
   "cell_type": "markdown",
   "metadata": {},
   "source": [
    "## Função Lista de Datas dos Fluxos"
   ]
  },
  {
   "cell_type": "markdown",
   "metadata": {},
   "source": [
    "### Pagamentos ocorrem em 01/01 e 01/07"
   ]
  },
  {
   "cell_type": "code",
   "execution_count": 22,
   "metadata": {},
   "outputs": [],
   "source": [
    "def constroi_fluxo(dt_fm, frequencia):\n",
    "    f = '%d/%m/%Y'\n",
    "    d1 = date.today()\n",
    "    d2 = datetime.strptime(dt_fm, f)\n",
    "    dias_f = pd.Series(pd.date_range(d1, d2-timedelta(days=0), \n",
    "                                     freq=frequencia))\n",
    "    return dias_f"
   ]
  },
  {
   "cell_type": "code",
   "execution_count": 23,
   "metadata": {
    "scrolled": true
   },
   "outputs": [
    {
     "data": {
      "text/plain": [
       "0    2022-04-01\n",
       "1    2022-07-01\n",
       "2    2022-10-01\n",
       "3    2023-01-01\n",
       "4    2023-04-01\n",
       "5    2023-07-01\n",
       "6    2023-10-01\n",
       "7    2024-01-01\n",
       "8    2024-04-01\n",
       "9    2024-07-01\n",
       "10   2024-10-01\n",
       "11   2025-01-01\n",
       "12   2025-04-01\n",
       "13   2025-07-01\n",
       "14   2025-10-01\n",
       "15   2026-01-01\n",
       "16   2026-04-01\n",
       "17   2026-07-01\n",
       "18   2026-10-01\n",
       "19   2027-01-01\n",
       "20   2027-04-01\n",
       "21   2027-07-01\n",
       "22   2027-10-01\n",
       "23   2028-01-01\n",
       "24   2028-04-01\n",
       "25   2028-07-01\n",
       "26   2028-10-01\n",
       "27   2029-01-01\n",
       "28   2029-04-01\n",
       "29   2029-07-01\n",
       "30   2029-10-01\n",
       "31   2030-01-01\n",
       "32   2030-04-01\n",
       "33   2030-07-01\n",
       "34   2030-10-01\n",
       "35   2031-01-01\n",
       "dtype: datetime64[ns]"
      ]
     },
     "execution_count": 23,
     "metadata": {},
     "output_type": "execute_result"
    }
   ],
   "source": [
    "# Teste\n",
    "\n",
    "constroi_fluxo('01/01/2031', 'QS')"
   ]
  },
  {
   "cell_type": "code",
   "execution_count": 24,
   "metadata": {},
   "outputs": [
    {
     "data": {
      "text/plain": [
       "Timestamp('2022-07-01 00:00:00')"
      ]
     },
     "execution_count": 24,
     "metadata": {},
     "output_type": "execute_result"
    }
   ],
   "source": [
    "constroi_fluxo('01/01/2031', 'QS')[1]"
   ]
  },
  {
   "cell_type": "code",
   "execution_count": 164,
   "metadata": {},
   "outputs": [],
   "source": [
    "def data_semestre(s):\n",
    "    for i in s:\n",
    "        if i.month in [1,7]:\n",
    "            pass\n",
    "        else:\n",
    "            s = s.drop(s[s == i].index[0])\n",
    "    return s"
   ]
  },
  {
   "cell_type": "code",
   "execution_count": 165,
   "metadata": {},
   "outputs": [],
   "source": [
    "s = constroi_fluxo('01/01/2031', 'QS')"
   ]
  },
  {
   "cell_type": "code",
   "execution_count": 166,
   "metadata": {},
   "outputs": [
    {
     "data": {
      "text/plain": [
       "1    2022-07-01\n",
       "3    2023-01-01\n",
       "5    2023-07-01\n",
       "7    2024-01-01\n",
       "9    2024-07-01\n",
       "11   2025-01-01\n",
       "13   2025-07-01\n",
       "15   2026-01-01\n",
       "17   2026-07-01\n",
       "19   2027-01-01\n",
       "21   2027-07-01\n",
       "23   2028-01-01\n",
       "25   2028-07-01\n",
       "27   2029-01-01\n",
       "29   2029-07-01\n",
       "31   2030-01-01\n",
       "33   2030-07-01\n",
       "35   2031-01-01\n",
       "dtype: datetime64[ns]"
      ]
     },
     "execution_count": 166,
     "metadata": {},
     "output_type": "execute_result"
    }
   ],
   "source": [
    "data_semestre(s)"
   ]
  },
  {
   "cell_type": "code",
   "execution_count": 167,
   "metadata": {},
   "outputs": [
    {
     "data": {
      "text/plain": [
       "18"
      ]
     },
     "execution_count": 167,
     "metadata": {},
     "output_type": "execute_result"
    }
   ],
   "source": [
    "data_semestre(s).count()"
   ]
  },
  {
   "cell_type": "markdown",
   "metadata": {},
   "source": [
    "- calcula_pu(VF, prazo_anual, taxa_anual)\n",
    "    - Retorna pu (float)\n"
   ]
  },
  {
   "cell_type": "markdown",
   "metadata": {},
   "source": [
    "## Função Cálculo do PU"
   ]
  },
  {
   "cell_type": "code",
   "execution_count": 29,
   "metadata": {},
   "outputs": [],
   "source": [
    "def calcula_pu(VF, prazo_anual, taxa_anual):\n",
    "    PU = VF / (1 + taxa_anual)**prazo_anual\n",
    "    return PU"
   ]
  },
  {
   "cell_type": "code",
   "execution_count": 30,
   "metadata": {},
   "outputs": [
    {
     "data": {
      "text/plain": [
       "996.5656464615897"
      ]
     },
     "execution_count": 30,
     "metadata": {},
     "output_type": "execute_result"
    }
   ],
   "source": [
    "calcula_pu(1000, 5.95/100, 15/252)"
   ]
  },
  {
   "cell_type": "code",
   "execution_count": 31,
   "metadata": {},
   "outputs": [
    {
     "data": {
      "text/plain": [
       "996.5656075679024"
      ]
     },
     "execution_count": 31,
     "metadata": {},
     "output_type": "execute_result"
    }
   ],
   "source": [
    "# Teste\n",
    "\n",
    "VF = 1000\n",
    "i = 5.95/100\n",
    "n = 15/252\n",
    "\n",
    "PU = VF / (1 + i)**n\n",
    "PU"
   ]
  },
  {
   "cell_type": "markdown",
   "metadata": {},
   "source": [
    "- calcula_taxa_anual(PU, prazo_anual, valor_base=100)\n",
    "    - Retorna: taxa_anual (float)\n",
    "    "
   ]
  },
  {
   "cell_type": "markdown",
   "metadata": {},
   "source": [
    "## Taxa Anual"
   ]
  },
  {
   "cell_type": "code",
   "execution_count": 32,
   "metadata": {},
   "outputs": [],
   "source": [
    "def calcula_taxa_anual(PU, prazo_anual, convencao):    \n",
    "    VN = 1000\n",
    "    a = (VN/PU)\n",
    "    if convencao == 252:\n",
    "        return (a ** (1/(prazo_anual*252)) - 1)/100\n",
    "    elif convencao == 360:\n",
    "        return (a ** (1/(prazo_anual*360)) - 1)/100"
   ]
  },
  {
   "cell_type": "code",
   "execution_count": 33,
   "metadata": {},
   "outputs": [
    {
     "data": {
      "text/plain": [
       "2.325816163284422e-07"
      ]
     },
     "execution_count": 33,
     "metadata": {},
     "output_type": "execute_result"
    }
   ],
   "source": [
    "# Teste\n",
    "\n",
    "calcula_taxa_anual(959, 5, 360)"
   ]
  },
  {
   "cell_type": "markdown",
   "metadata": {},
   "source": [
    "- calcula_pu_ntnf(dt_venc, dt_base, tir) *\n",
    "    - Retorna: pu (float)\n",
    "    - Imprime tabela com o cashflow (Data do fluxo, VF, DU, Fator de desconto, PU)"
   ]
  },
  {
   "cell_type": "markdown",
   "metadata": {},
   "source": [
    "## Função que Cálcula o PU de NTN-F"
   ]
  },
  {
   "cell_type": "code",
   "execution_count": 34,
   "metadata": {},
   "outputs": [],
   "source": [
    "# Função Cálculo do Cupom Semestral\n",
    "\n",
    "def cupom_s(taxa):\n",
    "    cupom = 1000*((1+(taxa/100))**(1/2)-1)\n",
    "    return cupom"
   ]
  },
  {
   "cell_type": "code",
   "execution_count": 35,
   "metadata": {},
   "outputs": [
    {
     "data": {
      "text/plain": [
       "48.808848170151634"
      ]
     },
     "execution_count": 35,
     "metadata": {},
     "output_type": "execute_result"
    }
   ],
   "source": [
    "# Teste\n",
    "\n",
    "cupom_s(10)"
   ]
  },
  {
   "cell_type": "code",
   "execution_count": 192,
   "metadata": {},
   "outputs": [
    {
     "data": {
      "text/plain": [
       "[89,\n",
       " 215,\n",
       " 338,\n",
       " 463,\n",
       " 586,\n",
       " 713,\n",
       " 835,\n",
       " 962,\n",
       " 1084,\n",
       " 1211,\n",
       " 1333,\n",
       " 1460,\n",
       " 1583,\n",
       " 1708,\n",
       " 1831,\n",
       " 1957,\n",
       " 2079,\n",
       " 2206]"
      ]
     },
     "execution_count": 192,
     "metadata": {},
     "output_type": "execute_result"
    }
   ],
   "source": [
    "# Cálculo dos Dias Úteis entre Data_base e Data do Cupom\n",
    "\n",
    "f = '%d/%m/%Y'\n",
    "d1 = datetime.strptime('18/02/2022', f)\n",
    "\n",
    "delta_s = []\n",
    "for i in datas_cupom:\n",
    "    delta_s.append(calcula_prazo('18/02/2022', i, \n",
    "                                 datas_feriados(lista_dias('18/02/2022', i), lista_feriados).count(), 0))\n",
    "delta_s"
   ]
  },
  {
   "cell_type": "code",
   "execution_count": 193,
   "metadata": {},
   "outputs": [
    {
     "data": {
      "text/plain": [
       "[46.9709983802708,\n",
       " 44.486814736054846,\n",
       " 42.18855978243947,\n",
       " 39.97454317307897,\n",
       " 37.90939887333251,\n",
       " 35.888981068152894,\n",
       " 34.04958369706919,\n",
       " 32.234878447049894,\n",
       " 30.58276270266278,\n",
       " 28.95282500561559,\n",
       " 27.46892246461997,\n",
       " 26.00493987228039,\n",
       " 24.661486036924078,\n",
       " 23.367274051996617,\n",
       " 22.16008595230639,\n",
       " 20.98809206298208,\n",
       " 19.912401413214106,\n",
       " 18.851150864410425]"
      ]
     },
     "execution_count": 193,
     "metadata": {},
     "output_type": "execute_result"
    }
   ],
   "source": [
    "# Trazendo os Cupons para Valor Presente\n",
    "\n",
    "cupons_p = []\n",
    "\n",
    "for i in delta_s:\n",
    "    cupons_p.append(calcula_pu(cupom_s(10), i/252, 0.1148))\n",
    "    \n",
    "cupons_p"
   ]
  },
  {
   "cell_type": "code",
   "execution_count": 195,
   "metadata": {},
   "outputs": [
    {
     "data": {
      "text/plain": [
       "556.653698584461"
      ]
     },
     "execution_count": 195,
     "metadata": {},
     "output_type": "execute_result"
    }
   ],
   "source": [
    "# Soma dos Cupons do Período Trazidos à Valor Presente\n",
    "\n",
    "cupons_soma = sum(cupons_p)\n",
    "cupons_soma"
   ]
  },
  {
   "cell_type": "code",
   "execution_count": 188,
   "metadata": {},
   "outputs": [
    {
     "data": {
      "text/plain": [
       "804.0363454020456"
      ]
     },
     "execution_count": 188,
     "metadata": {},
     "output_type": "execute_result"
    }
   ],
   "source": [
    "247.3826468175846 + 556.653698584461"
   ]
  },
  {
   "cell_type": "code",
   "execution_count": 196,
   "metadata": {},
   "outputs": [
    {
     "data": {
      "text/plain": [
       "386.2240468919441"
      ]
     },
     "execution_count": 196,
     "metadata": {},
     "output_type": "execute_result"
    }
   ],
   "source": [
    "# Trazendo o VN para o Valor Presente\n",
    "\n",
    "VN = 1000\n",
    "data_ini = '18/02/2022'\n",
    "data_venc = '01/01/2031'\n",
    "feriados = f_entre.count()\n",
    "tir = 0.1148\n",
    "\n",
    "VN_PV = VN/((1+tir)**(calcula_prazo(data_ini, data_venc, feriados, 252)))\n",
    "VN_PV"
   ]
  },
  {
   "cell_type": "code",
   "execution_count": 199,
   "metadata": {},
   "outputs": [
    {
     "data": {
      "text/plain": [
       "942.8777454764052"
      ]
     },
     "execution_count": 199,
     "metadata": {},
     "output_type": "execute_result"
    }
   ],
   "source": [
    "# Valor do PU da NTN-F\n",
    "\n",
    "valor_obtido = VN_PV + cupons_soma\n",
    "\n",
    "valor_obtido"
   ]
  },
  {
   "cell_type": "code",
   "execution_count": 200,
   "metadata": {},
   "outputs": [
    {
     "data": {
      "text/plain": [
       "-5.02774547640513"
      ]
     },
     "execution_count": 200,
     "metadata": {},
     "output_type": "execute_result"
    }
   ],
   "source": [
    "# Diferença com o PU disponível no site do tesouro da ntnf_2031\n",
    "\n",
    "ntnf_2031 = 937.85\n",
    "\n",
    "ntnf_2031 - valor_obtido"
   ]
  },
  {
   "cell_type": "code",
   "execution_count": null,
   "metadata": {},
   "outputs": [],
   "source": []
  },
  {
   "cell_type": "code",
   "execution_count": null,
   "metadata": {},
   "outputs": [],
   "source": []
  }
 ],
 "metadata": {
  "kernelspec": {
   "display_name": "Python 3",
   "language": "python",
   "name": "python3"
  },
  "language_info": {
   "codemirror_mode": {
    "name": "ipython",
    "version": 3
   },
   "file_extension": ".py",
   "mimetype": "text/x-python",
   "name": "python",
   "nbconvert_exporter": "python",
   "pygments_lexer": "ipython3",
   "version": "3.9.5"
  }
 },
 "nbformat": 4,
 "nbformat_minor": 5
}
