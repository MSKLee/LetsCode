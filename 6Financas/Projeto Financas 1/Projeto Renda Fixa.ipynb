{
 "cells": [
  {
   "cell_type": "markdown",
   "id": "ccbe9283",
   "metadata": {},
   "source": [
    "# Avaliação – Produto Renda Fixa\n",
    "## Construção de uma calculadora de renda fixa em Python - NTN-F\n",
    "\n",
    "\n",
    "Formato de envio: arquivo .ipynb (Jupyter Notebook) conforme instruções a seguir.\n",
    "\n",
    "- Pode construir quantos métodos/classes/funções adicionais desejarem;\n",
    "- Pode utilizar bibliotecas abertas;\n",
    "- O arquivo deve conter as funções solicitadas e os cenários de teste (pelo menos um teste para cada função/método). \n",
    "- Comente as funções e o que mais achar necessário no código;\n",
    "\n",
    "Exemplo de definição da função com docstring detalhando os parâmetros:\n",
    "\n",
    "```{python}\n",
    "def calcula_soma(a, b):\n",
    "''' Calcula a soma de dois números decimais\n",
    "    a: float\n",
    "    b: float\n",
    "    '''\n",
    "    return a + b\n",
    "```\n",
    "\n",
    "Exemplo de teste da função com a definição dos parâmetros e chamada da função:\n",
    "\n",
    "```{python}\n",
    "a = 1.3\n",
    "b = 10.07\n",
    "resultado = calcula_soma(a, b):\n",
    "print(f'Resultado: {resultado}')\n",
    "```\n",
    "\n",
    "- A nota da avaliação considerará apenas o resultado das funções desejadas (existência de bugs, bom funcionamento, etc);\n",
    "- Na avaliação qualitativa, faremos comentários de melhorias na estrutura do código (para fins de evolução de aprendizado, e não para reduzir nota).\n",
    "\n",
    "### Funções/métodos mínimos de entrega:\n",
    "- calcula_prazo(dt_ini, dt_fim, feriados, convencao)\n",
    "    - Retorna: prazo anualizado (float)\n",
    "    - convencao: 'DU/252' ou 'DC/360'\n",
    "    \n",
    "    \n",
    "- constroi_fluxo(dt_fim, frequencia)\n",
    "    - Retorna: Lista de datas dos fluxos (list datetime.date)\n",
    "    \n",
    "    \n",
    "- calcula_pu(VF, prazo_anual, taxa_anual)\n",
    "    - Retorna pu (float)\n",
    "    \n",
    "    \n",
    "- calcula_taxa_anual(PU, prazo_anual, valor_base=100)\n",
    "    - Retorna: taxa_anual (float)\n",
    "    \n",
    "    \n",
    "- calcula_pu_ntnf(dt_venc, dt_base, tir) *\n",
    "    - Retorna: pu (float)\n",
    "    - Imprime tabela com o cashflow (Data do fluxo, VF, DU, Fator de desconto, PU)\n",
    "\n",
    "\\* semelhante ao calculado em aula no Excel. Sugere-se aproveitar as funções anteriores para este cálculo.\n",
    "\n",
    "### Sugestões (itens não obrigatórios):\n",
    "- Utilizar variáveis de data no formato datetime.date;\n",
    "- Utilizar o calendário Anbima em .xls (disponibilizado no material de aula ou em: https://www.anbima.com.br/feriados/arqs/feriados_nacionais.xls) para cálculo de dias úteis;\n",
    "\n",
    "### Itens adicionais:\n",
    "\n",
    "Se você deseja incrementar seu framework para construção de portfólio pessoal, seguem algumas sugestões de melhorias para o projeto. \n",
    "\n",
    "Obs: Estes itens não serão considerados na nota, trabalhe neles apenas após ter garantido a parte obrigatória:\n",
    "\n",
    "- Implementar diversas contagens de prazo. Ex: DU/252, 30/360, ACT/360, ACT/ACT. Ver padrões ISDA.\n",
    "- Implementar tratamento de dias úteis/feriados. Por exemplo, se o vencimento de um fluxo cai num feriado/fim de semana, deslocar para o dia útil anterior ou próximo; escolher o critério via parâmetro;\n",
    "- Calcular accrual. Ex: def calcula_accrual(dt_ini, dt_base, taxa_anual);\n",
    "- Ler dados históricos (por exemplos, planilhas do tesouro direto) e fazer gráfico da série de preços de mercado ou das taxas;\n",
    "- Fazer gráficos de séries históricas de preço de mercado e preço accruado no mesmo gráfico.\n",
    "- Etc.\n"
   ]
  },
  {
   "cell_type": "code",
   "execution_count": 1,
   "metadata": {},
   "outputs": [],
   "source": [
    "# Função datetime.timedelta"
   ]
  },
  {
   "cell_type": "markdown",
   "metadata": {},
   "source": [
    "- calcula_prazo(dt_ini, dt_fim, feriados, convencao)\n",
    "    - Retorna: prazo anualizado (float)\n",
    "    - convencao: 'DU/252' ou 'DC/360'\n",
    "    "
   ]
  },
  {
   "cell_type": "markdown",
   "metadata": {},
   "source": [
    "## Criando função de cálculo de prazo"
   ]
  },
  {
   "cell_type": "code",
   "execution_count": 9,
   "metadata": {},
   "outputs": [],
   "source": [
    "import pandas as pd\n",
    "import numpy as np\n",
    "from datetime import datetime\n",
    "\n",
    "def calcula_prazo(dt_ini, dt_fim, feriados, convencao):\n",
    "    f = '%d/%m/%Y'\n",
    "    dif = (datetime.strptime(dt_fim, f) - datetime.strptime(dt_ini, f)).days\n",
    "    dif_uteis = np.busday_count(datetime.strptime(dt_ini, f).date(), datetime.strptime(dt_fim, f).date()) - feriados\n",
    "    if convencao == 252:\n",
    "        return dif_uteis/252\n",
    "    elif convencao == 360:\n",
    "        return dif/360"
   ]
  },
  {
   "cell_type": "code",
   "execution_count": 12,
   "metadata": {},
   "outputs": [],
   "source": [
    "s = '01/01/2022'\n",
    "t = '31/01/2022'\n",
    "f = '%d/%m/%Y'"
   ]
  },
  {
   "cell_type": "code",
   "execution_count": 13,
   "metadata": {},
   "outputs": [
    {
     "data": {
      "text/plain": [
       "0.06746031746031746"
      ]
     },
     "execution_count": 13,
     "metadata": {},
     "output_type": "execute_result"
    }
   ],
   "source": [
    "# Teste\n",
    "\n",
    "calcula_prazo(s, t, 3, 252)"
   ]
  },
  {
   "cell_type": "code",
   "execution_count": 14,
   "metadata": {},
   "outputs": [
    {
     "data": {
      "text/plain": [
       "30"
      ]
     },
     "execution_count": 14,
     "metadata": {},
     "output_type": "execute_result"
    }
   ],
   "source": [
    "from datetime import datetime\n",
    "dif = (datetime.strptime(t, f) - datetime.strptime(s, f))\n",
    "dif.days"
   ]
  },
  {
   "cell_type": "markdown",
   "metadata": {},
   "source": [
    "## Criando função para mostrar a lista de datas entre duas datas"
   ]
  },
  {
   "cell_type": "code",
   "execution_count": 15,
   "metadata": {},
   "outputs": [],
   "source": [
    "from datetime import date, timedelta\n",
    "\n",
    "d1 = datetime.strptime(s, f)\n",
    "d2 = datetime.strptime(t, f)"
   ]
  },
  {
   "cell_type": "code",
   "execution_count": 7,
   "metadata": {},
   "outputs": [
    {
     "data": {
      "text/plain": [
       "0    2022-01-01 00:00:00\n",
       "1    2022-01-02 00:00:00\n",
       "2    2022-01-03 00:00:00\n",
       "3    2022-01-04 00:00:00\n",
       "4    2022-01-05 00:00:00\n",
       "dtype: object"
      ]
     },
     "execution_count": 7,
     "metadata": {},
     "output_type": "execute_result"
    }
   ],
   "source": [
    "# Padronizando as datas\n",
    "\n",
    "tempo = '%Y-%m-%d %H:%M:%S'\n",
    "\n",
    "dias = pd.Series(pd.date_range(d1, d2-timedelta(days=1),freq='d').strftime('%Y-%m-%d %H:%M:%S'))\n",
    "\n",
    "dias.head()"
   ]
  },
  {
   "cell_type": "code",
   "execution_count": 8,
   "metadata": {},
   "outputs": [
    {
     "data": {
      "text/plain": [
       "pandas.core.series.Series"
      ]
     },
     "execution_count": 8,
     "metadata": {},
     "output_type": "execute_result"
    }
   ],
   "source": [
    "type(dias)"
   ]
  },
  {
   "cell_type": "code",
   "execution_count": 9,
   "metadata": {},
   "outputs": [
    {
     "data": {
      "text/plain": [
       "30"
      ]
     },
     "execution_count": 9,
     "metadata": {},
     "output_type": "execute_result"
    }
   ],
   "source": [
    "dias.size"
   ]
  },
  {
   "cell_type": "markdown",
   "metadata": {},
   "source": [
    "## Importando a planilha de feriados nacionais e fazendo o tratamento"
   ]
  },
  {
   "cell_type": "markdown",
   "metadata": {},
   "source": [
    "### Função Tratamento de Datas"
   ]
  },
  {
   "cell_type": "code",
   "execution_count": 12,
   "metadata": {},
   "outputs": [
    {
     "data": {
      "text/html": [
       "<div>\n",
       "<style scoped>\n",
       "    .dataframe tbody tr th:only-of-type {\n",
       "        vertical-align: middle;\n",
       "    }\n",
       "\n",
       "    .dataframe tbody tr th {\n",
       "        vertical-align: top;\n",
       "    }\n",
       "\n",
       "    .dataframe thead th {\n",
       "        text-align: right;\n",
       "    }\n",
       "</style>\n",
       "<table border=\"1\" class=\"dataframe\">\n",
       "  <thead>\n",
       "    <tr style=\"text-align: right;\">\n",
       "      <th></th>\n",
       "      <th>Data</th>\n",
       "      <th>Dia da Semana</th>\n",
       "      <th>Feriado</th>\n",
       "    </tr>\n",
       "  </thead>\n",
       "  <tbody>\n",
       "    <tr>\n",
       "      <th>313</th>\n",
       "      <td>2027-02-08 00:00:00</td>\n",
       "      <td>segunda-feira</td>\n",
       "      <td>Carnaval</td>\n",
       "    </tr>\n",
       "    <tr>\n",
       "      <th>878</th>\n",
       "      <td>2074-02-27 00:00:00</td>\n",
       "      <td>terça-feira</td>\n",
       "      <td>Carnaval</td>\n",
       "    </tr>\n",
       "    <tr>\n",
       "      <th>678</th>\n",
       "      <td>2057-06-21 00:00:00</td>\n",
       "      <td>quinta-feira</td>\n",
       "      <td>Corpus Christi</td>\n",
       "    </tr>\n",
       "    <tr>\n",
       "      <th>348</th>\n",
       "      <td>2030-01-01 00:00:00</td>\n",
       "      <td>terça-feira</td>\n",
       "      <td>Confraternização Universal</td>\n",
       "    </tr>\n",
       "    <tr>\n",
       "      <th>38</th>\n",
       "      <td>2004-02-24 00:00:00</td>\n",
       "      <td>terça-feira</td>\n",
       "      <td>Carnaval</td>\n",
       "    </tr>\n",
       "  </tbody>\n",
       "</table>\n",
       "</div>"
      ],
      "text/plain": [
       "                    Data  Dia da Semana                     Feriado\n",
       "313  2027-02-08 00:00:00  segunda-feira                    Carnaval\n",
       "878  2074-02-27 00:00:00    terça-feira                    Carnaval\n",
       "678  2057-06-21 00:00:00   quinta-feira              Corpus Christi\n",
       "348  2030-01-01 00:00:00    terça-feira  Confraternização Universal\n",
       "38   2004-02-24 00:00:00    terça-feira                    Carnaval"
      ]
     },
     "execution_count": 12,
     "metadata": {},
     "output_type": "execute_result"
    }
   ],
   "source": [
    "import pandas as pd\n",
    "\n",
    "df_fn = pd.read_excel('feriados_nacionais.xls')\n",
    "df_fn.sample(10).head()"
   ]
  },
  {
   "cell_type": "code",
   "execution_count": 13,
   "metadata": {},
   "outputs": [
    {
     "name": "stdout",
     "output_type": "stream",
     "text": [
      "<class 'pandas.core.frame.DataFrame'>\n",
      "RangeIndex: 945 entries, 0 to 944\n",
      "Data columns (total 3 columns):\n",
      " #   Column         Non-Null Count  Dtype \n",
      "---  ------         --------------  ----- \n",
      " 0   Data           941 non-null    object\n",
      " 1   Dia da Semana  936 non-null    object\n",
      " 2   Feriado        936 non-null    object\n",
      "dtypes: object(3)\n",
      "memory usage: 22.3+ KB\n"
     ]
    }
   ],
   "source": [
    "df_fn.info()"
   ]
  },
  {
   "cell_type": "code",
   "execution_count": 14,
   "metadata": {},
   "outputs": [],
   "source": [
    "import pandas as pd\n",
    "\n",
    "def clean_data(df):\n",
    "    df = pd.to_datetime(df, errors='coerce')\n",
    "    df = df.dropna(how = 'all')\n",
    "    df = df.dt.strftime('%Y-%m-%d %H:%M:%S')\n",
    "\n",
    "    return df"
   ]
  },
  {
   "cell_type": "code",
   "execution_count": 15,
   "metadata": {},
   "outputs": [
    {
     "data": {
      "text/plain": [
       "936"
      ]
     },
     "execution_count": 15,
     "metadata": {},
     "output_type": "execute_result"
    }
   ],
   "source": [
    "# Teste\n",
    "\n",
    "lista_feriados = clean_data(df_fn['Data'])\n",
    "lista_feriados.size"
   ]
  },
  {
   "cell_type": "code",
   "execution_count": 16,
   "metadata": {},
   "outputs": [
    {
     "data": {
      "text/plain": [
       "0    2001-01-01 00:00:00\n",
       "1    2001-02-26 00:00:00\n",
       "2    2001-02-27 00:00:00\n",
       "3    2001-04-13 00:00:00\n",
       "4    2001-04-21 00:00:00\n",
       "Name: Data, dtype: object"
      ]
     },
     "execution_count": 16,
     "metadata": {},
     "output_type": "execute_result"
    }
   ],
   "source": [
    "lista_feriados.head()"
   ]
  },
  {
   "cell_type": "markdown",
   "metadata": {},
   "source": [
    "### Função Lista com as Datas dos feriados entre o intervalo"
   ]
  },
  {
   "cell_type": "code",
   "execution_count": 17,
   "metadata": {},
   "outputs": [],
   "source": [
    "def datas_feriados(data_dias, data_feriados):\n",
    "    dias_feriados = pd.Series(data_dias.isin(data_feriados).values)\n",
    "    dias_feriados[dias_feriados].index\n",
    "    feriados = pd.Series(data_dias[dias_feriados].values)\n",
    "    return feriados"
   ]
  },
  {
   "cell_type": "code",
   "execution_count": 18,
   "metadata": {},
   "outputs": [
    {
     "data": {
      "text/plain": [
       "0    2022-01-01 00:00:00\n",
       "dtype: object"
      ]
     },
     "execution_count": 18,
     "metadata": {},
     "output_type": "execute_result"
    }
   ],
   "source": [
    "# Teste\n",
    "\n",
    "f_entre = datas_feriados(dias, lista_feriados)\n",
    "f_entre"
   ]
  },
  {
   "cell_type": "code",
   "execution_count": 19,
   "metadata": {},
   "outputs": [
    {
     "data": {
      "text/plain": [
       "1"
      ]
     },
     "execution_count": 19,
     "metadata": {},
     "output_type": "execute_result"
    }
   ],
   "source": [
    "# Número de Feriados\n",
    "\n",
    "f_entre.count()"
   ]
  },
  {
   "cell_type": "markdown",
   "metadata": {},
   "source": [
    "### Função para Lista de Dias sem os feriados"
   ]
  },
  {
   "cell_type": "code",
   "execution_count": 20,
   "metadata": {},
   "outputs": [],
   "source": [
    "def sem_feriados(data_dias, data_feriados):\n",
    "    lista_s_feriados = data_dias[~data_dias.isin(data_feriados)]\n",
    "    return lista_s_feriados"
   ]
  },
  {
   "cell_type": "code",
   "execution_count": 21,
   "metadata": {},
   "outputs": [
    {
     "data": {
      "text/plain": [
       "1     2022-01-02 00:00:00\n",
       "2     2022-01-03 00:00:00\n",
       "3     2022-01-04 00:00:00\n",
       "4     2022-01-05 00:00:00\n",
       "5     2022-01-06 00:00:00\n",
       "6     2022-01-07 00:00:00\n",
       "7     2022-01-08 00:00:00\n",
       "8     2022-01-09 00:00:00\n",
       "9     2022-01-10 00:00:00\n",
       "10    2022-01-11 00:00:00\n",
       "11    2022-01-12 00:00:00\n",
       "12    2022-01-13 00:00:00\n",
       "13    2022-01-14 00:00:00\n",
       "14    2022-01-15 00:00:00\n",
       "15    2022-01-16 00:00:00\n",
       "16    2022-01-17 00:00:00\n",
       "17    2022-01-18 00:00:00\n",
       "18    2022-01-19 00:00:00\n",
       "19    2022-01-20 00:00:00\n",
       "20    2022-01-21 00:00:00\n",
       "21    2022-01-22 00:00:00\n",
       "22    2022-01-23 00:00:00\n",
       "23    2022-01-24 00:00:00\n",
       "24    2022-01-25 00:00:00\n",
       "25    2022-01-26 00:00:00\n",
       "26    2022-01-27 00:00:00\n",
       "27    2022-01-28 00:00:00\n",
       "28    2022-01-29 00:00:00\n",
       "29    2022-01-30 00:00:00\n",
       "dtype: object"
      ]
     },
     "execution_count": 21,
     "metadata": {},
     "output_type": "execute_result"
    }
   ],
   "source": [
    "# Teste\n",
    "\n",
    "lista_sem_feriados = sem_feriados(dias, f_entre)\n",
    "lista_sem_feriados"
   ]
  },
  {
   "cell_type": "code",
   "execution_count": 22,
   "metadata": {},
   "outputs": [
    {
     "data": {
      "text/plain": [
       "29"
      ]
     },
     "execution_count": 22,
     "metadata": {},
     "output_type": "execute_result"
    }
   ],
   "source": [
    "# Número de dias sem feriados\n",
    "\n",
    "lista_sem_feriados.count()"
   ]
  },
  {
   "cell_type": "code",
   "execution_count": 23,
   "metadata": {},
   "outputs": [
    {
     "data": {
      "text/plain": [
       "29"
      ]
     },
     "execution_count": 23,
     "metadata": {},
     "output_type": "execute_result"
    }
   ],
   "source": [
    "# Conferindo o resultado\n",
    "\n",
    "dias.count() - f_entre.count()"
   ]
  },
  {
   "cell_type": "markdown",
   "metadata": {},
   "source": [
    "- constroi_fluxo(dt_fim, frequencia)\n",
    "    - Retorna: Lista de datas dos fluxos (list datetime.date)\n"
   ]
  },
  {
   "cell_type": "markdown",
   "metadata": {},
   "source": [
    "## Função Lista de Datas dos Fluxos"
   ]
  },
  {
   "cell_type": "markdown",
   "metadata": {},
   "source": [
    "### Pagamentos ocorrem em 01/01 e 01/07"
   ]
  },
  {
   "cell_type": "code",
   "execution_count": 40,
   "metadata": {},
   "outputs": [],
   "source": [
    "def constroi_fluxo(dt_fm, frequencia):\n",
    "    f = '%d/%m/%Y'\n",
    "    d1 = date.today()\n",
    "    d2 = datetime.strptime(dt_fm, f)\n",
    "    dias_f = pd.Series(pd.date_range(d1, d2-timedelta(days=1), \n",
    "                                     freq=frequencia))\n",
    "    return dias_f"
   ]
  },
  {
   "cell_type": "code",
   "execution_count": 41,
   "metadata": {},
   "outputs": [
    {
     "data": {
      "text/plain": [
       "0   2022-04-01\n",
       "1   2022-07-01\n",
       "2   2022-10-01\n",
       "3   2023-01-01\n",
       "4   2023-04-01\n",
       "dtype: datetime64[ns]"
      ]
     },
     "execution_count": 41,
     "metadata": {},
     "output_type": "execute_result"
    }
   ],
   "source": [
    "# Teste\n",
    "\n",
    "constroi_fluxo('28/06/2023', 'QS')"
   ]
  },
  {
   "cell_type": "code",
   "execution_count": 42,
   "metadata": {},
   "outputs": [
    {
     "data": {
      "text/plain": [
       "Timestamp('2022-07-01 00:00:00')"
      ]
     },
     "execution_count": 42,
     "metadata": {},
     "output_type": "execute_result"
    }
   ],
   "source": [
    "constroi_fluxo('28/06/2023', 'QS')[1]"
   ]
  },
  {
   "cell_type": "code",
   "execution_count": 77,
   "metadata": {},
   "outputs": [],
   "source": [
    "def data_semestre(s):\n",
    "    for i in s:\n",
    "        if i.month in [1,7]:\n",
    "            pass\n",
    "        else:\n",
    "            s = s.drop(s[s == i].index[0])\n",
    "    return s#.apply(lambda x: x.strftime('%Y-%m-%d %H:%M:%S'))"
   ]
  },
  {
   "cell_type": "code",
   "execution_count": 78,
   "metadata": {},
   "outputs": [],
   "source": [
    "s = constroi_fluxo('28/06/2023', 'QS')"
   ]
  },
  {
   "cell_type": "code",
   "execution_count": 79,
   "metadata": {},
   "outputs": [
    {
     "data": {
      "text/plain": [
       "1   2022-07-01\n",
       "3   2023-01-01\n",
       "dtype: datetime64[ns]"
      ]
     },
     "execution_count": 79,
     "metadata": {},
     "output_type": "execute_result"
    }
   ],
   "source": [
    "data_semestre(s)"
   ]
  },
  {
   "cell_type": "markdown",
   "metadata": {},
   "source": [
    "### - - - - - - - - - - - - - - - - - - - - - - - - - - - - - - - - - - - - - - - - - - - - - - - - - - - - - - - - - "
   ]
  },
  {
   "cell_type": "code",
   "execution_count": null,
   "metadata": {},
   "outputs": [],
   "source": []
  },
  {
   "cell_type": "code",
   "execution_count": null,
   "metadata": {},
   "outputs": [],
   "source": []
  },
  {
   "cell_type": "markdown",
   "metadata": {},
   "source": [
    "- calcula_pu(VF, prazo_anual, taxa_anual)\n",
    "    - Retorna pu (float)\n"
   ]
  },
  {
   "cell_type": "markdown",
   "metadata": {},
   "source": [
    "## Função Cálculo do PU"
   ]
  },
  {
   "cell_type": "code",
   "execution_count": null,
   "metadata": {},
   "outputs": [],
   "source": [
    "def calcula_pu(VF, prazo_anual, taxa_anual):\n",
    "    PU = VF / (1 + taxa_anual)**prazo_anual\n",
    "    return PU"
   ]
  },
  {
   "cell_type": "code",
   "execution_count": null,
   "metadata": {},
   "outputs": [],
   "source": [
    "calcula_pu(1000, 5.95/100, 15/252)"
   ]
  },
  {
   "cell_type": "code",
   "execution_count": null,
   "metadata": {},
   "outputs": [],
   "source": [
    "# Teste\n",
    "\n",
    "VF = 1000\n",
    "i = 5.95/100\n",
    "n = 15/252\n",
    "\n",
    "PU = VF / (1 + i)**n\n",
    "PU"
   ]
  },
  {
   "cell_type": "markdown",
   "metadata": {},
   "source": [
    "- calcula_taxa_anual(PU, prazo_anual, valor_base=100)\n",
    "    - Retorna: taxa_anual (float)\n",
    "    "
   ]
  },
  {
   "cell_type": "markdown",
   "metadata": {},
   "source": [
    "## Taxa Anual"
   ]
  },
  {
   "cell_type": "code",
   "execution_count": 166,
   "metadata": {},
   "outputs": [],
   "source": [
    "def calcula_taxa_anual(PU, prazo_anual, convencao):    \n",
    "    VN = 1000\n",
    "    a = (VN/PU)\n",
    "    if convencao == 252:\n",
    "        return (a ** (1/(prazo_anual*252)) - 1)/100\n",
    "    elif convencao == 360:\n",
    "        return (a ** (1/(prazo_anual*360)) - 1)/100"
   ]
  },
  {
   "cell_type": "code",
   "execution_count": 167,
   "metadata": {},
   "outputs": [
    {
     "data": {
      "text/plain": [
       "2.325816163284422e-07"
      ]
     },
     "execution_count": 167,
     "metadata": {},
     "output_type": "execute_result"
    }
   ],
   "source": [
    "# Teste\n",
    "\n",
    "calcula_taxa_anual(959, 5, 360)"
   ]
  },
  {
   "cell_type": "markdown",
   "metadata": {},
   "source": [
    "- calcula_pu_ntnf(dt_venc, dt_base, tir) *\n",
    "    - Retorna: pu (float)\n",
    "    - Imprime tabela com o cashflow (Data do fluxo, VF, DU, Fator de desconto, PU)"
   ]
  },
  {
   "cell_type": "markdown",
   "metadata": {},
   "source": [
    "## Função que Cálcula o PU de NTN-F"
   ]
  },
  {
   "cell_type": "code",
   "execution_count": 155,
   "metadata": {},
   "outputs": [],
   "source": [
    "def calcula_pu_ntnf(dt_venc, dt_base, tir):\n",
    "    f = '%d/%m/%Y'\n",
    "    d1 = datetime.strptime(dt_base, f)\n",
    "    d2 = datetime.strptime(dt_venc, f)\n",
    "    intervalo = pd.Series(pd.date_range(d1, d2-timedelta(days=1), \n",
    "                                     freq=frequencia))\n",
    "    PU = VN / (1 + tir)**intervalo\n",
    "    return PU"
   ]
  },
  {
   "cell_type": "code",
   "execution_count": 19,
   "metadata": {},
   "outputs": [],
   "source": [
    "def calcula_pu_ntnf(dt_venc, dt_base, tir):\n",
    "    VN = 1000\n",
    "    f = '%d/%m/%Y'\n",
    "    d1 = datetime.strptime(dt_base, f)\n",
    "    d2 = datetime.strptime(dt_venc, f)\n",
    "    intervalo = pd.Series(pd.date_range(d1, d2-timedelta(days=1), \n",
    "                                     freq='D'))\n",
    "    tir_s = ((1+(tir/100))**(1/2) - 1)\n",
    "    \n",
    "    PU = VN / ((1 + tir)**(len(intervalo)))\n",
    "               \n",
    "    return PU"
   ]
  },
  {
   "cell_type": "code",
   "execution_count": 20,
   "metadata": {},
   "outputs": [
    {
     "data": {
      "text/plain": [
       "864"
      ]
     },
     "execution_count": 20,
     "metadata": {},
     "output_type": "execute_result"
    }
   ],
   "source": [
    "f = '%d/%m/%Y'\n",
    "d1 = datetime.strptime('18/02/2022', f)\n",
    "d2 = datetime.strptime('01/07/2024', f)\n",
    "intervalo = pd.Series(pd.date_range(d1, d2-timedelta(days=1), \n",
    "                                     freq='D'))\n",
    "    \n",
    "len(intervalo)"
   ]
  },
  {
   "cell_type": "code",
   "execution_count": 22,
   "metadata": {},
   "outputs": [
    {
     "data": {
      "text/plain": [
       "685.140399419581"
      ]
     },
     "execution_count": 22,
     "metadata": {},
     "output_type": "execute_result"
    }
   ],
   "source": [
    "1000/((1+(11.66/100))**(864/252))"
   ]
  },
  {
   "cell_type": "code",
   "execution_count": 31,
   "metadata": {},
   "outputs": [
    {
     "data": {
      "text/plain": [
       "52.378258992459294"
      ]
     },
     "execution_count": 31,
     "metadata": {},
     "output_type": "execute_result"
    }
   ],
   "source": [
    "# Cupom semestral\n",
    "\n",
    "1000*((1+(10.75/100))**(1/2)-1)"
   ]
  },
  {
   "cell_type": "code",
   "execution_count": 122,
   "metadata": {},
   "outputs": [
    {
     "data": {
      "text/plain": [
       "798.526308334467"
      ]
     },
     "execution_count": 122,
     "metadata": {},
     "output_type": "execute_result"
    }
   ],
   "source": [
    "685.140399419581 + (56.692954457443044*2)"
   ]
  },
  {
   "cell_type": "code",
   "execution_count": 89,
   "metadata": {},
   "outputs": [
    {
     "data": {
      "text/plain": [
       "767.4422479321714"
      ]
     },
     "execution_count": 89,
     "metadata": {},
     "output_type": "execute_result"
    }
   ],
   "source": [
    "calcula_pu_ntnf('01/07/2024', '18/02/2022', 11.66/100)"
   ]
  },
  {
   "cell_type": "code",
   "execution_count": null,
   "metadata": {},
   "outputs": [],
   "source": [
    "pv(rate, nper, pmt[, fv, when])"
   ]
  },
  {
   "cell_type": "code",
   "execution_count": 24,
   "metadata": {},
   "outputs": [
    {
     "name": "stdout",
     "output_type": "stream",
     "text": [
      "Requirement already satisfied: numpy-financial in /opt/anaconda3/envs/DSdegree/lib/python3.9/site-packages (1.0.0)\n",
      "Requirement already satisfied: numpy>=1.15 in /opt/anaconda3/envs/DSdegree/lib/python3.9/site-packages (from numpy-financial) (1.20.2)\n",
      "Note: you may need to restart the kernel to use updated packages.\n"
     ]
    }
   ],
   "source": [
    "pip install numpy-financial"
   ]
  },
  {
   "cell_type": "code",
   "execution_count": 34,
   "metadata": {},
   "outputs": [
    {
     "data": {
      "text/plain": [
       "96.47680121488293"
      ]
     },
     "execution_count": 34,
     "metadata": {},
     "output_type": "execute_result"
    }
   ],
   "source": [
    "import numpy_financial as npf\n",
    "npf.pv(0.056692954457443046, 2, -52.378258992459294)"
   ]
  },
  {
   "cell_type": "code",
   "execution_count": null,
   "metadata": {},
   "outputs": [],
   "source": []
  },
  {
   "cell_type": "code",
   "execution_count": 38,
   "metadata": {},
   "outputs": [
    {
     "data": {
      "text/plain": [
       "685.140399419581"
      ]
     },
     "execution_count": 38,
     "metadata": {},
     "output_type": "execute_result"
    }
   ],
   "source": [
    "1000/((1+(11.66/100))**(864/252))"
   ]
  },
  {
   "cell_type": "code",
   "execution_count": 39,
   "metadata": {},
   "outputs": [
    {
     "data": {
      "text/plain": [
       "781.6172006344639"
      ]
     },
     "execution_count": 39,
     "metadata": {},
     "output_type": "execute_result"
    }
   ],
   "source": [
    "96.47680121488293 + 685.140399419581"
   ]
  },
  {
   "cell_type": "markdown",
   "metadata": {},
   "source": [
    "R$ 772,76"
   ]
  },
  {
   "cell_type": "markdown",
   "metadata": {},
   "source": [
    "*TESOURO PREFIXADO 2024*\n",
    "\n",
    "11,66%\tR$ 772,76\t01/07/2024\n",
    "\n",
    "\n",
    "*TESOURO PREFIXADO 2026*\n",
    "\n",
    "11,32%\tR$ 661,24\t01/01/2026\n",
    "\n",
    "\n",
    "TESOURO PREFIXADO com juros semestrais 2031\n",
    "\n",
    "11,48%\tR$ 937,85\t01/01/2031"
   ]
  },
  {
   "cell_type": "code",
   "execution_count": 129,
   "metadata": {},
   "outputs": [
    {
     "data": {
      "text/plain": [
       "0.056692954457443046"
      ]
     },
     "execution_count": 129,
     "metadata": {},
     "output_type": "execute_result"
    }
   ],
   "source": [
    "((1+(11.66/100))**(1/2) - 1)"
   ]
  },
  {
   "cell_type": "code",
   "execution_count": 161,
   "metadata": {},
   "outputs": [
    {
     "data": {
      "text/plain": [
       "48.808848170151634"
      ]
     },
     "execution_count": 161,
     "metadata": {},
     "output_type": "execute_result"
    }
   ],
   "source": [
    "(1000*(((1+0.1)**(1/2))-1))"
   ]
  },
  {
   "cell_type": "code",
   "execution_count": 30,
   "metadata": {},
   "outputs": [
    {
     "data": {
      "text/plain": [
       "168.43125061860943"
      ]
     },
     "execution_count": 30,
     "metadata": {},
     "output_type": "execute_result"
    }
   ],
   "source": [
    "# Cupons à valor presente\n",
    "\n",
    "((1000*((1+0.1)**(1/2) - 1))/((1+0.1298)**(120/252))) + ((1000*((1+0.1)**(1/2) - 1))/((1+0.1298)**(248/252))) + ((1000*((1+0.1)**(1/2) - 1))/((1+0.1298)**(372/252))) + ((1000*((1+0.1)**(1/2) - 1))/((1+0.1298)**(499/252)))\n"
   ]
  },
  {
   "cell_type": "code",
   "execution_count": 28,
   "metadata": {},
   "outputs": [
    {
     "data": {
      "text/plain": [
       "785.323290594915"
      ]
     },
     "execution_count": 28,
     "metadata": {},
     "output_type": "execute_result"
    }
   ],
   "source": [
    "# Valor de Face\n",
    "\n",
    "1000/((1+0.1298)**(499/252))"
   ]
  },
  {
   "cell_type": "code",
   "execution_count": 27,
   "metadata": {},
   "outputs": [
    {
     "data": {
      "text/plain": [
       "953.7545412135244"
      ]
     },
     "execution_count": 27,
     "metadata": {},
     "output_type": "execute_result"
    }
   ],
   "source": [
    "785.323290594915+168.43125061860943"
   ]
  },
  {
   "cell_type": "markdown",
   "metadata": {},
   "source": [
    "### PU de compra = R$ 953,76"
   ]
  },
  {
   "cell_type": "markdown",
   "metadata": {},
   "source": [
    "PU =1.000,00*[(1+10%)12 −1]+1.000,00*[(1+10%)12 −1]+1.000,00*[(1+10%)12 −1]+1.000,00*[(1+10%)12] (1+12,98%)120/252 (1+12,98%)248/252 (1+12,98%)372/252 (1+12,98%)499/252"
   ]
  },
  {
   "cell_type": "code",
   "execution_count": 59,
   "metadata": {},
   "outputs": [
    {
     "data": {
      "text/plain": [
       "1   2022-07-01\n",
       "3   2023-01-01\n",
       "dtype: datetime64[ns]"
      ]
     },
     "execution_count": 59,
     "metadata": {},
     "output_type": "execute_result"
    }
   ],
   "source": [
    "data_semestre(s)"
   ]
  },
  {
   "cell_type": "code",
   "execution_count": 106,
   "metadata": {},
   "outputs": [
    {
     "data": {
      "text/plain": [
       "[133, 317]"
      ]
     },
     "execution_count": 106,
     "metadata": {},
     "output_type": "execute_result"
    }
   ],
   "source": [
    "f = '%d/%m/%Y'\n",
    "d1 = datetime.strptime('18/02/2022', f)\n",
    "deltas_s = []\n",
    "\n",
    "for i in data_semestre(s):\n",
    "    deltas_s.append((i - d1).days)\n",
    "                                       \n",
    "deltas_s"
   ]
  },
  {
   "cell_type": "code",
   "execution_count": 108,
   "metadata": {},
   "outputs": [],
   "source": [
    "# Função com lista de Delta entre Data_base e Datas dos Cupons\n",
    "\n",
    "def deltas_cupom(dt_venc, dt_base, datas_cupom):\n",
    "    f = '%d/%m/%Y'\n",
    "    d1 = datetime.strptime(dt_base, f)\n",
    "    deltas_s = []\n",
    "\n",
    "    for i in datas_cupom:\n",
    "        deltas_s.append((i - d1).days)\n",
    "\n",
    "    return deltas_s"
   ]
  },
  {
   "cell_type": "code",
   "execution_count": 109,
   "metadata": {},
   "outputs": [
    {
     "data": {
      "text/plain": [
       "[133, 317]"
      ]
     },
     "execution_count": 109,
     "metadata": {},
     "output_type": "execute_result"
    }
   ],
   "source": [
    "deltas_cupom('28/06/2023', '18/02/2022', data_semestre(s))"
   ]
  },
  {
   "cell_type": "code",
   "execution_count": null,
   "metadata": {},
   "outputs": [],
   "source": []
  },
  {
   "cell_type": "code",
   "execution_count": null,
   "metadata": {},
   "outputs": [],
   "source": []
  },
  {
   "cell_type": "code",
   "execution_count": 71,
   "metadata": {},
   "outputs": [
    {
     "data": {
      "text/plain": [
       "Timestamp('2022-07-01 00:00:00')"
      ]
     },
     "execution_count": 71,
     "metadata": {},
     "output_type": "execute_result"
    }
   ],
   "source": [
    "data_semestre(s)[1]"
   ]
  },
  {
   "cell_type": "code",
   "execution_count": 104,
   "metadata": {},
   "outputs": [
    {
     "data": {
      "text/plain": [
       "133"
      ]
     },
     "execution_count": 104,
     "metadata": {},
     "output_type": "execute_result"
    }
   ],
   "source": [
    "(data_semestre(s)[1] - d1).days"
   ]
  },
  {
   "cell_type": "code",
   "execution_count": 102,
   "metadata": {},
   "outputs": [
    {
     "data": {
      "text/plain": [
       "317"
      ]
     },
     "execution_count": 102,
     "metadata": {},
     "output_type": "execute_result"
    }
   ],
   "source": [
    "(data_semestre(s)[3] - d1).days"
   ]
  },
  {
   "cell_type": "markdown",
   "metadata": {},
   "source": [
    "### Teste LTN"
   ]
  },
  {
   "cell_type": "code",
   "execution_count": 56,
   "metadata": {},
   "outputs": [
    {
     "data": {
      "text/plain": [
       "0      2022-02-18\n",
       "1      2022-02-19\n",
       "2      2022-02-20\n",
       "3      2022-02-21\n",
       "4      2022-02-22\n",
       "          ...    \n",
       "859    2024-06-26\n",
       "860    2024-06-27\n",
       "861    2024-06-28\n",
       "862    2024-06-29\n",
       "863    2024-06-30\n",
       "Length: 864, dtype: object"
      ]
     },
     "execution_count": 56,
     "metadata": {},
     "output_type": "execute_result"
    }
   ],
   "source": [
    "# Número de dias\n",
    "\n",
    "lista_dias('18/02/2022', '01/07/2024')"
   ]
  },
  {
   "cell_type": "code",
   "execution_count": 57,
   "metadata": {},
   "outputs": [
    {
     "data": {
      "text/plain": [
       "864"
      ]
     },
     "execution_count": 57,
     "metadata": {},
     "output_type": "execute_result"
    }
   ],
   "source": [
    "lista_dias('18/02/2022', '01/07/2024').count()"
   ]
  },
  {
   "cell_type": "code",
   "execution_count": 58,
   "metadata": {
    "collapsed": true
   },
   "outputs": [
    {
     "data": {
      "text/plain": [
       "0     2022-02-28\n",
       "1     2022-03-01\n",
       "2     2022-04-15\n",
       "3     2022-04-21\n",
       "4     2022-05-01\n",
       "5     2022-06-16\n",
       "6     2022-09-07\n",
       "7     2022-10-12\n",
       "8     2022-11-02\n",
       "9     2022-11-15\n",
       "10    2022-12-25\n",
       "11    2023-01-01\n",
       "12    2023-02-20\n",
       "13    2023-02-21\n",
       "14    2023-04-07\n",
       "15    2023-04-21\n",
       "16    2023-05-01\n",
       "17    2023-06-08\n",
       "18    2023-09-07\n",
       "19    2023-10-12\n",
       "20    2023-11-02\n",
       "21    2023-11-15\n",
       "22    2023-12-25\n",
       "23    2024-01-01\n",
       "24    2024-02-12\n",
       "25    2024-02-13\n",
       "26    2024-03-29\n",
       "27    2024-04-21\n",
       "28    2024-05-01\n",
       "29    2024-05-30\n",
       "dtype: object"
      ]
     },
     "execution_count": 58,
     "metadata": {},
     "output_type": "execute_result"
    }
   ],
   "source": [
    "# Datas que são feriados entre os dias\n",
    "\n",
    "datas_feriados(lista_dias('18/02/2022', '01/07/2024'), lista_feriados)"
   ]
  },
  {
   "cell_type": "code",
   "execution_count": 59,
   "metadata": {},
   "outputs": [
    {
     "data": {
      "text/plain": [
       "30"
      ]
     },
     "execution_count": 59,
     "metadata": {},
     "output_type": "execute_result"
    }
   ],
   "source": [
    "datas_feriados(lista_dias('18/02/2022', '01/07/2024'), lista_feriados).count()"
   ]
  },
  {
   "cell_type": "code",
   "execution_count": 60,
   "metadata": {
    "collapsed": true
   },
   "outputs": [
    {
     "data": {
      "text/plain": [
       "0      2022-02-18\n",
       "1      2022-02-19\n",
       "2      2022-02-20\n",
       "3      2022-02-21\n",
       "4      2022-02-22\n",
       "          ...    \n",
       "859    2024-06-26\n",
       "860    2024-06-27\n",
       "861    2024-06-28\n",
       "862    2024-06-29\n",
       "863    2024-06-30\n",
       "Length: 834, dtype: object"
      ]
     },
     "execution_count": 60,
     "metadata": {},
     "output_type": "execute_result"
    }
   ],
   "source": [
    "# Lista sem feriados\n",
    "sem_feriados(lista_dias('18/02/2022', '01/07/2024'),\n",
    "             datas_feriados(lista_dias('18/02/2022', '01/07/2024'), lista_feriados))"
   ]
  },
  {
   "cell_type": "code",
   "execution_count": 61,
   "metadata": {},
   "outputs": [
    {
     "data": {
      "text/plain": [
       "834"
      ]
     },
     "execution_count": 61,
     "metadata": {},
     "output_type": "execute_result"
    }
   ],
   "source": [
    "ltn_sf = sem_feriados(lista_dias('18/02/2022', '01/07/2024'),\n",
    "             datas_feriados(lista_dias('18/02/2022', '01/07/2024'), lista_feriados)).count()\n",
    "\n",
    "ltn_sf"
   ]
  },
  {
   "cell_type": "code",
   "execution_count": 62,
   "metadata": {},
   "outputs": [
    {
     "data": {
      "text/plain": [
       "616"
      ]
     },
     "execution_count": 62,
     "metadata": {},
     "output_type": "execute_result"
    }
   ],
   "source": [
    "f = '%d/%m/%Y'\n",
    "\n",
    "np.busday_count(datetime.strptime('18/02/2022', f).date(), datetime.strptime('01/07/2024', f).date())"
   ]
  },
  {
   "cell_type": "code",
   "execution_count": 63,
   "metadata": {},
   "outputs": [
    {
     "data": {
      "text/plain": [
       "-0.8650793650793651"
      ]
     },
     "execution_count": 63,
     "metadata": {},
     "output_type": "execute_result"
    }
   ],
   "source": [
    "calcula_prazo('18/02/2022','01/07/2024', ltn_sf, 252)"
   ]
  },
  {
   "cell_type": "code",
   "execution_count": 64,
   "metadata": {},
   "outputs": [
    {
     "data": {
      "text/plain": [
       "773.782704751225"
      ]
     },
     "execution_count": 64,
     "metadata": {},
     "output_type": "execute_result"
    }
   ],
   "source": [
    "1000/((1+0.1166)**((616-30)/252))"
   ]
  },
  {
   "cell_type": "markdown",
   "metadata": {},
   "source": [
    "R$ 772,76"
   ]
  },
  {
   "cell_type": "code",
   "execution_count": null,
   "metadata": {},
   "outputs": [],
   "source": []
  },
  {
   "cell_type": "code",
   "execution_count": null,
   "metadata": {},
   "outputs": [],
   "source": []
  },
  {
   "cell_type": "code",
   "execution_count": null,
   "metadata": {},
   "outputs": [],
   "source": []
  },
  {
   "cell_type": "code",
   "execution_count": null,
   "metadata": {},
   "outputs": [],
   "source": []
  },
  {
   "cell_type": "markdown",
   "metadata": {},
   "source": [
    "### - - - - - - - - - - - - - - - - - - - - - - - - - - - - - - - - - - - - - - - - - - - - - - - - - - - - - - - - - "
   ]
  },
  {
   "cell_type": "code",
   "execution_count": null,
   "metadata": {},
   "outputs": [],
   "source": [
    "import pandas as pd\n",
    "\n",
    "def clean_data(df):\n",
    "    df = pd.to_datetime(df, errors='coerce')\n",
    "    df = df.dropna(how = 'all')\n",
    "    df = df.dt.strftime('%Y-%m-%d %H:%M:%S')\n",
    "\n",
    "    return df"
   ]
  },
  {
   "cell_type": "code",
   "execution_count": null,
   "metadata": {},
   "outputs": [],
   "source": [
    "teste = clean_data(df_fn['Data'])\n",
    "teste.size"
   ]
  },
  {
   "cell_type": "code",
   "execution_count": null,
   "metadata": {},
   "outputs": [],
   "source": [
    "teste.head()"
   ]
  },
  {
   "cell_type": "code",
   "execution_count": null,
   "metadata": {},
   "outputs": [],
   "source": [
    "teste.dt.strftime('%Y-%m-%d %H:%M:%S')"
   ]
  },
  {
   "cell_type": "code",
   "execution_count": null,
   "metadata": {},
   "outputs": [],
   "source": [
    "df_fn['Data'] = pd.to_datetime(df_fn['Data'], errors='coerce')"
   ]
  },
  {
   "cell_type": "code",
   "execution_count": null,
   "metadata": {},
   "outputs": [],
   "source": [
    "df_fn = df_fn.dropna(how = 'all')\n",
    "df_fn"
   ]
  },
  {
   "cell_type": "code",
   "execution_count": null,
   "metadata": {},
   "outputs": [],
   "source": [
    "df_fn.info()"
   ]
  },
  {
   "cell_type": "code",
   "execution_count": null,
   "metadata": {},
   "outputs": [],
   "source": [
    "dias_comum = pd.Series(dias.isin(lista_feriados).values)\n",
    "dias_comum"
   ]
  },
  {
   "cell_type": "code",
   "execution_count": null,
   "metadata": {},
   "outputs": [],
   "source": [
    "dias_comum[dias_comum].index"
   ]
  },
  {
   "cell_type": "code",
   "execution_count": null,
   "metadata": {},
   "outputs": [],
   "source": [
    "dias[dias_comum]"
   ]
  },
  {
   "cell_type": "code",
   "execution_count": null,
   "metadata": {},
   "outputs": [],
   "source": [
    "feriados = pd.Series(dias[dias_comum].values)\n",
    "feriados"
   ]
  },
  {
   "cell_type": "code",
   "execution_count": null,
   "metadata": {},
   "outputs": [],
   "source": [
    "a = 0\n",
    "\n",
    "for i in dias.isin(teste).values:\n",
    "    if i == True:\n",
    "        a += 1\n",
    "print(a)"
   ]
  },
  {
   "cell_type": "code",
   "execution_count": null,
   "metadata": {},
   "outputs": [],
   "source": [
    "a = -1\n",
    "\n",
    "for i in dias.isin(teste).values:\n",
    "    a += 1\n",
    "    print(a)"
   ]
  },
  {
   "cell_type": "code",
   "execution_count": null,
   "metadata": {},
   "outputs": [],
   "source": [
    "dias.isin(teste).values"
   ]
  },
  {
   "cell_type": "code",
   "execution_count": null,
   "metadata": {},
   "outputs": [],
   "source": [
    "dias.isin(teste).value_counts()"
   ]
  },
  {
   "cell_type": "code",
   "execution_count": null,
   "metadata": {},
   "outputs": [],
   "source": [
    "df_fn['Data'].count()"
   ]
  },
  {
   "cell_type": "markdown",
   "metadata": {},
   "source": [
    "### - - - - - - - - - - - - - - - - - - - - - - - - - - - - - - - - - - - - - - - - - - - - - - - - - - - - - - - - - "
   ]
  },
  {
   "cell_type": "code",
   "execution_count": null,
   "metadata": {},
   "outputs": [],
   "source": [
    "type(df_fn.iloc[936]['Data']) == str"
   ]
  },
  {
   "cell_type": "code",
   "execution_count": null,
   "metadata": {},
   "outputs": [],
   "source": [
    "type(df_fn.iloc[936]['Data'])"
   ]
  },
  {
   "cell_type": "code",
   "execution_count": null,
   "metadata": {},
   "outputs": [],
   "source": [
    "type(feriados)"
   ]
  },
  {
   "cell_type": "code",
   "execution_count": null,
   "metadata": {},
   "outputs": [],
   "source": [
    "feriados[feriados == 'Fonte: ANBIMA'].index.values"
   ]
  },
  {
   "cell_type": "code",
   "execution_count": null,
   "metadata": {},
   "outputs": [],
   "source": [
    "feriados[feriados == 'Fonte: ANBIMA'].keys().values"
   ]
  },
  {
   "cell_type": "code",
   "execution_count": null,
   "metadata": {},
   "outputs": [],
   "source": []
  },
  {
   "cell_type": "code",
   "execution_count": null,
   "metadata": {},
   "outputs": [],
   "source": [
    "from datetime import date, timedelta\n",
    "\n",
    "d1 = datetime.strptime(s, f)\n",
    "d2 = datetime.strptime(t, f)"
   ]
  },
  {
   "cell_type": "code",
   "execution_count": null,
   "metadata": {},
   "outputs": [],
   "source": [
    "d1"
   ]
  },
  {
   "cell_type": "code",
   "execution_count": null,
   "metadata": {},
   "outputs": [],
   "source": [
    "d1.to_pydatetime()"
   ]
  },
  {
   "cell_type": "code",
   "execution_count": null,
   "metadata": {},
   "outputs": [],
   "source": [
    "dias_s = pd.Series(pd.date_range(d1, d2-timedelta(days=1),freq='d').strftime('%Y-%m-%d %H:%M:%S'))\n",
    "\n",
    "dias_s.size"
   ]
  },
  {
   "cell_type": "code",
   "execution_count": null,
   "metadata": {},
   "outputs": [],
   "source": [
    "dias_s.head()"
   ]
  },
  {
   "cell_type": "code",
   "execution_count": null,
   "metadata": {},
   "outputs": [],
   "source": [
    "dias_c = pd.Series(pd.date_range(d1, d2,freq='d').strftime('%Y-%m-%d %H:%M:%S'))\n",
    "\n",
    "dias_c.size"
   ]
  },
  {
   "cell_type": "code",
   "execution_count": null,
   "metadata": {},
   "outputs": [],
   "source": [
    "dias_c"
   ]
  },
  {
   "cell_type": "code",
   "execution_count": null,
   "metadata": {},
   "outputs": [],
   "source": [
    "feriados = feriados.map(dias_c.value_counts())"
   ]
  },
  {
   "cell_type": "markdown",
   "metadata": {},
   "source": [
    "### - - - - - - - - - - - - - - - - - - - - - - - - - - - - - - - - - - - - - - - - - - - - - - - - - - - - - - - - - "
   ]
  },
  {
   "cell_type": "code",
   "execution_count": null,
   "metadata": {},
   "outputs": [],
   "source": []
  },
  {
   "cell_type": "code",
   "execution_count": 148,
   "metadata": {},
   "outputs": [
    {
     "data": {
      "text/plain": [
       "1    2022-07-01 00:00:00\n",
       "3    2023-01-01 00:00:00\n",
       "dtype: object"
      ]
     },
     "execution_count": 148,
     "metadata": {},
     "output_type": "execute_result"
    }
   ],
   "source": [
    "s.apply(lambda x: x.strftime('%Y-%m-%d %H:%M:%S'))"
   ]
  },
  {
   "cell_type": "code",
   "execution_count": 123,
   "metadata": {},
   "outputs": [
    {
     "data": {
      "text/plain": [
       "7"
      ]
     },
     "execution_count": 123,
     "metadata": {},
     "output_type": "execute_result"
    }
   ],
   "source": [
    "constroi_fluxo('28/06/2023', 'QS')[1].month"
   ]
  },
  {
   "cell_type": "code",
   "execution_count": 129,
   "metadata": {},
   "outputs": [
    {
     "data": {
      "text/plain": [
       "0"
      ]
     },
     "execution_count": 129,
     "metadata": {},
     "output_type": "execute_result"
    }
   ],
   "source": [
    "constroi_fluxo('28/06/2023', 'QS')[constroi_fluxo('28/06/2023', 'QS') == '2022-04-01 00:00:00'].index[0]"
   ]
  },
  {
   "cell_type": "code",
   "execution_count": 77,
   "metadata": {},
   "outputs": [
    {
     "data": {
      "text/plain": [
       "1    2022-07-01 00:00:00\n",
       "2    2022-10-01 00:00:00\n",
       "3    2023-01-01 00:00:00\n",
       "4    2023-04-01 00:00:00\n",
       "dtype: object"
      ]
     },
     "execution_count": 77,
     "metadata": {},
     "output_type": "execute_result"
    }
   ],
   "source": [
    "constroi_fluxo('28/06/2023', 'QS').drop(constroi_fluxo('28/06/2023', 'QS')[constroi_fluxo('28/06/2023', 'QS') == '2022-04-01 00:00:00'].index[0])"
   ]
  },
  {
   "cell_type": "code",
   "execution_count": 82,
   "metadata": {},
   "outputs": [
    {
     "name": "stdout",
     "output_type": "stream",
     "text": [
      "0    2022-04-01 00:00:00\n",
      "1    2022-07-01 00:00:00\n",
      "2    2022-10-01 00:00:00\n",
      "3    2023-01-01 00:00:00\n",
      "4    2023-04-01 00:00:00\n",
      "dtype: object\n"
     ]
    }
   ],
   "source": [
    "for i in constroi_fluxo('28/06/2023', 'QS'):\n",
    "    if i.find('01-01') == -1:\n",
    "        constroi_fluxo('28/06/2023', 'QS').drop(constroi_fluxo('28/06/2023', 'QS')\n",
    "                                                [constroi_fluxo('28/06/2023', 'QS') == i].index[0])\n",
    "    elif i.find('01-01') == -1:\n",
    "        constroi_fluxo('28/06/2023', 'QS').drop(constroi_fluxo('28/06/2023', 'QS')\n",
    "                                                [constroi_fluxo('28/06/2023', 'QS') == i].index[0])\n",
    "    else:\n",
    "        continue\n",
    "        \n",
    "print(constroi_fluxo('28/06/2023', 'QS'))"
   ]
  },
  {
   "cell_type": "code",
   "execution_count": 27,
   "metadata": {},
   "outputs": [
    {
     "data": {
      "text/plain": [
       "datetime.date(2022, 2, 16)"
      ]
     },
     "execution_count": 27,
     "metadata": {},
     "output_type": "execute_result"
    }
   ],
   "source": [
    "date.today()"
   ]
  },
  {
   "cell_type": "code",
   "execution_count": 40,
   "metadata": {},
   "outputs": [],
   "source": [
    "d2 = datetime.strptime('28/06/2023', f)\n",
    "dias = pd.Series(pd.date_range(d1, d2-timedelta(days=0),freq='d').strftime('%Y-%m-%d %H:%M:%S'))"
   ]
  },
  {
   "cell_type": "code",
   "execution_count": 41,
   "metadata": {},
   "outputs": [
    {
     "data": {
      "text/plain": [
       "0      2022-01-01 00:00:00\n",
       "1      2022-01-02 00:00:00\n",
       "2      2022-01-03 00:00:00\n",
       "3      2022-01-04 00:00:00\n",
       "4      2022-01-05 00:00:00\n",
       "              ...         \n",
       "539    2023-06-24 00:00:00\n",
       "540    2023-06-25 00:00:00\n",
       "541    2023-06-26 00:00:00\n",
       "542    2023-06-27 00:00:00\n",
       "543    2023-06-28 00:00:00\n",
       "Length: 544, dtype: object"
      ]
     },
     "execution_count": 41,
     "metadata": {},
     "output_type": "execute_result"
    }
   ],
   "source": [
    "dias"
   ]
  },
  {
   "cell_type": "code",
   "execution_count": null,
   "metadata": {},
   "outputs": [],
   "source": []
  },
  {
   "cell_type": "code",
   "execution_count": null,
   "metadata": {},
   "outputs": [],
   "source": [
    "[lista_sem_feriados[x:x+100] for x in range(0, lista_sem_feriados.count(), 100)][0][0]"
   ]
  },
  {
   "cell_type": "code",
   "execution_count": null,
   "metadata": {},
   "outputs": [],
   "source": [
    "[lista_sem_feriados[x:x+100] for x in range(0, lista_sem_feriados.count(), 100)][0][0]"
   ]
  },
  {
   "cell_type": "code",
   "execution_count": null,
   "metadata": {},
   "outputs": [],
   "source": [
    "len([lista_sem_feriados[x:x+100] for x in range(0, lista_sem_feriados.count(), 100)])"
   ]
  },
  {
   "cell_type": "code",
   "execution_count": null,
   "metadata": {},
   "outputs": [],
   "source": [
    "dias.head()"
   ]
  },
  {
   "cell_type": "code",
   "execution_count": null,
   "metadata": {},
   "outputs": [],
   "source": [
    "indices = []\n",
    "\n",
    "for i in range(len(dias)):\n",
    "    if '01-01' in dias[i]:\n",
    "        indices.append(dias[i])\n",
    "    elif '07-01' in dias[i]:\n",
    "        indices.append(dias[i])\n",
    "print(indices)"
   ]
  },
  {
   "cell_type": "code",
   "execution_count": null,
   "metadata": {},
   "outputs": [],
   "source": [
    "a_string = \"one two three two one\"\n",
    "substring = \"two\"\n",
    "\n",
    "matches = re.finditer(substring, a_string)\n",
    "\n",
    "matches_positions = [match.start() for match in matches]\n",
    "\n",
    "print(matches_positions)"
   ]
  },
  {
   "cell_type": "code",
   "execution_count": null,
   "metadata": {},
   "outputs": [],
   "source": [
    "a_list = [1, 2, 3, 1]\n",
    "\n",
    "indices = []\n",
    "for i in range(len(a_list)):\n",
    "\n",
    "    if a_list[i] == 1:\n",
    "        indices.append(i)\n",
    "\n",
    "print(indices)"
   ]
  },
  {
   "cell_type": "code",
   "execution_count": null,
   "metadata": {},
   "outputs": [],
   "source": [
    "a_list = [1, 2, 3, 1]\n",
    "indices = [index for index, element in enumerate(a_list) if element == 1]\n",
    "\n",
    "print(indices)"
   ]
  },
  {
   "cell_type": "markdown",
   "metadata": {},
   "source": [
    "### - - - - - - - - - - - - - - - - - - - - - - - - - - - - - - - - - - - - - - - - - - - - - - - - - - - - - - - - - "
   ]
  }
 ],
 "metadata": {
  "kernelspec": {
   "display_name": "Python 3",
   "language": "python",
   "name": "python3"
  },
  "language_info": {
   "codemirror_mode": {
    "name": "ipython",
    "version": 3
   },
   "file_extension": ".py",
   "mimetype": "text/x-python",
   "name": "python",
   "nbconvert_exporter": "python",
   "pygments_lexer": "ipython3",
   "version": "3.9.5"
  }
 },
 "nbformat": 4,
 "nbformat_minor": 5
}
