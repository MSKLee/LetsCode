{
 "cells": [
  {
   "cell_type": "markdown",
   "metadata": {},
   "source": [
    "# Teoria do Portfólio\n",
    "\n",
    "Após completar este capítulo, você será capaz de:\n",
    "\n",
    "- Compreender a teoria de seleção de carteiras\n",
    "- Calcular o risco de um portfólio\n",
    "- Compreender o efeito da diversificação numa carteira com ativos de diferentes riscos\n",
    "- Compreender os conceitos de mercado eficiente e fronteira eficiente\n",
    "- Calcular índice de Sharpe e Beta\n",
    "\n",
    "## Introdução \n",
    "A composição da carteira deve ter por objetivo maximizar a utilidade do investidor pela relação risco/retorno.\n",
    "\n",
    "Objetivos do estudo de carteiras:\n",
    "\n",
    "- Selecionar a carteira que oferece o maior retorno possível para determinado grau de risco\n",
    "- Selecionar a carteira que produza o menor risco possível para determinado nível de retorno esperado"
   ]
  },
  {
   "cell_type": "markdown",
   "metadata": {},
   "source": [
    "## Mercado eficiente\n",
    "O valor de um ativo é reflexo do consenso dos participantes com relação ao seu desempenho esperado.\n",
    "\n",
    "Mercado eficiente é aquele onde os preços refletem todas as informações disponíveis e apresentam grande sensibilidade a novas informações relevantes, ajustando-se de forma rápida e correta.\n",
    "\n",
    "Nenhum investidor é capaz de identificar,\n",
    "consistentemente, ativos com preço em desequilíbrio.\n",
    "\n",
    "### Hipóteses do mercado eficiente:\n",
    "\n",
    "- Nenhum participante tem a capacidade de sozinho\n",
    "influenciar o preço das negociações.\n",
    "- O mercado é constituído de investidores racionais, onde as decisões partem do princípio que dado um nível de risco, eles sempre buscarão o maior retorno e, dado um nível de retorno, eles buscarão o menor risco.\n",
    "- As informações relevantes são instantâneas e\n",
    "gratuitas aos participantes do mercado, ou seja, não há informação privilegiada.\n",
    "- O mercado eficiente trabalha com a hipótese de inexistência de racionamento de capital, onde todos tem acesso as mesmas formas de crédito.\n",
    "- Os ativos são divisíveis e negociados sem restrições.\n",
    "- As expectativas dos investidores são homogêneas sobre a direção do futuro do mercado.\n",
    "\n",
    "### Contra-pontos na vida real:\n",
    "- As informações muitas vezes não estão igualmente\n",
    "disponíveis para todos os investidores.\n",
    "- Há um grande número de participantes com menor\n",
    "qualificação para interpretar as informações relevantes.\n",
    "- O mercado sofre influência de políticas econômicas adotadas pelo governo.\n",
    "\n",
    "\n",
    "### Num mercado de baixa eficiência..\n",
    "\n",
    "- Deve haver preocupação em avaliar se os modelos financeiros produzem resultados significativos.\n",
    "- Os investidores tentam tirar proveito econômico dos desvios temporários dos preços de certos ativos (*Market Timing*).\n",
    "- O ajuste de preços às novas informações depende da capacidade de interpretação dos participantes."
   ]
  },
  {
   "cell_type": "markdown",
   "metadata": {},
   "source": [
    "## Diversificação\n",
    "A ideia fundamental da diversificação é que o risco particular de um ativo é diferente de seu risco quando mantido em carteira. Uma grande vantagem das carteiras é que elas permitem que se reduza o risco mediante um processo de diversificação dos ativos que a compõem.\n",
    "\n",
    "![Curvas de aversão ao risco - investidores sem aversão a risco](Imagens/07_05_Diversificação.JPG)\n",
    "\n",
    "- Quanto maior a quantidade de ativos na carteira, menor o risco, compensando o risco não sistemático de um ativo com outros.\n",
    "- A partir de certo número de ativos na carteira, o risco se mantém estável, devido à parte não diversificável (risco sistemático).\n",
    "\n",
    "Para o cálculo do risco de um portfólio, é necessário levar em consideração não somente a participação e o risco de cada ativo individualmente, mas também como os ativos se correlacionam."
   ]
  },
  {
   "cell_type": "markdown",
   "metadata": {},
   "source": [
    "### Risco de uma carteira\n",
    "\n",
    "O risco de uma carteira depende da forma como seus elementos se relacionam (covariam) entre si.\n",
    "\n",
    "A redução do risco de uma carteira pode ser promovida pela seleção de ativos que mantenham relação inversa entre si.\n",
    "\n",
    "Expressão geral de cálculo (Markowitz) do desvio-padrão de uma carteira de n ativos:\n",
    "\n",
    "$$ \\sigma_P = [\\sum_{i=1}^N \\sum_{j=1}^N W_i \\cdot W_j \\cdot \\rho_{i,j} \\cdot \\sigma_i \\cdot \\sigma_j] ^{1/2} $$\n",
    "\n",
    "Onde:\n",
    "\n",
    "- $W_i$: percentual da carteira aplicado no ativo *i*;\n",
    "- $\\sigma_i$: desvio padrão dos retornos do ativo *i*;\n",
    "- $\\rho_{i,j}$: correlação entre os ativos *i* e *j*.\n",
    "\n",
    "Lembrando da relação entre a covariância e a correlação é dada por:\n",
    "\n",
    "$$ COV_{i,j} = \\rho_{i,j} \\cdot \\sigma_i \\cdot \\sigma_j $$\n",
    "\n",
    "O desvio padrão de uma carteira composta por três ativos A, B e C é calculado da seguinte forma:\n",
    "\n",
    "$$ \\sigma_P = [ (W_A^2 \\cdot \\sigma_A^2) + (W_B^2 \\cdot \\sigma_B^2) + (W_C^2 \\cdot \\sigma_C^2) + 2 \\cdot W_A \\cdot W_B \\cdot Cov_{A,B} $$\n",
    "$$ + 2 \\cdot W_A \\cdot W_C \\cdot Cov_{A,C} + 2 \\cdot W_B \\cdot W_C \\cdot Cov_{B,C}] ^{1/2}$$"
   ]
  },
  {
   "cell_type": "markdown",
   "metadata": {},
   "source": [
    "### Cálculo de covariância matricial\n",
    "Definimos o vetor de desvios padrão por:\n",
    "\n",
    "sigma = \\begin{bmatrix} \n",
    "\\sigma_A \\\\\n",
    "\\sigma_B \\\\\n",
    "\\sigma_C \\end{bmatrix}\n",
    "\n",
    "E definimos a matriz de correlações por:\n",
    "\n",
    "correl = \\begin{bmatrix} \n",
    "\\rho_{A,A} & \\rho_{A,B} & \\rho_{A,C} \\\\\n",
    "\\rho_{B,A} & \\rho_{B,B} & \\rho_{B,C}\\\\\n",
    "\\rho_{C,A} & \\rho_{C,B} & \\rho_{C,C}\\\\\n",
    "\\end{bmatrix}\n",
    "\n",
    "Que pode ser simplificada, devido a sua simetria:\n",
    "\n",
    "correl = \\begin{bmatrix}\n",
    "1         & \\rho_{A,B} & \\rho_{A,C} \\\\\n",
    "\\rho_{A,B} & 1         & \\rho_{B,C} \\\\\n",
    "\\rho_{A,C} & \\rho_{B,C} & 1         \\\\\n",
    "\\end{bmatrix}      \n",
    "\n",
    "O cálculo matricial da covariância é dado por:   \n",
    "$$ sigma_P = sigma^T * correl * sigma$$ \n",
    " \n",
    "No formato matricial, é equivalente a:\n",
    "\n",
    "\\begin{array}{c}\n",
    "\\begin{bmatrix} \n",
    "\\sigma_A & \\sigma_B & \\sigma_C \\end{bmatrix}\n",
    "\\times\n",
    "\\begin{bmatrix}\n",
    "1         & \\rho_{A,B} & \\rho_{A,C} \\\\\n",
    "\\rho_{A,B} & 1         & \\rho_{B,C} \\\\\n",
    "\\rho_{A,C} & \\rho_{B,C} & 1\\end{bmatrix}\n",
    "\\times\n",
    "\\begin{bmatrix} \n",
    "\\sigma_A \\\\\n",
    "\\sigma_B \\\\\n",
    "\\sigma_C \\end{bmatrix}\n",
    "\\end{array}\n",
    "\n",
    "\n",
    " \n",
    "\n",
    "A multiplicação em python pode ser realizada com o numpy, em duas partes:\n",
    "```python\n",
    "import numpy as np\n",
    "np.dot(sigma, np.dot(correl, sigma))\n",
    "\n",
    "```\n"
   ]
  },
  {
   "cell_type": "markdown",
   "metadata": {},
   "source": [
    "**Exemplo 1**\n",
    "\n",
    "Cálculo do risco de um portfólio com 3 ativos\n",
    "\n",
    "\n",
    "Suponha que o portfólio *P* seja composto da seguinte forma:\n",
    "\n",
    "Ativo | Percentual | Retorno esperado | Desvio padrão\n",
    "------|------------|------------------|--------------\n",
    "A     | 20%        | 20%              | 30%\n",
    "B     | 40%        | 15%              | 20%\n",
    "C     | 40%        | 25%              | 40%\n",
    "\n",
    "e sabemos que:\n",
    "\n",
    "$$ \\rho_{A,B} = 0.4 $$\n",
    "$$ \\rho_{A,C} = -0.3 $$\n",
    "$$ \\rho_{B,C} = 0.2 $$\n",
    "\n",
    "Qual o desvio padrão deste portfólio?"
   ]
  },
  {
   "cell_type": "code",
   "execution_count": 7,
   "metadata": {
    "ExecuteTime": {
     "end_time": "2022-02-16T22:53:52.615807Z",
     "start_time": "2022-02-16T22:53:52.588037Z"
    }
   },
   "outputs": [
    {
     "name": "stdout",
     "output_type": "stream",
     "text": [
      "Risco do portfólio: 19.7%\n"
     ]
    }
   ],
   "source": [
    "import numpy as np\n",
    "\n",
    "\n",
    "\n",
    "# Declarar os percentuais\n",
    "W_a = 20/100\n",
    "W_b = 40/100\n",
    "W_c = 40/100\n",
    "\n",
    "# Declarar os devios\n",
    "sigma_a = 30/100\n",
    "sigma_b = 20/100\n",
    "sigma_c = 40/100\n",
    "\n",
    "# Declarar as correlações\n",
    "rho_ab = 40/100\n",
    "rho_ac = -30/100\n",
    "rho_bc = 20/100\n",
    "\n",
    "# Cálculo\n",
    "cov_ab = rho_ab * sigma_a * sigma_b\n",
    "cov_ac = rho_ac * sigma_a * sigma_c\n",
    "cov_bc = rho_bc * sigma_b * sigma_c\n",
    "\n",
    "sigma_p = np.sqrt(W_a**2 * sigma_a**2 + W_b**2 * sigma_b**2 + W_c**2 * sigma_c**2 + 2*W_a*W_b*cov_ab + 2*W_a*W_c*cov_ac+2*W_b*W_c*cov_bc)\n",
    "# sigma_p = np.sqrt(W_a**2 * sigma_a**2 + W_b**2 * sigma_b**2 + W_c**2 * sigma_c**2 + 2*W_a*W_b*cov_ab + 2*W_a*W_c*cov_ac  + 2*W_b*W_c*cov_bc)\n",
    "\n",
    "# Resposta\n",
    "print(f'Risco do portfólio: {round(sigma_p, 4)*100}%')"
   ]
  },
  {
   "cell_type": "markdown",
   "metadata": {},
   "source": [
    "**Exemplo 2**\n",
    "\n",
    "Avaliação do efeito da correlação"
   ]
  },
  {
   "cell_type": "code",
   "execution_count": 9,
   "metadata": {
    "ExecuteTime": {
     "end_time": "2022-02-16T22:57:04.501732Z",
     "start_time": "2022-02-16T22:57:02.054640Z"
    }
   },
   "outputs": [],
   "source": [
    "import pandas as pd\n",
    "\n",
    "\n",
    "# Definição do risco e retorno de 2 ações A e B\n",
    "ret_A = 12/100\n",
    "ret_B = 24/100\n",
    "\n",
    "desv_A = 18/100\n",
    "desv_B = 27/100\n",
    "\n",
    "# Função que calcula o retorno  de um portfólio com 2 ativos\n",
    "def calc_retorno_port(perc_A, perc_B, ret_A, ret_B):\n",
    "    return perc_A*ret_A + perc_B*ret_B\n",
    "\n",
    "# Função que calcula o risco de um portfólio com 2 ativos\n",
    "def calc_risco_port(perc_A, perc_B, desv_A, desv_B, correl):\n",
    "    return np.sqrt(perc_A**2*desv_A**2 + perc_B**2*desv_B**2 + 2*perc_A*perc_B*correl*desv_A*desv_B)"
   ]
  },
  {
   "cell_type": "code",
   "execution_count": 10,
   "metadata": {
    "ExecuteTime": {
     "end_time": "2022-02-16T22:57:04.701675Z",
     "start_time": "2022-02-16T22:57:04.575394Z"
    }
   },
   "outputs": [
    {
     "name": "stdout",
     "output_type": "stream",
     "text": [
      "   Perc A  Perc B  Retorno P  Risco Correl Pos  Risco Correl Neg\n",
      "0     1.0     0.0       12.0              18.0              18.0\n",
      "1     0.8     0.2       14.4              19.8               9.0\n",
      "2     0.6     0.4       16.8              21.6               0.0\n",
      "3     0.4     0.6       19.2              23.4               9.0\n",
      "4     0.2     0.8       21.6              25.2              18.0\n",
      "5     0.0     1.0       24.0              27.0              27.0\n"
     ]
    }
   ],
   "source": [
    "percs_A_sim = np.array(range(100, -1, -20))/100 # percentuais simulados\n",
    "\n",
    "simulacao = pd.DataFrame(columns=['Perc A', 'Perc B', 'Retorno P', 'Risco Correl Pos', 'Risco Correl Neg'])\n",
    "correl_pos = 1 # correlação perfeitamente positiva\n",
    "correl_neg = -1 # correlação perfeitamente negativa\n",
    "    \n",
    "for i, perc_A in enumerate(percs_A_sim):\n",
    "    perc_B = 1 - perc_A\n",
    "    ret_P = calc_retorno_port(perc_A, perc_B, ret_A, ret_B)*100\n",
    "    risco_pos = calc_risco_port(perc_A, perc_B, desv_A, desv_B, correl_pos)*100\n",
    "    risco_neg = int(calc_risco_port(perc_A, perc_B, desv_A, desv_B, correl_neg)*100)\n",
    "    \n",
    "    simulacao.loc[i] = [perc_A, perc_B, ret_P, risco_pos, risco_neg]\n",
    "\n",
    "print(simulacao)"
   ]
  },
  {
   "cell_type": "markdown",
   "metadata": {},
   "source": [
    "A diversificação de Markowitz permite a redução ou\n",
    "até eliminação total do risco não sistemático.\n",
    "\n",
    "A diversificação deve observar as correlações dos\n",
    "retornos dos ativos, estabelecendo-se a melhor\n",
    "composição possível de uma carteira."
   ]
  },
  {
   "cell_type": "markdown",
   "metadata": {},
   "source": [
    "## Fronteira eficiente\n",
    "Na Fronteira Eficiente é possível selecionar uma\n",
    "carteira que apresenta, para determinado retorno, o\n",
    "menor risco possível.\n",
    "\n",
    "A escolha da melhor carteira é determinada pelo risco/retorno presente na avaliação de investimentos.\n",
    "\n",
    "A seleção de carteira de investimento mais atraente para um investidor racional, que avalia a relação risco/retorno, fica restrita às combinações no trecho MW.\n",
    "\n",
    "![Fronteira eficiente](Imagens/10_01_Fronteira_MW.png)\n",
    "\n",
    "Ao comparar-se a carteira A, situada sobre a fronteira\n",
    "eficiente, com a carteira 2, localizada dentro da área\n",
    "sombreada, verifica-se que o risco de A é menor,\n",
    "apresentando ambas as carteiras aproximadamente o\n",
    "mesmo nível de retorno.\n",
    "\n",
    "Qualquer carteira situada à direita dessa linha MW\n",
    "(conjunto eficiente) produz maior risco para o mesmo\n",
    "retorno esperado, ou o mesmo nível de risco para um\n",
    "menor retorno esperado.\n",
    "\n",
    "Na figura a seguir, podemos ver diversas curvas para diferentes correlações simuladas  entre os ativos A1 e A2.\n",
    "![Fronteira eficiente](Imagens/10_02_Fronteira_Eficiente.png)\n",
    "\n",
    "\n",
    "Já na próxima figura, vemos a fronteira eficiente composta por Selic (baixo risco) e Ibovespa (alto risco), para diferentes percentuais de ponderação destes ativos.\n",
    "![Fronteira eficiente](Imagens/10_03_Fronteira_Eficiente.png)\n",
    "\n",
    "Na figura abaixo, podemos ver referências de dois investidores (A e B) diante de carteiras dispostas em fronteira eficiente. As curvas de indiferença traçadas refletem diferentes posturas dos investidores perante o risco (o investidor A é mais avesso a risco).\n",
    "\n",
    "![Fronteira eficiente](Imagens/10_04_Curvas_Investidores.png)"
   ]
  },
  {
   "cell_type": "markdown",
   "metadata": {},
   "source": [
    "## Avaliação de performance\n",
    "\n",
    "Os índices baseados na teoria do Mercado de Capitais buscam identificar e mensurar padrões superiores de performance ajustada ao risco.\n",
    "\n",
    "Medidas de risco mais utilizadas são o beta e o desvio padrão.\n",
    "\n",
    "Os índices mais utilizados e consolidados são: Treynor (1965), Sharpe (1966) e alfa de Jensen (1968).\n"
   ]
  },
  {
   "cell_type": "markdown",
   "metadata": {},
   "source": [
    "### Índice de Sharpe\n",
    "O índice de Sharpe é uma medida de avaliação da relação risco x retorno, mais utilizado para carteiras. É calculada da seguinte forma:\n",
    "\n",
    "$$ IS = \\frac{E[R_m] - R_f}{\\sigma_m} $$\n",
    "\n",
    "Onde:\n",
    "\n",
    "- \\\\(IS\\\\) é o índice de Sharpe\n",
    "- \\\\(E[R_m]\\\\) é o retorno esperado de uma carteira constituída por ativos com risco\n",
    "- \\\\(\\sigma_m\\) é o desvio (risco) desta carteira\n",
    "- \\\\(R_f\\\\) é a taxa de juros livre de risco\n",
    "\n",
    "O índice revela o prêmio oferecido por um ativo para cada percentual adicional de risco assumido.\n",
    "\n",
    "Quanto maior o *IS*, melhor a performance: evidencia o prêmio em relação ao \\\\(R_f\\\\) pelo risco assumido. Caso o retorno da carteira seja inferior à livre de risco, o índice resulta num valor negativo e a interpretação não pode ser considerada.\n"
   ]
  },
  {
   "cell_type": "markdown",
   "metadata": {},
   "source": [
    "**Exemplo**\n",
    "\n",
    "Admita uma carteira formada de um ativo sem risco, com retorno esperado de 6\\%, e um ativo com risco, com retorno esperado de 14\\% e desvio de 10\\%. Essa carteira é composta com 70\\% de ativo com risco e com 30\\% de ativo sem risco.\n",
    "\n",
    "Determine:\n",
    "- Retorno esperado da carteira\n",
    "- Risco da carteira\n",
    "- Índice de Sharpe\n",
    "\n",
    "1. Retorno esperado da carteira:\n",
    "\n",
    "$$ 14\\% \\cdot 0,70 + 6\\% \\cdot 0,30 = 11,6\\% $$\n",
    "\n",
    "2. Risco da carteira:\n",
    "\n",
    "$$ (0,70^2 \\cdot 0,10^2)^{1/2} = 7\\%$$\n",
    "\n",
    "3. Índice de Sharpe (IS):\n",
    "\n",
    "$$ \\frac{11,6\\% - 6\\%}{7\\%} = 0,80 $$\n",
    "\n",
    "Este é o indicador de eficiência do investimento.\n"
   ]
  },
  {
   "cell_type": "markdown",
   "metadata": {},
   "source": [
    "Admita uma carteira formada de um ativo sem risco, com retorno esperado de 6%, e um ativo com risco, com retorno esperado de 14% e desvio de 10%. Essa carteira é composta com 70% de ativo com risco e com 30% de ativo sem risco."
   ]
  },
  {
   "cell_type": "code",
   "execution_count": 13,
   "metadata": {
    "ExecuteTime": {
     "end_time": "2022-02-16T23:53:09.825309Z",
     "start_time": "2022-02-16T23:53:09.810317Z"
    }
   },
   "outputs": [
    {
     "name": "stdout",
     "output_type": "stream",
     "text": [
      "Retorno: 11.6%, Risco: 7.0%, IS: 0.8\n"
     ]
    }
   ],
   "source": [
    "ret_P = 0.06*0.30 + 0.14*0.7\n",
    "sigma_P = np.sqrt(0.7**2 * 0.1**2)\n",
    "\n",
    "IS = (ret_P - 0.06)/sigma_P\n",
    "\n",
    "print(f'Retorno: {round(ret_P*100,2)}%, Risco: {round(sigma_P*100,2)}%, IS: {round(IS,2)}')"
   ]
  },
  {
   "cell_type": "markdown",
   "metadata": {},
   "source": [
    "### Beta\n",
    "\n",
    "O Beta é uma medida de risco sistemático, é mensurado relativo a um benchmark:\n",
    "\n",
    "$$ \\beta = \\frac{Cov_{A, M}}{\\sigma^2_M}$$\n",
    "\n",
    "Onde:\n",
    "\n",
    "- \\\\(Cov_{A, M}\\\\) é a covariância entre o ativo e o benchmark M e\n",
    "- \\\\(\\sigma^2_M\\\\) é a variância do benchmark M\n",
    "\n",
    "O benchmark representa o risco sistemático do mercado. Geralmente utiliza-se um índice apropriado à carteira ou ativo avaliado. Por exemplo, para um fundo de ações brasileiras, utiliza-se o índice Ibovespa.\n",
    "\n",
    "Para determinar o beta de uma carteira, deve-se levar em consideração o percentual de cada ativo que a compõe:\n",
    "\n",
    "$$ \\beta_P = \\sum_{i=1}^{n} W_i \\cdot \\beta_i $$ \n",
    "\n",
    "O beta de uma carteira também pode ser obtido via regressão da série de retornos da carteira em relação ao índice.\n",
    "\n",
    "### Interpretação de Betas de Carteiras:\n",
    "\n",
    "- O benchmark terá Beta = 1,0 (Cov do índice com ela mesma = Variância);\n",
    "- Beta = 1,0: carteira com mesmo risco sistemático do índice de mercado;\n",
    "- Betas < 1,0: carteiras defensivas: menos risco sistemático que o índice;\n",
    "- Betas > 1,0: carteiras agressivas: mais risco sistemático que o índice."
   ]
  }
 ],
 "metadata": {
  "kernelspec": {
   "display_name": "Python 3 (ipykernel)",
   "language": "python",
   "name": "python3"
  },
  "language_info": {
   "codemirror_mode": {
    "name": "ipython",
    "version": 3
   },
   "file_extension": ".py",
   "mimetype": "text/x-python",
   "name": "python",
   "nbconvert_exporter": "python",
   "pygments_lexer": "ipython3",
   "version": "3.8.5"
  },
  "latex_envs": {
   "LaTeX_envs_menu_present": true,
   "autoclose": false,
   "autocomplete": true,
   "bibliofile": "biblio.bib",
   "cite_by": "apalike",
   "current_citInitial": 1,
   "eqLabelWithNumbers": true,
   "eqNumInitial": 1,
   "hotkeys": {
    "equation": "Ctrl-E",
    "itemize": "Ctrl-I"
   },
   "labels_anchors": false,
   "latex_user_defs": false,
   "report_style_numbering": false,
   "user_envs_cfg": false
  },
  "toc": {
   "base_numbering": 1,
   "nav_menu": {},
   "number_sections": true,
   "sideBar": true,
   "skip_h1_title": false,
   "title_cell": "Table of Contents",
   "title_sidebar": "Contents",
   "toc_cell": false,
   "toc_position": {},
   "toc_section_display": true,
   "toc_window_display": false
  },
  "varInspector": {
   "cols": {
    "lenName": 16,
    "lenType": 16,
    "lenVar": 40
   },
   "kernels_config": {
    "python": {
     "delete_cmd_postfix": "",
     "delete_cmd_prefix": "del ",
     "library": "var_list.py",
     "varRefreshCmd": "print(var_dic_list())"
    },
    "r": {
     "delete_cmd_postfix": ") ",
     "delete_cmd_prefix": "rm(",
     "library": "var_list.r",
     "varRefreshCmd": "cat(var_dic_list()) "
    }
   },
   "types_to_exclude": [
    "module",
    "function",
    "builtin_function_or_method",
    "instance",
    "_Feature"
   ],
   "window_display": false
  }
 },
 "nbformat": 4,
 "nbformat_minor": 4
}
