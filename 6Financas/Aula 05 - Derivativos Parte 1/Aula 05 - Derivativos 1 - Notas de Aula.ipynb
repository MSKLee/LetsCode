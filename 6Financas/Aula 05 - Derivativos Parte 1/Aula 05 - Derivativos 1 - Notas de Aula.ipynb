{
 "cells": [
  {
   "cell_type": "markdown",
   "metadata": {},
   "source": [
    "## Introdução \n",
    "\n",
    "### Importância dos derivativos\n",
    "\n",
    "- Principal instrumento de transferência de risco entre os agentes da economia;\n",
    "- Dão previsibilidade de preços futuros;\n",
    "- Ajudam a gerar liquidez aos mercados à vista, uma vez que derivam desses (em função da arbitragem);\n",
    "- Grande flexibilidade e variedade de ativos objeto: Ações, taxas de juros, *commodities*, instrumentos de dívida; eletricidade, apólices de seguros, clima, etc;\n",
    "- Muitas transações possuem cláusulas contratuais que podem embutir um instrumento derivativo: “*Put/Call Options*”\n",
    "\n",
    "\n",
    "### Como surgiram\n",
    "\n",
    "Não se sabe ao certo quando ocorreu o primeiro contrato de derivativo, mas há indícios de que este tipo de operação já ocorria muito antes das bolsas de valores existirem como conhecemos hoje.\n",
    "\n",
    "Ao longo do tempo, os contratos foram evoluindo e os mercados cresceram e desenvolveram diversos tipos de produtos.\n",
    "\n",
    "    \"Se alguém deve uma dívida por um empréstimo, e uma tempestade derrubar o grão, ou a colheita falhar, ou o grão não crescer por falta de água; Naquele ano ele não precisa dar nenhum grão a seu credor, ele lava a sua tábua de dívidas em água e não paga nenhum aluguel para o ano.\"\n",
    "\n",
    "Lei número 48 do Código de *Hamurabi* – 1792 a 1750 A.C.\n",
    "\n",
    "Início da era moderna:\n",
    "\n",
    "- 1848: *CBOT* – *Chicago Board of Trade*;\n",
    "- 1865: Contratos a Termo na *CBOT*;\n",
    "- 1919: *CME* – *Chicago Mercantile Exchange*;\n",
    "- 1972: Primeiro contrato futuro na *CME*;\n",
    "- 1973: *CBOT* – *Chicago Board of Options Exchange* – início das opções.\n",
    "\n",
    "Brasil:\n",
    "\n",
    "- Década de 70: Opções na Bovespa;\n",
    "- Década de 90: Futuros de ações na Bovespa;\n",
    "- 1986: Criação da BM&F e negociação de futuros de taxa de juros, câmbio, juros e *commodities*."
   ]
  },
  {
   "cell_type": "markdown",
   "metadata": {},
   "source": [
    "## Contratos a Termo\n",
    "\n",
    "### Características\n",
    "\n",
    "Considere um contrato a termo de dólares. O negócio é fechado no instante de tempo *t = 0*. O comprador comprará *N* dólares, numa data futura *t = T*, por uma cotação *K* determinada no momento do fechamento do negócio (*t - 0*). Assim, temos as seguintes características para o contrato:\n",
    "\n",
    "- **Ativo subjacente**: É o ativo que será comprado/vendido ao se exercer a opção;\n",
    "- **Maturidade**: É o prazo entre a abertura do contrato (*t = 0*) e o vencimento (*t = T*);\n",
    "- **Preço a termo**: É o valor *K* determinado no momento da negociação (*t = 0*). Estabelece o preço do ativo subjacente que será utilizado no vencimento do contrato (*t = T*);\n",
    "- ***Notional* ou *nocional* ou principal**: Determina quantas unidades do ativo subjacente serão transacionadas;\n",
    "- **Comprador**: Parte que terá a obrigação de realizar a compra no vencimento do contrato. Dizemos que esta parte possui uma posição comprada (*long*) no contrato a termo.\n",
    "- **Vendedor**: Parte que terá a obrigação de realizar a venda no vencimento do contrato. Dizemos que esta parte possui uma posição vendida (*short*) no contrato a termo.\n",
    "- **Não há fluxo de caixa na abertura do contrato**: As partes simplesmente \"assinam\" o contrato, e não há necessidade de realizar pagamento entre as partes em *t = 0*. Isso implica que este derivativo possui valor zero no momento de sua abertura.\n",
    "\n",
    "Obs: Podem existir, entretanto, custos de transação e necessidade de depósito de garantias.\n",
    "\n",
    "O *notional* é uma variável de livre escolha e varia de contrato para contrato."
   ]
  },
  {
   "cell_type": "markdown",
   "metadata": {},
   "source": [
    "### *Payoff* do contrato a termo\n",
    "\n",
    "Chamaremos de *payoff* o resultado financeiro do derivativo no vencimento. Seja $S_T$ o preço do ativo subjacente no vencimento do contrato a termo. Na ótica do comprador, ele estará obrigado a pagar o preço *K* para comprar o ativo subjacente que, em *t = T*, vale $S_T$. Ou seja, ele terá que desembolsar *K* para obter um ativo que, se ele vender imediatamente a mercado, implicará um recebimendo de $S_T$. Assim, o *payoff* do comprador de um contrato a termo pode ser representado por:\n",
    "\n",
    "$$ payoff_{long} = S_T - K $$\n",
    "\n",
    "Veja que o comprador pode ganhar ou perder dinheiro no vencimento, a depender da diferença entre o preço de mercado do ativo subjacente ($S_T$) e o preço a termo que foi combinado na abertura dao contrato (*K*).\n",
    "\n",
    "*Payoff* da posição *long* de um contrato a termo:\n",
    "\n",
    "![Payoff termo long](Imagens/05_01_Payoff_termo_long.png)\n",
    "\n",
    "De forma equivalente, o vendedor será obrigado a vender por *K* um ativo que, em *t = T*, vale $S_T$. Portanto, o payoff para sua posição *short* é dado por:\n",
    "\n",
    "$$ payoff_{short} = K - S_T $$\n",
    "\n",
    "*Payoff* da posição *short* de um contrato a termo:\n",
    "![Payoff termo long](Imagens/05_02_Payoff_termo_short.png)\n"
   ]
  },
  {
   "cell_type": "markdown",
   "metadata": {},
   "source": [
    "### *Hedging* com contrato a termo\n",
    "\n",
    "Suponha que um exportador realize a venda de um produto que vale US\\\\$ 1.000,00. A mercadoria só será entregue em 6 meses e o importador realizará o pagamento quando receber a mercadoria. Assim, o valor em reais a ser recebido pelo exportador será de: $ 1000 \\cdot S_T$. O exportador pode travar a cotação do dólar se operar um contrato a termo, entrando numa posição vendida de dólares com o notional de US$ 1.000,00.\n",
    "\n",
    "O resultado (*payoff*) da operação de venda somado com o contrato a termo é dado por:\n",
    "\n",
    "$$ payoff_{Carteira} = 1000 \\cdot S_T + 1000 \\cdot (K - S_T) = 1000 \\cdot K $$\n",
    "\n",
    "Veja que com esta estratégia, o exportador elimina a incerteza sobre o resultado futuro, uma vez que o preço a termo *K* é estabelecido em *t = 0*.\n",
    "\n",
    "Este exemplo ilustra o *hedge* de uma exposição em moeda estrangeira.\n"
   ]
  },
  {
   "cell_type": "markdown",
   "metadata": {},
   "source": [
    "## Contratos Futuros\n",
    "\n",
    "Assim como um contrato a termo, um contrato futuro é um acordo entre duas partes de comprar ou vender um ativo em uma determinada data no futuro por um preço específico.\n",
    "\n",
    "Ao contrário dos contratos a termo, os contratos futuros normalmente são negociados em uma bolsa. Para possibilitar a negociação, a bolsa especifica certas características padronizadas do contrato. Como as duas partes do contrato não se\n",
    "conhecem necessariamente, a bolsa também oferece um mecanismo que dá a ambas uma garantia de que o contrato será honrado.\n",
    "\n",
    "As maiores bolsas nas quais contratos futuros são negociados são a *Chicago Board of Trade* (*CBOT*) e a *Chicago Mercantile Exchange* (*CME*), que se fundiram para formar o *CME Group*. Nessas e em outras bolsas de todo o mundo, uma ampla variedade de *commodities* e ativos financeiros formam os ativos subjacentes de diversos contratos. \n",
    "\n",
    "As *commodities* incluem barriga de porco, boi gordo, açúcar, lã, madeira, cobre, alumínio, ouro e estanho. Os ativos financeiros incluem índices de ações, moedas e *bonds* do Tesouro. Os preços futuros são informados regularmente na imprensa financeira. \n",
    "\n",
    "Imagine que, no dia 1º de setembro, o preço futuro de dezembro do ouro é cotado em 1.380 dólares. Esse é o preço, exclusivo de comissões, pelo qual os *traders* concordam em comprar ou vender ouro para entrega em dezembro. Ele é determinado da mesma maneira que outros preços (ou seja, pela lei da oferta e da procura). Se os *traders* quiserem mais posições compradas do que vendidas, o preço sobe; se o contrário for verdade, o preço cai.\n",
    "\n",
    "Há algumas particularidades intrínsecas dos contratos futuros relacionados a questões como requerimentos de\n",
    "margem, procedimentos de ajuste diário, procedimentos de entrega, *spreads* de compra e de venda, entre outros. Tais detalhes são definidos pelas bolsas de valores e podem ser encontrados em seus contratos padronizados.\n",
    "\n",
    "Informações sobre os contratos futuro da B3 podem ser encontrados na página:\n",
    "https://www.b3.com.br/pt_br/produtos-e-servicos/"
   ]
  },
  {
   "cell_type": "markdown",
   "metadata": {},
   "source": [
    "## *Swap*\n",
    "\n",
    "*Swaps* são contratos negociados em ambiente de balcão que realizam a troca de fluxos de caixa entre as partes, tendo como base a comparação da rentabilidade entre dois indexadores definidos no contrato. No seu vencimento, as partes se obrigam a trocar o resultado líquido das diferenças entre os dois fluxos de rendimentos.\n",
    "\n",
    "O apreçamento deste contrato vale zero na sua abertura, assim como nos contratos a termo. Isto é, as partes não realizam nenhum pagamento entre si para assinar o contrato.\n",
    "\n",
    "As partes podem definir quaisquer indexadores e quaisquer fluxos de caixa. Por isso, costuma-se modelar um contrato de *swap* como sendo uma posição comprada e outra vendida em dois contratos de renda fixa independentes, mas com mesmo valor na abertura. Estas posições também podem ser denominadas de **pontas** ou ***legs***."
   ]
  },
  {
   "cell_type": "markdown",
   "metadata": {},
   "source": [
    "## *NDF* - *Non-Deliverable Forward*\n",
    "\n",
    "O *NDF* é um contrato a termo de moedas sem entrega física do ativo objeto. Ou seja, em seu vencimento, paga-se apenas o diferencial entre o valor da moeda no instante *T* e o valor negociado no contrato.\n",
    "\n",
    "Pode ser visto como um tipo particular de *swap*. Geralmente opera-se com troca de moedas."
   ]
  },
  {
   "cell_type": "markdown",
   "metadata": {},
   "source": [
    "### Alguns *cases*:\n",
    "\n",
    "Leilão de *swap* cambial:\n",
    "\n",
    "    \"No *swap* cambial, o BC permite que o investidor troque o indexador de um contrato que é ajustado pela Selic, por exemplo, pela variação do dólar por um determinado período de tempo, definido pelo contrato. “Em tese, se o investidor acredita na valorização do dólar para aquele período, ele terá a taxa retorno do dólar sem precisar comprar o dólar. É uma estratégia do Banco Central para desestimular a compra da moeda à vista”, diz Mauro Rochlin, economista e professor da FGV.\"\n",
    "\n",
    "https://veja.abril.com.br/blog/radar-economico/o-que-e-um-leilao-de-swap-cambial-que-o-bc-faz-para-tentar-frear-o-dolar/\n",
    "\n",
    "Suzano - *hedge* cambial:\n",
    "https://braziljournal.com/hedges-cambiais-nem-tudo-e-o-que-parece\n",
    "\n",
    "Petróleo com preço negativo:\n",
    "https://www.bloomberg.com/news/features/2020-12-10/stock-market-when-oil-when-negative-these-essex-traders-pounced"
   ]
  },
  {
   "cell_type": "markdown",
   "metadata": {},
   "source": [
    "## Preços a termo\n",
    "\n",
    "### Premissas e notação\n",
    "\n",
    "1. Os participantes do mercado não estão sujeitos a custos de transação quando negociam;\n",
    "2. Os participantes do mercado estão sujeitos à mesma alíquota fiscal em todos os lucros de negociação líquidos;\n",
    "3. Os participantes do mercado podem tomar dinheiro emprestado pela mesma taxa de juros livre de risco à qual podem emprestar dinheiro;\n",
    "4. Os participantes do mercado aproveitam as oportunidades de arbitragem à medida que elas ocorrem.\n",
    "\n",
    "Observe que não precisamos que esses pressupostos sejam verdadeiros para todos os participantes do mercado. Tudo que precisamos é que sejam verdadeiros, ou pelo menos aproximadamente verdadeiros, para alguns participantes principais, como grandes negociantes de derivativos. São as atividades de negociação desses participantes principais e sua ânsia por aproveitar as oportunidades de arbitragem à medida que ocorrem que determinam a relação entre os preços a termo e à vista.\n",
    "\n",
    "A notação a seguir será usada em todo este capítulo:\n",
    "- $T$: Tempo até a data de entrega em um contrato a termo ou futuro (em anos);\n",
    "- $S_0$: *Spot* ou preço hoje ($t_0$) do ativo subjacente ao derivativo, se fosse comprado no mercado à vista;\n",
    "- $F_0$ ou $F_0^T$: Preço a termo ou futuro hoje para o vencimento $T$;\n",
    "- $r$: Taxa de juros livre de risco com cupom zero ao ano, expressa com capitalização contínua, para um investimento com vencimento na data de entrega (ou seja, em *T* anos).\n",
    "\n",
    "A taxa de juros livre de risco, *r*, é a taxa à qual o dinheiro é emprestado ou tomado emprestado quando não há risco de crédito, de modo que sua devolução é garantida. Conforme discutido em aulas anteriores, os participantes de mercado de derivativos costumam utilizar a taxa CDI como livre de risco no Brasil."
   ]
  },
  {
   "cell_type": "markdown",
   "metadata": {},
   "source": [
    "\n",
    "---\n",
    "**Capitalização contínua**\n",
    "\n",
    "Conversão do fator exponencial para fator contínuo:\n",
    "\n",
    "$$ Fator = (1 + i)^T = exp(r \\cdot T) = e^{r \\cdot T} $$\n",
    "\n",
    "Equivalência de taxas:\n",
    "\n",
    "$$ r = ln(1 + i) $$\n",
    "\n",
    "$$ i = e^r - 1 $$\n",
    "\n",
    "Onde $i$ é a taxa exponencial ao ano e $r$ é a taxa contínua.\n",
    "\n",
    "---"
   ]
  },
  {
   "cell_type": "code",
   "execution_count": null,
   "metadata": {},
   "outputs": [],
   "source": []
  },
  {
   "cell_type": "markdown",
   "metadata": {},
   "source": [
    "### Não-arbitragem\n",
    "\n",
    "O contrato a termo mais fácil de avaliar é aquele lançado sobre um ativo de investimento que não oferece ao titular nenhuma renda. Ações que não pagam dividendos e títulos com cupom zero são exemplos desse tipo de ativo de investimento.\n",
    "\n",
    "Considere um contrato a termo comprado para a compra de uma ação que não paga dividendos em 3 meses. Pressuponha que o preço atual da ação é \\\\$40 e a taxa de juros livre de risco de 3 meses é 5% ao ano.\n",
    "\n",
    "Primeiro, suponha que o preço a termo é relativamente alto, \\\\$43. Um arbitrador pode tomar emprestados \\\\$40 à taxa de juros livre de risco de 5\\% ao ano, comprar uma ação e *vender a descoberto* um contrato a termo de vender uma ação em 3 meses. Ao final dos 3 meses, o arbitrador entrega a ação e recebe \\\\$ 43. A soma de caixa necessária para pagar o empréstimo é:\n",
    "\n",
    "$$ 40 e^{0,05 \\cdot 3/12} = \\$ 40,50 $$"
   ]
  },
  {
   "cell_type": "code",
   "execution_count": 5,
   "metadata": {
    "ExecuteTime": {
     "end_time": "2022-02-07T23:44:19.465398Z",
     "start_time": "2022-02-07T23:44:19.446186Z"
    }
   },
   "outputs": [
    {
     "data": {
      "text/plain": [
       "2.5"
      ]
     },
     "execution_count": 5,
     "metadata": {},
     "output_type": "execute_result"
    }
   ],
   "source": [
    "import numpy as np\n",
    "\n",
    "# Empréstimo de 40 dólares\n",
    "S0 = 40\n",
    "F0 = 43\n",
    "\n",
    "r = 5/100\n",
    "T= 3/12\n",
    "\n",
    "emprestimo = 40*np.exp(r*T)\n",
    "\n",
    "payoff = F0 - emprestimo\n",
    "np.round(payoff, 2)"
   ]
  },
  {
   "cell_type": "markdown",
   "metadata": {},
   "source": [
    "\n",
    "---\n",
    "**Venda a descoberto**: entrar numa posição vendida (*short*) de um contrato sem possuir o ativo que será vendido no futuro.\n",
    "\n",
    "---"
   ]
  },
  {
   "cell_type": "markdown",
   "metadata": {},
   "source": [
    "Seguindo essa estratégia, o arbitrador garante um lucro de \\\\$43,00 - \\\\$40,50 = \\\\$2,50 ao final do período de 3 meses.\n",
    "\n",
    "A seguir, suponha que o preço a termo é relativamente baixo, \\\\$39. O arbitrador pode vender uma ação a descoberto, investir o resultado dessa venda a 5% ao ano por 3 meses e assumir uma posição comprada em um contrato a termo de 3 meses. O resultado da venda a descoberto cresce para:\n",
    "\n",
    "$$ 40e^{0,05 \\cdot 3/12}$$\n",
    "\n",
    "ou \\\\$40,50, em 3 meses. Ao final dos 3 meses, o arbitrador paga \\\\$39, aceita a entrega da ação sob as disposições do contrato a termo e a utiliza para encerrar a posição vendida. O resultado ao final dos 3 meses é um ganho líquido de:\n",
    "\n",
    "$$ \\$ 40,50 - \\$ 39,00 = \\$ 1,50 $$\n",
    "\n",
    "Sob quais circunstâncias as oportunidades de arbitragem apresentadas não existem? \n",
    "\n",
    "A primeira arbitragem ocorre quando o preço a termo é maior do que \\\\$40,50. A segunda arbitragem ocorre quando o preço a termo é menor do que \\\\$40,50. Assim, deduzimos que, para não haver arbitragem, o preço a termo deve ser exatamente igual a \\\\$40,50."
   ]
  },
  {
   "cell_type": "code",
   "execution_count": 7,
   "metadata": {
    "ExecuteTime": {
     "end_time": "2022-02-07T23:53:04.567498Z",
     "start_time": "2022-02-07T23:53:04.548562Z"
    }
   },
   "outputs": [
    {
     "data": {
      "text/plain": [
       "1.5"
      ]
     },
     "execution_count": 7,
     "metadata": {},
     "output_type": "execute_result"
    }
   ],
   "source": [
    "S0 = 40\n",
    "F0 = 39\n",
    "\n",
    "r = 5/100\n",
    "T = 3/12\n",
    "\n",
    "investir = 40 * np.exp(r*T)\n",
    "\n",
    "payoff = investir - F0\n",
    "np.round(payoff, 2)"
   ]
  },
  {
   "cell_type": "code",
   "execution_count": null,
   "metadata": {
    "ExecuteTime": {
     "end_time": "2022-02-06T16:05:01.055659Z",
     "start_time": "2022-02-06T16:05:01.043636Z"
    }
   },
   "outputs": [],
   "source": [
    "# Estrategia 1\n",
    "# Payoff = F0 - emprestimo -> $2,50 de arbitragem\n",
    "\n",
    "# Estrategia 2\n",
    "# Payoff = investir - F0 -> $1,50"
   ]
  },
  {
   "cell_type": "markdown",
   "metadata": {},
   "source": [
    "### Preço a termo de um ativo sem renda\n",
    "\n",
    "Para generalizar a partir desse exemplo, vamos considerar um contrato a termo sobre um ativo de investimento com preço $S_0$ que não oferece renda. Usando nossa notação, $T$ é o tempo até o vencimento, $r$ é a taxa de juros livre de risco e $F_0$ é o preço a termo. A relação entre $F_0$ e $S_0$ é:\n",
    "\n",
    "$$ F_0 = S_0 \\cdot e^{r \\cdot T} $$\n",
    "\n",
    "Se $ F_0 > S_0 \\cdot e^{r \\cdot T} $, os arbitradores podem comprar o ativo e vender a descoberto contratos\n",
    "a termo sobre o ativo. Se $ F_0 < S_0 \\cdot e^{r \\cdot T} $, eles podem vender o ativo a descoberto\n",
    "e firmar contratos a termo comprados sobre ele.\n",
    "\n",
    "Um contrato a termo comprado e uma compra à vista levam à propriedade do ativo no tempo T. O preço a termo é maior do que o preço à vista devido ao custo de financiar a compra à vista do ativo durante a vida do contrato a termo.\n",
    "\n",
    "A seguir, temos a tabela com o resumo dos cenários discutidos. Fonte: Hull, J. \"Opções, futuros e outros derivativos\".\n",
    "![Tabela Hull Contrato Termo](Imagens/05_03_Tabela_Arbitragem_Termo.png)\n"
   ]
  },
  {
   "cell_type": "markdown",
   "metadata": {},
   "source": [
    "### E se as vendas a descoberto não fossem possíveis?\n",
    "\n",
    "As vendas a descoberto não são possíveis para todos os ativos de investimento e, às vezes, é cobrada uma taxa pelo arrendamento dos ativos. Mas isso não importa, pois não precisamos ter a capacidade de vender o ativo a descoberto.\n",
    "\n",
    "Tudo que precisamos é que haja participantes do mercado que detêm o ativo puramente para fins de investimento (e, por definição, isso é sempre verdade para um ativo de investimento). Se o preço a termo for baixo demais, eles considerarão atraente vender o ativo e assumir uma posição comprada em um contrato a termo.\n",
    "\n",
    "Suponha que o ativo de investimento subjacente não gera custos de estocagem ou rendas. $ F_0 > S_0 \\cdot e^{r \\cdot T} $, um investidor pode adotar a seguinte estratégia:\n",
    "\n",
    "1. Tomar emprestado $S_0$ dólares a uma taxa de juros $r$ por $T$ anos;\n",
    "2. Comprar 1 unidade do ativo;\n",
    "3. Vender a descoberto um contrato a termo sobre 1 unidade do ativo.\n",
    "\n",
    "No tempo $T$, o ativo é vendido por $F_0$. Uma quantia $S_0 \\cdot e^{r \\cdot T}$ é necessária para repagar o empréstimo nessa data, e o investidor obtém um lucro de $F_0 - S_0 \\cdot e^{r \\cdot T}$.\n",
    "\n",
    "A seguir, suponha que $ F_0 <  S_0 \\cdot e^{r \\cdot T}$. Nesse caso, um investidor que possui o ativo\n",
    "pode:\n",
    "1. Vender o ativo por $S_0$;\n",
    "2. Investir os resultados à taxa de juros $r$ pelo tempo $T$;\n",
    "3. Assumir uma posição comprada em um contrato a termo sobre 1 unidade do ativo.\n",
    "\n",
    "No tempo *T*, o dinheiro investido aumentou para $S_0 \\cdot e^{r \\cdot T}$. O ativo é recomprado por $F_0$ e o investidor obtém lucro de $S_0 \\cdot e^{r \\cdot T}- F_0$ em relação à posição que o investidor estaria caso o ativo tivesse sido mantido.\n",
    "\n",
    "Assim como no exemplo da ação que não paga dividendo considerado anteriormente, podemos esperar que o preço a termo se ajustará de modo que nenhuma das duas oportunidades de arbitragem consideradas existam. Isso significa que a relação\n",
    "na equação de preço deve se manter válida."
   ]
  },
  {
   "cell_type": "markdown",
   "metadata": {},
   "source": [
    "### Preços futuros de ativos com renda conhecida\n",
    "\n",
    "Considere um contrato a termo sobre um ativo de investimento que oferecerá uma renda de caixa perfeitamente previsível para o titular. Os exemplos são ações que pagam dividendos conhecidos e títulos que pagam cupons. Adotaremos a mesma abordagem usada na seção anterior. Primeiro, vamos analisar um exemplo numérico e então revisar os argumentos formais.\n",
    "\n",
    "Considere um contrato a termo comprado referente à compra de um título que paga cupom cujo preço atual é \\\\$900. Vamos supor que o contrato a termo vence em 9 meses. Também vamos supor que um pagamento de cupom de \\\\$40 é esperado após 4 meses. Pressupomos que as taxas de juros livres de risco de 4 e 9 meses (compostas contínuamente) são, respectivamente, 3\\% e 4\\% ao ano.\n",
    "\n",
    "Primeiro, suponha que o preço a termo é relativamente alto, \\\\$910. Um arbitrador poderia tomar emprestado \\\\$900 para comprar o título e vender a descoberto um contrato a termo. O pagamento de cupom tem valor presente de $ 40 e^{0,03 \\cdot 4/12} = \\$ 39,60 $. Dos \\\\$900, \\\\$39,60 são assim tomados emprestados a 3\\% ao ano por 4 meses para que possam ser pagos com o pagamento de cupom. Os \\\\$860,40 restantes são tomados emprestados a 4\\% ao ano por 9 meses. A quantia devida ao final do período de 9 meses é $ 860,40 e^{0,04 \\cdot 0,75} = \\$886,60 $. A soma de \\\\$910 é recebida pelo título sob as disposições do contrato a termo. Por consequência, o lucro líquido do arbitrador é:\n",
    "\n",
    "$$ 910,00 - 886,60 = \\$ 23,40 $$\n",
    "\n",
    "A seguir, suponha que o preço a termo é relativamente baixo, \\\\$870. O investidor pode vender o título a descoberto e firmar um contrato a termo comprado. Dos \\\\$900 realizados com a venda a descoberto do título, \\\\$39,60 são investidos por 4 meses a 3\\% ao ano, de modo que o valor aumente até uma quantia suficiente para pagar o cupom do título. Os \\$860,40 restantes são investidos por 9 meses a 4% ao ano e aumentam para \\\\$886,60. Sob as disposições do contrato a termo, \\\\$870 são pagos para comprar o título e a posição vendida é encerrada. Assim, o ganho do investidor é:\n",
    "\n",
    "$$ 886,60 - 870 = \\$ 16,60 $$\n",
    "\n",
    "A primeira estratégia produz lucro quando o preço a termo é maior do que \\\\$886,60, enquanto a segunda estratégia produz lucro quando o preço a termo é inferior a \\$886,60. Logo, para não haver oportunidades de arbitragem, o preço a termo deve\n",
    "ser \\\\$886,60.\n",
    "\n",
    "A seguir, temos a tabela com o resumo dos cenários discutidos. Fonte: Hull, J. \"Opções, futuros e outros derivativos\".\n",
    "![Tabela](Imagens/05_04_Tabela_Arbitragem_Termo_Renda.PNG)\n",
    "\n",
    "Podemos generalizar a partir desse exemplo para argumentar que quando um ativo de investimento fornecer uma renda com valor presente de $I$ durante a vida de um contrato a termo, temos:\n",
    "\n",
    "$$ F_0 = (S_0 - I)e^{rT} $$\n",
    "\n",
    "Em nosso exemplo:\n",
    "\n",
    "- $S_0 = 900,00$, \n",
    "- $I = 40e^{0,03 \\cdot 4/12} = 39,60 $, \n",
    "- $r = 0,04$ e \n",
    "- T = 0,75, \n",
    "\n",
    "de modo que:\n",
    "\n",
    "$$F_0 = (900,00 - 39,60)e^{0,04 \\cdot 0,75} = \\$886,60 $$"
   ]
  },
  {
   "cell_type": "markdown",
   "metadata": {},
   "source": [
    "### Preços futuros de ativos com rendimento \n",
    "\n",
    "Agora vamos considerar a situação na qual o ativo subjacente a um contrato a termo oferece um rendimento conhecido, não uma renda em caixa conhecida. Isso significa que a renda é conhecida quando expressa como porcentagem do preço do ativo\n",
    "no momento em que a renda é paga. \n",
    "\n",
    "Suponha que espera-se que um ativo forneça rendimento de 5\\% ao ano. Isso pode significar que:\n",
    "\n",
    "-  A renda é paga uma vez ao ano e que é igual a 5% do preço do ativo no momento em que é paga; nesse caso, o rendimento seria 5\\% com capitalização anual;\n",
    "\n",
    "- Ou a renda é paga duas vezes ao ano e é igual a 2,5% do preço do ativo no momento em que é paga; nesse caso, o rendimento seria 5\\% ao ano com capitalização semestral.\n",
    "\n",
    "Da mesma forma que as taxas de juros são mensuradas, normalmente mensuramentos rendimentos usando capitalização contínua. As fórmulas para traduzir um rendimento mensurado com uma frequência de capitalização para um rendimento usando outra frequência são as mesmas apresentadas para taxas de juros.\n",
    "\n",
    "Defina $q$ como o rendimento médio ao ano sobre um ativo durante a vida de um contrato a termo com capitalização contínua. Podemos mostrar que:\n",
    "\n",
    "$$ F_0 = S_0 \\frac{e^{rT}}{e^{qT}} $$\n",
    "\n",
    "Ou de forma matematicamente simplificada:\n",
    "\n",
    "$$ F_0 = S_0 e^{(r - q)T} $$\n",
    "\n",
    "Isso mostra que o preço futuro aumenta por uma taxa $r - q$ com o vencimento do contrato futuro."
   ]
  },
  {
   "cell_type": "markdown",
   "metadata": {},
   "source": [
    "### Preços futuros de moedas\n",
    "\n",
    "Agora vamos considerar os contratos cambiais a termo e futuros da perspectiva de um investidor americano. O ativo subjacente é uma unidade da moeda estrangeira. Assim, vamos definir a variável $S_0$ como o preço à vista atual em dólares americanos de uma unidade da moeda estrangeira e $F_0$ como os preços a termo ou futuros em dólares americanos de uma unidade da moeda estrangeira. As definições são consistentes com o modo como definimos $S_0$ e $F_0$ para outros ativos subjacentes de contratos a termo e futuros. \n",
    "\n",
    "Contudo, eles não correspondem necessariamente ao modo como as taxas de câmbio à vista e a termo são cotadas. Para os principais câmbios que não a libra esterlina, euro, dólar australiano e dólar neozelandês, a taxa de câmbio à vista ou a termo normalmente é cotada como o número de unidades da moeda equivalente a um dólar americano.\n",
    "\n",
    "Uma moeda estrangeira tem a propriedade de que o seu titular possa obter juros pela taxa de juros livre de risco prevalecente no país estrangeiro. Por exemplo, o titular pode investir a moeda em um título denominado nela. Vamos definir $r_f$ como o valor da taxa de juros livre de risco estrangeira quando o dinheiro é investido nela pelo tempo $T$. A variável $r$ é a taxa de juros livre de risco quando o dinheiro é investido por esse período de tempo em dólares americanos.\n",
    "\n",
    "A relação entre $F_0$ e $S_0$ é:\n",
    "\n",
    "$$ F_0 = S_0 e^{(r - r_f)T} $$\n",
    "\n",
    "Essa é a famosa relação de paridade da taxa de juros nas finanças internacionais. O motivo para ela ser verdadeira está ilustrado na figura abaixo. Imagine que um indivíduo começa com 1.000 unidades da moeda estrangeira. Temos duas maneiras de converter esse valor para dólares no tempo $T$. \n",
    "\n",
    "- Uma é investir a quantia por $T$ anos à taxa $r_f $ e firmar um contrato a termo para vender o resultado em troca de dólares no tempo $T$. Isso gera $ 1.000e^{r_f T} F_0 $ dólares;\n",
    "- A outra é trocar a moeda estrangeira por dólares no mercado à vista e investir o resultado por $T$ anos à taxa $r$. Isso gera $ 1.000 S_0 e^{rT} $ dólares. \n",
    "\n",
    "Na ausência de oportunidades de arbitragem, as duas estratégias devem dar o mesmo resultado. Logo:\n",
    "\n",
    "$$ 1.000 e^{r_f T} F_0 =  1.000 S_0 e^{rT}$$\n",
    "\n",
    "de modo que:\n",
    "\n",
    "$$F_0 = S_0 e^{(r - r_f)T} $$\n",
    "\n",
    "A diferença entre as taxas $r$ e $r_f$ é chamada de **cupom cambial**.\n",
    "\n",
    "\n",
    "Figura: Formas equivalentes de converter 1.000 dólares em outra moeda. Fonte: Hull, J. \"Opções, futuros e outros derivativos\".\n",
    "![Imagem termo moeda](Imagens/05_05_Tabela_Arbitragem_Termo_Moeda.png)"
   ]
  },
  {
   "cell_type": "markdown",
   "metadata": {},
   "source": [
    "## Referências\n",
    "\n",
    "- Fabio Giambiagi, \"Derivativos e risco de mercado\",Elsevier (2018)\n",
    "- Paul Wilmott, \"Paul Wilmott introduces quantitative finance\", Wiley (2007)\n",
    "- John Hull,  \"Opções, futuros e outros derivativos\",Bookman (2016)\n",
    "\n",
    "- Mercado Futuro B3: https://www.b3.com.br/pt_br/produtos-e-servicos/negociacao/renda-variavel/mercado-de-acoes/mercado-futuro.htm\n",
    "- CME taxa SOFR: https://www.cmegroup.com/trading/interest-rates/secured-overnight-financing-rate-futures.html"
   ]
  }
 ],
 "metadata": {
  "kernelspec": {
   "display_name": "Python 3 (ipykernel)",
   "language": "python",
   "name": "python3"
  },
  "language_info": {
   "codemirror_mode": {
    "name": "ipython",
    "version": 3
   },
   "file_extension": ".py",
   "mimetype": "text/x-python",
   "name": "python",
   "nbconvert_exporter": "python",
   "pygments_lexer": "ipython3",
   "version": "3.8.5"
  },
  "latex_envs": {
   "LaTeX_envs_menu_present": true,
   "autoclose": false,
   "autocomplete": true,
   "bibliofile": "biblio.bib",
   "cite_by": "apalike",
   "current_citInitial": 1,
   "eqLabelWithNumbers": true,
   "eqNumInitial": 1,
   "hotkeys": {
    "equation": "Ctrl-E",
    "itemize": "Ctrl-I"
   },
   "labels_anchors": false,
   "latex_user_defs": false,
   "report_style_numbering": false,
   "user_envs_cfg": false
  },
  "toc": {
   "base_numbering": 1,
   "nav_menu": {},
   "number_sections": true,
   "sideBar": true,
   "skip_h1_title": false,
   "title_cell": "Table of Contents",
   "title_sidebar": "Contents",
   "toc_cell": false,
   "toc_position": {},
   "toc_section_display": true,
   "toc_window_display": false
  },
  "varInspector": {
   "cols": {
    "lenName": 16,
    "lenType": 16,
    "lenVar": 40
   },
   "kernels_config": {
    "python": {
     "delete_cmd_postfix": "",
     "delete_cmd_prefix": "del ",
     "library": "var_list.py",
     "varRefreshCmd": "print(var_dic_list())"
    },
    "r": {
     "delete_cmd_postfix": ") ",
     "delete_cmd_prefix": "rm(",
     "library": "var_list.r",
     "varRefreshCmd": "cat(var_dic_list()) "
    }
   },
   "types_to_exclude": [
    "module",
    "function",
    "builtin_function_or_method",
    "instance",
    "_Feature"
   ],
   "window_display": false
  }
 },
 "nbformat": 4,
 "nbformat_minor": 4
}
