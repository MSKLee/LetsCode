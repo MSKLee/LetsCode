{
 "cells": [
  {
   "cell_type": "markdown",
   "metadata": {},
   "source": [
    "### Atividades\n",
    "\n",
    "1. Ler as bases de preços diários\n",
    "2. Calcular retornos relativos diários (HP=1)\n",
    "3. Calcular retorno médio e desvio padrão de cada ativo\n",
    "4. Calcular matriz de covariância dos ativos\n",
    "5. Plotar os ativos num gráfico de dispersão: retorno x risco\n",
    "6. Definir pesos para os ativos e compor em uma carteira. Calcular o retorno e o risco desta carteira\n",
    "7. Simular diversos conjuntos de pesos aleatoriamente e plotar no gráfico de dispersão estas carteiras\n",
    "\n",
    "### Dicas\n",
    "\n",
    "1. Defina funções para ler as bases ao invés de repetir os códigos.\n",
    "2. Utilize as funções do Pandas - .mean(), .cov(), .shift(), etc.\n",
    "3. Verifique os resultados a cada cálculo.\n",
    "4. Para multiplicação matricial, utilize: np.dot()\n",
    "5. Para simular valores aleatórios, utilize: np.ramdon.ramdon()"
   ]
  },
  {
   "cell_type": "code",
   "execution_count": 1,
   "metadata": {},
   "outputs": [],
   "source": [
    "# Bibliotecas\n",
    "import numpy as np\n",
    "import pandas as pd\n",
    "from matplotlib import pyplot as plt\n",
    "from sklearn.linear_model import LinearRegression\n",
    "import scipy.optimize as solver\n",
    "from datetime import datetime"
   ]
  },
  {
   "cell_type": "code",
   "execution_count": 2,
   "metadata": {
    "colab": {
     "base_uri": "https://localhost:8080/",
     "height": 475
    },
    "executionInfo": {
     "elapsed": 355,
     "status": "error",
     "timestamp": 1639696536204,
     "user": {
      "displayName": "Gustavo Previatto",
      "photoUrl": "https://lh3.googleusercontent.com/a-/AOh14GjObmSR4ca42p9ql2BFwTDO-JKvFQe5-jaQaAMvsA=s64",
      "userId": "00510215832706198465"
     },
     "user_tz": 180
    },
    "id": "tQNopJIwhPe1",
    "outputId": "0ad2189a-b1dc-4e78-c45a-de2c5cb533e5"
   },
   "outputs": [],
   "source": [
    "# Ler e tratar as bases\n",
    "def read_infoMoney(file_name):\n",
    "    df = pd.read_csv(file_name)\n",
    "    df = df.applymap(lambda x: str(x.replace(',','.')))\n",
    "    df['VOLUME'] = df['VOLUME'].map(lambda x: x.lstrip('.'))\n",
    "    df = df.applymap(lambda x: str(x.replace('K', '000')))\n",
    "    df = df.applymap(lambda x: str(x.replace('M', '000000')))\n",
    "    df = df.applymap(lambda x: str(x.replace('B', '000000000')))\n",
    "    df[['ABERTURA', 'FECHAMENTO', 'VARIAÇÃO', 'MÍNIMO', 'MÁXIMO', 'VOLUME']].applymap(lambda x: float(x))\n",
    "    df = df.drop(['ABERTURA', 'VARIAÇÃO', 'MÍNIMO', 'MÁXIMO', 'VOLUME'], axis = 1)\n",
    "    df['DATA'] = df['DATA'].map(lambda x: datetime.strptime(x, '%d/%m/%Y'))\n",
    "    \n",
    "    #df['VOLUME'] = df['VOLUME'].applymap(lambda x: x * 1000)\n",
    "       \n",
    "    return df"
   ]
  },
  {
   "cell_type": "code",
   "execution_count": 3,
   "metadata": {},
   "outputs": [
    {
     "data": {
      "text/html": [
       "<div>\n",
       "<style scoped>\n",
       "    .dataframe tbody tr th:only-of-type {\n",
       "        vertical-align: middle;\n",
       "    }\n",
       "\n",
       "    .dataframe tbody tr th {\n",
       "        vertical-align: top;\n",
       "    }\n",
       "\n",
       "    .dataframe thead th {\n",
       "        text-align: right;\n",
       "    }\n",
       "</style>\n",
       "<table border=\"1\" class=\"dataframe\">\n",
       "  <thead>\n",
       "    <tr style=\"text-align: right;\">\n",
       "      <th></th>\n",
       "      <th>DATA</th>\n",
       "      <th>FECHAMENTO</th>\n",
       "    </tr>\n",
       "  </thead>\n",
       "  <tbody>\n",
       "    <tr>\n",
       "      <th>0</th>\n",
       "      <td>2018-12-28</td>\n",
       "      <td>20.17</td>\n",
       "    </tr>\n",
       "    <tr>\n",
       "      <th>1</th>\n",
       "      <td>2018-12-27</td>\n",
       "      <td>19.66</td>\n",
       "    </tr>\n",
       "    <tr>\n",
       "      <th>2</th>\n",
       "      <td>2018-12-21</td>\n",
       "      <td>20.69</td>\n",
       "    </tr>\n",
       "    <tr>\n",
       "      <th>3</th>\n",
       "      <td>2018-12-20</td>\n",
       "      <td>20.03</td>\n",
       "    </tr>\n",
       "    <tr>\n",
       "      <th>4</th>\n",
       "      <td>2018-12-19</td>\n",
       "      <td>20.03</td>\n",
       "    </tr>\n",
       "    <tr>\n",
       "      <th>...</th>\n",
       "      <td>...</td>\n",
       "      <td>...</td>\n",
       "    </tr>\n",
       "    <tr>\n",
       "      <th>203</th>\n",
       "      <td>2018-01-09</td>\n",
       "      <td>20.73</td>\n",
       "    </tr>\n",
       "    <tr>\n",
       "      <th>204</th>\n",
       "      <td>2018-01-08</td>\n",
       "      <td>20.43</td>\n",
       "    </tr>\n",
       "    <tr>\n",
       "      <th>205</th>\n",
       "      <td>2018-01-05</td>\n",
       "      <td>20.38</td>\n",
       "    </tr>\n",
       "    <tr>\n",
       "      <th>206</th>\n",
       "      <td>2018-01-04</td>\n",
       "      <td>20.48</td>\n",
       "    </tr>\n",
       "    <tr>\n",
       "      <th>207</th>\n",
       "      <td>2018-01-03</td>\n",
       "      <td>20.42</td>\n",
       "    </tr>\n",
       "  </tbody>\n",
       "</table>\n",
       "<p>208 rows × 2 columns</p>\n",
       "</div>"
      ],
      "text/plain": [
       "          DATA FECHAMENTO\n",
       "0   2018-12-28      20.17\n",
       "1   2018-12-27      19.66\n",
       "2   2018-12-21      20.69\n",
       "3   2018-12-20      20.03\n",
       "4   2018-12-19      20.03\n",
       "..         ...        ...\n",
       "203 2018-01-09      20.73\n",
       "204 2018-01-08      20.43\n",
       "205 2018-01-05      20.38\n",
       "206 2018-01-04      20.48\n",
       "207 2018-01-03      20.42\n",
       "\n",
       "[208 rows x 2 columns]"
      ]
     },
     "execution_count": 3,
     "metadata": {},
     "output_type": "execute_result"
    }
   ],
   "source": [
    "df_ALPA3 = read_infoMoney('Bases/Alpargatas ALPA3 - Histórico InfoMoney.csv')\n",
    "\n",
    "df_ALPA3"
   ]
  },
  {
   "cell_type": "code",
   "execution_count": 4,
   "metadata": {},
   "outputs": [
    {
     "name": "stdout",
     "output_type": "stream",
     "text": [
      "<class 'pandas.core.frame.DataFrame'>\n",
      "RangeIndex: 208 entries, 0 to 207\n",
      "Data columns (total 2 columns):\n",
      " #   Column      Non-Null Count  Dtype         \n",
      "---  ------      --------------  -----         \n",
      " 0   DATA        208 non-null    datetime64[ns]\n",
      " 1   FECHAMENTO  208 non-null    object        \n",
      "dtypes: datetime64[ns](1), object(1)\n",
      "memory usage: 3.4+ KB\n"
     ]
    }
   ],
   "source": [
    "df_ALPA3.info()"
   ]
  },
  {
   "cell_type": "code",
   "execution_count": 5,
   "metadata": {},
   "outputs": [
    {
     "data": {
      "text/plain": [
       "Timestamp('2018-12-28 00:00:00')"
      ]
     },
     "execution_count": 5,
     "metadata": {},
     "output_type": "execute_result"
    }
   ],
   "source": [
    "df_ALPA3['DATA'][0]"
   ]
  },
  {
   "cell_type": "code",
   "execution_count": 6,
   "metadata": {},
   "outputs": [],
   "source": [
    "df_ALPA3 = read_infoMoney('Bases/Alpargatas ALPA3 - Histórico InfoMoney.csv')\n",
    "df_ABEV3 = read_infoMoney('Bases/Ambev SA ABEV3 - Histórico InfoMoney.csv')\n",
    "df_PETR3 = read_infoMoney('Bases/Petrobras PETR3 - Histórico InfoMoney.csv')\n",
    "df_CIEL3 = read_infoMoney('Bases/Cielo CIEL3 - Histórico InfoMoney.csv')\n",
    "df_SEER3 = read_infoMoney('Bases/Ser Educacional SEER3 - Histórico InfoMoney.csv')\n",
    "df_MGLU3 = read_infoMoney('Bases/Magazine Luiza MGLU3 - Histórico InfoMoney.csv')\n",
    "df_ITUB3 = read_infoMoney('Bases/Itaú Unibanco ITUB3 - Histórico InfoMoney.csv')\n",
    "df_VALE3 = read_infoMoney('Bases/Vale S.A. VALE3 - Histórico InfoMoney.csv')"
   ]
  },
  {
   "cell_type": "code",
   "execution_count": 7,
   "metadata": {},
   "outputs": [
    {
     "data": {
      "text/plain": [
       "{'ALPA3': 'Bases/Alpargatas ALPA3 - Histórico InfoMoney.csv',\n",
       " 'ABEV3': 'Bases/Ambev SA ABEV3 - Histórico InfoMoney.csv',\n",
       " 'PETR3': 'Bases/Petrobras PETR3 - Histórico InfoMoney.csv',\n",
       " 'CIEL3': 'Bases/Cielo CIEL3 - Histórico InfoMoney.csv',\n",
       " 'SEER3': 'Bases/Ser Educacional SEER3 - Histórico InfoMoney.csv',\n",
       " 'MGLU3': 'Bases/Magazine Luiza MGLU3 - Histórico InfoMoney.csv',\n",
       " 'ITUB3': 'Bases/Itaú Unibanco ITUB3 - Histórico InfoMoney.csv',\n",
       " 'VALE3': 'Bases/Vale S.A. VALE3 - Histórico InfoMoney.csv'}"
      ]
     },
     "execution_count": 7,
     "metadata": {},
     "output_type": "execute_result"
    }
   ],
   "source": [
    "# Dicionário de ativos\n",
    "assets = {'ALPA3': 'Bases/Alpargatas ALPA3 - Histórico InfoMoney.csv',\n",
    "          'ABEV3': 'Bases/Ambev SA ABEV3 - Histórico InfoMoney.csv',\n",
    "          'PETR3': 'Bases/Petrobras PETR3 - Histórico InfoMoney.csv',\n",
    "          'CIEL3': 'Bases/Cielo CIEL3 - Histórico InfoMoney.csv',\n",
    "          'SEER3': 'Bases/Ser Educacional SEER3 - Histórico InfoMoney.csv',\n",
    "          'MGLU3': 'Bases/Magazine Luiza MGLU3 - Histórico InfoMoney.csv',\n",
    "          'ITUB3': 'Bases/Itaú Unibanco ITUB3 - Histórico InfoMoney.csv',\n",
    "          'VALE3': 'Bases/Vale S.A. VALE3 - Histórico InfoMoney.csv'}\n",
    "assets"
   ]
  },
  {
   "cell_type": "code",
   "execution_count": 8,
   "metadata": {},
   "outputs": [
    {
     "name": "stdout",
     "output_type": "stream",
     "text": [
      "                                            ABEV3  \\\n",
      "0  Bases/Ambev SA ABEV3 - Histórico InfoMoney.csv   \n",
      "\n",
      "                                              ALPA3  \\\n",
      "0  Bases/Alpargatas ALPA3 - Histórico InfoMoney.csv   \n",
      "\n",
      "                                         CIEL3  \\\n",
      "0  Bases/Cielo CIEL3 - Histórico InfoMoney.csv   \n",
      "\n",
      "                                               ITUB3  \\\n",
      "0  Bases/Itaú Unibanco ITUB3 - Histórico InfoMone...   \n",
      "\n",
      "                                               MGLU3  \\\n",
      "0  Bases/Magazine Luiza MGLU3 - Histórico InfoMon...   \n",
      "\n",
      "                                             PETR3  \\\n",
      "0  Bases/Petrobras PETR3 - Histórico InfoMoney.csv   \n",
      "\n",
      "                                               SEER3  \\\n",
      "0  Bases/Ser Educacional SEER3 - Histórico InfoMo...   \n",
      "\n",
      "                                             VALE3  \n",
      "0  Bases/Vale S.A. VALE3 - Histórico InfoMoney.csv  \n"
     ]
    }
   ],
   "source": [
    "df_assets = pd.DataFrame()\n",
    "df_assets = df_assets.append(assets, ignore_index=True)\n",
    "print(df_assets.head())"
   ]
  },
  {
   "cell_type": "code",
   "execution_count": 9,
   "metadata": {},
   "outputs": [
    {
     "data": {
      "text/plain": [
       "dict"
      ]
     },
     "execution_count": 9,
     "metadata": {},
     "output_type": "execute_result"
    }
   ],
   "source": [
    "type(assets)"
   ]
  },
  {
   "cell_type": "code",
   "execution_count": 10,
   "metadata": {
    "collapsed": true
   },
   "outputs": [
    {
     "ename": "ValueError",
     "evalue": "If using all scalar values, you must pass an index",
     "output_type": "error",
     "traceback": [
      "\u001b[0;31m---------------------------------------------------------------------------\u001b[0m",
      "\u001b[0;31mValueError\u001b[0m                                Traceback (most recent call last)",
      "\u001b[0;32m<ipython-input-10-6bf71f978f99>\u001b[0m in \u001b[0;36m<module>\u001b[0;34m\u001b[0m\n\u001b[1;32m      1\u001b[0m \u001b[0;31m# Consolidando os dados em um único DF\u001b[0m\u001b[0;34m\u001b[0m\u001b[0;34m\u001b[0m\u001b[0;34m\u001b[0m\u001b[0m\n\u001b[1;32m      2\u001b[0m \u001b[0;34m\u001b[0m\u001b[0m\n\u001b[0;32m----> 3\u001b[0;31m \u001b[0mdf_assets\u001b[0m \u001b[0;34m=\u001b[0m \u001b[0mpd\u001b[0m\u001b[0;34m.\u001b[0m\u001b[0mDataFrame\u001b[0m\u001b[0;34m(\u001b[0m\u001b[0massets\u001b[0m\u001b[0;34m)\u001b[0m\u001b[0;34m\u001b[0m\u001b[0;34m\u001b[0m\u001b[0m\n\u001b[0m\u001b[1;32m      4\u001b[0m \u001b[0;34m\u001b[0m\u001b[0m\n\u001b[1;32m      5\u001b[0m \u001b[0mdf_assets\u001b[0m\u001b[0;34m\u001b[0m\u001b[0;34m\u001b[0m\u001b[0m\n",
      "\u001b[0;32m/opt/anaconda3/envs/DSdegree/lib/python3.9/site-packages/pandas/core/frame.py\u001b[0m in \u001b[0;36m__init__\u001b[0;34m(self, data, index, columns, dtype, copy)\u001b[0m\n\u001b[1;32m    527\u001b[0m \u001b[0;34m\u001b[0m\u001b[0m\n\u001b[1;32m    528\u001b[0m         \u001b[0;32melif\u001b[0m \u001b[0misinstance\u001b[0m\u001b[0;34m(\u001b[0m\u001b[0mdata\u001b[0m\u001b[0;34m,\u001b[0m \u001b[0mdict\u001b[0m\u001b[0;34m)\u001b[0m\u001b[0;34m:\u001b[0m\u001b[0;34m\u001b[0m\u001b[0;34m\u001b[0m\u001b[0m\n\u001b[0;32m--> 529\u001b[0;31m             \u001b[0mmgr\u001b[0m \u001b[0;34m=\u001b[0m \u001b[0minit_dict\u001b[0m\u001b[0;34m(\u001b[0m\u001b[0mdata\u001b[0m\u001b[0;34m,\u001b[0m \u001b[0mindex\u001b[0m\u001b[0;34m,\u001b[0m \u001b[0mcolumns\u001b[0m\u001b[0;34m,\u001b[0m \u001b[0mdtype\u001b[0m\u001b[0;34m=\u001b[0m\u001b[0mdtype\u001b[0m\u001b[0;34m)\u001b[0m\u001b[0;34m\u001b[0m\u001b[0;34m\u001b[0m\u001b[0m\n\u001b[0m\u001b[1;32m    530\u001b[0m         \u001b[0;32melif\u001b[0m \u001b[0misinstance\u001b[0m\u001b[0;34m(\u001b[0m\u001b[0mdata\u001b[0m\u001b[0;34m,\u001b[0m \u001b[0mma\u001b[0m\u001b[0;34m.\u001b[0m\u001b[0mMaskedArray\u001b[0m\u001b[0;34m)\u001b[0m\u001b[0;34m:\u001b[0m\u001b[0;34m\u001b[0m\u001b[0;34m\u001b[0m\u001b[0m\n\u001b[1;32m    531\u001b[0m             \u001b[0;32mimport\u001b[0m \u001b[0mnumpy\u001b[0m\u001b[0;34m.\u001b[0m\u001b[0mma\u001b[0m\u001b[0;34m.\u001b[0m\u001b[0mmrecords\u001b[0m \u001b[0;32mas\u001b[0m \u001b[0mmrecords\u001b[0m\u001b[0;34m\u001b[0m\u001b[0;34m\u001b[0m\u001b[0m\n",
      "\u001b[0;32m/opt/anaconda3/envs/DSdegree/lib/python3.9/site-packages/pandas/core/internals/construction.py\u001b[0m in \u001b[0;36minit_dict\u001b[0;34m(data, index, columns, dtype)\u001b[0m\n\u001b[1;32m    285\u001b[0m             \u001b[0marr\u001b[0m \u001b[0;32mif\u001b[0m \u001b[0;32mnot\u001b[0m \u001b[0mis_datetime64tz_dtype\u001b[0m\u001b[0;34m(\u001b[0m\u001b[0marr\u001b[0m\u001b[0;34m)\u001b[0m \u001b[0;32melse\u001b[0m \u001b[0marr\u001b[0m\u001b[0;34m.\u001b[0m\u001b[0mcopy\u001b[0m\u001b[0;34m(\u001b[0m\u001b[0;34m)\u001b[0m \u001b[0;32mfor\u001b[0m \u001b[0marr\u001b[0m \u001b[0;32min\u001b[0m \u001b[0marrays\u001b[0m\u001b[0;34m\u001b[0m\u001b[0;34m\u001b[0m\u001b[0m\n\u001b[1;32m    286\u001b[0m         ]\n\u001b[0;32m--> 287\u001b[0;31m     \u001b[0;32mreturn\u001b[0m \u001b[0marrays_to_mgr\u001b[0m\u001b[0;34m(\u001b[0m\u001b[0marrays\u001b[0m\u001b[0;34m,\u001b[0m \u001b[0mdata_names\u001b[0m\u001b[0;34m,\u001b[0m \u001b[0mindex\u001b[0m\u001b[0;34m,\u001b[0m \u001b[0mcolumns\u001b[0m\u001b[0;34m,\u001b[0m \u001b[0mdtype\u001b[0m\u001b[0;34m=\u001b[0m\u001b[0mdtype\u001b[0m\u001b[0;34m)\u001b[0m\u001b[0;34m\u001b[0m\u001b[0;34m\u001b[0m\u001b[0m\n\u001b[0m\u001b[1;32m    288\u001b[0m \u001b[0;34m\u001b[0m\u001b[0m\n\u001b[1;32m    289\u001b[0m \u001b[0;34m\u001b[0m\u001b[0m\n",
      "\u001b[0;32m/opt/anaconda3/envs/DSdegree/lib/python3.9/site-packages/pandas/core/internals/construction.py\u001b[0m in \u001b[0;36marrays_to_mgr\u001b[0;34m(arrays, arr_names, index, columns, dtype, verify_integrity)\u001b[0m\n\u001b[1;32m     78\u001b[0m         \u001b[0;31m# figure out the index, if necessary\u001b[0m\u001b[0;34m\u001b[0m\u001b[0;34m\u001b[0m\u001b[0;34m\u001b[0m\u001b[0m\n\u001b[1;32m     79\u001b[0m         \u001b[0;32mif\u001b[0m \u001b[0mindex\u001b[0m \u001b[0;32mis\u001b[0m \u001b[0;32mNone\u001b[0m\u001b[0;34m:\u001b[0m\u001b[0;34m\u001b[0m\u001b[0;34m\u001b[0m\u001b[0m\n\u001b[0;32m---> 80\u001b[0;31m             \u001b[0mindex\u001b[0m \u001b[0;34m=\u001b[0m \u001b[0mextract_index\u001b[0m\u001b[0;34m(\u001b[0m\u001b[0marrays\u001b[0m\u001b[0;34m)\u001b[0m\u001b[0;34m\u001b[0m\u001b[0;34m\u001b[0m\u001b[0m\n\u001b[0m\u001b[1;32m     81\u001b[0m         \u001b[0;32melse\u001b[0m\u001b[0;34m:\u001b[0m\u001b[0;34m\u001b[0m\u001b[0;34m\u001b[0m\u001b[0m\n\u001b[1;32m     82\u001b[0m             \u001b[0mindex\u001b[0m \u001b[0;34m=\u001b[0m \u001b[0mensure_index\u001b[0m\u001b[0;34m(\u001b[0m\u001b[0mindex\u001b[0m\u001b[0;34m)\u001b[0m\u001b[0;34m\u001b[0m\u001b[0;34m\u001b[0m\u001b[0m\n",
      "\u001b[0;32m/opt/anaconda3/envs/DSdegree/lib/python3.9/site-packages/pandas/core/internals/construction.py\u001b[0m in \u001b[0;36mextract_index\u001b[0;34m(data)\u001b[0m\n\u001b[1;32m    389\u001b[0m \u001b[0;34m\u001b[0m\u001b[0m\n\u001b[1;32m    390\u001b[0m         \u001b[0;32mif\u001b[0m \u001b[0;32mnot\u001b[0m \u001b[0mindexes\u001b[0m \u001b[0;32mand\u001b[0m \u001b[0;32mnot\u001b[0m \u001b[0mraw_lengths\u001b[0m\u001b[0;34m:\u001b[0m\u001b[0;34m\u001b[0m\u001b[0;34m\u001b[0m\u001b[0m\n\u001b[0;32m--> 391\u001b[0;31m             \u001b[0;32mraise\u001b[0m \u001b[0mValueError\u001b[0m\u001b[0;34m(\u001b[0m\u001b[0;34m\"If using all scalar values, you must pass an index\"\u001b[0m\u001b[0;34m)\u001b[0m\u001b[0;34m\u001b[0m\u001b[0;34m\u001b[0m\u001b[0m\n\u001b[0m\u001b[1;32m    392\u001b[0m \u001b[0;34m\u001b[0m\u001b[0m\n\u001b[1;32m    393\u001b[0m         \u001b[0;32mif\u001b[0m \u001b[0mhave_series\u001b[0m\u001b[0;34m:\u001b[0m\u001b[0;34m\u001b[0m\u001b[0;34m\u001b[0m\u001b[0m\n",
      "\u001b[0;31mValueError\u001b[0m: If using all scalar values, you must pass an index"
     ]
    }
   ],
   "source": [
    "# Consolidando os dados em um único DF\n",
    "\n",
    "df_assets = pd.DataFrame(assets)\n",
    " \n",
    "df_assets"
   ]
  },
  {
   "cell_type": "code",
   "execution_count": 231,
   "metadata": {},
   "outputs": [],
   "source": [
    "df_ALPA3 = read_infoMoney('Bases/Alpargatas ALPA3 - Histórico InfoMoney.csv')\n",
    "df_ABEV3 = read_infoMoney('Bases/Ambev SA ABEV3 - Histórico InfoMoney.csv')\n",
    "df_PETR3 = read_infoMoney('Bases/Petrobras PETR3 - Histórico InfoMoney.csv')\n",
    "df_CIEL3 = read_infoMoney('Bases/Cielo CIEL3 - Histórico InfoMoney.csv')\n",
    "df_SEER3 = read_infoMoney('Bases/Ser Educacional SEER3 - Histórico InfoMoney.csv')\n",
    "df_MGLU3 = read_infoMoney('Bases/Magazine Luiza MGLU3 - Histórico InfoMoney.csv')\n",
    "df_ITUB3 = read_infoMoney('Bases/Itaú Unibanco ITUB3 - Histórico InfoMoney.csv')\n",
    "df_VALE3 = read_infoMoney('Bases/Vale S.A. VALE3 - Histórico InfoMoney.csv')"
   ]
  },
  {
   "cell_type": "code",
   "execution_count": 236,
   "metadata": {
    "collapsed": true
   },
   "outputs": [
    {
     "ename": "TypeError",
     "evalue": "merge() missing 1 required positional argument: 'right'",
     "output_type": "error",
     "traceback": [
      "\u001b[0;31m---------------------------------------------------------------------------\u001b[0m",
      "\u001b[0;31mTypeError\u001b[0m                                 Traceback (most recent call last)",
      "\u001b[0;32m<ipython-input-236-110065dfd619>\u001b[0m in \u001b[0;36m<module>\u001b[0;34m\u001b[0m\n\u001b[0;32m----> 1\u001b[0;31m df_assets = pd.merge([df_ALPA3, df_ABEV3,df_PETR3,df_CIEL3,df_SEER3,df_MGLU3,df_ITUB3,df_VALE3], on=\"DATA\", how='outer'\n\u001b[0m\u001b[1;32m      2\u001b[0m )\n\u001b[1;32m      3\u001b[0m                         \u001b[0;31m#keys =['ALPA3', 'ABEV3', 'PETR3', 'CIEL3', 'SEER3', 'MGLU3', 'ITUB3', 'VALE3'])\u001b[0m\u001b[0;34m\u001b[0m\u001b[0;34m\u001b[0m\u001b[0;34m\u001b[0m\u001b[0m\n\u001b[1;32m      4\u001b[0m \u001b[0;34m\u001b[0m\u001b[0m\n\u001b[1;32m      5\u001b[0m \u001b[0mdf_assets\u001b[0m\u001b[0;34m\u001b[0m\u001b[0;34m\u001b[0m\u001b[0m\n",
      "\u001b[0;31mTypeError\u001b[0m: merge() missing 1 required positional argument: 'right'"
     ]
    }
   ],
   "source": [
    "df_assets = pd.merge([df_ALPA3, df_ABEV3,df_PETR3,df_CIEL3,df_SEER3,df_MGLU3,df_ITUB3,df_VALE3], on=\"DATA\",\n",
    "                     how='outer')\n",
    "                        #keys =['ALPA3', 'ABEV3', 'PETR3', 'CIEL3', 'SEER3', 'MGLU3', 'ITUB3', 'VALE3'])\n",
    "\n",
    "df_assets"
   ]
  },
  {
   "cell_type": "code",
   "execution_count": 95,
   "metadata": {},
   "outputs": [],
   "source": [
    "from functools import reduce\n",
    "\n",
    "data_frames = [df_ALPA3, df_ABEV3,df_PETR3,df_CIEL3,df_SEER3,df_MGLU3,df_ITUB3,df_VALE3]\n",
    "\n",
    "df_merged = reduce(lambda  left,right: pd.merge(left,right,on=['DATA'],\n",
    "                                            how='outer'), data_frames)\n",
    "\n",
    "df_merged.columns = ['DATA','ALPA3', 'ABEV3', 'PETR3', 'CIEL3', 'SEER3', 'MGLU3', 'ITUB3', 'VALE3']"
   ]
  },
  {
   "cell_type": "code",
   "execution_count": 12,
   "metadata": {},
   "outputs": [
    {
     "data": {
      "text/html": [
       "<div>\n",
       "<style scoped>\n",
       "    .dataframe tbody tr th:only-of-type {\n",
       "        vertical-align: middle;\n",
       "    }\n",
       "\n",
       "    .dataframe tbody tr th {\n",
       "        vertical-align: top;\n",
       "    }\n",
       "\n",
       "    .dataframe thead th {\n",
       "        text-align: right;\n",
       "    }\n",
       "</style>\n",
       "<table border=\"1\" class=\"dataframe\">\n",
       "  <thead>\n",
       "    <tr style=\"text-align: right;\">\n",
       "      <th></th>\n",
       "      <th>DATA</th>\n",
       "      <th>ALPA3</th>\n",
       "      <th>ABEV3</th>\n",
       "      <th>PETR3</th>\n",
       "      <th>CIEL3</th>\n",
       "      <th>SEER3</th>\n",
       "      <th>MGLU3</th>\n",
       "      <th>ITUB3</th>\n",
       "      <th>VALE3</th>\n",
       "    </tr>\n",
       "  </thead>\n",
       "  <tbody>\n",
       "    <tr>\n",
       "      <th>0</th>\n",
       "      <td>2018-12-28</td>\n",
       "      <td>20.17</td>\n",
       "      <td>13.99</td>\n",
       "      <td>20.27</td>\n",
       "      <td>7.71</td>\n",
       "      <td>13.43</td>\n",
       "      <td>5.59</td>\n",
       "      <td>20.52</td>\n",
       "      <td>40.76</td>\n",
       "    </tr>\n",
       "    <tr>\n",
       "      <th>1</th>\n",
       "      <td>2018-12-27</td>\n",
       "      <td>19.66</td>\n",
       "      <td>13.73</td>\n",
       "      <td>19.51</td>\n",
       "      <td>7.55</td>\n",
       "      <td>13.22</td>\n",
       "      <td>5.38</td>\n",
       "      <td>20.14</td>\n",
       "      <td>39.56</td>\n",
       "    </tr>\n",
       "    <tr>\n",
       "      <th>2</th>\n",
       "      <td>2018-12-21</td>\n",
       "      <td>20.69</td>\n",
       "      <td>13.80</td>\n",
       "      <td>19.26</td>\n",
       "      <td>7.89</td>\n",
       "      <td>13.60</td>\n",
       "      <td>5.65</td>\n",
       "      <td>20.01</td>\n",
       "      <td>40.65</td>\n",
       "    </tr>\n",
       "    <tr>\n",
       "      <th>3</th>\n",
       "      <td>2018-12-20</td>\n",
       "      <td>20.03</td>\n",
       "      <td>13.83</td>\n",
       "      <td>19.24</td>\n",
       "      <td>7.85</td>\n",
       "      <td>13.43</td>\n",
       "      <td>5.50</td>\n",
       "      <td>20.35</td>\n",
       "      <td>39.81</td>\n",
       "    </tr>\n",
       "    <tr>\n",
       "      <th>4</th>\n",
       "      <td>2018-12-19</td>\n",
       "      <td>20.03</td>\n",
       "      <td>14.01</td>\n",
       "      <td>19.72</td>\n",
       "      <td>8.22</td>\n",
       "      <td>13.49</td>\n",
       "      <td>5.47</td>\n",
       "      <td>20.27</td>\n",
       "      <td>39.97</td>\n",
       "    </tr>\n",
       "  </tbody>\n",
       "</table>\n",
       "</div>"
      ],
      "text/plain": [
       "        DATA  ALPA3  ABEV3  PETR3 CIEL3  SEER3 MGLU3  ITUB3  VALE3\n",
       "0 2018-12-28  20.17  13.99  20.27  7.71  13.43  5.59  20.52  40.76\n",
       "1 2018-12-27  19.66  13.73  19.51  7.55  13.22  5.38  20.14  39.56\n",
       "2 2018-12-21  20.69  13.80  19.26  7.89  13.60  5.65  20.01  40.65\n",
       "3 2018-12-20  20.03  13.83  19.24  7.85  13.43  5.50  20.35  39.81\n",
       "4 2018-12-19  20.03  14.01  19.72  8.22  13.49  5.47  20.27  39.97"
      ]
     },
     "execution_count": 12,
     "metadata": {},
     "output_type": "execute_result"
    }
   ],
   "source": [
    "df_merged.head()"
   ]
  },
  {
   "cell_type": "code",
   "execution_count": 13,
   "metadata": {},
   "outputs": [
    {
     "name": "stdout",
     "output_type": "stream",
     "text": [
      "<class 'pandas.core.frame.DataFrame'>\n",
      "Int64Index: 245 entries, 0 to 244\n",
      "Data columns (total 9 columns):\n",
      " #   Column  Non-Null Count  Dtype         \n",
      "---  ------  --------------  -----         \n",
      " 0   DATA    245 non-null    datetime64[ns]\n",
      " 1   ALPA3   208 non-null    object        \n",
      " 2   ABEV3   245 non-null    object        \n",
      " 3   PETR3   245 non-null    object        \n",
      " 4   CIEL3   245 non-null    object        \n",
      " 5   SEER3   245 non-null    object        \n",
      " 6   MGLU3   245 non-null    object        \n",
      " 7   ITUB3   245 non-null    object        \n",
      " 8   VALE3   245 non-null    object        \n",
      "dtypes: datetime64[ns](1), object(8)\n",
      "memory usage: 19.1+ KB\n"
     ]
    }
   ],
   "source": [
    "df_merged.info()"
   ]
  },
  {
   "cell_type": "code",
   "execution_count": 97,
   "metadata": {},
   "outputs": [],
   "source": [
    "df_merged = df_merged[['ALPA3', 'ABEV3', 'PETR3', 'CIEL3', 'SEER3', 'MGLU3', 'ITUB3', 'VALE3']].applymap(lambda x: float(x))"
   ]
  },
  {
   "cell_type": "code",
   "execution_count": 14,
   "metadata": {},
   "outputs": [
    {
     "data": {
      "text/plain": [
       "DATA      0\n",
       "ALPA3    37\n",
       "ABEV3     0\n",
       "PETR3     0\n",
       "CIEL3     0\n",
       "SEER3     0\n",
       "MGLU3     0\n",
       "ITUB3     0\n",
       "VALE3     0\n",
       "dtype: int64"
      ]
     },
     "execution_count": 14,
     "metadata": {},
     "output_type": "execute_result"
    }
   ],
   "source": [
    "df_merged.isna().sum()"
   ]
  },
  {
   "cell_type": "code",
   "execution_count": 74,
   "metadata": {},
   "outputs": [],
   "source": [
    "def nan_mean(serie):\n",
    "    for i in range(len(serie), 1):\n",
    "        if serie[serie.isna()] == True:\n",
    "            serie = serie.fillna(np.mean(serie[i:-10]))\n",
    "        else:\n",
    "            continue\n",
    "    return serie"
   ]
  },
  {
   "cell_type": "code",
   "execution_count": 130,
   "metadata": {},
   "outputs": [
    {
     "data": {
      "text/plain": [
       "17.82454545454545"
      ]
     },
     "execution_count": 130,
     "metadata": {},
     "output_type": "execute_result"
    }
   ],
   "source": [
    "np.mean(df_merged['ALPA3'][10:-10])"
   ]
  },
  {
   "cell_type": "code",
   "execution_count": 125,
   "metadata": {},
   "outputs": [],
   "source": [
    "for i in range(len(df_merged['ALPA3']), 1):\n",
    "    if pd.isna(df_merged['ALPA3'][i]) == True:\n",
    "        df_merged['ALPA3'][i] = df_merged['ALPA3'][i:-10].mean()\n",
    "    else:\n",
    "        continue"
   ]
  },
  {
   "cell_type": "code",
   "execution_count": 124,
   "metadata": {},
   "outputs": [
    {
     "name": "stdout",
     "output_type": "stream",
     "text": [
      "p\n"
     ]
    }
   ],
   "source": [
    "if pd.isna(df_merged['ALPA3'][244]) == True:\n",
    "    print('p')"
   ]
  },
  {
   "cell_type": "code",
   "execution_count": 126,
   "metadata": {},
   "outputs": [
    {
     "data": {
      "text/plain": [
       "0      20.17\n",
       "1      19.66\n",
       "2      20.69\n",
       "3      20.03\n",
       "4      20.03\n",
       "       ...  \n",
       "240      NaN\n",
       "241      NaN\n",
       "242      NaN\n",
       "243      NaN\n",
       "244      NaN\n",
       "Name: ALPA3, Length: 245, dtype: float64"
      ]
     },
     "execution_count": 126,
     "metadata": {},
     "output_type": "execute_result"
    }
   ],
   "source": [
    "df_merged['ALPA3']"
   ]
  },
  {
   "cell_type": "code",
   "execution_count": 100,
   "metadata": {},
   "outputs": [
    {
     "data": {
      "text/plain": [
       "17.925432692307684"
      ]
     },
     "execution_count": 100,
     "metadata": {},
     "output_type": "execute_result"
    }
   ],
   "source": [
    "df_merged['ALPA3'].mean()"
   ]
  },
  {
   "cell_type": "code",
   "execution_count": 53,
   "metadata": {
    "collapsed": true
   },
   "outputs": [
    {
     "data": {
      "text/plain": [
       "208   NaN\n",
       "209   NaN\n",
       "210   NaN\n",
       "211   NaN\n",
       "212   NaN\n",
       "213   NaN\n",
       "214   NaN\n",
       "215   NaN\n",
       "216   NaN\n",
       "217   NaN\n",
       "218   NaN\n",
       "219   NaN\n",
       "220   NaN\n",
       "221   NaN\n",
       "222   NaN\n",
       "223   NaN\n",
       "224   NaN\n",
       "225   NaN\n",
       "226   NaN\n",
       "227   NaN\n",
       "228   NaN\n",
       "229   NaN\n",
       "230   NaN\n",
       "231   NaN\n",
       "232   NaN\n",
       "233   NaN\n",
       "234   NaN\n",
       "235   NaN\n",
       "236   NaN\n",
       "237   NaN\n",
       "238   NaN\n",
       "239   NaN\n",
       "240   NaN\n",
       "241   NaN\n",
       "242   NaN\n",
       "243   NaN\n",
       "244   NaN\n",
       "Name: ALPA3, dtype: float64"
      ]
     },
     "execution_count": 53,
     "metadata": {},
     "output_type": "execute_result"
    }
   ],
   "source": [
    "df_merged['ALPA3'][df_merged['ALPA3'].isna() == True]"
   ]
  },
  {
   "cell_type": "code",
   "execution_count": 21,
   "metadata": {},
   "outputs": [
    {
     "data": {
      "text/plain": [
       "str"
      ]
     },
     "execution_count": 21,
     "metadata": {},
     "output_type": "execute_result"
    }
   ],
   "source": [
    "type(df_merged['ALPA3'][0])"
   ]
  },
  {
   "cell_type": "code",
   "execution_count": 23,
   "metadata": {},
   "outputs": [
    {
     "data": {
      "text/plain": [
       "numpy.float64"
      ]
     },
     "execution_count": 23,
     "metadata": {},
     "output_type": "execute_result"
    }
   ],
   "source": [
    "type(df_merged['ALPA3'][0])"
   ]
  },
  {
   "cell_type": "code",
   "execution_count": 33,
   "metadata": {
    "id": "_z3JgnAVhPe3"
   },
   "outputs": [],
   "source": [
    "# Calcular retornos\n",
    "def calc_return(df, ativo, hp):\n",
    "    df_return[ativo] = pd.DataFrame(df[ativo]/df[ativo].shift(hp) - 1)\n",
    "    return df_return\n"
   ]
  },
  {
   "cell_type": "code",
   "execution_count": 34,
   "metadata": {},
   "outputs": [
    {
     "data": {
      "text/plain": [
       "Index(['ABEV3', 'PETR3', 'CIEL3', 'SEER3', 'MGLU3', 'ITUB3', 'VALE3'], dtype='object')"
      ]
     },
     "execution_count": 34,
     "metadata": {},
     "output_type": "execute_result"
    }
   ],
   "source": [
    "df_merged.columns[1:]"
   ]
  },
  {
   "cell_type": "code",
   "execution_count": 94,
   "metadata": {},
   "outputs": [
    {
     "ename": "TypeError",
     "evalue": "'type' object does not support item assignment",
     "output_type": "error",
     "traceback": [
      "\u001b[0;31m---------------------------------------------------------------------------\u001b[0m",
      "\u001b[0;31mTypeError\u001b[0m                                 Traceback (most recent call last)",
      "\u001b[0;32m<ipython-input-94-5d051faee50e>\u001b[0m in \u001b[0;36m<module>\u001b[0;34m\u001b[0m\n\u001b[0;32m----> 1\u001b[0;31m \u001b[0mcalc_return\u001b[0m\u001b[0;34m(\u001b[0m\u001b[0mdf_merged\u001b[0m\u001b[0;34m,\u001b[0m \u001b[0;34m'ALPA3'\u001b[0m\u001b[0;34m,\u001b[0m \u001b[0;36m1\u001b[0m\u001b[0;34m)\u001b[0m\u001b[0;34m\u001b[0m\u001b[0;34m\u001b[0m\u001b[0m\n\u001b[0m",
      "\u001b[0;32m<ipython-input-33-a6dd5fbfa84a>\u001b[0m in \u001b[0;36mcalc_return\u001b[0;34m(df, ativo, hp)\u001b[0m\n\u001b[1;32m      2\u001b[0m \u001b[0;32mdef\u001b[0m \u001b[0mcalc_return\u001b[0m\u001b[0;34m(\u001b[0m\u001b[0mdf\u001b[0m\u001b[0;34m,\u001b[0m \u001b[0mativo\u001b[0m\u001b[0;34m,\u001b[0m \u001b[0mhp\u001b[0m\u001b[0;34m)\u001b[0m\u001b[0;34m:\u001b[0m\u001b[0;34m\u001b[0m\u001b[0;34m\u001b[0m\u001b[0m\n\u001b[1;32m      3\u001b[0m     \u001b[0mdf_return\u001b[0m \u001b[0;34m=\u001b[0m \u001b[0mpd\u001b[0m\u001b[0;34m.\u001b[0m\u001b[0mDataFrame\u001b[0m\u001b[0;34m\u001b[0m\u001b[0;34m\u001b[0m\u001b[0m\n\u001b[0;32m----> 4\u001b[0;31m     \u001b[0mdf_return\u001b[0m\u001b[0;34m[\u001b[0m\u001b[0mativo\u001b[0m\u001b[0;34m]\u001b[0m \u001b[0;34m=\u001b[0m \u001b[0mpd\u001b[0m\u001b[0;34m.\u001b[0m\u001b[0mDataFrame\u001b[0m\u001b[0;34m(\u001b[0m\u001b[0mdf\u001b[0m\u001b[0;34m[\u001b[0m\u001b[0mativo\u001b[0m\u001b[0;34m]\u001b[0m\u001b[0;34m/\u001b[0m\u001b[0mdf\u001b[0m\u001b[0;34m[\u001b[0m\u001b[0mativo\u001b[0m\u001b[0;34m]\u001b[0m\u001b[0;34m.\u001b[0m\u001b[0mshift\u001b[0m\u001b[0;34m(\u001b[0m\u001b[0mhp\u001b[0m\u001b[0;34m)\u001b[0m \u001b[0;34m-\u001b[0m \u001b[0;36m1\u001b[0m\u001b[0;34m)\u001b[0m\u001b[0;34m\u001b[0m\u001b[0;34m\u001b[0m\u001b[0m\n\u001b[0m\u001b[1;32m      5\u001b[0m     \u001b[0;32mreturn\u001b[0m \u001b[0mdf_return\u001b[0m\u001b[0;34m\u001b[0m\u001b[0;34m\u001b[0m\u001b[0m\n",
      "\u001b[0;31mTypeError\u001b[0m: 'type' object does not support item assignment"
     ]
    }
   ],
   "source": [
    "calc_return(df_merged, 'ALPA3', 1)"
   ]
  },
  {
   "cell_type": "code",
   "execution_count": 93,
   "metadata": {},
   "outputs": [
    {
     "ename": "NameError",
     "evalue": "name 'df_return' is not defined",
     "output_type": "error",
     "traceback": [
      "\u001b[0;31m---------------------------------------------------------------------------\u001b[0m",
      "\u001b[0;31mNameError\u001b[0m                                 Traceback (most recent call last)",
      "\u001b[0;32m<ipython-input-93-316929061a14>\u001b[0m in \u001b[0;36m<module>\u001b[0;34m\u001b[0m\n\u001b[0;32m----> 1\u001b[0;31m \u001b[0mdf_return\u001b[0m\u001b[0;34m[\u001b[0m\u001b[0;34m'ALPA3'\u001b[0m\u001b[0;34m]\u001b[0m \u001b[0;34m=\u001b[0m \u001b[0mpd\u001b[0m\u001b[0;34m.\u001b[0m\u001b[0mDataFrame\u001b[0m\u001b[0;34m(\u001b[0m\u001b[0mdf_merged\u001b[0m\u001b[0;34m[\u001b[0m\u001b[0;34m'ALPA3'\u001b[0m\u001b[0;34m]\u001b[0m\u001b[0;34m/\u001b[0m\u001b[0mdf_merged\u001b[0m\u001b[0;34m[\u001b[0m\u001b[0;34m'ALPA3'\u001b[0m\u001b[0;34m]\u001b[0m\u001b[0;34m.\u001b[0m\u001b[0mshift\u001b[0m\u001b[0;34m(\u001b[0m\u001b[0;36m1\u001b[0m\u001b[0;34m)\u001b[0m \u001b[0;34m-\u001b[0m \u001b[0;36m1\u001b[0m\u001b[0;34m)\u001b[0m\u001b[0;34m\u001b[0m\u001b[0;34m\u001b[0m\u001b[0m\n\u001b[0m\u001b[1;32m      2\u001b[0m \u001b[0;34m\u001b[0m\u001b[0m\n\u001b[1;32m      3\u001b[0m \u001b[0mdf_return\u001b[0m\u001b[0;34m\u001b[0m\u001b[0;34m\u001b[0m\u001b[0m\n",
      "\u001b[0;31mNameError\u001b[0m: name 'df_return' is not defined"
     ]
    }
   ],
   "source": [
    "df_return['ALPA3'] = pd.DataFrame(df_merged['ALPA3']/df_merged['ALPA3'].shift(1) - 1)\n",
    "\n",
    "df_return"
   ]
  },
  {
   "cell_type": "code",
   "execution_count": 86,
   "metadata": {},
   "outputs": [
    {
     "data": {
      "text/html": [
       "<div>\n",
       "<style scoped>\n",
       "    .dataframe tbody tr th:only-of-type {\n",
       "        vertical-align: middle;\n",
       "    }\n",
       "\n",
       "    .dataframe tbody tr th {\n",
       "        vertical-align: top;\n",
       "    }\n",
       "\n",
       "    .dataframe thead th {\n",
       "        text-align: right;\n",
       "    }\n",
       "</style>\n",
       "<table border=\"1\" class=\"dataframe\">\n",
       "  <thead>\n",
       "    <tr style=\"text-align: right;\">\n",
       "      <th></th>\n",
       "      <th>ALPA3</th>\n",
       "    </tr>\n",
       "  </thead>\n",
       "  <tbody>\n",
       "    <tr>\n",
       "      <th>0</th>\n",
       "      <td>NaN</td>\n",
       "    </tr>\n",
       "    <tr>\n",
       "      <th>1</th>\n",
       "      <td>-0.025285</td>\n",
       "    </tr>\n",
       "    <tr>\n",
       "      <th>2</th>\n",
       "      <td>0.052391</td>\n",
       "    </tr>\n",
       "    <tr>\n",
       "      <th>3</th>\n",
       "      <td>-0.031899</td>\n",
       "    </tr>\n",
       "    <tr>\n",
       "      <th>4</th>\n",
       "      <td>0.000000</td>\n",
       "    </tr>\n",
       "    <tr>\n",
       "      <th>...</th>\n",
       "      <td>...</td>\n",
       "    </tr>\n",
       "    <tr>\n",
       "      <th>240</th>\n",
       "      <td>0.000000</td>\n",
       "    </tr>\n",
       "    <tr>\n",
       "      <th>241</th>\n",
       "      <td>0.000000</td>\n",
       "    </tr>\n",
       "    <tr>\n",
       "      <th>242</th>\n",
       "      <td>0.000000</td>\n",
       "    </tr>\n",
       "    <tr>\n",
       "      <th>243</th>\n",
       "      <td>0.000000</td>\n",
       "    </tr>\n",
       "    <tr>\n",
       "      <th>244</th>\n",
       "      <td>0.000000</td>\n",
       "    </tr>\n",
       "  </tbody>\n",
       "</table>\n",
       "<p>245 rows × 1 columns</p>\n",
       "</div>"
      ],
      "text/plain": [
       "        ALPA3\n",
       "0         NaN\n",
       "1   -0.025285\n",
       "2    0.052391\n",
       "3   -0.031899\n",
       "4    0.000000\n",
       "..        ...\n",
       "240  0.000000\n",
       "241  0.000000\n",
       "242  0.000000\n",
       "243  0.000000\n",
       "244  0.000000\n",
       "\n",
       "[245 rows x 1 columns]"
      ]
     },
     "execution_count": 86,
     "metadata": {},
     "output_type": "execute_result"
    }
   ],
   "source": [
    "pd.DataFrame(df_merged['ALPA3']/df_merged['ALPA3'].shift(1) - 1)"
   ]
  },
  {
   "cell_type": "code",
   "execution_count": 92,
   "metadata": {
    "scrolled": true
   },
   "outputs": [
    {
     "ename": "TypeError",
     "evalue": "'type' object does not support item assignment",
     "output_type": "error",
     "traceback": [
      "\u001b[0;31m---------------------------------------------------------------------------\u001b[0m",
      "\u001b[0;31mTypeError\u001b[0m                                 Traceback (most recent call last)",
      "\u001b[0;32m<ipython-input-92-9bc3f3a38ac4>\u001b[0m in \u001b[0;36m<module>\u001b[0;34m\u001b[0m\n\u001b[1;32m      1\u001b[0m \u001b[0;32mfor\u001b[0m \u001b[0mi\u001b[0m \u001b[0;32min\u001b[0m \u001b[0;34m[\u001b[0m\u001b[0;34m'ALPA3'\u001b[0m\u001b[0;34m,\u001b[0m \u001b[0;34m'ABEV3'\u001b[0m\u001b[0;34m,\u001b[0m \u001b[0;34m'PETR3'\u001b[0m\u001b[0;34m,\u001b[0m \u001b[0;34m'CIEL3'\u001b[0m\u001b[0;34m,\u001b[0m \u001b[0;34m'SEER3'\u001b[0m\u001b[0;34m,\u001b[0m \u001b[0;34m'MGLU3'\u001b[0m\u001b[0;34m,\u001b[0m \u001b[0;34m'ITUB3'\u001b[0m\u001b[0;34m,\u001b[0m \u001b[0;34m'VALE3'\u001b[0m\u001b[0;34m]\u001b[0m\u001b[0;34m:\u001b[0m\u001b[0;34m\u001b[0m\u001b[0;34m\u001b[0m\u001b[0m\n\u001b[0;32m----> 2\u001b[0;31m     \u001b[0mdf_return\u001b[0m \u001b[0;34m=\u001b[0m \u001b[0mcalc_return\u001b[0m\u001b[0;34m(\u001b[0m\u001b[0mdf_merged\u001b[0m\u001b[0;34m,\u001b[0m \u001b[0mi\u001b[0m\u001b[0;34m,\u001b[0m \u001b[0;36m1\u001b[0m\u001b[0;34m)\u001b[0m\u001b[0;34m\u001b[0m\u001b[0;34m\u001b[0m\u001b[0m\n\u001b[0m\u001b[1;32m      3\u001b[0m     \u001b[0mdf_return\u001b[0m\u001b[0;34m\u001b[0m\u001b[0;34m\u001b[0m\u001b[0m\n",
      "\u001b[0;32m<ipython-input-33-a6dd5fbfa84a>\u001b[0m in \u001b[0;36mcalc_return\u001b[0;34m(df, ativo, hp)\u001b[0m\n\u001b[1;32m      2\u001b[0m \u001b[0;32mdef\u001b[0m \u001b[0mcalc_return\u001b[0m\u001b[0;34m(\u001b[0m\u001b[0mdf\u001b[0m\u001b[0;34m,\u001b[0m \u001b[0mativo\u001b[0m\u001b[0;34m,\u001b[0m \u001b[0mhp\u001b[0m\u001b[0;34m)\u001b[0m\u001b[0;34m:\u001b[0m\u001b[0;34m\u001b[0m\u001b[0;34m\u001b[0m\u001b[0m\n\u001b[1;32m      3\u001b[0m     \u001b[0mdf_return\u001b[0m \u001b[0;34m=\u001b[0m \u001b[0mpd\u001b[0m\u001b[0;34m.\u001b[0m\u001b[0mDataFrame\u001b[0m\u001b[0;34m\u001b[0m\u001b[0;34m\u001b[0m\u001b[0m\n\u001b[0;32m----> 4\u001b[0;31m     \u001b[0mdf_return\u001b[0m\u001b[0;34m[\u001b[0m\u001b[0mativo\u001b[0m\u001b[0;34m]\u001b[0m \u001b[0;34m=\u001b[0m \u001b[0mpd\u001b[0m\u001b[0;34m.\u001b[0m\u001b[0mDataFrame\u001b[0m\u001b[0;34m(\u001b[0m\u001b[0mdf\u001b[0m\u001b[0;34m[\u001b[0m\u001b[0mativo\u001b[0m\u001b[0;34m]\u001b[0m\u001b[0;34m/\u001b[0m\u001b[0mdf\u001b[0m\u001b[0;34m[\u001b[0m\u001b[0mativo\u001b[0m\u001b[0;34m]\u001b[0m\u001b[0;34m.\u001b[0m\u001b[0mshift\u001b[0m\u001b[0;34m(\u001b[0m\u001b[0mhp\u001b[0m\u001b[0;34m)\u001b[0m \u001b[0;34m-\u001b[0m \u001b[0;36m1\u001b[0m\u001b[0;34m)\u001b[0m\u001b[0;34m\u001b[0m\u001b[0;34m\u001b[0m\u001b[0m\n\u001b[0m\u001b[1;32m      5\u001b[0m     \u001b[0;32mreturn\u001b[0m \u001b[0mdf_return\u001b[0m\u001b[0;34m\u001b[0m\u001b[0;34m\u001b[0m\u001b[0m\n",
      "\u001b[0;31mTypeError\u001b[0m: 'type' object does not support item assignment"
     ]
    }
   ],
   "source": [
    "for i in ['ALPA3', 'ABEV3', 'PETR3', 'CIEL3', 'SEER3', 'MGLU3', 'ITUB3', 'VALE3']:\n",
    "    df_return = calc_return(df_merged, i, 1)\n",
    "    df_return"
   ]
  },
  {
   "cell_type": "code",
   "execution_count": 134,
   "metadata": {},
   "outputs": [
    {
     "data": {
      "text/html": [
       "<div>\n",
       "<style scoped>\n",
       "    .dataframe tbody tr th:only-of-type {\n",
       "        vertical-align: middle;\n",
       "    }\n",
       "\n",
       "    .dataframe tbody tr th {\n",
       "        vertical-align: top;\n",
       "    }\n",
       "\n",
       "    .dataframe thead th {\n",
       "        text-align: right;\n",
       "    }\n",
       "</style>\n",
       "<table border=\"1\" class=\"dataframe\">\n",
       "  <thead>\n",
       "    <tr style=\"text-align: right;\">\n",
       "      <th></th>\n",
       "      <th>ABEV3</th>\n",
       "      <th>PETR3</th>\n",
       "      <th>CIEL3</th>\n",
       "      <th>SEER3</th>\n",
       "      <th>MGLU3</th>\n",
       "      <th>ITUB3</th>\n",
       "      <th>VALE3</th>\n",
       "    </tr>\n",
       "  </thead>\n",
       "  <tbody>\n",
       "    <tr>\n",
       "      <th>0</th>\n",
       "      <td>13.99</td>\n",
       "      <td>20.27</td>\n",
       "      <td>7.71</td>\n",
       "      <td>13.43</td>\n",
       "      <td>5.59</td>\n",
       "      <td>20.52</td>\n",
       "      <td>40.76</td>\n",
       "    </tr>\n",
       "    <tr>\n",
       "      <th>1</th>\n",
       "      <td>13.73</td>\n",
       "      <td>19.51</td>\n",
       "      <td>7.55</td>\n",
       "      <td>13.22</td>\n",
       "      <td>5.38</td>\n",
       "      <td>20.14</td>\n",
       "      <td>39.56</td>\n",
       "    </tr>\n",
       "    <tr>\n",
       "      <th>2</th>\n",
       "      <td>13.80</td>\n",
       "      <td>19.26</td>\n",
       "      <td>7.89</td>\n",
       "      <td>13.60</td>\n",
       "      <td>5.65</td>\n",
       "      <td>20.01</td>\n",
       "      <td>40.65</td>\n",
       "    </tr>\n",
       "    <tr>\n",
       "      <th>3</th>\n",
       "      <td>13.83</td>\n",
       "      <td>19.24</td>\n",
       "      <td>7.85</td>\n",
       "      <td>13.43</td>\n",
       "      <td>5.50</td>\n",
       "      <td>20.35</td>\n",
       "      <td>39.81</td>\n",
       "    </tr>\n",
       "    <tr>\n",
       "      <th>4</th>\n",
       "      <td>14.01</td>\n",
       "      <td>19.72</td>\n",
       "      <td>8.22</td>\n",
       "      <td>13.49</td>\n",
       "      <td>5.47</td>\n",
       "      <td>20.27</td>\n",
       "      <td>39.97</td>\n",
       "    </tr>\n",
       "    <tr>\n",
       "      <th>...</th>\n",
       "      <td>...</td>\n",
       "      <td>...</td>\n",
       "      <td>...</td>\n",
       "      <td>...</td>\n",
       "      <td>...</td>\n",
       "      <td>...</td>\n",
       "      <td>...</td>\n",
       "    </tr>\n",
       "    <tr>\n",
       "      <th>240</th>\n",
       "      <td>21.07</td>\n",
       "      <td>19.25</td>\n",
       "      <td>15.70</td>\n",
       "      <td>15.16</td>\n",
       "      <td>2.98</td>\n",
       "      <td>20.15</td>\n",
       "      <td>34.68</td>\n",
       "    </tr>\n",
       "    <tr>\n",
       "      <th>241</th>\n",
       "      <td>21.03</td>\n",
       "      <td>18.81</td>\n",
       "      <td>15.76</td>\n",
       "      <td>15.65</td>\n",
       "      <td>2.92</td>\n",
       "      <td>19.90</td>\n",
       "      <td>34.83</td>\n",
       "    </tr>\n",
       "    <tr>\n",
       "      <th>242</th>\n",
       "      <td>20.58</td>\n",
       "      <td>18.10</td>\n",
       "      <td>16.29</td>\n",
       "      <td>15.18</td>\n",
       "      <td>2.98</td>\n",
       "      <td>19.71</td>\n",
       "      <td>33.36</td>\n",
       "    </tr>\n",
       "    <tr>\n",
       "      <th>243</th>\n",
       "      <td>19.30</td>\n",
       "      <td>15.37</td>\n",
       "      <td>20.64</td>\n",
       "      <td>26.50</td>\n",
       "      <td>2.39</td>\n",
       "      <td>17.40</td>\n",
       "      <td>32.92</td>\n",
       "    </tr>\n",
       "    <tr>\n",
       "      <th>244</th>\n",
       "      <td>19.10</td>\n",
       "      <td>13.70</td>\n",
       "      <td>18.87</td>\n",
       "      <td>26.59</td>\n",
       "      <td>2.44</td>\n",
       "      <td>16.67</td>\n",
       "      <td>32.04</td>\n",
       "    </tr>\n",
       "  </tbody>\n",
       "</table>\n",
       "<p>245 rows × 7 columns</p>\n",
       "</div>"
      ],
      "text/plain": [
       "     ABEV3  PETR3  CIEL3  SEER3  MGLU3  ITUB3  VALE3\n",
       "0    13.99  20.27   7.71  13.43   5.59  20.52  40.76\n",
       "1    13.73  19.51   7.55  13.22   5.38  20.14  39.56\n",
       "2    13.80  19.26   7.89  13.60   5.65  20.01  40.65\n",
       "3    13.83  19.24   7.85  13.43   5.50  20.35  39.81\n",
       "4    14.01  19.72   8.22  13.49   5.47  20.27  39.97\n",
       "..     ...    ...    ...    ...    ...    ...    ...\n",
       "240  21.07  19.25  15.70  15.16   2.98  20.15  34.68\n",
       "241  21.03  18.81  15.76  15.65   2.92  19.90  34.83\n",
       "242  20.58  18.10  16.29  15.18   2.98  19.71  33.36\n",
       "243  19.30  15.37  20.64  26.50   2.39  17.40  32.92\n",
       "244  19.10  13.70  18.87  26.59   2.44  16.67  32.04\n",
       "\n",
       "[245 rows x 7 columns]"
      ]
     },
     "execution_count": 134,
     "metadata": {},
     "output_type": "execute_result"
    }
   ],
   "source": [
    "df_m = df_merged.drop('ALPA3', axis=1)\n",
    "\n",
    "df_m"
   ]
  },
  {
   "cell_type": "code",
   "execution_count": 147,
   "metadata": {},
   "outputs": [
    {
     "data": {
      "image/png": "[encoded data removed]",
      "text/plain": [
       "<Figure size 1440x720 with 2 Axes>"
      ]
     },
     "metadata": {
      "needs_background": "light"
     },
     "output_type": "display_data"
    }
   ],
   "source": [
    "import seaborn as sns\n",
    "import matplotlib.pyplot as plt\n",
    "\n",
    "plt.figure(figsize = (20,10))\n",
    "sns.heatmap(df_m.corr(), annot=True)\n",
    "plt.show()"
   ]
  },
  {
   "cell_type": "code",
   "execution_count": null,
   "metadata": {},
   "outputs": [],
   "source": [
    "# Cálculo da correlação entre os ativos\n",
    "correl_matrix =\n",
    "\n",
    "cov_matrix = "
   ]
  },
  {
   "cell_type": "code",
   "execution_count": 148,
   "metadata": {},
   "outputs": [
    {
     "data": {
      "image/png": "[encoded data removed]",
      "text/plain": [
       "<Figure size 1440x720 with 2 Axes>"
      ]
     },
     "metadata": {
      "needs_background": "light"
     },
     "output_type": "display_data"
    }
   ],
   "source": [
    "plt.figure(figsize = (20,10))\n",
    "sns.heatmap(df_m.cov(), annot=True)\n",
    "plt.show()"
   ]
  },
  {
   "cell_type": "code",
   "execution_count": null,
   "metadata": {},
   "outputs": [],
   "source": [
    "# Cálculo do retorno e desvio padrão dos ativos\n",
    "mi =  # média\n",
    "sigma =  # desvio padrão\n",
    "\n"
   ]
  },
  {
   "cell_type": "code",
   "execution_count": null,
   "metadata": {},
   "outputs": [],
   "source": [
    "# Gráfico dos ativos: retorno x risco\n"
   ]
  },
  {
   "cell_type": "code",
   "execution_count": null,
   "metadata": {
    "colab": {
     "base_uri": "https://localhost:8080/",
     "height": 247
    },
    "executionInfo": {
     "elapsed": 7,
     "status": "error",
     "timestamp": 1639696401637,
     "user": {
      "displayName": "Gustavo Previatto",
      "photoUrl": "https://lh3.googleusercontent.com/a-/AOh14GjObmSR4ca42p9ql2BFwTDO-JKvFQe5-jaQaAMvsA=s64",
      "userId": "00510215832706198465"
     },
     "user_tz": 180
    },
    "id": "YO3rclLShPe6",
    "outputId": "09e3a856-7656-4b12-fe8f-0ee90ff6ebd9"
   },
   "outputs": [],
   "source": [
    "# Compondo uma carteira \n"
   ]
  },
  {
   "cell_type": "code",
   "execution_count": null,
   "metadata": {},
   "outputs": [],
   "source": [
    "# Cálculo de retorno e risco da carteira\n",
    "mi_P = \n",
    "sigma_P = \n",
    "\n",
    "print(f'Retorno esperado: {round(mi_P*100, 4)}%, risco: {round(sigma_P*100, 4)}%')"
   ]
  },
  {
   "cell_type": "code",
   "execution_count": null,
   "metadata": {},
   "outputs": [],
   "source": [
    "# Simulando carteiras com pesos diferentes\n",
    "\n",
    "    \n",
    "# Gráfico\n",
    "   "
   ]
  },
  {
   "cell_type": "markdown",
   "metadata": {},
   "source": [
    "## Otimização de portfólio\n",
    "\n",
    "Todo processo de otimização necessita da elaboração de uma função objetiva e da definição de um conjunto de restrições (se houver). Por exemplo, podemos minimizar uma função custo ou maximizar uma função de lucro. No nosso caso, utilizando a teoria de portfólio de Markowitz, desejamos uma das duas coisas:\n",
    "- minimizar a volatilidade da carteira ou\n",
    "- maximizar os retornos esperados\n",
    "\n",
    "Analisaremos adiante cada um dos casos."
   ]
  },
  {
   "cell_type": "markdown",
   "metadata": {},
   "source": [
    "### Minimizar a volatilidade\n",
    "\n",
    "Neste caso, desejamos obter um conjunto de pesos para os ativos da análise, tais que o risco da carteira ponderada por estes pesos seja o menor possível. Podemos escrever este objetivo da seguinte forma:\n",
    "\n",
    "$$ min F(w) = \\sqrt{\\sum_{i=1}^N \\sum_{j=1}^N W_i \\cdot W_j \\cdot COV_{i,j}} $$\n",
    "\n",
    "Contudo, devemos considerar nossas restrições. A primeira delas refere-se aos valores dos pesos. Por definição, estes devem sempre somar 1. Portanto:\n",
    "\n",
    "$$\\sum_{i=1}^N W_i = 1 $$\n",
    "\n",
    "ou\n",
    "\n",
    "$$\\sum_{i=1}^N W_i - 1 = 0 $$\n",
    "\n",
    "A segunda restrição refere-se ao retorno desejado para a carteira, $\\mu$. Para que este objetivo seja alcançado, podemos definir:\n",
    "\n",
    "$$\\sum_{i=1}^N W_i r_i = \\mu $$\n",
    "\n",
    "ou\n",
    "\n",
    "$$\\sum_{i=1}^N W_i r_i - \\mu = 0 $$\n",
    "\n",
    "Por fim, precisamos que os pesos possuam valores positivos e sejam menores que 100\\%:\n",
    "\n",
    "$$ w_i >= 0, \\forall i=1,...,n $$\n",
    "$$ w_i <= 1, \\forall i=1,...,n $$\n",
    "\n",
    "O que o cálculo numérico realiza é uma busca para encontrar o melhor conjunto de pesos para cada ativo que garanta que as restrições são respeitadas e que se tenha o menor risco possível."
   ]
  },
  {
   "cell_type": "markdown",
   "metadata": {},
   "source": [
    "---\n",
    "\n",
    "Biblioteca Python utilizada para otimização:\n",
    "\n",
    "https://docs.scipy.org/doc/scipy/reference/generated/scipy.optimize.minimize.html\n",
    "\n",
    "---\n"
   ]
  },
  {
   "cell_type": "code",
   "execution_count": null,
   "metadata": {},
   "outputs": [],
   "source": [
    "# Definindo função objetivo\n",
    "def f_obj_min_risk(w):\n",
    "    return np.sqrt(np.dot(w, np.dot(cov_matrix, w)))\n",
    "\n",
    "# Definindo valor inicial\n",
    "w_ini = np.array([1/len(mi)]* len(mi)) "
   ]
  },
  {
   "cell_type": "code",
   "execution_count": null,
   "metadata": {},
   "outputs": [],
   "source": [
    "# Definindo o retorno desejado\n",
    "ret = 0.004\n",
    "\n",
    "# Definindo restrições\n",
    "constraints = [{'type': 'eq', 'fun': lambda x: sum(x) - 1}, # primeira restrição\n",
    "               {'type': 'eq', 'fun': lambda x: sum(x*mi) - ret}] # segunda restrição\n",
    "\n",
    "# Definindo limites para os pesos\n",
    "bounds = tuple((0, 1) for x in range(len(w))) "
   ]
  },
  {
   "cell_type": "code",
   "execution_count": null,
   "metadata": {},
   "outputs": [],
   "source": [
    "result = solver.minimize(f_obj_min_risk, w_ini, constraints=constraints, bounds=bounds, \n",
    "                         method='SLSQP')\n",
    "result"
   ]
  },
  {
   "cell_type": "code",
   "execution_count": null,
   "metadata": {},
   "outputs": [],
   "source": [
    "pesos = [round(w*100, 2) for w in result.x]\n",
    "print(f'Pesos (%): {pesos}\\nRisco portfólio (%): {round(result.fun*100,2)}')"
   ]
  },
  {
   "cell_type": "code",
   "execution_count": null,
   "metadata": {},
   "outputs": [],
   "source": [
    "# Simulando para diversos retornos (buscando a fronteira eficiente)\n",
    "ret_range = np.arange(0.0, 0.008, 0.0001)\n",
    "sigma_sim = []\n",
    "\n",
    "for ret in ret_range:\n",
    "    constraints = [{'type': 'eq', 'fun': lambda x: sum(x) - 1}, # primeira restrição\n",
    "                   {'type': 'eq', 'fun': lambda x: sum(x*mi) - ret}] # segunda restrição\n",
    "    \n",
    "    result = solver.minimize(f_obj_min_risk, w_ini, constraints=constraints, bounds=bounds, \n",
    "                         method='SLSQP')\n",
    "    sigma_sim.append(result.fun)\n",
    "    \n",
    "plt.plot(sigma_sim, ret_range, '--')"
   ]
  },
  {
   "cell_type": "markdown",
   "metadata": {},
   "source": [
    "### Maximizar o retorno\n",
    "Neste caso, fixamos a volatilidade desejada $\\sigma_P$ e definimos a função objetivo para ampliar os retornos calculados a partir dos pesos. O problema de otimização pode ser rezumido por:\n",
    "\n",
    "$$ max F(w) = \\sum_{i=1}^N W_i r_i $$\n",
    "\n",
    "Sujeito a:\n",
    "\n",
    "$$\\sqrt{\\sum_{i=1}^N \\sum_{j=1}^N W_i \\cdot W_j \\cdot COV_{i,j}} = \\sigma_P $$\n",
    "$$\\sum_{i=1}^N W_i - 1 = 0 $$\n",
    "$$ w_i >= 0, \\forall i=1,...,n $$\n",
    "$$ w_i <= 1, \\forall i=1,...,n $$\n",
    "\n",
    "Nas bibliotecas existentes, os problemas de otimização sempre são descritas como minimização. Mas isto não é um problema, pois podemos simplesmente inverter o sinal da função objetivo:\n",
    "\n",
    "$$ min F(w) = - \\sum_{i=1}^N W_i r_i $$"
   ]
  },
  {
   "cell_type": "code",
   "execution_count": null,
   "metadata": {
    "id": "XnwlfcHChPe9"
   },
   "outputs": [],
   "source": [
    "# Definindo função objetivo\n",
    "\n",
    "# Definindo valor inicial\n",
    "\n",
    "# Definindo o retorno desejado\n",
    "\n",
    "# Definindo restrições\n",
    "\n",
    "# Definindo limites para os pesos\n"
   ]
  },
  {
   "cell_type": "code",
   "execution_count": null,
   "metadata": {},
   "outputs": [],
   "source": [
    "# Imprime resultado\n"
   ]
  },
  {
   "cell_type": "code",
   "execution_count": null,
   "metadata": {},
   "outputs": [],
   "source": [
    "# Simulando para diversos riscos (buscando a fronteira eficiente)\n"
   ]
  },
  {
   "cell_type": "code",
   "execution_count": null,
   "metadata": {},
   "outputs": [],
   "source": [
    "# Gráfico \n"
   ]
  },
  {
   "cell_type": "markdown",
   "metadata": {},
   "source": [
    "________________________"
   ]
  },
  {
   "cell_type": "code",
   "execution_count": null,
   "metadata": {},
   "outputs": [],
   "source": [
    "# if you want to fill the values that don't exist in the lines of merged dataframe simply fill with required strings as\n",
    "\n",
    "df_merged = reduce(lambda  left,right: pd.merge(left,right,on=['DATE'],\n",
    "                                            how='outer'), data_frames).fillna('void')"
   ]
  },
  {
   "cell_type": "code",
   "execution_count": 165,
   "metadata": {},
   "outputs": [
    {
     "data": {
      "text/plain": [
       "{'ALPA3':            DATA FECHAMENTO\n",
       " 0    28/12/2018      20.17\n",
       " 1    27/12/2018      19.66\n",
       " 2    21/12/2018      20.69\n",
       " 3    20/12/2018      20.03\n",
       " 4    19/12/2018      20.03\n",
       " ..          ...        ...\n",
       " 203  09/01/2018      20.73\n",
       " 204  08/01/2018      20.43\n",
       " 205  05/01/2018      20.38\n",
       " 206  04/01/2018      20.48\n",
       " 207  03/01/2018      20.42\n",
       " \n",
       " [208 rows x 2 columns],\n",
       " 'ABEV3':            DATA FECHAMENTO\n",
       " 0    28/12/2018      13.99\n",
       " 1    27/12/2018      13.73\n",
       " 2    26/12/2018      13.77\n",
       " 3    21/12/2018      13.80\n",
       " 4    20/12/2018      13.83\n",
       " ..          ...        ...\n",
       " 240  08/01/2018      19.08\n",
       " 241  05/01/2018      19.11\n",
       " 242  04/01/2018      19.04\n",
       " 243  03/01/2018      19.15\n",
       " 244  02/01/2018      19.10\n",
       " \n",
       " [245 rows x 2 columns],\n",
       " 'PETR3':            DATA FECHAMENTO\n",
       " 0    28/12/2018      20.27\n",
       " 1    27/12/2018      19.51\n",
       " 2    26/12/2018      19.62\n",
       " 3    21/12/2018      19.26\n",
       " 4    20/12/2018      19.24\n",
       " ..          ...        ...\n",
       " 240  08/01/2018      14.32\n",
       " 241  05/01/2018      14.10\n",
       " 242  04/01/2018      13.99\n",
       " 243  03/01/2018      13.87\n",
       " 244  02/01/2018      13.70\n",
       " \n",
       " [245 rows x 2 columns],\n",
       " 'CIEL3':            DATA FECHAMENTO\n",
       " 0    28/12/2018       7.71\n",
       " 1    27/12/2018       7.55\n",
       " 2    26/12/2018       7.70\n",
       " 3    21/12/2018       7.89\n",
       " 4    20/12/2018       7.85\n",
       " ..          ...        ...\n",
       " 240  08/01/2018      19.58\n",
       " 241  05/01/2018      19.37\n",
       " 242  04/01/2018      19.15\n",
       " 243  03/01/2018      19.13\n",
       " 244  02/01/2018      18.87\n",
       " \n",
       " [245 rows x 2 columns],\n",
       " 'SEER3':            DATA FECHAMENTO\n",
       " 0    28/12/2018      13.43\n",
       " 1    27/12/2018      13.22\n",
       " 2    26/12/2018      13.40\n",
       " 3    21/12/2018      13.60\n",
       " 4    20/12/2018      13.43\n",
       " ..          ...        ...\n",
       " 240  08/01/2018      26.62\n",
       " 241  05/01/2018      26.57\n",
       " 242  04/01/2018      26.91\n",
       " 243  03/01/2018      26.50\n",
       " 244  02/01/2018      26.59\n",
       " \n",
       " [245 rows x 2 columns],\n",
       " 'MGLU3':            DATA FECHAMENTO\n",
       " 0    28/12/2018       5.59\n",
       " 1    27/12/2018       5.38\n",
       " 2    26/12/2018       5.46\n",
       " 3    21/12/2018       5.65\n",
       " 4    20/12/2018       5.50\n",
       " ..          ...        ...\n",
       " 240  08/01/2018       2.42\n",
       " 241  05/01/2018       2.42\n",
       " 242  04/01/2018       2.47\n",
       " 243  03/01/2018       2.41\n",
       " 244  02/01/2018       2.44\n",
       " \n",
       " [245 rows x 2 columns],\n",
       " 'ITUB3':            DATA FECHAMENTO\n",
       " 0    28/12/2018      20.52\n",
       " 1    27/12/2018      20.14\n",
       " 2    26/12/2018      19.81\n",
       " 3    21/12/2018      20.01\n",
       " 4    20/12/2018      20.35\n",
       " ..          ...        ...\n",
       " 240  08/01/2018      17.01\n",
       " 241  05/01/2018      17.11\n",
       " 242  04/01/2018      16.99\n",
       " 243  03/01/2018      16.80\n",
       " 244  02/01/2018      16.67\n",
       " \n",
       " [245 rows x 2 columns],\n",
       " 'VALE3':            DATA FECHAMENTO\n",
       " 0    28/12/2018      40.76\n",
       " 1    27/12/2018      39.56\n",
       " 2    26/12/2018      40.31\n",
       " 3    21/12/2018      40.65\n",
       " 4    20/12/2018      39.81\n",
       " ..          ...        ...\n",
       " 240  08/01/2018      33.20\n",
       " 241  05/01/2018      32.48\n",
       " 242  04/01/2018      31.98\n",
       " 243  03/01/2018      31.85\n",
       " 244  02/01/2018      32.04\n",
       " \n",
       " [245 rows x 2 columns]}"
      ]
     },
     "execution_count": 165,
     "metadata": {},
     "output_type": "execute_result"
    }
   ],
   "source": [
    "d1 = {k: read_infoMoney(v) for k, v in assets.items()}\n",
    "\n",
    "d1"
   ]
  },
  {
   "cell_type": "code",
   "execution_count": 188,
   "metadata": {
    "collapsed": true
   },
   "outputs": [
    {
     "ename": "ValueError",
     "evalue": "If using all scalar values, you must pass an index",
     "output_type": "error",
     "traceback": [
      "\u001b[0;31m---------------------------------------------------------------------------\u001b[0m",
      "\u001b[0;31mValueError\u001b[0m                                Traceback (most recent call last)",
      "\u001b[0;32m<ipython-input-188-8dd436621717>\u001b[0m in \u001b[0;36m<module>\u001b[0;34m\u001b[0m\n\u001b[0;32m----> 1\u001b[0;31m \u001b[0mpd_asset\u001b[0m \u001b[0;34m=\u001b[0m \u001b[0mpd\u001b[0m\u001b[0;34m.\u001b[0m\u001b[0mDataFrame\u001b[0m\u001b[0;34m(\u001b[0m\u001b[0md1\u001b[0m\u001b[0;34m)\u001b[0m\u001b[0;34m.\u001b[0m\u001b[0mstack\u001b[0m\u001b[0;34m(\u001b[0m\u001b[0;34m)\u001b[0m\u001b[0;34m.\u001b[0m\u001b[0mreset_index\u001b[0m\u001b[0;34m(\u001b[0m\u001b[0;34m)\u001b[0m\u001b[0;34m\u001b[0m\u001b[0;34m\u001b[0m\u001b[0m\n\u001b[0m\u001b[1;32m      2\u001b[0m \u001b[0mpd_asset\u001b[0m\u001b[0;34m.\u001b[0m\u001b[0mcolumns\u001b[0m \u001b[0;34m=\u001b[0m \u001b[0;34m[\u001b[0m\u001b[0;34m'ALPA3'\u001b[0m\u001b[0;34m,\u001b[0m \u001b[0;34m'ABEV3'\u001b[0m\u001b[0;34m,\u001b[0m \u001b[0;34m'PETR3'\u001b[0m\u001b[0;34m,\u001b[0m \u001b[0;34m'CIEL3'\u001b[0m\u001b[0;34m,\u001b[0m \u001b[0;34m'SEER3'\u001b[0m\u001b[0;34m,\u001b[0m \u001b[0;34m'MGLU3'\u001b[0m\u001b[0;34m,\u001b[0m \u001b[0;34m'ITUB3'\u001b[0m\u001b[0;34m,\u001b[0m \u001b[0;34m'VALE3'\u001b[0m\u001b[0;34m]\u001b[0m\u001b[0;34m\u001b[0m\u001b[0;34m\u001b[0m\u001b[0m\n",
      "\u001b[0;32m/opt/anaconda3/envs/DSdegree/lib/python3.9/site-packages/pandas/core/frame.py\u001b[0m in \u001b[0;36m__init__\u001b[0;34m(self, data, index, columns, dtype, copy)\u001b[0m\n\u001b[1;32m    527\u001b[0m \u001b[0;34m\u001b[0m\u001b[0m\n\u001b[1;32m    528\u001b[0m         \u001b[0;32melif\u001b[0m \u001b[0misinstance\u001b[0m\u001b[0;34m(\u001b[0m\u001b[0mdata\u001b[0m\u001b[0;34m,\u001b[0m \u001b[0mdict\u001b[0m\u001b[0;34m)\u001b[0m\u001b[0;34m:\u001b[0m\u001b[0;34m\u001b[0m\u001b[0;34m\u001b[0m\u001b[0m\n\u001b[0;32m--> 529\u001b[0;31m             \u001b[0mmgr\u001b[0m \u001b[0;34m=\u001b[0m \u001b[0minit_dict\u001b[0m\u001b[0;34m(\u001b[0m\u001b[0mdata\u001b[0m\u001b[0;34m,\u001b[0m \u001b[0mindex\u001b[0m\u001b[0;34m,\u001b[0m \u001b[0mcolumns\u001b[0m\u001b[0;34m,\u001b[0m \u001b[0mdtype\u001b[0m\u001b[0;34m=\u001b[0m\u001b[0mdtype\u001b[0m\u001b[0;34m)\u001b[0m\u001b[0;34m\u001b[0m\u001b[0;34m\u001b[0m\u001b[0m\n\u001b[0m\u001b[1;32m    530\u001b[0m         \u001b[0;32melif\u001b[0m \u001b[0misinstance\u001b[0m\u001b[0;34m(\u001b[0m\u001b[0mdata\u001b[0m\u001b[0;34m,\u001b[0m \u001b[0mma\u001b[0m\u001b[0;34m.\u001b[0m\u001b[0mMaskedArray\u001b[0m\u001b[0;34m)\u001b[0m\u001b[0;34m:\u001b[0m\u001b[0;34m\u001b[0m\u001b[0;34m\u001b[0m\u001b[0m\n\u001b[1;32m    531\u001b[0m             \u001b[0;32mimport\u001b[0m \u001b[0mnumpy\u001b[0m\u001b[0;34m.\u001b[0m\u001b[0mma\u001b[0m\u001b[0;34m.\u001b[0m\u001b[0mmrecords\u001b[0m \u001b[0;32mas\u001b[0m \u001b[0mmrecords\u001b[0m\u001b[0;34m\u001b[0m\u001b[0;34m\u001b[0m\u001b[0m\n",
      "\u001b[0;32m/opt/anaconda3/envs/DSdegree/lib/python3.9/site-packages/pandas/core/internals/construction.py\u001b[0m in \u001b[0;36minit_dict\u001b[0;34m(data, index, columns, dtype)\u001b[0m\n\u001b[1;32m    285\u001b[0m             \u001b[0marr\u001b[0m \u001b[0;32mif\u001b[0m \u001b[0;32mnot\u001b[0m \u001b[0mis_datetime64tz_dtype\u001b[0m\u001b[0;34m(\u001b[0m\u001b[0marr\u001b[0m\u001b[0;34m)\u001b[0m \u001b[0;32melse\u001b[0m \u001b[0marr\u001b[0m\u001b[0;34m.\u001b[0m\u001b[0mcopy\u001b[0m\u001b[0;34m(\u001b[0m\u001b[0;34m)\u001b[0m \u001b[0;32mfor\u001b[0m \u001b[0marr\u001b[0m \u001b[0;32min\u001b[0m \u001b[0marrays\u001b[0m\u001b[0;34m\u001b[0m\u001b[0;34m\u001b[0m\u001b[0m\n\u001b[1;32m    286\u001b[0m         ]\n\u001b[0;32m--> 287\u001b[0;31m     \u001b[0;32mreturn\u001b[0m \u001b[0marrays_to_mgr\u001b[0m\u001b[0;34m(\u001b[0m\u001b[0marrays\u001b[0m\u001b[0;34m,\u001b[0m \u001b[0mdata_names\u001b[0m\u001b[0;34m,\u001b[0m \u001b[0mindex\u001b[0m\u001b[0;34m,\u001b[0m \u001b[0mcolumns\u001b[0m\u001b[0;34m,\u001b[0m \u001b[0mdtype\u001b[0m\u001b[0;34m=\u001b[0m\u001b[0mdtype\u001b[0m\u001b[0;34m)\u001b[0m\u001b[0;34m\u001b[0m\u001b[0;34m\u001b[0m\u001b[0m\n\u001b[0m\u001b[1;32m    288\u001b[0m \u001b[0;34m\u001b[0m\u001b[0m\n\u001b[1;32m    289\u001b[0m \u001b[0;34m\u001b[0m\u001b[0m\n",
      "\u001b[0;32m/opt/anaconda3/envs/DSdegree/lib/python3.9/site-packages/pandas/core/internals/construction.py\u001b[0m in \u001b[0;36marrays_to_mgr\u001b[0;34m(arrays, arr_names, index, columns, dtype, verify_integrity)\u001b[0m\n\u001b[1;32m     78\u001b[0m         \u001b[0;31m# figure out the index, if necessary\u001b[0m\u001b[0;34m\u001b[0m\u001b[0;34m\u001b[0m\u001b[0;34m\u001b[0m\u001b[0m\n\u001b[1;32m     79\u001b[0m         \u001b[0;32mif\u001b[0m \u001b[0mindex\u001b[0m \u001b[0;32mis\u001b[0m \u001b[0;32mNone\u001b[0m\u001b[0;34m:\u001b[0m\u001b[0;34m\u001b[0m\u001b[0;34m\u001b[0m\u001b[0m\n\u001b[0;32m---> 80\u001b[0;31m             \u001b[0mindex\u001b[0m \u001b[0;34m=\u001b[0m \u001b[0mextract_index\u001b[0m\u001b[0;34m(\u001b[0m\u001b[0marrays\u001b[0m\u001b[0;34m)\u001b[0m\u001b[0;34m\u001b[0m\u001b[0;34m\u001b[0m\u001b[0m\n\u001b[0m\u001b[1;32m     81\u001b[0m         \u001b[0;32melse\u001b[0m\u001b[0;34m:\u001b[0m\u001b[0;34m\u001b[0m\u001b[0;34m\u001b[0m\u001b[0m\n\u001b[1;32m     82\u001b[0m             \u001b[0mindex\u001b[0m \u001b[0;34m=\u001b[0m \u001b[0mensure_index\u001b[0m\u001b[0;34m(\u001b[0m\u001b[0mindex\u001b[0m\u001b[0;34m)\u001b[0m\u001b[0;34m\u001b[0m\u001b[0;34m\u001b[0m\u001b[0m\n",
      "\u001b[0;32m/opt/anaconda3/envs/DSdegree/lib/python3.9/site-packages/pandas/core/internals/construction.py\u001b[0m in \u001b[0;36mextract_index\u001b[0;34m(data)\u001b[0m\n\u001b[1;32m    389\u001b[0m \u001b[0;34m\u001b[0m\u001b[0m\n\u001b[1;32m    390\u001b[0m         \u001b[0;32mif\u001b[0m \u001b[0;32mnot\u001b[0m \u001b[0mindexes\u001b[0m \u001b[0;32mand\u001b[0m \u001b[0;32mnot\u001b[0m \u001b[0mraw_lengths\u001b[0m\u001b[0;34m:\u001b[0m\u001b[0;34m\u001b[0m\u001b[0;34m\u001b[0m\u001b[0m\n\u001b[0;32m--> 391\u001b[0;31m             \u001b[0;32mraise\u001b[0m \u001b[0mValueError\u001b[0m\u001b[0;34m(\u001b[0m\u001b[0;34m\"If using all scalar values, you must pass an index\"\u001b[0m\u001b[0;34m)\u001b[0m\u001b[0;34m\u001b[0m\u001b[0;34m\u001b[0m\u001b[0m\n\u001b[0m\u001b[1;32m    392\u001b[0m \u001b[0;34m\u001b[0m\u001b[0m\n\u001b[1;32m    393\u001b[0m         \u001b[0;32mif\u001b[0m \u001b[0mhave_series\u001b[0m\u001b[0;34m:\u001b[0m\u001b[0;34m\u001b[0m\u001b[0;34m\u001b[0m\u001b[0m\n",
      "\u001b[0;31mValueError\u001b[0m: If using all scalar values, you must pass an index"
     ]
    }
   ],
   "source": [
    "pd_asset = pd.DataFrame(d1).stack().reset_index()\n",
    "pd_asset.columns = ['ALPA3', 'ABEV3', 'PETR3', 'CIEL3', 'SEER3', 'MGLU3', 'ITUB3', 'VALE3']"
   ]
  },
  {
   "cell_type": "code",
   "execution_count": 177,
   "metadata": {},
   "outputs": [
    {
     "data": {
      "text/plain": [
       "dict_keys(['ALPA3', 'ABEV3', 'PETR3', 'CIEL3', 'SEER3', 'MGLU3', 'ITUB3', 'VALE3'])"
      ]
     },
     "execution_count": 177,
     "metadata": {},
     "output_type": "execute_result"
    }
   ],
   "source": [
    "d1.keys()"
   ]
  }
 ],
 "metadata": {
  "colab": {
   "name": "Aula 11 - Atividade Teoria de portfólio, beta e CAPM.ipynb",
   "provenance": []
  },
  "kernelspec": {
   "display_name": "Python 3",
   "language": "python",
   "name": "python3"
  },
  "language_info": {
   "codemirror_mode": {
    "name": "ipython",
    "version": 3
   },
   "file_extension": ".py",
   "mimetype": "text/x-python",
   "name": "python",
   "nbconvert_exporter": "python",
   "pygments_lexer": "ipython3",
   "version": "3.9.5"
  },
  "latex_envs": {
   "LaTeX_envs_menu_present": true,
   "autoclose": false,
   "autocomplete": true,
   "bibliofile": "biblio.bib",
   "cite_by": "apalike",
   "current_citInitial": 1,
   "eqLabelWithNumbers": true,
   "eqNumInitial": 1,
   "hotkeys": {
    "equation": "Ctrl-E",
    "itemize": "Ctrl-I"
   },
   "labels_anchors": false,
   "latex_user_defs": false,
   "report_style_numbering": false,
   "user_envs_cfg": false
  },
  "toc": {
   "base_numbering": 1,
   "nav_menu": {},
   "number_sections": true,
   "sideBar": true,
   "skip_h1_title": false,
   "title_cell": "Table of Contents",
   "title_sidebar": "Contents",
   "toc_cell": false,
   "toc_position": {},
   "toc_section_display": true,
   "toc_window_display": false
  },
  "varInspector": {
   "cols": {
    "lenName": 16,
    "lenType": 16,
    "lenVar": 40
   },
   "kernels_config": {
    "python": {
     "delete_cmd_postfix": "",
     "delete_cmd_prefix": "del ",
     "library": "var_list.py",
     "varRefreshCmd": "print(var_dic_list())"
    },
    "r": {
     "delete_cmd_postfix": ") ",
     "delete_cmd_prefix": "rm(",
     "library": "var_list.r",
     "varRefreshCmd": "cat(var_dic_list()) "
    }
   },
   "types_to_exclude": [
    "module",
    "function",
    "builtin_function_or_method",
    "instance",
    "_Feature"
   ],
   "window_display": false
  }
 },
 "nbformat": 4,
 "nbformat_minor": 1
}
