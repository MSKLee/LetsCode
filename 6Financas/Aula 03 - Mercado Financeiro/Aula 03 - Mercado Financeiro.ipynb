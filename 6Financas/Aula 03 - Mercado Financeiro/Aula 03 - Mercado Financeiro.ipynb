{
 "cells": [
  {
   "cell_type": "markdown",
   "metadata": {},
   "source": [
    "# Mercado Financeiro\n",
    "\n",
    "Após completar este capítulo, você será capaz de:\n",
    "- Compreender o que é o mercado financeiro e sua regulação\n",
    "- Compreender o que são ativos e derivativos\n",
    "- Distinguir os tipos de mercado e os tipos de players"
   ]
  },
  {
   "cell_type": "markdown",
   "metadata": {},
   "source": [
    "## O que é mercado financeiro\n",
    "\n",
    "![Golden Bull - B3](Imagens/03_01_Bull_B3.jpg)\n",
    "\n",
    "Mercado financeiro é o espaço onde ocorrem negociações de instrumentos ou produtos financeiros como: títulos, moedas, ações, derivativos e mercadorias. Um mercado financeiro pode ser geral ou especializado.\n",
    "Cada país possui seu próprio mercado, embora seja possível ocorrer participação externa (inter-mercados).\n",
    "\n",
    "--------\n",
    "**Curiosidade**: *O que é Bull e bear market?*\n",
    "\n",
    "As expressões *bull market* e *bear market* representam tendências opostas do mercado financeiro. *Bull Market* é um mercado de alta, enquanto que *Bear Market* é um mercado de baixa. Elas comumente se referem a estados da bolsa de valores, mas podem ser usadas para qualquer tipo de ativo ou mercado.\n",
    "\n",
    "Você sabe de onde vieram essa expressão? \n",
    "Leia mais nesta [matéria](https://comoinvestir.thecap.com.br/bull-market-vs-bear-market-diferencas/).\n",
    "\n",
    "----------"
   ]
  },
  {
   "cell_type": "markdown",
   "metadata": {},
   "source": [
    "**Ativos financeiros** são ativos que fornecem um\n",
    "fluxo de dinheiro. Representam uma promessa de\n",
    "pagamento em data futura. Exemplos: ações, títulos públicos e títulos corporativos.\n",
    "\n",
    "**Derivativos** são instrumentos financeiros que derivam seu valor de um ativo subjacente, que pode ser um ativo financeiro (ações, taxas de juros), ativos físicos (café, soja, moedas), uma taxa de referência (Selic), índice (IPCA) ou até mesmo outro derivativo. Exemplos: futuros, opções, CDS's (*Credit Default Swap*).\n",
    "\n",
    "As principais classes de ativos negociados são:\n",
    "\n",
    "- Mercado de capitais (renda variável: ações)\n",
    "- Mercado monetário (renda fixa: títulos, taxas de juros)\n",
    "- Mercado cambial (moedas estrangeiras)\n",
    "- Mercado de *comodities* (mercadorias)\n",
    "\n",
    "O sistema financeiro também engloba o segmento de seguros privados, previdência complementar, contratos de capitalização e fundos de pensão."
   ]
  },
  {
   "cell_type": "markdown",
   "metadata": {},
   "source": [
    "\n",
    "## Renda Fixa x Renda Variável\n",
    "\n",
    "**Ativos de Renda Fixa**: possuem fluxos certos e pagamento incondicional. Os rendimentos são predeterminados. Por exemplo: Título público que paga cupons semestrais.\n",
    "\n",
    "**Ativos de Renda Variável**: possuem fluxos incertos, com pagamento condicional a um evento. Por exemplo: Ações pagam dividendos condicional à existência de lucro no resultado da empresa no período."
   ]
  },
  {
   "cell_type": "markdown",
   "metadata": {},
   "source": [
    "## Participantes\n",
    "\n",
    "<img src=\"Imagens/03_06_Jogo.jpg\" alt=\"Aposta\" width=\"280\"/> vs <img src=\"Imagens/03_07_Hedge.jpg\" alt=\"Proteção\" width=\"302\"/>\n",
    "\n",
    "Os participantes do mercado financeiro são quem negocia (compra ou vende) instrumentos financeiros (ativos ou derivativos). Há três tipos de participantes, de acordo com o a intenção da negociação:\n",
    "\n",
    "- *Hedger*: é o agente que visa transferir seu risco para outro agente se proteger da flutuação dos preços no mercado, concentrando-se no negócio;\n",
    "- Especulador: é aquele que busca lucro através da  oscilação dos preços de mercado. Sua atuação envolve uma aposta  sobre a direção dos preços, se beneficiando do diferencial entre os preços de compra e venda;\n",
    "- Arbitrador: é o agente que se proveita de preços fora dos preços justos ou de diferenças entre mercados. Ele busca um \"lucro sem risco\" e atua como um regulador de mercados, equilibrando a oferta e a demanda, eliminando as possibilidades de arbitragem.\n",
    "\n",
    "**Exemplo 1**\n",
    "\n",
    "Considere o caso de uma empresa brasileira que realiza a exportação de um bem. Normalmente este tipo de operação é feita em dólares. Portanto, o custo de produção, que é realizada no Brasil é indexado em reais (moeda local), enquanto o lucro é indexado a dólar. \n",
    "\n",
    "Neste cenário, a variação da paridade das moedas pode afetar o balanço da empresa e é natural que ela busque se proteger desta oscilação através de contratos de derivativos como futuros ou moeda a termo. Este tipo de atuação é chamado *hedge*.\n",
    "\n",
    "Veja que não há intenção de obter lucro, mas sim de evitar oscilações no resultado da empresa, cujo negócio principal é a produção e exportação de um bem - e não ganhos financeiros."
   ]
  },
  {
   "cell_type": "markdown",
   "metadata": {},
   "source": [
    "## Órgãos reguladores\n",
    "\n",
    "A estrutura do **Sistema Financeiro Nacional** é dividida entre:\n",
    "\n",
    "- Órgãos normativos\n",
    "- Entidades supervisoras\n",
    "- Entidades operadoras\n",
    "\n",
    "### Órgãos Normativos\n",
    "\n",
    "Determinam as **normas e políticas** para o bom funcionamento do Sistema Financeiro Nacional.\n",
    "\n",
    "Os órgãos normativos são:\n",
    "\n",
    "- CMN - [Conselho Monetário Nacional](https://www.gov.br/fazenda/pt-br/assuntos/cmn)\n",
    "- CNSP - [Conselho Nacional de Seguros Privados](https://www.gov.br/fazenda/pt-br/assuntos/politica-microeconomica/atuacao-spe/conselho-nacional-seguros-privados)\n",
    "- CNPC - [Conselho Nactional de Previdência Complementar](https://www.gov.br/trabalho-e-previdencia/pt-br/acesso-a-informacao/participacao-social/conselhos-e-orgaos-colegiados/conselho-nacional-de-previdencia-complementar)\n",
    "\n",
    "#### Funções do CMN\n",
    "\n",
    "O CMN é o órgão normativo máximo do Sistema Financeiro Nacional e tem a responsabilidade de formular a política da moeda e do crédito, objetivando a estabilidade da moeda e o desenvolvimento econômico e social do País.\n",
    "\n",
    "Composição:\n",
    "- Ministro da Economia (presidente do Conselho)\n",
    "- Presidente do Banco Central\n",
    "- Secretário Especial de Fazenda do Ministério da Economia\n",
    "\n",
    "As funções do CMN são:\n",
    "\n",
    "- Estabelecer as diretrizes gerais das políticas monetária, cambial, creditícia, orçamentária e da dívida pública interna e externa;\n",
    "- Regular as condições de constituição, funcionamento e fiscalização das instituições financeiras;\n",
    "Adaptar o volume dos meios de pagamentos às reais necessidades da economia;\n",
    "- Regular o valor interno e externo da moeda e equilíbrio do balanço de pagamentos;\n",
    "Disciplinar os instrumentos de política monetária e cambial.\n",
    "\n",
    "Mais informações: [Secretaria do CMN](https://www.bcb.gov.br/acessoinformacao/cmn)"
   ]
  },
  {
   "cell_type": "markdown",
   "metadata": {},
   "source": [
    "### Entidades Supervisoras\n",
    "\n",
    "Fiscalizam as instituições financeiras para que os cidadãos e os integrantes do sistema financeiro sigam as regras definidas pelos órgãos normativos.\n",
    "\n",
    "As entidades supervisoras são:\n",
    "\n",
    "- BCB - [Banco Central do Brasil](https://www.bcb.gov.br/)\n",
    "- CVM - [Comissão de Valores Mobiliários](https://www.gov.br/cvm/pt-br)\n",
    "- Susep - [Superintendência de Seguros Privados](http://www.susep.gov.br)\n",
    "- Previc - [Superintendência Nacional de Previdência Complementar](https://www.gov.br/economia/pt-br/orgaos/entidades-vinculadas/autarquias/previc)\n",
    "\n",
    "<img src=\"Imagens/03_02_BCB_Logo.png\" alt=\"BCB\" width=\"120\"/>  <img src=\"Imagens/03_03_CVM_Logo.png\" alt=\"CVM\" width=\"120\"/>  <img src=\"Imagens/03_04_SUSEP_Logo.png\" alt=\"CVM\" width=\"120\"/>\n",
    "\n",
    "\n",
    "#### Funções do Banco Central\n",
    "\n",
    "Um banco central, em geral, desempenha as seguintes funções:\n",
    "- monopólio de emissão;\n",
    "- banqueiro do governo;\n",
    "- banco dos bancos;\n",
    "- supervisor do sistema financeiro;\n",
    "- executor da política monetária; e\n",
    "- executor da política cambial e depositário das reservas internacionais.\n",
    "\n",
    "Para mais informações: [Funções do Banco Central](https://www.bcb.gov.br/content/cidadaniafinanceira/Documents/publicacoes/serie_pmf/FAQ%2011-Fun%C3%A7%C3%B5es%20do%20Banco%20Central.pdf)\n",
    "\n",
    "#### Funções da CVM\n",
    "\n",
    "As principais funções da Comissão de Valores Mobiliários são fiscalizar, normatizar, disciplinar e desenvolver o mercado de valores mobiliários. \n",
    "\n",
    "- Garantir a transparência do mercado de valores mobiliários;\n",
    "- Organizar o funcionamento da Bolsa de Valores Brasileira; \n",
    "- Analisar as demonstrações que as empresas de capital aberto divulgam;\n",
    "- Garantir que o as informações dos ativos negociados e das instituições emissoras estejam acessíveis;\n",
    "- Diminuir a burocracia para investir;\n",
    "- Possibilitar o acesso às informações sobre os ativos;\n",
    "- E por fim, fiscalizar, conferir e punir possíveis fraudes. "
   ]
  },
  {
   "cell_type": "markdown",
   "metadata": {},
   "source": [
    "## Entidades Operadoras\n",
    "\n",
    "Instituições que prestam serviços ao público, no papel de **intermediário financeiro**.\n",
    "\n",
    "Os operadores são:\n",
    "\n",
    "- Bancos e instituições financeiras;\n",
    "- Bolsa de valores;\n",
    "- Corretoras.\n",
    "\n",
    "Visão geral:\n",
    "\n",
    "<img src=\"Imagens/03_05_composicao_SFN.png\" alt=\"Clearing House\" width=\"500\"/>\n",
    "Fonte: \n",
    "\n",
    "[Banco Central do Brasil](https://www.bcb.gov.br/pre/composicao/composicao.asp?frame=1) \n",
    "\n",
    "#### B3\n",
    "\n",
    "A [B3](https://www.b3.com.br/pt_br/b3/institucional/quem-somos/) é uma das principais empresas de infraestrutura de mercado financeiro no mundo, com atuação em ambiente de bolsa e de balcão. Sociedade de capital aberto – cujas ações (B3SA3) são negociadas no Novo Mercado –, a Companhia integra os índices Ibovespa, IBrX-50, IBrX e Itag, entre outros. \n",
    "\n",
    "As atividades incluem:\n",
    "\n",
    "- Criar e administrar de sistemas de negociação, compensação, liquidação, depósito e registro para todas as principais classes de ativos;\n",
    " - Operar como contraparte central garantidora para a maior parte das operações realizadas em seus mercados;\n",
    " - Oferecer serviços de central depositária e de central de registro;\n",
    " - Oferecer produtos e serviços que suportam o processo de análise e aprovação de crédito em todo o território nacional, tornando o processo de financiamento mais ágil e seguro.\n",
    "\n",
    "#### ANBIMA\n",
    "\n",
    "A ANBIMA (Associação Brasileira das Entidades dos Mercados Financeiro e de Capitais) é uma entidade que representa as instituições do mercado de capitais, como bancos, corretoras, gestoras, entre outros.\n",
    "\n",
    "Formada em 2009 com a fusão da ANBID (Associação Nacional dos Bancos de Investimento) com a ANDIMA (Associação Nacional das Instituições do Mercado Financeiro), é uma das maiores entidades financeiras do país.\n",
    "\n",
    "Suas principais funções são:\n",
    "\n",
    "- Atuar como agente regulador privado;\n",
    "- Representar e defender os interesses das instituições e estimular seu crescimento;\n",
    "- Informar os agentes a respeito de conteúdo produzido e adquirido pelo órgão e parceiros;\n",
    "- Educar e elevar os padrões da atuação de seus associados (concede certificações profissionais);\n",
    "- Estabelecer boas práticas e regras que estimular boas práticas no mercado de capitais;\n",
    "- Divulgar dados estatísticos para o mercado"
   ]
  },
  {
   "cell_type": "markdown",
   "metadata": {},
   "source": [
    "## Bolsa, Balcão e *Clearing House*\n",
    "\n",
    "<img src=\"Imagens/03_05_Clearing.png\" alt=\"Clearing House\" width=\"350\"/>\n",
    "\n",
    "**Mercado de bolsa** ou **pregão**: As negociações são realizadas na bolsa de valores de forma multilateral e centralizada. Para tal, as operações são padronizadas. Adicionalmente, as operações negociadas em bolsa possuem um **ajuste diário**. Exemplo de ativos negociados em bolsa: ações, opções, futuros. \n",
    "\n",
    "Ajuste diário é um acerto financeiro que pode ser tanto de débito quanto de crédito feito diretamente na conta do investidor na corretora. Ele funciona como um mecanismo que evita que haja uma inadimplência por parte de algum investidor. Essa equalização acontece sempre no término de cada pregão, e toma sempre como referência o preço do ajuste do pregão do dia.\n",
    "\n",
    "No Brasil há apenas uma bolsa de valores: [B3](http://www.b3.com.br/pt_br/).\n",
    "\n",
    "**Mercado de balcão**: As negociações são bilaterais e descentralizadas (um comprador e um vendedor). Em geral, são negociadas operações não padronizadas, como swaps, termos e diversas operações estruturadas.\n",
    "\n",
    "Ainda que as operações de balcão não sejam centralizadas, há a necessidade de registro em uma *clearing house* ou **câmara de compensação**.\n",
    "\n",
    "Uma câmara de compensação é uma instituição financeira formada para facilitar as transações de troca de pagamentos, valores mobiliários ou derivativos. É a instituição responsável pela liquidação e compensação de ativos do mercado financeiro.\n",
    "\n",
    "Os Sistemas e Câmaras de Liquidação e Compensação são responsáveis por garantir segurança e transparência às operações do mercado financeiro, executando e registrando todo o processo de compra e venda.\n",
    "\n",
    "No Brasil, há basicamente duas clearing houses em funcionamento: o Sistema Especial de Liquidação e Custódia – Selic e a Brasil, Bolsa, Balcão – B3.\n",
    "\n",
    "Enquanto a Selic incorpora o sistema responsável pela negociação dos títulos públicos federais, a B3 atua no âmbito privado, em operações que de títulos de renda fixa e variável, entre outros.\n",
    "\n",
    "Antigamente, havia ainda uma terceira clearing house, chamada de Central de Liquidação e Custódia de Títulos (Cetip). Em 2017, ela se fundiu com a Câmara de Ações da  BM&FBovespa, dando origem à B3, que existe até hoje."
   ]
  },
  {
   "cell_type": "markdown",
   "metadata": {},
   "source": [
    "## Referências\n",
    "\n",
    "- ANDIMA. Disponível em https://www.anbima.com.br/pt_br/pagina-inicial.htm\n",
    "- BANCO CENTRAL DO BRASIL. Disponível em www.bacen.com.br\n",
    "- BMFBOVESPA. Disponível em www.bmfbovespa.com.br\n",
    "- LIMA, I.S; LIMA, G.A.S. F; PIMENTEL, R.C. Curso de Mercado - Financeiro Tópicos Especiais. São Paulo: Ed. Atlas, 2006\n",
    "- SECURATO, J.R. Cálculo Financeiro de Tesourarias.São Paulo: Saint Paul Institute of Finance , 4ºed , 2008\n",
    "- SILVA, P.A. Renda Fixa Objetiva. ZTG Editora, 1ºed , 2004\n",
    "- TESOURO DIRETO. Disponível em www.tesourodireto.com.br"
   ]
  },
  {
   "cell_type": "markdown",
   "metadata": {},
   "source": [
    "## Prática\n",
    "\n",
    "Agora que vimos todos os membros do Mercado Financeiro, assim como seus deveres, papéis e responsabilidades, podemos entender um pouco melhor como isto tudos e aplica no dia-a-dia de um banco ou de uma gestora de recursos.\n",
    "\n",
    "A ideia aqui é apresentar uma **dinâmica** de trabalho para essas informações, ou seja, ensinar como usar esse conhecimento e estas ferramentar no dia-a-dia de trabalho.\n",
    "\n",
    "[Docs BACEN](https://www.bcb.gov.br/estabilidadefinanceira/buscanormas?numero=3684&dataInicioBusca=30%2F01%2F2000&dataFimBusca=02%2F02%2F2022&tipoDocumento=Todos)\n",
    "\n",
    "[Circular 3.896 - BACEN](https://www.bcb.gov.br/pre/normativos/busca/downloadNormativo.asp?arquivo=/Lists/Normativos/Attachments/50588/Circ_3896_v2_L.pdf)\n",
    "\n",
    "[Circular 3.895 - BACEN](https://www.bcb.gov.br/pre/normativos/busca/downloadNormativo.asp?arquivo=/Lists/Normativos/Attachments/50587/Circ_3895_v1_O.pdf)\n",
    "\n",
    "[Circular 3.644 - BACEN](https://www.bcb.gov.br/pre/normativos/busca/downloadNormativo.asp?arquivo=/Lists/Normativos/Attachments/48993/Circ_3644_v25_P.pdf)\n",
    "\n",
    "[Resolução 4.192 - BACEN](https://www.bcb.gov.br/pre/normativos/busca/downloadNormativo.asp?arquivo=/Lists/Normativos/Attachments/49007/Res_4192_v12_P.pdf)\n",
    "\n",
    "[Circular 3.684 - BACEN](https://www.bcb.gov.br/pre/normativos/busca/downloadNormativo.asp?arquivo=/Lists/Normativos/Attachments/48830/Circ_3684_v1_O.pdf)\n",
    "\n",
    "[Circular 3.921 - BACEN](https://www.bcb.gov.br/pre/normativos/busca/downloadNormativo.asp?arquivo=/Lists/Normativos/Attachments/50695/Circ_3921_v1_O.pdf)\n",
    "\n",
    "[Circular 3.848 - BACEN](https://www.bcb.gov.br/pre/normativos/busca/downloadNormativo.asp?arquivo=/Lists/Normativos/Attachments/50441/Circ_3848_v2_P.pdf)\n",
    "\n",
    "[Docs CVM](http://conteudo.cvm.gov.br/legislacao/instrucoes/inst555.html)"
   ]
  },
  {
   "cell_type": "code",
   "execution_count": 1,
   "metadata": {
    "ExecuteTime": {
     "end_time": "2022-02-03T00:33:59.745500Z",
     "start_time": "2022-02-03T00:33:59.678996Z"
    }
   },
   "outputs": [
    {
     "data": {
      "text/plain": [
       "1191064887.146242"
      ]
     },
     "execution_count": 1,
     "metadata": {},
     "output_type": "execute_result"
    }
   ],
   "source": [
    "1000*(1+62/100)**29"
   ]
  }
 ],
 "metadata": {
  "kernelspec": {
   "display_name": "Python 3 (ipykernel)",
   "language": "python",
   "name": "python3"
  },
  "language_info": {
   "codemirror_mode": {
    "name": "ipython",
    "version": 3
   },
   "file_extension": ".py",
   "mimetype": "text/x-python",
   "name": "python",
   "nbconvert_exporter": "python",
   "pygments_lexer": "ipython3",
   "version": "3.8.5"
  },
  "latex_envs": {
   "LaTeX_envs_menu_present": true,
   "autoclose": false,
   "autocomplete": true,
   "bibliofile": "biblio.bib",
   "cite_by": "apalike",
   "current_citInitial": 1,
   "eqLabelWithNumbers": true,
   "eqNumInitial": 1,
   "hotkeys": {
    "equation": "Ctrl-E",
    "itemize": "Ctrl-I"
   },
   "labels_anchors": false,
   "latex_user_defs": false,
   "report_style_numbering": false,
   "user_envs_cfg": false
  },
  "toc": {
   "base_numbering": 1,
   "nav_menu": {},
   "number_sections": true,
   "sideBar": true,
   "skip_h1_title": false,
   "title_cell": "Table of Contents",
   "title_sidebar": "Contents",
   "toc_cell": false,
   "toc_position": {},
   "toc_section_display": true,
   "toc_window_display": false
  },
  "varInspector": {
   "cols": {
    "lenName": 16,
    "lenType": 16,
    "lenVar": 40
   },
   "kernels_config": {
    "python": {
     "delete_cmd_postfix": "",
     "delete_cmd_prefix": "del ",
     "library": "var_list.py",
     "varRefreshCmd": "print(var_dic_list())"
    },
    "r": {
     "delete_cmd_postfix": ") ",
     "delete_cmd_prefix": "rm(",
     "library": "var_list.r",
     "varRefreshCmd": "cat(var_dic_list()) "
    }
   },
   "types_to_exclude": [
    "module",
    "function",
    "builtin_function_or_method",
    "instance",
    "_Feature"
   ],
   "window_display": false
  }
 },
 "nbformat": 4,
 "nbformat_minor": 4
}
