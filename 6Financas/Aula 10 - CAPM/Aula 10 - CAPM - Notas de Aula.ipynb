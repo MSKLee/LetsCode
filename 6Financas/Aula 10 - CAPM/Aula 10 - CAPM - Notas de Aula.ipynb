{
 "cells": [
  {
   "cell_type": "markdown",
   "metadata": {},
   "source": [
    "# Modelo de Precificação de Ativos - *Capital Asset Pricing Model* (*CAPM*)\n",
    "\n",
    "## Introdução\n",
    "\n",
    "O *CAPM* é derivado da teoria do portfólio e especifica o relacionamento entre risco e retorno exigido em ativos mantidos em carteiras diversificadas. \n",
    "\n",
    "Ele permite apurar a taxa de retorno mínima requerida pelos investidores e participa do processo de avaliação de tomada de decisões em condições de risco.\n",
    "\n",
    "### Aplicações do modelo\n",
    "- Conhecimento do risco da empresa mensurado pelo Beta da reta característica;\n",
    "- Cálculo do risco de uma carteira pela média ponderada dos Betas de cada componente, tornando mais eficiente a decisão de seleção da carteira;\n",
    "- Cálculo do custo de Oportunidade do acionista;\n",
    "- Estimativa de retorno desejado pelo investidor;\n",
    "- Avaliação do desempenho econômico (criação de valor) da empresa.\n",
    "\n",
    "### Hipóteses do modelo\n",
    "\n",
    "- Eficiência informativa do mercado\n",
    "- Investidores são avessos ao risco\n",
    "- Ausência de impostos, taxas, custos de transação e quaisquer outras restrições, inclusive orçamentárias\n",
    "- Investidores com expectativas idênticas\n",
    "- Existência de uma taxa de juros livre de risco"
   ]
  },
  {
   "cell_type": "markdown",
   "metadata": {},
   "source": [
    "## Reta do Mercado de Capitais ou *Capital Market Line* (*CML*)\n",
    "\n",
    "Podemos assumir que investidores avessos a risco escolheriam uma seleção de ativos sem risco, como títulos do governo ou até mesmo dinheiro em caixa. Os que necessitam de alta liquidez construiriam um portfólio misturado que combina ativos com e sem risco para satisfazer suas necessidades.\n",
    "\n",
    "Portanto, é necessário um modelo mais sofisticado que o proposto por Markovitz, em que os retornos de novos investimentos são comparados com o risco do portfólio de mercado.\n",
    "\n",
    "Em um mercado perfeito onde ativos com risco são negociados com a opção de emprestar ou tomar emprestado à taxa livre de risco (títulos governamentais, por exemplo), investidores não precisam calcular uma matriz de covariância para otimizar a carteira ideal (como vimos na aula anterior). Tudo o que é necessário é a covariância do retorno do ativo em questão e o retorno do portófilo ideal de mercado.\n",
    "\n",
    "Ao se admitir que uma carteira seja formada de ativos com risco combinados com ativos livres de risco (títulos governamentais, por exemplo), o conjunto de\n",
    "oportunidades de investimento assume a forma de uma linha reta, denominada **Reta do Mercado de Capitais**.\n",
    "\n",
    "![Capital market line](Imagens/11_01_Capital_Market_Line.png)\n",
    "\n",
    "A reta do mercado de capitais considera unicamente a taxa de retorno esperada e o risco de carteiras eficientes, distribuídas ao longo de seu segmento,\n",
    "oferecendo as melhores relações de risco e retorno.\n",
    "\n",
    "Sua contribuição é a descrição do **prêmio pelo risco de mercado** em decisões que envolvem incerteza.\n",
    "\n",
    "O portfolio ideal (*Ideal Market Portfolio*), também conhecido por carteira de mercado, é uma carteira diversificada contendo apenas risco sistemático (*proxy*: carteira Bovespa). O retorno desta carteira contém os juros de aplicações em títulos livres de risco mais um prêmio pelo risco de mercado.\n",
    "\n",
    "As carteiras à esquerda da carteira de mercado contém todas as possíveis combinações de ativos com e sem risco. As carteiras à direita da carteira de mercado são possíveis somente captando recursos à taxa livre de risco e aplicando em ativos com risco (ou seja, operar alavancado)."
   ]
  },
  {
   "cell_type": "markdown",
   "metadata": {},
   "source": [
    "---\n",
    "\n",
    "**Alavancagem**: Em finanças, alavancagem é um termo genérico que designa qualquer técnica utilizada para multiplicar a rentabilidade através de endividamento. Com esta estratégia, é possível aumentar as possibilidades de retornor maiores sem acrescentar nada ao custo inicial do investimento, tomando o valor necessário emprestado.\n",
    "\n",
    "---"
   ]
  },
  {
   "cell_type": "markdown",
   "metadata": {},
   "source": [
    "**Exemplo**\n",
    "\n",
    "Considere os seguintes retornos e desvios para um ativo A com risco e um ativo B sem risco:\n",
    "\n",
    "Ativo |  Retorno esperado | Desvio padrão\n",
    "------|-------------------|--------------\n",
    "A     |  18%              | 24%\n",
    "B     |  8%               | 0%\n",
    "\n",
    "Se um investidor constituir uma carteira com 40% de ativos com risco e 60\\% sem risco, teríamos:\n",
    "\n",
    "$$ Ret_P = 18\\% \\cdot 0.40 + 8\\% \\cdot 0.60 = 12\\% $$\n",
    "\n",
    "e \n",
    "\n",
    "$$\\sigma_P = (0.40^2 \\cdot 0.24^2)^{1/2} = 9.6\\% $$\n",
    "\n",
    "Agora, suponha que o investidor tenha tomado um empréstimo equivalente a 40\\% do seu capital e investido tudo em ativos de risco, cujo retorno esperado é de 18\\%. Considerando os custos que deverá pagar pelo seu empréstimo, que é equivalente a uma taxa sem risco de 8\\%, temos:\n",
    "\n",
    "$$ Ret_P^{Alav} = 1.40 \\cdot 18\\% - 0.40 \\cdot 8\\% = 22\\% $$\n",
    "\n",
    "O retorno esperado é maior que os 18\\% do ativo com risco devido à alavancagem, uma vez que ele está captando a uma taxa inferior (8\\%) ao retorno que sua aplicação no investimento de risco pode resultar (18\\%)."
   ]
  },
  {
   "cell_type": "markdown",
   "metadata": {},
   "source": [
    "As componentes do retorno da CML são (i) a remuneração de ativos livres de risco e (ii) um prêmio pelo risco.\n",
    "\n",
    "![CML e prêmio pelo risco](Imagens\\11_02_CML_Premio.png)\n",
    "\n",
    "\n",
    "A intersecção da reta do mercado de capitais é a taxa livre de risco ($R_f$), e sua inclinação por unidade de risco indica o prêmio pelo risco de mercado.\n",
    "\n",
    "A CML pode ser descrita pela seguinte expressão:\n",
    "\n",
    "$$ CML = R_f + \\frac{R_m - R_f}{\\sigma_m} \\cdot \\sigma_p $$\n",
    "\n",
    "A intersecção da reta do mercado de capitais é a taxa livre de risco ($R_f$), e sua inclinação ($\\frac{R_m - R_f}{\\sigma_m}$) indica o prêmio pelo risco de mercado por unidade de risco.\n"
   ]
  },
  {
   "cell_type": "markdown",
   "metadata": {},
   "source": [
    "### Reta característica\n",
    "\n",
    "A reta característica permite que se relacione o comportamento de um título com a carteira de mercado.\n",
    "Ela descreve como as ações se movem diante de alterações no mercado, tornando possível prever os resultados de uma ação dado o desempenho de mercado.\n",
    "\n",
    "Onde:\n",
    "- Coeficiente Alfa ($\\alpha$): exprime o retorno esperado do ativo na hipótese de o prêmio da carteira ser nulo.\n",
    "- Coeficiente Beta ($\\beta$): é o coeficiente angular da reta característica entre o retorno do ativo e o retorno de mercado.\n"
   ]
  },
  {
   "cell_type": "markdown",
   "metadata": {},
   "source": [
    "### Beta\n",
    "O Beta é uma medida de risco sistemático, é mensurado relativo a um benchmark da seguinte forma:\n",
    "\n",
    "$$ \\beta = \\frac{Cov_{A, M}}{\\sigma^2_M}$$\n",
    "\n",
    "Onde:\n",
    "\n",
    "- $Cov_{A, M}$ é a covariância entre o ativo e o benchmark M e\n",
    "- $\\sigma^2_M$ é a variância do benchmark M\n",
    "\n",
    "O Risco sistemático está relacionado com o mercado como um todo, não podendo ser eliminado pelo processo de diversificação. Dessa forma, a medida de risco relevante para um investidor diversificado é aquela que apresenta uma sensibilidade com o mercado, sendo calculada pela covariância dos retornos da ação e do mercado. Assim, o coeficiente beta passa a ser o\n",
    "indicador de risco sistemático.\n",
    "![Beta e regressão](Imagens\\11_03_Beta.png)\n",
    "\n",
    "Para o modelo CAPM, o retorno esperado $E(R_j)$ de um ativo apresenta uma correlação linear positiva com o risco sistemático, medido pelo coeficiente beta (inclinação da reta da regressão linear).\n",
    "\n",
    "O coeficiente beta superior a 1,0 mostra que a ação é agressiva, pois apresenta um risco sistemático mais elevado que o do mercado como um todo.\n",
    "\n",
    "Para calcular o beta de empresas fechadas, pode-se comparar com os betas de empresas com produtos similares ou mesmo usar a média dos betas das empresas do setor como um todo."
   ]
  },
  {
   "cell_type": "markdown",
   "metadata": {},
   "source": [
    "**Exemplo**\n",
    "\n",
    "Considere as séries de PETR4 e IBOV disponibilizadas.\n",
    "\n",
    "Faça o gráfico com a reta característica e calcule o beta."
   ]
  },
  {
   "cell_type": "code",
   "execution_count": 1,
   "metadata": {
    "ExecuteTime": {
     "end_time": "2022-02-18T22:29:39.477622Z",
     "start_time": "2022-02-18T22:29:30.657945Z"
    }
   },
   "outputs": [],
   "source": [
    "# Bibliotecas\n",
    "import numpy as np\n",
    "import pandas as pd\n",
    "import matplotlib.pyplot as plt\n",
    "from   sklearn.linear_model import LinearRegression\n",
    "import yahoo_fin.stock_info as si\n",
    "from scipy.optimize import minimize"
   ]
  },
  {
   "cell_type": "code",
   "execution_count": 2,
   "metadata": {
    "ExecuteTime": {
     "end_time": "2022-02-18T22:29:51.508478Z",
     "start_time": "2022-02-18T22:29:50.814358Z"
    }
   },
   "outputs": [
    {
     "data": {
      "text/html": [
       "<div>\n",
       "<style scoped>\n",
       "    .dataframe tbody tr th:only-of-type {\n",
       "        vertical-align: middle;\n",
       "    }\n",
       "\n",
       "    .dataframe tbody tr th {\n",
       "        vertical-align: top;\n",
       "    }\n",
       "\n",
       "    .dataframe thead th {\n",
       "        text-align: right;\n",
       "    }\n",
       "</style>\n",
       "<table border=\"1\" class=\"dataframe\">\n",
       "  <thead>\n",
       "    <tr style=\"text-align: right;\">\n",
       "      <th></th>\n",
       "      <th>adjclose</th>\n",
       "    </tr>\n",
       "  </thead>\n",
       "  <tbody>\n",
       "    <tr>\n",
       "      <th>2021-01-11</th>\n",
       "      <td>25.082762</td>\n",
       "    </tr>\n",
       "    <tr>\n",
       "      <th>2021-01-12</th>\n",
       "      <td>24.895817</td>\n",
       "    </tr>\n",
       "    <tr>\n",
       "      <th>2021-01-13</th>\n",
       "      <td>23.692888</td>\n",
       "    </tr>\n",
       "    <tr>\n",
       "      <th>2021-01-14</th>\n",
       "      <td>23.936726</td>\n",
       "    </tr>\n",
       "    <tr>\n",
       "      <th>2021-01-15</th>\n",
       "      <td>22.855713</td>\n",
       "    </tr>\n",
       "  </tbody>\n",
       "</table>\n",
       "</div>"
      ],
      "text/plain": [
       "             adjclose\n",
       "2021-01-11  25.082762\n",
       "2021-01-12  24.895817\n",
       "2021-01-13  23.692888\n",
       "2021-01-14  23.936726\n",
       "2021-01-15  22.855713"
      ]
     },
     "execution_count": 2,
     "metadata": {},
     "output_type": "execute_result"
    }
   ],
   "source": [
    "# Ler as bases\n",
    "# db_IBOV = pd.read_csv('Ibovespa (IBOV) - Histórico  InfoMoney.csv', sep=',')\n",
    "db_IBOV = si.get_data('^BVSP', start_date='01/10/2021', end_date='14/12/2021', index_as_date=True, interval='1d')\n",
    "# db_PETR = pd.read_csv('Petrobras PETR4 - Histórico  InfoMoney.csv', sep=',')\n",
    "db_PETR = si.get_data('PETR4.SA', start_date='01/10/2021', end_date='14/12/2021', index_as_date=True, interval='1d')\n",
    "\n",
    "# Tratamento das bases\n",
    "db_IBOV = db_IBOV[['adjclose']] # Apenas colunas desejadas\n",
    "#db_IBOV.columns = ['DATA', 'IBOV'] # Ajustando nome das colunas\n",
    "# db_IBOV = db_IBOV.set_index('DATA')\n",
    "\n",
    "db_PETR = db_PETR[['adjclose']] # Apenas colunas desejadas\n",
    "#db_PETR.columns = ['DATA', 'PETR'] # Ajustando nome das colunas\n",
    "# db_PETR = db_PETR.set_index('DATA')\n",
    "# db_PETR = db_PETR.replace(',','.', regex=True).astype(float)\n",
    "db_PETR.head(5)"
   ]
  },
  {
   "cell_type": "code",
   "execution_count": 3,
   "metadata": {
    "ExecuteTime": {
     "end_time": "2022-02-18T22:30:04.231119Z",
     "start_time": "2022-02-18T22:30:04.183476Z"
    }
   },
   "outputs": [
    {
     "data": {
      "text/html": [
       "<div>\n",
       "<style scoped>\n",
       "    .dataframe tbody tr th:only-of-type {\n",
       "        vertical-align: middle;\n",
       "    }\n",
       "\n",
       "    .dataframe tbody tr th {\n",
       "        vertical-align: top;\n",
       "    }\n",
       "\n",
       "    .dataframe thead th {\n",
       "        text-align: right;\n",
       "    }\n",
       "</style>\n",
       "<table border=\"1\" class=\"dataframe\">\n",
       "  <thead>\n",
       "    <tr style=\"text-align: right;\">\n",
       "      <th></th>\n",
       "      <th>IBOV</th>\n",
       "      <th>PETR</th>\n",
       "    </tr>\n",
       "  </thead>\n",
       "  <tbody>\n",
       "    <tr>\n",
       "      <th>2021-01-12</th>\n",
       "      <td>1191.0</td>\n",
       "      <td>-0.186945</td>\n",
       "    </tr>\n",
       "    <tr>\n",
       "      <th>2021-01-13</th>\n",
       "      <td>-1958.0</td>\n",
       "      <td>-1.202929</td>\n",
       "    </tr>\n",
       "    <tr>\n",
       "      <th>2021-01-14</th>\n",
       "      <td>1441.0</td>\n",
       "      <td>0.243837</td>\n",
       "    </tr>\n",
       "    <tr>\n",
       "      <th>2021-01-15</th>\n",
       "      <td>-2979.0</td>\n",
       "      <td>-1.081013</td>\n",
       "    </tr>\n",
       "    <tr>\n",
       "      <th>2021-01-18</th>\n",
       "      <td>740.0</td>\n",
       "      <td>-0.040642</td>\n",
       "    </tr>\n",
       "  </tbody>\n",
       "</table>\n",
       "</div>"
      ],
      "text/plain": [
       "              IBOV      PETR\n",
       "2021-01-12  1191.0 -0.186945\n",
       "2021-01-13 -1958.0 -1.202929\n",
       "2021-01-14  1441.0  0.243837\n",
       "2021-01-15 -2979.0 -1.081013\n",
       "2021-01-18   740.0 -0.040642"
      ]
     },
     "execution_count": 3,
     "metadata": {},
     "output_type": "execute_result"
    }
   ],
   "source": [
    "# Juntando os dados na mesma base\n",
    "df_all = pd.DataFrame()\n",
    "df_all['IBOV'] = db_IBOV['adjclose'] - db_IBOV['adjclose'].shift(1)\n",
    "df_all['PETR'] = db_PETR['adjclose'] - db_PETR['adjclose'].shift(1)\n",
    "df_all = df_all.dropna() # Limpando a base (removo linhas sem dados)\n",
    "df_all.head(5)"
   ]
  },
  {
   "cell_type": "code",
   "execution_count": 4,
   "metadata": {
    "ExecuteTime": {
     "end_time": "2022-02-18T22:30:33.543619Z",
     "start_time": "2022-02-18T22:30:32.784353Z"
    }
   },
   "outputs": [
    {
     "data": {
      "image/png": "[encoded data removed]",
      "text/plain": [
       "<Figure size 1152x576 with 1 Axes>"
      ]
     },
     "metadata": {
      "needs_background": "light"
     },
     "output_type": "display_data"
    }
   ],
   "source": [
    "# Analisando a correlação entre as séries via gráfico de dispersão\n",
    "plt.figure(figsize = (16,8))\n",
    "plt.scatter(\n",
    "    df_all['IBOV'], \n",
    "    df_all['PETR'], \n",
    "    c='orange')\n",
    "plt.xlabel(\" Ibov\")\n",
    "plt.ylabel(\" PETR4\")\n",
    "plt.show()"
   ]
  },
  {
   "cell_type": "code",
   "execution_count": 5,
   "metadata": {
    "ExecuteTime": {
     "end_time": "2022-02-18T22:31:58.710609Z",
     "start_time": "2022-02-18T22:31:58.684977Z"
    }
   },
   "outputs": [
    {
     "name": "stdout",
     "output_type": "stream",
     "text": [
      "O modelo é: PETR = 0.038564 + 0.00028811 IBOV\n"
     ]
    }
   ],
   "source": [
    "X = df_all['IBOV'].values.reshape(-1,1)\n",
    "Y = df_all['PETR'].values.reshape(-1,1)\n",
    "\n",
    "reg = LinearRegression()\n",
    "reg.fit(X, Y) # fit(x=Ibov, y=PETR)\n",
    "\n",
    "print(\"O modelo é: PETR = {:.5} + {:.5} IBOV\".format(reg.intercept_[0], reg.coef_[0][0]))"
   ]
  },
  {
   "cell_type": "code",
   "execution_count": 6,
   "metadata": {
    "ExecuteTime": {
     "end_time": "2022-02-18T22:32:27.992096Z",
     "start_time": "2022-02-18T22:32:27.973293Z"
    }
   },
   "outputs": [
    {
     "data": {
      "text/plain": [
       "0.0002881097555668824"
      ]
     },
     "execution_count": 6,
     "metadata": {},
     "output_type": "execute_result"
    }
   ],
   "source": [
    "# Calculando pela covariancia\n",
    "cov_matrix = df_all.cov()\n",
    "#df_all.corr()\n",
    "\n",
    "cov_matrix.iloc[0,1]/cov_matrix.iloc[0,0]"
   ]
  },
  {
   "cell_type": "markdown",
   "metadata": {},
   "source": [
    "### Beta de carteiras\n",
    "\n",
    "Na avaliação do risco de uma carteira, o beta será a média ponderada pela participação de cada ativo na carteira.\n",
    "\n",
    "$$ \\beta_P = \\sum_{i=1}^{n} W_i \\cdot \\beta_i $$\n"
   ]
  },
  {
   "cell_type": "markdown",
   "metadata": {},
   "source": [
    "## CAPM\n",
    "\n",
    "De acordo com o CAPM, a taxa de retorno exigida nas decisões de investimento é formada com base na remuneração de um ativo livre de risco mais um prêmio pelo risco identificado na decisão em avaliação:\n",
    "\n",
    "**Retorno exigido ($R_j$)= Taxa livre de risco + prêmio pelo risco**\n",
    "\n",
    "Admitindo $(R_m - R_f)$ como o prêmio pelo risco de mercado, temos:\n",
    "\n",
    "$$ R_j = R_f + (R_m - R_f) $$\n",
    "\n",
    "Sendo o beta a medida que relaciona o risco de uma ativo com o do mercado, conclui-se que:\n",
    "\n",
    "$$ E[R_j] = R_f + \\beta(R_m - R_f) $$\n",
    "\n",
    "Onde:\n",
    "\n",
    "- $E[R_j]$ é a taxa de retorno mínima requerida pelos investidores;\n",
    "- $R_f$ é a taxa de retorno de ativos livres de risco;\n",
    "- $\\beta$ é a medida de risco do ativo em relação ao risco sistemático de mercado;\n",
    "- $R_m$ é a rentabilidade oferecida pelo mercado em sua totalidade.\n",
    "\n",
    "Quando consideramos o Beta na equação, estamos dizendo que o risco do ativo pode ser diferente do risco de mercado, logo, o prêmio pelo risco deve considerar o risco do mercado e também o risco da empresa, representado pelo Beta."
   ]
  },
  {
   "cell_type": "markdown",
   "metadata": {},
   "source": [
    "## Críticas ao CAPM em Países Emergentes\n",
    "\n",
    "- Alta volatilidade dos indicadores financeiros de mercado (como a taxa livre de risco), portanto, pouca representatividade da média;\n",
    "- Reduzida liquidez dos papéis negociados: dificuldade para se estimar o beta da ação;\n",
    "- Problemas na obtenção da taxa de retorno da\n",
    "carteira de mercado (representatividade do Ibovespa);\n",
    "- Problemas de divulgação dos demonstrativos financeiros, que reduzem a qualidade das informações.\n",
    "\n",
    "Alternativa (Assaf Neto, Lima e Araújo, 2008): \"aplicação do modelo a partir de benchmark de uma\n",
    "economia mais estável, oferecendo indicadores de referência mais consistentes e representativos de um comportamento esperado futuro\".\n"
   ]
  },
  {
   "cell_type": "markdown",
   "metadata": {},
   "source": [
    "## Índices de avaliação de performance\n",
    "\n",
    "### Alfa de Jensen\n",
    "\n",
    "O Alfa de Jensen permite efetuar uma comparação entre os retornos esperados por uma ação e os retornos esperados pelo CAPM e é dado por:\n",
    "\n",
    "$$ \\alpha = R_f(1 - \\beta) $$\n",
    "\n",
    "Equivale à diferença entre o desempenho da carteira e o desempenho exigido pelo CAPM. É considerado uma medida de seletividade: habilidade do gestor em escolher os melhores ativos em um dado nível de risco sistemático. \n",
    "\n",
    "É utilizado tanto para avaliação de carteiras quanto para seleção de\n",
    "ativos individuais\n",
    "\n",
    "Quanto maior o $\\alpha$, melhor a performance. $\\alpha < 0$ indicam performance insuficiente para o nível de risco sistemático.\n",
    "\n",
    "**Desenvolvimento do índice**\n",
    "\n",
    "Do modelo CAPM:\n",
    "\n",
    "$$ R_j = R_f + \\beta (R_m - R_f) $$\n",
    "\n",
    "$$ R_j = R_f + \\beta R_m - \\beta R_f $$\n",
    "\n",
    "$$ R_j = R_f - \\beta R_f  + \\beta R_m$$\n",
    "\n",
    "$$ R_j = R_f (1 - \\beta)  + \\beta R_m$$\n",
    "\n",
    "Fazendo a comparação com a reta característica, temos que: $\\alpha = R_f (1 - \\beta) $."
   ]
  },
  {
   "cell_type": "markdown",
   "metadata": {},
   "source": [
    "**Exemplo**\n",
    "Suponha que uma empresa apura um beta igual a 1,45 baseado nos retornos auferidos nos últimos cinco anos. Sendo a taxa livre\n",
    "de risco anual igual a 7%, a estimativa do desempenho do parâmetro $R_f (1 - \\beta)$ da ação atinge:\n",
    "\n",
    "$$ R_f (1 - \\beta) = 7\\% (1 - 1,45) = -3,15\\% $$\n",
    "\n",
    "Se o ponto de intercepto da regressão linear traçada for de 1,5% (0,015), o desempenho da ação da empresa se apresenta 4,65\\% superior ao esperado, conforme padrões estabelecidos pelo CAPM, ou seja:\n",
    "\n",
    "$$ Ret = \\alpha - R_f(1 - \\beta) $$\n",
    "$$ Ret = 1,5\\% - (-3,15\\%) = 4,65\\% $$\n"
   ]
  },
  {
   "cell_type": "code",
   "execution_count": 7,
   "metadata": {
    "ExecuteTime": {
     "end_time": "2022-02-18T22:47:32.479578Z",
     "start_time": "2022-02-18T22:47:32.462487Z"
    }
   },
   "outputs": [
    {
     "name": "stdout",
     "output_type": "stream",
     "text": [
      "Alfa de Jensen: -3.15%\n",
      "Performance: 4.65%\n"
     ]
    }
   ],
   "source": [
    "beta = 1.45\n",
    "risk_free = 7/100\n",
    "\n",
    "alfa_jensen = risk_free * (1 - beta)\n",
    "print(f'Alfa de Jensen: {round(alfa_jensen*100, 2)}%')\n",
    "\n",
    "intercepto = 1.5/100\n",
    "excs_ret = intercepto - alfa_jensen\n",
    "print(f'Performance: {round(excs_ret*100, 2)}%')"
   ]
  },
  {
   "cell_type": "markdown",
   "metadata": {},
   "source": [
    "### Índice de Treynor\n",
    "\n",
    "O índice de Treynor (IT) equivale à inclinação da reta que passa pelo pont $R_f$ e pelo ponto $(\\beta_P, R_P)$.\n",
    "\n",
    "$$ IT = \\frac{R_P - R_f}{\\beta_P} $$\n",
    "\n",
    "Onde:\n",
    "\n",
    "- $IT$ é o índice de Treynor\n",
    "- $R_P$ é o retorno esperado de uma carteira constituída por ativos com risco\n",
    "- $\\beta_P$ é o beta da carteira em relação à carteira de mercado (risco sistemático)\n",
    "- $R_f$ é a taxa de juros livre de risco\n",
    "\n",
    "Quanto maior o IT, melhor a performance. É mais utilizado para ativos individuais do que carteiras.\n",
    "\n",
    "Caso o retorno da carteira seja inferior à livre de risco, o índice resulta num valor negativo e a interpretação não pode ser considerada."
   ]
  },
  {
   "cell_type": "code",
   "execution_count": 9,
   "metadata": {
    "ExecuteTime": {
     "end_time": "2022-02-18T22:50:25.065348Z",
     "start_time": "2022-02-18T22:50:25.045107Z"
    }
   },
   "outputs": [
    {
     "data": {
      "text/plain": [
       "0.02758620689655172"
      ]
     },
     "execution_count": 9,
     "metadata": {},
     "output_type": "execute_result"
    }
   ],
   "source": [
    "Rp = 11/100\n",
    "risk_free = 7/100\n",
    "beta = 1.45\n",
    "\n",
    "IT = (Rp - risk_free)/beta\n",
    "IT"
   ]
  },
  {
   "cell_type": "markdown",
   "metadata": {},
   "source": [
    "## Conteúdo adicional\n",
    "\n",
    "### Teoria de Apreçamento por arbitragem ou *Arbitrage Pricing Theory* (APT)\n",
    "\n",
    "o APT sugere que múltiplos fatores podem ajudar a explicar a taxa de retorno esperada de um ativo com risco. Esses fatores incluem índices de ações, títulos e commodities, assim como fatores macroeconômicos. Contudo, o modelo não nos diz quais desses fatores agregam ao poder explicativo.\n",
    "\n",
    "APT foi inicialmente proposto em 1976 pelo prof. Steve Ross. Diferente do CAPM, o APT não assume que investidores mantém portfólios eficientes e não assume aversão a risco. Ao contrário, o APT possui 3 hipóteses:\n",
    "\n",
    "- Os retornos dos ativos podem ser explicados por fatores sistêmicos;\n",
    "- Usando diversificação, investidores podem eliminar riscos específicos dos seus portfólios;\n",
    "- Não há oportunidade de arbitragem entre portfólios bem diversificados.\n",
    "\n",
    "De acordo com o APT, o retorno de um ativo é dado por:\n",
    "\n",
    "$$ R_i = E[R_i] + \\beta_{i1}(I_1 - E[I_1]) + ... + \\beta_{in}(I_n - E[I_n]) + e_i $$\n",
    "\n",
    "Onde:\n",
    "\n",
    "- $R_i$ é a taxa de retorno do ativo *i* com retorno esperado $E[R_i]$;\n",
    "- $(I_k - E[I_k])$ é a diferença entre o valor observado e o esperado do fator *k* (também conhecido como \"fator supresa\");\n",
    "- $\\beta_{ik}$ é um coeficiente medindo o efeito de mudanças do fator $I_k$ na taxa de retorno do ativo *i* e\n",
    "- $e_i$ é o fator de ruído (ou seja, o fator idiossincrático).\n",
    "\n",
    "APT foi testado posteriormente (1986) e Chen, Roll e Ross descobriram que o conjunto abaixo de fatores macroeconômicos eram importantes na explicabilidade das médias realizadas das taxas de retornos e, ações negociadas na NYSE.\n",
    "\n",
    "- *Spread* entre taxas de juros de curto e longo prazo;\n",
    "- Inflação esperada e não esperada;\n",
    "- Produção industrial (refletindo alterações nas expectativas do fluxo de caixa);\n",
    "- *Spread* enter taxas de juros de títulos corporativos de alto e baixo risco.\n",
    "\n",
    "O CAPM é um caso particular do modelo APT."
   ]
  },
  {
   "cell_type": "markdown",
   "metadata": {},
   "source": [
    "### Modelos de multifatores de risco e retorno\n",
    "\n",
    "Estudos empíricos de modelos de um único fator (ex: CAPM) indicam que seu poder explicativo é baixo. E alguns estudos adicionais indicam a existência de outros fatores relacionados a atributos da empresa (tamanho, razões financeiras, retornos históricos, etc) ambém são corretacionados à média das taxas de retornos.\n",
    "\n",
    "Em 1996, Fama e French apresentaram um modelo mullti-fator que captura estes fatores. O modelo deles extende o CAPM com a adição de dois fatores:\n",
    "\n",
    "- *Small Minus Big* (SMB): diferença entre os retornos de ações pequenas e ações grandes\n",
    "- *High Minus Low* (HML): diferença entre os retornos de ações com alto *book-to-market* e os retornos de ações que possuem um baixo *book-to-market*\n",
    "\n",
    "---\n",
    "*Book-to-market*: Por exemplo, um *book-to-market* acima de 1 é preferível para os gestores, pois significa que a ação da empresa está negociada a preços baixos, comparada com seu preço de book (valuation).\n",
    "\n",
    "---\n",
    "\n",
    "O modelo proposto por Fama e French é, portanto:\n",
    "\n",
    "$$ R_p - r_f =  \\beta_{P,m}(E[R_m] - r) + \\beta_{P,SMB} E[SMB] + \\beta_{P,HML} E[HML] $$\n",
    "\n",
    "Onde:\n",
    "\n",
    "- $E[R_P]$ é o retorno esperado do portfólio *P*;\n",
    "- $r$ é a taxa livre de risco;\n",
    "- $(E[R_m] - r), E[SMB]$ e $ E[HML]$ são os prêmios esperados;\n",
    "- As sensibilidades dos fatores $\\beta_{P,m}, \\beta_{P,SMB}$ e $\\beta_{P,HML}$ são os coeficientes da regressão da série temporal:\n",
    "\n",
    "$$ R_p - r_f = \\beta_{P,m}(R_m - r) + \\beta_{P,SMB}SMB + \\beta_{P,HML} HML + \\epsilon $$"
   ]
  },
  {
   "cell_type": "markdown",
   "metadata": {},
   "source": [
    "### Atividade \n",
    "Texto Damodaran - Diversificar ou não diversificar?"
   ]
  },
  {
   "cell_type": "code",
   "execution_count": null,
   "metadata": {},
   "outputs": [],
   "source": []
  }
 ],
 "metadata": {
  "kernelspec": {
   "display_name": "Python 3",
   "language": "python",
   "name": "python3"
  },
  "language_info": {
   "codemirror_mode": {
    "name": "ipython",
    "version": 3
   },
   "file_extension": ".py",
   "mimetype": "text/x-python",
   "name": "python",
   "nbconvert_exporter": "python",
   "pygments_lexer": "ipython3",
   "version": "3.9.5"
  },
  "latex_envs": {
   "LaTeX_envs_menu_present": true,
   "autoclose": false,
   "autocomplete": true,
   "bibliofile": "biblio.bib",
   "cite_by": "apalike",
   "current_citInitial": 1,
   "eqLabelWithNumbers": true,
   "eqNumInitial": 1,
   "hotkeys": {
    "equation": "Ctrl-E",
    "itemize": "Ctrl-I"
   },
   "labels_anchors": false,
   "latex_user_defs": false,
   "report_style_numbering": false,
   "user_envs_cfg": false
  },
  "toc": {
   "base_numbering": 1,
   "nav_menu": {},
   "number_sections": true,
   "sideBar": true,
   "skip_h1_title": false,
   "title_cell": "Table of Contents",
   "title_sidebar": "Contents",
   "toc_cell": false,
   "toc_position": {},
   "toc_section_display": true,
   "toc_window_display": false
  },
  "varInspector": {
   "cols": {
    "lenName": 16,
    "lenType": 16,
    "lenVar": 40
   },
   "kernels_config": {
    "python": {
     "delete_cmd_postfix": "",
     "delete_cmd_prefix": "del ",
     "library": "var_list.py",
     "varRefreshCmd": "print(var_dic_list())"
    },
    "r": {
     "delete_cmd_postfix": ") ",
     "delete_cmd_prefix": "rm(",
     "library": "var_list.r",
     "varRefreshCmd": "cat(var_dic_list()) "
    }
   },
   "types_to_exclude": [
    "module",
    "function",
    "builtin_function_or_method",
    "instance",
    "_Feature"
   ],
   "window_display": false
  }
 },
 "nbformat": 4,
 "nbformat_minor": 4
}
