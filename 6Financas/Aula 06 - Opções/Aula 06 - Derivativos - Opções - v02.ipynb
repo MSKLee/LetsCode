{
 "cells": [
  {
   "cell_type": "markdown",
   "metadata": {},
   "source": [
    "Após completar este capítulo, você será capaz de:\n",
    "\n",
    "- Compreender o que são opções e suas características;\n",
    "- Identificar os payoffs de diferentes opções e estratégias;\n",
    "- Calcular o prêmio de uma opção (call/put) com o modelo Black & Scholes;\n",
    "- Compreender as premissas do modelo B&S;\n",
    "- Identificar estratégias utilizando opções plain vanilla;\n",
    "- Compreender o que são as gregas;\n",
    "- Compreender o mecanismo de Delta hedging;"
   ]
  },
  {
   "cell_type": "code",
   "execution_count": 1,
   "metadata": {},
   "outputs": [],
   "source": [
    "# Biblioteca(s)\n",
    "import numpy as np\n",
    "import matplotlib.pyplot as plt # biblioteca de gráfico\n",
    "from matplotlib.ticker import NullFormatter # Remove os números dos eixos\n",
    "from scipy.stats import norm # distribuição normal"
   ]
  },
  {
   "cell_type": "markdown",
   "metadata": {},
   "source": [
    "## 1. Opções\n",
    "Um contrato de opção é um derivativo que dá ao seu detentor escolhas futuras. Podemos comparar opções a seguros: o detentor tem o direito, mas não a obrigação de realizar uma determinada ação durante ou ao final da \"vida\" do contrato.\n",
    "\n",
    "**Exemplo 1**\n",
    "\n",
    "Imagine que você comprou um carro e quer fazer um seguro contra danos: em troca de um pagamento inicial, a seguradora vai se comprometer a cobrir qualquer dano causado ao seu veículo por um prazo estipulado.\n",
    "\n",
    "Caso não ocorra nenhum acidente ou dano no seu carro, você não exercerá o direito de acionar o seguro, mas caso ocorra, a seguradora é obrigada a realizar o serviço necessário.\n"
   ]
  },
  {
   "cell_type": "markdown",
   "metadata": {},
   "source": [
    "### 1.1. Tipos\n",
    "Os dois tipos básicos de opções são:\n",
    "\n",
    "**Opção de compra (*Call*)**: dá ao seu detentor o direito, mas não a obrigação, de comprar um determinado ativo em uma data futura por um determinado preço de exercício.\n",
    "\n",
    "**Opção de venda (*Put*)**: dá ao seu detentor o direito, mas não a obrigação, de vender um determinado ativo em uma data futura por um determinado preço de exercício.\n",
    "\n",
    "Quando é chegado o dia do vencimento da opção, o comprador(ou detentor) da opçãoirá decidir se quer ou não adquirir o ativo subjacente pelo preço de exercício estabelecido no contrato. A parte vendedora (lançador da opção) terá a obrigação de realizar a venda do ativo pelo preço de exercício se esta for a vontade da parte compradora.\n",
    "\n",
    "As opções também se diferenciam com relação ao tipo de exercício. Os principais são:\n",
    "\n",
    "**Opções Europeias**: o exercicio só pode ser realizado no vencimento do contrato.\n",
    "\n",
    "**Opções Americanas**: o exercício pode ser realizado a qualquer momento até o vencimento do contrato.\n"
   ]
  },
  {
   "cell_type": "markdown",
   "metadata": {},
   "source": [
    "### 1.2. Características\n",
    "Temos as seguinte características para um contrato de opções:\n",
    "\n",
    "- **Ativo subjacente**: é o ativo que será comprado/vendido ao se exercer a opção;\n",
    "- **Maturidade**: é o prazo entre a abertura do contrato ($t=0$ e o vencimento ($t=T$);)\n",
    "- ***Strike***: estabelece o preço do ativo subjacente quando do exercício da opção (preço de exercício);\n",
    "- **Notional**: determina quantas unidades do ativo subjacente serão transacionadas;\n",
    "- **Tipo de opção**: determina qual é o direito do comprador (*call* ou *put*);\n",
    "- **Tipo de exercício**: determina em qual circunstância se dá a possibilidade de exercício da opção pelo comprador (exercício americano, europeu, etc);\n",
    "- **Comprador**: é detentor do direito de realizar o exercício da opção. Dizemos que esta parte possui uma posição comprada (*long*) no contrato de opção.\n",
    "- **Vendedor**: é a parte que será exercida pela contraparte. Dizemos que esta parte possui uma posição vendida (*short*) no contrato de opção.\n"
   ]
  },
  {
   "cell_type": "markdown",
   "metadata": {},
   "source": [
    "### 1.3. Payoff das opções\n",
    "\n",
    "O investidor só exererá a opção se o exercício for lucrativo. Caso contrário, o investidor deixará a opção expirar sem ser exercida.\n",
    "\n",
    "#### *Payoff* de uma *call*\n",
    "\n",
    "Considere uma *call* europeia, ou seja, opção de compra de um ativo que só pode ser exercida no vencimento. Seja *S_T* o valor do ativo no vencimento da opção e *K* o *strike* definido no contrato. Os possíveis cenários são:\n",
    "\n",
    "- Se *S_T* > *K*, o investidor exerce a opção, comprando o ativo por *K* e pode vendê-lo por *S_T*, obtendo o payoff de:\n",
    "\n",
    "$$ Payoff = S_T - K $$\n",
    "\n",
    "- Se *S_T* < *K* ou *S_T* = *K*, o investidor não exerce a opção e:\n",
    "\n",
    "$$ Payoff = 0$$\n",
    "\n",
    "Portanto, o *payoff* de uma posição comprada de uma *call* será dado por:\n",
    "\n",
    "$$ Payoff_{long, call} = max(S_T - K, 0) $$\n",
    "\n",
    "*Payoff* da posição *long* de uma *call*:\n",
    "![Payoff](Imagens/06_01_Payoff_call_long.png)\n",
    "\n",
    "Para a contraparte da operação, lançadora da opção, o payoff terá o mesmo valor, com sinal oposto. Portanto:\n",
    "\n",
    "$$ Payoff_{short, call} = -max(S_T - K, 0) $$\n",
    "\n",
    "*Payoff* da posição *short* de uma *call*:\n",
    "![Payoff](Imagens/06_02_Payoff_call_short.png)"
   ]
  },
  {
   "cell_type": "code",
   "execution_count": 8,
   "metadata": {},
   "outputs": [],
   "source": [
    "# Função para plotar o gráfico de payoff de uma opção\n",
    "def plot_payoff(S, Payoff, K=None):\n",
    "    \n",
    "    orange   = '#e58e26' # cores utilizadas\n",
    "    grayblue = '#0a3d62'\n",
    "    gray     = '#404040'\n",
    "    \n",
    "    fig, ax = plt.subplots(figsize=(10, 6)) # cria figura\n",
    "    ax.plot(S, [0]*len(S), color=gray) # plota a linha 0 em cinza\n",
    "    ax.plot(S, Payoff, color=orange) # plita o payoff em laranja\n",
    "    \n",
    "    if 'K' != None: # Se tiver recebido o valor K (strike)\n",
    "        ax.plot(K, 0, color=grayblue, marker='o')  # marca o strike em azul\n",
    "        ax.annotate('K', xy=(K, 1)) \n",
    "        \n",
    "    ax.set_xlabel('S_T') # título do eixo X\n",
    "    ax.set_ylabel('Payoff') # título do eixo Y\n",
    "    ax.xaxis.set_major_formatter(NullFormatter()) # remove o número do eixo X\n",
    "    # ax.yaxis.set_major_formatter(NullFormatter())\n",
    "    plt.show()   \n",
    "    #fig.savefig(path_out + 'Payoff.png', format='png') # se desejar salvar a figura\n",
    "    plt.close()\n",
    "    return"
   ]
  },
  {
   "cell_type": "code",
   "execution_count": 9,
   "metadata": {},
   "outputs": [
    {
     "data": {
      "image/png": "[encoded data removed]",
      "text/plain": [
       "<Figure size 720x432 with 1 Axes>"
      ]
     },
     "metadata": {
      "needs_background": "light"
     },
     "output_type": "display_data"
    }
   ],
   "source": [
    "# Simulando o payoff de uma posição long de uma call\n",
    "K = 25 # Strike\n",
    "S = list(range(0, 50)) # Cenários possíveis para S_T\n",
    "\n",
    "# Resultado de uma posição comprada de uma call (opção de compra)\n",
    "Payoff_call_long = [max(s - K, 0) for s in S] \n",
    "\n",
    "# gera gráfico\n",
    "plot_payoff(S, Payoff_call_long, K)\n"
   ]
  },
  {
   "cell_type": "code",
   "execution_count": 13,
   "metadata": {},
   "outputs": [
    {
     "data": {
      "image/png": "[encoded data removed]",
      "text/plain": [
       "<Figure size 720x432 with 1 Axes>"
      ]
     },
     "metadata": {
      "needs_background": "light"
     },
     "output_type": "display_data"
    }
   ],
   "source": [
    "# Payoff de uma posição short em call considerando custo do prêmio\n",
    "K = 25 # Strike \n",
    "S = list(range(0, 50)) # Cenários possíveis para S_T\n",
    "P = 2 # Valor do prêmio pago no início\n",
    "\n",
    "# Resultado de uma posição vendida (short) de uma call (opção de compra)\n",
    "Payoff_call_short = np.array([-max(s - K, 0) for s in S])\n",
    "\n",
    "# gera gráfico\n",
    "plot_payoff(S, Payoff_call_short, K)"
   ]
  },
  {
   "cell_type": "markdown",
   "metadata": {},
   "source": [
    "#### *Payoff* de uma *put*\n",
    "\n",
    "Considere agora uma posição comprada numa opção europeia de venda (*put*) sobre um ativo. Novamente, seja *S_T* o valor do ativo no vencimento da opção e *K* o *strike* definido no contrato.\n",
    "\n",
    "Neste caso, os possíveis cenários são:\n",
    "\n",
    "- Se *S_T* < *K*, o investidor exerce a opção, vendendo o ativo por *K* e pode comprá-lo por *S_T*, obtendo o payoff de:\n",
    "\n",
    "$$ Payoff = K - S_T $$\n",
    "\n",
    "- Se *S_T* > *K* ou *S_T* = *K*, o investidor não exerce a opção e:\n",
    "\n",
    "$$ Payoff = 0$$\n",
    "\n",
    "Portanto, o *payoff* de uma posição comprada de uma *put* será dado por:\n",
    "\n",
    "$$ Payoff_{long, put} = max(K - S_T, 0) $$\n",
    "\n",
    "*Payoff* da posição *long* de uma *put*:\n",
    "![Payoff](Imagens/06_03_Payoff_put_long.png)\n",
    "\n",
    "Para a contraparte da operação, lançadora da opção, o payoff terá o mesmo valor, com sinal oposto. Portanto:\n",
    "\n",
    "$$ Payoff_{short, put} = -max(K - S_T, 0) $$\n",
    "\n",
    "*Payoff* da posição *short* de uma *put*:\n",
    "![Payoff](Imagens/06_04_Payoff_put_short.png)"
   ]
  },
  {
   "cell_type": "code",
   "execution_count": 11,
   "metadata": {},
   "outputs": [
    {
     "data": {
      "image/png": "[encoded data removed]",
      "text/plain": [
       "<Figure size 720x432 with 1 Axes>"
      ]
     },
     "metadata": {
      "needs_background": "light"
     },
     "output_type": "display_data"
    }
   ],
   "source": [
    "# Simulando o payoff de uma posição long de uma put\n",
    "K = 25 # Strike \n",
    "S = list(range(0, 50)) # Cenários possíveis para S_T\n",
    "P = 2 # Valor do prêmio pago no início\n",
    "\n",
    "# Resultado de uma posição comprada de uma put (opção de venda) - opção de vender pelo valor K, se for vantajoso\n",
    "Payoff_put_long = np.array([max(K - s, 0) for s in S])\n",
    "\n",
    "# gera gráfico\n",
    "plot_payoff(S, Payoff_put_long, K)"
   ]
  },
  {
   "cell_type": "markdown",
   "metadata": {},
   "source": [
    "### 1.4 Prêmio\n",
    "\n",
    "Note que o *payoff* do comprador sempre é maior ou igual a zero, independente do resultado ou do exercício. Ou seja, quando o investidor possui uma posição comprada na opção, não existe a possibilidade de perder dinheiro. Analogamente, o *payoff* do lançador da opção será sempre menor ou igual a zero. Se não houvesse nenhum tipo de incentivo, ninguém gostaria de lançar opções.\n",
    "\n",
    "Por este motivo, ao contrário dos contratos a termo, nos contratos de opções, o comprador paga um **prêmio** ao vendedor no momento de abertura do contrato, gerando um fluxo de caixa. Este prêmio representa o valor de mercado da opção no momento de sua negociação. Há diversos modelos de apreçamento de opções para determinar o valor justo do prêmio e veremos os principais nas próximas aulas.\n"
   ]
  },
  {
   "cell_type": "code",
   "execution_count": 14,
   "metadata": {},
   "outputs": [
    {
     "data": {
      "image/png": "[encoded data removed]",
      "text/plain": [
       "<Figure size 720x432 with 1 Axes>"
      ]
     },
     "metadata": {
      "needs_background": "light"
     },
     "output_type": "display_data"
    }
   ],
   "source": [
    "# Simulando o payoff de uma posição long de uma call, considerando o custo inicial\n",
    "import numpy as np\n",
    "K = 25 # Strike \n",
    "S = list(range(0, 50)) # Cenários possíveis para S_T\n",
    "P1 = 3 # Valor do prêmio recebido no início\n",
    "\n",
    "# Resultado para uma posição comprada (long) de uma call (opção de compra), considerando o custo do prêmio pago P1\n",
    "Payoff_call_long = np.array([max(K - s, 0) for s in S]) - P1\n",
    "\n",
    "# gera gráfico\n",
    "plot_payoff(S, Payoff_call_long, K)"
   ]
  },
  {
   "cell_type": "code",
   "execution_count": 15,
   "metadata": {},
   "outputs": [
    {
     "data": {
      "image/png": "[encoded data removed]",
      "text/plain": [
       "<Figure size 720x432 with 1 Axes>"
      ]
     },
     "metadata": {
      "needs_background": "light"
     },
     "output_type": "display_data"
    }
   ],
   "source": [
    "# Simulando o payoff de uma posição short de uma put\n",
    "K = 25 # Strike \n",
    "S = list(range(0, 50)) # Cenários possíveis para S_T\n",
    "P = 2 # Valor do prêmio recebido no início\n",
    "\n",
    "# Resultado de uma posição comprada de uma put (opção de venda) - obrigação de comprar pelo valor K, se o comprador da opção desejar\n",
    "# considerando o valor do prêmio recebido P\n",
    "Payoff_put_short = - np.array([max(K - x, 0) for x in S]) + P\n",
    "\n",
    "# gera gráfico\n",
    "plot_payoff(S, Payoff_put_short, K)"
   ]
  },
  {
   "cell_type": "markdown",
   "metadata": {},
   "source": [
    "## 2. Black & Scholes\n",
    "\n",
    "O modelo original de Fisher Black e Myrion Scholes foi publicado em artigo em 1973 e estabelecia uma nova forma de precificar opções e de se proteger de seus riscos inerentes. Rober Merton, no mesmo ano, publicou outro artigo, incorporando novos elementos à análise, e consolidando o chamado modelo de Black-Scholes-Merton.\n",
    "\n",
    "### 2.1. Hipóteses\n",
    "São hipóteses do modelo de Black-Scholes:\n",
    "\n",
    "- o preço do ativo-objeto segue um movimento browniano geométrico;\n",
    "- o ativo-objeto não paga dividendos durante a vigência do contrato da opção;\n",
    "- não há custos de transação;\n",
    "- é permitido vender a descobero;\n",
    "- é permitido negociar continuamente qualquer fração do valor do ativo;\n",
    "- a taxa livre de risco (*r*) é constante e igual para todos os vencimentos;\n",
    "- não há oportunidades de arbitragem."
   ]
  },
  {
   "cell_type": "markdown",
   "metadata": {},
   "source": [
    "----\n",
    "Lembrete:\n",
    "$$ e^{-rT} = 1/ e^{rT} $$\n",
    "---"
   ]
  },
  {
   "cell_type": "markdown",
   "metadata": {},
   "source": [
    "### 2.2. A solução do modelo\n",
    "\n",
    "As fórmulas de Black-Scholes-Merton para os preços de opções de compra e venda europeias são:\n",
    "\n",
    "$$  c = S_0 N(d_1) - K e^{-rT} N(d_2) $$\n",
    "\n",
    "e \n",
    "\n",
    "$$ p = K e^{-rT} N(-d_2) - S_0 N(-d_1) $$\n",
    "\n",
    "Onde:\n",
    "\n",
    "$$ d_1 = \\frac{ ln(S_0/K) + (r + \\sigma^2/2) T }{ \\sigma \\sqrt T} $$\n",
    "\n",
    "$$ d_2 = \\frac{ ln(S_0/K) + (r - \\sigma^2/2) T }{ \\sigma \\sqrt T} = d_1 - \\sigma \\sqrt T $$\n",
    "\n",
    "A função *N(x)* é a função de distribuição de probabilidade cumulativa para uma variável com distribuição normal padrão. Em outras palavras, ela é a probabilidade de que uma variável com distribuição normal padrão será menor do que x. A função está ilustrada na figura abaixo. \n",
    "\n",
    "- As variáveis *c* e *p* são o preço da opção de compra e da de venda europeias, \n",
    "*S_0* é o preço da ação no tempo zero, \n",
    "- *K* é o preço de exercício (*strike*), \n",
    "- *r* é a taxa de juros livre de risco com capitalização contínua,\n",
    "- $\\sigma$ é a volatilidade do preço da ação e \n",
    "- *T* é o tempo até a maturidade da opção.\n",
    "\n",
    "![Distribuição normal](Imagens/06_07_Dist_Normal.png)\n"
   ]
  },
  {
   "cell_type": "code",
   "execution_count": 16,
   "metadata": {},
   "outputs": [],
   "source": [
    "# Funçõ que retorna  preço de uma call/put européia de acordo com o modelo B&S\n",
    "def calc_BS(S, K, r, T, sigma, tipo):\n",
    "    # Cálculo do d1\n",
    "    d1 = (np.log(S/K) + (r + sigma**2/2)*T) / sigma*np.sqrt(T)\n",
    "    # Cálculo do d2\n",
    "    d2 = d1 - sigma*np.sqrt(T)\n",
    "    \n",
    "    if tipo == 'call':\n",
    "        # Preço se for call (opção de compra)\n",
    "        price = S*norm.cdf(d1) - K*np.exp(-r*T)*norm.cdf(d2)\n",
    "    elif tipo == 'put':\n",
    "        # preço se for put (opção de venda)\n",
    "        price = K*np.exp(-r*T)*norm.cdf(-d2) - S*norm.cdf(-d1)\n",
    "    else:\n",
    "        # Não sei o tipo, não calculo\n",
    "        price = None\n",
    "    \n",
    "    return price # Preço/prêmio"
   ]
  },
  {
   "cell_type": "code",
   "execution_count": 17,
   "metadata": {},
   "outputs": [
    {
     "data": {
      "text/plain": [
       "0.07371503782228069"
      ]
     },
     "execution_count": 17,
     "metadata": {},
     "output_type": "execute_result"
    }
   ],
   "source": [
    "# conversão do CDI composto para contínuo (tudo a.a.)\n",
    "r = np.log(1 + 0.0765)\n",
    "r"
   ]
  },
  {
   "cell_type": "code",
   "execution_count": 18,
   "metadata": {},
   "outputs": [
    {
     "name": "stdout",
     "output_type": "stream",
     "text": [
      "Preço da call: 6.06. \n",
      "Preço da put: 5.13.\n"
     ]
    }
   ],
   "source": [
    "# Exemplo Black-Scholes\n",
    "S = 29.36 # Spot PETR4 (preço do ativo hoje)\n",
    "K = 29.5 # Strike\n",
    "r = 0.073715 # CDI hoje a.a. em formato contínuo\n",
    "T = 0.5 # prazo anualizado 6 meses\n",
    "sigma = 0.7 # volatilidade\n",
    "\n",
    "call_price = calc_BS(S, K, r, T, sigma, 'call') # preço de uma call via BS\n",
    "put_price  = calc_BS(S, K, r, T, sigma, 'put')  # preço de uma put via BS\n",
    "\n",
    "print(f\"Preço da call: {round(call_price, 2)}. \\nPreço da put: {round(put_price, 2)}.\")"
   ]
  },
  {
   "cell_type": "markdown",
   "metadata": {},
   "source": [
    "Posteriormente, surgiram variações do modelo de Black-Scholes para atender ativos com diferentes comportamentos.\n",
    "\n",
    "A imagem abaixo apresenta um resumo das principais variações.\n",
    "\n",
    "![Variações do BS](Imagens\\06_Variações_BS.jpeg)"
   ]
  },
  {
   "cell_type": "markdown",
   "metadata": {},
   "source": [
    "## 3. *Moneyness*\n",
    "\n",
    "O *moneyness* de uma opção é a posição relativa do preço à vista (*spot*) do ativo subjacente em relação ao *strike* da opção. Esta medida é relacionada ao valor intrínseco da opção, definido como o *payoff* do derivativo caso fosse exercido imediatamente.\n",
    "\n",
    "Existem três classificações de *moneyness*:\n",
    "\n",
    "- *In the money* (dentro do dinheiro): quando ela dá lucro se exercida imediatamente;\n",
    "- *Out the money* (fora do dinheiro): quando ela não daria resultado positivo, se fosse exercida;\n",
    "- *At the money* (no dinheiro): quando o preço à vista do ativo (*spot*) for igual (ou muito próximo) do *strike* da opção."
   ]
  },
  {
   "cell_type": "code",
   "execution_count": 16,
   "metadata": {},
   "outputs": [
    {
     "name": "stdout",
     "output_type": "stream",
     "text": [
      "ATM: 3.853208. \n",
      "ITM: 11.075006. \n",
      "OTM: -0.176187\n"
     ]
    }
   ],
   "source": [
    "# Calls\n",
    "r = 0.073715 # CDI hoje a.a. em formato contínuo\n",
    "T = 0.5 # prazo anualizado 6 meses\n",
    "sigma = 0.4 # trocando apenas o valor da volatilidade\n",
    "\n",
    "call_price_atm = call_price = calc_BS(30, 30, r, T, sigma, 'call')\n",
    "call_price_itm = call_price = calc_BS(40, 30, r, T, sigma, 'call')\n",
    "call_price_otm = call_price = calc_BS(10, 30, r, T, sigma, 'call')\n",
    "\n",
    "print(f\"ATM: {round(call_price_atm, 6)}. \\nITM: {round(call_price_itm, 6)}. \\nOTM: {round(call_price_otm, 6)}\")"
   ]
  },
  {
   "cell_type": "code",
   "execution_count": 19,
   "metadata": {},
   "outputs": [
    {
     "name": "stdout",
     "output_type": "stream",
     "text": [
      "ATM: 2.767612. \n",
      "ITM: 9.321369. \n",
      "OTM: -0.091543\n"
     ]
    }
   ],
   "source": [
    "# Puts\n",
    "# No caso das puts, a relação de Strike e Spot inverte\n",
    "# ITM: strike bem acima de S\n",
    "# OTM: strike bem abaixo de S\n",
    "\n",
    "put_price_atm = put_price = calc_BS(30, 30, r, T, sigma, 'put')\n",
    "put_price_itm = put_price = calc_BS(30, 40, r, T, sigma, 'put')\n",
    "put_price_otm = put_price = calc_BS(40, 10, r, T, sigma, 'put')\n",
    "\n",
    "print(f\"ATM: {round(put_price_atm, 6)}. \\nITM: {round(put_price_itm, 6)}. \\nOTM: {round(put_price_otm, 6)}\")"
   ]
  },
  {
   "cell_type": "markdown",
   "metadata": {},
   "source": [
    "## 4. Paridade *put-call*\n",
    "\n",
    "Existe uma relação entre o preço de uma *call* e uma *put* europeias de mesmo *strike* e mesmo vencimento, chamada de **paridade *put-call***. Na prática, isto significa que se sabemos o preço da *call* então podemos obter o preço da *put* correspondente (sobre o mesmo ativo objeto, com mesmo *strike* e mesmo vencimento), e vice-versa. Para chegarmos a essa relação, utilizamos o conceito de não-arbitragem e criamos dois portfólios:\n",
    "\n",
    "- **Portfólio (1)**: Comprar uma *call* e vencer uma *put*\n",
    "- **Portfólio (2)**: Comprar uma unidade do ativo-objeto e tomar *Ke^(-rT)* reais emprestado.\n",
    "\n",
    "No vencimento *T*, o detentor do portfólio (2) possui uma ação, mas deve pagar *K* reais ao emprestador. Assim, o valor do portfólio (2) no vencimento é:\n",
    "\n",
    "$$ payoff_2 = S_T - K $$\n",
    "\n",
    "O detentor do portfólio (1) se depara com duas possibilidadesz:\n",
    "\n",
    "a) Se no vencimento o preço da opção for maior que o *strike* ($S_T > K$), ele exerce a *call* enquanto sua contraparte na *put* não exerce seu direito, restando:\n",
    "\n",
    "$$ payoff_{1a} = S_T - K $$\n",
    "\n",
    "b) Se no vencimento o preço da ação for menor que o *strike* ($S_T < K$), o detentor deixa de exercer sua *call*, mas tem sua *put* exercida pela contraparte, e por isso é obrigado a pagar $K - S_T$, o que faz com que seu resultado seja:\n",
    "\n",
    "$$ payoff_{1b} = -(K - S_T) = S_T - K $$\n",
    "\n",
    "Assims, no vencimento *T*, os portfólios (1) e (2) possuem sempre o mesmo valor (*payoff*), a saber: *S_T - K*. Em um contexto de não-arbitragem, os valores destes portfólios têm de ser iguais em qualquer tempo *t*. Isso porque se o portfólio (1), em um dado momento, valesse mais que o portfólio (2), alguém poderia comprar o portfólio (1) e vender o portfólio (2), obtenod lucro no vencimento sem incorrer nenhum risco. Assim, temos que no instante *t*:\n",
    "\n",
    "$$ c(S,t) - p(S,t) = S - K e^{-rT} $$"
   ]
  },
  {
   "cell_type": "markdown",
   "metadata": {},
   "source": [
    "# Exercícios\n",
    "\n",
    "1) Verifique a paridade put-call com os dados do exemplo da seção 2.2.\n",
    "\n",
    "2) Faça os gráficos do prêmio de uma call em função de possíveis valores de $S$, $r$, $T$ e $\\sigma$.\n",
    "\n",
    "3) Repita para uma put.\n",
    "\n",
    "Utilize os seguintes dados nos exercícios 2 e 3:\n",
    "\n",
    "Fixos:\n",
    "- S = 24\n",
    "- K = 25\n",
    "- r = 0.10\n",
    "- T = 0.5\n",
    "- $\\sigma$ = 0.15\n",
    "\n",
    "Variáveis:\n",
    "- S: de 0 a 50\n",
    "- r: de 0.005 a 0.30\n",
    "- T: 0.01 a 1.0\n",
    "- $\\sigma$: de 0.01 a 0.80"
   ]
  },
  {
   "cell_type": "code",
   "execution_count": 3,
   "metadata": {},
   "outputs": [
    {
     "name": "stdout",
     "output_type": "stream",
     "text": [
      "Preço da call: 0.64. \n",
      "Preço da put: 1.52.\n"
     ]
    }
   ],
   "source": [
    "# 1\n",
    "\n",
    "# Funçõ que retorna  preço de uma call/put européia de acordo com o modelo B&S\n",
    "def calc_BS(S, K, r, T, sigma, tipo):\n",
    "    # Cálculo do d1\n",
    "    d1 = (np.log(S/K) + (r + sigma**2/2)*T) / sigma*np.sqrt(T)\n",
    "    # Cálculo do d2\n",
    "    d2 = d1 - sigma*np.sqrt(T)\n",
    "    \n",
    "    if tipo == 'call':\n",
    "        # Preço se for call (opção de compra)\n",
    "        price = S*norm.cdf(d1) - K*np.exp(-r*T)*norm.cdf(d2)\n",
    "    elif tipo == 'put':\n",
    "        # preço se for put (opção de venda)\n",
    "        price = K*np.exp(-r*T)*norm.cdf(-d2) - S*norm.cdf(-d1)\n",
    "    else:\n",
    "        # Não sei o tipo, não calculo\n",
    "        price = None\n",
    "    \n",
    "    return price # Preço/prêmio\n",
    "\n",
    "\n",
    "# conversão do CDI composto para contínuo (tudo a.a.)\n",
    "r = np.log(1 + 0.01)\n",
    "r\n",
    "\n",
    "# Black-Scholes\n",
    "S = 24 # Spot PETR4 (preço do ativo hoje)\n",
    "K = 25 # Strike\n",
    "#r = 0.10 # CDI hoje a.a. em formato contínuo\n",
    "T = 0.5 # prazo anualizado 6 meses\n",
    "sigma = 0.15 # volatilidade\n",
    "\n",
    "call_price = calc_BS(S, K, r, T, sigma, 'call') # preço de uma call via BS\n",
    "put_price  = calc_BS(S, K, r, T, sigma, 'put')  # preço de uma put via BS\n",
    "\n",
    "print(f\"Preço da call: {round(call_price, 2)}. \\nPreço da put: {round(put_price, 2)}.\")"
   ]
  },
  {
   "cell_type": "code",
   "execution_count": 6,
   "metadata": {},
   "outputs": [
    {
     "data": {
      "image/png": "[encoded data removed]",
      "text/plain": [
       "<Figure size 720x432 with 1 Axes>"
      ]
     },
     "metadata": {
      "needs_background": "light"
     },
     "output_type": "display_data"
    }
   ],
   "source": [
    "# 2a\n",
    "\n",
    "# Função para plotar o gráfico de payoff de uma opção\n",
    "def plot_payoff(S, Payoff, K=None):\n",
    "    \n",
    "    orange   = '#e58e26' # cores utilizadas\n",
    "    grayblue = '#0a3d62'\n",
    "    gray     = '#404040'\n",
    "    \n",
    "    fig, ax = plt.subplots(figsize=(10, 6)) # cria figura\n",
    "    ax.plot(S, [0]*len(S), color=gray) # plota a linha 0 em cinza\n",
    "    ax.plot(S, Payoff, color=orange) # plita o payoff em laranja\n",
    "    \n",
    "    if 'K' != None: # Se tiver recebido o valor K (strike)\n",
    "        ax.plot(K, 0, color=grayblue, marker='o')  # marca o strike em azul\n",
    "        ax.annotate('K', xy=(K, 1)) \n",
    "        \n",
    "    ax.set_xlabel('S_T') # título do eixo X\n",
    "    ax.set_ylabel('Payoff') # título do eixo Y\n",
    "    ax.xaxis.set_major_formatter(NullFormatter()) # remove o número do eixo X\n",
    "    # ax.yaxis.set_major_formatter(NullFormatter())\n",
    "    plt.show()   \n",
    "    #fig.savefig(path_out + 'Payoff.png', format='png') # se desejar salvar a figura\n",
    "    plt.close()\n",
    "    return\n",
    "\n",
    "# Simulando o payoff de uma posição long de uma call, considerando o custo inicial\n",
    "import numpy as np\n",
    "K = 25 # Strike \n",
    "S = list(range(0, 50)) # Cenários possíveis para S_T\n",
    "P1 = call_price # Valor do prêmio recebido no início\n",
    "\n",
    "# Resultado para uma posição comprada (long) de uma call (opção de compra), considerando o custo do prêmio pago P1\n",
    "Payoff_call_long = np.array([max(K - s, 0) for s in S]) - P1\n",
    "\n",
    "# gera gráfico\n",
    "plot_payoff(S, Payoff_call_long, K)"
   ]
  },
  {
   "cell_type": "code",
   "execution_count": 9,
   "metadata": {},
   "outputs": [],
   "source": [
    "# 2b\n"
   ]
  },
  {
   "cell_type": "code",
   "execution_count": null,
   "metadata": {},
   "outputs": [],
   "source": [
    "# 2c\n"
   ]
  },
  {
   "cell_type": "code",
   "execution_count": null,
   "metadata": {},
   "outputs": [],
   "source": [
    "# 2d\n"
   ]
  },
  {
   "cell_type": "code",
   "execution_count": 8,
   "metadata": {},
   "outputs": [
    {
     "data": {
      "image/png": "[encoded data removed]",
      "text/plain": [
       "<Figure size 720x432 with 1 Axes>"
      ]
     },
     "metadata": {
      "needs_background": "light"
     },
     "output_type": "display_data"
    }
   ],
   "source": [
    "# 3a\n",
    "\n",
    "# Simulando o payoff de uma posição short de uma put\n",
    "K = 25 # Strike \n",
    "S = list(range(0, 50)) # Cenários possíveis para S_T\n",
    "P = put_price # Valor do prêmio recebido no início\n",
    "\n",
    "# Resultado de uma posição comprada de uma put (opção de venda) - obrigação de comprar pelo valor K, se o comprador da opção desejar\n",
    "# considerando o valor do prêmio recebido P\n",
    "Payoff_put_short = - np.array([max(K - x, 0) for x in S]) + P\n",
    "\n",
    "# gera gráfico\n",
    "plot_payoff(S, Payoff_put_short, K)"
   ]
  },
  {
   "cell_type": "code",
   "execution_count": null,
   "metadata": {},
   "outputs": [],
   "source": [
    "# 3b\n"
   ]
  },
  {
   "cell_type": "code",
   "execution_count": null,
   "metadata": {},
   "outputs": [],
   "source": [
    "# 3c\n"
   ]
  },
  {
   "cell_type": "code",
   "execution_count": null,
   "metadata": {},
   "outputs": [],
   "source": [
    "# 3d\n"
   ]
  },
  {
   "cell_type": "markdown",
   "metadata": {},
   "source": [
    "## 5. Gregas\n",
    "\n",
    "Vimos anteriormente que o preço de uma opção depende de uma série de parâmetros. Uma pergunta muito comum (principalmente para gestores de risco) é: o que acontece com o valor da minha opção (ou da minha carteira de opções) quando há variações nesses parâmetros? Ou ainda: qual é risco a que um portfólio está submetido em razão das variações de mercado?\n",
    "\n",
    "Uma parte da resposta a essa pergunta está relacionada com uma série de quantidades, quase sempre representadas por letras gregas, que medem a sensibilidade da opção com relação a seus parâmetros mais comuns. Essas quantidades são chamadas de **gregas** da opção.\n",
    "\n",
    "As gregas são obtidas pelo cálculo das derivadas parciais do preço da opção com relação a um (ou mais) de seus parâmetros. No modelo B&S, que possui fórmula fechada e diferenciável, há solução analítica para o cálculo das gregas. Em outros casos, muitas vezes é preciso recorrer a técnicas de derivação numérica para encontar seus valores. \n",
    "\n",
    "![Tabela gregas](Imagens/06_08_Tabela_gregas.png)\n",
    "\n",
    "Tabela de equações das gregas no modelo de Black-Scholes (Fonte: Hull, 2016).\n",
    "![Tabela gregas](Imagens/06_09_Tabela_gregas_BS.png)\n",
    "\n",
    "Vejamos na figura abaixo a representação gráfica do conceito do Delta. Ele representa o coeficiente angular do preço da opção em função do preço spot do ativo objeto. Em outras palavras, quanto a variação do spot vai afetar o preço da opção. Na figura, o Delta possui um valor de 0,6, significa que uma variação no spot impacta em 60% o preço da opção.\n",
    "\n",
    "![Delta slope](Imagens/08_01_Delta_Slope.png)\n",
    "\n",
    "**Exemplo**\n",
    "\n",
    "Suponha que um investidor vendeu 2.000 opções de compra (*calls*) de uma ação que vale R\\\\$10,00 e gostaria de neutralizar sua exposição à ação. Suponha ainda que o preço de cada opção é R\\\\$1,00 e o Delta dessas opções hoje vale 0,5. \n",
    "\n",
    "Neste caso, para neutralizar o risco, bastaria ele comprar: $2.000 \\cdot 0,5 = 1.000$ ações. Veja que não precisamos utilizar o preço da opção, nem o preço da ação para identificar a quantidade de ações a ser comprada. Utilizamos apenas o Delta e a quantidade de opções.\n",
    "\n",
    "Desta forma, se a ação desvalorizar R\\\\$0,50, ele terá uma desvalorização total nas ações de R\\\\$500,00, mas por outro lado, terá um ganho nas calls, que terão desvalorizado R\\\\$0,25. Como o investidor vendeu 2.000 ações, essa desvalorização gerará um lucro de R\\$500,00. Portanto, o resultado teve um *hedge* com sucesso e o resultado foi neutralizado. Esta técnica é conhecida com ***delta hedging***.\n",
    "\n",
    "Esta estratégia, apesar de muito utilizada no mercado, não é perfeita, pois não considera outros fatores de risco como a volatilidade, o prazo, entre outros. Além disso, o Delta também varia ao longo do tempo, de forma que o portfólio de hedge deve ser rebalanceado e isto pode gerar custos transacionais que superem o resultado ganho."
   ]
  },
  {
   "cell_type": "markdown",
   "metadata": {},
   "source": []
  },
  {
   "cell_type": "markdown",
   "metadata": {},
   "source": [
    "## 6. Estratégias\n",
    "\n",
    "Vimos como se comporta o valor de uma posição simples com opções, mas as estratégias podem ser mais sofisticadas.\n",
    "\n",
    "Existem extratégias voltadas para *bull* ou *bear market*, estratégias que podem ser mais ou menos arriscadas.\n",
    "\n",
    "Vamos ver duas estratégias que são a base de muitas estratégias, os chamados *spreads*.\n",
    "\n",
    "### 6.1 *Call spread*\n",
    "\n",
    "Esta estratégia também é chamada de \"trava de alta\" e funciona com a compra e venda simultânea de *calls*\n",
    "para *strikes* diferentes. Nesta forma, ela é indicada para um cenário de crescimento da ação.\n",
    "\n",
    "A vantagem dela em relação a uma compra simples de *call* é a redução do custo total da operação, a desvantagem é a limitação do retorno.\n",
    "\n",
    "Compra-se uma *call A* com *strike* *K1* (em geral já dentro do dinheiro) por *P1* reais, ao mesmo tempo vende-se uma *call B* com *strike* *K2* (maior que *K1*) por *P2* reais.\n",
    "\n",
    "Com a venda de *B* ganha-se um prêmio que reduzirá o custo da compra de A.\n",
    "\n",
    "A venda de B limita o ganho pois ela obrigaria à venda de 1 ação por *K2* reais, mas ter a posição *A* protege esta posição vendida.\n",
    "\n",
    "O prêmio pago é igual ao custo a *P1 - P2*.\n",
    "\n",
    "O lucro máximo desta estratégia é: *K2 - K1 - prêmio pago*.\n",
    "\n",
    "![call spread](Imagens/06_05_call_spread.png)\n"
   ]
  },
  {
   "cell_type": "markdown",
   "metadata": {},
   "source": [
    "- Lib: https://pypi.org/project/opstrat/\n",
    "\n",
    "- Dados: https://br.advfn.com/bolsa-de-valores/bovespa/petrobras-pn-PETR4/opcoes\n"
   ]
  },
  {
   "cell_type": "code",
   "execution_count": 17,
   "metadata": {},
   "outputs": [],
   "source": [
    "# Mesma função da plot_payoff, mas com a opção de marcar dois strikes diferentes no gráfico: K1 e K2\n",
    "def plot_payoff_estrategia(S, Payoff, K1=None, K2=None):\n",
    "    import matplotlib.pyplot as plt\n",
    "    from matplotlib.ticker import NullFormatter\n",
    "    orange   = '#e58e26'\n",
    "    grayblue = '#0a3d62'\n",
    "    gray     = '#404040'\n",
    "    \n",
    "    fig, ax = plt.subplots(figsize=(10, 6))\n",
    "    ax.plot(S, [0]*len(S), color=gray)\n",
    "    ax.plot(S, Payoff, color=orange)\n",
    "    \n",
    "    if 'K1':\n",
    "        ax.plot(K1, 0, 'go', color=grayblue) \n",
    "        ax.annotate('K1', xy=(K1, 0))\n",
    "    if 'K2':\n",
    "        ax.plot(K2, 0, 'go', color=grayblue) \n",
    "        ax.annotate('K2', xy=(K2, 0))\n",
    "        \n",
    "    ax.set_xlabel('S_T')\n",
    "    ax.set_ylabel('Payoff')    \n",
    "    ax.xaxis.set_major_formatter(NullFormatter())\n",
    "    #ax.yaxis.set_major_formatter(NullFormatter())\n",
    "    plt.show()    \n",
    "    #fig.savefig(path_out + 'Payoff.png', format='png')\n",
    "    plt.close()\n",
    "    return"
   ]
  },
  {
   "cell_type": "code",
   "execution_count": 18,
   "metadata": {},
   "outputs": [
    {
     "data": {
      "image/png": "[encoded data removed]",
      "text/plain": [
       "<Figure size 720x432 with 1 Axes>"
      ]
     },
     "metadata": {
      "needs_background": "light"
     },
     "output_type": "display_data"
    },
    {
     "data": {
      "image/png": "[encoded data removed]",
      "text/plain": [
       "<Figure size 720x432 with 1 Axes>"
      ]
     },
     "metadata": {
      "needs_background": "light"
     },
     "output_type": "display_data"
    },
    {
     "data": {
      "image/png": "[encoded data removed]",
      "text/plain": [
       "<Figure size 720x432 with 1 Axes>"
      ]
     },
     "metadata": {
      "needs_background": "light"
     },
     "output_type": "display_data"
    }
   ],
   "source": [
    "# Simulando o payoff de uma call spread\n",
    "import numpy as np\n",
    "K=None\n",
    "K1 = 22 # Strike 1\n",
    "K2 = 26 # Strike 2, maior q K1\n",
    "S = list(range(0, 50)) # Possíveis valores para S_T\n",
    "P1 = 3 # Prêmio da opção 1\n",
    "P2 = 2 # Prêmio da opção 2\n",
    "\n",
    "# Payoff da opção 1, definida pelo strike K1\n",
    "payoff_call_1 = [max(x - K1, 0) for x in S]\n",
    "\n",
    "# Payoff da opção 2, definida pelo strike K2\n",
    "payoff_call_2 = [max(x - K2, 0) for x in S]\n",
    "\n",
    "# Payoff da estratégia call spread: compra a opção 1 e vende a opção 2\n",
    "# paga o prêmio P1 e recebe o prêmio P2\n",
    "Payoff_call_spread = np.array(payoff_call_1) - np.array(payoff_call_2) - P1 + P2\n",
    "\n",
    "# Plota os gráficos\n",
    "plot_payoff(S, payoff_call_1, K=K1)\n",
    "plot_payoff(S, -np.array(payoff_call_2), K=K2)\n",
    "plot_payoff_estrategia(S, Payoff_call_spread, K1=K1, K2=K2)\n"
   ]
  },
  {
   "cell_type": "markdown",
   "metadata": {},
   "source": [
    "### 6.2 *Put spread*\n",
    "\n",
    "Esta estratégia também é chamda de \"trava de baixa\" e funciona de forma semelhante ao *call spread*, sendo indicada para ganhar com a queda de uma ação.\n",
    "\n",
    "Da mesma maneira que a *call spread*, essa operação é mais barata que uma compra de *put* ao passo que tem seu retorno limitado.\n",
    "\n",
    "Compra-se uma *put A* com *strike* *K1* (em geral já dentro do dinheiro) por *P1* reais, ao mesmo tempo vende-se uma *put B* com *strike* *K2* (menor que *K1*) por *P2* reais.\n",
    "\n",
    "O prêmio pago será igual a *P1 - P2*.\n",
    "\n",
    "O lucro máximo desta estratégia é: *K2 - K1 - prêmio pago*.\n",
    "\n",
    "![put spread](Imagens/06_06_Put_spread.png)\n"
   ]
  },
  {
   "cell_type": "code",
   "execution_count": 19,
   "metadata": {},
   "outputs": [
    {
     "data": {
      "image/png": "[encoded data removed]",
      "text/plain": [
       "<Figure size 720x432 with 1 Axes>"
      ]
     },
     "metadata": {
      "needs_background": "light"
     },
     "output_type": "display_data"
    },
    {
     "data": {
      "image/png": "[encoded data removed]",
      "text/plain": [
       "<Figure size 720x432 with 1 Axes>"
      ]
     },
     "metadata": {
      "needs_background": "light"
     },
     "output_type": "display_data"
    },
    {
     "data": {
      "image/png": "[encoded data removed]",
      "text/plain": [
       "<Figure size 720x432 with 1 Axes>"
      ]
     },
     "metadata": {
      "needs_background": "light"
     },
     "output_type": "display_data"
    }
   ],
   "source": [
    "# Simulando o payoff de uma put spread\n",
    "# Semelhante ao exemplo anterior, mas com os sinais invertidos, pois invertemos a posição:\n",
    "# Vende a opção 1, compra a opção 2, recebe P1 e paga P2\n",
    "\n",
    "K=None\n",
    "K1 = 22\n",
    "K2 = 18\n",
    "S = list(range(0, 50))\n",
    "P1 = 3\n",
    "P2 = 2\n",
    "\n",
    "payoff_put_A = np.array([max(K1 - x, 0) for x in S])\n",
    "payoff_put_B = np.array([max(K2 - x, 0) for x in S])\n",
    "Payoff_put_spread = payoff_put_A - payoff_put_B - P1 + P2\n",
    "\n",
    "plot_payoff(S, payoff_put_A, K=K1)\n",
    "plot_payoff(S, -np.array(payoff_put_B), K=K2)\n",
    "plot_payoff_estrategia(S, Payoff_put_spread, K1=K1, K2=K2)"
   ]
  },
  {
   "cell_type": "markdown",
   "metadata": {},
   "source": [
    "## Exercícios\n",
    "\n",
    "1) Construa o payoff das seguintes estratégias:\n",
    "\n",
    "1. **Lançar uma opção coberta**: É uma estratégia de hede (minimizar riscos). Vende-se uma call e compra-se uma ação.\n",
    "2. **Straddle comprador**: Estratégia de apostar na alta volatilidade. Compra-se uma call e uma put com o mesmo strike.\n",
    "3. **Straddle vendedor**: Estratégia para vender volatilidade, acreditando que o mercado ficará estável em torno do strike, sem grandes oscilações. Vende-se uma call e uma put com o mesmo strike.\n",
    "4. **Box Spread**: Utiliza-se call e put para obter um ganho fixo, qualquer que seja a cotação do ativo-objeto no vencimento. Seu resultado é sempre *K2 - K1*.\n",
    "    - Compra call com strike K1\n",
    "    - Vende call com strike K2 > K1\n",
    "    - Vende put com strike K1\n",
    "    - Compra put com strike K2\n",
    "5. **Spread Butterfly**: Envolve posições em opções com 3 strikes diferentes. Leva um lucro se o preço ficar próximo de K2 e um pequeno prejuízo caso contrário. \n",
    "    - Compra uma call com K1 (strike baixo)\n",
    "    - Compra uma call com K3 > K1 (strike alto)\n",
    "    - Vende duas calls com K2, sendo K1 < K2 < K3 (strike próximo do spot)\n",
    "\n",
    "\n",
    "2) Qual a diferença entre o straddle vendedor e o butterfly?\n"
   ]
  },
  {
   "cell_type": "code",
   "execution_count": null,
   "metadata": {},
   "outputs": [],
   "source": [
    "# 1. Opção coberta\n",
    "K = 25 # Strike\n",
    "S = list(range(0, 50)) # Possíveis valores de S_T\n",
    "P1 = 3 # Prêmio da opção\n"
   ]
  },
  {
   "cell_type": "code",
   "execution_count": 27,
   "metadata": {},
   "outputs": [],
   "source": [
    "# 2. Straddle comprador\n",
    "K = 25 # Strike\n",
    "S = list(range(0, 50)) # Possíveis valores de S_T\n",
    "P1 = 1 # Prêmio da opção # Prêmio da opção 1\n",
    "P2 = 2 # Prêmio da opção # Prêmio da opção 2\n"
   ]
  },
  {
   "cell_type": "code",
   "execution_count": 28,
   "metadata": {},
   "outputs": [],
   "source": [
    "# 3. Straddle vendedor\n",
    "# Mesmo exemplo acima, mas com as posições invertidas: vende uma call e vende uma put, recebe os dois prêmios\n",
    "\n",
    "K = 25\n",
    "S = list(range(0, 50))\n",
    "P1 = 1\n",
    "P2 = 2\n"
   ]
  },
  {
   "cell_type": "code",
   "execution_count": 29,
   "metadata": {},
   "outputs": [],
   "source": [
    "# 4. Box spread\n",
    "# Esta estratégia envolve 4 opções com 2 strikes diferentes\n",
    "\n",
    "K1 = 25\n",
    "K2 = 28\n",
    "S = list(range(0, 50))\n",
    "P1 = 2\n",
    "P2 = 1\n",
    "P3 = 1.5\n",
    "P4 = 0.7\n"
   ]
  },
  {
   "cell_type": "code",
   "execution_count": null,
   "metadata": {},
   "outputs": [],
   "source": [
    "# 5. Butterfly\n",
    "\n",
    "K1 = 22\n",
    "K2 = 26\n",
    "K3 = 30\n",
    "S = list(range(0, 50))\n",
    "P1 = 1\n",
    "P2 = 3\n",
    "P3 = 6\n"
   ]
  },
  {
   "cell_type": "markdown",
   "metadata": {},
   "source": [
    "3) Calcule os resultados máximos e mínimos possíveis em cada estratégia."
   ]
  },
  {
   "cell_type": "code",
   "execution_count": null,
   "metadata": {},
   "outputs": [],
   "source": []
  },
  {
   "cell_type": "markdown",
   "metadata": {},
   "source": [
    "4) Calcule os prêmios das calls e puts das estratégias acima."
   ]
  },
  {
   "cell_type": "code",
   "execution_count": null,
   "metadata": {},
   "outputs": [],
   "source": []
  }
 ],
 "metadata": {
  "kernelspec": {
   "display_name": "Python 3",
   "language": "python",
   "name": "python3"
  },
  "language_info": {
   "codemirror_mode": {
    "name": "ipython",
    "version": 3
   },
   "file_extension": ".py",
   "mimetype": "text/x-python",
   "name": "python",
   "nbconvert_exporter": "python",
   "pygments_lexer": "ipython3",
   "version": "3.9.5"
  }
 },
 "nbformat": 4,
 "nbformat_minor": 4
}
