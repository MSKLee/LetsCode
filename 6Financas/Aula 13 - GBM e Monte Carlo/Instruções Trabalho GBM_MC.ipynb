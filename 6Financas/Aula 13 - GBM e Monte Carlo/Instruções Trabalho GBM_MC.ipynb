{
 "cells": [
  {
   "cell_type": "markdown",
   "id": "e0a3a460",
   "metadata": {},
   "source": [
    "# Roteiro Atividade GBM/Monte Carlo"
   ]
  },
  {
   "cell_type": "markdown",
   "id": "cc3cd3c5",
   "metadata": {},
   "source": [
    "## Etapa 1:\n",
    "\n",
    "Implementar a dinâmica do Movimento *Browniano* Geométrico e do Movimento *Browniano* Aritimético para um ativo real (preferencialmente algum que possua opções negociadas na bolsa - para comparação).\n",
    "\n",
    "Nesta primeira etapa basta implementar 1 trajetória.\n",
    "\n",
    "## Etapa 2:\n",
    "\n",
    "Expandir a etapa anterior com a metodologia de *Monte Carlo*, onde devem ser geradas $N$ trajetória diferentes para o preço do ativo subjacente.\n",
    "\n",
    "## Etapa 3 (Daqui para frente, apenas executar para o *GBM*):\n",
    "\n",
    "Comparar a trajetória média dentre todas aquelas simuladas com o preço do ativo levado a valor futuro no mesmo período observado/simulado.\n",
    "\n",
    "## Etapa 4:\n",
    "\n",
    "Implementar o cálculo do *payoff* de uma opção européia com *strike* $K$ em cima daquele ativo simulado.\n",
    "\n",
    "## Etapa 5:\n",
    "\n",
    "Implementar o *Black-Scholes* (pode reutilizar o código de aulas passadas) e comparar o preço dado pelo *BS* com o preço esperado pela simulação.\n",
    "\n",
    "Aqui vale ressaltar que o *BS* apenas funciona para opções cujo *strike* está bem próximo do preço, logo, recomenda-se utilizar $K = S_0$.\n",
    "\n",
    "## Etapa 6:\n",
    "\n",
    "Implementar o cálculo do *VaR* e do *ES* (*CVaR*) para as simulações executadas para o ativo subjacente."
   ]
  },
  {
   "cell_type": "markdown",
   "id": "7bd910bb",
   "metadata": {},
   "source": [
    "# Instruções Gerais\n",
    "\n",
    "- O código deve estar separado em funções - cada uma com o propósito claro e específico;\n",
    "\n",
    "- As funções devem ter um cabeçalho explicando (brevemente) o que elas recebem, o que elas retornam e o que elas fazem;\n",
    "\n",
    "- O código deve estar *printando* saídas intermediárias com suas respectivas explicações/interpretações técnicas - não precisa ser nada muito extenso!\n",
    "\n",
    "- O código deve estar, no mínimo, rodando sem depender de nenhum arquivo externo (ou se depender, o mesmo deve ser enviado junto com o código em um *.zip*).\n",
    "\n",
    "- As saídas intermediárias também devem conter os gráficos explicativos do modelo simulado."
   ]
  }
 ],
 "metadata": {
  "kernelspec": {
   "display_name": "Python 3 (ipykernel)",
   "language": "python",
   "name": "python3"
  },
  "language_info": {
   "codemirror_mode": {
    "name": "ipython",
    "version": 3
   },
   "file_extension": ".py",
   "mimetype": "text/x-python",
   "name": "python",
   "nbconvert_exporter": "python",
   "pygments_lexer": "ipython3",
   "version": "3.10.2"
  },
  "latex_envs": {
   "LaTeX_envs_menu_present": true,
   "autoclose": false,
   "autocomplete": true,
   "bibliofile": "biblio.bib",
   "cite_by": "apalike",
   "current_citInitial": 1,
   "eqLabelWithNumbers": true,
   "eqNumInitial": 1,
   "hotkeys": {
    "equation": "Ctrl-E",
    "itemize": "Ctrl-I"
   },
   "labels_anchors": false,
   "latex_user_defs": false,
   "report_style_numbering": false,
   "user_envs_cfg": false
  },
  "toc": {
   "base_numbering": 1,
   "nav_menu": {},
   "number_sections": true,
   "sideBar": true,
   "skip_h1_title": false,
   "title_cell": "Table of Contents",
   "title_sidebar": "Contents",
   "toc_cell": false,
   "toc_position": {},
   "toc_section_display": true,
   "toc_window_display": false
  },
  "varInspector": {
   "cols": {
    "lenName": 16,
    "lenType": 16,
    "lenVar": 40
   },
   "kernels_config": {
    "python": {
     "delete_cmd_postfix": "",
     "delete_cmd_prefix": "del ",
     "library": "var_list.py",
     "varRefreshCmd": "print(var_dic_list())"
    },
    "r": {
     "delete_cmd_postfix": ") ",
     "delete_cmd_prefix": "rm(",
     "library": "var_list.r",
     "varRefreshCmd": "cat(var_dic_list()) "
    }
   },
   "types_to_exclude": [
    "module",
    "function",
    "builtin_function_or_method",
    "instance",
    "_Feature"
   ],
   "window_display": false
  }
 },
 "nbformat": 4,
 "nbformat_minor": 5
}
