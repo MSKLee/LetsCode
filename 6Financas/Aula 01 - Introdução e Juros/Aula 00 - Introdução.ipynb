{
 "cells": [
  {
   "cell_type": "markdown",
   "metadata": {},
   "source": [
    "# Os professores\n",
    "\n",
    "\n",
    "\n",
    "**Henrique Assis Cordeiro**\n",
    "\n",
    "- E-mail: henriqueassiscordeiro@hotmail.com\n",
    "\n",
    "Resumo acadêmico:\n",
    "\n",
    "- Bacharela em Engenharia Elétrica - Ênfases em Eletrônica de Potência e em Sistemas de Energia (UFMG)\n",
    "- Mestrando em Economia com Ênfase em Engenharia Financeira (FGV)\n",
    "\n",
    "Resumo profissional:\n",
    "- Concultoria Estratégica da Deloitte - Analista\n",
    "- Itaú Unibanco - Analista de validação de modelos de risco de mercado\n",
    "- Legend WM - Risk Officer / Head de Risco de Mercado e Liquidez e Estudos Quantitativos\n",
    "\n",
    "**Glauco Gomes de Azevedo**\n",
    "\n"
   ]
  },
  {
   "cell_type": "markdown",
   "metadata": {},
   "source": [
    "# Aulas e material 📚📖📓💻\n",
    "\n",
    "Materiais:\n",
    "- [Google Drive da turma](https://drive.google.com/drive/folders/1OxdDz19ljNtwcZy6bn63fml1D_SuFKz_)\n",
    "\n",
    "\n",
    "Informações adicionais:\n",
    "- Forms de feedback (metade e final do módulo)\n",
    "- Presença\n",
    "    - Tolerância de 20min\n",
    "    - A partir das 19h20, a presença será marcada em qualquer momento da aula\n",
    "    - Enviar mensagem no chat para declarar presença\n",
    "    - Enviar mensagem no chat, caso precise sair antes\n",
    "    - O chat será utilizado em caso de possíveis divergências\n",
    "- Aulas gravadas\n",
    "    - Links no arquivo \"Aulas Gravadas\" no drive da turma\n",
    "- Formato das aulas e atividades\n",
    "- Conceitos: Macroeconomia, Produtos, Risco, Gestão de portfólio, Modelos e Tópicos adicionais"
   ]
  },
  {
   "cell_type": "markdown",
   "metadata": {},
   "source": [
    "# Avaliação 🧾🏆\n",
    "\n",
    "Avaliação tradicional (nota de 0 a 10):\n",
    "- 6 atividades com peso igual;\n",
    "- 1 para cada conceito, aproximadamente 1 por semana;\n",
    "- Formatos diversos: prova, trabalho em grupo e projeto;\n",
    "- Em geral, haverá um prazo maior para finalizar (1 semana), exceto os trabalhos mais extensos;\n",
    "- Entregar via Class;\n",
    "\n",
    "Avaliação por rubrica (avaliação qualitativa):\n",
    "- Todas as atividades serão consideradas na avaliação\n",
    "- Questionários serão respondidos na última aula do módulo\n",
    "- Aluno -> Professor, Aluno -> Aluno (auto-avaliação) e Professor -> Aluno"
   ]
  },
  {
   "cell_type": "markdown",
   "metadata": {},
   "source": [
    "# Finanças? 💰"
   ]
  },
  {
   "cell_type": "markdown",
   "metadata": {
    "ExecuteTime": {
     "end_time": "2022-01-28T17:48:34.440178Z",
     "start_time": "2022-01-28T17:48:34.423059Z"
    }
   },
   "source": [
    "O que vem à cabeça de vocês?"
   ]
  },
  {
   "cell_type": "markdown",
   "metadata": {},
   "source": [
    "# Ementa do Curso\n",
    "\n",
    "A ementa do curso foi desenhada e montado para termos o maior aproveitamento por parte do aluno, independente da sua base prévia de conhecimentos do mercado financeiro. As aulas foram desenhadas da seguinte forma:\n",
    "\n",
    "- **Aula 1: Introdução e Juros**\n",
    "    - O objetivo desta aula é apresentar os conceitos de juros simples e juros compostos, assim como a formulação matemática que nos permite converter as diversas formas de juros em uma medida equivalente. Esta aula é importante para nivelar a turma neste conceito básico, porém extremamente importante para o módulo. Estes conceitos estarão implícitos em todas as aulas seguintes;\n",
    "  \n",
    "- **Aula 2: Inflação e Taxa Básica**\n",
    "    - O objetivo desta aula é apresentar os conceitos de inflação e taxa básica de juros, e a partir daí ensinar como estes conceitos se aplicam no mercado e como utilizamos eles para diferenciar taxas de juros reais e taxas de juros nominais, por exemplo;\n",
    "    \n",
    "- **Aula 3: Mercado Financeiro**\n",
    "    - O objetivo desta aula é apresentar tanto os órgãos que atuam no mercado financeiro quanto a sua dinâmica básica, de forma a introduzir já a relação entre os diversos atores do mercado;\n",
    "    \n",
    "- **Aula 4: Ativos e Renda Fixa**\n",
    "    - O objetivo desta aula é apresentar os títulos de renda fixa e como calculamos/precificamos estes títulos. Nesta aula, usaremos todos os conceitos de inflação e taxa de juros previamente ensinados;\n",
    "    \n",
    "- **Aula 5: Derivativos - Futuros, *Swaps* e *NDFs***\n",
    "    - O objetivo desta aula é apresentar estes produtos, sua dinâmica no mercado, como seu preço é formado e o conceito de arbitragem. Arbitragem é o conceito mais importante de todo o módulo, pois ele irá permear todas as aulas - o conceito de não-arbitragem é o que define o preço de todos os derivativos no mercado;\n",
    "    \n",
    "- **Aula 6: Derivativos - Opções, Gregas e Estratégias**\n",
    "    - Aqui falaremos de forma mais aprofundada dos derivativos, mostrando as famosas opções, as gregas (advindas da famosa equação de *Black-Scholes-Merton* e algumas das estratégias que podem ser montadas com as opções;\n",
    "    \n",
    "- **Aula 7: Risco e Retorno**\n",
    "    - Falaremos de como é calculado o retorno de um ativo, e como calculamos seu risco. Esta aula é extremamente importante para a compreensão da aula 8;\n",
    "    \n",
    "- **Aula 8: Exposição, *VaR* e *ES***\n",
    "    - Usaremos os conceitos de *PnL*, risco e retorno citados anteriormente para calcularmos métricas estatísticas mais robustas de risco. O *VaR* aqui é a sigla de *Value at Risk* e o 8ES* é a sigla de *Expected Shortfall*, também chamado de *CVaR* (*Conditional VaR*);\n",
    "    \n",
    "- **Aula 9: Teoria de Portfolio**\n",
    "    - Agora, com todos os conceitos de risco e retorno aprendidos para o caso de 1 ativo, vamos expandir estes conceitos para uma carteira de ativos, ensinando a teoria da fronteira eficiente de *Markowitz*, onde podemos obter um portfolio ótimo (segundo o plano risco x retorno);\n",
    "    \n",
    "- **Aula 10: CAPM**\n",
    "    - Com a teoria de fronteira eficiente aprendida, podemos usar métodos de otimização para obtermos o portfílio ótimo (melhor *sharpe*), traçando a curva do CAPM;\n",
    "    \n",
    "- **Aula 12: Árvore Binomial**\n",
    "    - Aqui vamos mudar um pouco a direção das aulas, apresentando mais o lado de finanças quantitativas, onde podemos utilziar técnicas de simulação (estocásticas) para precificar derivativos mais exóticos, que não possuem um fórmula fechada de preço, por exemplo;\n",
    "    \n",
    "- **Aula 13: GBM e ABM**\n",
    "    - São as siglas de *Geometric Brownian Motion* e *Arithmetic Brownian Motion*. Em português falamos Movimento Browniano Geométrico/Aritimético. São ferramentas de matemática estatísticas que precisamos recorrer quando desejamos precificar derivativos. Estes conceitos serão abordados sem grandes profundidades, pois todas as equações estocásticas precisam de um conhecimento mais aprofundado de cálculo estocástico. A equação de *Black-Scholes-Merton* tem sua origem em uma *SDE* (*Stochastic Differential Equation*);\n",
    "    \n",
    "- **Aula 14: Monte Carlo**\n",
    "    - Vamos mostrar como esta ferramenta de integração numérica tem sua utilizade e aplicação no mercado financeiro;\n",
    "    \n",
    "- **Aula 15: Volatilidade**\n",
    "    - Serão apresentados alguns modelos de volatilidade histórica, estatística e implícita. Estes modelos são extremamente úteis, pois toda a precificaçãod e derivativos é sustentada em certos parâmetros que devem ser inseridos no modelo, sendo um destes parâmetros a volatilidade. Desta forma, é de extrema importância sabermos estimar a volatilidade;\n",
    "    \n",
    "- **Aula 16: ETTJ**\n",
    "    - É a abreviação de Estrutura a Termo de Taxas de Juros. É uma aula extremamente importante, pois vai ensinar o aluno a montar uma curva de juros, assim como precificar produtos em cima desta curva e executar o *bootstrapping*;\n",
    "    \n",
    "- **Aula 17: *Duration* e Conexidade**\n",
    "    - São um aprofundamento ainda maior no ponto das taxas de juros. Vai ser interessante aprender a fazer o *hedge* da duration* e da convexidade de um título. É um conceito extremamente comum e importante para qualquer analista do mercado financeiro;\n",
    "    \n",
    "- **Aula 18: *Feedback* dos Projetos e Avaliação Final**\n",
    "    - Será uma aula dedicada a dar os *feedbacks* dos trabalhos feitos pelos alunos e fazermos as avaliações qualitativas finais."
   ]
  }
 ],
 "metadata": {
  "kernelspec": {
   "display_name": "Python 3 (ipykernel)",
   "language": "python",
   "name": "python3"
  },
  "language_info": {
   "codemirror_mode": {
    "name": "ipython",
    "version": 3
   },
   "file_extension": ".py",
   "mimetype": "text/x-python",
   "name": "python",
   "nbconvert_exporter": "python",
   "pygments_lexer": "ipython3",
   "version": "3.8.5"
  },
  "latex_envs": {
   "LaTeX_envs_menu_present": true,
   "autoclose": false,
   "autocomplete": true,
   "bibliofile": "biblio.bib",
   "cite_by": "apalike",
   "current_citInitial": 1,
   "eqLabelWithNumbers": true,
   "eqNumInitial": 1,
   "hotkeys": {
    "equation": "Ctrl-E",
    "itemize": "Ctrl-I"
   },
   "labels_anchors": false,
   "latex_user_defs": false,
   "report_style_numbering": false,
   "user_envs_cfg": false
  },
  "toc": {
   "base_numbering": 1,
   "nav_menu": {},
   "number_sections": true,
   "sideBar": true,
   "skip_h1_title": false,
   "title_cell": "Table of Contents",
   "title_sidebar": "Contents",
   "toc_cell": false,
   "toc_position": {},
   "toc_section_display": true,
   "toc_window_display": false
  },
  "varInspector": {
   "cols": {
    "lenName": 16,
    "lenType": 16,
    "lenVar": 40
   },
   "kernels_config": {
    "python": {
     "delete_cmd_postfix": "",
     "delete_cmd_prefix": "del ",
     "library": "var_list.py",
     "varRefreshCmd": "print(var_dic_list())"
    },
    "r": {
     "delete_cmd_postfix": ") ",
     "delete_cmd_prefix": "rm(",
     "library": "var_list.r",
     "varRefreshCmd": "cat(var_dic_list()) "
    }
   },
   "types_to_exclude": [
    "module",
    "function",
    "builtin_function_or_method",
    "instance",
    "_Feature"
   ],
   "window_display": false
  }
 },
 "nbformat": 4,
 "nbformat_minor": 4
}
