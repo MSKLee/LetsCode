{
 "cells": [
  {
   "cell_type": "markdown",
   "metadata": {},
   "source": [
    "# Juros\n",
    "\n",
    "Após completar este capítulo, você será capaz de:\n",
    "\n",
    "- Calcular juros simples e juros compostos\n",
    "- Compreender o conceito de valor futuro e valor presente\n",
    "- Calcular equivalência de taxas em diferentes períodos\n",
    "- Distinguir a capitalização simples e composta"
   ]
  },
  {
   "cell_type": "markdown",
   "metadata": {},
   "source": [
    "Juros é a remuneração sobre o capital cobrada pelo empréstimo do dinheiro. É calculado sobre um período de tempo (em que o capital foi emprestado). Pode ser calculado de duas formas: simples ou composto.\n",
    "\n",
    "## 1. Juros Simples\n",
    "\n",
    "Juros simples são a forma mais intuitiva para se calcular os juros sobre um capital. \n",
    "\n",
    "O juros simples $J$ pode ser calculado da seguinte forma:\n",
    "\n",
    "$$ J = C \\cdot i \\cdot n$$\n",
    "\n",
    "Onde:\n",
    "\n",
    "- $C = $ quantia inicial (capital)\n",
    "- $i = $ taxa de juros (em percentual)\n",
    "- $n = $ período de tempo\n",
    "- $M = $ montante (capital inicial mais os juros)\n",
    "\n",
    "O **montante** $M$ também é conhecido por **Valor Futuro** ou $FV$.\n",
    "\n",
    "O **capital** $C$ também é conhecido por **Valor Presente** ou $PV$.\n",
    "\n",
    "A partir desta mesma relação, podemos reescrever de forma a obter as outras informações:\n",
    "\n",
    "$$ C = \\frac{J}{i \\cdot n}$$\n",
    "$$ i = \\frac{J}{C \\cdot n}$$\n",
    "$$ n = \\frac{J}{C \\cdot i}$$\n",
    "$$ M = C + J$$\n",
    "$$ M = C \\cdot (1 + i \\cdot n)$$\n",
    "$$ C = \\frac{M}{(1 + i \\cdot n)}$$"
   ]
  },
  {
   "cell_type": "markdown",
   "metadata": {},
   "source": [
    "**Exemplo 1**\n",
    "\n",
    "*Quanto Julia resgastou, após ter aplicado R$ 20.000,00 por 3 meses, no regime de capitalização simples, à taxa de 5% ao mês?*\n"
   ]
  },
  {
   "cell_type": "code",
   "execution_count": 1,
   "metadata": {
    "ExecuteTime": {
     "end_time": "2022-01-28T22:38:42.303019Z",
     "start_time": "2022-01-28T22:38:42.249018Z"
    }
   },
   "outputs": [
    {
     "data": {
      "text/plain": [
       "23000.0"
      ]
     },
     "execution_count": 1,
     "metadata": {},
     "output_type": "execute_result"
    }
   ],
   "source": [
    "C = 20000\n",
    "n = 3\n",
    "i = 5/100\n",
    "\n",
    "M = C * (1 + i*n)\n",
    "M"
   ]
  },
  {
   "cell_type": "markdown",
   "metadata": {},
   "source": [
    "**Exemplo 2**\n",
    "\n",
    "*Fernando tomou um valor emprestado com um amigo, a uma taxa de 2,5% a.m. Sabendo que depois de 5 meses ele teve que pagar R$ 1.125,00, qual foi o valor que Fernando pegou emprestado?*\n"
   ]
  },
  {
   "cell_type": "code",
   "execution_count": 2,
   "metadata": {
    "ExecuteTime": {
     "end_time": "2022-01-28T22:39:58.105528Z",
     "start_time": "2022-01-28T22:39:58.092528Z"
    }
   },
   "outputs": [
    {
     "data": {
      "text/plain": [
       "1000.0"
      ]
     },
     "execution_count": 2,
     "metadata": {},
     "output_type": "execute_result"
    }
   ],
   "source": [
    "i = 2.5/100\n",
    "n = 5\n",
    "M = 1125\n",
    "\n",
    "C = M / (1 + i*n)\n",
    "C"
   ]
  },
  {
   "cell_type": "markdown",
   "metadata": {},
   "source": [
    "## Exercícios\n",
    "\n",
    "1. [Lista 1 - Juros Simples] "
   ]
  },
  {
   "cell_type": "markdown",
   "metadata": {},
   "source": [
    "**Exercício 1:**\n",
    "\n",
    "Um investidor aplicou um capital de R$ 12.000,00 por 2 anos a uma taxa de juros simples de 12% ao ano. Quanto de juros rendeu a aplicação neste período?"
   ]
  },
  {
   "cell_type": "markdown",
   "metadata": {},
   "source": [
    "**Exercício 2:**\n",
    "\n",
    "Considerando-se que um boleto, com valor nominal de R$2.560,00 foi pago com 4 meses de atraso, e que a taxa de juros simples mensal desse boleto é de 1,5%, ao todo, qual o valor dos juros gerados por esse atraso?"
   ]
  },
  {
   "cell_type": "markdown",
   "metadata": {},
   "source": [
    "\n",
    "## 2. Juros compostos\n",
    "Nos juros compostos, o rendimento é incorporado ao capital a cada periodo. Este efeito muitas vezes é identificado por \"juros sobre juros\".\n",
    "\n",
    "Os juros compostos $J$ podem ser calculado da seguinte forma:\n",
    "\n",
    "$$ M = C \\cdot (1 + i)^n$$\n",
    "\n",
    "Onde:\n",
    "\n",
    "- $C = $ quantia inicial (capital)\n",
    "- $i = $ taxa de juros (em percentual)\n",
    "- $n = $ período de tempo\n",
    "- $M = $ montante (capital inicial mais os juros)\n",
    "\n",
    "Ou também podemos escrever na seguinte nomenclatura:\n",
    "\n",
    "$$ VF = VP \\cdot (1 + i)^n$$\n",
    "\n",
    "Onde:\n",
    "\n",
    "- $FV = $ valor futuro (*future value*)\n",
    "- $PV = $ valor presente (*present value*)\n",
    "\n",
    "A expressão:\n",
    "\n",
    "$$ (1 + i)^n$$\n",
    "\n",
    "também é chamada de **fator de atualização**.\n",
    "\n",
    "A partir desta mesma relação, podemos reescrever de forma a obter as outras informações, como o valor dos juros em si:\n",
    "\n",
    "$$ C = \\frac{M}{(1 + i)^n}$$\n",
    "$$ J = M - C $$\n",
    "$$ J = C \\cdot (1 + i)^n - C$$\n",
    "$$ J = C \\cdot [(1 + i)^n - 1]$$"
   ]
  },
  {
   "cell_type": "markdown",
   "metadata": {},
   "source": [
    "**Exemplo 1**\n",
    "\n",
    "*Quanto resgatarei se aplicar R$ 1.500,00 por 7 meses? Sabendo que a taxa é de 2% a.m.*"
   ]
  },
  {
   "cell_type": "code",
   "execution_count": 9,
   "metadata": {
    "ExecuteTime": {
     "end_time": "2022-01-28T22:46:26.246440Z",
     "start_time": "2022-01-28T22:46:26.239442Z"
    }
   },
   "outputs": [
    {
     "data": {
      "text/plain": [
       "1723.03"
      ]
     },
     "execution_count": 9,
     "metadata": {},
     "output_type": "execute_result"
    }
   ],
   "source": [
    "VP = 1500\n",
    "n = 7\n",
    "i = 2/100\n",
    "\n",
    "VF = VP * (1 + i)**n\n",
    "round(VF, 2)"
   ]
  },
  {
   "cell_type": "markdown",
   "metadata": {},
   "source": [
    "**Exemplo 2**\n",
    "\n",
    "*Gustavo possui R$ 200,00 em sua aplicação. Sabendo que a taxa de juros foi de 0,65% a.m. Quanto Gustavo aplicou há 12 meses atrás?*"
   ]
  },
  {
   "cell_type": "code",
   "execution_count": 8,
   "metadata": {
    "ExecuteTime": {
     "end_time": "2022-01-28T22:46:22.651437Z",
     "start_time": "2022-01-28T22:46:22.640441Z"
    }
   },
   "outputs": [
    {
     "data": {
      "text/plain": [
       "185.04"
      ]
     },
     "execution_count": 8,
     "metadata": {},
     "output_type": "execute_result"
    }
   ],
   "source": [
    "VF = 200\n",
    "i = 0.65/100\n",
    "n = 12\n",
    "\n",
    "VP = VF / (1 + i)**n\n",
    "round(VP, 2)"
   ]
  },
  {
   "cell_type": "markdown",
   "metadata": {},
   "source": [
    "## 3. Equivalência de taxas \n",
    "\n",
    "A taxa de juros sempre é mensurada para um dado período. O período pode ser ao ano (a.a.), ao mês (a.m.), ao dia (a.d.), ou qualquer outro período estabelecido.\n",
    "\n",
    "Caso você possua uma taxa definida em um período (por exemplo, ao ano), mas precise calcular o juros por um prazo definido de outra forma (por exemplo, ao mês), é necessário realizar a converão dessas taxas. \n",
    "\n",
    "A conversão será realizada de acordo com a capitalização dos juros. Ou seja, para juros compostos, a conversão é diferente de juros simples, como veremos a seguir.\n",
    "\n",
    "### 3.1. Capitalização Simples\n",
    "\n",
    "Para taxas com capitalização simples, a conversão é realizada da seguinte forma:\n",
    "\n",
    "$$ i_{desejada} = i_{original} \\cdot  \\frac{n_{desejado}}{n_{original}} $$\n",
    "\n",
    "Em que:\n",
    "\n",
    "- $i_{desejada}$ é a taxa definida ao período desejado;\n",
    "- $i_{original}$ é a taxa definida ao período original;\n",
    "- $n_{desejado}$ é o prazo do período desejado;\n",
    "- $n_{original}$ é o prazo do período original;"
   ]
  },
  {
   "cell_type": "markdown",
   "metadata": {},
   "source": [
    "**Exemplo 1**\n",
    "\n",
    "*Se temos uma taxa de 24% a.a., qual a taxa equivalente definida ao mês?*"
   ]
  },
  {
   "cell_type": "code",
   "execution_count": 4,
   "metadata": {
    "ExecuteTime": {
     "end_time": "2022-02-03T11:33:24.035470Z",
     "start_time": "2022-02-03T11:33:24.023491Z"
    }
   },
   "outputs": [
    {
     "data": {
      "text/plain": [
       "2.0"
      ]
     },
     "execution_count": 4,
     "metadata": {},
     "output_type": "execute_result"
    }
   ],
   "source": [
    "ia = 24/100\n",
    "nano = 12\n",
    "nmes = 1\n",
    "\n",
    "im = ia * (nmes/nano)\n",
    "round(im*100, 2)"
   ]
  },
  {
   "cell_type": "markdown",
   "metadata": {},
   "source": [
    "**Exemplo 2**\n",
    "\n",
    "*Se temos uma taxa de 0,1% a.d., qual a taxa equivalente definida ao semestre?*"
   ]
  },
  {
   "cell_type": "code",
   "execution_count": 14,
   "metadata": {
    "ExecuteTime": {
     "end_time": "2022-01-28T22:51:34.764002Z",
     "start_time": "2022-01-28T22:51:34.743002Z"
    }
   },
   "outputs": [
    {
     "data": {
      "text/plain": [
       "0.18"
      ]
     },
     "execution_count": 14,
     "metadata": {},
     "output_type": "execute_result"
    }
   ],
   "source": [
    "i_d = 0.1/100\n",
    "n_d = 1\n",
    "n_s = 6 * 30\n",
    "\n",
    "i_s = i_d * (n_s / n_d)\n",
    "i_s"
   ]
  },
  {
   "cell_type": "markdown",
   "metadata": {},
   "source": [
    "### 3.2. Capitalização Composta\n",
    "\n",
    "Para taxas com capitalização composta, a conversão é realizada da seguinte forma:\n",
    "\n",
    "$$ i_{desejada} = [(1 + i_{original})^{ \\frac{n_{desejado}}{n_{original}} } - 1] \\cdot 100\\%$$\n",
    "\n",
    "Em que:\n",
    "\n",
    "- $i_{desejada}$ é a taxa definida ao período desejado;\n",
    "- $i_{original}$ é a taxa definida ao período original;\n",
    "- $n_{desejado}$ é o prazo do período desejado;\n",
    "- $n_{original}$ é o prazo do período original;"
   ]
  },
  {
   "cell_type": "markdown",
   "metadata": {},
   "source": [
    "**Exemplo 1**\n",
    "\n",
    "*Se temos uma taxa de 24% a.a., qual a taxa equivalente definida ao mês?*"
   ]
  },
  {
   "cell_type": "code",
   "execution_count": 22,
   "metadata": {
    "ExecuteTime": {
     "end_time": "2022-01-28T22:55:38.008715Z",
     "start_time": "2022-01-28T22:55:37.998758Z"
    }
   },
   "outputs": [
    {
     "data": {
      "text/plain": [
       "0.018087582483510722"
      ]
     },
     "execution_count": 22,
     "metadata": {},
     "output_type": "execute_result"
    }
   ],
   "source": [
    "i_aa = 24/100\n",
    "n_aa = 1\n",
    "n_am = 12\n",
    "\n",
    "i_am = (1 + i_aa)**(n_aa / n_am) - 1\n",
    "i_am"
   ]
  },
  {
   "cell_type": "markdown",
   "metadata": {},
   "source": [
    "**Exemplo 2**\n",
    "\n",
    "*Se temos uma taxa de 0,1% a.d., qual a taxa equivalente definida ao semestre?*"
   ]
  },
  {
   "cell_type": "code",
   "execution_count": 30,
   "metadata": {
    "ExecuteTime": {
     "end_time": "2022-01-28T23:01:34.122613Z",
     "start_time": "2022-01-28T23:01:34.103613Z"
    }
   },
   "outputs": [
    {
     "data": {
      "text/plain": [
       "19.710969018044278"
      ]
     },
     "execution_count": 30,
     "metadata": {},
     "output_type": "execute_result"
    }
   ],
   "source": [
    "i_ad = 0.1/100\n",
    "n_ad = 1\n",
    "n_as = 180\n",
    "\n",
    "i_as = (1 + i_ad)**(n_as / n_ad) - 1\n",
    "i_as*100"
   ]
  },
  {
   "cell_type": "markdown",
   "metadata": {},
   "source": [
    "## 4. Comparação dos regimes de capitalização\n",
    "\n",
    "Suponha que você possui um investimento com valor inicial de R$100,00 que rende 10% ao mês na capitalização simples. Quanto terá acumulado ao final de 12 meses?\n",
    "\n",
    "$$ M = 100,00 * (1 + 10\\% \\cdot 12) $$\n",
    "$$ M = 220,00 $$\n",
    "\n",
    "Veja que os juros são equivalentes a 10\\% $\\cdot$ R100,00 = 10,00 por mês. É como se tivéssemos somando 10,00 a cada um dos 12 meses de investimento, resultando portanto em 120,00 de juros totais no período.\n",
    "\n",
    "Caso seu investimento fosse capitalizado por juros compostos, pela mesma taxa, quanto teria rendido ao final do mesmo período?\n",
    "\n",
    "$$ M = 100,00 * (1 + 10\\%)^{12} $$\n",
    "$$ M = 313,84 $$\n",
    "\n",
    "Neste caso, é como se o capital fosse atualizado a cada mês com a adição dos juros recebidos. Portanto, o valor dos juros pagos a cada mês varia (e é crescente!)."
   ]
  },
  {
   "cell_type": "code",
   "execution_count": 31,
   "metadata": {
    "ExecuteTime": {
     "end_time": "2022-01-28T23:03:05.874190Z",
     "start_time": "2022-01-28T23:03:04.708013Z"
    }
   },
   "outputs": [],
   "source": [
    "import pandas as pd\n",
    "\n",
    "# Juros simples\n",
    "def calcula_juros_simples(C, taxa, prazo):\n",
    "    tabela_juros = pd.DataFrame(columns=['Juros', 'Montante'])\n",
    "    for n in range(prazo + 1):\n",
    "        \n",
    "        tabela_juros.loc[n, 'Juros'] = C*n*taxa\n",
    "        tabela_juros.loc[n, 'Montante'] = C*(1 + n*taxa)\n",
    "#     print(tabela_juros)\n",
    "    return tabela_juros\n",
    "\n",
    "# Juros compostos\n",
    "def calcula_juros_compostos(C, taxa, prazo):\n",
    "    tabela_juros = pd.DataFrame(columns=['Juros', 'Montante'])\n",
    "    for n in range(prazo + 1):\n",
    "        \n",
    "        tabela_juros.loc[n, 'Juros'] = C*((1 + taxa)**n - 1)\n",
    "        tabela_juros.loc[n, 'Montante'] = C*(1 + taxa)**n\n",
    "#     print(tabela_juros)\n",
    "    return tabela_juros\n",
    "    "
   ]
  },
  {
   "cell_type": "code",
   "execution_count": 32,
   "metadata": {
    "ExecuteTime": {
     "end_time": "2022-01-28T23:03:07.665838Z",
     "start_time": "2022-01-28T23:03:07.633838Z"
    }
   },
   "outputs": [
    {
     "data": {
      "text/html": [
       "<div>\n",
       "<style scoped>\n",
       "    .dataframe tbody tr th:only-of-type {\n",
       "        vertical-align: middle;\n",
       "    }\n",
       "\n",
       "    .dataframe tbody tr th {\n",
       "        vertical-align: top;\n",
       "    }\n",
       "\n",
       "    .dataframe thead th {\n",
       "        text-align: right;\n",
       "    }\n",
       "</style>\n",
       "<table border=\"1\" class=\"dataframe\">\n",
       "  <thead>\n",
       "    <tr style=\"text-align: right;\">\n",
       "      <th></th>\n",
       "      <th>Juros</th>\n",
       "      <th>Montante</th>\n",
       "    </tr>\n",
       "  </thead>\n",
       "  <tbody>\n",
       "    <tr>\n",
       "      <th>0</th>\n",
       "      <td>0.0</td>\n",
       "      <td>100.0</td>\n",
       "    </tr>\n",
       "    <tr>\n",
       "      <th>1</th>\n",
       "      <td>10.0</td>\n",
       "      <td>110.0</td>\n",
       "    </tr>\n",
       "    <tr>\n",
       "      <th>2</th>\n",
       "      <td>20.0</td>\n",
       "      <td>120.0</td>\n",
       "    </tr>\n",
       "    <tr>\n",
       "      <th>3</th>\n",
       "      <td>30.0</td>\n",
       "      <td>130.0</td>\n",
       "    </tr>\n",
       "    <tr>\n",
       "      <th>4</th>\n",
       "      <td>40.0</td>\n",
       "      <td>140.0</td>\n",
       "    </tr>\n",
       "    <tr>\n",
       "      <th>5</th>\n",
       "      <td>50.0</td>\n",
       "      <td>150.0</td>\n",
       "    </tr>\n",
       "    <tr>\n",
       "      <th>6</th>\n",
       "      <td>60.0</td>\n",
       "      <td>160.0</td>\n",
       "    </tr>\n",
       "    <tr>\n",
       "      <th>7</th>\n",
       "      <td>70.0</td>\n",
       "      <td>170.0</td>\n",
       "    </tr>\n",
       "    <tr>\n",
       "      <th>8</th>\n",
       "      <td>80.0</td>\n",
       "      <td>180.0</td>\n",
       "    </tr>\n",
       "    <tr>\n",
       "      <th>9</th>\n",
       "      <td>90.0</td>\n",
       "      <td>190.0</td>\n",
       "    </tr>\n",
       "    <tr>\n",
       "      <th>10</th>\n",
       "      <td>100.0</td>\n",
       "      <td>200.0</td>\n",
       "    </tr>\n",
       "    <tr>\n",
       "      <th>11</th>\n",
       "      <td>110.0</td>\n",
       "      <td>210.0</td>\n",
       "    </tr>\n",
       "    <tr>\n",
       "      <th>12</th>\n",
       "      <td>120.0</td>\n",
       "      <td>220.0</td>\n",
       "    </tr>\n",
       "  </tbody>\n",
       "</table>\n",
       "</div>"
      ],
      "text/plain": [
       "    Juros Montante\n",
       "0     0.0    100.0\n",
       "1    10.0    110.0\n",
       "2    20.0    120.0\n",
       "3    30.0    130.0\n",
       "4    40.0    140.0\n",
       "5    50.0    150.0\n",
       "6    60.0    160.0\n",
       "7    70.0    170.0\n",
       "8    80.0    180.0\n",
       "9    90.0    190.0\n",
       "10  100.0    200.0\n",
       "11  110.0    210.0\n",
       "12  120.0    220.0"
      ]
     },
     "execution_count": 32,
     "metadata": {},
     "output_type": "execute_result"
    }
   ],
   "source": [
    "calcula_juros_simples(C=100, taxa=0.10, prazo=12)"
   ]
  },
  {
   "cell_type": "code",
   "execution_count": 8,
   "metadata": {
    "ExecuteTime": {
     "end_time": "2022-01-28T01:31:24.548017Z",
     "start_time": "2022-01-28T01:31:24.494520Z"
    }
   },
   "outputs": [
    {
     "data": {
      "text/html": [
       "<div>\n",
       "<style scoped>\n",
       "    .dataframe tbody tr th:only-of-type {\n",
       "        vertical-align: middle;\n",
       "    }\n",
       "\n",
       "    .dataframe tbody tr th {\n",
       "        vertical-align: top;\n",
       "    }\n",
       "\n",
       "    .dataframe thead th {\n",
       "        text-align: right;\n",
       "    }\n",
       "</style>\n",
       "<table border=\"1\" class=\"dataframe\">\n",
       "  <thead>\n",
       "    <tr style=\"text-align: right;\">\n",
       "      <th></th>\n",
       "      <th>Juros</th>\n",
       "      <th>Montante</th>\n",
       "    </tr>\n",
       "  </thead>\n",
       "  <tbody>\n",
       "    <tr>\n",
       "      <th>0</th>\n",
       "      <td>0.0</td>\n",
       "      <td>100.0</td>\n",
       "    </tr>\n",
       "    <tr>\n",
       "      <th>1</th>\n",
       "      <td>10.0</td>\n",
       "      <td>110.0</td>\n",
       "    </tr>\n",
       "    <tr>\n",
       "      <th>2</th>\n",
       "      <td>21.0</td>\n",
       "      <td>121.0</td>\n",
       "    </tr>\n",
       "    <tr>\n",
       "      <th>3</th>\n",
       "      <td>33.1</td>\n",
       "      <td>133.1</td>\n",
       "    </tr>\n",
       "    <tr>\n",
       "      <th>4</th>\n",
       "      <td>46.41</td>\n",
       "      <td>146.41</td>\n",
       "    </tr>\n",
       "    <tr>\n",
       "      <th>5</th>\n",
       "      <td>61.051</td>\n",
       "      <td>161.051</td>\n",
       "    </tr>\n",
       "    <tr>\n",
       "      <th>6</th>\n",
       "      <td>77.1561</td>\n",
       "      <td>177.1561</td>\n",
       "    </tr>\n",
       "    <tr>\n",
       "      <th>7</th>\n",
       "      <td>94.87171</td>\n",
       "      <td>194.87171</td>\n",
       "    </tr>\n",
       "    <tr>\n",
       "      <th>8</th>\n",
       "      <td>114.358881</td>\n",
       "      <td>214.358881</td>\n",
       "    </tr>\n",
       "    <tr>\n",
       "      <th>9</th>\n",
       "      <td>135.794769</td>\n",
       "      <td>235.794769</td>\n",
       "    </tr>\n",
       "    <tr>\n",
       "      <th>10</th>\n",
       "      <td>159.374246</td>\n",
       "      <td>259.374246</td>\n",
       "    </tr>\n",
       "    <tr>\n",
       "      <th>11</th>\n",
       "      <td>185.311671</td>\n",
       "      <td>285.311671</td>\n",
       "    </tr>\n",
       "    <tr>\n",
       "      <th>12</th>\n",
       "      <td>213.842838</td>\n",
       "      <td>313.842838</td>\n",
       "    </tr>\n",
       "  </tbody>\n",
       "</table>\n",
       "</div>"
      ],
      "text/plain": [
       "         Juros    Montante\n",
       "0          0.0       100.0\n",
       "1         10.0       110.0\n",
       "2         21.0       121.0\n",
       "3         33.1       133.1\n",
       "4        46.41      146.41\n",
       "5       61.051     161.051\n",
       "6      77.1561    177.1561\n",
       "7     94.87171   194.87171\n",
       "8   114.358881  214.358881\n",
       "9   135.794769  235.794769\n",
       "10  159.374246  259.374246\n",
       "11  185.311671  285.311671\n",
       "12  213.842838  313.842838"
      ]
     },
     "execution_count": 8,
     "metadata": {},
     "output_type": "execute_result"
    }
   ],
   "source": [
    "calcula_juros_compostos(C=100, taxa=0.10, prazo=12)"
   ]
  },
  {
   "cell_type": "markdown",
   "metadata": {},
   "source": [
    "_______________________________________________________________________________"
   ]
  },
  {
   "cell_type": "markdown",
   "metadata": {},
   "source": [
    "Agora, surge uma nova dúvida: qual seria a taxa no regime simples equivalente a este rendimento de 10\\% por 12 meses no regime composto? Ou seja, Qual deveria ser a taxa simples que ao final de 12 meses, você receba os mesmos R$ 313,84 acumulados?\n",
    "\n",
    "Primeiramente, precisamos calcular a taxa do período desejado de 12 meses:\n",
    "\n",
    "$$ i_{a.a.} = [(1 + 10\\%)^{ \\frac{12}{1} } - 1] \\cdot 100\\%$$\n",
    "$$ i_{a.a.} = 213,84\\% $$\n",
    "\n",
    "Por fim, podemos encontrar a taxa ao mês no regime simples que equivale a 213,84% a.a.\n",
    "\n",
    "$$ i_{a.m.} = 213,84\\% \\cdot  \\frac{1}{12} $$\n",
    "$$ i_{a.m.} = 17,82\\% $$\n",
    "\n",
    "Portanto, a taxa a.m. simples que equivale a 10% a.m. no regime composto por um período de 1 ano é: 17,82%.\n",
    "\n",
    "\n",
    "**Conclusão**: Taxas **iguais** com capitalização diferente (simples e composta) não são **equivalentes**.\n"
   ]
  },
  {
   "cell_type": "markdown",
   "metadata": {},
   "source": [
    "A seguir temos um exemplo da mesma taxa em diferentes regimes de capitalização, ao longo de diversos prazos. Neste exemplo, as taxas são equivalentes para o período de 12 meses."
   ]
  },
  {
   "cell_type": "code",
   "execution_count": 33,
   "metadata": {
    "ExecuteTime": {
     "end_time": "2022-01-28T23:07:22.196205Z",
     "start_time": "2022-01-28T23:07:20.898367Z"
    }
   },
   "outputs": [
    {
     "data": {
      "image/png": "[encoded data removed]",
      "text/plain": [
       "<Figure size 864x576 with 1 Axes>"
      ]
     },
     "metadata": {
      "needs_background": "light"
     },
     "output_type": "display_data"
    }
   ],
   "source": [
    "import matplotlib.pyplot as plt\n",
    "\n",
    "\n",
    "#fazer figura\n",
    "fig, ax = plt.subplots(1,1, figsize=(12,8) )\n",
    "calcula_juros_simples(C=100, taxa=0.10, prazo=24).reset_index().plot(kind='scatter',x='index', y='Juros', c='orange',ax=ax)\n",
    "calcula_juros_compostos(C=100, taxa=0.07, prazo=24).reset_index().plot(kind='scatter',x='index', y='Juros', c='darkblue', ax=ax)\n",
    "ax.set_xlabel('Prazo')\n",
    "plt.title('Juros Acumulados x Prazo')\n",
    "plt.show()"
   ]
  },
  {
   "cell_type": "markdown",
   "metadata": {},
   "source": [
    "Neste segundo exemplo, temos as taxas iguais (não equivalentes) nos dois regimes de capitalização ao longo de diferentes prazos."
   ]
  },
  {
   "cell_type": "code",
   "execution_count": 36,
   "metadata": {
    "ExecuteTime": {
     "end_time": "2022-01-28T23:09:12.942014Z",
     "start_time": "2022-01-28T23:09:12.789053Z"
    }
   },
   "outputs": [
    {
     "data": {
      "image/png": "[encoded data removed]",
      "text/plain": [
       "<Figure size 864x576 with 1 Axes>"
      ]
     },
     "metadata": {
      "needs_background": "light"
     },
     "output_type": "display_data"
    }
   ],
   "source": [
    "#fazer figura\n",
    "fig, ax = plt.subplots(1,1, figsize=(12,8) )\n",
    "calcula_juros_simples(C=100, taxa=0.10, prazo=24).reset_index().plot(kind='scatter',x='index', y='Juros', c='orange',ax=ax)\n",
    "calcula_juros_compostos(C=100, taxa=0.10, prazo=24).reset_index().plot(kind='scatter',x='index', y='Juros', c='darkblue', ax=ax)\n",
    "ax.set_xlabel('Prazo')\n",
    "plt.title('Juros Acumulados x Prazo')\n",
    "plt.show()"
   ]
  },
  {
   "cell_type": "markdown",
   "metadata": {},
   "source": [
    "**Como converter uma taxa mensal simples para uma taxa mensal composta, de forma que elas sejam equivalentes em 12 meses (1 ano)?**\n",
    "\n",
    "- $i_{am}$ = taxa composta mensal\n",
    "- $i_{aa}$ = taxa composta anual\n",
    "\n",
    "- $r_{am}$ = taxa simples mensal\n",
    "- $r_{aa}$ = taxa simples anual"
   ]
  },
  {
   "cell_type": "markdown",
   "metadata": {},
   "source": [
    "**1º Passo:** calculamos o fator composto ao ano (período de equivalencia das taxas)\n",
    "\n",
    "Ex: $i_{am} = 10%, i_{aa} = ?$\n",
    "    \n",
    "Fator composto (mensal -> anual):\n",
    "\n",
    "- $(1 + i_{am})^{n_{am}} = (1 + i_{aa})^{n_{aa}}$\n",
    "- $(1 + i_{am})^{12}   = (1 + i_{aa})^1$\n",
    "- $i_{aa} = (1 + i_{am})^{12}  - 1$\n",
    "- $i_{aa} = 213%$"
   ]
  },
  {
   "cell_type": "code",
   "execution_count": 37,
   "metadata": {
    "ExecuteTime": {
     "end_time": "2022-01-28T23:11:23.947962Z",
     "start_time": "2022-01-28T23:11:23.928963Z"
    }
   },
   "outputs": [
    {
     "name": "stdout",
     "output_type": "stream",
     "text": [
      "213.84%\n"
     ]
    }
   ],
   "source": [
    "i_am = 10/100\n",
    "\n",
    "i_aa = (1 + i_am)**12 - 1\n",
    "print(f'{round(i_aa*100, 2)}%')"
   ]
  },
  {
   "cell_type": "markdown",
   "metadata": {},
   "source": [
    "- **2º Passo:** igualamos o fator anual composto com o simples\n",
    "- $(1 + i_{aa})^{n_{aa}} = (1 + r_{aa}*n_{aa})$\n",
    "- $(1 + i_{aa})^1    = (1 + r_{aa}*1)$\n",
    "- $(1 + i_{aa})      = (1 + r_{aa})$\n",
    "- $r_{aa} = i_{aa}$\n",
    "\n",
    "Obs: veja que as taxas no período equivalente (neste exemplo de 12 meses) são iguais\n",
    "\n",
    "Ex: $r_{aa} = i_{aa} = 213%$"
   ]
  },
  {
   "cell_type": "code",
   "execution_count": 38,
   "metadata": {
    "ExecuteTime": {
     "end_time": "2022-01-28T23:12:47.225252Z",
     "start_time": "2022-01-28T23:12:47.217251Z"
    }
   },
   "outputs": [],
   "source": [
    "r_aa = i_aa"
   ]
  },
  {
   "cell_type": "markdown",
   "metadata": {},
   "source": [
    "- **3º Passo:** convertemos a taxa simples anual para mensal\n",
    "<br>\n",
    "Ex: $r_{aa} = 213%, i_{am} = ?$\n",
    "\n",
    "- $(1 + r_{aa}^{n_{aa}}) = (1 + r_{am}^{n_{am}})$\n",
    "- $(1 + r_{aa}^{1}   ) = (1 + r_{am}^{12})$\n",
    "- $r_{am} = r_{aa}^{\\frac{1}{12}}$\n",
    "- $r_{am} = 17,82 \\%$"
   ]
  },
  {
   "cell_type": "code",
   "execution_count": 40,
   "metadata": {
    "ExecuteTime": {
     "end_time": "2022-01-28T23:13:54.706772Z",
     "start_time": "2022-01-28T23:13:54.694773Z"
    }
   },
   "outputs": [
    {
     "name": "stdout",
     "output_type": "stream",
     "text": [
      "17.82%\n"
     ]
    }
   ],
   "source": [
    "r_am = r_aa / 12\n",
    "print(f'{round(r_am*100, 2)}%')"
   ]
  },
  {
   "cell_type": "code",
   "execution_count": 46,
   "metadata": {
    "ExecuteTime": {
     "end_time": "2022-01-28T23:16:57.407413Z",
     "start_time": "2022-01-28T23:16:57.396435Z"
    }
   },
   "outputs": [
    {
     "name": "stdout",
     "output_type": "stream",
     "text": [
      "3138.43\n",
      "3138.43\n"
     ]
    }
   ],
   "source": [
    "VP = 1000\n",
    "\n",
    "VF_c = VP * (1 + i_am)**12\n",
    "print(round(VF_c, 2))\n",
    "\n",
    "VF_s = VP * (1 + r_am * 12)\n",
    "print(round(VF_s, 2))"
   ]
  },
  {
   "cell_type": "markdown",
   "metadata": {},
   "source": [
    "-----------------------------------------"
   ]
  },
  {
   "cell_type": "markdown",
   "metadata": {},
   "source": [
    "## Exercícios\n",
    "\n",
    "2. [Lista 2 - Juros Compostos]"
   ]
  },
  {
   "cell_type": "markdown",
   "metadata": {},
   "source": [
    "## Bibliotecas\n",
    "\n",
    "### Excel\n",
    "\n",
    "[Referência Microsoft](https://support.microsoft.com/pt-br/office/fun%C3%A7%C3%B5es-financeiras-refer%C3%AAncia-5658d81e-6035-4f24-89c1-fbf124c2b1d8)\n",
    "\n",
    "Principais funções:\n",
    "- VF(taxa,nper,pgto,[vp],[tipo]), calcula o valor futuro de um investimento com base em uma taxa de juros constante\n",
    "- VP(taxa, nper, pgto, [vf], [tipo]), calcula o valor presente de um empréstimo ou investimento com base em uma taxa de juros constante.\n",
    "- Taxa (nper, pgto, VP, [vf], [tipo], [suposição]), retorna a taxa de juros por período de anuidade\n",
    "- PGTO(taxa, nper, va, [vf], [tipo]), calcula o pagamento de um empréstimo de acordo com pagamentos constantes e com uma taxa de juros constante.\n",
    "- DURAÇÃOP(taxa, va, vf), retorna o número de períodos necessários para um investimento alcançar um valor especificado.\n",
    "\n",
    "### Python\n",
    "\n",
    "[Numpy Financial](https://numpy.org/numpy-financial/latest/)\n",
    "\n",
    "Principais funções:\n",
    "\n",
    "- fv(rate, nper, pmt, pv[, when]) Compute the future value.\n",
    "- ipmt(rate, per, nper, pv[, fv, when]) Compute the interest portion of a payment.\n",
    "- irr(values) Return the Internal Rate of Return (IRR).\n",
    "- mirr(values, finance_rate, reinvest_rate) Modified internal rate of return.\n",
    "- nper(rate, pmt, pv[, fv, when]) Compute the number of periodic payments.\n",
    "- npv(rate, values) Returns the NPV (Net Present Value) of a cash flow series.\n",
    "-  pmt(rate, nper, pv[, fv, when]) Compute the payment against loan principal plus interest.\n",
    "-  ppmt(rate, per, nper, pv[, fv, when]) Compute the payment against loan principal.\n",
    "- pv(rate, nper, pmt[, fv, when]) Compute the present value.\n",
    "- rate(nper, pmt, pv, fv[, when, guess, tol, …]) Compute the rate of interest per period."
   ]
  },
  {
   "cell_type": "markdown",
   "metadata": {},
   "source": [
    "## [Conteúdo adicional] Taxas contínuas\n",
    "\n",
    "Há uma terceira forma de capitalizar juros utilizando taxas contínuas. Este formato de taxas é utilizado em diveros modelos de apreçamento de produtos financeiros (que veremos nas próximas aulas), devido às vantagens das propriedades matemáticas do exponencial.\n",
    "\n",
    "A taxa contínua utiliza a premissa de que os juros são capitalizados de forma constante no tempo e são mensuradas pela expressão exponencial:\n",
    "\n",
    "$$ e^{r \\cdot t} = exp(r \\cdot t)$$\n",
    "\n",
    "Onde:\n",
    "\n",
    "- $e$ = número neperiano (ou exponencial)\n",
    "- $r$ = taxa contínua ao período\n",
    "- $t$ = período\n",
    "\n",
    "Comparando o fator de atualização do regime composto com o contínuo, temos:\n",
    "\n",
    "$$ (1 + i)^n = e^{r \\cdot t} $$\n",
    "\n",
    "Obs: $t$ e $n$ representam o prazo de capitalização, mas podem estar em períodos distintos. Por exmeplo: $i$ e $n$ definidos ao mês, enquanto $r$ e $t$ definidos ao ano.\n",
    "\n",
    "A partir da relação dos fatores acima, podemos calcular as taxas equivalentes:\n",
    "\n",
    "$$ ln(1 + i)^n = ln(e^{r \\cdot t}) $$\n",
    "$$ n \\cdot ln(1 + i) = r \\cdot t $$\n",
    "\n",
    "Supondo que ambas taxas e prazos sejama definidas no mesmo período, temos que $n$ = $t$ e:\n",
    "\n",
    "$$ r = ln(1 + i) $$\n",
    "\n",
    "E \n",
    "$$ e^r = 1 + i $$\n",
    "$$ i = e^r - 1 $$\n"
   ]
  },
  {
   "cell_type": "markdown",
   "metadata": {},
   "source": [
    "## Referências\n",
    "\n",
    "- NETO ASSAF, Alexandre. Matemática Financeira e suas Aplicações, Editora Atlas, 12ª edição, 2012.\n",
    "- Menezes, Marcio de. Matemática Financeira .IesdeBrasil, 2009.\n"
   ]
  },
  {
   "cell_type": "code",
   "execution_count": 49,
   "metadata": {
    "ExecuteTime": {
     "end_time": "2022-01-28T23:41:20.836464Z",
     "start_time": "2022-01-28T23:41:20.814465Z"
    }
   },
   "outputs": [
    {
     "data": {
      "text/html": [
       "<div>\n",
       "<style scoped>\n",
       "    .dataframe tbody tr th:only-of-type {\n",
       "        vertical-align: middle;\n",
       "    }\n",
       "\n",
       "    .dataframe tbody tr th {\n",
       "        vertical-align: top;\n",
       "    }\n",
       "\n",
       "    .dataframe thead th {\n",
       "        text-align: right;\n",
       "    }\n",
       "</style>\n",
       "<table border=\"1\" class=\"dataframe\">\n",
       "  <thead>\n",
       "    <tr style=\"text-align: right;\">\n",
       "      <th></th>\n",
       "      <th>Taxa</th>\n",
       "      <th>Vertice</th>\n",
       "      <th>PMT</th>\n",
       "    </tr>\n",
       "  </thead>\n",
       "  <tbody>\n",
       "    <tr>\n",
       "      <th>0</th>\n",
       "      <td>0.08</td>\n",
       "      <td>1</td>\n",
       "      <td>250</td>\n",
       "    </tr>\n",
       "    <tr>\n",
       "      <th>1</th>\n",
       "      <td>0.09</td>\n",
       "      <td>2</td>\n",
       "      <td>500</td>\n",
       "    </tr>\n",
       "    <tr>\n",
       "      <th>2</th>\n",
       "      <td>0.10</td>\n",
       "      <td>3</td>\n",
       "      <td>450</td>\n",
       "    </tr>\n",
       "    <tr>\n",
       "      <th>3</th>\n",
       "      <td>0.08</td>\n",
       "      <td>4</td>\n",
       "      <td>700</td>\n",
       "    </tr>\n",
       "    <tr>\n",
       "      <th>4</th>\n",
       "      <td>0.09</td>\n",
       "      <td>5</td>\n",
       "      <td>320</td>\n",
       "    </tr>\n",
       "  </tbody>\n",
       "</table>\n",
       "</div>"
      ],
      "text/plain": [
       "   Taxa  Vertice  PMT\n",
       "0  0.08        1  250\n",
       "1  0.09        2  500\n",
       "2  0.10        3  450\n",
       "3  0.08        4  700\n",
       "4  0.09        5  320"
      ]
     },
     "execution_count": 49,
     "metadata": {},
     "output_type": "execute_result"
    }
   ],
   "source": [
    "curva_i = [8/100, 9/100, 10/100, 8/100, 9/100]\n",
    "vertices_i = [1, 2, 3, 4, 5]\n",
    "\n",
    "import pandas as pd\n",
    "\n",
    "ettj = pd.DataFrame(curva_i, columns=['Taxa'])\n",
    "ettj['Vertice'] = vertices_i\n",
    "\n",
    "fluxo_pmt = [250, 500, 450, 700, 320]\n",
    "\n",
    "ettj['PMT'] = fluxo_pmt\n",
    "ettj"
   ]
  },
  {
   "cell_type": "code",
   "execution_count": 54,
   "metadata": {
    "ExecuteTime": {
     "end_time": "2022-01-28T23:47:12.639044Z",
     "start_time": "2022-01-28T23:47:12.615043Z"
    }
   },
   "outputs": [
    {
     "data": {
      "text/html": [
       "<div>\n",
       "<style scoped>\n",
       "    .dataframe tbody tr th:only-of-type {\n",
       "        vertical-align: middle;\n",
       "    }\n",
       "\n",
       "    .dataframe tbody tr th {\n",
       "        vertical-align: top;\n",
       "    }\n",
       "\n",
       "    .dataframe thead th {\n",
       "        text-align: right;\n",
       "    }\n",
       "</style>\n",
       "<table border=\"1\" class=\"dataframe\">\n",
       "  <thead>\n",
       "    <tr style=\"text-align: right;\">\n",
       "      <th></th>\n",
       "      <th>Taxa</th>\n",
       "      <th>Vertice</th>\n",
       "      <th>PMT</th>\n",
       "      <th>VP PMT</th>\n",
       "    </tr>\n",
       "  </thead>\n",
       "  <tbody>\n",
       "    <tr>\n",
       "      <th>0</th>\n",
       "      <td>0.08</td>\n",
       "      <td>1</td>\n",
       "      <td>250</td>\n",
       "      <td>231.481481</td>\n",
       "    </tr>\n",
       "    <tr>\n",
       "      <th>1</th>\n",
       "      <td>0.09</td>\n",
       "      <td>2</td>\n",
       "      <td>500</td>\n",
       "      <td>420.839997</td>\n",
       "    </tr>\n",
       "    <tr>\n",
       "      <th>2</th>\n",
       "      <td>0.10</td>\n",
       "      <td>3</td>\n",
       "      <td>450</td>\n",
       "      <td>338.091660</td>\n",
       "    </tr>\n",
       "    <tr>\n",
       "      <th>3</th>\n",
       "      <td>0.08</td>\n",
       "      <td>4</td>\n",
       "      <td>700</td>\n",
       "      <td>514.520897</td>\n",
       "    </tr>\n",
       "    <tr>\n",
       "      <th>4</th>\n",
       "      <td>0.09</td>\n",
       "      <td>5</td>\n",
       "      <td>320</td>\n",
       "      <td>207.978044</td>\n",
       "    </tr>\n",
       "  </tbody>\n",
       "</table>\n",
       "</div>"
      ],
      "text/plain": [
       "   Taxa  Vertice  PMT      VP PMT\n",
       "0  0.08        1  250  231.481481\n",
       "1  0.09        2  500  420.839997\n",
       "2  0.10        3  450  338.091660\n",
       "3  0.08        4  700  514.520897\n",
       "4  0.09        5  320  207.978044"
      ]
     },
     "execution_count": 54,
     "metadata": {},
     "output_type": "execute_result"
    }
   ],
   "source": [
    "VP_pmt = []\n",
    "for idx, i in enumerate(ettj['Vertice']):\n",
    "    VP_pmt.append(ettj.loc[idx,'PMT'] * (1 + ettj.loc[idx,'Taxa'])**(-i))\n",
    "ettj['VP PMT'] = VP_pmt\n",
    "ettj"
   ]
  }
 ],
 "metadata": {
  "kernelspec": {
   "display_name": "Python 3 (ipykernel)",
   "language": "python",
   "name": "python3"
  },
  "language_info": {
   "codemirror_mode": {
    "name": "ipython",
    "version": 3
   },
   "file_extension": ".py",
   "mimetype": "text/x-python",
   "name": "python",
   "nbconvert_exporter": "python",
   "pygments_lexer": "ipython3",
   "version": "3.8.5"
  },
  "latex_envs": {
   "LaTeX_envs_menu_present": true,
   "autoclose": false,
   "autocomplete": true,
   "bibliofile": "biblio.bib",
   "cite_by": "apalike",
   "current_citInitial": 1,
   "eqLabelWithNumbers": true,
   "eqNumInitial": 1,
   "hotkeys": {
    "equation": "Ctrl-E",
    "itemize": "Ctrl-I"
   },
   "labels_anchors": false,
   "latex_user_defs": false,
   "report_style_numbering": false,
   "user_envs_cfg": false
  },
  "toc": {
   "base_numbering": 1,
   "nav_menu": {},
   "number_sections": true,
   "sideBar": true,
   "skip_h1_title": false,
   "title_cell": "Table of Contents",
   "title_sidebar": "Contents",
   "toc_cell": false,
   "toc_position": {},
   "toc_section_display": true,
   "toc_window_display": false
  },
  "varInspector": {
   "cols": {
    "lenName": 16,
    "lenType": 16,
    "lenVar": 40
   },
   "kernels_config": {
    "python": {
     "delete_cmd_postfix": "",
     "delete_cmd_prefix": "del ",
     "library": "var_list.py",
     "varRefreshCmd": "print(var_dic_list())"
    },
    "r": {
     "delete_cmd_postfix": ") ",
     "delete_cmd_prefix": "rm(",
     "library": "var_list.r",
     "varRefreshCmd": "cat(var_dic_list()) "
    }
   },
   "types_to_exclude": [
    "module",
    "function",
    "builtin_function_or_method",
    "instance",
    "_Feature"
   ],
   "window_display": false
  }
 },
 "nbformat": 4,
 "nbformat_minor": 4
}
