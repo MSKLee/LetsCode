{
 "cells": [
  {
   "cell_type": "markdown",
   "id": "e323b8dd",
   "metadata": {},
   "source": [
    "# Volatilidade\n",
    "\n",
    "A volatilidade é uma métrica de risco que indica a dispersão dos retornos apresentados por uma série histórica de preços. Esta medida influencia em diversas métricas de performance comumente utilizadas no mercado, até por uma questão de o investidor sempre estar buscando o maior retorno **com o menor risco** possíveis (uma combinação risco x retorno que atenda ao seu perfil).\n",
    "\n",
    "Desta forma, precisamos ter uma forma eficiente de mensurar a volatilidade de uma carteira ou de um ativo. Além disto, a maioria dos modelos comumente utilizados para simular e/ou precificar ativos financeiros tem como *input* a volatilidade daquele ativo. Desta forma, precisamos ter uma medição correta desta métrica, para que os modelos sejam capazes de representar bem a realidade e o risco daquele ativo financeiro.\n",
    "\n",
    "## Objetivos\n",
    "\n",
    "- Entender o impacto da volatilidade nos modelos já vistos durante o curso;\n",
    "- Entender a importância de se estimar corretamente a volatilidade de um ativo/carteira;\n",
    "- Entender as diferentes formas de se estimar a volatilidade;\n",
    "- Entender corretamente onde/como se aplicam cada uma das formas de se estimar volatilidade que serão apresentadas nesta aula."
   ]
  },
  {
   "cell_type": "markdown",
   "id": "df838ef9",
   "metadata": {},
   "source": [
    "## Modelos de Volatilidade\n",
    "\n",
    "Existem diversos modelos para se calcular/estimar a volatilidade de detrminado ativo. A seguir vamos apresentar três formas diferentes para se fazer esta estimação. Cada uma das formas apresentadas representa uma **família de modelos**, que não serão todos vistos aqui, porém com os exemplos que serão apresentados de cada uma das famílias, podemos entender o que significa aquela classe de estimações.\n",
    "\n",
    "### Volatilidade Histórica\n",
    "\n",
    "A Volatilidade histórica simples é uma forma fácil de se obter uma estimativa de volatilidade. Nela, utiliza-se do desvio padrão de retornos de períodos determinados. \n",
    "\n",
    "Por exemplo, pode-se utilizar retornos diários ou mensais para se obter a volatilidade anual.\n",
    "\n",
    "Dada uma lista com os $n$ preços históricos de um ativo, $X$, vamos chamar de $x_i$ o preço de cada dia.\n",
    "\n",
    "Calculamos a série de log retornos:\n",
    "\n",
    "$$u_i = ln(\\frac{x_i}{x_{i-1}})$$\n",
    "\n",
    "Agora com a série $U$ de log retornos, vamos calcular seu desvio padrão:\n",
    "\n",
    "$$\\sigma^{2} = \\frac{1}{n-1} \\sum_{i=1}^{n} (u_i - \\bar{u})^2$$\n",
    "\n",
    "Sendo $\\sigma$ a volatilidade diária do nosso ativo. Podemos multiplicar por $ \\sqrt{252}$ para obter a volatilidade anual."
   ]
  },
  {
   "cell_type": "code",
   "execution_count": 45,
   "id": "fc91d99d",
   "metadata": {
    "ExecuteTime": {
     "end_time": "2022-03-07T22:17:31.927148Z",
     "start_time": "2022-03-07T22:17:31.909309Z"
    }
   },
   "outputs": [],
   "source": [
    "import numpy as np\n",
    "import pandas as pd\n",
    "import matplotlib.pyplot as plt\n",
    "\n",
    "import yfinance as yf\n",
    "\n",
    "pd.options.display.float_format = '{:20,.10f}'.format"
   ]
  },
  {
   "cell_type": "code",
   "execution_count": 46,
   "id": "fd03c4cc",
   "metadata": {
    "ExecuteTime": {
     "end_time": "2022-03-07T22:17:38.613380Z",
     "start_time": "2022-03-07T22:17:38.129865Z"
    }
   },
   "outputs": [],
   "source": [
    "#primeiro vamos coletar alguns dados\n",
    "\n",
    "stocks = yf.Ticker(\"MGLU3.SA\")\n",
    "hist = stocks.history(period=\"12mo\")"
   ]
  },
  {
   "cell_type": "code",
   "execution_count": 47,
   "id": "af3cf944",
   "metadata": {
    "ExecuteTime": {
     "end_time": "2022-03-07T22:18:03.214555Z",
     "start_time": "2022-03-07T22:18:03.161019Z"
    }
   },
   "outputs": [
    {
     "data": {
      "text/html": [
       "<div>\n",
       "<style scoped>\n",
       "    .dataframe tbody tr th:only-of-type {\n",
       "        vertical-align: middle;\n",
       "    }\n",
       "\n",
       "    .dataframe tbody tr th {\n",
       "        vertical-align: top;\n",
       "    }\n",
       "\n",
       "    .dataframe thead th {\n",
       "        text-align: right;\n",
       "    }\n",
       "</style>\n",
       "<table border=\"1\" class=\"dataframe\">\n",
       "  <thead>\n",
       "    <tr style=\"text-align: right;\">\n",
       "      <th></th>\n",
       "      <th>Open</th>\n",
       "      <th>High</th>\n",
       "      <th>Low</th>\n",
       "      <th>Close</th>\n",
       "      <th>Volume</th>\n",
       "      <th>Dividends</th>\n",
       "      <th>Stock Splits</th>\n",
       "    </tr>\n",
       "    <tr>\n",
       "      <th>Date</th>\n",
       "      <th></th>\n",
       "      <th></th>\n",
       "      <th></th>\n",
       "      <th></th>\n",
       "      <th></th>\n",
       "      <th></th>\n",
       "      <th></th>\n",
       "    </tr>\n",
       "  </thead>\n",
       "  <tbody>\n",
       "    <tr>\n",
       "      <th>2021-03-08</th>\n",
       "      <td>24.6721074463</td>\n",
       "      <td>24.7520493932</td>\n",
       "      <td>23.0832595825</td>\n",
       "      <td>23.0832595825</td>\n",
       "      <td>82907400</td>\n",
       "      <td>0.0000000000</td>\n",
       "      <td>0</td>\n",
       "    </tr>\n",
       "    <tr>\n",
       "      <th>2021-03-09</th>\n",
       "      <td>23.5329326787</td>\n",
       "      <td>23.9526283832</td>\n",
       "      <td>23.2931068342</td>\n",
       "      <td>23.3730487823</td>\n",
       "      <td>73816700</td>\n",
       "      <td>0.0000000000</td>\n",
       "      <td>0</td>\n",
       "    </tr>\n",
       "    <tr>\n",
       "      <th>2021-03-10</th>\n",
       "      <td>23.7327898168</td>\n",
       "      <td>25.0718189527</td>\n",
       "      <td>23.4529920297</td>\n",
       "      <td>24.8819561005</td>\n",
       "      <td>41874800</td>\n",
       "      <td>0.0000000000</td>\n",
       "      <td>0</td>\n",
       "    </tr>\n",
       "    <tr>\n",
       "      <th>2021-03-11</th>\n",
       "      <td>25.0518330032</td>\n",
       "      <td>25.0618259856</td>\n",
       "      <td>24.4422744229</td>\n",
       "      <td>24.7820281982</td>\n",
       "      <td>30648100</td>\n",
       "      <td>0.0000000000</td>\n",
       "      <td>0</td>\n",
       "    </tr>\n",
       "    <tr>\n",
       "      <th>2021-03-12</th>\n",
       "      <td>24.5821735414</td>\n",
       "      <td>24.8819553786</td>\n",
       "      <td>24.2524127582</td>\n",
       "      <td>24.5521945953</td>\n",
       "      <td>24567300</td>\n",
       "      <td>0.0000000000</td>\n",
       "      <td>0</td>\n",
       "    </tr>\n",
       "    <tr>\n",
       "      <th>...</th>\n",
       "      <td>...</td>\n",
       "      <td>...</td>\n",
       "      <td>...</td>\n",
       "      <td>...</td>\n",
       "      <td>...</td>\n",
       "      <td>...</td>\n",
       "      <td>...</td>\n",
       "    </tr>\n",
       "    <tr>\n",
       "      <th>2022-02-25</th>\n",
       "      <td>6.1900000572</td>\n",
       "      <td>6.2699999809</td>\n",
       "      <td>5.8600001335</td>\n",
       "      <td>6.0100002289</td>\n",
       "      <td>133697800</td>\n",
       "      <td>0.0000000000</td>\n",
       "      <td>0</td>\n",
       "    </tr>\n",
       "    <tr>\n",
       "      <th>2022-03-02</th>\n",
       "      <td>5.9499998093</td>\n",
       "      <td>6.3400001526</td>\n",
       "      <td>5.9400000572</td>\n",
       "      <td>6.3099999428</td>\n",
       "      <td>101490000</td>\n",
       "      <td>0.0000000000</td>\n",
       "      <td>0</td>\n",
       "    </tr>\n",
       "    <tr>\n",
       "      <th>2022-03-03</th>\n",
       "      <td>6.3299999237</td>\n",
       "      <td>6.4800000191</td>\n",
       "      <td>6.1500000954</td>\n",
       "      <td>6.3099999428</td>\n",
       "      <td>102314000</td>\n",
       "      <td>0.0000000000</td>\n",
       "      <td>0</td>\n",
       "    </tr>\n",
       "    <tr>\n",
       "      <th>2022-03-04</th>\n",
       "      <td>6.2899999619</td>\n",
       "      <td>6.4099998474</td>\n",
       "      <td>6.1100001335</td>\n",
       "      <td>6.1799998283</td>\n",
       "      <td>78111100</td>\n",
       "      <td>0.0000000000</td>\n",
       "      <td>0</td>\n",
       "    </tr>\n",
       "    <tr>\n",
       "      <th>2022-03-07</th>\n",
       "      <td>6.2199997902</td>\n",
       "      <td>6.3400001526</td>\n",
       "      <td>5.8000001907</td>\n",
       "      <td>5.8499999046</td>\n",
       "      <td>87037200</td>\n",
       "      <td>0.0000000000</td>\n",
       "      <td>0</td>\n",
       "    </tr>\n",
       "  </tbody>\n",
       "</table>\n",
       "<p>249 rows × 7 columns</p>\n",
       "</div>"
      ],
      "text/plain": [
       "                           Open                 High                  Low  \\\n",
       "Date                                                                        \n",
       "2021-03-08        24.6721074463        24.7520493932        23.0832595825   \n",
       "2021-03-09        23.5329326787        23.9526283832        23.2931068342   \n",
       "2021-03-10        23.7327898168        25.0718189527        23.4529920297   \n",
       "2021-03-11        25.0518330032        25.0618259856        24.4422744229   \n",
       "2021-03-12        24.5821735414        24.8819553786        24.2524127582   \n",
       "...                         ...                  ...                  ...   \n",
       "2022-02-25         6.1900000572         6.2699999809         5.8600001335   \n",
       "2022-03-02         5.9499998093         6.3400001526         5.9400000572   \n",
       "2022-03-03         6.3299999237         6.4800000191         6.1500000954   \n",
       "2022-03-04         6.2899999619         6.4099998474         6.1100001335   \n",
       "2022-03-07         6.2199997902         6.3400001526         5.8000001907   \n",
       "\n",
       "                          Close     Volume            Dividends  Stock Splits  \n",
       "Date                                                                           \n",
       "2021-03-08        23.0832595825   82907400         0.0000000000             0  \n",
       "2021-03-09        23.3730487823   73816700         0.0000000000             0  \n",
       "2021-03-10        24.8819561005   41874800         0.0000000000             0  \n",
       "2021-03-11        24.7820281982   30648100         0.0000000000             0  \n",
       "2021-03-12        24.5521945953   24567300         0.0000000000             0  \n",
       "...                         ...        ...                  ...           ...  \n",
       "2022-02-25         6.0100002289  133697800         0.0000000000             0  \n",
       "2022-03-02         6.3099999428  101490000         0.0000000000             0  \n",
       "2022-03-03         6.3099999428  102314000         0.0000000000             0  \n",
       "2022-03-04         6.1799998283   78111100         0.0000000000             0  \n",
       "2022-03-07         5.8499999046   87037200         0.0000000000             0  \n",
       "\n",
       "[249 rows x 7 columns]"
      ]
     },
     "execution_count": 47,
     "metadata": {},
     "output_type": "execute_result"
    }
   ],
   "source": [
    "hist"
   ]
  },
  {
   "cell_type": "code",
   "execution_count": 48,
   "id": "602b4ae4",
   "metadata": {
    "ExecuteTime": {
     "end_time": "2022-03-07T22:18:43.364519Z",
     "start_time": "2022-03-07T22:18:43.316629Z"
    }
   },
   "outputs": [
    {
     "data": {
      "text/html": [
       "<div>\n",
       "<style scoped>\n",
       "    .dataframe tbody tr th:only-of-type {\n",
       "        vertical-align: middle;\n",
       "    }\n",
       "\n",
       "    .dataframe tbody tr th {\n",
       "        vertical-align: top;\n",
       "    }\n",
       "\n",
       "    .dataframe thead th {\n",
       "        text-align: right;\n",
       "    }\n",
       "</style>\n",
       "<table border=\"1\" class=\"dataframe\">\n",
       "  <thead>\n",
       "    <tr style=\"text-align: right;\">\n",
       "      <th></th>\n",
       "      <th>Date</th>\n",
       "      <th>Preco</th>\n",
       "    </tr>\n",
       "  </thead>\n",
       "  <tbody>\n",
       "    <tr>\n",
       "      <th>0</th>\n",
       "      <td>2021-03-08</td>\n",
       "      <td>23.0832595825</td>\n",
       "    </tr>\n",
       "    <tr>\n",
       "      <th>1</th>\n",
       "      <td>2021-03-09</td>\n",
       "      <td>23.3730487823</td>\n",
       "    </tr>\n",
       "    <tr>\n",
       "      <th>2</th>\n",
       "      <td>2021-03-10</td>\n",
       "      <td>24.8819561005</td>\n",
       "    </tr>\n",
       "    <tr>\n",
       "      <th>3</th>\n",
       "      <td>2021-03-11</td>\n",
       "      <td>24.7820281982</td>\n",
       "    </tr>\n",
       "    <tr>\n",
       "      <th>4</th>\n",
       "      <td>2021-03-12</td>\n",
       "      <td>24.5521945953</td>\n",
       "    </tr>\n",
       "    <tr>\n",
       "      <th>...</th>\n",
       "      <td>...</td>\n",
       "      <td>...</td>\n",
       "    </tr>\n",
       "    <tr>\n",
       "      <th>244</th>\n",
       "      <td>2022-02-25</td>\n",
       "      <td>6.0100002289</td>\n",
       "    </tr>\n",
       "    <tr>\n",
       "      <th>245</th>\n",
       "      <td>2022-03-02</td>\n",
       "      <td>6.3099999428</td>\n",
       "    </tr>\n",
       "    <tr>\n",
       "      <th>246</th>\n",
       "      <td>2022-03-03</td>\n",
       "      <td>6.3099999428</td>\n",
       "    </tr>\n",
       "    <tr>\n",
       "      <th>247</th>\n",
       "      <td>2022-03-04</td>\n",
       "      <td>6.1799998283</td>\n",
       "    </tr>\n",
       "    <tr>\n",
       "      <th>248</th>\n",
       "      <td>2022-03-07</td>\n",
       "      <td>5.8499999046</td>\n",
       "    </tr>\n",
       "  </tbody>\n",
       "</table>\n",
       "<p>249 rows × 2 columns</p>\n",
       "</div>"
      ],
      "text/plain": [
       "          Date                Preco\n",
       "0   2021-03-08        23.0832595825\n",
       "1   2021-03-09        23.3730487823\n",
       "2   2021-03-10        24.8819561005\n",
       "3   2021-03-11        24.7820281982\n",
       "4   2021-03-12        24.5521945953\n",
       "..         ...                  ...\n",
       "244 2022-02-25         6.0100002289\n",
       "245 2022-03-02         6.3099999428\n",
       "246 2022-03-03         6.3099999428\n",
       "247 2022-03-04         6.1799998283\n",
       "248 2022-03-07         5.8499999046\n",
       "\n",
       "[249 rows x 2 columns]"
      ]
     },
     "execution_count": 48,
     "metadata": {},
     "output_type": "execute_result"
    }
   ],
   "source": [
    "#preparar\n",
    "df = hist[['Close']].copy()\n",
    "df.columns = ['Preco']\n",
    "df.reset_index(inplace=True)\n",
    "df['Date'] = pd.to_datetime(df['Date'])\n",
    "df"
   ]
  },
  {
   "cell_type": "code",
   "execution_count": 49,
   "id": "1a237c0e",
   "metadata": {
    "ExecuteTime": {
     "end_time": "2022-03-07T22:19:08.623847Z",
     "start_time": "2022-03-07T22:19:08.542668Z"
    }
   },
   "outputs": [
    {
     "data": {
      "text/html": [
       "<div>\n",
       "<style scoped>\n",
       "    .dataframe tbody tr th:only-of-type {\n",
       "        vertical-align: middle;\n",
       "    }\n",
       "\n",
       "    .dataframe tbody tr th {\n",
       "        vertical-align: top;\n",
       "    }\n",
       "\n",
       "    .dataframe thead th {\n",
       "        text-align: right;\n",
       "    }\n",
       "</style>\n",
       "<table border=\"1\" class=\"dataframe\">\n",
       "  <thead>\n",
       "    <tr style=\"text-align: right;\">\n",
       "      <th></th>\n",
       "      <th>Date</th>\n",
       "      <th>Preco</th>\n",
       "      <th>PD1</th>\n",
       "      <th>LgRet</th>\n",
       "    </tr>\n",
       "  </thead>\n",
       "  <tbody>\n",
       "    <tr>\n",
       "      <th>0</th>\n",
       "      <td>2021-03-08</td>\n",
       "      <td>23.0832595825</td>\n",
       "      <td>NaN</td>\n",
       "      <td>NaN</td>\n",
       "    </tr>\n",
       "    <tr>\n",
       "      <th>1</th>\n",
       "      <td>2021-03-09</td>\n",
       "      <td>23.3730487823</td>\n",
       "      <td>23.0832595825</td>\n",
       "      <td>0.0124759357</td>\n",
       "    </tr>\n",
       "    <tr>\n",
       "      <th>2</th>\n",
       "      <td>2021-03-10</td>\n",
       "      <td>24.8819561005</td>\n",
       "      <td>23.3730487823</td>\n",
       "      <td>0.0625592890</td>\n",
       "    </tr>\n",
       "    <tr>\n",
       "      <th>3</th>\n",
       "      <td>2021-03-11</td>\n",
       "      <td>24.7820281982</td>\n",
       "      <td>24.8819561005</td>\n",
       "      <td>-0.0040241651</td>\n",
       "    </tr>\n",
       "    <tr>\n",
       "      <th>4</th>\n",
       "      <td>2021-03-12</td>\n",
       "      <td>24.5521945953</td>\n",
       "      <td>24.7820281982</td>\n",
       "      <td>-0.0093174779</td>\n",
       "    </tr>\n",
       "    <tr>\n",
       "      <th>...</th>\n",
       "      <td>...</td>\n",
       "      <td>...</td>\n",
       "      <td>...</td>\n",
       "      <td>...</td>\n",
       "    </tr>\n",
       "    <tr>\n",
       "      <th>244</th>\n",
       "      <td>2022-02-25</td>\n",
       "      <td>6.0100002289</td>\n",
       "      <td>6.1199998856</td>\n",
       "      <td>-0.0181372912</td>\n",
       "    </tr>\n",
       "    <tr>\n",
       "      <th>245</th>\n",
       "      <td>2022-03-02</td>\n",
       "      <td>6.3099999428</td>\n",
       "      <td>6.0100002289</td>\n",
       "      <td>0.0487108809</td>\n",
       "    </tr>\n",
       "    <tr>\n",
       "      <th>246</th>\n",
       "      <td>2022-03-03</td>\n",
       "      <td>6.3099999428</td>\n",
       "      <td>6.3099999428</td>\n",
       "      <td>0.0000000000</td>\n",
       "    </tr>\n",
       "    <tr>\n",
       "      <th>247</th>\n",
       "      <td>2022-03-04</td>\n",
       "      <td>6.1799998283</td>\n",
       "      <td>6.3099999428</td>\n",
       "      <td>-0.0208174238</td>\n",
       "    </tr>\n",
       "    <tr>\n",
       "      <th>248</th>\n",
       "      <td>2022-03-07</td>\n",
       "      <td>5.8499999046</td>\n",
       "      <td>6.1799998283</td>\n",
       "      <td>-0.0548765988</td>\n",
       "    </tr>\n",
       "  </tbody>\n",
       "</table>\n",
       "<p>249 rows × 4 columns</p>\n",
       "</div>"
      ],
      "text/plain": [
       "          Date                Preco                  PD1                LgRet\n",
       "0   2021-03-08        23.0832595825                  NaN                  NaN\n",
       "1   2021-03-09        23.3730487823        23.0832595825         0.0124759357\n",
       "2   2021-03-10        24.8819561005        23.3730487823         0.0625592890\n",
       "3   2021-03-11        24.7820281982        24.8819561005        -0.0040241651\n",
       "4   2021-03-12        24.5521945953        24.7820281982        -0.0093174779\n",
       "..         ...                  ...                  ...                  ...\n",
       "244 2022-02-25         6.0100002289         6.1199998856        -0.0181372912\n",
       "245 2022-03-02         6.3099999428         6.0100002289         0.0487108809\n",
       "246 2022-03-03         6.3099999428         6.3099999428         0.0000000000\n",
       "247 2022-03-04         6.1799998283         6.3099999428        -0.0208174238\n",
       "248 2022-03-07         5.8499999046         6.1799998283        -0.0548765988\n",
       "\n",
       "[249 rows x 4 columns]"
      ]
     },
     "execution_count": 49,
     "metadata": {},
     "output_type": "execute_result"
    }
   ],
   "source": [
    "df['PD1'] = df['Preco'].shift(1)\n",
    "df['LgRet'] = np.log(df['Preco']/df['PD1'])\n",
    "df"
   ]
  },
  {
   "cell_type": "code",
   "execution_count": 50,
   "id": "5c6304ea",
   "metadata": {
    "ExecuteTime": {
     "end_time": "2022-03-07T22:20:47.126352Z",
     "start_time": "2022-03-07T22:20:47.100034Z"
    }
   },
   "outputs": [
    {
     "data": {
      "text/plain": [
       "0.0015619676236788792"
      ]
     },
     "execution_count": 50,
     "metadata": {},
     "output_type": "execute_result"
    }
   ],
   "source": [
    "variancia = df['LgRet'].var()\n",
    "variancia"
   ]
  },
  {
   "cell_type": "code",
   "execution_count": 51,
   "id": "57ad7496",
   "metadata": {
    "ExecuteTime": {
     "end_time": "2022-03-07T22:20:52.915571Z",
     "start_time": "2022-03-07T22:20:52.888720Z"
    }
   },
   "outputs": [
    {
     "data": {
      "text/plain": [
       "0.039521736091407716"
      ]
     },
     "execution_count": 51,
     "metadata": {},
     "output_type": "execute_result"
    }
   ],
   "source": [
    "vol1 = np.sqrt(variancia)\n",
    "vol1"
   ]
  },
  {
   "cell_type": "code",
   "execution_count": 52,
   "id": "bedd168b",
   "metadata": {
    "ExecuteTime": {
     "end_time": "2022-03-07T22:20:56.196196Z",
     "start_time": "2022-03-07T22:20:56.179979Z"
    }
   },
   "outputs": [
    {
     "data": {
      "text/plain": [
       "0.6273881104763444"
      ]
     },
     "execution_count": 52,
     "metadata": {},
     "output_type": "execute_result"
    }
   ],
   "source": [
    "vol1 * np.sqrt(252)"
   ]
  },
  {
   "cell_type": "markdown",
   "id": "1a7031f2",
   "metadata": {},
   "source": [
    "#### Algumas simplificações:\n",
    "\n",
    "É possível simplificar um pouco o cálculo se adotarmos algumas premissas:\n",
    "\n",
    "- A média de retornos é igual a 0\n",
    "- Usar $n$ ao invés de $n-1$\n",
    "\n",
    "Com estas alterações, nossa fórmula se torna:\n",
    "\n",
    "$$\\sigma^{2} = \\frac{1}{n} \\sum_{i=1}^{n} u_i^2$$\n",
    "\n",
    "Repare que é basicamente uma média simples do quadrado dos retornos."
   ]
  },
  {
   "cell_type": "code",
   "execution_count": 57,
   "id": "c61cc0c1",
   "metadata": {
    "ExecuteTime": {
     "end_time": "2022-03-07T22:25:23.381009Z",
     "start_time": "2022-03-07T22:25:23.351278Z"
    }
   },
   "outputs": [
    {
     "data": {
      "text/plain": [
       "0.03974838695177853"
      ]
     },
     "execution_count": 57,
     "metadata": {},
     "output_type": "execute_result"
    }
   ],
   "source": [
    "vol2 = np.sqrt((df['LgRet']**2).sum()/249)\n",
    "vol2"
   ]
  },
  {
   "cell_type": "code",
   "execution_count": 58,
   "id": "66cc65d4",
   "metadata": {
    "ExecuteTime": {
     "end_time": "2022-03-07T22:25:28.813663Z",
     "start_time": "2022-03-07T22:25:28.788410Z"
    }
   },
   "outputs": [
    {
     "data": {
      "text/plain": [
       "0.6309860813422242"
      ]
     },
     "execution_count": 58,
     "metadata": {},
     "output_type": "execute_result"
    }
   ],
   "source": [
    "vol2 * np.sqrt(252)"
   ]
  },
  {
   "cell_type": "code",
   "execution_count": 59,
   "id": "bc847937",
   "metadata": {
    "ExecuteTime": {
     "end_time": "2022-03-07T22:25:30.861190Z",
     "start_time": "2022-03-07T22:25:30.835552Z"
    },
    "scrolled": true
   },
   "outputs": [
    {
     "data": {
      "text/plain": [
       "0.35979708658798737"
      ]
     },
     "execution_count": 59,
     "metadata": {},
     "output_type": "execute_result"
    }
   ],
   "source": [
    "(vol2 * np.sqrt(252) - vol1 * np.sqrt(252))*100"
   ]
  },
  {
   "cell_type": "markdown",
   "id": "68c4af76",
   "metadata": {},
   "source": [
    "#### Críticas ao modelo Simples\n",
    "\n",
    "A crítica óbvia, claro, é que o modelo é simples, ele pressupõe que movimentos acontecidos no passado em momentos\n",
    "diferentes tem mesmo peso na determinação do futuro. \n",
    "\n",
    "Por exemplo, se um ativo teve um dia em que seu retorno foi de 9%, não haverá diferença caso este dia tenha ocorrido ontem ou há 3 meses.\n",
    "\n",
    "Vamos tentar evoluir nosso modelo de forma a tentar incorporar algumas soluções.\n",
    "\n",
    "### Média Móvel Exponencial Ponderada (*EWMA*)\n",
    "\n",
    "Para resolver a questão de que dados de dias mais antigos deveriam ter menor influência na volatilidade, define-se um modelo\n",
    "que pondera os retornos usando pesos com decaimento exponencial. Ou seja, o dia mais recente tem um peso maior no cálculo e \n",
    "os dias anteriores terão pesos menores.\n",
    "\n",
    "Esse modelo é chamado *Exponentially Weighted Moving Average* (*EWMA*) e para controlar estes pesos é introduzido o parâmetro $\\lambda$, que é chamado de parâmetro de suavização (*smoothing paramenter*).\n",
    "\n",
    "Repare que cada retorno utiliza pesos de valores diferentes, determinados por $\\lambda$.\n",
    "\n",
    "De forma que ao considerar todos os pesos teremos:\n",
    "\n",
    "$$\\sigma^{2} = \\sum_{i=0}^{n} u_i^2 (1-\\lambda)\\lambda^i$$\n",
    "\n",
    "é importante notar a ordem dos índices, que deve ser invertida, o índice 0 será o período mais recente, 1 o do período anterior e assim sucessivamente.\n",
    "\n",
    "Uma vantagem do *EWMA* é que ele pode ser calculado de forma recursiva:\n",
    "\n",
    "$$\\sigma_i^{2} = (1-\\lambda)u_{i-1}^2 + \\lambda \\sigma_{i-1}^2$$\n",
    "\n",
    "O valor de $\\sigma^2$ no tempo $i$ é definido pelo valor de $\\sigma^2$ no período anterior + o retorno do período anterior, ponderados por $\\lambda$."
   ]
  },
  {
   "cell_type": "code",
   "execution_count": 60,
   "id": "cc2175f3",
   "metadata": {
    "ExecuteTime": {
     "end_time": "2022-03-07T22:38:26.171153Z",
     "start_time": "2022-03-07T22:38:26.120516Z"
    }
   },
   "outputs": [
    {
     "data": {
      "text/html": [
       "<div>\n",
       "<style scoped>\n",
       "    .dataframe tbody tr th:only-of-type {\n",
       "        vertical-align: middle;\n",
       "    }\n",
       "\n",
       "    .dataframe tbody tr th {\n",
       "        vertical-align: top;\n",
       "    }\n",
       "\n",
       "    .dataframe thead th {\n",
       "        text-align: right;\n",
       "    }\n",
       "</style>\n",
       "<table border=\"1\" class=\"dataframe\">\n",
       "  <thead>\n",
       "    <tr style=\"text-align: right;\">\n",
       "      <th></th>\n",
       "      <th>Date</th>\n",
       "      <th>Preco</th>\n",
       "      <th>PD1</th>\n",
       "      <th>LgRet</th>\n",
       "      <th>u2</th>\n",
       "    </tr>\n",
       "  </thead>\n",
       "  <tbody>\n",
       "    <tr>\n",
       "      <th>0</th>\n",
       "      <td>2021-03-08</td>\n",
       "      <td>23.0832595825</td>\n",
       "      <td>NaN</td>\n",
       "      <td>NaN</td>\n",
       "      <td>NaN</td>\n",
       "    </tr>\n",
       "    <tr>\n",
       "      <th>1</th>\n",
       "      <td>2021-03-09</td>\n",
       "      <td>23.3730487823</td>\n",
       "      <td>23.0832595825</td>\n",
       "      <td>0.0124759357</td>\n",
       "      <td>0.0001556490</td>\n",
       "    </tr>\n",
       "    <tr>\n",
       "      <th>2</th>\n",
       "      <td>2021-03-10</td>\n",
       "      <td>24.8819561005</td>\n",
       "      <td>23.3730487823</td>\n",
       "      <td>0.0625592890</td>\n",
       "      <td>0.0039136646</td>\n",
       "    </tr>\n",
       "    <tr>\n",
       "      <th>3</th>\n",
       "      <td>2021-03-11</td>\n",
       "      <td>24.7820281982</td>\n",
       "      <td>24.8819561005</td>\n",
       "      <td>-0.0040241651</td>\n",
       "      <td>0.0000161939</td>\n",
       "    </tr>\n",
       "    <tr>\n",
       "      <th>4</th>\n",
       "      <td>2021-03-12</td>\n",
       "      <td>24.5521945953</td>\n",
       "      <td>24.7820281982</td>\n",
       "      <td>-0.0093174779</td>\n",
       "      <td>0.0000868154</td>\n",
       "    </tr>\n",
       "    <tr>\n",
       "      <th>...</th>\n",
       "      <td>...</td>\n",
       "      <td>...</td>\n",
       "      <td>...</td>\n",
       "      <td>...</td>\n",
       "      <td>...</td>\n",
       "    </tr>\n",
       "    <tr>\n",
       "      <th>244</th>\n",
       "      <td>2022-02-25</td>\n",
       "      <td>6.0100002289</td>\n",
       "      <td>6.1199998856</td>\n",
       "      <td>-0.0181372912</td>\n",
       "      <td>0.0003289613</td>\n",
       "    </tr>\n",
       "    <tr>\n",
       "      <th>245</th>\n",
       "      <td>2022-03-02</td>\n",
       "      <td>6.3099999428</td>\n",
       "      <td>6.0100002289</td>\n",
       "      <td>0.0487108809</td>\n",
       "      <td>0.0023727499</td>\n",
       "    </tr>\n",
       "    <tr>\n",
       "      <th>246</th>\n",
       "      <td>2022-03-03</td>\n",
       "      <td>6.3099999428</td>\n",
       "      <td>6.3099999428</td>\n",
       "      <td>0.0000000000</td>\n",
       "      <td>0.0000000000</td>\n",
       "    </tr>\n",
       "    <tr>\n",
       "      <th>247</th>\n",
       "      <td>2022-03-04</td>\n",
       "      <td>6.1799998283</td>\n",
       "      <td>6.3099999428</td>\n",
       "      <td>-0.0208174238</td>\n",
       "      <td>0.0004333651</td>\n",
       "    </tr>\n",
       "    <tr>\n",
       "      <th>248</th>\n",
       "      <td>2022-03-07</td>\n",
       "      <td>5.8499999046</td>\n",
       "      <td>6.1799998283</td>\n",
       "      <td>-0.0548765988</td>\n",
       "      <td>0.0030114411</td>\n",
       "    </tr>\n",
       "  </tbody>\n",
       "</table>\n",
       "<p>249 rows × 5 columns</p>\n",
       "</div>"
      ],
      "text/plain": [
       "          Date                Preco                  PD1                LgRet  \\\n",
       "0   2021-03-08        23.0832595825                  NaN                  NaN   \n",
       "1   2021-03-09        23.3730487823        23.0832595825         0.0124759357   \n",
       "2   2021-03-10        24.8819561005        23.3730487823         0.0625592890   \n",
       "3   2021-03-11        24.7820281982        24.8819561005        -0.0040241651   \n",
       "4   2021-03-12        24.5521945953        24.7820281982        -0.0093174779   \n",
       "..         ...                  ...                  ...                  ...   \n",
       "244 2022-02-25         6.0100002289         6.1199998856        -0.0181372912   \n",
       "245 2022-03-02         6.3099999428         6.0100002289         0.0487108809   \n",
       "246 2022-03-03         6.3099999428         6.3099999428         0.0000000000   \n",
       "247 2022-03-04         6.1799998283         6.3099999428        -0.0208174238   \n",
       "248 2022-03-07         5.8499999046         6.1799998283        -0.0548765988   \n",
       "\n",
       "                      u2  \n",
       "0                    NaN  \n",
       "1           0.0001556490  \n",
       "2           0.0039136646  \n",
       "3           0.0000161939  \n",
       "4           0.0000868154  \n",
       "..                   ...  \n",
       "244         0.0003289613  \n",
       "245         0.0023727499  \n",
       "246         0.0000000000  \n",
       "247         0.0004333651  \n",
       "248         0.0030114411  \n",
       "\n",
       "[249 rows x 5 columns]"
      ]
     },
     "execution_count": 60,
     "metadata": {},
     "output_type": "execute_result"
    }
   ],
   "source": [
    "df['u2'] = df['LgRet']**2\n",
    "df"
   ]
  },
  {
   "cell_type": "code",
   "execution_count": 85,
   "id": "90cc8501",
   "metadata": {
    "ExecuteTime": {
     "end_time": "2022-03-07T22:46:21.821641Z",
     "start_time": "2022-03-07T22:46:21.757891Z"
    }
   },
   "outputs": [
    {
     "data": {
      "text/html": [
       "<div>\n",
       "<style scoped>\n",
       "    .dataframe tbody tr th:only-of-type {\n",
       "        vertical-align: middle;\n",
       "    }\n",
       "\n",
       "    .dataframe tbody tr th {\n",
       "        vertical-align: top;\n",
       "    }\n",
       "\n",
       "    .dataframe thead th {\n",
       "        text-align: right;\n",
       "    }\n",
       "</style>\n",
       "<table border=\"1\" class=\"dataframe\">\n",
       "  <thead>\n",
       "    <tr style=\"text-align: right;\">\n",
       "      <th></th>\n",
       "      <th>Date</th>\n",
       "      <th>Preco</th>\n",
       "      <th>PD1</th>\n",
       "      <th>LgRet</th>\n",
       "      <th>u2</th>\n",
       "      <th>delta</th>\n",
       "      <th>peso</th>\n",
       "      <th>pre_vol</th>\n",
       "    </tr>\n",
       "  </thead>\n",
       "  <tbody>\n",
       "    <tr>\n",
       "      <th>0</th>\n",
       "      <td>2021-03-08</td>\n",
       "      <td>23.0832595825</td>\n",
       "      <td>NaN</td>\n",
       "      <td>NaN</td>\n",
       "      <td>NaN</td>\n",
       "      <td>248</td>\n",
       "      <td>0.0000000000</td>\n",
       "      <td>NaN</td>\n",
       "    </tr>\n",
       "    <tr>\n",
       "      <th>1</th>\n",
       "      <td>2021-03-09</td>\n",
       "      <td>23.3730487823</td>\n",
       "      <td>23.0832595825</td>\n",
       "      <td>0.0124759357</td>\n",
       "      <td>0.0001556490</td>\n",
       "      <td>247</td>\n",
       "      <td>0.0000000000</td>\n",
       "      <td>0.0000000000</td>\n",
       "    </tr>\n",
       "    <tr>\n",
       "      <th>2</th>\n",
       "      <td>2021-03-10</td>\n",
       "      <td>24.8819561005</td>\n",
       "      <td>23.3730487823</td>\n",
       "      <td>0.0625592890</td>\n",
       "      <td>0.0039136646</td>\n",
       "      <td>246</td>\n",
       "      <td>0.0000000000</td>\n",
       "      <td>0.0000000000</td>\n",
       "    </tr>\n",
       "    <tr>\n",
       "      <th>3</th>\n",
       "      <td>2021-03-11</td>\n",
       "      <td>24.7820281982</td>\n",
       "      <td>24.8819561005</td>\n",
       "      <td>-0.0040241651</td>\n",
       "      <td>0.0000161939</td>\n",
       "      <td>245</td>\n",
       "      <td>0.0000000000</td>\n",
       "      <td>0.0000000000</td>\n",
       "    </tr>\n",
       "    <tr>\n",
       "      <th>4</th>\n",
       "      <td>2021-03-12</td>\n",
       "      <td>24.5521945953</td>\n",
       "      <td>24.7820281982</td>\n",
       "      <td>-0.0093174779</td>\n",
       "      <td>0.0000868154</td>\n",
       "      <td>244</td>\n",
       "      <td>0.0000000000</td>\n",
       "      <td>0.0000000000</td>\n",
       "    </tr>\n",
       "    <tr>\n",
       "      <th>...</th>\n",
       "      <td>...</td>\n",
       "      <td>...</td>\n",
       "      <td>...</td>\n",
       "      <td>...</td>\n",
       "      <td>...</td>\n",
       "      <td>...</td>\n",
       "      <td>...</td>\n",
       "      <td>...</td>\n",
       "    </tr>\n",
       "    <tr>\n",
       "      <th>244</th>\n",
       "      <td>2022-02-25</td>\n",
       "      <td>6.0100002289</td>\n",
       "      <td>6.1199998856</td>\n",
       "      <td>-0.0181372912</td>\n",
       "      <td>0.0003289613</td>\n",
       "      <td>4</td>\n",
       "      <td>0.0819200000</td>\n",
       "      <td>0.0000269485</td>\n",
       "    </tr>\n",
       "    <tr>\n",
       "      <th>245</th>\n",
       "      <td>2022-03-02</td>\n",
       "      <td>6.3099999428</td>\n",
       "      <td>6.0100002289</td>\n",
       "      <td>0.0487108809</td>\n",
       "      <td>0.0023727499</td>\n",
       "      <td>3</td>\n",
       "      <td>0.1024000000</td>\n",
       "      <td>0.0002429696</td>\n",
       "    </tr>\n",
       "    <tr>\n",
       "      <th>246</th>\n",
       "      <td>2022-03-03</td>\n",
       "      <td>6.3099999428</td>\n",
       "      <td>6.3099999428</td>\n",
       "      <td>0.0000000000</td>\n",
       "      <td>0.0000000000</td>\n",
       "      <td>2</td>\n",
       "      <td>0.1280000000</td>\n",
       "      <td>0.0000000000</td>\n",
       "    </tr>\n",
       "    <tr>\n",
       "      <th>247</th>\n",
       "      <td>2022-03-04</td>\n",
       "      <td>6.1799998283</td>\n",
       "      <td>6.3099999428</td>\n",
       "      <td>-0.0208174238</td>\n",
       "      <td>0.0004333651</td>\n",
       "      <td>1</td>\n",
       "      <td>0.1600000000</td>\n",
       "      <td>0.0000693384</td>\n",
       "    </tr>\n",
       "    <tr>\n",
       "      <th>248</th>\n",
       "      <td>2022-03-07</td>\n",
       "      <td>5.8499999046</td>\n",
       "      <td>6.1799998283</td>\n",
       "      <td>-0.0548765988</td>\n",
       "      <td>0.0030114411</td>\n",
       "      <td>0</td>\n",
       "      <td>0.2000000000</td>\n",
       "      <td>0.0006022882</td>\n",
       "    </tr>\n",
       "  </tbody>\n",
       "</table>\n",
       "<p>249 rows × 8 columns</p>\n",
       "</div>"
      ],
      "text/plain": [
       "          Date                Preco                  PD1                LgRet  \\\n",
       "0   2021-03-08        23.0832595825                  NaN                  NaN   \n",
       "1   2021-03-09        23.3730487823        23.0832595825         0.0124759357   \n",
       "2   2021-03-10        24.8819561005        23.3730487823         0.0625592890   \n",
       "3   2021-03-11        24.7820281982        24.8819561005        -0.0040241651   \n",
       "4   2021-03-12        24.5521945953        24.7820281982        -0.0093174779   \n",
       "..         ...                  ...                  ...                  ...   \n",
       "244 2022-02-25         6.0100002289         6.1199998856        -0.0181372912   \n",
       "245 2022-03-02         6.3099999428         6.0100002289         0.0487108809   \n",
       "246 2022-03-03         6.3099999428         6.3099999428         0.0000000000   \n",
       "247 2022-03-04         6.1799998283         6.3099999428        -0.0208174238   \n",
       "248 2022-03-07         5.8499999046         6.1799998283        -0.0548765988   \n",
       "\n",
       "                      u2  delta                 peso              pre_vol  \n",
       "0                    NaN    248         0.0000000000                  NaN  \n",
       "1           0.0001556490    247         0.0000000000         0.0000000000  \n",
       "2           0.0039136646    246         0.0000000000         0.0000000000  \n",
       "3           0.0000161939    245         0.0000000000         0.0000000000  \n",
       "4           0.0000868154    244         0.0000000000         0.0000000000  \n",
       "..                   ...    ...                  ...                  ...  \n",
       "244         0.0003289613      4         0.0819200000         0.0000269485  \n",
       "245         0.0023727499      3         0.1024000000         0.0002429696  \n",
       "246         0.0000000000      2         0.1280000000         0.0000000000  \n",
       "247         0.0004333651      1         0.1600000000         0.0000693384  \n",
       "248         0.0030114411      0         0.2000000000         0.0006022882  \n",
       "\n",
       "[249 rows x 8 columns]"
      ]
     },
     "execution_count": 85,
     "metadata": {},
     "output_type": "execute_result"
    }
   ],
   "source": [
    "import datetime as dt\n",
    "lmbda = 0.94\n",
    "#df['delta'] = abs(df['Date'].dt.date - dt.date(2022, 1, 14)).dt.days\n",
    "n = len(df['u2'])\n",
    "df['delta'] = np.arange(n-1, -1, -1)\n",
    "df"
   ]
  },
  {
   "cell_type": "code",
   "execution_count": 86,
   "id": "1c8f12d5",
   "metadata": {
    "ExecuteTime": {
     "end_time": "2022-03-07T22:46:24.553041Z",
     "start_time": "2022-03-07T22:46:24.515110Z"
    }
   },
   "outputs": [
    {
     "data": {
      "text/html": [
       "<div>\n",
       "<style scoped>\n",
       "    .dataframe tbody tr th:only-of-type {\n",
       "        vertical-align: middle;\n",
       "    }\n",
       "\n",
       "    .dataframe tbody tr th {\n",
       "        vertical-align: top;\n",
       "    }\n",
       "\n",
       "    .dataframe thead th {\n",
       "        text-align: right;\n",
       "    }\n",
       "</style>\n",
       "<table border=\"1\" class=\"dataframe\">\n",
       "  <thead>\n",
       "    <tr style=\"text-align: right;\">\n",
       "      <th></th>\n",
       "      <th>Date</th>\n",
       "      <th>Preco</th>\n",
       "      <th>PD1</th>\n",
       "      <th>LgRet</th>\n",
       "      <th>u2</th>\n",
       "      <th>delta</th>\n",
       "      <th>peso</th>\n",
       "      <th>pre_vol</th>\n",
       "    </tr>\n",
       "  </thead>\n",
       "  <tbody>\n",
       "    <tr>\n",
       "      <th>0</th>\n",
       "      <td>2021-03-08</td>\n",
       "      <td>23.0832595825</td>\n",
       "      <td>NaN</td>\n",
       "      <td>NaN</td>\n",
       "      <td>NaN</td>\n",
       "      <td>248</td>\n",
       "      <td>0.0000000130</td>\n",
       "      <td>NaN</td>\n",
       "    </tr>\n",
       "    <tr>\n",
       "      <th>1</th>\n",
       "      <td>2021-03-09</td>\n",
       "      <td>23.3730487823</td>\n",
       "      <td>23.0832595825</td>\n",
       "      <td>0.0124759357</td>\n",
       "      <td>0.0001556490</td>\n",
       "      <td>247</td>\n",
       "      <td>0.0000000138</td>\n",
       "      <td>0.0000000000</td>\n",
       "    </tr>\n",
       "    <tr>\n",
       "      <th>2</th>\n",
       "      <td>2021-03-10</td>\n",
       "      <td>24.8819561005</td>\n",
       "      <td>23.3730487823</td>\n",
       "      <td>0.0625592890</td>\n",
       "      <td>0.0039136646</td>\n",
       "      <td>246</td>\n",
       "      <td>0.0000000147</td>\n",
       "      <td>0.0000000000</td>\n",
       "    </tr>\n",
       "    <tr>\n",
       "      <th>3</th>\n",
       "      <td>2021-03-11</td>\n",
       "      <td>24.7820281982</td>\n",
       "      <td>24.8819561005</td>\n",
       "      <td>-0.0040241651</td>\n",
       "      <td>0.0000161939</td>\n",
       "      <td>245</td>\n",
       "      <td>0.0000000156</td>\n",
       "      <td>0.0000000000</td>\n",
       "    </tr>\n",
       "    <tr>\n",
       "      <th>4</th>\n",
       "      <td>2021-03-12</td>\n",
       "      <td>24.5521945953</td>\n",
       "      <td>24.7820281982</td>\n",
       "      <td>-0.0093174779</td>\n",
       "      <td>0.0000868154</td>\n",
       "      <td>244</td>\n",
       "      <td>0.0000000166</td>\n",
       "      <td>0.0000000000</td>\n",
       "    </tr>\n",
       "    <tr>\n",
       "      <th>...</th>\n",
       "      <td>...</td>\n",
       "      <td>...</td>\n",
       "      <td>...</td>\n",
       "      <td>...</td>\n",
       "      <td>...</td>\n",
       "      <td>...</td>\n",
       "      <td>...</td>\n",
       "      <td>...</td>\n",
       "    </tr>\n",
       "    <tr>\n",
       "      <th>244</th>\n",
       "      <td>2022-02-25</td>\n",
       "      <td>6.0100002289</td>\n",
       "      <td>6.1199998856</td>\n",
       "      <td>-0.0181372912</td>\n",
       "      <td>0.0003289613</td>\n",
       "      <td>4</td>\n",
       "      <td>0.0468449376</td>\n",
       "      <td>0.0000269485</td>\n",
       "    </tr>\n",
       "    <tr>\n",
       "      <th>245</th>\n",
       "      <td>2022-03-02</td>\n",
       "      <td>6.3099999428</td>\n",
       "      <td>6.0100002289</td>\n",
       "      <td>0.0487108809</td>\n",
       "      <td>0.0023727499</td>\n",
       "      <td>3</td>\n",
       "      <td>0.0498350400</td>\n",
       "      <td>0.0002429696</td>\n",
       "    </tr>\n",
       "    <tr>\n",
       "      <th>246</th>\n",
       "      <td>2022-03-03</td>\n",
       "      <td>6.3099999428</td>\n",
       "      <td>6.3099999428</td>\n",
       "      <td>0.0000000000</td>\n",
       "      <td>0.0000000000</td>\n",
       "      <td>2</td>\n",
       "      <td>0.0530160000</td>\n",
       "      <td>0.0000000000</td>\n",
       "    </tr>\n",
       "    <tr>\n",
       "      <th>247</th>\n",
       "      <td>2022-03-04</td>\n",
       "      <td>6.1799998283</td>\n",
       "      <td>6.3099999428</td>\n",
       "      <td>-0.0208174238</td>\n",
       "      <td>0.0004333651</td>\n",
       "      <td>1</td>\n",
       "      <td>0.0564000000</td>\n",
       "      <td>0.0000693384</td>\n",
       "    </tr>\n",
       "    <tr>\n",
       "      <th>248</th>\n",
       "      <td>2022-03-07</td>\n",
       "      <td>5.8499999046</td>\n",
       "      <td>6.1799998283</td>\n",
       "      <td>-0.0548765988</td>\n",
       "      <td>0.0030114411</td>\n",
       "      <td>0</td>\n",
       "      <td>0.0600000000</td>\n",
       "      <td>0.0006022882</td>\n",
       "    </tr>\n",
       "  </tbody>\n",
       "</table>\n",
       "<p>249 rows × 8 columns</p>\n",
       "</div>"
      ],
      "text/plain": [
       "          Date                Preco                  PD1                LgRet  \\\n",
       "0   2021-03-08        23.0832595825                  NaN                  NaN   \n",
       "1   2021-03-09        23.3730487823        23.0832595825         0.0124759357   \n",
       "2   2021-03-10        24.8819561005        23.3730487823         0.0625592890   \n",
       "3   2021-03-11        24.7820281982        24.8819561005        -0.0040241651   \n",
       "4   2021-03-12        24.5521945953        24.7820281982        -0.0093174779   \n",
       "..         ...                  ...                  ...                  ...   \n",
       "244 2022-02-25         6.0100002289         6.1199998856        -0.0181372912   \n",
       "245 2022-03-02         6.3099999428         6.0100002289         0.0487108809   \n",
       "246 2022-03-03         6.3099999428         6.3099999428         0.0000000000   \n",
       "247 2022-03-04         6.1799998283         6.3099999428        -0.0208174238   \n",
       "248 2022-03-07         5.8499999046         6.1799998283        -0.0548765988   \n",
       "\n",
       "                      u2  delta                 peso              pre_vol  \n",
       "0                    NaN    248         0.0000000130                  NaN  \n",
       "1           0.0001556490    247         0.0000000138         0.0000000000  \n",
       "2           0.0039136646    246         0.0000000147         0.0000000000  \n",
       "3           0.0000161939    245         0.0000000156         0.0000000000  \n",
       "4           0.0000868154    244         0.0000000166         0.0000000000  \n",
       "..                   ...    ...                  ...                  ...  \n",
       "244         0.0003289613      4         0.0468449376         0.0000269485  \n",
       "245         0.0023727499      3         0.0498350400         0.0002429696  \n",
       "246         0.0000000000      2         0.0530160000         0.0000000000  \n",
       "247         0.0004333651      1         0.0564000000         0.0000693384  \n",
       "248         0.0030114411      0         0.0600000000         0.0006022882  \n",
       "\n",
       "[249 rows x 8 columns]"
      ]
     },
     "execution_count": 86,
     "metadata": {},
     "output_type": "execute_result"
    }
   ],
   "source": [
    "df['peso'] = (1-lmbda ) * np.power(lmbda, df['delta'])\n",
    "df"
   ]
  },
  {
   "cell_type": "code",
   "execution_count": 87,
   "id": "7115354a",
   "metadata": {
    "ExecuteTime": {
     "end_time": "2022-03-07T22:46:27.705954Z",
     "start_time": "2022-03-07T22:46:26.955866Z"
    }
   },
   "outputs": [
    {
     "data": {
      "image/png": "[encoded data removed]",
      "text/plain": [
       "<Figure size 1296x540 with 1 Axes>"
      ]
     },
     "metadata": {
      "needs_background": "light"
     },
     "output_type": "display_data"
    }
   ],
   "source": [
    "plt.figure(figsize=(18,7.5))\n",
    "plt.plot(df['delta'],df['peso'])\n",
    "plt.show()"
   ]
  },
  {
   "cell_type": "code",
   "execution_count": 88,
   "id": "68415ab1",
   "metadata": {
    "ExecuteTime": {
     "end_time": "2022-03-07T22:46:30.276572Z",
     "start_time": "2022-03-07T22:46:30.222094Z"
    }
   },
   "outputs": [
    {
     "data": {
      "text/html": [
       "<div>\n",
       "<style scoped>\n",
       "    .dataframe tbody tr th:only-of-type {\n",
       "        vertical-align: middle;\n",
       "    }\n",
       "\n",
       "    .dataframe tbody tr th {\n",
       "        vertical-align: top;\n",
       "    }\n",
       "\n",
       "    .dataframe thead th {\n",
       "        text-align: right;\n",
       "    }\n",
       "</style>\n",
       "<table border=\"1\" class=\"dataframe\">\n",
       "  <thead>\n",
       "    <tr style=\"text-align: right;\">\n",
       "      <th></th>\n",
       "      <th>Date</th>\n",
       "      <th>Preco</th>\n",
       "      <th>PD1</th>\n",
       "      <th>LgRet</th>\n",
       "      <th>u2</th>\n",
       "      <th>delta</th>\n",
       "      <th>peso</th>\n",
       "      <th>pre_vol</th>\n",
       "    </tr>\n",
       "  </thead>\n",
       "  <tbody>\n",
       "    <tr>\n",
       "      <th>0</th>\n",
       "      <td>2021-03-08</td>\n",
       "      <td>23.0832595825</td>\n",
       "      <td>NaN</td>\n",
       "      <td>NaN</td>\n",
       "      <td>NaN</td>\n",
       "      <td>248</td>\n",
       "      <td>0.0000000130</td>\n",
       "      <td>NaN</td>\n",
       "    </tr>\n",
       "    <tr>\n",
       "      <th>1</th>\n",
       "      <td>2021-03-09</td>\n",
       "      <td>23.3730487823</td>\n",
       "      <td>23.0832595825</td>\n",
       "      <td>0.0124759357</td>\n",
       "      <td>0.0001556490</td>\n",
       "      <td>247</td>\n",
       "      <td>0.0000000138</td>\n",
       "      <td>0.0000000000</td>\n",
       "    </tr>\n",
       "    <tr>\n",
       "      <th>2</th>\n",
       "      <td>2021-03-10</td>\n",
       "      <td>24.8819561005</td>\n",
       "      <td>23.3730487823</td>\n",
       "      <td>0.0625592890</td>\n",
       "      <td>0.0039136646</td>\n",
       "      <td>246</td>\n",
       "      <td>0.0000000147</td>\n",
       "      <td>0.0000000001</td>\n",
       "    </tr>\n",
       "    <tr>\n",
       "      <th>3</th>\n",
       "      <td>2021-03-11</td>\n",
       "      <td>24.7820281982</td>\n",
       "      <td>24.8819561005</td>\n",
       "      <td>-0.0040241651</td>\n",
       "      <td>0.0000161939</td>\n",
       "      <td>245</td>\n",
       "      <td>0.0000000156</td>\n",
       "      <td>0.0000000000</td>\n",
       "    </tr>\n",
       "    <tr>\n",
       "      <th>4</th>\n",
       "      <td>2021-03-12</td>\n",
       "      <td>24.5521945953</td>\n",
       "      <td>24.7820281982</td>\n",
       "      <td>-0.0093174779</td>\n",
       "      <td>0.0000868154</td>\n",
       "      <td>244</td>\n",
       "      <td>0.0000000166</td>\n",
       "      <td>0.0000000000</td>\n",
       "    </tr>\n",
       "    <tr>\n",
       "      <th>...</th>\n",
       "      <td>...</td>\n",
       "      <td>...</td>\n",
       "      <td>...</td>\n",
       "      <td>...</td>\n",
       "      <td>...</td>\n",
       "      <td>...</td>\n",
       "      <td>...</td>\n",
       "      <td>...</td>\n",
       "    </tr>\n",
       "    <tr>\n",
       "      <th>244</th>\n",
       "      <td>2022-02-25</td>\n",
       "      <td>6.0100002289</td>\n",
       "      <td>6.1199998856</td>\n",
       "      <td>-0.0181372912</td>\n",
       "      <td>0.0003289613</td>\n",
       "      <td>4</td>\n",
       "      <td>0.0468449376</td>\n",
       "      <td>0.0000154102</td>\n",
       "    </tr>\n",
       "    <tr>\n",
       "      <th>245</th>\n",
       "      <td>2022-03-02</td>\n",
       "      <td>6.3099999428</td>\n",
       "      <td>6.0100002289</td>\n",
       "      <td>0.0487108809</td>\n",
       "      <td>0.0023727499</td>\n",
       "      <td>3</td>\n",
       "      <td>0.0498350400</td>\n",
       "      <td>0.0001182461</td>\n",
       "    </tr>\n",
       "    <tr>\n",
       "      <th>246</th>\n",
       "      <td>2022-03-03</td>\n",
       "      <td>6.3099999428</td>\n",
       "      <td>6.3099999428</td>\n",
       "      <td>0.0000000000</td>\n",
       "      <td>0.0000000000</td>\n",
       "      <td>2</td>\n",
       "      <td>0.0530160000</td>\n",
       "      <td>0.0000000000</td>\n",
       "    </tr>\n",
       "    <tr>\n",
       "      <th>247</th>\n",
       "      <td>2022-03-04</td>\n",
       "      <td>6.1799998283</td>\n",
       "      <td>6.3099999428</td>\n",
       "      <td>-0.0208174238</td>\n",
       "      <td>0.0004333651</td>\n",
       "      <td>1</td>\n",
       "      <td>0.0564000000</td>\n",
       "      <td>0.0000244418</td>\n",
       "    </tr>\n",
       "    <tr>\n",
       "      <th>248</th>\n",
       "      <td>2022-03-07</td>\n",
       "      <td>5.8499999046</td>\n",
       "      <td>6.1799998283</td>\n",
       "      <td>-0.0548765988</td>\n",
       "      <td>0.0030114411</td>\n",
       "      <td>0</td>\n",
       "      <td>0.0600000000</td>\n",
       "      <td>0.0001806865</td>\n",
       "    </tr>\n",
       "  </tbody>\n",
       "</table>\n",
       "<p>249 rows × 8 columns</p>\n",
       "</div>"
      ],
      "text/plain": [
       "          Date                Preco                  PD1                LgRet  \\\n",
       "0   2021-03-08        23.0832595825                  NaN                  NaN   \n",
       "1   2021-03-09        23.3730487823        23.0832595825         0.0124759357   \n",
       "2   2021-03-10        24.8819561005        23.3730487823         0.0625592890   \n",
       "3   2021-03-11        24.7820281982        24.8819561005        -0.0040241651   \n",
       "4   2021-03-12        24.5521945953        24.7820281982        -0.0093174779   \n",
       "..         ...                  ...                  ...                  ...   \n",
       "244 2022-02-25         6.0100002289         6.1199998856        -0.0181372912   \n",
       "245 2022-03-02         6.3099999428         6.0100002289         0.0487108809   \n",
       "246 2022-03-03         6.3099999428         6.3099999428         0.0000000000   \n",
       "247 2022-03-04         6.1799998283         6.3099999428        -0.0208174238   \n",
       "248 2022-03-07         5.8499999046         6.1799998283        -0.0548765988   \n",
       "\n",
       "                      u2  delta                 peso              pre_vol  \n",
       "0                    NaN    248         0.0000000130                  NaN  \n",
       "1           0.0001556490    247         0.0000000138         0.0000000000  \n",
       "2           0.0039136646    246         0.0000000147         0.0000000001  \n",
       "3           0.0000161939    245         0.0000000156         0.0000000000  \n",
       "4           0.0000868154    244         0.0000000166         0.0000000000  \n",
       "..                   ...    ...                  ...                  ...  \n",
       "244         0.0003289613      4         0.0468449376         0.0000154102  \n",
       "245         0.0023727499      3         0.0498350400         0.0001182461  \n",
       "246         0.0000000000      2         0.0530160000         0.0000000000  \n",
       "247         0.0004333651      1         0.0564000000         0.0000244418  \n",
       "248         0.0030114411      0         0.0600000000         0.0001806865  \n",
       "\n",
       "[249 rows x 8 columns]"
      ]
     },
     "execution_count": 88,
     "metadata": {},
     "output_type": "execute_result"
    }
   ],
   "source": [
    "df['pre_vol'] = df['peso'] * df['u2']\n",
    "df"
   ]
  },
  {
   "cell_type": "code",
   "execution_count": 89,
   "id": "c34cffa9",
   "metadata": {
    "ExecuteTime": {
     "end_time": "2022-03-07T22:46:32.589411Z",
     "start_time": "2022-03-07T22:46:32.563571Z"
    }
   },
   "outputs": [
    {
     "data": {
      "text/plain": [
       "0.0423048981729693"
      ]
     },
     "execution_count": 89,
     "metadata": {},
     "output_type": "execute_result"
    }
   ],
   "source": [
    "vol3 = np.sqrt(df['pre_vol'].sum())\n",
    "vol3"
   ]
  },
  {
   "cell_type": "code",
   "execution_count": 90,
   "id": "15394878",
   "metadata": {
    "ExecuteTime": {
     "end_time": "2022-03-07T22:46:35.393563Z",
     "start_time": "2022-03-07T22:46:34.794652Z"
    }
   },
   "outputs": [
    {
     "data": {
      "image/png": "[encoded data removed]",
      "text/plain": [
       "<Figure size 1296x540 with 1 Axes>"
      ]
     },
     "metadata": {
      "needs_background": "light"
     },
     "output_type": "display_data"
    }
   ],
   "source": [
    "plt.figure(figsize=(18,7.5))\n",
    "df['pre_vol'].plot()\n",
    "plt.grid(visible='on')\n",
    "plt.show()"
   ]
  },
  {
   "cell_type": "code",
   "execution_count": 91,
   "id": "1a5bc217",
   "metadata": {
    "ExecuteTime": {
     "end_time": "2022-03-07T22:46:39.696493Z",
     "start_time": "2022-03-07T22:46:39.670466Z"
    }
   },
   "outputs": [
    {
     "data": {
      "text/plain": [
       "0.6715694388335252"
      ]
     },
     "execution_count": 91,
     "metadata": {},
     "output_type": "execute_result"
    }
   ],
   "source": [
    "vol3 * np.sqrt(252)"
   ]
  },
  {
   "cell_type": "markdown",
   "id": "f9185940",
   "metadata": {},
   "source": [
    "### Volatilidade Implícita (*IV*)\n",
    "\n",
    "Sabemos que o valor de um ativo é reflexo do consenso dos participantes com relação ao seu desempenho esperado.\n",
    "E que podemos considerar até certo ponto que os mercados são eficientes. Então seria possível usar o próprio mercado para \n",
    "estimar a volatilidade do ativo?\n",
    "\n",
    "Vamos lembrar da equação de *Black-Scholes-Merton* (*BSM*) para o preço de uma *call*/*put* europeia.\n",
    "\n",
    "$$  c = S_0 N(d_1) - K e^{-rT} N(d_2) $$\n",
    "\n",
    "e \n",
    "\n",
    "$$ p = K e^{-rT} N(-d_2) - S_0 N(-d_1) $$\n",
    "\n",
    "Onde:\n",
    "\n",
    "$$ d_1 = \\frac{ ln(S_0/K) + (r + \\sigma^2/2) T }{ \\sigma \\sqrt T} $$\n",
    "\n",
    "$$ d_2 = \\frac{ ln(S_0/K) + (r - \\sigma^2/2) T }{ \\sigma \\sqrt T} = d_1 - \\sigma \\sqrt T $$\n",
    "\n",
    "Em que:\n",
    "\n",
    "A função *N(x)* é a função de distribuição de probabilidade cumulativa para uma variável com distribuição normal padrão. \n",
    "\n",
    "- As variáveis $c$ e $p$ são o preço da opção de compra e da de venda europeias, \n",
    "- $S_0$ é o preço da ação no tempo zero, \n",
    "- $K$ é o preço de exercício (*strike*), \n",
    "- $r$ é a taxa de juros livre de risco com capitalização contínua,\n",
    "- $\\sigma$ é a volatilidade do preço da ação e \n",
    "- $T$ é o tempo até a maturidade da opção.\n",
    "\n",
    "Perceba que os preços das opções dependem de $\\sigma$, um valor de volatividade para o ativo objeto.\n",
    "\n",
    "Ao invés de usar *BSM* para obter o preço da opção, nós podemos usar os preços de mercado de uma opção para estimar a volatilidade que gerou tal preço.\n",
    "\n",
    "O processo não é simples pois seria difícil isolar $\\sigma$ em *BSM*. Mas é possível usar etapas de otimização da função \n",
    "*BSM* variando $\\sigma$ até obter um valor aproximado da opção e dessa forma, usar retornar o $\\sigma$."
   ]
  },
  {
   "cell_type": "code",
   "execution_count": 92,
   "id": "36f88428",
   "metadata": {
    "ExecuteTime": {
     "end_time": "2022-03-07T22:56:08.687966Z",
     "start_time": "2022-03-07T22:56:08.670741Z"
    }
   },
   "outputs": [
    {
     "data": {
      "text/plain": [
       "0.10210522293715359"
      ]
     },
     "execution_count": 92,
     "metadata": {},
     "output_type": "execute_result"
    }
   ],
   "source": [
    "r = np.log(1 + 0.1075)\n",
    "r"
   ]
  },
  {
   "cell_type": "code",
   "execution_count": 94,
   "id": "f4dface9",
   "metadata": {
    "ExecuteTime": {
     "end_time": "2022-03-07T22:59:13.765737Z",
     "start_time": "2022-03-07T22:59:13.741416Z"
    }
   },
   "outputs": [
    {
     "name": "stdout",
     "output_type": "stream",
     "text": [
      "taxa livre de risco 0.1\n",
      "preço da ação 6.33\n",
      "preço da opção 0.06\n",
      "Strike 6.33\n",
      "Tempo 0.02\n"
     ]
    }
   ],
   "source": [
    "#MGLU3\n",
    "\n",
    "print('taxa livre de risco', round(r,2))\n",
    "print('preço da ação', 6.33)\n",
    "print('preço da opção', 0.06)\n",
    "print('Strike', 6.33)\n",
    "print('Tempo', round(5/252,2))"
   ]
  },
  {
   "cell_type": "code",
   "execution_count": 95,
   "id": "5d6e69f8",
   "metadata": {
    "ExecuteTime": {
     "end_time": "2022-03-07T23:09:04.143129Z",
     "start_time": "2022-03-07T23:09:04.111131Z"
    }
   },
   "outputs": [],
   "source": [
    "from   scipy.stats import norm\n",
    "from   scipy.stats import mvn\n",
    "import numpy       as     np\n",
    "\n",
    "class BSM:\n",
    "    def __init__(self, callput, S, K, r, tau, sigma=0, qrf=None, S_ativo=None):\n",
    "        self.callput = callput\n",
    "        self.S = S\n",
    "        self.K = K\n",
    "        self.sigma = sigma\n",
    "        self.r = r\n",
    "        self.tau = tau\n",
    "        self.S_ativo = S_ativo\n",
    "        if qrf is None:\n",
    "            self.qrf = r\n",
    "        else:\n",
    "            self.qrf = qrf\n",
    "        \n",
    "    \n",
    "    def vol_impl_(self):\n",
    "        if self.S_ativo is None:\n",
    "            return 0\n",
    "        else:\n",
    "            sigma_aux = (np.sqrt(abs(np.log(self.S / self.K) + self.r * self.tau) *\\\n",
    "                         2 / self.tau))\n",
    "                \n",
    "            d1_aux = ((np.log(self.S/self.K) +\\\n",
    "                  (self.qrf + sigma_aux**2 / 2) * self.tau) /\\\n",
    "                  (sigma_aux * np.sqrt(self.tau)))\n",
    "                \n",
    "            d2_aux = d1_aux - sigma_aux * np.sqrt(self.tau)\n",
    "            \n",
    "            if ((self.callput.lower() == 'c') or (self.callput.lower() == 'call')):\n",
    "                preco_aux = (self.S * np.exp((self.qrf -  self.r) * self.tau) *\\\n",
    "                             norm.cdf(d1_aux) - self.K * np.exp(-self.r * self.tau) *\\\n",
    "                             norm.cdf(d2_aux))\n",
    "            elif ((self.callput.lower() == 'p') or (self.callput.lower() == 'put')):\n",
    "                preco_aux = ((self.K * np.exp(-self.r * self.tau) *\\\n",
    "                             norm.cdf(-d2_aux)) - self.S * np.exp((self.qrf -  self.r) *\\\n",
    "                             self.tau) * norm.cdf(-d1_aux))\n",
    "                                                                  \n",
    "            vega_aux = (self.S * np.exp((self.qrf - self.r) * self.tau) * norm.pdf(d1_aux) *\\\n",
    "                        np.sqrt(self.tau))\n",
    "                \n",
    "            min_diff = abs(self.S_ativo - preco_aux)\n",
    "            \n",
    "            eps = 0.0001\n",
    "            \n",
    "            while ((abs(self.S_ativo - preco_aux) >= eps) and (abs(self.S_ativo - preco_aux) <= min_diff)):\n",
    "                sigma_aux = sigma_aux - (preco_aux - self.S_ativo) / vega_aux\n",
    "                \n",
    "                d1_aux = ((np.log(self.S/self.K) +\\\n",
    "                          (self.qrf + sigma_aux**2 / 2) * self.tau) /\\\n",
    "                          (sigma_aux * np.sqrt(self.tau)))\n",
    "                \n",
    "                d2_aux = d1_aux - sigma_aux * np.sqrt(self.tau)\n",
    "                \n",
    "                if ((self.callput.lower() == 'c') or (self.callput.lower() == 'call')):\n",
    "                    preco_aux = (self.S * np.exp((self.qrf -  self.r) * self.tau) *\\\n",
    "                                 norm.cdf(d1_aux) - self.K * np.exp(-self.r * self.tau) *\\\n",
    "                                 norm.cdf(d2_aux))\n",
    "                elif ((self.callput.lower() == 'p') or (self.callput.lower() == 'put')):\n",
    "                    preco_aux = ((self.K * np.exp(-self.r * self.tau) *\\\n",
    "                                  norm.cdf(-d2_aux)) - self.S * np.exp((self.qrf -  self.r) *\\\n",
    "                                  self.tau) * norm.cdf(-d1_aux))\n",
    "                                                                       \n",
    "                vega_aux = (self.S * np.exp((self.qrf - self.r) * self.tau) * norm.pdf(d1_aux) *\\\n",
    "                            np.sqrt(self.tau))\n",
    "                    \n",
    "                min_diff = abs(self.S_ativo - preco_aux)\n",
    "                \n",
    "            if abs(self.S_ativo - preco_aux) <= eps:\n",
    "                return sigma_aux\n",
    "            else:\n",
    "                return 'Não encontrado!'"
   ]
  },
  {
   "cell_type": "code",
   "execution_count": 99,
   "id": "164e0bc7",
   "metadata": {
    "ExecuteTime": {
     "end_time": "2022-03-07T23:14:46.732670Z",
     "start_time": "2022-03-07T23:14:46.710665Z"
    }
   },
   "outputs": [],
   "source": [
    "import numpy as np\n",
    "from scipy.stats import norm # distribuição normal\n",
    "\n",
    "def calcula_iv(S, K, r, T, tipo, preco_atual):\n",
    "    sigmas = np.arange(0.001, 5, 0.001)\n",
    "    eps = 0.001\n",
    "    for sigma in sigmas:\n",
    "        if preco_atual - calc_BS(S, K, r, T, sigma, tipo)<eps:\n",
    "            return sigma\n",
    "\n",
    "def calc_BS(S, K, r, T, sigma, tipo):\n",
    "    # Cálculo do d1\n",
    "    d1 = (np.log(S/K) + (r + sigma**2/2)*T) / sigma*np.sqrt(T)\n",
    "    # Cálculo do d2\n",
    "    d2 = d1 - sigma*np.sqrt(T)\n",
    "    \n",
    "    if tipo == 'call':\n",
    "        # Preço se for call (opção de compra)\n",
    "        price = S*norm.cdf(d1) - K*np.exp(-r*T)*norm.cdf(d2)\n",
    "    elif tipo == 'put':\n",
    "        # preço se for put (opção de venda)\n",
    "        price = K*np.exp(-r*T)*norm.cdf(-d2) - S*norm.cdf(-d1)\n",
    "    else:\n",
    "        # Não sei o tipo, não calculo\n",
    "        price = None\n",
    "    \n",
    "    return price # Preço/prêmio"
   ]
  },
  {
   "cell_type": "code",
   "execution_count": 107,
   "id": "ce3b139e",
   "metadata": {
    "ExecuteTime": {
     "end_time": "2022-03-07T23:47:58.190060Z",
     "start_time": "2022-03-07T23:47:58.173059Z"
    }
   },
   "outputs": [],
   "source": [
    "option = BSM('call', 34.23, 35.26, r, 9/252, 0, S_ativo=0.70)"
   ]
  },
  {
   "cell_type": "code",
   "execution_count": 108,
   "id": "ec2411e1",
   "metadata": {
    "ExecuteTime": {
     "end_time": "2022-03-07T23:48:00.554912Z",
     "start_time": "2022-03-07T23:48:00.534912Z"
    }
   },
   "outputs": [
    {
     "data": {
      "text/plain": [
       "0.41782363731236927"
      ]
     },
     "execution_count": 108,
     "metadata": {},
     "output_type": "execute_result"
    }
   ],
   "source": [
    "option.vol_impl_()"
   ]
  },
  {
   "cell_type": "code",
   "execution_count": 100,
   "id": "0416e5e5",
   "metadata": {
    "ExecuteTime": {
     "end_time": "2022-03-07T23:14:50.192048Z",
     "start_time": "2022-03-07T23:14:50.085779Z"
    }
   },
   "outputs": [
    {
     "data": {
      "text/plain": [
       "0.301"
      ]
     },
     "execution_count": 100,
     "metadata": {},
     "output_type": "execute_result"
    }
   ],
   "source": [
    "calcula_iv(6.33, 6.33, r, 25/252, 'call', 0.27)"
   ]
  },
  {
   "cell_type": "code",
   "execution_count": 103,
   "id": "e9ba3b1e",
   "metadata": {
    "ExecuteTime": {
     "end_time": "2022-03-07T23:15:35.957799Z",
     "start_time": "2022-03-07T23:15:35.938802Z"
    }
   },
   "outputs": [
    {
     "data": {
      "text/plain": [
       "0.542023294759177"
      ]
     },
     "execution_count": 103,
     "metadata": {},
     "output_type": "execute_result"
    }
   ],
   "source": [
    "calc_BS(6.33, 6.33, r, 25/252, 0.651, 'call')"
   ]
  },
  {
   "cell_type": "code",
   "execution_count": 104,
   "id": "ffcfb59d",
   "metadata": {
    "ExecuteTime": {
     "end_time": "2022-03-07T23:15:39.008786Z",
     "start_time": "2022-03-07T23:15:39.000786Z"
    }
   },
   "outputs": [
    {
     "data": {
      "text/plain": [
       "0.2677713965107844"
      ]
     },
     "execution_count": 104,
     "metadata": {},
     "output_type": "execute_result"
    }
   ],
   "source": [
    "calc_BS(6.33, 6.33, r, 25/252, 0.2993338110246239, 'call')"
   ]
  }
 ],
 "metadata": {
  "kernelspec": {
   "display_name": "Python 3 (ipykernel)",
   "language": "python",
   "name": "python3"
  },
  "language_info": {
   "codemirror_mode": {
    "name": "ipython",
    "version": 3
   },
   "file_extension": ".py",
   "mimetype": "text/x-python",
   "name": "python",
   "nbconvert_exporter": "python",
   "pygments_lexer": "ipython3",
   "version": "3.10.2"
  },
  "latex_envs": {
   "LaTeX_envs_menu_present": true,
   "autoclose": false,
   "autocomplete": true,
   "bibliofile": "biblio.bib",
   "cite_by": "apalike",
   "current_citInitial": 1,
   "eqLabelWithNumbers": true,
   "eqNumInitial": 1,
   "hotkeys": {
    "equation": "Ctrl-E",
    "itemize": "Ctrl-I"
   },
   "labels_anchors": false,
   "latex_user_defs": false,
   "report_style_numbering": false,
   "user_envs_cfg": false
  },
  "toc": {
   "base_numbering": 1,
   "nav_menu": {},
   "number_sections": true,
   "sideBar": true,
   "skip_h1_title": false,
   "title_cell": "Table of Contents",
   "title_sidebar": "Contents",
   "toc_cell": false,
   "toc_position": {},
   "toc_section_display": true,
   "toc_window_display": false
  },
  "varInspector": {
   "cols": {
    "lenName": 16,
    "lenType": 16,
    "lenVar": 40
   },
   "kernels_config": {
    "python": {
     "delete_cmd_postfix": "",
     "delete_cmd_prefix": "del ",
     "library": "var_list.py",
     "varRefreshCmd": "print(var_dic_list())"
    },
    "r": {
     "delete_cmd_postfix": ") ",
     "delete_cmd_prefix": "rm(",
     "library": "var_list.r",
     "varRefreshCmd": "cat(var_dic_list()) "
    }
   },
   "types_to_exclude": [
    "module",
    "function",
    "builtin_function_or_method",
    "instance",
    "_Feature"
   ],
   "window_display": false
  }
 },
 "nbformat": 4,
 "nbformat_minor": 5
}
