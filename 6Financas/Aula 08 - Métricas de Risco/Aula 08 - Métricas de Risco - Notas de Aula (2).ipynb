{
 "cells": [
  {
   "cell_type": "markdown",
   "metadata": {},
   "source": [
    "# Métricas de Risco - *VaR* e *ES*"
   ]
  },
  {
   "cell_type": "markdown",
   "metadata": {},
   "source": [
    "## Introdução\n",
    "\n",
    "### Após completar este capítulo, você será capaz de:\n",
    "\n",
    "- Compreender a importância das métricas de risco\n",
    "- Compreender o conceito de VaR\n",
    "- Calcular o VaR por metodologia histórica\n",
    "\n",
    "### Conceitos utilizados\n",
    "- Probabilidade básica\n",
    "- Distribuição Normal\n",
    "- Percentil\n",
    "- Retorno\n",
    "- PnL (*profit and loss*)"
   ]
  },
  {
   "cell_type": "markdown",
   "metadata": {},
   "source": [
    "### Importância das métricas de risco💰📈\n",
    "**O que são métricas de risco**   \n",
    "Métricas que visam estimar **perdas potenciais** sob determinados cenários (premissas) em função de modelos de apreçamento. Em geral, são aplicáveis tanto a apenas um ativo, como em carteiras complexas e diversas, pois apresentam uma visão consolidada sobre um risco financeiro. Por este mesmo motivo, costumam utilizar ferramentas e conceitos estatísticos na mensuração.\n",
    "\n",
    "Há métricas para estimar diversos tipos de risco financeiro, como risco de crédito, mercado, contraparte, liquidez, etc.\n",
    "\n",
    "**Para que servem**   \n",
    "São utilizadas na gestão de risco de instituições financeiras - *e na sua carteira pessoal, por que não?*   \n",
    "Geralmente são vinculadas com outras ações e mitigadores, como definição de apetite de risco e limites de operação.\n",
    "Também são muito utilizadas pelos órgãos reguladores do sistema financeiro para controlar a tomada de risco das instituições e garantir a saúde do mercado. Reguladores estimam o **capital** a ser alocado pela instituição financeira em função das métricas de risco.\n",
    "\n",
    "\n",
    "**Exemplo em risco de mercado**\n",
    "\n",
    "|Métrica de risco| Exigência regulatória|\n",
    "|---|---|\n",
    "|Value at Risk (VaR) | Capital RM (Res. 4.557 e Circ. 3.646)|\n",
    "|Expected Shortfall (ES) | FRTB|\n",
    "|Teste de estresse| ICAAP (Res. 4.557)|\n",
    "|ΔEVE e ΔNII | IRRBB (Circ. 3.876)|\n",
    "\n"
   ]
  },
  {
   "cell_type": "code",
   "execution_count": 2,
   "metadata": {
    "ExecuteTime": {
     "end_time": "2022-02-14T22:22:21.739064Z",
     "start_time": "2022-02-14T22:22:14.406240Z"
    }
   },
   "outputs": [],
   "source": [
    "# Bibliotecas\n",
    "import datetime as dt\n",
    "import numpy as np\n",
    "import pandas as pd\n",
    "import matplotlib.pyplot as plt\n",
    "import yahoo_fin.stock_info as si"
   ]
  },
  {
   "cell_type": "markdown",
   "metadata": {},
   "source": [
    "### Revisão <a class=\"anchor\" id=\"2\"></a>\n",
    "1. Retorno simples\n",
    "2. PnL - Profit or Loss - Perdas ou Ganhos (resultado)"
   ]
  },
  {
   "cell_type": "markdown",
   "metadata": {},
   "source": [
    "Seja $P_t$ o preço de um ativo no instante $t$.\n",
    "O retorno simples é dado por:\n",
    "$$ retorno_t = \\frac{preço_t - preço_{t-HP}}{preço_{t-HP}} $$\n",
    "ou\n",
    "$$ retorno_t = \\frac{preço_t}{preço_{t-HP}} -1 $$\n",
    "\n",
    "Geralmente o retorno é expresso em porcentagem, relativamente ao período. Também é chamado de *taxa de retorno*.   \n",
    "E o PnL é dado por:\n",
    "\n",
    "$$ PnL_t = preço_t - preço_{t-HP} $$\n",
    "ou\n",
    "$$ PnL_t = retorno_t \\cdot preço_{t-HP} $$\n",
    "\n",
    "e representa a perda ou ganho em valor financeiro ocorrida no período decorrido da variação de preços do ativo."
   ]
  },
  {
   "cell_type": "code",
   "execution_count": 17,
   "metadata": {
    "ExecuteTime": {
     "end_time": "2022-02-14T23:03:16.480912Z",
     "start_time": "2022-02-14T23:03:15.815467Z"
    }
   },
   "outputs": [],
   "source": [
    "# Captura dos dados\n",
    "def read_fx_input(fx_name='^BVSP'):\n",
    "#     df = pd.read_csv(path_in + fx_name + '.csv', decimal=',')\n",
    "#     df = df[df.tipoBoletim == 'Fechamento'].reset_index()\n",
    "#     df['date'] = df['dataHoraCotacao'].apply(lambda x: dt.datetime.strptime(x[0:10], '%Y-%m-%d').date())\n",
    "#     df['price'] = (df.cotacaoCompra + df.cotacaoVenda)/2 # mid\n",
    "#     return df[['date', 'price']].set_index('date')\n",
    "    df = si.get_data('^BVSP', start_date = '01/01/2010', index_as_date = True, interval = '1d')\n",
    "    df = df.loc[:,['adjclose']]\n",
    "    df.columns = ['price']\n",
    "    return df\n",
    "\n",
    "df_inputs = read_fx_input()"
   ]
  },
  {
   "cell_type": "markdown",
   "metadata": {},
   "source": [
    "bid = oferta de venda\n",
    "ask = oferta de compra\n",
    "mid = preço médio"
   ]
  },
  {
   "cell_type": "code",
   "execution_count": null,
   "metadata": {
    "scrolled": true
   },
   "outputs": [],
   "source": [
    "# df_inputs = read_fx_input('USD', '')\n",
    "# df_inputs.head()"
   ]
  },
  {
   "cell_type": "markdown",
   "metadata": {},
   "source": [
    "Temos uma base de preços históricos. \n",
    "Calculemos os retornos:"
   ]
  },
  {
   "cell_type": "code",
   "execution_count": 18,
   "metadata": {
    "ExecuteTime": {
     "end_time": "2022-02-14T23:03:19.552821Z",
     "start_time": "2022-02-14T23:03:19.547357Z"
    }
   },
   "outputs": [],
   "source": [
    "def calc_ret_pnl(df, hp): # df = df_usd\n",
    "    df['return'] = (df['price']/df['price'].shift(hp) - 1) # Retorno\n",
    "    df['PnL'] = df['price'] - df['price'].shift(hp) # Realizado\n",
    "    # df['logReturn'] = df.apply(lambda x: np.log(x['return']), axis=1) # log retorno\n",
    "    return df"
   ]
  },
  {
   "cell_type": "code",
   "execution_count": 19,
   "metadata": {
    "ExecuteTime": {
     "end_time": "2022-02-14T23:03:21.867309Z",
     "start_time": "2022-02-14T23:03:21.841491Z"
    }
   },
   "outputs": [
    {
     "data": {
      "text/html": [
       "<div>\n",
       "<style scoped>\n",
       "    .dataframe tbody tr th:only-of-type {\n",
       "        vertical-align: middle;\n",
       "    }\n",
       "\n",
       "    .dataframe tbody tr th {\n",
       "        vertical-align: top;\n",
       "    }\n",
       "\n",
       "    .dataframe thead th {\n",
       "        text-align: right;\n",
       "    }\n",
       "</style>\n",
       "<table border=\"1\" class=\"dataframe\">\n",
       "  <thead>\n",
       "    <tr style=\"text-align: right;\">\n",
       "      <th></th>\n",
       "      <th>price</th>\n",
       "      <th>return</th>\n",
       "      <th>PnL</th>\n",
       "    </tr>\n",
       "  </thead>\n",
       "  <tbody>\n",
       "    <tr>\n",
       "      <th>2010-01-04</th>\n",
       "      <td>70045.0</td>\n",
       "      <td>NaN</td>\n",
       "      <td>NaN</td>\n",
       "    </tr>\n",
       "    <tr>\n",
       "      <th>2010-01-05</th>\n",
       "      <td>70240.0</td>\n",
       "      <td>0.002784</td>\n",
       "      <td>195.0</td>\n",
       "    </tr>\n",
       "    <tr>\n",
       "      <th>2010-01-06</th>\n",
       "      <td>70729.0</td>\n",
       "      <td>0.006962</td>\n",
       "      <td>489.0</td>\n",
       "    </tr>\n",
       "    <tr>\n",
       "      <th>2010-01-07</th>\n",
       "      <td>70451.0</td>\n",
       "      <td>-0.003930</td>\n",
       "      <td>-278.0</td>\n",
       "    </tr>\n",
       "    <tr>\n",
       "      <th>2010-01-08</th>\n",
       "      <td>70263.0</td>\n",
       "      <td>-0.002669</td>\n",
       "      <td>-188.0</td>\n",
       "    </tr>\n",
       "  </tbody>\n",
       "</table>\n",
       "</div>"
      ],
      "text/plain": [
       "              price    return    PnL\n",
       "2010-01-04  70045.0       NaN    NaN\n",
       "2010-01-05  70240.0  0.002784  195.0\n",
       "2010-01-06  70729.0  0.006962  489.0\n",
       "2010-01-07  70451.0 -0.003930 -278.0\n",
       "2010-01-08  70263.0 -0.002669 -188.0"
      ]
     },
     "execution_count": 19,
     "metadata": {},
     "output_type": "execute_result"
    }
   ],
   "source": [
    "df_metrics = calc_ret_pnl(df_inputs, hp=1)\n",
    "df_metrics.head()"
   ]
  },
  {
   "cell_type": "markdown",
   "metadata": {},
   "source": [
    "### 3. Definições <a class=\"anchor\" id=\"3\"></a>\n",
    "1. *VaR - Value at Risk*\n",
    "2. *ES - Expected shortfall*\n",
    "3. Parâmetros comuns"
   ]
  },
  {
   "cell_type": "markdown",
   "metadata": {},
   "source": [
    "#### VaR\n",
    "Conceito:\n",
    "- Pior perda esperada sob condições normais de mercado, ao longo de determinado intervalo de tempo ($HP$) e dentro de determinado nível de confiança ($1−\\alpha$).\n",
    "\n",
    "Definição:   \n",
    "Seja $x(t)$ a série temporal de resultados (PnL), então:\n",
    "\n",
    "$$ VaR_{1-\\alpha}^{HP}(t) = \\inf \\{y \\in \\mathbb{R}: Pr(x(t)) > y = 1 - \\alpha \\} $$\n",
    "\n",
    "Exemplo:   \n",
    "Se um portfólio possui um VaR para $HP=10$ dias e nível de confiança 95\\% no valor de R\\$ 1 milhão, significa que:\n",
    "- Há uma probabilidade de $\\alpha = 5\\%$ que o portfólio perca mais de R$ 1 milhão num intervalo de 10 dias, caso o portfólio permaneça o mesmo neste período. "
   ]
  },
  {
   "cell_type": "markdown",
   "metadata": {},
   "source": [
    "<div>\n",
    "    <img src=\"Imagens/09_01_var_conceito.png\" style=\"width: 600px;\"/>\n",
    "</div>"
   ]
  },
  {
   "cell_type": "markdown",
   "metadata": {},
   "source": [
    "#### *Expected Shortfall*\n",
    "Conceito:\n",
    "- Valor esperado (média) da perda condicional ao estouro do VaR, ao longo de determinado intervalo de tempo ($𝐻𝑃$) e dentro de determinado nível de confiança ($1−\\alpha$).\n",
    "\n",
    "Definição:\n",
    "$$ ES_{1-\\alpha}^{HP}(t) = \\mathbb{E}[x(t) | x(t) < VaR_{1-\\alpha}^{HP}(t)] $$\n",
    "\n",
    "Exemplo:   \n",
    "Se o ES é de R\\$ 10 milhões, significa que:\n",
    "- Caso ocorra uma perda pior que o VaR (estouro), o valor esperado dessa perda é de R\\$ 10 milhões."
   ]
  },
  {
   "cell_type": "markdown",
   "metadata": {},
   "source": [
    "<div>\n",
    "    <img src=\"Imagens/09_02_metricas_NTN-B_99.0.png\" style=\"width: 800px;\"/>\n",
    "</div>"
   ]
  },
  {
   "cell_type": "markdown",
   "metadata": {},
   "source": [
    "#### Parâmetros Comuns\n",
    "A definição dos parâmetros pode vir por exigência regulatória ou por decisão interna da instituição financeira, de acordo com seus apetites de risco ou uso dos modelos. A seguir, temos os valores mais comuns para o *holding period* e para o nível de confiança.\n",
    "\n",
    "$HP$: \n",
    "- 1 dia (usado em cálculo de limites)\n",
    "- 10 dias (usado para cálculo de capital)\n",
    "- 30 dias (usado em métricas de liquidez)\n",
    "\n",
    "Nível de confiança ($ 1 - \\alpha $):\n",
    "- 99%\n",
    "- 97,5%\n",
    "- 95%\n",
    "\n",
    "O nível de confiança é unilateral, pois sob uma visão de riscos, a preocupação é apenas sobre as perdas."
   ]
  },
  {
   "cell_type": "markdown",
   "metadata": {},
   "source": [
    "### Métodos de cálculo<a class=\"anchor\" id=\"4\"></a>\n",
    "1. **Paramétrico**   \n",
    "Premissa: distribuições teóricas com parâmetros conhecidos   \n",
    "Custo processamento: baixo   \n",
    "Custo base de dados: baixo   \n",
    "Maior fragilidade: depende diretamente da amostra utilizada na calibração dos parâmetros e da adequação das distribuições utilizadas\n",
    "\n",
    "2. **Histórico**   \n",
    "Premissa: informações passadas representam bem a distribuição   \n",
    "Custo processamento: baixo   \n",
    "Custo base de dados: alto   \n",
    "Maior fragilidade: depende diretamente da amostra utilizada\n",
    "\n",
    "3. **Simulação por Monte Carlo**   \n",
    "Premissa: adequação dos modelos de projeção   \n",
    "Custo processamento: alto   \n",
    "Custo base de dados: alto   \n",
    "Maior fragilidade: risco de modelo"
   ]
  },
  {
   "cell_type": "markdown",
   "metadata": {},
   "source": [
    "#### Histórico\n",
    "\n",
    "O VaR histórico é facilmente computado, porém exige uma maior quantidade de dados armazenados. Sua vantagem é que não há assunção de distribuição teórica sobre os retornos, pois os percentis são calculados diretamente a partir da amostra de realizações já ocorridas. Isto acaba sendo também uma desvantagem, pois o modelo é baseado apenas em informações passadas, falhando em predizer possíveis movimentações que não ocorreram no período histórico utilizado na mensuração.   \n",
    "\n",
    "Na simulação histórica, primeiramente define-se a quantidade $n$ de cenários que será utilizada como tamanho da amostra para cálculo dos percentis. Com isto, obtemos uma série com $n$ retornos já realizados. Em geral, utilizam-se os retornos mais recentes e, portanto:\n",
    "\n",
    "$$ sRet_t = \\{retorno(\\tau)\\}_{t-n}^{t} $$\n",
    "\n",
    "Estes retornos são aplicados ao valor financeiro atual para gerar uma série de possíveis cenários de perdas e ganhos (PnLs):\n",
    "\n",
    "$$ sPnL_t = MtM_t \\cdot sRet_t = \\{MtM_t \\cdot retorno(\\tau)\\}_{t-n}^{t} $$\n",
    "\n",
    "𝑃ara obter o VaR, calcula-se o percentil $\\alpha$ desta série:\n",
    "\n",
    "$$ VaR_{1-\\alpha}(t) = Percentil[sPnL_t, \\alpha] $$\n",
    "\n",
    "Na prática, ordenam-se os valores de PnL simulados e busca-se o $\\alpha$-ésimo pior valor da série.   \n",
    "Para obter o ES, é calculada a média de todos os valores da série abaixo do VaR, ou seja, das perdas piores que o valor do VaR:\n",
    "\n",
    "$$ ES_{1 - \\alpha}(t) = Média[x | x < VaR_{1-\\alpha}(t)], x \\in sPnL_t $$\n",
    "\n",
    "É comum utilizar $n = 1000$ dias mais recentes para cálculo histórico, que representam aproximadamente 4 anos de dados diários. "
   ]
  },
  {
   "cell_type": "markdown",
   "metadata": {},
   "source": [
    "#### Exemplo prático: Método histórico simples com um único fator de risco\n",
    "Calcular o VaR histórico de 1 dia com 99% de confiança para USD Spot"
   ]
  },
  {
   "cell_type": "markdown",
   "metadata": {},
   "source": [
    "Cálculo da série de PnLs: $ sPnL_t $   \n",
    "Fazemos o corte do período utilizado como amostra. Em nosso exemplo, usaremos os últimos 1000 PnLs:"
   ]
  },
  {
   "cell_type": "code",
   "execution_count": 21,
   "metadata": {
    "ExecuteTime": {
     "end_time": "2022-02-14T23:03:31.191940Z",
     "start_time": "2022-02-14T23:03:31.180012Z"
    }
   },
   "outputs": [
    {
     "data": {
      "text/plain": [
       "2018-01-30    -216.0000\n",
       "2018-01-31     431.0000\n",
       "2018-02-01     582.0000\n",
       "2018-02-02   -1454.0000\n",
       "2018-02-05   -2180.0000\n",
       "                ...    \n",
       "2022-02-08     238.0000\n",
       "2022-02-09     227.0000\n",
       "2022-02-10     898.0000\n",
       "2022-02-11     136.0000\n",
       "2022-02-14     404.1875\n",
       "Name: PnL, Length: 1000, dtype: float64"
      ]
     },
     "execution_count": 21,
     "metadata": {},
     "output_type": "execute_result"
    }
   ],
   "source": [
    "amostra_PnL = df_metrics.PnL.iloc[len(df_metrics)-1000:len(df_metrics)]\n",
    "amostra_PnL"
   ]
  },
  {
   "cell_type": "code",
   "execution_count": 23,
   "metadata": {
    "ExecuteTime": {
     "end_time": "2022-02-14T23:04:13.607015Z",
     "start_time": "2022-02-14T23:04:13.390949Z"
    }
   },
   "outputs": [
    {
     "data": {
      "image/png": "[encoded data removed]",
      "text/plain": [
       "<Figure size 1440x864 with 1 Axes>"
      ]
     },
     "metadata": {
      "needs_background": "light"
     },
     "output_type": "display_data"
    }
   ],
   "source": [
    "# Histograma da amostra de 1000 dias\n",
    "plt.figure(figsize=(20,12))\n",
    "plt.hist(amostra_PnL, density=False, bins=50)\n",
    "plt.ylabel('Frequência')\n",
    "plt.xlabel('PnL');"
   ]
  },
  {
   "cell_type": "code",
   "execution_count": 27,
   "metadata": {
    "ExecuteTime": {
     "end_time": "2022-02-14T23:06:43.739417Z",
     "start_time": "2022-02-14T23:06:43.375264Z"
    }
   },
   "outputs": [
    {
     "data": {
      "text/plain": [
       "Text(0.5, 1.0, 'Histograma')"
      ]
     },
     "execution_count": 27,
     "metadata": {},
     "output_type": "execute_result"
    },
    {
     "data": {
      "image/png": "[encoded data removed]",
      "text/plain": [
       "<Figure size 1440x864 with 1 Axes>"
      ]
     },
     "metadata": {
      "needs_background": "light"
     },
     "output_type": "display_data"
    },
    {
     "data": {
      "image/png": "[encoded data removed]",
      "text/plain": [
       "<Figure size 1440x864 with 1 Axes>"
      ]
     },
     "metadata": {
      "needs_background": "light"
     },
     "output_type": "display_data"
    }
   ],
   "source": [
    "import scipy.stats as st\n",
    "bins = 50\n",
    "plt.figure(figsize=(20,12))\n",
    "plt.hist(amostra_PnL, density=True, bins=bins, label=\"Dados\")\n",
    "xmin, xmax = plt.xlim()\n",
    "mu, sigma = st.norm.fit(amostra_PnL)\n",
    "x = np.linspace(xmin, xmax, 100)\n",
    "curve = st.norm.pdf(x, mu, sigma)\n",
    "plt.figure(figsize=(20,12))\n",
    "plt.plot(x, curve, label=\"PDF\")\n",
    "plt.legend(loc=\"upper left\")\n",
    "plt.ylabel('Densidade')\n",
    "plt.xlabel('PnL')\n",
    "plt.title(\"Histograma\")"
   ]
  },
  {
   "cell_type": "markdown",
   "metadata": {},
   "source": [
    "Para obter o VaR, basta buscar o percentil desejado $\\alpha$:"
   ]
  },
  {
   "cell_type": "code",
   "execution_count": 28,
   "metadata": {
    "ExecuteTime": {
     "end_time": "2022-02-14T23:09:11.755238Z",
     "start_time": "2022-02-14T23:09:11.743816Z"
    }
   },
   "outputs": [
    {
     "name": "stdout",
     "output_type": "stream",
     "text": [
      "VaR 99% = R$ 4343.14\n"
     ]
    }
   ],
   "source": [
    "alpha = 0.01\n",
    "var = amostra_PnL.quantile(alpha)\n",
    "print(\"VaR 99% = R$ \" + \"{:.2f}\".format(- var))"
   ]
  },
  {
   "cell_type": "markdown",
   "metadata": {},
   "source": [
    "Para obter o ES, basta calcular a média dos valores abaixo do VaR:"
   ]
  },
  {
   "cell_type": "code",
   "execution_count": 29,
   "metadata": {
    "ExecuteTime": {
     "end_time": "2022-02-14T23:09:59.815260Z",
     "start_time": "2022-02-14T23:09:59.803340Z"
    }
   },
   "outputs": [
    {
     "data": {
      "text/plain": [
       "2020-02-26    -7963.0\n",
       "2020-03-05    -4991.0\n",
       "2020-03-09   -11930.0\n",
       "2020-03-11    -7043.0\n",
       "2020-03-12   -12588.0\n",
       "2020-03-16   -11510.0\n",
       "2020-03-18    -7722.0\n",
       "2021-02-22    -6080.0\n",
       "2021-03-08    -4590.0\n",
       "2021-09-08    -4456.0\n",
       "Name: PnL, dtype: float64"
      ]
     },
     "execution_count": 29,
     "metadata": {},
     "output_type": "execute_result"
    }
   ],
   "source": [
    "amostra_es = amostra_PnL[amostra_PnL <= var]\n",
    "amostra_es"
   ]
  },
  {
   "cell_type": "code",
   "execution_count": 30,
   "metadata": {
    "ExecuteTime": {
     "end_time": "2022-02-14T23:10:49.320101Z",
     "start_time": "2022-02-14T23:10:49.303212Z"
    }
   },
   "outputs": [
    {
     "name": "stdout",
     "output_type": "stream",
     "text": [
      "ES 99% = R$ 7887.30\n"
     ]
    }
   ],
   "source": [
    "es = amostra_PnL[amostra_PnL <= var].mean()\n",
    "print(\"ES 99% = R$ \" + \"{:.2f}\".format(-es))"
   ]
  },
  {
   "cell_type": "markdown",
   "metadata": {},
   "source": [
    "### 5. Exercícios<a class=\"anchor\" id=\"5\"></a>"
   ]
  },
  {
   "cell_type": "markdown",
   "metadata": {},
   "source": [
    "1. É possível o ES apresentar um valor menor (em módulo) que o VaR:   \n",
    "a) sob o mesmo nível de confiança?   \n",
    "b) sob um nível de confiança maior (ex: ES 95% e VaR 99%)?   \n",
    "c) sob um nível de confiança menor (ex: ES 99% e VaR 95%)?"
   ]
  },
  {
   "cell_type": "markdown",
   "metadata": {},
   "source": [
    "Resposta aqui"
   ]
  },
  {
   "cell_type": "markdown",
   "metadata": {},
   "source": [
    "2. Calcule o VaR histórico com nível de confiança de 95% e HP=1, para a última data disponível de USD Spot (30/04/2021), utilizando uma amostra de 500 dias."
   ]
  },
  {
   "cell_type": "code",
   "execution_count": 32,
   "metadata": {},
   "outputs": [],
   "source": [
    "# Resposta aqui "
   ]
  },
  {
   "cell_type": "markdown",
   "metadata": {},
   "source": [
    "3. Calcule o ES histórico com nível de confiança de 97,5% e HP=1, para a última data disponível de USD Spot (30/04/2021), utilizando uma amostra de 1000 dias."
   ]
  },
  {
   "cell_type": "code",
   "execution_count": null,
   "metadata": {},
   "outputs": [],
   "source": [
    "# Resposta aqui"
   ]
  },
  {
   "cell_type": "markdown",
   "metadata": {},
   "source": [
    "4. Calcule a série temporal de VaR 99% e 97,5%, com HP=1, utilizando uma amostra de 1000 dias para todas as datas possíveis.   \n",
    "Dica: Há 2844 dias com preços na base, removendo HP=1 para cálculo do primeiro retorno e 1000 para amostra do 1º VaR, teremos como resultado uma série de VaRs de tamanho 1843."
   ]
  },
  {
   "cell_type": "code",
   "execution_count": 9,
   "metadata": {},
   "outputs": [],
   "source": [
    "# Resposta aqui"
   ]
  },
  {
   "cell_type": "markdown",
   "metadata": {},
   "source": [
    "### Referências bibliográficas<a class=\"anchor\" id=\"6\"></a>\n",
    "\n",
    "Didáticos:   \n",
    "- [Pedro A. Moretin, Econometria financeira: um curso em séries temporais financeiras](https://books.google.com.br/books/about/Econometria_financeira.html?id=I3i5DwAAQBAJ&source=kp_book_description&redir_esc=y)\n",
    "- [Philippe Jorion, Value at Risk](https://merage.uci.edu/~jorion/VAR/)\n",
    "\n",
    "Normas de reguladores:\n",
    "- [BCB, 2017, Resolução 4.557](https://www.bcb.gov.br/pre/normativos/busca/downloadNormativo.asp?arquivo=/Lists/Normativos/Attachments/50344/Res_4557_v2_L.pdf)\n",
    "- [BCB, 2013, Circular 3.646](https://www.bcb.gov.br/htms/Normativ/CIRCULAR3646.pdf)\n",
    "- [BCB, 2018, Circular 3.876](https://www.bcb.gov.br/estabilidadefinanceira/exibenormativo?tipo=Circular&numero=3876)\n",
    "- [BIS, 2019, Minimum capital requirements for market risk (FRTB)](https://www.bis.org/bcbs/publ/d457.pdf)"
   ]
  },
  {
   "cell_type": "markdown",
   "metadata": {},
   "source": [
    "# Extra - Exposição a Fatores de Risco\n",
    "\n",
    "Após completar este capítulo, você será capaz de:\n",
    "\n",
    "- Compreender o que são fatores de risco\n",
    "- Compreender o que é exposição a risco\n",
    "- Calcular exposição a risco\n",
    "\n",
    "## Fator de risco\n",
    "\n",
    "Um fator de risco de um produto ou portfólio é uma fonte de risco e retorno. É uma variável de mercado que apresenta alguma incerteza sobre seus valores futuros.\n",
    "\n",
    "**Exemplo**\n",
    "\n",
    "Suponha que você possui um contrato a termo de dólar com notional de R\\\\$1.000,00 e vencimento em 3 meses. Para estimarmos o valor de mercado (MtM) deste contrato, precisamos projetar o valor futuro do dólar e descontá-lo a valor presente.\n",
    "\n",
    "$$ MtM = Notional \\cdot Spot_{USD} \\cdot \\frac{Fator_{CupomUSD}}{Fator_{Pré}} $$\n",
    "\n",
    "O seu contrato a termo não é uma variável de mercado, comum a todos os participantes, portanto, não poderia ser utilizado como fator de risco. Contudo, podemos identificar, através da equação de preço acima, seus fatores de risco.\n",
    "\n",
    "- Notional: é uma variável cadastral e fixa, definida em contrato. Portanto, não é uma fonte de risco;\n",
    "- $Spot_{USD}$: é o preço a vista da moeda USD; é uma variável de mercado e possui incerteza sobre seus valores futuros;\n",
    "- $Fator_{CupomUSD}$: é o fator que representa o diferencial entre as taxas básicas de juros entre o Brasil e os EUA. Também apresenta incerteza e pode ser calculada a partir do mercado;\n",
    "- $Fator_{Pré}$: é o fator de juros da taxa livre de risco brasileira e apresenta incerteza sobre seus valores futuros.\n",
    "\n",
    "Portanto, podemos identificar os seguintes fatores de risco para um contrato a termo de USD: \n",
    "\n",
    "$$ Spot_{USD}, Fator_{CupomUSD} e Fator_{Pré} $$"
   ]
  },
  {
   "cell_type": "markdown",
   "metadata": {},
   "source": [
    "## Exposição\n",
    "Exposição é a quantidade de valor financeiro que pode ser perdida devido aos riscos associados a um determinado fator de risco.\n",
    "\n",
    "**Exemplo**\n",
    "\n",
    "Suponha ainda que as variáveis pssuam os seguites valores hoje:\n",
    "\n",
    "- $Spot_{USD}$ = 5,10;\n",
    "- $Fator_{CupomUSD}$: 1,01;\n",
    "- $Fator_{Pré}$: 1,06.\n",
    "\n",
    "\n",
    "Logo, seu contrato a termo de USD vale: \n",
    "\n",
    "$$ MtM = 1000 \\cdot 5,10 \\cdot \\frac{1,01}{1,06} $$\n",
    "$$ MtM = R\\$4.859,43 $$\n",
    "\n",
    "Então, este é o valor que você está exposto em cada um dos fatores de risco identificados acima.\n",
    "\n",
    "Agora, imagine que o valor do dólar a vista caia 20\\% para R\\$4,08, enquanto os fatores de juros seguem os mesmos. Qual seria o impacto no contrato?\n",
    "\n",
    "$$ MtM_{simulado} = 1000 \\cdot 4,08 \\cdot \\frac{1,01}{1,06} $$\n",
    "$$ MtM_{simulado} = R\\$3.887,55 $$\n",
    "\n",
    "O valor do contrato a termo cairia 4.859,43 - 3.887,55 = 971,88.\n",
    "Veja que este valor equivale a uma variação relativa de: 971,88/4.859,43 = 20\\%. Ou seja, a mesma variação observada no valor do dólar a vista.\n",
    "\n",
    "Desta forma, podemos estimar perdas potenciais num contrato (ou num portfólio) a partir das variações dos fatores de risco. Neste caso, ao invés de recalcular o preço simulado da carteira, poderíamos aplicar a variação projetada do dólar de 20\\% diretamente sobre a exposição em carteira:\n",
    "\n",
    "$$ Perda Potencial = 20\\% \\cdot 4.859,43 = R\\$ 971,88 $$\n",
    "\n",
    "Esta relação ocorre neste tipo de contrato, pois o preço deste derivativo é **linear** em função do spot. Esta relação não ocorre para opções e outros derivativos exóticos que não apresentem relação linear (são chamados de derivativos não lineares). Para estimar perdas potenciais de portfólios com opções, as exposições a fatores de risco são mensuradas pelas **gregas**."
   ]
  },
  {
   "cell_type": "markdown",
   "metadata": {},
   "source": [
    "## Gregas\n",
    "\n",
    "Vimos anteriormente que o preço de uma opção depende de uma série de parâmetros. Uma pergunta muito comum (principalmente para gestores de risco) é: o que acontece com o valor da minha opção (ou da minha carteira de opções) quando há variações nesses parâmetros? Ou ainda: qual é risco a que um portfólio está submetido em razão das variações de mercado?\n",
    "\n",
    "Uma parte da resposta a essa pergunta está relacionada com uma série de quantidades, quase sempre representadas por letras gregas, que medem a sensibilidade da opção com relação a seus parâmetros mais comuns. Essas quantidades são chamadas de **gregas** da opção.\n",
    "\n",
    "As gregas são obtidas pelo cálculo das derivadas parciais do preço da opção com relação a um (ou mais) de seus parâmetros. No modelo B&S, que possui fórmula fechada e diferenciável, há solução analítica para o cálculo das gregas. Em outros casos, muitas vezes é preciso recorrer a técnicas de derivação numérica para encontar seus valores. \n",
    "\n",
    "![Tabela gregas](Imagens/06_08_Tabela_gregas.png)\n",
    "\n",
    "Tabela de equações das gregas no modelo de Black-Scholes (Fonte: Hull, 2016).\n",
    "![Tabela gregas](Imagens/06_09_Tabela_gregas_BS.png)\n",
    "\n",
    "Vejamos na figura abaixo a representação gráfica do conceito do Delta. Ele representa o coeficiente angular do preço da opção em função do preço spot do ativo objeto. Em outras palavras, quanto a variação do spot vai afetar o preço da opção. Na figura, o Delta possui um valor de 0,6, significa que uma variação no spot impacta em 60% o preço da opção.\n",
    "\n",
    "![Delta slope](Imagens/08_01_Delta_Slope.png)\n",
    "\n",
    "**Exemplo**\n",
    "\n",
    "Suponha que um investidor vendeu 2.000 opções de compra (*calls*) de uma ação que vale R\\\\$10,00 e gostaria de neutralizar sua exposição à ação. Suponha ainda que o preço de cada opção é R\\\\$1,00 e o Delta dessas opções hoje vale 0,5. \n",
    "\n",
    "Neste caso, para neutralizar o risco, bastaria ele comprar: $2.000 \\cdot 0,5 = 1.000$ ações. Veja que não precisamos utilizar o preço da opção, nem o preço da ação para identificar a quantidade de ações a ser comprada. Utilizamos apenas o Delta e a quantidade de opções.\n",
    "\n",
    "Desta forma, se a ação desvalorizar R\\\\$0,50, ele terá uma desvalorização total nas ações de R\\\\$500,00, mas por outro lado, terá um ganho nas calls, que terão desvalorizado R\\\\$0,25. Como o investidor vendeu 2.000 ações, essa desvalorização gerará um lucro de R\\$500,00. Portanto, o resultado teve um *hedge* com sucesso e o resultado foi neutralizado. Esta técnica é conhecida com ***delta hedging***.\n",
    "\n",
    "Esta estratégia, apesar de muito utilizada no mercado, não é perfeita, pois não considera outros fatores de risco como a volatilidade, o prazo, entre outros. Além disso, o Delta também varia ao longo do tempo, de forma que o portfólio de hedge deve ser rebalanceado e isto pode gerar custos transacionais que superem o resultado ganho."
   ]
  }
 ],
 "metadata": {
  "kernelspec": {
   "display_name": "Python 3",
   "language": "python",
   "name": "python3"
  },
  "language_info": {
   "codemirror_mode": {
    "name": "ipython",
    "version": 3
   },
   "file_extension": ".py",
   "mimetype": "text/x-python",
   "name": "python",
   "nbconvert_exporter": "python",
   "pygments_lexer": "ipython3",
   "version": "3.9.5"
  },
  "latex_envs": {
   "LaTeX_envs_menu_present": true,
   "autoclose": false,
   "autocomplete": true,
   "bibliofile": "biblio.bib",
   "cite_by": "apalike",
   "current_citInitial": 1,
   "eqLabelWithNumbers": true,
   "eqNumInitial": 1,
   "hotkeys": {
    "equation": "Ctrl-E",
    "itemize": "Ctrl-I"
   },
   "labels_anchors": false,
   "latex_user_defs": false,
   "report_style_numbering": false,
   "user_envs_cfg": false
  },
  "toc": {
   "base_numbering": 1,
   "nav_menu": {},
   "number_sections": true,
   "sideBar": true,
   "skip_h1_title": false,
   "title_cell": "Table of Contents",
   "title_sidebar": "Contents",
   "toc_cell": false,
   "toc_position": {},
   "toc_section_display": true,
   "toc_window_display": false
  },
  "varInspector": {
   "cols": {
    "lenName": 16,
    "lenType": 16,
    "lenVar": 40
   },
   "kernels_config": {
    "python": {
     "delete_cmd_postfix": "",
     "delete_cmd_prefix": "del ",
     "library": "var_list.py",
     "varRefreshCmd": "print(var_dic_list())"
    },
    "r": {
     "delete_cmd_postfix": ") ",
     "delete_cmd_prefix": "rm(",
     "library": "var_list.r",
     "varRefreshCmd": "cat(var_dic_list()) "
    }
   },
   "types_to_exclude": [
    "module",
    "function",
    "builtin_function_or_method",
    "instance",
    "_Feature"
   ],
   "window_display": false
  }
 },
 "nbformat": 4,
 "nbformat_minor": 4
}
