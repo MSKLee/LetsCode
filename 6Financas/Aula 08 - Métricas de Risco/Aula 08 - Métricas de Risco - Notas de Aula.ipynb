{
 "cells": [
  {
   "cell_type": "markdown",
   "metadata": {},
   "source": [
    "# Métricas de Risco - *VaR* e *ES*"
   ]
  },
  {
   "cell_type": "markdown",
   "metadata": {},
   "source": [
    "## Introdução\n",
    "\n",
    "### Após completar este capítulo, você será capaz de:\n",
    "\n",
    "- Compreender a importância das métricas de risco\n",
    "- Compreender o conceito de VaR\n",
    "- Calcular o VaR por metodologia histórica\n",
    "\n",
    "### Conceitos utilizados\n",
    "- Probabilidade básica\n",
    "- Distribuição Normal\n",
    "- Percentil\n",
    "- Retorno\n",
    "- PnL (*profit and loss*)"
   ]
  },
  {
   "cell_type": "markdown",
   "metadata": {},
   "source": [
    "### Importância das métricas de risco💰📈\n",
    "**O que são métricas de risco**   \n",
    "Métricas que visam estimar **perdas potenciais** sob determinados cenários (premissas) em função de modelos de apreçamento. Em geral, são aplicáveis tanto a apenas um ativo, como em carteiras complexas e diversas, pois apresentam uma visão consolidada sobre um risco financeiro. Por este mesmo motivo, costumam utilizar ferramentas e conceitos estatísticos na mensuração.\n",
    "\n",
    "Há métricas para estimar diversos tipos de risco financeiro, como risco de crédito, mercado, contraparte, liquidez, etc.\n",
    "\n",
    "**Para que servem**   \n",
    "São utilizadas na gestão de risco de instituições financeiras - *e na sua carteira pessoal, por que não?*   \n",
    "Geralmente são vinculadas com outras ações e mitigadores, como definição de apetite de risco e limites de operação.\n",
    "Também são muito utilizadas pelos órgãos reguladores do sistema financeiro para controlar a tomada de risco das instituições e garantir a saúde do mercado. Reguladores estimam o **capital** a ser alocado pela instituição financeira em função das métricas de risco.\n",
    "\n",
    "\n",
    "**Exemplo em risco de mercado**\n",
    "\n",
    "|Métrica de risco| Exigência regulatória|\n",
    "|---|---|\n",
    "|Value at Risk (VaR) | Capital RM (Res. 4.557 e Circ. 3.646)|\n",
    "|Expected Shortfall (ES) | FRTB|\n",
    "|Teste de estresse| ICAAP (Res. 4.557)|\n",
    "|ΔEVE e ΔNII | IRRBB (Circ. 3.876)|\n",
    "\n"
   ]
  },
  {
   "cell_type": "code",
   "execution_count": 2,
   "metadata": {
    "scrolled": true
   },
   "outputs": [
    {
     "name": "stdout",
     "output_type": "stream",
     "text": [
      "Collecting yahoo-fin\n",
      "  Downloading yahoo_fin-0.8.9.1-py3-none-any.whl (10 kB)\n",
      "Requirement already satisfied: requests in /opt/anaconda3/envs/DSdegree/lib/python3.9/site-packages (from yahoo-fin) (2.25.1)\n",
      "Requirement already satisfied: pandas in /opt/anaconda3/envs/DSdegree/lib/python3.9/site-packages (from yahoo-fin) (1.2.5)\n",
      "Collecting feedparser\n",
      "  Downloading feedparser-6.0.8-py3-none-any.whl (81 kB)\n",
      "\u001b[K     |████████████████████████████████| 81 kB 3.3 MB/s eta 0:00:01\n",
      "\u001b[?25hCollecting requests-html\n",
      "  Downloading requests_html-0.10.0-py3-none-any.whl (13 kB)\n",
      "Collecting sgmllib3k\n",
      "  Downloading sgmllib3k-1.0.0.tar.gz (5.8 kB)\n",
      "Requirement already satisfied: python-dateutil>=2.7.3 in /opt/anaconda3/envs/DSdegree/lib/python3.9/site-packages (from pandas->yahoo-fin) (2.8.1)\n",
      "Requirement already satisfied: pytz>=2017.3 in /opt/anaconda3/envs/DSdegree/lib/python3.9/site-packages (from pandas->yahoo-fin) (2020.1)\n",
      "Requirement already satisfied: numpy>=1.16.5 in /opt/anaconda3/envs/DSdegree/lib/python3.9/site-packages (from pandas->yahoo-fin) (1.20.2)\n",
      "Requirement already satisfied: six>=1.5 in /opt/anaconda3/envs/DSdegree/lib/python3.9/site-packages (from python-dateutil>=2.7.3->pandas->yahoo-fin) (1.15.0)\n",
      "Requirement already satisfied: chardet<5,>=3.0.2 in /opt/anaconda3/envs/DSdegree/lib/python3.9/site-packages (from requests->yahoo-fin) (4.0.0)\n",
      "Requirement already satisfied: urllib3<1.27,>=1.21.1 in /opt/anaconda3/envs/DSdegree/lib/python3.9/site-packages (from requests->yahoo-fin) (1.25.11)\n",
      "Requirement already satisfied: certifi>=2017.4.17 in /opt/anaconda3/envs/DSdegree/lib/python3.9/site-packages (from requests->yahoo-fin) (2021.10.8)\n",
      "Requirement already satisfied: idna<3,>=2.5 in /opt/anaconda3/envs/DSdegree/lib/python3.9/site-packages (from requests->yahoo-fin) (2.10)\n",
      "Collecting pyppeteer>=0.0.14\n",
      "  Downloading pyppeteer-1.0.2-py3-none-any.whl (83 kB)\n",
      "\u001b[K     |████████████████████████████████| 83 kB 3.3 MB/s  eta 0:00:01\n",
      "\u001b[?25hCollecting w3lib\n",
      "  Downloading w3lib-1.22.0-py2.py3-none-any.whl (20 kB)\n",
      "Collecting parse\n",
      "  Downloading parse-1.19.0.tar.gz (30 kB)\n",
      "Collecting bs4\n",
      "  Downloading bs4-0.0.1.tar.gz (1.1 kB)\n",
      "Collecting pyquery\n",
      "  Downloading pyquery-1.4.3-py3-none-any.whl (22 kB)\n",
      "Collecting fake-useragent\n",
      "  Downloading fake-useragent-0.1.11.tar.gz (13 kB)\n",
      "Requirement already satisfied: importlib-metadata>=1.4 in /opt/anaconda3/envs/DSdegree/lib/python3.9/site-packages (from pyppeteer>=0.0.14->requests-html->yahoo-fin) (2.0.0)\n",
      "Collecting pyee<9.0.0,>=8.1.0\n",
      "  Downloading pyee-8.2.2-py2.py3-none-any.whl (12 kB)\n",
      "Collecting websockets<11.0,>=10.0\n",
      "  Downloading websockets-10.1-cp39-cp39-macosx_10_9_x86_64.whl (96 kB)\n",
      "\u001b[K     |████████████████████████████████| 96 kB 9.0 MB/s  eta 0:00:01\n",
      "\u001b[?25hCollecting appdirs<2.0.0,>=1.4.3\n",
      "  Downloading appdirs-1.4.4-py2.py3-none-any.whl (9.6 kB)\n",
      "Requirement already satisfied: tqdm<5.0.0,>=4.42.1 in /opt/anaconda3/envs/DSdegree/lib/python3.9/site-packages (from pyppeteer>=0.0.14->requests-html->yahoo-fin) (4.50.2)\n",
      "Requirement already satisfied: zipp>=0.5 in /opt/anaconda3/envs/DSdegree/lib/python3.9/site-packages (from importlib-metadata>=1.4->pyppeteer>=0.0.14->requests-html->yahoo-fin) (3.3.1)\n",
      "Requirement already satisfied: beautifulsoup4 in /opt/anaconda3/envs/DSdegree/lib/python3.9/site-packages (from bs4->requests-html->yahoo-fin) (4.10.0)\n",
      "Requirement already satisfied: soupsieve>1.2 in /opt/anaconda3/envs/DSdegree/lib/python3.9/site-packages (from beautifulsoup4->bs4->requests-html->yahoo-fin) (2.3.1)\n",
      "Requirement already satisfied: lxml>=2.1 in /opt/anaconda3/envs/DSdegree/lib/python3.9/site-packages (from pyquery->requests-html->yahoo-fin) (4.6.3)\n",
      "Collecting cssselect>0.7.9\n",
      "  Downloading cssselect-1.1.0-py2.py3-none-any.whl (16 kB)\n",
      "Building wheels for collected packages: bs4, fake-useragent, parse, sgmllib3k\n",
      "  Building wheel for bs4 (setup.py) ... \u001b[?25ldone\n",
      "\u001b[?25h  Created wheel for bs4: filename=bs4-0.0.1-py3-none-any.whl size=1273 sha256=ae0961bb005c6bb1857dbc75c39575e5f4900e0581479b99a75944b1d967935d\n",
      "  Stored in directory: /Users/michaellee/Library/Caches/pip/wheels/73/2b/cb/099980278a0c9a3e57ff1a89875ec07bfa0b6fcbebb9a8cad3\n",
      "  Building wheel for fake-useragent (setup.py) ... \u001b[?25ldone\n",
      "\u001b[?25h  Created wheel for fake-useragent: filename=fake_useragent-0.1.11-py3-none-any.whl size=13486 sha256=54948959f2f99c647cc99762009531763f6dd70175a86fd9590896e34ec595fa\n",
      "  Stored in directory: /Users/michaellee/Library/Caches/pip/wheels/ae/e7/76/7dd44644d065268ab0e1b4fa2e802fa4bb0157717b7d6c6d92\n",
      "  Building wheel for parse (setup.py) ... \u001b[?25ldone\n",
      "\u001b[?25h  Created wheel for parse: filename=parse-1.19.0-py3-none-any.whl size=24581 sha256=43ec45265587a8f99bfc071257016c0c9524403cc32bc6ecdbbfc587e14fef57\n",
      "  Stored in directory: /Users/michaellee/Library/Caches/pip/wheels/d6/9c/58/ee3ba36897e890f3ad81e9b730791a153fce20caa4a8a474df\n",
      "  Building wheel for sgmllib3k (setup.py) ... \u001b[?25ldone\n",
      "\u001b[?25h  Created wheel for sgmllib3k: filename=sgmllib3k-1.0.0-py3-none-any.whl size=6065 sha256=c544823ade46806e32806885190ea3d9a85aa09e33f259f87defbded7ca02e3b\n",
      "  Stored in directory: /Users/michaellee/Library/Caches/pip/wheels/65/7a/a7/78c287f64e401255dff4c13fdbc672fed5efbfd21c530114e1\n",
      "Successfully built bs4 fake-useragent parse sgmllib3k\n",
      "Installing collected packages: websockets, pyee, cssselect, appdirs, w3lib, sgmllib3k, pyquery, pyppeteer, parse, fake-useragent, bs4, requests-html, feedparser, yahoo-fin\n",
      "Successfully installed appdirs-1.4.4 bs4-0.0.1 cssselect-1.1.0 fake-useragent-0.1.11 feedparser-6.0.8 parse-1.19.0 pyee-8.2.2 pyppeteer-1.0.2 pyquery-1.4.3 requests-html-0.10.0 sgmllib3k-1.0.0 w3lib-1.22.0 websockets-10.1 yahoo-fin-0.8.9.1\n",
      "Note: you may need to restart the kernel to use updated packages.\n"
     ]
    }
   ],
   "source": [
    "pip install yahoo-fin"
   ]
  },
  {
   "cell_type": "code",
   "execution_count": 1,
   "metadata": {
    "ExecuteTime": {
     "end_time": "2022-02-14T22:22:21.739064Z",
     "start_time": "2022-02-14T22:22:14.406240Z"
    }
   },
   "outputs": [],
   "source": [
    "# Bibliotecas\n",
    "import datetime as dt\n",
    "import numpy as np\n",
    "import pandas as pd\n",
    "import matplotlib.pyplot as plt\n",
    "import yahoo_fin.stock_info as si"
   ]
  },
  {
   "cell_type": "markdown",
   "metadata": {},
   "source": [
    "### Revisão <a class=\"anchor\" id=\"2\"></a>\n",
    "1. Retorno simples\n",
    "2. PnL - Profit or Loss - Perdas ou Ganhos (resultado)"
   ]
  },
  {
   "cell_type": "markdown",
   "metadata": {},
   "source": [
    "Seja $P_t$ o preço de um ativo no instante $t$.\n",
    "O retorno simples é dado por:\n",
    "$$ retorno_t = \\frac{preço_t - preço_{t-HP}}{preço_{t-HP}} $$\n",
    "ou\n",
    "$$ retorno_t = \\frac{preço_t}{preço_{t-HP}} -1 $$\n",
    "\n",
    "Geralmente o retorno é expresso em porcentagem, relativamente ao período. Também é chamado de *taxa de retorno*.   \n",
    "E o PnL é dado por:\n",
    "\n",
    "$$ PnL_t = preço_t - preço_{t-HP} $$\n",
    "ou\n",
    "$$ PnL_t = retorno_t \\cdot preço_{t-HP} $$\n",
    "\n",
    "e representa a perda ou ganho em valor financeiro ocorrida no período decorrido da variação de preços do ativo."
   ]
  },
  {
   "cell_type": "code",
   "execution_count": 2,
   "metadata": {
    "ExecuteTime": {
     "end_time": "2022-02-14T23:03:16.480912Z",
     "start_time": "2022-02-14T23:03:15.815467Z"
    }
   },
   "outputs": [],
   "source": [
    "# Captura dos dados\n",
    "def read_fx_input(fx_name='^BVSP'):\n",
    "#     df = pd.read_csv(path_in + fx_name + '.csv', decimal=',')\n",
    "#     df = df[df.tipoBoletim == 'Fechamento'].reset_index()\n",
    "#     df['date'] = df['dataHoraCotacao'].apply(lambda x: dt.datetime.strptime(x[0:10], '%Y-%m-%d').date())\n",
    "#     df['price'] = (df.cotacaoCompra + df.cotacaoVenda)/2 # mid\n",
    "#     return df[['date', 'price']].set_index('date')\n",
    "    df = si.get_data('^BVSP', start_date = '01/01/2010', index_as_date = True, interval = '1d')\n",
    "    df = df.loc[:,['adjclose']]\n",
    "    df.columns = ['price']\n",
    "    return df\n",
    "\n",
    "df_inputs = read_fx_input()"
   ]
  },
  {
   "cell_type": "markdown",
   "metadata": {},
   "source": [
    "bid = oferta de venda\n",
    "ask = oferta de compra\n",
    "mid = preço médio"
   ]
  },
  {
   "cell_type": "code",
   "execution_count": null,
   "metadata": {
    "scrolled": true
   },
   "outputs": [],
   "source": [
    "# df_inputs = read_fx_input('USD', '')\n",
    "# df_inputs.head()"
   ]
  },
  {
   "cell_type": "markdown",
   "metadata": {},
   "source": [
    "Temos uma base de preços históricos. \n",
    "Calculemos os retornos:"
   ]
  },
  {
   "cell_type": "code",
   "execution_count": 3,
   "metadata": {
    "ExecuteTime": {
     "end_time": "2022-02-14T23:03:19.552821Z",
     "start_time": "2022-02-14T23:03:19.547357Z"
    }
   },
   "outputs": [],
   "source": [
    "def calc_ret_pnl(df, hp): # df = df_usd\n",
    "    df['return'] = (df['price']/df['price'].shift(hp) - 1) # Retorno\n",
    "    df['PnL'] = df['price'] - df['price'].shift(hp) # Realizado\n",
    "    # df['logReturn'] = df.apply(lambda x: np.log(x['return']), axis=1) # log retorno\n",
    "    return df"
   ]
  },
  {
   "cell_type": "code",
   "execution_count": 4,
   "metadata": {
    "ExecuteTime": {
     "end_time": "2022-02-14T23:03:21.867309Z",
     "start_time": "2022-02-14T23:03:21.841491Z"
    }
   },
   "outputs": [
    {
     "data": {
      "text/html": [
       "<div>\n",
       "<style scoped>\n",
       "    .dataframe tbody tr th:only-of-type {\n",
       "        vertical-align: middle;\n",
       "    }\n",
       "\n",
       "    .dataframe tbody tr th {\n",
       "        vertical-align: top;\n",
       "    }\n",
       "\n",
       "    .dataframe thead th {\n",
       "        text-align: right;\n",
       "    }\n",
       "</style>\n",
       "<table border=\"1\" class=\"dataframe\">\n",
       "  <thead>\n",
       "    <tr style=\"text-align: right;\">\n",
       "      <th></th>\n",
       "      <th>price</th>\n",
       "      <th>return</th>\n",
       "      <th>PnL</th>\n",
       "    </tr>\n",
       "  </thead>\n",
       "  <tbody>\n",
       "    <tr>\n",
       "      <th>2010-01-04</th>\n",
       "      <td>70045.0</td>\n",
       "      <td>NaN</td>\n",
       "      <td>NaN</td>\n",
       "    </tr>\n",
       "    <tr>\n",
       "      <th>2010-01-05</th>\n",
       "      <td>70240.0</td>\n",
       "      <td>0.002784</td>\n",
       "      <td>195.0</td>\n",
       "    </tr>\n",
       "    <tr>\n",
       "      <th>2010-01-06</th>\n",
       "      <td>70729.0</td>\n",
       "      <td>0.006962</td>\n",
       "      <td>489.0</td>\n",
       "    </tr>\n",
       "    <tr>\n",
       "      <th>2010-01-07</th>\n",
       "      <td>70451.0</td>\n",
       "      <td>-0.003930</td>\n",
       "      <td>-278.0</td>\n",
       "    </tr>\n",
       "    <tr>\n",
       "      <th>2010-01-08</th>\n",
       "      <td>70263.0</td>\n",
       "      <td>-0.002669</td>\n",
       "      <td>-188.0</td>\n",
       "    </tr>\n",
       "  </tbody>\n",
       "</table>\n",
       "</div>"
      ],
      "text/plain": [
       "              price    return    PnL\n",
       "2010-01-04  70045.0       NaN    NaN\n",
       "2010-01-05  70240.0  0.002784  195.0\n",
       "2010-01-06  70729.0  0.006962  489.0\n",
       "2010-01-07  70451.0 -0.003930 -278.0\n",
       "2010-01-08  70263.0 -0.002669 -188.0"
      ]
     },
     "execution_count": 4,
     "metadata": {},
     "output_type": "execute_result"
    }
   ],
   "source": [
    "df_metrics = calc_ret_pnl(df_inputs, hp=1)\n",
    "df_metrics.head()"
   ]
  },
  {
   "cell_type": "markdown",
   "metadata": {},
   "source": [
    "### 3. Definições <a class=\"anchor\" id=\"3\"></a>\n",
    "1. *VaR - Value at Risk*\n",
    "2. *ES - Expected shortfall*\n",
    "3. Parâmetros comuns"
   ]
  },
  {
   "cell_type": "markdown",
   "metadata": {},
   "source": [
    "#### VaR\n",
    "Conceito:\n",
    "- Pior perda esperada sob condições normais de mercado, ao longo de determinado intervalo de tempo ($HP$) e dentro de determinado nível de confiança ($1−\\alpha$).\n",
    "\n",
    "Definição:   \n",
    "Seja $x(t)$ a série temporal de resultados (PnL), então:\n",
    "\n",
    "$$ VaR_{1-\\alpha}^{HP}(t) = \\inf \\{y \\in \\mathbb{R}: Pr(x(t)) > y = 1 - \\alpha \\} $$\n",
    "\n",
    "Exemplo:   \n",
    "Se um portfólio possui um VaR para $HP=10$ dias e nível de confiança 95\\% no valor de R\\$ 1 milhão, significa que:\n",
    "- Há uma probabilidade de $\\alpha = 5\\%$ que o portfólio perca mais de R$ 1 milhão num intervalo de 10 dias, caso o portfólio permaneça o mesmo neste período. "
   ]
  },
  {
   "cell_type": "markdown",
   "metadata": {},
   "source": [
    "<div>\n",
    "    <img src=\"Imagens/09_01_var_conceito.png\" style=\"width: 600px;\"/>\n",
    "</div>"
   ]
  },
  {
   "cell_type": "markdown",
   "metadata": {},
   "source": [
    "#### *Expected Shortfall*\n",
    "Conceito:\n",
    "- Valor esperado (média) da perda condicional ao estouro do VaR, ao longo de determinado intervalo de tempo ($𝐻𝑃$) e dentro de determinado nível de confiança ($1−\\alpha$).\n",
    "\n",
    "Definição:\n",
    "$$ ES_{1-\\alpha}^{HP}(t) = \\mathbb{E}[x(t) | x(t) < VaR_{1-\\alpha}^{HP}(t)] $$\n",
    "\n",
    "Exemplo:   \n",
    "Se o ES é de R\\$ 10 milhões, significa que:\n",
    "- Caso ocorra uma perda pior que o VaR (estouro), o valor esperado dessa perda é de R\\$ 10 milhões."
   ]
  },
  {
   "cell_type": "markdown",
   "metadata": {},
   "source": [
    "<div>\n",
    "    <img src=\"Imagens/09_02_metricas_NTN-B_99.0.png\" style=\"width: 800px;\"/>\n",
    "</div>"
   ]
  },
  {
   "cell_type": "markdown",
   "metadata": {},
   "source": [
    "#### Parâmetros Comuns\n",
    "A definição dos parâmetros pode vir por exigência regulatória ou por decisão interna da instituição financeira, de acordo com seus apetites de risco ou uso dos modelos. A seguir, temos os valores mais comuns para o *holding period* e para o nível de confiança.\n",
    "\n",
    "$HP$: \n",
    "- 1 dia (usado em cálculo de limites)\n",
    "- 10 dias (usado para cálculo de capital)\n",
    "- 30 dias (usado em métricas de liquidez)\n",
    "\n",
    "Nível de confiança ($ 1 - \\alpha $):\n",
    "- 99%\n",
    "- 97,5%\n",
    "- 95%\n",
    "\n",
    "O nível de confiança é unilateral, pois sob uma visão de riscos, a preocupação é apenas sobre as perdas."
   ]
  },
  {
   "cell_type": "markdown",
   "metadata": {},
   "source": [
    "### Métodos de cálculo<a class=\"anchor\" id=\"4\"></a>\n",
    "1. **Paramétrico**   \n",
    "Premissa: distribuições teóricas com parâmetros conhecidos   \n",
    "Custo processamento: baixo   \n",
    "Custo base de dados: baixo   \n",
    "Maior fragilidade: depende diretamente da amostra utilizada na calibração dos parâmetros e da adequação das distribuições utilizadas\n",
    "\n",
    "2. **Histórico**   \n",
    "Premissa: informações passadas representam bem a distribuição   \n",
    "Custo processamento: baixo   \n",
    "Custo base de dados: alto   \n",
    "Maior fragilidade: depende diretamente da amostra utilizada\n",
    "\n",
    "3. **Simulação por Monte Carlo**   \n",
    "Premissa: adequação dos modelos de projeção   \n",
    "Custo processamento: alto   \n",
    "Custo base de dados: alto   \n",
    "Maior fragilidade: risco de modelo"
   ]
  },
  {
   "cell_type": "markdown",
   "metadata": {},
   "source": [
    "#### Histórico\n",
    "\n",
    "O VaR histórico é facilmente computado, porém exige uma maior quantidade de dados armazenados. Sua vantagem é que não há assunção de distribuição teórica sobre os retornos, pois os percentis são calculados diretamente a partir da amostra de realizações já ocorridas. Isto acaba sendo também uma desvantagem, pois o modelo é baseado apenas em informações passadas, falhando em predizer possíveis movimentações que não ocorreram no período histórico utilizado na mensuração.   \n",
    "\n",
    "Na simulação histórica, primeiramente define-se a quantidade $n$ de cenários que será utilizada como tamanho da amostra para cálculo dos percentis. Com isto, obtemos uma série com $n$ retornos já realizados. Em geral, utilizam-se os retornos mais recentes e, portanto:\n",
    "\n",
    "$$ sRet_t = \\{retorno(\\tau)\\}_{t-n}^{t} $$\n",
    "\n",
    "Estes retornos são aplicados ao valor financeiro atual para gerar uma série de possíveis cenários de perdas e ganhos (PnLs):\n",
    "\n",
    "$$ sPnL_t = MtM_t \\cdot sRet_t = \\{MtM_t \\cdot retorno(\\tau)\\}_{t-n}^{t} $$\n",
    "\n",
    "𝑃ara obter o VaR, calcula-se o percentil $\\alpha$ desta série:\n",
    "\n",
    "$$ VaR_{1-\\alpha}(t) = Percentil[sPnL_t, \\alpha] $$\n",
    "\n",
    "Na prática, ordenam-se os valores de PnL simulados e busca-se o $\\alpha$-ésimo pior valor da série.   \n",
    "Para obter o ES, é calculada a média de todos os valores da série abaixo do VaR, ou seja, das perdas piores que o valor do VaR:\n",
    "\n",
    "$$ ES_{1 - \\alpha}(t) = Média[x | x < VaR_{1-\\alpha}(t)], x \\in sPnL_t $$\n",
    "\n",
    "É comum utilizar $n = 1000$ dias mais recentes para cálculo histórico, que representam aproximadamente 4 anos de dados diários. "
   ]
  },
  {
   "cell_type": "markdown",
   "metadata": {},
   "source": [
    "#### Exemplo prático: Método histórico simples com um único fator de risco\n",
    "Calcular o VaR histórico de 1 dia com 99% de confiança para USD Spot"
   ]
  },
  {
   "cell_type": "markdown",
   "metadata": {},
   "source": [
    "Cálculo da série de PnLs: $ sPnL_t $   \n",
    "Fazemos o corte do período utilizado como amostra. Em nosso exemplo, usaremos os últimos 1000 PnLs:"
   ]
  },
  {
   "cell_type": "code",
   "execution_count": 5,
   "metadata": {
    "ExecuteTime": {
     "end_time": "2022-02-14T23:03:31.191940Z",
     "start_time": "2022-02-14T23:03:31.180012Z"
    }
   },
   "outputs": [
    {
     "data": {
      "text/plain": [
       "2018-01-30    -216.0000\n",
       "2018-01-31     431.0000\n",
       "2018-02-01     582.0000\n",
       "2018-02-02   -1454.0000\n",
       "2018-02-05   -2180.0000\n",
       "                ...    \n",
       "2022-02-08     238.0000\n",
       "2022-02-09     227.0000\n",
       "2022-02-10     898.0000\n",
       "2022-02-11     136.0000\n",
       "2022-02-14     404.1875\n",
       "Name: PnL, Length: 1000, dtype: float64"
      ]
     },
     "execution_count": 5,
     "metadata": {},
     "output_type": "execute_result"
    }
   ],
   "source": [
    "amostra_PnL = df_metrics.PnL.iloc[len(df_metrics)-1000:len(df_metrics)]\n",
    "amostra_PnL"
   ]
  },
  {
   "cell_type": "code",
   "execution_count": 6,
   "metadata": {
    "ExecuteTime": {
     "end_time": "2022-02-14T23:04:13.607015Z",
     "start_time": "2022-02-14T23:04:13.390949Z"
    }
   },
   "outputs": [
    {
     "data": {
      "image/png": "[encoded data removed]",
      "text/plain": [
       "<Figure size 1440x864 with 1 Axes>"
      ]
     },
     "metadata": {
      "needs_background": "light"
     },
     "output_type": "display_data"
    }
   ],
   "source": [
    "# Histograma da amostra de 1000 dias\n",
    "plt.figure(figsize=(20,12))\n",
    "plt.hist(amostra_PnL, density=False, bins=50)\n",
    "plt.ylabel('Frequência')\n",
    "plt.xlabel('PnL');"
   ]
  },
  {
   "cell_type": "code",
   "execution_count": 7,
   "metadata": {
    "ExecuteTime": {
     "end_time": "2022-02-14T23:06:43.739417Z",
     "start_time": "2022-02-14T23:06:43.375264Z"
    }
   },
   "outputs": [
    {
     "data": {
      "text/plain": [
       "Text(0.5, 1.0, 'Histograma')"
      ]
     },
     "execution_count": 7,
     "metadata": {},
     "output_type": "execute_result"
    },
    {
     "data": {
      "image/png": "[encoded data removed]",
      "text/plain": [
       "<Figure size 1440x864 with 1 Axes>"
      ]
     },
     "metadata": {
      "needs_background": "light"
     },
     "output_type": "display_data"
    },
    {
     "data": {
      "image/png": "[encoded data removed]",
      "text/plain": [
       "<Figure size 1440x864 with 1 Axes>"
      ]
     },
     "metadata": {
      "needs_background": "light"
     },
     "output_type": "display_data"
    }
   ],
   "source": [
    "import scipy.stats as st\n",
    "bins = 50\n",
    "plt.figure(figsize=(20,12))\n",
    "plt.hist(amostra_PnL, density=True, bins=bins, label=\"Dados\")\n",
    "xmin, xmax = plt.xlim()\n",
    "mu, sigma = st.norm.fit(amostra_PnL)\n",
    "x = np.linspace(xmin, xmax, 100)\n",
    "curve = st.norm.pdf(x, mu, sigma)\n",
    "plt.figure(figsize=(20,12))\n",
    "plt.plot(x, curve, label=\"PDF\")\n",
    "plt.legend(loc=\"upper left\")\n",
    "plt.ylabel('Densidade')\n",
    "plt.xlabel('PnL')\n",
    "plt.title(\"Histograma\")"
   ]
  },
  {
   "cell_type": "markdown",
   "metadata": {},
   "source": [
    "Para obter o VaR, basta buscar o percentil desejado $\\alpha$:"
   ]
  },
  {
   "cell_type": "code",
   "execution_count": 36,
   "metadata": {
    "ExecuteTime": {
     "end_time": "2022-02-14T23:09:11.755238Z",
     "start_time": "2022-02-14T23:09:11.743816Z"
    }
   },
   "outputs": [
    {
     "name": "stdout",
     "output_type": "stream",
     "text": [
      "VaR 99% = R$ 7049.79\n"
     ]
    }
   ],
   "source": [
    "alpha = 0.01\n",
    "var = amostra_PnL.quantile(alpha)\n",
    "print(\"VaR 99% = R$ \" + \"{:.2f}\".format(- var))"
   ]
  },
  {
   "cell_type": "markdown",
   "metadata": {},
   "source": [
    "Para obter o ES, basta calcular a média dos valores abaixo do VaR:"
   ]
  },
  {
   "cell_type": "code",
   "execution_count": 9,
   "metadata": {
    "ExecuteTime": {
     "end_time": "2022-02-14T23:09:59.815260Z",
     "start_time": "2022-02-14T23:09:59.803340Z"
    }
   },
   "outputs": [
    {
     "data": {
      "text/plain": [
       "2020-02-26    -7963.0\n",
       "2020-03-05    -4991.0\n",
       "2020-03-09   -11930.0\n",
       "2020-03-11    -7043.0\n",
       "2020-03-12   -12588.0\n",
       "2020-03-16   -11510.0\n",
       "2020-03-18    -7722.0\n",
       "2021-02-22    -6080.0\n",
       "2021-03-08    -4590.0\n",
       "2021-09-08    -4456.0\n",
       "Name: PnL, dtype: float64"
      ]
     },
     "execution_count": 9,
     "metadata": {},
     "output_type": "execute_result"
    }
   ],
   "source": [
    "amostra_es = amostra_PnL[amostra_PnL <= var]\n",
    "amostra_es"
   ]
  },
  {
   "cell_type": "code",
   "execution_count": 35,
   "metadata": {
    "ExecuteTime": {
     "end_time": "2022-02-14T23:10:49.320101Z",
     "start_time": "2022-02-14T23:10:49.303212Z"
    }
   },
   "outputs": [
    {
     "name": "stdout",
     "output_type": "stream",
     "text": [
      "ES 99% = R$ 5316.80\n"
     ]
    }
   ],
   "source": [
    "es = amostra_PnL[amostra_PnL <= var].mean()\n",
    "print(\"ES 99% = R$ \" + \"{:.2f}\".format(-es))"
   ]
  },
  {
   "cell_type": "markdown",
   "metadata": {},
   "source": [
    "### 5. Exercícios<a class=\"anchor\" id=\"5\"></a>"
   ]
  },
  {
   "cell_type": "markdown",
   "metadata": {},
   "source": [
    "1. É possível o ES apresentar um valor menor (em módulo) que o VaR:   \n",
    "a) sob o mesmo nível de confiança?   \n",
    "b) sob um nível de confiança maior (ex: ES 95% e VaR 99%)?   \n",
    "c) sob um nível de confiança menor (ex: ES 99% e VaR 95%)?"
   ]
  },
  {
   "cell_type": "markdown",
   "metadata": {},
   "source": [
    "Resposta aqui\n",
    "\n",
    "a) Não,visto que o ES é calculada através da média de todos os valores da série **abaixo** do VaR, ou seja, das perdas piores que o valor do VaR.\n",
    "\n",
    "b) Sim. Nesse caso, visto que o ES possui um maior nível de confiança, o VaR tende a ter uma valor menor(em módulo) do que o VaR.\n",
    "\n",
    "c) Não. Nesse caso, visto que o VaR possui um maior nível de confiança, o ES tende a ter uma valor ainda maior(em módulo) em relação ao VaR, do que no caso da letra a."
   ]
  },
  {
   "cell_type": "markdown",
   "metadata": {},
   "source": [
    "2. Calcule o VaR histórico com nível de confiança de 95% e HP=1, para a última data disponível de USD Spot (30/04/2021), utilizando uma amostra de 500 dias."
   ]
  },
  {
   "cell_type": "code",
   "execution_count": 62,
   "metadata": {},
   "outputs": [
    {
     "data": {
      "text/html": [
       "<div>\n",
       "<style scoped>\n",
       "    .dataframe tbody tr th:only-of-type {\n",
       "        vertical-align: middle;\n",
       "    }\n",
       "\n",
       "    .dataframe tbody tr th {\n",
       "        vertical-align: top;\n",
       "    }\n",
       "\n",
       "    .dataframe thead th {\n",
       "        text-align: right;\n",
       "    }\n",
       "</style>\n",
       "<table border=\"1\" class=\"dataframe\">\n",
       "  <thead>\n",
       "    <tr style=\"text-align: right;\">\n",
       "      <th></th>\n",
       "      <th>paridadeCompra</th>\n",
       "      <th>paridadeVenda</th>\n",
       "      <th>cotacaoCompra</th>\n",
       "      <th>cotacaoVenda</th>\n",
       "      <th>dataHoraCotacao</th>\n",
       "      <th>tipoBoletim</th>\n",
       "    </tr>\n",
       "  </thead>\n",
       "  <tbody>\n",
       "    <tr>\n",
       "      <th>0</th>\n",
       "      <td>1</td>\n",
       "      <td>1</td>\n",
       "      <td>1,725</td>\n",
       "      <td>1,735</td>\n",
       "      <td>2010-01-04 09:23:00.0</td>\n",
       "      <td>Abertura</td>\n",
       "    </tr>\n",
       "    <tr>\n",
       "      <th>1</th>\n",
       "      <td>1</td>\n",
       "      <td>1</td>\n",
       "      <td>1,728</td>\n",
       "      <td>1,73</td>\n",
       "      <td>2010-01-04 09:30:00.0</td>\n",
       "      <td>Intermediário</td>\n",
       "    </tr>\n",
       "    <tr>\n",
       "      <th>2</th>\n",
       "      <td>1</td>\n",
       "      <td>1</td>\n",
       "      <td>1,727</td>\n",
       "      <td>1,729</td>\n",
       "      <td>2010-01-04 10:00:00.0</td>\n",
       "      <td>Intermediário</td>\n",
       "    </tr>\n",
       "    <tr>\n",
       "      <th>3</th>\n",
       "      <td>1</td>\n",
       "      <td>1</td>\n",
       "      <td>1,728</td>\n",
       "      <td>1,73</td>\n",
       "      <td>2010-01-04 10:30:00.0</td>\n",
       "      <td>Intermediário</td>\n",
       "    </tr>\n",
       "    <tr>\n",
       "      <th>4</th>\n",
       "      <td>1</td>\n",
       "      <td>1</td>\n",
       "      <td>1,728</td>\n",
       "      <td>1,73</td>\n",
       "      <td>2010-01-04 11:00:00.0</td>\n",
       "      <td>Intermediário</td>\n",
       "    </tr>\n",
       "  </tbody>\n",
       "</table>\n",
       "</div>"
      ],
      "text/plain": [
       "   paridadeCompra  paridadeVenda cotacaoCompra cotacaoVenda  \\\n",
       "0               1              1         1,725        1,735   \n",
       "1               1              1         1,728         1,73   \n",
       "2               1              1         1,727        1,729   \n",
       "3               1              1         1,728         1,73   \n",
       "4               1              1         1,728         1,73   \n",
       "\n",
       "         dataHoraCotacao    tipoBoletim  \n",
       "0  2010-01-04 09:23:00.0       Abertura  \n",
       "1  2010-01-04 09:30:00.0  Intermediário  \n",
       "2  2010-01-04 10:00:00.0  Intermediário  \n",
       "3  2010-01-04 10:30:00.0  Intermediário  \n",
       "4  2010-01-04 11:00:00.0  Intermediário  "
      ]
     },
     "execution_count": 62,
     "metadata": {},
     "output_type": "execute_result"
    }
   ],
   "source": [
    "# Resposta aqui \n",
    "\n",
    "# Importando o CSV\n",
    "\n",
    "df_usd = pd.read_csv('USD.csv')\n",
    "\n",
    "df_usd.head()"
   ]
  },
  {
   "cell_type": "code",
   "execution_count": 63,
   "metadata": {},
   "outputs": [
    {
     "name": "stdout",
     "output_type": "stream",
     "text": [
      "<class 'pandas.core.frame.DataFrame'>\n",
      "RangeIndex: 18604 entries, 0 to 18603\n",
      "Data columns (total 6 columns):\n",
      " #   Column           Non-Null Count  Dtype \n",
      "---  ------           --------------  ----- \n",
      " 0   paridadeCompra   18604 non-null  int64 \n",
      " 1   paridadeVenda    18604 non-null  int64 \n",
      " 2   cotacaoCompra    18604 non-null  object\n",
      " 3   cotacaoVenda     18604 non-null  object\n",
      " 4   dataHoraCotacao  18604 non-null  object\n",
      " 5   tipoBoletim      18604 non-null  object\n",
      "dtypes: int64(2), object(4)\n",
      "memory usage: 872.2+ KB\n"
     ]
    }
   ],
   "source": [
    "df_usd.info()"
   ]
  },
  {
   "cell_type": "code",
   "execution_count": 64,
   "metadata": {
    "scrolled": true
   },
   "outputs": [
    {
     "data": {
      "text/html": [
       "<div>\n",
       "<style scoped>\n",
       "    .dataframe tbody tr th:only-of-type {\n",
       "        vertical-align: middle;\n",
       "    }\n",
       "\n",
       "    .dataframe tbody tr th {\n",
       "        vertical-align: top;\n",
       "    }\n",
       "\n",
       "    .dataframe thead th {\n",
       "        text-align: right;\n",
       "    }\n",
       "</style>\n",
       "<table border=\"1\" class=\"dataframe\">\n",
       "  <thead>\n",
       "    <tr style=\"text-align: right;\">\n",
       "      <th></th>\n",
       "      <th>paridadeCompra</th>\n",
       "      <th>paridadeVenda</th>\n",
       "      <th>cotacaoCompra</th>\n",
       "      <th>cotacaoVenda</th>\n",
       "      <th>dataHoraCotacao</th>\n",
       "      <th>tipoBoletim</th>\n",
       "    </tr>\n",
       "  </thead>\n",
       "  <tbody>\n",
       "    <tr>\n",
       "      <th>0</th>\n",
       "      <td>1</td>\n",
       "      <td>1</td>\n",
       "      <td>1.725</td>\n",
       "      <td>1.735</td>\n",
       "      <td>2010-01-04 09:23:00.0</td>\n",
       "      <td>Abertura</td>\n",
       "    </tr>\n",
       "    <tr>\n",
       "      <th>1</th>\n",
       "      <td>1</td>\n",
       "      <td>1</td>\n",
       "      <td>1.728</td>\n",
       "      <td>1.730</td>\n",
       "      <td>2010-01-04 09:30:00.0</td>\n",
       "      <td>Intermediário</td>\n",
       "    </tr>\n",
       "    <tr>\n",
       "      <th>2</th>\n",
       "      <td>1</td>\n",
       "      <td>1</td>\n",
       "      <td>1.727</td>\n",
       "      <td>1.729</td>\n",
       "      <td>2010-01-04 10:00:00.0</td>\n",
       "      <td>Intermediário</td>\n",
       "    </tr>\n",
       "    <tr>\n",
       "      <th>3</th>\n",
       "      <td>1</td>\n",
       "      <td>1</td>\n",
       "      <td>1.728</td>\n",
       "      <td>1.730</td>\n",
       "      <td>2010-01-04 10:30:00.0</td>\n",
       "      <td>Intermediário</td>\n",
       "    </tr>\n",
       "    <tr>\n",
       "      <th>4</th>\n",
       "      <td>1</td>\n",
       "      <td>1</td>\n",
       "      <td>1.728</td>\n",
       "      <td>1.730</td>\n",
       "      <td>2010-01-04 11:00:00.0</td>\n",
       "      <td>Intermediário</td>\n",
       "    </tr>\n",
       "  </tbody>\n",
       "</table>\n",
       "</div>"
      ],
      "text/plain": [
       "   paridadeCompra  paridadeVenda  cotacaoCompra  cotacaoVenda  \\\n",
       "0               1              1          1.725         1.735   \n",
       "1               1              1          1.728         1.730   \n",
       "2               1              1          1.727         1.729   \n",
       "3               1              1          1.728         1.730   \n",
       "4               1              1          1.728         1.730   \n",
       "\n",
       "         dataHoraCotacao    tipoBoletim  \n",
       "0  2010-01-04 09:23:00.0       Abertura  \n",
       "1  2010-01-04 09:30:00.0  Intermediário  \n",
       "2  2010-01-04 10:00:00.0  Intermediário  \n",
       "3  2010-01-04 10:30:00.0  Intermediário  \n",
       "4  2010-01-04 11:00:00.0  Intermediário  "
      ]
     },
     "execution_count": 64,
     "metadata": {},
     "output_type": "execute_result"
    }
   ],
   "source": [
    "# Convertendo os Valores das Colunas cotacaoCompra e cotacaoVenda para Float\n",
    "\n",
    "df_usd['cotacaoCompra'] = df_usd['cotacaoCompra'].apply(lambda x: x.replace(',','.')).astype(float)\n",
    "df_usd['cotacaoVenda'] = df_usd['cotacaoVenda'].apply(lambda x: x.replace(',','.')).astype(float)\n",
    "df_usd.head()"
   ]
  },
  {
   "cell_type": "code",
   "execution_count": 122,
   "metadata": {
    "scrolled": true
   },
   "outputs": [
    {
     "data": {
      "text/html": [
       "<div>\n",
       "<style scoped>\n",
       "    .dataframe tbody tr th:only-of-type {\n",
       "        vertical-align: middle;\n",
       "    }\n",
       "\n",
       "    .dataframe tbody tr th {\n",
       "        vertical-align: top;\n",
       "    }\n",
       "\n",
       "    .dataframe thead th {\n",
       "        text-align: right;\n",
       "    }\n",
       "</style>\n",
       "<table border=\"1\" class=\"dataframe\">\n",
       "  <thead>\n",
       "    <tr style=\"text-align: right;\">\n",
       "      <th></th>\n",
       "      <th>cotacaoCompra</th>\n",
       "      <th>cotacaoVenda</th>\n",
       "      <th>dataHoraCotacao</th>\n",
       "      <th>retornoCompra</th>\n",
       "      <th>retornoVenda</th>\n",
       "      <th>PnLCompra</th>\n",
       "      <th>PnLVenda</th>\n",
       "    </tr>\n",
       "  </thead>\n",
       "  <tbody>\n",
       "    <tr>\n",
       "      <th>17836</th>\n",
       "      <td>5.2603</td>\n",
       "      <td>5.2609</td>\n",
       "      <td>2020-09-16 10:09:18.047</td>\n",
       "      <td>-0.225712</td>\n",
       "      <td>-0.225687</td>\n",
       "      <td>22.345510</td>\n",
       "      <td>22.342968</td>\n",
       "    </tr>\n",
       "    <tr>\n",
       "      <th>15299</th>\n",
       "      <td>4.1838</td>\n",
       "      <td>4.1844</td>\n",
       "      <td>2018-09-04 11:09:19.433</td>\n",
       "      <td>0.446557</td>\n",
       "      <td>0.446493</td>\n",
       "      <td>-44.209162</td>\n",
       "      <td>-44.202794</td>\n",
       "    </tr>\n",
       "    <tr>\n",
       "      <th>1362</th>\n",
       "      <td>1.7270</td>\n",
       "      <td>1.7290</td>\n",
       "      <td>2010-04-30 13:00:23.824</td>\n",
       "      <td>-0.115674</td>\n",
       "      <td>-0.115540</td>\n",
       "      <td>11.451706</td>\n",
       "      <td>11.438475</td>\n",
       "    </tr>\n",
       "    <tr>\n",
       "      <th>3997</th>\n",
       "      <td>1.6970</td>\n",
       "      <td>1.6990</td>\n",
       "      <td>2010-12-14 11:30:19.567</td>\n",
       "      <td>0.117994</td>\n",
       "      <td>0.117855</td>\n",
       "      <td>-11.681416</td>\n",
       "      <td>-11.667649</td>\n",
       "    </tr>\n",
       "    <tr>\n",
       "      <th>10448</th>\n",
       "      <td>2.4763</td>\n",
       "      <td>2.4770</td>\n",
       "      <td>2014-10-16 13:10:18.164</td>\n",
       "      <td>0.064654</td>\n",
       "      <td>0.068679</td>\n",
       "      <td>-6.400776</td>\n",
       "      <td>-6.799176</td>\n",
       "    </tr>\n",
       "  </tbody>\n",
       "</table>\n",
       "</div>"
      ],
      "text/plain": [
       "       cotacaoCompra  cotacaoVenda          dataHoraCotacao  retornoCompra  \\\n",
       "17836         5.2603        5.2609  2020-09-16 10:09:18.047      -0.225712   \n",
       "15299         4.1838        4.1844  2018-09-04 11:09:19.433       0.446557   \n",
       "1362          1.7270        1.7290  2010-04-30 13:00:23.824      -0.115674   \n",
       "3997          1.6970        1.6990  2010-12-14 11:30:19.567       0.117994   \n",
       "10448         2.4763        2.4770  2014-10-16 13:10:18.164       0.064654   \n",
       "\n",
       "       retornoVenda  PnLCompra   PnLVenda  \n",
       "17836     -0.225687  22.345510  22.342968  \n",
       "15299      0.446493 -44.209162 -44.202794  \n",
       "1362      -0.115540  11.451706  11.438475  \n",
       "3997       0.117855 -11.681416 -11.667649  \n",
       "10448      0.068679  -6.400776  -6.799176  "
      ]
     },
     "execution_count": 122,
     "metadata": {},
     "output_type": "execute_result"
    }
   ],
   "source": [
    "# Gerando as colunas retornoCompra, retornoVenda, PnLCompra, PnLVenda\n",
    "# Multipliquei por 100 para que os resultados possam resultar em valores que não muito próximos de zero\n",
    "\n",
    "df = df_usd\n",
    "hp = 1\n",
    "df['retornoCompra'] = (df['cotacaoCompra']/df['cotacaoCompra'].shift(hp) - 1)*100 # Retorno Compra\n",
    "df['retornoVenda'] = (df['cotacaoVenda']/df['cotacaoVenda'].shift(hp) - 1)*100 # Retorno Venda\n",
    "df['PnLCompra'] = df['retornoCompra'] - df['retornoCompra'].shift(hp - 1)*100 # Realizado Compra\n",
    "df['PnLVenda'] = df['retornoVenda'] - df['retornoVenda'].shift(hp - 1)*100 # Realizado Venda\n",
    "\n",
    "df = df.drop(['paridadeCompra', 'paridadeVenda', 'tipoBoletim'],axis=1)\n",
    "df.sample(10).head()"
   ]
  },
  {
   "cell_type": "markdown",
   "metadata": {},
   "source": [
    "### Cálculo do VaR"
   ]
  },
  {
   "cell_type": "markdown",
   "metadata": {},
   "source": [
    "#### PNL Compra"
   ]
  },
  {
   "cell_type": "code",
   "execution_count": 123,
   "metadata": {},
   "outputs": [
    {
     "data": {
      "text/plain": [
       "18104     4.734577\n",
       "18105    -2.084211\n",
       "18106    32.961482\n",
       "18107    63.102118\n",
       "18108    72.497343\n",
       "           ...    \n",
       "18599    10.886015\n",
       "18600   -66.311547\n",
       "18601   -57.246645\n",
       "18602    -5.655266\n",
       "18603    49.045102\n",
       "Name: PnLCompra, Length: 500, dtype: float64"
      ]
     },
     "execution_count": 123,
     "metadata": {},
     "output_type": "execute_result"
    }
   ],
   "source": [
    "amostra_PnLC2 = df.PnLCompra.iloc[len(df)-500:len(df)]\n",
    "amostra_PnLC2"
   ]
  },
  {
   "cell_type": "code",
   "execution_count": 124,
   "metadata": {},
   "outputs": [
    {
     "name": "stdout",
     "output_type": "stream",
     "text": [
      "VaR 95% = R$ 88.75\n"
     ]
    }
   ],
   "source": [
    "alpha = 0.05\n",
    "var = amostra_PnLC2.quantile(alpha)\n",
    "print(\"VaR 95% = R$ \" + \"{:.2f}\".format(- var))"
   ]
  },
  {
   "cell_type": "markdown",
   "metadata": {},
   "source": [
    "#### PNL Venda"
   ]
  },
  {
   "cell_type": "code",
   "execution_count": 128,
   "metadata": {},
   "outputs": [
    {
     "data": {
      "text/plain": [
       "18104     4.734033\n",
       "18105    -2.083971\n",
       "18106    32.957698\n",
       "18107    63.094850\n",
       "18108    72.488940\n",
       "           ...    \n",
       "18599    10.884797\n",
       "18600   -66.304125\n",
       "18601   -57.240280\n",
       "18602    -5.654641\n",
       "18603    49.039683\n",
       "Name: PnLVenda, Length: 500, dtype: float64"
      ]
     },
     "execution_count": 128,
     "metadata": {},
     "output_type": "execute_result"
    }
   ],
   "source": [
    "amostra_PnLV2 = df.PnLVenda.iloc[len(df)-500:len(df)]\n",
    "amostra_PnLV2"
   ]
  },
  {
   "cell_type": "code",
   "execution_count": 129,
   "metadata": {},
   "outputs": [
    {
     "name": "stdout",
     "output_type": "stream",
     "text": [
      "VaR 95% = R$ 88.74\n"
     ]
    }
   ],
   "source": [
    "alpha = 0.05\n",
    "var = amostra_PnLV2.quantile(alpha)\n",
    "print(\"VaR 95% = R$ \" + \"{:.2f}\".format(- var))"
   ]
  },
  {
   "cell_type": "markdown",
   "metadata": {},
   "source": [
    "3. Calcule o ES histórico com nível de confiança de 97,5% e HP=1, para a última data disponível de USD Spot (30/04/2021), utilizando uma amostra de 1000 dias."
   ]
  },
  {
   "cell_type": "code",
   "execution_count": 116,
   "metadata": {},
   "outputs": [],
   "source": [
    "# Resposta aqui"
   ]
  },
  {
   "cell_type": "markdown",
   "metadata": {},
   "source": [
    "#### PNL Compra"
   ]
  },
  {
   "cell_type": "code",
   "execution_count": 130,
   "metadata": {},
   "outputs": [
    {
     "data": {
      "text/plain": [
       "17604     5.188582\n",
       "17605    -6.859936\n",
       "17606   -27.976569\n",
       "17607     9.791919\n",
       "17608    25.891056\n",
       "           ...    \n",
       "18599    10.886015\n",
       "18600   -66.311547\n",
       "18601   -57.246645\n",
       "18602    -5.655266\n",
       "18603    49.045102\n",
       "Name: PnLCompra, Length: 1000, dtype: float64"
      ]
     },
     "execution_count": 130,
     "metadata": {},
     "output_type": "execute_result"
    }
   ],
   "source": [
    "amostra_PnLC2 = df.PnLCompra.iloc[len(df)-1000:len(df)]\n",
    "amostra_PnLC2"
   ]
  },
  {
   "cell_type": "code",
   "execution_count": 131,
   "metadata": {},
   "outputs": [
    {
     "name": "stdout",
     "output_type": "stream",
     "text": [
      "VaR 97,5% = R$ 28.47\n"
     ]
    }
   ],
   "source": [
    "alpha = 0.25\n",
    "var = amostra_PnLC2.quantile(alpha)\n",
    "print(\"VaR 97,5% = R$ \" + \"{:.2f}\".format(- var))"
   ]
  },
  {
   "cell_type": "markdown",
   "metadata": {},
   "source": [
    "#### PNL Venda"
   ]
  },
  {
   "cell_type": "code",
   "execution_count": 132,
   "metadata": {},
   "outputs": [
    {
     "data": {
      "text/plain": [
       "17604     5.187999\n",
       "17605    -6.859165\n",
       "17606   -27.973428\n",
       "17607     9.790823\n",
       "17608    25.888154\n",
       "           ...    \n",
       "18599    10.884797\n",
       "18600   -66.304125\n",
       "18601   -57.240280\n",
       "18602    -5.654641\n",
       "18603    49.039683\n",
       "Name: PnLVenda, Length: 1000, dtype: float64"
      ]
     },
     "execution_count": 132,
     "metadata": {},
     "output_type": "execute_result"
    }
   ],
   "source": [
    "amostra_PnLV2 = df.PnLVenda.iloc[len(df)-1000:len(df)]\n",
    "amostra_PnLV2"
   ]
  },
  {
   "cell_type": "code",
   "execution_count": 133,
   "metadata": {},
   "outputs": [
    {
     "name": "stdout",
     "output_type": "stream",
     "text": [
      "VaR 97,5% = R$ 28.72\n"
     ]
    }
   ],
   "source": [
    "alpha = 0.25\n",
    "var = amostra_PnLV2.quantile(alpha)\n",
    "print(\"VaR 97,5% = R$ \" + \"{:.2f}\".format(- var))"
   ]
  },
  {
   "cell_type": "markdown",
   "metadata": {},
   "source": [
    "4. Calcule a série temporal de VaR 99% e 97,5%, com HP=1, utilizando uma amostra de 1000 dias para todas as datas possíveis.   \n",
    "Dica: Há 2844 dias com preços na base, removendo HP=1 para cálculo do primeiro retorno e 1000 para amostra do 1º VaR, teremos como resultado uma série de VaRs de tamanho 1843."
   ]
  },
  {
   "cell_type": "code",
   "execution_count": 9,
   "metadata": {},
   "outputs": [],
   "source": [
    "# Resposta aqui"
   ]
  },
  {
   "cell_type": "code",
   "execution_count": null,
   "metadata": {},
   "outputs": [],
   "source": [
    "# Gerando as colunas retornoCompra, retornoVenda, PnLCompra, PnLVenda\n",
    "# Multipliquei por 100 para que os resultados possam resultar em valores que não muito próximos de zero\n",
    "\n",
    "df = df_usd\n",
    "hp = 1\n",
    "df['retornoCompra'] = (df['cotacaoCompra']/df['cotacaoCompra'].shift(hp) - 1)*100 # Retorno Compra\n",
    "df['retornoVenda'] = (df['cotacaoVenda']/df['cotacaoVenda'].shift(hp) - 1)*100 # Retorno Venda\n",
    "df['PnLCompra'] = df['retornoCompra'] - df['retornoCompra'].shift(hp - 1)*100 # Realizado Compra\n",
    "df['PnLVenda'] = df['retornoVenda'] - df['retornoVenda'].shift(hp - 1)*100 # Realizado Venda\n",
    "\n",
    "df = df.drop(['paridadeCompra', 'paridadeVenda', 'tipoBoletim'],axis=1)\n",
    "df.sample(10).head()"
   ]
  },
  {
   "cell_type": "code",
   "execution_count": null,
   "metadata": {},
   "outputs": [],
   "source": []
  },
  {
   "cell_type": "code",
   "execution_count": null,
   "metadata": {},
   "outputs": [],
   "source": []
  },
  {
   "cell_type": "markdown",
   "metadata": {},
   "source": [
    "### Referências bibliográficas<a class=\"anchor\" id=\"6\"></a>\n",
    "\n",
    "Didáticos:   \n",
    "- [Pedro A. Moretin, Econometria financeira: um curso em séries temporais financeiras](https://books.google.com.br/books/about/Econometria_financeira.html?id=I3i5DwAAQBAJ&source=kp_book_description&redir_esc=y)\n",
    "- [Philippe Jorion, Value at Risk](https://merage.uci.edu/~jorion/VAR/)\n",
    "\n",
    "Normas de reguladores:\n",
    "- [BCB, 2017, Resolução 4.557](https://www.bcb.gov.br/pre/normativos/busca/downloadNormativo.asp?arquivo=/Lists/Normativos/Attachments/50344/Res_4557_v2_L.pdf)\n",
    "- [BCB, 2013, Circular 3.646](https://www.bcb.gov.br/htms/Normativ/CIRCULAR3646.pdf)\n",
    "- [BCB, 2018, Circular 3.876](https://www.bcb.gov.br/estabilidadefinanceira/exibenormativo?tipo=Circular&numero=3876)\n",
    "- [BIS, 2019, Minimum capital requirements for market risk (FRTB)](https://www.bis.org/bcbs/publ/d457.pdf)"
   ]
  },
  {
   "cell_type": "markdown",
   "metadata": {},
   "source": [
    "# Extra - Exposição a Fatores de Risco\n",
    "\n",
    "Após completar este capítulo, você será capaz de:\n",
    "\n",
    "- Compreender o que são fatores de risco\n",
    "- Compreender o que é exposição a risco\n",
    "- Calcular exposição a risco\n",
    "\n",
    "## Fator de risco\n",
    "\n",
    "Um fator de risco de um produto ou portfólio é uma fonte de risco e retorno. É uma variável de mercado que apresenta alguma incerteza sobre seus valores futuros.\n",
    "\n",
    "**Exemplo**\n",
    "\n",
    "Suponha que você possui um contrato a termo de dólar com notional de R\\\\$1.000,00 e vencimento em 3 meses. Para estimarmos o valor de mercado (MtM) deste contrato, precisamos projetar o valor futuro do dólar e descontá-lo a valor presente.\n",
    "\n",
    "$$ MtM = Notional \\cdot Spot_{USD} \\cdot \\frac{Fator_{CupomUSD}}{Fator_{Pré}} $$\n",
    "\n",
    "O seu contrato a termo não é uma variável de mercado, comum a todos os participantes, portanto, não poderia ser utilizado como fator de risco. Contudo, podemos identificar, através da equação de preço acima, seus fatores de risco.\n",
    "\n",
    "- Notional: é uma variável cadastral e fixa, definida em contrato. Portanto, não é uma fonte de risco;\n",
    "- $Spot_{USD}$: é o preço a vista da moeda USD; é uma variável de mercado e possui incerteza sobre seus valores futuros;\n",
    "- $Fator_{CupomUSD}$: é o fator que representa o diferencial entre as taxas básicas de juros entre o Brasil e os EUA. Também apresenta incerteza e pode ser calculada a partir do mercado;\n",
    "- $Fator_{Pré}$: é o fator de juros da taxa livre de risco brasileira e apresenta incerteza sobre seus valores futuros.\n",
    "\n",
    "Portanto, podemos identificar os seguintes fatores de risco para um contrato a termo de USD: \n",
    "\n",
    "$$ Spot_{USD}, Fator_{CupomUSD} e Fator_{Pré} $$"
   ]
  },
  {
   "cell_type": "markdown",
   "metadata": {},
   "source": [
    "## Exposição\n",
    "Exposição é a quantidade de valor financeiro que pode ser perdida devido aos riscos associados a um determinado fator de risco.\n",
    "\n",
    "**Exemplo**\n",
    "\n",
    "Suponha ainda que as variáveis pssuam os seguites valores hoje:\n",
    "\n",
    "- $Spot_{USD}$ = 5,10;\n",
    "- $Fator_{CupomUSD}$: 1,01;\n",
    "- $Fator_{Pré}$: 1,06.\n",
    "\n",
    "\n",
    "Logo, seu contrato a termo de USD vale: \n",
    "\n",
    "$$ MtM = 1000 \\cdot 5,10 \\cdot \\frac{1,01}{1,06} $$\n",
    "$$ MtM = R\\$4.859,43 $$\n",
    "\n",
    "Então, este é o valor que você está exposto em cada um dos fatores de risco identificados acima.\n",
    "\n",
    "Agora, imagine que o valor do dólar a vista caia 20\\% para R\\$4,08, enquanto os fatores de juros seguem os mesmos. Qual seria o impacto no contrato?\n",
    "\n",
    "$$ MtM_{simulado} = 1000 \\cdot 4,08 \\cdot \\frac{1,01}{1,06} $$\n",
    "$$ MtM_{simulado} = R\\$3.887,55 $$\n",
    "\n",
    "O valor do contrato a termo cairia 4.859,43 - 3.887,55 = 971,88.\n",
    "Veja que este valor equivale a uma variação relativa de: 971,88/4.859,43 = 20\\%. Ou seja, a mesma variação observada no valor do dólar a vista.\n",
    "\n",
    "Desta forma, podemos estimar perdas potenciais num contrato (ou num portfólio) a partir das variações dos fatores de risco. Neste caso, ao invés de recalcular o preço simulado da carteira, poderíamos aplicar a variação projetada do dólar de 20\\% diretamente sobre a exposição em carteira:\n",
    "\n",
    "$$ Perda Potencial = 20\\% \\cdot 4.859,43 = R\\$ 971,88 $$\n",
    "\n",
    "Esta relação ocorre neste tipo de contrato, pois o preço deste derivativo é **linear** em função do spot. Esta relação não ocorre para opções e outros derivativos exóticos que não apresentem relação linear (são chamados de derivativos não lineares). Para estimar perdas potenciais de portfólios com opções, as exposições a fatores de risco são mensuradas pelas **gregas**."
   ]
  },
  {
   "cell_type": "markdown",
   "metadata": {},
   "source": [
    "## Gregas\n",
    "\n",
    "Vimos anteriormente que o preço de uma opção depende de uma série de parâmetros. Uma pergunta muito comum (principalmente para gestores de risco) é: o que acontece com o valor da minha opção (ou da minha carteira de opções) quando há variações nesses parâmetros? Ou ainda: qual é risco a que um portfólio está submetido em razão das variações de mercado?\n",
    "\n",
    "Uma parte da resposta a essa pergunta está relacionada com uma série de quantidades, quase sempre representadas por letras gregas, que medem a sensibilidade da opção com relação a seus parâmetros mais comuns. Essas quantidades são chamadas de **gregas** da opção.\n",
    "\n",
    "As gregas são obtidas pelo cálculo das derivadas parciais do preço da opção com relação a um (ou mais) de seus parâmetros. No modelo B&S, que possui fórmula fechada e diferenciável, há solução analítica para o cálculo das gregas. Em outros casos, muitas vezes é preciso recorrer a técnicas de derivação numérica para encontar seus valores. \n",
    "\n",
    "![Tabela gregas](Imagens/06_08_Tabela_gregas.png)\n",
    "\n",
    "Tabela de equações das gregas no modelo de Black-Scholes (Fonte: Hull, 2016).\n",
    "![Tabela gregas](Imagens/06_09_Tabela_gregas_BS.png)\n",
    "\n",
    "Vejamos na figura abaixo a representação gráfica do conceito do Delta. Ele representa o coeficiente angular do preço da opção em função do preço spot do ativo objeto. Em outras palavras, quanto a variação do spot vai afetar o preço da opção. Na figura, o Delta possui um valor de 0,6, significa que uma variação no spot impacta em 60% o preço da opção.\n",
    "\n",
    "![Delta slope](Imagens/08_01_Delta_Slope.png)\n",
    "\n",
    "**Exemplo**\n",
    "\n",
    "Suponha que um investidor vendeu 2.000 opções de compra (*calls*) de uma ação que vale R\\\\$10,00 e gostaria de neutralizar sua exposição à ação. Suponha ainda que o preço de cada opção é R\\\\$1,00 e o Delta dessas opções hoje vale 0,5. \n",
    "\n",
    "Neste caso, para neutralizar o risco, bastaria ele comprar: $2.000 \\cdot 0,5 = 1.000$ ações. Veja que não precisamos utilizar o preço da opção, nem o preço da ação para identificar a quantidade de ações a ser comprada. Utilizamos apenas o Delta e a quantidade de opções.\n",
    "\n",
    "Desta forma, se a ação desvalorizar R\\\\$0,50, ele terá uma desvalorização total nas ações de R\\\\$500,00, mas por outro lado, terá um ganho nas calls, que terão desvalorizado R\\\\$0,25. Como o investidor vendeu 2.000 ações, essa desvalorização gerará um lucro de R\\$500,00. Portanto, o resultado teve um *hedge* com sucesso e o resultado foi neutralizado. Esta técnica é conhecida com ***delta hedging***.\n",
    "\n",
    "Esta estratégia, apesar de muito utilizada no mercado, não é perfeita, pois não considera outros fatores de risco como a volatilidade, o prazo, entre outros. Além disso, o Delta também varia ao longo do tempo, de forma que o portfólio de hedge deve ser rebalanceado e isto pode gerar custos transacionais que superem o resultado ganho."
   ]
  }
 ],
 "metadata": {
  "kernelspec": {
   "display_name": "Python 3",
   "language": "python",
   "name": "python3"
  },
  "language_info": {
   "codemirror_mode": {
    "name": "ipython",
    "version": 3
   },
   "file_extension": ".py",
   "mimetype": "text/x-python",
   "name": "python",
   "nbconvert_exporter": "python",
   "pygments_lexer": "ipython3",
   "version": "3.9.5"
  },
  "latex_envs": {
   "LaTeX_envs_menu_present": true,
   "autoclose": false,
   "autocomplete": true,
   "bibliofile": "biblio.bib",
   "cite_by": "apalike",
   "current_citInitial": 1,
   "eqLabelWithNumbers": true,
   "eqNumInitial": 1,
   "hotkeys": {
    "equation": "Ctrl-E",
    "itemize": "Ctrl-I"
   },
   "labels_anchors": false,
   "latex_user_defs": false,
   "report_style_numbering": false,
   "user_envs_cfg": false
  },
  "toc": {
   "base_numbering": 1,
   "nav_menu": {},
   "number_sections": true,
   "sideBar": true,
   "skip_h1_title": false,
   "title_cell": "Table of Contents",
   "title_sidebar": "Contents",
   "toc_cell": false,
   "toc_position": {},
   "toc_section_display": true,
   "toc_window_display": false
  },
  "varInspector": {
   "cols": {
    "lenName": 16,
    "lenType": 16,
    "lenVar": 40
   },
   "kernels_config": {
    "python": {
     "delete_cmd_postfix": "",
     "delete_cmd_prefix": "del ",
     "library": "var_list.py",
     "varRefreshCmd": "print(var_dic_list())"
    },
    "r": {
     "delete_cmd_postfix": ") ",
     "delete_cmd_prefix": "rm(",
     "library": "var_list.r",
     "varRefreshCmd": "cat(var_dic_list()) "
    }
   },
   "types_to_exclude": [
    "module",
    "function",
    "builtin_function_or_method",
    "instance",
    "_Feature"
   ],
   "window_display": false
  }
 },
 "nbformat": 4,
 "nbformat_minor": 4
}
