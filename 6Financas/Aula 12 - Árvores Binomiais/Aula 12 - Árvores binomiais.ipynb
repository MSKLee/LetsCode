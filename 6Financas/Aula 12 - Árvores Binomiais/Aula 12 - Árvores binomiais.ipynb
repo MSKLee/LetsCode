{
 "cells": [
  {
   "cell_type": "markdown",
   "metadata": {
    "id": "mm_yyeSk47bE"
   },
   "source": [
    "# Árvores Binomiais\n",
    "\n",
    "Após completar este capítulo, você será capaz de:\n",
    "\n",
    "- Calcular o valor de opções call e put, europeias e americanas usando o modelo de árvore binomial;\n",
    "- Compreender o conceito de mundo neutro ao risco;\n",
    "- Descrever como a volatilidade é capturada no modelo de árvore binomial;\n",
    "- Definir e calcular o delta de opções sobre ações;\n",
    "- Explicar como o modelo de árvore pode ser alterado para precificar opções sobre ações com dividendos, moedas, índices e futuros."
   ]
  },
  {
   "cell_type": "code",
   "execution_count": 1,
   "metadata": {
    "executionInfo": {
     "elapsed": 853,
     "status": "ok",
     "timestamp": 1643166295257,
     "user": {
      "displayName": "Gustavo Previatto",
      "photoUrl": "https://lh3.googleusercontent.com/a-/AOh14GjObmSR4ca42p9ql2BFwTDO-JKvFQe5-jaQaAMvsA=s64",
      "userId": "00510215832706198465"
     },
     "user_tz": 180
    },
    "id": "EVlnyI2v47bI"
   },
   "outputs": [],
   "source": [
    "import numpy as np\n",
    "import matplotlib.pyplot as plt\n",
    "from scipy.sparse import csc_matrix # Opcional"
   ]
  },
  {
   "cell_type": "markdown",
   "metadata": {
    "id": "e1YxX7-447bK"
   },
   "source": [
    "## Introdução\n",
    "\n",
    "Nesta capítulo, será apresentado um modelo de apreçamento chamado **árvore binomial**. Esta técnica foi proposta por Cox, Ross e Rubinstein (1979) e é amplamente usado para precificar opções do tipo americano e outros derivativos.\n",
    "\n",
    "Derivativos são valorizados usando o que chamamos de **argumento de não arbitragem**. Isto significa que os preços são calculados sob a hipótese de que não há oportunidades de arbitragem para os participantes do mercado. Árvores binomiais são uma forma conveniente de ilustrar como o argumento de não arbitragem é aplicado a derivativos.\n",
    "\n",
    "Também utilizaremos as árvores binomiais para introduzir o que é conhecido como **medida neutra ao risco** (*risk-neutral valuation*). Este é um resultado que permite que derivativos sejam avaliados assumindo que os participantes do mercado exijam um retorno esperado igual à taxa livre de risco em todos os investimentos (ou seja, não fazem nenhum ajuste para risco ao calcular os retornos esperados).\n"
   ]
  },
  {
   "cell_type": "markdown",
   "metadata": {
    "id": "5iIE3C6247bL"
   },
   "source": [
    "## Árvores de um passo\n",
    "\n",
    "Suponha que uma ação vale R\\\\$ 50,00 e pode apresentar um retorno de +20\\% ou -20\\% pelos próximos 3 meses. Em outras palavras, o preço da ação será R\\\\$ 60,00 ou R\\\\$ 40,00 no final dos 3 meses. Assuma que a ação não pagará dividendos no período.\n",
    "\n",
    "Considere uma call sobre esta ação de 3 meses com o strike de R\\\\$ 52,00. Se o preço da ação for R\\\\$ 60,00, o payoff da opção será R\\\\$ 8,00. Se o preço for R\\\\$ 40,00, o payoff será R\\\\$ 0,00. A situação é ilustrada na figura a seguir.\n",
    "\n",
    "![Árvore de 1 passo](Imagens\\12_01_Árvore_1_Passo.png)\n",
    "**Figura 1**: Movimentos do preço da ação e do payoff da call com strike de R\\\\$ 52,00.\n",
    "\n",
    "\n",
    "*Quanto vale esta opção no instante atual?*\n",
    "\n",
    "O preço da opção pode ser calculado apenas com a taxa livre de risco de 3 meses, sem nenhuma informação adicional, nem mesmo as probabilidades de ocorrência de cada um dos cenários.\n",
    "\n",
    "Considere um portfólio com uma posição comprada de $\\Delta$ ações e uma posição vendida de uma opção call. O valor do portfólio passados os 3 meses será um dentre:\n",
    "\n",
    "- Se a ação subir para 60, a opção vale 8 e o valor do portfólio será:\n",
    "\n",
    "$$ 60 \\Delta - 8 $$\n",
    "\n",
    "Note que a opção custa 8 para o portfólio pois a posição vendida exige que uma ação que vale 60 seja vendida por 52.\n",
    "\n",
    "- Se a ação cair para 40, a opção não vale nada e o portfólio vale\n",
    "\n",
    "$$ 40 \\Delta $$\n",
    "\n",
    "Se:\n",
    "\n",
    "$$ 60 \\Delta - 8 = 40 \\Delta $$\n",
    "\n",
    "então o portfólio tem o mesmo valor em 3 meses para qualquer cenário. Resolvendo esta equação, temos que:\n",
    "\n",
    "$$ \\Delta = 0.4 $$\n",
    "\n",
    "E o valor final do portfólio é R\\\\$ 16,00:\n",
    "\n",
    "$$ 16 =  60 \\cdot 0.4 - 8 = 40 \\cdot 0.4 $$\n",
    "\n",
    "Agora suponha também que a taxa livre de risco para 3 meses é 3% (composta continuamente). Se o portfólio vale (com certeza) R\\\\$ 16,00 em 3 meses, então ele vale hoje R\\\\$ 15.88 hoje:\n",
    "\n",
    "$$ 16 e^{-0.03 \\cdot 0.25} = 15.88 $$\n",
    "\n",
    "Caso contrário, haveria oportunidade de arbitragem.\n",
    "\n",
    "Seja *f* o preço da opção call. O valor da posição comprada em 0.4 ações é 20 (0.4 x 50). O valor do portfólio hoje é, portanto, $20 - f$. Por não arbitragem, precisamos que:\n",
    "\n",
    "$$ 20 - f = 15.88 $$\n",
    "\n",
    "ou $ f = 4.12$. Portanto, uma opção call para comprar uma ação deve valer hoje 4.12, pois qualquer outro preço geraria a presença de arbitragem."
   ]
  },
  {
   "cell_type": "code",
   "execution_count": null,
   "metadata": {
    "id": "L5_XHTwt47bM",
    "outputId": "a9ab3e26-b0ea-4c3c-a927-983fe77150a5"
   },
   "outputs": [
    {
     "name": "stdout",
     "output_type": "stream",
     "text": [
      "Su: 60.0, Sd: 40.0\n"
     ]
    }
   ],
   "source": [
    "# Definindo parâmetros e valores iniciais\n",
    "S0 = 50 # Preço spot em t_0\n",
    "T = 0.25 # Prazo = 3 meses\n",
    "K = 52 # Strike \n",
    "r = 0.03 # Taxa livre de risco contínua\n",
    "\n",
    "u = 1.20 # Movimento up # + 20%\n",
    "d = 0.80 # Movimento down # - 20%\n",
    "\n",
    "\n"
   ]
  },
  {
   "cell_type": "code",
   "execution_count": null,
   "metadata": {
    "id": "-BlCj2gY47bN"
   },
   "outputs": [],
   "source": [
    "# Árvore de 1 passo\n",
    "# Dinâmica do ativo objeto (S)\n",
    "Su = S0*u\n",
    "Sd = S0*d\n",
    "\n",
    "print(f'Su: {Su}, Sd: {Sd}')"
   ]
  },
  {
   "cell_type": "code",
   "execution_count": null,
   "metadata": {
    "id": "EyZtqcmo47bO",
    "outputId": "27f007a4-39bb-4764-9778-ca93e0941d3d"
   },
   "outputs": [
    {
     "name": "stdout",
     "output_type": "stream",
     "text": [
      "Cu: 8.0, Cd: 0\n"
     ]
    }
   ],
   "source": [
    "# Dinâmica da opção call\n",
    "#payoff = max(S_T - K, 0)\n",
    "Cu = max(Su - K, 0)\n",
    "Cd = max(Sd - K, 0)\n",
    "\n",
    "print(f'Cu: {Cu}, Cd: {Cd}')"
   ]
  },
  {
   "cell_type": "code",
   "execution_count": null,
   "metadata": {
    "id": "26nUKQH847bP",
    "outputId": "f0a24ff8-1725-489c-dcd2-95db9b1f2735"
   },
   "outputs": [
    {
     "name": "stdout",
     "output_type": "stream",
     "text": [
      "0.4\n"
     ]
    }
   ],
   "source": [
    "# Delta\n",
    "delta = (Cu - Cd)/(Su - Sd)\n",
    "\n",
    "print(delta)"
   ]
  },
  {
   "cell_type": "markdown",
   "metadata": {
    "id": "8lfJ1F_847bQ"
   },
   "source": [
    "## Generalização\n",
    "\n",
    "Suponha que o preço de uma ação que não paga dividendos no instante atual seja $S$ e que durante um tempo $T$ ele pode subir para $Su$ (retorno de $u - 1$) ou cair para $Sd$ (retorno de $d - 1$). \n",
    "Considere u, derivativo (que não precisa ser uma opção) que possui um payoff $f_u$ se o preço subir e um payoff de $f_d$ se o preço cair.\n",
    "\n",
    "\n",
    "![Árvore de 1 passo](Imagens\\12_02_Árvore_1_Passo_Gen.png)\n",
    "**Figura 2**: Modelo de um passo generalizado. $S$ e $f$ são o preço da ação e do derivativo iniciais, $f_u$ e $f_d$ são os payoffs do derivativo quando há um movimento para cima ou para baixo no preço da ação, respectivamente.\n",
    "\n",
    "\n",
    "Então, construímos o seguinte portfólio:\n",
    "\n",
    "- Uma posição vendida de uma unidade do derivativo, e\n",
    "- Uma posição de $\\Delta$ ações.\n",
    "\n",
    "Onde:\n",
    "\n",
    "$$ \\Delta = \\frac{f_u - f_d}{Su - Sd} $$\n",
    "\n",
    "O valor do portfólio no instante $T$ será:\n",
    "\n",
    "- $Su \\Delta - f_u $ se o preço da ação subir, e\n",
    "- $Sd \\Delta - f_d $ se o preço da ação cair.\n",
    "\n",
    "Pode ser provado que esses dois são iguais para o valor de $\\Delta$ apresentado acima. para este $\\Delta$, o valor do portfólio no instante $T$ (em qualquer dos casos) é:\n",
    "\n",
    "$$ Su \\frac{f_u - f_d}{Su - Sd} - f_u = \\frac{f_u d - f_d u}{u - d} = Sd \\frac{f_u - f_d}{Su - Sd} - f_d $$\n",
    "\n",
    "O valor do portfólio hoje é $S\\Delta - f$, onde $f$ é o valor do derivativo hoje. \n",
    "\n",
    "Suponha que $r$ é a taxa livre de risco para o vencimento $T$. Por não arbitragem, temos:\n",
    "\n",
    "$$S \\Delta - f = \\frac{f_u d - f_d u}{u - d} e^{-rT} $$\n",
    "\n",
    "Substituindo $\\Delta$, temos:\n",
    "\n",
    "$$ f_u - f_d - f(u - d) = (f_u d - f_d u)e^{-rT} $$\n",
    "\n",
    "Ou:\n",
    "\n",
    "$$ f = f_u \\frac{1 - de^{-rT}}{u - d} + f_d \\frac{ue^{-rT} - 1}{u - d}$$\n",
    "\n",
    "Que pode ser escrito como:\n",
    "\n",
    "$$ f = e^{-rT} [p f_u + (1 - p) f_d] $$\n",
    "\n",
    "Onde:\n",
    "\n",
    "$$ p = \\frac{e^{rT} - d}{u - d} $$"
   ]
  },
  {
   "cell_type": "markdown",
   "metadata": {
    "id": "uDKut0OM47bR"
   },
   "source": [
    "**Exemplo**\n",
    "\n",
    "Suponha que a opção abordada no início (da figura 1) fosse uma put de strike 52, ao invés de uma call. Podemos calcular $p$ pela última equação:\n",
    "\n",
    "$$ p = \\frac{e^{0.03 \\cdot 0.25} - 0.8}{1.2 - 0.8} = 0.5188 $$\n",
    "\n",
    "Neste caso, $f_u = 0$ e $f_d = 12$ e podemos obter o valor de $f$ (preço da put hoje) pela penúltima equação:\n",
    "\n",
    "$$ f = e^{0.03 \\cdot 0.25} [0.5188 \\cdot 0 + (1 - 0.5188) \\cdot 12] = 5.731 $$ \n",
    "\n",
    "Nós introduzimos a paridade put-call na aula 6 de opções. Ela afirma que quando uma put e uma call europeias sobre uma ação que não paga dividendos possuem mesmo strike e vencimento:\n",
    "\n",
    "$$ Call + Strike \\cdot e^{-rT} = Put + Spot_{Acao} $$\n",
    "\n",
    "A paridade put-call também vale neste nosso exemplo. O valor da call calculado anteriormente é 4.12, o valor presente do strike é 51.611 ($=52 \\cdot e^{0.03 \\cdot 0.25}$ ), o preço da put que acabamos de calcular é 5.731 e o preço da ação hoje é 50. Portanto, temos:\n",
    "\n",
    "$$ 4.12 + 51.611 = 5.731 + 50 $$\n",
    "\n",
    "Vale ressaltar que a análise realizada não requer que saibamos as probabilidades de um movimento de alta ou queda nos preços. Isto porque nós avaliamos um derivativo em termos do preço da ação, e portanto o retorno do derivativo depende do retorno da ação. "
   ]
  },
  {
   "cell_type": "code",
   "execution_count": null,
   "metadata": {
    "id": "m0L86tfmVgtp",
    "outputId": "5bfbe837-587f-4b6c-ecfe-edfb0712742e"
   },
   "outputs": [
    {
     "name": "stdout",
     "output_type": "stream",
     "text": [
      "P: 0.5188204886113347\n",
      "Pu: 0, Pd: 12.0\n",
      "Call: 4.12, Put: 5.73, Put paridade: 5.73\n"
     ]
    }
   ],
   "source": [
    "K = 52\n",
    "r = 0.03\n",
    "t = 0.25\n",
    "u = 1.20\n",
    "d = 0.80\n",
    "\n",
    "p = (np.exp(r*t) - d)/ (u - d)\n",
    "print(f'P: {p}')\n",
    "\n",
    "Su = S0*u # Fator up\n",
    "Sd = S0*d # Fator down\n",
    "\n",
    "call = np.exp(-r*t) * (p*Cu + (1-p)*Cd)\n",
    "\n",
    "Pu = max(K - Su, 0) # payoff da put\n",
    "Pd = max(K - Sd, 0)\n",
    "\n",
    "print(f'Pu: {Pu}, Pd: {Pd}')\n",
    "put = np.exp(-r*t) * (p*Pu + (1-p)*Pd)\n",
    "\n",
    "put_paridade = K*np.exp(-r*t) + call - S0 # K*e^{-rt} + call - Spot\n",
    "\n",
    "print(f'Call: {round(call, 2)}, Put: {round(put, 2)}, Put paridade: {round(put_paridade, 2)}')"
   ]
  },
  {
   "cell_type": "markdown",
   "metadata": {
    "id": "kwGOx-On47bR"
   },
   "source": [
    "## Avaliação neutra ao risco\n",
    "\n",
    "Definimos um mundo neutro ao risco como um onde investidores não ajustam seus retornos esperados pelo risco, de tal forma que o retorno esperado em todos os ativos seja a taxa livre de risco. Colocando em outras palavras, num mundo neutro ao risco, todos os ativos negociáveis tem um retorno esperado igual à taxa livre de risco.\n",
    "\n",
    "As probabilidades de diferentes resultados num mundo neutro ao risco são portanto baseados nesta premissa, e um investidor não tem preferência entre ativos com diferentes níveis de risco.\n",
    "\n",
    "O princípio da avaliação neutra ao risco afirma que se assumirmos que estamos num mundo neutro ao risco, nós obtemos o valor justo de um derivativo. No fim das contas, o preço obtido é correto no mundo real (onde investidores se importam com o risco), assim como no mundo neutro ao risco.\n",
    "\n",
    "Primeiro, note que se escolhermos interpretar a variável $p$ como a probabilidade de um movimento de subida (e $1 - p$ de queda), então:\n",
    "\n",
    "$$ p f_u + (1 - p) f_d $$\n",
    "\n",
    "é o payoff esperado do derivativo no instante $T$. Ademais, o valor do derivativo hoje ($f$) é o valor presente do payoff esperado no instante $T$ descontado pela taxa livre de risco.\n",
    "\n",
    "Em segundo lugar, note que se continuarmos a interpretar $p$ como esta probabilidade, o preço esperado da ação em $T$ é:\n",
    "\n",
    "$$ Sdp + Sd(1-p) $$\n",
    "\n",
    "Substituindo $p$, temos:\n",
    "\n",
    "$$ Su \\frac{e^{-rT} - d}{u - d} + Sd \\frac{u - e^{-rT}}{u - d} = S e^{rT} $$\n",
    "\n",
    "Isto mostra que o preço da ação cresce à taxa livre de risco. E também mostra que $p$ é a probabilidade de um movimento de alta um mundo neutro ao risco.\n",
    "\n",
    "Em suma, se assumirmos um mundo neutro ao risco, a probabilidade de um movimento de alta é $p$, e o valor do derivativo é o payoff esperado descontado pela taxa livre de risco.\n",
    "\n",
    "Devemos enfatizar que a avaliação neutra ao risco nada mais é do que uma forma artificial de avaliar derivativos. Não estamos assumindo que o mundo é de fato neutro ao risco. Ao invés disso, estamos apenas argumentando que o preço de um derivativo é o mesmo no mundo real e num mundo hipotético neutro ao risco.\n",
    "\n",
    "Suponha que a probabilidade de um movimento para cima no mundo real seja 0.6. Isso significa que o retorno esperado da ação após 3 meses será 4% ($= 0.6 \\cdot 20\\% - 0.4 \\cdot 20\\%$). O retorno esperado da call no mundo real seria:\n",
    "\n",
    "$$ \\frac{0.6 \\cdot 8 + 0.4 \\cdot 0}{4.12} - 1 = 16.5\\% $$\n",
    "\n",
    "Isso mostra que o retorno esperado da call é muito maior que o da ação no mundo real que supomos. A ação provê um retorno que reflete o risco sistemático. A call possui uma alavancagem por definição e portanto acentua o risco.\n",
    "\n",
    "Agora, suponha que a opção é uma put com o mesmo strike. Como vimos na seção anterior, seu preço é 5.731. O retorno esperado para esta put por 3 meses é:\n",
    "\n",
    "$$ \\frac{0.6 \\cdot 0 + 0.4 \\cdot 12}{5.731} - 1 = -16.2\\% $$\n",
    "\n",
    "Este resultado pode parecer uma surpresa. Por que um produto com tanto risco como uma put apresenta um retorno esperado negativo?\n",
    "\n",
    "O preço da ação apresenta um retorno esperado acima da taxa livre de risco, pois possui risco sistemático positivo (quando o mercado vai bem, a ação vai bem). O retorno da put é negativamente relacionado ao retorno da ação, e portatno possui risco sistemático negativo. Por apresentar alavancagem por definição, a put também rende muito menos que a livre de risco."
   ]
  },
  {
   "cell_type": "markdown",
   "metadata": {
    "id": "t2cAZ8BE47bS"
   },
   "source": [
    "## Árvores multi-passos\n",
    "\n",
    "Obviamente, não é nada realista modelar variações no preço de uma ação usando uma árvore de um único passo. Para isso, o prazo de uma opção é dividido em vários passos que podem ser tratados da mesma forma que os passos apresentados na primeira seção.\n",
    "\n",
    "Como prática comum, definiremos o tamanho de um passo da árvore como $\\Delta t$. E substituiremos $T$ por $\\Delta t$ nas equações:\n",
    "\n",
    "$$ f = e^{-r\\Delta t} [p f_u + (1 - p) f_d] $$\n",
    "\n",
    "Onde:\n",
    "\n",
    "$$ p = \\frac{e^{r\\Delta t} - d}{u - d} $$\n",
    "\n",
    "Antes de vermos como essas equações são usadas numa árvore multi-passos, vamos abordar $u$ e $d$.\n",
    "\n",
    "Os parâmetros $u$ e $d$ são escolhidos de tal forma a representar a volatilidade do preço da ação. Se denotarmos a volatilidade anual por $\\sigma$, então valores apropriados para os parâmetros são:\n",
    "\n",
    "$$ u = e^{\\sigma \\sqrt{\\Delta t}} $$\n",
    "\n",
    "$$ d = e^{-\\sigma \\sqrt{\\Delta t}} $$\n",
    "\n",
    "Onde $\\Delta t$ é medido em anos. "
   ]
  },
  {
   "cell_type": "code",
   "execution_count": null,
   "metadata": {
    "id": "rSAfvFA1Vgts"
   },
   "outputs": [],
   "source": [
    "d = 1/u"
   ]
  },
  {
   "cell_type": "markdown",
   "metadata": {
    "id": "x5VSRl5W47bS"
   },
   "source": [
    "### Árvore com 2 passos\n",
    "\n",
    "Considere uma situação onde o preço de uma ação que não paga dividendos é 29 com volatilidade de 25%. Consideraremos uma opção call europeia com strike de 30 e prazo de 1 ano. E assumiremos uma taxa livre de risco de 3%.\n",
    "\n",
    "Neste caso, $\\Delta t = 0.5$ e:\n",
    "\n",
    "$$ u = e^{0.25 \\sqrt{0.5}} = 1.1934 $$\n",
    "\n",
    "$$ d = e^{-0.25 \\sqrt{0.5}} = 0.8380 $$\n",
    "\n",
    "Para refletir a volatilidade de 25%, um movimento para cima provê um retorno de 19.34% e um movimento para baixo provê um retorno de -16.20%.\n",
    "\n",
    "Também podemos calcular $p$:\n",
    "\n",
    "$$ p = \\frac{e^{0.03 \\cdot 0.5} - 0.8380}{1.1934 - 0.8380} = 0.4984 $$\n",
    "\n",
    "Isso significa que num mundo neutro ao risco, a probabilidade de um movimento de subida é de 49.84% e de descida é, portanto, 50.16%.\n",
    "\n",
    "![Árvore de 2 passos](Imagens\\12_03_Árvore_2_Passos.png)\n",
    "**Figura 3**: Árvore de 2 passos para uma call de strike igual a 30. O número de cima é o preço da ação e o de baixo o preço da call em cada um dos nós.\n",
    "\n",
    "Primeiro, calculamos os preços da ação em cada um dos nós, multiplicando seu valor anterior por $u$ ou $d$.\n",
    "\n",
    "Note que a árvore é recombinante: \n",
    "\n",
    "$$ Sud = Sdu = S_{ud} $$\n",
    "\n",
    "$$ 29 \\cdot 1.1934 \\cdot 0.8380 = 29 \\cdot 0.8380 \\cdot 1.1934 = S_{ud} $$\n",
    "\n",
    "Considere a seguir o valor da opção no nó $f_u$:\n",
    "\n",
    "$$ f_u = e^{-0.03 \\cdot 0.5} (0.4984 \\cdot 11.299 + 0.5016 \\cdot 0) = 5.548 $$\n",
    "\n",
    "O valor da opção em $f_d$ é zero, pois ela vale zero nos dois nós que podem ser alcançados a partir dele. O valor no primeiro nó $f$ é:\n",
    "\n",
    "$$ f = e^{-0.03 \\cdot 0.5} (0.4984 \\cdot 5.548 + 0.5016 \\cdot 0) = 2.724 $$\n",
    "\n",
    "Então, podemos deduzir que a árvore de dois passos nos dá o valor da opção hoje de 2.724."
   ]
  },
  {
   "cell_type": "code",
   "execution_count": 4,
   "metadata": {
    "colab": {
     "base_uri": "https://localhost:8080/"
    },
    "executionInfo": {
     "elapsed": 259,
     "status": "ok",
     "timestamp": 1643166368727,
     "user": {
      "displayName": "Gustavo Previatto",
      "photoUrl": "https://lh3.googleusercontent.com/a-/AOh14GjObmSR4ca42p9ql2BFwTDO-JKvFQe5-jaQaAMvsA=s64",
      "userId": "00510215832706198465"
     },
     "user_tz": 180
    },
    "id": "i7jXJMt147bT",
    "outputId": "8551342e-c744-4531-9238-f52849ecfafe"
   },
   "outputs": [
    {
     "name": "stdout",
     "output_type": "stream",
     "text": [
      "u: 1.1933645794479497, d: 0.8379668855787558, p: 0.4984449311090994\n"
     ]
    }
   ],
   "source": [
    "## Árvore de 2 passos\n",
    "S0 = 29\n",
    "sigma = 0.25\n",
    "r = 0.03\n",
    "T = 1\n",
    "N = 3\n",
    "K = 30\n",
    "\n",
    "dt = T/(N-1)\n",
    "u = np.exp(sigma*np.sqrt(dt))\n",
    "d = np.exp(-sigma*np.sqrt(dt))\n",
    "p = (np.exp(r*dt) - d)/(u - d)\n",
    "\n",
    "print(f'u: {u}, d: {d}, p: {p}')"
   ]
  },
  {
   "cell_type": "code",
   "execution_count": null,
   "metadata": {
    "id": "KQV_DPHiVgtt",
    "outputId": "2f1599c2-9f9b-42e9-b550-60fda30fa2a9"
   },
   "outputs": [
    {
     "data": {
      "text/plain": [
       "<matplotlib.image.AxesImage at 0x1be09b187c0>"
      ]
     },
     "execution_count": 21,
     "metadata": {},
     "output_type": "execute_result"
    },
    {
     "data": {
      "image/png": "[encoded data removed]",
      "text/plain": [
       "<Figure size 432x288 with 1 Axes>"
      ]
     },
     "metadata": {
      "needs_background": "light"
     },
     "output_type": "display_data"
    }
   ],
   "source": [
    "stock_prices = np.zeros((N,N))\n",
    "\n",
    "# Preencher a matriz da ação\n",
    "stock_prices[0,0] = S0\n",
    "\n",
    "for i in range(1, N):\n",
    "    M = i + 1\n",
    "    stock_prices[i, 0] = d*stock_prices[i-1, 0]\n",
    "    for j in range(1, M):\n",
    "        stock_prices[i, j] = u*stock_prices[i-1, j-1]\n",
    "        \n",
    "plt.spy(stock_prices)"
   ]
  },
  {
   "cell_type": "code",
   "execution_count": null,
   "metadata": {
    "id": "YyXQJDqL47bU",
    "outputId": "d1da34b2-85d9-4283-9932-1c4052fe43ba"
   },
   "outputs": [
    {
     "name": "stdout",
     "output_type": "stream",
     "text": [
      "[[50.          0.          0.        ]\n",
      " [41.89834428 59.66822897  0.        ]\n",
      " [35.10942507 50.         71.20595097]]\n"
     ]
    }
   ],
   "source": [
    "# Visualização\n",
    "print(stock_prices)"
   ]
  },
  {
   "cell_type": "markdown",
   "metadata": {
    "id": "u7C3JQOP47bT"
   },
   "source": [
    "Formato da matriz construída:\n",
    "\n",
    "| |0     | 1     | 2       | 3     | 4\n",
    "|-|------|---    |---      |----   |---\n",
    "|0| $S$  |       |         |       |  \n",
    "|1|$Sd$  |$Su$   |         |       |\n",
    "|2|$Sd^2$|$Sdu$  |$Su^2$   |       |\n",
    "|3|$Sd^3$|$Sd^2u$|$Sdu^2$  |$Su^3$ |\n",
    "|4|$Sd^4$|$Sd^3u$|$Sd^2u^2$|$Sdu^3$|$Su^4$"
   ]
  },
  {
   "cell_type": "code",
   "execution_count": null,
   "metadata": {
    "id": "flP4381dVgtu",
    "outputId": "5917f866-e6a2-4027-d9e3-f9273471aa69"
   },
   "outputs": [
    {
     "name": "stdout",
     "output_type": "stream",
     "text": [
      "u: 1.2214027581601699, d: 0.8187307530779818, p: 0.4563822967785014\n"
     ]
    }
   ],
   "source": [
    "## Árvore de 4 passos - Outro exemplo (outros valores)\n",
    "sigma = 0.4\n",
    "r = 0.01\n",
    "T = 1\n",
    "N = 5 # 4 passos\n",
    "K = 102.5\n",
    "S0 = 100\n",
    "\n",
    "dt = T/(N-1)\n",
    "u = np.exp(sigma*np.sqrt(dt))\n",
    "d = np.exp(-sigma*np.sqrt(dt))\n",
    "p = (np.exp(r*dt) - d)/(u - d)\n",
    "\n",
    "print(f'u: {u}, d: {d}, p: {p}')"
   ]
  },
  {
   "cell_type": "code",
   "execution_count": null,
   "metadata": {
    "id": "PP9XTNCQVgtv",
    "outputId": "c77ffdd6-706f-4ab2-cddc-31f45a8123b3"
   },
   "outputs": [
    {
     "name": "stdout",
     "output_type": "stream",
     "text": [
      "[[100.           0.           0.           0.           0.        ]\n",
      " [ 81.87307531 122.14027582   0.           0.           0.        ]\n",
      " [ 67.0320046  100.         149.18246976   0.           0.        ]\n",
      " [ 54.88116361  81.87307531 122.14027582 182.21188004   0.        ]\n",
      " [ 44.93289641  67.0320046  100.         149.18246976 222.55409285]]\n"
     ]
    }
   ],
   "source": [
    "stock_prices = np.zeros((N,N))\n",
    "\n",
    "# Preencher a matriz da ação\n",
    "stock_prices[0,0] = S0\n",
    "\n",
    "for i in range(1, N):\n",
    "    M = i + 1\n",
    "    stock_prices[i, 0] = d*stock_prices[i-1, 0]\n",
    "    for j in range(1, M):\n",
    "        stock_prices[i, j] = u*stock_prices[i-1, j-1]\n",
    "        \n",
    "# Visualização\n",
    "print(stock_prices)"
   ]
  },
  {
   "cell_type": "code",
   "execution_count": null,
   "metadata": {
    "id": "pVg7-6Ze47bU",
    "outputId": "d2d30054-6ce2-4a11-a72d-8a39b7bded3f"
   },
   "outputs": [
    {
     "name": "stdout",
     "output_type": "stream",
     "text": [
      "Call: 14.709673831491694\n",
      "[[ 14.70967383   0.           0.           0.           0.        ]\n",
      " [  4.40436178  27.06547795   0.           0.           0.        ]\n",
      " [  0.           9.67475401  47.92880638   0.           0.        ]\n",
      " [  0.           0.          21.25185666  79.96780999   0.        ]\n",
      " [  0.           0.           0.          46.68246976 120.05409285]]\n"
     ]
    }
   ],
   "source": [
    "# Construção da árvore da call\n",
    "call_prices = np.zeros((N,N))\n",
    "\n",
    "# Obtendo o payoff das opções no vencimento\n",
    "# max(S_T - K, 0)\n",
    "expiration = stock_prices[-1,:] - K # S_T - K\n",
    "expiration.shape = (expiration.size,) # reajustando formato\n",
    "expiration = np.where(expiration >= 0, expiration, 0) # max(0, S_T - K)\n",
    "#print(expiration)\n",
    "\n",
    "call_prices[-1,:] = expiration\n",
    "#print(call_prices)\n",
    "\n",
    "# Preenchendo restante da matriz (trazer os payoffs a valor presente)\n",
    "for i in range(N - 2, -1, -1):\n",
    "    for j in range(i+1):\n",
    "        call_prices[i, j] = np.exp(-r*dt) * (p*call_prices[i+1, j+1] + (1-p)*call_prices[i+1, j])\n",
    "        \n",
    "print(f'Call: {call_prices[0,0]}')\n",
    "#plt.spy(call_prices)\n",
    "print(call_prices)"
   ]
  },
  {
   "cell_type": "markdown",
   "metadata": {
    "id": "at3IJN8o47bV"
   },
   "source": [
    "### Um exemplo de put\n",
    "\n",
    "Mudando o exemplo da figura 3 para que a opção seja uma put, obtemos a seguinte árvore:\n",
    "\n",
    "![Árvore de 2 passos para uma put](Imagens\\12_04_Árvore_2_Passos_Put.png)\n",
    "**Figura 4**: Árvore de dois passos para uma put com strike de 30.\n",
    "\n",
    "Os preços da ação são os mesmos, mas a opção será exercida em nós diferentes e possui diferentes preços.\n",
    "O payoff $f_{uu}$ é zero pois a opção não seria exercida. Em $f_{ud}$ e $f_{dd}$ é dado pela diferença entre o strike (30) e o valor da ação em cada nó.\n",
    "\n",
    "O procedimento de rolar para trás pela árvore é o mesmo que antes.\n",
    "\n",
    "$$ f_u = e^{-0.03 \\cdot 0.5} (0.4984 \\cdot 0.000 + 0.5016 \\cdot 0) = 1.000 = 0.494 $$\n",
    "\n",
    "$$ f_d = e^{-0.03 \\cdot 0.5} (0.4984 \\cdot 1.000 + 0.5016 \\cdot 9.637) = 5.252 $$\n",
    "\n",
    "E obtemos o valor presente da put dado pela árvore:\n",
    "\n",
    "$$ f = e^{-0.03 \\cdot 0.5} (0.4984 \\cdot 0.494 + 0.5016 \\cdot 5.252) = 2.838 $$"
   ]
  },
  {
   "cell_type": "code",
   "execution_count": null,
   "metadata": {
    "id": "o4E0xnve47bW",
    "outputId": "5399eda0-8039-41db-9eb8-95de2e330203"
   },
   "outputs": [
    {
     "name": "stdout",
     "output_type": "stream",
     "text": [
      "u: 1.1933645794479497, d: 0.8379668855787558, p: 0.4984449311090994\n",
      "[[29.          0.          0.        ]\n",
      " [24.30103968 34.6075728   0.        ]\n",
      " [20.36346654 29.         41.29945156]]\n",
      "[9.63653346 1.         0.        ]\n",
      "[[2.83771599 0.         0.        ]\n",
      " [5.25231851 0.49408789 0.        ]\n",
      " [9.63653346 1.         0.        ]]\n",
      "Preço da put: 2.837715987847251\n"
     ]
    }
   ],
   "source": [
    "# Construção da árvore da put\n",
    "# max(0, K - S_T)\n",
    "\n",
    "## Árvore de 2 passos\n",
    "S0 = 29\n",
    "K = 30\n",
    "sigma = 0.25\n",
    "r = 0.03\n",
    "T = 1\n",
    "N = 3\n",
    "\n",
    "\n",
    "dt = T/(N-1)\n",
    "u = np.exp(sigma*np.sqrt(dt))\n",
    "d = np.exp(-sigma*np.sqrt(dt))\n",
    "p = (np.exp(r*dt) - d)/(u - d)\n",
    "\n",
    "print(f'u: {u}, d: {d}, p: {p}')\n",
    "\n",
    "# Matriz da ação\n",
    "stock_prices = np.zeros((N,N))\n",
    "stock_prices[0,0] = S0\n",
    "\n",
    "for i in range(1, N):\n",
    "    M = i + 1\n",
    "    stock_prices[i, 0] = d*stock_prices[i-1, 0]\n",
    "    for j in range(1, M):\n",
    "        stock_prices[i, j] = u*stock_prices[i-1, j-1]\n",
    "        \n",
    "print(stock_prices)\n",
    "\n",
    "# Árvore da put\n",
    "put_prices  = np.zeros ((N, N)) # csc_matrix( (N, N) )\n",
    "\n",
    "# Obtendo o payoff das opções no vencimento\n",
    "# max(K - S_T, 0)\n",
    "expiration = K - stock_prices[-1,:] # S_T - K\n",
    "expiration.shape = (expiration.size,) # reajustando formato\n",
    "expiration = np.where(expiration >= 0, expiration, 0) # max(0, K - S_T)\n",
    "print(expiration)\n",
    "\n",
    "# Preenchendo os últimos nós da matriz da call\n",
    "put_prices[-1, :] = expiration\n",
    "\n",
    "# Preenchendo restante da matriz (trazer os payoffs a valor presente)\n",
    "for i in range(N - 2, -1, -1):\n",
    "    for j in range(i+1):\n",
    "        put_prices[i, j] = np.exp(-r*dt) * (p*put_prices[i+1, j+1] + (1-p)*put_prices[i+1, j])\n",
    "\n",
    "print(put_prices)\n",
    "print(f'Preço da put: {put_prices[0,0]}')"
   ]
  },
  {
   "cell_type": "markdown",
   "metadata": {
    "id": "0CEH4joe47bW"
   },
   "source": [
    "## Opções americanas\n",
    "\n",
    "Até o momento, nós consideramos apenas opções europeias (que podem ser exercidas apenas no vencimento). Agora, vamos considerar algumas mudanças nos cálculos para lidar com opções americanas (que podem ser exercidas a qualquer momento até o vencimento).\n",
    "\n",
    "Em cada nó, precisamos carregar dois cálculos para determinar:\n",
    "\n",
    "- Quanto vale a opção se ela for exercida no nó;\n",
    "- Quanto vale a opção se não for exercida.\n",
    "\n",
    "Considere novamente a put da figura 4, mas agora supondo que seja americana. Este caso pode ser visualizado na figura 5:\n",
    "\n",
    "![Árvore de 2 passos para uma put americana](Imagens\\12_05_Árvore_2_Passos_Put_Americana.png)\n",
    "**Figura 5**: Árvore de dois passos para uma put americana com strike de 30.\n",
    "\n",
    "Os valores nos nós finais são os mesmos. Se aqueles nós forem alcançados (ou seja, se a opção não for exercida antecipadamente), a opção tem seu valor intrínseco de $max(K - S_T, 0)$, onde $K$ é o strike e $S_T$ é o preço da ação em $T$.\n",
    "\n",
    "Considere o nó $S_u, f_u$. Se a opção for exercida neste nó, ela geraria um payoff de -4.608, ou seja, uma perda de 4.608. Claramente ela não deve ser exercida e, portanto, vale 0.494 (conforme cálculos anteriores). No nó $S_d, f_d$, ela possui dois valores:\n",
    "\n",
    "- O valor se não for exercida de 5.252 (conforme figura 4);\n",
    "- O valor da opção se for exercida: 5.699 (= 30 - 24.301).\n",
    "\n",
    "Como 5.699 > 5.252, a opção deve ser exercida neste nó e, portanto, seu valor será 5.699.\n",
    "\n",
    "No primeiro nó (valor presente), se a opção for exercida valerá 1 (= 30 - 29). Se não for exercida vale:\n",
    "\n",
    "$$ f = e^{-0.03 \\cdot 0.5} (0.4984 \\cdot 0.494 + 0.5016 \\cdot 5.699) = 3.058 $$\n",
    "\n",
    "Portanto, não vale a pena exercê-la neste nó e seu valor inicial dado pela árvore de 2 passos é 3.058. Neste exemplo, o valor da característica americana é:\n",
    "\n",
    "$$ 3.058 - 2.838 = 0.22 $$\n",
    "\n",
    "Note que o procedimento de rolar para trás significa que o valor que calculamos noum nó reflete não apenas a possibilidade de exercício imediato, mas também a possibilidade de exercício antecipado em nós futuros."
   ]
  },
  {
   "cell_type": "code",
   "execution_count": null,
   "metadata": {
    "id": "qmvWtVio47bW",
    "outputId": "3a99b148-883c-4f46-ab42-bc3b7e6ad0fa"
   },
   "outputs": [
    {
     "name": "stdout",
     "output_type": "stream",
     "text": [
      "u: 1.0574937263990118, d: 0.9456320874878473, p: 0.49944769823399815\n",
      "[20.51926503 19.39776063 18.14359013 16.74106005 15.17262052 13.41864559\n",
      " 11.45718774  9.2637032   6.81074483  4.0676187   1.          0.\n",
      "  0.          0.          0.          0.          0.          0.\n",
      "  0.          0.          0.        ]\n",
      "Preço da put: 3.082148426266647\n"
     ]
    }
   ],
   "source": [
    "# Construção da árvore de put americana\n",
    "\n",
    "## Árvore de 2 passos\n",
    "S0 = 29\n",
    "sigma = 0.25\n",
    "r = 0.03\n",
    "T = 1\n",
    "N = 21\n",
    "K = 30\n",
    "\n",
    "dt = T/(N-1)\n",
    "u = np.exp(sigma*np.sqrt(dt))\n",
    "d = np.exp(-sigma*np.sqrt(dt))\n",
    "p = (np.exp(r*dt) - d)/(u - d)\n",
    "\n",
    "print(f'u: {u}, d: {d}, p: {p}')\n",
    "\n",
    "# Matriz da ação\n",
    "stock_prices = np.zeros((N,N))\n",
    "stock_prices[0,0] = S0\n",
    "\n",
    "for i in range(1, N):\n",
    "    M = i + 1\n",
    "    stock_prices[i, 0] = d*stock_prices[i-1, 0]\n",
    "    for j in range(1, M):\n",
    "        stock_prices[i, j] = u*stock_prices[i-1, j-1]\n",
    "        \n",
    "#print(stock_prices)\n",
    "\n",
    "# Árvore da put\n",
    "put_prices  = np.zeros ((N, N)) # csc_matrix( (N, N) )\n",
    "\n",
    "# Obtendo o payoff das opções no vencimento\n",
    "expiration = K - stock_prices[-1,:] # S_T - K\n",
    "expiration.shape = (expiration.size,) # reajustando formato\n",
    "expiration = np.where(expiration >= 0, expiration, 0) # max(0, K - S_T)\n",
    "print(expiration)\n",
    "\n",
    "# Preenchendo os últimos nós da matriz da call\n",
    "put_prices[-1, :] = expiration\n",
    "\n",
    "# Preenchendo restante da matriz (trazer os payoffs a valor presente)\n",
    "for i in range(N - 2, -1, -1):\n",
    "    for j in range(i+1):\n",
    "        exer = K - stock_prices[i, j] # exercicio antecipado no instante i\n",
    "        keep = np.exp(-r*dt) * (p*put_prices[i+1, j+1] + (1-p)*put_prices[i+1, j]) # Preço da opção mantendo em carteira, igual europeia\n",
    "        put_prices[i, j] = max(exer, keep) # Máximo entre exercer neste nó ou manter\n",
    "\n",
    "#print(put_prices)\n",
    "print(f'Preço da put: {put_prices[0,0]}')"
   ]
  },
  {
   "cell_type": "markdown",
   "metadata": {
    "id": "0TZJfMz047bX"
   },
   "source": [
    "### Aumentando o número de passos\n",
    "\n",
    "Árvores com mais que dois passos podem ser abordadas da mesma forma que vimos até agora. Suponha que usemos 4 passso ao invés de 2 para valorizar a opção americana da seção anterior (figura 5). Temos que: $\\Delta t = 0.25$ e:\n",
    "\n",
    "$$ u = e^{0.25 \\cdot 0.25} = 1.1331$$\n",
    "\n",
    "$$ d = e^{-0.25 \\cdot 0.25} = 0.8825$$\n",
    "\n",
    "$$ p = \\frac{e^{-0.03 \\cdot 0.25} - 0.8825}{1.1331 - 0.8825} = 0.4988$$\n",
    "\n",
    "A nova árvore é apresentada na figura 6:\n",
    "\n",
    "![Árvore de 2 passos para uma put americana](Imagens\\12_06_Árvore_4_Passos_Put_Americana.png)\n",
    "**Figura 6**: Árvore de 4 passos para uma put americana com strike de 30.\n",
    "\n",
    "A opção é exercida antecipadamente em 3 nós. O valor calculado para a opção é 3.097, um pouco maior que o dado pela figura 5, usando 2 passos.\n",
    "\n",
    "A precisão cresce conforme o número de passos cresce. Para a opção considerada teríamos:\n",
    "\n",
    "Passos | Preço da opção\n",
    "-------|---------------\n",
    "2   | 3.058\n",
    "4   | 3.097\n",
    "20  | 3.082\n",
    "50  | 3.067\n",
    "100 | 3.059\n",
    "500 | 3.055\n",
    "\n",
    "Na prática, são usados ao menos de 30 a 50 passos.\n",
    "Árvores binomiais utilizam a premissa do passeio aleatório (random walk), que também é utilizado no modelo Black-Scholes-Merton para avaliar opções europeias. Pode ser provado que, conforme o número de passos cresce, o preço de uma opção europeia dado pela árvore binomial converge para o preço dado pelo Black-Scholes-Merton."
   ]
  },
  {
   "cell_type": "code",
   "execution_count": null,
   "metadata": {
    "id": "P0tA37pu47bX"
   },
   "outputs": [],
   "source": [
    "# Cria matriz do ativo objeto\n",
    "def stock_tree(S0, T, r, sigma, N):\n",
    "    dt = T/(N-1)\n",
    "    u = np.exp(sigma * np.sqrt(dt))\n",
    "    d = 1/u #np.exp(-sigma * np.sqrt(dt)) # (É equivalente)\n",
    "    p = (np.exp(r*dt) - d)/(u - d)\n",
    "\n",
    "    stock_prices = np.zeros((N, N))\n",
    "    stock_prices[0,0] = S0\n",
    "    for i in range(1, N):\n",
    "        M = i + 1\n",
    "        stock_prices[i, 0] = d*stock_prices[i-1, 0]\n",
    "        for j in range(1, M):\n",
    "            stock_prices[i, j] = u*stock_prices[i - 1, j-1]\n",
    "    return stock_prices\n",
    "    \n",
    "def euro_call_tree(stock_prices, T, r, sigma, N):\n",
    "    dt = T/(N-1)\n",
    "    u = np.exp(sigma * np.sqrt(dt))\n",
    "    d = 1/u #np.exp(-sigma * np.sqrt(dt)) # (É equivalente)\n",
    "    p = (np.exp(r*dt) - d)/(u - d)\n",
    "    \n",
    "    call_prices = np.zeros((N, N))\n",
    "    expiration = stock_prices[-1,:] - K # S_T - K\n",
    "    expiration.shape = (expiration.size,) # reajustando formato\n",
    "    expiration = np.where(expiration >= 0, expiration, 0) # max(0, S_T - K)\n",
    "    call_prices[-1,:] = expiration\n",
    "    for i in range(N - 2, -1, -1):\n",
    "        for j in range(i+1):\n",
    "            call_prices[i, j] = np.exp(-r*dt) * (p*call_prices[i+1, j+1] + (1-p)*call_prices[i+1, j])\n",
    "    \n",
    "    return call_prices   \n",
    "\n",
    "def amer_put_tree(stock_prices, T, r, sigma, N):\n",
    "    dt = T/(N-1)\n",
    "    u = np.exp(sigma * np.sqrt(dt))\n",
    "    d = 1/u #np.exp(-sigma * np.sqrt(dt)) # (É equivalente)\n",
    "    p = (np.exp(r*dt) - d)/(u - d)\n",
    "    \n",
    "    put_prices = np.zeros((N, N))\n",
    "    expiration = K - stock_prices[-1,:] # K - S_T\n",
    "    expiration.shape = (expiration.size,) # reajustando formato\n",
    "    expiration = np.where(expiration >= 0, expiration, 0) # max(0, K - S_T)\n",
    "    put_prices[-1,:] = expiration\n",
    "    for i in range(N - 2, -1, -1):\n",
    "        for j in range(i+1):\n",
    "            keep = np.exp(-r*dt) * (p*put_prices[i+1, j+1] + (1-p)*put_prices[i+1, j])\n",
    "            exer = K - stock_prices[i, j]\n",
    "            put_prices[i, j] = max(keep, exer)\n",
    "    \n",
    "    return put_prices"
   ]
  },
  {
   "cell_type": "code",
   "execution_count": null,
   "metadata": {
    "id": "i9nZauOLVgtz",
    "outputId": "05eefb1a-8773-4db4-f67a-5a931c1835e3"
   },
   "outputs": [
    {
     "name": "stdout",
     "output_type": "stream",
     "text": [
      "[[29.          0.          0.        ]\n",
      " [24.30103968 34.6075728   0.        ]\n",
      " [20.36346654 29.         41.29945156]]\n",
      "Call europeia: 2.724349981392003\n",
      "Put americana: 3.058396296819471\n"
     ]
    }
   ],
   "source": [
    "# Insumos\n",
    "S0 = 29\n",
    "K = 30\n",
    "r = 0.03\n",
    "sigma = 0.25\n",
    "T = 1\n",
    "N = 3\n",
    "\n",
    "# Verificando as funções\n",
    "stock_prices = stock_tree(S0, T, r, sigma, N)\n",
    "print(stock_prices)\n",
    "call_prices = euro_call_tree(stock_prices, T, r, sigma, N)\n",
    "print(f'Call europeia: {call_prices[0,0]}')\n",
    "put_amer_prices = amer_put_tree(stock_prices, T, r, sigma, N)\n",
    "print(f'Put americana: {put_amer_prices[0,0]}')"
   ]
  },
  {
   "cell_type": "markdown",
   "metadata": {
    "id": "cD6choevVgtz"
   },
   "source": [
    "Passos | Preço da opção\n",
    "-------|---------------\n",
    "2   | 3.058\n",
    "4   | 3.097\n",
    "20  | 3.082\n",
    "50  | 3.067\n",
    "100 | 3.059\n",
    "500 | 3.055"
   ]
  },
  {
   "cell_type": "code",
   "execution_count": null,
   "metadata": {
    "id": "ZnRzvHKmVgt0",
    "outputId": "d562ba3d-0ecb-415a-a479-11fa6b261f72"
   },
   "outputs": [
    {
     "name": "stdout",
     "output_type": "stream",
     "text": [
      "N: 3, Call: 2.724, Put Amer: 3.058\n",
      "N: 5, Call: 2.818, Put Amer: 3.097\n",
      "N: 21, Call: 2.858, Put Amer: 3.082\n",
      "N: 51, Call: 2.848, Put Amer: 3.067\n",
      "N: 101, Call: 2.839, Put Amer: 3.059\n",
      "N: 501, Call: 2.836, Put Amer: 3.055\n",
      "N: 1001, Call: 2.834, Put Amer: 3.054\n"
     ]
    }
   ],
   "source": [
    "# Simulando diferentes qtdes de passos\n",
    "Ns = [2, 4, 20, 50, 100, 500, 1000]\n",
    "for n in Ns:\n",
    "    N = n + 1\n",
    "    stock_prices = stock_tree(S0, T, r, sigma, N)\n",
    "    call_prices = euro_call_tree(stock_prices, T, r, sigma, N)\n",
    "    put_amer_prices = amer_put_tree(stock_prices, T, r, sigma, N)\n",
    "    print(f'N: {N}, Call: {round(call_prices[0,0], 3)}, Put Amer: {round(put_amer_prices[0,0], 3)}')"
   ]
  },
  {
   "cell_type": "code",
   "execution_count": null,
   "metadata": {
    "id": "_EBHGc3NVgt0"
   },
   "outputs": [],
   "source": [
    "# Black-Scholes\n",
    "from scipy.stats import norm # distribuição normal\n",
    "\n",
    "def calc_BS(S, K, r, T, sigma, tipo):\n",
    "    # Cálculo do d1\n",
    "    d1 = (np.log(S/K) + (r + sigma**2/2)*T) / sigma*np.sqrt(T)\n",
    "    # Cálculo do d2\n",
    "    d2 = d1 - sigma*np.sqrt(T)\n",
    "    \n",
    "    if tipo == 'call':\n",
    "        # Preço se for call (opção de compra)\n",
    "        price = S*norm.cdf(d1) - K*np.exp(-r*T)*norm.cdf(d2)\n",
    "    elif tipo == 'put':\n",
    "        # preço se for put (opção de venda)\n",
    "        price = K*np.exp(-r*T)*norm.cdf(-d2) - S*norm.cdf(-d1)\n",
    "    else:\n",
    "        # Não sei o tipo, não calculo\n",
    "        price = None\n",
    "    \n",
    "    return price # Preço/prêmio"
   ]
  },
  {
   "cell_type": "code",
   "execution_count": null,
   "metadata": {
    "id": "2niyBczcVgt0",
    "outputId": "b2ffab23-7f31-4ddb-c1e6-0cb2d46d5571"
   },
   "outputs": [
    {
     "data": {
      "text/plain": [
       "2.8341228142744015"
      ]
     },
     "execution_count": 17,
     "metadata": {},
     "output_type": "execute_result"
    }
   ],
   "source": [
    "# Comparando com o BS\n",
    "calc_BS(S0, K, r, T, sigma, 'call')"
   ]
  },
  {
   "cell_type": "markdown",
   "metadata": {
    "id": "tzs4N5_M47bY"
   },
   "source": [
    "## Outros ativos\n",
    "\n",
    "Até agora, consideramos opções sobre opção que não pagam dividendos. Para considerar outros ativos, será útil analisarmos uma ação que paga uma taxa de dividendos contínuos $q$ (isso significa que o dividendo pago por um curto período $\\Delta t$ é o preço da ação multiplicado por $q$ multiplicado por $\\Delta t).\n",
    "\n",
    "Um rendimento $q$ implica que as fórmulas que apresentamos até o momento devem ser levemente ajustadas. O retorno total num mundo neutro ao risco é $r$. Os dividendos proveem um retorno de $q$. O crescimento esperado no preço da ação deve ser então $r - q$. Lembrando que temos:\n",
    "\n",
    "$$ pSu + (1 - p)Sd = S e^{r \\Delta t} $$\n",
    "\n",
    "quando não há dividendos, tal que:\n",
    "\n",
    "$$ p = \\frac{e^{r \\Delta t} - d}{u - d} $$\n",
    "\n",
    "No caso onde dividendos são pagos a uma taxa $q$, temos:\n",
    "\n",
    "$$ pSu + (1 - p)Sd = S e^{(r-q) \\Delta t} $$\n",
    "\n",
    "Tal que:\n",
    "\n",
    "$$ p = \\frac{e^{(r-q) \\Delta t} - d}{u - d} $$\n",
    "\n",
    "Todo o restante da árvore permanece igual antes, inclusive os cálculos de $u$ e $d$ e o procedimento de rolar para trás.\n",
    "\n",
    "### Índices de ação\n",
    "\n",
    "Para uma opção sobre um índice de ações, geralmente assume-se que o índice provê uma taxa de dividendos. A valorização de uma opção sobre um índice deve portanto incluir a modificação apresentada acima. Definimos $q$ igual à taxa de dividendos média estimada durante a vida da opção.\n",
    "\n",
    "### Moedas\n",
    "\n",
    "Conforme apresentado na aula 5 de derivativos, a projeção de uma moeda é realizada como se fosse um ativo que rende à taxa livre de risco estrangeira. Portanto, a análise apresentada para os dividendos contínuos se aplicam, com $q$ igual à taxa livre de risco estrangeira ($r_x$). Isto significa que:\n",
    "\n",
    "$$ p = \\frac{e^{(r-r_x) \\Delta t} - d}{u - d} $$\n",
    "\n",
    "O restante permanece igual aos demais casos abordados.\n",
    "\n",
    "### Futuros\n",
    "\n",
    "Como não custa nada entrar num contrato futuro, o retorno de um contrato futuro num mundo neutro ao risco deve ser zero. isto significa que podemos tratar um contrato futuro como uma ação, pagando uma taxa de dividendos contínua igual à $r$. Isto porque quando $q = r$, a taxa esperada de crescimento da ação é zero. Portanto:\n",
    "\n",
    "$$ p = \\frac{1 - d}{u - d} $$\n",
    "\n",
    "e o restante permanece igual aos demais casos."
   ]
  },
  {
   "cell_type": "markdown",
   "metadata": {
    "id": "vqx8CZJj47bY"
   },
   "source": [
    "## Referências\n",
    "\n",
    "- J. C. Cox, S. A. Ross, M. Rubistein, \"Option Pricing: A Simplified Approach\", Journal of Financial Economics 7 (Outubro/1979): 229-264.\n",
    "- I. V. Girsanov, \"On transforming a certain class of stochastic processes by absolutely continuous substitution of measures\", Theory of Probability and its Applications, 5, 3 (1960): 285-301.\n",
    "- J. Hull, \"Risk Management and Financial Institutions\", 5th edition, Wiley."
   ]
  },
  {
   "cell_type": "code",
   "execution_count": null,
   "metadata": {
    "id": "H1AQ3O1e47bY"
   },
   "outputs": [],
   "source": []
  }
 ],
 "metadata": {
  "colab": {
   "name": "Aula 12 - Árvores binomiais.ipynb",
   "provenance": []
  },
  "kernelspec": {
   "display_name": "Python 3",
   "language": "python",
   "name": "python3"
  },
  "language_info": {
   "codemirror_mode": {
    "name": "ipython",
    "version": 3
   },
   "file_extension": ".py",
   "mimetype": "text/x-python",
   "name": "python",
   "nbconvert_exporter": "python",
   "pygments_lexer": "ipython3",
   "version": "3.9.5"
  },
  "latex_envs": {
   "LaTeX_envs_menu_present": true,
   "autoclose": false,
   "autocomplete": true,
   "bibliofile": "biblio.bib",
   "cite_by": "apalike",
   "current_citInitial": 1,
   "eqLabelWithNumbers": true,
   "eqNumInitial": 1,
   "hotkeys": {
    "equation": "Ctrl-E",
    "itemize": "Ctrl-I"
   },
   "labels_anchors": false,
   "latex_user_defs": false,
   "report_style_numbering": false,
   "user_envs_cfg": false
  },
  "toc": {
   "base_numbering": 1,
   "nav_menu": {},
   "number_sections": true,
   "sideBar": true,
   "skip_h1_title": false,
   "title_cell": "Table of Contents",
   "title_sidebar": "Contents",
   "toc_cell": false,
   "toc_position": {},
   "toc_section_display": true,
   "toc_window_display": false
  },
  "varInspector": {
   "cols": {
    "lenName": 16,
    "lenType": 16,
    "lenVar": 40
   },
   "kernels_config": {
    "python": {
     "delete_cmd_postfix": "",
     "delete_cmd_prefix": "del ",
     "library": "var_list.py",
     "varRefreshCmd": "print(var_dic_list())"
    },
    "r": {
     "delete_cmd_postfix": ") ",
     "delete_cmd_prefix": "rm(",
     "library": "var_list.r",
     "varRefreshCmd": "cat(var_dic_list()) "
    }
   },
   "types_to_exclude": [
    "module",
    "function",
    "builtin_function_or_method",
    "instance",
    "_Feature"
   ],
   "window_display": false
  }
 },
 "nbformat": 4,
 "nbformat_minor": 1
}
