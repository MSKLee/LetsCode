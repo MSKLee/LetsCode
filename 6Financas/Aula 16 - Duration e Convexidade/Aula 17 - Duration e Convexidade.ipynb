{
 "cells": [
  {
   "cell_type": "markdown",
   "id": "80d017bf",
   "metadata": {},
   "source": [
    "## Prazo Médio\n",
    "\n",
    "Definição: Data que resume a média de ocorrência dos fluxos de caixa de um título ou carteira. É semelhante ao conceito de \"centro de massa\" na física.\n",
    "\n",
    "É calculado através da média dos prazos do fluxos do título ou carteira ponderada pelos seus valores.\n",
    "\n",
    "$$ PM = \\frac{F_1 p_1 + F_2p_2 + ... + F_n p_n }{F_1 + F_2 + ... + F_n} $$\n",
    "\n",
    "Onde $F_i$ é o valor e $p_i$ é o prazo do fluxo $i$.\n",
    "\n",
    "** Exemplo **\n",
    "Considere uma debênture com as seguintes características:\n",
    "\n",
    "- Prazo: 5 anos\n",
    "- Valor ao par: R$ 1.000,00\n",
    "- Taxa de cupom: 7% aa\n",
    "\n",
    "*Qual seu prazo médio?*\n",
    "\n",
    "Prazo (anos) | Valor do fluxo\n",
    "-------------|---------------\n",
    "0|0\n",
    "1|70\n",
    "2|70\n",
    "3|70\n",
    "4|70\n",
    "5|1070\n",
    "\n",
    "Soma dos fluxos: \n",
    "\n",
    "$$ SF = 70 + 70 + 70 + 70 + 1070 = 1350 $$\n",
    "\n",
    "Prazo médio:\n",
    "\n",
    "$$ PM = \\frac{70*1 + 70*2 + 70*3 + 70*4 + 1070*5}{1350} = 4.48 $$\n",
    "\n",
    "O prazo médio não leva em conta o valor dos fluxos no tempo. O mais correto é calcular um prazo médio com base no valor presente dos fluxos de caixa do título. O que nos leva ao próximo conceito: **Duration**."
   ]
  },
  {
   "cell_type": "code",
   "execution_count": null,
   "id": "66d25ec2",
   "metadata": {},
   "outputs": [],
   "source": []
  },
  {
   "cell_type": "markdown",
   "id": "42684045",
   "metadata": {},
   "source": [
    "## Duration\n",
    "Duration é uma medida de prazo médio dos títulos e está relacionada com a distribuição dos fluxos de caixa no tempo. Considera o valor dos fluxos, os prazos e os custos. Ela mede a sensibilidade do preço do título a uma mudança na sua taxa de juros.\n",
    "\n",
    "É calculada pela média dos prazos dos fluxos do título ou carteira ponderada pelo valor presente de seus fluxos. É o prazo equivalente de uma parcela única no valor presente do fluxo.\n",
    "\n",
    "$$ D = \\frac{VP(F_1) t_1 + VP(F_2) t_2 + ... + VP(F_n) t_n }{VP(F_1) + VP(F_2) + ... + VP(F_n)} $$\n",
    "\n",
    "Sendo $F_i$ o valor futuro do fluxo $i$ e $t_i$ o prazo do fluxo$i$.\n",
    "\n",
    "Considerando que o desconto a valor presente é dado por uma taxa exponencial, temos:\n",
    "\n",
    "$$ D = \\frac{\\frac{F_1}{(1+r_1)^1} t_1 + \\frac{F_2}{(1+r_2)^2} t_2 + ... + \\frac{F_n}{(1+r_n)^n} t_n }{\\frac{F_1}{(1+r_1)^1} + \\frac{F_2}{(1+r_2)^2} + ... + \\frac{F_n}{(1+r_n)^n}} $$\n",
    "\n",
    "Se possuirmos a TIR (YTM - yield to maturity) do título, podemos calcular a duration a partir dela:\n",
    "\n",
    "$$ D = \\frac{ \\sum_{i=1}^{n} t_i *\\frac{F_t}{(1+y)^{t_i}}} { \\sum_{t=1}^{n} \\frac{F_t}{(1+y)^{t_i}}} $$\n",
    "\n",
    "\n"
   ]
  },
  {
   "cell_type": "markdown",
   "id": "0aa7bec0",
   "metadata": {},
   "source": [
    "**Exemplo**\n",
    "\n",
    "Se um título possui o valor presente de 106 com um fluxo de caixa em um ano com valor presente de 6 e um fluxo de caixa em 2 anos com o valor presente de 100, a duration de Macaulay será dada por:\n",
    "\n",
    "$$ \\frac{6}{106} \\cdot 1 + \\frac{100}{106} \\cdot 2 = 1.9434 $$"
   ]
  },
  {
   "cell_type": "code",
   "execution_count": 1,
   "id": "05d25e99",
   "metadata": {
    "ExecuteTime": {
     "end_time": "2022-03-11T22:33:26.981891Z",
     "start_time": "2022-03-11T22:33:26.883983Z"
    }
   },
   "outputs": [
    {
     "name": "stdout",
     "output_type": "stream",
     "text": [
      "1.9433962264150944\n"
     ]
    }
   ],
   "source": [
    "PV_1 = 6\n",
    "PV_2 = 100\n",
    "\n",
    "P = PV_1 + PV_2\n",
    "\n",
    "D = (PV_1*1 + PV_2*2)/P\n",
    "print(D)"
   ]
  },
  {
   "cell_type": "markdown",
   "id": "a0f49c09",
   "metadata": {},
   "source": [
    "### Duration de Macaulay\n",
    "\n",
    "Também podemos obter a seguinte relação entre o preço do título e a duration, aproximadamente por:\n",
    "\n",
    "$$ \\Delta P = - D P \\Delta y $$\n",
    "\n",
    "que é equivalente a:\n",
    "\n",
    "$$ \\frac{\\Delta P}{P} = -D \\Delta y$$\n",
    "\n",
    "Onde:\n",
    "\n",
    "- $P$: é o preço do título\n",
    "- $D$: é a duration do título\n",
    "- $\\Delta y$: é a variação na TIR do título\n",
    "- $\\Delta P$: é a variação no preço do título resultante da variação na TIR\n",
    "\n",
    "A relação apresentada é aproximada pois o preço do bond não é uma função linear da taxa.\n",
    "\n",
    "A Duration de Macaulay é o valor correto de D se a TIR é composta continuamente. A duration modificada é a duration correta para uso se D é medido com alguma coutra composição."
   ]
  },
  {
   "cell_type": "markdown",
   "id": "180fd281",
   "metadata": {},
   "source": [
    "**Exemplo**\n",
    "\n",
    "Portanto, uma mudança de 5 basis points (0.05\\%, ou 0.0005) na TIR composta continuamente gera uma mudança no preço do título de:\n",
    "\n",
    "$$ -1.9434 \\cdot 106 \\cdot 0.0005 = -0.103 $$\n",
    "\n",
    "E o preço do título cairia para 105.897."
   ]
  },
  {
   "cell_type": "code",
   "execution_count": 3,
   "id": "45ee99be",
   "metadata": {
    "ExecuteTime": {
     "end_time": "2022-03-11T22:44:31.322472Z",
     "start_time": "2022-03-11T22:44:31.300935Z"
    }
   },
   "outputs": [
    {
     "name": "stdout",
     "output_type": "stream",
     "text": [
      "-0.10300000000000001\n"
     ]
    }
   ],
   "source": [
    "# D calculado acima\n",
    "# B calculado acima\n",
    "B = 106\n",
    "dy = 0.0005\n",
    "dB = -D*B*dy\n",
    "print(dB)"
   ]
  },
  {
   "cell_type": "markdown",
   "id": "d7a46b63",
   "metadata": {},
   "source": [
    "### *Duration Modificada*\n",
    "\n",
    "Quando as taxas são compostas $m$ vezes por ano, é mais adequado utilizar a *duration modificada*, que pode ser calculada em função da duration de Macaulay pelos seguinte ajuste:\n",
    "\n",
    "$$ \\hbox{Duration modificada} = \\frac{\\hbox{Duration Macaulay}}{1 + y/m}$$"
   ]
  },
  {
   "cell_type": "markdown",
   "id": "3f7dd679",
   "metadata": {},
   "source": [
    "**Exemplo**\n",
    "\n",
    "Suponha um título que paga fluxos semestrais de 3\\% e vale 100 no seu vencimento em 3 anos. O preço do título é 102.0695 e a yield (TIR) composta semestralmente vale 5.2455\\%.\n",
    "\n",
    "Com composição contínua, temos:\n",
    "\n",
    "$$ 2 \\cdot ln(1 + 0.052455/2) = 0.051779 $$\n",
    "\n",
    "Ou 5.1779\\%.\n",
    "\n",
    "A duration de Macaulay é apresentada na tabela a seguir. Quando descontado pela *yield*, o primeiro fluxo possui o valor presente de 2.9233. Isto equivale a 2.864\\% do valor presente do título. Aplicando o mesmo cálculo aos demais fluxos, chegamos na duration de Macaulay = 2.79238.\n",
    "\n",
    "Prazo(anos) | VF | PV | Peso | Peso x Prazo\n",
    "------------|----|----|------|-------------\n",
    "0.5 | 3  | 2.9233 | 0.02864 | 0.01432\n",
    "1.0 | 3  | 2.8486 | 0.02791 | 0.02791\n",
    "1.5 | 3  | 2.7758 | 0.02720 | 0.04079\n",
    "2.0 | 3  | 2.7049 | 0.02650 | 0.05300\n",
    "2.5 | 3  | 2.6357 | 0.02582 | 0.06456\n",
    "3.0 | 103|88.1811 | 0.86393 | 2.59180\n",
    "Total|   |102.0695| 1.00000 | 2.79238\n",
    "\n",
    "\n",
    "Para testar a acurácia da relação apreentada acima, suponha que há um aumento de 10 basis point na yield, ou seja, de 5.1779\\% para 5.2779\\%. O novo preço do título pode ser calculado por:"
   ]
  },
  {
   "cell_type": "code",
   "execution_count": 4,
   "id": "3dbe753d",
   "metadata": {
    "ExecuteTime": {
     "end_time": "2022-03-11T22:52:33.918836Z",
     "start_time": "2022-03-11T22:52:33.889440Z"
    }
   },
   "outputs": [
    {
     "name": "stdout",
     "output_type": "stream",
     "text": [
      "101.78481098725595\n"
     ]
    }
   ],
   "source": [
    "# Cálculo completo\n",
    "import numpy as np\n",
    "\n",
    "y_new = 0.052779\n",
    "B_new = 3*np.exp(-0.5*y_new) + 3*np.exp(-1.0*y_new) + 3*np.exp(-1.5*y_new) + 3*np.exp(-2.0*y_new) + 3*np.exp(-2.5*y_new) + 103*np.exp(-3.0*y_new)\n",
    "print(B_new)"
   ]
  },
  {
   "cell_type": "markdown",
   "id": "a62453d4",
   "metadata": {},
   "source": [
    "Enquanto a relação nos prevê o valor:"
   ]
  },
  {
   "cell_type": "code",
   "execution_count": 6,
   "id": "b3f9f368",
   "metadata": {
    "ExecuteTime": {
     "end_time": "2022-03-11T22:53:10.859264Z",
     "start_time": "2022-03-11T22:53:10.835026Z"
    }
   },
   "outputs": [
    {
     "name": "stdout",
     "output_type": "stream",
     "text": [
      "101.7844811282\n"
     ]
    }
   ],
   "source": [
    "# Cálculo pela duration de Macaulay\n",
    "B = 102.0695\n",
    "D = 2.7924\n",
    "B_new_2 = B - D*B*0.001\n",
    "print(B_new_2)"
   ]
  },
  {
   "cell_type": "markdown",
   "id": "112962ee",
   "metadata": {},
   "source": [
    "### Duration de uma carteira\n",
    "\n",
    "É calculada a partir dos prazos e valores presentes dos títulos que a compõem. Os prazos de cada título podem ser segregados na duration de cada título. Na prática, é calculada como se fosse a duration de um título com vários fluxos de caixa:\n",
    "\n",
    "$$ D_{cart} = \\frac{ \\sum d_k \\cdot VP_k }{ VP_{Cart} } $$\n",
    "\n",
    "Onde $d_k$ é a duration do título $k$ e $VP_k$ é o valor presente do título $k$."
   ]
  },
  {
   "cell_type": "markdown",
   "id": "b82d6d8f",
   "metadata": {},
   "source": [
    "### Propriedades básicas da duration:\n",
    "\n",
    "1. Duration cresce com o prazo de vencimento do título, porém com taxas decrescentes\n",
    "2. Duration decresce com o aumento das taxas de mercado (YTM)\n",
    "3. Quanto maior o cupom do título, menor a duration\n",
    "\n",
    "*O que fazer para aumentar a duration de uma carteira?*\n",
    "- Aumentar o prazo do título: característica 1\n",
    "- Títulos com menor cupom: característica 3."
   ]
  },
  {
   "cell_type": "markdown",
   "id": "671afbad",
   "metadata": {},
   "source": [
    "### Limitações da duration\n",
    "\n",
    "A duration nos dá uma boa aproximação do efeito de um choque paralelo da estrutura a termo de taxas de juros. Quando todas as taxas mudam uma certa quantidade, a *yield* (TIR)  de um título muda quase a mesma quantidade. Contudo, a relação entre o preço do título e a duration não é precisa, caso as mudanças nas taxas não sejam paralelas em toda a estrutura a termo, ou se a mudança for muito grande."
   ]
  },
  {
   "cell_type": "markdown",
   "id": "b501aec4",
   "metadata": {},
   "source": [
    "### Aplicações de duration\n",
    "\n",
    "1. A partir da duration, pode-se representar o fluxo de um título ou uma carteira por um título equivalente (ou título sintético):\n",
    "- Valor presente igual ao do título ou carteira\n",
    "- Prazo igual à duration do título ou carteira\n",
    "\n",
    "O valor futuro do título sintético é obtido a partir do valor presente, do prazo e das taxas de mercado. A taxa do título sintético é dada por:\n",
    "\n",
    "$$ TIR_{Sintético} = \\frac{VF}{VP} - 1 $$\n",
    "\n",
    "2. Análise de descasamento de ativos e passivos\n",
    "- Título sintético para a carteira do ativo\n",
    "- Título sintético para a carteira do passivo\n",
    "\n",
    "- Prazo de descasamento: diferença entre as durations\n",
    "- Direção do descasamento: ativo (dado) ou passivo (tomado)\n",
    "- Spread do descasamento: diferença entre as taxas\n",
    "\n",
    "3. Imunização de ativos e passivos\n",
    "\n",
    "$$ Duration_{Ativos} * VP_{Ativos} = Duration_{Passivos} * VP_{Passivos} $$\n",
    "\n",
    "4. Indicador de sensibilidade \n",
    "\n",
    "A duration pode ser utilizada como um indicador de sensibilidade do preço do título ou do valor da carteira em função de mudanças nas taxas de juros\n",
    "\n"
   ]
  },
  {
   "cell_type": "markdown",
   "id": "d7545483",
   "metadata": {},
   "source": [
    "#### Demonstração\n",
    "\n",
    "A partir das fórmulas gerais de preços de títulos, em função da yield:\n",
    "\n",
    "$$ P = \\sum_{t=1}^{n} \\frac{F_t}{(1+y)^t} = \\sum_{t=1}^{n} F_t \\cdot (1+y)^{-t}$$\n",
    "\n",
    "$$ P = F_1 \\cdot (1+y)^{-1} + F_2 *(1+y)^{-2} + ... + F_n \\cdot (1+y)^{-t_n} $$\n",
    "\n",
    "Calculando a derivada do preço $P$ em função de $y$, temos:\n",
    "\n",
    "$$ \\frac{\\partial P}{\\partial y} = -F_1 \\cdot (1+y)^{-2} -2 F_2 *(1+y)^{-3} -  ... - t_n F_n \\cdot (1+y)^{-t_n-1} $$\n",
    "\n",
    "$$ \\frac{\\partial P}{\\partial y} = \\frac{- 1}{(1 + y)} [ F_1 \\cdot (1+y)^{-1} +2 F_2 *(1+y)^{-2} + ... + t_n F_n \\cdot (1+y)^{-t_n}] $$\n",
    "\n",
    "$$ \\frac{\\partial P}{\\partial y} = \\frac{- P}{(1 + y)} [ \\frac{F_1 \\cdot (1+y)^{-1} +2 F_2 *(1+y)^{-2} + ... + t_n F_n \\cdot(1+y)^{-t_n}}{P}] $$\n",
    "\n",
    "$$ \\frac{\\partial P}{\\partial y} = \\frac{- P}{(1 + y)} [ \\frac{\\sum_{t=1}^{t_n} t \\cdot VP(F_t) }{P}] $$\n",
    "\n",
    "$$ \\frac{\\partial P}{\\partial y} = \\frac{- P}{(1 + y)} \\cdot D $$\n",
    "\n",
    "E podemos escrever a variação no preço ($\\partial P$) em função de uma variação na yield ($\\partial y$):\n",
    "\n",
    "$$ \\partial P = \\frac{- P}{(1 + y)}\\cdot D \\cdot \\partial y$$\n",
    "\n",
    "Esta é a duration tradicional de Macaulay. Também pode ser escrita como uma variação no retorno do preço:\n",
    "\n",
    "$$ \\frac{\\partial P}{P} = - D \\cdot \\frac{\\partial y}{(1 + y)} $$\n"
   ]
  },
  {
   "cell_type": "markdown",
   "id": "fa9d7e06",
   "metadata": {},
   "source": [
    "## Imunização\n",
    "\n",
    "Imunização significa tornar o valor final de uma carteira de renda fixa insensível a variações na taxa de juros (*hedging*).\n",
    "\n",
    "A imunização permite que se proteja um título ou carteira de renda fixa em relação a mudanças na taxa de juros.\n",
    "\n",
    "Dada uma carteira $P_{cart}$, devemos montar uma outra carteira $P_{Imun}$, de modo que a variação no valor da primeira seja compensada pela variação no valor da segunda:\n",
    "\n",
    "$$ \\Delta P_{Cart} = \\Delta P_{Imun} $$\n",
    "\n",
    "Queremos obter $P_{Imun}$ tal que somadas as carteiras, não haja variação em função de oscilações na taxa de juros $y$:\n",
    "\n",
    "$$ Z = P_{Cart} + P_{Imun}$$\n",
    "\n",
    "$$ \\frac{dZ}{dy} = 0 $$\n",
    "\n",
    "Calculando a variação da carteira composta $Z$, temos:\n",
    "\n",
    "$$ \\frac{dZ}{dy} = \\frac{P_{Cart} }{dy} + \\frac{P_{Imun} }{dy}$$\n",
    "\n",
    "Lembrando que:\n",
    "\n",
    "$$ \\frac{dP}{dy} = -P \\cdot MD $$\n",
    "\n",
    "Podemos calcular a variação de $Z$ em função das durations e igualar a zero (sem variação):\n",
    "\n",
    "$$ \\frac{dZ}{dy} = -P_{Cart} \\cdot MD_{Cart} -P_{Imun} \\cdot MD_{Imun} = 0 $$\n",
    "\n",
    "E conseguimos obter a carteira $P_{Imun}$ tal que:\n",
    "\n",
    "$$ P_{Imun} = - P_{Cart} \\cdot \\frac{MD_{Cart}}{MD_{Imun}} $$"
   ]
  },
  {
   "cell_type": "markdown",
   "id": "6a906c4e",
   "metadata": {},
   "source": [
    "## Convexidade\n",
    "\n",
    "Convexidade é o efeito de segunda ordem que descreve como o preço varia em função de alterações na taxa de retorno $y$. Descreve como a duration ($D$) sofre alteração aconforme muda a taxa de retorno $y$.\n",
    "\n",
    "É definida matematicamente pela expansão de Taylor:\n",
    "\n",
    "$$ dP = \\frac{dP}{dy} dy + \\frac{1}{2} \\frac{d^2P}{dy^2} dy^2 $$\n",
    "\n",
    "Dividindo por $P$:\n",
    "\n",
    "$$ \\frac{dP}{P} = \\frac{dP}{dy}\\frac{1}{P} dy + \\frac{1}{2} \\frac{d^2P}{dy^2}\\frac{1}{P} dy^2 $$\n",
    "\n",
    "Obtemos a expansão de Taylor em função da primeira derivada ($D$) e da segunda derivada ($C$):\n",
    "\n",
    "$$ \\frac{dP}{P} = -D dy + \\frac{1}{2} C \\cdot  dy^2 $$\n",
    "\n",
    "Onde:\n",
    "\n",
    "$$ C = \\frac{d^2P}{dy^2}\\frac{1}{P} = - \\frac{D}{dy} $$\n",
    "\n",
    "A convexidade também pode ser reescrita como:\n",
    "\n",
    "\\begin{equation}\n",
    "C = \\frac{1}{P} \\frac{1}{(1+y)^2} \\sum^{n}_{i=1} \\left( t_i(t_i+1) \\frac{F_i}{(1+y)^{t_i}} \\right) \n",
    "\\end{equation}\n",
    "\n",
    "E podemos ver a seguinte relação:\n",
    "\n",
    "\\begin{equation}\n",
    "\\Delta B = -DB \\Delta y + \\frac{1}{2} C B (\\Delta y)^2\n",
    "\\end{equation}\n",
    "\n",
    "Esta relação permite considerar choques paralelos mais altos.''"
   ]
  },
  {
   "cell_type": "markdown",
   "id": "d118aa55",
   "metadata": {},
   "source": [
    "**Exemplo**\n",
    "\n",
    "Podemos calcular a convexidade da mesma forma calculada no primeiro exemplo, mas considerando o tempo ao quadrado.\n",
    "\n",
    "Prazo(anos) | VF | PV | Peso | Peso x Prazo^2\n",
    "------------|----|----|------|-------------\n",
    "0.5 | 3  | 2.9233 | 0.02864 | 0.00716\n",
    "1.0 | 3  | 2.8486 | 0.02791 | 0.02791\n",
    "1.5 | 3  | 2.7758 | 0.02720 | 0.06119\n",
    "2.0 | 3  | 2.7049 | 0.02650 | 0.10600\n",
    "2.5 | 3  | 2.6357 | 0.02582 | 0.16139\n",
    "3.0 | 103|88.1811 | 0.86393 | 7.77539\n",
    "Total|   |102.0695| 1.00000 | 8.13904\n",
    "\n",
    "A convexidade é, portanto, $C = 8.13904$."
   ]
  },
  {
   "cell_type": "markdown",
   "id": "9d11bbd5",
   "metadata": {},
   "source": [
    "### Propriedades da convexidade\n",
    "\n",
    "1. A convexidade é desejada em posições ativas\n",
    "    - Quanto maior a convexidade de um título ou de uma carteira de títulos, maior é a proteção conseguida contra aumentos nas taxas de juros.\n",
    "    - Quanto maior a convexidade de um título ou carteira de títulos, maiores os ganhos possíveis em decorrência de uma queda de taxas de juros\n",
    "\n",
    "\n",
    "2. Ativos com maior convexidade devem ser mais valiosos\n",
    "\n",
    "3. Convexidade aumenta com o prazo da obrigação\n",
    "\n",
    "4. Convexidade é inversamente proporcional ao cupom\n",
    "\n",
    "    - Ativos com fluxos concentrados tem convexidade menor.\n",
    "\n",
    "5. Para a mesma duration, a convexidade diminui com o cupom\n",
    "\n",
    "    - Ativos sem cupom tem menor convexidade.\n",
    "\n",
    "6. Quanto maior a convexidade, maior o erro em não utiliza-la\n",
    "\n",
    "7. Todos os títulos de renda fixa possuem convexidade\n",
    "\n",
    "    - A convexidade de uma carteira é dada pela média da convexidade dos ativos individuais ponderada por sua participação na carteira.\n",
    "    - Quanto mais disperso for o conjunto de fluxos do ativo, ou de uma carteira, maior é a sua convexidade.\n",
    "    - Quanto mais convexo for o ativo ou a carteira:\n",
    "        - maior a proteção em caso de queda de taxas\n",
    "        - maior o ganho no caso de alta"
   ]
  },
  {
   "cell_type": "code",
   "execution_count": null,
   "id": "2eac57bb",
   "metadata": {},
   "outputs": [],
   "source": []
  }
 ],
 "metadata": {
  "kernelspec": {
   "display_name": "Python 3 (ipykernel)",
   "language": "python",
   "name": "python3"
  },
  "language_info": {
   "codemirror_mode": {
    "name": "ipython",
    "version": 3
   },
   "file_extension": ".py",
   "mimetype": "text/x-python",
   "name": "python",
   "nbconvert_exporter": "python",
   "pygments_lexer": "ipython3",
   "version": "3.10.2"
  },
  "latex_envs": {
   "LaTeX_envs_menu_present": true,
   "autoclose": false,
   "autocomplete": true,
   "bibliofile": "biblio.bib",
   "cite_by": "apalike",
   "current_citInitial": 1,
   "eqLabelWithNumbers": true,
   "eqNumInitial": 1,
   "hotkeys": {
    "equation": "Ctrl-E",
    "itemize": "Ctrl-I"
   },
   "labels_anchors": false,
   "latex_user_defs": false,
   "report_style_numbering": false,
   "user_envs_cfg": false
  },
  "toc": {
   "base_numbering": 1,
   "nav_menu": {},
   "number_sections": true,
   "sideBar": true,
   "skip_h1_title": false,
   "title_cell": "Table of Contents",
   "title_sidebar": "Contents",
   "toc_cell": false,
   "toc_position": {},
   "toc_section_display": true,
   "toc_window_display": false
  },
  "varInspector": {
   "cols": {
    "lenName": 16,
    "lenType": 16,
    "lenVar": 40
   },
   "kernels_config": {
    "python": {
     "delete_cmd_postfix": "",
     "delete_cmd_prefix": "del ",
     "library": "var_list.py",
     "varRefreshCmd": "print(var_dic_list())"
    },
    "r": {
     "delete_cmd_postfix": ") ",
     "delete_cmd_prefix": "rm(",
     "library": "var_list.r",
     "varRefreshCmd": "cat(var_dic_list()) "
    }
   },
   "types_to_exclude": [
    "module",
    "function",
    "builtin_function_or_method",
    "instance",
    "_Feature"
   ],
   "window_display": false
  }
 },
 "nbformat": 4,
 "nbformat_minor": 5
}
