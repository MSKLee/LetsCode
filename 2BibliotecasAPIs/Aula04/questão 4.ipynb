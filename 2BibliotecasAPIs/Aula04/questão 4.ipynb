{
 "cells": [
  {
   "cell_type": "markdown",
   "id": "violent-cricket",
   "metadata": {},
   "source": [
    "__Questão 4__  \n",
    "Crie um array com 20 números aleatórios inteiros entre 1 e 5. Em seguida, calcule a frequência (percentual) de cada valor específico da Series.\n",
    "\n"
   ]
  },
  {
   "cell_type": "code",
   "execution_count": 1,
   "id": "liable-albert",
   "metadata": {},
   "outputs": [],
   "source": [
    "import numpy as np\n",
    "\n",
    "import pandas as pd\n",
    "\n",
    "import seaborn as sns\n",
    "sns.set()"
   ]
  },
  {
   "cell_type": "code",
   "execution_count": 39,
   "id": "upset-given",
   "metadata": {},
   "outputs": [
    {
     "data": {
      "text/plain": [
       "0    1\n",
       "1    4\n",
       "2    3\n",
       "3    2\n",
       "4    1\n",
       "dtype: int32"
      ]
     },
     "execution_count": 39,
     "metadata": {},
     "output_type": "execute_result"
    }
   ],
   "source": [
    "series_exemplo = pd.Series(np.random.randint(1, 6, size=20))\n",
    "series_exemplo.head(5)"
   ]
  },
  {
   "cell_type": "code",
   "execution_count": 28,
   "id": "burning-cedar",
   "metadata": {},
   "outputs": [
    {
     "data": {
      "text/plain": [
       "4    35.0\n",
       "5    25.0\n",
       "2    15.0\n",
       "3    15.0\n",
       "1    10.0\n",
       "dtype: float64"
      ]
     },
     "execution_count": 28,
     "metadata": {},
     "output_type": "execute_result"
    }
   ],
   "source": [
    "100*series_exemplo.value_counts()/len(series_exemplo)"
   ]
  },
  {
   "cell_type": "code",
   "execution_count": 29,
   "id": "temporal-kidney",
   "metadata": {},
   "outputs": [
    {
     "data": {
      "text/plain": [
       "4    35.0\n",
       "5    25.0\n",
       "2    15.0\n",
       "3    15.0\n",
       "1    10.0\n",
       "dtype: float64"
      ]
     },
     "execution_count": 29,
     "metadata": {},
     "output_type": "execute_result"
    }
   ],
   "source": [
    "100*series_exemplo.value_counts()/series_exemplo.shape[0]"
   ]
  },
  {
   "cell_type": "code",
   "execution_count": 32,
   "id": "closed-anaheim",
   "metadata": {},
   "outputs": [
    {
     "data": {
      "text/plain": [
       "4    35.0\n",
       "5    25.0\n",
       "2    15.0\n",
       "3    15.0\n",
       "1    10.0\n",
       "dtype: float64"
      ]
     },
     "execution_count": 32,
     "metadata": {},
     "output_type": "execute_result"
    }
   ],
   "source": [
    "100*series_exemplo.value_counts(normalize=True)"
   ]
  },
  {
   "cell_type": "code",
   "execution_count": 37,
   "id": "legitimate-second",
   "metadata": {},
   "outputs": [
    {
     "data": {
      "image/png": "[encoded data removed]",
      "text/plain": [
       "<Figure size 432x288 with 1 Axes>"
      ]
     },
     "metadata": {},
     "output_type": "display_data"
    }
   ],
   "source": [
    "(100*series_exemplo.value_counts(normalize=True)).plot(kind='bar', title='Percentuais');"
   ]
  },
  {
   "cell_type": "code",
   "execution_count": null,
   "id": "alleged-validity",
   "metadata": {},
   "outputs": [],
   "source": []
  }
 ],
 "metadata": {
  "kernelspec": {
   "display_name": "Python 3",
   "language": "python",
   "name": "python3"
  },
  "language_info": {
   "codemirror_mode": {
    "name": "ipython",
    "version": 3
   },
   "file_extension": ".py",
   "mimetype": "text/x-python",
   "name": "python",
   "nbconvert_exporter": "python",
   "pygments_lexer": "ipython3",
   "version": "3.8.7"
  }
 },
 "nbformat": 4,
 "nbformat_minor": 5
}
