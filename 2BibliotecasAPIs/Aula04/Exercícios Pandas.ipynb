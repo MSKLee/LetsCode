{
 "cells": [
  {
   "cell_type": "markdown",
   "metadata": {},
   "source": [
    "# Questão #1\n",
    "\n",
    "Enunciado\n",
    "\n",
    "Crie uma Series com os índices registrados pelo TIOBE Index para as top 10 linguagens de programação. Os índices da Series devem ser os nomes das linguagens, e os valores devem ser as taxas de popularidade de cada respectiva linguagem de programação. Em seguida, utilize os métodos da Series para:\n",
    "\n",
    "    Exibir os cinco primeiros valores da Series\n",
    "    Exibir os cinco últimos valores da Series\n",
    "\n"
   ]
  },
  {
   "cell_type": "code",
   "execution_count": 16,
   "metadata": {},
   "outputs": [
    {
     "name": "stdout",
     "output_type": "stream",
     "text": [
      "12.57%               C\n",
      "11.86%          Python\n",
      "10.43%            Java\n",
      "7.36%              C++\n",
      "5.14%               C#\n",
      "4.67%     Visual Basic\n",
      "2.95%       JavaScript\n",
      "2.19%              PHP\n",
      "2.03%         Assembly\n",
      "1.47%              SQL\n",
      "1.36%           Groovy\n",
      "dtype: object\n",
      "12.57%         C\n",
      "11.86%    Python\n",
      "10.43%      Java\n",
      "7.36%        C++\n",
      "5.14%         C#\n",
      "dtype: object\n",
      "4.67%    Visual Basic\n",
      "2.95%      JavaScript\n",
      "2.19%             PHP\n",
      "2.03%        Assembly\n",
      "1.47%             SQL\n",
      "1.36%          Groovy\n",
      "dtype: object\n"
     ]
    }
   ],
   "source": [
    "import pandas as pd\n",
    "\n",
    "linguagem = ['C', 'Python', 'Java', 'C++', 'C#', 'Visual Basic', 'JavaScript', 'PHP', 'Assembly', 'SQL', 'Groovy']\n",
    "\n",
    "pop = ['12.57%', '11.86%', '10.43%', '7.36%', '5.14%', '4.67%', '2.95%', '2.19%', '2.03%', '1.47%', '1.36%']\n",
    "\n",
    "linguagem_pop = pd.Series(data = linguagem, index = pop)\n",
    "\n",
    "print(linguagem_pop)\n",
    "print(linguagem_pop[:5])\n",
    "print(linguagem_pop[5:])"
   ]
  },
  {
   "cell_type": "code",
   "execution_count": 9,
   "metadata": {},
   "outputs": [
    {
     "data": {
      "text/plain": [
       "[    Aug 2021  Aug 2020  Change  Programming Language Programming Language.1  \\\n",
       " 0          1         1     NaN                   NaN                      C   \n",
       " 1          2         3     NaN                   NaN                 Python   \n",
       " 2          3         2     NaN                   NaN                   Java   \n",
       " 3          4         4     NaN                   NaN                    C++   \n",
       " 4          5         5     NaN                   NaN                     C#   \n",
       " 5          6         6     NaN                   NaN           Visual Basic   \n",
       " 6          7         7     NaN                   NaN             JavaScript   \n",
       " 7          8         9     NaN                   NaN                    PHP   \n",
       " 8          9        14     NaN                   NaN      Assembly language   \n",
       " 9         10        10     NaN                   NaN                    SQL   \n",
       " 10        11        18     NaN                   NaN                 Groovy   \n",
       " 11        12        17     NaN                   NaN   Classic Visual Basic   \n",
       " 12        13        42     NaN                   NaN                Fortran   \n",
       " 13        14         8     NaN                   NaN                      R   \n",
       " 14        15        15     NaN                   NaN                   Ruby   \n",
       " 15        16        12     NaN                   NaN                  Swift   \n",
       " 16        17        16     NaN                   NaN                 MATLAB   \n",
       " 17        18        11     NaN                   NaN                     Go   \n",
       " 18        19        36     NaN                   NaN                 Prolog   \n",
       " 19        20        13     NaN                   NaN                   Perl   \n",
       " \n",
       "    Ratings Change.1  \n",
       " 0   12.57%   -4.41%  \n",
       " 1   11.86%   +2.17%  \n",
       " 2   10.43%   -4.00%  \n",
       " 3    7.36%   +0.52%  \n",
       " 4    5.14%   +0.46%  \n",
       " 5    4.67%   +0.01%  \n",
       " 6    2.95%   +0.07%  \n",
       " 7    2.19%   -0.05%  \n",
       " 8    2.03%   +0.99%  \n",
       " 9    1.47%   +0.02%  \n",
       " 10   1.36%   +0.59%  \n",
       " 11   1.23%   +0.41%  \n",
       " 12   1.14%   +0.83%  \n",
       " 13   1.05%   -1.75%  \n",
       " 14   1.01%   -0.03%  \n",
       " 15   0.98%   -0.44%  \n",
       " 16   0.98%   +0.11%  \n",
       " 17   0.90%   -0.52%  \n",
       " 18   0.80%   +0.41%  \n",
       " 19   0.78%   -0.33%  ,\n",
       "     Position  Programming Language Ratings\n",
       " 0         21                   SAS   0.67%\n",
       " 1         22  Delphi/Object Pascal   0.62%\n",
       " 2         23           Objective-C   0.61%\n",
       " 3         24                  Rust   0.56%\n",
       " 4         25               Scratch   0.55%\n",
       " 5         26                 Julia   0.51%\n",
       " 6         27                   Ada   0.49%\n",
       " 7         28                  Lisp   0.47%\n",
       " 8         29                  Dart   0.45%\n",
       " 9         30                PL/SQL   0.43%\n",
       " 10        31       (Visual) FoxPro   0.42%\n",
       " 11        32                 Scala   0.42%\n",
       " 12        33                  ABAP   0.41%\n",
       " 13        34                 COBOL   0.37%\n",
       " 14        35                  Logo   0.31%\n",
       " 15        36                    F#   0.30%\n",
       " 16        37                Kotlin   0.30%\n",
       " 17        38          Transact-SQL   0.27%\n",
       " 18        39                   Lua   0.26%\n",
       " 19        40                Scheme   0.24%\n",
       " 20        41          Ladder Logic   0.24%\n",
       " 21        42              VBScript   0.23%\n",
       " 22        43                     D   0.23%\n",
       " 23        44               Clojure   0.22%\n",
       " 24        45               LabVIEW   0.22%\n",
       " 25        46                   Nim   0.22%\n",
       " 26        47                  VHDL   0.21%\n",
       " 27        48                  Apex   0.21%\n",
       " 28        49            TypeScript   0.21%\n",
       " 29        50                  Bash   0.18%,\n",
       "    Programming Language 2021 2016 2011 2006 2001 1996 1991 1986\n",
       " 0                     C    1    2    2    2    1    1    1    1\n",
       " 1                  Java    2    1    1    1    3   18    -    -\n",
       " 2                Python    3    5    6    8   26   24    -    -\n",
       " 3                   C++    4    3    3    3    2    2    2    6\n",
       " 4                    C#    5    4    5    7   13    -    -    -\n",
       " 5          Visual Basic    6   13    -    -    -    -    -    -\n",
       " 6            JavaScript    7    7   10    9    9   22    -    -\n",
       " 7                   PHP    8    6    4    4   10    -    -    -\n",
       " 8                   SQL    9    -    -    -   37    -    -    -\n",
       " 9     Assembly language   10   11    -    -    -    -    -    -\n",
       " 10                  Ada   31   27   17   17   18    8    5    2\n",
       " 11                 Lisp   34   28   13   13   16    7    8    3\n",
       " 12       (Visual) Basic    -    -    7    5    4    3    3    5,\n",
       "     Year        Winner\n",
       " 0   2020        Python\n",
       " 1   2019             C\n",
       " 2   2018        Python\n",
       " 3   2017             C\n",
       " 4   2016            Go\n",
       " 5   2015          Java\n",
       " 6   2014    JavaScript\n",
       " 7   2013  Transact-SQL\n",
       " 8   2012   Objective-C\n",
       " 9   2011   Objective-C\n",
       " 10  2010        Python\n",
       " 11  2009            Go\n",
       " 12  2008             C\n",
       " 13  2007        Python\n",
       " 14  2006          Ruby\n",
       " 15  2005          Java\n",
       " 16  2004           PHP\n",
       " 17  2003           C++]"
      ]
     },
     "execution_count": 9,
     "metadata": {},
     "output_type": "execute_result"
    }
   ],
   "source": [
    "linguagem_pop"
   ]
  },
  {
   "cell_type": "markdown",
   "metadata": {},
   "source": [
    "https://www.tiobe.com/tiobe-index/"
   ]
  },
  {
   "cell_type": "markdown",
   "metadata": {},
   "source": [
    "# Questão #2\n",
    "\n",
    "Enunciado\n",
    "\n",
    "Crie uma Series com os 11 primeiros termos da sequência de Fibonacci. Utilize letras (em ordem alfabética) como os índices da Series. Em seguida, obtenha apenas aqueles elementos que forem superiores a 10 e inferiores a 50.\n",
    "\n",
    "    Sequência de Fibonacci: 0, 1, 1, 2, 3, 5, 8, 13, 21, 34, 55...\n",
    "\n"
   ]
  },
  {
   "cell_type": "code",
   "execution_count": 25,
   "metadata": {},
   "outputs": [
    {
     "data": {
      "text/plain": [
       "h    13\n",
       "i    21\n",
       "j    34\n",
       "dtype: int64"
      ]
     },
     "execution_count": 25,
     "metadata": {},
     "output_type": "execute_result"
    }
   ],
   "source": [
    "import pandas as pd\n",
    "\n",
    "def fib(n):\n",
    "    if n == 0:\n",
    "        return [0]\n",
    "    elif n == 1:\n",
    "        return [0, 1]\n",
    "    else:\n",
    "        lst = fib(n-1)\n",
    "        lst.append(lst[-1] + lst[-2])\n",
    "        return lst\n",
    "\n",
    "fibon11 = fib(10)\n",
    "\n",
    "import string\n",
    "alfa = list(string.ascii_lowercase[:len(fibon11)])\n",
    "\n",
    "serie = pd.Series(data = fibon11, index = alfa)\n",
    "\n",
    "\n",
    "serie[(serie > 10) & (serie < 50)]"
   ]
  },
  {
   "cell_type": "markdown",
   "metadata": {},
   "source": [
    "# Questão #3\n",
    "\n",
    "Enunciado\n",
    "\n",
    "Crie um programa para calcular a média e o desvio padrão de uma series. Observe o exemplo abaixo:\n",
    "\n",
    "Series\n",
    "\n",
    "0 1   \n",
    "1 2   \n",
    "2 3   \n",
    "3 4   \n",
    "4 5   \n",
    "5 6   \n",
    "6 7   \n",
    "7 8   \n",
    "8 9   \n",
    "9 5   \n",
    "10 3   \n",
    "dtype: int64   \n",
    "\n",
    "Saída  \n",
    "\n",
    "Média: 4.818181818181818   \n",
    "Desvio Padrão: 2.522624895547565  "
   ]
  },
  {
   "cell_type": "code",
   "execution_count": 35,
   "metadata": {},
   "outputs": [
    {
     "name": "stdout",
     "output_type": "stream",
     "text": [
      "Média: 4.818181818181818\n",
      "Desvio Padrão: 2.522624895547565\n"
     ]
    }
   ],
   "source": [
    "import pandas as pd\n",
    "\n",
    "lista3 = [1, 2, 3, 4, 5, 6, 7, 8, 9, 5, 3]\n",
    "serie3 = pd.Series(data = lista3)\n",
    "\n",
    "print('Média:', serie3.mean())\n",
    "print('Desvio Padrão:', serie3.std())"
   ]
  },
  {
   "cell_type": "markdown",
   "metadata": {},
   "source": [
    "# Questão #4\n",
    "\n",
    "Enunciado\n",
    "\n",
    "Crie um array com 20 números aleatórios inteiros entre 1 e 5. Em seguida, calcule a frequência (percentual) de cada valor específico da Series."
   ]
  },
  {
   "cell_type": "code",
   "execution_count": 39,
   "metadata": {},
   "outputs": [
    {
     "data": {
      "text/plain": [
       "1    8\n",
       "2    5\n",
       "4    4\n",
       "5    3\n",
       "dtype: int64"
      ]
     },
     "execution_count": 39,
     "metadata": {},
     "output_type": "execute_result"
    }
   ],
   "source": [
    "import numpy as np\n",
    "import pandas as pd\n",
    "\n",
    "array4 = np.random.randint(1, 6, 20)\n",
    "\n",
    "serie4 = pd.Series(data = array4)\n",
    "serie4.value_counts()"
   ]
  },
  {
   "cell_type": "code",
   "execution_count": 51,
   "metadata": {},
   "outputs": [
    {
     "data": {
      "text/plain": [
       "0    1\n",
       "1    1\n",
       "2    1\n",
       "3    4\n",
       "4    2\n",
       "dtype: int64"
      ]
     },
     "execution_count": 51,
     "metadata": {},
     "output_type": "execute_result"
    }
   ],
   "source": [
    "serie4.head()"
   ]
  },
  {
   "cell_type": "code",
   "execution_count": 53,
   "metadata": {},
   "outputs": [
    {
     "data": {
      "text/plain": [
       "15    4\n",
       "16    4\n",
       "17    5\n",
       "18    5\n",
       "19    4\n",
       "dtype: int64"
      ]
     },
     "execution_count": 53,
     "metadata": {},
     "output_type": "execute_result"
    }
   ],
   "source": [
    "serie4.tail()"
   ]
  },
  {
   "cell_type": "code",
   "execution_count": 40,
   "metadata": {},
   "outputs": [
    {
     "data": {
      "text/plain": [
       "1    40.0\n",
       "2    25.0\n",
       "4    20.0\n",
       "5    15.0\n",
       "dtype: float64"
      ]
     },
     "execution_count": 40,
     "metadata": {},
     "output_type": "execute_result"
    }
   ],
   "source": [
    "100*serie4.value_counts()/len(serie4)"
   ]
  },
  {
   "cell_type": "code",
   "execution_count": 41,
   "metadata": {},
   "outputs": [
    {
     "data": {
      "text/plain": [
       "1    40.0\n",
       "2    25.0\n",
       "4    20.0\n",
       "5    15.0\n",
       "dtype: float64"
      ]
     },
     "execution_count": 41,
     "metadata": {},
     "output_type": "execute_result"
    }
   ],
   "source": [
    "100*serie4.value_counts()/serie4.shape"
   ]
  },
  {
   "cell_type": "code",
   "execution_count": 42,
   "metadata": {},
   "outputs": [
    {
     "data": {
      "text/plain": [
       "1    40.0\n",
       "2    25.0\n",
       "4    20.0\n",
       "5    15.0\n",
       "dtype: float64"
      ]
     },
     "execution_count": 42,
     "metadata": {},
     "output_type": "execute_result"
    }
   ],
   "source": [
    "100*serie4.value_counts(normalize = True)"
   ]
  },
  {
   "cell_type": "markdown",
   "metadata": {},
   "source": [
    "# Questão #5\n",
    "\n",
    "Enunciado\n",
    "\n",
    "Crie um programa para mostrar qual é o valor mais frequente de uma series e, em seguida, substitua todos os demais valores dela por \"Outro valor\"."
   ]
  },
  {
   "cell_type": "code",
   "execution_count": 73,
   "metadata": {},
   "outputs": [
    {
     "data": {
      "text/plain": [
       "0     Outro valor\n",
       "1     Outro valor\n",
       "2     Outro valor\n",
       "3     Outro valor\n",
       "4               5\n",
       "5     Outro valor\n",
       "6     Outro valor\n",
       "7     Outro valor\n",
       "8     Outro valor\n",
       "9               5\n",
       "10    Outro valor\n",
       "11              5\n",
       "dtype: object"
      ]
     },
     "execution_count": 73,
     "metadata": {},
     "output_type": "execute_result"
    }
   ],
   "source": [
    "import pandas as pd\n",
    "\n",
    "lista5 = [1, 2, 3, 4, 5, 6, 7, 8, 9, 5, 3, 5]\n",
    "\n",
    "serie5 = pd.Series(data = lista5)\n",
    "\n",
    "m = int(serie5.mode())\n",
    "\n",
    "serie5[serie5 != m] = 'Outro valor'\n",
    "\n",
    "serie5"
   ]
  },
  {
   "cell_type": "code",
   "execution_count": 75,
   "metadata": {},
   "outputs": [
    {
     "data": {
      "text/plain": [
       "0     Outro valor\n",
       "1     Outro valor\n",
       "2               3\n",
       "3     Outro valor\n",
       "4               5\n",
       "5     Outro valor\n",
       "6     Outro valor\n",
       "7     Outro valor\n",
       "8     Outro valor\n",
       "9               5\n",
       "10              3\n",
       "11              5\n",
       "12              3\n",
       "dtype: object"
      ]
     },
     "execution_count": 75,
     "metadata": {},
     "output_type": "execute_result"
    }
   ],
   "source": [
    "import pandas as pd\n",
    "\n",
    "lista5 = [1, 2, 3, 4, 5, 6, 7, 8, 9, 5, 3, 5, 3]\n",
    "\n",
    "serie5 = pd.Series(data = lista5)\n",
    "\n",
    "m = serie5.mode()\n",
    "\n",
    "serie5[~ serie5.isin(m)] = 'Outro valor'\n",
    "\n",
    "serie5"
   ]
  },
  {
   "cell_type": "markdown",
   "metadata": {},
   "source": [
    "# Questão #6\n",
    "\n",
    "Enunciado\n",
    "\n",
    "Crie um array com números entre 1 e 10, com passo 1. Em seguida, embaralhe esses números utilizando o método shuffle do Numpy. Crie uma lista com o fatorial desses números, nessa nova ordem (após o embaralhamento). Por fim, crie uma Series cujo os valores são os fatoriais (embaralhados) e os índices são os números associados ao fatorial.\n",
    "\n",
    "Exemplo de saída\n",
    "\n",
    "3           6  \n",
    "5         120  \n",
    "1           1  \n",
    "9      362880  \n",
    "4          24  \n",
    "7        5040  \n",
    "10    3628800  \n",
    "2           2  \n",
    "6         720  \n",
    "8       40320  \n",
    "dtype: int64"
   ]
  },
  {
   "cell_type": "code",
   "execution_count": 67,
   "metadata": {
    "scrolled": true
   },
   "outputs": [
    {
     "data": {
      "text/plain": [
       "10    3628800\n",
       "4          24\n",
       "2           2\n",
       "7        5040\n",
       "6         720\n",
       "3           6\n",
       "8       40320\n",
       "5         120\n",
       "9      362880\n",
       "1           1\n",
       "dtype: int64"
      ]
     },
     "execution_count": 67,
     "metadata": {},
     "output_type": "execute_result"
    }
   ],
   "source": [
    "import pandas as pd\n",
    "import numpy as np\n",
    "\n",
    "array6 = np.arange(1, 11)\n",
    "np.random.shuffle(array6)\n",
    "\n",
    "def factorial(array):\n",
    "    lista = []\n",
    "    for elemento in array:\n",
    "        fact = 1\n",
    "        for num in range(1, elemento+1):\n",
    "            fact = fact * num\n",
    "        lista.append(fact)\n",
    "    return lista\n",
    "\n",
    "lista_fat = np.apply_along_axis(factorial, 0, array6).tolist()\n",
    "\n",
    "serie6 = pd.Series(data = lista_fat, index = array6)\n",
    "\n",
    "serie6"
   ]
  },
  {
   "cell_type": "code",
   "execution_count": 65,
   "metadata": {},
   "outputs": [
    {
     "name": "stdout",
     "output_type": "stream",
     "text": [
      "[6, 6, 720, 1, 40320, 6, 362880, 2, 5040, 3628800]\n"
     ]
    }
   ],
   "source": [
    "def factorial(array):\n",
    "    lista = []\n",
    "    for elemento in array:\n",
    "        fact = 1\n",
    "        for num in range(1, elemento+1):\n",
    "            fact = fact * num\n",
    "        lista.append(fact)\n",
    "    return lista\n",
    "        \n",
    "numeros = [3, 3, 6, 1, 8, 3, 9, 2, 7, 10]\n",
    "\n",
    "print(factorial(numeros))"
   ]
  },
  {
   "cell_type": "code",
   "execution_count": 63,
   "metadata": {},
   "outputs": [
    {
     "name": "stdout",
     "output_type": "stream",
     "text": [
      "Factorial of 3 is 6\n",
      "Factorial of 3 is 6\n",
      "Factorial of 6 is 720\n",
      "Factorial of 1 is 1\n",
      "Factorial of 8 is 40320\n",
      "Factorial of 3 is 6\n",
      "Factorial of 9 is 362880\n",
      "Factorial of 2 is 2\n",
      "Factorial of 7 is 5040\n",
      "Factorial of 10 is 3628800\n"
     ]
    }
   ],
   "source": [
    "numeros = [3, 3, 6, 1, 8, 3, 9, 2, 7, 10]\n",
    "for item in numeros:\n",
    "    fact = 1\n",
    "    for number in range(1,item+1):\n",
    "        fact = fact * number\n",
    "    print (\"Factorial of\", number, \"is\", fact)"
   ]
  },
  {
   "cell_type": "markdown",
   "metadata": {},
   "source": [
    "# Questão #1\n",
    "\n",
    "Enunciado\n",
    "\n",
    "Em um concurso público foram contabilizados os números de pessoas inscritas (até a data inicialmente estabelecida para a inscrição) segundo os níveis de escolaridade: fundamental completo, médio completo, superior completo e pós-graduação completa. Segue abaixo a tabela com os valores observados.  \n",
    "Nível de escolaridade \tInscritos  \n",
    "Fundamental completo \t451  \n",
    "Médio completo \t627  \n",
    "Superior completo \t292  \n",
    "Pós-graduação completa \t95  \n",
    "\n",
    "Com base na tabela acima, crie uma Series com esses valores e calcule:\n",
    "\n",
    "(a) O número total de inscritos  \n",
    "(b) Número inscritos que possuem, pelo menos, o superior completo.  \n",
    "(c) Suponha que a inscrição foi prorrogada e, com isso, foi obtido um número adicional de inscrições: 68, 93, 22 e 0 inscritos a mais em cada uma das categorias de escolaridade apresentados na tabela acima (na mesma ordem). Assim, crie uma nova Series com esses valores.  \n",
    "(d) Utilizando as duas Series que você tem, calcule o número total de inscritos após a prorrogação do período de inscrições.\n"
   ]
  },
  {
   "cell_type": "code",
   "execution_count": 15,
   "metadata": {},
   "outputs": [
    {
     "name": "stdout",
     "output_type": "stream",
     "text": [
      "O número total de inscritos é: 1465\n",
      "Número inscritos que possuem, pelo menos, o superior completo é: 387\n",
      "Utilizando as duas Series, o número total de inscritos após a prorrogação do período de inscrições é: 1648\n"
     ]
    }
   ],
   "source": [
    "import pandas as pd\n",
    "\n",
    "labels1 = ['Fundamental completo', 'Médio completo', 'Superior completo', 'Pós-graduação completa']\n",
    "\n",
    "qtd1 = [451, 627, 292, 95]\n",
    "novos1 = [68, 93, 22, 0]\n",
    "\n",
    "serie1 = pd.Series(data = qtd1, index = labels1)\n",
    "serie_novos1 = pd.Series(data = novos1, index = labels1)\n",
    "serie_atual1 = serie1 + serie_novos1\n",
    "\n",
    "\n",
    "print('O número total de inscritos é:', serie1.sum())\n",
    "print('Número inscritos que possuem, pelo menos, o superior completo é:', serie1[2:].sum())\n",
    "print('Utilizando as duas Series, o número total de inscritos após a prorrogação do período de inscrições é:' , serie_atual1.sum())"
   ]
  },
  {
   "cell_type": "markdown",
   "metadata": {},
   "source": [
    "# Questão #2\n",
    "\n",
    "Enunciado\n",
    "\n",
    "Uma turma de cinco alunos foi submetida a uma avaliação e a nota de cada um dos alunos é apresentada na tabela abaixo:  \n",
    "Nome do Aluno \tNota  \n",
    "Wilfred \t2  \n",
    "Abbie \t7  \n",
    "Harry \t5.5  \n",
    "Julia \t10  \n",
    "Carrie \t6.2  \n",
    "\n",
    "(a) Crie uma Series com os valores da tabela acima.  \n",
    "(b) Retorne o número de alunos que foram aprovados (considerando que a nota mínima para a aprovação é 7).  \n",
    "(c) Qual foi a nota média da turma.  \n",
    "(d) Obtenha o nome dos alunos que tiraram notas acima da média da turma.  "
   ]
  },
  {
   "cell_type": "code",
   "execution_count": 74,
   "metadata": {},
   "outputs": [
    {
     "name": "stdout",
     "output_type": "stream",
     "text": [
      "O número de alunos que foram aprovados é: 2\n",
      "A nota média da turma foi: 6.14\n",
      "o nome dos alunos que tiraram notas acima da média da turma é ['Abble', 'Julia', 'Carrie']\n"
     ]
    }
   ],
   "source": [
    "import pandas as pd\n",
    "\n",
    "nomes2 = ['Wilfred', 'Abble', 'Harry', 'Julia', 'Carrie']\n",
    "\n",
    "nota2 = [2, 7, 5.5, 10, 6.2]\n",
    "\n",
    "\n",
    "serie2 = pd.Series(data = nota2, index = nomes2)\n",
    "serie_media2 = serie2[serie2 > int(serie2.mean())]\n",
    "\n",
    "\n",
    "print('O número de alunos que foram aprovados é:', serie2[serie2 >= 7].count())\n",
    "print('A nota média da turma foi:', serie2.mean())\n",
    "print('o nome dos alunos que tiraram notas acima da média da turma é', serie_media2.index.tolist())"
   ]
  },
  {
   "cell_type": "markdown",
   "metadata": {},
   "source": [
    "# Questão #3\n",
    "\n",
    "Enunciado\n",
    "\n",
    "Crie um objeto DataFrame que contenha os dados da tabela abaixo, os quais se referem ao peso, altura e idade de cinco pessoas:\n",
    "Peso (kg) \tAltura (cm) \tIdade\n",
    "72 \t180 \t31\n",
    "80 \t170 \t21\n",
    "60 \t175 \t16\n",
    "90 \t174 \t28\n",
    "100 \t185 \t23\n",
    "\n",
    "Com base no DataFrame criado, realize o que pedido nos itens abaixo:\n",
    "\n",
    "(a) Visualize apenas os dados da coluna que contém a altura das pessoas.\n",
    "(b) Obtenha a idade média das pessoas.\n",
    "(c) Obtenha os dados das pessoas que estão abaixo da altura média.\n",
    "(d) Crie um nova coluna no DataFrame que contenha o IMC (Índice de Massa Corporal) de cada pessoa.\n",
    "(e) Remova a coluna que contém a idade das pessoas.\n",
    "(f) Salve esses dados do DataFrame em um arquivo csv.\n"
   ]
  },
  {
   "cell_type": "code",
   "execution_count": null,
   "metadata": {},
   "outputs": [],
   "source": []
  },
  {
   "cell_type": "markdown",
   "metadata": {},
   "source": [
    "# Questão #4\n",
    "\n",
    "Enunciado\n",
    "\n",
    "Carregue, em um objeto DataFrame, o arquivo CSV que você salvou no item (f) da questão anterior. Em seguida,\n",
    "\n",
    "(a) Crie uma nova coluna que contenha o nome das pessoas (sinta-se à vontade para atribuir os nomes que preferir).\n",
    "(b) Defina a nova coluna criada (com os nomes) como o índice (index) do seu DataFrame.\n",
    "(c) Obtenha o nome das pessoas que são classificadas com Sobrepeso (IMC entre 25 e 29,9).\n"
   ]
  },
  {
   "cell_type": "code",
   "execution_count": null,
   "metadata": {},
   "outputs": [],
   "source": []
  },
  {
   "cell_type": "markdown",
   "metadata": {},
   "source": [
    "# Questão #5\n",
    "\n",
    "Enunciado\n",
    "\n",
    "Carregue, em um objeto DataFrame, o mesmo dataset que você salvou na Questão 3. Em seguida,\n",
    "\n",
    "(a) Adicione uma nova coluna nesse DF chamada Classificação, que contenha a classificação de cada indivíduo, de acordo com o seu IMC. Para isso, consulte a tabela abaixo.\n",
    "\n",
    "IMC \tClassificação \tObesidade (grau)  \n",
    "Menor que 18,5 \tMagreza \t0  \n",
    "Entre 18,5 e 24,9 \tNormal \t0  \n",
    "Entre 25,0 e 29,9 \tSobrepeso \tI  \n",
    "Entre 30,0 e 39,9 \tObesidade \tII  \n",
    "Maior que 40,0 \tObesidade Grave \tIII  \n",
    "\n",
    "(b) Salve em DataFrame no formato xlsx.\n"
   ]
  },
  {
   "cell_type": "code",
   "execution_count": null,
   "metadata": {},
   "outputs": [],
   "source": []
  },
  {
   "cell_type": "code",
   "execution_count": null,
   "metadata": {},
   "outputs": [],
   "source": []
  },
  {
   "cell_type": "code",
   "execution_count": null,
   "metadata": {},
   "outputs": [],
   "source": []
  },
  {
   "cell_type": "code",
   "execution_count": null,
   "metadata": {},
   "outputs": [],
   "source": []
  }
 ],
 "metadata": {
  "kernelspec": {
   "display_name": "Python 3",
   "language": "python",
   "name": "python3"
  },
  "language_info": {
   "codemirror_mode": {
    "name": "ipython",
    "version": 3
   },
   "file_extension": ".py",
   "mimetype": "text/x-python",
   "name": "python",
   "nbconvert_exporter": "python",
   "pygments_lexer": "ipython3",
   "version": "3.9.5"
  }
 },
 "nbformat": 4,
 "nbformat_minor": 4
}
