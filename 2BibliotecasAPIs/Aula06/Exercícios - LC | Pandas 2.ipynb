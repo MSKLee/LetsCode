{
 "cells": [
  {
   "cell_type": "markdown",
   "metadata": {},
   "source": [
    "# Questão #1\n",
    "\n",
    "Enunciado\n",
    "\n",
    "O arquivo avocado.csv consiste em um dataset que contém dados sobre vendas de abacates (avocado, em inglês) em diversas regiões dos Estados Unidos. Essa dataset contém as seguintes colunas:\n",
    "\n",
    "    Date - a data da observação\n",
    "    AveragePrice - o preço médio de um único abacate\n",
    "    year - o ano\n",
    "    region - a cidade ou região da observação\n",
    "    Total Volume - volume total de abacates vendidos\n",
    "\n",
    "Além das informações acima, contidas no arquivo avocado.csv, o tipo do abacate (convencional ou orgânico) também seria uma informação importante para a sua análise. Suponhamos que você conseguiu essas informações para cada uma das observações do arquivo avocado.csv, na mesma ordem, e salvou-as no arquivo avocado_type.csv. Portanto, tudo o que você precisa é juntar esses dois arquivos em um mesmo DataFrame. E, em seguida, salve-o em um arquivo csv.\n",
    "\n",
    "PS. Caso queira criar uma Series com os dados aleatórios para o tipo de abacate, utilize o código abaixo:\n",
    "\n",
    "tipos = pd.Series(np.random.randint(0, 2, df_avocado.shape[0]))  \n",
    "tipos = tipos.map({0: 'convencional', 1:'orgânico'})"
   ]
  },
  {
   "cell_type": "code",
   "execution_count": 13,
   "metadata": {},
   "outputs": [
    {
     "name": "stdout",
     "output_type": "stream",
     "text": [
      "         Date  AveragePrice  Total Volume  year  region\n",
      "0  2015-12-27          1.33      64236.62  2015  Albany\n",
      "1  2015-12-20          1.35      54876.98  2015  Albany\n",
      "2  2015-12-13          0.93     118220.22  2015  Albany\n",
      "3  2015-12-06          1.08      78992.15  2015  Albany\n",
      "4  2015-11-29          1.28      51039.60  2015  Albany\n",
      "           type\n",
      "0  conventional\n",
      "1  conventional\n",
      "2  conventional\n",
      "3  conventional\n",
      "4  conventional\n"
     ]
    }
   ],
   "source": [
    "import pandas as pd\n",
    "\n",
    "df_avocado = pd.read_csv('avocado.csv')\n",
    "\n",
    "df_tipo = pd.read_csv('avocado_type.csv')\n",
    "\n",
    "print(df_avocado.head())\n",
    "print(df_tipo.head())\n",
    "\n",
    "df_avocado_tipo = pd.merge(df_avocado, df_tipo, left_index = True, right_index = True)\n",
    "\n",
    "df_avocado_tipo.to_csv('avocado_completo.csv')"
   ]
  },
  {
   "cell_type": "markdown",
   "metadata": {},
   "source": [
    "# Questão #2\n",
    "\n",
    "Enunciado\n",
    "\n",
    "Carregue o arquivo csv que você salvou na questão anterior e, em seguida, obtenha o que é solicitado nos itens elencados abaixo:\n",
    "\n",
    "(a) A quantidade de abacates do tipo convecional e do tipo orgânico.  \n",
    "(b) A quantidade de registros (linhas) de abacates vendidos para cada região.  \n",
    "(c) Para que todos os labels das colunas fiquem padronizados, renomeie aqueles que estão iniciando em letra minúscula para que iniciem em letra maiúscula.  \n",
    "(d) Uma vez que você já possui uma coluna com a data, remova a coluna que apresenta o ano.\n"
   ]
  },
  {
   "cell_type": "code",
   "execution_count": 1,
   "metadata": {
    "collapsed": true
   },
   "outputs": [
    {
     "name": "stdout",
     "output_type": "stream",
     "text": [
      "type\n",
      "conventional    1.508722e+10\n",
      "organic         4.361817e+08\n",
      "Name: Total Volume, dtype: float64\n",
      "region\n",
      "Albany                 338\n",
      "Atlanta                338\n",
      "BaltimoreWashington    338\n",
      "Boise                  338\n",
      "Boston                 338\n",
      "BuffaloRochester       338\n",
      "California             338\n",
      "Charlotte              338\n",
      "Chicago                338\n",
      "CincinnatiDayton       338\n",
      "Columbus               338\n",
      "DallasFtWorth          338\n",
      "Denver                 338\n",
      "Detroit                338\n",
      "GrandRapids            338\n",
      "GreatLakes             338\n",
      "HarrisburgScranton     338\n",
      "HartfordSpringfield    338\n",
      "Houston                338\n",
      "Indianapolis           338\n",
      "Jacksonville           338\n",
      "LasVegas               338\n",
      "LosAngeles             338\n",
      "Louisville             338\n",
      "MiamiFtLauderdale      338\n",
      "Midsouth               338\n",
      "Nashville              338\n",
      "NewOrleansMobile       338\n",
      "NewYork                338\n",
      "Northeast              338\n",
      "NorthernNewEngland     338\n",
      "Orlando                338\n",
      "Philadelphia           338\n",
      "PhoenixTucson          338\n",
      "Pittsburgh             338\n",
      "Plains                 338\n",
      "Portland               338\n",
      "RaleighGreensboro      338\n",
      "RichmondNorfolk        338\n",
      "Roanoke                338\n",
      "Sacramento             338\n",
      "SanDiego               338\n",
      "SanFrancisco           338\n",
      "Seattle                338\n",
      "SouthCarolina          338\n",
      "SouthCentral           338\n",
      "Southeast              338\n",
      "Spokane                338\n",
      "StLouis                338\n",
      "Syracuse               338\n",
      "Tampa                  338\n",
      "TotalUS                338\n",
      "West                   338\n",
      "WestTexNewMexico       335\n",
      "dtype: int64\n",
      "       Unnamed: 0        Date  Averageprice  Total volume            Region  \\\n",
      "0               0  2015-12-27          1.33      64236.62            Albany   \n",
      "1               1  2015-12-20          1.35      54876.98            Albany   \n",
      "2               2  2015-12-13          0.93     118220.22            Albany   \n",
      "3               3  2015-12-06          1.08      78992.15            Albany   \n",
      "4               4  2015-11-29          1.28      51039.60            Albany   \n",
      "...           ...         ...           ...           ...               ...   \n",
      "18244       18244  2018-02-04          1.63      17074.83  WestTexNewMexico   \n",
      "18245       18245  2018-01-28          1.71      13888.04  WestTexNewMexico   \n",
      "18246       18246  2018-01-21          1.87      13766.76  WestTexNewMexico   \n",
      "18247       18247  2018-01-14          1.93      16205.22  WestTexNewMexico   \n",
      "18248       18248  2018-01-07          1.62      17489.58  WestTexNewMexico   \n",
      "\n",
      "               Type  \n",
      "0      conventional  \n",
      "1      conventional  \n",
      "2      conventional  \n",
      "3      conventional  \n",
      "4      conventional  \n",
      "...             ...  \n",
      "18244       organic  \n",
      "18245       organic  \n",
      "18246       organic  \n",
      "18247       organic  \n",
      "18248       organic  \n",
      "\n",
      "[18249 rows x 6 columns]\n"
     ]
    }
   ],
   "source": [
    "import pandas as pd\n",
    "\n",
    "df2 = pd.read_csv('avocado_completo.csv')\n",
    "\n",
    "print(df2.groupby('type')['Total Volume'].sum())\n",
    "print(df2.groupby('region').size())\n",
    "\n",
    "df2_cap = df2.rename(columns = str.capitalize)\n",
    "\n",
    "df2_cap\n",
    "\n",
    "print(df2_cap.drop(['Year'], axis=1))"
   ]
  },
  {
   "cell_type": "markdown",
   "metadata": {},
   "source": [
    "# Questão #3\n",
    "\n",
    "Enunciado\n",
    "\n",
    "Carregue, em um objeto DataFrame, o mesmo dataset que você salvou na questão Q1, agrupe os dados do DF pelo tipo do abacate e, em seguida, obtenha:\n",
    "\n",
    "(a) A volume total de abacates vendidos para cada tipo.  \n",
    "(b) O preço médio dos abacates vendidos para cada tipo.\n"
   ]
  },
  {
   "cell_type": "code",
   "execution_count": 10,
   "metadata": {},
   "outputs": [
    {
     "name": "stdout",
     "output_type": "stream",
     "text": [
      "type\n",
      "conventional    1.508722e+10\n",
      "organic         4.361817e+08\n",
      "Name: Total Volume, dtype: float64\n",
      "type\n",
      "conventional    1.158040\n",
      "organic         1.653999\n",
      "Name: AveragePrice, dtype: float64\n"
     ]
    }
   ],
   "source": [
    "import pandas as pd\n",
    "\n",
    "df3 = pd.read_csv('avocado_completo.csv')\n",
    "\n",
    "print(df3.groupby('type')['Total Volume'].sum())\n",
    "print(df3.groupby('type')['AveragePrice'].mean())"
   ]
  },
  {
   "cell_type": "markdown",
   "metadata": {},
   "source": [
    "# Questão #4\n",
    "\n",
    "Enunciado\n",
    "\n",
    "O arquivo googleplaystore.csv é um dataset que contém diversas informações sobre aplicativos disponíveis para download na Google Play Store. Você deve utilizar esse dataset para fazer o mesmo que foi solicitado na questão anterior. Ou seja, carregue-o em um objeto DataFrame e verifique os dados contidos nas colunas desse DF. Logo após, verifique se existem dados duplicados e/ou ausentes nesse dataset.\n",
    "\n",
    "Caso existam dados duplicados, remova-os. Caso existam dados ausentes, você pode removê-los ou pensar em alguma maneira de preenchê-los."
   ]
  },
  {
   "cell_type": "code",
   "execution_count": 66,
   "metadata": {},
   "outputs": [
    {
     "name": "stdout",
     "output_type": "stream",
     "text": [
      "True\n"
     ]
    },
    {
     "name": "stderr",
     "output_type": "stream",
     "text": [
      "<ipython-input-66-b301592742f7>:9: SettingWithCopyWarning: \n",
      "A value is trying to be set on a copy of a slice from a DataFrame.\n",
      "Try using .loc[row_indexer,col_indexer] = value instead\n",
      "\n",
      "See the caveats in the documentation: https://pandas.pydata.org/pandas-docs/stable/user_guide/indexing.html#returning-a-view-versus-a-copy\n",
      "  df4_dp['Rating'] = df4_dp.fillna(df4_dp['Rating'].mean())\n",
      "<ipython-input-66-b301592742f7>:11: SettingWithCopyWarning: \n",
      "A value is trying to be set on a copy of a slice from a DataFrame.\n",
      "Try using .loc[row_indexer,col_indexer] = value instead\n",
      "\n",
      "See the caveats in the documentation: https://pandas.pydata.org/pandas-docs/stable/user_guide/indexing.html#returning-a-view-versus-a-copy\n",
      "  df4_dp['Current Ver'] = df4_dp.fillna('Varies with device')\n",
      "<ipython-input-66-b301592742f7>:13: SettingWithCopyWarning: \n",
      "A value is trying to be set on a copy of a slice from a DataFrame.\n",
      "Try using .loc[row_indexer,col_indexer] = value instead\n",
      "\n",
      "See the caveats in the documentation: https://pandas.pydata.org/pandas-docs/stable/user_guide/indexing.html#returning-a-view-versus-a-copy\n",
      "  df4_dp['Android Ver'] = df4_dp.fillna('Varies with device')\n",
      "<ipython-input-66-b301592742f7>:15: SettingWithCopyWarning: \n",
      "A value is trying to be set on a copy of a slice from a DataFrame.\n",
      "Try using .loc[row_indexer,col_indexer] = value instead\n",
      "\n",
      "See the caveats in the documentation: https://pandas.pydata.org/pandas-docs/stable/user_guide/indexing.html#returning-a-view-versus-a-copy\n",
      "  df4_dp['Type'] = df4_dp.fillna(0)\n",
      "<ipython-input-66-b301592742f7>:17: SettingWithCopyWarning: \n",
      "A value is trying to be set on a copy of a slice from a DataFrame.\n",
      "Try using .loc[row_indexer,col_indexer] = value instead\n",
      "\n",
      "See the caveats in the documentation: https://pandas.pydata.org/pandas-docs/stable/user_guide/indexing.html#returning-a-view-versus-a-copy\n",
      "  df4_dp['Content Rating'] = df4_dp.fillna('Everyone')\n"
     ]
    },
    {
     "data": {
      "text/html": [
       "<div>\n",
       "<style scoped>\n",
       "    .dataframe tbody tr th:only-of-type {\n",
       "        vertical-align: middle;\n",
       "    }\n",
       "\n",
       "    .dataframe tbody tr th {\n",
       "        vertical-align: top;\n",
       "    }\n",
       "\n",
       "    .dataframe thead th {\n",
       "        text-align: right;\n",
       "    }\n",
       "</style>\n",
       "<table border=\"1\" class=\"dataframe\">\n",
       "  <thead>\n",
       "    <tr style=\"text-align: right;\">\n",
       "      <th></th>\n",
       "      <th>App</th>\n",
       "      <th>Category</th>\n",
       "      <th>Rating</th>\n",
       "      <th>Reviews</th>\n",
       "      <th>Size</th>\n",
       "      <th>Installs</th>\n",
       "      <th>Type</th>\n",
       "      <th>Price</th>\n",
       "      <th>Content Rating</th>\n",
       "      <th>Genres</th>\n",
       "      <th>Last Updated</th>\n",
       "      <th>Current Ver</th>\n",
       "      <th>Android Ver</th>\n",
       "    </tr>\n",
       "  </thead>\n",
       "  <tbody>\n",
       "  </tbody>\n",
       "</table>\n",
       "</div>"
      ],
      "text/plain": [
       "Empty DataFrame\n",
       "Columns: [App, Category, Rating, Reviews, Size, Installs, Type, Price, Content Rating, Genres, Last Updated, Current Ver, Android Ver]\n",
       "Index: []"
      ]
     },
     "execution_count": 66,
     "metadata": {},
     "output_type": "execute_result"
    }
   ],
   "source": [
    "import pandas as pd\n",
    "\n",
    "df4 = pd.read_csv('googleplaystore.csv')\n",
    "\n",
    "print(df4.duplicated().any())\n",
    "df4_dp = df4.drop_duplicates()\n",
    "\n",
    "\n",
    "df4_dp['Rating'] = df4_dp.fillna(df4_dp['Rating'].mean())\n",
    "\n",
    "df4_dp['Current Ver'] = df4_dp.fillna('Varies with device')\n",
    "\n",
    "df4_dp['Android Ver'] = df4_dp.fillna('Varies with device')\n",
    "\n",
    "df4_dp['Type'] = df4_dp.fillna(0)\n",
    "\n",
    "df4_dp['Content Rating'] = df4_dp.fillna('Everyone')\n",
    "\n",
    "df4_dp[df4_dp.isna().any(axis=1)]"
   ]
  },
  {
   "cell_type": "markdown",
   "metadata": {},
   "source": [
    "# Questão #5\n",
    "\n",
    "Enunciado\n",
    "\n",
    "O arquivo houses_to_rent.csv consiste em um dataset que contém dados sobre casas para alugar no Brasil. Carregue-o em um objeto DataFrame e verifique os dados contidos nas colunas desse DF (você pode utilizar os métodos head, tail e info). Logo após, verifique se existem dados duplicados e/ou ausentes nesse dataset.\n",
    "\n",
    "Caso existam dados duplicados, remova-os. Caso existam dados ausentes, você pode removê-los ou pensar em alguma maneira de preenchê-los."
   ]
  },
  {
   "cell_type": "code",
   "execution_count": 68,
   "metadata": {},
   "outputs": [
    {
     "name": "stdout",
     "output_type": "stream",
     "text": [
      "True\n"
     ]
    },
    {
     "data": {
      "text/html": [
       "<div>\n",
       "<style scoped>\n",
       "    .dataframe tbody tr th:only-of-type {\n",
       "        vertical-align: middle;\n",
       "    }\n",
       "\n",
       "    .dataframe tbody tr th {\n",
       "        vertical-align: top;\n",
       "    }\n",
       "\n",
       "    .dataframe thead th {\n",
       "        text-align: right;\n",
       "    }\n",
       "</style>\n",
       "<table border=\"1\" class=\"dataframe\">\n",
       "  <thead>\n",
       "    <tr style=\"text-align: right;\">\n",
       "      <th></th>\n",
       "      <th>city</th>\n",
       "      <th>area</th>\n",
       "      <th>rooms</th>\n",
       "      <th>bathroom</th>\n",
       "      <th>parking spaces</th>\n",
       "      <th>floor</th>\n",
       "      <th>animal</th>\n",
       "      <th>furniture</th>\n",
       "      <th>hoa (R$)</th>\n",
       "      <th>rent amount (R$)</th>\n",
       "      <th>property tax (R$)</th>\n",
       "      <th>fire insurance (R$)</th>\n",
       "      <th>total (R$)</th>\n",
       "    </tr>\n",
       "  </thead>\n",
       "  <tbody>\n",
       "  </tbody>\n",
       "</table>\n",
       "</div>"
      ],
      "text/plain": [
       "Empty DataFrame\n",
       "Columns: [city, area, rooms, bathroom, parking spaces, floor, animal, furniture, hoa (R$), rent amount (R$), property tax (R$), fire insurance (R$), total (R$)]\n",
       "Index: []"
      ]
     },
     "execution_count": 68,
     "metadata": {},
     "output_type": "execute_result"
    }
   ],
   "source": [
    "import pandas as pd\n",
    "\n",
    "df5 = pd.read_csv('houses_to_rent.csv')\n",
    "\n",
    "print(df5.duplicated().any())\n",
    "df5_dp = df5.drop_duplicates()\n",
    "\n",
    "df5_dp[df5_dp.isna().any(axis=1)]"
   ]
  }
 ],
 "metadata": {
  "kernelspec": {
   "display_name": "Python 3",
   "language": "python",
   "name": "python3"
  },
  "language_info": {
   "codemirror_mode": {
    "name": "ipython",
    "version": 3
   },
   "file_extension": ".py",
   "mimetype": "text/x-python",
   "name": "python",
   "nbconvert_exporter": "python",
   "pygments_lexer": "ipython3",
   "version": "3.9.5"
  }
 },
 "nbformat": 4,
 "nbformat_minor": 4
}
