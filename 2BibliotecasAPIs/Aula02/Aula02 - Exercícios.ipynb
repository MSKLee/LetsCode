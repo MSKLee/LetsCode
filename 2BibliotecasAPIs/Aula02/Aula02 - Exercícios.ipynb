{
 "cells": [
  {
   "cell_type": "markdown",
   "metadata": {},
   "source": [
    "# Questão 3\n",
    "\n",
    "Nosso próximo foco serão as matrizes. Faça o que se pede:\n",
    "\n",
    "a) Gere uma matriz (3,2) com números linearmente espaçados entre 0 e 100 e intervalos de 20, usando o np.linspace();\n",
    "\n",
    "b) Gere uma matriz aleatória (5,2) com números entre 0 e 100;\n",
    "\n",
    "c) Crie um array com as dimensões apropriadas que, quando multiplicado pela matriz do item a), devolva essa mesma matriz. Use o método np.matmul()."
   ]
  },
  {
   "cell_type": "code",
   "execution_count": 21,
   "metadata": {},
   "outputs": [
    {
     "name": "stdout",
     "output_type": "stream",
     "text": [
      "[[  0.  20.]\n",
      " [ 40.  60.]\n",
      " [ 80. 100.]]\n",
      "[[15 54]\n",
      " [55 41]\n",
      " [35 39]\n",
      " [94 98]\n",
      " [18 59]]\n",
      "[[  0.  20.]\n",
      " [ 40.  60.]\n",
      " [ 80. 100.]]\n"
     ]
    }
   ],
   "source": [
    "import numpy as np\n",
    "\n",
    "matrizA = np.linspace(0, 100, num = 6).reshape(3,2)\n",
    "print(matrizA)\n",
    "\n",
    "matrizB = np.random.randint(0, high = 101, size = 10).reshape(5,2)\n",
    "\n",
    "print(matrizB)\n",
    "\n",
    "ident2 = np.identity(2)\n",
    "multMatrizes = np.matmul(matrizA, ident2)\n",
    "\n",
    "print(multMatrizes)"
   ]
  },
  {
   "cell_type": "markdown",
   "metadata": {},
   "source": [
    "# Exercícios extras\n",
    "\n",
    "1) Crie dois arrays de tamanho 5 com números aleatórios entre 0 e 100."
   ]
  },
  {
   "cell_type": "code",
   "execution_count": 24,
   "metadata": {},
   "outputs": [
    {
     "name": "stdout",
     "output_type": "stream",
     "text": [
      "[32 12 99 31 46]\n",
      "[67 30 35 58 79]\n"
     ]
    }
   ],
   "source": [
    "array1 = np.random.randint(0, 101, 5)\n",
    "\n",
    "print(array1)\n",
    "\n",
    "array2 = np.random.randint(0, 101, 5)\n",
    "\n",
    "print(array2)"
   ]
  },
  {
   "cell_type": "markdown",
   "metadata": {},
   "source": [
    "2) Crie uma matriz de 2 linhas e 5 colunas a partir dos arrays do exercício anterior."
   ]
  },
  {
   "cell_type": "code",
   "execution_count": 26,
   "metadata": {},
   "outputs": [
    {
     "data": {
      "text/plain": [
       "array([[32, 12, 99, 31, 46],\n",
       "       [67, 30, 35, 58, 79]])"
      ]
     },
     "execution_count": 26,
     "metadata": {},
     "output_type": "execute_result"
    }
   ],
   "source": [
    "matrizV = np.vstack([array1, array2])\n",
    "\n",
    "matrizV"
   ]
  },
  {
   "cell_type": "markdown",
   "metadata": {},
   "source": [
    "3) Exiba na tela o maior valor de cada linha, e depois de cada coluna da matriz do exercício 2.\n"
   ]
  },
  {
   "cell_type": "code",
   "execution_count": 27,
   "metadata": {},
   "outputs": [
    {
     "name": "stdout",
     "output_type": "stream",
     "text": [
      "[99 79]\n",
      "[67 30 99 58 79]\n"
     ]
    }
   ],
   "source": [
    "maximoLinha = matrizV.max(axis = 1)\n",
    "maximoColuna = matrizV.max(axis = 0)\n",
    "\n",
    "print(maximoLinha)\n",
    "print(maximoColuna)"
   ]
  },
  {
   "cell_type": "markdown",
   "metadata": {},
   "source": [
    "4) Crie um array de tamanho 10 também com números aleatórios entre 0 e 100."
   ]
  },
  {
   "cell_type": "code",
   "execution_count": 30,
   "metadata": {},
   "outputs": [
    {
     "name": "stdout",
     "output_type": "stream",
     "text": [
      "[89 45 32 49 78 74 94 53 63 80]\n"
     ]
    }
   ],
   "source": [
    "array10 = np.random.randint(0, 101, 10)\n",
    "\n",
    "print(array10)"
   ]
  },
  {
   "cell_type": "markdown",
   "metadata": {},
   "source": [
    "5) Utilizando o reshape, crie uma matriz a partir do array anterior com as dimensões adequadas e calcule o produto matricial entre a matriz do exercício 2 e ela."
   ]
  },
  {
   "cell_type": "code",
   "execution_count": 39,
   "metadata": {},
   "outputs": [
    {
     "name": "stdout",
     "output_type": "stream",
     "text": [
      "[[89 45]\n",
      " [32 49]\n",
      " [78 74]\n",
      " [94 53]\n",
      " [63 80]]\n"
     ]
    }
   ],
   "source": [
    "matriz10 = array10.reshape((int(len(array10)/matrizV.ndim)), matrizV.ndim)\n",
    "\n",
    "print(matriz10)"
   ]
  },
  {
   "cell_type": "code",
   "execution_count": 42,
   "metadata": {},
   "outputs": [
    {
     "data": {
      "text/plain": [
       "array([[16766, 14677],\n",
       "       [20082, 16469]])"
      ]
     },
     "execution_count": 42,
     "metadata": {},
     "output_type": "execute_result"
    }
   ],
   "source": [
    "matrizV10 = np.matmul(matrizV, matriz10)\n",
    "matrizV10"
   ]
  },
  {
   "cell_type": "markdown",
   "metadata": {},
   "source": [
    "6) Calcule o produto matricial entre o resultado do exercício 5 e a matriz identidade e exiba o resultado deste produto na tela."
   ]
  },
  {
   "cell_type": "code",
   "execution_count": 46,
   "metadata": {},
   "outputs": [
    {
     "data": {
      "text/plain": [
       "array([[16766., 14677.],\n",
       "       [20082., 16469.]])"
      ]
     },
     "execution_count": 46,
     "metadata": {},
     "output_type": "execute_result"
    }
   ],
   "source": [
    "identV10 = np.identity(matrizV10.ndim)\n",
    "mult6 = np.matmul(matrizV10, identV10)\n",
    "\n",
    "mult6"
   ]
  },
  {
   "cell_type": "markdown",
   "metadata": {},
   "source": [
    "7) Calcule o produto matricial entre a matriz do exercício 5 e a sua transposta."
   ]
  },
  {
   "cell_type": "code",
   "execution_count": 50,
   "metadata": {},
   "outputs": [
    {
     "name": "stdout",
     "output_type": "stream",
     "text": [
      "[[496513085 578410325]\n",
      " [578410325 674514685]]\n"
     ]
    }
   ],
   "source": [
    "print(np.matmul(matrizV10, matrizV10.T))"
   ]
  }
 ],
 "metadata": {
  "kernelspec": {
   "display_name": "Python 3",
   "language": "python",
   "name": "python3"
  },
  "language_info": {
   "codemirror_mode": {
    "name": "ipython",
    "version": 3
   },
   "file_extension": ".py",
   "mimetype": "text/x-python",
   "name": "python",
   "nbconvert_exporter": "python",
   "pygments_lexer": "ipython3",
   "version": "3.9.5"
  }
 },
 "nbformat": 4,
 "nbformat_minor": 4
}
