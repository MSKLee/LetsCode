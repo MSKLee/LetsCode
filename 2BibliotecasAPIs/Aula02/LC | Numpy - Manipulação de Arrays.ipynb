{
 "cells": [
  {
   "cell_type": "markdown",
   "metadata": {},
   "source": [
    "## Questão #1\n",
    "\n",
    "Enunciado\n",
    "\n",
    "Printe os elementos dos seguintes dois vetores usando apenas um for:\n",
    "\n",
    "arr = np.array([[[1, 2, 3], [4, 5, 6]], [[7, 8, 9], [10, 11, 12]]])\n",
    "\n",
    "Depois, faça o mesmo usando numpy (usando a função nditer) e deixe um comentário sobre a diferença dos dois métodos.\n",
    "\n",
    "arr = np.array([[[1, 2, 3], [4, 5, 6]], [[7, 8, 9], [10, 11, 12]]])\n"
   ]
  },
  {
   "cell_type": "code",
   "execution_count": 109,
   "metadata": {},
   "outputs": [
    {
     "name": "stdout",
     "output_type": "stream",
     "text": [
      "1\n",
      "2\n",
      "3\n",
      "4\n",
      "5\n",
      "6\n",
      "7\n",
      "8\n",
      "9\n",
      "10\n",
      "11\n",
      "12\n"
     ]
    }
   ],
   "source": [
    "import numpy as np\n",
    "\n",
    "arr = np.arange(1, 13).reshape(2,2,3)\n",
    "\n",
    "for i in arr.flatten():\n",
    "    print(i)"
   ]
  },
  {
   "cell_type": "code",
   "execution_count": 113,
   "metadata": {},
   "outputs": [
    {
     "name": "stdout",
     "output_type": "stream",
     "text": [
      "1\n",
      "2\n",
      "3\n",
      "4\n",
      "5\n",
      "6\n",
      "7\n",
      "8\n",
      "9\n",
      "10\n",
      "11\n",
      "12\n"
     ]
    }
   ],
   "source": [
    "for i in np.nditer(arr, order='C'):\n",
    "    print(i)\n",
    "    \n",
    "# Com o uso do nditter, podemos iterar o array em diversas ordens com o uso de apenas um \"for\".\n",
    "# Por exemplo, ao invés de iterar por linhas, podemos iterar o array por colunas."
   ]
  },
  {
   "cell_type": "markdown",
   "metadata": {},
   "source": [
    "## Questão #2\n",
    "\n",
    "Enunciado\n",
    "\n",
    "Peça para o usuário uma lista com as comidas favoritas dele, depois transforme isso em um objeto numpy. Agora transformado, elimine todas as comidas que começam com uma vogal. Mostre o resultado.\n",
    "\n",
    "Exemplo:\n",
    "\n",
    "    Entrada: [maçã, uva, morango, melancia, acelga]\n",
    "\n",
    "    Saída: [maçã, morango, melancia]\n",
    "\n"
   ]
  },
  {
   "cell_type": "code",
   "execution_count": 207,
   "metadata": {},
   "outputs": [
    {
     "name": "stdin",
     "output_type": "stream",
     "text": [
      "Digite uma lista das suas comidas favoritas: maçã, uva, morango, melancia, acelga\n"
     ]
    },
    {
     "name": "stdout",
     "output_type": "stream",
     "text": [
      "['maçã' 'morango' 'melancia']\n"
     ]
    }
   ],
   "source": [
    "comidas = input('Digite uma lista das suas comidas favoritas:' )\n",
    "vogal = ['a', 'e', 'i', 'o', 'u']\n",
    "\n",
    "arr_comidas = np.array(comidas.split(', '))\n",
    "\n",
    "for comida in arr_comidas:\n",
    "    if comida[0] in vogal:\n",
    "        arr_comidas = np.delete(arr_comidas, np.where(arr_comidas == comida))\n",
    "print(arr_comidas)"
   ]
  },
  {
   "cell_type": "code",
   "execution_count": 189,
   "metadata": {},
   "outputs": [
    {
     "name": "stdin",
     "output_type": "stream",
     "text": [
      " maçã, uva, morango, melancia, acelga\n"
     ]
    },
    {
     "name": "stdout",
     "output_type": "stream",
     "text": [
      "uva\n",
      "acelga\n"
     ]
    }
   ],
   "source": [
    "comidas = input()\n",
    "\n",
    "arr_comidas = np.array(comidas.split(', '))\n",
    "vogal = ['a', 'e', 'i', 'o', 'u']\n",
    "\n",
    "for comida in arr_comidas:\n",
    "    if comida[0] in vogal:\n",
    "        print(comida)"
   ]
  },
  {
   "cell_type": "code",
   "execution_count": 205,
   "metadata": {},
   "outputs": [
    {
     "name": "stdin",
     "output_type": "stream",
     "text": [
      " maçã, uva, morango, melancia, acelga\n"
     ]
    },
    {
     "name": "stdout",
     "output_type": "stream",
     "text": [
      "['maçã' 'morango' 'melancia']\n"
     ]
    }
   ],
   "source": [
    "comidas = input()\n",
    "\n",
    "arr_comidas = np.array(comidas.split(', '))\n",
    "vogal = ['a', 'e', 'i', 'o', 'u']\n",
    "\n",
    "for comida in arr_comidas:\n",
    "    if comida[0] in vogal:\n",
    "        arr_comidas = np.delete(arr_comidas, np.where(arr_comidas == comida))\n",
    "print(arr_comidas)"
   ]
  },
  {
   "cell_type": "markdown",
   "metadata": {},
   "source": [
    "## Questão #3\n",
    "\n",
    "Enunciado\n",
    "\n",
    "Imprima a dimensão dos seguintes objetos numpy:\n",
    "\n",
    "    a = np.array(2)\n",
    "\n",
    "    b = np.array([1, 2, 3, 4, 5])\n",
    "\n",
    "    c = np.array([[1, 2, 3], [4, 5, 6]])\n",
    "\n",
    "    d = np.array([[[1, 2, 3], [4, 5, 6]], [[7, 8, 9], [10, 11, 12]]])\n",
    "\n"
   ]
  },
  {
   "cell_type": "code",
   "execution_count": 210,
   "metadata": {},
   "outputs": [
    {
     "name": "stdout",
     "output_type": "stream",
     "text": [
      "A dimensão de \"a\" é: ()\n",
      "A dimensão de \"b\" é: (5,)\n",
      "A dimensão de \"c\" é: (2, 3)\n",
      "A dimensão de \"d\" é: (2, 2, 3)\n"
     ]
    }
   ],
   "source": [
    "a = np.array(2)\n",
    "\n",
    "b = np.array([1, 2, 3, 4, 5])\n",
    "\n",
    "c = np.array([[1, 2, 3], [4, 5, 6]])\n",
    "\n",
    "d = np.array([[[1, 2, 3], [4, 5, 6]], [[7, 8, 9], [10, 11, 12]]])\n",
    "\n",
    "print('A dimensão de \"a\" é:', a.shape)\n",
    "print('A dimensão de \"b\" é:', b.shape)\n",
    "print('A dimensão de \"c\" é:', c.shape)\n",
    "print('A dimensão de \"d\" é:', d.shape)"
   ]
  },
  {
   "cell_type": "markdown",
   "metadata": {},
   "source": [
    "## Questão #4\n",
    "\n",
    "Enunciado\n",
    "\n",
    "Transforme o array em uma matriz 4 por 3 utilizando numpy.\n",
    "\n",
    "    arr = [1, 2, 3, 4, 'Amelia, 'Bruna, 'Carolina', 'Débora', True, False, False, True]\n",
    "\n",
    "Depois, faça o mesmo para uma matriz 3 por 4.\n"
   ]
  },
  {
   "cell_type": "code",
   "execution_count": 216,
   "metadata": {},
   "outputs": [
    {
     "name": "stdout",
     "output_type": "stream",
     "text": [
      "[['1' '2' '3']\n",
      " ['4' 'Amelia' 'Bruna']\n",
      " ['Carolina' 'Débora' 'True']\n",
      " ['False' 'False' 'True']]\n",
      "[['1' '2' '3' '4']\n",
      " ['Amelia' 'Bruna' 'Carolina' 'Débora']\n",
      " ['True' 'False' 'False' 'True']]\n"
     ]
    }
   ],
   "source": [
    "arr = [1, 2, 3, 4, 'Amelia', 'Bruna', 'Carolina', 'Débora', True, False, False, True]\n",
    "\n",
    "arr = np.array(arr)\n",
    "\n",
    "arr43 = arr.reshape(4,3)\n",
    "\n",
    "arr34 = arr.reshape(3,4)\n",
    "\n",
    "print(arr43)\n",
    "print(arr34)"
   ]
  },
  {
   "cell_type": "markdown",
   "metadata": {},
   "source": [
    "## Questão #5\n",
    "\n",
    "Enunciado\n",
    "\n",
    "Transforme o seguinte array em uma matriz 3D 3x3x3:\n",
    "\n",
    "    arr = range(27)\n",
    "\n",
    "Deixe um comentário explicando o que significa uma matriz 3D.\n"
   ]
  },
  {
   "cell_type": "code",
   "execution_count": null,
   "metadata": {},
   "outputs": [],
   "source": []
  },
  {
   "cell_type": "markdown",
   "metadata": {},
   "source": [
    "## Questão #6\n",
    "\n",
    "Enunciado\n",
    "\n",
    "Tente transformar o seguinte array em uma matriz 3x3x3\n",
    "\n",
    "    arr = [1, 2, 3, 4, 5, 6, 7, 8]\n",
    "\n",
    "Funciona? Se sim, explique o motivo. Se não, explique o erro.\n"
   ]
  },
  {
   "cell_type": "code",
   "execution_count": null,
   "metadata": {},
   "outputs": [],
   "source": []
  },
  {
   "cell_type": "markdown",
   "metadata": {},
   "source": [
    "## Questão #7\n",
    "\n",
    "Enunciado\n",
    "\n",
    "Percorra o seguinte array utilizando for encaixado:\n",
    "\n",
    "    arr = [[[1, 2], [3, 4]], [[5, 6], [7, 8]]]\n",
    "\n",
    "Agora, percorra o mesmo array utilizando a função nditer de numpy.\n"
   ]
  },
  {
   "cell_type": "code",
   "execution_count": null,
   "metadata": {},
   "outputs": [],
   "source": []
  },
  {
   "cell_type": "markdown",
   "metadata": {},
   "source": [
    "## Questão #8\n",
    "\n",
    "Enunciado\n",
    "\n",
    "Percorra os indexes do seguinte array utilizando for encaixado:\n",
    "\n",
    "    arr = [[[1, 2], [3, 4]], [[5, 6], [7, 8]]]\n",
    "\n",
    "Agora faça o mesmo trabalho utilizando a função ndenumerate.\n"
   ]
  },
  {
   "cell_type": "code",
   "execution_count": null,
   "metadata": {},
   "outputs": [],
   "source": []
  },
  {
   "cell_type": "markdown",
   "metadata": {},
   "source": [
    "## Questão #9\n",
    "\n",
    "Enunciado\n",
    "\n",
    "Junte os dois seguintes arrays na horizontal:\n",
    "\n",
    "    arr1 = [1, 2, 3]\n",
    "\n",
    "    arr2 = [4, 5, 6]\n",
    "\n",
    "Depois, os junte verticalmente.\n"
   ]
  },
  {
   "cell_type": "code",
   "execution_count": null,
   "metadata": {},
   "outputs": [],
   "source": []
  },
  {
   "cell_type": "markdown",
   "metadata": {},
   "source": [
    "## Questão #10\n",
    "\n",
    "Enunciado\n",
    "\n",
    "a) Tranforme o seguinte array 2D em dois arrays 2D:\n",
    "\n",
    "    arr = [[1, 2], [3, 4], [5, 6], [7, 8]]\n",
    "\n",
    "b) Transforme o seguinte array em três arrays com apenas uma coluna:\n",
    "\n",
    "    arr = [[1, 2, 3], [4, 5, 6], [7, 8, 9]]\n",
    "\n"
   ]
  },
  {
   "cell_type": "code",
   "execution_count": null,
   "metadata": {},
   "outputs": [],
   "source": []
  },
  {
   "cell_type": "markdown",
   "metadata": {},
   "source": [
    "## Questão #11\n",
    "\n",
    "Enunciado\n",
    "\n",
    "DESAFIO: Utilizando manipulação de arrays, ache os indexes do array cujo valor possua apenas 2 vogais no nome usando numpy.\n",
    "\n",
    "    frutas = ['banana', 'morango, 'uva', 'pitaia', 'abacate', 'abacaxi', 'acerola', 'jenipapo', 'kiwi']\n",
    "\n"
   ]
  },
  {
   "cell_type": "code",
   "execution_count": null,
   "metadata": {},
   "outputs": [],
   "source": []
  },
  {
   "cell_type": "markdown",
   "metadata": {},
   "source": [
    "## Questão #12\n",
    "\n",
    "Enunciado\n",
    "\n",
    "DESAFIO: Utilizando manipulação de arrays, vamos seguir um conjunto de passos para organizar alguns dados. Teremos nesse seguinte array uma ordem que segue:\n",
    "\n",
    "    [Nome do aluno, idade, 'gênero', signo, altura, nota do 1° semestre, nota do 2° bimestre, se está ou não inscrito no próximo ano da escola, nome do outro aluno, idade do outro aluno...]\n",
    "\n",
    "    arr = ['Amélia', 13, 'F', 'peixes', 1.51, 9, 7, True, 'Bruno', 14, 'O', 'leão', 1.60, 4, 10, False, 'João', 14, 'M', 'escorpião', 1.58, 8, 9, True, 'Jordana', 13, 'F', 'escorpião', 1.72, 9, 9, False]\n",
    "\n",
    "a) Enumere os indexes de todas as informações que são do tipo string.\n",
    "\n",
    "b) Separe essas informações do objeto arr de forma que cada aluno tenha seu próprio array.\n",
    "\n",
    "c) Separe em duas colunas, a primeira com o nome, a idade, o gênero e o signo e a segunda com a altura, nota do primeiro bimestre, nota do segundo bimestre e se está ou não inscrito no próximo ano.\n",
    "\n",
    "d) Elimine o gênero de todos os arrays cujos alunos tem menos de 14 anos.\n"
   ]
  },
  {
   "cell_type": "code",
   "execution_count": null,
   "metadata": {},
   "outputs": [],
   "source": []
  }
 ],
 "metadata": {
  "kernelspec": {
   "display_name": "Python 3",
   "language": "python",
   "name": "python3"
  },
  "language_info": {
   "codemirror_mode": {
    "name": "ipython",
    "version": 3
   },
   "file_extension": ".py",
   "mimetype": "text/x-python",
   "name": "python",
   "nbconvert_exporter": "python",
   "pygments_lexer": "ipython3",
   "version": "3.9.5"
  }
 },
 "nbformat": 4,
 "nbformat_minor": 4
}
