{
 "cells": [
  {
   "cell_type": "markdown",
   "metadata": {},
   "source": [
    "# Questão 1"
   ]
  },
  {
   "cell_type": "code",
   "execution_count": 22,
   "metadata": {},
   "outputs": [],
   "source": [
    "import numpy as np\n",
    "\n",
    "arr = np.arange(50)"
   ]
  },
  {
   "cell_type": "code",
   "execution_count": 23,
   "metadata": {},
   "outputs": [
    {
     "name": "stdout",
     "output_type": "stream",
     "text": [
      "[0 1 0 1 0 1 0 1 0 1 0 1 0 1 0 1 0 1 0 1 0 1 0 1 0 1 0 1 0 1 0 1 0 1 0 1 0\n",
      " 1 0 1 0 1 0 1 0 1 0 1 0 1]\n"
     ]
    }
   ],
   "source": [
    "arr_atualizado = arr[arr % 2]\n",
    "print(arr_atualizado)"
   ]
  },
  {
   "cell_type": "code",
   "execution_count": 24,
   "metadata": {},
   "outputs": [
    {
     "name": "stdout",
     "output_type": "stream",
     "text": [
      "[ 6  7  8  9 10 11 12 13 14 15 16 17 18 19 20 21 22 23 24 25 26 27 28 29\n",
      " 30 31 32 33 34 35 36 37 38 39 40 41 42 43 44 45 46 47 48 49]\n"
     ]
    }
   ],
   "source": [
    "arr_atualizado = arr[arr>5]\n",
    "print(arr_atualizado)"
   ]
  },
  {
   "cell_type": "code",
   "execution_count": 25,
   "metadata": {},
   "outputs": [
    {
     "name": "stdout",
     "output_type": "stream",
     "text": [
      "[ 0  1  2  3  4  5  6  7  8  9 10]\n"
     ]
    }
   ],
   "source": [
    "arr_atualizado = arr[arr <= 10]\n",
    "print(arr_atualizado)"
   ]
  },
  {
   "cell_type": "code",
   "execution_count": 26,
   "metadata": {},
   "outputs": [
    {
     "name": "stdout",
     "output_type": "stream",
     "text": [
      "[ 0  1  2  3  4  5  6  7  8  9 10 11 12 13 14 15 16 17 18 19 20 21 22 23\n",
      " 24 25 26 27 28 29 30 31 32 33 34 35 36 37 38 39 40 41 42 43 44 45 46 47\n",
      " 48 49]\n"
     ]
    }
   ],
   "source": [
    "arr_atualizado = arr[(arr != 1) | (arr != 3)]\n",
    "print(arr_atualizado)"
   ]
  },
  {
   "cell_type": "markdown",
   "metadata": {},
   "source": [
    "# Questão 2\n",
    "\n",
    "Enunciado\n",
    "\n",
    "Agora, vamos explorar os arrays aleatórios e máscaras. Faça o que se pede:\n",
    "\n",
    "a) Crie um array aleatório de 15 itens entre 0 e 100;\n",
    "\n",
    "b) Qual o maior número do array?\n",
    "\n",
    "c) Qual a sua posição?\n",
    "\n",
    "d) Verifique quais números do array são maior que 10;\n",
    "\n",
    "e) Salve em uma nova lista apenas os itens entre 10 e 30.\n"
   ]
  },
  {
   "cell_type": "code",
   "execution_count": 21,
   "metadata": {},
   "outputs": [
    {
     "name": "stdout",
     "output_type": "stream",
     "text": [
      "[75 19 42 56 78 13 75 49 32 49  8 60 94 56 47 62]\n",
      "94\n",
      "(array([12]),)\n",
      "[75 19 42 56 78 13 75 49 32 49 60 94 56 47 62]\n",
      "[19 13]\n"
     ]
    }
   ],
   "source": [
    "import numpy as np\n",
    "\n",
    "arrayAleatorio = np.random.randint(0, 100, 16)\n",
    "\n",
    "print(arrayAleatorio)\n",
    "\n",
    "maximo = arrayAleatorio.max()\n",
    "print(maximo)\n",
    "\n",
    "print(np.where(arrayAleatorio == maximo))\n",
    "\n",
    "maiorque10 = arrayAleatorio[arrayAleatorio > 10]\n",
    "print(maiorque10)\n",
    "\n",
    "entre10e30 = arrayAleatorio[(arrayAleatorio > 10) & (arrayAleatorio < 30)]\n",
    "print(entre10e30)"
   ]
  },
  {
   "cell_type": "code",
   "execution_count": null,
   "metadata": {},
   "outputs": [],
   "source": []
  }
 ],
 "metadata": {
  "kernelspec": {
   "display_name": "Python 3",
   "language": "python",
   "name": "python3"
  },
  "language_info": {
   "codemirror_mode": {
    "name": "ipython",
    "version": 3
   },
   "file_extension": ".py",
   "mimetype": "text/x-python",
   "name": "python",
   "nbconvert_exporter": "python",
   "pygments_lexer": "ipython3",
   "version": "3.9.5"
  }
 },
 "nbformat": 4,
 "nbformat_minor": 4
}
