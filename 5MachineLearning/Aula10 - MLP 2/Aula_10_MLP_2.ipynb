{
 "cells": [
  {
   "cell_type": "markdown",
   "id": "3a67ad9e",
   "metadata": {
    "id": "3a67ad9e"
   },
   "source": [
    "# Aula 10 - MLP 2"
   ]
  },
  {
   "cell_type": "markdown",
   "id": "c9b59d88",
   "metadata": {
    "id": "c9b59d88"
   },
   "source": [
    "Hoje daremos continuidade ao estudo das redes neurais abordando um assunto prático, a biblioteca Keras:\n",
    "\n",
    "### - Primeira parte\n",
    "\n",
    "- Pequena revisão\n",
    "\n",
    "### - Segunda parte\n",
    "\n",
    "- Exemplo no Keras\n",
    "\n",
    "### - Terceira parte\n",
    "\n",
    "- Tempo para o projeto"
   ]
  },
  {
   "cell_type": "markdown",
   "id": "fae4556b",
   "metadata": {
    "id": "fae4556b"
   },
   "source": [
    "# Relembrando..."
   ]
  },
  {
   "cell_type": "markdown",
   "id": "2c815b8c",
   "metadata": {
    "id": "2c815b8c"
   },
   "source": [
    "# MLP - Multi Layer Perceptron"
   ]
  },
  {
   "cell_type": "markdown",
   "id": "5bde455b",
   "metadata": {
    "id": "5bde455b"
   },
   "source": [
    "A arquitetura que combina perceptrons em camadas se popularizou como a primeira rede neural de uso genérico. A composição dos neurônios é mostrada na figura a seguir:  \n",
    "\n",
    "![image-2.png](https://ars.els-cdn.com/content/image/1-s2.0-S2405656118301020-gr1.jpg)"
   ]
  },
  {
   "cell_type": "markdown",
   "id": "2267d560",
   "metadata": {
    "id": "2267d560"
   },
   "source": [
    "As redes MLP podem ser divididas em 3 partes:\n",
    "\n",
    "1 - __Primeira camada__: variáveis de entrada. Cada uma das variáveis são alimentadas diretamente na rede;  \n",
    "\n",
    "2 - __Última camada__: perceptrons com as saídas do modelo;  \n",
    "\n",
    "3 - __Camadas intermediarias__: também chamadas de camadas ocultas (hidden layers), pode conter uma ou mais camadas de perceptrons.  \n",
    "\n",
    "\n",
    "Como a expressão matemática do perceptron é relativamente simples, é possível expandir a expressão para toda a rede. Mesmo com poucas camadas, é perceptível como a expressão começa a ficar completamente não interpretável, além de ser de difícil representação. A grande pergunta é: como as redes neurais de fato resolvem os problemas do dia a dia?"
   ]
  },
  {
   "cell_type": "markdown",
   "id": "dd7d67a5",
   "metadata": {
    "id": "dd7d67a5"
   },
   "source": [
    "# Como as redes aprendem?"
   ]
  },
  {
   "cell_type": "markdown",
   "id": "05943a04",
   "metadata": {
    "id": "05943a04"
   },
   "source": [
    "Podemos dizer que a tarefa de aprendizado da rede neural é, nada mais nada menos, a atualização dos seus pesos. Para definir qual é o melhor peso, as redes neurais aplicam duas técnicas muito poderosas: o gradiente descendente e o backpropagation.  \n",
    "\n",
    "\n",
    "## Gradiente Descendente\n",
    "\n",
    "Vamos utilizar a figura de uma parábola para exemplificar esse algoritmo:  \n",
    "\n",
    "![image-2.png](https://static.todamateria.com.br/upload/ve/rt/verticeparabola-0.jpg)\n",
    "\n",
    "O gradiente descendente é um algoritmo iterativo que, a partir de um ponto inicial, utiliza o gradiente da função como base para escolher uma direção de busca do ponto de mínimo. Para cada etapa da iteração, o algoritmo calcula o gradiente e desloca o ponto candidato a mínimo um passo na direção contrária. Dado tempo suficiente, com um passo pequeno o bastante, o algoritmo converge para, pelo menos, um mínimo local. \n",
    "\n",
    "## Backpropagation\n",
    "\n",
    "Assim como nós, as redes neurais aprendem com os erros. Isso não acontece de qualquer maneira: elas aplicam um algoritmo muito poderoso chamado de backpropagation, que consiste em, a partir do cálculo do gradiente da última camada, propagar as atualizações dos parâmetros para as camadas anteriores. Para que isso seja possível, é necessário definir uma __função de custo__ na saída da rede. Em geral, é utilizado o __MSE__ para regressão e a __log-loss__ para classificação.\n",
    "\n",
    "A sequência de passos que faz a atualização dos pesos é, então:  \n",
    "\n",
    "1 - Aplica um conjunto de dados de entrada na rede, gerando saídas;  \n",
    "\n",
    "2 - Calcula o erro comparando as predições com o target real: __mse__ para regressão, __log-loss__ para classificação;  \n",
    "\n",
    "3 - Aplica o gradiente descendente para atualizar os pesos da última camada;  \n",
    "\n",
    "4 - Propaga o gradiente para as camadas anteriores, atualizando os pesos camada por camada.  "
   ]
  },
  {
   "cell_type": "markdown",
   "id": "8a598d92",
   "metadata": {
    "id": "8a598d92"
   },
   "source": [
    "![image.png](https://s3-sa-east-1.amazonaws.com/lcpi/e17684ac-ea56-4ba9-ac0d-70658fab05c1.png)"
   ]
  },
  {
   "cell_type": "markdown",
   "id": "572b6423",
   "metadata": {
    "id": "572b6423"
   },
   "source": [
    "#### Glossário:\n",
    "\n",
    "__batch size__: a quantidade de dados que entram na rede antes de cada atualização dos pesos;\n",
    "\n",
    "__épocas__: cada época é uma passagem completa por todo o dataset de treinamento;\n",
    "\n"
   ]
  },
  {
   "cell_type": "markdown",
   "id": "b30bd90f",
   "metadata": {
    "id": "b30bd90f"
   },
   "source": [
    "# Usando o Keras\n",
    "\n",
    "[Documentação](https://keras.io/)"
   ]
  },
  {
   "cell_type": "code",
   "execution_count": 1,
   "id": "c36725fb",
   "metadata": {
    "colab": {
     "base_uri": "https://localhost:8080/",
     "height": 364
    },
    "id": "c36725fb",
    "outputId": "b771f881-6f56-4539-9dcc-c13fc7e4bb56"
   },
   "outputs": [
    {
     "data": {
      "text/html": [
       "<div>\n",
       "<style scoped>\n",
       "    .dataframe tbody tr th:only-of-type {\n",
       "        vertical-align: middle;\n",
       "    }\n",
       "\n",
       "    .dataframe tbody tr th {\n",
       "        vertical-align: top;\n",
       "    }\n",
       "\n",
       "    .dataframe thead th {\n",
       "        text-align: right;\n",
       "    }\n",
       "</style>\n",
       "<table border=\"1\" class=\"dataframe\">\n",
       "  <thead>\n",
       "    <tr style=\"text-align: right;\">\n",
       "      <th></th>\n",
       "      <th>age</th>\n",
       "      <th>workclass</th>\n",
       "      <th>fnlwgt</th>\n",
       "      <th>education</th>\n",
       "      <th>educational-num</th>\n",
       "      <th>marital-status</th>\n",
       "      <th>occupation</th>\n",
       "      <th>relationship</th>\n",
       "      <th>race</th>\n",
       "      <th>gender</th>\n",
       "      <th>capital-gain</th>\n",
       "      <th>capital-loss</th>\n",
       "      <th>hours-per-week</th>\n",
       "      <th>native-country</th>\n",
       "      <th>income</th>\n",
       "    </tr>\n",
       "  </thead>\n",
       "  <tbody>\n",
       "    <tr>\n",
       "      <th>0</th>\n",
       "      <td>17</td>\n",
       "      <td>Private</td>\n",
       "      <td>144752</td>\n",
       "      <td>10th</td>\n",
       "      <td>6</td>\n",
       "      <td>Never-married</td>\n",
       "      <td>Handlers-cleaners</td>\n",
       "      <td>Own-child</td>\n",
       "      <td>Amer-Indian-Eskimo</td>\n",
       "      <td>Male</td>\n",
       "      <td>0</td>\n",
       "      <td>0</td>\n",
       "      <td>20</td>\n",
       "      <td>United-States</td>\n",
       "      <td>&lt;=50K</td>\n",
       "    </tr>\n",
       "    <tr>\n",
       "      <th>1</th>\n",
       "      <td>21</td>\n",
       "      <td>Local-gov</td>\n",
       "      <td>402230</td>\n",
       "      <td>Some-college</td>\n",
       "      <td>10</td>\n",
       "      <td>Never-married</td>\n",
       "      <td>Adm-clerical</td>\n",
       "      <td>Unmarried</td>\n",
       "      <td>White</td>\n",
       "      <td>Male</td>\n",
       "      <td>0</td>\n",
       "      <td>0</td>\n",
       "      <td>36</td>\n",
       "      <td>United-States</td>\n",
       "      <td>&lt;=50K</td>\n",
       "    </tr>\n",
       "    <tr>\n",
       "      <th>2</th>\n",
       "      <td>41</td>\n",
       "      <td>Private</td>\n",
       "      <td>149576</td>\n",
       "      <td>Some-college</td>\n",
       "      <td>10</td>\n",
       "      <td>Married-civ-spouse</td>\n",
       "      <td>Craft-repair</td>\n",
       "      <td>Husband</td>\n",
       "      <td>White</td>\n",
       "      <td>Male</td>\n",
       "      <td>0</td>\n",
       "      <td>0</td>\n",
       "      <td>40</td>\n",
       "      <td>United-States</td>\n",
       "      <td>&gt;50K</td>\n",
       "    </tr>\n",
       "    <tr>\n",
       "      <th>3</th>\n",
       "      <td>29</td>\n",
       "      <td>Private</td>\n",
       "      <td>535978</td>\n",
       "      <td>Some-college</td>\n",
       "      <td>10</td>\n",
       "      <td>Married-civ-spouse</td>\n",
       "      <td>Craft-repair</td>\n",
       "      <td>Husband</td>\n",
       "      <td>White</td>\n",
       "      <td>Male</td>\n",
       "      <td>0</td>\n",
       "      <td>0</td>\n",
       "      <td>45</td>\n",
       "      <td>United-States</td>\n",
       "      <td>&lt;=50K</td>\n",
       "    </tr>\n",
       "    <tr>\n",
       "      <th>4</th>\n",
       "      <td>54</td>\n",
       "      <td>Private</td>\n",
       "      <td>111469</td>\n",
       "      <td>Some-college</td>\n",
       "      <td>10</td>\n",
       "      <td>Divorced</td>\n",
       "      <td>Exec-managerial</td>\n",
       "      <td>Not-in-family</td>\n",
       "      <td>White</td>\n",
       "      <td>Female</td>\n",
       "      <td>0</td>\n",
       "      <td>0</td>\n",
       "      <td>40</td>\n",
       "      <td>United-States</td>\n",
       "      <td>&lt;=50K</td>\n",
       "    </tr>\n",
       "  </tbody>\n",
       "</table>\n",
       "</div>"
      ],
      "text/plain": [
       "   age  workclass  fnlwgt  ... hours-per-week  native-country income\n",
       "0   17    Private  144752  ...             20   United-States  <=50K\n",
       "1   21  Local-gov  402230  ...             36   United-States  <=50K\n",
       "2   41    Private  149576  ...             40   United-States   >50K\n",
       "3   29    Private  535978  ...             45   United-States  <=50K\n",
       "4   54    Private  111469  ...             40   United-States  <=50K\n",
       "\n",
       "[5 rows x 15 columns]"
      ]
     },
     "execution_count": 1,
     "metadata": {},
     "output_type": "execute_result"
    }
   ],
   "source": [
    "import pandas as pd\n",
    " \n",
    "base_treino = pd.read_csv('adult_train.csv')\n",
    "\n",
    "base_treino.head()"
   ]
  },
  {
   "cell_type": "code",
   "execution_count": 2,
   "id": "6bcf61d0",
   "metadata": {
    "colab": {
     "base_uri": "https://localhost:8080/",
     "height": 345
    },
    "id": "6bcf61d0",
    "outputId": "7f241e78-614a-4ede-ae1f-95a472e4182a"
   },
   "outputs": [
    {
     "name": "stdout",
     "output_type": "stream",
     "text": [
      "(39074, 91) (39074,)\n",
      "(27351, 91) (27351,)\n",
      "(11723, 91) (11723,)\n"
     ]
    },
    {
     "data": {
      "text/html": [
       "<div>\n",
       "<style scoped>\n",
       "    .dataframe tbody tr th:only-of-type {\n",
       "        vertical-align: middle;\n",
       "    }\n",
       "\n",
       "    .dataframe tbody tr th {\n",
       "        vertical-align: top;\n",
       "    }\n",
       "\n",
       "    .dataframe thead th {\n",
       "        text-align: right;\n",
       "    }\n",
       "</style>\n",
       "<table border=\"1\" class=\"dataframe\">\n",
       "  <thead>\n",
       "    <tr style=\"text-align: right;\">\n",
       "      <th></th>\n",
       "      <th>age</th>\n",
       "      <th>educational-num</th>\n",
       "      <th>capital-gain</th>\n",
       "      <th>capital-loss</th>\n",
       "      <th>hours-per-week</th>\n",
       "      <th>workclass_?</th>\n",
       "      <th>workclass_Federal-gov</th>\n",
       "      <th>workclass_Local-gov</th>\n",
       "      <th>workclass_Never-worked</th>\n",
       "      <th>workclass_Private</th>\n",
       "      <th>workclass_Self-emp-inc</th>\n",
       "      <th>workclass_Self-emp-not-inc</th>\n",
       "      <th>workclass_State-gov</th>\n",
       "      <th>workclass_Without-pay</th>\n",
       "      <th>marital-status_Divorced</th>\n",
       "      <th>marital-status_Married-AF-spouse</th>\n",
       "      <th>marital-status_Married-civ-spouse</th>\n",
       "      <th>marital-status_Married-spouse-absent</th>\n",
       "      <th>marital-status_Never-married</th>\n",
       "      <th>marital-status_Separated</th>\n",
       "      <th>marital-status_Widowed</th>\n",
       "      <th>occupation_?</th>\n",
       "      <th>occupation_Adm-clerical</th>\n",
       "      <th>occupation_Armed-Forces</th>\n",
       "      <th>occupation_Craft-repair</th>\n",
       "      <th>occupation_Exec-managerial</th>\n",
       "      <th>occupation_Farming-fishing</th>\n",
       "      <th>occupation_Handlers-cleaners</th>\n",
       "      <th>occupation_Machine-op-inspct</th>\n",
       "      <th>occupation_Other-service</th>\n",
       "      <th>occupation_Priv-house-serv</th>\n",
       "      <th>occupation_Prof-specialty</th>\n",
       "      <th>occupation_Protective-serv</th>\n",
       "      <th>occupation_Sales</th>\n",
       "      <th>occupation_Tech-support</th>\n",
       "      <th>occupation_Transport-moving</th>\n",
       "      <th>relationship_Husband</th>\n",
       "      <th>relationship_Not-in-family</th>\n",
       "      <th>relationship_Other-relative</th>\n",
       "      <th>relationship_Own-child</th>\n",
       "      <th>...</th>\n",
       "      <th>native-country_Canada</th>\n",
       "      <th>native-country_China</th>\n",
       "      <th>native-country_Columbia</th>\n",
       "      <th>native-country_Cuba</th>\n",
       "      <th>native-country_Dominican-Republic</th>\n",
       "      <th>native-country_Ecuador</th>\n",
       "      <th>native-country_El-Salvador</th>\n",
       "      <th>native-country_England</th>\n",
       "      <th>native-country_France</th>\n",
       "      <th>native-country_Germany</th>\n",
       "      <th>native-country_Greece</th>\n",
       "      <th>native-country_Guatemala</th>\n",
       "      <th>native-country_Haiti</th>\n",
       "      <th>native-country_Holand-Netherlands</th>\n",
       "      <th>native-country_Honduras</th>\n",
       "      <th>native-country_Hong</th>\n",
       "      <th>native-country_Hungary</th>\n",
       "      <th>native-country_India</th>\n",
       "      <th>native-country_Iran</th>\n",
       "      <th>native-country_Ireland</th>\n",
       "      <th>native-country_Italy</th>\n",
       "      <th>native-country_Jamaica</th>\n",
       "      <th>native-country_Japan</th>\n",
       "      <th>native-country_Laos</th>\n",
       "      <th>native-country_Mexico</th>\n",
       "      <th>native-country_Nicaragua</th>\n",
       "      <th>native-country_Outlying-US(Guam-USVI-etc)</th>\n",
       "      <th>native-country_Peru</th>\n",
       "      <th>native-country_Philippines</th>\n",
       "      <th>native-country_Poland</th>\n",
       "      <th>native-country_Portugal</th>\n",
       "      <th>native-country_Puerto-Rico</th>\n",
       "      <th>native-country_Scotland</th>\n",
       "      <th>native-country_South</th>\n",
       "      <th>native-country_Taiwan</th>\n",
       "      <th>native-country_Thailand</th>\n",
       "      <th>native-country_Trinadad&amp;Tobago</th>\n",
       "      <th>native-country_United-States</th>\n",
       "      <th>native-country_Vietnam</th>\n",
       "      <th>native-country_Yugoslavia</th>\n",
       "    </tr>\n",
       "  </thead>\n",
       "  <tbody>\n",
       "    <tr>\n",
       "      <th>31768</th>\n",
       "      <td>-0.560344</td>\n",
       "      <td>-0.031624</td>\n",
       "      <td>-0.145729</td>\n",
       "      <td>-0.215178</td>\n",
       "      <td>-2.052385</td>\n",
       "      <td>0</td>\n",
       "      <td>0</td>\n",
       "      <td>0</td>\n",
       "      <td>0</td>\n",
       "      <td>1</td>\n",
       "      <td>0</td>\n",
       "      <td>0</td>\n",
       "      <td>0</td>\n",
       "      <td>0</td>\n",
       "      <td>1</td>\n",
       "      <td>0</td>\n",
       "      <td>0</td>\n",
       "      <td>0</td>\n",
       "      <td>0</td>\n",
       "      <td>0</td>\n",
       "      <td>0</td>\n",
       "      <td>0</td>\n",
       "      <td>0</td>\n",
       "      <td>0</td>\n",
       "      <td>0</td>\n",
       "      <td>0</td>\n",
       "      <td>0</td>\n",
       "      <td>0</td>\n",
       "      <td>0</td>\n",
       "      <td>1</td>\n",
       "      <td>0</td>\n",
       "      <td>0</td>\n",
       "      <td>0</td>\n",
       "      <td>0</td>\n",
       "      <td>0</td>\n",
       "      <td>0</td>\n",
       "      <td>0</td>\n",
       "      <td>1</td>\n",
       "      <td>0</td>\n",
       "      <td>0</td>\n",
       "      <td>...</td>\n",
       "      <td>0</td>\n",
       "      <td>0</td>\n",
       "      <td>0</td>\n",
       "      <td>0</td>\n",
       "      <td>0</td>\n",
       "      <td>0</td>\n",
       "      <td>0</td>\n",
       "      <td>0</td>\n",
       "      <td>0</td>\n",
       "      <td>0</td>\n",
       "      <td>0</td>\n",
       "      <td>0</td>\n",
       "      <td>0</td>\n",
       "      <td>0</td>\n",
       "      <td>0</td>\n",
       "      <td>0</td>\n",
       "      <td>0</td>\n",
       "      <td>0</td>\n",
       "      <td>0</td>\n",
       "      <td>0</td>\n",
       "      <td>0</td>\n",
       "      <td>0</td>\n",
       "      <td>0</td>\n",
       "      <td>0</td>\n",
       "      <td>0</td>\n",
       "      <td>0</td>\n",
       "      <td>0</td>\n",
       "      <td>0</td>\n",
       "      <td>0</td>\n",
       "      <td>0</td>\n",
       "      <td>0</td>\n",
       "      <td>0</td>\n",
       "      <td>0</td>\n",
       "      <td>0</td>\n",
       "      <td>0</td>\n",
       "      <td>0</td>\n",
       "      <td>0</td>\n",
       "      <td>1</td>\n",
       "      <td>0</td>\n",
       "      <td>0</td>\n",
       "    </tr>\n",
       "    <tr>\n",
       "      <th>32904</th>\n",
       "      <td>0.241956</td>\n",
       "      <td>1.134584</td>\n",
       "      <td>-0.145729</td>\n",
       "      <td>-0.215178</td>\n",
       "      <td>-0.191903</td>\n",
       "      <td>0</td>\n",
       "      <td>0</td>\n",
       "      <td>0</td>\n",
       "      <td>0</td>\n",
       "      <td>0</td>\n",
       "      <td>0</td>\n",
       "      <td>0</td>\n",
       "      <td>1</td>\n",
       "      <td>0</td>\n",
       "      <td>0</td>\n",
       "      <td>0</td>\n",
       "      <td>0</td>\n",
       "      <td>0</td>\n",
       "      <td>1</td>\n",
       "      <td>0</td>\n",
       "      <td>0</td>\n",
       "      <td>0</td>\n",
       "      <td>0</td>\n",
       "      <td>0</td>\n",
       "      <td>0</td>\n",
       "      <td>1</td>\n",
       "      <td>0</td>\n",
       "      <td>0</td>\n",
       "      <td>0</td>\n",
       "      <td>0</td>\n",
       "      <td>0</td>\n",
       "      <td>0</td>\n",
       "      <td>0</td>\n",
       "      <td>0</td>\n",
       "      <td>0</td>\n",
       "      <td>0</td>\n",
       "      <td>0</td>\n",
       "      <td>1</td>\n",
       "      <td>0</td>\n",
       "      <td>0</td>\n",
       "      <td>...</td>\n",
       "      <td>0</td>\n",
       "      <td>0</td>\n",
       "      <td>0</td>\n",
       "      <td>0</td>\n",
       "      <td>0</td>\n",
       "      <td>0</td>\n",
       "      <td>0</td>\n",
       "      <td>0</td>\n",
       "      <td>0</td>\n",
       "      <td>0</td>\n",
       "      <td>0</td>\n",
       "      <td>0</td>\n",
       "      <td>0</td>\n",
       "      <td>0</td>\n",
       "      <td>0</td>\n",
       "      <td>0</td>\n",
       "      <td>0</td>\n",
       "      <td>0</td>\n",
       "      <td>0</td>\n",
       "      <td>0</td>\n",
       "      <td>0</td>\n",
       "      <td>0</td>\n",
       "      <td>0</td>\n",
       "      <td>0</td>\n",
       "      <td>0</td>\n",
       "      <td>0</td>\n",
       "      <td>0</td>\n",
       "      <td>0</td>\n",
       "      <td>0</td>\n",
       "      <td>0</td>\n",
       "      <td>0</td>\n",
       "      <td>0</td>\n",
       "      <td>0</td>\n",
       "      <td>0</td>\n",
       "      <td>0</td>\n",
       "      <td>0</td>\n",
       "      <td>0</td>\n",
       "      <td>1</td>\n",
       "      <td>0</td>\n",
       "      <td>0</td>\n",
       "    </tr>\n",
       "    <tr>\n",
       "      <th>1855</th>\n",
       "      <td>0.606637</td>\n",
       "      <td>-0.420359</td>\n",
       "      <td>-0.145729</td>\n",
       "      <td>-0.215178</td>\n",
       "      <td>-0.839027</td>\n",
       "      <td>0</td>\n",
       "      <td>0</td>\n",
       "      <td>0</td>\n",
       "      <td>0</td>\n",
       "      <td>1</td>\n",
       "      <td>0</td>\n",
       "      <td>0</td>\n",
       "      <td>0</td>\n",
       "      <td>0</td>\n",
       "      <td>0</td>\n",
       "      <td>0</td>\n",
       "      <td>1</td>\n",
       "      <td>0</td>\n",
       "      <td>0</td>\n",
       "      <td>0</td>\n",
       "      <td>0</td>\n",
       "      <td>0</td>\n",
       "      <td>0</td>\n",
       "      <td>0</td>\n",
       "      <td>0</td>\n",
       "      <td>0</td>\n",
       "      <td>0</td>\n",
       "      <td>0</td>\n",
       "      <td>0</td>\n",
       "      <td>1</td>\n",
       "      <td>0</td>\n",
       "      <td>0</td>\n",
       "      <td>0</td>\n",
       "      <td>0</td>\n",
       "      <td>0</td>\n",
       "      <td>0</td>\n",
       "      <td>0</td>\n",
       "      <td>0</td>\n",
       "      <td>0</td>\n",
       "      <td>0</td>\n",
       "      <td>...</td>\n",
       "      <td>0</td>\n",
       "      <td>0</td>\n",
       "      <td>0</td>\n",
       "      <td>0</td>\n",
       "      <td>0</td>\n",
       "      <td>0</td>\n",
       "      <td>0</td>\n",
       "      <td>0</td>\n",
       "      <td>0</td>\n",
       "      <td>0</td>\n",
       "      <td>0</td>\n",
       "      <td>0</td>\n",
       "      <td>0</td>\n",
       "      <td>0</td>\n",
       "      <td>0</td>\n",
       "      <td>0</td>\n",
       "      <td>0</td>\n",
       "      <td>0</td>\n",
       "      <td>0</td>\n",
       "      <td>0</td>\n",
       "      <td>0</td>\n",
       "      <td>0</td>\n",
       "      <td>0</td>\n",
       "      <td>0</td>\n",
       "      <td>0</td>\n",
       "      <td>0</td>\n",
       "      <td>0</td>\n",
       "      <td>0</td>\n",
       "      <td>0</td>\n",
       "      <td>0</td>\n",
       "      <td>0</td>\n",
       "      <td>0</td>\n",
       "      <td>0</td>\n",
       "      <td>0</td>\n",
       "      <td>0</td>\n",
       "      <td>0</td>\n",
       "      <td>0</td>\n",
       "      <td>1</td>\n",
       "      <td>0</td>\n",
       "      <td>0</td>\n",
       "    </tr>\n",
       "    <tr>\n",
       "      <th>34608</th>\n",
       "      <td>-0.487408</td>\n",
       "      <td>0.745848</td>\n",
       "      <td>-0.145729</td>\n",
       "      <td>-0.215178</td>\n",
       "      <td>1.749469</td>\n",
       "      <td>0</td>\n",
       "      <td>0</td>\n",
       "      <td>0</td>\n",
       "      <td>0</td>\n",
       "      <td>1</td>\n",
       "      <td>0</td>\n",
       "      <td>0</td>\n",
       "      <td>0</td>\n",
       "      <td>0</td>\n",
       "      <td>0</td>\n",
       "      <td>0</td>\n",
       "      <td>1</td>\n",
       "      <td>0</td>\n",
       "      <td>0</td>\n",
       "      <td>0</td>\n",
       "      <td>0</td>\n",
       "      <td>0</td>\n",
       "      <td>0</td>\n",
       "      <td>0</td>\n",
       "      <td>0</td>\n",
       "      <td>0</td>\n",
       "      <td>0</td>\n",
       "      <td>0</td>\n",
       "      <td>1</td>\n",
       "      <td>0</td>\n",
       "      <td>0</td>\n",
       "      <td>0</td>\n",
       "      <td>0</td>\n",
       "      <td>0</td>\n",
       "      <td>0</td>\n",
       "      <td>0</td>\n",
       "      <td>1</td>\n",
       "      <td>0</td>\n",
       "      <td>0</td>\n",
       "      <td>0</td>\n",
       "      <td>...</td>\n",
       "      <td>0</td>\n",
       "      <td>0</td>\n",
       "      <td>0</td>\n",
       "      <td>0</td>\n",
       "      <td>0</td>\n",
       "      <td>0</td>\n",
       "      <td>0</td>\n",
       "      <td>0</td>\n",
       "      <td>0</td>\n",
       "      <td>0</td>\n",
       "      <td>0</td>\n",
       "      <td>0</td>\n",
       "      <td>0</td>\n",
       "      <td>0</td>\n",
       "      <td>0</td>\n",
       "      <td>0</td>\n",
       "      <td>0</td>\n",
       "      <td>0</td>\n",
       "      <td>0</td>\n",
       "      <td>0</td>\n",
       "      <td>0</td>\n",
       "      <td>0</td>\n",
       "      <td>0</td>\n",
       "      <td>0</td>\n",
       "      <td>0</td>\n",
       "      <td>0</td>\n",
       "      <td>0</td>\n",
       "      <td>0</td>\n",
       "      <td>0</td>\n",
       "      <td>0</td>\n",
       "      <td>0</td>\n",
       "      <td>0</td>\n",
       "      <td>0</td>\n",
       "      <td>0</td>\n",
       "      <td>0</td>\n",
       "      <td>0</td>\n",
       "      <td>0</td>\n",
       "      <td>1</td>\n",
       "      <td>0</td>\n",
       "      <td>0</td>\n",
       "    </tr>\n",
       "    <tr>\n",
       "      <th>4609</th>\n",
       "      <td>1.263064</td>\n",
       "      <td>1.912055</td>\n",
       "      <td>13.476934</td>\n",
       "      <td>-0.215178</td>\n",
       "      <td>0.374330</td>\n",
       "      <td>0</td>\n",
       "      <td>0</td>\n",
       "      <td>0</td>\n",
       "      <td>0</td>\n",
       "      <td>0</td>\n",
       "      <td>1</td>\n",
       "      <td>0</td>\n",
       "      <td>0</td>\n",
       "      <td>0</td>\n",
       "      <td>0</td>\n",
       "      <td>0</td>\n",
       "      <td>1</td>\n",
       "      <td>0</td>\n",
       "      <td>0</td>\n",
       "      <td>0</td>\n",
       "      <td>0</td>\n",
       "      <td>0</td>\n",
       "      <td>0</td>\n",
       "      <td>0</td>\n",
       "      <td>0</td>\n",
       "      <td>0</td>\n",
       "      <td>0</td>\n",
       "      <td>0</td>\n",
       "      <td>0</td>\n",
       "      <td>0</td>\n",
       "      <td>0</td>\n",
       "      <td>1</td>\n",
       "      <td>0</td>\n",
       "      <td>0</td>\n",
       "      <td>0</td>\n",
       "      <td>0</td>\n",
       "      <td>1</td>\n",
       "      <td>0</td>\n",
       "      <td>0</td>\n",
       "      <td>0</td>\n",
       "      <td>...</td>\n",
       "      <td>0</td>\n",
       "      <td>0</td>\n",
       "      <td>0</td>\n",
       "      <td>0</td>\n",
       "      <td>0</td>\n",
       "      <td>0</td>\n",
       "      <td>0</td>\n",
       "      <td>0</td>\n",
       "      <td>0</td>\n",
       "      <td>0</td>\n",
       "      <td>0</td>\n",
       "      <td>0</td>\n",
       "      <td>0</td>\n",
       "      <td>0</td>\n",
       "      <td>0</td>\n",
       "      <td>0</td>\n",
       "      <td>0</td>\n",
       "      <td>0</td>\n",
       "      <td>0</td>\n",
       "      <td>0</td>\n",
       "      <td>0</td>\n",
       "      <td>0</td>\n",
       "      <td>0</td>\n",
       "      <td>0</td>\n",
       "      <td>0</td>\n",
       "      <td>0</td>\n",
       "      <td>0</td>\n",
       "      <td>0</td>\n",
       "      <td>0</td>\n",
       "      <td>0</td>\n",
       "      <td>0</td>\n",
       "      <td>0</td>\n",
       "      <td>0</td>\n",
       "      <td>0</td>\n",
       "      <td>0</td>\n",
       "      <td>0</td>\n",
       "      <td>0</td>\n",
       "      <td>1</td>\n",
       "      <td>0</td>\n",
       "      <td>0</td>\n",
       "    </tr>\n",
       "  </tbody>\n",
       "</table>\n",
       "<p>5 rows × 91 columns</p>\n",
       "</div>"
      ],
      "text/plain": [
       "            age  ...  native-country_Yugoslavia\n",
       "31768 -0.560344  ...                          0\n",
       "32904  0.241956  ...                          0\n",
       "1855   0.606637  ...                          0\n",
       "34608 -0.487408  ...                          0\n",
       "4609   1.263064  ...                          0\n",
       "\n",
       "[5 rows x 91 columns]"
      ]
     },
     "execution_count": 2,
     "metadata": {},
     "output_type": "execute_result"
    }
   ],
   "source": [
    "from sklearn.model_selection import train_test_split\n",
    "from sklearn.preprocessing import StandardScaler, OneHotEncoder\n",
    "\n",
    "base_treino['income'] = base_treino['income'].map({'<=50K': 0, '>50K': 1})\n",
    "\n",
    "base_treino = base_treino.dropna()\n",
    "\n",
    "categ_features = ['workclass', 'marital-status', 'occupation', 'relationship', 'race', 'gender', 'native-country']\n",
    "num_features = ['age', 'educational-num', 'capital-gain', 'capital-loss', 'hours-per-week']\n",
    "\n",
    "X = base_treino[categ_features + num_features]\n",
    "y = base_treino['income']\n",
    "\n",
    "# Tratamento das categóricas\n",
    "\n",
    "X = pd.get_dummies(X, columns=categ_features)\n",
    "\n",
    "print(X.shape, y.shape)\n",
    "\n",
    "X_train, X_valid, y_train, y_valid = train_test_split(X, \n",
    "                                                    y, \n",
    "                                                    test_size=0.3, \n",
    "                                                    random_state=12)\n",
    "\n",
    "print(X_train.shape, y_train.shape)\n",
    "print(X_valid.shape, y_valid.shape)\n",
    "\n",
    "# Tratamento numéricas\n",
    "\n",
    "standard_scaler = StandardScaler()\n",
    "\n",
    "X_train[num_features] = standard_scaler.fit_transform(X_train[num_features])\n",
    "X_valid[num_features] = standard_scaler.transform(X_valid[num_features])\n",
    "\n",
    "X_train.head()"
   ]
  },
  {
   "cell_type": "code",
   "execution_count": 3,
   "id": "c276d5a5",
   "metadata": {
    "id": "c276d5a5"
   },
   "outputs": [],
   "source": [
    "import pandas as pd\n",
    "import numpy as np\n",
    "\n",
    "import tensorflow as tf\n",
    "from tensorflow import keras\n",
    "from tensorflow.keras import layers"
   ]
  },
  {
   "cell_type": "code",
   "execution_count": 4,
   "id": "31b43bcb",
   "metadata": {
    "colab": {
     "base_uri": "https://localhost:8080/"
    },
    "id": "31b43bcb",
    "outputId": "35f8e381-349d-4700-b663-194153d2c9b4"
   },
   "outputs": [
    {
     "name": "stdout",
     "output_type": "stream",
     "text": [
      "Model: \"sequential\"\n",
      "_________________________________________________________________\n",
      " Layer (type)                Output Shape              Param #   \n",
      "=================================================================\n",
      " layer1 (Dense)              (None, 100)               9200      \n",
      "                                                                 \n",
      " layer2 (Dense)              (None, 50)                5050      \n",
      "                                                                 \n",
      " dense (Dense)               (None, 1)                 51        \n",
      "                                                                 \n",
      "=================================================================\n",
      "Total params: 14,301\n",
      "Trainable params: 14,301\n",
      "Non-trainable params: 0\n",
      "_________________________________________________________________\n"
     ]
    }
   ],
   "source": [
    "modelo = keras.Sequential(\n",
    "    [\n",
    "        layers.Dense(100, input_dim=X_train.shape[1], activation=\"relu\", name=\"layer1\"),\n",
    "        layers.Dense(50, activation=\"relu\", name=\"layer2\"),\n",
    "        layers.Dense(1, activation=\"sigmoid\"),\n",
    "    ]\n",
    ")\n",
    "\n",
    "modelo.summary()"
   ]
  },
  {
   "cell_type": "code",
   "execution_count": 10,
   "id": "iJ2qA-rJVSxF",
   "metadata": {
    "colab": {
     "base_uri": "https://localhost:8080/"
    },
    "id": "iJ2qA-rJVSxF",
    "outputId": "b9aab416-2dfa-4838-ec79-aa37ae43bd78"
   },
   "outputs": [
    {
     "name": "stdout",
     "output_type": "stream",
     "text": [
      "Model: \"sequential_2\"\n",
      "_________________________________________________________________\n",
      " Layer (type)                Output Shape              Param #   \n",
      "=================================================================\n",
      " layer1 (Dense)              (None, 100)               9200      \n",
      "                                                                 \n",
      " layer2 (Dense)              (None, 50)                5050      \n",
      "                                                                 \n",
      " dense_2 (Dense)             (None, 1)                 51        \n",
      "                                                                 \n",
      "=================================================================\n",
      "Total params: 14,301\n",
      "Trainable params: 14,301\n",
      "Non-trainable params: 0\n",
      "_________________________________________________________________\n"
     ]
    }
   ],
   "source": [
    "modelo = keras.Sequential()\n",
    "\n",
    "modelo.add(layers.Dense(100, input_dim=X_train.shape[1], activation=\"relu\", name=\"layer1\"))\n",
    "modelo.add(layers.Dense(50, activation=\"relu\", name=\"layer2\"))\n",
    "modelo.add(layers.Dense(1, activation=\"sigmoid\"))\n",
    "\n",
    "modelo.summary()"
   ]
  },
  {
   "cell_type": "code",
   "execution_count": 11,
   "id": "Hry6hblhVCI4",
   "metadata": {
    "colab": {
     "base_uri": "https://localhost:8080/",
     "height": 422
    },
    "id": "Hry6hblhVCI4",
    "outputId": "6e5ff108-1444-425f-e838-95a86dd8fd25"
   },
   "outputs": [
    {
     "data": {
      "image/png": "[encoded data removed]",
      "text/plain": [
       "<IPython.core.display.Image object>"
      ]
     },
     "execution_count": 11,
     "metadata": {},
     "output_type": "execute_result"
    }
   ],
   "source": [
    "keras.utils.plot_model(modelo, show_shapes=True)"
   ]
  },
  {
   "cell_type": "code",
   "execution_count": 12,
   "id": "----wrRHE_cb",
   "metadata": {
    "id": "----wrRHE_cb"
   },
   "outputs": [],
   "source": [
    "modelo.compile(\n",
    "    optimizer=keras.optimizers.Adam(learning_rate=0.001),\n",
    "    loss=keras.losses.BinaryCrossentropy(),\n",
    "    metrics=[keras.metrics.BinaryAccuracy()],\n",
    ")"
   ]
  },
  {
   "cell_type": "code",
   "execution_count": 13,
   "id": "tJaX8ErWFWJh",
   "metadata": {
    "colab": {
     "base_uri": "https://localhost:8080/"
    },
    "id": "tJaX8ErWFWJh",
    "outputId": "05d0383d-8b83-4c3c-eca7-f1dda3531ca0"
   },
   "outputs": [
    {
     "name": "stdout",
     "output_type": "stream",
     "text": [
      "Treino do modelo\n",
      "Epoch 1/4\n",
      "137/137 [==============================] - 1s 3ms/step - loss: 0.3625 - binary_accuracy: 0.8312 - val_loss: 0.3198 - val_binary_accuracy: 0.8521\n",
      "Epoch 2/4\n",
      "137/137 [==============================] - 0s 2ms/step - loss: 0.3091 - binary_accuracy: 0.8552 - val_loss: 0.3157 - val_binary_accuracy: 0.8511\n",
      "Epoch 3/4\n",
      "137/137 [==============================] - 0s 3ms/step - loss: 0.3046 - binary_accuracy: 0.8578 - val_loss: 0.3148 - val_binary_accuracy: 0.8531\n",
      "Epoch 4/4\n",
      "137/137 [==============================] - 0s 3ms/step - loss: 0.3020 - binary_accuracy: 0.8567 - val_loss: 0.3136 - val_binary_accuracy: 0.8517\n"
     ]
    }
   ],
   "source": [
    "print(\"Treino do modelo\")\n",
    "history = modelo.fit(\n",
    "    X_train.values,\n",
    "    y_train.values,\n",
    "    batch_size=200,\n",
    "    epochs=4,\n",
    "    validation_data=(X_valid.values, y_valid.values),\n",
    ")"
   ]
  },
  {
   "cell_type": "code",
   "execution_count": 14,
   "id": "Qx18tyt2atNa",
   "metadata": {
    "colab": {
     "base_uri": "https://localhost:8080/",
     "height": 374
    },
    "id": "Qx18tyt2atNa",
    "outputId": "58eadf49-655c-4ce1-ddd3-ed4f52681eff"
   },
   "outputs": [
    {
     "data": {
      "image/png": "[encoded data removed]",
      "text/plain": [
       "<Figure size 864x432 with 1 Axes>"
      ]
     },
     "metadata": {
      "needs_background": "light"
     },
     "output_type": "display_data"
    }
   ],
   "source": [
    "from matplotlib import pyplot as plt\n",
    "\n",
    "plt.figure(figsize=(12, 6))\n",
    "\n",
    "plt.plot(history.history['loss'], label='train')\n",
    "plt.plot(history.history['val_loss'], label='valid')\n",
    "# plt.plot(history.history['val_binary_accuracy'], label='acc_valid')\n",
    "\n",
    "plt.legend()\n",
    "\n",
    "plt.show()"
   ]
  },
  {
   "cell_type": "code",
   "execution_count": 251,
   "id": "wXOOzGIRQHw4",
   "metadata": {
    "colab": {
     "base_uri": "https://localhost:8080/",
     "height": 374
    },
    "id": "wXOOzGIRQHw4",
    "outputId": "aad775b1-a34e-4b5b-8a64-ce7fca211a51"
   },
   "outputs": [
    {
     "data": {
      "image/png": "[encoded data removed]",
      "text/plain": [
       "<Figure size 864x432 with 1 Axes>"
      ]
     },
     "metadata": {
      "needs_background": "light"
     },
     "output_type": "display_data"
    }
   ],
   "source": [
    "from matplotlib import pyplot as plt\n",
    "\n",
    "plt.figure(figsize=(12, 6))\n",
    "\n",
    "plt.plot(history.history['loss'], label='train')\n",
    "plt.plot(history.history['val_loss'], label='valid')\n",
    "# plt.plot(history.history['val_binary_accuracy'], label='acc_valid')\n",
    "\n",
    "plt.legend()\n",
    "\n",
    "plt.show()"
   ]
  },
  {
   "cell_type": "code",
   "execution_count": 253,
   "id": "0bab15fb",
   "metadata": {
    "colab": {
     "base_uri": "https://localhost:8080/"
    },
    "id": "0bab15fb",
    "outputId": "06b4966f-e847-4f23-e439-7122e04269a1"
   },
   "outputs": [
    {
     "name": "stdout",
     "output_type": "stream",
     "text": [
      "(27351,) (11723,)\n"
     ]
    }
   ],
   "source": [
    "y_train_pred = modelo.predict(X_train.values).reshape(-1)\n",
    "\n",
    "y_valid_pred = modelo.predict(X_valid.values).reshape(-1)\n",
    "\n",
    "print(y_train_pred.shape, y_valid_pred.shape)"
   ]
  },
  {
   "cell_type": "code",
   "execution_count": 226,
   "id": "r2mHzWwCNUnX",
   "metadata": {
    "id": "r2mHzWwCNUnX"
   },
   "outputs": [],
   "source": [
    "def get_prediction(y_predict_proba, corte=0.5):\n",
    "    y_predict_proba = y_predict_proba.copy()\n",
    "\n",
    "    mask = (y_predict_proba >= corte)\n",
    "    y_predict_proba[mask] = 1\n",
    "    y_predict_proba[~mask] = 0\n",
    "    \n",
    "    return y_predict_proba"
   ]
  },
  {
   "cell_type": "code",
   "execution_count": 254,
   "id": "Befw93xoOHzM",
   "metadata": {
    "id": "Befw93xoOHzM"
   },
   "outputs": [],
   "source": [
    "CORTE = 0.5\n",
    "\n",
    "y_train_pred = get_prediction(y_train_pred, corte=CORTE)\n",
    "\n",
    "y_valid_pred = get_prediction(y_valid_pred, corte=CORTE)"
   ]
  },
  {
   "cell_type": "code",
   "execution_count": 256,
   "id": "755d146a",
   "metadata": {
    "colab": {
     "base_uri": "https://localhost:8080/"
    },
    "id": "755d146a",
    "outputId": "8d1d1090-2268-4206-9b1f-3899873cb115"
   },
   "outputs": [
    {
     "name": "stdout",
     "output_type": "stream",
     "text": [
      "Treino:\n",
      "Acc: 0.852, Precision: 0.73, Recall: 0.61\n",
      "Validação:\n",
      "Acc: 0.848, Precision: 0.72, Recall: 0.60\n"
     ]
    }
   ],
   "source": [
    "from sklearn.metrics import accuracy_score, precision_score, recall_score\n",
    "\n",
    "acc_train = accuracy_score(y_train, y_train_pred)\n",
    "prec_train = precision_score(y_train, y_train_pred)\n",
    "rec_train = recall_score(y_train, y_train_pred)\n",
    "\n",
    "acc_valid = accuracy_score(y_valid, y_valid_pred)\n",
    "prec_valid = precision_score(y_valid, y_valid_pred)\n",
    "rec_valid = recall_score(y_valid, y_valid_pred)\n",
    "\n",
    "print(f'Treino:\\nAcc: {acc_train:.3f}, Precision: {prec_train:.2f}, Recall: {rec_train:.2f}')\n",
    "print(f'Validação:\\nAcc: {acc_valid:.3f}, Precision: {prec_valid:.2f}, Recall: {rec_valid:.2f}')"
   ]
  },
  {
   "cell_type": "code",
   "execution_count": 15,
   "id": "s6RZhySJay9a",
   "metadata": {
    "colab": {
     "base_uri": "https://localhost:8080/"
    },
    "id": "s6RZhySJay9a",
    "outputId": "34c5ce98-2228-4dac-9697-089e876716bd"
   },
   "outputs": [
    {
     "name": "stdout",
     "output_type": "stream",
     "text": [
      "INFO:tensorflow:Assets written to: modelo_renda_v0/assets\n"
     ]
    }
   ],
   "source": [
    "modelo.save('modelo_renda_v0')"
   ]
  },
  {
   "cell_type": "code",
   "execution_count": 16,
   "id": "83eeDtPmd4Sp",
   "metadata": {
    "id": "83eeDtPmd4Sp"
   },
   "outputs": [],
   "source": [
    "modelo_carregado = keras.models.load_model('modelo_renda_v0')"
   ]
  },
  {
   "cell_type": "code",
   "execution_count": 17,
   "id": "YEhNzOZieDgo",
   "metadata": {
    "colab": {
     "base_uri": "https://localhost:8080/"
    },
    "id": "YEhNzOZieDgo",
    "outputId": "d4dcb5e7-bab3-4f59-8426-f2806be73334"
   },
   "outputs": [
    {
     "data": {
      "text/plain": [
       "array([[0.52810955],\n",
       "       [0.05185175],\n",
       "       [0.00554144],\n",
       "       ...,\n",
       "       [0.71399236],\n",
       "       [0.45886245],\n",
       "       [0.00729081]], dtype=float32)"
      ]
     },
     "execution_count": 17,
     "metadata": {},
     "output_type": "execute_result"
    }
   ],
   "source": [
    "modelo.predict(X_valid.values)"
   ]
  },
  {
   "cell_type": "markdown",
   "id": "01dd6d1f",
   "metadata": {
    "id": "01dd6d1f"
   },
   "source": [
    "----------"
   ]
  },
  {
   "cell_type": "markdown",
   "id": "921081d6",
   "metadata": {
    "id": "921081d6"
   },
   "source": [
    "# Pra anotar"
   ]
  },
  {
   "cell_type": "markdown",
   "id": "526c7563",
   "metadata": {
    "id": "526c7563"
   },
   "source": [
    "- Redes neurais MLP são extremamente versáteis e podem ser aplicadas em diversas tarefas de aprendizado supervisionado;\n",
    "\n",
    "- Perdemos muita interpretabilidade ao utilizar esse tipo de modelo, então dê prefência para algoritmos mais simbólicos, ao menos que o desempenho utilizando MLP seja significativamente maior."
   ]
  }
 ],
 "metadata": {
  "colab": {
   "collapsed_sections": [],
   "name": "Aula 10 - MLP 2.ipynb",
   "provenance": []
  },
  "kernelspec": {
   "display_name": "Python 3",
   "language": "python",
   "name": "python3"
  },
  "language_info": {
   "codemirror_mode": {
    "name": "ipython",
    "version": 3
   },
   "file_extension": ".py",
   "mimetype": "text/x-python",
   "name": "python",
   "nbconvert_exporter": "python",
   "pygments_lexer": "ipython3",
   "version": "3.9.5"
  }
 },
 "nbformat": 4,
 "nbformat_minor": 5
}
