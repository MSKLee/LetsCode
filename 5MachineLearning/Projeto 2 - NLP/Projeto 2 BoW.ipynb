{
 "cells": [
  {
   "cell_type": "code",
   "execution_count": 1,
   "metadata": {},
   "outputs": [
    {
     "name": "stdout",
     "output_type": "stream",
     "text": [
      "(95000, 5)\n"
     ]
    },
    {
     "data": {
      "text/html": [
       "<div>\n",
       "<style scoped>\n",
       "    .dataframe tbody tr th:only-of-type {\n",
       "        vertical-align: middle;\n",
       "    }\n",
       "\n",
       "    .dataframe tbody tr th {\n",
       "        vertical-align: top;\n",
       "    }\n",
       "\n",
       "    .dataframe thead th {\n",
       "        text-align: right;\n",
       "    }\n",
       "</style>\n",
       "<table border=\"1\" class=\"dataframe\">\n",
       "  <thead>\n",
       "    <tr style=\"text-align: right;\">\n",
       "      <th></th>\n",
       "      <th>id</th>\n",
       "      <th>tweet_text</th>\n",
       "      <th>tweet_date</th>\n",
       "      <th>sentiment</th>\n",
       "      <th>query_used</th>\n",
       "    </tr>\n",
       "  </thead>\n",
       "  <tbody>\n",
       "    <tr>\n",
       "      <th>92543</th>\n",
       "      <td>1047063581479641088</td>\n",
       "      <td>@QueziaRamalho @MarceloFreixo Bem que ele pode...</td>\n",
       "      <td>Tue Oct 02 09:59:45 +0000 2018</td>\n",
       "      <td>0</td>\n",
       "      <td>:(</td>\n",
       "    </tr>\n",
       "    <tr>\n",
       "      <th>54014</th>\n",
       "      <td>1049161096102330369</td>\n",
       "      <td>próxima vez não só o nordeste, mas também o ne...</td>\n",
       "      <td>Mon Oct 08 04:54:32 +0000 2018</td>\n",
       "      <td>0</td>\n",
       "      <td>:(</td>\n",
       "    </tr>\n",
       "    <tr>\n",
       "      <th>70646</th>\n",
       "      <td>1050770025307627520</td>\n",
       "      <td>@brztriz ficou lindimais. ai kkkkkkj acho que ...</td>\n",
       "      <td>Fri Oct 12 15:27:51 +0000 2018</td>\n",
       "      <td>1</td>\n",
       "      <td>:)</td>\n",
       "    </tr>\n",
       "    <tr>\n",
       "      <th>87239</th>\n",
       "      <td>1037811722638295041</td>\n",
       "      <td>'É inaceitável que atitudes extremadas maculem...</td>\n",
       "      <td>Thu Sep 06 21:16:10 +0000 2018</td>\n",
       "      <td>2</td>\n",
       "      <td>folha</td>\n",
       "    </tr>\n",
       "    <tr>\n",
       "      <th>85136</th>\n",
       "      <td>1049316186763276288</td>\n",
       "      <td>@digavivian To igualzinha, vi :( força pra nós</td>\n",
       "      <td>Mon Oct 08 15:10:48 +0000 2018</td>\n",
       "      <td>0</td>\n",
       "      <td>:(</td>\n",
       "    </tr>\n",
       "  </tbody>\n",
       "</table>\n",
       "</div>"
      ],
      "text/plain": [
       "                        id                                         tweet_text  \\\n",
       "92543  1047063581479641088  @QueziaRamalho @MarceloFreixo Bem que ele pode...   \n",
       "54014  1049161096102330369  próxima vez não só o nordeste, mas também o ne...   \n",
       "70646  1050770025307627520  @brztriz ficou lindimais. ai kkkkkkj acho que ...   \n",
       "87239  1037811722638295041  'É inaceitável que atitudes extremadas maculem...   \n",
       "85136  1049316186763276288     @digavivian To igualzinha, vi :( força pra nós   \n",
       "\n",
       "                           tweet_date  sentiment query_used  \n",
       "92543  Tue Oct 02 09:59:45 +0000 2018          0         :(  \n",
       "54014  Mon Oct 08 04:54:32 +0000 2018          0         :(  \n",
       "70646  Fri Oct 12 15:27:51 +0000 2018          1         :)  \n",
       "87239  Thu Sep 06 21:16:10 +0000 2018          2      folha  \n",
       "85136  Mon Oct 08 15:10:48 +0000 2018          0         :(  "
      ]
     },
     "execution_count": 1,
     "metadata": {},
     "output_type": "execute_result"
    }
   ],
   "source": [
    "# Importando os dados do arquivo csv\n",
    "\n",
    "import pandas as pd\n",
    "\n",
    "df_tweet = pd.read_csv('Dados/train/Train3classes.csv')\n",
    "\n",
    "print(df_tweet.shape)\n",
    "\n",
    "df_tweet.sample(10).head()"
   ]
  },
  {
   "cell_type": "code",
   "execution_count": 2,
   "metadata": {},
   "outputs": [],
   "source": [
    "from sklearn.model_selection import train_test_split"
   ]
  },
  {
   "cell_type": "code",
   "execution_count": 3,
   "metadata": {},
   "outputs": [],
   "source": [
    "# Separando o Dataframe em Dataframe de Treino e de Teste\n",
    "\n",
    "df_experiment, df_test = train_test_split(df_tweet, test_size=.3)"
   ]
  },
  {
   "cell_type": "code",
   "execution_count": 4,
   "metadata": {},
   "outputs": [
    {
     "name": "stdout",
     "output_type": "stream",
     "text": [
      "443 linhas duplicadas em 66500 registros\n"
     ]
    }
   ],
   "source": [
    "SUBSET_DUPLICADOS = df_experiment.drop(['tweet_date', 'id'], axis=1).columns.to_list()\n",
    "\n",
    "num_duplicados = df_experiment.duplicated(subset=SUBSET_DUPLICADOS).sum()\n",
    "\n",
    "print(f'{num_duplicados} linhas duplicadas em {len(df_experiment)} registros')"
   ]
  },
  {
   "cell_type": "code",
   "execution_count": 5,
   "metadata": {},
   "outputs": [
    {
     "name": "stdout",
     "output_type": "stream",
     "text": [
      "(66057, 5) 0\n"
     ]
    }
   ],
   "source": [
    "df_experiment = df_experiment.drop_duplicates(subset=SUBSET_DUPLICADOS)\n",
    "\n",
    "print(df_experiment.shape, f'{df_experiment.duplicated(subset=SUBSET_DUPLICADOS).sum()}')"
   ]
  },
  {
   "cell_type": "code",
   "execution_count": 6,
   "metadata": {
    "scrolled": false
   },
   "outputs": [
    {
     "data": {
      "text/plain": [
       "<AxesSubplot:>"
      ]
     },
     "execution_count": 6,
     "metadata": {},
     "output_type": "execute_result"
    },
    {
     "data": {
      "image/png": "[encoded data removed]",
      "text/plain": [
       "<Figure size 1728x720 with 3 Axes>"
      ]
     },
     "metadata": {
      "needs_background": "light"
     },
     "output_type": "display_data"
    }
   ],
   "source": [
    "import missingno as msno\n",
    "msno.bar(df_experiment)"
   ]
  },
  {
   "cell_type": "code",
   "execution_count": 7,
   "metadata": {},
   "outputs": [],
   "source": [
    "#df_experiment[['tweet_text', 'sentiment']].drop_duplicates()"
   ]
  },
  {
   "cell_type": "code",
   "execution_count": 8,
   "metadata": {},
   "outputs": [],
   "source": [
    "import re\n",
    "\n",
    "def clean_https(df):\n",
    "    text = df['tweet_text'].apply(lambda x: re.split('https:\\/\\/.*', str(x))[0]);\n",
    "    \n",
    "    return text"
   ]
  },
  {
   "cell_type": "code",
   "execution_count": 9,
   "metadata": {},
   "outputs": [
    {
     "data": {
      "text/plain": [
       "45931    a cara da wendy de desconforto deve ser péssim...\n",
       "82237                @estudevictor @gugtavas Opa... obg :D\n",
       "16382    @JKM940 Ih, bebê. Essa base que eu to é do meu...\n",
       "6376     @_whoisge HAHAHAHAAHAHA PORRA GE, pior que ta ...\n",
       "50345    Brasileiro de 2018 está entre os mais equilibr...\n",
       "                               ...                        \n",
       "55605    Trump anuncia início de negociações de acordo ...\n",
       "11100    @ohmyseokie brigada nene :( eu ando bem mal e ...\n",
       "79017    Empresas valorizam cada vez mais a ocupação de...\n",
       "81266    @MozonaShawn Uii bruxa Na minha escola não tem...\n",
       "6322        O Netflix BR vai exibir a série dos Titãs. :) \n",
       "Name: tweet_text, Length: 66057, dtype: object"
      ]
     },
     "execution_count": 9,
     "metadata": {},
     "output_type": "execute_result"
    }
   ],
   "source": [
    "clean_https(df_experiment)"
   ]
  },
  {
   "cell_type": "code",
   "execution_count": 10,
   "metadata": {},
   "outputs": [
    {
     "data": {
      "text/html": [
       "<div>\n",
       "<style scoped>\n",
       "    .dataframe tbody tr th:only-of-type {\n",
       "        vertical-align: middle;\n",
       "    }\n",
       "\n",
       "    .dataframe tbody tr th {\n",
       "        vertical-align: top;\n",
       "    }\n",
       "\n",
       "    .dataframe thead th {\n",
       "        text-align: right;\n",
       "    }\n",
       "</style>\n",
       "<table border=\"1\" class=\"dataframe\">\n",
       "  <thead>\n",
       "    <tr style=\"text-align: right;\">\n",
       "      <th></th>\n",
       "      <th>id</th>\n",
       "      <th>tweet_text</th>\n",
       "      <th>tweet_date</th>\n",
       "      <th>sentiment</th>\n",
       "      <th>query_used</th>\n",
       "    </tr>\n",
       "  </thead>\n",
       "  <tbody>\n",
       "    <tr>\n",
       "      <th>31678</th>\n",
       "      <td>1047467157624381440</td>\n",
       "      <td>caraca ! e o futuro não para ! +3,6% já, 84.90...</td>\n",
       "      <td>Wed Oct 03 12:43:26 +0000 2018</td>\n",
       "      <td>1</td>\n",
       "      <td>:)</td>\n",
       "    </tr>\n",
       "    <tr>\n",
       "      <th>92938</th>\n",
       "      <td>1048196335210569728</td>\n",
       "      <td>Bolsonaro lidera entre evangélicos; vantagem e...</td>\n",
       "      <td>Fri Oct 05 13:00:55 +0000 2018</td>\n",
       "      <td>2</td>\n",
       "      <td>veja</td>\n",
       "    </tr>\n",
       "    <tr>\n",
       "      <th>52632</th>\n",
       "      <td>1047553552070135811</td>\n",
       "      <td>q vontade de mandar tudo mundo se fuder :)</td>\n",
       "      <td>Wed Oct 03 18:26:44 +0000 2018</td>\n",
       "      <td>1</td>\n",
       "      <td>:)</td>\n",
       "    </tr>\n",
       "    <tr>\n",
       "      <th>19791</th>\n",
       "      <td>1046794416487378946</td>\n",
       "      <td>Eu não sei se tou triste ou feliz (:(</td>\n",
       "      <td>Mon Oct 01 16:10:12 +0000 2018</td>\n",
       "      <td>0</td>\n",
       "      <td>:(</td>\n",
       "    </tr>\n",
       "    <tr>\n",
       "      <th>3783</th>\n",
       "      <td>1044612981424836609</td>\n",
       "      <td>Após queda de premiê, partido sueco anti-imigr...</td>\n",
       "      <td>Tue Sep 25 15:41:57 +0000 2018</td>\n",
       "      <td>2</td>\n",
       "      <td>exame</td>\n",
       "    </tr>\n",
       "  </tbody>\n",
       "</table>\n",
       "</div>"
      ],
      "text/plain": [
       "                        id                                         tweet_text  \\\n",
       "31678  1047467157624381440  caraca ! e o futuro não para ! +3,6% já, 84.90...   \n",
       "92938  1048196335210569728  Bolsonaro lidera entre evangélicos; vantagem e...   \n",
       "52632  1047553552070135811         q vontade de mandar tudo mundo se fuder :)   \n",
       "19791  1046794416487378946              Eu não sei se tou triste ou feliz (:(   \n",
       "3783   1044612981424836609  Após queda de premiê, partido sueco anti-imigr...   \n",
       "\n",
       "                           tweet_date  sentiment query_used  \n",
       "31678  Wed Oct 03 12:43:26 +0000 2018          1         :)  \n",
       "92938  Fri Oct 05 13:00:55 +0000 2018          2       veja  \n",
       "52632  Wed Oct 03 18:26:44 +0000 2018          1         :)  \n",
       "19791  Mon Oct 01 16:10:12 +0000 2018          0         :(  \n",
       "3783   Tue Sep 25 15:41:57 +0000 2018          2      exame  "
      ]
     },
     "execution_count": 10,
     "metadata": {},
     "output_type": "execute_result"
    }
   ],
   "source": [
    "df_experiment.sample(10).head()"
   ]
  },
  {
   "cell_type": "code",
   "execution_count": 11,
   "metadata": {},
   "outputs": [],
   "source": [
    "df_train, df_valid = train_test_split(df_experiment, test_size=.2)"
   ]
  },
  {
   "cell_type": "code",
   "execution_count": 12,
   "metadata": {},
   "outputs": [
    {
     "name": "stdout",
     "output_type": "stream",
     "text": [
      "(52845,) (52845,)\n",
      "(13212,) (13212,)\n"
     ]
    }
   ],
   "source": [
    "x_train, y_train = df_train['tweet_text'], df_train['sentiment']\n",
    "x_valid, y_valid = df_valid['tweet_text'], df_valid['sentiment']\n",
    "\n",
    "print(x_train.shape, y_train.shape)\n",
    "print(x_valid.shape, y_valid.shape)"
   ]
  },
  {
   "cell_type": "code",
   "execution_count": 13,
   "metadata": {},
   "outputs": [
    {
     "data": {
      "text/plain": [
       "CountVectorizer(max_features=10000)"
      ]
     },
     "execution_count": 13,
     "metadata": {},
     "output_type": "execute_result"
    }
   ],
   "source": [
    "from sklearn.feature_extraction.text import CountVectorizer\n",
    "\n",
    "vectorizer = CountVectorizer(max_features=10000)\n",
    "\n",
    "vectorizer.fit(x_train)"
   ]
  },
  {
   "cell_type": "code",
   "execution_count": 14,
   "metadata": {},
   "outputs": [
    {
     "name": "stdout",
     "output_type": "stream",
     "text": [
      "(52845, 10000)\n",
      "(13212, 10000)\n"
     ]
    }
   ],
   "source": [
    "x_train_transformed = vectorizer.transform(x_train).toarray()\n",
    "\n",
    "print(x_train_transformed.shape)\n",
    "\n",
    "x_valid_transformed = vectorizer.transform(x_valid).toarray()\n",
    "\n",
    "print(x_valid_transformed.shape)"
   ]
  },
  {
   "cell_type": "code",
   "execution_count": 15,
   "metadata": {},
   "outputs": [],
   "source": [
    "from sklearn.naive_bayes import MultinomialNB"
   ]
  },
  {
   "cell_type": "code",
   "execution_count": 16,
   "metadata": {},
   "outputs": [
    {
     "data": {
      "text/plain": [
       "MultinomialNB()"
      ]
     },
     "execution_count": 16,
     "metadata": {},
     "output_type": "execute_result"
    }
   ],
   "source": [
    "modelo = MultinomialNB()\n",
    "\n",
    "modelo"
   ]
  },
  {
   "cell_type": "code",
   "execution_count": 17,
   "metadata": {},
   "outputs": [
    {
     "data": {
      "text/plain": [
       "MultinomialNB()"
      ]
     },
     "execution_count": 17,
     "metadata": {},
     "output_type": "execute_result"
    }
   ],
   "source": [
    "# Treino do modelo\n",
    "\n",
    "modelo.fit(x_train_transformed, y_train)"
   ]
  },
  {
   "cell_type": "code",
   "execution_count": 18,
   "metadata": {},
   "outputs": [
    {
     "name": "stdout",
     "output_type": "stream",
     "text": [
      "(52845,) (13212,)\n"
     ]
    }
   ],
   "source": [
    "y_train_pred = modelo.predict(x_train_transformed)\n",
    "\n",
    "y_valid_pred = modelo.predict(x_valid_transformed)\n",
    "\n",
    "print(y_train_pred.shape, y_valid_pred.shape)"
   ]
  },
  {
   "cell_type": "code",
   "execution_count": 19,
   "metadata": {},
   "outputs": [
    {
     "data": {
      "image/png": "[encoded data removed]",
      "text/plain": [
       "<Figure size 432x288 with 1 Axes>"
      ]
     },
     "metadata": {
      "needs_background": "light"
     },
     "output_type": "display_data"
    }
   ],
   "source": [
    "from mlxtend.plotting import plot_confusion_matrix\n",
    "from sklearn.metrics import confusion_matrix\n",
    "from matplotlib import pyplot as plt\n",
    "\n",
    "cm = confusion_matrix(y_valid, y_valid_pred)\n",
    "\n",
    "plot_confusion_matrix(conf_mat=cm)\n",
    "plt.show()"
   ]
  },
  {
   "cell_type": "code",
   "execution_count": 20,
   "metadata": {},
   "outputs": [
    {
     "name": "stdout",
     "output_type": "stream",
     "text": [
      "Treino:\n",
      "Acc: 0.82, Precision: 0.82, Recall: 0.82\n",
      "Validação:\n",
      "Acc: 0.78, Precision: 0.78, Recall: 0.78\n"
     ]
    }
   ],
   "source": [
    "from sklearn.metrics import accuracy_score, precision_score, recall_score\n",
    "\n",
    "acc_train = accuracy_score(y_train, y_train_pred)\n",
    "prec_train = precision_score(y_train, y_train_pred, average='micro')\n",
    "rec_train = recall_score(y_train, y_train_pred, average='micro')\n",
    "\n",
    "acc_valid = accuracy_score(y_valid, y_valid_pred)\n",
    "prec_valid = precision_score(y_valid, y_valid_pred, average='micro')\n",
    "rec_valid = recall_score(y_valid, y_valid_pred, average='micro')\n",
    "\n",
    "print(f'Treino:\\nAcc: {acc_train:.2f}, Precision: {prec_train:.2f}, Recall: {rec_train:.2f}')\n",
    "print(f'Validação:\\nAcc: {acc_valid:.2f}, Precision: {prec_valid:.2f}, Recall: {rec_valid:.2f}')"
   ]
  },
  {
   "cell_type": "markdown",
   "metadata": {},
   "source": [
    "## Teste"
   ]
  },
  {
   "cell_type": "code",
   "execution_count": 21,
   "metadata": {},
   "outputs": [
    {
     "name": "stdout",
     "output_type": "stream",
     "text": [
      "(28500,) (28500,)\n"
     ]
    }
   ],
   "source": [
    "x_test = df_test['tweet_text']\n",
    "y_test = df_test['sentiment']\n",
    "\n",
    "print(x_test.shape, y_test.shape)"
   ]
  },
  {
   "cell_type": "code",
   "execution_count": 22,
   "metadata": {},
   "outputs": [
    {
     "name": "stdout",
     "output_type": "stream",
     "text": [
      "(28500, 10000)\n"
     ]
    }
   ],
   "source": [
    "x_test_transformed = vectorizer.transform(x_test).toarray()\n",
    "\n",
    "print(x_test_transformed.shape)"
   ]
  },
  {
   "cell_type": "code",
   "execution_count": 23,
   "metadata": {},
   "outputs": [
    {
     "name": "stdout",
     "output_type": "stream",
     "text": [
      "(28500,)\n"
     ]
    }
   ],
   "source": [
    "y_test_pred = modelo.predict(x_test_transformed)\n",
    "\n",
    "print(y_test_pred.shape)"
   ]
  },
  {
   "cell_type": "code",
   "execution_count": 24,
   "metadata": {},
   "outputs": [
    {
     "data": {
      "image/png": "[encoded data removed]",
      "text/plain": [
       "<Figure size 432x288 with 1 Axes>"
      ]
     },
     "metadata": {
      "needs_background": "light"
     },
     "output_type": "display_data"
    }
   ],
   "source": [
    "from mlxtend.plotting import plot_confusion_matrix\n",
    "from sklearn.metrics import confusion_matrix\n",
    "from matplotlib import pyplot as plt\n",
    "\n",
    "cm = confusion_matrix(y_valid, y_valid_pred)\n",
    "\n",
    "plot_confusion_matrix(conf_mat=cm)\n",
    "plt.show()"
   ]
  },
  {
   "cell_type": "code",
   "execution_count": 25,
   "metadata": {},
   "outputs": [
    {
     "name": "stdout",
     "output_type": "stream",
     "text": [
      "Teste:\n",
      "Acc: 0.79, Precision: 0.79, Recall: 0.79\n"
     ]
    }
   ],
   "source": [
    "from sklearn.metrics import accuracy_score, precision_score, recall_score\n",
    "\n",
    "acc_test = accuracy_score(y_test, y_test_pred)\n",
    "prec_test = precision_score(y_test, y_test_pred,average='micro')\n",
    "rec_test = recall_score(y_test, y_test_pred, average='micro')\n",
    "\n",
    "\n",
    "print(f'Teste:\\nAcc: {acc_test:.2f}, Precision: {prec_test:.2f}, Recall: {rec_test:.2f}')"
   ]
  },
  {
   "cell_type": "markdown",
   "metadata": {},
   "source": [
    "## Subm"
   ]
  },
  {
   "cell_type": "code",
   "execution_count": 36,
   "metadata": {},
   "outputs": [
    {
     "name": "stdout",
     "output_type": "stream",
     "text": [
      "(5000, 4)\n"
     ]
    },
    {
     "data": {
      "text/html": [
       "<div>\n",
       "<style scoped>\n",
       "    .dataframe tbody tr th:only-of-type {\n",
       "        vertical-align: middle;\n",
       "    }\n",
       "\n",
       "    .dataframe tbody tr th {\n",
       "        vertical-align: top;\n",
       "    }\n",
       "\n",
       "    .dataframe thead th {\n",
       "        text-align: right;\n",
       "    }\n",
       "</style>\n",
       "<table border=\"1\" class=\"dataframe\">\n",
       "  <thead>\n",
       "    <tr style=\"text-align: right;\">\n",
       "      <th></th>\n",
       "      <th>id</th>\n",
       "      <th>tweet_text</th>\n",
       "      <th>tweet_date</th>\n",
       "      <th>query_used</th>\n",
       "    </tr>\n",
       "  </thead>\n",
       "  <tbody>\n",
       "    <tr>\n",
       "      <th>2803</th>\n",
       "      <td>1046951938913394693</td>\n",
       "      <td>@GustavOnky ahsuhssuhs não humilho não &amp;gt;:((</td>\n",
       "      <td>Tue Oct 02 02:36:08 +0000 2018</td>\n",
       "      <td>:(</td>\n",
       "    </tr>\n",
       "    <tr>\n",
       "      <th>2099</th>\n",
       "      <td>1046947248226152448</td>\n",
       "      <td>queria falar c o douglas mas ao mesmo tempo nã...</td>\n",
       "      <td>Tue Oct 02 02:17:29 +0000 2018</td>\n",
       "      <td>:(</td>\n",
       "    </tr>\n",
       "    <tr>\n",
       "      <th>1944</th>\n",
       "      <td>1045241636371009536</td>\n",
       "      <td>CAPA: Voto útil não decola; Ciro e Marina atac...</td>\n",
       "      <td>Thu Sep 27 09:20:00 +0000 2018</td>\n",
       "      <td>estadao</td>\n",
       "    </tr>\n",
       "    <tr>\n",
       "      <th>3584</th>\n",
       "      <td>1048400083975385089</td>\n",
       "      <td>Aqui ditador não se cria, os que brita a gente...</td>\n",
       "      <td>Sat Oct 06 02:30:33 +0000 2018</td>\n",
       "      <td>:)</td>\n",
       "    </tr>\n",
       "    <tr>\n",
       "      <th>2989</th>\n",
       "      <td>1046926076629401601</td>\n",
       "      <td>@jhsbisexual mas nao é elee :(</td>\n",
       "      <td>Tue Oct 02 00:53:22 +0000 2018</td>\n",
       "      <td>:(</td>\n",
       "    </tr>\n",
       "  </tbody>\n",
       "</table>\n",
       "</div>"
      ],
      "text/plain": [
       "                       id                                         tweet_text  \\\n",
       "2803  1046951938913394693     @GustavOnky ahsuhssuhs não humilho não &gt;:((   \n",
       "2099  1046947248226152448  queria falar c o douglas mas ao mesmo tempo nã...   \n",
       "1944  1045241636371009536  CAPA: Voto útil não decola; Ciro e Marina atac...   \n",
       "3584  1048400083975385089  Aqui ditador não se cria, os que brita a gente...   \n",
       "2989  1046926076629401601                     @jhsbisexual mas nao é elee :(   \n",
       "\n",
       "                          tweet_date query_used  \n",
       "2803  Tue Oct 02 02:36:08 +0000 2018         :(  \n",
       "2099  Tue Oct 02 02:17:29 +0000 2018         :(  \n",
       "1944  Thu Sep 27 09:20:00 +0000 2018    estadao  \n",
       "3584  Sat Oct 06 02:30:33 +0000 2018         :)  \n",
       "2989  Tue Oct 02 00:53:22 +0000 2018         :(  "
      ]
     },
     "execution_count": 36,
     "metadata": {},
     "output_type": "execute_result"
    }
   ],
   "source": [
    "df_subm = pd.read_csv('Dados/subm/Subm3classes.csv')\n",
    "\n",
    "print(df_subm.shape)\n",
    "\n",
    "df_subm.sample(10).head()"
   ]
  },
  {
   "cell_type": "code",
   "execution_count": 37,
   "metadata": {},
   "outputs": [],
   "source": [
    "def sentimento(query):\n",
    "    if query == ':)':\n",
    "        return 1\n",
    "    elif query == ':(':\n",
    "        return 0\n",
    "    else:\n",
    "        return 2"
   ]
  },
  {
   "cell_type": "code",
   "execution_count": 38,
   "metadata": {},
   "outputs": [],
   "source": [
    "df_subm['sentiment_query'] = df_subm['query_used'].apply(sentimento)"
   ]
  },
  {
   "cell_type": "code",
   "execution_count": 39,
   "metadata": {},
   "outputs": [
    {
     "data": {
      "text/html": [
       "<div>\n",
       "<style scoped>\n",
       "    .dataframe tbody tr th:only-of-type {\n",
       "        vertical-align: middle;\n",
       "    }\n",
       "\n",
       "    .dataframe tbody tr th {\n",
       "        vertical-align: top;\n",
       "    }\n",
       "\n",
       "    .dataframe thead th {\n",
       "        text-align: right;\n",
       "    }\n",
       "</style>\n",
       "<table border=\"1\" class=\"dataframe\">\n",
       "  <thead>\n",
       "    <tr style=\"text-align: right;\">\n",
       "      <th></th>\n",
       "      <th>id</th>\n",
       "      <th>tweet_text</th>\n",
       "      <th>tweet_date</th>\n",
       "      <th>query_used</th>\n",
       "      <th>sentiment_query</th>\n",
       "    </tr>\n",
       "  </thead>\n",
       "  <tbody>\n",
       "    <tr>\n",
       "      <th>1257</th>\n",
       "      <td>1046946311331823618</td>\n",
       "      <td>Necesito amigos :(( https://t.co/uQFmUEGS6a</td>\n",
       "      <td>Tue Oct 02 02:13:46 +0000 2018</td>\n",
       "      <td>:(</td>\n",
       "      <td>0</td>\n",
       "    </tr>\n",
       "    <tr>\n",
       "      <th>966</th>\n",
       "      <td>1042052283939344386</td>\n",
       "      <td>Fabiana Cozza aceita convite para registrar em...</td>\n",
       "      <td>Tue Sep 18 14:06:39 +0000 2018</td>\n",
       "      <td>g1</td>\n",
       "      <td>2</td>\n",
       "    </tr>\n",
       "    <tr>\n",
       "      <th>2886</th>\n",
       "      <td>1049279997477879810</td>\n",
       "      <td>@_doidadosgatos que triste amiga :(</td>\n",
       "      <td>Mon Oct 08 12:47:00 +0000 2018</td>\n",
       "      <td>:(</td>\n",
       "      <td>0</td>\n",
       "    </tr>\n",
       "    <tr>\n",
       "      <th>2380</th>\n",
       "      <td>1046228808053985280</td>\n",
       "      <td>to bem triste, essa derrota me deixou muito pr...</td>\n",
       "      <td>Sun Sep 30 02:42:40 +0000 2018</td>\n",
       "      <td>:(</td>\n",
       "      <td>0</td>\n",
       "    </tr>\n",
       "    <tr>\n",
       "      <th>784</th>\n",
       "      <td>1046793216182378496</td>\n",
       "      <td>@isadoratejada nao creio isa :((</td>\n",
       "      <td>Mon Oct 01 16:05:25 +0000 2018</td>\n",
       "      <td>:(</td>\n",
       "      <td>0</td>\n",
       "    </tr>\n",
       "  </tbody>\n",
       "</table>\n",
       "</div>"
      ],
      "text/plain": [
       "                       id                                         tweet_text  \\\n",
       "1257  1046946311331823618        Necesito amigos :(( https://t.co/uQFmUEGS6a   \n",
       "966   1042052283939344386  Fabiana Cozza aceita convite para registrar em...   \n",
       "2886  1049279997477879810                @_doidadosgatos que triste amiga :(   \n",
       "2380  1046228808053985280  to bem triste, essa derrota me deixou muito pr...   \n",
       "784   1046793216182378496                   @isadoratejada nao creio isa :((   \n",
       "\n",
       "                          tweet_date query_used  sentiment_query  \n",
       "1257  Tue Oct 02 02:13:46 +0000 2018         :(                0  \n",
       "966   Tue Sep 18 14:06:39 +0000 2018         g1                2  \n",
       "2886  Mon Oct 08 12:47:00 +0000 2018         :(                0  \n",
       "2380  Sun Sep 30 02:42:40 +0000 2018         :(                0  \n",
       "784   Mon Oct 01 16:05:25 +0000 2018         :(                0  "
      ]
     },
     "execution_count": 39,
     "metadata": {},
     "output_type": "execute_result"
    }
   ],
   "source": [
    "df_subm.sample(10).head()"
   ]
  },
  {
   "cell_type": "code",
   "execution_count": 40,
   "metadata": {},
   "outputs": [
    {
     "name": "stdout",
     "output_type": "stream",
     "text": [
      "(5000,) (5000,)\n"
     ]
    }
   ],
   "source": [
    "x_subm = df_subm['tweet_text']\n",
    "y_subm = df_subm['sentiment_query']\n",
    "\n",
    "print(x_subm.shape, y_subm.shape)"
   ]
  },
  {
   "cell_type": "code",
   "execution_count": 41,
   "metadata": {},
   "outputs": [
    {
     "name": "stdout",
     "output_type": "stream",
     "text": [
      "(5000, 10000)\n"
     ]
    }
   ],
   "source": [
    "x_subm_transformed = vectorizer.transform(x_subm).toarray()\n",
    "\n",
    "print(x_subm_transformed.shape)"
   ]
  },
  {
   "cell_type": "code",
   "execution_count": 42,
   "metadata": {},
   "outputs": [
    {
     "name": "stdout",
     "output_type": "stream",
     "text": [
      "(5000,)\n"
     ]
    }
   ],
   "source": [
    "y_subm_pred = modelo.predict(x_subm_transformed)\n",
    "\n",
    "print(y_subm_pred.shape)"
   ]
  },
  {
   "cell_type": "code",
   "execution_count": 48,
   "metadata": {},
   "outputs": [
    {
     "data": {
      "text/html": [
       "<div>\n",
       "<style scoped>\n",
       "    .dataframe tbody tr th:only-of-type {\n",
       "        vertical-align: middle;\n",
       "    }\n",
       "\n",
       "    .dataframe tbody tr th {\n",
       "        vertical-align: top;\n",
       "    }\n",
       "\n",
       "    .dataframe thead th {\n",
       "        text-align: right;\n",
       "    }\n",
       "</style>\n",
       "<table border=\"1\" class=\"dataframe\">\n",
       "  <thead>\n",
       "    <tr style=\"text-align: right;\">\n",
       "      <th></th>\n",
       "      <th>id</th>\n",
       "      <th>tweet_text</th>\n",
       "      <th>tweet_date</th>\n",
       "      <th>query_used</th>\n",
       "      <th>sentiment_query</th>\n",
       "      <th>sentiment</th>\n",
       "    </tr>\n",
       "  </thead>\n",
       "  <tbody>\n",
       "    <tr>\n",
       "      <th>4082</th>\n",
       "      <td>1045519522608934912</td>\n",
       "      <td>Feliz comigo mesma. Parei de comer as unhas e ...</td>\n",
       "      <td>Fri Sep 28 03:44:13 +0000 2018</td>\n",
       "      <td>:)</td>\n",
       "      <td>1</td>\n",
       "      <td>1</td>\n",
       "    </tr>\n",
       "    <tr>\n",
       "      <th>1643</th>\n",
       "      <td>1046997878823182336</td>\n",
       "      <td>no final quem se deu bem foi o rafael ilha: se...</td>\n",
       "      <td>Tue Oct 02 05:38:41 +0000 2018</td>\n",
       "      <td>:(</td>\n",
       "      <td>0</td>\n",
       "      <td>0</td>\n",
       "    </tr>\n",
       "    <tr>\n",
       "      <th>945</th>\n",
       "      <td>1038930089860374533</td>\n",
       "      <td>Veja o que é #FATO ou #FAKE na entrevista de E...</td>\n",
       "      <td>Sun Sep 09 23:20:10 +0000 2018</td>\n",
       "      <td>#fato</td>\n",
       "      <td>2</td>\n",
       "      <td>2</td>\n",
       "    </tr>\n",
       "    <tr>\n",
       "      <th>2593</th>\n",
       "      <td>1049179776131506176</td>\n",
       "      <td>@D2ONK EWÇAZSALSJZ só imaginei o \"avoa\", coisi...</td>\n",
       "      <td>Mon Oct 08 06:08:46 +0000 2018</td>\n",
       "      <td>:(</td>\n",
       "      <td>0</td>\n",
       "      <td>0</td>\n",
       "    </tr>\n",
       "    <tr>\n",
       "      <th>4173</th>\n",
       "      <td>1046766346019778560</td>\n",
       "      <td>@MrGeniusSwag @BTS_T Obrigada :)</td>\n",
       "      <td>Mon Oct 01 14:18:39 +0000 2018</td>\n",
       "      <td>:)</td>\n",
       "      <td>1</td>\n",
       "      <td>1</td>\n",
       "    </tr>\n",
       "  </tbody>\n",
       "</table>\n",
       "</div>"
      ],
      "text/plain": [
       "                       id                                         tweet_text  \\\n",
       "4082  1045519522608934912  Feliz comigo mesma. Parei de comer as unhas e ...   \n",
       "1643  1046997878823182336  no final quem se deu bem foi o rafael ilha: se...   \n",
       "945   1038930089860374533  Veja o que é #FATO ou #FAKE na entrevista de E...   \n",
       "2593  1049179776131506176  @D2ONK EWÇAZSALSJZ só imaginei o \"avoa\", coisi...   \n",
       "4173  1046766346019778560                   @MrGeniusSwag @BTS_T Obrigada :)   \n",
       "\n",
       "                          tweet_date query_used  sentiment_query  sentiment  \n",
       "4082  Fri Sep 28 03:44:13 +0000 2018         :)                1          1  \n",
       "1643  Tue Oct 02 05:38:41 +0000 2018         :(                0          0  \n",
       "945   Sun Sep 09 23:20:10 +0000 2018      #fato                2          2  \n",
       "2593  Mon Oct 08 06:08:46 +0000 2018         :(                0          0  \n",
       "4173  Mon Oct 01 14:18:39 +0000 2018         :)                1          1  "
      ]
     },
     "execution_count": 48,
     "metadata": {},
     "output_type": "execute_result"
    }
   ],
   "source": [
    "df_subm['sentiment'] = y_subm_pred\n",
    "\n",
    "df_subm.sample(10).head()"
   ]
  },
  {
   "cell_type": "code",
   "execution_count": 52,
   "metadata": {},
   "outputs": [
    {
     "data": {
      "image/png": "[encoded data removed]",
      "text/plain": [
       "<Figure size 432x288 with 1 Axes>"
      ]
     },
     "metadata": {
      "needs_background": "light"
     },
     "output_type": "display_data"
    }
   ],
   "source": [
    "from mlxtend.plotting import plot_confusion_matrix\n",
    "from sklearn.metrics import confusion_matrix\n",
    "from matplotlib import pyplot as plt\n",
    "\n",
    "cm = confusion_matrix(y_subm, y_subm_pred)\n",
    "\n",
    "plot_confusion_matrix(conf_mat=cm)\n",
    "plt.show()"
   ]
  },
  {
   "cell_type": "code",
   "execution_count": 50,
   "metadata": {},
   "outputs": [
    {
     "name": "stdout",
     "output_type": "stream",
     "text": [
      "Teste:\n",
      "Acc: 0.79, Precision: 0.79, Recall: 0.79\n"
     ]
    }
   ],
   "source": [
    "from sklearn.metrics import accuracy_score, precision_score, recall_score\n",
    "\n",
    "acc_subm = accuracy_score(y_subm, y_subm_pred)\n",
    "prec_subm = precision_score(y_subm, y_subm_pred,average='micro')\n",
    "rec_subm = recall_score(y_subm, y_subm_pred, average='micro')\n",
    "\n",
    "\n",
    "print(f'Teste:\\nAcc: {acc_test:.2f}, Precision: {prec_test:.2f}, Recall: {rec_test:.2f}')"
   ]
  },
  {
   "cell_type": "code",
   "execution_count": null,
   "metadata": {},
   "outputs": [],
   "source": []
  },
  {
   "cell_type": "code",
   "execution_count": null,
   "metadata": {},
   "outputs": [],
   "source": []
  },
  {
   "cell_type": "code",
   "execution_count": null,
   "metadata": {},
   "outputs": [],
   "source": []
  }
 ],
 "metadata": {
  "kernelspec": {
   "display_name": "Python 3",
   "language": "python",
   "name": "python3"
  },
  "language_info": {
   "codemirror_mode": {
    "name": "ipython",
    "version": 3
   },
   "file_extension": ".py",
   "mimetype": "text/x-python",
   "name": "python",
   "nbconvert_exporter": "python",
   "pygments_lexer": "ipython3",
   "version": "3.9.5"
  }
 },
 "nbformat": 4,
 "nbformat_minor": 4
}
