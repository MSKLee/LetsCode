{
 "cells": [
  {
   "cell_type": "code",
   "execution_count": 267,
   "metadata": {},
   "outputs": [
    {
     "name": "stdout",
     "output_type": "stream",
     "text": [
      "(95000, 5)\n"
     ]
    },
    {
     "data": {
      "text/html": [
       "<div>\n",
       "<style scoped>\n",
       "    .dataframe tbody tr th:only-of-type {\n",
       "        vertical-align: middle;\n",
       "    }\n",
       "\n",
       "    .dataframe tbody tr th {\n",
       "        vertical-align: top;\n",
       "    }\n",
       "\n",
       "    .dataframe thead th {\n",
       "        text-align: right;\n",
       "    }\n",
       "</style>\n",
       "<table border=\"1\" class=\"dataframe\">\n",
       "  <thead>\n",
       "    <tr style=\"text-align: right;\">\n",
       "      <th></th>\n",
       "      <th>id</th>\n",
       "      <th>tweet_text</th>\n",
       "      <th>tweet_date</th>\n",
       "      <th>sentiment</th>\n",
       "      <th>query_used</th>\n",
       "    </tr>\n",
       "  </thead>\n",
       "  <tbody>\n",
       "    <tr>\n",
       "      <th>70078</th>\n",
       "      <td>1045435831169757185</td>\n",
       "      <td>Matéria legal da UOL sobre nosso trampo diário...</td>\n",
       "      <td>Thu Sep 27 22:11:40 +0000 2018</td>\n",
       "      <td>1</td>\n",
       "      <td>:)</td>\n",
       "    </tr>\n",
       "    <tr>\n",
       "      <th>44782</th>\n",
       "      <td>1047868099993751552</td>\n",
       "      <td>Em clima de tensão, Cruzeiro busca virada cont...</td>\n",
       "      <td>Thu Oct 04 15:16:38 +0000 2018</td>\n",
       "      <td>2</td>\n",
       "      <td>veja</td>\n",
       "    </tr>\n",
       "    <tr>\n",
       "      <th>43729</th>\n",
       "      <td>1046948582606168064</td>\n",
       "      <td>td q eu queria hoje era q a amelie tivesse aqu...</td>\n",
       "      <td>Tue Oct 02 02:22:48 +0000 2018</td>\n",
       "      <td>0</td>\n",
       "      <td>:(</td>\n",
       "    </tr>\n",
       "    <tr>\n",
       "      <th>45805</th>\n",
       "      <td>1049112622518456320</td>\n",
       "      <td>No meu wpp e no meu tt só tem gente reclamando...</td>\n",
       "      <td>Mon Oct 08 01:41:55 +0000 2018</td>\n",
       "      <td>1</td>\n",
       "      <td>:)</td>\n",
       "    </tr>\n",
       "    <tr>\n",
       "      <th>7747</th>\n",
       "      <td>1045500224574246913</td>\n",
       "      <td>@aninhamirandams Obrigado :)</td>\n",
       "      <td>Fri Sep 28 02:27:32 +0000 2018</td>\n",
       "      <td>1</td>\n",
       "      <td>:)</td>\n",
       "    </tr>\n",
       "  </tbody>\n",
       "</table>\n",
       "</div>"
      ],
      "text/plain": [
       "                        id                                         tweet_text  \\\n",
       "70078  1045435831169757185  Matéria legal da UOL sobre nosso trampo diário...   \n",
       "44782  1047868099993751552  Em clima de tensão, Cruzeiro busca virada cont...   \n",
       "43729  1046948582606168064  td q eu queria hoje era q a amelie tivesse aqu...   \n",
       "45805  1049112622518456320  No meu wpp e no meu tt só tem gente reclamando...   \n",
       "7747   1045500224574246913                       @aninhamirandams Obrigado :)   \n",
       "\n",
       "                           tweet_date  sentiment query_used  \n",
       "70078  Thu Sep 27 22:11:40 +0000 2018          1         :)  \n",
       "44782  Thu Oct 04 15:16:38 +0000 2018          2       veja  \n",
       "43729  Tue Oct 02 02:22:48 +0000 2018          0         :(  \n",
       "45805  Mon Oct 08 01:41:55 +0000 2018          1         :)  \n",
       "7747   Fri Sep 28 02:27:32 +0000 2018          1         :)  "
      ]
     },
     "execution_count": 267,
     "metadata": {},
     "output_type": "execute_result"
    }
   ],
   "source": [
    "# Importando os dados do arquivo csv\n",
    "\n",
    "import pandas as pd\n",
    "\n",
    "df_tweet = pd.read_csv('Dados/train/Train3classes.csv')\n",
    "\n",
    "print(df_tweet.shape)\n",
    "\n",
    "df_tweet.sample(10).head()"
   ]
  },
  {
   "cell_type": "code",
   "execution_count": 268,
   "metadata": {},
   "outputs": [],
   "source": [
    "from sklearn.model_selection import train_test_split"
   ]
  },
  {
   "cell_type": "code",
   "execution_count": 269,
   "metadata": {},
   "outputs": [],
   "source": [
    "# Separando o Dataframe em Dataframe de Treino e de Teste\n",
    "\n",
    "df_experiment, df_test = train_test_split(df_tweet, test_size=.3)"
   ]
  },
  {
   "cell_type": "code",
   "execution_count": 270,
   "metadata": {},
   "outputs": [
    {
     "name": "stdout",
     "output_type": "stream",
     "text": [
      "432 linhas duplicadas em 66500 registros\n"
     ]
    }
   ],
   "source": [
    "SUBSET_DUPLICADOS = df_experiment.drop(['tweet_date', 'id'], axis=1).columns.to_list()\n",
    "\n",
    "num_duplicados = df_experiment.duplicated(subset=SUBSET_DUPLICADOS).sum()\n",
    "\n",
    "print(f'{num_duplicados} linhas duplicadas em {len(df_experiment)} registros')"
   ]
  },
  {
   "cell_type": "code",
   "execution_count": 271,
   "metadata": {},
   "outputs": [
    {
     "name": "stdout",
     "output_type": "stream",
     "text": [
      "(66068, 5) 0\n"
     ]
    }
   ],
   "source": [
    "df_experiment = df_experiment.drop_duplicates(subset=SUBSET_DUPLICADOS)\n",
    "\n",
    "print(df_experiment.shape, f'{df_experiment.duplicated(subset=SUBSET_DUPLICADOS).sum()}')"
   ]
  },
  {
   "cell_type": "code",
   "execution_count": 272,
   "metadata": {
    "scrolled": false
   },
   "outputs": [
    {
     "data": {
      "text/plain": [
       "<AxesSubplot:>"
      ]
     },
     "execution_count": 272,
     "metadata": {},
     "output_type": "execute_result"
    },
    {
     "data": {
      "image/png": "[encoded data removed]",
      "text/plain": [
       "<Figure size 1728x720 with 3 Axes>"
      ]
     },
     "metadata": {
      "needs_background": "light"
     },
     "output_type": "display_data"
    }
   ],
   "source": [
    "import missingno as msno\n",
    "msno.bar(df_experiment)"
   ]
  },
  {
   "cell_type": "code",
   "execution_count": 273,
   "metadata": {},
   "outputs": [],
   "source": [
    "#df_experiment[['tweet_text', 'sentiment']].drop_duplicates()"
   ]
  },
  {
   "cell_type": "code",
   "execution_count": 274,
   "metadata": {},
   "outputs": [],
   "source": [
    "import re\n",
    "\n",
    "def clean_https(df):\n",
    "    text = df['tweet_text'].apply(lambda x: re.split('https:\\/\\/.*', str(x))[0]);\n",
    "    \n",
    "    return text"
   ]
  },
  {
   "cell_type": "code",
   "execution_count": 275,
   "metadata": {},
   "outputs": [
    {
     "data": {
      "text/plain": [
       "47335    Gosta de la la land? — nao :( é um dos únicos ...\n",
       "71210    &gt;@EstadaoEconomia Família corta compra para...\n",
       "7340     Salado. :D #SuperJunior #PCAs #TheGroup @SJoff...\n",
       "60250                            to c uma sdd da Ariele :(\n",
       "19198    Ibope Senado - Pernambuco, votos válidos: Jarb...\n",
       "                               ...                        \n",
       "8212       @PandinhaGame Bom dia, bonequinho de papelão :P\n",
       "42954    o Brasil não te merece, Ciro :( felizmente pre...\n",
       "4982     @mfilipa11 @mpereira43 @FilipaVieiraSi1 @catar...\n",
       "74618    Globo exibirá primeiro capítulo da série 'Assé...\n",
       "1763     &gt;@Emais_Estadao 'Espero que a gente consiga...\n",
       "Name: tweet_text, Length: 66068, dtype: object"
      ]
     },
     "execution_count": 275,
     "metadata": {},
     "output_type": "execute_result"
    }
   ],
   "source": [
    "clean_https(df_experiment)"
   ]
  },
  {
   "cell_type": "code",
   "execution_count": 276,
   "metadata": {},
   "outputs": [
    {
     "data": {
      "text/html": [
       "<div>\n",
       "<style scoped>\n",
       "    .dataframe tbody tr th:only-of-type {\n",
       "        vertical-align: middle;\n",
       "    }\n",
       "\n",
       "    .dataframe tbody tr th {\n",
       "        vertical-align: top;\n",
       "    }\n",
       "\n",
       "    .dataframe thead th {\n",
       "        text-align: right;\n",
       "    }\n",
       "</style>\n",
       "<table border=\"1\" class=\"dataframe\">\n",
       "  <thead>\n",
       "    <tr style=\"text-align: right;\">\n",
       "      <th></th>\n",
       "      <th>id</th>\n",
       "      <th>tweet_text</th>\n",
       "      <th>tweet_date</th>\n",
       "      <th>sentiment</th>\n",
       "      <th>query_used</th>\n",
       "    </tr>\n",
       "  </thead>\n",
       "  <tbody>\n",
       "    <tr>\n",
       "      <th>69663</th>\n",
       "      <td>1048204939145744384</td>\n",
       "      <td>Essa sexta vai ficar sem vídeo por motivos de ...</td>\n",
       "      <td>Fri Oct 05 13:35:06 +0000 2018</td>\n",
       "      <td>1</td>\n",
       "      <td>:)</td>\n",
       "    </tr>\n",
       "    <tr>\n",
       "      <th>53607</th>\n",
       "      <td>1038296383101579264</td>\n",
       "      <td>Campanha de Bolsonaro monitora reação da inter...</td>\n",
       "      <td>Sat Sep 08 05:22:03 +0000 2018</td>\n",
       "      <td>2</td>\n",
       "      <td>folha</td>\n",
       "    </tr>\n",
       "    <tr>\n",
       "      <th>85692</th>\n",
       "      <td>1049289246610247680</td>\n",
       "      <td>@guigonzalez98 @nathmariz_ @dudunogueira00 Abr...</td>\n",
       "      <td>Mon Oct 08 13:23:45 +0000 2018</td>\n",
       "      <td>1</td>\n",
       "      <td>:)</td>\n",
       "    </tr>\n",
       "    <tr>\n",
       "      <th>11992</th>\n",
       "      <td>1049257529744789509</td>\n",
       "      <td>@laurjsaturnn menos não, é a verdade :)</td>\n",
       "      <td>Mon Oct 08 11:17:44 +0000 2018</td>\n",
       "      <td>1</td>\n",
       "      <td>:)</td>\n",
       "    </tr>\n",
       "    <tr>\n",
       "      <th>1856</th>\n",
       "      <td>1049136082590347271</td>\n",
       "      <td>@faz_porque @Gregorio92matos @MadameBoco @FPun...</td>\n",
       "      <td>Mon Oct 08 03:15:08 +0000 2018</td>\n",
       "      <td>0</td>\n",
       "      <td>:(</td>\n",
       "    </tr>\n",
       "  </tbody>\n",
       "</table>\n",
       "</div>"
      ],
      "text/plain": [
       "                        id                                         tweet_text  \\\n",
       "69663  1048204939145744384  Essa sexta vai ficar sem vídeo por motivos de ...   \n",
       "53607  1038296383101579264  Campanha de Bolsonaro monitora reação da inter...   \n",
       "85692  1049289246610247680  @guigonzalez98 @nathmariz_ @dudunogueira00 Abr...   \n",
       "11992  1049257529744789509            @laurjsaturnn menos não, é a verdade :)   \n",
       "1856   1049136082590347271  @faz_porque @Gregorio92matos @MadameBoco @FPun...   \n",
       "\n",
       "                           tweet_date  sentiment query_used  \n",
       "69663  Fri Oct 05 13:35:06 +0000 2018          1         :)  \n",
       "53607  Sat Sep 08 05:22:03 +0000 2018          2      folha  \n",
       "85692  Mon Oct 08 13:23:45 +0000 2018          1         :)  \n",
       "11992  Mon Oct 08 11:17:44 +0000 2018          1         :)  \n",
       "1856   Mon Oct 08 03:15:08 +0000 2018          0         :(  "
      ]
     },
     "execution_count": 276,
     "metadata": {},
     "output_type": "execute_result"
    }
   ],
   "source": [
    "df_experiment.sample(10).head()"
   ]
  },
  {
   "cell_type": "code",
   "execution_count": 277,
   "metadata": {},
   "outputs": [],
   "source": [
    "df_train, df_valid = train_test_split(df_experiment, test_size=.2)"
   ]
  },
  {
   "cell_type": "code",
   "execution_count": 278,
   "metadata": {},
   "outputs": [
    {
     "name": "stdout",
     "output_type": "stream",
     "text": [
      "(52854,) (52854,)\n",
      "(13214,) (13214,)\n"
     ]
    }
   ],
   "source": [
    "x_train, y_train = df_train['tweet_text'], df_train['sentiment']\n",
    "x_valid, y_valid = df_valid['tweet_text'], df_valid['sentiment']\n",
    "\n",
    "print(x_train.shape, y_train.shape)\n",
    "print(x_valid.shape, y_valid.shape)"
   ]
  },
  {
   "cell_type": "code",
   "execution_count": 279,
   "metadata": {},
   "outputs": [],
   "source": [
    "# Utilizando o Word2Vec\n",
    "\n",
    "from gensim.utils import simple_preprocess\n",
    "\n",
    "# Vamos chamar essa função sempre que quisermos quebrar um texto em palavras\n",
    "def tokenize(text):\n",
    "    return simple_preprocess(text, min_len=1)\n",
    "\n",
    "from tqdm import tqdm\n",
    "import numpy as np\n",
    "\n",
    "def to_word_vector(words, w2v):\n",
    "\n",
    "    vectors = []\n",
    "\n",
    "    for word in words:\n",
    "        vectors.append(w2v.wv[word] if word in w2v.wv.key_to_index else np.zeros(w2v.vector_size))\n",
    "        \n",
    "    if not vectors:\n",
    "        vectors.append(np.zeros(w2v.vector_size))\n",
    "    \n",
    "    return np.mean(vectors, axis=0).astype('float16')\n",
    "\n",
    "def embeddings(x, w2v):\n",
    "    x = x.copy()\n",
    "\n",
    "    x = x.apply(tokenize)\n",
    "\n",
    "    x = np.vstack([[to_word_vector(sentences, w2v)] for sentences in tqdm(x)])\n",
    "\n",
    "    return x"
   ]
  },
  {
   "cell_type": "code",
   "execution_count": 280,
   "metadata": {},
   "outputs": [],
   "source": [
    "from gensim.models import Word2Vec\n",
    "\n",
    "model_w2v = Word2Vec(\n",
    "        sentences=x_train.apply(\n",
    "            lambda t: tokenize(t)\n",
    "        ),\n",
    "         vector_size=300,\n",
    "         window=5,\n",
    "         min_count=1,\n",
    "         workers=4\n",
    "    )"
   ]
  },
  {
   "cell_type": "code",
   "execution_count": 281,
   "metadata": {
    "scrolled": true
   },
   "outputs": [
    {
     "name": "stderr",
     "output_type": "stream",
     "text": [
      "100%|██████████| 52854/52854 [00:05<00:00, 9296.18it/s] \n",
      "100%|██████████| 13214/13214 [00:01<00:00, 7846.38it/s]\n"
     ]
    }
   ],
   "source": [
    "x_train_transformed = embeddings(x_train, model_w2v)\n",
    "\n",
    "x_valid_transformed = embeddings(x_valid, model_w2v)"
   ]
  },
  {
   "cell_type": "code",
   "execution_count": 282,
   "metadata": {},
   "outputs": [],
   "source": [
    "from lightgbm import LGBMClassifier"
   ]
  },
  {
   "cell_type": "code",
   "execution_count": 283,
   "metadata": {
    "scrolled": true
   },
   "outputs": [],
   "source": [
    "#from sklearn.model_selection import GridSearchCV\n",
    "\n",
    "#modelo = LGBMClassifier()\n",
    "\n",
    "#parameters = {\n",
    "#    'max_depth': [3, 4, 5],\n",
    "#    'n_estimators': [20, 50, 70],\n",
    "#    'learning_rate': [0.01, 0.1, 0.5],\n",
    "#    'num_leaves': [10, 20, 30],\n",
    "#    'is_unbalance': [True, False]\n",
    "#}\n",
    "\n",
    "#clf = GridSearchCV(modelo, parameters, verbose=3, scoring='f1_macro', cv=3)\n",
    "\n",
    "#clf.fit(x_train_transformed, y_train)"
   ]
  },
  {
   "cell_type": "code",
   "execution_count": 284,
   "metadata": {},
   "outputs": [],
   "source": [
    "#clf.best_params_"
   ]
  },
  {
   "cell_type": "code",
   "execution_count": 285,
   "metadata": {},
   "outputs": [],
   "source": [
    "#modelo = LGBMClassifier(**clf.best_params_)"
   ]
  },
  {
   "cell_type": "code",
   "execution_count": 286,
   "metadata": {},
   "outputs": [],
   "source": [
    "modelo = LGBMClassifier(n_estimators=70, max_depth=4, num_leaves=20, \n",
    "                        is_unbalance=True, learning_rate=0.5)"
   ]
  },
  {
   "cell_type": "code",
   "execution_count": 287,
   "metadata": {},
   "outputs": [
    {
     "data": {
      "text/plain": [
       "LGBMClassifier(is_unbalance=True, learning_rate=0.5, max_depth=4,\n",
       "               n_estimators=70, num_leaves=20)"
      ]
     },
     "execution_count": 287,
     "metadata": {},
     "output_type": "execute_result"
    }
   ],
   "source": [
    "modelo.fit(x_train_transformed, y_train)"
   ]
  },
  {
   "cell_type": "code",
   "execution_count": 288,
   "metadata": {},
   "outputs": [
    {
     "name": "stdout",
     "output_type": "stream",
     "text": [
      "(52854,) (13214,)\n"
     ]
    }
   ],
   "source": [
    "y_train_pred = modelo.predict(x_train_transformed)\n",
    "\n",
    "y_valid_pred = modelo.predict(x_valid_transformed)\n",
    "\n",
    "print(y_train_pred.shape, y_valid_pred.shape)"
   ]
  },
  {
   "cell_type": "code",
   "execution_count": 247,
   "metadata": {},
   "outputs": [],
   "source": [
    "#modelo = LGBMClassifier(n_estimators=70, max_depth=5, num_leaves=20, \n",
    "#                        is_unbalance=True, learning_rate=0.5)"
   ]
  },
  {
   "cell_type": "code",
   "execution_count": 248,
   "metadata": {},
   "outputs": [],
   "source": [
    "#modelo.fit(x_train_transformed, y_train)"
   ]
  },
  {
   "cell_type": "code",
   "execution_count": 249,
   "metadata": {},
   "outputs": [],
   "source": [
    "#modelo.fit(x_train_transformed, x_train)"
   ]
  },
  {
   "cell_type": "code",
   "execution_count": 250,
   "metadata": {},
   "outputs": [],
   "source": [
    "#y_train_pred = modelo.predict(x_train_transformed)\n",
    "\n",
    "#y_valid_pred = modelo.predict(x_valid_transformed)\n",
    "\n",
    "#print(y_train_pred.shape, y_valid_pred.shape)"
   ]
  },
  {
   "cell_type": "code",
   "execution_count": 289,
   "metadata": {},
   "outputs": [
    {
     "data": {
      "image/png": "[encoded data removed]",
      "text/plain": [
       "<Figure size 432x288 with 1 Axes>"
      ]
     },
     "metadata": {
      "needs_background": "light"
     },
     "output_type": "display_data"
    }
   ],
   "source": [
    "from mlxtend.plotting import plot_confusion_matrix\n",
    "from sklearn.metrics import confusion_matrix\n",
    "from matplotlib import pyplot as plt\n",
    "\n",
    "cm = confusion_matrix(y_valid, y_valid_pred)\n",
    "\n",
    "plot_confusion_matrix(conf_mat=cm)\n",
    "plt.show()"
   ]
  },
  {
   "cell_type": "code",
   "execution_count": 290,
   "metadata": {},
   "outputs": [
    {
     "name": "stdout",
     "output_type": "stream",
     "text": [
      "Treino:\n",
      "Acc: 0.85, Precision: 0.85, Recall: 0.85\n",
      "Validação:\n",
      "Acc: 0.76, Precision: 0.76, Recall: 0.76\n"
     ]
    }
   ],
   "source": [
    "from sklearn.metrics import accuracy_score, precision_score, recall_score\n",
    "\n",
    "acc_train = accuracy_score(y_train, y_train_pred)\n",
    "prec_train = precision_score(y_train, y_train_pred,average='micro')\n",
    "rec_train = recall_score(y_train, y_train_pred, average='micro')\n",
    "\n",
    "acc_valid = accuracy_score(y_valid, y_valid_pred)\n",
    "prec_valid = precision_score(y_valid, y_valid_pred, average='micro')\n",
    "rec_valid = recall_score(y_valid, y_valid_pred, average='micro')\n",
    "\n",
    "print(f'Treino:\\nAcc: {acc_train:.2f}, Precision: {prec_train:.2f}, Recall: {rec_train:.2f}')\n",
    "print(f'Validação:\\nAcc: {acc_valid:.2f}, Precision: {prec_valid:.2f}, Recall: {rec_valid:.2f}')"
   ]
  },
  {
   "cell_type": "markdown",
   "metadata": {},
   "source": [
    "## Random Forest"
   ]
  },
  {
   "cell_type": "code",
   "execution_count": 253,
   "metadata": {},
   "outputs": [],
   "source": [
    "from sklearn.ensemble import RandomForestClassifier"
   ]
  },
  {
   "cell_type": "code",
   "execution_count": 69,
   "metadata": {
    "scrolled": true
   },
   "outputs": [],
   "source": [
    "#from sklearn.model_selection import GridSearchCV\n",
    "\n",
    "#modelo = RandomForestClassifier()\n",
    "\n",
    "#parameters = {\n",
    "#    'max_depth': [3, 4, 5],\n",
    "#    'n_estimators': [20, 50, 70],\n",
    "#    'random_state': [10, 12, 15],\n",
    "#}\n",
    "\n",
    "#clf = GridSearchCV(modelo, parameters, verbose=3, scoring='f1_macro', cv=3)\n",
    "\n",
    "#clf.fit(x_train_transformed, y_train)"
   ]
  },
  {
   "cell_type": "code",
   "execution_count": 70,
   "metadata": {},
   "outputs": [],
   "source": [
    "#clf.best_params_"
   ]
  },
  {
   "cell_type": "code",
   "execution_count": 71,
   "metadata": {},
   "outputs": [],
   "source": [
    "#modelo = RandomForestClassifier(**clf.best_params_)"
   ]
  },
  {
   "cell_type": "code",
   "execution_count": 254,
   "metadata": {},
   "outputs": [],
   "source": [
    "modelo = RandomForestClassifier(max_depth=5, n_estimators=70, random_state=12)"
   ]
  },
  {
   "cell_type": "code",
   "execution_count": 257,
   "metadata": {},
   "outputs": [
    {
     "data": {
      "text/plain": [
       "RandomForestClassifier(max_depth=5, n_estimators=70, random_state=12)"
      ]
     },
     "execution_count": 257,
     "metadata": {},
     "output_type": "execute_result"
    }
   ],
   "source": [
    "modelo.fit(x_train_transformed, y_train)"
   ]
  },
  {
   "cell_type": "code",
   "execution_count": 258,
   "metadata": {},
   "outputs": [
    {
     "name": "stdout",
     "output_type": "stream",
     "text": [
      "(52818,) (13205,)\n"
     ]
    }
   ],
   "source": [
    "y_train_pred = modelo.predict(x_train_transformed)\n",
    "\n",
    "y_valid_pred = modelo.predict(x_valid_transformed)\n",
    "\n",
    "print(y_train_pred.shape, y_valid_pred.shape)"
   ]
  },
  {
   "cell_type": "code",
   "execution_count": 259,
   "metadata": {},
   "outputs": [
    {
     "data": {
      "image/png": "[encoded data removed]",
      "text/plain": [
       "<Figure size 432x288 with 1 Axes>"
      ]
     },
     "metadata": {
      "needs_background": "light"
     },
     "output_type": "display_data"
    }
   ],
   "source": [
    "from mlxtend.plotting import plot_confusion_matrix\n",
    "from sklearn.metrics import confusion_matrix\n",
    "from matplotlib import pyplot as plt\n",
    "\n",
    "cm = confusion_matrix(y_valid, y_valid_pred)\n",
    "\n",
    "plot_confusion_matrix(conf_mat=cm)\n",
    "plt.show()"
   ]
  },
  {
   "cell_type": "code",
   "execution_count": 260,
   "metadata": {},
   "outputs": [
    {
     "name": "stdout",
     "output_type": "stream",
     "text": [
      "Treino:\n",
      "Acc: 0.72, Precision: 0.73, Recall: 0.72\n",
      "Validação:\n",
      "Acc: 0.72, Precision: 0.72, Recall: 0.72\n"
     ]
    }
   ],
   "source": [
    "from sklearn.metrics import accuracy_score, precision_score, recall_score\n",
    "\n",
    "acc_train = accuracy_score(y_train, y_train_pred)\n",
    "prec_train = precision_score(y_train, y_train_pred,average='micro')\n",
    "rec_train = recall_score(y_train, y_train_pred, average='micro')\n",
    "\n",
    "acc_valid = accuracy_score(y_valid, y_valid_pred)\n",
    "prec_valid = precision_score(y_valid, y_valid_pred, average='micro')\n",
    "rec_valid = recall_score(y_valid, y_valid_pred, average='micro')\n",
    "\n",
    "print(f'Treino:\\nAcc: {acc_train:.2f}, Precision: {prec_train:.2f}, Recall: {rec_train:.2f}')\n",
    "print(f'Validação:\\nAcc: {acc_valid:.2f}, Precision: {prec_valid:.2f}, Recall: {rec_valid:.2f}')"
   ]
  },
  {
   "cell_type": "markdown",
   "metadata": {},
   "source": [
    "## AdaBoost"
   ]
  },
  {
   "cell_type": "code",
   "execution_count": 261,
   "metadata": {},
   "outputs": [],
   "source": [
    "from sklearn.ensemble import AdaBoostClassifier"
   ]
  },
  {
   "cell_type": "code",
   "execution_count": 262,
   "metadata": {},
   "outputs": [
    {
     "data": {
      "text/plain": [
       "AdaBoostClassifier(n_estimators=20, random_state=12)"
      ]
     },
     "execution_count": 262,
     "metadata": {},
     "output_type": "execute_result"
    }
   ],
   "source": [
    "modelo = AdaBoostClassifier(n_estimators=20, random_state=12)\n",
    "\n",
    "modelo"
   ]
  },
  {
   "cell_type": "code",
   "execution_count": 263,
   "metadata": {},
   "outputs": [
    {
     "data": {
      "text/plain": [
       "AdaBoostClassifier(n_estimators=20, random_state=12)"
      ]
     },
     "execution_count": 263,
     "metadata": {},
     "output_type": "execute_result"
    }
   ],
   "source": [
    "modelo.fit(x_train_transformed, y_train)"
   ]
  },
  {
   "cell_type": "code",
   "execution_count": 264,
   "metadata": {},
   "outputs": [
    {
     "name": "stdout",
     "output_type": "stream",
     "text": [
      "(52818,) (13205,)\n"
     ]
    }
   ],
   "source": [
    "y_train_pred = modelo.predict(x_train_transformed)\n",
    "\n",
    "y_valid_pred = modelo.predict(x_valid_transformed)\n",
    "\n",
    "print(y_train_pred.shape, y_valid_pred.shape)"
   ]
  },
  {
   "cell_type": "code",
   "execution_count": 265,
   "metadata": {},
   "outputs": [
    {
     "data": {
      "image/png": "[encoded data removed]",
      "text/plain": [
       "<Figure size 432x288 with 1 Axes>"
      ]
     },
     "metadata": {
      "needs_background": "light"
     },
     "output_type": "display_data"
    }
   ],
   "source": [
    "from mlxtend.plotting import plot_confusion_matrix\n",
    "from sklearn.metrics import confusion_matrix\n",
    "from matplotlib import pyplot as plt\n",
    "\n",
    "cm = confusion_matrix(y_valid, y_valid_pred)\n",
    "\n",
    "plot_confusion_matrix(conf_mat=cm)\n",
    "plt.show()"
   ]
  },
  {
   "cell_type": "code",
   "execution_count": 266,
   "metadata": {},
   "outputs": [
    {
     "name": "stdout",
     "output_type": "stream",
     "text": [
      "Treino:\n",
      "Acc: 0.70, Precision: 0.70, Recall: 0.70\n",
      "Validação:\n",
      "Acc: 0.69, Precision: 0.68, Recall: 0.69\n"
     ]
    }
   ],
   "source": [
    "from sklearn.metrics import accuracy_score, precision_score, recall_score\n",
    "\n",
    "acc_train = accuracy_score(y_train, y_train_pred)\n",
    "prec_train = precision_score(y_train, y_train_pred,average='micro')\n",
    "rec_train = recall_score(y_train, y_train_pred, average='micro')\n",
    "\n",
    "acc_valid = accuracy_score(y_valid, y_valid_pred)\n",
    "prec_valid = precision_score(y_valid, y_valid_pred, average='micro')\n",
    "rec_valid = recall_score(y_valid, y_valid_pred, average='micro')\n",
    "\n",
    "print(f'Treino:\\nAcc: {acc_train:.2f}, Precision: {prec_train:.2f}, Recall: {rec_train:.2f}')\n",
    "print(f'Validação:\\nAcc: {acc_valid:.2f}, Precision: {prec_valid:.2f}, Recall: {rec_valid:.2f}')"
   ]
  },
  {
   "cell_type": "markdown",
   "metadata": {},
   "source": [
    "## Teste"
   ]
  },
  {
   "cell_type": "code",
   "execution_count": 291,
   "metadata": {},
   "outputs": [
    {
     "name": "stdout",
     "output_type": "stream",
     "text": [
      "(28500,) (28500,)\n"
     ]
    }
   ],
   "source": [
    "x_test = df_test['tweet_text']\n",
    "y_test = df_test['sentiment']\n",
    "\n",
    "print(x_test.shape, y_test.shape)"
   ]
  },
  {
   "cell_type": "code",
   "execution_count": 292,
   "metadata": {},
   "outputs": [
    {
     "name": "stderr",
     "output_type": "stream",
     "text": [
      "100%|██████████| 28500/28500 [00:03<00:00, 8764.58it/s] \n"
     ]
    },
    {
     "name": "stdout",
     "output_type": "stream",
     "text": [
      "(28500, 300)\n"
     ]
    }
   ],
   "source": [
    "x_test_transformed = embeddings(x_test, model_w2v)\n",
    "\n",
    "print(x_test_transformed.shape)"
   ]
  },
  {
   "cell_type": "code",
   "execution_count": 293,
   "metadata": {},
   "outputs": [
    {
     "name": "stdout",
     "output_type": "stream",
     "text": [
      "(28500,)\n"
     ]
    }
   ],
   "source": [
    "y_test_pred = modelo.predict(x_test_transformed)\n",
    "\n",
    "print(y_test_pred.shape)"
   ]
  },
  {
   "cell_type": "code",
   "execution_count": 294,
   "metadata": {},
   "outputs": [
    {
     "data": {
      "image/png": "[encoded data removed]",
      "text/plain": [
       "<Figure size 432x288 with 1 Axes>"
      ]
     },
     "metadata": {
      "needs_background": "light"
     },
     "output_type": "display_data"
    }
   ],
   "source": [
    "from mlxtend.plotting import plot_confusion_matrix\n",
    "from sklearn.metrics import confusion_matrix\n",
    "from matplotlib import pyplot as plt\n",
    "\n",
    "cm = confusion_matrix(y_valid, y_valid_pred)\n",
    "\n",
    "plot_confusion_matrix(conf_mat=cm)\n",
    "plt.show()"
   ]
  },
  {
   "cell_type": "code",
   "execution_count": 295,
   "metadata": {},
   "outputs": [
    {
     "name": "stdout",
     "output_type": "stream",
     "text": [
      "Teste:\n",
      "Acc: 0.77, Precision: 0.77, Recall: 0.77\n"
     ]
    }
   ],
   "source": [
    "from sklearn.metrics import accuracy_score, precision_score, recall_score\n",
    "\n",
    "acc_test = accuracy_score(y_test, y_test_pred)\n",
    "prec_test = precision_score(y_test, y_test_pred,average='micro')\n",
    "rec_test = recall_score(y_test, y_test_pred, average='micro')\n",
    "\n",
    "\n",
    "print(f'Teste:\\nAcc: {acc_test:.2f}, Precision: {prec_test:.2f}, Recall: {rec_test:.2f}')"
   ]
  },
  {
   "cell_type": "markdown",
   "metadata": {},
   "source": [
    "## Subm"
   ]
  },
  {
   "cell_type": "code",
   "execution_count": 296,
   "metadata": {},
   "outputs": [
    {
     "name": "stdout",
     "output_type": "stream",
     "text": [
      "(5000, 4)\n"
     ]
    },
    {
     "data": {
      "text/html": [
       "<div>\n",
       "<style scoped>\n",
       "    .dataframe tbody tr th:only-of-type {\n",
       "        vertical-align: middle;\n",
       "    }\n",
       "\n",
       "    .dataframe tbody tr th {\n",
       "        vertical-align: top;\n",
       "    }\n",
       "\n",
       "    .dataframe thead th {\n",
       "        text-align: right;\n",
       "    }\n",
       "</style>\n",
       "<table border=\"1\" class=\"dataframe\">\n",
       "  <thead>\n",
       "    <tr style=\"text-align: right;\">\n",
       "      <th></th>\n",
       "      <th>id</th>\n",
       "      <th>tweet_text</th>\n",
       "      <th>tweet_date</th>\n",
       "      <th>query_used</th>\n",
       "    </tr>\n",
       "  </thead>\n",
       "  <tbody>\n",
       "    <tr>\n",
       "      <th>3602</th>\n",
       "      <td>1049227466521436160</td>\n",
       "      <td>Queria estrear o meu bb novo Mas sei q vou suj...</td>\n",
       "      <td>Mon Oct 08 09:18:16 +0000 2018</td>\n",
       "      <td>:(</td>\n",
       "    </tr>\n",
       "    <tr>\n",
       "      <th>1107</th>\n",
       "      <td>1047510275526680578</td>\n",
       "      <td>nas quartas o brigadeiro usa rosa :) https://t...</td>\n",
       "      <td>Wed Oct 03 15:34:46 +0000 2018</td>\n",
       "      <td>:)</td>\n",
       "    </tr>\n",
       "    <tr>\n",
       "      <th>600</th>\n",
       "      <td>1049404063228588039</td>\n",
       "      <td>Celso Rocha de Barros | O PT que existiu até a...</td>\n",
       "      <td>Mon Oct 08 21:00:00 +0000 2018</td>\n",
       "      <td>folha</td>\n",
       "    </tr>\n",
       "    <tr>\n",
       "      <th>2458</th>\n",
       "      <td>1037054576090902528</td>\n",
       "      <td>Veja o que é #FATO ou #FAKE na entrevista de G...</td>\n",
       "      <td>Tue Sep 04 19:07:33 +0000 2018</td>\n",
       "      <td>#fato</td>\n",
       "    </tr>\n",
       "    <tr>\n",
       "      <th>3590</th>\n",
       "      <td>1047445160861347840</td>\n",
       "      <td>@_tauries @beatriz_seca ja vi um pouco dele e ...</td>\n",
       "      <td>Wed Oct 03 11:16:01 +0000 2018</td>\n",
       "      <td>:)</td>\n",
       "    </tr>\n",
       "  </tbody>\n",
       "</table>\n",
       "</div>"
      ],
      "text/plain": [
       "                       id                                         tweet_text  \\\n",
       "3602  1049227466521436160  Queria estrear o meu bb novo Mas sei q vou suj...   \n",
       "1107  1047510275526680578  nas quartas o brigadeiro usa rosa :) https://t...   \n",
       "600   1049404063228588039  Celso Rocha de Barros | O PT que existiu até a...   \n",
       "2458  1037054576090902528  Veja o que é #FATO ou #FAKE na entrevista de G...   \n",
       "3590  1047445160861347840  @_tauries @beatriz_seca ja vi um pouco dele e ...   \n",
       "\n",
       "                          tweet_date query_used  \n",
       "3602  Mon Oct 08 09:18:16 +0000 2018         :(  \n",
       "1107  Wed Oct 03 15:34:46 +0000 2018         :)  \n",
       "600   Mon Oct 08 21:00:00 +0000 2018      folha  \n",
       "2458  Tue Sep 04 19:07:33 +0000 2018      #fato  \n",
       "3590  Wed Oct 03 11:16:01 +0000 2018         :)  "
      ]
     },
     "execution_count": 296,
     "metadata": {},
     "output_type": "execute_result"
    }
   ],
   "source": [
    "df_subm = pd.read_csv('Dados/subm/Subm3classes.csv')\n",
    "\n",
    "print(df_subm.shape)\n",
    "\n",
    "df_subm.sample(10).head()"
   ]
  },
  {
   "cell_type": "code",
   "execution_count": 297,
   "metadata": {},
   "outputs": [],
   "source": [
    "def sentimento(query):\n",
    "    if query == ':)':\n",
    "        return 1\n",
    "    elif query == ':(':\n",
    "        return 0\n",
    "    else:\n",
    "        return 2"
   ]
  },
  {
   "cell_type": "code",
   "execution_count": 298,
   "metadata": {},
   "outputs": [],
   "source": [
    "df_subm['sentiment'] = df_subm['query_used'].apply(sentimento)"
   ]
  },
  {
   "cell_type": "code",
   "execution_count": 299,
   "metadata": {},
   "outputs": [
    {
     "data": {
      "text/html": [
       "<div>\n",
       "<style scoped>\n",
       "    .dataframe tbody tr th:only-of-type {\n",
       "        vertical-align: middle;\n",
       "    }\n",
       "\n",
       "    .dataframe tbody tr th {\n",
       "        vertical-align: top;\n",
       "    }\n",
       "\n",
       "    .dataframe thead th {\n",
       "        text-align: right;\n",
       "    }\n",
       "</style>\n",
       "<table border=\"1\" class=\"dataframe\">\n",
       "  <thead>\n",
       "    <tr style=\"text-align: right;\">\n",
       "      <th></th>\n",
       "      <th>id</th>\n",
       "      <th>tweet_text</th>\n",
       "      <th>tweet_date</th>\n",
       "      <th>query_used</th>\n",
       "      <th>sentiment</th>\n",
       "    </tr>\n",
       "  </thead>\n",
       "  <tbody>\n",
       "    <tr>\n",
       "      <th>677</th>\n",
       "      <td>1047548161278074880</td>\n",
       "      <td>Alex Atala é o sétimo melhor chef do mundo. Ve...</td>\n",
       "      <td>Wed Oct 03 18:05:18 +0000 2018</td>\n",
       "      <td>exame</td>\n",
       "      <td>2</td>\n",
       "    </tr>\n",
       "    <tr>\n",
       "      <th>1790</th>\n",
       "      <td>1045397504534155273</td>\n",
       "      <td>Por que vc tava triste hoje? Vc só anda assim ...</td>\n",
       "      <td>Thu Sep 27 19:39:22 +0000 2018</td>\n",
       "      <td>:)</td>\n",
       "      <td>1</td>\n",
       "    </tr>\n",
       "    <tr>\n",
       "      <th>2668</th>\n",
       "      <td>1046963543713751041</td>\n",
       "      <td>@cryptidhao outro pecado :( deus tá vendo e ñ ...</td>\n",
       "      <td>Tue Oct 02 03:22:15 +0000 2018</td>\n",
       "      <td>:(</td>\n",
       "      <td>0</td>\n",
       "    </tr>\n",
       "    <tr>\n",
       "      <th>1982</th>\n",
       "      <td>1046225369207123968</td>\n",
       "      <td>criando coragem pra ver o último ep de tvd no ...</td>\n",
       "      <td>Sun Sep 30 02:29:00 +0000 2018</td>\n",
       "      <td>:(</td>\n",
       "      <td>0</td>\n",
       "    </tr>\n",
       "    <tr>\n",
       "      <th>3234</th>\n",
       "      <td>1042790488049254402</td>\n",
       "      <td>&amp;gt;@EstadaoEconomia Trabalhadores passam ao d...</td>\n",
       "      <td>Thu Sep 20 15:00:01 +0000 2018</td>\n",
       "      <td>estadao</td>\n",
       "      <td>2</td>\n",
       "    </tr>\n",
       "  </tbody>\n",
       "</table>\n",
       "</div>"
      ],
      "text/plain": [
       "                       id                                         tweet_text  \\\n",
       "677   1047548161278074880  Alex Atala é o sétimo melhor chef do mundo. Ve...   \n",
       "1790  1045397504534155273  Por que vc tava triste hoje? Vc só anda assim ...   \n",
       "2668  1046963543713751041  @cryptidhao outro pecado :( deus tá vendo e ñ ...   \n",
       "1982  1046225369207123968  criando coragem pra ver o último ep de tvd no ...   \n",
       "3234  1042790488049254402  &gt;@EstadaoEconomia Trabalhadores passam ao d...   \n",
       "\n",
       "                          tweet_date query_used  sentiment  \n",
       "677   Wed Oct 03 18:05:18 +0000 2018      exame          2  \n",
       "1790  Thu Sep 27 19:39:22 +0000 2018         :)          1  \n",
       "2668  Tue Oct 02 03:22:15 +0000 2018         :(          0  \n",
       "1982  Sun Sep 30 02:29:00 +0000 2018         :(          0  \n",
       "3234  Thu Sep 20 15:00:01 +0000 2018    estadao          2  "
      ]
     },
     "execution_count": 299,
     "metadata": {},
     "output_type": "execute_result"
    }
   ],
   "source": [
    "df_subm.sample(10).head()"
   ]
  },
  {
   "cell_type": "code",
   "execution_count": 300,
   "metadata": {},
   "outputs": [
    {
     "name": "stdout",
     "output_type": "stream",
     "text": [
      "(5000,) (5000,)\n"
     ]
    }
   ],
   "source": [
    "x_subm = df_subm['tweet_text']\n",
    "y_subm = df_subm['sentiment']\n",
    "\n",
    "print(x_subm.shape, y_subm.shape)"
   ]
  },
  {
   "cell_type": "code",
   "execution_count": 301,
   "metadata": {},
   "outputs": [
    {
     "name": "stderr",
     "output_type": "stream",
     "text": [
      "100%|██████████| 5000/5000 [00:00<00:00, 10723.31it/s]"
     ]
    },
    {
     "name": "stdout",
     "output_type": "stream",
     "text": [
      "(5000, 300)\n"
     ]
    },
    {
     "name": "stderr",
     "output_type": "stream",
     "text": [
      "\n"
     ]
    }
   ],
   "source": [
    "x_subm_transformed = embeddings(x_subm, model_w2v)\n",
    "\n",
    "print(x_subm_transformed.shape)"
   ]
  },
  {
   "cell_type": "code",
   "execution_count": 302,
   "metadata": {},
   "outputs": [
    {
     "name": "stdout",
     "output_type": "stream",
     "text": [
      "(5000,)\n"
     ]
    }
   ],
   "source": [
    "y_subm_pred = modelo.predict(x_subm_transformed)\n",
    "\n",
    "print(y_subm_pred.shape)"
   ]
  },
  {
   "cell_type": "code",
   "execution_count": 303,
   "metadata": {},
   "outputs": [
    {
     "data": {
      "image/png": "[encoded data removed]",
      "text/plain": [
       "<Figure size 432x288 with 1 Axes>"
      ]
     },
     "metadata": {
      "needs_background": "light"
     },
     "output_type": "display_data"
    }
   ],
   "source": [
    "from mlxtend.plotting import plot_confusion_matrix\n",
    "from sklearn.metrics import confusion_matrix\n",
    "from matplotlib import pyplot as plt\n",
    "\n",
    "cm = confusion_matrix(y_valid, y_valid_pred)\n",
    "\n",
    "plot_confusion_matrix(conf_mat=cm)\n",
    "plt.show()"
   ]
  },
  {
   "cell_type": "code",
   "execution_count": 304,
   "metadata": {},
   "outputs": [
    {
     "name": "stdout",
     "output_type": "stream",
     "text": [
      "Teste:\n",
      "Acc: 0.77, Precision: 0.77, Recall: 0.77\n"
     ]
    }
   ],
   "source": [
    "from sklearn.metrics import accuracy_score, precision_score, recall_score\n",
    "\n",
    "acc_subm = accuracy_score(y_subm, y_subm_pred)\n",
    "prec_subm = precision_score(y_subm, y_subm_pred,average='micro')\n",
    "rec_subm = recall_score(y_subm, y_subm_pred, average='micro')\n",
    "\n",
    "\n",
    "print(f'Teste:\\nAcc: {acc_test:.2f}, Precision: {prec_test:.2f}, Recall: {rec_test:.2f}')"
   ]
  },
  {
   "cell_type": "code",
   "execution_count": null,
   "metadata": {},
   "outputs": [],
   "source": []
  },
  {
   "cell_type": "code",
   "execution_count": null,
   "metadata": {},
   "outputs": [],
   "source": []
  },
  {
   "cell_type": "code",
   "execution_count": null,
   "metadata": {},
   "outputs": [],
   "source": [
    "#from bs4 import BeautifulSoup\n",
    "#import lxml.html\n",
    "\n",
    "#def clean_tweet(text):\n",
    "#    clean_text = BeautifulSoup(text, \"lxml\").text\n",
    "    \n",
    "#    return clean_text"
   ]
  },
  {
   "cell_type": "code",
   "execution_count": null,
   "metadata": {
    "scrolled": true
   },
   "outputs": [],
   "source": [
    "#df_experiment['tweet_text'] = df_experiment['tweet_text'].apply(clean_lxml);"
   ]
  },
  {
   "cell_type": "code",
   "execution_count": null,
   "metadata": {},
   "outputs": [],
   "source": [
    "#import numpy as np\n",
    "#import re\n",
    "\n",
    "#def remove_pattern(text, pattern_regex):\n",
    "#    r = re.findall(pattern_regex, text)\n",
    "#    for i in r:\n",
    "#        text = re.sub(i, '', text)\n",
    "    \n",
    "#    return text"
   ]
  },
  {
   "cell_type": "code",
   "execution_count": null,
   "metadata": {},
   "outputs": [],
   "source": [
    "#df_experiment['tweet_text'] = np.vectorize(remove_pattern)(df_experiment['tweet_text'], \"@[\\w]*: | *RT*\");"
   ]
  }
 ],
 "metadata": {
  "kernelspec": {
   "display_name": "Python 3",
   "language": "python",
   "name": "python3"
  },
  "language_info": {
   "codemirror_mode": {
    "name": "ipython",
    "version": 3
   },
   "file_extension": ".py",
   "mimetype": "text/x-python",
   "name": "python",
   "nbconvert_exporter": "python",
   "pygments_lexer": "ipython3",
   "version": "3.9.5"
  }
 },
 "nbformat": 4,
 "nbformat_minor": 4
}
