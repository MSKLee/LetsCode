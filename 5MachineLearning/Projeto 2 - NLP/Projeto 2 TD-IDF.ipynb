{
 "cells": [
  {
   "cell_type": "code",
   "execution_count": 1,
   "metadata": {},
   "outputs": [
    {
     "name": "stdout",
     "output_type": "stream",
     "text": [
      "(95000, 5)\n"
     ]
    },
    {
     "data": {
      "text/html": [
       "<div>\n",
       "<style scoped>\n",
       "    .dataframe tbody tr th:only-of-type {\n",
       "        vertical-align: middle;\n",
       "    }\n",
       "\n",
       "    .dataframe tbody tr th {\n",
       "        vertical-align: top;\n",
       "    }\n",
       "\n",
       "    .dataframe thead th {\n",
       "        text-align: right;\n",
       "    }\n",
       "</style>\n",
       "<table border=\"1\" class=\"dataframe\">\n",
       "  <thead>\n",
       "    <tr style=\"text-align: right;\">\n",
       "      <th></th>\n",
       "      <th>id</th>\n",
       "      <th>tweet_text</th>\n",
       "      <th>tweet_date</th>\n",
       "      <th>sentiment</th>\n",
       "      <th>query_used</th>\n",
       "    </tr>\n",
       "  </thead>\n",
       "  <tbody>\n",
       "    <tr>\n",
       "      <th>75912</th>\n",
       "      <td>1039869678632484864</td>\n",
       "      <td>Capitão da França admite embriaguez e tem cart...</td>\n",
       "      <td>Wed Sep 12 13:33:45 +0000 2018</td>\n",
       "      <td>2</td>\n",
       "      <td>veja</td>\n",
       "    </tr>\n",
       "    <tr>\n",
       "      <th>90438</th>\n",
       "      <td>1046789363340890112</td>\n",
       "      <td>n tenho ideia do q fzr no reveillon :( q merda</td>\n",
       "      <td>Mon Oct 01 15:50:07 +0000 2018</td>\n",
       "      <td>0</td>\n",
       "      <td>:(</td>\n",
       "    </tr>\n",
       "    <tr>\n",
       "      <th>4282</th>\n",
       "      <td>1049266006026276865</td>\n",
       "      <td>Mano era pra eu tá fazendo campanha agora pro ...</td>\n",
       "      <td>Mon Oct 08 11:51:24 +0000 2018</td>\n",
       "      <td>0</td>\n",
       "      <td>:(</td>\n",
       "    </tr>\n",
       "    <tr>\n",
       "      <th>72621</th>\n",
       "      <td>1038145440150118403</td>\n",
       "      <td>Trump pede investigação do 'New York Times' ap...</td>\n",
       "      <td>Fri Sep 07 19:22:15 +0000 2018</td>\n",
       "      <td>2</td>\n",
       "      <td>g1</td>\n",
       "    </tr>\n",
       "    <tr>\n",
       "      <th>52006</th>\n",
       "      <td>1046265800561250304</td>\n",
       "      <td>O mais engraçado é que isso não mudou :( https...</td>\n",
       "      <td>Sun Sep 30 05:09:40 +0000 2018</td>\n",
       "      <td>0</td>\n",
       "      <td>:(</td>\n",
       "    </tr>\n",
       "  </tbody>\n",
       "</table>\n",
       "</div>"
      ],
      "text/plain": [
       "                        id                                         tweet_text  \\\n",
       "75912  1039869678632484864  Capitão da França admite embriaguez e tem cart...   \n",
       "90438  1046789363340890112     n tenho ideia do q fzr no reveillon :( q merda   \n",
       "4282   1049266006026276865  Mano era pra eu tá fazendo campanha agora pro ...   \n",
       "72621  1038145440150118403  Trump pede investigação do 'New York Times' ap...   \n",
       "52006  1046265800561250304  O mais engraçado é que isso não mudou :( https...   \n",
       "\n",
       "                           tweet_date  sentiment query_used  \n",
       "75912  Wed Sep 12 13:33:45 +0000 2018          2       veja  \n",
       "90438  Mon Oct 01 15:50:07 +0000 2018          0         :(  \n",
       "4282   Mon Oct 08 11:51:24 +0000 2018          0         :(  \n",
       "72621  Fri Sep 07 19:22:15 +0000 2018          2         g1  \n",
       "52006  Sun Sep 30 05:09:40 +0000 2018          0         :(  "
      ]
     },
     "execution_count": 1,
     "metadata": {},
     "output_type": "execute_result"
    }
   ],
   "source": [
    "# Importando os dados do arquivo csv\n",
    "\n",
    "import pandas as pd\n",
    "\n",
    "df_tweet = pd.read_csv('Dados/train/Train3classes.csv')\n",
    "\n",
    "print(df_tweet.shape)\n",
    "\n",
    "df_tweet.sample(10).head()"
   ]
  },
  {
   "cell_type": "code",
   "execution_count": 2,
   "metadata": {},
   "outputs": [],
   "source": [
    "from sklearn.model_selection import train_test_split"
   ]
  },
  {
   "cell_type": "code",
   "execution_count": 3,
   "metadata": {},
   "outputs": [],
   "source": [
    "# Separando o Dataframe em Dataframe de Treino e de Teste\n",
    "\n",
    "df_experiment, df_test = train_test_split(df_tweet, test_size=.3)"
   ]
  },
  {
   "cell_type": "code",
   "execution_count": 4,
   "metadata": {},
   "outputs": [
    {
     "name": "stdout",
     "output_type": "stream",
     "text": [
      "469 linhas duplicadas em 66500 registros\n"
     ]
    }
   ],
   "source": [
    "SUBSET_DUPLICADOS = df_experiment.drop(['tweet_date', 'id'], axis=1).columns.to_list()\n",
    "\n",
    "num_duplicados = df_experiment.duplicated(subset=SUBSET_DUPLICADOS).sum()\n",
    "\n",
    "print(f'{num_duplicados} linhas duplicadas em {len(df_experiment)} registros')"
   ]
  },
  {
   "cell_type": "code",
   "execution_count": 5,
   "metadata": {},
   "outputs": [
    {
     "name": "stdout",
     "output_type": "stream",
     "text": [
      "(66031, 5) 0\n"
     ]
    }
   ],
   "source": [
    "df_experiment = df_experiment.drop_duplicates(subset=SUBSET_DUPLICADOS)\n",
    "\n",
    "print(df_experiment.shape, f'{df_experiment.duplicated(subset=SUBSET_DUPLICADOS).sum()}')"
   ]
  },
  {
   "cell_type": "code",
   "execution_count": 6,
   "metadata": {
    "scrolled": false
   },
   "outputs": [
    {
     "data": {
      "text/plain": [
       "<AxesSubplot:>"
      ]
     },
     "execution_count": 6,
     "metadata": {},
     "output_type": "execute_result"
    },
    {
     "data": {
      "image/png": "[encoded data removed]",
      "text/plain": [
       "<Figure size 1728x720 with 3 Axes>"
      ]
     },
     "metadata": {
      "needs_background": "light"
     },
     "output_type": "display_data"
    }
   ],
   "source": [
    "import missingno as msno\n",
    "msno.bar(df_experiment)"
   ]
  },
  {
   "cell_type": "code",
   "execution_count": 7,
   "metadata": {},
   "outputs": [],
   "source": [
    "#df_experiment[['tweet_text', 'sentiment']].drop_duplicates()"
   ]
  },
  {
   "cell_type": "code",
   "execution_count": 8,
   "metadata": {},
   "outputs": [],
   "source": [
    "import re\n",
    "\n",
    "def clean_https(df):\n",
    "    text = df['tweet_text'].apply(lambda x: re.split('https:\\/\\/.*', str(x))[0]);\n",
    "    \n",
    "    return text"
   ]
  },
  {
   "cell_type": "code",
   "execution_count": 9,
   "metadata": {},
   "outputs": [
    {
     "data": {
      "text/plain": [
       "733      Menor suspeito de dirigir bêbado e matar mulhe...\n",
       "20996    Só quero ser o melhor amigo que você merece :)...\n",
       "8043     Jovem é agredida e marcada com canivete por ve...\n",
       "74118    @OtinhaXoXo tambem :(( ela tá passando uns dia...\n",
       "60530                  @leocarvalhu Poxa amigo que pena :(\n",
       "                               ...                        \n",
       "78656    @thisishowKIMdo eu tentei né fada :( que trist...\n",
       "68983    &gt;@EstadaoCultura Paul McCartney diz que Joh...\n",
       "58578    20 minutos para apanhar o autocarro e não sei ...\n",
       "75261               cheguei aos 100 🔥 com a margarida :)))\n",
       "41113    @LucaMoreira00 @Sikorskinha bom, não existe de...\n",
       "Name: tweet_text, Length: 66031, dtype: object"
      ]
     },
     "execution_count": 9,
     "metadata": {},
     "output_type": "execute_result"
    }
   ],
   "source": [
    "clean_https(df_experiment)"
   ]
  },
  {
   "cell_type": "code",
   "execution_count": 10,
   "metadata": {},
   "outputs": [
    {
     "data": {
      "text/html": [
       "<div>\n",
       "<style scoped>\n",
       "    .dataframe tbody tr th:only-of-type {\n",
       "        vertical-align: middle;\n",
       "    }\n",
       "\n",
       "    .dataframe tbody tr th {\n",
       "        vertical-align: top;\n",
       "    }\n",
       "\n",
       "    .dataframe thead th {\n",
       "        text-align: right;\n",
       "    }\n",
       "</style>\n",
       "<table border=\"1\" class=\"dataframe\">\n",
       "  <thead>\n",
       "    <tr style=\"text-align: right;\">\n",
       "      <th></th>\n",
       "      <th>id</th>\n",
       "      <th>tweet_text</th>\n",
       "      <th>tweet_date</th>\n",
       "      <th>sentiment</th>\n",
       "      <th>query_used</th>\n",
       "    </tr>\n",
       "  </thead>\n",
       "  <tbody>\n",
       "    <tr>\n",
       "      <th>84841</th>\n",
       "      <td>1049239375547174912</td>\n",
       "      <td>@ddrielo @MakeForgotte @Cinderelaalone @victor...</td>\n",
       "      <td>Mon Oct 08 10:05:35 +0000 2018</td>\n",
       "      <td>1</td>\n",
       "      <td>:)</td>\n",
       "    </tr>\n",
       "    <tr>\n",
       "      <th>88912</th>\n",
       "      <td>1046963657022853120</td>\n",
       "      <td>@ecilaxz Oh meu anjinho :(</td>\n",
       "      <td>Tue Oct 02 03:22:42 +0000 2018</td>\n",
       "      <td>0</td>\n",
       "      <td>:(</td>\n",
       "    </tr>\n",
       "    <tr>\n",
       "      <th>33789</th>\n",
       "      <td>1047503427666939904</td>\n",
       "      <td>@LucasPCBranco Valeu :p</td>\n",
       "      <td>Wed Oct 03 15:07:33 +0000 2018</td>\n",
       "      <td>1</td>\n",
       "      <td>:)</td>\n",
       "    </tr>\n",
       "    <tr>\n",
       "      <th>62365</th>\n",
       "      <td>1046940017040470018</td>\n",
       "      <td>eu abri o app de contagem regressiva pq fui ve...</td>\n",
       "      <td>Tue Oct 02 01:48:45 +0000 2018</td>\n",
       "      <td>0</td>\n",
       "      <td>:(</td>\n",
       "    </tr>\n",
       "    <tr>\n",
       "      <th>87562</th>\n",
       "      <td>1047061119716798464</td>\n",
       "      <td>fui passar óleo no cabelo aí esqueci que era ó...</td>\n",
       "      <td>Tue Oct 02 09:49:59 +0000 2018</td>\n",
       "      <td>0</td>\n",
       "      <td>:(</td>\n",
       "    </tr>\n",
       "  </tbody>\n",
       "</table>\n",
       "</div>"
      ],
      "text/plain": [
       "                        id                                         tweet_text  \\\n",
       "84841  1049239375547174912  @ddrielo @MakeForgotte @Cinderelaalone @victor...   \n",
       "88912  1046963657022853120                         @ecilaxz Oh meu anjinho :(   \n",
       "33789  1047503427666939904                            @LucasPCBranco Valeu :p   \n",
       "62365  1046940017040470018  eu abri o app de contagem regressiva pq fui ve...   \n",
       "87562  1047061119716798464  fui passar óleo no cabelo aí esqueci que era ó...   \n",
       "\n",
       "                           tweet_date  sentiment query_used  \n",
       "84841  Mon Oct 08 10:05:35 +0000 2018          1         :)  \n",
       "88912  Tue Oct 02 03:22:42 +0000 2018          0         :(  \n",
       "33789  Wed Oct 03 15:07:33 +0000 2018          1         :)  \n",
       "62365  Tue Oct 02 01:48:45 +0000 2018          0         :(  \n",
       "87562  Tue Oct 02 09:49:59 +0000 2018          0         :(  "
      ]
     },
     "execution_count": 10,
     "metadata": {},
     "output_type": "execute_result"
    }
   ],
   "source": [
    "df_experiment.sample(10).head()"
   ]
  },
  {
   "cell_type": "code",
   "execution_count": 11,
   "metadata": {},
   "outputs": [],
   "source": [
    "df_train, df_valid = train_test_split(df_experiment, test_size=.2)"
   ]
  },
  {
   "cell_type": "code",
   "execution_count": 12,
   "metadata": {},
   "outputs": [
    {
     "name": "stdout",
     "output_type": "stream",
     "text": [
      "(52824,) (52824,)\n",
      "(13207,) (13207,)\n"
     ]
    }
   ],
   "source": [
    "x_train, y_train = df_train['tweet_text'], df_train['sentiment']\n",
    "x_valid, y_valid = df_valid['tweet_text'], df_valid['sentiment']\n",
    "\n",
    "print(x_train.shape, y_train.shape)\n",
    "print(x_valid.shape, y_valid.shape)"
   ]
  },
  {
   "cell_type": "code",
   "execution_count": 13,
   "metadata": {},
   "outputs": [
    {
     "data": {
      "text/plain": [
       "TfidfVectorizer(max_features=10000)"
      ]
     },
     "execution_count": 13,
     "metadata": {},
     "output_type": "execute_result"
    }
   ],
   "source": [
    "from sklearn.feature_extraction.text import TfidfVectorizer\n",
    "\n",
    "vectorizer = TfidfVectorizer(max_features=10000)\n",
    "\n",
    "vectorizer.fit(x_train)"
   ]
  },
  {
   "cell_type": "code",
   "execution_count": 14,
   "metadata": {},
   "outputs": [
    {
     "name": "stdout",
     "output_type": "stream",
     "text": [
      "(52824, 10000)\n",
      "(13207, 10000)\n"
     ]
    }
   ],
   "source": [
    "x_train_transformed = vectorizer.transform(x_train).toarray()\n",
    "\n",
    "print(x_train_transformed.shape)\n",
    "\n",
    "x_valid_transformed = vectorizer.transform(x_valid).toarray()\n",
    "\n",
    "print(x_valid_transformed.shape)"
   ]
  },
  {
   "cell_type": "code",
   "execution_count": 15,
   "metadata": {},
   "outputs": [],
   "source": [
    "from sklearn.naive_bayes import MultinomialNB"
   ]
  },
  {
   "cell_type": "code",
   "execution_count": 16,
   "metadata": {},
   "outputs": [
    {
     "data": {
      "text/plain": [
       "MultinomialNB()"
      ]
     },
     "execution_count": 16,
     "metadata": {},
     "output_type": "execute_result"
    }
   ],
   "source": [
    "modelo = MultinomialNB()\n",
    "\n",
    "modelo"
   ]
  },
  {
   "cell_type": "code",
   "execution_count": 18,
   "metadata": {},
   "outputs": [
    {
     "data": {
      "text/plain": [
       "MultinomialNB()"
      ]
     },
     "execution_count": 18,
     "metadata": {},
     "output_type": "execute_result"
    }
   ],
   "source": [
    "modelo.fit(x_train_transformed, y_train)"
   ]
  },
  {
   "cell_type": "code",
   "execution_count": 19,
   "metadata": {},
   "outputs": [
    {
     "name": "stdout",
     "output_type": "stream",
     "text": [
      "(52824,) (13207,)\n"
     ]
    }
   ],
   "source": [
    "y_train_pred = modelo.predict(x_train_transformed)\n",
    "\n",
    "y_valid_pred = modelo.predict(x_valid_transformed)\n",
    "\n",
    "print(y_train_pred.shape, y_valid_pred.shape)"
   ]
  },
  {
   "cell_type": "code",
   "execution_count": 20,
   "metadata": {},
   "outputs": [
    {
     "data": {
      "image/png": "[encoded data removed]",
      "text/plain": [
       "<Figure size 432x288 with 1 Axes>"
      ]
     },
     "metadata": {
      "needs_background": "light"
     },
     "output_type": "display_data"
    }
   ],
   "source": [
    "from mlxtend.plotting import plot_confusion_matrix\n",
    "from sklearn.metrics import confusion_matrix\n",
    "from matplotlib import pyplot as plt\n",
    "\n",
    "cm = confusion_matrix(y_valid, y_valid_pred)\n",
    "\n",
    "plot_confusion_matrix(conf_mat=cm)\n",
    "plt.show()"
   ]
  },
  {
   "cell_type": "code",
   "execution_count": 21,
   "metadata": {},
   "outputs": [
    {
     "name": "stdout",
     "output_type": "stream",
     "text": [
      "Treino:\n",
      "Acc: 0.83, Precision: 0.83, Recall: 0.83\n",
      "Validação:\n",
      "Acc: 0.80, Precision: 0.80, Recall: 0.80\n"
     ]
    }
   ],
   "source": [
    "from sklearn.metrics import accuracy_score, precision_score, recall_score\n",
    "\n",
    "acc_train = accuracy_score(y_train, y_train_pred)\n",
    "prec_train = precision_score(y_train, y_train_pred,average='micro')\n",
    "rec_train = recall_score(y_train, y_train_pred, average='micro')\n",
    "\n",
    "acc_valid = accuracy_score(y_valid, y_valid_pred)\n",
    "prec_valid = precision_score(y_valid, y_valid_pred, average='micro')\n",
    "rec_valid = recall_score(y_valid, y_valid_pred, average='micro')\n",
    "\n",
    "print(f'Treino:\\nAcc: {acc_train:.2f}, Precision: {prec_train:.2f}, Recall: {rec_train:.2f}')\n",
    "print(f'Validação:\\nAcc: {acc_valid:.2f}, Precision: {prec_valid:.2f}, Recall: {rec_valid:.2f}')"
   ]
  },
  {
   "cell_type": "markdown",
   "metadata": {},
   "source": [
    "## Teste"
   ]
  },
  {
   "cell_type": "code",
   "execution_count": 22,
   "metadata": {},
   "outputs": [
    {
     "name": "stdout",
     "output_type": "stream",
     "text": [
      "(28500,) (28500,)\n"
     ]
    }
   ],
   "source": [
    "x_test = df_test['tweet_text']\n",
    "y_test = df_test['sentiment']\n",
    "\n",
    "print(x_test.shape, y_test.shape)"
   ]
  },
  {
   "cell_type": "code",
   "execution_count": 23,
   "metadata": {},
   "outputs": [
    {
     "ename": "NameError",
     "evalue": "name 'embeddings' is not defined",
     "output_type": "error",
     "traceback": [
      "\u001b[0;31m---------------------------------------------------------------------------\u001b[0m",
      "\u001b[0;31mNameError\u001b[0m                                 Traceback (most recent call last)",
      "\u001b[0;32m<ipython-input-23-374871663c02>\u001b[0m in \u001b[0;36m<module>\u001b[0;34m\u001b[0m\n\u001b[0;32m----> 1\u001b[0;31m \u001b[0mx_test_transformed\u001b[0m \u001b[0;34m=\u001b[0m \u001b[0membeddings\u001b[0m\u001b[0;34m(\u001b[0m\u001b[0mx_test\u001b[0m\u001b[0;34m,\u001b[0m \u001b[0mmodel_w2v\u001b[0m\u001b[0;34m)\u001b[0m\u001b[0;34m\u001b[0m\u001b[0;34m\u001b[0m\u001b[0m\n\u001b[0m\u001b[1;32m      2\u001b[0m \u001b[0;34m\u001b[0m\u001b[0m\n\u001b[1;32m      3\u001b[0m \u001b[0mprint\u001b[0m\u001b[0;34m(\u001b[0m\u001b[0mx_test_transformed\u001b[0m\u001b[0;34m.\u001b[0m\u001b[0mshape\u001b[0m\u001b[0;34m)\u001b[0m\u001b[0;34m\u001b[0m\u001b[0;34m\u001b[0m\u001b[0m\n",
      "\u001b[0;31mNameError\u001b[0m: name 'embeddings' is not defined"
     ]
    }
   ],
   "source": [
    "x_test_transformed = embeddings(x_test, model_w2v)\n",
    "\n",
    "print(x_test_transformed.shape)"
   ]
  },
  {
   "cell_type": "code",
   "execution_count": null,
   "metadata": {},
   "outputs": [],
   "source": [
    "y_test_pred = modelo.predict(x_test_transformed)\n",
    "\n",
    "print(y_test_pred.shape)"
   ]
  },
  {
   "cell_type": "code",
   "execution_count": null,
   "metadata": {},
   "outputs": [],
   "source": [
    "from mlxtend.plotting import plot_confusion_matrix\n",
    "from sklearn.metrics import confusion_matrix\n",
    "from matplotlib import pyplot as plt\n",
    "\n",
    "cm = confusion_matrix(y_valid, y_valid_pred)\n",
    "\n",
    "plot_confusion_matrix(conf_mat=cm)\n",
    "plt.show()"
   ]
  },
  {
   "cell_type": "code",
   "execution_count": null,
   "metadata": {},
   "outputs": [],
   "source": [
    "from sklearn.metrics import accuracy_score, precision_score, recall_score\n",
    "\n",
    "acc_test = accuracy_score(y_test, y_test_pred)\n",
    "prec_test = precision_score(y_test, y_test_pred,average='micro')\n",
    "rec_test = recall_score(y_test, y_test_pred, average='micro')\n",
    "\n",
    "\n",
    "print(f'Teste:\\nAcc: {acc_test:.2f}, Precision: {prec_test:.2f}, Recall: {rec_test:.2f}')"
   ]
  },
  {
   "cell_type": "markdown",
   "metadata": {},
   "source": [
    "## Subm"
   ]
  },
  {
   "cell_type": "code",
   "execution_count": null,
   "metadata": {},
   "outputs": [],
   "source": [
    "df_subm = pd.read_csv('Dados/subm/Subm3classes.csv')\n",
    "\n",
    "print(df_subm.shape)\n",
    "\n",
    "df_subm.sample(10).head()"
   ]
  },
  {
   "cell_type": "code",
   "execution_count": null,
   "metadata": {},
   "outputs": [],
   "source": [
    "def sentimento(query):\n",
    "    if query == ':)':\n",
    "        return 1\n",
    "    elif query == ':(':\n",
    "        return 0\n",
    "    else:\n",
    "        return 2"
   ]
  },
  {
   "cell_type": "code",
   "execution_count": null,
   "metadata": {},
   "outputs": [],
   "source": [
    "df_subm['sentiment'] = df_subm['query_used'].apply(sentimento)"
   ]
  },
  {
   "cell_type": "code",
   "execution_count": null,
   "metadata": {},
   "outputs": [],
   "source": [
    "df_subm.sample(10).head()"
   ]
  },
  {
   "cell_type": "code",
   "execution_count": null,
   "metadata": {},
   "outputs": [],
   "source": [
    "x_subm = df_subm['tweet_text']\n",
    "y_subm = df_subm['sentiment']\n",
    "\n",
    "print(x_subm.shape, y_subm.shape)"
   ]
  },
  {
   "cell_type": "code",
   "execution_count": null,
   "metadata": {},
   "outputs": [],
   "source": [
    "x_subm_transformed = embeddings(x_subm, model_w2v)\n",
    "\n",
    "print(x_subm_transformed.shape)"
   ]
  },
  {
   "cell_type": "code",
   "execution_count": null,
   "metadata": {},
   "outputs": [],
   "source": [
    "y_subm_pred = modelo.predict(x_subm_transformed)\n",
    "\n",
    "print(y_subm_pred.shape)"
   ]
  },
  {
   "cell_type": "code",
   "execution_count": null,
   "metadata": {},
   "outputs": [],
   "source": [
    "from mlxtend.plotting import plot_confusion_matrix\n",
    "from sklearn.metrics import confusion_matrix\n",
    "from matplotlib import pyplot as plt\n",
    "\n",
    "cm = confusion_matrix(y_valid, y_valid_pred)\n",
    "\n",
    "plot_confusion_matrix(conf_mat=cm)\n",
    "plt.show()"
   ]
  },
  {
   "cell_type": "code",
   "execution_count": null,
   "metadata": {},
   "outputs": [],
   "source": [
    "from sklearn.metrics import accuracy_score, precision_score, recall_score\n",
    "\n",
    "acc_subm = accuracy_score(y_subm, y_subm_pred)\n",
    "prec_subm = precision_score(y_subm, y_subm_pred,average='micro')\n",
    "rec_subm = recall_score(y_subm, y_subm_pred, average='micro')\n",
    "\n",
    "\n",
    "print(f'Teste:\\nAcc: {acc_test:.2f}, Precision: {prec_test:.2f}, Recall: {rec_test:.2f}')"
   ]
  },
  {
   "cell_type": "code",
   "execution_count": null,
   "metadata": {},
   "outputs": [],
   "source": []
  },
  {
   "cell_type": "code",
   "execution_count": null,
   "metadata": {},
   "outputs": [],
   "source": []
  },
  {
   "cell_type": "code",
   "execution_count": null,
   "metadata": {},
   "outputs": [],
   "source": [
    "#from bs4 import BeautifulSoup\n",
    "#import lxml.html\n",
    "\n",
    "#def clean_tweet(text):\n",
    "#    clean_text = BeautifulSoup(text, \"lxml\").text\n",
    "    \n",
    "#    return clean_text"
   ]
  },
  {
   "cell_type": "code",
   "execution_count": null,
   "metadata": {
    "scrolled": true
   },
   "outputs": [],
   "source": [
    "#df_experiment['tweet_text'] = df_experiment['tweet_text'].apply(clean_lxml);"
   ]
  },
  {
   "cell_type": "code",
   "execution_count": null,
   "metadata": {},
   "outputs": [],
   "source": [
    "#import numpy as np\n",
    "#import re\n",
    "\n",
    "#def remove_pattern(text, pattern_regex):\n",
    "#    r = re.findall(pattern_regex, text)\n",
    "#    for i in r:\n",
    "#        text = re.sub(i, '', text)\n",
    "    \n",
    "#    return text"
   ]
  },
  {
   "cell_type": "code",
   "execution_count": null,
   "metadata": {},
   "outputs": [],
   "source": [
    "#df_experiment['tweet_text'] = np.vectorize(remove_pattern)(df_experiment['tweet_text'], \"@[\\w]*: | *RT*\");"
   ]
  }
 ],
 "metadata": {
  "kernelspec": {
   "display_name": "Python 3",
   "language": "python",
   "name": "python3"
  },
  "language_info": {
   "codemirror_mode": {
    "name": "ipython",
    "version": 3
   },
   "file_extension": ".py",
   "mimetype": "text/x-python",
   "name": "python",
   "nbconvert_exporter": "python",
   "pygments_lexer": "ipython3",
   "version": "3.9.5"
  }
 },
 "nbformat": 4,
 "nbformat_minor": 4
}
