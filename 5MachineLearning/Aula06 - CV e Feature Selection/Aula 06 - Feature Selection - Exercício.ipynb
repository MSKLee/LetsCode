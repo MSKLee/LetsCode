{
 "cells": [
  {
   "cell_type": "markdown",
   "id": "7a3faeb3",
   "metadata": {},
   "source": [
    "# Aula 05 - Pipelines - Exercício"
   ]
  },
  {
   "cell_type": "markdown",
   "id": "0ee45fb4",
   "metadata": {},
   "source": [
    "## Exercício 1"
   ]
  },
  {
   "cell_type": "markdown",
   "id": "8298bad1",
   "metadata": {},
   "source": [
    "Quando estamos trabalhando com modelos, é muito comum que façamos o treinamento em um ambiente, mas precisamos executar o modelo em outro! O objetivo desse exercício é simular esse ambiente.\n",
    "\n",
    "Suponha que uma área de uma concessionária de veículos deseja captar potenciais clientes. Para isso, os analistas da área farão contato com cada cliente potencial. A área considera que clientes potenciais são aqueles que ganham mais de $50K por ano.  \n",
    "\n",
    "Por ser inviável o contato com todos os clientes, a empresa contratou dados com um fornecedor e deseja utilizá-los para priorizar o contato, focando em clientes com alta probabilidade de atenderem o requisito desejado.  \n",
    "\n",
    "Refaça o exercício da aula 04 utilizando a Pipeline do sklearn. Salve o modelo treinado na pasta \"Modelo Renda\", onde se encontra o notebook para se fazer a inferência.  "
   ]
  },
  {
   "cell_type": "code",
   "execution_count": null,
   "id": "83424835",
   "metadata": {},
   "outputs": [],
   "source": []
  }
 ],
 "metadata": {
  "kernelspec": {
   "display_name": "Python 3",
   "language": "python",
   "name": "python3"
  },
  "language_info": {
   "codemirror_mode": {
    "name": "ipython",
    "version": 3
   },
   "file_extension": ".py",
   "mimetype": "text/x-python",
   "name": "python",
   "nbconvert_exporter": "python",
   "pygments_lexer": "ipython3",
   "version": "3.8.8"
  }
 },
 "nbformat": 4,
 "nbformat_minor": 5
}
