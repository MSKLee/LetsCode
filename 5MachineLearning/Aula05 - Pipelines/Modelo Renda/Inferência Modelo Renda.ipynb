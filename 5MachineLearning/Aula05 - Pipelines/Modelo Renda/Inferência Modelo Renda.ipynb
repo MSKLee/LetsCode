{
 "cells": [
  {
   "cell_type": "markdown",
   "id": "7a3faeb3",
   "metadata": {},
   "source": [
    "# Inferência do modelo de renda"
   ]
  },
  {
   "cell_type": "markdown",
   "id": "8298bad1",
   "metadata": {},
   "source": [
    "Faça a inferência da base 'propostas.csv'. com o modelo treinado no exercício da aula 05. Gere um arquivo de saída chamado 'propostas_inferidas.csv', e salve na pasta. O arquivo deve conter a probabilidade de cada cliente atender o requisito desejado pela empresa e deverá ser ordenado do maior valor para o menor.  \n",
    "\n",
    "**Importante**: Você não deve treinar o modelo nesse notebook!"
   ]
  },
  {
   "cell_type": "code",
   "execution_count": null,
   "id": "9e987300",
   "metadata": {},
   "outputs": [],
   "source": []
  }
 ],
 "metadata": {
  "kernelspec": {
   "display_name": "Python 3",
   "language": "python",
   "name": "python3"
  },
  "language_info": {
   "codemirror_mode": {
    "name": "ipython",
    "version": 3
   },
   "file_extension": ".py",
   "mimetype": "text/x-python",
   "name": "python",
   "nbconvert_exporter": "python",
   "pygments_lexer": "ipython3",
   "version": "3.8.8"
  }
 },
 "nbformat": 4,
 "nbformat_minor": 5
}
