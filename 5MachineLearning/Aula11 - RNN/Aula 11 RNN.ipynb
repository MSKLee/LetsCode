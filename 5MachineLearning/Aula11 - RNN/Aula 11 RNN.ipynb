{
 "cells": [
  {
   "cell_type": "markdown",
   "id": "3a67ad9e",
   "metadata": {
    "id": "3a67ad9e"
   },
   "source": [
    "# Aula 11 - RNN"
   ]
  },
  {
   "cell_type": "markdown",
   "id": "c9b59d88",
   "metadata": {
    "id": "c9b59d88"
   },
   "source": [
    "Na aula de hoje abordaremos um novo tipo de rede neural, as chamadas redes neurais recorrentes, ou RNNs. A aula será dividida nos seguintes tópicos:\n",
    "\n",
    "### - Primeira parte\n",
    "\n",
    "- Introdução e contextualização  \n",
    "- A motivação da recorrência  \n",
    "\n",
    "### - Segunda parte\n",
    "\n",
    "- Funcionamento das RNNs\n",
    "\n",
    "### - Terceira parte\n",
    "\n",
    "- Exemplos com o Keras"
   ]
  },
  {
   "cell_type": "markdown",
   "id": "e69b608f",
   "metadata": {
    "id": "e69b608f"
   },
   "source": [
    "# Introdução e contextualização"
   ]
  },
  {
   "cell_type": "markdown",
   "id": "43f5b32f",
   "metadata": {
    "id": "43f5b32f"
   },
   "source": [
    "Vimos nas últimas duas aulas as primeiras redes neurais de propósito geral, as MLPs. Entendemos o seu funcionamento e os mecanismos que regem o seu funcionamento. Esses mecanismos serão válidos para todos os tipos de redes neurais que veremos pela frente.\n",
    "\n",
    "Vimos que a MLP é uma arquitetura excelente para tarefas de predição. Contudo, há algumas condições que não são ideais para a sua aplicação. Vejamos um exemplo:\n",
    "\n",
    "![img](https://i.imgur.com/MKk2xYw.png)\n",
    "\n",
    "Digamos que queremos, a partir da imagem acima, prever para que direção a círculo está se movendo. Com apenas uma única \"foto\", não é possível prever a direção do movimento. Contudo, com uma __sequência__ de posições, a tarefa já fica um pouco mais fácil:\n",
    "\n",
    "![img2](https://i.imgur.com/nudjK9N.png)\n",
    "\n",
    "Na segunda imagem, conseguimos dizer com uma razoável segurança que o círculo se move para a direita.\n",
    "\n",
    "Essa natureza de problemas que necessitam de uma sequência para serem resolvidos é muito comum: séries temporais, análise de sentimento em textos, tradução automática, entre muito outros.\n",
    "\n",
    "As redes neurais MLP, que nós aprendemos recentemente, não são boas para lidar com esse tipo de problema por dois principais fatores: primeiro, não há uma relação de precedência entre as entradas; segundo, que entradas que para esses tipos de problemas podem ter o tamanho de entrada variável. Por conta disso, uma nova proposta de arquitetura de rede neural surge: as RNNs.\n",
    "\n"
   ]
  },
  {
   "cell_type": "markdown",
   "id": "fe9ae8b1",
   "metadata": {
    "id": "fe9ae8b1"
   },
   "source": [
    "## RNNs"
   ]
  },
  {
   "cell_type": "markdown",
   "id": "01c9f0a2",
   "metadata": {
    "id": "01c9f0a2"
   },
   "source": [
    "Para atender esse novo propósito, a arquitetura da RNN insere novos elementos que, por consequência, aumentam a complexidade do modelo. A figura abaixo representa uma RNN:\n",
    "\n",
    "\n",
    "![img2.png](https://s3-sa-east-1.amazonaws.com/lcpi/c7b9a6f4-0233-49d6-a7ee-5f9f47c6741b.png)\n",
    "\n"
   ]
  },
  {
   "cell_type": "markdown",
   "id": "b30bd90f",
   "metadata": {
    "id": "b30bd90f"
   },
   "source": [
    "# Usando o Keras"
   ]
  },
  {
   "cell_type": "code",
   "execution_count": null,
   "id": "c276d5a5",
   "metadata": {
    "id": "c276d5a5"
   },
   "outputs": [],
   "source": [
    "import pandas as pd\n",
    "import numpy as np\n",
    "import tensorflow as tf\n",
    "from tensorflow import keras\n",
    "from tensorflow.keras import layers\n",
    "\n",
    "pd.options.mode.chained_assignment = None"
   ]
  },
  {
   "cell_type": "markdown",
   "id": "G0AQnCqyXcF7",
   "metadata": {
    "id": "G0AQnCqyXcF7"
   },
   "source": [
    "### Entendendo a RNN do Keras"
   ]
  },
  {
   "cell_type": "code",
   "execution_count": null,
   "id": "kaA3ERp31CZn",
   "metadata": {
    "colab": {
     "base_uri": "https://localhost:8080/"
    },
    "id": "kaA3ERp31CZn",
    "outputId": "4c96c6fd-0c65-4296-c4a0-8439ba643cd7"
   },
   "outputs": [
    {
     "name": "stdout",
     "output_type": "stream",
     "text": [
      "Model: \"sequential_14\"\n",
      "_________________________________________________________________\n",
      " Layer (type)                Output Shape              Param #   \n",
      "=================================================================\n",
      " lstm (LSTM)                 (None, 1)                 28        \n",
      "                                                                 \n",
      "=================================================================\n",
      "Total params: 28\n",
      "Trainable params: 28\n",
      "Non-trainable params: 0\n",
      "_________________________________________________________________\n"
     ]
    }
   ],
   "source": [
    "model = keras.Sequential()\n",
    "\n",
    "#                                      time_steps    num_features\n",
    "model.add(layers.LSTM(1, input_shape=(3,            5), return_sequences=False))\n",
    "\n",
    "# model.add(layers.Dense(10))\n",
    "\n",
    "model.summary()"
   ]
  },
  {
   "cell_type": "code",
   "execution_count": null,
   "id": "reAcMxic1v_g",
   "metadata": {
    "colab": {
     "base_uri": "https://localhost:8080/"
    },
    "id": "reAcMxic1v_g",
    "outputId": "137aff54-18dd-4aa2-c29c-d4321f44ba38"
   },
   "outputs": [
    {
     "name": "stdout",
     "output_type": "stream",
     "text": [
      "(1, 3, 5)\n"
     ]
    },
    {
     "data": {
      "text/plain": [
       "array([[[0.66189506, 0.34051255, 0.6029332 , 0.0486446 , 0.73974176],\n",
       "        [0.10297045, 0.31570832, 0.89367588, 0.80804694, 0.20365069],\n",
       "        [0.41812345, 0.93030244, 0.32638357, 0.81884084, 0.78206221]]])"
      ]
     },
     "execution_count": 149,
     "metadata": {},
     "output_type": "execute_result"
    }
   ],
   "source": [
    "input = np.random.rand(1, 3, 5)\n",
    "\n",
    "print(input.shape)\n",
    "\n",
    "input"
   ]
  },
  {
   "cell_type": "code",
   "execution_count": null,
   "id": "F5Lslc1VnaGP",
   "metadata": {
    "colab": {
     "base_uri": "https://localhost:8080/"
    },
    "id": "F5Lslc1VnaGP",
    "outputId": "a8524d5b-7dac-46f8-ffe3-d5c689a85088"
   },
   "outputs": [
    {
     "data": {
      "text/plain": [
       "<tf.Tensor: shape=(1, 1), dtype=float32, numpy=array([[0.04175529]], dtype=float32)>"
      ]
     },
     "execution_count": 150,
     "metadata": {},
     "output_type": "execute_result"
    }
   ],
   "source": [
    "model(input)"
   ]
  },
  {
   "cell_type": "markdown",
   "id": "0L3eFVY9Xh63",
   "metadata": {
    "id": "0L3eFVY9Xh63"
   },
   "source": [
    "## Exemplos"
   ]
  },
  {
   "cell_type": "code",
   "execution_count": null,
   "id": "WPGZzWMcXj3T",
   "metadata": {
    "colab": {
     "base_uri": "https://localhost:8080/",
     "height": 206
    },
    "id": "WPGZzWMcXj3T",
    "outputId": "51015a6f-a3eb-4f75-bfc0-a43d9295a86b"
   },
   "outputs": [
    {
     "data": {
      "text/html": [
       "\n",
       "  <div id=\"df-77471eb1-76b8-4ef2-82ba-4a0067a48ccb\">\n",
       "    <div class=\"colab-df-container\">\n",
       "      <div>\n",
       "<style scoped>\n",
       "    .dataframe tbody tr th:only-of-type {\n",
       "        vertical-align: middle;\n",
       "    }\n",
       "\n",
       "    .dataframe tbody tr th {\n",
       "        vertical-align: top;\n",
       "    }\n",
       "\n",
       "    .dataframe thead th {\n",
       "        text-align: right;\n",
       "    }\n",
       "</style>\n",
       "<table border=\"1\" class=\"dataframe\">\n",
       "  <thead>\n",
       "    <tr style=\"text-align: right;\">\n",
       "      <th></th>\n",
       "      <th>Date</th>\n",
       "      <th>Temp</th>\n",
       "      <th>subset</th>\n",
       "    </tr>\n",
       "  </thead>\n",
       "  <tbody>\n",
       "    <tr>\n",
       "      <th>0</th>\n",
       "      <td>1981-01-01</td>\n",
       "      <td>20.7</td>\n",
       "      <td>train</td>\n",
       "    </tr>\n",
       "    <tr>\n",
       "      <th>1</th>\n",
       "      <td>1981-01-02</td>\n",
       "      <td>17.9</td>\n",
       "      <td>train</td>\n",
       "    </tr>\n",
       "    <tr>\n",
       "      <th>2</th>\n",
       "      <td>1981-01-03</td>\n",
       "      <td>18.8</td>\n",
       "      <td>train</td>\n",
       "    </tr>\n",
       "    <tr>\n",
       "      <th>3</th>\n",
       "      <td>1981-01-04</td>\n",
       "      <td>14.6</td>\n",
       "      <td>train</td>\n",
       "    </tr>\n",
       "    <tr>\n",
       "      <th>4</th>\n",
       "      <td>1981-01-05</td>\n",
       "      <td>15.8</td>\n",
       "      <td>train</td>\n",
       "    </tr>\n",
       "  </tbody>\n",
       "</table>\n",
       "</div>\n",
       "      <button class=\"colab-df-convert\" onclick=\"convertToInteractive('df-77471eb1-76b8-4ef2-82ba-4a0067a48ccb')\"\n",
       "              title=\"Convert this dataframe to an interactive table.\"\n",
       "              style=\"display:none;\">\n",
       "        \n",
       "  <svg xmlns=\"http://www.w3.org/2000/svg\" height=\"24px\"viewBox=\"0 0 24 24\"\n",
       "       width=\"24px\">\n",
       "    <path d=\"M0 0h24v24H0V0z\" fill=\"none\"/>\n",
       "    <path d=\"M18.56 5.44l.94 2.06.94-2.06 2.06-.94-2.06-.94-.94-2.06-.94 2.06-2.06.94zm-11 1L8.5 8.5l.94-2.06 2.06-.94-2.06-.94L8.5 2.5l-.94 2.06-2.06.94zm10 10l.94 2.06.94-2.06 2.06-.94-2.06-.94-.94-2.06-.94 2.06-2.06.94z\"/><path d=\"M17.41 7.96l-1.37-1.37c-.4-.4-.92-.59-1.43-.59-.52 0-1.04.2-1.43.59L10.3 9.45l-7.72 7.72c-.78.78-.78 2.05 0 2.83L4 21.41c.39.39.9.59 1.41.59.51 0 1.02-.2 1.41-.59l7.78-7.78 2.81-2.81c.8-.78.8-2.07 0-2.86zM5.41 20L4 18.59l7.72-7.72 1.47 1.35L5.41 20z\"/>\n",
       "  </svg>\n",
       "      </button>\n",
       "      \n",
       "  <style>\n",
       "    .colab-df-container {\n",
       "      display:flex;\n",
       "      flex-wrap:wrap;\n",
       "      gap: 12px;\n",
       "    }\n",
       "\n",
       "    .colab-df-convert {\n",
       "      background-color: #E8F0FE;\n",
       "      border: none;\n",
       "      border-radius: 50%;\n",
       "      cursor: pointer;\n",
       "      display: none;\n",
       "      fill: #1967D2;\n",
       "      height: 32px;\n",
       "      padding: 0 0 0 0;\n",
       "      width: 32px;\n",
       "    }\n",
       "\n",
       "    .colab-df-convert:hover {\n",
       "      background-color: #E2EBFA;\n",
       "      box-shadow: 0px 1px 2px rgba(60, 64, 67, 0.3), 0px 1px 3px 1px rgba(60, 64, 67, 0.15);\n",
       "      fill: #174EA6;\n",
       "    }\n",
       "\n",
       "    [theme=dark] .colab-df-convert {\n",
       "      background-color: #3B4455;\n",
       "      fill: #D2E3FC;\n",
       "    }\n",
       "\n",
       "    [theme=dark] .colab-df-convert:hover {\n",
       "      background-color: #434B5C;\n",
       "      box-shadow: 0px 1px 3px 1px rgba(0, 0, 0, 0.15);\n",
       "      filter: drop-shadow(0px 1px 2px rgba(0, 0, 0, 0.3));\n",
       "      fill: #FFFFFF;\n",
       "    }\n",
       "  </style>\n",
       "\n",
       "      <script>\n",
       "        const buttonEl =\n",
       "          document.querySelector('#df-77471eb1-76b8-4ef2-82ba-4a0067a48ccb button.colab-df-convert');\n",
       "        buttonEl.style.display =\n",
       "          google.colab.kernel.accessAllowed ? 'block' : 'none';\n",
       "\n",
       "        async function convertToInteractive(key) {\n",
       "          const element = document.querySelector('#df-77471eb1-76b8-4ef2-82ba-4a0067a48ccb');\n",
       "          const dataTable =\n",
       "            await google.colab.kernel.invokeFunction('convertToInteractive',\n",
       "                                                     [key], {});\n",
       "          if (!dataTable) return;\n",
       "\n",
       "          const docLinkHtml = 'Like what you see? Visit the ' +\n",
       "            '<a target=\"_blank\" href=https://colab.research.google.com/notebooks/data_table.ipynb>data table notebook</a>'\n",
       "            + ' to learn more about interactive tables.';\n",
       "          element.innerHTML = '';\n",
       "          dataTable['output_type'] = 'display_data';\n",
       "          await google.colab.output.renderOutput(dataTable, element);\n",
       "          const docLink = document.createElement('div');\n",
       "          docLink.innerHTML = docLinkHtml;\n",
       "          element.appendChild(docLink);\n",
       "        }\n",
       "      </script>\n",
       "    </div>\n",
       "  </div>\n",
       "  "
      ],
      "text/plain": [
       "        Date  Temp subset\n",
       "0 1981-01-01  20.7  train\n",
       "1 1981-01-02  17.9  train\n",
       "2 1981-01-03  18.8  train\n",
       "3 1981-01-04  14.6  train\n",
       "4 1981-01-05  15.8  train"
      ]
     },
     "execution_count": 5,
     "metadata": {},
     "output_type": "execute_result"
    }
   ],
   "source": [
    "df_temp = pd.read_csv('daily-min-temperatures.csv')\n",
    "\n",
    "df_temp['Date'] = pd.to_datetime(df_temp['Date'])\n",
    "\n",
    "df_temp['subset'] = 'train'\n",
    "\n",
    "df_temp.loc[df_temp['Date'].dt.year >= 1989, 'subset'] = 'valid'\n",
    "\n",
    "df_temp.head()"
   ]
  },
  {
   "cell_type": "code",
   "execution_count": null,
   "id": "1rEAa8ZGbCQ_",
   "metadata": {
    "colab": {
     "base_uri": "https://localhost:8080/",
     "height": 406
    },
    "id": "1rEAa8ZGbCQ_",
    "outputId": "42acc72e-b9fe-41ca-eb77-1c871d1d117c"
   },
   "outputs": [
    {
     "data": {
      "text/plain": [
       "<matplotlib.axes._subplots.AxesSubplot at 0x7f6512374ed0>"
      ]
     },
     "execution_count": 6,
     "metadata": {},
     "output_type": "execute_result"
    },
    {
     "data": {
      "image/png": "[encoded data removed]",
      "text/plain": [
       "<Figure size 864x432 with 1 Axes>"
      ]
     },
     "metadata": {
      "needs_background": "light"
     },
     "output_type": "display_data"
    }
   ],
   "source": [
    "import seaborn as sns\n",
    "from matplotlib import pyplot as plt\n",
    "\n",
    "plt.figure(figsize=(12, 6))\n",
    "\n",
    "sns.lineplot(data=df_temp, x='Date', y='Temp', hue='subset')"
   ]
  },
  {
   "cell_type": "code",
   "execution_count": null,
   "id": "Vf2sr_i5evI7",
   "metadata": {
    "colab": {
     "base_uri": "https://localhost:8080/",
     "height": 206
    },
    "id": "Vf2sr_i5evI7",
    "outputId": "c592dbba-20c1-42b9-dc57-778a3b4a2b0d"
   },
   "outputs": [
    {
     "data": {
      "text/html": [
       "\n",
       "  <div id=\"df-d6e7e5e5-6460-419b-89cb-918bcc73ac82\">\n",
       "    <div class=\"colab-df-container\">\n",
       "      <div>\n",
       "<style scoped>\n",
       "    .dataframe tbody tr th:only-of-type {\n",
       "        vertical-align: middle;\n",
       "    }\n",
       "\n",
       "    .dataframe tbody tr th {\n",
       "        vertical-align: top;\n",
       "    }\n",
       "\n",
       "    .dataframe thead th {\n",
       "        text-align: right;\n",
       "    }\n",
       "</style>\n",
       "<table border=\"1\" class=\"dataframe\">\n",
       "  <thead>\n",
       "    <tr style=\"text-align: right;\">\n",
       "      <th></th>\n",
       "      <th>Date</th>\n",
       "      <th>Temp</th>\n",
       "      <th>subset</th>\n",
       "      <th>up_or_down</th>\n",
       "    </tr>\n",
       "  </thead>\n",
       "  <tbody>\n",
       "    <tr>\n",
       "      <th>0</th>\n",
       "      <td>1981-01-01</td>\n",
       "      <td>20.7</td>\n",
       "      <td>train</td>\n",
       "      <td>0.0</td>\n",
       "    </tr>\n",
       "    <tr>\n",
       "      <th>1</th>\n",
       "      <td>1981-01-02</td>\n",
       "      <td>17.9</td>\n",
       "      <td>train</td>\n",
       "      <td>1.0</td>\n",
       "    </tr>\n",
       "    <tr>\n",
       "      <th>2</th>\n",
       "      <td>1981-01-03</td>\n",
       "      <td>18.8</td>\n",
       "      <td>train</td>\n",
       "      <td>0.0</td>\n",
       "    </tr>\n",
       "    <tr>\n",
       "      <th>3</th>\n",
       "      <td>1981-01-04</td>\n",
       "      <td>14.6</td>\n",
       "      <td>train</td>\n",
       "      <td>1.0</td>\n",
       "    </tr>\n",
       "    <tr>\n",
       "      <th>4</th>\n",
       "      <td>1981-01-05</td>\n",
       "      <td>15.8</td>\n",
       "      <td>train</td>\n",
       "      <td>1.0</td>\n",
       "    </tr>\n",
       "  </tbody>\n",
       "</table>\n",
       "</div>\n",
       "      <button class=\"colab-df-convert\" onclick=\"convertToInteractive('df-d6e7e5e5-6460-419b-89cb-918bcc73ac82')\"\n",
       "              title=\"Convert this dataframe to an interactive table.\"\n",
       "              style=\"display:none;\">\n",
       "        \n",
       "  <svg xmlns=\"http://www.w3.org/2000/svg\" height=\"24px\"viewBox=\"0 0 24 24\"\n",
       "       width=\"24px\">\n",
       "    <path d=\"M0 0h24v24H0V0z\" fill=\"none\"/>\n",
       "    <path d=\"M18.56 5.44l.94 2.06.94-2.06 2.06-.94-2.06-.94-.94-2.06-.94 2.06-2.06.94zm-11 1L8.5 8.5l.94-2.06 2.06-.94-2.06-.94L8.5 2.5l-.94 2.06-2.06.94zm10 10l.94 2.06.94-2.06 2.06-.94-2.06-.94-.94-2.06-.94 2.06-2.06.94z\"/><path d=\"M17.41 7.96l-1.37-1.37c-.4-.4-.92-.59-1.43-.59-.52 0-1.04.2-1.43.59L10.3 9.45l-7.72 7.72c-.78.78-.78 2.05 0 2.83L4 21.41c.39.39.9.59 1.41.59.51 0 1.02-.2 1.41-.59l7.78-7.78 2.81-2.81c.8-.78.8-2.07 0-2.86zM5.41 20L4 18.59l7.72-7.72 1.47 1.35L5.41 20z\"/>\n",
       "  </svg>\n",
       "      </button>\n",
       "      \n",
       "  <style>\n",
       "    .colab-df-container {\n",
       "      display:flex;\n",
       "      flex-wrap:wrap;\n",
       "      gap: 12px;\n",
       "    }\n",
       "\n",
       "    .colab-df-convert {\n",
       "      background-color: #E8F0FE;\n",
       "      border: none;\n",
       "      border-radius: 50%;\n",
       "      cursor: pointer;\n",
       "      display: none;\n",
       "      fill: #1967D2;\n",
       "      height: 32px;\n",
       "      padding: 0 0 0 0;\n",
       "      width: 32px;\n",
       "    }\n",
       "\n",
       "    .colab-df-convert:hover {\n",
       "      background-color: #E2EBFA;\n",
       "      box-shadow: 0px 1px 2px rgba(60, 64, 67, 0.3), 0px 1px 3px 1px rgba(60, 64, 67, 0.15);\n",
       "      fill: #174EA6;\n",
       "    }\n",
       "\n",
       "    [theme=dark] .colab-df-convert {\n",
       "      background-color: #3B4455;\n",
       "      fill: #D2E3FC;\n",
       "    }\n",
       "\n",
       "    [theme=dark] .colab-df-convert:hover {\n",
       "      background-color: #434B5C;\n",
       "      box-shadow: 0px 1px 3px 1px rgba(0, 0, 0, 0.15);\n",
       "      filter: drop-shadow(0px 1px 2px rgba(0, 0, 0, 0.3));\n",
       "      fill: #FFFFFF;\n",
       "    }\n",
       "  </style>\n",
       "\n",
       "      <script>\n",
       "        const buttonEl =\n",
       "          document.querySelector('#df-d6e7e5e5-6460-419b-89cb-918bcc73ac82 button.colab-df-convert');\n",
       "        buttonEl.style.display =\n",
       "          google.colab.kernel.accessAllowed ? 'block' : 'none';\n",
       "\n",
       "        async function convertToInteractive(key) {\n",
       "          const element = document.querySelector('#df-d6e7e5e5-6460-419b-89cb-918bcc73ac82');\n",
       "          const dataTable =\n",
       "            await google.colab.kernel.invokeFunction('convertToInteractive',\n",
       "                                                     [key], {});\n",
       "          if (!dataTable) return;\n",
       "\n",
       "          const docLinkHtml = 'Like what you see? Visit the ' +\n",
       "            '<a target=\"_blank\" href=https://colab.research.google.com/notebooks/data_table.ipynb>data table notebook</a>'\n",
       "            + ' to learn more about interactive tables.';\n",
       "          element.innerHTML = '';\n",
       "          dataTable['output_type'] = 'display_data';\n",
       "          await google.colab.output.renderOutput(dataTable, element);\n",
       "          const docLink = document.createElement('div');\n",
       "          docLink.innerHTML = docLinkHtml;\n",
       "          element.appendChild(docLink);\n",
       "        }\n",
       "      </script>\n",
       "    </div>\n",
       "  </div>\n",
       "  "
      ],
      "text/plain": [
       "        Date  Temp subset  up_or_down\n",
       "0 1981-01-01  20.7  train         0.0\n",
       "1 1981-01-02  17.9  train         1.0\n",
       "2 1981-01-03  18.8  train         0.0\n",
       "3 1981-01-04  14.6  train         1.0\n",
       "4 1981-01-05  15.8  train         1.0"
      ]
     },
     "execution_count": 7,
     "metadata": {},
     "output_type": "execute_result"
    }
   ],
   "source": [
    "df_temp['up_or_down'] = df_temp['Temp'].shift(-1) - df_temp['Temp']\n",
    "\n",
    "df_temp = df_temp.dropna()\n",
    "\n",
    "df_temp.loc[df_temp['up_or_down'] >= 0, 'up_or_down'] = 1\n",
    "df_temp.loc[df_temp['up_or_down'] < 0, 'up_or_down'] = 0\n",
    "\n",
    "df_temp.head()"
   ]
  },
  {
   "cell_type": "code",
   "execution_count": null,
   "id": "jvrvwnah5UX-",
   "metadata": {
    "colab": {
     "base_uri": "https://localhost:8080/",
     "height": 356
    },
    "id": "jvrvwnah5UX-",
    "outputId": "f01fed47-cf22-4517-c8fe-cf0254de8dcc"
   },
   "outputs": [
    {
     "data": {
      "text/html": [
       "\n",
       "  <div id=\"df-3c7cc240-ce33-4f59-9bb7-4d77f40de0dc\">\n",
       "    <div class=\"colab-df-container\">\n",
       "      <div>\n",
       "<style scoped>\n",
       "    .dataframe tbody tr th:only-of-type {\n",
       "        vertical-align: middle;\n",
       "    }\n",
       "\n",
       "    .dataframe tbody tr th {\n",
       "        vertical-align: top;\n",
       "    }\n",
       "\n",
       "    .dataframe thead th {\n",
       "        text-align: right;\n",
       "    }\n",
       "</style>\n",
       "<table border=\"1\" class=\"dataframe\">\n",
       "  <thead>\n",
       "    <tr style=\"text-align: right;\">\n",
       "      <th></th>\n",
       "      <th>Date</th>\n",
       "      <th>Temp</th>\n",
       "      <th>subset</th>\n",
       "      <th>up_or_down</th>\n",
       "      <th>month_1</th>\n",
       "      <th>month_2</th>\n",
       "      <th>month_3</th>\n",
       "      <th>month_4</th>\n",
       "      <th>month_5</th>\n",
       "      <th>month_6</th>\n",
       "      <th>month_7</th>\n",
       "      <th>month_8</th>\n",
       "      <th>month_9</th>\n",
       "      <th>month_10</th>\n",
       "      <th>month_11</th>\n",
       "      <th>month_12</th>\n",
       "    </tr>\n",
       "  </thead>\n",
       "  <tbody>\n",
       "    <tr>\n",
       "      <th>0</th>\n",
       "      <td>1981-01-01</td>\n",
       "      <td>20.7</td>\n",
       "      <td>train</td>\n",
       "      <td>0.0</td>\n",
       "      <td>1</td>\n",
       "      <td>0</td>\n",
       "      <td>0</td>\n",
       "      <td>0</td>\n",
       "      <td>0</td>\n",
       "      <td>0</td>\n",
       "      <td>0</td>\n",
       "      <td>0</td>\n",
       "      <td>0</td>\n",
       "      <td>0</td>\n",
       "      <td>0</td>\n",
       "      <td>0</td>\n",
       "    </tr>\n",
       "    <tr>\n",
       "      <th>1</th>\n",
       "      <td>1981-01-02</td>\n",
       "      <td>17.9</td>\n",
       "      <td>train</td>\n",
       "      <td>1.0</td>\n",
       "      <td>1</td>\n",
       "      <td>0</td>\n",
       "      <td>0</td>\n",
       "      <td>0</td>\n",
       "      <td>0</td>\n",
       "      <td>0</td>\n",
       "      <td>0</td>\n",
       "      <td>0</td>\n",
       "      <td>0</td>\n",
       "      <td>0</td>\n",
       "      <td>0</td>\n",
       "      <td>0</td>\n",
       "    </tr>\n",
       "    <tr>\n",
       "      <th>2</th>\n",
       "      <td>1981-01-03</td>\n",
       "      <td>18.8</td>\n",
       "      <td>train</td>\n",
       "      <td>0.0</td>\n",
       "      <td>1</td>\n",
       "      <td>0</td>\n",
       "      <td>0</td>\n",
       "      <td>0</td>\n",
       "      <td>0</td>\n",
       "      <td>0</td>\n",
       "      <td>0</td>\n",
       "      <td>0</td>\n",
       "      <td>0</td>\n",
       "      <td>0</td>\n",
       "      <td>0</td>\n",
       "      <td>0</td>\n",
       "    </tr>\n",
       "    <tr>\n",
       "      <th>3</th>\n",
       "      <td>1981-01-04</td>\n",
       "      <td>14.6</td>\n",
       "      <td>train</td>\n",
       "      <td>1.0</td>\n",
       "      <td>1</td>\n",
       "      <td>0</td>\n",
       "      <td>0</td>\n",
       "      <td>0</td>\n",
       "      <td>0</td>\n",
       "      <td>0</td>\n",
       "      <td>0</td>\n",
       "      <td>0</td>\n",
       "      <td>0</td>\n",
       "      <td>0</td>\n",
       "      <td>0</td>\n",
       "      <td>0</td>\n",
       "    </tr>\n",
       "    <tr>\n",
       "      <th>4</th>\n",
       "      <td>1981-01-05</td>\n",
       "      <td>15.8</td>\n",
       "      <td>train</td>\n",
       "      <td>1.0</td>\n",
       "      <td>1</td>\n",
       "      <td>0</td>\n",
       "      <td>0</td>\n",
       "      <td>0</td>\n",
       "      <td>0</td>\n",
       "      <td>0</td>\n",
       "      <td>0</td>\n",
       "      <td>0</td>\n",
       "      <td>0</td>\n",
       "      <td>0</td>\n",
       "      <td>0</td>\n",
       "      <td>0</td>\n",
       "    </tr>\n",
       "  </tbody>\n",
       "</table>\n",
       "</div>\n",
       "      <button class=\"colab-df-convert\" onclick=\"convertToInteractive('df-3c7cc240-ce33-4f59-9bb7-4d77f40de0dc')\"\n",
       "              title=\"Convert this dataframe to an interactive table.\"\n",
       "              style=\"display:none;\">\n",
       "        \n",
       "  <svg xmlns=\"http://www.w3.org/2000/svg\" height=\"24px\"viewBox=\"0 0 24 24\"\n",
       "       width=\"24px\">\n",
       "    <path d=\"M0 0h24v24H0V0z\" fill=\"none\"/>\n",
       "    <path d=\"M18.56 5.44l.94 2.06.94-2.06 2.06-.94-2.06-.94-.94-2.06-.94 2.06-2.06.94zm-11 1L8.5 8.5l.94-2.06 2.06-.94-2.06-.94L8.5 2.5l-.94 2.06-2.06.94zm10 10l.94 2.06.94-2.06 2.06-.94-2.06-.94-.94-2.06-.94 2.06-2.06.94z\"/><path d=\"M17.41 7.96l-1.37-1.37c-.4-.4-.92-.59-1.43-.59-.52 0-1.04.2-1.43.59L10.3 9.45l-7.72 7.72c-.78.78-.78 2.05 0 2.83L4 21.41c.39.39.9.59 1.41.59.51 0 1.02-.2 1.41-.59l7.78-7.78 2.81-2.81c.8-.78.8-2.07 0-2.86zM5.41 20L4 18.59l7.72-7.72 1.47 1.35L5.41 20z\"/>\n",
       "  </svg>\n",
       "      </button>\n",
       "      \n",
       "  <style>\n",
       "    .colab-df-container {\n",
       "      display:flex;\n",
       "      flex-wrap:wrap;\n",
       "      gap: 12px;\n",
       "    }\n",
       "\n",
       "    .colab-df-convert {\n",
       "      background-color: #E8F0FE;\n",
       "      border: none;\n",
       "      border-radius: 50%;\n",
       "      cursor: pointer;\n",
       "      display: none;\n",
       "      fill: #1967D2;\n",
       "      height: 32px;\n",
       "      padding: 0 0 0 0;\n",
       "      width: 32px;\n",
       "    }\n",
       "\n",
       "    .colab-df-convert:hover {\n",
       "      background-color: #E2EBFA;\n",
       "      box-shadow: 0px 1px 2px rgba(60, 64, 67, 0.3), 0px 1px 3px 1px rgba(60, 64, 67, 0.15);\n",
       "      fill: #174EA6;\n",
       "    }\n",
       "\n",
       "    [theme=dark] .colab-df-convert {\n",
       "      background-color: #3B4455;\n",
       "      fill: #D2E3FC;\n",
       "    }\n",
       "\n",
       "    [theme=dark] .colab-df-convert:hover {\n",
       "      background-color: #434B5C;\n",
       "      box-shadow: 0px 1px 3px 1px rgba(0, 0, 0, 0.15);\n",
       "      filter: drop-shadow(0px 1px 2px rgba(0, 0, 0, 0.3));\n",
       "      fill: #FFFFFF;\n",
       "    }\n",
       "  </style>\n",
       "\n",
       "      <script>\n",
       "        const buttonEl =\n",
       "          document.querySelector('#df-3c7cc240-ce33-4f59-9bb7-4d77f40de0dc button.colab-df-convert');\n",
       "        buttonEl.style.display =\n",
       "          google.colab.kernel.accessAllowed ? 'block' : 'none';\n",
       "\n",
       "        async function convertToInteractive(key) {\n",
       "          const element = document.querySelector('#df-3c7cc240-ce33-4f59-9bb7-4d77f40de0dc');\n",
       "          const dataTable =\n",
       "            await google.colab.kernel.invokeFunction('convertToInteractive',\n",
       "                                                     [key], {});\n",
       "          if (!dataTable) return;\n",
       "\n",
       "          const docLinkHtml = 'Like what you see? Visit the ' +\n",
       "            '<a target=\"_blank\" href=https://colab.research.google.com/notebooks/data_table.ipynb>data table notebook</a>'\n",
       "            + ' to learn more about interactive tables.';\n",
       "          element.innerHTML = '';\n",
       "          dataTable['output_type'] = 'display_data';\n",
       "          await google.colab.output.renderOutput(dataTable, element);\n",
       "          const docLink = document.createElement('div');\n",
       "          docLink.innerHTML = docLinkHtml;\n",
       "          element.appendChild(docLink);\n",
       "        }\n",
       "      </script>\n",
       "    </div>\n",
       "  </div>\n",
       "  "
      ],
      "text/plain": [
       "        Date  Temp subset  up_or_down  ...  month_9  month_10  month_11  month_12\n",
       "0 1981-01-01  20.7  train         0.0  ...        0         0         0         0\n",
       "1 1981-01-02  17.9  train         1.0  ...        0         0         0         0\n",
       "2 1981-01-03  18.8  train         0.0  ...        0         0         0         0\n",
       "3 1981-01-04  14.6  train         1.0  ...        0         0         0         0\n",
       "4 1981-01-05  15.8  train         1.0  ...        0         0         0         0\n",
       "\n",
       "[5 rows x 16 columns]"
      ]
     },
     "execution_count": 90,
     "metadata": {},
     "output_type": "execute_result"
    }
   ],
   "source": [
    "df_temp['month'] = df_temp['Date'].dt.month\n",
    "\n",
    "df_temp = pd.get_dummies(df_temp, columns=['month'])\n",
    "\n",
    "df_temp.head()"
   ]
  },
  {
   "cell_type": "code",
   "execution_count": null,
   "id": "iux7sivY56XC",
   "metadata": {
    "colab": {
     "base_uri": "https://localhost:8080/"
    },
    "id": "iux7sivY56XC",
    "outputId": "81996584-9f33-407d-eb49-9235a260d21b"
   },
   "outputs": [
    {
     "data": {
      "text/plain": [
       "['Temp',\n",
       " 'month_1',\n",
       " 'month_2',\n",
       " 'month_3',\n",
       " 'month_4',\n",
       " 'month_5',\n",
       " 'month_6',\n",
       " 'month_7',\n",
       " 'month_8',\n",
       " 'month_9',\n",
       " 'month_10',\n",
       " 'month_11',\n",
       " 'month_12']"
      ]
     },
     "execution_count": 91,
     "metadata": {},
     "output_type": "execute_result"
    }
   ],
   "source": [
    "features = df_temp.drop(['Date', 'subset', 'up_or_down'], axis=1).columns.to_list()\n",
    "features"
   ]
  },
  {
   "cell_type": "code",
   "execution_count": null,
   "id": "6OQ6axSDgU0A",
   "metadata": {
    "colab": {
     "base_uri": "https://localhost:8080/"
    },
    "id": "6OQ6axSDgU0A",
    "outputId": "1a521791-5648-4a1d-df55-1e4706251683"
   },
   "outputs": [
    {
     "data": {
      "text/plain": [
       "1.0    0.529734\n",
       "0.0    0.470266\n",
       "Name: up_or_down, dtype: float64"
      ]
     },
     "execution_count": 92,
     "metadata": {},
     "output_type": "execute_result"
    }
   ],
   "source": [
    "df_temp['up_or_down'].value_counts(normalize=True)"
   ]
  },
  {
   "cell_type": "markdown",
   "id": "Kze_kOMogaO9",
   "metadata": {
    "id": "Kze_kOMogaO9"
   },
   "source": [
    "### Modelagem"
   ]
  },
  {
   "cell_type": "code",
   "execution_count": null,
   "id": "X6veRni6gYbl",
   "metadata": {
    "colab": {
     "base_uri": "https://localhost:8080/"
    },
    "id": "X6veRni6gYbl",
    "outputId": "9592e359-f8be-4218-9c22-099cb062b667"
   },
   "outputs": [
    {
     "name": "stdout",
     "output_type": "stream",
     "text": [
      "(2920, 13) (729, 13)\n"
     ]
    }
   ],
   "source": [
    "X_train = df_temp.loc[df_temp['subset'] == 'train', features]\n",
    "y_train = df_temp.loc[df_temp['subset'] == 'train', 'up_or_down']\n",
    "\n",
    "X_valid = df_temp.loc[df_temp['subset'] == 'valid', features]\n",
    "y_valid = df_temp.loc[df_temp['subset'] == 'valid', 'up_or_down']\n",
    "\n",
    "\n",
    "print(X_train.shape, X_valid.shape)"
   ]
  },
  {
   "cell_type": "code",
   "execution_count": null,
   "id": "iYm284YHkk5J",
   "metadata": {
    "colab": {
     "base_uri": "https://localhost:8080/"
    },
    "id": "iYm284YHkk5J",
    "outputId": "35c0e871-1d26-4892-f6a3-b5429e7d03de"
   },
   "outputs": [
    {
     "name": "stdout",
     "output_type": "stream",
     "text": [
      "(2920, 13) (729, 13)\n"
     ]
    }
   ],
   "source": [
    "from sklearn.preprocessing import StandardScaler\n",
    "\n",
    "sc = StandardScaler()\n",
    "\n",
    "X_train[['Temp']] = sc.fit_transform(X_train[['Temp']].values)\n",
    "\n",
    "X_valid[['Temp']] = sc.transform(X_valid[['Temp']].values)\n",
    "\n",
    "print(X_train.shape, X_valid.shape)"
   ]
  },
  {
   "cell_type": "code",
   "execution_count": null,
   "id": "mh5iMypPi451",
   "metadata": {
    "id": "mh5iMypPi451"
   },
   "outputs": [],
   "source": [
    "def create_rnn_dataset(X, y, time_steps):\n",
    "    X_rnn = []\n",
    "    y_rnn = []\n",
    "\n",
    "    if type(X) == pd.DataFrame:\n",
    "        X = X.to_numpy()\n",
    "\n",
    "    for i in range(time_steps, len(X)):\n",
    "        X_rnn.append(X[i-time_steps:i])\n",
    "        y_rnn.append(y.iloc[i])\n",
    "\n",
    "    X_rnn = np.array(X_rnn)\n",
    "    y_rnn = np.array(y_rnn)\n",
    "\n",
    "    return X_rnn, y_rnn"
   ]
  },
  {
   "cell_type": "code",
   "execution_count": null,
   "id": "w0-HGClLhHxb",
   "metadata": {
    "colab": {
     "base_uri": "https://localhost:8080/"
    },
    "id": "w0-HGClLhHxb",
    "outputId": "fc1f4531-6ca6-476a-cc29-beb120bdc1a8"
   },
   "outputs": [
    {
     "name": "stdout",
     "output_type": "stream",
     "text": [
      "(2900, 20, 13) (709, 20, 13)\n"
     ]
    }
   ],
   "source": [
    "time_steps = 20\n",
    "\n",
    "X_train_rnn, y_train_rnn = create_rnn_dataset(X_train, y_train, time_steps)\n",
    "\n",
    "X_valid_rnn, y_valid_rnn = create_rnn_dataset(X_valid, y_valid, time_steps)\n",
    "\n",
    "print(X_train_rnn.shape, X_valid_rnn.shape)"
   ]
  },
  {
   "cell_type": "code",
   "execution_count": null,
   "id": "D82oFHH6jcqH",
   "metadata": {
    "colab": {
     "base_uri": "https://localhost:8080/"
    },
    "id": "D82oFHH6jcqH",
    "outputId": "effae82c-7df2-4437-e6ba-96a08c298882"
   },
   "outputs": [
    {
     "name": "stdout",
     "output_type": "stream",
     "text": [
      "Model: \"sequential_27\"\n",
      "_________________________________________________________________\n",
      " Layer (type)                Output Shape              Param #   \n",
      "=================================================================\n",
      " simple_rnn_25 (SimpleRNN)   (None, 32)                1472      \n",
      "                                                                 \n",
      " dense_31 (Dense)            (None, 100)               3300      \n",
      "                                                                 \n",
      " dense_32 (Dense)            (None, 50)                5050      \n",
      "                                                                 \n",
      " dense_33 (Dense)            (None, 1)                 51        \n",
      "                                                                 \n",
      "=================================================================\n",
      "Total params: 9,873\n",
      "Trainable params: 9,873\n",
      "Non-trainable params: 0\n",
      "_________________________________________________________________\n"
     ]
    }
   ],
   "source": [
    "model = keras.Sequential()\n",
    "\n",
    "#                                              num time steps         num features\n",
    "model.add(layers.SimpleRNN(32, input_shape=(X_train_rnn.shape[1], X_train_rnn.shape[2]), return_sequences=False))\n",
    "\n",
    "model.add(layers.Dense(100, activation='relu'))\n",
    "\n",
    "model.add(layers.Dense(50, activation='relu'))\n",
    "\n",
    "model.add(layers.Dense(1, activation='sigmoid'))\n",
    "\n",
    "model.summary()"
   ]
  },
  {
   "cell_type": "code",
   "execution_count": null,
   "id": "tlinzTvJlXgI",
   "metadata": {
    "colab": {
     "base_uri": "https://localhost:8080/",
     "height": 533
    },
    "id": "tlinzTvJlXgI",
    "outputId": "59615ba8-079c-4539-a47d-04f54c8f5c38"
   },
   "outputs": [
    {
     "data": {
      "image/png": "[encoded data removed]",
      "text/plain": [
       "<IPython.core.display.Image object>"
      ]
     },
     "execution_count": 190,
     "metadata": {},
     "output_type": "execute_result"
    }
   ],
   "source": [
    "keras.utils.plot_model(model, show_shapes=True)"
   ]
  },
  {
   "cell_type": "code",
   "execution_count": null,
   "id": "tZ8jgx3FmQuq",
   "metadata": {
    "id": "tZ8jgx3FmQuq"
   },
   "outputs": [],
   "source": [
    "def get_prediction(y_predict_proba, corte=0.5):\n",
    "    y_predict_proba = y_predict_proba.copy()\n",
    "\n",
    "    mask = (y_predict_proba >= corte)\n",
    "    y_predict_proba[mask] = 1\n",
    "    y_predict_proba[~mask] = 0\n",
    "    \n",
    "    return y_predict_proba\n",
    "\n",
    "def get_scores(y_train, y_train_pred, y_valid, y_valid_pred):\n",
    "    from sklearn.metrics import accuracy_score, precision_score, recall_score\n",
    "\n",
    "    acc_train = accuracy_score(y_train, y_train_pred)\n",
    "    prec_train = precision_score(y_train, y_train_pred)\n",
    "    rec_train = recall_score(y_train, y_train_pred)\n",
    "\n",
    "    acc_valid = accuracy_score(y_valid, y_valid_pred)\n",
    "    prec_valid = precision_score(y_valid, y_valid_pred)\n",
    "    rec_valid = recall_score(y_valid, y_valid_pred)\n",
    "\n",
    "    print(f'Treino:\\nAcc: {acc_train:.3f}, Precision: {prec_train:.2f}, Recall: {rec_train:.2f}')\n",
    "    print(f'Validação:\\nAcc: {acc_valid:.3f}, Precision: {prec_valid:.2f}, Recall: {rec_valid:.2f}')"
   ]
  },
  {
   "cell_type": "code",
   "execution_count": null,
   "id": "yB1he9c4mRo1",
   "metadata": {
    "colab": {
     "base_uri": "https://localhost:8080/"
    },
    "id": "yB1he9c4mRo1",
    "outputId": "a6c89966-05f3-4a47-8bbe-9bfdcf0cc82a"
   },
   "outputs": [
    {
     "name": "stdout",
     "output_type": "stream",
     "text": [
      "(2900,) (709,)\n"
     ]
    }
   ],
   "source": [
    "y_train_pred = model.predict(X_train_rnn).reshape(-1)\n",
    "\n",
    "y_valid_pred = model.predict(X_valid_rnn).reshape(-1)\n",
    "\n",
    "y_train_pred = get_prediction(y_train_pred)\n",
    "\n",
    "y_valid_pred = get_prediction(y_valid_pred)\n",
    "\n",
    "print(y_train_pred.shape, y_valid_pred.shape)"
   ]
  },
  {
   "cell_type": "code",
   "execution_count": null,
   "id": "ftKcQNv8mc5V",
   "metadata": {
    "colab": {
     "base_uri": "https://localhost:8080/"
    },
    "id": "ftKcQNv8mc5V",
    "outputId": "bce76139-d811-45fa-afc3-5096c50b60a0"
   },
   "outputs": [
    {
     "name": "stdout",
     "output_type": "stream",
     "text": [
      "Treino:\n",
      "Acc: 0.499, Precision: 0.53, Recall: 0.55\n",
      "Validação:\n",
      "Acc: 0.495, Precision: 0.51, Recall: 0.54\n"
     ]
    }
   ],
   "source": [
    "get_scores(y_train_rnn, y_train_pred, y_valid_rnn, y_valid_pred)"
   ]
  },
  {
   "cell_type": "code",
   "execution_count": null,
   "id": "CQkk1QBNj4rY",
   "metadata": {
    "id": "CQkk1QBNj4rY"
   },
   "outputs": [],
   "source": [
    "model.compile(\n",
    "    optimizer=keras.optimizers.Adam(learning_rate=0.001),\n",
    "    loss=keras.losses.BinaryCrossentropy(),\n",
    "    metrics=[keras.metrics.BinaryAccuracy()],\n",
    ")"
   ]
  },
  {
   "cell_type": "code",
   "execution_count": null,
   "id": "qAYLRf-0l9ii",
   "metadata": {
    "colab": {
     "base_uri": "https://localhost:8080/"
    },
    "id": "qAYLRf-0l9ii",
    "outputId": "442a72e5-759b-4544-a0fd-494a7e555e84"
   },
   "outputs": [
    {
     "name": "stdout",
     "output_type": "stream",
     "text": [
      "Treino do modelo\n",
      "Epoch 1/3\n",
      "29/29 [==============================] - 1s 17ms/step - loss: 0.6795 - binary_accuracy: 0.5641 - val_loss: 0.6773 - val_binary_accuracy: 0.5783\n",
      "Epoch 2/3\n",
      "29/29 [==============================] - 0s 8ms/step - loss: 0.6644 - binary_accuracy: 0.5962 - val_loss: 0.6664 - val_binary_accuracy: 0.5769\n",
      "Epoch 3/3\n",
      "29/29 [==============================] - 0s 10ms/step - loss: 0.6569 - binary_accuracy: 0.6017 - val_loss: 0.6641 - val_binary_accuracy: 0.5797\n"
     ]
    }
   ],
   "source": [
    "print(\"Treino do modelo\")\n",
    "history = model.fit(\n",
    "    X_train_rnn,\n",
    "    y_train_rnn,\n",
    "    batch_size=100,\n",
    "    epochs=3,\n",
    "    validation_data=(X_valid_rnn, y_valid_rnn),\n",
    ")"
   ]
  },
  {
   "cell_type": "code",
   "execution_count": null,
   "id": "ZrV8VjBZn6Hg",
   "metadata": {
    "colab": {
     "base_uri": "https://localhost:8080/",
     "height": 374
    },
    "id": "ZrV8VjBZn6Hg",
    "outputId": "f97187a6-3087-4292-fcee-f7b8f11e7ff2"
   },
   "outputs": [
    {
     "data": {
      "image/png": "[encoded data removed]",
      "text/plain": [
       "<Figure size 864x432 with 1 Axes>"
      ]
     },
     "metadata": {
      "needs_background": "light"
     },
     "output_type": "display_data"
    }
   ],
   "source": [
    "from matplotlib import pyplot as plt\n",
    "\n",
    "plt.figure(figsize=(12, 6))\n",
    "\n",
    "plt.plot(history.history['loss'], label='train')\n",
    "plt.plot(history.history['val_loss'], label='valid')\n",
    "# plt.plot(history.history['val_binary_accuracy'], label='acc_valid')\n",
    "\n",
    "plt.legend()\n",
    "\n",
    "plt.show()"
   ]
  },
  {
   "cell_type": "code",
   "execution_count": null,
   "id": "rIVBYRCKokaP",
   "metadata": {
    "colab": {
     "base_uri": "https://localhost:8080/"
    },
    "id": "rIVBYRCKokaP",
    "outputId": "9a773f5b-0db3-4394-9aef-c2a66849853a"
   },
   "outputs": [
    {
     "name": "stdout",
     "output_type": "stream",
     "text": [
      "(2900,) (709,)\n"
     ]
    }
   ],
   "source": [
    "y_train_pred = model.predict(X_train_rnn).reshape(-1)\n",
    "\n",
    "y_valid_pred = model.predict(X_valid_rnn).reshape(-1)\n",
    "\n",
    "CORTE = 0.5\n",
    "\n",
    "y_train_pred = get_prediction(y_train_pred, corte=CORTE)\n",
    "\n",
    "y_valid_pred = get_prediction(y_valid_pred, corte=CORTE)\n",
    "\n",
    "print(y_train_pred.shape, y_valid_pred.shape)"
   ]
  },
  {
   "cell_type": "code",
   "execution_count": null,
   "id": "o7t5cWpuoo4g",
   "metadata": {
    "colab": {
     "base_uri": "https://localhost:8080/"
    },
    "id": "o7t5cWpuoo4g",
    "outputId": "16ca6497-43fc-42f1-c402-5029c6470255"
   },
   "outputs": [
    {
     "name": "stdout",
     "output_type": "stream",
     "text": [
      "Treino:\n",
      "Acc: 0.613, Precision: 0.63, Recall: 0.68\n",
      "Validação:\n",
      "Acc: 0.580, Precision: 0.59, Recall: 0.62\n"
     ]
    }
   ],
   "source": [
    "get_scores(y_train_rnn, y_train_pred, y_valid_rnn, y_valid_pred)"
   ]
  },
  {
   "cell_type": "markdown",
   "id": "01dd6d1f",
   "metadata": {
    "id": "01dd6d1f"
   },
   "source": [
    "----------"
   ]
  },
  {
   "cell_type": "markdown",
   "id": "921081d6",
   "metadata": {
    "id": "921081d6"
   },
   "source": [
    "# Pra anotar"
   ]
  },
  {
   "cell_type": "markdown",
   "id": "526c7563",
   "metadata": {
    "id": "526c7563"
   },
   "source": [
    "- As RNNs são úteis para problemas em que a sequência das entradas importa;\n",
    "\n",
    "- Esse tipo de arquitetura possui memória curta, tendo dificuldade em lidar com grandes sequências;\n",
    "\n",
    "- Na maioria dos casos, vemos uma MLP conectada no final da camada recorrente."
   ]
  }
 ],
 "metadata": {
  "colab": {
   "collapsed_sections": [],
   "name": "Aula 11 - RNN.ipynb",
   "provenance": [],
   "toc_visible": true
  },
  "kernelspec": {
   "display_name": "Python 3",
   "language": "python",
   "name": "python3"
  },
  "language_info": {
   "codemirror_mode": {
    "name": "ipython",
    "version": 3
   },
   "file_extension": ".py",
   "mimetype": "text/x-python",
   "name": "python",
   "nbconvert_exporter": "python",
   "pygments_lexer": "ipython3",
   "version": "3.9.5"
  }
 },
 "nbformat": 4,
 "nbformat_minor": 5
}
