{
 "cells": [
  {
   "cell_type": "code",
   "execution_count": 19,
   "metadata": {},
   "outputs": [],
   "source": [
    "from scipy import stats\n",
    "\n",
    "import numpy as np"
   ]
  },
  {
   "cell_type": "markdown",
   "metadata": {},
   "source": [
    "Questão #1\n",
    "\n",
    "Enunciado\n",
    "\n",
    "Dado o boxplot conforme a figura abaixo:\n",
    "\n",
    "Como é definida a fórmula para os limites superior e inferior do boxplot que separa os dados da distribuição dos prováveis outliers?\n"
   ]
  },
  {
   "cell_type": "markdown",
   "metadata": {},
   "source": [
    "Alternativas\n",
    "\n",
    "Q1 + 1.5(Q3 - Q1), Q3 - 1.5(Q3 - Q1)\n",
    "\n",
    "Q3 + 1(Q3 - Q1), Q1 - 1(Q3 - Q1)\n",
    "\n",
    "Q3 - 1.5(Q3 - Q1), Q1 + 1.5(Q3 - Q1)\n",
    "\n",
    "-> Q3 + 1.5(Q3 - Q1), Q1 - 1.5(Q3 - Q1)\n",
    "\n",
    "1.5Q3 + (Q3 - Q1), 1.5Q1 - (Q3 - Q1)"
   ]
  },
  {
   "cell_type": "markdown",
   "metadata": {},
   "source": [
    "Questão #2\n",
    "\n",
    "Enunciado\n",
    "\n",
    "Identifique nas alternativas abaixo, a opção que contenha apenas métricas de posição:"
   ]
  },
  {
   "cell_type": "markdown",
   "metadata": {},
   "source": [
    "Alternativas\n",
    "\n",
    "média, desvio padrão\n",
    "\n",
    "desvio padrão, variância\n",
    "\n",
    "-> mediana, moda\n",
    "\n",
    "variância, mediana\n",
    "\n",
    "média, correlação de Pearson\n"
   ]
  },
  {
   "cell_type": "markdown",
   "metadata": {},
   "source": [
    "Questão #3\n",
    "\n",
    "Enunciado\n",
    "\n",
    "Rafael queria levar dinheiro na escola para comprar balas, mas sua mãe só deixou que ele levasse duas moedas para a escola. Sabendo que dentro do cofre do Rafael, temos as seguintes moedas:\n",
    "\n",
    "    10 centavos = 5 moedas\n",
    "    25 centavos = 3 moedas\n",
    "    50 centavos = 10 moedas\n",
    "    01 real = 2 moedas\n",
    "\n",
    "Qual a probabilidade de Rafael retirar respectivamente uma moeda de 1 real e uma moeda de 25 centavos?\n"
   ]
  },
  {
   "cell_type": "markdown",
   "metadata": {},
   "source": [
    "R: 1,6%"
   ]
  },
  {
   "cell_type": "markdown",
   "metadata": {},
   "source": [
    "Questão #4\n",
    "\n",
    "Enunciado\n",
    "\n",
    "Em uma filial de um banco, 40% dos clientes que vão ao caixa eletrônico sacam dinheiro do caixa. Utilizando de uma distribuição binomial, qual é a probabilidade de no máximo 12 clientes sacarem dinheiro em um dia que tivemos 30 clientes no caixa eletrônico?"
   ]
  },
  {
   "cell_type": "code",
   "execution_count": 17,
   "metadata": {},
   "outputs": [
    {
     "data": {
      "text/plain": [
       "57.8465728546117"
      ]
     },
     "execution_count": 17,
     "metadata": {},
     "output_type": "execute_result"
    }
   ],
   "source": [
    "scipy.stats.binom.cdf(12, 30, 0.4)*100"
   ]
  },
  {
   "cell_type": "markdown",
   "metadata": {},
   "source": [
    "Questão #5\n",
    "\n",
    "Enunciado\n",
    "\n",
    "Em um centro de distribuição logístico da Amazon, chegam cerca de 1.440 produtos por dia. Sabendo que segue uma distribuição de Poisson, qual a probabilidade de que em um minuto cheguem 3 produtos?\n"
   ]
  },
  {
   "cell_type": "code",
   "execution_count": 28,
   "metadata": {},
   "outputs": [
    {
     "data": {
      "text/plain": [
       "6.1313240195240395"
      ]
     },
     "execution_count": 28,
     "metadata": {},
     "output_type": "execute_result"
    }
   ],
   "source": [
    "scipy.stats.poisson.pmf(3, 1)*100"
   ]
  },
  {
   "cell_type": "code",
   "execution_count": 22,
   "metadata": {},
   "outputs": [
    {
     "data": {
      "text/plain": [
       "1.0"
      ]
     },
     "execution_count": 22,
     "metadata": {},
     "output_type": "execute_result"
    }
   ],
   "source": [
    "1440/24/60"
   ]
  },
  {
   "cell_type": "markdown",
   "metadata": {},
   "source": [
    "Questão #6\n",
    "\n",
    "Enunciado\n",
    "\n",
    "Suponha que 60% das mulheres que compram kits de gravidez instantâneos estejam, de fato, grávidas. Para um kit de uma marca específica, se a mulher estiver grávida, o teste fornecerá resultado positivo 96% das vezes e negativo 4% das vezes (um “falso negativo\"). Se ela não estiver grávida, o teste resultará positivo em 1% das vezes (um “falso positivo”) e negativo 99% das vezes . Suponha que um teste resulte positivo. Qual a probabilidade de que a mulher esteja realmente grávida?\n"
   ]
  },
  {
   "cell_type": "markdown",
   "metadata": {},
   "source": [
    "R: 62,5%"
   ]
  },
  {
   "cell_type": "markdown",
   "metadata": {},
   "source": [
    "Teorema de Bayes:\n",
    "P(grávida | positivo) = P(positivo|grávida) * P(grávida) / P(positivo|grávida)*P(grávida) + P(positivo|não-grávida) *P(não-grávida)\n",
    "\n",
    "0,96 * 0,6 / 0,96 * 0,6 + 0,01 * 0,4 = 99,3%"
   ]
  },
  {
   "cell_type": "code",
   "execution_count": 10,
   "metadata": {},
   "outputs": [
    {
     "data": {
      "text/plain": [
       "99.3103448275862"
      ]
     },
     "execution_count": 10,
     "metadata": {},
     "output_type": "execute_result"
    }
   ],
   "source": [
    "0.96 * 0.6 / (0.96 * 0.6 + 0.01 * 0.4)*100"
   ]
  },
  {
   "cell_type": "markdown",
   "metadata": {},
   "source": [
    "Questão #7\n",
    "\n",
    "Enunciado\n",
    "\n",
    "Uma máquina de sorvete está regulada de modo a servir uma média de 80g por casquinha. Se a quantidade servida por casquinha seguir uma distribuição normal com desvio padrão de 8g, qual a porcentagem de casquinhas que conterão mais de 90g de sorvete?"
   ]
  },
  {
   "cell_type": "code",
   "execution_count": 36,
   "metadata": {},
   "outputs": [
    {
     "data": {
      "text/plain": [
       "10.56497736668554"
      ]
     },
     "execution_count": 36,
     "metadata": {},
     "output_type": "execute_result"
    }
   ],
   "source": [
    "100 - (scipy.stats.norm(80, 8).cdf(90)*100)"
   ]
  },
  {
   "cell_type": "markdown",
   "metadata": {},
   "source": [
    "Questão #8\n",
    "\n",
    "Enunciado\n",
    "\n",
    "O tempo para fabricar um perfume em uma empresa é descrito por uma variável aleatória X, medida em horas, com distribuição normal de média mu = 7 e desvio padrão sigma = 2. Qual a probabilidade de que um perfume será finalizado entre 4 e 11 horas?\n"
   ]
  },
  {
   "cell_type": "code",
   "execution_count": 48,
   "metadata": {},
   "outputs": [
    {
     "data": {
      "text/plain": [
       "0.02275013194817921"
      ]
     },
     "execution_count": 48,
     "metadata": {},
     "output_type": "execute_result"
    }
   ],
   "source": [
    "cauda1 = 1 - (scipy.stats.norm(7, 2).cdf(11))\n",
    "\n",
    "cauda1"
   ]
  },
  {
   "cell_type": "code",
   "execution_count": 49,
   "metadata": {},
   "outputs": [
    {
     "data": {
      "text/plain": [
       "0.06680720126885807"
      ]
     },
     "execution_count": 49,
     "metadata": {},
     "output_type": "execute_result"
    }
   ],
   "source": [
    "cauda2 = scipy.stats.norm(7, 2).cdf(4)\n",
    "\n",
    "cauda2"
   ]
  },
  {
   "cell_type": "code",
   "execution_count": 51,
   "metadata": {},
   "outputs": [
    {
     "data": {
      "text/plain": [
       "91.04426667829627"
      ]
     },
     "execution_count": 51,
     "metadata": {},
     "output_type": "execute_result"
    }
   ],
   "source": [
    "(1 - (cauda1 + cauda2))*100"
   ]
  },
  {
   "cell_type": "markdown",
   "metadata": {},
   "source": [
    "Questão #9\n",
    "\n",
    "Enunciado\n",
    "\n",
    "Dados os tipos de amostragem e as definições dos mesmos, assinale a alternativa que indique cada tipo de amostragem com a respectiva definição:\n",
    "\n",
    "Tipos de Amostragem:\n",
    "\n",
    "1 - Amostragem Aleatória Simples\n",
    "\n",
    "2 - Amostragem Estratificada\n",
    "\n",
    "3 - Amostragem por Conglomerado\n",
    "\n",
    "Definições:\n",
    "\n",
    "I - Método de amostragem onde a população é dividida em grupos (estratos) segundo algumas características conhecidas sobre a população em estudo;\n",
    "\n",
    "II - Método de amostragem que divide em subpopulações (conglomerados), onde escolhem aleatóriamente por amostragem simples as subpopulações e todos os elementos de uma subpopulação irão fazer parte da amostra;\n",
    "\n",
    "III - Método de amostragem mais simples onde serão escolhidos aleatoriamente elementos com ou sem reposição."
   ]
  },
  {
   "cell_type": "markdown",
   "metadata": {},
   "source": [
    "Alternativas\n",
    "\n",
    "1-II, 2-I, 3-III\n",
    "\n",
    "1-II, 2-III, 3-I\n",
    "\n",
    "-> 1-III, 2-I, 3-II\n",
    "\n",
    "1-I, 2-II, 3-III\n",
    "\n",
    "1-III, 2-II, 3-I"
   ]
  },
  {
   "cell_type": "markdown",
   "metadata": {},
   "source": [
    "Questão #10\n",
    "\n",
    "Enunciado\n",
    "\n",
    "Um fabricante de refrigerante anunciou que o índice de cafeína do seu refrigerante de cola é igual a 35mg por lata. Um laboratório realizou 20 análises do índice de cafeína obtendo os resultados (37, 34, 36, 37, 35, 32, 30, 35, 34, 36, 39, 38, 34, 35, 31, 30, 33, 35, 36, 31). Sabe-se que o índice de cafeína do refrigerante de cola dessa marca se distribui normalmente com variância igual a 4. Responda respectivamente a conclusão sobre o teste e o valor crítico para este teste com nível de significância de 5%?\n"
   ]
  },
  {
   "cell_type": "code",
   "execution_count": 157,
   "metadata": {},
   "outputs": [
    {
     "data": {
      "text/plain": [
       "688"
      ]
     },
     "execution_count": 157,
     "metadata": {},
     "output_type": "execute_result"
    }
   ],
   "source": [
    "lista = [37, 34, 36, 37, 35, 32, 30, 35, 34, \n",
    "          36, 39, 38, 34, 35, 31, 30, 33, 35, 36, 31]\n",
    "\n",
    "sum(lista)"
   ]
  },
  {
   "cell_type": "code",
   "execution_count": 161,
   "metadata": {},
   "outputs": [
    {
     "data": {
      "text/plain": [
       "34.4"
      ]
     },
     "execution_count": 161,
     "metadata": {},
     "output_type": "execute_result"
    }
   ],
   "source": [
    "np.mean(lista)"
   ]
  },
  {
   "cell_type": "code",
   "execution_count": 162,
   "metadata": {},
   "outputs": [
    {
     "data": {
      "text/plain": [
       "55.961769237024264"
      ]
     },
     "execution_count": 162,
     "metadata": {},
     "output_type": "execute_result"
    }
   ],
   "source": [
    "prob = scipy.stats.norm(34.4, 4).cdf(35)\n",
    "\n",
    "prob*100"
   ]
  },
  {
   "cell_type": "code",
   "execution_count": 85,
   "metadata": {},
   "outputs": [
    {
     "data": {
      "text/plain": [
       "35.0"
      ]
     },
     "execution_count": 85,
     "metadata": {},
     "output_type": "execute_result"
    }
   ],
   "source": [
    "# inverso do cdf\n",
    "scipy.stats.norm.ppf(prob, loc=34.4, scale=2)"
   ]
  },
  {
   "cell_type": "code",
   "execution_count": 86,
   "metadata": {},
   "outputs": [
    {
     "data": {
      "text/plain": [
       "0.6179114221889529"
      ]
     },
     "execution_count": 86,
     "metadata": {},
     "output_type": "execute_result"
    }
   ],
   "source": [
    "# confirmação do inverso\n",
    "scipy.stats.norm.cdf(scipy.stats.norm.ppf(prob))"
   ]
  },
  {
   "cell_type": "code",
   "execution_count": 170,
   "metadata": {},
   "outputs": [
    {
     "data": {
      "text/plain": [
       "38.319927969080105"
      ]
     },
     "execution_count": 170,
     "metadata": {},
     "output_type": "execute_result"
    }
   ],
   "source": [
    "# Z-Crítico (Bicaudal)\n",
    "scipy.stats.norm(34.4, 2).ppf(0.975)"
   ]
  },
  {
   "cell_type": "code",
   "execution_count": 163,
   "metadata": {},
   "outputs": [
    {
     "data": {
      "text/plain": [
       "0.6708203932499385"
      ]
     },
     "execution_count": 163,
     "metadata": {},
     "output_type": "execute_result"
    }
   ],
   "source": [
    "# X\n",
    "x = (35 - 34.4)/ (4/(20**(1/2)))\n",
    "x"
   ]
  },
  {
   "cell_type": "code",
   "execution_count": 164,
   "metadata": {},
   "outputs": [
    {
     "name": "stdout",
     "output_type": "stream",
     "text": [
      "0.2511674771802505\n",
      "50.2334954360501\n"
     ]
    }
   ],
   "source": [
    "a = scipy.stats.norm.cdf(-x)\n",
    "\n",
    "print(a)\n",
    "print(a * 2 * 100)"
   ]
  },
  {
   "cell_type": "code",
   "execution_count": 104,
   "metadata": {},
   "outputs": [],
   "source": [
    "# Aceita Ho = 35 mg"
   ]
  },
  {
   "cell_type": "code",
   "execution_count": 167,
   "metadata": {},
   "outputs": [
    {
     "data": {
      "text/plain": [
       "35.74164078649988"
      ]
     },
     "execution_count": 167,
     "metadata": {},
     "output_type": "execute_result"
    }
   ],
   "source": [
    "scipy.stats.norm(34.4, 2).ppf((b))"
   ]
  },
  {
   "cell_type": "code",
   "execution_count": 166,
   "metadata": {},
   "outputs": [
    {
     "data": {
      "text/plain": [
       "0.7488325228197494"
      ]
     },
     "execution_count": 166,
     "metadata": {},
     "output_type": "execute_result"
    }
   ],
   "source": [
    "b = scipy.stats.norm.cdf(x)\n",
    "b"
   ]
  },
  {
   "cell_type": "code",
   "execution_count": null,
   "metadata": {},
   "outputs": [],
   "source": []
  },
  {
   "cell_type": "code",
   "execution_count": null,
   "metadata": {},
   "outputs": [],
   "source": []
  }
 ],
 "metadata": {
  "kernelspec": {
   "display_name": "Python 3",
   "language": "python",
   "name": "python3"
  },
  "language_info": {
   "codemirror_mode": {
    "name": "ipython",
    "version": 3
   },
   "file_extension": ".py",
   "mimetype": "text/x-python",
   "name": "python",
   "nbconvert_exporter": "python",
   "pygments_lexer": "ipython3",
   "version": "3.9.5"
  }
 },
 "nbformat": 4,
 "nbformat_minor": 4
}
