{
 "cells": [
  {
   "cell_type": "markdown",
   "id": "fa15ba55",
   "metadata": {},
   "source": [
    "# Aula 6 - Amostragem"
   ]
  },
  {
   "cell_type": "code",
   "execution_count": 1,
   "id": "2234d323",
   "metadata": {
    "ExecuteTime": {
     "end_time": "2021-10-23T15:01:50.181306Z",
     "start_time": "2021-10-23T15:01:21.840471Z"
    }
   },
   "outputs": [],
   "source": [
    "# Importação das bibliotecas\n",
    "import numpy as np\n",
    "import pandas as pd\n",
    "import matplotlib.pyplot as plt\n",
    "import seaborn as sns\n",
    "from scipy import stats\n",
    "#sns.set()"
   ]
  },
  {
   "cell_type": "markdown",
   "id": "ff266462",
   "metadata": {},
   "source": [
    "<img src='https://miro.medium.com/max/625/1*ZhYNqU2y96_f3QkWq9oiWQ.jpeg'>"
   ]
  },
  {
   "cell_type": "markdown",
   "id": "ec5a8059",
   "metadata": {},
   "source": [
    "## 1. Introdução\n",
    "\n",
    "Quando se prepara um macarrão, uma unidade desse é retirada para saber se o ponto de cozimento é o desejado.\n",
    "\n",
    "Pra saber se uma sopa está corretamente salgada, experimentamos uma única colherada.\n",
    "\n",
    "Quando um médico deseja identificar se um paciente está doente, alguns ml de sangue são retirados para análise. \n",
    "\n",
    "Em todos os casos acima, não seria conveniente analisar o todo, para chegar a uma conclusão satisfatória. De fato, o que fazemos é **tirar uma parte do todo** para validar alguma suposição.\n",
    "\n",
    "Este procedimento é chamado de **amostragem**, e tem como objetivo **obter informações, tirar conclusões sobre o todo** com base na **análise de dados coletados de parte do todo (amostra)**.\n",
    "\n",
    "A **inferência estatística** é a área que define:\n",
    "\n",
    "- Como coletar as amostras do todo a serem analisadas;\n",
    "- Como, e com que confiança, podemos generalizar as conclusões para o todo."
   ]
  },
  {
   "cell_type": "markdown",
   "id": "b5a9c660",
   "metadata": {},
   "source": [
    "![Amostragem](http://drive.google.com/uc?export=view&id=1h3EUKf74tn3WMFJ17KkqnfrHT6MXmm5j)\n",
    "<img src=\"https://phhp-faculty-cantrell.sites.medinfo.ufl.edu/files/2012/07/mod10-big_picture_inference.gif\" width=\"600\">"
   ]
  },
  {
   "cell_type": "code",
   "execution_count": 2,
   "id": "ed3e5e0b",
   "metadata": {
    "ExecuteTime": {
     "end_time": "2021-10-23T15:01:50.797555Z",
     "start_time": "2021-10-23T15:01:50.185301Z"
    }
   },
   "outputs": [
    {
     "data": {
      "image/png": "[encoded data removed]",
      "text/plain": [
       "<Figure size 720x108 with 4 Axes>"
      ]
     },
     "metadata": {
      "needs_background": "light"
     },
     "output_type": "display_data"
    }
   ],
   "source": [
    "np.random.seed(seed=1)\n",
    "x = np.linspace(-3, 3, 300)\n",
    "xsample = stats.norm.rvs(size=1000)\n",
    "\n",
    "fig, axes = plt.subplots(ncols=4, figsize=(10, 1.5))\n",
    "\n",
    "ax = axes[0]\n",
    "ax.fill(x, stats.norm.pdf(x))\n",
    "ax.set_axis_off()\n",
    "ax.set_xlim(-3, 3)\n",
    "\n",
    "ax = axes[1]\n",
    "ax.hist(xsample, bins=30)\n",
    "ax.set_axis_off()\n",
    "ax.set_xlim(-3, 3)\n",
    "ax.set_position\n",
    "# plt.subplots_adjust(left=0, bottom=0, right=1, top=1, wspace=0, hspace=0)\n",
    "\n",
    "ax = axes[2]\n",
    "ax.hist(xsample, bins=10)\n",
    "ax.set_axis_off()\n",
    "ax.set_xlim(-3, 3)\n",
    "ax.set_position\n",
    "\n",
    "ax = axes[3]\n",
    "ax.hist(xsample, bins=5)\n",
    "ax.set_axis_off()\n",
    "ax.set_xlim(-3, 3)\n",
    "ax.set_position\n",
    "\n",
    "\n",
    "plt.show()"
   ]
  },
  {
   "cell_type": "code",
   "execution_count": 3,
   "id": "50ed17d1",
   "metadata": {
    "ExecuteTime": {
     "end_time": "2021-10-23T15:01:51.095382Z",
     "start_time": "2021-10-23T15:01:50.800546Z"
    }
   },
   "outputs": [],
   "source": [
    "# PNAD - Pesquisa Nacional por Amostra de Domicílios\n",
    "\n",
    "df = pd.read_csv('PNAD - 2015.csv')"
   ]
  },
  {
   "cell_type": "code",
   "execution_count": 4,
   "id": "c2ebec37",
   "metadata": {
    "ExecuteTime": {
     "end_time": "2021-10-23T15:01:51.174152Z",
     "start_time": "2021-10-23T15:01:51.096388Z"
    }
   },
   "outputs": [
    {
     "data": {
      "text/html": [
       "<div>\n",
       "<style scoped>\n",
       "    .dataframe tbody tr th:only-of-type {\n",
       "        vertical-align: middle;\n",
       "    }\n",
       "\n",
       "    .dataframe tbody tr th {\n",
       "        vertical-align: top;\n",
       "    }\n",
       "\n",
       "    .dataframe thead th {\n",
       "        text-align: right;\n",
       "    }\n",
       "</style>\n",
       "<table border=\"1\" class=\"dataframe\">\n",
       "  <thead>\n",
       "    <tr style=\"text-align: right;\">\n",
       "      <th></th>\n",
       "      <th>UF</th>\n",
       "      <th>Sexo</th>\n",
       "      <th>Idade</th>\n",
       "      <th>Cor</th>\n",
       "      <th>Anos de Estudo</th>\n",
       "      <th>Renda</th>\n",
       "      <th>Altura</th>\n",
       "    </tr>\n",
       "  </thead>\n",
       "  <tbody>\n",
       "    <tr>\n",
       "      <th>0</th>\n",
       "      <td>11</td>\n",
       "      <td>0</td>\n",
       "      <td>23</td>\n",
       "      <td>8</td>\n",
       "      <td>12</td>\n",
       "      <td>800</td>\n",
       "      <td>1.603808</td>\n",
       "    </tr>\n",
       "    <tr>\n",
       "      <th>1</th>\n",
       "      <td>11</td>\n",
       "      <td>1</td>\n",
       "      <td>23</td>\n",
       "      <td>2</td>\n",
       "      <td>12</td>\n",
       "      <td>1150</td>\n",
       "      <td>1.739790</td>\n",
       "    </tr>\n",
       "    <tr>\n",
       "      <th>2</th>\n",
       "      <td>11</td>\n",
       "      <td>1</td>\n",
       "      <td>35</td>\n",
       "      <td>8</td>\n",
       "      <td>15</td>\n",
       "      <td>880</td>\n",
       "      <td>1.760444</td>\n",
       "    </tr>\n",
       "    <tr>\n",
       "      <th>3</th>\n",
       "      <td>11</td>\n",
       "      <td>0</td>\n",
       "      <td>46</td>\n",
       "      <td>2</td>\n",
       "      <td>6</td>\n",
       "      <td>3500</td>\n",
       "      <td>1.783158</td>\n",
       "    </tr>\n",
       "    <tr>\n",
       "      <th>4</th>\n",
       "      <td>11</td>\n",
       "      <td>1</td>\n",
       "      <td>47</td>\n",
       "      <td>8</td>\n",
       "      <td>9</td>\n",
       "      <td>150</td>\n",
       "      <td>1.690631</td>\n",
       "    </tr>\n",
       "    <tr>\n",
       "      <th>...</th>\n",
       "      <td>...</td>\n",
       "      <td>...</td>\n",
       "      <td>...</td>\n",
       "      <td>...</td>\n",
       "      <td>...</td>\n",
       "      <td>...</td>\n",
       "      <td>...</td>\n",
       "    </tr>\n",
       "    <tr>\n",
       "      <th>76835</th>\n",
       "      <td>53</td>\n",
       "      <td>1</td>\n",
       "      <td>46</td>\n",
       "      <td>2</td>\n",
       "      <td>11</td>\n",
       "      <td>812</td>\n",
       "      <td>1.687030</td>\n",
       "    </tr>\n",
       "    <tr>\n",
       "      <th>76836</th>\n",
       "      <td>53</td>\n",
       "      <td>0</td>\n",
       "      <td>30</td>\n",
       "      <td>4</td>\n",
       "      <td>7</td>\n",
       "      <td>1500</td>\n",
       "      <td>1.792934</td>\n",
       "    </tr>\n",
       "    <tr>\n",
       "      <th>76837</th>\n",
       "      <td>53</td>\n",
       "      <td>0</td>\n",
       "      <td>32</td>\n",
       "      <td>8</td>\n",
       "      <td>12</td>\n",
       "      <td>1300</td>\n",
       "      <td>1.830587</td>\n",
       "    </tr>\n",
       "    <tr>\n",
       "      <th>76838</th>\n",
       "      <td>53</td>\n",
       "      <td>0</td>\n",
       "      <td>57</td>\n",
       "      <td>8</td>\n",
       "      <td>4</td>\n",
       "      <td>1500</td>\n",
       "      <td>1.726344</td>\n",
       "    </tr>\n",
       "    <tr>\n",
       "      <th>76839</th>\n",
       "      <td>53</td>\n",
       "      <td>0</td>\n",
       "      <td>38</td>\n",
       "      <td>8</td>\n",
       "      <td>4</td>\n",
       "      <td>900</td>\n",
       "      <td>1.658305</td>\n",
       "    </tr>\n",
       "  </tbody>\n",
       "</table>\n",
       "<p>76840 rows × 7 columns</p>\n",
       "</div>"
      ],
      "text/plain": [
       "       UF  Sexo  Idade  Cor  Anos de Estudo  Renda    Altura\n",
       "0      11     0     23    8              12    800  1.603808\n",
       "1      11     1     23    2              12   1150  1.739790\n",
       "2      11     1     35    8              15    880  1.760444\n",
       "3      11     0     46    2               6   3500  1.783158\n",
       "4      11     1     47    8               9    150  1.690631\n",
       "...    ..   ...    ...  ...             ...    ...       ...\n",
       "76835  53     1     46    2              11    812  1.687030\n",
       "76836  53     0     30    4               7   1500  1.792934\n",
       "76837  53     0     32    8              12   1300  1.830587\n",
       "76838  53     0     57    8               4   1500  1.726344\n",
       "76839  53     0     38    8               4    900  1.658305\n",
       "\n",
       "[76840 rows x 7 columns]"
      ]
     },
     "execution_count": 4,
     "metadata": {},
     "output_type": "execute_result"
    }
   ],
   "source": [
    "df"
   ]
  },
  {
   "cell_type": "code",
   "execution_count": 5,
   "id": "342b237f",
   "metadata": {
    "ExecuteTime": {
     "end_time": "2021-10-23T15:01:51.252573Z",
     "start_time": "2021-10-23T15:01:51.175150Z"
    }
   },
   "outputs": [
    {
     "data": {
      "text/plain": [
       "37.2"
      ]
     },
     "execution_count": 5,
     "metadata": {},
     "output_type": "execute_result"
    }
   ],
   "source": [
    "# pegar uma amostra\n",
    "df.sample(5)['Idade'].mean()"
   ]
  },
  {
   "cell_type": "code",
   "execution_count": 6,
   "id": "7cb6fbd0",
   "metadata": {
    "ExecuteTime": {
     "end_time": "2021-10-23T15:01:51.331355Z",
     "start_time": "2021-10-23T15:01:51.256557Z"
    }
   },
   "outputs": [
    {
     "data": {
      "text/plain": [
       "43.4"
      ]
     },
     "execution_count": 6,
     "metadata": {},
     "output_type": "execute_result"
    }
   ],
   "source": [
    "df.sample(5)['Idade'].mean()"
   ]
  },
  {
   "cell_type": "code",
   "execution_count": 7,
   "id": "3d4f4a15",
   "metadata": {
    "ExecuteTime": {
     "end_time": "2021-10-23T15:01:51.425310Z",
     "start_time": "2021-10-23T15:01:51.337339Z"
    }
   },
   "outputs": [
    {
     "data": {
      "text/plain": [
       "41.2"
      ]
     },
     "execution_count": 7,
     "metadata": {},
     "output_type": "execute_result"
    }
   ],
   "source": [
    "df.sample(5)['Idade'].mean()"
   ]
  },
  {
   "cell_type": "code",
   "execution_count": 8,
   "id": "856e9a0c",
   "metadata": {
    "ExecuteTime": {
     "end_time": "2021-10-23T15:01:51.536286Z",
     "start_time": "2021-10-23T15:01:51.428299Z"
    }
   },
   "outputs": [
    {
     "data": {
      "text/plain": [
       "50.4"
      ]
     },
     "execution_count": 8,
     "metadata": {},
     "output_type": "execute_result"
    }
   ],
   "source": [
    "df.sample(5)['Idade'].mean()"
   ]
  },
  {
   "cell_type": "code",
   "execution_count": 9,
   "id": "ac644f34",
   "metadata": {
    "ExecuteTime": {
     "end_time": "2021-10-23T15:01:55.845455Z",
     "start_time": "2021-10-23T15:01:51.538247Z"
    }
   },
   "outputs": [
    {
     "data": {
      "text/html": [
       "<div>\n",
       "<style scoped>\n",
       "    .dataframe tbody tr th:only-of-type {\n",
       "        vertical-align: middle;\n",
       "    }\n",
       "\n",
       "    .dataframe tbody tr th {\n",
       "        vertical-align: top;\n",
       "    }\n",
       "\n",
       "    .dataframe thead th {\n",
       "        text-align: right;\n",
       "    }\n",
       "</style>\n",
       "<table border=\"1\" class=\"dataframe\">\n",
       "  <thead>\n",
       "    <tr style=\"text-align: right;\">\n",
       "      <th></th>\n",
       "      <th>idade</th>\n",
       "      <th>type</th>\n",
       "    </tr>\n",
       "  </thead>\n",
       "  <tbody>\n",
       "    <tr>\n",
       "      <th>0</th>\n",
       "      <td>27.00</td>\n",
       "      <td>Data</td>\n",
       "    </tr>\n",
       "    <tr>\n",
       "      <th>1</th>\n",
       "      <td>30.00</td>\n",
       "      <td>Data</td>\n",
       "    </tr>\n",
       "    <tr>\n",
       "      <th>2</th>\n",
       "      <td>45.00</td>\n",
       "      <td>Data</td>\n",
       "    </tr>\n",
       "    <tr>\n",
       "      <th>3</th>\n",
       "      <td>43.00</td>\n",
       "      <td>Data</td>\n",
       "    </tr>\n",
       "    <tr>\n",
       "      <th>4</th>\n",
       "      <td>64.00</td>\n",
       "      <td>Data</td>\n",
       "    </tr>\n",
       "    <tr>\n",
       "      <th>...</th>\n",
       "      <td>...</td>\n",
       "      <td>...</td>\n",
       "    </tr>\n",
       "    <tr>\n",
       "      <th>2995</th>\n",
       "      <td>46.50</td>\n",
       "      <td>Mean of 20</td>\n",
       "    </tr>\n",
       "    <tr>\n",
       "      <th>2996</th>\n",
       "      <td>43.95</td>\n",
       "      <td>Mean of 20</td>\n",
       "    </tr>\n",
       "    <tr>\n",
       "      <th>2997</th>\n",
       "      <td>44.45</td>\n",
       "      <td>Mean of 20</td>\n",
       "    </tr>\n",
       "    <tr>\n",
       "      <th>2998</th>\n",
       "      <td>43.20</td>\n",
       "      <td>Mean of 20</td>\n",
       "    </tr>\n",
       "    <tr>\n",
       "      <th>2999</th>\n",
       "      <td>43.70</td>\n",
       "      <td>Mean of 20</td>\n",
       "    </tr>\n",
       "  </tbody>\n",
       "</table>\n",
       "<p>3000 rows × 2 columns</p>\n",
       "</div>"
      ],
      "text/plain": [
       "      idade        type\n",
       "0     27.00        Data\n",
       "1     30.00        Data\n",
       "2     45.00        Data\n",
       "3     43.00        Data\n",
       "4     64.00        Data\n",
       "...     ...         ...\n",
       "2995  46.50  Mean of 20\n",
       "2996  43.95  Mean of 20\n",
       "2997  44.45  Mean of 20\n",
       "2998  43.20  Mean of 20\n",
       "2999  43.70  Mean of 20\n",
       "\n",
       "[3000 rows x 2 columns]"
      ]
     },
     "execution_count": 9,
     "metadata": {},
     "output_type": "execute_result"
    }
   ],
   "source": [
    "sample_data = pd.DataFrame({\n",
    "    'idade': df['Idade'].sample(1000),\n",
    "    'type': 'Data',\n",
    "})\n",
    "\n",
    "sample_mean_05 = pd.DataFrame({\n",
    "    'idade': [df['Idade'].sample(5).mean() for _ in range(1000)],\n",
    "    'type': 'Mean of 5',\n",
    "})\n",
    "\n",
    "sample_mean_20 = pd.DataFrame({\n",
    "    'idade': [df['Idade'].sample(20).mean() for _ in range(1000)],\n",
    "    'type': 'Mean of 20',\n",
    "})\n",
    "\n",
    "results = pd.concat([sample_data, sample_mean_05, sample_mean_20])\n",
    "results.reset_index(drop=True, inplace=True)\n",
    "results"
   ]
  },
  {
   "cell_type": "code",
   "execution_count": 10,
   "id": "f3222b5a",
   "metadata": {
    "ExecuteTime": {
     "end_time": "2021-10-23T15:01:56.097891Z",
     "start_time": "2021-10-23T15:01:55.847413Z"
    }
   },
   "outputs": [
    {
     "data": {
      "text/html": [
       "<div>\n",
       "<style scoped>\n",
       "    .dataframe tbody tr th:only-of-type {\n",
       "        vertical-align: middle;\n",
       "    }\n",
       "\n",
       "    .dataframe tbody tr th {\n",
       "        vertical-align: top;\n",
       "    }\n",
       "\n",
       "    .dataframe thead th {\n",
       "        text-align: right;\n",
       "    }\n",
       "</style>\n",
       "<table border=\"1\" class=\"dataframe\">\n",
       "  <thead>\n",
       "    <tr style=\"text-align: right;\">\n",
       "      <th></th>\n",
       "      <th>idade</th>\n",
       "    </tr>\n",
       "    <tr>\n",
       "      <th>type</th>\n",
       "      <th></th>\n",
       "    </tr>\n",
       "  </thead>\n",
       "  <tbody>\n",
       "    <tr>\n",
       "      <th>Data</th>\n",
       "      <td>44.0780</td>\n",
       "    </tr>\n",
       "    <tr>\n",
       "      <th>Mean of 20</th>\n",
       "      <td>44.1991</td>\n",
       "    </tr>\n",
       "    <tr>\n",
       "      <th>Mean of 5</th>\n",
       "      <td>44.1812</td>\n",
       "    </tr>\n",
       "  </tbody>\n",
       "</table>\n",
       "</div>"
      ],
      "text/plain": [
       "              idade\n",
       "type               \n",
       "Data        44.0780\n",
       "Mean of 20  44.1991\n",
       "Mean of 5   44.1812"
      ]
     },
     "execution_count": 10,
     "metadata": {},
     "output_type": "execute_result"
    }
   ],
   "source": [
    "results.groupby(['type'])[['idade']].mean()"
   ]
  },
  {
   "cell_type": "code",
   "execution_count": 11,
   "id": "cdedaefb",
   "metadata": {
    "ExecuteTime": {
     "end_time": "2021-10-23T15:01:56.113841Z",
     "start_time": "2021-10-23T15:01:56.099874Z"
    }
   },
   "outputs": [
    {
     "data": {
      "text/plain": [
       "44.07142113482561"
      ]
     },
     "execution_count": 11,
     "metadata": {},
     "output_type": "execute_result"
    }
   ],
   "source": [
    "df['Idade'].mean()"
   ]
  },
  {
   "cell_type": "code",
   "execution_count": 12,
   "id": "49216417",
   "metadata": {
    "ExecuteTime": {
     "end_time": "2021-10-23T15:01:57.425463Z",
     "start_time": "2021-10-23T15:01:56.116828Z"
    }
   },
   "outputs": [
    {
     "data": {
      "image/png": "[encoded data removed]",
      "text/plain": [
       "<Figure size 288x432 with 3 Axes>"
      ]
     },
     "metadata": {
      "needs_background": "light"
     },
     "output_type": "display_data"
    }
   ],
   "source": [
    "g = sns.FacetGrid(results, col='type', col_wrap=1, \n",
    "                  height=2, aspect=2)\n",
    "g.map(plt.hist, 'idade', range=[0, 100], bins=40)\n",
    "g.set_axis_labels('idade', 'Count')\n",
    "g.set_titles('{col_name}')\n",
    "\n",
    "plt.tight_layout()\n",
    "plt.show()"
   ]
  },
  {
   "cell_type": "code",
   "execution_count": 13,
   "id": "ab6e3814",
   "metadata": {
    "ExecuteTime": {
     "end_time": "2021-10-23T15:01:57.788583Z",
     "start_time": "2021-10-23T15:01:57.426429Z"
    }
   },
   "outputs": [
    {
     "data": {
      "text/plain": [
       "<AxesSubplot:xlabel='Idade', ylabel='Count'>"
      ]
     },
     "execution_count": 13,
     "metadata": {},
     "output_type": "execute_result"
    },
    {
     "data": {
      "image/png": "[encoded data removed]",
      "text/plain": [
       "<Figure size 432x288 with 1 Axes>"
      ]
     },
     "metadata": {
      "needs_background": "light"
     },
     "output_type": "display_data"
    }
   ],
   "source": [
    "sns.histplot(df['Idade'])"
   ]
  },
  {
   "attachments": {
    "image.png": {
     "image/png": "[encoded data removed]"
    }
   },
   "cell_type": "markdown",
   "id": "6954566f",
   "metadata": {},
   "source": [
    "![image.png](attachment:image.png)"
   ]
  },
  {
   "cell_type": "markdown",
   "id": "e6918861",
   "metadata": {},
   "source": [
    "Usar amostras é uma vantagem. Porém tem que tomar alguns cuidados = VIÉS"
   ]
  },
  {
   "cell_type": "markdown",
   "id": "10a9282f",
   "metadata": {},
   "source": [
    "## 1.1.Definições\n",
    "\n",
    "**População** ou **Universo**: é o conjunto de todas as unidades elementares de interesse: o todo. A população sempre deve ser definida claramente e em termos da informação que se pretende conhecer;\n",
    "\n",
    "**Unidade**: trata-se de qualquer elemento da população;\n",
    "\n",
    "**Amostra**: uma parte ou subconjunto da população;\n",
    "\n",
    "**Censo**: observação de todos os elementos da população;\n",
    "\n",
    "**Parâmetro Populacional**: é o vetor correspondente a todos os valores de uma variável de interesse. Pode ser qualitativa (gosto musical, opinião sobre o governo, etc) ou quantitativa (média, proporção, quantidade, etc).\n",
    "\n",
    "Todas as informações obtidas através de dados amostrais, ou seja, que não abrangem o todo da população de interesse, são baseadas em estimativas.\n",
    "\n",
    "**Estimadores pontuais**: são valores que **estimam** os parâmetros populacionais, calculados com base em uma amostra.\n",
    "<br>\n",
    "\n",
    "- Exemplos de parâmetros populacionais: \n",
    "    - média: $\\mu$\n",
    "    - diferença de médias: $\\mu_1 - \\mu_2$\n",
    "    - proporção: $p$\n",
    "    - diferença de proporções: $p1 - p2$\n",
    "    \n",
    "- Exemplos de estimadores de ponto: \n",
    "    - média: $\\bar{x}$\n",
    "    - diferença de médias: $\\bar{x}_1 - \\bar{x}_2$\n",
    "    - proporção: $\\hat{p}$\n",
    "    - diferença de proporções: $\\hat{p}_1 - \\hat{p}_2$\n",
    "    \n",
    "## 1.2.Tipos de Amostragem\n",
    "\n",
    "- **Amostra probabilística**: todos os elementos da população apresentam probabilidade maior que zero de serem selecionados. (aleatória simples, estratificada, sistemática e por conglomerados)\n",
    "\n",
    "\n",
    "- **Amostra não probabilística**: quando não há probabilidade clara/conhecida de seleção dos elementos. Os elementos são escolhidos de forma julgamental. (acidental, intencional, por cotas)\n",
    "\n",
    "Aqui, abordaremos apenas os métodos relacionados à **amostragem probabilística**, com o objetivo de obter uma **amostra representativa**. \n",
    "\n",
    "Uma amostra é considerada representativa quando consegue **refletir as características da população**.\n",
    "\n",
    "Vamos ver os principais **métodos de amostragem**:    "
   ]
  },
  {
   "cell_type": "markdown",
   "id": "750f9dd9",
   "metadata": {},
   "source": [
    "## 2.Métodos de Amostragem\n",
    "\n",
    "## 2.1. Amostra Aleatória Simples\n",
    "\n",
    "<font color='blue'> \"Dá a mesma chance a todos os membros de uma pouplação de ser selecionado, além de utilizar alguns mecanismos de causalidade para escolhê-los\"</font>\n",
    "\n",
    "\n",
    "Este é o método mais simples e mais importante de seleção de uma amostra, pois pode ser usada em combinação com outros métodos. A premissa assumida é que a população é homogênea com relação à característica de interesse.\n",
    "\n",
    "A amostra aleatória simples pode ser realizada com ou sem reposição. No caso em que há reposição, cada elemento pode ser sorteado mais de uma vez. Para exemplificar, suponha que se queira sortear um número aleatório de uma urna, se for uma Amostra Aleatória Simples com reposição,  este número voltará para urna para participar do próximo sorteio. Se não houver reposição, cada elemento só poderá ser selecionado uma vez para compor a amostra.\n",
    " \n",
    "Considere uma população formada por $N$ elementos (conhecido e finito). Este método consiste em selecionar $n$ elementos, sendo que cada elemento tem a mesma probabilidade de ser selecionado.\n",
    "\n",
    "<img src=\"http://khsapstats.weebly.com/uploads/3/8/5/3/3853479/6057546.gif?242\" width=400>\n",
    "\n",
    "**Exemplo**: Considere uma população formada por 20 alunos. Selecionar de forma aleatória 5 alunos, **sem reposição**:"
   ]
  },
  {
   "cell_type": "code",
   "execution_count": 14,
   "id": "2d9566a0",
   "metadata": {
    "ExecuteTime": {
     "end_time": "2021-10-23T15:01:57.804526Z",
     "start_time": "2021-10-23T15:01:57.790546Z"
    }
   },
   "outputs": [
    {
     "name": "stdout",
     "output_type": "stream",
     "text": [
      "População:  [0, 1, 2, 3, 4, 5, 6, 7, 8, 9, 10, 11, 12, 13, 14, 15, 16, 17, 18, 19] \n",
      "\n",
      "Amostra:  [19, 0, 16, 11, 17]\n"
     ]
    }
   ],
   "source": [
    "import random\n",
    "\n",
    "pop = list(range(20))\n",
    "print(\"População: \", pop, \"\\n\")\n",
    "\n",
    "amostra = random.sample(pop, 5)\n",
    "print(\"Amostra: \", amostra)"
   ]
  },
  {
   "cell_type": "code",
   "execution_count": 15,
   "id": "87b6ee47",
   "metadata": {
    "ExecuteTime": {
     "end_time": "2021-10-23T15:01:57.898265Z",
     "start_time": "2021-10-23T15:01:57.805507Z"
    }
   },
   "outputs": [
    {
     "data": {
      "text/plain": [
       "[1, 2, 3, 4, 5, 6, 7, 8, 9, 10, 11, 12, 13, 14, 15, 16, 17, 18, 19, 20]"
      ]
     },
     "execution_count": 15,
     "metadata": {},
     "output_type": "execute_result"
    }
   ],
   "source": [
    "alunos = list(range(1,21))\n",
    "alunos"
   ]
  },
  {
   "cell_type": "code",
   "execution_count": 16,
   "id": "a635d478",
   "metadata": {
    "ExecuteTime": {
     "end_time": "2021-10-23T15:01:57.976051Z",
     "start_time": "2021-10-23T15:01:57.902250Z"
    }
   },
   "outputs": [
    {
     "name": "stdout",
     "output_type": "stream",
     "text": [
      "3\n"
     ]
    },
    {
     "data": {
      "text/plain": [
       "array([20,  4, 19,  7, 14])"
      ]
     },
     "execution_count": 16,
     "metadata": {},
     "output_type": "execute_result"
    }
   ],
   "source": [
    "from numpy.random import choice\n",
    "\n",
    "np.random.seed(4) #permitir a reprodutibilidade\n",
    "\n",
    "print(np.random.randint(1,7))\n",
    "\n",
    "choice(alunos, size=5, replace=False)"
   ]
  },
  {
   "cell_type": "code",
   "execution_count": 17,
   "id": "e7032a00",
   "metadata": {
    "ExecuteTime": {
     "end_time": "2021-10-23T15:01:58.087036Z",
     "start_time": "2021-10-23T15:01:57.977051Z"
    }
   },
   "outputs": [
    {
     "data": {
      "text/plain": [
       "array([11,  4,  1, 10,  7])"
      ]
     },
     "execution_count": 17,
     "metadata": {},
     "output_type": "execute_result"
    }
   ],
   "source": [
    "choice(alunos, size=5)"
   ]
  },
  {
   "cell_type": "code",
   "execution_count": 18,
   "id": "51a4b7e5",
   "metadata": {
    "ExecuteTime": {
     "end_time": "2021-10-23T15:01:58.165796Z",
     "start_time": "2021-10-23T15:01:58.089994Z"
    }
   },
   "outputs": [
    {
     "data": {
      "text/plain": [
       "[1, 7, 18, 9, 5]"
      ]
     },
     "execution_count": 18,
     "metadata": {},
     "output_type": "execute_result"
    }
   ],
   "source": [
    "from random import sample\n",
    "\n",
    "sample(alunos, k=5)"
   ]
  },
  {
   "cell_type": "markdown",
   "id": "09af6b4e",
   "metadata": {},
   "source": [
    "**Exemplo com dataset**"
   ]
  },
  {
   "cell_type": "code",
   "execution_count": 19,
   "id": "062ca8d6",
   "metadata": {
    "ExecuteTime": {
     "end_time": "2021-10-23T15:01:58.401283Z",
     "start_time": "2021-10-23T15:01:58.168816Z"
    }
   },
   "outputs": [
    {
     "data": {
      "text/html": [
       "<div>\n",
       "<style scoped>\n",
       "    .dataframe tbody tr th:only-of-type {\n",
       "        vertical-align: middle;\n",
       "    }\n",
       "\n",
       "    .dataframe tbody tr th {\n",
       "        vertical-align: top;\n",
       "    }\n",
       "\n",
       "    .dataframe thead th {\n",
       "        text-align: right;\n",
       "    }\n",
       "</style>\n",
       "<table border=\"1\" class=\"dataframe\">\n",
       "  <thead>\n",
       "    <tr style=\"text-align: right;\">\n",
       "      <th></th>\n",
       "      <th>total_bill</th>\n",
       "      <th>tip</th>\n",
       "      <th>sex</th>\n",
       "      <th>smoker</th>\n",
       "      <th>day</th>\n",
       "      <th>time</th>\n",
       "      <th>size</th>\n",
       "    </tr>\n",
       "  </thead>\n",
       "  <tbody>\n",
       "    <tr>\n",
       "      <th>0</th>\n",
       "      <td>16.99</td>\n",
       "      <td>1.01</td>\n",
       "      <td>Female</td>\n",
       "      <td>No</td>\n",
       "      <td>Sun</td>\n",
       "      <td>Dinner</td>\n",
       "      <td>2</td>\n",
       "    </tr>\n",
       "    <tr>\n",
       "      <th>1</th>\n",
       "      <td>10.34</td>\n",
       "      <td>1.66</td>\n",
       "      <td>Male</td>\n",
       "      <td>No</td>\n",
       "      <td>Sun</td>\n",
       "      <td>Dinner</td>\n",
       "      <td>3</td>\n",
       "    </tr>\n",
       "    <tr>\n",
       "      <th>2</th>\n",
       "      <td>21.01</td>\n",
       "      <td>3.50</td>\n",
       "      <td>Male</td>\n",
       "      <td>No</td>\n",
       "      <td>Sun</td>\n",
       "      <td>Dinner</td>\n",
       "      <td>3</td>\n",
       "    </tr>\n",
       "    <tr>\n",
       "      <th>3</th>\n",
       "      <td>23.68</td>\n",
       "      <td>3.31</td>\n",
       "      <td>Male</td>\n",
       "      <td>No</td>\n",
       "      <td>Sun</td>\n",
       "      <td>Dinner</td>\n",
       "      <td>2</td>\n",
       "    </tr>\n",
       "    <tr>\n",
       "      <th>4</th>\n",
       "      <td>24.59</td>\n",
       "      <td>3.61</td>\n",
       "      <td>Female</td>\n",
       "      <td>No</td>\n",
       "      <td>Sun</td>\n",
       "      <td>Dinner</td>\n",
       "      <td>4</td>\n",
       "    </tr>\n",
       "  </tbody>\n",
       "</table>\n",
       "</div>"
      ],
      "text/plain": [
       "   total_bill   tip     sex smoker  day    time  size\n",
       "0       16.99  1.01  Female     No  Sun  Dinner     2\n",
       "1       10.34  1.66    Male     No  Sun  Dinner     3\n",
       "2       21.01  3.50    Male     No  Sun  Dinner     3\n",
       "3       23.68  3.31    Male     No  Sun  Dinner     2\n",
       "4       24.59  3.61  Female     No  Sun  Dinner     4"
      ]
     },
     "execution_count": 19,
     "metadata": {},
     "output_type": "execute_result"
    }
   ],
   "source": [
    "df = sns.load_dataset('tips')\n",
    "\n",
    "df.head()"
   ]
  },
  {
   "cell_type": "code",
   "execution_count": 20,
   "id": "77fa46ae",
   "metadata": {
    "ExecuteTime": {
     "end_time": "2021-10-23T15:01:58.417279Z",
     "start_time": "2021-10-23T15:01:58.403278Z"
    }
   },
   "outputs": [
    {
     "data": {
      "text/plain": [
       "(244, 7)"
      ]
     },
     "execution_count": 20,
     "metadata": {},
     "output_type": "execute_result"
    }
   ],
   "source": [
    "df.shape"
   ]
  },
  {
   "cell_type": "code",
   "execution_count": 21,
   "id": "59050f55",
   "metadata": {
    "ExecuteTime": {
     "end_time": "2021-10-23T15:01:58.524978Z",
     "start_time": "2021-10-23T15:01:58.419238Z"
    },
    "scrolled": false
   },
   "outputs": [
    {
     "data": {
      "text/html": [
       "<div>\n",
       "<style scoped>\n",
       "    .dataframe tbody tr th:only-of-type {\n",
       "        vertical-align: middle;\n",
       "    }\n",
       "\n",
       "    .dataframe tbody tr th {\n",
       "        vertical-align: top;\n",
       "    }\n",
       "\n",
       "    .dataframe thead th {\n",
       "        text-align: right;\n",
       "    }\n",
       "</style>\n",
       "<table border=\"1\" class=\"dataframe\">\n",
       "  <thead>\n",
       "    <tr style=\"text-align: right;\">\n",
       "      <th></th>\n",
       "      <th>total_bill</th>\n",
       "      <th>tip</th>\n",
       "      <th>sex</th>\n",
       "      <th>smoker</th>\n",
       "      <th>day</th>\n",
       "      <th>time</th>\n",
       "      <th>size</th>\n",
       "    </tr>\n",
       "  </thead>\n",
       "  <tbody>\n",
       "    <tr>\n",
       "      <th>48</th>\n",
       "      <td>28.55</td>\n",
       "      <td>2.05</td>\n",
       "      <td>Male</td>\n",
       "      <td>No</td>\n",
       "      <td>Sun</td>\n",
       "      <td>Dinner</td>\n",
       "      <td>3</td>\n",
       "    </tr>\n",
       "    <tr>\n",
       "      <th>216</th>\n",
       "      <td>28.15</td>\n",
       "      <td>3.00</td>\n",
       "      <td>Male</td>\n",
       "      <td>Yes</td>\n",
       "      <td>Sat</td>\n",
       "      <td>Dinner</td>\n",
       "      <td>5</td>\n",
       "    </tr>\n",
       "    <tr>\n",
       "      <th>101</th>\n",
       "      <td>15.38</td>\n",
       "      <td>3.00</td>\n",
       "      <td>Female</td>\n",
       "      <td>Yes</td>\n",
       "      <td>Fri</td>\n",
       "      <td>Dinner</td>\n",
       "      <td>2</td>\n",
       "    </tr>\n",
       "    <tr>\n",
       "      <th>38</th>\n",
       "      <td>18.69</td>\n",
       "      <td>2.31</td>\n",
       "      <td>Male</td>\n",
       "      <td>No</td>\n",
       "      <td>Sat</td>\n",
       "      <td>Dinner</td>\n",
       "      <td>3</td>\n",
       "    </tr>\n",
       "    <tr>\n",
       "      <th>86</th>\n",
       "      <td>13.03</td>\n",
       "      <td>2.00</td>\n",
       "      <td>Male</td>\n",
       "      <td>No</td>\n",
       "      <td>Thur</td>\n",
       "      <td>Lunch</td>\n",
       "      <td>2</td>\n",
       "    </tr>\n",
       "    <tr>\n",
       "      <th>103</th>\n",
       "      <td>22.42</td>\n",
       "      <td>3.48</td>\n",
       "      <td>Female</td>\n",
       "      <td>Yes</td>\n",
       "      <td>Sat</td>\n",
       "      <td>Dinner</td>\n",
       "      <td>2</td>\n",
       "    </tr>\n",
       "    <tr>\n",
       "      <th>78</th>\n",
       "      <td>22.76</td>\n",
       "      <td>3.00</td>\n",
       "      <td>Male</td>\n",
       "      <td>No</td>\n",
       "      <td>Thur</td>\n",
       "      <td>Lunch</td>\n",
       "      <td>2</td>\n",
       "    </tr>\n",
       "    <tr>\n",
       "      <th>198</th>\n",
       "      <td>13.00</td>\n",
       "      <td>2.00</td>\n",
       "      <td>Female</td>\n",
       "      <td>Yes</td>\n",
       "      <td>Thur</td>\n",
       "      <td>Lunch</td>\n",
       "      <td>2</td>\n",
       "    </tr>\n",
       "    <tr>\n",
       "      <th>80</th>\n",
       "      <td>19.44</td>\n",
       "      <td>3.00</td>\n",
       "      <td>Male</td>\n",
       "      <td>Yes</td>\n",
       "      <td>Thur</td>\n",
       "      <td>Lunch</td>\n",
       "      <td>2</td>\n",
       "    </tr>\n",
       "    <tr>\n",
       "      <th>95</th>\n",
       "      <td>40.17</td>\n",
       "      <td>4.73</td>\n",
       "      <td>Male</td>\n",
       "      <td>Yes</td>\n",
       "      <td>Fri</td>\n",
       "      <td>Dinner</td>\n",
       "      <td>4</td>\n",
       "    </tr>\n",
       "    <tr>\n",
       "      <th>174</th>\n",
       "      <td>16.82</td>\n",
       "      <td>4.00</td>\n",
       "      <td>Male</td>\n",
       "      <td>Yes</td>\n",
       "      <td>Sun</td>\n",
       "      <td>Dinner</td>\n",
       "      <td>2</td>\n",
       "    </tr>\n",
       "    <tr>\n",
       "      <th>64</th>\n",
       "      <td>17.59</td>\n",
       "      <td>2.64</td>\n",
       "      <td>Male</td>\n",
       "      <td>No</td>\n",
       "      <td>Sat</td>\n",
       "      <td>Dinner</td>\n",
       "      <td>3</td>\n",
       "    </tr>\n",
       "    <tr>\n",
       "      <th>175</th>\n",
       "      <td>32.90</td>\n",
       "      <td>3.11</td>\n",
       "      <td>Male</td>\n",
       "      <td>Yes</td>\n",
       "      <td>Sun</td>\n",
       "      <td>Dinner</td>\n",
       "      <td>2</td>\n",
       "    </tr>\n",
       "    <tr>\n",
       "      <th>137</th>\n",
       "      <td>14.15</td>\n",
       "      <td>2.00</td>\n",
       "      <td>Female</td>\n",
       "      <td>No</td>\n",
       "      <td>Thur</td>\n",
       "      <td>Lunch</td>\n",
       "      <td>2</td>\n",
       "    </tr>\n",
       "    <tr>\n",
       "      <th>28</th>\n",
       "      <td>21.70</td>\n",
       "      <td>4.30</td>\n",
       "      <td>Male</td>\n",
       "      <td>No</td>\n",
       "      <td>Sat</td>\n",
       "      <td>Dinner</td>\n",
       "      <td>2</td>\n",
       "    </tr>\n",
       "    <tr>\n",
       "      <th>234</th>\n",
       "      <td>15.53</td>\n",
       "      <td>3.00</td>\n",
       "      <td>Male</td>\n",
       "      <td>Yes</td>\n",
       "      <td>Sat</td>\n",
       "      <td>Dinner</td>\n",
       "      <td>2</td>\n",
       "    </tr>\n",
       "    <tr>\n",
       "      <th>37</th>\n",
       "      <td>16.93</td>\n",
       "      <td>3.07</td>\n",
       "      <td>Female</td>\n",
       "      <td>No</td>\n",
       "      <td>Sat</td>\n",
       "      <td>Dinner</td>\n",
       "      <td>3</td>\n",
       "    </tr>\n",
       "    <tr>\n",
       "      <th>87</th>\n",
       "      <td>18.28</td>\n",
       "      <td>4.00</td>\n",
       "      <td>Male</td>\n",
       "      <td>No</td>\n",
       "      <td>Thur</td>\n",
       "      <td>Lunch</td>\n",
       "      <td>2</td>\n",
       "    </tr>\n",
       "    <tr>\n",
       "      <th>157</th>\n",
       "      <td>25.00</td>\n",
       "      <td>3.75</td>\n",
       "      <td>Female</td>\n",
       "      <td>No</td>\n",
       "      <td>Sun</td>\n",
       "      <td>Dinner</td>\n",
       "      <td>4</td>\n",
       "    </tr>\n",
       "    <tr>\n",
       "      <th>54</th>\n",
       "      <td>25.56</td>\n",
       "      <td>4.34</td>\n",
       "      <td>Male</td>\n",
       "      <td>No</td>\n",
       "      <td>Sun</td>\n",
       "      <td>Dinner</td>\n",
       "      <td>4</td>\n",
       "    </tr>\n",
       "    <tr>\n",
       "      <th>208</th>\n",
       "      <td>24.27</td>\n",
       "      <td>2.03</td>\n",
       "      <td>Male</td>\n",
       "      <td>Yes</td>\n",
       "      <td>Sat</td>\n",
       "      <td>Dinner</td>\n",
       "      <td>2</td>\n",
       "    </tr>\n",
       "    <tr>\n",
       "      <th>0</th>\n",
       "      <td>16.99</td>\n",
       "      <td>1.01</td>\n",
       "      <td>Female</td>\n",
       "      <td>No</td>\n",
       "      <td>Sun</td>\n",
       "      <td>Dinner</td>\n",
       "      <td>2</td>\n",
       "    </tr>\n",
       "    <tr>\n",
       "      <th>215</th>\n",
       "      <td>12.90</td>\n",
       "      <td>1.10</td>\n",
       "      <td>Female</td>\n",
       "      <td>Yes</td>\n",
       "      <td>Sat</td>\n",
       "      <td>Dinner</td>\n",
       "      <td>2</td>\n",
       "    </tr>\n",
       "    <tr>\n",
       "      <th>71</th>\n",
       "      <td>17.07</td>\n",
       "      <td>3.00</td>\n",
       "      <td>Female</td>\n",
       "      <td>No</td>\n",
       "      <td>Sat</td>\n",
       "      <td>Dinner</td>\n",
       "      <td>3</td>\n",
       "    </tr>\n",
       "    <tr>\n",
       "      <th>191</th>\n",
       "      <td>19.81</td>\n",
       "      <td>4.19</td>\n",
       "      <td>Female</td>\n",
       "      <td>Yes</td>\n",
       "      <td>Thur</td>\n",
       "      <td>Lunch</td>\n",
       "      <td>2</td>\n",
       "    </tr>\n",
       "    <tr>\n",
       "      <th>156</th>\n",
       "      <td>48.17</td>\n",
       "      <td>5.00</td>\n",
       "      <td>Male</td>\n",
       "      <td>No</td>\n",
       "      <td>Sun</td>\n",
       "      <td>Dinner</td>\n",
       "      <td>6</td>\n",
       "    </tr>\n",
       "    <tr>\n",
       "      <th>183</th>\n",
       "      <td>23.17</td>\n",
       "      <td>6.50</td>\n",
       "      <td>Male</td>\n",
       "      <td>Yes</td>\n",
       "      <td>Sun</td>\n",
       "      <td>Dinner</td>\n",
       "      <td>4</td>\n",
       "    </tr>\n",
       "    <tr>\n",
       "      <th>11</th>\n",
       "      <td>35.26</td>\n",
       "      <td>5.00</td>\n",
       "      <td>Female</td>\n",
       "      <td>No</td>\n",
       "      <td>Sun</td>\n",
       "      <td>Dinner</td>\n",
       "      <td>4</td>\n",
       "    </tr>\n",
       "    <tr>\n",
       "      <th>75</th>\n",
       "      <td>10.51</td>\n",
       "      <td>1.25</td>\n",
       "      <td>Male</td>\n",
       "      <td>No</td>\n",
       "      <td>Sat</td>\n",
       "      <td>Dinner</td>\n",
       "      <td>2</td>\n",
       "    </tr>\n",
       "    <tr>\n",
       "      <th>130</th>\n",
       "      <td>19.08</td>\n",
       "      <td>1.50</td>\n",
       "      <td>Male</td>\n",
       "      <td>No</td>\n",
       "      <td>Thur</td>\n",
       "      <td>Lunch</td>\n",
       "      <td>2</td>\n",
       "    </tr>\n",
       "    <tr>\n",
       "      <th>77</th>\n",
       "      <td>27.20</td>\n",
       "      <td>4.00</td>\n",
       "      <td>Male</td>\n",
       "      <td>No</td>\n",
       "      <td>Thur</td>\n",
       "      <td>Lunch</td>\n",
       "      <td>4</td>\n",
       "    </tr>\n",
       "    <tr>\n",
       "      <th>100</th>\n",
       "      <td>11.35</td>\n",
       "      <td>2.50</td>\n",
       "      <td>Female</td>\n",
       "      <td>Yes</td>\n",
       "      <td>Fri</td>\n",
       "      <td>Dinner</td>\n",
       "      <td>2</td>\n",
       "    </tr>\n",
       "    <tr>\n",
       "      <th>124</th>\n",
       "      <td>12.48</td>\n",
       "      <td>2.52</td>\n",
       "      <td>Female</td>\n",
       "      <td>No</td>\n",
       "      <td>Thur</td>\n",
       "      <td>Lunch</td>\n",
       "      <td>2</td>\n",
       "    </tr>\n",
       "    <tr>\n",
       "      <th>231</th>\n",
       "      <td>15.69</td>\n",
       "      <td>3.00</td>\n",
       "      <td>Male</td>\n",
       "      <td>Yes</td>\n",
       "      <td>Sat</td>\n",
       "      <td>Dinner</td>\n",
       "      <td>3</td>\n",
       "    </tr>\n",
       "    <tr>\n",
       "      <th>81</th>\n",
       "      <td>16.66</td>\n",
       "      <td>3.40</td>\n",
       "      <td>Male</td>\n",
       "      <td>No</td>\n",
       "      <td>Thur</td>\n",
       "      <td>Lunch</td>\n",
       "      <td>2</td>\n",
       "    </tr>\n",
       "    <tr>\n",
       "      <th>153</th>\n",
       "      <td>24.55</td>\n",
       "      <td>2.00</td>\n",
       "      <td>Male</td>\n",
       "      <td>No</td>\n",
       "      <td>Sun</td>\n",
       "      <td>Dinner</td>\n",
       "      <td>4</td>\n",
       "    </tr>\n",
       "    <tr>\n",
       "      <th>98</th>\n",
       "      <td>21.01</td>\n",
       "      <td>3.00</td>\n",
       "      <td>Male</td>\n",
       "      <td>Yes</td>\n",
       "      <td>Fri</td>\n",
       "      <td>Dinner</td>\n",
       "      <td>2</td>\n",
       "    </tr>\n",
       "    <tr>\n",
       "      <th>152</th>\n",
       "      <td>17.26</td>\n",
       "      <td>2.74</td>\n",
       "      <td>Male</td>\n",
       "      <td>No</td>\n",
       "      <td>Sun</td>\n",
       "      <td>Dinner</td>\n",
       "      <td>3</td>\n",
       "    </tr>\n",
       "    <tr>\n",
       "      <th>9</th>\n",
       "      <td>14.78</td>\n",
       "      <td>3.23</td>\n",
       "      <td>Male</td>\n",
       "      <td>No</td>\n",
       "      <td>Sun</td>\n",
       "      <td>Dinner</td>\n",
       "      <td>2</td>\n",
       "    </tr>\n",
       "    <tr>\n",
       "      <th>126</th>\n",
       "      <td>8.52</td>\n",
       "      <td>1.48</td>\n",
       "      <td>Male</td>\n",
       "      <td>No</td>\n",
       "      <td>Thur</td>\n",
       "      <td>Lunch</td>\n",
       "      <td>2</td>\n",
       "    </tr>\n",
       "    <tr>\n",
       "      <th>196</th>\n",
       "      <td>10.34</td>\n",
       "      <td>2.00</td>\n",
       "      <td>Male</td>\n",
       "      <td>Yes</td>\n",
       "      <td>Thur</td>\n",
       "      <td>Lunch</td>\n",
       "      <td>2</td>\n",
       "    </tr>\n",
       "    <tr>\n",
       "      <th>148</th>\n",
       "      <td>9.78</td>\n",
       "      <td>1.73</td>\n",
       "      <td>Male</td>\n",
       "      <td>No</td>\n",
       "      <td>Thur</td>\n",
       "      <td>Lunch</td>\n",
       "      <td>2</td>\n",
       "    </tr>\n",
       "    <tr>\n",
       "      <th>144</th>\n",
       "      <td>16.43</td>\n",
       "      <td>2.30</td>\n",
       "      <td>Female</td>\n",
       "      <td>No</td>\n",
       "      <td>Thur</td>\n",
       "      <td>Lunch</td>\n",
       "      <td>2</td>\n",
       "    </tr>\n",
       "    <tr>\n",
       "      <th>93</th>\n",
       "      <td>16.32</td>\n",
       "      <td>4.30</td>\n",
       "      <td>Female</td>\n",
       "      <td>Yes</td>\n",
       "      <td>Fri</td>\n",
       "      <td>Dinner</td>\n",
       "      <td>2</td>\n",
       "    </tr>\n",
       "    <tr>\n",
       "      <th>194</th>\n",
       "      <td>16.58</td>\n",
       "      <td>4.00</td>\n",
       "      <td>Male</td>\n",
       "      <td>Yes</td>\n",
       "      <td>Thur</td>\n",
       "      <td>Lunch</td>\n",
       "      <td>2</td>\n",
       "    </tr>\n",
       "    <tr>\n",
       "      <th>128</th>\n",
       "      <td>11.38</td>\n",
       "      <td>2.00</td>\n",
       "      <td>Female</td>\n",
       "      <td>No</td>\n",
       "      <td>Thur</td>\n",
       "      <td>Lunch</td>\n",
       "      <td>2</td>\n",
       "    </tr>\n",
       "    <tr>\n",
       "      <th>186</th>\n",
       "      <td>20.90</td>\n",
       "      <td>3.50</td>\n",
       "      <td>Female</td>\n",
       "      <td>Yes</td>\n",
       "      <td>Sun</td>\n",
       "      <td>Dinner</td>\n",
       "      <td>3</td>\n",
       "    </tr>\n",
       "    <tr>\n",
       "      <th>180</th>\n",
       "      <td>34.65</td>\n",
       "      <td>3.68</td>\n",
       "      <td>Male</td>\n",
       "      <td>Yes</td>\n",
       "      <td>Sun</td>\n",
       "      <td>Dinner</td>\n",
       "      <td>4</td>\n",
       "    </tr>\n",
       "    <tr>\n",
       "      <th>218</th>\n",
       "      <td>7.74</td>\n",
       "      <td>1.44</td>\n",
       "      <td>Male</td>\n",
       "      <td>Yes</td>\n",
       "      <td>Sat</td>\n",
       "      <td>Dinner</td>\n",
       "      <td>2</td>\n",
       "    </tr>\n",
       "    <tr>\n",
       "      <th>161</th>\n",
       "      <td>12.66</td>\n",
       "      <td>2.50</td>\n",
       "      <td>Male</td>\n",
       "      <td>No</td>\n",
       "      <td>Sun</td>\n",
       "      <td>Dinner</td>\n",
       "      <td>2</td>\n",
       "    </tr>\n",
       "  </tbody>\n",
       "</table>\n",
       "</div>"
      ],
      "text/plain": [
       "     total_bill   tip     sex smoker   day    time  size\n",
       "48        28.55  2.05    Male     No   Sun  Dinner     3\n",
       "216       28.15  3.00    Male    Yes   Sat  Dinner     5\n",
       "101       15.38  3.00  Female    Yes   Fri  Dinner     2\n",
       "38        18.69  2.31    Male     No   Sat  Dinner     3\n",
       "86        13.03  2.00    Male     No  Thur   Lunch     2\n",
       "103       22.42  3.48  Female    Yes   Sat  Dinner     2\n",
       "78        22.76  3.00    Male     No  Thur   Lunch     2\n",
       "198       13.00  2.00  Female    Yes  Thur   Lunch     2\n",
       "80        19.44  3.00    Male    Yes  Thur   Lunch     2\n",
       "95        40.17  4.73    Male    Yes   Fri  Dinner     4\n",
       "174       16.82  4.00    Male    Yes   Sun  Dinner     2\n",
       "64        17.59  2.64    Male     No   Sat  Dinner     3\n",
       "175       32.90  3.11    Male    Yes   Sun  Dinner     2\n",
       "137       14.15  2.00  Female     No  Thur   Lunch     2\n",
       "28        21.70  4.30    Male     No   Sat  Dinner     2\n",
       "234       15.53  3.00    Male    Yes   Sat  Dinner     2\n",
       "37        16.93  3.07  Female     No   Sat  Dinner     3\n",
       "87        18.28  4.00    Male     No  Thur   Lunch     2\n",
       "157       25.00  3.75  Female     No   Sun  Dinner     4\n",
       "54        25.56  4.34    Male     No   Sun  Dinner     4\n",
       "208       24.27  2.03    Male    Yes   Sat  Dinner     2\n",
       "0         16.99  1.01  Female     No   Sun  Dinner     2\n",
       "215       12.90  1.10  Female    Yes   Sat  Dinner     2\n",
       "71        17.07  3.00  Female     No   Sat  Dinner     3\n",
       "191       19.81  4.19  Female    Yes  Thur   Lunch     2\n",
       "156       48.17  5.00    Male     No   Sun  Dinner     6\n",
       "183       23.17  6.50    Male    Yes   Sun  Dinner     4\n",
       "11        35.26  5.00  Female     No   Sun  Dinner     4\n",
       "75        10.51  1.25    Male     No   Sat  Dinner     2\n",
       "130       19.08  1.50    Male     No  Thur   Lunch     2\n",
       "77        27.20  4.00    Male     No  Thur   Lunch     4\n",
       "100       11.35  2.50  Female    Yes   Fri  Dinner     2\n",
       "124       12.48  2.52  Female     No  Thur   Lunch     2\n",
       "231       15.69  3.00    Male    Yes   Sat  Dinner     3\n",
       "81        16.66  3.40    Male     No  Thur   Lunch     2\n",
       "153       24.55  2.00    Male     No   Sun  Dinner     4\n",
       "98        21.01  3.00    Male    Yes   Fri  Dinner     2\n",
       "152       17.26  2.74    Male     No   Sun  Dinner     3\n",
       "9         14.78  3.23    Male     No   Sun  Dinner     2\n",
       "126        8.52  1.48    Male     No  Thur   Lunch     2\n",
       "196       10.34  2.00    Male    Yes  Thur   Lunch     2\n",
       "148        9.78  1.73    Male     No  Thur   Lunch     2\n",
       "144       16.43  2.30  Female     No  Thur   Lunch     2\n",
       "93        16.32  4.30  Female    Yes   Fri  Dinner     2\n",
       "194       16.58  4.00    Male    Yes  Thur   Lunch     2\n",
       "128       11.38  2.00  Female     No  Thur   Lunch     2\n",
       "186       20.90  3.50  Female    Yes   Sun  Dinner     3\n",
       "180       34.65  3.68    Male    Yes   Sun  Dinner     4\n",
       "218        7.74  1.44    Male    Yes   Sat  Dinner     2\n",
       "161       12.66  2.50    Male     No   Sun  Dinner     2"
      ]
     },
     "execution_count": 21,
     "metadata": {},
     "output_type": "execute_result"
    }
   ],
   "source": [
    "df_sample = df.sample(n=50, replace=False, random_state=17)\n",
    "df_sample"
   ]
  },
  {
   "cell_type": "code",
   "execution_count": 22,
   "id": "5190e3cf",
   "metadata": {
    "ExecuteTime": {
     "end_time": "2021-10-23T15:01:58.650230Z",
     "start_time": "2021-10-23T15:01:58.526949Z"
    }
   },
   "outputs": [
    {
     "data": {
      "text/html": [
       "<div>\n",
       "<style scoped>\n",
       "    .dataframe tbody tr th:only-of-type {\n",
       "        vertical-align: middle;\n",
       "    }\n",
       "\n",
       "    .dataframe tbody tr th {\n",
       "        vertical-align: top;\n",
       "    }\n",
       "\n",
       "    .dataframe thead th {\n",
       "        text-align: right;\n",
       "    }\n",
       "</style>\n",
       "<table border=\"1\" class=\"dataframe\">\n",
       "  <thead>\n",
       "    <tr style=\"text-align: right;\">\n",
       "      <th></th>\n",
       "      <th>total_bill</th>\n",
       "      <th>tip</th>\n",
       "      <th>sex</th>\n",
       "      <th>smoker</th>\n",
       "      <th>day</th>\n",
       "      <th>time</th>\n",
       "      <th>size</th>\n",
       "    </tr>\n",
       "  </thead>\n",
       "  <tbody>\n",
       "    <tr>\n",
       "      <th>0</th>\n",
       "      <td>28.55</td>\n",
       "      <td>2.05</td>\n",
       "      <td>Male</td>\n",
       "      <td>No</td>\n",
       "      <td>Sun</td>\n",
       "      <td>Dinner</td>\n",
       "      <td>3</td>\n",
       "    </tr>\n",
       "    <tr>\n",
       "      <th>1</th>\n",
       "      <td>28.15</td>\n",
       "      <td>3.00</td>\n",
       "      <td>Male</td>\n",
       "      <td>Yes</td>\n",
       "      <td>Sat</td>\n",
       "      <td>Dinner</td>\n",
       "      <td>5</td>\n",
       "    </tr>\n",
       "    <tr>\n",
       "      <th>2</th>\n",
       "      <td>15.38</td>\n",
       "      <td>3.00</td>\n",
       "      <td>Female</td>\n",
       "      <td>Yes</td>\n",
       "      <td>Fri</td>\n",
       "      <td>Dinner</td>\n",
       "      <td>2</td>\n",
       "    </tr>\n",
       "    <tr>\n",
       "      <th>3</th>\n",
       "      <td>18.69</td>\n",
       "      <td>2.31</td>\n",
       "      <td>Male</td>\n",
       "      <td>No</td>\n",
       "      <td>Sat</td>\n",
       "      <td>Dinner</td>\n",
       "      <td>3</td>\n",
       "    </tr>\n",
       "    <tr>\n",
       "      <th>4</th>\n",
       "      <td>13.03</td>\n",
       "      <td>2.00</td>\n",
       "      <td>Male</td>\n",
       "      <td>No</td>\n",
       "      <td>Thur</td>\n",
       "      <td>Lunch</td>\n",
       "      <td>2</td>\n",
       "    </tr>\n",
       "    <tr>\n",
       "      <th>5</th>\n",
       "      <td>22.42</td>\n",
       "      <td>3.48</td>\n",
       "      <td>Female</td>\n",
       "      <td>Yes</td>\n",
       "      <td>Sat</td>\n",
       "      <td>Dinner</td>\n",
       "      <td>2</td>\n",
       "    </tr>\n",
       "    <tr>\n",
       "      <th>6</th>\n",
       "      <td>22.76</td>\n",
       "      <td>3.00</td>\n",
       "      <td>Male</td>\n",
       "      <td>No</td>\n",
       "      <td>Thur</td>\n",
       "      <td>Lunch</td>\n",
       "      <td>2</td>\n",
       "    </tr>\n",
       "    <tr>\n",
       "      <th>7</th>\n",
       "      <td>13.00</td>\n",
       "      <td>2.00</td>\n",
       "      <td>Female</td>\n",
       "      <td>Yes</td>\n",
       "      <td>Thur</td>\n",
       "      <td>Lunch</td>\n",
       "      <td>2</td>\n",
       "    </tr>\n",
       "    <tr>\n",
       "      <th>8</th>\n",
       "      <td>19.44</td>\n",
       "      <td>3.00</td>\n",
       "      <td>Male</td>\n",
       "      <td>Yes</td>\n",
       "      <td>Thur</td>\n",
       "      <td>Lunch</td>\n",
       "      <td>2</td>\n",
       "    </tr>\n",
       "    <tr>\n",
       "      <th>9</th>\n",
       "      <td>40.17</td>\n",
       "      <td>4.73</td>\n",
       "      <td>Male</td>\n",
       "      <td>Yes</td>\n",
       "      <td>Fri</td>\n",
       "      <td>Dinner</td>\n",
       "      <td>4</td>\n",
       "    </tr>\n",
       "    <tr>\n",
       "      <th>10</th>\n",
       "      <td>16.82</td>\n",
       "      <td>4.00</td>\n",
       "      <td>Male</td>\n",
       "      <td>Yes</td>\n",
       "      <td>Sun</td>\n",
       "      <td>Dinner</td>\n",
       "      <td>2</td>\n",
       "    </tr>\n",
       "    <tr>\n",
       "      <th>11</th>\n",
       "      <td>17.59</td>\n",
       "      <td>2.64</td>\n",
       "      <td>Male</td>\n",
       "      <td>No</td>\n",
       "      <td>Sat</td>\n",
       "      <td>Dinner</td>\n",
       "      <td>3</td>\n",
       "    </tr>\n",
       "    <tr>\n",
       "      <th>12</th>\n",
       "      <td>32.90</td>\n",
       "      <td>3.11</td>\n",
       "      <td>Male</td>\n",
       "      <td>Yes</td>\n",
       "      <td>Sun</td>\n",
       "      <td>Dinner</td>\n",
       "      <td>2</td>\n",
       "    </tr>\n",
       "    <tr>\n",
       "      <th>13</th>\n",
       "      <td>14.15</td>\n",
       "      <td>2.00</td>\n",
       "      <td>Female</td>\n",
       "      <td>No</td>\n",
       "      <td>Thur</td>\n",
       "      <td>Lunch</td>\n",
       "      <td>2</td>\n",
       "    </tr>\n",
       "    <tr>\n",
       "      <th>14</th>\n",
       "      <td>21.70</td>\n",
       "      <td>4.30</td>\n",
       "      <td>Male</td>\n",
       "      <td>No</td>\n",
       "      <td>Sat</td>\n",
       "      <td>Dinner</td>\n",
       "      <td>2</td>\n",
       "    </tr>\n",
       "    <tr>\n",
       "      <th>15</th>\n",
       "      <td>15.53</td>\n",
       "      <td>3.00</td>\n",
       "      <td>Male</td>\n",
       "      <td>Yes</td>\n",
       "      <td>Sat</td>\n",
       "      <td>Dinner</td>\n",
       "      <td>2</td>\n",
       "    </tr>\n",
       "    <tr>\n",
       "      <th>16</th>\n",
       "      <td>16.93</td>\n",
       "      <td>3.07</td>\n",
       "      <td>Female</td>\n",
       "      <td>No</td>\n",
       "      <td>Sat</td>\n",
       "      <td>Dinner</td>\n",
       "      <td>3</td>\n",
       "    </tr>\n",
       "    <tr>\n",
       "      <th>17</th>\n",
       "      <td>18.28</td>\n",
       "      <td>4.00</td>\n",
       "      <td>Male</td>\n",
       "      <td>No</td>\n",
       "      <td>Thur</td>\n",
       "      <td>Lunch</td>\n",
       "      <td>2</td>\n",
       "    </tr>\n",
       "    <tr>\n",
       "      <th>18</th>\n",
       "      <td>25.00</td>\n",
       "      <td>3.75</td>\n",
       "      <td>Female</td>\n",
       "      <td>No</td>\n",
       "      <td>Sun</td>\n",
       "      <td>Dinner</td>\n",
       "      <td>4</td>\n",
       "    </tr>\n",
       "    <tr>\n",
       "      <th>19</th>\n",
       "      <td>25.56</td>\n",
       "      <td>4.34</td>\n",
       "      <td>Male</td>\n",
       "      <td>No</td>\n",
       "      <td>Sun</td>\n",
       "      <td>Dinner</td>\n",
       "      <td>4</td>\n",
       "    </tr>\n",
       "    <tr>\n",
       "      <th>20</th>\n",
       "      <td>24.27</td>\n",
       "      <td>2.03</td>\n",
       "      <td>Male</td>\n",
       "      <td>Yes</td>\n",
       "      <td>Sat</td>\n",
       "      <td>Dinner</td>\n",
       "      <td>2</td>\n",
       "    </tr>\n",
       "    <tr>\n",
       "      <th>21</th>\n",
       "      <td>16.99</td>\n",
       "      <td>1.01</td>\n",
       "      <td>Female</td>\n",
       "      <td>No</td>\n",
       "      <td>Sun</td>\n",
       "      <td>Dinner</td>\n",
       "      <td>2</td>\n",
       "    </tr>\n",
       "    <tr>\n",
       "      <th>22</th>\n",
       "      <td>12.90</td>\n",
       "      <td>1.10</td>\n",
       "      <td>Female</td>\n",
       "      <td>Yes</td>\n",
       "      <td>Sat</td>\n",
       "      <td>Dinner</td>\n",
       "      <td>2</td>\n",
       "    </tr>\n",
       "    <tr>\n",
       "      <th>23</th>\n",
       "      <td>17.07</td>\n",
       "      <td>3.00</td>\n",
       "      <td>Female</td>\n",
       "      <td>No</td>\n",
       "      <td>Sat</td>\n",
       "      <td>Dinner</td>\n",
       "      <td>3</td>\n",
       "    </tr>\n",
       "    <tr>\n",
       "      <th>24</th>\n",
       "      <td>19.81</td>\n",
       "      <td>4.19</td>\n",
       "      <td>Female</td>\n",
       "      <td>Yes</td>\n",
       "      <td>Thur</td>\n",
       "      <td>Lunch</td>\n",
       "      <td>2</td>\n",
       "    </tr>\n",
       "    <tr>\n",
       "      <th>25</th>\n",
       "      <td>48.17</td>\n",
       "      <td>5.00</td>\n",
       "      <td>Male</td>\n",
       "      <td>No</td>\n",
       "      <td>Sun</td>\n",
       "      <td>Dinner</td>\n",
       "      <td>6</td>\n",
       "    </tr>\n",
       "    <tr>\n",
       "      <th>26</th>\n",
       "      <td>23.17</td>\n",
       "      <td>6.50</td>\n",
       "      <td>Male</td>\n",
       "      <td>Yes</td>\n",
       "      <td>Sun</td>\n",
       "      <td>Dinner</td>\n",
       "      <td>4</td>\n",
       "    </tr>\n",
       "    <tr>\n",
       "      <th>27</th>\n",
       "      <td>35.26</td>\n",
       "      <td>5.00</td>\n",
       "      <td>Female</td>\n",
       "      <td>No</td>\n",
       "      <td>Sun</td>\n",
       "      <td>Dinner</td>\n",
       "      <td>4</td>\n",
       "    </tr>\n",
       "    <tr>\n",
       "      <th>28</th>\n",
       "      <td>10.51</td>\n",
       "      <td>1.25</td>\n",
       "      <td>Male</td>\n",
       "      <td>No</td>\n",
       "      <td>Sat</td>\n",
       "      <td>Dinner</td>\n",
       "      <td>2</td>\n",
       "    </tr>\n",
       "    <tr>\n",
       "      <th>29</th>\n",
       "      <td>19.08</td>\n",
       "      <td>1.50</td>\n",
       "      <td>Male</td>\n",
       "      <td>No</td>\n",
       "      <td>Thur</td>\n",
       "      <td>Lunch</td>\n",
       "      <td>2</td>\n",
       "    </tr>\n",
       "    <tr>\n",
       "      <th>30</th>\n",
       "      <td>27.20</td>\n",
       "      <td>4.00</td>\n",
       "      <td>Male</td>\n",
       "      <td>No</td>\n",
       "      <td>Thur</td>\n",
       "      <td>Lunch</td>\n",
       "      <td>4</td>\n",
       "    </tr>\n",
       "    <tr>\n",
       "      <th>31</th>\n",
       "      <td>11.35</td>\n",
       "      <td>2.50</td>\n",
       "      <td>Female</td>\n",
       "      <td>Yes</td>\n",
       "      <td>Fri</td>\n",
       "      <td>Dinner</td>\n",
       "      <td>2</td>\n",
       "    </tr>\n",
       "    <tr>\n",
       "      <th>32</th>\n",
       "      <td>12.48</td>\n",
       "      <td>2.52</td>\n",
       "      <td>Female</td>\n",
       "      <td>No</td>\n",
       "      <td>Thur</td>\n",
       "      <td>Lunch</td>\n",
       "      <td>2</td>\n",
       "    </tr>\n",
       "    <tr>\n",
       "      <th>33</th>\n",
       "      <td>15.69</td>\n",
       "      <td>3.00</td>\n",
       "      <td>Male</td>\n",
       "      <td>Yes</td>\n",
       "      <td>Sat</td>\n",
       "      <td>Dinner</td>\n",
       "      <td>3</td>\n",
       "    </tr>\n",
       "    <tr>\n",
       "      <th>34</th>\n",
       "      <td>16.66</td>\n",
       "      <td>3.40</td>\n",
       "      <td>Male</td>\n",
       "      <td>No</td>\n",
       "      <td>Thur</td>\n",
       "      <td>Lunch</td>\n",
       "      <td>2</td>\n",
       "    </tr>\n",
       "    <tr>\n",
       "      <th>35</th>\n",
       "      <td>24.55</td>\n",
       "      <td>2.00</td>\n",
       "      <td>Male</td>\n",
       "      <td>No</td>\n",
       "      <td>Sun</td>\n",
       "      <td>Dinner</td>\n",
       "      <td>4</td>\n",
       "    </tr>\n",
       "    <tr>\n",
       "      <th>36</th>\n",
       "      <td>21.01</td>\n",
       "      <td>3.00</td>\n",
       "      <td>Male</td>\n",
       "      <td>Yes</td>\n",
       "      <td>Fri</td>\n",
       "      <td>Dinner</td>\n",
       "      <td>2</td>\n",
       "    </tr>\n",
       "    <tr>\n",
       "      <th>37</th>\n",
       "      <td>17.26</td>\n",
       "      <td>2.74</td>\n",
       "      <td>Male</td>\n",
       "      <td>No</td>\n",
       "      <td>Sun</td>\n",
       "      <td>Dinner</td>\n",
       "      <td>3</td>\n",
       "    </tr>\n",
       "    <tr>\n",
       "      <th>38</th>\n",
       "      <td>14.78</td>\n",
       "      <td>3.23</td>\n",
       "      <td>Male</td>\n",
       "      <td>No</td>\n",
       "      <td>Sun</td>\n",
       "      <td>Dinner</td>\n",
       "      <td>2</td>\n",
       "    </tr>\n",
       "    <tr>\n",
       "      <th>39</th>\n",
       "      <td>8.52</td>\n",
       "      <td>1.48</td>\n",
       "      <td>Male</td>\n",
       "      <td>No</td>\n",
       "      <td>Thur</td>\n",
       "      <td>Lunch</td>\n",
       "      <td>2</td>\n",
       "    </tr>\n",
       "    <tr>\n",
       "      <th>40</th>\n",
       "      <td>10.34</td>\n",
       "      <td>2.00</td>\n",
       "      <td>Male</td>\n",
       "      <td>Yes</td>\n",
       "      <td>Thur</td>\n",
       "      <td>Lunch</td>\n",
       "      <td>2</td>\n",
       "    </tr>\n",
       "    <tr>\n",
       "      <th>41</th>\n",
       "      <td>9.78</td>\n",
       "      <td>1.73</td>\n",
       "      <td>Male</td>\n",
       "      <td>No</td>\n",
       "      <td>Thur</td>\n",
       "      <td>Lunch</td>\n",
       "      <td>2</td>\n",
       "    </tr>\n",
       "    <tr>\n",
       "      <th>42</th>\n",
       "      <td>16.43</td>\n",
       "      <td>2.30</td>\n",
       "      <td>Female</td>\n",
       "      <td>No</td>\n",
       "      <td>Thur</td>\n",
       "      <td>Lunch</td>\n",
       "      <td>2</td>\n",
       "    </tr>\n",
       "    <tr>\n",
       "      <th>43</th>\n",
       "      <td>16.32</td>\n",
       "      <td>4.30</td>\n",
       "      <td>Female</td>\n",
       "      <td>Yes</td>\n",
       "      <td>Fri</td>\n",
       "      <td>Dinner</td>\n",
       "      <td>2</td>\n",
       "    </tr>\n",
       "    <tr>\n",
       "      <th>44</th>\n",
       "      <td>16.58</td>\n",
       "      <td>4.00</td>\n",
       "      <td>Male</td>\n",
       "      <td>Yes</td>\n",
       "      <td>Thur</td>\n",
       "      <td>Lunch</td>\n",
       "      <td>2</td>\n",
       "    </tr>\n",
       "    <tr>\n",
       "      <th>45</th>\n",
       "      <td>11.38</td>\n",
       "      <td>2.00</td>\n",
       "      <td>Female</td>\n",
       "      <td>No</td>\n",
       "      <td>Thur</td>\n",
       "      <td>Lunch</td>\n",
       "      <td>2</td>\n",
       "    </tr>\n",
       "    <tr>\n",
       "      <th>46</th>\n",
       "      <td>20.90</td>\n",
       "      <td>3.50</td>\n",
       "      <td>Female</td>\n",
       "      <td>Yes</td>\n",
       "      <td>Sun</td>\n",
       "      <td>Dinner</td>\n",
       "      <td>3</td>\n",
       "    </tr>\n",
       "    <tr>\n",
       "      <th>47</th>\n",
       "      <td>34.65</td>\n",
       "      <td>3.68</td>\n",
       "      <td>Male</td>\n",
       "      <td>Yes</td>\n",
       "      <td>Sun</td>\n",
       "      <td>Dinner</td>\n",
       "      <td>4</td>\n",
       "    </tr>\n",
       "    <tr>\n",
       "      <th>48</th>\n",
       "      <td>7.74</td>\n",
       "      <td>1.44</td>\n",
       "      <td>Male</td>\n",
       "      <td>Yes</td>\n",
       "      <td>Sat</td>\n",
       "      <td>Dinner</td>\n",
       "      <td>2</td>\n",
       "    </tr>\n",
       "    <tr>\n",
       "      <th>49</th>\n",
       "      <td>12.66</td>\n",
       "      <td>2.50</td>\n",
       "      <td>Male</td>\n",
       "      <td>No</td>\n",
       "      <td>Sun</td>\n",
       "      <td>Dinner</td>\n",
       "      <td>2</td>\n",
       "    </tr>\n",
       "  </tbody>\n",
       "</table>\n",
       "</div>"
      ],
      "text/plain": [
       "    total_bill   tip     sex smoker   day    time  size\n",
       "0        28.55  2.05    Male     No   Sun  Dinner     3\n",
       "1        28.15  3.00    Male    Yes   Sat  Dinner     5\n",
       "2        15.38  3.00  Female    Yes   Fri  Dinner     2\n",
       "3        18.69  2.31    Male     No   Sat  Dinner     3\n",
       "4        13.03  2.00    Male     No  Thur   Lunch     2\n",
       "5        22.42  3.48  Female    Yes   Sat  Dinner     2\n",
       "6        22.76  3.00    Male     No  Thur   Lunch     2\n",
       "7        13.00  2.00  Female    Yes  Thur   Lunch     2\n",
       "8        19.44  3.00    Male    Yes  Thur   Lunch     2\n",
       "9        40.17  4.73    Male    Yes   Fri  Dinner     4\n",
       "10       16.82  4.00    Male    Yes   Sun  Dinner     2\n",
       "11       17.59  2.64    Male     No   Sat  Dinner     3\n",
       "12       32.90  3.11    Male    Yes   Sun  Dinner     2\n",
       "13       14.15  2.00  Female     No  Thur   Lunch     2\n",
       "14       21.70  4.30    Male     No   Sat  Dinner     2\n",
       "15       15.53  3.00    Male    Yes   Sat  Dinner     2\n",
       "16       16.93  3.07  Female     No   Sat  Dinner     3\n",
       "17       18.28  4.00    Male     No  Thur   Lunch     2\n",
       "18       25.00  3.75  Female     No   Sun  Dinner     4\n",
       "19       25.56  4.34    Male     No   Sun  Dinner     4\n",
       "20       24.27  2.03    Male    Yes   Sat  Dinner     2\n",
       "21       16.99  1.01  Female     No   Sun  Dinner     2\n",
       "22       12.90  1.10  Female    Yes   Sat  Dinner     2\n",
       "23       17.07  3.00  Female     No   Sat  Dinner     3\n",
       "24       19.81  4.19  Female    Yes  Thur   Lunch     2\n",
       "25       48.17  5.00    Male     No   Sun  Dinner     6\n",
       "26       23.17  6.50    Male    Yes   Sun  Dinner     4\n",
       "27       35.26  5.00  Female     No   Sun  Dinner     4\n",
       "28       10.51  1.25    Male     No   Sat  Dinner     2\n",
       "29       19.08  1.50    Male     No  Thur   Lunch     2\n",
       "30       27.20  4.00    Male     No  Thur   Lunch     4\n",
       "31       11.35  2.50  Female    Yes   Fri  Dinner     2\n",
       "32       12.48  2.52  Female     No  Thur   Lunch     2\n",
       "33       15.69  3.00    Male    Yes   Sat  Dinner     3\n",
       "34       16.66  3.40    Male     No  Thur   Lunch     2\n",
       "35       24.55  2.00    Male     No   Sun  Dinner     4\n",
       "36       21.01  3.00    Male    Yes   Fri  Dinner     2\n",
       "37       17.26  2.74    Male     No   Sun  Dinner     3\n",
       "38       14.78  3.23    Male     No   Sun  Dinner     2\n",
       "39        8.52  1.48    Male     No  Thur   Lunch     2\n",
       "40       10.34  2.00    Male    Yes  Thur   Lunch     2\n",
       "41        9.78  1.73    Male     No  Thur   Lunch     2\n",
       "42       16.43  2.30  Female     No  Thur   Lunch     2\n",
       "43       16.32  4.30  Female    Yes   Fri  Dinner     2\n",
       "44       16.58  4.00    Male    Yes  Thur   Lunch     2\n",
       "45       11.38  2.00  Female     No  Thur   Lunch     2\n",
       "46       20.90  3.50  Female    Yes   Sun  Dinner     3\n",
       "47       34.65  3.68    Male    Yes   Sun  Dinner     4\n",
       "48        7.74  1.44    Male    Yes   Sat  Dinner     2\n",
       "49       12.66  2.50    Male     No   Sun  Dinner     2"
      ]
     },
     "execution_count": 22,
     "metadata": {},
     "output_type": "execute_result"
    }
   ],
   "source": [
    "df_sample.index = list(range(50))\n",
    "\n",
    "df_sample"
   ]
  },
  {
   "cell_type": "code",
   "execution_count": 23,
   "id": "500059ba",
   "metadata": {
    "ExecuteTime": {
     "end_time": "2021-10-23T15:01:58.822797Z",
     "start_time": "2021-10-23T15:01:58.653216Z"
    },
    "scrolled": true
   },
   "outputs": [
    {
     "data": {
      "text/plain": [
       "19.78594262295082"
      ]
     },
     "execution_count": 23,
     "metadata": {},
     "output_type": "execute_result"
    }
   ],
   "source": [
    "#Comparar a média da amostra com a média da população\n",
    "df['total_bill'].mean() # média populacional"
   ]
  },
  {
   "cell_type": "code",
   "execution_count": 24,
   "id": "6c5423ee",
   "metadata": {
    "ExecuteTime": {
     "end_time": "2021-10-23T15:01:58.934286Z",
     "start_time": "2021-10-23T15:01:58.824792Z"
    }
   },
   "outputs": [
    {
     "data": {
      "text/plain": [
       "19.5912"
      ]
     },
     "execution_count": 24,
     "metadata": {},
     "output_type": "execute_result"
    }
   ],
   "source": [
    "df_sample['total_bill'].mean()"
   ]
  },
  {
   "cell_type": "markdown",
   "id": "fbf5fbb4",
   "metadata": {},
   "source": [
    "Fizemos uma amostragem aleatória simples"
   ]
  },
  {
   "cell_type": "code",
   "execution_count": 25,
   "id": "8f6b564d",
   "metadata": {
    "ExecuteTime": {
     "end_time": "2021-10-23T15:01:59.044105Z",
     "start_time": "2021-10-23T15:01:58.939272Z"
    }
   },
   "outputs": [
    {
     "data": {
      "text/plain": [
       "Male      0.643443\n",
       "Female    0.356557\n",
       "Name: sex, dtype: float64"
      ]
     },
     "execution_count": 25,
     "metadata": {},
     "output_type": "execute_result"
    }
   ],
   "source": [
    "df['sex'].value_counts(normalize=True)"
   ]
  },
  {
   "cell_type": "code",
   "execution_count": 26,
   "id": "856a27e4",
   "metadata": {
    "ExecuteTime": {
     "end_time": "2021-10-23T15:01:59.249921Z",
     "start_time": "2021-10-23T15:01:59.051086Z"
    }
   },
   "outputs": [
    {
     "data": {
      "text/plain": [
       "Male      0.66\n",
       "Female    0.34\n",
       "Name: sex, dtype: float64"
      ]
     },
     "execution_count": 26,
     "metadata": {},
     "output_type": "execute_result"
    }
   ],
   "source": [
    "df_sample['sex'].value_counts(normalize=True)"
   ]
  },
  {
   "cell_type": "code",
   "execution_count": 27,
   "id": "18ee6c2c",
   "metadata": {
    "ExecuteTime": {
     "end_time": "2021-10-23T15:01:59.406880Z",
     "start_time": "2021-10-23T15:01:59.250920Z"
    }
   },
   "outputs": [
    {
     "name": "stdout",
     "output_type": "stream",
     "text": [
      "Male      0.66\n",
      "Female    0.34\n",
      "Name: sex, dtype: float64\n",
      "Female    0.52\n",
      "Male      0.48\n",
      "Name: sex, dtype: float64\n"
     ]
    }
   ],
   "source": [
    "pesos = np.array(df['sex'].map({ 'Female': 2, 'Male': 1 }).values)\n",
    "\n",
    "pesos = pesos / sum(pesos)\n",
    "\n",
    "df_sample_weights = df.sample(n=50, weights=pesos, random_state=17) # considerando pesos na hora de pegar a amostra\n",
    "\n",
    "print(df_sample['sex'].value_counts(normalize=True))\n",
    "\n",
    "print(df_sample_weights['sex'].value_counts(normalize=True))"
   ]
  },
  {
   "cell_type": "markdown",
   "id": "8817aba9",
   "metadata": {},
   "source": [
    "No caso acima NÃO é uma amostra aleatória simples pois possui pesos no momento da seleção da amostra"
   ]
  },
  {
   "cell_type": "markdown",
   "id": "27ee9a0e",
   "metadata": {},
   "source": [
    "## 2.2. Amostra Sistemática\n",
    "\n",
    "<font color='blue'> \"Os elementos são selecionados seguindo uma regra pré definida\"</font>\n",
    "\n",
    "Usada quando os elementos população estão ordenados (população de lista telefônica, casas em uma rua). \n",
    "\n",
    "Considere uma população de tamanho $N$ e que se queira uma amostra de tamanho $n$. O processo de amostragem deste método consiste em:\n",
    "\n",
    "- Dividir o tamanho populacional em $K$ partes:\n",
    "$$ k = \\frac{N}{n} $$\n",
    "\n",
    "- Definir a posição de início da amostragem (que também será o primeiro elemento da amostra). Para tal fim, é sorteado $i$ com o uso da amostra aleatória simples no intervalo, em que  $i \\in [1, k]$\n",
    "\n",
    "\n",
    "- A partir do elemento selecionado aleatoriamente, é realizada sucessão aritimética para selecionar os $n-1$ indivíduos restantes\n",
    "$$i, i + k, i + 2k, i + 3k, ...., i + (n-1)k$$\n",
    "\n",
    "<img src=\"http://faculty.elgin.edu/dkernler/statistics/ch01/images/sys-sample1.gif\" width=400>"
   ]
  },
  {
   "cell_type": "markdown",
   "id": "972cf539",
   "metadata": {},
   "source": [
    "Exemplo de algoritmo para amostragem sistemática no exemplo de 20 alunos\n",
    "\n",
    "20 elementos na população  \n",
    "5 elementos da amostra\n",
    "\n",
    "passo = 20 / 5 = 4"
   ]
  },
  {
   "cell_type": "code",
   "execution_count": 28,
   "id": "7725f117",
   "metadata": {
    "ExecuteTime": {
     "end_time": "2021-10-23T15:01:59.517467Z",
     "start_time": "2021-10-23T15:01:59.407885Z"
    }
   },
   "outputs": [
    {
     "data": {
      "text/plain": [
       "[1, 2, 3, 4, 5, 6, 7, 8, 9, 10, 11, 12, 13, 14, 15, 16, 17, 18, 19, 20]"
      ]
     },
     "execution_count": 28,
     "metadata": {},
     "output_type": "execute_result"
    }
   ],
   "source": [
    "alunos"
   ]
  },
  {
   "cell_type": "code",
   "execution_count": 29,
   "id": "b90b8ee8",
   "metadata": {
    "ExecuteTime": {
     "end_time": "2021-10-23T15:01:59.595258Z",
     "start_time": "2021-10-23T15:01:59.520458Z"
    }
   },
   "outputs": [
    {
     "data": {
      "text/plain": [
       "9"
      ]
     },
     "execution_count": 29,
     "metadata": {},
     "output_type": "execute_result"
    }
   ],
   "source": [
    "# exemplos de como escolhe um aleatória\n",
    "from random import randint\n",
    "\n",
    "randint(1, 10)"
   ]
  },
  {
   "cell_type": "code",
   "execution_count": 30,
   "id": "bebf152a",
   "metadata": {
    "ExecuteTime": {
     "end_time": "2021-10-23T15:01:59.752624Z",
     "start_time": "2021-10-23T15:01:59.598251Z"
    }
   },
   "outputs": [
    {
     "data": {
      "text/plain": [
       "[1, 5, 9, 13, 17]"
      ]
     },
     "execution_count": 30,
     "metadata": {},
     "output_type": "execute_result"
    }
   ],
   "source": [
    "def amostragem_sistematica(populacao, n):\n",
    "    N = len(populacao)\n",
    "    step = N // n # k escolha de 4 em 4 pq temos 20 amostras e quero 5 elementos\n",
    "    initial_index = randint(0, step - 1) # índice inicial\n",
    "    \n",
    "    amostras = []\n",
    "    \n",
    "    for i in range(initial_index, N, step):\n",
    "        amostras.append(populacao[i])\n",
    "    \n",
    "    return amostras\n",
    "\n",
    "amostragem_sistematica(alunos, 5)"
   ]
  },
  {
   "cell_type": "markdown",
   "id": "965f7d17",
   "metadata": {},
   "source": [
    "## 2.3.Amostra Estratificada\n",
    "\n",
    "<font color='blue'> A população é dividida em estratos homogêneos (grupos com elementos de características comuns) e é selecionada uma amostra aleatória de cada estrato. </font>\n",
    "    \n",
    "Trata-se do método em que a população é dividida em grupos (estratos) segundo alguma(s) característica(s) conhecida(s) na população sob estudo. \n",
    "\n",
    "São exemplos de estrato: gênero, faixa etária, região geográfica, profissão, etc. \n",
    "\n",
    "No geral, é usada quanto a população é heterogênea sob a ótica das características analisadas. \n",
    "\n",
    "Procedimento de amostragem:\n",
    "\n",
    "- Dividir as $N$ unidades da população em $N_1, N_2, \\cdots , N_j$ estratos distintos e homogêneos\n",
    "\n",
    "\n",
    "- Selecionar, ao acaso, uma amostra de tamanhos $n_1, n_2, \\cdots , n_j$ , de modo que o tamanho da amostra seja $n = n_1+n_2+ \\cdots +n_j$. O tamanho amostral pode ser proporcional à representatividade do estrato\n",
    "\n",
    "\n",
    "**Exemplo**: Considere a população formada pelos integrantes de uma escola. Dependendo do objetivo do estudo, esta população poderia ser dividida em alunos, professores, e demais funcionários (grupos mais homogêneos com relação à função na escola). \n",
    "\n",
    "Agora considere que a proporção de cada estrato seja: 50% alunos, 25% professores e 25% servidores. A amostragem poderia ser realizada dentro de cada estrato de forma que o tamanho amostral preserve esta característica. Sendo assim, se amostra total é $n$, a composição será $0,5 \\times n$ de alunos, $0,25\\times n$ de professores e $0,25\\times n$ de servidores.\n",
    "\n",
    "<img src=\"https://faculty.elgin.edu/dkernler/statistics/ch01/images/strata-sample.gif\" width=400>"
   ]
  },
  {
   "cell_type": "code",
   "execution_count": 31,
   "id": "b2c84954",
   "metadata": {
    "ExecuteTime": {
     "end_time": "2021-10-23T15:01:59.847778Z",
     "start_time": "2021-10-23T15:01:59.755607Z"
    }
   },
   "outputs": [
    {
     "name": "stdout",
     "output_type": "stream",
     "text": [
      "Tamanho da amostra de professores: 12.5\n",
      "Tamanho da amostra de alunos: 25.0\n",
      "Tamanho da amostra de servidores: 12.5\n"
     ]
    }
   ],
   "source": [
    "tamanho_amostra = 50\n",
    "\n",
    "print(\"Tamanho da amostra de professores:\", 0.25 * tamanho_amostra)\n",
    "print(\"Tamanho da amostra de alunos:\", 0.5 * tamanho_amostra)\n",
    "print(\"Tamanho da amostra de servidores:\", 0.25 * tamanho_amostra)"
   ]
  },
  {
   "cell_type": "markdown",
   "id": "4f117a48",
   "metadata": {},
   "source": [
    "## 2.4. Amostra por conglomerados\n",
    "\n",
    "<font color='blue'> A população (extensa) é dividia em miniaturas da população (não homgêneas) e seleciona-se uma amostra aleatória desses conglomerados </font>\n",
    "\n",
    "A população é dividida em subpopulações (conglomerados) heterogêneas distintas (quarteirões, residências, famílias, bairros, etc.). Alguns dos conglomerados são selecionados segundo amostra aleatória simples e **todos os elementos** nos conglomerados selecionados são observados. Note que amostragem é feita sobre os conglomerados, e não mais sobre os indivíduos da população. Este procedimento amostral é adequado quando é possível dividir a população em um grande número de pequenas subpopulações.\n",
    "\n",
    "Geralmente este método é usado quando os sistemas de referência da população não são adequados e o custo para atualização é alto, ou quando identificar os elementos da população em campo é cara e consome muito tempo.\n",
    "\n",
    "<img src='http://khsapstats.weebly.com/uploads/3/8/5/3/3853479/4206002.gif' width=400>\n",
    "\n"
   ]
  },
  {
   "attachments": {
    "image.png": {
     "image/png": "[encoded data removed]"
    }
   },
   "cell_type": "markdown",
   "id": "e760d759",
   "metadata": {},
   "source": [
    "**Exemplo**: Suponha que o objetivo de uma pesquisa seja determinar a renda média familiar de moradores de uma cidade. Dificilmente dispõe-se de uma lista de famílias, a unidade elementar da população de interesse. Pode-se usar como sistema de referência a lista de setores censitários do IBGE. Neste caso, os setores censitários seriam os conglomerados.\n",
    "\n",
    "![image.png](attachment:image.png)"
   ]
  },
  {
   "cell_type": "markdown",
   "id": "93b5431c",
   "metadata": {},
   "source": [
    "Então sabemos como coletar os dados. Agora vamos ver como analisar/estimar os dados da população de acordo com a amostra. INFERÊNCIA.\n",
    "\n",
    "Abaixo, uma tabela de estimadores"
   ]
  },
  {
   "attachments": {
    "image.png": {
     "image/png": "[encoded data removed]"
    }
   },
   "cell_type": "markdown",
   "id": "85c5b8c2",
   "metadata": {},
   "source": [
    "![image.png](attachment:image.png)"
   ]
  },
  {
   "cell_type": "markdown",
   "id": "aec8ab0d",
   "metadata": {},
   "source": [
    "Estimação de parâmetros: A estimação é o processo que consiste no uso de\n",
    "dados da amostra (dados amostrais) para estimar valores de parâmetros\n",
    "populacionais desconhecidos, tais como média, desvio padrão, proporções,\n",
    "etc.\n",
    "\n",
    "Estimador: é uma função dos elementos da amostra, que será usada no\n",
    "processo de estimação do parâmetro desejado. O estimador é, como vemos,\n",
    "uma estatística. Será, portanto, uma variável aleatória caracterizada por uma\n",
    "distribuição de probabilidade e seus respectivos parâmetros próprios.\n",
    "\n",
    "O estimador é uma variável aleatória com uma distribuição de probabilidade"
   ]
  },
  {
   "cell_type": "markdown",
   "id": "6585d186",
   "metadata": {},
   "source": [
    "## 3. Tamanho Amostral\n",
    "\n",
    "Ao extrair uma amostra para inferir algo sobre a população, sempre há um erro associado ao **planejamento amostral**. \n",
    "\n",
    "A medida que o **tamanho da amostra aumenta**, o **erro do estimador diminui**\n",
    "\n",
    "Vale ressaltar que uma amostra muito grande pode implicar em custos desnecessários, enquanto que uma amostra pequena pode tornar a pesquisa inconclusiva. \n",
    "\n",
    "Deste modo, o ponto chave de um levantamento amostral é determinar **o tamanho adequado da amostra** para que **os estimadores pontuais** sejam **estimados com confiança**!\n",
    "\n",
    "Ou seja, queremos responder à pergunta:\n",
    "\n",
    "> O quão confiantes estamos com relação aos estimadores pontuais que calcularmos com base em uma amostra?\n",
    "\n",
    "Ou seja,\n",
    "\n",
    "- A partir de $\\bar{x}$, o que eu posso **inferir** sobre $\\mu$?\n",
    "\n",
    "- Ou, a partir de $\\hat{p}$, o que eu posso **inferir** sobre $p$?\n",
    "\n",
    "Para responder a estas perguntas, vamos introduzir uma das ideias mais poderosas da estatística: o **teorema central do limite** e voltaremos para calcular o tamanho da amostra"
   ]
  },
  {
   "cell_type": "markdown",
   "id": "76a08bba",
   "metadata": {},
   "source": [
    "**Exemplo**: Considere o exemplo em que se queira estimar a média da variável \"Petal length\" (base iris). O gráfico mostra que a relação entre tamanho da amostra e erro amostral não é linear, corroborando o que será discutido nesta seção."
   ]
  },
  {
   "cell_type": "code",
   "execution_count": 32,
   "id": "73fa9b8d",
   "metadata": {
    "ExecuteTime": {
     "end_time": "2021-10-23T15:02:00.053150Z",
     "start_time": "2021-10-23T15:01:59.849775Z"
    }
   },
   "outputs": [
    {
     "data": {
      "text/html": [
       "<div>\n",
       "<style scoped>\n",
       "    .dataframe tbody tr th:only-of-type {\n",
       "        vertical-align: middle;\n",
       "    }\n",
       "\n",
       "    .dataframe tbody tr th {\n",
       "        vertical-align: top;\n",
       "    }\n",
       "\n",
       "    .dataframe thead th {\n",
       "        text-align: right;\n",
       "    }\n",
       "</style>\n",
       "<table border=\"1\" class=\"dataframe\">\n",
       "  <thead>\n",
       "    <tr style=\"text-align: right;\">\n",
       "      <th></th>\n",
       "      <th>sepal_length</th>\n",
       "      <th>sepal_width</th>\n",
       "      <th>petal_length</th>\n",
       "      <th>petal_width</th>\n",
       "      <th>species</th>\n",
       "    </tr>\n",
       "  </thead>\n",
       "  <tbody>\n",
       "    <tr>\n",
       "      <th>0</th>\n",
       "      <td>5.1</td>\n",
       "      <td>3.5</td>\n",
       "      <td>1.4</td>\n",
       "      <td>0.2</td>\n",
       "      <td>setosa</td>\n",
       "    </tr>\n",
       "    <tr>\n",
       "      <th>1</th>\n",
       "      <td>4.9</td>\n",
       "      <td>3.0</td>\n",
       "      <td>1.4</td>\n",
       "      <td>0.2</td>\n",
       "      <td>setosa</td>\n",
       "    </tr>\n",
       "    <tr>\n",
       "      <th>2</th>\n",
       "      <td>4.7</td>\n",
       "      <td>3.2</td>\n",
       "      <td>1.3</td>\n",
       "      <td>0.2</td>\n",
       "      <td>setosa</td>\n",
       "    </tr>\n",
       "    <tr>\n",
       "      <th>3</th>\n",
       "      <td>4.6</td>\n",
       "      <td>3.1</td>\n",
       "      <td>1.5</td>\n",
       "      <td>0.2</td>\n",
       "      <td>setosa</td>\n",
       "    </tr>\n",
       "    <tr>\n",
       "      <th>4</th>\n",
       "      <td>5.0</td>\n",
       "      <td>3.6</td>\n",
       "      <td>1.4</td>\n",
       "      <td>0.2</td>\n",
       "      <td>setosa</td>\n",
       "    </tr>\n",
       "  </tbody>\n",
       "</table>\n",
       "</div>"
      ],
      "text/plain": [
       "   sepal_length  sepal_width  petal_length  petal_width species\n",
       "0           5.1          3.5           1.4          0.2  setosa\n",
       "1           4.9          3.0           1.4          0.2  setosa\n",
       "2           4.7          3.2           1.3          0.2  setosa\n",
       "3           4.6          3.1           1.5          0.2  setosa\n",
       "4           5.0          3.6           1.4          0.2  setosa"
      ]
     },
     "execution_count": 32,
     "metadata": {},
     "output_type": "execute_result"
    }
   ],
   "source": [
    "df = sns.load_dataset('iris')\n",
    "df.head()"
   ]
  },
  {
   "cell_type": "code",
   "execution_count": 33,
   "id": "328bc347",
   "metadata": {
    "ExecuteTime": {
     "end_time": "2021-10-23T15:02:00.100686Z",
     "start_time": "2021-10-23T15:02:00.054148Z"
    }
   },
   "outputs": [
    {
     "data": {
      "text/plain": [
       "(150, 5)"
      ]
     },
     "execution_count": 33,
     "metadata": {},
     "output_type": "execute_result"
    }
   ],
   "source": [
    "df.shape"
   ]
  },
  {
   "cell_type": "code",
   "execution_count": 34,
   "id": "dbed2fd2",
   "metadata": {
    "ExecuteTime": {
     "end_time": "2021-10-23T15:02:00.180542Z",
     "start_time": "2021-10-23T15:02:00.103687Z"
    }
   },
   "outputs": [
    {
     "data": {
      "text/plain": [
       "3.7580000000000005"
      ]
     },
     "execution_count": 34,
     "metadata": {},
     "output_type": "execute_result"
    }
   ],
   "source": [
    "pop_mean = df['petal_length'].mean()\n",
    "pop_mean"
   ]
  },
  {
   "cell_type": "code",
   "execution_count": 35,
   "id": "6e02e164",
   "metadata": {
    "ExecuteTime": {
     "end_time": "2021-10-23T15:02:00.289600Z",
     "start_time": "2021-10-23T15:02:00.182519Z"
    }
   },
   "outputs": [
    {
     "data": {
      "text/plain": [
       "3.8"
      ]
     },
     "execution_count": 35,
     "metadata": {},
     "output_type": "execute_result"
    }
   ],
   "source": [
    "df.sample(n=2)['petal_length'].mean()"
   ]
  },
  {
   "cell_type": "code",
   "execution_count": 36,
   "id": "db10b0fd",
   "metadata": {
    "ExecuteTime": {
     "end_time": "2021-10-23T15:02:00.732874Z",
     "start_time": "2021-10-23T15:02:00.291615Z"
    }
   },
   "outputs": [
    {
     "data": {
      "text/html": [
       "<div>\n",
       "<style scoped>\n",
       "    .dataframe tbody tr th:only-of-type {\n",
       "        vertical-align: middle;\n",
       "    }\n",
       "\n",
       "    .dataframe tbody tr th {\n",
       "        vertical-align: top;\n",
       "    }\n",
       "\n",
       "    .dataframe thead th {\n",
       "        text-align: right;\n",
       "    }\n",
       "</style>\n",
       "<table border=\"1\" class=\"dataframe\">\n",
       "  <thead>\n",
       "    <tr style=\"text-align: right;\">\n",
       "      <th></th>\n",
       "      <th>n</th>\n",
       "      <th>erro</th>\n",
       "    </tr>\n",
       "  </thead>\n",
       "  <tbody>\n",
       "    <tr>\n",
       "      <th>0</th>\n",
       "      <td>2</td>\n",
       "      <td>2.408000e+00</td>\n",
       "    </tr>\n",
       "    <tr>\n",
       "      <th>0</th>\n",
       "      <td>3</td>\n",
       "      <td>2.324667e+00</td>\n",
       "    </tr>\n",
       "    <tr>\n",
       "      <th>0</th>\n",
       "      <td>4</td>\n",
       "      <td>1.233000e+00</td>\n",
       "    </tr>\n",
       "    <tr>\n",
       "      <th>0</th>\n",
       "      <td>5</td>\n",
       "      <td>7.980000e-01</td>\n",
       "    </tr>\n",
       "    <tr>\n",
       "      <th>0</th>\n",
       "      <td>6</td>\n",
       "      <td>4.746667e-01</td>\n",
       "    </tr>\n",
       "    <tr>\n",
       "      <th>...</th>\n",
       "      <td>...</td>\n",
       "      <td>...</td>\n",
       "    </tr>\n",
       "    <tr>\n",
       "      <th>0</th>\n",
       "      <td>146</td>\n",
       "      <td>5.013699e-03</td>\n",
       "    </tr>\n",
       "    <tr>\n",
       "      <th>0</th>\n",
       "      <td>147</td>\n",
       "      <td>1.206803e-02</td>\n",
       "    </tr>\n",
       "    <tr>\n",
       "      <th>0</th>\n",
       "      <td>148</td>\n",
       "      <td>1.159459e-02</td>\n",
       "    </tr>\n",
       "    <tr>\n",
       "      <th>0</th>\n",
       "      <td>149</td>\n",
       "      <td>2.966443e-03</td>\n",
       "    </tr>\n",
       "    <tr>\n",
       "      <th>0</th>\n",
       "      <td>150</td>\n",
       "      <td>8.881784e-16</td>\n",
       "    </tr>\n",
       "  </tbody>\n",
       "</table>\n",
       "<p>149 rows × 2 columns</p>\n",
       "</div>"
      ],
      "text/plain": [
       "      n          erro\n",
       "0     2  2.408000e+00\n",
       "0     3  2.324667e+00\n",
       "0     4  1.233000e+00\n",
       "0     5  7.980000e-01\n",
       "0     6  4.746667e-01\n",
       "..  ...           ...\n",
       "0   146  5.013699e-03\n",
       "0   147  1.206803e-02\n",
       "0   148  1.159459e-02\n",
       "0   149  2.966443e-03\n",
       "0   150  8.881784e-16\n",
       "\n",
       "[149 rows x 2 columns]"
      ]
     },
     "execution_count": 36,
     "metadata": {},
     "output_type": "execute_result"
    }
   ],
   "source": [
    "df_samples = pd.DataFrame(columns=['n', 'erro'])\n",
    "\n",
    "for tamanho_amostra in range(2, df.shape[0] + 1):\n",
    "    petal_length_amostra = df['petal_length'].sample(n=tamanho_amostra, random_state=101)\n",
    "    \n",
    "    sample_mean = petal_length_amostra.mean()\n",
    "    erro = abs(pop_mean - sample_mean)\n",
    "    \n",
    "    # lista.append([tamanho_amostra, erro])\n",
    "    \n",
    "    df_samples = df_samples.append(\n",
    "        pd.DataFrame({ 'n': [tamanho_amostra], 'erro': [erro] })\n",
    "    )\n",
    "df_samples"
   ]
  },
  {
   "cell_type": "code",
   "execution_count": 40,
   "id": "aa1784f9",
   "metadata": {
    "ExecuteTime": {
     "end_time": "2021-10-23T15:05:05.123089Z",
     "start_time": "2021-10-23T15:05:05.046258Z"
    }
   },
   "outputs": [
    {
     "data": {
      "application/vnd.plotly.v1+json": {
       "config": {
        "plotlyServerURL": "https://plot.ly"
       },
       "data": [
        {
         "hovertemplate": "n=%{x}<br>erro=%{y}<extra></extra>",
         "legendgroup": "",
         "line": {
          "color": "#636efa",
          "dash": "solid"
         },
         "marker": {
          "symbol": "circle"
         },
         "mode": "lines",
         "name": "",
         "orientation": "v",
         "showlegend": false,
         "type": "scatter",
         "x": [
          2,
          3,
          4,
          5,
          6,
          7,
          8,
          9,
          10,
          11,
          12,
          13,
          14,
          15,
          16,
          17,
          18,
          19,
          20,
          21,
          22,
          23,
          24,
          25,
          26,
          27,
          28,
          29,
          30,
          31,
          32,
          33,
          34,
          35,
          36,
          37,
          38,
          39,
          40,
          41,
          42,
          43,
          44,
          45,
          46,
          47,
          48,
          49,
          50,
          51,
          52,
          53,
          54,
          55,
          56,
          57,
          58,
          59,
          60,
          61,
          62,
          63,
          64,
          65,
          66,
          67,
          68,
          69,
          70,
          71,
          72,
          73,
          74,
          75,
          76,
          77,
          78,
          79,
          80,
          81,
          82,
          83,
          84,
          85,
          86,
          87,
          88,
          89,
          90,
          91,
          92,
          93,
          94,
          95,
          96,
          97,
          98,
          99,
          100,
          101,
          102,
          103,
          104,
          105,
          106,
          107,
          108,
          109,
          110,
          111,
          112,
          113,
          114,
          115,
          116,
          117,
          118,
          119,
          120,
          121,
          122,
          123,
          124,
          125,
          126,
          127,
          128,
          129,
          130,
          131,
          132,
          133,
          134,
          135,
          136,
          137,
          138,
          139,
          140,
          141,
          142,
          143,
          144,
          145,
          146,
          147,
          148,
          149,
          150
         ],
         "xaxis": "x",
         "y": [
          2.4080000000000004,
          2.324666666666667,
          1.233,
          0.7980000000000005,
          0.4746666666666668,
          0.3008571428571427,
          0.2330000000000001,
          0.06911111111111135,
          0.2980000000000005,
          0.13981818181818184,
          0.3163333333333336,
          0.46569230769230785,
          0.22228571428571442,
          0.13133333333333352,
          0.08925000000000027,
          0.06388235294117672,
          0.03577777777777813,
          0.16326315789473744,
          0.06300000000000106,
          0.05800000000000116,
          0.1580000000000008,
          0.12321739130434839,
          0.09133333333333393,
          0.06600000000000072,
          0.06953846153846222,
          0.08392592592592685,
          0.03300000000000125,
          0.10627586206896655,
          0.1846666666666681,
          0.11283870967742082,
          0.10175000000000045,
          0.04587878787878852,
          0.040352941176470924,
          0.010571428571428232,
          0.030888888888888744,
          0.05551351351351297,
          0.06568421052631468,
          0.07533333333333214,
          0.13200000000000012,
          0.07370731707317102,
          0.006285714285714228,
          0.04404651162790696,
          0.014818181818181841,
          0.0019999999999997797,
          0.055826086956522136,
          0.009063829787234301,
          0.0017500000000003624,
          0.04779591836734731,
          0.06200000000000028,
          0.058000000000000274,
          0.0964615384615386,
          0.06932075471698163,
          0.11170370370370408,
          0.11800000000000033,
          0.07942857142857207,
          0.07378947368421107,
          0.11317241379310383,
          0.14952542372881394,
          0.13300000000000045,
          0.1694754098360658,
          0.15477419354838728,
          0.10244444444444456,
          0.0720625000000008,
          0.05953846153846243,
          0.09739393939394025,
          0.08486567164179215,
          0.11682352941176566,
          0.0956811594202911,
          0.06657142857142917,
          0.05518309859155002,
          0.031611111111111256,
          0.01964383561643812,
          0.01091891891891894,
          0.021999999999999797,
          0.05273684210526319,
          0.08137662337662332,
          0.06953846153846133,
          0.0985063291139241,
          0.12425000000000042,
          0.14935802469135817,
          0.11897560975609744,
          0.14474698795180707,
          0.16752380952380985,
          0.15329411764705902,
          0.13939534883720928,
          0.16259770114942507,
          0.1898181818181821,
          0.16249438202247246,
          0.13466666666666693,
          0.1195384615384616,
          0.13843478260869624,
          0.13972043010752744,
          0.11544680851063882,
          0.1390526315789482,
          0.16216666666666724,
          0.14769072164948494,
          0.12738775510204103,
          0.1489090909090911,
          0.14500000000000046,
          0.1639405940594063,
          0.15505882352941214,
          0.12499029126213657,
          0.14742307692307755,
          0.12847619047619085,
          0.1183773584905663,
          0.10659813084112191,
          0.08762962962963039,
          0.10754128440367028,
          0.0916363636363644,
          0.11205405405405511,
          0.10800000000000098,
          0.09516814159292108,
          0.11589473684210594,
          0.11278260869565271,
          0.13213793103448346,
          0.11526495726495778,
          0.10630508474576317,
          0.08152941176470652,
          0.1005000000000007,
          0.08361983471074463,
          0.06209836065573837,
          0.05068292682926856,
          0.04187096774193577,
          0.05960000000000054,
          0.07704761904761925,
          0.06744881889763832,
          0.058000000000000274,
          0.07195348837209359,
          0.07030769230769307,
          0.049603053435115285,
          0.03754545454545477,
          0.025669172932331286,
          0.015462686567164763,
          0.032814814814815296,
          0.022705882352941575,
          0.03756204379562078,
          0.02756521739130502,
          0.02922302158273471,
          0.018714285714286127,
          0.0055177304964542095,
          0.02278873239436585,
          0.010447552447552244,
          0.005916666666667236,
          0.0014482758620699698,
          0.005013698630135455,
          0.012068027210883514,
          0.011594594594593222,
          0.0029664429530207315,
          8.881784197001252e-16
         ],
         "yaxis": "y"
        }
       ],
       "layout": {
        "legend": {
         "tracegroupgap": 0
        },
        "margin": {
         "t": 60
        },
        "template": {
         "data": {
          "bar": [
           {
            "error_x": {
             "color": "#2a3f5f"
            },
            "error_y": {
             "color": "#2a3f5f"
            },
            "marker": {
             "line": {
              "color": "white",
              "width": 0.5
             },
             "pattern": {
              "fillmode": "overlay",
              "size": 10,
              "solidity": 0.2
             }
            },
            "type": "bar"
           }
          ],
          "barpolar": [
           {
            "marker": {
             "line": {
              "color": "white",
              "width": 0.5
             },
             "pattern": {
              "fillmode": "overlay",
              "size": 10,
              "solidity": 0.2
             }
            },
            "type": "barpolar"
           }
          ],
          "carpet": [
           {
            "aaxis": {
             "endlinecolor": "#2a3f5f",
             "gridcolor": "#C8D4E3",
             "linecolor": "#C8D4E3",
             "minorgridcolor": "#C8D4E3",
             "startlinecolor": "#2a3f5f"
            },
            "baxis": {
             "endlinecolor": "#2a3f5f",
             "gridcolor": "#C8D4E3",
             "linecolor": "#C8D4E3",
             "minorgridcolor": "#C8D4E3",
             "startlinecolor": "#2a3f5f"
            },
            "type": "carpet"
           }
          ],
          "choropleth": [
           {
            "colorbar": {
             "outlinewidth": 0,
             "ticks": ""
            },
            "type": "choropleth"
           }
          ],
          "contour": [
           {
            "colorbar": {
             "outlinewidth": 0,
             "ticks": ""
            },
            "colorscale": [
             [
              0,
              "#0d0887"
             ],
             [
              0.1111111111111111,
              "#46039f"
             ],
             [
              0.2222222222222222,
              "#7201a8"
             ],
             [
              0.3333333333333333,
              "#9c179e"
             ],
             [
              0.4444444444444444,
              "#bd3786"
             ],
             [
              0.5555555555555556,
              "#d8576b"
             ],
             [
              0.6666666666666666,
              "#ed7953"
             ],
             [
              0.7777777777777778,
              "#fb9f3a"
             ],
             [
              0.8888888888888888,
              "#fdca26"
             ],
             [
              1,
              "#f0f921"
             ]
            ],
            "type": "contour"
           }
          ],
          "contourcarpet": [
           {
            "colorbar": {
             "outlinewidth": 0,
             "ticks": ""
            },
            "type": "contourcarpet"
           }
          ],
          "heatmap": [
           {
            "colorbar": {
             "outlinewidth": 0,
             "ticks": ""
            },
            "colorscale": [
             [
              0,
              "#0d0887"
             ],
             [
              0.1111111111111111,
              "#46039f"
             ],
             [
              0.2222222222222222,
              "#7201a8"
             ],
             [
              0.3333333333333333,
              "#9c179e"
             ],
             [
              0.4444444444444444,
              "#bd3786"
             ],
             [
              0.5555555555555556,
              "#d8576b"
             ],
             [
              0.6666666666666666,
              "#ed7953"
             ],
             [
              0.7777777777777778,
              "#fb9f3a"
             ],
             [
              0.8888888888888888,
              "#fdca26"
             ],
             [
              1,
              "#f0f921"
             ]
            ],
            "type": "heatmap"
           }
          ],
          "heatmapgl": [
           {
            "colorbar": {
             "outlinewidth": 0,
             "ticks": ""
            },
            "colorscale": [
             [
              0,
              "#0d0887"
             ],
             [
              0.1111111111111111,
              "#46039f"
             ],
             [
              0.2222222222222222,
              "#7201a8"
             ],
             [
              0.3333333333333333,
              "#9c179e"
             ],
             [
              0.4444444444444444,
              "#bd3786"
             ],
             [
              0.5555555555555556,
              "#d8576b"
             ],
             [
              0.6666666666666666,
              "#ed7953"
             ],
             [
              0.7777777777777778,
              "#fb9f3a"
             ],
             [
              0.8888888888888888,
              "#fdca26"
             ],
             [
              1,
              "#f0f921"
             ]
            ],
            "type": "heatmapgl"
           }
          ],
          "histogram": [
           {
            "marker": {
             "pattern": {
              "fillmode": "overlay",
              "size": 10,
              "solidity": 0.2
             }
            },
            "type": "histogram"
           }
          ],
          "histogram2d": [
           {
            "colorbar": {
             "outlinewidth": 0,
             "ticks": ""
            },
            "colorscale": [
             [
              0,
              "#0d0887"
             ],
             [
              0.1111111111111111,
              "#46039f"
             ],
             [
              0.2222222222222222,
              "#7201a8"
             ],
             [
              0.3333333333333333,
              "#9c179e"
             ],
             [
              0.4444444444444444,
              "#bd3786"
             ],
             [
              0.5555555555555556,
              "#d8576b"
             ],
             [
              0.6666666666666666,
              "#ed7953"
             ],
             [
              0.7777777777777778,
              "#fb9f3a"
             ],
             [
              0.8888888888888888,
              "#fdca26"
             ],
             [
              1,
              "#f0f921"
             ]
            ],
            "type": "histogram2d"
           }
          ],
          "histogram2dcontour": [
           {
            "colorbar": {
             "outlinewidth": 0,
             "ticks": ""
            },
            "colorscale": [
             [
              0,
              "#0d0887"
             ],
             [
              0.1111111111111111,
              "#46039f"
             ],
             [
              0.2222222222222222,
              "#7201a8"
             ],
             [
              0.3333333333333333,
              "#9c179e"
             ],
             [
              0.4444444444444444,
              "#bd3786"
             ],
             [
              0.5555555555555556,
              "#d8576b"
             ],
             [
              0.6666666666666666,
              "#ed7953"
             ],
             [
              0.7777777777777778,
              "#fb9f3a"
             ],
             [
              0.8888888888888888,
              "#fdca26"
             ],
             [
              1,
              "#f0f921"
             ]
            ],
            "type": "histogram2dcontour"
           }
          ],
          "mesh3d": [
           {
            "colorbar": {
             "outlinewidth": 0,
             "ticks": ""
            },
            "type": "mesh3d"
           }
          ],
          "parcoords": [
           {
            "line": {
             "colorbar": {
              "outlinewidth": 0,
              "ticks": ""
             }
            },
            "type": "parcoords"
           }
          ],
          "pie": [
           {
            "automargin": true,
            "type": "pie"
           }
          ],
          "scatter": [
           {
            "marker": {
             "colorbar": {
              "outlinewidth": 0,
              "ticks": ""
             }
            },
            "type": "scatter"
           }
          ],
          "scatter3d": [
           {
            "line": {
             "colorbar": {
              "outlinewidth": 0,
              "ticks": ""
             }
            },
            "marker": {
             "colorbar": {
              "outlinewidth": 0,
              "ticks": ""
             }
            },
            "type": "scatter3d"
           }
          ],
          "scattercarpet": [
           {
            "marker": {
             "colorbar": {
              "outlinewidth": 0,
              "ticks": ""
             }
            },
            "type": "scattercarpet"
           }
          ],
          "scattergeo": [
           {
            "marker": {
             "colorbar": {
              "outlinewidth": 0,
              "ticks": ""
             }
            },
            "type": "scattergeo"
           }
          ],
          "scattergl": [
           {
            "marker": {
             "colorbar": {
              "outlinewidth": 0,
              "ticks": ""
             }
            },
            "type": "scattergl"
           }
          ],
          "scattermapbox": [
           {
            "marker": {
             "colorbar": {
              "outlinewidth": 0,
              "ticks": ""
             }
            },
            "type": "scattermapbox"
           }
          ],
          "scatterpolar": [
           {
            "marker": {
             "colorbar": {
              "outlinewidth": 0,
              "ticks": ""
             }
            },
            "type": "scatterpolar"
           }
          ],
          "scatterpolargl": [
           {
            "marker": {
             "colorbar": {
              "outlinewidth": 0,
              "ticks": ""
             }
            },
            "type": "scatterpolargl"
           }
          ],
          "scatterternary": [
           {
            "marker": {
             "colorbar": {
              "outlinewidth": 0,
              "ticks": ""
             }
            },
            "type": "scatterternary"
           }
          ],
          "surface": [
           {
            "colorbar": {
             "outlinewidth": 0,
             "ticks": ""
            },
            "colorscale": [
             [
              0,
              "#0d0887"
             ],
             [
              0.1111111111111111,
              "#46039f"
             ],
             [
              0.2222222222222222,
              "#7201a8"
             ],
             [
              0.3333333333333333,
              "#9c179e"
             ],
             [
              0.4444444444444444,
              "#bd3786"
             ],
             [
              0.5555555555555556,
              "#d8576b"
             ],
             [
              0.6666666666666666,
              "#ed7953"
             ],
             [
              0.7777777777777778,
              "#fb9f3a"
             ],
             [
              0.8888888888888888,
              "#fdca26"
             ],
             [
              1,
              "#f0f921"
             ]
            ],
            "type": "surface"
           }
          ],
          "table": [
           {
            "cells": {
             "fill": {
              "color": "#EBF0F8"
             },
             "line": {
              "color": "white"
             }
            },
            "header": {
             "fill": {
              "color": "#C8D4E3"
             },
             "line": {
              "color": "white"
             }
            },
            "type": "table"
           }
          ]
         },
         "layout": {
          "annotationdefaults": {
           "arrowcolor": "#2a3f5f",
           "arrowhead": 0,
           "arrowwidth": 1
          },
          "autotypenumbers": "strict",
          "coloraxis": {
           "colorbar": {
            "outlinewidth": 0,
            "ticks": ""
           }
          },
          "colorscale": {
           "diverging": [
            [
             0,
             "#8e0152"
            ],
            [
             0.1,
             "#c51b7d"
            ],
            [
             0.2,
             "#de77ae"
            ],
            [
             0.3,
             "#f1b6da"
            ],
            [
             0.4,
             "#fde0ef"
            ],
            [
             0.5,
             "#f7f7f7"
            ],
            [
             0.6,
             "#e6f5d0"
            ],
            [
             0.7,
             "#b8e186"
            ],
            [
             0.8,
             "#7fbc41"
            ],
            [
             0.9,
             "#4d9221"
            ],
            [
             1,
             "#276419"
            ]
           ],
           "sequential": [
            [
             0,
             "#0d0887"
            ],
            [
             0.1111111111111111,
             "#46039f"
            ],
            [
             0.2222222222222222,
             "#7201a8"
            ],
            [
             0.3333333333333333,
             "#9c179e"
            ],
            [
             0.4444444444444444,
             "#bd3786"
            ],
            [
             0.5555555555555556,
             "#d8576b"
            ],
            [
             0.6666666666666666,
             "#ed7953"
            ],
            [
             0.7777777777777778,
             "#fb9f3a"
            ],
            [
             0.8888888888888888,
             "#fdca26"
            ],
            [
             1,
             "#f0f921"
            ]
           ],
           "sequentialminus": [
            [
             0,
             "#0d0887"
            ],
            [
             0.1111111111111111,
             "#46039f"
            ],
            [
             0.2222222222222222,
             "#7201a8"
            ],
            [
             0.3333333333333333,
             "#9c179e"
            ],
            [
             0.4444444444444444,
             "#bd3786"
            ],
            [
             0.5555555555555556,
             "#d8576b"
            ],
            [
             0.6666666666666666,
             "#ed7953"
            ],
            [
             0.7777777777777778,
             "#fb9f3a"
            ],
            [
             0.8888888888888888,
             "#fdca26"
            ],
            [
             1,
             "#f0f921"
            ]
           ]
          },
          "colorway": [
           "#636efa",
           "#EF553B",
           "#00cc96",
           "#ab63fa",
           "#FFA15A",
           "#19d3f3",
           "#FF6692",
           "#B6E880",
           "#FF97FF",
           "#FECB52"
          ],
          "font": {
           "color": "#2a3f5f"
          },
          "geo": {
           "bgcolor": "white",
           "lakecolor": "white",
           "landcolor": "white",
           "showlakes": true,
           "showland": true,
           "subunitcolor": "#C8D4E3"
          },
          "hoverlabel": {
           "align": "left"
          },
          "hovermode": "closest",
          "mapbox": {
           "style": "light"
          },
          "paper_bgcolor": "white",
          "plot_bgcolor": "white",
          "polar": {
           "angularaxis": {
            "gridcolor": "#EBF0F8",
            "linecolor": "#EBF0F8",
            "ticks": ""
           },
           "bgcolor": "white",
           "radialaxis": {
            "gridcolor": "#EBF0F8",
            "linecolor": "#EBF0F8",
            "ticks": ""
           }
          },
          "scene": {
           "xaxis": {
            "backgroundcolor": "white",
            "gridcolor": "#DFE8F3",
            "gridwidth": 2,
            "linecolor": "#EBF0F8",
            "showbackground": true,
            "ticks": "",
            "zerolinecolor": "#EBF0F8"
           },
           "yaxis": {
            "backgroundcolor": "white",
            "gridcolor": "#DFE8F3",
            "gridwidth": 2,
            "linecolor": "#EBF0F8",
            "showbackground": true,
            "ticks": "",
            "zerolinecolor": "#EBF0F8"
           },
           "zaxis": {
            "backgroundcolor": "white",
            "gridcolor": "#DFE8F3",
            "gridwidth": 2,
            "linecolor": "#EBF0F8",
            "showbackground": true,
            "ticks": "",
            "zerolinecolor": "#EBF0F8"
           }
          },
          "shapedefaults": {
           "line": {
            "color": "#2a3f5f"
           }
          },
          "ternary": {
           "aaxis": {
            "gridcolor": "#DFE8F3",
            "linecolor": "#A2B1C6",
            "ticks": ""
           },
           "baxis": {
            "gridcolor": "#DFE8F3",
            "linecolor": "#A2B1C6",
            "ticks": ""
           },
           "bgcolor": "white",
           "caxis": {
            "gridcolor": "#DFE8F3",
            "linecolor": "#A2B1C6",
            "ticks": ""
           }
          },
          "title": {
           "x": 0.05
          },
          "xaxis": {
           "automargin": true,
           "gridcolor": "#EBF0F8",
           "linecolor": "#EBF0F8",
           "ticks": "",
           "title": {
            "standoff": 15
           },
           "zerolinecolor": "#EBF0F8",
           "zerolinewidth": 2
          },
          "yaxis": {
           "automargin": true,
           "gridcolor": "#EBF0F8",
           "linecolor": "#EBF0F8",
           "ticks": "",
           "title": {
            "standoff": 15
           },
           "zerolinecolor": "#EBF0F8",
           "zerolinewidth": 2
          }
         }
        },
        "xaxis": {
         "anchor": "y",
         "domain": [
          0,
          1
         ],
         "title": {
          "text": "n"
         }
        },
        "yaxis": {
         "anchor": "x",
         "domain": [
          0,
          1
         ],
         "title": {
          "text": "erro"
         }
        }
       }
      },
      "text/html": [
       "<div>                            <div id=\"01413ec5-25d9-4d13-ac79-3598f82a92db\" class=\"plotly-graph-div\" style=\"height:525px; width:100%;\"></div>            <script type=\"text/javascript\">                require([\"plotly\"], function(Plotly) {                    window.PLOTLYENV=window.PLOTLYENV || {};                                    if (document.getElementById(\"01413ec5-25d9-4d13-ac79-3598f82a92db\")) {                    Plotly.newPlot(                        \"01413ec5-25d9-4d13-ac79-3598f82a92db\",                        [{\"hovertemplate\":\"n=%{x}<br>erro=%{y}<extra></extra>\",\"legendgroup\":\"\",\"line\":{\"color\":\"#636efa\",\"dash\":\"solid\"},\"marker\":{\"symbol\":\"circle\"},\"mode\":\"lines\",\"name\":\"\",\"orientation\":\"v\",\"showlegend\":false,\"type\":\"scatter\",\"x\":[2,3,4,5,6,7,8,9,10,11,12,13,14,15,16,17,18,19,20,21,22,23,24,25,26,27,28,29,30,31,32,33,34,35,36,37,38,39,40,41,42,43,44,45,46,47,48,49,50,51,52,53,54,55,56,57,58,59,60,61,62,63,64,65,66,67,68,69,70,71,72,73,74,75,76,77,78,79,80,81,82,83,84,85,86,87,88,89,90,91,92,93,94,95,96,97,98,99,100,101,102,103,104,105,106,107,108,109,110,111,112,113,114,115,116,117,118,119,120,121,122,123,124,125,126,127,128,129,130,131,132,133,134,135,136,137,138,139,140,141,142,143,144,145,146,147,148,149,150],\"xaxis\":\"x\",\"y\":[2.4080000000000004,2.324666666666667,1.233,0.7980000000000005,0.4746666666666668,0.3008571428571427,0.2330000000000001,0.06911111111111135,0.2980000000000005,0.13981818181818184,0.3163333333333336,0.46569230769230785,0.22228571428571442,0.13133333333333352,0.08925000000000027,0.06388235294117672,0.03577777777777813,0.16326315789473744,0.06300000000000106,0.05800000000000116,0.1580000000000008,0.12321739130434839,0.09133333333333393,0.06600000000000072,0.06953846153846222,0.08392592592592685,0.03300000000000125,0.10627586206896655,0.1846666666666681,0.11283870967742082,0.10175000000000045,0.04587878787878852,0.040352941176470924,0.010571428571428232,0.030888888888888744,0.05551351351351297,0.06568421052631468,0.07533333333333214,0.13200000000000012,0.07370731707317102,0.006285714285714228,0.04404651162790696,0.014818181818181841,0.0019999999999997797,0.055826086956522136,0.009063829787234301,0.0017500000000003624,0.04779591836734731,0.06200000000000028,0.058000000000000274,0.0964615384615386,0.06932075471698163,0.11170370370370408,0.11800000000000033,0.07942857142857207,0.07378947368421107,0.11317241379310383,0.14952542372881394,0.13300000000000045,0.1694754098360658,0.15477419354838728,0.10244444444444456,0.0720625000000008,0.05953846153846243,0.09739393939394025,0.08486567164179215,0.11682352941176566,0.0956811594202911,0.06657142857142917,0.05518309859155002,0.031611111111111256,0.01964383561643812,0.01091891891891894,0.021999999999999797,0.05273684210526319,0.08137662337662332,0.06953846153846133,0.0985063291139241,0.12425000000000042,0.14935802469135817,0.11897560975609744,0.14474698795180707,0.16752380952380985,0.15329411764705902,0.13939534883720928,0.16259770114942507,0.1898181818181821,0.16249438202247246,0.13466666666666693,0.1195384615384616,0.13843478260869624,0.13972043010752744,0.11544680851063882,0.1390526315789482,0.16216666666666724,0.14769072164948494,0.12738775510204103,0.1489090909090911,0.14500000000000046,0.1639405940594063,0.15505882352941214,0.12499029126213657,0.14742307692307755,0.12847619047619085,0.1183773584905663,0.10659813084112191,0.08762962962963039,0.10754128440367028,0.0916363636363644,0.11205405405405511,0.10800000000000098,0.09516814159292108,0.11589473684210594,0.11278260869565271,0.13213793103448346,0.11526495726495778,0.10630508474576317,0.08152941176470652,0.1005000000000007,0.08361983471074463,0.06209836065573837,0.05068292682926856,0.04187096774193577,0.05960000000000054,0.07704761904761925,0.06744881889763832,0.058000000000000274,0.07195348837209359,0.07030769230769307,0.049603053435115285,0.03754545454545477,0.025669172932331286,0.015462686567164763,0.032814814814815296,0.022705882352941575,0.03756204379562078,0.02756521739130502,0.02922302158273471,0.018714285714286127,0.0055177304964542095,0.02278873239436585,0.010447552447552244,0.005916666666667236,0.0014482758620699698,0.005013698630135455,0.012068027210883514,0.011594594594593222,0.0029664429530207315,8.881784197001252e-16],\"yaxis\":\"y\"}],                        {\"legend\":{\"tracegroupgap\":0},\"margin\":{\"t\":60},\"template\":{\"data\":{\"bar\":[{\"error_x\":{\"color\":\"#2a3f5f\"},\"error_y\":{\"color\":\"#2a3f5f\"},\"marker\":{\"line\":{\"color\":\"white\",\"width\":0.5},\"pattern\":{\"fillmode\":\"overlay\",\"size\":10,\"solidity\":0.2}},\"type\":\"bar\"}],\"barpolar\":[{\"marker\":{\"line\":{\"color\":\"white\",\"width\":0.5},\"pattern\":{\"fillmode\":\"overlay\",\"size\":10,\"solidity\":0.2}},\"type\":\"barpolar\"}],\"carpet\":[{\"aaxis\":{\"endlinecolor\":\"#2a3f5f\",\"gridcolor\":\"#C8D4E3\",\"linecolor\":\"#C8D4E3\",\"minorgridcolor\":\"#C8D4E3\",\"startlinecolor\":\"#2a3f5f\"},\"baxis\":{\"endlinecolor\":\"#2a3f5f\",\"gridcolor\":\"#C8D4E3\",\"linecolor\":\"#C8D4E3\",\"minorgridcolor\":\"#C8D4E3\",\"startlinecolor\":\"#2a3f5f\"},\"type\":\"carpet\"}],\"choropleth\":[{\"colorbar\":{\"outlinewidth\":0,\"ticks\":\"\"},\"type\":\"choropleth\"}],\"contour\":[{\"colorbar\":{\"outlinewidth\":0,\"ticks\":\"\"},\"colorscale\":[[0.0,\"#0d0887\"],[0.1111111111111111,\"#46039f\"],[0.2222222222222222,\"#7201a8\"],[0.3333333333333333,\"#9c179e\"],[0.4444444444444444,\"#bd3786\"],[0.5555555555555556,\"#d8576b\"],[0.6666666666666666,\"#ed7953\"],[0.7777777777777778,\"#fb9f3a\"],[0.8888888888888888,\"#fdca26\"],[1.0,\"#f0f921\"]],\"type\":\"contour\"}],\"contourcarpet\":[{\"colorbar\":{\"outlinewidth\":0,\"ticks\":\"\"},\"type\":\"contourcarpet\"}],\"heatmap\":[{\"colorbar\":{\"outlinewidth\":0,\"ticks\":\"\"},\"colorscale\":[[0.0,\"#0d0887\"],[0.1111111111111111,\"#46039f\"],[0.2222222222222222,\"#7201a8\"],[0.3333333333333333,\"#9c179e\"],[0.4444444444444444,\"#bd3786\"],[0.5555555555555556,\"#d8576b\"],[0.6666666666666666,\"#ed7953\"],[0.7777777777777778,\"#fb9f3a\"],[0.8888888888888888,\"#fdca26\"],[1.0,\"#f0f921\"]],\"type\":\"heatmap\"}],\"heatmapgl\":[{\"colorbar\":{\"outlinewidth\":0,\"ticks\":\"\"},\"colorscale\":[[0.0,\"#0d0887\"],[0.1111111111111111,\"#46039f\"],[0.2222222222222222,\"#7201a8\"],[0.3333333333333333,\"#9c179e\"],[0.4444444444444444,\"#bd3786\"],[0.5555555555555556,\"#d8576b\"],[0.6666666666666666,\"#ed7953\"],[0.7777777777777778,\"#fb9f3a\"],[0.8888888888888888,\"#fdca26\"],[1.0,\"#f0f921\"]],\"type\":\"heatmapgl\"}],\"histogram\":[{\"marker\":{\"pattern\":{\"fillmode\":\"overlay\",\"size\":10,\"solidity\":0.2}},\"type\":\"histogram\"}],\"histogram2d\":[{\"colorbar\":{\"outlinewidth\":0,\"ticks\":\"\"},\"colorscale\":[[0.0,\"#0d0887\"],[0.1111111111111111,\"#46039f\"],[0.2222222222222222,\"#7201a8\"],[0.3333333333333333,\"#9c179e\"],[0.4444444444444444,\"#bd3786\"],[0.5555555555555556,\"#d8576b\"],[0.6666666666666666,\"#ed7953\"],[0.7777777777777778,\"#fb9f3a\"],[0.8888888888888888,\"#fdca26\"],[1.0,\"#f0f921\"]],\"type\":\"histogram2d\"}],\"histogram2dcontour\":[{\"colorbar\":{\"outlinewidth\":0,\"ticks\":\"\"},\"colorscale\":[[0.0,\"#0d0887\"],[0.1111111111111111,\"#46039f\"],[0.2222222222222222,\"#7201a8\"],[0.3333333333333333,\"#9c179e\"],[0.4444444444444444,\"#bd3786\"],[0.5555555555555556,\"#d8576b\"],[0.6666666666666666,\"#ed7953\"],[0.7777777777777778,\"#fb9f3a\"],[0.8888888888888888,\"#fdca26\"],[1.0,\"#f0f921\"]],\"type\":\"histogram2dcontour\"}],\"mesh3d\":[{\"colorbar\":{\"outlinewidth\":0,\"ticks\":\"\"},\"type\":\"mesh3d\"}],\"parcoords\":[{\"line\":{\"colorbar\":{\"outlinewidth\":0,\"ticks\":\"\"}},\"type\":\"parcoords\"}],\"pie\":[{\"automargin\":true,\"type\":\"pie\"}],\"scatter\":[{\"marker\":{\"colorbar\":{\"outlinewidth\":0,\"ticks\":\"\"}},\"type\":\"scatter\"}],\"scatter3d\":[{\"line\":{\"colorbar\":{\"outlinewidth\":0,\"ticks\":\"\"}},\"marker\":{\"colorbar\":{\"outlinewidth\":0,\"ticks\":\"\"}},\"type\":\"scatter3d\"}],\"scattercarpet\":[{\"marker\":{\"colorbar\":{\"outlinewidth\":0,\"ticks\":\"\"}},\"type\":\"scattercarpet\"}],\"scattergeo\":[{\"marker\":{\"colorbar\":{\"outlinewidth\":0,\"ticks\":\"\"}},\"type\":\"scattergeo\"}],\"scattergl\":[{\"marker\":{\"colorbar\":{\"outlinewidth\":0,\"ticks\":\"\"}},\"type\":\"scattergl\"}],\"scattermapbox\":[{\"marker\":{\"colorbar\":{\"outlinewidth\":0,\"ticks\":\"\"}},\"type\":\"scattermapbox\"}],\"scatterpolar\":[{\"marker\":{\"colorbar\":{\"outlinewidth\":0,\"ticks\":\"\"}},\"type\":\"scatterpolar\"}],\"scatterpolargl\":[{\"marker\":{\"colorbar\":{\"outlinewidth\":0,\"ticks\":\"\"}},\"type\":\"scatterpolargl\"}],\"scatterternary\":[{\"marker\":{\"colorbar\":{\"outlinewidth\":0,\"ticks\":\"\"}},\"type\":\"scatterternary\"}],\"surface\":[{\"colorbar\":{\"outlinewidth\":0,\"ticks\":\"\"},\"colorscale\":[[0.0,\"#0d0887\"],[0.1111111111111111,\"#46039f\"],[0.2222222222222222,\"#7201a8\"],[0.3333333333333333,\"#9c179e\"],[0.4444444444444444,\"#bd3786\"],[0.5555555555555556,\"#d8576b\"],[0.6666666666666666,\"#ed7953\"],[0.7777777777777778,\"#fb9f3a\"],[0.8888888888888888,\"#fdca26\"],[1.0,\"#f0f921\"]],\"type\":\"surface\"}],\"table\":[{\"cells\":{\"fill\":{\"color\":\"#EBF0F8\"},\"line\":{\"color\":\"white\"}},\"header\":{\"fill\":{\"color\":\"#C8D4E3\"},\"line\":{\"color\":\"white\"}},\"type\":\"table\"}]},\"layout\":{\"annotationdefaults\":{\"arrowcolor\":\"#2a3f5f\",\"arrowhead\":0,\"arrowwidth\":1},\"autotypenumbers\":\"strict\",\"coloraxis\":{\"colorbar\":{\"outlinewidth\":0,\"ticks\":\"\"}},\"colorscale\":{\"diverging\":[[0,\"#8e0152\"],[0.1,\"#c51b7d\"],[0.2,\"#de77ae\"],[0.3,\"#f1b6da\"],[0.4,\"#fde0ef\"],[0.5,\"#f7f7f7\"],[0.6,\"#e6f5d0\"],[0.7,\"#b8e186\"],[0.8,\"#7fbc41\"],[0.9,\"#4d9221\"],[1,\"#276419\"]],\"sequential\":[[0.0,\"#0d0887\"],[0.1111111111111111,\"#46039f\"],[0.2222222222222222,\"#7201a8\"],[0.3333333333333333,\"#9c179e\"],[0.4444444444444444,\"#bd3786\"],[0.5555555555555556,\"#d8576b\"],[0.6666666666666666,\"#ed7953\"],[0.7777777777777778,\"#fb9f3a\"],[0.8888888888888888,\"#fdca26\"],[1.0,\"#f0f921\"]],\"sequentialminus\":[[0.0,\"#0d0887\"],[0.1111111111111111,\"#46039f\"],[0.2222222222222222,\"#7201a8\"],[0.3333333333333333,\"#9c179e\"],[0.4444444444444444,\"#bd3786\"],[0.5555555555555556,\"#d8576b\"],[0.6666666666666666,\"#ed7953\"],[0.7777777777777778,\"#fb9f3a\"],[0.8888888888888888,\"#fdca26\"],[1.0,\"#f0f921\"]]},\"colorway\":[\"#636efa\",\"#EF553B\",\"#00cc96\",\"#ab63fa\",\"#FFA15A\",\"#19d3f3\",\"#FF6692\",\"#B6E880\",\"#FF97FF\",\"#FECB52\"],\"font\":{\"color\":\"#2a3f5f\"},\"geo\":{\"bgcolor\":\"white\",\"lakecolor\":\"white\",\"landcolor\":\"white\",\"showlakes\":true,\"showland\":true,\"subunitcolor\":\"#C8D4E3\"},\"hoverlabel\":{\"align\":\"left\"},\"hovermode\":\"closest\",\"mapbox\":{\"style\":\"light\"},\"paper_bgcolor\":\"white\",\"plot_bgcolor\":\"white\",\"polar\":{\"angularaxis\":{\"gridcolor\":\"#EBF0F8\",\"linecolor\":\"#EBF0F8\",\"ticks\":\"\"},\"bgcolor\":\"white\",\"radialaxis\":{\"gridcolor\":\"#EBF0F8\",\"linecolor\":\"#EBF0F8\",\"ticks\":\"\"}},\"scene\":{\"xaxis\":{\"backgroundcolor\":\"white\",\"gridcolor\":\"#DFE8F3\",\"gridwidth\":2,\"linecolor\":\"#EBF0F8\",\"showbackground\":true,\"ticks\":\"\",\"zerolinecolor\":\"#EBF0F8\"},\"yaxis\":{\"backgroundcolor\":\"white\",\"gridcolor\":\"#DFE8F3\",\"gridwidth\":2,\"linecolor\":\"#EBF0F8\",\"showbackground\":true,\"ticks\":\"\",\"zerolinecolor\":\"#EBF0F8\"},\"zaxis\":{\"backgroundcolor\":\"white\",\"gridcolor\":\"#DFE8F3\",\"gridwidth\":2,\"linecolor\":\"#EBF0F8\",\"showbackground\":true,\"ticks\":\"\",\"zerolinecolor\":\"#EBF0F8\"}},\"shapedefaults\":{\"line\":{\"color\":\"#2a3f5f\"}},\"ternary\":{\"aaxis\":{\"gridcolor\":\"#DFE8F3\",\"linecolor\":\"#A2B1C6\",\"ticks\":\"\"},\"baxis\":{\"gridcolor\":\"#DFE8F3\",\"linecolor\":\"#A2B1C6\",\"ticks\":\"\"},\"bgcolor\":\"white\",\"caxis\":{\"gridcolor\":\"#DFE8F3\",\"linecolor\":\"#A2B1C6\",\"ticks\":\"\"}},\"title\":{\"x\":0.05},\"xaxis\":{\"automargin\":true,\"gridcolor\":\"#EBF0F8\",\"linecolor\":\"#EBF0F8\",\"ticks\":\"\",\"title\":{\"standoff\":15},\"zerolinecolor\":\"#EBF0F8\",\"zerolinewidth\":2},\"yaxis\":{\"automargin\":true,\"gridcolor\":\"#EBF0F8\",\"linecolor\":\"#EBF0F8\",\"ticks\":\"\",\"title\":{\"standoff\":15},\"zerolinecolor\":\"#EBF0F8\",\"zerolinewidth\":2}}},\"xaxis\":{\"anchor\":\"y\",\"domain\":[0.0,1.0],\"title\":{\"text\":\"n\"}},\"yaxis\":{\"anchor\":\"x\",\"domain\":[0.0,1.0],\"title\":{\"text\":\"erro\"}}},                        {\"responsive\": true}                    ).then(function(){\n",
       "                            \n",
       "var gd = document.getElementById('01413ec5-25d9-4d13-ac79-3598f82a92db');\n",
       "var x = new MutationObserver(function (mutations, observer) {{\n",
       "        var display = window.getComputedStyle(gd).display;\n",
       "        if (!display || display === 'none') {{\n",
       "            console.log([gd, 'removed!']);\n",
       "            Plotly.purge(gd);\n",
       "            observer.disconnect();\n",
       "        }}\n",
       "}});\n",
       "\n",
       "// Listen for the removal of the full notebook cells\n",
       "var notebookContainer = gd.closest('#notebook-container');\n",
       "if (notebookContainer) {{\n",
       "    x.observe(notebookContainer, {childList: true});\n",
       "}}\n",
       "\n",
       "// Listen for the clearing of the current output cell\n",
       "var outputEl = gd.closest('.output');\n",
       "if (outputEl) {{\n",
       "    x.observe(outputEl, {childList: true});\n",
       "}}\n",
       "\n",
       "                        })                };                });            </script>        </div>"
      ]
     },
     "metadata": {},
     "output_type": "display_data"
    }
   ],
   "source": [
    "import plotly.express as px\n",
    "import plotly.io as pio\n",
    "\n",
    "pio.templates.default = 'plotly_white'\n",
    "\n",
    "px.line(df_samples, x='n', y='erro')"
   ]
  },
  {
   "cell_type": "markdown",
   "id": "680c1db2",
   "metadata": {},
   "source": [
    "## Teorema do Limite Central (TLC, ou TCL)\n",
    "\n",
    "Esse é um dos teoremas mais poderosos e fundamentais da estatística, porque ele é usado **como base para muitos outros resultados**. \n",
    "\n",
    "A ideia é que muitos dos resultados de inferência estatística são válidos assumindo como hipótese que os dados sob análise (**mais precisamente, os estimadores pontuais**) seguem uma distribuição normal. \n",
    "\n",
    "No entanto, há muitos casos de interesse em que a **distribuição populacional não é normal** -- e, na verdade, não temos como saber com segurança qual é a distribuição populacional, dado que temos apenas acesso às amostras!\n",
    "\n",
    "Assim, a priori, muitos dos resultados e métodos da inferência estatística seriam invalidados, dado que não podemos assegurar qual é a distribuição populacional dos dados que estamos analisando.\n",
    "\n",
    "E é neste contexto que o TLC mostra seu poder e importância, pois ele mostra que **estimadores pontuais de parâmetros populacionais serão normalmente distribuídos, INDEPENDENTE DA DISTRIBUIÇÃO POPULACIONAL!**\n",
    "\n",
    "Vamos enunciá-lo, e depois veremos alguns exemplos:\n",
    "\n",
    "> Seja uma **amostra aleatória** ($x_1, x_2, \\cdots, x_n$) de uma variável aleatória $X$ com **qualquer distribuição**, média $\\mu$ e desvio padrão $\\sigma$. Para $n$ suficientemente grande ($n>30$), a **distribuição das médias amostrais**, $\\overline{X}$, se **aproxima de uma distribuição normal** com média $\\mu_{\\overline{x}} = \\mu$ e erro padrão $SE_{\\overline{X}} = \\frac{\\sigma}{\\sqrt{n}}$. Isto é, $$\\overline{X} \\sim N \\left(\\mu, \\frac{\\sigma}{\\sqrt{n}} \\right)$$\n",
    "OBS.: quando estamos falando do **estimador amostral do desvio padrão**, costumamos usar o termo **erro padrão** (standard error), denotado $SE$.\n",
    "\n",
    "O que o TLC para as médias diz, essencialmente, é:\n",
    "\n",
    "> A distribuição de **médias das amostras** tiradas de **qualquer distribuição populacional** será **aproximadamente normal**, contanto que fizermos uma quantidade razoável de amostras com tamanho amostral $n>30$.\n",
    "\n",
    "E isso é um resultado fantástico, pois nos permite a construção de uma **distribuição normal**, para a qual vale uma série de resultados e teoremas, a partir de **qualquer distribuição populacional**!"
   ]
  },
  {
   "cell_type": "markdown",
   "id": "7a345c34",
   "metadata": {},
   "source": [
    "Uma outras palavras, também podemos definir:\n",
    "\n",
    "Seja uma amostra aleatória ($x_1, x_2, \\cdots, x_n$) de uma variável aleatória $X$ com **qualquer distribuição**, média $\\mu$ e desvio padrão $\\sigma$. A medida que $n$ cresce, a distribuição de probabilidade da média amostral, $\\overline{X}$, se aproxima de uma Normal com média $\\mu$ e desvio padrão $\\frac{\\sigma}{\\sqrt{n}}$. Isto é $\\overline{X} \\sim N (\\mu, \\sigma^2/n)$. Se a transformação a baixo for realizada, então $Z \\sim N (0,1)$.\n",
    "\n",
    "$$Z = \\frac{\\overline{X} -\\mu}{\\sigma/\\sqrt{n}} $$\n",
    "\n",
    "\n",
    "$$\\sigma_\\bar{x} = \\frac{\\sigma}{\\sqrt{n}}$$\n",
    "\n",
    "O desvio padrão das médias amostrais é conhecido como **erro padrão da média**\n",
    "\n",
    "Conforme o tamanho da amostra cresce, o erro padrão diminu. O relacionamento entre o erro-padrão e o tamanho da amostra às vezes é chamado de regra da raiz quadrada de n: a fim de reduzir o erro-padrão em um fator de 2, o tamanho da amostra deve\n",
    "ser elevado em um fator de 4.\n",
    "\n",
    "Na prática, essa abordagem de coletar novas amostras para estimar o erro padrão não costuma ser viável (além de ser um desperdício estatístico).\n",
    "Felizmente, acontece que não é necessário extrair novas amostras. Em vez disso, você pode usar reamostras *bootstrap*. Na\n",
    "estatística moderna, o bootstrap se tornou o modo padrão de estimar o erro\u0002padrão. Pode ser usado para praticamente qualquer estatística e não se baseia no teorema de limite central ou outras suposições distribucionais.\n",
    "\n",
    "\n",
    "#### Bootstrap\n",
    "\n",
    "Um jeito fácil e eficaz de estimar a distribuição amostral de uma estatística ou de parâmetros de modelo é extrair amostras adicionais, com reposição, da própria amostra, e recalcular a estatística ou modelo para cada reamostra.\n",
    "Esse procedimento é chamado de bootstrap e não envolve necessariamente quaisquer suposições sobre os dados ou a estatística amostral sendo normalmente distribuída.\n",
    "\n",
    "> - Amostra bootstrap: Uma amostra extraída com reposição de um conjunto de dados observado.\n",
    "> - Reamostragem: O processo de extrair repetidas amostras dos dados observados. Inclui ambos os procedimentos, de bootstrap e permutação (embaralhamento).\n",
    "\n",
    "Conceitualmente, pode-se imaginar o bootstrap como a replicação da amostra\n",
    "original milhares ou milhões de vezes, de modo a ter uma população\n",
    "hipotética que representa todo o conhecimento da amostra original (só que\n",
    "maior). Pode-se então extrair amostras dessa população hipotética a fim de\n",
    "estimar uma distribuição amostral. \n",
    "\n",
    "<img src='https://miro.medium.com/max/1400/1*cmA1PPO4Us6_okb5UMhb0Q.jpeg'>\n",
    "\n",
    "- O bootstrap (amostragem com reposição de um conjunto de dados) é uma ferramenta poderosa para avaliar a variabilidade de uma estatística amostral.\n",
    "- O bootstrap pode ser aplicado de forma similar em uma grande variedade de circunstâncias, sem maiores estudos de aproximações matemáticas para distribuições de amostragem.\n",
    "- Nos permite também estimar distribuições de amostragem para estatísticas em que nenhuma aproximação matemática foi desenvolvida.\n",
    "- Quando aplicado a modelos preditivos, agregando múltiplas previsões de amostra, o bootstrap (bagging) supera o uso de um único modelom"
   ]
  },
  {
   "cell_type": "markdown",
   "id": "ad634510",
   "metadata": {},
   "source": [
    "Vamos entender como funicona a TLC"
   ]
  },
  {
   "cell_type": "code",
   "execution_count": 39,
   "id": "1699139d",
   "metadata": {
    "ExecuteTime": {
     "end_time": "2021-10-23T15:02:16.990766Z",
     "start_time": "2021-10-23T15:02:16.297563Z"
    }
   },
   "outputs": [
    {
     "ename": "FileNotFoundError",
     "evalue": "[Errno 2] No such file or directory: 'C:/Users/Renata/DSdegree/Modulo4/Aula06/PNAD - 2015.csv'",
     "output_type": "error",
     "traceback": [
      "\u001b[1;31m---------------------------------------------------------------------------\u001b[0m",
      "\u001b[1;31mFileNotFoundError\u001b[0m                         Traceback (most recent call last)",
      "\u001b[1;32m<ipython-input-39-7da9bb0717e0>\u001b[0m in \u001b[0;36m<module>\u001b[1;34m\u001b[0m\n\u001b[0;32m      1\u001b[0m \u001b[1;31m# PNAD - Pesquisa Nacional por Amostra de Domicílios\u001b[0m\u001b[1;33m\u001b[0m\u001b[1;33m\u001b[0m\u001b[1;33m\u001b[0m\u001b[0m\n\u001b[0;32m      2\u001b[0m \u001b[1;33m\u001b[0m\u001b[0m\n\u001b[1;32m----> 3\u001b[1;33m \u001b[0mdf\u001b[0m \u001b[1;33m=\u001b[0m \u001b[0mpd\u001b[0m\u001b[1;33m.\u001b[0m\u001b[0mread_csv\u001b[0m\u001b[1;33m(\u001b[0m\u001b[1;34m'C:/Users/Renata/DSdegree/Modulo4/Aula06/PNAD - 2015.csv'\u001b[0m\u001b[1;33m)\u001b[0m\u001b[1;33m\u001b[0m\u001b[1;33m\u001b[0m\u001b[0m\n\u001b[0m",
      "\u001b[1;32m~\\anaconda3\\envs\\Dsdegree\\lib\\site-packages\\pandas\\util\\_decorators.py\u001b[0m in \u001b[0;36mwrapper\u001b[1;34m(*args, **kwargs)\u001b[0m\n\u001b[0;32m    309\u001b[0m                     \u001b[0mstacklevel\u001b[0m\u001b[1;33m=\u001b[0m\u001b[0mstacklevel\u001b[0m\u001b[1;33m,\u001b[0m\u001b[1;33m\u001b[0m\u001b[1;33m\u001b[0m\u001b[0m\n\u001b[0;32m    310\u001b[0m                 )\n\u001b[1;32m--> 311\u001b[1;33m             \u001b[1;32mreturn\u001b[0m \u001b[0mfunc\u001b[0m\u001b[1;33m(\u001b[0m\u001b[1;33m*\u001b[0m\u001b[0margs\u001b[0m\u001b[1;33m,\u001b[0m \u001b[1;33m**\u001b[0m\u001b[0mkwargs\u001b[0m\u001b[1;33m)\u001b[0m\u001b[1;33m\u001b[0m\u001b[1;33m\u001b[0m\u001b[0m\n\u001b[0m\u001b[0;32m    312\u001b[0m \u001b[1;33m\u001b[0m\u001b[0m\n\u001b[0;32m    313\u001b[0m         \u001b[1;32mreturn\u001b[0m \u001b[0mwrapper\u001b[0m\u001b[1;33m\u001b[0m\u001b[1;33m\u001b[0m\u001b[0m\n",
      "\u001b[1;32m~\\anaconda3\\envs\\Dsdegree\\lib\\site-packages\\pandas\\io\\parsers\\readers.py\u001b[0m in \u001b[0;36mread_csv\u001b[1;34m(filepath_or_buffer, sep, delimiter, header, names, index_col, usecols, squeeze, prefix, mangle_dupe_cols, dtype, engine, converters, true_values, false_values, skipinitialspace, skiprows, skipfooter, nrows, na_values, keep_default_na, na_filter, verbose, skip_blank_lines, parse_dates, infer_datetime_format, keep_date_col, date_parser, dayfirst, cache_dates, iterator, chunksize, compression, thousands, decimal, lineterminator, quotechar, quoting, doublequote, escapechar, comment, encoding, encoding_errors, dialect, error_bad_lines, warn_bad_lines, on_bad_lines, delim_whitespace, low_memory, memory_map, float_precision, storage_options)\u001b[0m\n\u001b[0;32m    584\u001b[0m     \u001b[0mkwds\u001b[0m\u001b[1;33m.\u001b[0m\u001b[0mupdate\u001b[0m\u001b[1;33m(\u001b[0m\u001b[0mkwds_defaults\u001b[0m\u001b[1;33m)\u001b[0m\u001b[1;33m\u001b[0m\u001b[1;33m\u001b[0m\u001b[0m\n\u001b[0;32m    585\u001b[0m \u001b[1;33m\u001b[0m\u001b[0m\n\u001b[1;32m--> 586\u001b[1;33m     \u001b[1;32mreturn\u001b[0m \u001b[0m_read\u001b[0m\u001b[1;33m(\u001b[0m\u001b[0mfilepath_or_buffer\u001b[0m\u001b[1;33m,\u001b[0m \u001b[0mkwds\u001b[0m\u001b[1;33m)\u001b[0m\u001b[1;33m\u001b[0m\u001b[1;33m\u001b[0m\u001b[0m\n\u001b[0m\u001b[0;32m    587\u001b[0m \u001b[1;33m\u001b[0m\u001b[0m\n\u001b[0;32m    588\u001b[0m \u001b[1;33m\u001b[0m\u001b[0m\n",
      "\u001b[1;32m~\\anaconda3\\envs\\Dsdegree\\lib\\site-packages\\pandas\\io\\parsers\\readers.py\u001b[0m in \u001b[0;36m_read\u001b[1;34m(filepath_or_buffer, kwds)\u001b[0m\n\u001b[0;32m    480\u001b[0m \u001b[1;33m\u001b[0m\u001b[0m\n\u001b[0;32m    481\u001b[0m     \u001b[1;31m# Create the parser.\u001b[0m\u001b[1;33m\u001b[0m\u001b[1;33m\u001b[0m\u001b[1;33m\u001b[0m\u001b[0m\n\u001b[1;32m--> 482\u001b[1;33m     \u001b[0mparser\u001b[0m \u001b[1;33m=\u001b[0m \u001b[0mTextFileReader\u001b[0m\u001b[1;33m(\u001b[0m\u001b[0mfilepath_or_buffer\u001b[0m\u001b[1;33m,\u001b[0m \u001b[1;33m**\u001b[0m\u001b[0mkwds\u001b[0m\u001b[1;33m)\u001b[0m\u001b[1;33m\u001b[0m\u001b[1;33m\u001b[0m\u001b[0m\n\u001b[0m\u001b[0;32m    483\u001b[0m \u001b[1;33m\u001b[0m\u001b[0m\n\u001b[0;32m    484\u001b[0m     \u001b[1;32mif\u001b[0m \u001b[0mchunksize\u001b[0m \u001b[1;32mor\u001b[0m \u001b[0miterator\u001b[0m\u001b[1;33m:\u001b[0m\u001b[1;33m\u001b[0m\u001b[1;33m\u001b[0m\u001b[0m\n",
      "\u001b[1;32m~\\anaconda3\\envs\\Dsdegree\\lib\\site-packages\\pandas\\io\\parsers\\readers.py\u001b[0m in \u001b[0;36m__init__\u001b[1;34m(self, f, engine, **kwds)\u001b[0m\n\u001b[0;32m    809\u001b[0m             \u001b[0mself\u001b[0m\u001b[1;33m.\u001b[0m\u001b[0moptions\u001b[0m\u001b[1;33m[\u001b[0m\u001b[1;34m\"has_index_names\"\u001b[0m\u001b[1;33m]\u001b[0m \u001b[1;33m=\u001b[0m \u001b[0mkwds\u001b[0m\u001b[1;33m[\u001b[0m\u001b[1;34m\"has_index_names\"\u001b[0m\u001b[1;33m]\u001b[0m\u001b[1;33m\u001b[0m\u001b[1;33m\u001b[0m\u001b[0m\n\u001b[0;32m    810\u001b[0m \u001b[1;33m\u001b[0m\u001b[0m\n\u001b[1;32m--> 811\u001b[1;33m         \u001b[0mself\u001b[0m\u001b[1;33m.\u001b[0m\u001b[0m_engine\u001b[0m \u001b[1;33m=\u001b[0m \u001b[0mself\u001b[0m\u001b[1;33m.\u001b[0m\u001b[0m_make_engine\u001b[0m\u001b[1;33m(\u001b[0m\u001b[0mself\u001b[0m\u001b[1;33m.\u001b[0m\u001b[0mengine\u001b[0m\u001b[1;33m)\u001b[0m\u001b[1;33m\u001b[0m\u001b[1;33m\u001b[0m\u001b[0m\n\u001b[0m\u001b[0;32m    812\u001b[0m \u001b[1;33m\u001b[0m\u001b[0m\n\u001b[0;32m    813\u001b[0m     \u001b[1;32mdef\u001b[0m \u001b[0mclose\u001b[0m\u001b[1;33m(\u001b[0m\u001b[0mself\u001b[0m\u001b[1;33m)\u001b[0m\u001b[1;33m:\u001b[0m\u001b[1;33m\u001b[0m\u001b[1;33m\u001b[0m\u001b[0m\n",
      "\u001b[1;32m~\\anaconda3\\envs\\Dsdegree\\lib\\site-packages\\pandas\\io\\parsers\\readers.py\u001b[0m in \u001b[0;36m_make_engine\u001b[1;34m(self, engine)\u001b[0m\n\u001b[0;32m   1038\u001b[0m             )\n\u001b[0;32m   1039\u001b[0m         \u001b[1;31m# error: Too many arguments for \"ParserBase\"\u001b[0m\u001b[1;33m\u001b[0m\u001b[1;33m\u001b[0m\u001b[1;33m\u001b[0m\u001b[0m\n\u001b[1;32m-> 1040\u001b[1;33m         \u001b[1;32mreturn\u001b[0m \u001b[0mmapping\u001b[0m\u001b[1;33m[\u001b[0m\u001b[0mengine\u001b[0m\u001b[1;33m]\u001b[0m\u001b[1;33m(\u001b[0m\u001b[0mself\u001b[0m\u001b[1;33m.\u001b[0m\u001b[0mf\u001b[0m\u001b[1;33m,\u001b[0m \u001b[1;33m**\u001b[0m\u001b[0mself\u001b[0m\u001b[1;33m.\u001b[0m\u001b[0moptions\u001b[0m\u001b[1;33m)\u001b[0m  \u001b[1;31m# type: ignore[call-arg]\u001b[0m\u001b[1;33m\u001b[0m\u001b[1;33m\u001b[0m\u001b[0m\n\u001b[0m\u001b[0;32m   1041\u001b[0m \u001b[1;33m\u001b[0m\u001b[0m\n\u001b[0;32m   1042\u001b[0m     \u001b[1;32mdef\u001b[0m \u001b[0m_failover_to_python\u001b[0m\u001b[1;33m(\u001b[0m\u001b[0mself\u001b[0m\u001b[1;33m)\u001b[0m\u001b[1;33m:\u001b[0m\u001b[1;33m\u001b[0m\u001b[1;33m\u001b[0m\u001b[0m\n",
      "\u001b[1;32m~\\anaconda3\\envs\\Dsdegree\\lib\\site-packages\\pandas\\io\\parsers\\c_parser_wrapper.py\u001b[0m in \u001b[0;36m__init__\u001b[1;34m(self, src, **kwds)\u001b[0m\n\u001b[0;32m     49\u001b[0m \u001b[1;33m\u001b[0m\u001b[0m\n\u001b[0;32m     50\u001b[0m         \u001b[1;31m# open handles\u001b[0m\u001b[1;33m\u001b[0m\u001b[1;33m\u001b[0m\u001b[1;33m\u001b[0m\u001b[0m\n\u001b[1;32m---> 51\u001b[1;33m         \u001b[0mself\u001b[0m\u001b[1;33m.\u001b[0m\u001b[0m_open_handles\u001b[0m\u001b[1;33m(\u001b[0m\u001b[0msrc\u001b[0m\u001b[1;33m,\u001b[0m \u001b[0mkwds\u001b[0m\u001b[1;33m)\u001b[0m\u001b[1;33m\u001b[0m\u001b[1;33m\u001b[0m\u001b[0m\n\u001b[0m\u001b[0;32m     52\u001b[0m         \u001b[1;32massert\u001b[0m \u001b[0mself\u001b[0m\u001b[1;33m.\u001b[0m\u001b[0mhandles\u001b[0m \u001b[1;32mis\u001b[0m \u001b[1;32mnot\u001b[0m \u001b[1;32mNone\u001b[0m\u001b[1;33m\u001b[0m\u001b[1;33m\u001b[0m\u001b[0m\n\u001b[0;32m     53\u001b[0m \u001b[1;33m\u001b[0m\u001b[0m\n",
      "\u001b[1;32m~\\anaconda3\\envs\\Dsdegree\\lib\\site-packages\\pandas\\io\\parsers\\base_parser.py\u001b[0m in \u001b[0;36m_open_handles\u001b[1;34m(self, src, kwds)\u001b[0m\n\u001b[0;32m    220\u001b[0m         \u001b[0mLet\u001b[0m \u001b[0mthe\u001b[0m \u001b[0mreaders\u001b[0m \u001b[0mopen\u001b[0m \u001b[0mIOHandles\u001b[0m \u001b[0mafter\u001b[0m \u001b[0mthey\u001b[0m \u001b[0mare\u001b[0m \u001b[0mdone\u001b[0m \u001b[1;32mwith\u001b[0m \u001b[0mtheir\u001b[0m \u001b[0mpotential\u001b[0m \u001b[0mraises\u001b[0m\u001b[1;33m.\u001b[0m\u001b[1;33m\u001b[0m\u001b[1;33m\u001b[0m\u001b[0m\n\u001b[0;32m    221\u001b[0m         \"\"\"\n\u001b[1;32m--> 222\u001b[1;33m         self.handles = get_handle(\n\u001b[0m\u001b[0;32m    223\u001b[0m             \u001b[0msrc\u001b[0m\u001b[1;33m,\u001b[0m\u001b[1;33m\u001b[0m\u001b[1;33m\u001b[0m\u001b[0m\n\u001b[0;32m    224\u001b[0m             \u001b[1;34m\"r\"\u001b[0m\u001b[1;33m,\u001b[0m\u001b[1;33m\u001b[0m\u001b[1;33m\u001b[0m\u001b[0m\n",
      "\u001b[1;32m~\\anaconda3\\envs\\Dsdegree\\lib\\site-packages\\pandas\\io\\common.py\u001b[0m in \u001b[0;36mget_handle\u001b[1;34m(path_or_buf, mode, encoding, compression, memory_map, is_text, errors, storage_options)\u001b[0m\n\u001b[0;32m    700\u001b[0m         \u001b[1;32mif\u001b[0m \u001b[0mioargs\u001b[0m\u001b[1;33m.\u001b[0m\u001b[0mencoding\u001b[0m \u001b[1;32mand\u001b[0m \u001b[1;34m\"b\"\u001b[0m \u001b[1;32mnot\u001b[0m \u001b[1;32min\u001b[0m \u001b[0mioargs\u001b[0m\u001b[1;33m.\u001b[0m\u001b[0mmode\u001b[0m\u001b[1;33m:\u001b[0m\u001b[1;33m\u001b[0m\u001b[1;33m\u001b[0m\u001b[0m\n\u001b[0;32m    701\u001b[0m             \u001b[1;31m# Encoding\u001b[0m\u001b[1;33m\u001b[0m\u001b[1;33m\u001b[0m\u001b[1;33m\u001b[0m\u001b[0m\n\u001b[1;32m--> 702\u001b[1;33m             handle = open(\n\u001b[0m\u001b[0;32m    703\u001b[0m                 \u001b[0mhandle\u001b[0m\u001b[1;33m,\u001b[0m\u001b[1;33m\u001b[0m\u001b[1;33m\u001b[0m\u001b[0m\n\u001b[0;32m    704\u001b[0m                 \u001b[0mioargs\u001b[0m\u001b[1;33m.\u001b[0m\u001b[0mmode\u001b[0m\u001b[1;33m,\u001b[0m\u001b[1;33m\u001b[0m\u001b[1;33m\u001b[0m\u001b[0m\n",
      "\u001b[1;31mFileNotFoundError\u001b[0m: [Errno 2] No such file or directory: 'C:/Users/Renata/DSdegree/Modulo4/Aula06/PNAD - 2015.csv'"
     ]
    }
   ],
   "source": [
    "# PNAD - Pesquisa Nacional por Amostra de Domicílios\n",
    "\n",
    "df = pd.read_csv('C:/Users/Renata/DSdegree/Modulo4/Aula06/PNAD - 2015.csv')"
   ]
  },
  {
   "cell_type": "code",
   "execution_count": null,
   "id": "5f718cd3",
   "metadata": {
    "ExecuteTime": {
     "end_time": "2021-10-23T15:02:16.997765Z",
     "start_time": "2021-10-23T15:01:21.696Z"
    }
   },
   "outputs": [],
   "source": [
    "df"
   ]
  },
  {
   "cell_type": "code",
   "execution_count": null,
   "id": "9f899fec",
   "metadata": {
    "ExecuteTime": {
     "end_time": "2021-10-23T15:02:16.997765Z",
     "start_time": "2021-10-23T15:01:21.697Z"
    }
   },
   "outputs": [],
   "source": [
    "sns.histplot(df['Idade'])"
   ]
  },
  {
   "cell_type": "markdown",
   "id": "8d43b65c",
   "metadata": {},
   "source": [
    "> O Teorema do Limite Central afirma que, **com o aumento do tamanho da amostra, a distribuição das médias amostrais se aproxima de uma distribuição normal** com média igual à média da população e desvio padrão igual ao desvio padrão da variável original dividido pela raiz quadrada do tamanho da amostra. Este fato é assegurado para n maior ou igual a 30."
   ]
  },
  {
   "cell_type": "code",
   "execution_count": null,
   "id": "93392071",
   "metadata": {
    "ExecuteTime": {
     "end_time": "2021-10-23T15:02:16.998736Z",
     "start_time": "2021-10-23T15:01:21.699Z"
    }
   },
   "outputs": [],
   "source": [
    "df['Idade'].sample(5)"
   ]
  },
  {
   "cell_type": "code",
   "execution_count": null,
   "id": "94eebc1b",
   "metadata": {
    "ExecuteTime": {
     "end_time": "2021-10-23T15:02:16.999734Z",
     "start_time": "2021-10-23T15:01:21.700Z"
    }
   },
   "outputs": [],
   "source": [
    "df['Idade'].sample(5)"
   ]
  },
  {
   "cell_type": "code",
   "execution_count": null,
   "id": "9d91de9c",
   "metadata": {
    "ExecuteTime": {
     "end_time": "2021-10-23T15:02:17.000732Z",
     "start_time": "2021-10-23T15:01:21.702Z"
    }
   },
   "outputs": [],
   "source": [
    "n = 1500 #(tamanho da amostra)\n",
    "numero_de_amostras = 2000 #(número de amostras)\n",
    "amostra = []\n",
    "\n",
    "for i in range(numero_de_amostras):\n",
    "    amostra.append(df['Idade'].sample(n).reset_index(drop=True))\n",
    "\n",
    "amostras = pd.concat(amostra, axis=1)"
   ]
  },
  {
   "cell_type": "code",
   "execution_count": null,
   "id": "44a3a5ef",
   "metadata": {
    "ExecuteTime": {
     "end_time": "2021-10-23T15:02:17.001729Z",
     "start_time": "2021-10-23T15:01:21.703Z"
    }
   },
   "outputs": [],
   "source": [
    "amostras.columns = ['Amostra'+str(i+1) for i in range(numero_de_amostras)]"
   ]
  },
  {
   "cell_type": "code",
   "execution_count": null,
   "id": "0caa2d13",
   "metadata": {
    "ExecuteTime": {
     "end_time": "2021-10-23T15:02:17.003725Z",
     "start_time": "2021-10-23T15:01:21.705Z"
    }
   },
   "outputs": [],
   "source": [
    "amostras"
   ]
  },
  {
   "cell_type": "code",
   "execution_count": null,
   "id": "f0b65461",
   "metadata": {
    "ExecuteTime": {
     "end_time": "2021-10-23T15:02:17.004741Z",
     "start_time": "2021-10-23T15:01:21.707Z"
    }
   },
   "outputs": [],
   "source": [
    "# tirando a média de cada coluna, ou seja, média de cada amostra\n",
    "amostras.mean()"
   ]
  },
  {
   "cell_type": "code",
   "execution_count": null,
   "id": "a8d47fcf",
   "metadata": {
    "ExecuteTime": {
     "end_time": "2021-10-23T15:02:17.005718Z",
     "start_time": "2021-10-23T15:01:21.710Z"
    }
   },
   "outputs": [],
   "source": [
    "amostras.mean().min(), amostras.mean().max() # menor valor de média de amostra e maior valor de média de amostra"
   ]
  },
  {
   "cell_type": "code",
   "execution_count": null,
   "id": "8200099d",
   "metadata": {
    "ExecuteTime": {
     "end_time": "2021-10-23T15:02:17.008711Z",
     "start_time": "2021-10-23T15:01:21.711Z"
    }
   },
   "outputs": [],
   "source": [
    "sns.histplot(amostras.mean(), kde=True)"
   ]
  },
  {
   "cell_type": "markdown",
   "id": "50b01f1a",
   "metadata": {},
   "source": [
    "> O Teorema do Limite Central afirma que, com o aumento do tamanho da amostra, a distribuição das médias amostrais se aproxima de uma distribuição normal **com média igual à média da população** e desvio padrão igual ao desvio padrão da variável original dividido pela raiz quadrada do tamanho da amostra. Este fato é assegurado para n maior ou igual a 30."
   ]
  },
  {
   "cell_type": "code",
   "execution_count": null,
   "id": "2e60b5fd",
   "metadata": {
    "ExecuteTime": {
     "end_time": "2021-10-23T15:02:17.009708Z",
     "start_time": "2021-10-23T15:01:21.713Z"
    }
   },
   "outputs": [],
   "source": [
    "amostras.mean().mean() # média das amostras de idade"
   ]
  },
  {
   "cell_type": "code",
   "execution_count": null,
   "id": "97de5a45",
   "metadata": {
    "ExecuteTime": {
     "end_time": "2021-10-23T15:02:17.010744Z",
     "start_time": "2021-10-23T15:01:21.715Z"
    }
   },
   "outputs": [],
   "source": [
    "df['Idade'].mean() #média de idade da população"
   ]
  },
  {
   "cell_type": "markdown",
   "id": "aee097a1",
   "metadata": {},
   "source": [
    "> O Teorema do Limite Central afirma que, com o aumento do tamanho da amostra, a distribuição das médias amostrais se aproxima de uma distribuição normal com média igual à média da população e **desvio padrão igual ao desvio padrão da variável original dividido pela raiz quadrada do tamanho da amostra**. Este fato é assegurado para n maior ou igual a 30.\n",
    "\n",
    "### $$\\sigma_\\bar{x} = \\frac{\\sigma}{\\sqrt{n}}$$"
   ]
  },
  {
   "cell_type": "code",
   "execution_count": null,
   "id": "e94bf94a",
   "metadata": {
    "ExecuteTime": {
     "end_time": "2021-10-23T15:02:17.011702Z",
     "start_time": "2021-10-23T15:01:21.717Z"
    }
   },
   "outputs": [],
   "source": [
    "df['Idade'].std() # desvio populacional"
   ]
  },
  {
   "cell_type": "code",
   "execution_count": null,
   "id": "11581278",
   "metadata": {
    "ExecuteTime": {
     "end_time": "2021-10-23T15:02:17.012700Z",
     "start_time": "2021-10-23T15:01:21.719Z"
    }
   },
   "outputs": [],
   "source": [
    "amostras.mean().std() # desvio padrão das médias amostras"
   ]
  },
  {
   "cell_type": "code",
   "execution_count": null,
   "id": "cad2489b",
   "metadata": {
    "ExecuteTime": {
     "end_time": "2021-10-23T15:02:17.013698Z",
     "start_time": "2021-10-23T15:01:21.720Z"
    }
   },
   "outputs": [],
   "source": [
    "# Usando a formula acima e verificando a afirmação do teorema do limite central\n",
    "\n",
    "df['Idade'].std() / np.sqrt(n)"
   ]
  },
  {
   "cell_type": "code",
   "execution_count": null,
   "id": "2ff5946c",
   "metadata": {
    "ExecuteTime": {
     "end_time": "2021-10-23T15:02:17.014705Z",
     "start_time": "2021-10-23T15:01:21.721Z"
    }
   },
   "outputs": [],
   "source": [
    "amostras['Amostra1'].mean()"
   ]
  },
  {
   "cell_type": "code",
   "execution_count": null,
   "id": "33a3d1f8",
   "metadata": {
    "ExecuteTime": {
     "end_time": "2021-10-23T15:02:17.015692Z",
     "start_time": "2021-10-23T15:01:21.723Z"
    }
   },
   "outputs": [],
   "source": [
    "amostras['Amostra1'].std()"
   ]
  },
  {
   "cell_type": "markdown",
   "id": "a241ba45",
   "metadata": {},
   "source": [
    "Lembrando do bootstrap"
   ]
  },
  {
   "cell_type": "code",
   "execution_count": null,
   "id": "4eb7f5fa",
   "metadata": {
    "ExecuteTime": {
     "end_time": "2021-10-23T15:02:17.016689Z",
     "start_time": "2021-10-23T15:01:21.725Z"
    }
   },
   "outputs": [],
   "source": [
    "from sklearn.utils import resample # reamostragem\n",
    "\n",
    "results = []\n",
    "for nrepeat in range(1000):\n",
    "    sample = resample(df['Idade'])\n",
    "    results.append(sample.median())\n",
    "results = pd.Series(results)\n",
    "print('Bootstrap Statistics:')\n",
    "print(f'original: {df[\"Idade\"].median()}')\n",
    "print(f'bias: {results.mean() - df[\"Idade\"].median()}')\n",
    "print(f'std. error: {results.std()}')"
   ]
  },
  {
   "cell_type": "markdown",
   "id": "d585dd75",
   "metadata": {},
   "source": [
    "A estimativa original mediana é de 43 anos. A distribuição bootstrap incida que a estimativa possui um viés de aproximadamente 0,01 ano e um erro-padrão de 0,1 ano"
   ]
  },
  {
   "cell_type": "markdown",
   "id": "ab53871d",
   "metadata": {},
   "source": [
    "**Gráfico QQ**\n",
    "\n",
    "Um gráfico para visualizar quão próxima uma distribuição amostral está de uma distribuição\n",
    "normal.\n",
    "\n",
    "O gráfico QQ ordena os escores z de\n",
    "baixos a altos e registra cada valor do escore z no eixo y, e o eixo x é o\n",
    "quantil correspondente a uma distribuição normal para a posição daquele\n",
    "valor. Como os dados estão normalizados, as unidades correspondem a um\n",
    "número de desvios-padrão dos dados da média"
   ]
  },
  {
   "cell_type": "code",
   "execution_count": null,
   "id": "892ce4e1",
   "metadata": {
    "ExecuteTime": {
     "end_time": "2021-10-23T15:02:17.017687Z",
     "start_time": "2021-10-23T15:01:21.727Z"
    }
   },
   "outputs": [],
   "source": [
    "from scipy import stats\n",
    "fig, ax = plt.subplots(figsize=(4, 4))\n",
    "\n",
    "stats.probplot(df['Idade'].sample(1000), plot=ax) #vou aumentando o tamanho da amostra\n",
    "\n",
    "plt.tight_layout()\n",
    "plt.show()"
   ]
  },
  {
   "cell_type": "code",
   "execution_count": null,
   "id": "6156c477",
   "metadata": {
    "ExecuteTime": {
     "end_time": "2021-10-23T15:02:17.018684Z",
     "start_time": "2021-10-23T15:01:21.728Z"
    }
   },
   "outputs": [],
   "source": [
    "# um exemplo com dados de uma distribuição normal\n",
    "from scipy import stats\n",
    "fig, ax = plt.subplots(figsize=(4, 4))\n",
    "\n",
    "norm_sample = stats.norm.rvs(size=40)\n",
    "stats.probplot(norm_sample, plot=ax)\n",
    "\n",
    "plt.tight_layout()\n",
    "plt.show()"
   ]
  },
  {
   "cell_type": "code",
   "execution_count": null,
   "id": "048d8611",
   "metadata": {
    "ExecuteTime": {
     "end_time": "2021-10-23T15:02:17.019682Z",
     "start_time": "2021-10-23T15:01:21.730Z"
    }
   },
   "outputs": [],
   "source": [
    "# O que devemos observar nesse gráfico é que quanto maior o tamanho da amostra, mais se aproxima da curva normal\n",
    "\n",
    "# um exemplo com dados de uma distribuição normal\n",
    "from scipy import stats\n",
    "fig, ax = plt.subplots(figsize=(4, 4))\n",
    "\n",
    "norm_sample = stats.norm.rvs(size=10000)\n",
    "stats.probplot(norm_sample, plot=ax)\n",
    "\n",
    "plt.tight_layout()\n",
    "plt.show()"
   ]
  },
  {
   "cell_type": "markdown",
   "id": "5bd458f1",
   "metadata": {},
   "source": [
    "Tabelas de frequência, histogramas, boxplots e erros-padrão são todos meios\n",
    "de entender o potencial erro de uma estimativa de amostra. **Intervalos de\n",
    "confiança** são outro.\n",
    "\n",
    "**Nível de confiança**:\n",
    "\n",
    "A porcentagem de intervalos de confiança, construída da mesma forma e de uma mesma\n",
    "população, em que se espera que haja a estatística de interesse.\n",
    "\n",
    "**Extremidades de intervalo**:  \n",
    "\n",
    "O topo e a base do intervalo de confiança"
   ]
  },
  {
   "cell_type": "markdown",
   "id": "68935cf6",
   "metadata": {},
   "source": [
    "## 4 Níveis de confiança e significância\n",
    "\n",
    "\n",
    "O **nível de confiança** ($1 - \\alpha$) representa a probabilidade de acerto da estimativa. De forma complementar o **nível de significância** ($\\alpha$) expressa a probabilidade de erro da estimativa.\n",
    "\n",
    "O **nível de confiança** representa o grau de confiabilidade do resultado da estimativa estar dentro de determinado intervalo. Quando fixamos em uma pesquisa um **nível de confiança** de 95%, por exemplo, estamos assumindo que existe uma probabilidade de 95% dos resultados da pesquisa representarem bem a realidade, ou seja, estarem corretos.\n",
    "\n",
    "O **nível de confiança** de uma estimativa pode ser obtido a partir da área sob a curva normal como ilustrado na figura abaixo.\n",
    "\n",
    "![alt text](https://caelum-online-public.s3.amazonaws.com/1178-estatistica-parte2/01/img007.png)\n",
    "\n",
    "Para um cientista de dados, um intervalo de confiança é uma ferramenta para ter uma\n",
    "ideia de quão variável o resultado da amostra pode ser. Os cientistas de dados não\n",
    "utilizariam essa informação para publicar um artigo acadêmico ou submeter um resultado\n",
    "a uma agência regulatória (como um pesquisador poderia fazer), mas provavelmente para\n",
    "comunicar o potencial erro em uma estimativa e, talvez, entender se uma amostra maior é\n",
    "necessária.\n",
    "\n",
    "\n",
    "\n",
    "\n",
    "\n",
    "##  Erro inferencial\n",
    "***\n",
    "\n",
    "O **erro inferencial** é definido pelo **desvio padrão das médias amostrais** $\\sigma_\\bar{x}$ e pelo **nível de confiança** determinado para o processo.\n",
    "\n",
    "# $$e = z \\frac{\\sigma}{\\sqrt{n}}$$\n",
    "\n",
    "##  Intervalos de confiança\n",
    "***\n",
    "\n",
    "### Intervalo de confiança para a média da população\n",
    "\n",
    "#### Com desvio padrão populacional conhecido\n",
    "\n",
    "## $$\\mu = \\bar{x} \\pm z_{\\alpha/2}\\frac{\\sigma}{\\sqrt{n}}$$\n",
    "\n",
    "#### Com desvio padrão populacional desconhecido\n",
    "\n",
    "## $$\\mu = \\bar{x} \\pm z\\frac{s}{\\sqrt{n}}$$\n",
    "\n",
    "### Exemplo\n",
    "\n",
    "Suponha que os pesos dos sacos de arroz de uma indústria alimentícia se distribuem aproximadamente como uma normal de **desvio padrão populacional igual a 150 g**. Selecionada uma **amostra aleatória de 20 sacos** de um lote específico, obteve-se um **peso médio de 5.050 g**. Construa um intervalo de confiança para a **média populacional** assumindo um **nível de significância de 5%**."
   ]
  },
  {
   "cell_type": "code",
   "execution_count": null,
   "id": "b411810f",
   "metadata": {
    "ExecuteTime": {
     "end_time": "2021-10-23T15:02:17.019682Z",
     "start_time": "2021-10-23T15:01:21.732Z"
    }
   },
   "outputs": [],
   "source": [
    "sigma = 150 # desvio padrão populacional\n",
    "\n",
    "n = 20 # tamanho da amostra\n",
    "\n",
    "media_amostral = 5050 # x barra\n",
    "\n",
    "significancia = 0.05"
   ]
  },
  {
   "cell_type": "code",
   "execution_count": null,
   "id": "7b931f26",
   "metadata": {
    "ExecuteTime": {
     "end_time": "2021-10-23T15:02:17.020679Z",
     "start_time": "2021-10-23T15:01:21.734Z"
    }
   },
   "outputs": [],
   "source": [
    "confianca = 1 - significancia\n",
    "confianca"
   ]
  },
  {
   "cell_type": "markdown",
   "id": "87334109",
   "metadata": {},
   "source": [
    "$$\\mu = \\bar{x} \\pm z_{\\alpha/2}\\frac{\\sigma}{\\sqrt{n}}$$"
   ]
  },
  {
   "cell_type": "markdown",
   "id": "1ffedfac",
   "metadata": {
    "ExecuteTime": {
     "end_time": "2021-10-21T00:52:25.620992Z",
     "start_time": "2021-10-21T00:52:25.431944Z"
    }
   },
   "source": [
    "Falta calcular o z_alfa_2  ---> precisamos da tabela de z (tabela normal padronizada)"
   ]
  },
  {
   "cell_type": "code",
   "execution_count": null,
   "id": "435abc75",
   "metadata": {
    "ExecuteTime": {
     "end_time": "2021-10-23T15:02:17.022675Z",
     "start_time": "2021-10-23T15:01:21.736Z"
    }
   },
   "outputs": [],
   "source": [
    "# Obtendo o z\n",
    "\n",
    "from scipy.stats import norm\n",
    "\n",
    "tabela_normal_padronizada = pd.DataFrame(\n",
    "    [], \n",
    "    index=[\"{0:0.2f}\".format(i / 100) for i in range(0, 400, 10)],\n",
    "    columns = [\"{0:0.2f}\".format(i / 100) for i in range(0, 10)])\n",
    "\n",
    "for index in tabela_normal_padronizada.index:\n",
    "    for column in tabela_normal_padronizada.columns:\n",
    "        Z = np.round(float(index) + float(column), 2)\n",
    "        tabela_normal_padronizada.loc[index, column] = \"{0:0.4f}\".format(norm.cdf(Z))\n",
    "\n",
    "tabela_normal_padronizada.rename_axis('Z', axis = 'columns', inplace = True)"
   ]
  },
  {
   "cell_type": "code",
   "execution_count": null,
   "id": "0d99f20b",
   "metadata": {
    "ExecuteTime": {
     "end_time": "2021-10-23T15:02:17.023672Z",
     "start_time": "2021-10-23T15:01:21.738Z"
    },
    "scrolled": true
   },
   "outputs": [],
   "source": [
    "tabela_normal_padronizada"
   ]
  },
  {
   "cell_type": "code",
   "execution_count": null,
   "id": "2d6f7057",
   "metadata": {
    "ExecuteTime": {
     "end_time": "2021-10-23T15:02:17.024670Z",
     "start_time": "2021-10-23T15:01:21.740Z"
    }
   },
   "outputs": [],
   "source": [
    "tabela_normal_padronizada.iloc[15:22]"
   ]
  },
  {
   "cell_type": "markdown",
   "id": "913409a5",
   "metadata": {},
   "source": [
    "![alt text](https://caelum-online-public.s3.amazonaws.com/1178-estatistica-parte2/01/img008.png)"
   ]
  },
  {
   "cell_type": "markdown",
   "id": "fad9170d",
   "metadata": {},
   "source": [
    "    "
   ]
  },
  {
   "cell_type": "code",
   "execution_count": null,
   "id": "8dd6c66c",
   "metadata": {},
   "outputs": [],
   "source": []
  },
  {
   "cell_type": "code",
   "execution_count": null,
   "id": "29dc81f2",
   "metadata": {},
   "outputs": [],
   "source": []
  },
  {
   "cell_type": "code",
   "execution_count": null,
   "id": "99716228",
   "metadata": {},
   "outputs": [],
   "source": []
  },
  {
   "cell_type": "code",
   "execution_count": null,
   "id": "df5cf659",
   "metadata": {},
   "outputs": [],
   "source": []
  },
  {
   "cell_type": "code",
   "execution_count": null,
   "id": "e2e1d871",
   "metadata": {},
   "outputs": [],
   "source": []
  }
 ],
 "metadata": {
  "kernelspec": {
   "display_name": "Python 3",
   "language": "python",
   "name": "python3"
  },
  "language_info": {
   "codemirror_mode": {
    "name": "ipython",
    "version": 3
   },
   "file_extension": ".py",
   "mimetype": "text/x-python",
   "name": "python",
   "nbconvert_exporter": "python",
   "pygments_lexer": "ipython3",
   "version": "3.9.5"
  },
  "varInspector": {
   "cols": {
    "lenName": 16,
    "lenType": 16,
    "lenVar": 40
   },
   "kernels_config": {
    "python": {
     "delete_cmd_postfix": "",
     "delete_cmd_prefix": "del ",
     "library": "var_list.py",
     "varRefreshCmd": "print(var_dic_list())"
    },
    "r": {
     "delete_cmd_postfix": ") ",
     "delete_cmd_prefix": "rm(",
     "library": "var_list.r",
     "varRefreshCmd": "cat(var_dic_list()) "
    }
   },
   "types_to_exclude": [
    "module",
    "function",
    "builtin_function_or_method",
    "instance",
    "_Feature"
   ],
   "window_display": false
  }
 },
 "nbformat": 4,
 "nbformat_minor": 5
}
