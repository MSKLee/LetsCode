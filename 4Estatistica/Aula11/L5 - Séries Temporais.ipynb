{
 "cells": [
  {
   "cell_type": "markdown",
   "id": "cf37e499",
   "metadata": {},
   "source": [
    "# Exercícios - Séries Temporais"
   ]
  },
  {
   "cell_type": "code",
   "execution_count": null,
   "metadata": {},
   "outputs": [],
   "source": [
    "import "
   ]
  },
  {
   "cell_type": "markdown",
   "id": "f51766c3",
   "metadata": {
    "heading_collapsed": true
   },
   "source": [
    "### Questão 1"
   ]
  },
  {
   "cell_type": "markdown",
   "id": "ab404135",
   "metadata": {
    "hidden": true
   },
   "source": [
    "Utilizando o _dataset_ `covid_saopaulo.csv`, plote o gráfico do número de casos de COVID em SP e a média móvel dos últimos 15 dias."
   ]
  },
  {
   "cell_type": "markdown",
   "id": "c23391d0",
   "metadata": {
    "heading_collapsed": true
   },
   "source": [
    "### Resolução:"
   ]
  },
  {
   "cell_type": "code",
   "execution_count": null,
   "id": "e199015f",
   "metadata": {
    "hidden": true
   },
   "outputs": [],
   "source": []
  },
  {
   "cell_type": "markdown",
   "id": "1038cf6e",
   "metadata": {},
   "source": [
    "### Questão 2"
   ]
  },
  {
   "cell_type": "markdown",
   "id": "93a2d4b1",
   "metadata": {},
   "source": [
    "Ainda utilizando o _dataset_ `covid_saopaulo.csv`, agora para os casos de óbitos por COVID em SP, define as componentes da série temporal (sazonalidade, tendência, resíduo)."
   ]
  },
  {
   "cell_type": "markdown",
   "id": "4de7d097",
   "metadata": {},
   "source": [
    "### Resolução:"
   ]
  },
  {
   "cell_type": "code",
   "execution_count": null,
   "id": "1cbe829a",
   "metadata": {},
   "outputs": [],
   "source": []
  },
  {
   "cell_type": "markdown",
   "id": "2e45ef46",
   "metadata": {},
   "source": [
    "### Questão 3"
   ]
  },
  {
   "cell_type": "markdown",
   "id": "51c69b58",
   "metadata": {},
   "source": [
    "Plote o gráfico da série temporal e defina as componentes para o _dataset_ `airline_passengers.csv`, dado que para o caso deste _dataset_ temos como período mensal e sazonalidade multiplicativa."
   ]
  },
  {
   "cell_type": "markdown",
   "id": "7e3f93c7",
   "metadata": {},
   "source": [
    "### Resolução:"
   ]
  },
  {
   "cell_type": "code",
   "execution_count": null,
   "id": "36bd920d",
   "metadata": {},
   "outputs": [],
   "source": []
  },
  {
   "cell_type": "markdown",
   "id": "83489b5b",
   "metadata": {},
   "source": [
    "### Questão 4"
   ]
  },
  {
   "cell_type": "markdown",
   "id": "58e4c9af",
   "metadata": {},
   "source": [
    "Ao estudar séries temporais, um fator importante para utilizar modelos preditivos é a questão de estacionaridade de uma série.\n",
    "\n",
    "Para uma série ser estacionária, ela precisa que sua média e variância mantenham-se constante ao longo do tempo. Para o _dataset_ `airline_passengers.csv` não é estacionária devido a sua característica de sazonalidade multiplicativa (ou seja, ao longo do tempo aumenta a amplitude da série, dessa forma a variância não é constante).\n",
    "\n",
    "Uma forma de suavizar a série temporal para que tenha um comportamento estacionário é pegarmos a diferença de variação entre os pontos. Assim vamos praticar da seguinte forma:\n",
    "\n",
    "__A)__ Calcule a primeira diferença para os dados do _dataset_ `airlines.csv` e plote um gráfico. Podemos dizer que pode ter um comportamento estacionário?\n",
    "\n",
    "__B)__ Faça o mesmo procedimento para a segunda diferença."
   ]
  },
  {
   "cell_type": "markdown",
   "id": "12e38693",
   "metadata": {},
   "source": [
    "### Resolução:"
   ]
  },
  {
   "cell_type": "code",
   "execution_count": null,
   "id": "c1c01364",
   "metadata": {},
   "outputs": [],
   "source": []
  },
  {
   "cell_type": "markdown",
   "id": "6f5c955f",
   "metadata": {},
   "source": [
    "### Questão 5"
   ]
  },
  {
   "cell_type": "markdown",
   "id": "8b925ad9",
   "metadata": {},
   "source": [
    "Plote o gráfico do fechamento das ações do _Starbucks_ disponível no _dataset_ `starbucks.csv` e um gráfico de taxa de retorno das ações."
   ]
  },
  {
   "cell_type": "markdown",
   "id": "46690543",
   "metadata": {},
   "source": [
    "### Resolução:"
   ]
  },
  {
   "cell_type": "code",
   "execution_count": null,
   "id": "4d51c9c4",
   "metadata": {},
   "outputs": [],
   "source": []
  }
 ],
 "metadata": {
  "kernelspec": {
   "display_name": "Python 3",
   "language": "python",
   "name": "python3"
  },
  "language_info": {
   "codemirror_mode": {
    "name": "ipython",
    "version": 3
   },
   "file_extension": ".py",
   "mimetype": "text/x-python",
   "name": "python",
   "nbconvert_exporter": "python",
   "pygments_lexer": "ipython3",
   "version": "3.9.5"
  },
  "varInspector": {
   "cols": {
    "lenName": 16,
    "lenType": 16,
    "lenVar": 40
   },
   "kernels_config": {
    "python": {
     "delete_cmd_postfix": "",
     "delete_cmd_prefix": "del ",
     "library": "var_list.py",
     "varRefreshCmd": "print(var_dic_list())"
    },
    "r": {
     "delete_cmd_postfix": ") ",
     "delete_cmd_prefix": "rm(",
     "library": "var_list.r",
     "varRefreshCmd": "cat(var_dic_list()) "
    }
   },
   "types_to_exclude": [
    "module",
    "function",
    "builtin_function_or_method",
    "instance",
    "_Feature"
   ],
   "window_display": false
  }
 },
 "nbformat": 4,
 "nbformat_minor": 5
}
