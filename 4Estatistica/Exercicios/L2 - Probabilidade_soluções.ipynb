{
 "cells": [
  {
   "cell_type": "markdown",
   "id": "ab3dfefb",
   "metadata": {},
   "source": [
    "# Exercícios - Probabilidade"
   ]
  },
  {
   "cell_type": "markdown",
   "id": "65123c45",
   "metadata": {},
   "source": [
    "### Questão 1"
   ]
  },
  {
   "cell_type": "markdown",
   "id": "f36953b8",
   "metadata": {},
   "source": [
    "Um teste para COVID-19 possui uma taxa de 5% de falso positivo e 1% de falso negativo, ou seja, em 5% dos não-infectados acusa como infectados, e em 1% dos infectados acusa como não infectados. Sabendo que atualmente 1% da população está infectada, calcule a probabilidade de um paciente cujo teste apontou positivo estar realmente infectado."
   ]
  },
  {
   "cell_type": "markdown",
   "metadata": {},
   "source": [
    "\n",
    "|                | Pessoa Doente | Pessoa Não Doente |\n",
    "|----------------|---------------|-------------------|\n",
    "| Teste positivo | 95 %          | 5 %               |\n",
    "| Teste Negativo |  1 %          | 99 %              |\n",
    "\n",
    "\n",
    "\n",
    "\n",
    "\n",
    "\n",
    "|                | Pessoa Doente | Pessoa Não Doente |\n",
    "|----------------|---------------|-------------------|\n",
    "| Teste positivo | 1 % * 95 % = 0.95 %          |99% * 5 % = 4.95 %               |\n",
    "| Teste Negativo | 1 % * 1 % = 0.01 %         | 99% * 99 % = 98.01 %             |\n",
    "\n",
    "\n",
    "Total Positivo (espaço amostral): 0.95 % + 4.95 % = 5.9 % \n",
    "\n",
    "Doentes de verdade (evento): 0.95 %\n",
    "\n",
    "P = 0.95 % / 5.9%  = 16.10 %\n",
    " \n",
    "Total Negativo (espaço amostral): 0.01 % + 98.01 % = 98.02 %\n",
    "\n",
    "Não doentes de verdade: 98.01 %\n",
    "\n",
    "P = 98.01 % / 98.02 % =  99.989798 %\n"
   ]
  },
  {
   "cell_type": "markdown",
   "id": "e1e8b03b",
   "metadata": {},
   "source": [
    "### Questão 2"
   ]
  },
  {
   "cell_type": "markdown",
   "id": "9b42655a",
   "metadata": {},
   "source": [
    "A probabilidade de dado honesto é conhecido e igual a $1/6$, mas quando vamos testar isso com um dado físico, não necessariamente vai cair uma vez cada face do dado (se eu lançar ele 6 vezes). A ideia é que conforme fazermos vários testes a tendência é que a probabilidade de cada face irá convergir pro valor esperado. \n",
    "\n",
    "Vamos testar este conceito utilizando da programação seguintes os itens abaixo:]\n",
    "\n",
    "__A)__ Desenvolva uma função que receba um valor n, onde n é a quantidade de elementos e o objetivo da função é retorna uma _Series_ com n elementos sendo esses elementos números variando de 1 e 6;\n",
    "\n",
    "__B)__ Teste a função para n igual a 10, 100, 1.000, 10.000 e 100.000 casos e para cada um deles calcule a proporção de vezes que aparece cada número;\n",
    "\n",
    "__DIca.:__ utilize a função do _Pandas_ `.value_counts`\n",
    "\n",
    "__C)__ O que podermos dizer sobre a afirmação do enunciado, a tendência é que as probabilidades irâo convergir para $1/6$?"
   ]
  },
  {
   "cell_type": "code",
   "execution_count": 2,
   "id": "200494e5",
   "metadata": {
    "ExecuteTime": {
     "end_time": "2021-10-20T23:06:37.948068Z",
     "start_time": "2021-10-20T23:06:33.230183Z"
    }
   },
   "outputs": [],
   "source": [
    "import random\n",
    "import pandas as pd"
   ]
  },
  {
   "cell_type": "code",
   "execution_count": null,
   "metadata": {},
   "outputs": [],
   "source": []
  },
  {
   "cell_type": "code",
   "execution_count": 302,
   "metadata": {
    "ExecuteTime": {
     "end_time": "2021-10-20T23:21:53.764738Z",
     "start_time": "2021-10-20T23:21:53.756531Z"
    }
   },
   "outputs": [],
   "source": [
    "#Função que retorna uma série de n números aleatórios entre 1 e 6 \n",
    "def gera_faces(n):\n",
    "    list_numbers = []\n",
    "    \n",
    "    for i in range(n):\n",
    "        list_numbers.append(random.randint(1,6))\n",
    "    \n",
    "    return pd.Series(list_numbers)"
   ]
  },
  {
   "cell_type": "code",
   "execution_count": 303,
   "metadata": {
    "ExecuteTime": {
     "end_time": "2021-10-20T23:21:55.758891Z",
     "start_time": "2021-10-20T23:21:55.609252Z"
    }
   },
   "outputs": [
    {
     "data": {
      "text/plain": [
       "4    0.16851\n",
       "5    0.16777\n",
       "2    0.16696\n",
       "6    0.16580\n",
       "3    0.16577\n",
       "1    0.16519\n",
       "dtype: float64"
      ]
     },
     "execution_count": 303,
     "metadata": {},
     "output_type": "execute_result"
    }
   ],
   "source": [
    "gera_faces(100000).value_counts(normalize=True)"
   ]
  },
  {
   "cell_type": "code",
   "execution_count": null,
   "metadata": {},
   "outputs": [],
   "source": []
  },
  {
   "cell_type": "code",
   "execution_count": null,
   "metadata": {},
   "outputs": [],
   "source": []
  },
  {
   "cell_type": "markdown",
   "id": "8ed593e2",
   "metadata": {},
   "source": [
    "### Questão 3"
   ]
  },
  {
   "cell_type": "markdown",
   "id": "f9102e3c",
   "metadata": {},
   "source": [
    "Na casa de Luiza e Rafael tem um pote de balas de diferentes cores. Certo dia a mamãe deles contou quantas balas tinha de cada uma das cores:\n",
    "\n",
    "- 14 balas azuis;\n",
    "- 22 balas vermelhas;\n",
    "- 17 balas amarelas.\n",
    "\n",
    "A mamãe deles deixou que cada um pegasse 3 balas começando pela Luiza e depois o Rafael. Dado isso resolva os item abaixo:\n",
    "\n",
    "__A)__ Qual a probabilidade da Luiza pegar uma bala de cada cor e o Rafael pegar 2 azuis e uma vermelha, dado que é um evento sem reposição?\n",
    "\n",
    "__B)__ Luiza decidiu ficar só com a bala amarela e devolveu as demais para o pote antes que o Rafael pegasse suas balas. Como que ficaria a probabilidade para o Rafael agora?"
   ]
  },
  {
   "cell_type": "markdown",
   "metadata": {},
   "source": [
    "P(A) = n(A) / n($\\Omega$)\n",
    "\n",
    "a) \n",
    "Luiza:\n",
    "P(Az) =  14 / 53\n",
    "P(Ve) =  22 / 52\n",
    "P(Am) =  17 / 51 \n",
    "\n",
    "P(Az E Ve E Am) = P(Az) * P(Ve) * P(Am) = 5236 / 140556 --> 0.03725\n",
    "\n",
    "Rafael:\n",
    "P(Az) = 13 / 50\n",
    "P(Az) = 12 / 49\n",
    "P(Ve) = 21 / 48\n",
    "\n",
    "P((Az E Az E Ve) OU (Az E Ve E Az) OU  (Ve E Az E Az)) = 3 * 3276 / 117600 --> 0.08357   \n",
    "\n",
    "Pluiza * Prafael = 0.00311\n",
    "\n",
    "b) \n",
    "Rafael:\n",
    "P(Az) = 14 / 52\n",
    "P(Az) = 13 / 51\n",
    "P(Ve) = 22 / 50\n",
    "\n",
    "P((Az E Az E Ve) OU (Az E Ve E Az) OU  (Ve E Az E Az)) = 3 * 4004 / 132600 --> 0.0906\n",
    "\n",
    "\n",
    "Pergunta do Lucas:\n",
    "\n",
    "Luiza com 1 bala amarela: item b)\n",
    "\n",
    "Luiza com 2 balas amarelas, o Rafael terá:\n",
    "P(Az) = 14 / 51\n",
    "P(Az) = 13 / 50\n",
    "P(Ve) = 22 / 49\n",
    "\n",
    "Luiza com 3 balas amarelas, o Rafael terá:\n",
    "P(Az) = 14 / 50\n",
    "P(Az) = 13 / 49\n",
    "P(Ve) = 22 / 48"
   ]
  },
  {
   "cell_type": "markdown",
   "id": "efcd759a",
   "metadata": {},
   "source": [
    "### Questão 4"
   ]
  },
  {
   "cell_type": "markdown",
   "id": "8180ee4e",
   "metadata": {},
   "source": [
    "Um programa de computador gera uma pontuação aleatória para cada usuário, sendo que:\n",
    "\n",
    "- Em 1/2 dos casos, gera 0.5;\n",
    "- Em 1/4 dos casos, gera 0.25;\n",
    "- Em 1/8 dos casos, gera 0.125.\n",
    "\n",
    "E essa lógica segue assim por diante. Resolva os itens a seguir:\n",
    "\n",
    "__A)__ Calcule o __valor esperado__ utilizando apenas os 3 primeiros casos;\n",
    "\n",
    "__B)__ Faça um _loop_ para calcular o __valor esperado__ para 100 casos e avalie se só com os 3 primeiros casos temos uma boa aproximação ou não."
   ]
  },
  {
   "cell_type": "markdown",
   "metadata": {
    "ExecuteTime": {
     "end_time": "2021-10-21T00:17:05.611429Z",
     "start_time": "2021-10-21T00:17:05.596470Z"
    }
   },
   "source": [
    "A) Valor esperado: (1/2) * 0.5 + (1/4) * 0.25 + (1/8) * 0.125 = 0.328125"
   ]
  },
  {
   "cell_type": "code",
   "execution_count": 323,
   "metadata": {
    "ExecuteTime": {
     "end_time": "2021-10-21T01:04:44.925598Z",
     "start_time": "2021-10-21T01:04:44.912625Z"
    }
   },
   "outputs": [
    {
     "name": "stdout",
     "output_type": "stream",
     "text": [
      "0.3333333333333333\n",
      "0.984375\n"
     ]
    }
   ],
   "source": [
    "valor_esperado = 0\n",
    "\n",
    "for i in range(1,101):\n",
    "    valor_esperado += (1/(2**i))**(2)\n",
    "\n",
    "print(valor_esperado)\n",
    "\n",
    "#Comparando\n",
    "print(0.328125/valor_esperado)"
   ]
  },
  {
   "cell_type": "markdown",
   "id": "57a9dba0",
   "metadata": {},
   "source": [
    "### Questão 5"
   ]
  },
  {
   "cell_type": "markdown",
   "id": "03ce87d4",
   "metadata": {},
   "source": [
    "Em um programa de auditório, havia 3 portas (A, B, C), dentro da qual uma continha um prêmio. O participante escolheu a porta A e antes de abrir a porta escolhida o apresentador abriu a porta C, na qual não havia nada. O participante aumentará a probabilidade de acertar a porta caso mude a escolha dele da porta A para a B?"
   ]
  },
  {
   "cell_type": "markdown",
   "metadata": {
    "ExecuteTime": {
     "end_time": "2021-10-21T01:04:17.104541Z",
     "start_time": "2021-10-21T01:04:17.081604Z"
    }
   },
   "source": [
    "A probabilidade do prêmio estar em uma das portas é:\n",
    "\n",
    "$$ P(A) = P(B) = P(C) = 1/3 $$\n",
    "\n",
    "Vamos, utilizar o Teorema de Bayes para resolver esse problema:\n",
    "<br><br>\n",
    "\n",
    "$$ P(premio = A | abriu = C) = \\frac{P(abriu = C | premio = A)P(A) }{P(abriu = C | premio = A)P(A) + P(abriu = C | premio = B)P(B) + P(abriu = C | premio = C)P(C) }    $$\n",
    "<br><br>\n",
    "\n",
    "Vamos ver o que são cada uma das probabilidades condicionais, dado que eu escolhi a porta A e a primeira porta aberta foi a C:\n",
    "\n",
    "- A probabilidade do prêmio agora está na porta A será $1/2$, pois o prêmio ou vai estar na porta A ou B. Dessa forma:\n",
    "<br><br>\n",
    "$$ P(abriu = C | premio = A) = 1/2 $$\n",
    "<br>\n",
    "\n",
    "- Agora imagine que o prêmio não possa estar na porta A, ou seja sobrou apenas a porta B e C. Dado que ele abriu a porta C, a probabilidade do prêmio estar na porta B é 1, pois o apresentador não vai abrir a porta do prêmio de primeira e ele também não vai abrir a porta que você escolheu. Portanto:\n",
    "<br><br>\n",
    "$$ P(abriu = C | premio = B) = 1 $$\n",
    "<br>\n",
    "\n",
    "- Por fim, a porta C não tem probabilidade nenhuma de conter o prêmio pois já foi aberta. Assim temos que:\n",
    "<br><br>\n",
    "$$ P(abriu = C | premio = C) = 0 $$\n",
    "<br><br>\n",
    "Agora basta aplicar as probabilidades calculadas acima na dedução do Teorema de Bayes para o exercício das portas:\n",
    "<br><br>\n",
    "$$ P(premio = A | abriu = C) = \\frac{(1/2)(1/3)}{(1/2)(1/3) + (1)(1/3) + (0)(1/3)} = 1/3    $$\n",
    "<br><br>\n",
    "\n",
    "O que acontece então se trocarmos de para a porta B?:\n",
    "<br><br>\n",
    "$$ P(premio = B | abriu = C) = 1 - P(premio = A | abriu = C) = 1 - 1/3 = 2/3    $$\n",
    "\n",
    "A probabilidade de acertarmos a porta se trocar será $2/3$, ou seja dobramos a probabilidade de acertar!\n",
    "    "
   ]
  },
  {
   "cell_type": "code",
   "execution_count": null,
   "metadata": {},
   "outputs": [],
   "source": []
  }
 ],
 "metadata": {
  "kernelspec": {
   "display_name": "Python 3",
   "language": "python",
   "name": "python3"
  },
  "language_info": {
   "codemirror_mode": {
    "name": "ipython",
    "version": 3
   },
   "file_extension": ".py",
   "mimetype": "text/x-python",
   "name": "python",
   "nbconvert_exporter": "python",
   "pygments_lexer": "ipython3",
   "version": "3.9.5"
  },
  "varInspector": {
   "cols": {
    "lenName": 16,
    "lenType": 16,
    "lenVar": 40
   },
   "kernels_config": {
    "python": {
     "delete_cmd_postfix": "",
     "delete_cmd_prefix": "del ",
     "library": "var_list.py",
     "varRefreshCmd": "print(var_dic_list())"
    },
    "r": {
     "delete_cmd_postfix": ") ",
     "delete_cmd_prefix": "rm(",
     "library": "var_list.r",
     "varRefreshCmd": "cat(var_dic_list()) "
    }
   },
   "types_to_exclude": [
    "module",
    "function",
    "builtin_function_or_method",
    "instance",
    "_Feature"
   ],
   "window_display": false
  }
 },
 "nbformat": 4,
 "nbformat_minor": 5
}
