{
 "cells": [
  {
   "cell_type": "markdown",
   "metadata": {},
   "source": [
    "Questão #1\n",
    "Vale10\n",
    "Enunciado\n",
    "Imprimindo ímpares\n",
    "\n",
    "Dado o seguinte trecho de código, o que deve ser colocado no lugar de XXXXXX para que a função imprima na tela os números ímpares de 0 a 10?\n",
    "\n",
    "x = 0  \n",
    "while x <= 10:  \n",
    "    if XXXXXX:  \n",
    "        print(x)  \n",
    "    x += 1  \n",
    "    \n",
    "    \n",
    "Alternativas\n",
    "\n",
    "x%2 == 1  \n",
    "\n",
    "x//2 == 0  \n",
    "\n",
    "x%2 == 0  \n",
    "\n",
    "x//2 == 1  \n",
    "\n"
   ]
  },
  {
   "cell_type": "code",
   "execution_count": null,
   "metadata": {},
   "outputs": [],
   "source": [
    "# Resposta Q1\n",
    "\n",
    "x = 0  \n",
    "while x <= 10:  \n",
    "    if x%2 == 1:  \n",
    "        print(x)  \n",
    "    x += 1"
   ]
  },
  {
   "cell_type": "markdown",
   "metadata": {},
   "source": [
    "Questão #2\n",
    "Vale10\n",
    "Enunciado\n",
    "Se... então... se...?\n",
    "\n",
    "Dado o seguinte trecho de código, quais linhas serão mostradas na tela?\n",
    "\n",
    "x = 4  \n",
    "if x < 4:  \n",
    "    print('linha 1')  \n",
    "elif x > 5:  \n",
    "    print('linha 2')  \n",
    "print('linha 3')  \n",
    "if x%4 == 0:  \n",
    "    print('linha 4')  \n",
    "else:\n",
    "    print('linha 5')  \n",
    "\n",
    "\n",
    "Alternativas  \n",
    "\n",
    "Linhas 3 e 4  \n",
    "\n",
    "Apenas a linha 3  \n",
    "\n",
    "Linhas 2 e 4  \n",
    "\n",
    "Linhas 2 e 5  "
   ]
  },
  {
   "cell_type": "code",
   "execution_count": null,
   "metadata": {},
   "outputs": [],
   "source": [
    "x = 4  \n",
    "if x < 4:  \n",
    "    print('linha 1')  \n",
    "elif x > 5:  \n",
    "    print('linha 2')  \n",
    "print('linha 3')  \n",
    "if x%4 == 0:  \n",
    "    print('linha 4')  \n",
    "else:\n",
    "    print('linha 5') "
   ]
  },
  {
   "cell_type": "markdown",
   "metadata": {},
   "source": [
    "Questão #3\n",
    "Vale10\n",
    "Enunciado\n",
    "Varendo dados\n",
    "\n",
    "Dado o código de uma página WEB:\n",
    "\n",
    "<html>\n",
    "  <body>\n",
    "    <p class=\"classe_a\" id=\"1\"> \n",
    "      Esse é o primeiro parágrafo.\n",
    "    </p>\n",
    "    <p class=\"classe_a\" id=\"2\"> \n",
    "      Esse é o segundo parágrafo.\n",
    "    </p>\n",
    "    <p class=\"classe_b\" id=\"3\"> \n",
    "      Esse é o terceiro parágrafo.\n",
    "    </p>\n",
    "  </body>\n",
    "</html>\n",
    "\n",
    "Suponha que o conteúdo já está em uma variável chamada \"soup\". Utilizando o BeautifulSoup, qual das alternativas mostra o código correto para retornar apenas o texto \"Esse é o terceiro parágrafo.\":\n",
    "\n",
    "\n",
    "Suponha que o conteúdo já está em uma variável chamada \"soup\". Utilizando o BeautifulSoup, qual das alternativas mostra o código correto para retornar apenas o texto \"Esse é o terceiro parágrafo.\":\n",
    "Alternativas\n",
    "\n",
    "soup.find_all('p')  \n",
    "\n",
    "soup.find('p', id='3').get_text()  \n",
    "\n",
    "soup.find_all('p', id='3')  \n",
    "\n",
    "soup.find_all('p')[1]  \n"
   ]
  },
  {
   "cell_type": "code",
   "execution_count": null,
   "metadata": {},
   "outputs": [],
   "source": [
    "# exemplo de soup\n",
    "<html>\n",
    "    <head>\n",
    "        <title>Meu primeiro site!</title>\n",
    "    </head>\n",
    "\n",
    "    <body>\n",
    "        <h1>Um site de exemplo</h1>\n",
    "        <h2>Site de exemplo pra entendermos HTML.</h2>\n",
    "\t<h3> Outro tamanho </h3>\n",
    "        \n",
    "\t<p>Este é um site feio e bobo para vermos como HTML funciona.</p>\n",
    "        <p>Se você quer aprender HTML de verdade, clique <a href=\"https://letscode-academy.com/cursos/web-frontend-react.html\">aqui</a>.</p>\n",
    "    </body>\n",
    "</html>"
   ]
  },
  {
   "cell_type": "code",
   "execution_count": null,
   "metadata": {},
   "outputs": [],
   "source": [
    "import requests\n",
    "\n",
    "from bs4 import BeautifulSoup\n",
    "\n",
    "page = requests.get(url)"
   ]
  },
  {
   "cell_type": "code",
   "execution_count": null,
   "metadata": {},
   "outputs": [],
   "source": [
    "soup.find('p', id='3').get_text()"
   ]
  },
  {
   "cell_type": "markdown",
   "metadata": {},
   "source": [
    "Questão #4\n",
    "Vale10\n",
    "Enunciado\n",
    "Somando multiplos argumentos\n",
    "\n",
    "Dada a seguinte função:\n",
    "\n",
    "def soma(*args):\n",
    "  result = 0\n",
    "  for i in args:\n",
    "    result = result+i\n",
    "  return result\n",
    "\n",
    "Como o próprio nome diz, essa é uma função para realizar uma soma de n argumentos, mas dependendo da entrada inserida, o programa resultará em erro. Indique a única opção que pode ser passada como argumento da função para que o código não quebre:\n",
    "\n",
    "\n",
    "Alternativas\n",
    "\n",
    "[1,2,3,4]\n",
    "\n",
    "1,2,3,4\n",
    "\n",
    "'1234'\n",
    "\n",
    "'1','2','3','4'\n"
   ]
  },
  {
   "cell_type": "code",
   "execution_count": null,
   "metadata": {},
   "outputs": [],
   "source": [
    "def soma(*args): \n",
    "    result = 0 \n",
    "    for i in args: result = result+i \n",
    "    return result"
   ]
  },
  {
   "cell_type": "code",
   "execution_count": null,
   "metadata": {},
   "outputs": [],
   "source": [
    "soma(1,2,3,4)"
   ]
  },
  {
   "cell_type": "markdown",
   "metadata": {},
   "source": [
    "Questão #5\n",
    "Vale10\n",
    "Enunciado\n",
    "Extraindo valores de um dicionário\n",
    "\n",
    "Escreva um função que extraia a lista de valores de um dicionário com base numa dada chave:\n",
    "\n",
    "Exemplo:\n",
    "\n",
    "#Input:  \n",
    "lista_de_notas = [\n",
    " {'matemática': 90, 'português': 92},\n",
    " {'matemática': 89, 'português': 94},\n",
    " {'matemática': 92, 'português': 88}\n",
    "]\n",
    "\n",
    "extrai_notas(lista_de_notas, 'matemática')\n",
    "\n",
    "#Output:\n",
    "-> [90, 89, 92]\n",
    "\n"
   ]
  },
  {
   "cell_type": "code",
   "execution_count": null,
   "metadata": {},
   "outputs": [],
   "source": [
    "lista_de_notas = [\n",
    " {'matemática': 90, 'português': 92},\n",
    " {'matemática': 89, 'português': 94},\n",
    " {'matemática': 92, 'português': 88}\n",
    "]\n",
    "\n",
    "def extrai_notas(a, b):\n",
    "    notas_matematica = []\n",
    "    for i in range(len(a)):\n",
    "        notas_matematica.append(a[i][b])\n",
    "    return notas_matematica\n",
    "\n",
    "\n",
    "extrai_notas(lista_de_notas, 'matemática')"
   ]
  },
  {
   "cell_type": "code",
   "execution_count": null,
   "metadata": {},
   "outputs": [],
   "source": [
    "lista_de_notas = [\n",
    " {'matemática': 90, 'português': 92},\n",
    " {'matemática': 89, 'português': 94},\n",
    " {'matemática': 92, 'português': 88}\n",
    "]\n",
    "\n",
    "\n",
    "\n",
    "extrai_notas(lista_de_notas, 'matemática')"
   ]
  },
  {
   "cell_type": "markdown",
   "metadata": {},
   "source": [
    "Questão #6\n",
    "Vale10\n",
    "Enunciado\n",
    "Removendo itens de lista\n",
    "\n",
    "def remove_retorna(n, lista):\n",
    "    return XXXXXX\n",
    "\n",
    "A função acima, deve remover o elemento da posição ‘n’ da ‘lista’ e o retornar. Com essas informações, o que deveríamos pôr no lugar de XXXXXX para que a função funcione corretamente?\n",
    "\n",
    "Alternativas\n",
    "\n",
    "lista.pop(n)\n",
    "\n",
    "del(lista[n])\n",
    "\n",
    "remove(lista[n])\n",
    "\n",
    "lista.remove(n)\n"
   ]
  },
  {
   "cell_type": "code",
   "execution_count": null,
   "metadata": {},
   "outputs": [],
   "source": [
    "lista1 = [1, 2, 3]\n",
    "\n",
    "def remove_retorna(n, lista):\n",
    "    return lista.pop(n)\n",
    "\n",
    "remove_retorna(1, lista1)"
   ]
  },
  {
   "cell_type": "markdown",
   "metadata": {},
   "source": [
    "Questão #7\n",
    "Vale20\n",
    "Enunciado\n",
    "Fazendo barulho com classe\n",
    "\n",
    "class Britadeira():  \n",
    "\n",
    "    def __init__(self, marca):\n",
    "        self.marca = marca\n",
    "        self.barulho = 'TRRRA'\n",
    "\n",
    "    def furar(self, n=1, sep=''):\n",
    "        som_completo = ''\n",
    "        for i in range(n):\n",
    "            som_completo += self.barulho + sep\n",
    "        print(f'{som_completo}')\n",
    "\n",
    "Sem alterar a classe acima, instancie e faça o objeto imprimir \"TRRRA TRRRA TRRRA\".\n"
   ]
  },
  {
   "cell_type": "code",
   "execution_count": 24,
   "metadata": {},
   "outputs": [
    {
     "name": "stdout",
     "output_type": "stream",
     "text": [
      "TRRRATRRRATRRRA\n"
     ]
    }
   ],
   "source": [
    "class Britadeira(): \n",
    "    \n",
    "    def __init__(self, marca):\n",
    "        self.marca = marca\n",
    "        self.barulho = 'TRRRA'\n",
    "\n",
    "    def furar(self, n=1, sep=''):\n",
    "        som_completo = ''\n",
    "        for i in range(n):\n",
    "            som_completo += self.barulho + sep\n",
    "        print(f'{som_completo}')\n",
    "        \n",
    "Britadeira1 = Britadeira('Makita')\n",
    "Britadeira1.furar(3, '')"
   ]
  },
  {
   "cell_type": "code",
   "execution_count": 2,
   "metadata": {},
   "outputs": [],
   "source": [
    "Britadeira1 = Britadeira('Makita')"
   ]
  },
  {
   "cell_type": "code",
   "execution_count": 23,
   "metadata": {},
   "outputs": [
    {
     "name": "stdout",
     "output_type": "stream",
     "text": [
      "TRRRATRRRATRRRA\n"
     ]
    }
   ],
   "source": [
    "Britadeira1.furar(3, '')"
   ]
  },
  {
   "cell_type": "markdown",
   "metadata": {},
   "source": [
    "Questão #8\n",
    "Vale20\n",
    "Enunciado\n",
    "Herança: de geração a geração\n",
    "\n",
    "class Mae:\n",
    "    def __init__(self, x=1):\n",
    "        self.x = x\n",
    "\n",
    "class Filha(Mae):  \n",
    "    def __init__(self, y=2):\n",
    "        super().__init__()\n",
    "        self.y = y\n",
    "\n",
    "def main():  \n",
    "    obj = Filha()\n",
    "    print(obj.x, obj.y)\n",
    "\n",
    "main()\n",
    "\n",
    "Explique o que o programa acima faz e o que imprimirá (se imprimirá) na tela.\n"
   ]
  },
  {
   "cell_type": "code",
   "execution_count": 14,
   "metadata": {},
   "outputs": [
    {
     "name": "stdout",
     "output_type": "stream",
     "text": [
      "1 2\n"
     ]
    }
   ],
   "source": [
    "class Mae:\n",
    "    def __init__(self, x=1):\n",
    "        self.x = x\n",
    "\n",
    "class Filha(Mae):\n",
    "    def __init__(self, y=2):\n",
    "        super().__init__()\n",
    "        self.y = y\n",
    "\n",
    "def main():\n",
    "    obj = Filha()\n",
    "    print(obj.x, obj.y)\n",
    "\n",
    "main()"
   ]
  },
  {
   "cell_type": "markdown",
   "metadata": {},
   "source": [
    "Trata-se de um caso de herança de classes, onde a classe filha \"Filha\" herda, nesse caso, o atributo x e o método construtor da classe mãe \"Mae\".\n",
    "Com os valores definidos como padrão de x = 1 e y = 2, a função \"main\" imprimirá \"1 2\", visto que ele foi acionado sem o input de valores novos, trazendo o valor \"2\" de \"y\" da própria classe \"Filha\" e o valor \"1\" de \"x\" herdada pela classe \"Filha\"da classe \"Mae\" na ordem \"x\" \"y\"."
   ]
  },
  {
   "cell_type": "code",
   "execution_count": null,
   "metadata": {},
   "outputs": [],
   "source": []
  }
 ],
 "metadata": {
  "kernelspec": {
   "display_name": "Python 3",
   "language": "python",
   "name": "python3"
  },
  "language_info": {
   "codemirror_mode": {
    "name": "ipython",
    "version": 3
   },
   "file_extension": ".py",
   "mimetype": "text/x-python",
   "name": "python",
   "nbconvert_exporter": "python",
   "pygments_lexer": "ipython3",
   "version": "3.9.5"
  }
 },
 "nbformat": 4,
 "nbformat_minor": 4
}
