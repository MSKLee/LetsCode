{
 "cells": [
  {
   "cell_type": "markdown",
   "metadata": {},
   "source": [
    "# Herança"
   ]
  },
  {
   "cell_type": "code",
   "execution_count": 4,
   "metadata": {},
   "outputs": [],
   "source": [
    "class Cachorro:\n",
    "    \n",
    "    def __init__(self, nome):\n",
    "        self.nome = nome\n",
    "        \n",
    "    def fala(self):\n",
    "        print(self.nome, 'faz au au.')\n",
    "        \n",
    "class Gato:\n",
    "    \n",
    "    def __init__(self, nome):\n",
    "        self.nome = nome\n",
    "        \n",
    "    def fala(self):\n",
    "        print(self.nome, 'faz miau.')\n",
    "        \n",
    "        \n",
    "class Vaca:\n",
    "    \n",
    "    def __init__ (self, nome):\n",
    "        self.nome = nome\n",
    "        \n",
    "    def fala(self):\n",
    "        print(self.nome, 'faz muuu.')\n",
    "        \n",
    "        \n",
    "class Dinossauro:\n",
    "\n",
    "    def __init__(self, nome):\n",
    "        self.nome = nome\n",
    "        \n",
    "    def fala(self):\n",
    "        pass"
   ]
  },
  {
   "cell_type": "code",
   "execution_count": 9,
   "metadata": {},
   "outputs": [
    {
     "name": "stdout",
     "output_type": "stream",
     "text": [
      "Bidu faz au au.\n",
      "Mingau faz miau.\n",
      "Mimosa faz muuu.\n"
     ]
    }
   ],
   "source": [
    "cachorrinho = Cachorro('Bidu')\n",
    "gatinho = Gato('Mingau')\n",
    "vaquinha = Vaca('Mimosa')\n",
    "dino = Dinossauro('Horácio')\n",
    "\n",
    "\n",
    "cachorrinho.fala()\n",
    "gatinho.fala()\n",
    "vaquinha.fala()\n",
    "dino.fala()"
   ]
  },
  {
   "cell_type": "markdown",
   "metadata": {},
   "source": [
    "# Herança\n",
    "As classes filhas possuem os mesmos atributos e métodos da classe mãe"
   ]
  },
  {
   "cell_type": "code",
   "execution_count": 26,
   "metadata": {},
   "outputs": [],
   "source": [
    "# classe mãe\n",
    "class Animal: \n",
    "    def __init__(self, nome):\n",
    "        self.nome = nome\n",
    "    \n",
    "    def fala(self):\n",
    "        print(self.nome, 'faz barulho')\n",
    "        \n",
    "        \n",
    "# classes filhas\n",
    "class Cachorro(Animal): # coloquei entre parênteses o nome da classe mãe\n",
    "    def fala(self):\n",
    "        print(self.nome, 'faz au au.')\n",
    "\n",
    "class Gato(Animal):\n",
    "    def fala(self):\n",
    "        print(self.nome, 'faz miau.')\n",
    "        \n",
    "class Vaca(Animal):\n",
    "    def fala(self):\n",
    "        print(self.nome, 'faz muuu.')\n",
    "        \n",
    "class Dinossauro(Animal):\n",
    "    def fala(self):\n",
    "        pass"
   ]
  },
  {
   "cell_type": "code",
   "execution_count": 27,
   "metadata": {},
   "outputs": [
    {
     "name": "stdout",
     "output_type": "stream",
     "text": [
      "Bidu faz au au.\n",
      "Mingau faz miau.\n",
      "Mimosa faz muuu.\n"
     ]
    }
   ],
   "source": [
    "cachorrinho = Cachorro('Bidu')\n",
    "gatinho = Gato('Mingau')\n",
    "vaquinha = Vaca('Mimosa')\n",
    "dino = Dinossauro('Horácio')\n",
    "\n",
    "cachorrinho.fala()\n",
    "gatinho.fala()\n",
    "vaquinha.fala()\n",
    "dino.fala()"
   ]
  },
  {
   "cell_type": "code",
   "execution_count": 14,
   "metadata": {},
   "outputs": [],
   "source": [
    "# classe mãe\n",
    "class Animal: \n",
    "    def __init__(self, nome):\n",
    "        self.nome = nome\n",
    "    \n",
    "    def fala(self):\n",
    "        print(self.nome, 'faz barulho')\n",
    "        \n",
    "        \n",
    "# classes filhas\n",
    "\n",
    "class Dinossauro(Animal):\n",
    "    pass"
   ]
  },
  {
   "cell_type": "code",
   "execution_count": 15,
   "metadata": {},
   "outputs": [
    {
     "name": "stdout",
     "output_type": "stream",
     "text": [
      "Horácio faz barulho\n"
     ]
    }
   ],
   "source": [
    "dino = Dinossauro('Horácio')\n",
    "\n",
    "dino.fala()"
   ]
  },
  {
   "cell_type": "markdown",
   "metadata": {},
   "source": [
    "1. Herdando parcialmente o método"
   ]
  },
  {
   "cell_type": "code",
   "execution_count": 18,
   "metadata": {},
   "outputs": [],
   "source": [
    "# Na classe cachorro, ela crie um atributo 'raça' além do nome cachorro\n",
    "\n",
    "class Cachorro(Animal):\n",
    "    def __init__(self, nome, raça):\n",
    "        #self.nome = nome  já foi definido na classe mãe, Animal\n",
    "        self.raça = raça # atributo novo\n",
    "        super().__init__(nome)\n",
    "        \n",
    "    def fala(self):\n",
    "        print(self.nome, 'faz au au.')"
   ]
  },
  {
   "cell_type": "markdown",
   "metadata": {},
   "source": [
    "Método super nos dá acesso dentro de uma classe filha aos métodos originais da classe mãe"
   ]
  },
  {
   "cell_type": "code",
   "execution_count": 20,
   "metadata": {},
   "outputs": [
    {
     "name": "stdout",
     "output_type": "stream",
     "text": [
      "Bidu faz au au.\n"
     ]
    }
   ],
   "source": [
    "cachorrinho = Cachorro('Bidu', 'vira lata')\n",
    "\n",
    "cachorrinho.fala()"
   ]
  },
  {
   "cell_type": "markdown",
   "metadata": {},
   "source": [
    "# Polimorfismo"
   ]
  },
  {
   "cell_type": "markdown",
   "metadata": {},
   "source": [
    "A palavra \"polimorfismo\" vem do grego antigo e significa \"várias formas\". A ideia do polimorfismo em programação é que um objeto de uma certa classe pode se comportar como objeto de outras classes. Mais especificamente, objetos de uma classe filha podem também ser tratados como se pertencessem à classe mãe."
   ]
  },
  {
   "cell_type": "markdown",
   "metadata": {},
   "source": [
    "O método isinstance recebe 2 parâmetros: um **objeto** e uma **classe**. Ele retorna **True** caso o objeto pertenca à classe, e **False** caso não pertença. Cole os testes no programa abaixo para verificar que um cachorro não é um gato, um gato não é cachorro, cachorro é cachorro, gato é gato e ambos são animais:"
   ]
  },
  {
   "cell_type": "code",
   "execution_count": 23,
   "metadata": {},
   "outputs": [
    {
     "name": "stdout",
     "output_type": "stream",
     "text": [
      "True\n"
     ]
    }
   ],
   "source": [
    "# o cachorrinho é cachorro?\n",
    "print(isinstance(cachorrinho, Cachorro)) # O objeto cachorrinho pertence a classe cachorro"
   ]
  },
  {
   "cell_type": "code",
   "execution_count": 28,
   "metadata": {
    "scrolled": true
   },
   "outputs": [
    {
     "data": {
      "text/plain": [
       "True"
      ]
     },
     "execution_count": 28,
     "metadata": {},
     "output_type": "execute_result"
    }
   ],
   "source": [
    "# O gatinho é um gato?\n",
    "isinstance(gatinho, Gato)"
   ]
  },
  {
   "cell_type": "code",
   "execution_count": 29,
   "metadata": {},
   "outputs": [
    {
     "data": {
      "text/plain": [
       "False"
      ]
     },
     "execution_count": 29,
     "metadata": {},
     "output_type": "execute_result"
    }
   ],
   "source": [
    "# a vaquinha é um cachorro?\n",
    "isinstance(vaquinha, Cachorro)"
   ]
  },
  {
   "cell_type": "code",
   "execution_count": 30,
   "metadata": {},
   "outputs": [
    {
     "data": {
      "text/plain": [
       "False"
      ]
     },
     "execution_count": 30,
     "metadata": {},
     "output_type": "execute_result"
    }
   ],
   "source": [
    "# o gatinho é uma vaca?\n",
    "isinstance(gatinho, Vaca)"
   ]
  },
  {
   "cell_type": "code",
   "execution_count": 31,
   "metadata": {},
   "outputs": [
    {
     "data": {
      "text/plain": [
       "True"
      ]
     },
     "execution_count": 31,
     "metadata": {},
     "output_type": "execute_result"
    }
   ],
   "source": [
    "# o cachorrinho é um animal?\n",
    "isinstance(cachorrinho, Animal)"
   ]
  },
  {
   "cell_type": "code",
   "execution_count": 32,
   "metadata": {},
   "outputs": [
    {
     "data": {
      "text/plain": [
       "True"
      ]
     },
     "execution_count": 32,
     "metadata": {},
     "output_type": "execute_result"
    }
   ],
   "source": [
    "# gatinho é um animal?\n",
    "isinstance(gatinho, Animal)"
   ]
  },
  {
   "cell_type": "markdown",
   "metadata": {},
   "source": [
    "--------------------"
   ]
  },
  {
   "cell_type": "code",
   "execution_count": 48,
   "metadata": {},
   "outputs": [],
   "source": [
    "class Animal: \n",
    "    # lista estática de animais criados\n",
    "    animais = []\n",
    "    \n",
    "    \n",
    "    def __init__(self, nome):\n",
    "        self.nome = nome\n",
    "        # Criamos o animal e colocaremos na lista estática\n",
    "        Animal.animais.append(self)\n",
    "    \n",
    "    def fala(self):\n",
    "        print(self.nome, 'faz barulho')\n",
    "        \n",
    "    @staticmethod\n",
    "    def falatorio():\n",
    "        for a in Animal.animais:\n",
    "            a.fala()\n",
    "        \n",
    "        \n",
    "# classes filhas\n",
    "class Cachorro(Animal): # coloquei entre parênteses o nome da classe mãe\n",
    "    def fala(self):\n",
    "        print(self.nome, 'faz au au.')\n",
    "\n",
    "class Gato(Animal):\n",
    "    def fala(self):\n",
    "        print(self.nome, 'faz miau.')\n",
    "        \n",
    "class Vaca(Animal):\n",
    "    def fala(self):\n",
    "        print(self.nome, 'faz muuu.')\n",
    "        \n",
    "class Dinossauro(Animal):\n",
    "        pass"
   ]
  },
  {
   "cell_type": "code",
   "execution_count": 49,
   "metadata": {},
   "outputs": [
    {
     "name": "stdout",
     "output_type": "stream",
     "text": [
      "Bidu faz au au.\n",
      "Mingau faz miau.\n",
      "Mimosa faz muuu.\n",
      "Horácio faz barulho\n"
     ]
    }
   ],
   "source": [
    "cachorrinho = Cachorro('Bidu')\n",
    "gatinho = Gato('Mingau')\n",
    "vaquinha = Vaca('Mimosa')\n",
    "dino = Dinossauro('Horácio')\n",
    "\n",
    "cachorrinho.fala()\n",
    "gatinho.fala()\n",
    "vaquinha.fala()\n",
    "dino.fala()"
   ]
  },
  {
   "cell_type": "code",
   "execution_count": 50,
   "metadata": {},
   "outputs": [
    {
     "data": {
      "text/plain": [
       "[<__main__.Cachorro at 0x108f0fc10>,\n",
       " <__main__.Gato at 0x108efbbe0>,\n",
       " <__main__.Vaca at 0x108f0f070>,\n",
       " <__main__.Dinossauro at 0x108f0ff40>]"
      ]
     },
     "execution_count": 50,
     "metadata": {},
     "output_type": "execute_result"
    }
   ],
   "source": [
    "# Por curiosidade, o que tem dentro da lista animais(que está dentro da classe Animal)\n",
    "Animal.animais"
   ]
  },
  {
   "cell_type": "code",
   "execution_count": 51,
   "metadata": {},
   "outputs": [
    {
     "name": "stdout",
     "output_type": "stream",
     "text": [
      "Bidu faz au au.\n",
      "Mingau faz miau.\n",
      "Mimosa faz muuu.\n",
      "Horácio faz barulho\n"
     ]
    }
   ],
   "source": [
    "Animal.falatorio()"
   ]
  },
  {
   "cell_type": "markdown",
   "metadata": {},
   "source": [
    "A classe Animal nem sequer sabe quem herda dela. Ela não conhece Cachorro, Gato ou Dinossauro. Mas ela sabe que todo animal possui um atributo nome e um método fala, e por isso não importa a qual subclasse eles pertencem: todos também pertencem à classe Animal."
   ]
  },
  {
   "cell_type": "code",
   "execution_count": null,
   "metadata": {},
   "outputs": [],
   "source": []
  }
 ],
 "metadata": {
  "kernelspec": {
   "display_name": "Python 3",
   "language": "python",
   "name": "python3"
  },
  "language_info": {
   "codemirror_mode": {
    "name": "ipython",
    "version": 3
   },
   "file_extension": ".py",
   "mimetype": "text/x-python",
   "name": "python",
   "nbconvert_exporter": "python",
   "pygments_lexer": "ipython3",
   "version": "3.9.5"
  }
 },
 "nbformat": 4,
 "nbformat_minor": 4
}
