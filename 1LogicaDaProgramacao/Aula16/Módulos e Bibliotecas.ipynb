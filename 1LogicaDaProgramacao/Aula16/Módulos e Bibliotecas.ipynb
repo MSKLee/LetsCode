{
 "cells": [
  {
   "cell_type": "markdown",
   "metadata": {},
   "source": [
    "# Bibliotecas (módulos)\n",
    "\n",
    "Assim como pode ser útil reaproveitar um pedaço de código em vários pontos de um mesmo programa, pode ser útil reaproveitar esse pedaço em vários outros projetos também. Várias linguagens de programação oferecem o que chamamos de bibliotecas, e em Python comumente chamamos de módulos."
   ]
  },
  {
   "cell_type": "markdown",
   "metadata": {},
   "source": [
    "------ criação do pacote -------\n",
    "\n",
    "salvar como contas.py\n",
    "\n",
    "def soma(a, b):\n",
    "    resultado = a + b\n",
    "    return resultado\n",
    "\n",
    "def media(x, y):\n",
    "    s = soma(x, y)\n",
    "    resultado = s / 2\n",
    "    return resultado"
   ]
  },
  {
   "cell_type": "code",
   "execution_count": 7,
   "metadata": {},
   "outputs": [
    {
     "name": "stdout",
     "output_type": "stream",
     "text": [
      "y:  7\n"
     ]
    },
    {
     "data": {
      "text/plain": [
       "30.0"
      ]
     },
     "execution_count": 7,
     "metadata": {},
     "output_type": "execute_result"
    }
   ],
   "source": [
    "# Importar um pacote / módulo / biblioteca\n",
    "import contas\n",
    "\n",
    "\n",
    "# chamar a função soma dentro do pacote contas\n",
    "y = contas.soma(3, 4)\n",
    "print('y: ', y)\n",
    "\n",
    "x = contas.media(10, 50)\n",
    "x"
   ]
  },
  {
   "cell_type": "code",
   "execution_count": 3,
   "metadata": {},
   "outputs": [
    {
     "data": {
      "text/plain": [
       "3"
      ]
     },
     "execution_count": 3,
     "metadata": {},
     "output_type": "execute_result"
    }
   ],
   "source": [
    "contas.subtracao(4, 1)"
   ]
  },
  {
   "cell_type": "markdown",
   "metadata": {},
   "source": [
    "Observação extra: Comandos DO JUPYTER NOTEBOOK mágicos que facilitam o carregamento do pacote e seu uso\n",
    "    \n",
    "%load_ext autoreload -> carrega o comando de autoreload  \n",
    "%autoreload 2 -> Reload all modules (expect those excluded by %aimport) every time before executing the Python code typed.\n",
    "https://ipython.org/ipython-doc/3/config/extensions/autoreload.html"
   ]
  },
  {
   "cell_type": "code",
   "execution_count": 5,
   "metadata": {},
   "outputs": [
    {
     "name": "stdout",
     "output_type": "stream",
     "text": [
      "The autoreload extension is already loaded. To reload it, use:\n",
      "  %reload_ext autoreload\n"
     ]
    }
   ],
   "source": [
    "%load_ext autoreload \n",
    "%autoreload 2 "
   ]
  },
  {
   "cell_type": "markdown",
   "metadata": {},
   "source": [
    "Módulos Pré-Instalados"
   ]
  },
  {
   "cell_type": "markdown",
   "metadata": {},
   "source": [
    "https://docs.python.org/3/library/"
   ]
  },
  {
   "cell_type": "code",
   "execution_count": 9,
   "metadata": {},
   "outputs": [
    {
     "data": {
      "text/plain": [
       "5"
      ]
     },
     "execution_count": 9,
     "metadata": {},
     "output_type": "execute_result"
    }
   ],
   "source": [
    "import random\n",
    "\n",
    "sorteio = random.randrange(0, 100)\n",
    "sorteio"
   ]
  },
  {
   "cell_type": "code",
   "execution_count": 11,
   "metadata": {},
   "outputs": [
    {
     "data": {
      "text/plain": [
       "85"
      ]
     },
     "execution_count": 11,
     "metadata": {},
     "output_type": "execute_result"
    }
   ],
   "source": [
    "# alternativa\n",
    "\n",
    "import random as rd\n",
    "\n",
    "sorteio = rd.randrange(0, 100)\n",
    "sorteio"
   ]
  },
  {
   "cell_type": "code",
   "execution_count": 12,
   "metadata": {},
   "outputs": [
    {
     "data": {
      "text/plain": [
       "99"
      ]
     },
     "execution_count": 12,
     "metadata": {},
     "output_type": "execute_result"
    }
   ],
   "source": [
    "# alternativa\n",
    "from random import randrange\n",
    "\n",
    "sorteio = randrange(0, 100)\n",
    "sorteio"
   ]
  },
  {
   "cell_type": "code",
   "execution_count": 13,
   "metadata": {},
   "outputs": [],
   "source": [
    "# Importar tudo do random\n",
    "from random import *\n",
    "# evitar porque podem ter módulos enormes e não vai ser utilizado"
   ]
  },
  {
   "cell_type": "markdown",
   "metadata": {},
   "source": [
    "Nem todas as bibliotecas usadas, já vem pré-instaladas"
   ]
  },
  {
   "cell_type": "code",
   "execution_count": 14,
   "metadata": {},
   "outputs": [
    {
     "ename": "ModuleNotFoundError",
     "evalue": "No module named 'numpy'",
     "output_type": "error",
     "traceback": [
      "\u001b[0;31m---------------------------------------------------------------------------\u001b[0m",
      "\u001b[0;31mModuleNotFoundError\u001b[0m                       Traceback (most recent call last)",
      "\u001b[0;32m<ipython-input-14-68d144d8cb3c>\u001b[0m in \u001b[0;36m<module>\u001b[0;34m\u001b[0m\n\u001b[1;32m      1\u001b[0m \u001b[0;31m# importando o numpy\u001b[0m\u001b[0;34m\u001b[0m\u001b[0;34m\u001b[0m\u001b[0;34m\u001b[0m\u001b[0m\n\u001b[0;32m----> 2\u001b[0;31m \u001b[0;32mimport\u001b[0m \u001b[0mnumpy\u001b[0m \u001b[0;32mas\u001b[0m \u001b[0mnp\u001b[0m\u001b[0;34m\u001b[0m\u001b[0;34m\u001b[0m\u001b[0m\n\u001b[0m",
      "\u001b[0;31mModuleNotFoundError\u001b[0m: No module named 'numpy'"
     ]
    }
   ],
   "source": [
    "# importando o numpy\n",
    "import numpy as np\n"
   ]
  },
  {
   "cell_type": "markdown",
   "metadata": {},
   "source": [
    "## Instalando um módulo"
   ]
  },
  {
   "cell_type": "markdown",
   "metadata": {},
   "source": [
    "- Vamos abrir nosso prompt (ou terminal)\n",
    "- Entrar no ambiente, caso queira / exista\n",
    "\n",
    "        conda activate DSdegree\n",
    "        \n",
    "- procurar no google (conda install numpy) -> https://anaconda.org/anaconda/numpyconda -> install -c anaconda numpy"
   ]
  },
  {
   "cell_type": "markdown",
   "metadata": {},
   "source": [
    "The following packages will be downloaded:\n",
    "\n",
    "    package                    |            build\n",
    "    ---------------------------|-----------------\n",
    "    blas-1.0                   |              mkl           5 KB  anaconda\n",
    "    mkl-service-2.4.0          |   py39h9ed2024_0          45 KB\n",
    "    mkl_fft-1.3.0              |   py39h4a7008c_2         167 KB\n",
    "    mkl_random-1.2.2           |   py39hb2f4e1b_0         285 KB\n",
    "    numpy-1.20.2               |   py39h4b4dc7a_0          23 KB\n",
    "    numpy-base-1.20.2          |   py39he0bd621_0         4.3 MB\n",
    "    ------------------------------------------------------------\n",
    "                                           Total:         4.8 MB\n",
    "\n",
    "The following NEW packages will be INSTALLED:\n",
    "\n",
    "  blas               anaconda/osx-64::blas-1.0-mkl\n",
    "  intel-openmp       pkgs/main/osx-64::intel-openmp-2021.2.0-hecd8cb5_564\n",
    "  mkl                pkgs/main/osx-64::mkl-2021.2.0-hecd8cb5_269\n",
    "  mkl-service        pkgs/main/osx-64::mkl-service-2.4.0-py39h9ed2024_0\n",
    "  mkl_fft            pkgs/main/osx-64::mkl_fft-1.3.0-py39h4a7008c_2\n",
    "  mkl_random         pkgs/main/osx-64::mkl_random-1.2.2-py39hb2f4e1b_0\n",
    "  numpy              pkgs/main/osx-64::numpy-1.20.2-py39h4b4dc7a_0\n",
    "  numpy-base         pkgs/main/osx-64::numpy-base-1.20.2-py39he0bd621_0"
   ]
  },
  {
   "cell_type": "code",
   "execution_count": 16,
   "metadata": {},
   "outputs": [
    {
     "data": {
      "text/plain": [
       "array([[ 0,  1,  2,  3,  4],\n",
       "       [ 5,  6,  7,  8,  9],\n",
       "       [10, 11, 12, 13, 14]])"
      ]
     },
     "execution_count": 16,
     "metadata": {},
     "output_type": "execute_result"
    }
   ],
   "source": [
    "import numpy as np\n",
    "\n",
    "a = np.arange(15).reshape(3, 5)\n",
    "a"
   ]
  },
  {
   "cell_type": "markdown",
   "metadata": {},
   "source": [
    "Para treinar vamos instalar o módulo pandas"
   ]
  },
  {
   "cell_type": "code",
   "execution_count": 17,
   "metadata": {},
   "outputs": [
    {
     "ename": "ModuleNotFoundError",
     "evalue": "No module named 'pandas'",
     "output_type": "error",
     "traceback": [
      "\u001b[0;31m---------------------------------------------------------------------------\u001b[0m",
      "\u001b[0;31mModuleNotFoundError\u001b[0m                       Traceback (most recent call last)",
      "\u001b[0;32m<ipython-input-17-38d4b0363d82>\u001b[0m in \u001b[0;36m<module>\u001b[0;34m\u001b[0m\n\u001b[0;32m----> 1\u001b[0;31m \u001b[0;32mimport\u001b[0m \u001b[0mpandas\u001b[0m\u001b[0;34m\u001b[0m\u001b[0;34m\u001b[0m\u001b[0m\n\u001b[0m",
      "\u001b[0;31mModuleNotFoundError\u001b[0m: No module named 'pandas'"
     ]
    }
   ],
   "source": [
    "import pandas"
   ]
  },
  {
   "cell_type": "markdown",
   "metadata": {},
   "source": [
    "no prompt vamos instalar o módulo pandas\n",
    "\n",
    "        conda install -c anaconda pandas"
   ]
  },
  {
   "cell_type": "markdown",
   "metadata": {},
   "source": [
    "The following packages will be downloaded:\n",
    "\n",
    "    package                    |            build\n",
    "    ---------------------------|-----------------\n",
    "    bottleneck-1.3.2           |   py39he3068b8_1         111 KB\n",
    "    numexpr-2.7.3              |   py39h5873af2_1         124 KB\n",
    "    pandas-1.2.5               |   py39h23ab428_0         8.5 MB\n",
    "    pytz-2020.1                |             py_0         239 KB  anaconda\n",
    "    ------------------------------------------------------------\n",
    "                                           Total:         8.9 MB\n",
    "\n",
    "The following NEW packages will be INSTALLED:\n",
    "\n",
    "  bottleneck         pkgs/main/osx-64::bottleneck-1.3.2-py39he3068b8_1\n",
    "  numexpr            pkgs/main/osx-64::numexpr-2.7.3-py39h5873af2_1\n",
    "  pandas             pkgs/main/osx-64::pandas-1.2.5-py39h23ab428_0\n",
    "  pytz               anaconda/noarch::pytz-2020.1-py_0"
   ]
  },
  {
   "cell_type": "code",
   "execution_count": 19,
   "metadata": {},
   "outputs": [],
   "source": [
    "import pandas as pd"
   ]
  },
  {
   "cell_type": "markdown",
   "metadata": {},
   "source": [
    "--------------------------"
   ]
  },
  {
   "cell_type": "markdown",
   "metadata": {},
   "source": [
    "## Bônus"
   ]
  },
  {
   "cell_type": "code",
   "execution_count": 47,
   "metadata": {},
   "outputs": [
    {
     "name": "stdout",
     "output_type": "stream",
     "text": [
      "['RA,Nome,Frequencia,Prova_1,Prova_2,Prova_3,Prova_4']\n",
      "['110201,Antonio Carlos,20,6.5,8.5,7,6']\n",
      "['110212,Ana Beatriz,20,7,7,7,8']\n",
      "['110218,Carlos Vernes,17,7,7,7,7']\n",
      "['110307,Francisco Cunha,20,9,8.5,8.5,10']\n",
      "['110275,Sandra Rosa,15,6.5,7.5,7,7']\n",
      "['110281,Juliana Arruda,18,7.5,7,7.5,8']\n",
      "['110301,Joao Galo,20,5,6.5,7,5']\n",
      "['110263,José Valente,20,10,10,10,10']\n",
      "['110271,Maria Ferreira,19,9.5,8,7,10']\n",
      "['110236,Adriana Tavares,20,8,8,8,8']\n"
     ]
    }
   ],
   "source": [
    "# Forma que aprendemos para ler um arquivo csv na aula 10\n",
    "\n",
    "import csv\n",
    "\n",
    "arquivo = open('../Aula10/alunos.csv', 'r')\n",
    "\n",
    "planilha = csv.reader(arquivo, delimiter=';', lineterminator='\\n')\n",
    "\n",
    "for linha in planilha:\n",
    "    print(linha)\n",
    "\n",
    "arquivo.close()"
   ]
  },
  {
   "cell_type": "code",
   "execution_count": 48,
   "metadata": {},
   "outputs": [
    {
     "data": {
      "text/html": [
       "<div>\n",
       "<style scoped>\n",
       "    .dataframe tbody tr th:only-of-type {\n",
       "        vertical-align: middle;\n",
       "    }\n",
       "\n",
       "    .dataframe tbody tr th {\n",
       "        vertical-align: top;\n",
       "    }\n",
       "\n",
       "    .dataframe thead th {\n",
       "        text-align: right;\n",
       "    }\n",
       "</style>\n",
       "<table border=\"1\" class=\"dataframe\">\n",
       "  <thead>\n",
       "    <tr style=\"text-align: right;\">\n",
       "      <th></th>\n",
       "      <th>RA</th>\n",
       "      <th>Nome</th>\n",
       "      <th>Frequencia</th>\n",
       "      <th>Prova_1</th>\n",
       "      <th>Prova_2</th>\n",
       "      <th>Prova_3</th>\n",
       "      <th>Prova_4</th>\n",
       "    </tr>\n",
       "  </thead>\n",
       "  <tbody>\n",
       "    <tr>\n",
       "      <th>0</th>\n",
       "      <td>110201</td>\n",
       "      <td>Antonio Carlos</td>\n",
       "      <td>20</td>\n",
       "      <td>6.5</td>\n",
       "      <td>8.5</td>\n",
       "      <td>7.0</td>\n",
       "      <td>6</td>\n",
       "    </tr>\n",
       "    <tr>\n",
       "      <th>1</th>\n",
       "      <td>110212</td>\n",
       "      <td>Ana Beatriz</td>\n",
       "      <td>20</td>\n",
       "      <td>7.0</td>\n",
       "      <td>7.0</td>\n",
       "      <td>7.0</td>\n",
       "      <td>8</td>\n",
       "    </tr>\n",
       "    <tr>\n",
       "      <th>2</th>\n",
       "      <td>110218</td>\n",
       "      <td>Carlos Vernes</td>\n",
       "      <td>17</td>\n",
       "      <td>7.0</td>\n",
       "      <td>7.0</td>\n",
       "      <td>7.0</td>\n",
       "      <td>7</td>\n",
       "    </tr>\n",
       "    <tr>\n",
       "      <th>3</th>\n",
       "      <td>110307</td>\n",
       "      <td>Francisco Cunha</td>\n",
       "      <td>20</td>\n",
       "      <td>9.0</td>\n",
       "      <td>8.5</td>\n",
       "      <td>8.5</td>\n",
       "      <td>10</td>\n",
       "    </tr>\n",
       "    <tr>\n",
       "      <th>4</th>\n",
       "      <td>110275</td>\n",
       "      <td>Sandra Rosa</td>\n",
       "      <td>15</td>\n",
       "      <td>6.5</td>\n",
       "      <td>7.5</td>\n",
       "      <td>7.0</td>\n",
       "      <td>7</td>\n",
       "    </tr>\n",
       "    <tr>\n",
       "      <th>5</th>\n",
       "      <td>110281</td>\n",
       "      <td>Juliana Arruda</td>\n",
       "      <td>18</td>\n",
       "      <td>7.5</td>\n",
       "      <td>7.0</td>\n",
       "      <td>7.5</td>\n",
       "      <td>8</td>\n",
       "    </tr>\n",
       "    <tr>\n",
       "      <th>6</th>\n",
       "      <td>110301</td>\n",
       "      <td>Joao Galo</td>\n",
       "      <td>20</td>\n",
       "      <td>5.0</td>\n",
       "      <td>6.5</td>\n",
       "      <td>7.0</td>\n",
       "      <td>5</td>\n",
       "    </tr>\n",
       "    <tr>\n",
       "      <th>7</th>\n",
       "      <td>110263</td>\n",
       "      <td>José Valente</td>\n",
       "      <td>20</td>\n",
       "      <td>10.0</td>\n",
       "      <td>10.0</td>\n",
       "      <td>10.0</td>\n",
       "      <td>10</td>\n",
       "    </tr>\n",
       "    <tr>\n",
       "      <th>8</th>\n",
       "      <td>110271</td>\n",
       "      <td>Maria Ferreira</td>\n",
       "      <td>19</td>\n",
       "      <td>9.5</td>\n",
       "      <td>8.0</td>\n",
       "      <td>7.0</td>\n",
       "      <td>10</td>\n",
       "    </tr>\n",
       "    <tr>\n",
       "      <th>9</th>\n",
       "      <td>110236</td>\n",
       "      <td>Adriana Tavares</td>\n",
       "      <td>20</td>\n",
       "      <td>8.0</td>\n",
       "      <td>8.0</td>\n",
       "      <td>8.0</td>\n",
       "      <td>8</td>\n",
       "    </tr>\n",
       "  </tbody>\n",
       "</table>\n",
       "</div>"
      ],
      "text/plain": [
       "       RA             Nome  Frequencia  Prova_1  Prova_2  Prova_3  Prova_4\n",
       "0  110201   Antonio Carlos          20      6.5      8.5      7.0        6\n",
       "1  110212      Ana Beatriz          20      7.0      7.0      7.0        8\n",
       "2  110218    Carlos Vernes          17      7.0      7.0      7.0        7\n",
       "3  110307  Francisco Cunha          20      9.0      8.5      8.5       10\n",
       "4  110275      Sandra Rosa          15      6.5      7.5      7.0        7\n",
       "5  110281   Juliana Arruda          18      7.5      7.0      7.5        8\n",
       "6  110301        Joao Galo          20      5.0      6.5      7.0        5\n",
       "7  110263     José Valente          20     10.0     10.0     10.0       10\n",
       "8  110271   Maria Ferreira          19      9.5      8.0      7.0       10\n",
       "9  110236  Adriana Tavares          20      8.0      8.0      8.0        8"
      ]
     },
     "execution_count": 48,
     "metadata": {},
     "output_type": "execute_result"
    }
   ],
   "source": [
    "# Outra fomra de ler um arquivo csv\n",
    "import pandas as pd\n",
    "\n",
    "pd.read_csv('../Aula10/alunos.csv')"
   ]
  },
  {
   "cell_type": "code",
   "execution_count": null,
   "metadata": {},
   "outputs": [],
   "source": []
  }
 ],
 "metadata": {
  "kernelspec": {
   "display_name": "Python 3",
   "language": "python",
   "name": "python3"
  },
  "language_info": {
   "codemirror_mode": {
    "name": "ipython",
    "version": 3
   },
   "file_extension": ".py",
   "mimetype": "text/x-python",
   "name": "python",
   "nbconvert_exporter": "python",
   "pygments_lexer": "ipython3",
   "version": "3.9.5"
  }
 },
 "nbformat": 4,
 "nbformat_minor": 4
}
