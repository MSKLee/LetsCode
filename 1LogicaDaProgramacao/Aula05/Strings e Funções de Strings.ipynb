{
 "cells": [
  {
   "cell_type": "markdown",
   "metadata": {},
   "source": [
    "# String"
   ]
  },
  {
   "cell_type": "markdown",
   "metadata": {},
   "source": [
    "String = texto, literal\n",
    "String é uma coleção de caracteres\n",
    "Strings são mutáveis"
   ]
  },
  {
   "cell_type": "code",
   "execution_count": 2,
   "metadata": {},
   "outputs": [],
   "source": [
    "variavel1 = 'texto' # aspa simples\n",
    "variavel2 = \"palavra\" # aspas duplas\n",
    "variavel3 = \"Let's Code\""
   ]
  },
  {
   "cell_type": "markdown",
   "metadata": {},
   "source": [
    "## Acessar uma string"
   ]
  },
  {
   "cell_type": "code",
   "execution_count": 4,
   "metadata": {},
   "outputs": [
    {
     "name": "stdout",
     "output_type": "stream",
     "text": [
      "L\n",
      "e\n",
      "t\n",
      "'\n",
      "s\n",
      " \n"
     ]
    }
   ],
   "source": [
    "frase = \"Let's Code\"\n",
    "\n",
    "\n",
    "print(frase[0])\n",
    "print(frase[1])\n",
    "print(frase[2])\n",
    "print(frase[3])\n",
    "print(frase[4])\n",
    "print(frase[5])"
   ]
  },
  {
   "cell_type": "markdown",
   "metadata": {},
   "source": [
    "\"Let's Code\"\n",
    "\n",
    "índice 0 corresponde a L\n",
    "índice 5 corresponde ao espaço\n",
    "\n",
    "Obs.:\n",
    "\n"
   ]
  },
  {
   "cell_type": "code",
   "execution_count": 5,
   "metadata": {},
   "outputs": [
    {
     "ename": "TypeError",
     "evalue": "'str' object does not support item assignment",
     "output_type": "error",
     "traceback": [
      "\u001b[0;31m---------------------------------------------------------------------------\u001b[0m",
      "\u001b[0;31mTypeError\u001b[0m                                 Traceback (most recent call last)",
      "\u001b[0;32m<ipython-input-5-542e5e01c5e8>\u001b[0m in \u001b[0;36m<module>\u001b[0;34m\u001b[0m\n\u001b[1;32m      2\u001b[0m \u001b[0;34m\u001b[0m\u001b[0m\n\u001b[1;32m      3\u001b[0m \u001b[0;34m\u001b[0m\u001b[0m\n\u001b[0;32m----> 4\u001b[0;31m \u001b[0mfrase\u001b[0m\u001b[0;34m[\u001b[0m\u001b[0;36m0\u001b[0m\u001b[0;34m]\u001b[0m \u001b[0;34m=\u001b[0m \u001b[0;34m'p'\u001b[0m \u001b[0;31m# deu erro pois a string é imutável, não consigo associar um caracter dentro de uma string\u001b[0m\u001b[0;34m\u001b[0m\u001b[0;34m\u001b[0m\u001b[0m\n\u001b[0m",
      "\u001b[0;31mTypeError\u001b[0m: 'str' object does not support item assignment"
     ]
    }
   ],
   "source": [
    "frase = \"Let's Code\"\n",
    "\n",
    "\n",
    "frase[0] = 'p' # deu erro pois a string é imutável, não consigo associar um caracter dentro de uma string"
   ]
  },
  {
   "cell_type": "markdown",
   "metadata": {},
   "source": [
    "Para as strings, temos que copiar ou associar a outra string"
   ]
  },
  {
   "cell_type": "code",
   "execution_count": 7,
   "metadata": {},
   "outputs": [
    {
     "data": {
      "text/plain": [
       "\"Let's Code qualquer coisa\""
      ]
     },
     "execution_count": 7,
     "metadata": {},
     "output_type": "execute_result"
    }
   ],
   "source": [
    "frase2 = frase + ' qualquer coisa'\n",
    "frase2"
   ]
  },
  {
   "cell_type": "code",
   "execution_count": 8,
   "metadata": {},
   "outputs": [
    {
     "data": {
      "text/plain": [
       "\"pet's Code\""
      ]
     },
     "execution_count": 8,
     "metadata": {},
     "output_type": "execute_result"
    }
   ],
   "source": [
    "frase = \"pet's Code\" # associando uma nova string para a variável frase\n",
    "frase"
   ]
  },
  {
   "cell_type": "markdown",
   "metadata": {},
   "source": [
    "## Operações"
   ]
  },
  {
   "cell_type": "raw",
   "metadata": {},
   "source": [
    "+ : Concatenar (unir duas strings)"
   ]
  },
  {
   "cell_type": "code",
   "execution_count": 9,
   "metadata": {},
   "outputs": [
    {
     "data": {
      "text/plain": [
       "'Olámundo'"
      ]
     },
     "execution_count": 9,
     "metadata": {},
     "output_type": "execute_result"
    }
   ],
   "source": [
    "string1 = 'Olá'\n",
    "string2 = 'mundo'\n",
    "\n",
    "string1 + string2"
   ]
  },
  {
   "cell_type": "code",
   "execution_count": 10,
   "metadata": {},
   "outputs": [
    {
     "data": {
      "text/plain": [
       "'Olá mundo'"
      ]
     },
     "execution_count": 10,
     "metadata": {},
     "output_type": "execute_result"
    }
   ],
   "source": [
    "string1 + \" \"+ string2"
   ]
  },
  {
   "cell_type": "code",
   "execution_count": 11,
   "metadata": {},
   "outputs": [
    {
     "data": {
      "text/plain": [
       "'Posso escrever uma frase'"
      ]
     },
     "execution_count": 11,
     "metadata": {},
     "output_type": "execute_result"
    }
   ],
   "source": [
    "'Posso' + \" \" + 'escrever' + ' ' + 'uma' + ' ' + 'frase'"
   ]
  },
  {
   "cell_type": "code",
   "execution_count": 14,
   "metadata": {},
   "outputs": [
    {
     "data": {
      "text/plain": [
       "'A idade da menina é: 30 e sua altura é 1.67 m'"
      ]
     },
     "execution_count": 14,
     "metadata": {},
     "output_type": "execute_result"
    }
   ],
   "source": [
    "idade = 30\n",
    "altura = 1.67\n",
    "'A idade da menina é: ' + str(idade) + ' e sua altura é ' + str(altura) + ' m'"
   ]
  },
  {
   "cell_type": "code",
   "execution_count": 15,
   "metadata": {},
   "outputs": [
    {
     "data": {
      "text/plain": [
       "'OláOláOlá'"
      ]
     },
     "execution_count": 15,
     "metadata": {},
     "output_type": "execute_result"
    }
   ],
   "source": [
    "string1 * 3 #repetir a string1 3 vezes"
   ]
  },
  {
   "cell_type": "code",
   "execution_count": 16,
   "metadata": {},
   "outputs": [
    {
     "data": {
      "text/plain": [
       "'00000000000000000000'"
      ]
     },
     "execution_count": 16,
     "metadata": {},
     "output_type": "execute_result"
    }
   ],
   "source": [
    "'0'* 20 # criando uma string / texto com 20 zeros"
   ]
  },
  {
   "cell_type": "markdown",
   "metadata": {},
   "source": [
    "* copiando uma string através de concatenar"
   ]
  },
  {
   "cell_type": "raw",
   "metadata": {},
   "source": [
    "# Exemplo com lista\n",
    "soma = 0\n",
    "for numero in lista:\n",
    "    soma = soma + numero"
   ]
  },
  {
   "cell_type": "code",
   "execution_count": 24,
   "metadata": {},
   "outputs": [
    {
     "name": "stdout",
     "output_type": "stream",
     "text": [
      "letra: O\n",
      "string_final: \n",
      "string_final: O\n",
      "mais uma rodada\n",
      "\n",
      "letra: l\n",
      "string_final: O\n",
      "string_final: Ol\n",
      "mais uma rodada\n",
      "\n",
      "letra: á\n",
      "string_final: Ol\n",
      "string_final: Olá\n",
      "mais uma rodada\n",
      "\n",
      "letra:  \n",
      "string_final: Olá\n",
      "string_final: Olá \n",
      "mais uma rodada\n",
      "\n",
      "letra: m\n",
      "string_final: Olá \n",
      "string_final: Olá m\n",
      "mais uma rodada\n",
      "\n",
      "letra: u\n",
      "string_final: Olá m\n",
      "string_final: Olá mu\n",
      "mais uma rodada\n",
      "\n",
      "letra: n\n",
      "string_final: Olá mu\n",
      "string_final: Olá mun\n",
      "mais uma rodada\n",
      "\n",
      "letra: d\n",
      "string_final: Olá mun\n",
      "string_final: Olá mund\n",
      "mais uma rodada\n",
      "\n",
      "letra: o\n",
      "string_final: Olá mund\n",
      "string_final: Olá mundo\n",
      "mais uma rodada\n",
      "\n"
     ]
    }
   ],
   "source": [
    "# usando a mesma lógica\n",
    "\n",
    "string_inicial = 'Olá mundo'\n",
    "string_final = '' # iniciando uma variável com o valor string vazio (cria uma string vazia)\n",
    "\n",
    "for letra in string_inicial:\n",
    "    print('letra:' , letra)\n",
    "    print('string_final:' , string_final)\n",
    "    string_final = string_final + letra\n",
    "    print('string_final:' , string_final)\n",
    "    print('mais uma rodada\\n')\n",
    "    \n",
    "# print(string_final)\n"
   ]
  },
  {
   "cell_type": "markdown",
   "metadata": {},
   "source": [
    "No exemplo acima, foi adicionado letra a letra à variável string_final"
   ]
  },
  {
   "cell_type": "code",
   "execution_count": 25,
   "metadata": {},
   "outputs": [
    {
     "data": {
      "text/plain": [
       "'Olá mundo'"
      ]
     },
     "execution_count": 25,
     "metadata": {},
     "output_type": "execute_result"
    }
   ],
   "source": [
    "string_inicial"
   ]
  },
  {
   "cell_type": "code",
   "execution_count": 19,
   "metadata": {},
   "outputs": [
    {
     "data": {
      "text/plain": [
       "''"
      ]
     },
     "execution_count": 19,
     "metadata": {},
     "output_type": "execute_result"
    }
   ],
   "source": [
    "string_final"
   ]
  },
  {
   "cell_type": "markdown",
   "metadata": {},
   "source": [
    "## Transformando uma string em lista"
   ]
  },
  {
   "cell_type": "code",
   "execution_count": 32,
   "metadata": {},
   "outputs": [
    {
     "name": "stdout",
     "output_type": "stream",
     "text": [
      "['t', 'e', 'x', 't', 'o']\n"
     ]
    }
   ],
   "source": [
    "frase = 'texto'\n",
    "\n",
    "# transformando uma string em lista\n",
    "lista_frase = list(frase)\n",
    "print(lista_frase)"
   ]
  },
  {
   "cell_type": "code",
   "execution_count": 30,
   "metadata": {},
   "outputs": [
    {
     "data": {
      "text/plain": [
       "'texto'"
      ]
     },
     "execution_count": 30,
     "metadata": {},
     "output_type": "execute_result"
    }
   ],
   "source": [
    "frase"
   ]
  },
  {
   "cell_type": "code",
   "execution_count": 33,
   "metadata": {},
   "outputs": [
    {
     "data": {
      "text/plain": [
       "['t', 'e', 'x', 't', 'o']"
      ]
     },
     "execution_count": 33,
     "metadata": {},
     "output_type": "execute_result"
    }
   ],
   "source": [
    "lista_frase"
   ]
  },
  {
   "cell_type": "code",
   "execution_count": 35,
   "metadata": {},
   "outputs": [
    {
     "name": "stdout",
     "output_type": "stream",
     "text": [
      "['T', 'e', 'x', 't', 'o']\n"
     ]
    }
   ],
   "source": [
    "# na lista consigo alterar a letra 't'por 'T'?\n",
    "lista_frase[0] = 'T'\n",
    "\n",
    "print(lista_frase)"
   ]
  },
  {
   "cell_type": "code",
   "execution_count": 36,
   "metadata": {},
   "outputs": [
    {
     "name": "stdout",
     "output_type": "stream",
     "text": [
      "['T', 'e', 'x', 'T', 'o']\n"
     ]
    }
   ],
   "source": [
    "lista_frase[3] = 'T'\n",
    "\n",
    "\n",
    "print(lista_frase)"
   ]
  },
  {
   "cell_type": "markdown",
   "metadata": {},
   "source": [
    "## Símbolos especiais"
   ]
  },
  {
   "cell_type": "markdown",
   "metadata": {},
   "source": [
    "* quebra de linha: \\n"
   ]
  },
  {
   "cell_type": "code",
   "execution_count": 37,
   "metadata": {},
   "outputs": [
    {
     "name": "stdout",
     "output_type": "stream",
     "text": [
      "Olá \n",
      " mundo \n",
      " gigante\n"
     ]
    }
   ],
   "source": [
    "print('Olá \\n mundo \\n gigante')"
   ]
  },
  {
   "cell_type": "code",
   "execution_count": 43,
   "metadata": {},
   "outputs": [
    {
     "name": "stdout",
     "output_type": "stream",
     "text": [
      "\n",
      " Uma frase\n"
     ]
    }
   ],
   "source": [
    "print('\\n Uma frase')"
   ]
  },
  {
   "cell_type": "markdown",
   "metadata": {},
   "source": [
    "* Tabulação: \\t"
   ]
  },
  {
   "cell_type": "code",
   "execution_count": 41,
   "metadata": {},
   "outputs": [
    {
     "name": "stdout",
     "output_type": "stream",
     "text": [
      "\t Uma frase\n"
     ]
    }
   ],
   "source": [
    "print('\\t Uma frase')"
   ]
  },
  {
   "cell_type": "code",
   "execution_count": 42,
   "metadata": {},
   "outputs": [
    {
     "name": "stdout",
     "output_type": "stream",
     "text": [
      "Candidatos aprovados:\n",
      "\t Mario\n",
      "\t Peach\n",
      "\t Luigi\n",
      "Candidatos reprovados:\n",
      "\t Wario\n",
      "\t Bowser\n"
     ]
    }
   ],
   "source": [
    "aprovados = ['Mario', 'Peach', 'Luigi']\n",
    "reprovados = ['Wario', 'Bowser']\n",
    "\n",
    "print('Candidatos aprovados:')\n",
    "for nome in aprovados:\n",
    "    print('\\t', nome)\n",
    "\n",
    "print('Candidatos reprovados:')\n",
    "for nome in reprovados:\n",
    "    print('\\t', nome)"
   ]
  },
  {
   "cell_type": "markdown",
   "metadata": {},
   "source": [
    "- barra : \\"
   ]
  },
  {
   "cell_type": "code",
   "execution_count": 39,
   "metadata": {},
   "outputs": [
    {
     "name": "stdout",
     "output_type": "stream",
     "text": [
      "Utilizamoso o \n",
      " para quebrar linhas\n"
     ]
    }
   ],
   "source": [
    "# print('Utilizamoso o \\n para quebrar linhas')\n",
    "print('Utilizamoso o \\n para quebrar linhas')"
   ]
  },
  {
   "cell_type": "code",
   "execution_count": 40,
   "metadata": {},
   "outputs": [
    {
     "name": "stdout",
     "output_type": "stream",
     "text": [
      "Utilizamoso o \\n para quebrar linhas\n"
     ]
    }
   ],
   "source": [
    "print('Utilizamoso o \\\\n para quebrar linhas')"
   ]
  },
  {
   "cell_type": "markdown",
   "metadata": {},
   "source": [
    "- aspas '\""
   ]
  },
  {
   "cell_type": "code",
   "execution_count": 47,
   "metadata": {},
   "outputs": [
    {
     "name": "stdout",
     "output_type": "stream",
     "text": [
      "Imprimindo uma aspa simples (')dentro de uma string sem problemas\n",
      "Imprimindo uma aspa simples (\")dentro de uma string sem problemas\n"
     ]
    }
   ],
   "source": [
    "print('Imprimindo uma aspa simples (\\')dentro de uma string sem problemas')\n",
    "print(\"Imprimindo uma aspa simples (\\\")dentro de uma string sem problemas\")"
   ]
  },
  {
   "cell_type": "code",
   "execution_count": 48,
   "metadata": {},
   "outputs": [
    {
     "data": {
      "text/plain": [
       "\"let's code\""
      ]
     },
     "execution_count": 48,
     "metadata": {},
     "output_type": "execute_result"
    }
   ],
   "source": [
    "'let\\'s code'"
   ]
  },
  {
   "cell_type": "markdown",
   "metadata": {},
   "source": [
    "# Funções das Strings"
   ]
  },
  {
   "cell_type": "markdown",
   "metadata": {},
   "source": [
    "## Maiúscula e minúscula (capitalização das letras)"
   ]
  },
  {
   "cell_type": "code",
   "execution_count": 50,
   "metadata": {},
   "outputs": [
    {
     "data": {
      "text/plain": [
       "'QuErO mOsTrar UMA frase'"
      ]
     },
     "execution_count": 50,
     "metadata": {},
     "output_type": "execute_result"
    }
   ],
   "source": [
    "frase = 'QuErO mOsTrar UMA frase'\n",
    "frase"
   ]
  },
  {
   "cell_type": "code",
   "execution_count": 54,
   "metadata": {},
   "outputs": [
    {
     "data": {
      "text/plain": [
       "'QUERO MOSTRAR UMA FRASE'"
      ]
     },
     "execution_count": 54,
     "metadata": {},
     "output_type": "execute_result"
    }
   ],
   "source": [
    "# Quero a frase toda em letras maiúsculas\n",
    "\n",
    "maiuscula = frase.upper()\n",
    "maiuscula"
   ]
  },
  {
   "cell_type": "code",
   "execution_count": 55,
   "metadata": {},
   "outputs": [
    {
     "data": {
      "text/plain": [
       "'quero mostrar uma frase'"
      ]
     },
     "execution_count": 55,
     "metadata": {},
     "output_type": "execute_result"
    }
   ],
   "source": [
    "# Quero a frase toda em letras minúsculas\n",
    "\n",
    "minuscula = frase.lower()\n",
    "minuscula"
   ]
  },
  {
   "cell_type": "code",
   "execution_count": 57,
   "metadata": {},
   "outputs": [
    {
     "data": {
      "text/plain": [
       "'Quero mostrar uma frase'"
      ]
     },
     "execution_count": 57,
     "metadata": {},
     "output_type": "execute_result"
    }
   ],
   "source": [
    "# Quero colocar apensa a primeira letra maiúscula e o resto da frase em minúscula\n",
    "\n",
    "capitalize = frase.capitalize()\n",
    "capitalize"
   ]
  },
  {
   "cell_type": "code",
   "execution_count": 58,
   "metadata": {},
   "outputs": [
    {
     "data": {
      "text/plain": [
       "'Quero Mostrar Uma Frase'"
      ]
     },
     "execution_count": 58,
     "metadata": {},
     "output_type": "execute_result"
    }
   ],
   "source": [
    "# Quero maiúscula a primeira letra de cada palavra\n",
    "\n",
    "title = frase.title()\n",
    "title"
   ]
  },
  {
   "cell_type": "code",
   "execution_count": 63,
   "metadata": {},
   "outputs": [
    {
     "name": "stdout",
     "output_type": "stream",
     "text": [
      "Digite \"sim\" se aceita os termos de uso: sim\n",
      "Seja bem-vindo!\n"
     ]
    }
   ],
   "source": [
    "# um exemplo onde fica mais fácil usar essas funções\n",
    "\n",
    "usuario = input('Digite \"sim\" se aceita os termos de uso: ' )\n",
    "if usuario.upper()  == 'SIM': # evita ter que comparar com sim, Sim, sIm, S, s,...\n",
    "    print('Seja bem-vindo!')\n",
    "else:\n",
    "    print('Que pena')"
   ]
  },
  {
   "cell_type": "markdown",
   "metadata": {},
   "source": [
    "## Quebrando uma string"
   ]
  },
  {
   "cell_type": "code",
   "execution_count": 72,
   "metadata": {},
   "outputs": [
    {
     "name": "stdout",
     "output_type": "stream",
     "text": [
      "['um', 'texto', 'qualquer', 'aqui,', 'por', 'exemplo']\n"
     ]
    }
   ],
   "source": [
    "texto = 'um texto qualquer aqui, por exemplo'\n",
    "\n",
    "palavras = texto.split() #quebrando um texto em palavras - separando as palavras pelo \"espaço\" (padrão) -> transforma em lista\n",
    "print(palavras)"
   ]
  },
  {
   "cell_type": "code",
   "execution_count": 74,
   "metadata": {},
   "outputs": [
    {
     "data": {
      "text/plain": [
       "['um texto qualquer aqui', ' por exemplo']"
      ]
     },
     "execution_count": 74,
     "metadata": {},
     "output_type": "execute_result"
    }
   ],
   "source": [
    "# quero quebrar texto na vírgula\n",
    "\n",
    "texto2 = texto.split(',')\n",
    "texto2"
   ]
  },
  {
   "cell_type": "code",
   "execution_count": 75,
   "metadata": {},
   "outputs": [
    {
     "data": {
      "text/plain": [
       "['um', 'texto', 'qualquer', 'aqui']"
      ]
     },
     "execution_count": 75,
     "metadata": {},
     "output_type": "execute_result"
    }
   ],
   "source": [
    "# pegando o primeiro elemento da string e separando por espaço\n",
    "texto2[0].split()"
   ]
  },
  {
   "cell_type": "code",
   "execution_count": 79,
   "metadata": {},
   "outputs": [
    {
     "name": "stdout",
     "output_type": "stream",
     "text": [
      "['16', '06', '2021']\n"
     ]
    }
   ],
   "source": [
    "# separar em dia, mês e ano\n",
    "\n",
    "data = '16/06/2021'\n",
    "\n",
    "lista_data = data.split('/')\n",
    "print(lista_data)"
   ]
  },
  {
   "cell_type": "code",
   "execution_count": 78,
   "metadata": {},
   "outputs": [
    {
     "data": {
      "text/plain": [
       "['16/06/2021']"
      ]
     },
     "execution_count": 78,
     "metadata": {},
     "output_type": "execute_result"
    }
   ],
   "source": [
    "data.split() # não separa, porque não tem espaço. Mas transforma em lista."
   ]
  },
  {
   "cell_type": "code",
   "execution_count": 83,
   "metadata": {},
   "outputs": [
    {
     "name": "stdout",
     "output_type": "stream",
     "text": [
      "Dia:  16\n",
      "Mês:  6\n",
      "Ano:  2021\n"
     ]
    }
   ],
   "source": [
    "dia = int(lista_data[0])\n",
    "mes = int(lista_data[1])\n",
    "ano = int(lista_data[2])\n",
    "\n",
    "print('Dia: ' , dia)\n",
    "print('Mês: ' , mes)\n",
    "print('Ano: ' , ano)"
   ]
  },
  {
   "cell_type": "code",
   "execution_count": 84,
   "metadata": {},
   "outputs": [
    {
     "data": {
      "text/plain": [
       "'Python é difícil. Por ser difícil, devemos estudar'"
      ]
     },
     "execution_count": 84,
     "metadata": {},
     "output_type": "execute_result"
    }
   ],
   "source": [
    "# Substituindo elementos em uma string\n",
    "\n",
    "frase = 'Python é difícil. Por ser difícil, devemos estudar'\n",
    "frase"
   ]
  },
  {
   "cell_type": "code",
   "execution_count": 87,
   "metadata": {},
   "outputs": [
    {
     "data": {
      "text/plain": [
       "'Python é fácil. Por ser fácil, devemos estudar'"
      ]
     },
     "execution_count": 87,
     "metadata": {},
     "output_type": "execute_result"
    }
   ],
   "source": [
    "# substituir a palavra difícil por fácil\n",
    "\n",
    "frase_corrigida = frase.replace('difícil', 'fácil') # troca uma palavra por outra\n",
    "frase_corrigida"
   ]
  },
  {
   "cell_type": "code",
   "execution_count": 90,
   "metadata": {},
   "outputs": [
    {
     "data": {
      "text/plain": [
       "'btt'"
      ]
     },
     "execution_count": 90,
     "metadata": {},
     "output_type": "execute_result"
    }
   ],
   "source": [
    "# podemos usar o replace para \"apagar\"uma letra, por exemplo\n",
    "\n",
    "palavra = 'batata'\n",
    "consoantes = palavra.replace('a', '')\n",
    "consoantes"
   ]
  },
  {
   "cell_type": "markdown",
   "metadata": {},
   "source": [
    "## Concatenando strings em uma coleção (unir letras)"
   ]
  },
  {
   "cell_type": "code",
   "execution_count": 92,
   "metadata": {},
   "outputs": [
    {
     "data": {
      "text/plain": [
       "'abc'"
      ]
     },
     "execution_count": 92,
     "metadata": {},
     "output_type": "execute_result"
    }
   ],
   "source": [
    "# transformar uma lista em string (juntando todas as letras)\n",
    "lista = ['a', 'b', 'c']\n",
    "\n",
    "''.join(lista) #unindo pelo caracter vazio ('') todas as letras (ou melhor, todos elementos da lista)"
   ]
  },
  {
   "cell_type": "code",
   "execution_count": 93,
   "metadata": {},
   "outputs": [
    {
     "data": {
      "text/plain": [
       "'a-b-c'"
      ]
     },
     "execution_count": 93,
     "metadata": {},
     "output_type": "execute_result"
    }
   ],
   "source": [
    "'-'.join(lista)"
   ]
  },
  {
   "cell_type": "code",
   "execution_count": 94,
   "metadata": {},
   "outputs": [
    {
     "data": {
      "text/plain": [
       "'a123b123c'"
      ]
     },
     "execution_count": 94,
     "metadata": {},
     "output_type": "execute_result"
    }
   ],
   "source": [
    "lista = ['a', 'b', 'c']\n",
    "separador = '123'\n",
    "\n",
    "resultado = separador.join(lista)\n",
    "resultado"
   ]
  },
  {
   "cell_type": "markdown",
   "metadata": {},
   "source": [
    "lista é lista\n",
    "separador é uma string\n",
    "resultado é uma string\n",
    "\n",
    "join(lista) -> transfroma uma lista em uma string"
   ]
  },
  {
   "cell_type": "code",
   "execution_count": 95,
   "metadata": {},
   "outputs": [
    {
     "data": {
      "text/plain": [
       "'16/06/2021'"
      ]
     },
     "execution_count": 95,
     "metadata": {},
     "output_type": "execute_result"
    }
   ],
   "source": [
    "data = ['16', '06', '2021']\n",
    "separador = '/'\n",
    "\n",
    "separador.join(data)"
   ]
  },
  {
   "cell_type": "code",
   "execution_count": 96,
   "metadata": {},
   "outputs": [
    {
     "data": {
      "text/plain": [
       "'16-06-2021'"
      ]
     },
     "execution_count": 96,
     "metadata": {},
     "output_type": "execute_result"
    }
   ],
   "source": [
    "'-'.join(data)"
   ]
  },
  {
   "cell_type": "code",
   "execution_count": 98,
   "metadata": {},
   "outputs": [
    {
     "ename": "TypeError",
     "evalue": "sequence item 0: expected str instance, int found",
     "output_type": "error",
     "traceback": [
      "\u001b[0;31m---------------------------------------------------------------------------\u001b[0m",
      "\u001b[0;31mTypeError\u001b[0m                                 Traceback (most recent call last)",
      "\u001b[0;32m<ipython-input-98-b8391612ea21>\u001b[0m in \u001b[0;36m<module>\u001b[0;34m\u001b[0m\n\u001b[1;32m      2\u001b[0m \u001b[0mseparador\u001b[0m \u001b[0;34m=\u001b[0m \u001b[0;34m'/'\u001b[0m\u001b[0;34m\u001b[0m\u001b[0;34m\u001b[0m\u001b[0m\n\u001b[1;32m      3\u001b[0m \u001b[0;34m\u001b[0m\u001b[0m\n\u001b[0;32m----> 4\u001b[0;31m \u001b[0mseparador\u001b[0m\u001b[0;34m.\u001b[0m\u001b[0mjoin\u001b[0m\u001b[0;34m(\u001b[0m\u001b[0mdata\u001b[0m\u001b[0;34m)\u001b[0m\u001b[0;34m\u001b[0m\u001b[0;34m\u001b[0m\u001b[0m\n\u001b[0m",
      "\u001b[0;31mTypeError\u001b[0m: sequence item 0: expected str instance, int found"
     ]
    }
   ],
   "source": [
    "# A lista precisa ter valores do tipo string E NÃO INTEIRO\n",
    "data = [16, 6, 2021]\n",
    "separador = '/'\n",
    "\n",
    "separador.join(data)"
   ]
  },
  {
   "cell_type": "markdown",
   "metadata": {},
   "source": [
    "## Formatando strings"
   ]
  },
  {
   "cell_type": "raw",
   "metadata": {},
   "source": [
    "Eu, __, portador do CPF __, residente no endereço____ autorizo o procedimento."
   ]
  },
  {
   "cell_type": "markdown",
   "metadata": {},
   "source": [
    "* Usando comando \".format\""
   ]
  },
  {
   "cell_type": "code",
   "execution_count": 100,
   "metadata": {},
   "outputs": [],
   "source": [
    "contrato = 'Eu {}, portador do CPF nº {}, residente no endereço {} autorizo o procedimento'"
   ]
  },
  {
   "cell_type": "code",
   "execution_count": 102,
   "metadata": {},
   "outputs": [],
   "source": [
    "nome = 'Joao da Silva'\n",
    "cpf = '123456789-00'\n",
    "endereco = 'Av Brigadeiro Faria Lima, 3450'"
   ]
  },
  {
   "cell_type": "code",
   "execution_count": 103,
   "metadata": {},
   "outputs": [
    {
     "data": {
      "text/plain": [
       "'Eu Joao da Silva, portador do CPF nº 123456789-00, residente no endereço Av Brigadeiro Faria Lima, 3450 autorizo o procedimento'"
      ]
     },
     "execution_count": 103,
     "metadata": {},
     "output_type": "execute_result"
    }
   ],
   "source": [
    "contrato.format(nome, cpf, endereco)"
   ]
  },
  {
   "cell_type": "markdown",
   "metadata": {},
   "source": [
    "- Usando o comando f-string"
   ]
  },
  {
   "cell_type": "code",
   "execution_count": 105,
   "metadata": {},
   "outputs": [
    {
     "data": {
      "text/plain": [
       "'Eu Joao da Silva, portador do CPF nº 123456789-00, residente no endereço Av Brigadeiro Faria Lima, 3450 autorizo o procedimento'"
      ]
     },
     "execution_count": 105,
     "metadata": {},
     "output_type": "execute_result"
    }
   ],
   "source": [
    "contrato = f'Eu {nome}, portador do CPF nº {cpf}, residente no endereço {endereco} autorizo o procedimento'\n",
    "contrato"
   ]
  },
  {
   "cell_type": "code",
   "execution_count": 106,
   "metadata": {},
   "outputs": [],
   "source": [
    "dia = 1\n",
    "mes = 2\n",
    "ano = 2021\n",
    "\n",
    "'01/02/2021' # formato que queremos"
   ]
  },
  {
   "cell_type": "code",
   "execution_count": 108,
   "metadata": {},
   "outputs": [
    {
     "name": "stdout",
     "output_type": "stream",
     "text": [
      "01/02/2021\n"
     ]
    }
   ],
   "source": [
    "# dica: zfill -> para resolver por essa solução\n",
    "\n",
    "print(str(dia).zfill(2) + '/'+ str(mes).zfill(2) + '/' + str(ano))"
   ]
  },
  {
   "cell_type": "code",
   "execution_count": 111,
   "metadata": {},
   "outputs": [
    {
     "name": "stdout",
     "output_type": "stream",
     "text": [
      "01/02/2021\n"
     ]
    }
   ],
   "source": [
    "# outra forma de resolver\n",
    "\n",
    "data = '{:02d}/{:02d}/{:04d}'.format(dia, mes, ano)\n",
    "print(data)\n",
    "\n",
    "# : passaremos opções de formatação\n",
    "# d nº inteiro em base decimal (0 a 9)\n",
    "# 2 e 4 casas\n",
    "# 0 se faltar dígito, completa com zero"
   ]
  },
  {
   "cell_type": "code",
   "execution_count": 113,
   "metadata": {},
   "outputs": [
    {
     "name": "stdout",
     "output_type": "stream",
     "text": [
      "154.403\n",
      "R$ 154.40\n"
     ]
    }
   ],
   "source": [
    "precoLitro = 5.234\n",
    "litro = 29.5\n",
    "total = precoLitro * litro\n",
    "print(total) # resultado: 154.403\n",
    "\n",
    "precofinal = 'R$ {:.2f}'.format(total)\n",
    "print(precofinal) #resultado: R$ 154.40\n",
    "\n",
    "# : vou passar opções\n",
    "# .2 2 casas decimais _ arredonda o valor\n",
    "# f float = valor decimal"
   ]
  },
  {
   "cell_type": "code",
   "execution_count": null,
   "metadata": {},
   "outputs": [],
   "source": []
  },
  {
   "cell_type": "code",
   "execution_count": 115,
   "metadata": {},
   "outputs": [
    {
     "name": "stdout",
     "output_type": "stream",
     "text": [
      "Digite uma palavra: palavra\n",
      "p\n",
      "a\n",
      "l\n",
      "a\n",
      "v\n",
      "r\n",
      "a\n"
     ]
    }
   ],
   "source": [
    "palavra = input('Digite uma palavra: ' )\n",
    "\n",
    "for letra in palavra:\n",
    "    print(letra)"
   ]
  },
  {
   "cell_type": "code",
   "execution_count": 119,
   "metadata": {},
   "outputs": [
    {
     "name": "stdout",
     "output_type": "stream",
     "text": [
      "Digite uma palavra: asd\n",
      "asd\n"
     ]
    }
   ],
   "source": [
    "palavra = input('Digite uma palavra: ' )\n",
    "string_final = ''\n",
    "\n",
    "for letra in palavra:\n",
    "    string_final = string_final + letra\n",
    "print(string_final)"
   ]
  },
  {
   "cell_type": "code",
   "execution_count": 149,
   "metadata": {
    "scrolled": true
   },
   "outputs": [
    {
     "name": "stdout",
     "output_type": "stream",
     "text": [
      "Digite uma palavra: asdf\n",
      "AsDf\n"
     ]
    }
   ],
   "source": [
    "palavra = input('Digite uma palavra: ' )\n",
    "tamanho = len(palavra)\n",
    "string_final = ''\n",
    "\n",
    "for i in range(tamanho):\n",
    "    if i % 2:\n",
    "        string_final = string_final + palavra[i].lower()\n",
    "    else:\n",
    "        string_final = string_final + palavra[i].upper()\n",
    "        \n",
    "    \n",
    "print(string_final)"
   ]
  },
  {
   "cell_type": "code",
   "execution_count": 154,
   "metadata": {},
   "outputs": [
    {
     "name": "stdout",
     "output_type": "stream",
     "text": [
      "Digite uma palavra: adf\n",
      "['adf']\n"
     ]
    }
   ],
   "source": [
    "palavra = input('Digite uma palavra: ' )\n",
    "\n",
    "print(palavra.split())"
   ]
  },
  {
   "cell_type": "code",
   "execution_count": 16,
   "metadata": {},
   "outputs": [
    {
     "name": "stdout",
     "output_type": "stream",
     "text": [
      "Digite uma palavra: asdfg\n",
      "a s d f g "
     ]
    }
   ],
   "source": [
    "palavra = input('Digite uma palavra: ' )\n",
    "lista_palavra = list(palavra)\n",
    "tamanho = len(lista_palavra)\n",
    "i = 0\n",
    "\n",
    "for i in range(tamanho):\n",
    "    print(lista_palavra[i] , end = \" \")\n"
   ]
  },
  {
   "cell_type": "code",
   "execution_count": 22,
   "metadata": {},
   "outputs": [
    {
     "name": "stdout",
     "output_type": "stream",
     "text": [
      "Digite uma palavra: aelt\n",
      "4317\n"
     ]
    }
   ],
   "source": [
    "palavra = input('Digite uma palavra: ')\n",
    "final = palavra.replace('a', '4').replace('e', '3').replace('l', '1').replace('t', '7')\n",
    "print(final)"
   ]
  },
  {
   "cell_type": "code",
   "execution_count": 33,
   "metadata": {},
   "outputs": [
    {
     "name": "stdout",
     "output_type": "stream",
     "text": [
      "Digite uma palavra: asd\n",
      "dsa"
     ]
    }
   ],
   "source": [
    "palavra = input('Digite uma palavra: ')\n",
    "lista = list(palavra)\n",
    "lista.reverse()\n",
    "tamanho = len(lista)\n",
    "\n",
    "for i in range(tamanho):\n",
    "    print(lista[i] , end = \"\")"
   ]
  },
  {
   "cell_type": "code",
   "execution_count": 43,
   "metadata": {},
   "outputs": [
    {
     "name": "stdout",
     "output_type": "stream",
     "text": [
      "Digite uma palavra: asa\n",
      "A palavra é um palíndromo\n"
     ]
    }
   ],
   "source": [
    "palavra = input('Digite uma palavra: ')\n",
    "lista1 = list(palavra)\n",
    "lista2 = lista1[:]\n",
    "lista2.reverse()\n",
    "\n",
    "\n",
    "if lista1 == lista2:\n",
    "    print('A palavra é um palíndromo')\n",
    "    \n",
    "else:\n",
    "    print('A palavra não é um palíndromo')"
   ]
  },
  {
   "cell_type": "code",
   "execution_count": 54,
   "metadata": {},
   "outputs": [
    {
     "name": "stdout",
     "output_type": "stream",
     "text": [
      "Escreva um texto: adf\n",
      "Digite uma palavra: h\n",
      "False\n"
     ]
    }
   ],
   "source": [
    "texto = input('Escreva um texto: ' )\n",
    "palavra = input('Digite uma palavra: ')\n",
    "\n",
    "resultado = texto.find(palavra)\n",
    "\n",
    "if resultado == -1:\n",
    "    print(False)\n",
    "    \n",
    "else:\n",
    "    print(True)"
   ]
  },
  {
   "cell_type": "code",
   "execution_count": 69,
   "metadata": {},
   "outputs": [
    {
     "name": "stdout",
     "output_type": "stream",
     "text": [
      "Escreva um texto, que pode conter letras, números e caracteres especiais: 65432.gfd\n",
      "['6', '5', '4', '3', '2']\n",
      "['g', 'f', 'd']\n"
     ]
    }
   ],
   "source": [
    "texto = input('Escreva um texto, que pode conter letras, números e caracteres especiais: ')\n",
    "lista = list(texto)\n",
    "numeros = []\n",
    "letras = []\n",
    "\n",
    "for i in lista:\n",
    "    if i.isdigit():\n",
    "        numeros.append(i)\n",
    "        \n",
    "    elif i.isalpha():\n",
    "        letras.append(i)\n",
    "\n",
    "print(numeros)\n",
    "print(letras)"
   ]
  },
  {
   "cell_type": "code",
   "execution_count": 79,
   "metadata": {},
   "outputs": [
    {
     "name": "stdout",
     "output_type": "stream",
     "text": [
      "Digite um texto: adfadfads\n",
      "Digite uma letra: a\n",
      "A letra aparece no texto: 3 vezes\n",
      "A letra digitada aparece nas posições:  [0, 3, 6]\n",
      "A distância entre a primeira e a última aparição dessa letra no texto é:  6\n"
     ]
    }
   ],
   "source": [
    "texto = input('Digite um texto: ')\n",
    "letra = input('Digite uma letra: ')\n",
    "\n",
    "\n",
    "a = texto.count(letra)\n",
    "\n",
    "print('A letra aparece no texto:', a, 'vezes')\n",
    "\n",
    "b = []\n",
    "posicao = texto.find(letra)\n",
    "while posicao != -1:\n",
    "        b.append(posicao) \n",
    "        posicao = texto.find(letra, posicao + 1)\n",
    "        \n",
    "print('A letra digitada aparece nas posições: ' , b)\n",
    "\n",
    "tamanho = len(b)\n",
    "c = b[tamanho - 1] - b[0]\n",
    "\n",
    "print('A distância entre a primeira e a última aparição dessa letra no texto é: ' , c)"
   ]
  },
  {
   "cell_type": "code",
   "execution_count": 130,
   "metadata": {},
   "outputs": [
    {
     "name": "stdout",
     "output_type": "stream",
     "text": [
      "Digite uma mensagem a ser critografada: a\n",
      "a\n",
      "0\n",
      "z\n"
     ]
    }
   ],
   "source": [
    "alfa = ['a', 'b', 'c', 'd', 'e', 'f', 'g', 'h', 'i', 'j', 'k', 'l', 'm', 'n', 'o', 'p', 'q', 'r', 's', 't', 'u', 'v', 'w', 'x', 'y', 'z']\n",
    "texto = input('Digite uma mensagem a ser critografada: ')\n",
    "\n",
    "print(texto)\n",
    "\n",
    "posicao = alfa.index(texto)\n",
    "print(posicao)\n",
    "\n",
    "calculo = 25 - posicao\n",
    "\n",
    "\n",
    "if calculo >= 0:\n",
    "    resultado = alfa[calculo]\n",
    "\n",
    "else:\n",
    "    resultado = alfa[calculo * -1]\n",
    "\n",
    "print(resultado)"
   ]
  },
  {
   "cell_type": "code",
   "execution_count": 12,
   "metadata": {},
   "outputs": [
    {
     "name": "stdout",
     "output_type": "stream",
     "text": [
      "Digite uma mensagem, só com letras, a ser critografada: a\n",
      "0\n",
      "z\n"
     ]
    }
   ],
   "source": [
    "alfa = ['a', 'b', 'c', 'd', 'e', 'f', 'g', 'h', 'i', 'j', 'k', 'l', 'm', 'n', 'o', 'p', 'q', 'r', 's', 't', 'u', 'v', 'w', 'x', 'y', 'z']\n",
    "texto = input('Digite uma mensagem, só com letras, a ser critografada: ')\n",
    "\n",
    "minuscula = str(texto.lower())\n",
    "sespaco = minuscula.split(' ')\n",
    "tamanho = len(sespaco)\n",
    "lista = []\n",
    "\n",
    "posicao = alfa.index(minuscula)\n",
    "print(posicao)\n",
    "\n",
    "calculo = 25 - posicao\n",
    "\n",
    "\n",
    "if calculo >= 0:\n",
    "    resultado = alfa[calculo]\n",
    "\n",
    "else:\n",
    "    resultado = alfa[calculo * -1]\n",
    "\n",
    "print(resultado)\n",
    "\n"
   ]
  },
  {
   "cell_type": "code",
   "execution_count": 119,
   "metadata": {},
   "outputs": [
    {
     "name": "stdout",
     "output_type": "stream",
     "text": [
      "Digite uma mensagem, só com letras, a ser critografada: dsa d a das d\n",
      "O texto criptografado é: \n",
      "whz w z wzh w"
     ]
    }
   ],
   "source": [
    "alfa = ['a', 'b', 'c', 'd', 'e', 'f', 'g', 'h', 'i', 'j', 'k', 'l', 'm', 'n', 'o', 'p', 'q', 'r', 's', 't', 'u', 'v', 'w', 'x', 'y', 'z']\n",
    "texto = input('Digite uma mensagem, só com letras, a ser critografada: ')\n",
    "\n",
    "tamanho1 = len(texto)\n",
    "minuscula = texto.lower()\n",
    "sespaco = minuscula.replace(' ', '')\n",
    "a = list(sespaco) # lista sem espaço\n",
    "tamanho2 = len(a)\n",
    "lista = [] # lista do texto\n",
    "i = 0\n",
    "\n",
    "for letra in minuscula:\n",
    "    lista.append(letra)\n",
    "# print(lista)\n",
    "# print(a)\n",
    "\n",
    "\n",
    "b = [] # lista com onde estão os espaços do texto\n",
    "posicao = minuscula.find(' ')\n",
    "while posicao != -1:\n",
    "    b.append(posicao) \n",
    "    posicao = minuscula.find(' ', posicao + 1)\n",
    "    \n",
    "# print(b)\n",
    "\n",
    "lista_final = [] # lista do texto criptografado sem espaco\n",
    "\n",
    "print('O texto criptografado é: ')\n",
    "for place in a:\n",
    "    aposta = 25 - alfa.index(place)\n",
    "    if aposta >= 0:\n",
    "        resultado = alfa[aposta]\n",
    "\n",
    "    else:\n",
    "        resultado = alfa[aposta * -1]\n",
    "    # print(resultado , end = '')\n",
    "    lista_final.append(resultado) \n",
    "\n",
    "# print(lista_final)\n",
    "\n",
    "for espaco in b:\n",
    "    lista_final.insert(espaco, ' ')\n",
    "# print(lista_final)\n",
    "\n",
    "for elemento in lista_final:\n",
    "    print(elemento , end = '')"
   ]
  },
  {
   "cell_type": "code",
   "execution_count": 113,
   "metadata": {},
   "outputs": [
    {
     "name": "stdout",
     "output_type": "stream",
     "text": [
      "['z', 'w', ' ', 'w', ' ']\n"
     ]
    }
   ],
   "source": [
    "a = ['z', 'w', 'w']\n",
    "b = [2, 4]\n",
    "\n",
    "for i in b:\n",
    "    a.insert(i, ' ')\n",
    "print(a)"
   ]
  },
  {
   "cell_type": "code",
   "execution_count": null,
   "metadata": {},
   "outputs": [],
   "source": [
    "Array (\n",
    "    [0] => a\n",
    "    [1] => b\n",
    "    [2] => c\n",
    "    [3] => d\n",
    "    [4] => e\n",
    "    [5] => f\n",
    "    [6] => g\n",
    "    [7] => h\n",
    "    [8] => i\n",
    "    [9] => j\n",
    "    [10] => k\n",
    "    [11] => l\n",
    "    [12] => m\n",
    "    [13] => n\n",
    "    [14] => o\n",
    "    [15] => p\n",
    "    [16] => q\n",
    "    [17] => r\n",
    "    [18] => s\n",
    "    [19] => t\n",
    "    [20] => u\n",
    "    [21] => v\n",
    "    [22] => w\n",
    "    [23] => x\n",
    "    [24] => y\n",
    "    [25] => z )\n",
    "\n"
   ]
  },
  {
   "cell_type": "code",
   "execution_count": 71,
   "metadata": {},
   "outputs": [
    {
     "name": "stdout",
     "output_type": "stream",
     "text": [
      "dafadfa\n",
      "a\n",
      "[1, 3, 6]\n"
     ]
    }
   ],
   "source": [
    "src = input() # we will find substring in this string\n",
    "sub = input() # substring\n",
    "\n",
    "res = []\n",
    "pos = src.find(sub)\n",
    "while pos != -1:\n",
    "    res.append(pos)\n",
    "    pos = src.find(sub, pos + 1)\n",
    "    \n",
    "print(res)"
   ]
  },
  {
   "cell_type": "code",
   "execution_count": 41,
   "metadata": {},
   "outputs": [
    {
     "name": "stdout",
     "output_type": "stream",
     "text": [
      "2\n"
     ]
    }
   ],
   "source": [
    "pi = [3, 1, 4, 1, 5, 9, 2, 6, 5]\n",
    "\n",
    "posicao = pi.count(5)\n",
    "print(posicao)"
   ]
  },
  {
   "cell_type": "code",
   "execution_count": 30,
   "metadata": {},
   "outputs": [
    {
     "name": "stdout",
     "output_type": "stream",
     "text": [
      "abcdabcdabcd\n",
      "048"
     ]
    }
   ],
   "source": [
    "x = \"abcdabcdabcd\"\n",
    "print(x)\n",
    "l = -1\n",
    "while True:\n",
    "    l = x.find(\"a\", l+1)\n",
    "    if l == -1:\n",
    "        break\n",
    "    print(l , end = \"\")"
   ]
  },
  {
   "cell_type": "code",
   "execution_count": 64,
   "metadata": {},
   "outputs": [
    {
     "name": "stdout",
     "output_type": "stream",
     "text": [
      "15\n",
      "36\n",
      "String not found\n"
     ]
    }
   ],
   "source": [
    "numberString = \"onetwothreefourfivesixseveneightninefiveten\"\n",
    "testString = \"five\"\n",
    "\n",
    "marker = 0\n",
    "while marker < len(numberString):\n",
    "    try:\n",
    "        print(numberString.index(\"five\",marker))\n",
    "        marker = numberString.index(\"five\", marker) + 1\n",
    "    except ValueError:\n",
    "        print(\"String not found\")\n",
    "        marker = len(numberString)"
   ]
  },
  {
   "cell_type": "code",
   "execution_count": 123,
   "metadata": {},
   "outputs": [
    {
     "name": "stdout",
     "output_type": "stream",
     "text": [
      "Digite uma mensagem, só com letras, a ser critografada: ds dgnjknadg  hng dga dadwwr\n",
      "O texto criptografado é: \n",
      "wh wtmqpmzwt  smt wtz wzwddi"
     ]
    }
   ],
   "source": [
    "alfa = ['a', 'b', 'c', 'd', 'e', 'f', 'g', 'h', 'i', 'j', 'k', 'l', 'm', 'n', 'o', 'p', 'q', 'r', 's', 't', 'u', 'v', 'w', 'x', 'y', 'z']\n",
    "texto = input('Digite uma mensagem, só com letras, a ser critografada: ')\n",
    "\n",
    "tamanho1 = len(texto)\n",
    "minuscula = texto.lower()\n",
    "sespaco = minuscula.replace(' ', '')\n",
    "a = list(sespaco) # lista sem espaço\n",
    "tamanho2 = len(a)\n",
    "lista = [] # lista do texto\n",
    "i = 0\n",
    "\n",
    "for letra in minuscula:\n",
    "    lista.append(letra)\n",
    "\n",
    "\n",
    "b = [] # lista com onde estão os espaços do texto\n",
    "posicao = minuscula.find(' ')\n",
    "while posicao != -1:\n",
    "    b.append(posicao) \n",
    "    posicao = minuscula.find(' ', posicao + 1)\n",
    "    \n",
    "\n",
    "lista_final = [] # lista do texto criptografado sem espaco\n",
    "\n",
    "print('O texto criptografado é: ')\n",
    "for place in a:\n",
    "    aposta = 25 - alfa.index(place)\n",
    "    if aposta >= 0:\n",
    "        resultado = alfa[aposta]\n",
    "\n",
    "    else:\n",
    "        resultado = alfa[aposta * -1]\n",
    "    lista_final.append(resultado) \n",
    "\n",
    "for espaco in b:\n",
    "    lista_final.insert(espaco, ' ')\n",
    "\n",
    "for elemento in lista_final:\n",
    "    print(elemento , end = '')"
   ]
  },
  {
   "cell_type": "code",
   "execution_count": null,
   "metadata": {},
   "outputs": [],
   "source": []
  }
 ],
 "metadata": {
  "kernelspec": {
   "display_name": "Python 3",
   "language": "python",
   "name": "python3"
  },
  "language_info": {
   "codemirror_mode": {
    "name": "ipython",
    "version": 3
   },
   "file_extension": ".py",
   "mimetype": "text/x-python",
   "name": "python",
   "nbconvert_exporter": "python",
   "pygments_lexer": "ipython3",
   "version": "3.9.5"
  }
 },
 "nbformat": 4,
 "nbformat_minor": 4
}
