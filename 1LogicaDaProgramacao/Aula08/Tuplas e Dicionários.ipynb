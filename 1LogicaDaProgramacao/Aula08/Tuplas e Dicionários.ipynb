{
 "cells": [
  {
   "cell_type": "markdown",
   "metadata": {},
   "source": [
    "# Tuplas e Dicionários"
   ]
  },
  {
   "cell_type": "markdown",
   "metadata": {},
   "source": [
    "## Revisão de Listas"
   ]
  },
  {
   "cell_type": "code",
   "execution_count": 2,
   "metadata": {},
   "outputs": [],
   "source": [
    "minha_lista = [1, 2.9, 'palavra', True]"
   ]
  },
  {
   "cell_type": "code",
   "execution_count": 3,
   "metadata": {},
   "outputs": [
    {
     "data": {
      "text/plain": [
       "1"
      ]
     },
     "execution_count": 3,
     "metadata": {},
     "output_type": "execute_result"
    }
   ],
   "source": [
    "# Primeiro Elemento\n",
    "minha_lista[0]"
   ]
  },
  {
   "cell_type": "code",
   "execution_count": 4,
   "metadata": {},
   "outputs": [
    {
     "data": {
      "text/plain": [
       "2.9"
      ]
     },
     "execution_count": 4,
     "metadata": {},
     "output_type": "execute_result"
    }
   ],
   "source": [
    "minha_lista[1]"
   ]
  },
  {
   "cell_type": "code",
   "execution_count": 6,
   "metadata": {},
   "outputs": [
    {
     "name": "stdout",
     "output_type": "stream",
     "text": [
      "1\n",
      "2.9\n",
      "palavra\n",
      "True\n"
     ]
    }
   ],
   "source": [
    "for elemento in minha_lista:\n",
    "    print(elemento)"
   ]
  },
  {
   "cell_type": "code",
   "execution_count": 7,
   "metadata": {},
   "outputs": [
    {
     "data": {
      "text/plain": [
       "[9, 2.9, 'palavra', True]"
      ]
     },
     "execution_count": 7,
     "metadata": {},
     "output_type": "execute_result"
    }
   ],
   "source": [
    "minha_lista[0] = 9\n",
    "minha_lista"
   ]
  },
  {
   "cell_type": "markdown",
   "metadata": {},
   "source": [
    "**Características de uma lista**\n",
    "\n",
    "- É indexável (poidemos acessar os elementos pelo índice)\n",
    "- É iterável (conseguimos percorrer ela utilizando o for)\n",
    "- Podemos alterar os elementos\n",
    "- Guarda elementos de tipos diferentes"
   ]
  },
  {
   "cell_type": "markdown",
   "metadata": {},
   "source": [
    "## Tuplas"
   ]
  },
  {
   "cell_type": "markdown",
   "metadata": {},
   "source": [
    "**Características Tuplas**\n",
    "\n",
    "- Guardar diferentes tipos de dados (inteiro, float, string, etc);\n",
    "- É indexável (podemos acessar os elementos por meio do índice);\n",
    "- É interável\n",
    "\n",
    "**Quando usar tuplas?**\n",
    "\n",
    "Quando tivermos, no nosso código, uma sequência que não muda NUNCA, que é imutável"
   ]
  },
  {
   "cell_type": "markdown",
   "metadata": {},
   "source": [
    "## Declarando uma tupla"
   ]
  },
  {
   "cell_type": "code",
   "execution_count": 9,
   "metadata": {},
   "outputs": [],
   "source": [
    "minha_tupla = (1, 2.9, 'palavra', True)"
   ]
  },
  {
   "cell_type": "code",
   "execution_count": 10,
   "metadata": {},
   "outputs": [
    {
     "data": {
      "text/plain": [
       "tuple"
      ]
     },
     "execution_count": 10,
     "metadata": {},
     "output_type": "execute_result"
    }
   ],
   "source": [
    "type(minha_tupla)"
   ]
  },
  {
   "cell_type": "code",
   "execution_count": 11,
   "metadata": {},
   "outputs": [],
   "source": [
    "minha_tupla = 1, 2.9, 'palavra', True"
   ]
  },
  {
   "cell_type": "code",
   "execution_count": 12,
   "metadata": {},
   "outputs": [
    {
     "data": {
      "text/plain": [
       "tuple"
      ]
     },
     "execution_count": 12,
     "metadata": {},
     "output_type": "execute_result"
    }
   ],
   "source": [
    "type(minha_tupla)"
   ]
  },
  {
   "cell_type": "markdown",
   "metadata": {},
   "source": [
    "### Acessando os elementos da tupla"
   ]
  },
  {
   "cell_type": "code",
   "execution_count": 13,
   "metadata": {},
   "outputs": [
    {
     "data": {
      "text/plain": [
       "1"
      ]
     },
     "execution_count": 13,
     "metadata": {},
     "output_type": "execute_result"
    }
   ],
   "source": [
    "minha_tupla[0]"
   ]
  },
  {
   "cell_type": "code",
   "execution_count": 14,
   "metadata": {},
   "outputs": [
    {
     "data": {
      "text/plain": [
       "2.9"
      ]
     },
     "execution_count": 14,
     "metadata": {},
     "output_type": "execute_result"
    }
   ],
   "source": [
    "minha_tupla[1]"
   ]
  },
  {
   "cell_type": "code",
   "execution_count": 15,
   "metadata": {},
   "outputs": [
    {
     "ename": "TypeError",
     "evalue": "'tuple' object does not support item assignment",
     "output_type": "error",
     "traceback": [
      "\u001b[0;31m---------------------------------------------------------------------------\u001b[0m",
      "\u001b[0;31mTypeError\u001b[0m                                 Traceback (most recent call last)",
      "\u001b[0;32m<ipython-input-15-7613f9977de8>\u001b[0m in \u001b[0;36m<module>\u001b[0;34m\u001b[0m\n\u001b[0;32m----> 1\u001b[0;31m \u001b[0mminha_tupla\u001b[0m\u001b[0;34m[\u001b[0m\u001b[0;36m0\u001b[0m\u001b[0;34m]\u001b[0m \u001b[0;34m=\u001b[0m \u001b[0;36m9\u001b[0m\u001b[0;34m\u001b[0m\u001b[0;34m\u001b[0m\u001b[0m\n\u001b[0m",
      "\u001b[0;31mTypeError\u001b[0m: 'tuple' object does not support item assignment"
     ]
    }
   ],
   "source": [
    "minha_tupla[0] = 9"
   ]
  },
  {
   "cell_type": "markdown",
   "metadata": {},
   "source": [
    "### E se eu precisar mudar a tupla?\n",
    "\n",
    "Supermercado:\n",
    "\n",
    "- Pasta de dente\n",
    "- Papel higiênico\n",
    "- Bolacha\n",
    "- Sabão em pó\n",
    "- Carne\n",
    "\n",
    "E fazem 10 anos que só vendemos esses produtos"
   ]
  },
  {
   "cell_type": "code",
   "execution_count": 16,
   "metadata": {},
   "outputs": [],
   "source": [
    "meus_produtos = ('Pasta de dente', 'Papel higienico', 'Bolacha', 'Sabao em po', 'Carne')"
   ]
  },
  {
   "cell_type": "code",
   "execution_count": 17,
   "metadata": {},
   "outputs": [
    {
     "data": {
      "text/plain": [
       "('Pasta de dente', 'Papel higienico', 'Bolacha', 'Sabao em po', 'Carne')"
      ]
     },
     "execution_count": 17,
     "metadata": {},
     "output_type": "execute_result"
    }
   ],
   "source": [
    "meus_produtos"
   ]
  },
  {
   "cell_type": "markdown",
   "metadata": {},
   "source": [
    "Chegou a pandemia e eu precisava adicionar novos produtos ao meu mercado para ajudar o pessoal que mora nas redondezas"
   ]
  },
  {
   "cell_type": "code",
   "execution_count": 18,
   "metadata": {},
   "outputs": [
    {
     "data": {
      "text/plain": [
       "list"
      ]
     },
     "execution_count": 18,
     "metadata": {},
     "output_type": "execute_result"
    }
   ],
   "source": [
    "meus_produtos = list(meus_produtos)\n",
    "type(meus_produtos)"
   ]
  },
  {
   "cell_type": "code",
   "execution_count": 19,
   "metadata": {},
   "outputs": [
    {
     "data": {
      "text/plain": [
       "['Pasta de dente', 'Papel higienico', 'Bolacha', 'Sabao em po', 'Carne']"
      ]
     },
     "execution_count": 19,
     "metadata": {},
     "output_type": "execute_result"
    }
   ],
   "source": [
    "meus_produtos"
   ]
  },
  {
   "cell_type": "code",
   "execution_count": 20,
   "metadata": {},
   "outputs": [],
   "source": [
    "meus_produtos.append('Shampoo')"
   ]
  },
  {
   "cell_type": "code",
   "execution_count": 22,
   "metadata": {},
   "outputs": [],
   "source": [
    "meus_produtos = tuple(meus_produtos)"
   ]
  },
  {
   "cell_type": "code",
   "execution_count": 24,
   "metadata": {},
   "outputs": [
    {
     "data": {
      "text/plain": [
       "tuple"
      ]
     },
     "execution_count": 24,
     "metadata": {},
     "output_type": "execute_result"
    }
   ],
   "source": [
    "type(meus_produtos)"
   ]
  },
  {
   "cell_type": "code",
   "execution_count": 25,
   "metadata": {},
   "outputs": [
    {
     "data": {
      "text/plain": [
       "('Pasta de dente',\n",
       " 'Papel higienico',\n",
       " 'Bolacha',\n",
       " 'Sabao em po',\n",
       " 'Carne',\n",
       " 'Shampoo')"
      ]
     },
     "execution_count": 25,
     "metadata": {},
     "output_type": "execute_result"
    }
   ],
   "source": [
    "meus_produtos"
   ]
  },
  {
   "cell_type": "markdown",
   "metadata": {},
   "source": [
    "### Percorrendo uma tupla"
   ]
  },
  {
   "cell_type": "code",
   "execution_count": 26,
   "metadata": {},
   "outputs": [],
   "source": [
    "minha_tupla = (1, 2.9, 'palavra', True)"
   ]
  },
  {
   "cell_type": "code",
   "execution_count": 28,
   "metadata": {},
   "outputs": [
    {
     "name": "stdout",
     "output_type": "stream",
     "text": [
      "1\n",
      "2.9\n",
      "palavra\n",
      "True\n"
     ]
    }
   ],
   "source": [
    "for elemento in minha_tupla:\n",
    "     print(elemento)"
   ]
  },
  {
   "cell_type": "markdown",
   "metadata": {},
   "source": [
    "### Tuplas aninhadas"
   ]
  },
  {
   "cell_type": "code",
   "execution_count": 30,
   "metadata": {},
   "outputs": [],
   "source": [
    "minha_tupla = ((1, 2, 3), 1, [1, 4, 'sim'], 'palavra', True)"
   ]
  },
  {
   "cell_type": "markdown",
   "metadata": {},
   "source": []
  },
  {
   "cell_type": "code",
   "execution_count": 31,
   "metadata": {},
   "outputs": [
    {
     "data": {
      "text/plain": [
       "tuple"
      ]
     },
     "execution_count": 31,
     "metadata": {},
     "output_type": "execute_result"
    }
   ],
   "source": [
    "type(minha_tupla[0])"
   ]
  },
  {
   "cell_type": "markdown",
   "metadata": {},
   "source": [
    "### Descompactando uma tupla"
   ]
  },
  {
   "cell_type": "code",
   "execution_count": 50,
   "metadata": {},
   "outputs": [],
   "source": [
    "minha_tupla = (1, 2.9, 'palavra', True, 'sim')"
   ]
  },
  {
   "cell_type": "code",
   "execution_count": 51,
   "metadata": {},
   "outputs": [
    {
     "name": "stdout",
     "output_type": "stream",
     "text": [
      "1 2.9 palavra True\n"
     ]
    }
   ],
   "source": [
    "var1 = minha_tupla[0]\n",
    "var2 = minha_tupla[1]\n",
    "var3 = minha_tupla[2]\n",
    "var4 = minha_tupla[3]\n",
    "\n",
    "print(var1, var2, var3, var4)"
   ]
  },
  {
   "cell_type": "code",
   "execution_count": 53,
   "metadata": {},
   "outputs": [],
   "source": [
    "var1, var2, var3, var4, _ = minha_tupla"
   ]
  },
  {
   "cell_type": "code",
   "execution_count": 47,
   "metadata": {
    "scrolled": true
   },
   "outputs": [
    {
     "ename": "NameError",
     "evalue": "name 'var5' is not defined",
     "output_type": "error",
     "traceback": [
      "\u001b[0;31m---------------------------------------------------------------------------\u001b[0m",
      "\u001b[0;31mNameError\u001b[0m                                 Traceback (most recent call last)",
      "\u001b[0;32m<ipython-input-47-2b07079b00e6>\u001b[0m in \u001b[0;36m<module>\u001b[0;34m\u001b[0m\n\u001b[0;32m----> 1\u001b[0;31m \u001b[0mprint\u001b[0m\u001b[0;34m(\u001b[0m\u001b[0mvar1\u001b[0m\u001b[0;34m,\u001b[0m \u001b[0mvar2\u001b[0m\u001b[0;34m,\u001b[0m \u001b[0mvar3\u001b[0m\u001b[0;34m,\u001b[0m \u001b[0mvar4\u001b[0m\u001b[0;34m,\u001b[0m \u001b[0mvar5\u001b[0m\u001b[0;34m)\u001b[0m\u001b[0;34m\u001b[0m\u001b[0;34m\u001b[0m\u001b[0m\n\u001b[0m",
      "\u001b[0;31mNameError\u001b[0m: name 'var5' is not defined"
     ]
    }
   ],
   "source": [
    "print(var1, var2, var3, var4, var5)"
   ]
  },
  {
   "cell_type": "markdown",
   "metadata": {},
   "source": [
    "### Funções de tupla\n",
    "\n",
    "Funcoes de lista que alteram a lista, não funcionam em tuplas"
   ]
  },
  {
   "cell_type": "code",
   "execution_count": 54,
   "metadata": {},
   "outputs": [
    {
     "data": {
      "text/plain": [
       "5"
      ]
     },
     "execution_count": 54,
     "metadata": {},
     "output_type": "execute_result"
    }
   ],
   "source": [
    "len(minha_tupla)"
   ]
  },
  {
   "cell_type": "code",
   "execution_count": 55,
   "metadata": {},
   "outputs": [
    {
     "data": {
      "text/plain": [
       "1"
      ]
     },
     "execution_count": 55,
     "metadata": {},
     "output_type": "execute_result"
    }
   ],
   "source": [
    "minha_tupla[0]"
   ]
  },
  {
   "cell_type": "code",
   "execution_count": 56,
   "metadata": {},
   "outputs": [],
   "source": [
    "minha_tupla = (1, 2.9, 4, 10.7, 2)"
   ]
  },
  {
   "cell_type": "code",
   "execution_count": 57,
   "metadata": {},
   "outputs": [
    {
     "data": {
      "text/plain": [
       "10.7"
      ]
     },
     "execution_count": 57,
     "metadata": {},
     "output_type": "execute_result"
    }
   ],
   "source": [
    "max(minha_tupla)"
   ]
  },
  {
   "cell_type": "code",
   "execution_count": 59,
   "metadata": {},
   "outputs": [
    {
     "data": {
      "text/plain": [
       "1"
      ]
     },
     "execution_count": 59,
     "metadata": {},
     "output_type": "execute_result"
    }
   ],
   "source": [
    "min(minha_tupla)"
   ]
  },
  {
   "cell_type": "code",
   "execution_count": 58,
   "metadata": {},
   "outputs": [
    {
     "data": {
      "text/plain": [
       "False"
      ]
     },
     "execution_count": 58,
     "metadata": {},
     "output_type": "execute_result"
    }
   ],
   "source": [
    "3 in minha_tupla"
   ]
  },
  {
   "cell_type": "markdown",
   "metadata": {},
   "source": [
    "# Dicionários\n",
    "\n",
    "Quero fazer uma planilha de chamada.\n",
    "\n",
    "- Só vou usar o primeiro nome do aluno;\n",
    "- Ordem alfabética\n",
    "\n",
    "| nome    | numero |\n",
    "|---------|--------|\n",
    "|Ana      |   0    |\n",
    "|Carlos   |   1    |\n",
    "|Juliana  |   2    |\n",
    "|Pedro    |   3    |\n",
    "|Renato   |   4    |\n",
    "|Silvia   |   5    |\n"
   ]
  },
  {
   "cell_type": "code",
   "execution_count": 61,
   "metadata": {},
   "outputs": [],
   "source": [
    "chamada = ['Ana', 'Carlos', 'Juliana', 'Pedro', 'Renato', 'Silvia']"
   ]
  },
  {
   "cell_type": "code",
   "execution_count": 63,
   "metadata": {},
   "outputs": [
    {
     "data": {
      "text/plain": [
       "'Juliana'"
      ]
     },
     "execution_count": 63,
     "metadata": {},
     "output_type": "execute_result"
    }
   ],
   "source": [
    "numero = 3\n",
    "chamada[numero - 1]"
   ]
  },
  {
   "cell_type": "code",
   "execution_count": 64,
   "metadata": {},
   "outputs": [
    {
     "data": {
      "text/plain": [
       "3"
      ]
     },
     "execution_count": 64,
     "metadata": {},
     "output_type": "execute_result"
    }
   ],
   "source": [
    "chamada.index('Juliana') + 1"
   ]
  },
  {
   "cell_type": "code",
   "execution_count": 66,
   "metadata": {},
   "outputs": [],
   "source": [
    "chamada.insert(3, 'Juliana')"
   ]
  },
  {
   "cell_type": "code",
   "execution_count": 67,
   "metadata": {},
   "outputs": [
    {
     "data": {
      "text/plain": [
       "['Ana', 'Carlos', 'Juliana', 'Juliana', 'Pedro', 'Renato', 'Silvia']"
      ]
     },
     "execution_count": 67,
     "metadata": {},
     "output_type": "execute_result"
    }
   ],
   "source": [
    "chamada"
   ]
  },
  {
   "cell_type": "code",
   "execution_count": 69,
   "metadata": {},
   "outputs": [
    {
     "data": {
      "text/plain": [
       "3"
      ]
     },
     "execution_count": 69,
     "metadata": {},
     "output_type": "execute_result"
    }
   ],
   "source": [
    "chamada.index('Juliana') + 1"
   ]
  },
  {
   "cell_type": "markdown",
   "metadata": {},
   "source": [
    "### O que é um dicionário?\n",
    "\n",
    "É uma estrutura de dados qeu armazena diferentes tipos de dados e funciona como um mapeamento, ou seja, temos uma **chave** e um **valor** associado a essa chave. Para encontrar algo no dicionário, basta procurar pela chave que você quer."
   ]
  },
  {
   "cell_type": "code",
   "execution_count": 73,
   "metadata": {},
   "outputs": [],
   "source": [
    "chamada = {\n",
    "    'Ana': 1,\n",
    "    'Carlos':2,\n",
    "    'Juliana': {'primeira': 3,\n",
    "               'segunda': 4},\n",
    "    'Pedro': 5,\n",
    "    'Renato': 6,\n",
    "    'Silvia': 7}"
   ]
  },
  {
   "cell_type": "markdown",
   "metadata": {},
   "source": [
    "### Acessando um dicionário"
   ]
  },
  {
   "cell_type": "code",
   "execution_count": 74,
   "metadata": {},
   "outputs": [
    {
     "data": {
      "text/plain": [
       "1"
      ]
     },
     "execution_count": 74,
     "metadata": {},
     "output_type": "execute_result"
    }
   ],
   "source": [
    "chamada['Ana']"
   ]
  },
  {
   "cell_type": "code",
   "execution_count": 75,
   "metadata": {},
   "outputs": [
    {
     "data": {
      "text/plain": [
       "4"
      ]
     },
     "execution_count": 75,
     "metadata": {},
     "output_type": "execute_result"
    }
   ],
   "source": [
    "chamada['Juliana']['segunda']"
   ]
  },
  {
   "cell_type": "code",
   "execution_count": 79,
   "metadata": {},
   "outputs": [
    {
     "ename": "KeyError",
     "evalue": "'Joao'",
     "output_type": "error",
     "traceback": [
      "\u001b[0;31m---------------------------------------------------------------------------\u001b[0m",
      "\u001b[0;31mKeyError\u001b[0m                                  Traceback (most recent call last)",
      "\u001b[0;32m<ipython-input-79-65bdf7c09f97>\u001b[0m in \u001b[0;36m<module>\u001b[0;34m\u001b[0m\n\u001b[0;32m----> 1\u001b[0;31m \u001b[0mchamada\u001b[0m\u001b[0;34m[\u001b[0m\u001b[0;34m'Joao'\u001b[0m\u001b[0;34m]\u001b[0m\u001b[0;34m\u001b[0m\u001b[0;34m\u001b[0m\u001b[0m\n\u001b[0m",
      "\u001b[0;31mKeyError\u001b[0m: 'Joao'"
     ]
    }
   ],
   "source": [
    "chamada['Joao']"
   ]
  },
  {
   "cell_type": "code",
   "execution_count": 78,
   "metadata": {},
   "outputs": [
    {
     "data": {
      "text/plain": [
       "'Nao achei o que voce queria'"
      ]
     },
     "execution_count": 78,
     "metadata": {},
     "output_type": "execute_result"
    }
   ],
   "source": [
    "## Todo dicionario tem o metodo .get()\n",
    "## .get(chave, retorno caso nao encontre)\n",
    "\n",
    "chamada.get('Joao', 'Nao achei o que voce queria')"
   ]
  },
  {
   "cell_type": "code",
   "execution_count": 86,
   "metadata": {
    "scrolled": true
   },
   "outputs": [
    {
     "name": "stdout",
     "output_type": "stream",
     "text": [
      "Ana: 1\n",
      "Pedro: 5\n",
      "Jose: Aluno nao encontrado\n",
      "Felipe: Aluno nao encontrado\n",
      "Silvia: 7\n"
     ]
    }
   ],
   "source": [
    "## Exemplo de busca por alunos\n",
    "\n",
    "## lista de nomes que quero ver se sao meus alunos\n",
    "\n",
    "alunos = ['Ana', 'Pedro', 'Jose', 'Felipe', 'Silvia']\n",
    "for aluno in alunos:\n",
    "    print(f'{aluno}: {chamada.get(aluno, \"Aluno nao encontrado\")}')"
   ]
  },
  {
   "cell_type": "code",
   "execution_count": 93,
   "metadata": {},
   "outputs": [
    {
     "data": {
      "text/plain": [
       "{'primeira': 3, 'segunda': 4}"
      ]
     },
     "execution_count": 93,
     "metadata": {},
     "output_type": "execute_result"
    }
   ],
   "source": [
    "chamada.get('Juliana')"
   ]
  },
  {
   "cell_type": "code",
   "execution_count": 100,
   "metadata": {},
   "outputs": [
    {
     "name": "stdout",
     "output_type": "stream",
     "text": [
      "************************\n",
      "Ana 1\n",
      "************************\n",
      "1\n",
      "************************\n",
      "Pedro 5\n",
      "************************\n",
      "5\n",
      "************************\n",
      "Jose Aluno nao encontrado\n",
      "************************\n",
      "Aluno nao encontrado\n",
      "************************\n",
      "Felipe Aluno nao encontrado\n",
      "************************\n",
      "Aluno nao encontrado\n",
      "************************\n",
      "Silvia 7\n",
      "************************\n",
      "7\n",
      "************************\n",
      "Juliana {'primeira': 3, 'segunda': 4}\n",
      "************************\n",
      "RESULTADO 3\n",
      "RESULTADO 4\n"
     ]
    }
   ],
   "source": [
    "alunos = ['Ana', 'Pedro', 'Jose', 'Felipe', 'Silvia', 'Juliana']\n",
    "for aluno in alunos:\n",
    "    resultado = chamada.get(aluno, \"Aluno nao encontrado\")\n",
    "    print('************************')\n",
    "    print(aluno, resultado)\n",
    "    print('************************')\n",
    "    if type(resultado) == int:\n",
    "        print(resultado)\n",
    "    elif resultado == \"Aluno nao encontrado\":\n",
    "        print(\"Aluno nao encontrado\")\n",
    "    else:\n",
    "        resultado_primeira = resultado.get('primeira')\n",
    "        resultado_segunda = resultado.get('segunda')\n",
    "        print(\"RESULTADO\", resultado_primeira)\n",
    "        print(\"RESULTADO\", resultado_segunda)"
   ]
  },
  {
   "cell_type": "code",
   "execution_count": 107,
   "metadata": {},
   "outputs": [
    {
     "name": "stdout",
     "output_type": "stream",
     "text": [
      "************************\n",
      "Ana 1\n",
      "************************\n",
      "1\n",
      "************************\n",
      "Pedro 5\n",
      "************************\n",
      "5\n",
      "************************\n",
      "Jose Aluno nao encontrado\n",
      "************************\n"
     ]
    },
    {
     "ename": "AttributeError",
     "evalue": "'str' object has no attribute 'get'",
     "output_type": "error",
     "traceback": [
      "\u001b[0;31m---------------------------------------------------------------------------\u001b[0m",
      "\u001b[0;31mAttributeError\u001b[0m                            Traceback (most recent call last)",
      "\u001b[0;32m<ipython-input-107-b4ca1031d7fc>\u001b[0m in \u001b[0;36m<module>\u001b[0;34m\u001b[0m\n\u001b[1;32m     10\u001b[0m         \u001b[0mprint\u001b[0m\u001b[0;34m(\u001b[0m\u001b[0;34m\"Aluno nao encontrado\"\u001b[0m\u001b[0;34m)\u001b[0m\u001b[0;34m\u001b[0m\u001b[0;34m\u001b[0m\u001b[0m\n\u001b[1;32m     11\u001b[0m     \u001b[0;32melse\u001b[0m\u001b[0;34m:\u001b[0m\u001b[0;34m\u001b[0m\u001b[0;34m\u001b[0m\u001b[0m\n\u001b[0;32m---> 12\u001b[0;31m         \u001b[0mresultado_primeira\u001b[0m \u001b[0;34m=\u001b[0m \u001b[0mresultado\u001b[0m\u001b[0;34m.\u001b[0m\u001b[0mget\u001b[0m\u001b[0;34m(\u001b[0m\u001b[0;34m'primeira'\u001b[0m\u001b[0;34m)\u001b[0m\u001b[0;34m\u001b[0m\u001b[0;34m\u001b[0m\u001b[0m\n\u001b[0m\u001b[1;32m     13\u001b[0m         \u001b[0mresultado_segunda\u001b[0m \u001b[0;34m=\u001b[0m \u001b[0mresultado\u001b[0m\u001b[0;34m.\u001b[0m\u001b[0mget\u001b[0m\u001b[0;34m(\u001b[0m\u001b[0;34m'segunda'\u001b[0m\u001b[0;34m)\u001b[0m\u001b[0;34m\u001b[0m\u001b[0;34m\u001b[0m\u001b[0m\n\u001b[1;32m     14\u001b[0m         \u001b[0mprint\u001b[0m\u001b[0;34m(\u001b[0m\u001b[0;34m\"RESULTADO\"\u001b[0m\u001b[0;34m,\u001b[0m \u001b[0mresultado_primeira\u001b[0m\u001b[0;34m)\u001b[0m\u001b[0;34m\u001b[0m\u001b[0;34m\u001b[0m\u001b[0m\n",
      "\u001b[0;31mAttributeError\u001b[0m: 'str' object has no attribute 'get'"
     ]
    }
   ],
   "source": [
    "alunos = ['Ana', 'Pedro', 'Jose', 'Felipe', 'Silvia', 'Juliana']\n",
    "for aluno in alunos:\n",
    "    resultado = chamada.get(aluno, \"Aluno nao encontrado\")\n",
    "    print('************************')\n",
    "    print(aluno, resultado)\n",
    "    print('************************')\n",
    "    if type(resultado) == int:\n",
    "        print(resultado)\n",
    "    elif resultado == dict:\n",
    "        print(\"Aluno nao encontrado\")\n",
    "    else:\n",
    "        resultado_primeira = resultado.get('primeira')\n",
    "        resultado_segunda = resultado.get('segunda')\n",
    "        print(\"RESULTADO\", resultado_primeira)\n",
    "        print(\"RESULTADO\", resultado_segunda)"
   ]
  },
  {
   "cell_type": "code",
   "execution_count": 104,
   "metadata": {},
   "outputs": [
    {
     "data": {
      "text/plain": [
       "dict"
      ]
     },
     "execution_count": 104,
     "metadata": {},
     "output_type": "execute_result"
    }
   ],
   "source": [
    "type(chamada)"
   ]
  },
  {
   "cell_type": "code",
   "execution_count": 134,
   "metadata": {},
   "outputs": [
    {
     "data": {
      "text/plain": [
       "'Meu aluno: Ana'"
      ]
     },
     "execution_count": 134,
     "metadata": {},
     "output_type": "execute_result"
    }
   ],
   "source": [
    "\"Meu aluno: \" + alunos[0]"
   ]
  },
  {
   "cell_type": "code",
   "execution_count": 133,
   "metadata": {},
   "outputs": [
    {
     "data": {
      "text/plain": [
       "'Meu aluno: Ana'"
      ]
     },
     "execution_count": 133,
     "metadata": {},
     "output_type": "execute_result"
    }
   ],
   "source": [
    "f'{\"Meu aluno\"}: {alunos[0]}'"
   ]
  },
  {
   "cell_type": "markdown",
   "metadata": {},
   "source": [
    "### Modificando elementos de um dicionário"
   ]
  },
  {
   "cell_type": "code",
   "execution_count": 109,
   "metadata": {},
   "outputs": [],
   "source": [
    "meu_dicionario = {\n",
    "    \"Palmeiras\": 0,\n",
    "    \"Corinthians\": 1,\n",
    "    \"Sao Paulo\": 3,\n",
    "    \"Santos\": 2\n",
    "}"
   ]
  },
  {
   "cell_type": "code",
   "execution_count": 110,
   "metadata": {},
   "outputs": [
    {
     "data": {
      "text/plain": [
       "{'Palmeiras': 0, 'Corinthians': 1, 'Sao Paulo': 3, 'Santos': 2}"
      ]
     },
     "execution_count": 110,
     "metadata": {},
     "output_type": "execute_result"
    }
   ],
   "source": [
    "meu_dicionario"
   ]
  },
  {
   "cell_type": "code",
   "execution_count": 111,
   "metadata": {},
   "outputs": [],
   "source": [
    "meu_dicionario[\"Palmeiras\"] = 1"
   ]
  },
  {
   "cell_type": "code",
   "execution_count": 112,
   "metadata": {},
   "outputs": [
    {
     "data": {
      "text/plain": [
       "{'Palmeiras': 1, 'Corinthians': 1, 'Sao Paulo': 3, 'Santos': 2}"
      ]
     },
     "execution_count": 112,
     "metadata": {},
     "output_type": "execute_result"
    }
   ],
   "source": [
    "meu_dicionario"
   ]
  },
  {
   "cell_type": "code",
   "execution_count": 113,
   "metadata": {},
   "outputs": [],
   "source": [
    "meu_dicionario[\"Palmeiras\"] = meu_dicionario[\"Palmeiras\"] + 1"
   ]
  },
  {
   "cell_type": "code",
   "execution_count": 114,
   "metadata": {},
   "outputs": [
    {
     "data": {
      "text/plain": [
       "{'Palmeiras': 2, 'Corinthians': 1, 'Sao Paulo': 3, 'Santos': 2}"
      ]
     },
     "execution_count": 114,
     "metadata": {},
     "output_type": "execute_result"
    }
   ],
   "source": [
    "meu_dicionario"
   ]
  },
  {
   "cell_type": "code",
   "execution_count": 115,
   "metadata": {},
   "outputs": [],
   "source": [
    "meu_dicionario[\"Palmeiras\"] = \"dois\"\n",
    "meu_dicionario[\"Corinthians\"] = \"um\"\n",
    "meu_dicionario[\"Sao Paulo\"] = \"tres\"\n",
    "meu_dicionario[\"Santos\"] = \"dois\""
   ]
  },
  {
   "cell_type": "code",
   "execution_count": 116,
   "metadata": {},
   "outputs": [
    {
     "data": {
      "text/plain": [
       "{'Palmeiras': 'dois',\n",
       " 'Corinthians': 'um',\n",
       " 'Sao Paulo': 'tres',\n",
       " 'Santos': 'dois'}"
      ]
     },
     "execution_count": 116,
     "metadata": {},
     "output_type": "execute_result"
    }
   ],
   "source": [
    "meu_dicionario"
   ]
  },
  {
   "cell_type": "markdown",
   "metadata": {},
   "source": [
    "### Como deletar uma chave: valor de um dicionário?"
   ]
  },
  {
   "cell_type": "code",
   "execution_count": 117,
   "metadata": {},
   "outputs": [],
   "source": [
    "meu_dicionario = {\n",
    "    \"Palmeras\": 0,\n",
    "    \"Corinthians\": 1,\n",
    "    \"Sao Paulo\": 3,\n",
    "    \"Santos\": 2\n",
    "}"
   ]
  },
  {
   "cell_type": "code",
   "execution_count": 118,
   "metadata": {},
   "outputs": [
    {
     "data": {
      "text/plain": [
       "{'Palmeras': 0, 'Corinthians': 1, 'Sao Paulo': 3, 'Santos': 2}"
      ]
     },
     "execution_count": 118,
     "metadata": {},
     "output_type": "execute_result"
    }
   ],
   "source": [
    "meu_dicionario"
   ]
  },
  {
   "cell_type": "code",
   "execution_count": 119,
   "metadata": {},
   "outputs": [],
   "source": [
    "meu_dicionario[\"Palmeiras\"] = 0"
   ]
  },
  {
   "cell_type": "code",
   "execution_count": 120,
   "metadata": {},
   "outputs": [
    {
     "data": {
      "text/plain": [
       "{'Palmeras': 0, 'Corinthians': 1, 'Sao Paulo': 3, 'Santos': 2, 'Palmeiras': 0}"
      ]
     },
     "execution_count": 120,
     "metadata": {},
     "output_type": "execute_result"
    }
   ],
   "source": [
    "meu_dicionario"
   ]
  },
  {
   "cell_type": "code",
   "execution_count": 122,
   "metadata": {},
   "outputs": [
    {
     "data": {
      "text/plain": [
       "0"
      ]
     },
     "execution_count": 122,
     "metadata": {},
     "output_type": "execute_result"
    }
   ],
   "source": [
    "## usando .pop(chave) > ele sempre retorna o valor que estava associado\n",
    "\n",
    "meu_dicionario.pop('Palmeras')"
   ]
  },
  {
   "cell_type": "code",
   "execution_count": 123,
   "metadata": {},
   "outputs": [
    {
     "data": {
      "text/plain": [
       "{'Corinthians': 1, 'Sao Paulo': 3, 'Santos': 2, 'Palmeiras': 0}"
      ]
     },
     "execution_count": 123,
     "metadata": {},
     "output_type": "execute_result"
    }
   ],
   "source": [
    "meu_dicionario"
   ]
  },
  {
   "cell_type": "code",
   "execution_count": 127,
   "metadata": {},
   "outputs": [],
   "source": [
    "meu_dicionario = {\n",
    "    \"Palmeras\": 0,\n",
    "    \"Corinthians\": 1,\n",
    "    \"Sao Paulo\": 3,\n",
    "    \"Santos\": 2\n",
    "}\n",
    "\n",
    "meu_dicionario[\"Palmeiras\"] = 0"
   ]
  },
  {
   "cell_type": "code",
   "execution_count": 128,
   "metadata": {},
   "outputs": [],
   "source": [
    "## Usando o del --> Ele nao retorna o valor que estava associado\n",
    "\n",
    "del meu_dicionario['Palmeras']"
   ]
  },
  {
   "cell_type": "code",
   "execution_count": 129,
   "metadata": {},
   "outputs": [
    {
     "data": {
      "text/plain": [
       "{'Corinthians': 1, 'Sao Paulo': 3, 'Santos': 2, 'Palmeiras': 0}"
      ]
     },
     "execution_count": 129,
     "metadata": {},
     "output_type": "execute_result"
    }
   ],
   "source": [
    "meu_dicionario"
   ]
  },
  {
   "cell_type": "code",
   "execution_count": 135,
   "metadata": {},
   "outputs": [
    {
     "data": {
      "text/plain": [
       "dict_keys(['Corinthians', 'Sao Paulo', 'Santos', 'Palmeiras'])"
      ]
     },
     "execution_count": 135,
     "metadata": {},
     "output_type": "execute_result"
    }
   ],
   "source": [
    "## Todo dicionario tem o metodo .key() --> retorna as chaves do dicionario\n",
    "\n",
    "meu_dicionario.keys()"
   ]
  },
  {
   "cell_type": "code",
   "execution_count": 136,
   "metadata": {},
   "outputs": [
    {
     "data": {
      "text/plain": [
       "dict_values([1, 3, 2, 0])"
      ]
     },
     "execution_count": 136,
     "metadata": {},
     "output_type": "execute_result"
    }
   ],
   "source": [
    "## Todo dicionario tem o metodo .values() --> retorna os valores do dicionario\n",
    "\n",
    "meu_dicionario.values()"
   ]
  },
  {
   "cell_type": "code",
   "execution_count": 137,
   "metadata": {},
   "outputs": [
    {
     "data": {
      "text/plain": [
       "dict_items([('Corinthians', 1), ('Sao Paulo', 3), ('Santos', 2), ('Palmeiras', 0)])"
      ]
     },
     "execution_count": 137,
     "metadata": {},
     "output_type": "execute_result"
    }
   ],
   "source": [
    "## Todo dicionario tem o metodo  .items()  --> retorna o par chave:valor do dicionario\n",
    "\n",
    "meu_dicionario.items()"
   ]
  },
  {
   "cell_type": "markdown",
   "metadata": {},
   "source": [
    "### Usando for sem especificar se quer ver chave ou valor:"
   ]
  },
  {
   "cell_type": "code",
   "execution_count": 138,
   "metadata": {},
   "outputs": [
    {
     "name": "stdout",
     "output_type": "stream",
     "text": [
      "Corinthians\n",
      "Sao Paulo\n",
      "Santos\n",
      "Palmeiras\n"
     ]
    }
   ],
   "source": [
    "## Se nao especificarmos o que queremos percorrer, ele sempre percorre as chaves\n",
    "\n",
    "for i in meu_dicionario:\n",
    "    print(i)"
   ]
  },
  {
   "cell_type": "code",
   "execution_count": 140,
   "metadata": {},
   "outputs": [
    {
     "name": "stdout",
     "output_type": "stream",
     "text": [
      "1\n",
      "3\n",
      "2\n",
      "0\n"
     ]
    }
   ],
   "source": [
    "for valor in meu_dicionario.values():\n",
    "    print(valor)"
   ]
  },
  {
   "cell_type": "code",
   "execution_count": 144,
   "metadata": {},
   "outputs": [
    {
     "name": "stdout",
     "output_type": "stream",
     "text": [
      "O Corinthians tem 1 mundiais\n",
      "O Sao Paulo tem 3 mundiais\n",
      "O Santos tem 2 mundiais\n",
      "O Palmeiras tem 0 mundiais\n"
     ]
    }
   ],
   "source": [
    "for par in meu_dicionario.items():\n",
    "    print(f'O {par[0]} tem {par[1]} mundiais')"
   ]
  },
  {
   "cell_type": "code",
   "execution_count": 145,
   "metadata": {},
   "outputs": [
    {
     "name": "stdout",
     "output_type": "stream",
     "text": [
      "O Corinthians tem 1 mundiais\n",
      "O Sao Paulo tem 3 mundiais\n",
      "O Santos tem 2 mundiais\n",
      "O Palmeiras tem 0 mundiais\n"
     ]
    }
   ],
   "source": [
    "for time, mundiais in meu_dicionario.items():\n",
    "    print(f'O {time} tem {mundiais} mundiais')"
   ]
  },
  {
   "cell_type": "markdown",
   "metadata": {},
   "source": [
    "## Exercício Dicionário"
   ]
  },
  {
   "cell_type": "markdown",
   "metadata": {},
   "source": [
    "| Nome    | Coluna A | Coluna B | \n",
    "|---------|--------|--------|\n",
    "|Maria      |   1    |    5   |\n",
    "|Pedro   |   0.5    |      3    |\n",
    "|Joao  |   3.2    |    1    |\n",
    "\n",
    "\n",
    "Construir um dicionário para a tabela acima"
   ]
  },
  {
   "cell_type": "code",
   "execution_count": 198,
   "metadata": {},
   "outputs": [
    {
     "data": {
      "text/plain": [
       "{'Maria': {'Coluna A': {1}, 'Coluna B': {5}},\n",
       " 'Pedro': {'Coluna B': {3}},\n",
       " 'Joao': {'Coluna B': {3}}}"
      ]
     },
     "execution_count": 198,
     "metadata": {},
     "output_type": "execute_result"
    }
   ],
   "source": [
    "exercicio = {\n",
    "    \"Maria\": {\n",
    "        \"Coluna A\":{1}, \"Coluna B\":{5}},\n",
    "         \"Pedro\": {\n",
    "        \"Coluna B\":{0.5}, \"Coluna B\":{3}},\n",
    "             \"Joao\": {\n",
    "        \"Coluna B\":{0.5}, \"Coluna B\":{3}}\n",
    "    \n",
    "}\n",
    "\n",
    "exercicio"
   ]
  },
  {
   "cell_type": "code",
   "execution_count": 188,
   "metadata": {},
   "outputs": [
    {
     "data": {
      "text/plain": [
       "{0: ['Maria', 1, 5], 1: ['Pedro', 0.5, 3], 2: ['Joao', 3.2, 1]}"
      ]
     },
     "execution_count": 188,
     "metadata": {},
     "output_type": "execute_result"
    }
   ],
   "source": [
    "exercicio_nova_proposta = {\n",
    "    0: [\"Maria\", 1 , 5],\n",
    "    1: [\"Pedro\", 0.5 , 3],\n",
    "    2: [\"Joao\", 3.2, 1]\n",
    "}\n",
    "\n",
    "exercicio_nova_proposta"
   ]
  },
  {
   "cell_type": "code",
   "execution_count": 155,
   "metadata": {},
   "outputs": [
    {
     "name": "stdout",
     "output_type": "stream",
     "text": [
      "{'Maria': [1, 5], 'Pedro': [0.5, 3], 'Joao': [3.2, 1]}\n"
     ]
    }
   ],
   "source": [
    "M = [1, 5]\n",
    "P = [0.5, 3]\n",
    "J = [3.2, 1]\n",
    "\n",
    "exercicio_proposta2 = {\n",
    "    'Maria': M,\n",
    "    'Pedro': P,\n",
    "    'Joao' : J\n",
    "}\n",
    "\n",
    "print(exercicio_proposta2)"
   ]
  },
  {
   "cell_type": "markdown",
   "metadata": {},
   "source": [
    "### Cenário 1\n",
    "\n",
    "Queremos ordenar o dicionario"
   ]
  },
  {
   "cell_type": "code",
   "execution_count": 158,
   "metadata": {},
   "outputs": [],
   "source": [
    "meu_dicionario = {\n",
    "    \"Palmeras\": 0,\n",
    "    \"Corinthians\": 1,\n",
    "    \"Sao Paulo\": 3,\n",
    "    \"Santos\": 2\n",
    "}"
   ]
  },
  {
   "cell_type": "code",
   "execution_count": 159,
   "metadata": {},
   "outputs": [],
   "source": [
    "meu_dicionario[\"Palmeiras\"] = 0"
   ]
  },
  {
   "cell_type": "code",
   "execution_count": 160,
   "metadata": {},
   "outputs": [],
   "source": [
    "del meu_dicionario['Palmeras']"
   ]
  },
  {
   "cell_type": "code",
   "execution_count": 161,
   "metadata": {},
   "outputs": [
    {
     "data": {
      "text/plain": [
       "{'Corinthians': 1, 'Sao Paulo': 3, 'Santos': 2, 'Palmeiras': 0}"
      ]
     },
     "execution_count": 161,
     "metadata": {},
     "output_type": "execute_result"
    }
   ],
   "source": [
    "meu_dicionario"
   ]
  },
  {
   "cell_type": "code",
   "execution_count": 162,
   "metadata": {},
   "outputs": [],
   "source": [
    "times_ordenados = sorted(meu_dicionario.keys())"
   ]
  },
  {
   "cell_type": "code",
   "execution_count": 163,
   "metadata": {},
   "outputs": [],
   "source": [
    "meu_dicionario_ordenado = dict() ## ou meu_dicionario_ordenado = {}\n",
    "for time in times_ordenados:\n",
    "    meu_dicionario_ordenado[time] = meu_dicionario.get(time)"
   ]
  },
  {
   "cell_type": "code",
   "execution_count": 166,
   "metadata": {},
   "outputs": [
    {
     "data": {
      "text/plain": [
       "{'Corinthians': 1, 'Palmeiras': 0, 'Santos': 2, 'Sao Paulo': 3}"
      ]
     },
     "execution_count": 166,
     "metadata": {},
     "output_type": "execute_result"
    }
   ],
   "source": [
    "meu_dicionario_ordenado"
   ]
  },
  {
   "cell_type": "markdown",
   "metadata": {},
   "source": [
    "### Cenário 2\n",
    "\n",
    "Queremos alterar a chave, mas manter o nome correto na mesma posicao"
   ]
  },
  {
   "cell_type": "code",
   "execution_count": 178,
   "metadata": {},
   "outputs": [],
   "source": [
    "meu_dicionario = {\n",
    "    \"Palmeras\": 0,\n",
    "    \"Corinthians\": 1,\n",
    "    \"Sao Paulo\": 3,\n",
    "    \"Santos\": 2\n",
    "}\n",
    "\n"
   ]
  },
  {
   "cell_type": "code",
   "execution_count": 179,
   "metadata": {},
   "outputs": [
    {
     "data": {
      "text/plain": [
       "{'Palmeras': 0, 'Corinthians': 1, 'Sao Paulo': 3, 'Santos': 2}"
      ]
     },
     "execution_count": 179,
     "metadata": {},
     "output_type": "execute_result"
    }
   ],
   "source": [
    "meu_dicionario"
   ]
  },
  {
   "cell_type": "code",
   "execution_count": 180,
   "metadata": {},
   "outputs": [
    {
     "data": {
      "text/plain": [
       "dict_keys(['Palmeras', 'Corinthians', 'Sao Paulo', 'Santos'])"
      ]
     },
     "execution_count": 180,
     "metadata": {},
     "output_type": "execute_result"
    }
   ],
   "source": [
    "chaves = meu_dicionario.keys()\n",
    "chaves"
   ]
  },
  {
   "cell_type": "code",
   "execution_count": 184,
   "metadata": {},
   "outputs": [],
   "source": [
    "chaves = list(chaves)"
   ]
  },
  {
   "cell_type": "code",
   "execution_count": 185,
   "metadata": {},
   "outputs": [
    {
     "data": {
      "text/plain": [
       "0"
      ]
     },
     "execution_count": 185,
     "metadata": {},
     "output_type": "execute_result"
    }
   ],
   "source": [
    "indice_deletar = chaves.index('Palmeras')\n",
    "indice_deletar"
   ]
  },
  {
   "cell_type": "code",
   "execution_count": 186,
   "metadata": {},
   "outputs": [
    {
     "data": {
      "text/plain": [
       "['Palmeiras', 'Corinthians', 'Sao Paulo', 'Santos']"
      ]
     },
     "execution_count": 186,
     "metadata": {},
     "output_type": "execute_result"
    }
   ],
   "source": [
    "chaves[indice_deletar] = 'Palmeiras'\n",
    "chaves"
   ]
  },
  {
   "cell_type": "code",
   "execution_count": 192,
   "metadata": {},
   "outputs": [],
   "source": [
    "meu_dicionario_alterado = dict()\n",
    "for i in range(len(meu_dicionario.keys())):\n",
    "    meu_dicionario_alterado[chaves[i]] = list(meu_dicionario.values())[i]"
   ]
  },
  {
   "cell_type": "code",
   "execution_count": 193,
   "metadata": {},
   "outputs": [
    {
     "data": {
      "text/plain": [
       "True"
      ]
     },
     "execution_count": 193,
     "metadata": {},
     "output_type": "execute_result"
    }
   ],
   "source": [
    "len(chaves) == len(meu_dicionario.keys())"
   ]
  },
  {
   "cell_type": "code",
   "execution_count": 194,
   "metadata": {},
   "outputs": [
    {
     "data": {
      "text/plain": [
       "{'Palmeiras': 0, 'Corinthians': 1, 'Sao Paulo': 3, 'Santos': 2}"
      ]
     },
     "execution_count": 194,
     "metadata": {},
     "output_type": "execute_result"
    }
   ],
   "source": [
    "meu_dicionario_alterado"
   ]
  },
  {
   "cell_type": "code",
   "execution_count": 199,
   "metadata": {},
   "outputs": [
    {
     "data": {
      "text/plain": [
       "(0, 1, 2, 3, 4, 5, 6, 7, 8, 9)"
      ]
     },
     "execution_count": 199,
     "metadata": {},
     "output_type": "execute_result"
    }
   ],
   "source": [
    "numeros = (0, 1, 2, 3, 4, 5, 6, 7, 8, 9)\n",
    "numeros"
   ]
  },
  {
   "cell_type": "code",
   "execution_count": 200,
   "metadata": {},
   "outputs": [
    {
     "data": {
      "text/plain": [
       "(0, 1, 2, 3, 4, 5, 6, 7, 8, 9)"
      ]
     },
     "execution_count": 200,
     "metadata": {},
     "output_type": "execute_result"
    }
   ],
   "source": [
    "numeros = 0, 1, 2, 3, 4, 5, 6, 7, 8, 9\n",
    "numeros"
   ]
  },
  {
   "cell_type": "code",
   "execution_count": 208,
   "metadata": {},
   "outputs": [
    {
     "name": "stdout",
     "output_type": "stream",
     "text": [
      "[0, 2, 4, 6, 8, 10, 12, 14, 16, 18, 20, 22, 24, 26, 28, 30, 32, 34, 36, 38, 40, 42, 44, 46, 48, 50, 52, 54, 56, 58, 60, 62, 64, 66, 68, 70, 72, 74, 76, 78, 80, 82, 84, 86, 88, 90, 92, 94, 96, 98, 100]\n",
      "(0, 2, 4, 6, 8, 10, 12, 14, 16, 18, 20, 22, 24, 26, 28, 30, 32, 34, 36, 38, 40, 42, 44, 46, 48, 50, 52, 54, 56, 58, 60, 62, 64, 66, 68, 70, 72, 74, 76, 78, 80, 82, 84, 86, 88, 90, 92, 94, 96, 98, 100)\n"
     ]
    }
   ],
   "source": [
    "numeros_lista = []\n",
    "\n",
    "for i in range(101):\n",
    "    if i % 2== 0:\n",
    "        numeros_lista.append(i) \n",
    "print(numeros_lista)\n",
    "\n",
    "numeros_tupla = tuple(numeros_lista)\n",
    "\n",
    "print(numeros_tupla)"
   ]
  },
  {
   "cell_type": "code",
   "execution_count": 254,
   "metadata": {},
   "outputs": [
    {
     "name": "stdout",
     "output_type": "stream",
     "text": [
      "Digite alguns números e digite \"end\" quando acabar\n",
      "Digite um número: 4\n",
      "Digite um número: 5\n",
      "Digite um número: 6\n",
      "Digite um número: g\n",
      "Pronto! Vamos para os resultados:\n",
      "O mínimo é: 4, a média é: 5.0, o desvio padrão é: 1.0, o máximo é: 6\n"
     ]
    }
   ],
   "source": [
    "import statistics\n",
    "\n",
    "print('Digite alguns números e digite \"end\" quando acabar')\n",
    "lista = []\n",
    "soma = 0\n",
    "i = 1\n",
    "\n",
    "try:\n",
    "    while True:\n",
    "        numeros = int(input('Digite um número: '))\n",
    "        lista.append(numeros)\n",
    "        soma += numeros\n",
    "        media = soma / i\n",
    "        i += 1\n",
    "        \n",
    "except ValueError as err:\n",
    "    print('Pronto! Vamos para os resultados:')\n",
    "    \n",
    "\n",
    "print(f'O mínimo é: {min(lista)}, a média é: {media}, o desvio padrão é: {statistics.stdev(lista)}, o máximo é: {max(lista)}')    \n"
   ]
  },
  {
   "cell_type": "markdown",
   "metadata": {},
   "source": [
    "##### i = 0\n",
    "\n",
    "for i in len(lista):\n",
    "    soma += numeros\n",
    "    media = soma/i\n",
    "\n",
    "print(min(lista))\n",
    "print(max(lista))\n",
    "print(soma)\n",
    "print(media)"
   ]
  },
  {
   "cell_type": "markdown",
   "metadata": {},
   "source": []
  },
  {
   "cell_type": "code",
   "execution_count": 57,
   "metadata": {},
   "outputs": [
    {
     "name": "stdout",
     "output_type": "stream",
     "text": [
      "Digite um número que representa o mês: 2\n",
      "O mês tem 28 dias\n"
     ]
    }
   ],
   "source": [
    "dicionario = {}\n",
    "numero = int(input('Digite um número que representa o mês: '))\n",
    "\n",
    "for meses in range(1, 13):\n",
    "    if meses % 2 == 0 and meses < 7 and meses != 2:\n",
    "        dicionario[meses] = 30\n",
    "    elif meses == 2:\n",
    "        dicionario[meses] = 28\n",
    "    elif meses % 2 != 0 and meses > 8 and meses != 2:\n",
    "        dicionario[meses] = 30\n",
    "    else:\n",
    "        dicionario[meses] = 31\n",
    "        \n",
    "print('O mês tem' ,dicionario[numero], 'dias')"
   ]
  },
  {
   "cell_type": "code",
   "execution_count": 56,
   "metadata": {},
   "outputs": [
    {
     "name": "stdout",
     "output_type": "stream",
     "text": [
      "Janeiro - 31\n",
      "Fevereiro - 28\n",
      "Março - 31\n",
      "Abril - 30\n",
      "Maio - 31\n",
      "Junho - 30\n",
      "Julho - 31\n",
      "Agosto - 31\n",
      "Setembro - 30\n",
      "Outubro - 31\n",
      "Novembro - 30\n",
      "Dezembro - 31\n"
     ]
    }
   ],
   "source": [
    "meses_nomes = ['Janeiro', 'Fevereiro', 'Março', 'Abril', 'Maio', 'Junho', 'Julho', 'Agosto', 'Setembro', 'Outubro', 'Novembro', 'Dezembro']\n",
    "\n",
    "for meses in range(1, 13):\n",
    "def numero_dias():    \n",
    "    dicionario = {}\n",
    "    for meses in range(1, 13):\n",
    "        if meses % 2 == 0 and meses < 7 and meses != 2:\n",
    "            dicionario[meses] = 30\n",
    "        elif meses == 2:\n",
    "            dicionario[meses] = 28\n",
    "        elif meses % 2 != 0 and meses > 8 and meses != 2:\n",
    "            dicionario[meses] = 30\n",
    "        else:\n",
    "            dicionario[meses] = 31\n",
    "    \n",
    "    return numero_dias    print(meses_nomes[meses-1], '-' , dicionario[meses])"
   ]
  },
  {
   "cell_type": "code",
   "execution_count": 74,
   "metadata": {},
   "outputs": [
    {
     "name": "stdout",
     "output_type": "stream",
     "text": [
      "Digite um número que representa o mês: 3\n",
      "O número de dias desse mês é: 31\n"
     ]
    }
   ],
   "source": [
    "def numero_dias(a):    \n",
    "    dicionario = {}\n",
    "    for meses in range(1, 13):\n",
    "        if meses % 2 == 0 and meses < 7 and meses != 2:\n",
    "            dicionario[meses] = 30\n",
    "        elif meses == 2:\n",
    "            dicionario[meses] = 28\n",
    "        elif meses % 2 != 0 and meses > 8 and meses != 2:\n",
    "            dicionario[meses] = 30\n",
    "        else:\n",
    "            dicionario[meses] = 31\n",
    "    \n",
    "    return dicionario[a]\n",
    "\n",
    "\n",
    "numero = int(input('Digite um número que representa o mês: '))\n",
    "    \n",
    "print('O número de dias desse mês é:', numero_dias(numero))\n"
   ]
  },
  {
   "cell_type": "code",
   "execution_count": 75,
   "metadata": {},
   "outputs": [
    {
     "data": {
      "text/plain": [
       "{'Bananas': 3.0, 'Cebola': 4.0, 'Maçã': 5.7, 'Abacaxi': 8.0}"
      ]
     },
     "execution_count": 75,
     "metadata": {},
     "output_type": "execute_result"
    }
   ],
   "source": [
    "frutas = {'Bananas': 3.0,\n",
    "        'Cebola': 4.0,\n",
    "        'Maçã': 5.7,\n",
    "        'Abacaxi': 8.0\n",
    "         }\n",
    "frutas"
   ]
  },
  {
   "cell_type": "code",
   "execution_count": 76,
   "metadata": {},
   "outputs": [
    {
     "name": "stdout",
     "output_type": "stream",
     "text": [
      "{'Bananas': 3.0, 'Cebola': 4.0, 'Maçã': 5.7, 'Abacaxi': 8.0, 'Maça': 8.6}\n"
     ]
    }
   ],
   "source": [
    "frutas['Maça'] = 8.6\n",
    "\n",
    "print(frutas)"
   ]
  },
  {
   "cell_type": "code",
   "execution_count": 81,
   "metadata": {},
   "outputs": [
    {
     "name": "stdout",
     "output_type": "stream",
     "text": [
      "Digite o seu nome: Michel\n",
      "Digite a sua idade: 32\n",
      "Digite o seu email: miche\n",
      "{'nome': 'Michel', 'idade': '32', 'email': 'miche'}\n"
     ]
    }
   ],
   "source": [
    "nome_digitado = input('Digite o seu nome: ')\n",
    "idade_digitado = input('Digite a sua idade: ')\n",
    "email_digitado = input('Digite o seu email: ')\n",
    "\n",
    "dados = {'nome': nome_digitado,\n",
    "         'idade': idade_digitado,\n",
    "         'email': email_digitado\n",
    "        }\n",
    "print(dados)"
   ]
  },
  {
   "cell_type": "code",
   "execution_count": 100,
   "metadata": {},
   "outputs": [
    {
     "name": "stdout",
     "output_type": "stream",
     "text": [
      "Digite o seu nome: Michel\n",
      "Digite a sua idade: 54\n",
      "Digite o seu email: michel_lee\n"
     ]
    },
    {
     "data": {
      "text/plain": [
       "{'nome': 'Michel', 'idade': '54', 'email': 'michel_lee'}"
      ]
     },
     "execution_count": 100,
     "metadata": {},
     "output_type": "execute_result"
    }
   ],
   "source": [
    "def dados_pessoais(a, b, c):\n",
    "    dados = {'nome': a,\n",
    "             'idade': b,\n",
    "             'email': c\n",
    "            }\n",
    "    return (dados)\n",
    "\n",
    "a = input('Digite o seu nome: ')\n",
    "b = input('Digite a sua idade: ')\n",
    "c = input('Digite o seu email: ')\n",
    "\n",
    "\n",
    "dados_pessoais(a, b, c)"
   ]
  },
  {
   "cell_type": "code",
   "execution_count": 82,
   "metadata": {},
   "outputs": [
    {
     "data": {
      "text/plain": [
       "'Michel'"
      ]
     },
     "execution_count": 82,
     "metadata": {},
     "output_type": "execute_result"
    }
   ],
   "source": [
    "dados['nome']"
   ]
  },
  {
   "cell_type": "code",
   "execution_count": 84,
   "metadata": {},
   "outputs": [
    {
     "data": {
      "text/plain": [
       "3"
      ]
     },
     "execution_count": 84,
     "metadata": {},
     "output_type": "execute_result"
    }
   ],
   "source": [
    "# Exercício 11\n",
    "\n",
    "coluna = {'Mario': {'Coluna A' : 1, 'Coluna B': 5},\n",
    "          'Pedro': {'Coluna A' : 0.5, 'Coluna B': 3},\n",
    "          'João': {'Coluna A' : 3.2, 'Coluna B': 1}\n",
    "}\n",
    "\n",
    "coluna['Pedro']['Coluna B']"
   ]
  },
  {
   "cell_type": "code",
   "execution_count": 97,
   "metadata": {},
   "outputs": [
    {
     "data": {
      "text/plain": [
       "{'Ana': 3, 'Carlos': 1, 'Juliana': 2, 'Pedro': 1, 'Renato': 1, 'Silvia': 1}"
      ]
     },
     "execution_count": 97,
     "metadata": {},
     "output_type": "execute_result"
    }
   ],
   "source": [
    "# Exercício 12\n",
    "\n",
    "def quant_aparece(a, b):\n",
    "    for i in range(len(a)):\n",
    "        b[a[i]] = a.count(a[i])\n",
    "\n",
    "    return b\n",
    "\n",
    "alunos = ['Ana', 'Carlos', 'Juliana', 'Juliana', 'Pedro', 'Ana', 'Renato', 'Silvia', 'Ana']\n",
    "dicionario_chamada = {}\n",
    "\n",
    "quant_aparece(alunos, dicionario_chamada) "
   ]
  },
  {
   "cell_type": "code",
   "execution_count": 92,
   "metadata": {},
   "outputs": [
    {
     "data": {
      "text/plain": [
       "3"
      ]
     },
     "execution_count": 92,
     "metadata": {},
     "output_type": "execute_result"
    }
   ],
   "source": [
    "alunos = ['Ana', 'Carlos', 'Juliana', 'Juliana', 'Pedro', 'Ana', 'Renato', 'Silvia', 'Ana']\n",
    "\n",
    "alunos.count('Ana')"
   ]
  },
  {
   "cell_type": "code",
   "execution_count": 24,
   "metadata": {},
   "outputs": [
    {
     "ename": "KeyboardInterrupt",
     "evalue": "Interrupted by user",
     "output_type": "error",
     "traceback": [
      "\u001b[0;31m---------------------------------------------------------------------------\u001b[0m",
      "\u001b[0;31mKeyboardInterrupt\u001b[0m                         Traceback (most recent call last)",
      "\u001b[0;32m<ipython-input-24-e711d905da6f>\u001b[0m in \u001b[0;36m<module>\u001b[0;34m\u001b[0m\n\u001b[1;32m      8\u001b[0m     \u001b[0;32mreturn\u001b[0m \u001b[0;34m(\u001b[0m\u001b[0mdados\u001b[0m\u001b[0;34m)\u001b[0m\u001b[0;34m\u001b[0m\u001b[0;34m\u001b[0m\u001b[0m\n\u001b[1;32m      9\u001b[0m \u001b[0;34m\u001b[0m\u001b[0m\n\u001b[0;32m---> 10\u001b[0;31m \u001b[0mescolha\u001b[0m \u001b[0;34m=\u001b[0m \u001b[0mint\u001b[0m\u001b[0;34m(\u001b[0m\u001b[0minput\u001b[0m\u001b[0;34m(\u001b[0m\u001b[0;34m'Escolha um número entre 1, 2 e 3: '\u001b[0m\u001b[0;34m)\u001b[0m\u001b[0;34m)\u001b[0m\u001b[0;34m\u001b[0m\u001b[0;34m\u001b[0m\u001b[0m\n\u001b[0m\u001b[1;32m     11\u001b[0m \u001b[0mdicionario\u001b[0m \u001b[0;34m=\u001b[0m \u001b[0;34m{\u001b[0m\u001b[0;34m}\u001b[0m\u001b[0;34m\u001b[0m\u001b[0;34m\u001b[0m\u001b[0m\n\u001b[1;32m     12\u001b[0m \u001b[0mi\u001b[0m \u001b[0;34m=\u001b[0m \u001b[0;36m0\u001b[0m\u001b[0;34m\u001b[0m\u001b[0;34m\u001b[0m\u001b[0m\n",
      "\u001b[0;32m/opt/anaconda3/envs/DSdegree/lib/python3.9/site-packages/ipykernel/kernelbase.py\u001b[0m in \u001b[0;36mraw_input\u001b[0;34m(self, prompt)\u001b[0m\n\u001b[1;32m    858\u001b[0m                 \u001b[0;34m\"raw_input was called, but this frontend does not support input requests.\"\u001b[0m\u001b[0;34m\u001b[0m\u001b[0;34m\u001b[0m\u001b[0m\n\u001b[1;32m    859\u001b[0m             )\n\u001b[0;32m--> 860\u001b[0;31m         return self._input_request(str(prompt),\n\u001b[0m\u001b[1;32m    861\u001b[0m             \u001b[0mself\u001b[0m\u001b[0;34m.\u001b[0m\u001b[0m_parent_ident\u001b[0m\u001b[0;34m,\u001b[0m\u001b[0;34m\u001b[0m\u001b[0;34m\u001b[0m\u001b[0m\n\u001b[1;32m    862\u001b[0m             \u001b[0mself\u001b[0m\u001b[0;34m.\u001b[0m\u001b[0m_parent_header\u001b[0m\u001b[0;34m,\u001b[0m\u001b[0;34m\u001b[0m\u001b[0;34m\u001b[0m\u001b[0m\n",
      "\u001b[0;32m/opt/anaconda3/envs/DSdegree/lib/python3.9/site-packages/ipykernel/kernelbase.py\u001b[0m in \u001b[0;36m_input_request\u001b[0;34m(self, prompt, ident, parent, password)\u001b[0m\n\u001b[1;32m    902\u001b[0m             \u001b[0;32mexcept\u001b[0m \u001b[0mKeyboardInterrupt\u001b[0m\u001b[0;34m:\u001b[0m\u001b[0;34m\u001b[0m\u001b[0;34m\u001b[0m\u001b[0m\n\u001b[1;32m    903\u001b[0m                 \u001b[0;31m# re-raise KeyboardInterrupt, to truncate traceback\u001b[0m\u001b[0;34m\u001b[0m\u001b[0;34m\u001b[0m\u001b[0;34m\u001b[0m\u001b[0m\n\u001b[0;32m--> 904\u001b[0;31m                 \u001b[0;32mraise\u001b[0m \u001b[0mKeyboardInterrupt\u001b[0m\u001b[0;34m(\u001b[0m\u001b[0;34m\"Interrupted by user\"\u001b[0m\u001b[0;34m)\u001b[0m \u001b[0;32mfrom\u001b[0m \u001b[0;32mNone\u001b[0m\u001b[0;34m\u001b[0m\u001b[0;34m\u001b[0m\u001b[0m\n\u001b[0m\u001b[1;32m    905\u001b[0m             \u001b[0;32mexcept\u001b[0m \u001b[0mException\u001b[0m \u001b[0;32mas\u001b[0m \u001b[0me\u001b[0m\u001b[0;34m:\u001b[0m\u001b[0;34m\u001b[0m\u001b[0;34m\u001b[0m\u001b[0m\n\u001b[1;32m    906\u001b[0m                 \u001b[0mself\u001b[0m\u001b[0;34m.\u001b[0m\u001b[0mlog\u001b[0m\u001b[0;34m.\u001b[0m\u001b[0mwarning\u001b[0m\u001b[0;34m(\u001b[0m\u001b[0;34m\"Invalid Message:\"\u001b[0m\u001b[0;34m,\u001b[0m \u001b[0mexc_info\u001b[0m\u001b[0;34m=\u001b[0m\u001b[0;32mTrue\u001b[0m\u001b[0;34m)\u001b[0m\u001b[0;34m\u001b[0m\u001b[0;34m\u001b[0m\u001b[0m\n",
      "\u001b[0;31mKeyboardInterrupt\u001b[0m: Interrupted by user"
     ]
    }
   ],
   "source": [
    "# Exercício 13\n",
    "\n",
    "def dados_pessoais(a, b, c):\n",
    "    dados = {'nome': a,\n",
    "             'idade': b,\n",
    "             'email': c\n",
    "            }\n",
    "    return (dados)\n",
    "\n",
    "escolha = int(input('Escolha um número entre 1, 2 e 3: '))\n",
    "dicionario = {}\n",
    "i = 0\n",
    "\n",
    "while escolha == 1:\n",
    "    cpf = input('Digite o seu CPF: ')\n",
    "    a = input('Digite o seu nome: ')\n",
    "    b = input('Digite a sua idade: ')\n",
    "    c = input('Digite o seu email: ')\n",
    "    dicionario[cpf] = dados_pessoais(a, b, c)\n",
    "    escolha = int(input('Escolha um número entre 1, 2 e 3: '))\n",
    "\n",
    "if escolha == 2:\n",
    "    print(dicionario)\n",
    "\n",
    "else:\n",
    "    print('Obrigado')\n",
    "\n"
   ]
  },
  {
   "cell_type": "code",
   "execution_count": 30,
   "metadata": {},
   "outputs": [
    {
     "name": "stdout",
     "output_type": "stream",
     "text": [
      "Escolha um número entre 1, 2, 3 e 4: 1\n",
      "Digite o seu CPF: 4321\n",
      "Digite o seu nome: mkdl\n",
      "Digite a sua idade: 43\n",
      "Digite o seu email: mdl@\n",
      "Escolha um número entre 1, 2, 3 e 4: 4\n",
      "Digite um CPF que você deseja buscar: 4321\n",
      "{'nome': 'mkdl', 'idade': '43', 'email': 'mdl@'}\n"
     ]
    }
   ],
   "source": [
    "# Exercício 14\n",
    "\n",
    "def dados_pessoais(a, b, c):\n",
    "    dados = {'nome': a,\n",
    "             'idade': b,\n",
    "             'email': c\n",
    "            }\n",
    "    return (dados)\n",
    "\n",
    "escolha = int(input('Escolha um número entre 1, 2, 3 e 4: '))\n",
    "dicionario = {}\n",
    "i = 0\n",
    "\n",
    "while escolha == 1:\n",
    "    cpf = input('Digite o seu CPF: ')\n",
    "    a = input('Digite o seu nome: ')\n",
    "    b = input('Digite a sua idade: ')\n",
    "    c = input('Digite o seu email: ')\n",
    "    dicionario[cpf] = dados_pessoais(a, b, c)\n",
    "    escolha = int(input('Escolha um número entre 1, 2, 3 e 4: '))\n",
    "\n",
    "if escolha == 2:\n",
    "    print(dicionario)\n",
    "\n",
    "elif escolha == 3:\n",
    "    print('Obrigado')\n",
    "\n",
    "else:\n",
    "    cpf_busca = input('Digite um CPF que você deseja buscar: ')\n",
    "    \n",
    "    print(dicionario[cpf_busca])"
   ]
  },
  {
   "cell_type": "code",
   "execution_count": 33,
   "metadata": {},
   "outputs": [
    {
     "data": {
      "text/plain": [
       "{'A': 3,\n",
       " 'n': 6,\n",
       " 'a': 10,\n",
       " 'C': 1,\n",
       " 'r': 2,\n",
       " 'l': 4,\n",
       " 'o': 3,\n",
       " 's': 1,\n",
       " 'J': 2,\n",
       " 'u': 2,\n",
       " 'i': 4,\n",
       " 'P': 1,\n",
       " 'e': 2,\n",
       " 'd': 1,\n",
       " 'R': 1,\n",
       " 't': 1,\n",
       " 'S': 1,\n",
       " 'v': 1}"
      ]
     },
     "execution_count": 33,
     "metadata": {},
     "output_type": "execute_result"
    }
   ],
   "source": [
    "# Exercício 15\n",
    "\n",
    "def quant_aparece(a, b):\n",
    "    for i in range(len(a)):\n",
    "        b[a[i]] = a.count(a[i])\n",
    "\n",
    "    return b\n",
    "\n",
    "alunos = 'AnaCarlosJulianaJulianaPedroAnaRenatoSilviaAna'\n",
    "dicionario_chamada = {}\n",
    "\n",
    "quant_aparece(alunos, dicionario_chamada)"
   ]
  },
  {
   "cell_type": "code",
   "execution_count": null,
   "metadata": {},
   "outputs": [],
   "source": []
  }
 ],
 "metadata": {
  "kernelspec": {
   "display_name": "Python 3",
   "language": "python",
   "name": "python3"
  },
  "language_info": {
   "codemirror_mode": {
    "name": "ipython",
    "version": 3
   },
   "file_extension": ".py",
   "mimetype": "text/x-python",
   "name": "python",
   "nbconvert_exporter": "python",
   "pygments_lexer": "ipython3",
   "version": "3.9.5"
  }
 },
 "nbformat": 4,
 "nbformat_minor": 4
}
