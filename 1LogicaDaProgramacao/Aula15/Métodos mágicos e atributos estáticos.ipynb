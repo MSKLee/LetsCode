{
 "cells": [
  {
   "cell_type": "markdown",
   "metadata": {},
   "source": [
    "# Classes"
   ]
  },
  {
   "cell_type": "markdown",
   "metadata": {},
   "source": [
    "class NomeDaClasse:\n",
    "    \n",
    "    # método construtor\n",
    "    def __init__(self, atributos):\n",
    "        #definição dos atributos\n",
    "        self.atributos = atributos\n",
    "        \n",
    "    # definição de outros métodos\n",
    "    def metodo(self, parametros):\n",
    "        operacoes"
   ]
  },
  {
   "cell_type": "code",
   "execution_count": 1,
   "metadata": {},
   "outputs": [],
   "source": [
    "class Pessoa:\n",
    "        # método construtor\n",
    "        def __init__(self, peso, altura):\n",
    "            self.peso = peso\n",
    "            self.altura = altura\n",
    "            \n",
    "        #método para calcular o IMC\n",
    "        def calcula_imc(self):\n",
    "            imc = self.peso / (self.altura ** 2)\n",
    "            return imc"
   ]
  },
  {
   "cell_type": "code",
   "execution_count": 2,
   "metadata": {},
   "outputs": [],
   "source": [
    "joao = Pessoa(77, 1.67)"
   ]
  },
  {
   "cell_type": "code",
   "execution_count": 3,
   "metadata": {},
   "outputs": [
    {
     "data": {
      "text/plain": [
       "27.60945175517229"
      ]
     },
     "execution_count": 3,
     "metadata": {},
     "output_type": "execute_result"
    }
   ],
   "source": [
    "joao.calcula_imc()"
   ]
  },
  {
   "cell_type": "markdown",
   "metadata": {},
   "source": [
    "# Métodos Mágicos"
   ]
  },
  {
   "cell_type": "code",
   "execution_count": 6,
   "metadata": {},
   "outputs": [
    {
     "data": {
      "text/plain": [
       "True"
      ]
     },
     "execution_count": 6,
     "metadata": {},
     "output_type": "execute_result"
    }
   ],
   "source": [
    "'h' in 'Tenho um texto escrito aqui'"
   ]
  },
  {
   "cell_type": "code",
   "execution_count": 14,
   "metadata": {},
   "outputs": [],
   "source": [
    "# Quero criar uma classe que mostra o horário com os argumentos h, m e s\n",
    "# h:m:s\n",
    "\n",
    "class Horario:\n",
    "    \n",
    "    def __init__(self, **dados):\n",
    "        if 'h' in dados:\n",
    "            self.h = dados['h']\n",
    "        else:\n",
    "            self.h = 0\n",
    "            \n",
    "        if 'm' in dados:\n",
    "            self.m = dados['m']\n",
    "        else:\n",
    "            self.m = 0\n",
    "            \n",
    "        if 's' in dados:\n",
    "            self.s = dados['s']\n",
    "        else:\n",
    "            self.s = 0\n",
    "            \n",
    "    def __repr__(self):\n",
    "        representacao = f'{self.h:02d}:{self.m:02d}:{self.s:02d}' # https://pyformat.info/\n",
    "        return representacao"
   ]
  },
  {
   "cell_type": "code",
   "execution_count": 17,
   "metadata": {},
   "outputs": [
    {
     "data": {
      "text/plain": [
       "09:03:54"
      ]
     },
     "execution_count": 17,
     "metadata": {},
     "output_type": "execute_result"
    }
   ],
   "source": [
    "hora_atual = Horario(h = 9, m = 3, s = 54)\n",
    "hora_atual"
   ]
  },
  {
   "cell_type": "code",
   "execution_count": 18,
   "metadata": {},
   "outputs": [
    {
     "name": "stdout",
     "output_type": "stream",
     "text": [
      "09:03:54\n"
     ]
    }
   ],
   "source": [
    "print(hora_atual) # chama o método __repr__\n",
    "\n",
    "# não preciso chamar o método para aparecer"
   ]
  },
  {
   "cell_type": "code",
   "execution_count": 37,
   "metadata": {},
   "outputs": [
    {
     "data": {
      "text/plain": [
       "'09:03:54'"
      ]
     },
     "execution_count": 37,
     "metadata": {},
     "output_type": "execute_result"
    }
   ],
   "source": [
    "hora_atual.__repr__()"
   ]
  },
  {
   "cell_type": "markdown",
   "metadata": {},
   "source": [
    "Objetos são instâncias concretas da classe\n",
    "\n",
    "Métodos são as funções dentro das classes\n",
    "\n",
    "Variáveis são atributos"
   ]
  },
  {
   "cell_type": "markdown",
   "metadata": {},
   "source": [
    "## Operadores aritméticos"
   ]
  },
  {
   "cell_type": "markdown",
   "metadata": {},
   "source": [
    "Como somar dois horários?\n",
    "\n",
    "13:26:48 + 02:35:25\n",
    "\n",
    "segundo: 48 + 25 = 73 [73 - 60] e adicionar 1 minuto\n",
    "minuto: 36 + 26 = 61 + 1 da operação anterior -> [62 - 60] e adicionar 1 hora\n",
    "hora: 13 + 2 = 15 + 1 da operacao anterior\n",
    "\n",
    "16:02:03"
   ]
  },
  {
   "cell_type": "code",
   "execution_count": 20,
   "metadata": {},
   "outputs": [],
   "source": [
    "class Horario:\n",
    "    \n",
    "    def __init__(self, **dados):\n",
    "        if 'h' in dados:\n",
    "            self.h = dados['h']\n",
    "        else:\n",
    "            self.h = 0\n",
    "            \n",
    "        if 'm' in dados:\n",
    "            self.m = dados['m']\n",
    "        else:\n",
    "            self.m = 0\n",
    "            \n",
    "        if 's' in dados:\n",
    "            self.s = dados['s']\n",
    "        else:\n",
    "            self.s = 0\n",
    "            \n",
    "    def __repr__(self):\n",
    "        representacao = f'{self.h:02d}:{self.m:02d}:{self.s:02d}' # https://pyformat.info/\n",
    "        return representacao\n",
    "    \n",
    "    def __add__(self, other):\n",
    "        h = self.h + other.h\n",
    "        m = self.m + other.m\n",
    "        s = self.s + other.s\n",
    "        \n",
    "        if s > 60:\n",
    "            s = s - 60\n",
    "            m = m + 1\n",
    "            \n",
    "        if m >= 60:\n",
    "            m = m - 60\n",
    "            h = h + 1\n",
    "            \n",
    "        resultado = Horario( h = h, m = m, s = s)\n",
    "        \n",
    "        return resultado"
   ]
  },
  {
   "cell_type": "code",
   "execution_count": 21,
   "metadata": {},
   "outputs": [
    {
     "name": "stdout",
     "output_type": "stream",
     "text": [
      "13:26:48\n"
     ]
    }
   ],
   "source": [
    "# 13:26:48 + 02:35:25\n",
    "\n",
    "horario1 = Horario(h = 13, m = 26, s = 48)\n",
    "print(horario1)"
   ]
  },
  {
   "cell_type": "code",
   "execution_count": 22,
   "metadata": {},
   "outputs": [
    {
     "name": "stdout",
     "output_type": "stream",
     "text": [
      "02:35:25\n"
     ]
    }
   ],
   "source": [
    "horario2 = Horario(h = 2, m = 35, s = 25)\n",
    "print(horario2)"
   ]
  },
  {
   "cell_type": "code",
   "execution_count": 23,
   "metadata": {},
   "outputs": [
    {
     "data": {
      "text/plain": [
       "__main__.Horario"
      ]
     },
     "execution_count": 23,
     "metadata": {},
     "output_type": "execute_result"
    }
   ],
   "source": [
    "type(horario1)"
   ]
  },
  {
   "cell_type": "code",
   "execution_count": 25,
   "metadata": {
    "hide_input": false
   },
   "outputs": [
    {
     "data": {
      "text/plain": [
       "16:02:13"
      ]
     },
     "execution_count": 25,
     "metadata": {},
     "output_type": "execute_result"
    }
   ],
   "source": [
    "horario1.__add__(horario2)"
   ]
  },
  {
   "cell_type": "code",
   "execution_count": 26,
   "metadata": {},
   "outputs": [
    {
     "data": {
      "text/plain": [
       "16:02:13"
      ]
     },
     "execution_count": 26,
     "metadata": {},
     "output_type": "execute_result"
    }
   ],
   "source": [
    "# __add__ é um método mágico\n",
    "\n",
    "horario1 + horario2"
   ]
  },
  {
   "cell_type": "markdown",
   "metadata": {},
   "source": [
    "Temos os seguintes métodos mágicos aritméticos:\n",
    "\n",
    "    __add__ soma: +\n",
    "    __sub__ subtração: -\n",
    "    __mul__ multiplicação: *\n",
    "    __truediv__ divisão: /\n",
    "    __floordiv__ divisão inteira: //\n",
    "    __mod__ resto de divisão: %\n",
    "    __pow__ potência: **\n"
   ]
  },
  {
   "cell_type": "markdown",
   "metadata": {},
   "source": [
    "## Operadores lógicos"
   ]
  },
  {
   "cell_type": "markdown",
   "metadata": {
    "cell_style": "center"
   },
   "source": [
    "    Comparar horários:\n",
    "    13:26:48 > 02:35:25"
   ]
  },
  {
   "cell_type": "code",
   "execution_count": 28,
   "metadata": {},
   "outputs": [],
   "source": [
    "class Horario:\n",
    "    \n",
    "    def __init__(self, **dados):\n",
    "        if 'h' in dados:\n",
    "            self.h = dados['h']\n",
    "        else:\n",
    "            self.h = 0\n",
    "            \n",
    "        if 'm' in dados:\n",
    "            self.m = dados['m']\n",
    "        else:\n",
    "            self.m = 0\n",
    "            \n",
    "        if 's' in dados:\n",
    "            self.s = dados['s']\n",
    "        else:\n",
    "            self.s = 0\n",
    "            \n",
    "    def __repr__(self):\n",
    "        representacao = f'{self.h:02d}:{self.m:02d}:{self.s:02d}' # https://pyformat.info/\n",
    "        return representacao\n",
    "    \n",
    "    def __add__(self, other):\n",
    "        h = self.h + other.h\n",
    "        m = self.m + other.m\n",
    "        s = self.s + other.s\n",
    "        \n",
    "        if s > 60:\n",
    "            s = s - 60\n",
    "            m = m + 1\n",
    "            \n",
    "        if m >= 60:\n",
    "            m = m - 60\n",
    "            h = h + 1\n",
    "            \n",
    "        resultado = Horario( h = h, m = m, s = s)\n",
    "        \n",
    "        return resultado\n",
    "    \n",
    "    def __gt__(self, other): # Método mágico\n",
    "        if self.h > other.h:\n",
    "            return True\n",
    "        elif self.h == other.h and self.m > other.m:\n",
    "            return True\n",
    "        elif self.h == other.h and self.m == other.m and self.s > other.s:\n",
    "            return True\n",
    "        else:\n",
    "            return False"
   ]
  },
  {
   "cell_type": "code",
   "execution_count": 30,
   "metadata": {},
   "outputs": [
    {
     "name": "stdout",
     "output_type": "stream",
     "text": [
      "13:26:48\n",
      "12:28:58\n"
     ]
    }
   ],
   "source": [
    "horario1 = Horario(h = 13, m = 26, s = 48)\n",
    "print(horario1)\n",
    "\n",
    "horario2 = Horario(h = 12, m = 28, s = 58)\n",
    "print(horario2)"
   ]
  },
  {
   "cell_type": "code",
   "execution_count": 34,
   "metadata": {},
   "outputs": [
    {
     "data": {
      "text/plain": [
       "True"
      ]
     },
     "execution_count": 34,
     "metadata": {},
     "output_type": "execute_result"
    }
   ],
   "source": [
    "# horario1 > horario2\n",
    "horario1.__gt__(horario2)"
   ]
  },
  {
   "cell_type": "code",
   "execution_count": 33,
   "metadata": {},
   "outputs": [
    {
     "data": {
      "text/plain": [
       "True"
      ]
     },
     "execution_count": 33,
     "metadata": {},
     "output_type": "execute_result"
    }
   ],
   "source": [
    "horario1 > horario2"
   ]
  },
  {
   "cell_type": "code",
   "execution_count": 35,
   "metadata": {},
   "outputs": [
    {
     "data": {
      "text/plain": [
       "False"
      ]
     },
     "execution_count": 35,
     "metadata": {},
     "output_type": "execute_result"
    }
   ],
   "source": [
    "horario2 > horario1"
   ]
  },
  {
   "cell_type": "markdown",
   "metadata": {},
   "source": [
    "Os métodos lógicos são:\n",
    "\n",
    "    __gt__ maior que (greater than): >\n",
    "    __ge__ maior ou igual (greater or equal): >=\n",
    "    __lt__ menor que (less than): <\n",
    "    __le__ menor ou igual (less or equal): <=\n",
    "    __eq__ igual (equal): ==\n",
    "    __ne__ diferente (not equal): !=\n"
   ]
  },
  {
   "cell_type": "markdown",
   "metadata": {},
   "source": [
    "# Métodos e atributos estáticos"
   ]
  },
  {
   "cell_type": "markdown",
   "metadata": {},
   "source": [
    "## Atributos estáticos"
   ]
  },
  {
   "cell_type": "code",
   "execution_count": 44,
   "metadata": {},
   "outputs": [],
   "source": [
    "class Pessoa:\n",
    "    # criando um atributo estático\n",
    "    populacao = 0\n",
    "    \n",
    "    def __init__(self, nome, cpf):\n",
    "        self.nome = nome\n",
    "        self.cpf = cpf\n",
    "        Pessoa.populacao = Pessoa.populacao + 1\n",
    "        \n",
    "        "
   ]
  },
  {
   "cell_type": "code",
   "execution_count": 45,
   "metadata": {},
   "outputs": [
    {
     "name": "stdout",
     "output_type": "stream",
     "text": [
      "População atual: 0\n"
     ]
    }
   ],
   "source": [
    "print('População atual:', Pessoa.populacao)"
   ]
  },
  {
   "cell_type": "code",
   "execution_count": 40,
   "metadata": {},
   "outputs": [],
   "source": [
    "p1 = Pessoa('Jose', 12343212347)"
   ]
  },
  {
   "cell_type": "code",
   "execution_count": 41,
   "metadata": {},
   "outputs": [
    {
     "name": "stdout",
     "output_type": "stream",
     "text": [
      "População atual: 1\n"
     ]
    }
   ],
   "source": [
    "print('População atual:', Pessoa.populacao)"
   ]
  },
  {
   "cell_type": "code",
   "execution_count": 42,
   "metadata": {},
   "outputs": [],
   "source": [
    "p2 = Pessoa('Maria', 12344444447)\n",
    "p3 = Pessoa('Joao', 6373847474)"
   ]
  },
  {
   "cell_type": "code",
   "execution_count": 43,
   "metadata": {},
   "outputs": [
    {
     "name": "stdout",
     "output_type": "stream",
     "text": [
      "População atual: 3\n"
     ]
    }
   ],
   "source": [
    "print('População atual:', Pessoa.populacao)"
   ]
  },
  {
   "cell_type": "markdown",
   "metadata": {},
   "source": [
    "## Métodos estáticos"
   ]
  },
  {
   "cell_type": "code",
   "execution_count": 46,
   "metadata": {},
   "outputs": [],
   "source": [
    "class Pessoa:\n",
    "    # criando um atributo estático\n",
    "    populacao = 0\n",
    "    \n",
    "    def __init__(self, nome, cpf):\n",
    "        self.nome = nome\n",
    "        self.cpf = cpf\n",
    "        Pessoa.populacao = Pessoa.populacao + 1\n",
    "        \n",
    "        \n",
    "    @staticmethod\n",
    "    def popTotal():\n",
    "        print('População total:', Pessoa.populacao)"
   ]
  },
  {
   "cell_type": "code",
   "execution_count": 47,
   "metadata": {},
   "outputs": [],
   "source": [
    "p1 = Pessoa('Jose', 12343212347)\n",
    "p2 = Pessoa('Maria', 12344444447)\n",
    "p3 = Pessoa('Joao', 6373847474)"
   ]
  },
  {
   "cell_type": "code",
   "execution_count": 48,
   "metadata": {},
   "outputs": [
    {
     "name": "stdout",
     "output_type": "stream",
     "text": [
      "População total: 3\n"
     ]
    }
   ],
   "source": [
    "Pessoa.popTotal()"
   ]
  },
  {
   "cell_type": "code",
   "execution_count": null,
   "metadata": {},
   "outputs": [],
   "source": []
  }
 ],
 "metadata": {
  "kernelspec": {
   "display_name": "Python 3",
   "language": "python",
   "name": "python3"
  },
  "language_info": {
   "codemirror_mode": {
    "name": "ipython",
    "version": 3
   },
   "file_extension": ".py",
   "mimetype": "text/x-python",
   "name": "python",
   "nbconvert_exporter": "python",
   "pygments_lexer": "ipython3",
   "version": "3.9.5"
  },
  "varInspector": {
   "cols": {
    "lenName": 16,
    "lenType": 16,
    "lenVar": 40
   },
   "kernels_config": {
    "python": {
     "delete_cmd_postfix": "",
     "delete_cmd_prefix": "del ",
     "library": "var_list.py",
     "varRefreshCmd": "print(var_dic_list())"
    },
    "r": {
     "delete_cmd_postfix": ") ",
     "delete_cmd_prefix": "rm(",
     "library": "var_list.r",
     "varRefreshCmd": "cat(var_dic_list()) "
    }
   },
   "types_to_exclude": [
    "module",
    "function",
    "builtin_function_or_method",
    "instance",
    "_Feature"
   ],
   "window_display": false
  }
 },
 "nbformat": 4,
 "nbformat_minor": 4
}
