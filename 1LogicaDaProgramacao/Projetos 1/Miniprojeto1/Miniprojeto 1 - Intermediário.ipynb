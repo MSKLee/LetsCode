{
 "cells": [
  {
   "cell_type": "code",
   "execution_count": 6,
   "metadata": {},
   "outputs": [],
   "source": [
    "data1 = [[61089667146, 'Conservador', (5100., 3800., 1600., 200.)],\n",
    " [47795509468, 'Conservador', (4600., 3200., 1400., 200.)],\n",
    " [60899885693, 'Conservador', (5300., 3700., 1500., 200.)],\n",
    " [49475220139, 'Moderado', (6200., 2900., 4300., 1300.)],\n",
    " [52245218531, 'Moderado', (5100., 2500., 3000., 1100.)],\n",
    " [50932926697, 'Moderado', (5700., 2800., 4100., 1300.)],\n",
    " [58529878272, 'Agressivo', (6500., 3000., 5200., 2000.)],\n",
    " [76005896622, 'Agressivo', (6200., 3400., 5400., 2300.)],\n",
    " [49212614633, 'Agressivo', (5900., 3000., 5100., 1800.)]]\n",
    "\n",
    "no_class1 = [[45926320819, '', (5800., 4000., 1200., 200.)],            \n",
    " [68518284363, '', (5000., 2000., 3500., 1000.)],\n",
    " [64703873108, '', (6000., 2200., 5000., 1500.)]]"
   ]
  },
  {
   "cell_type": "code",
   "execution_count": 4,
   "metadata": {},
   "outputs": [],
   "source": [
    "# Função Distância\n",
    "\n",
    "def distancia(a, b, c):\n",
    "    c.append(sum([(x - y) ** 2 for x, y in zip(a, b)]) ** (1/2))"
   ]
  },
  {
   "cell_type": "code",
   "execution_count": 35,
   "metadata": {},
   "outputs": [],
   "source": [
    "# Função Menores\n",
    "\n",
    "def menores(e):\n",
    "    menores_dist = list(e)[:3]\n",
    "    print(menores_dist)"
   ]
  },
  {
   "cell_type": "code",
   "execution_count": 20,
   "metadata": {},
   "outputs": [
    {
     "name": "stdout",
     "output_type": "stream",
     "text": [
      "{0: [61089667146, 'Conservador', (5100.0, 3800.0, 1600.0, 200.0)], 1: [47795509468, 'Conservador', (4600.0, 3200.0, 1400.0, 200.0)], 2: [60899885693, 'Conservador', (5300.0, 3700.0, 1500.0, 200.0)], 3: [49475220139, 'Moderado', (6200.0, 2900.0, 4300.0, 1300.0)], 4: [52245218531, 'Moderado', (5100.0, 2500.0, 3000.0, 1100.0)], 5: [50932926697, 'Moderado', (5700.0, 2800.0, 4100.0, 1300.0)], 6: [58529878272, 'Agressivo', (6500.0, 3000.0, 5200.0, 2000.0)], 7: [76005896622, 'Agressivo', (6200.0, 3400.0, 5400.0, 2300.0)], 8: [49212614633, 'Agressivo', (5900.0, 3000.0, 5100.0, 1800.0)]}\n"
     ]
    }
   ],
   "source": [
    "# Transformando data1 em dicionário\n",
    "\n",
    "dicionario_data1 = {}\n",
    "\n",
    "for indice1, perfil1 in enumerate(data1):\n",
    "    dicionario_data1[indice1] = perfil1\n",
    "print(dicionario_data1)"
   ]
  },
  {
   "cell_type": "code",
   "execution_count": 31,
   "metadata": {},
   "outputs": [
    {
     "name": "stdout",
     "output_type": "stream",
     "text": [
      "[830.6623862918075, 1456.0219778561036, 655.7438524302, 3491.4180500192183, 2605.7628441590764, 3327.160951922825, 4553.020975132884, 4750.789408087881, 4333.58973600409]\n"
     ]
    }
   ],
   "source": [
    "# Para conferência\n",
    "\n",
    "i = 0\n",
    "dist = [] # Lista com distâncias\n",
    "\n",
    "\n",
    "for i in range(len(data1)):\n",
    "    distancia(data1[i][2], no_class1[0][2], dist)\n",
    "\n",
    "print(dist)"
   ]
  },
  {
   "cell_type": "code",
   "execution_count": 120,
   "metadata": {},
   "outputs": [
    {
     "name": "stdout",
     "output_type": "stream",
     "text": [
      "Dicionário das Distâncias em ordem:  {2: 655.7438524302, 13: 721.1102550927978, 0: 830.6623862918075, 26: 866.0254037844386, 21: 1029.5630140987, 24: 1086.2780491200215, 23: 1140.175425099138, 14: 1256.9805089976535, 1: 1456.0219778561036, 25: 1509.96688705415, 12: 1726.2676501632068, 17: 2238.302928559939, 22: 2249.4443758403986, 10: 2578.7593916455253, 4: 2605.7628441590764, 15: 2672.0778431774775, 9: 2738.6127875258308, 11: 2760.4347483684523, 16: 2949.5762407505254, 5: 3327.160951922825, 3: 3491.4180500192183, 18: 4076.763422127902, 20: 4084.1155713324274, 19: 4196.427051671458, 8: 4333.58973600409, 6: 4553.020975132884, 7: 4750.789408087881}\n"
     ]
    },
    {
     "data": {
      "text/plain": [
       "[2, 13, 0]"
      ]
     },
     "execution_count": 120,
     "metadata": {},
     "output_type": "execute_result"
    }
   ],
   "source": [
    "i = 0\n",
    "j = 0\n",
    "k = 3\n",
    "dist = [] # Lista com distâncias\n",
    "dicionario_distancia = {} # Dicionário com distâncias\n",
    "\n",
    "dicionario_data1 = {} # Transformando Lista 'Data' em Dicionário\n",
    "for indice1, perfil1 in enumerate(data1):\n",
    "    dicionario_data1[indice1] = perfil1\n",
    "    \n",
    "dicionario_no_class1 = {} # Transformando Lista 'no_class' em Dicionário\n",
    "for indice2, perfil2 in enumerate(no_class1):\n",
    "    dicionario_no_class1[indice2] = perfil2\n",
    "\n",
    "# Função Distância\n",
    "def distancia(a, b, c):\n",
    "    c.append(sum([(x - y) ** 2 for x, y in zip(a, b)]) ** (1/2))\n",
    "    \n",
    "    \n",
    "# Função de Moda\n",
    "\n",
    "# Função de Moda\n",
    "\n",
    "def moda(e):\n",
    "    repeticao = 0\n",
    "    num = e[0]\n",
    "      \n",
    "    for i in e:\n",
    "        frequencia = e.count(i)\n",
    "        if(frequencia> repeticao):\n",
    "            repeticao = frequencia\n",
    "            num = i\n",
    "  \n",
    "    return num\n",
    "    \n",
    "\n",
    "\n",
    "for j in range(len(no_class1)):\n",
    "    for i in range(len(data1)):\n",
    "        distancia(data1[i][2], no_class1[j][2], dist)\n",
    "        \n",
    "multiplo = int(len(dist)/len(no_class1))\n",
    "\n",
    "subdist = [dist[n:n+multiplo] for n in range(0, len(dist), multiplo)]\n",
    "\n",
    "\n",
    "for indice3, numero in enumerate(dist):\n",
    "    dicionario_distancia[indice3] = numero\n",
    "\n",
    "\n",
    "dicionario_dist_ordenado = dict(sorted(dicionario_distancia.items(), key=lambda item: item[1]))\n",
    "\n",
    "print('Dicionário das Distâncias em ordem: ' , dicionario_dist_ordenado)\n",
    "\n",
    "menores_dist = list(dicionario_dist_ordenado)[:k]\n",
    "\n",
    "menores_dist"
   ]
  },
  {
   "cell_type": "markdown",
   "metadata": {},
   "source": [
    "# Falta Acrescentar a classe para o dicionário do no_class1"
   ]
  },
  {
   "cell_type": "code",
   "execution_count": 85,
   "metadata": {},
   "outputs": [
    {
     "data": {
      "text/plain": [
       "[2, 13, 0]"
      ]
     },
     "execution_count": 85,
     "metadata": {},
     "output_type": "execute_result"
    }
   ],
   "source": [
    "# Seleção dos 3 primeiros K\n",
    "\n",
    "menores_dist = list(dicionario_dist_ordenado)[:k]\n",
    "\n",
    "menores_dist"
   ]
  },
  {
   "cell_type": "code",
   "execution_count": 121,
   "metadata": {},
   "outputs": [
    {
     "name": "stdout",
     "output_type": "stream",
     "text": [
      "['Conservador', 'Moderado', 'Conservador']\n"
     ]
    },
    {
     "data": {
      "text/plain": [
       "'Conservador'"
      ]
     },
     "execution_count": 121,
     "metadata": {},
     "output_type": "execute_result"
    }
   ],
   "source": [
    "# Achando os perfis mais pertos\n",
    "\n",
    "m = 0\n",
    "classe = []\n",
    "\n",
    "for m in menores_dist:\n",
    "    classe.append(dicionario_data1[round(m/len(no_class1))][1])\n",
    "print(classe)\n",
    "\n",
    "moda(classe)"
   ]
  },
  {
   "cell_type": "code",
   "execution_count": null,
   "metadata": {},
   "outputs": [],
   "source": []
  },
  {
   "cell_type": "code",
   "execution_count": 87,
   "metadata": {},
   "outputs": [
    {
     "name": "stdout",
     "output_type": "stream",
     "text": [
      "9\n"
     ]
    }
   ],
   "source": [
    "print(multiplo)"
   ]
  },
  {
   "cell_type": "code",
   "execution_count": 67,
   "metadata": {},
   "outputs": [
    {
     "data": {
      "text/plain": [
       "27"
      ]
     },
     "execution_count": 67,
     "metadata": {},
     "output_type": "execute_result"
    }
   ],
   "source": [
    "len(dicionario_dist_ordenado)"
   ]
  },
  {
   "cell_type": "code",
   "execution_count": 91,
   "metadata": {},
   "outputs": [
    {
     "name": "stdout",
     "output_type": "stream",
     "text": [
      "{0: [45926320819, '', (5800.0, 4000.0, 1200.0, 200.0)], 1: [68518284363, '', (5000.0, 2000.0, 3500.0, 1000.0)], 2: [64703873108, '', (6000.0, 2200.0, 5000.0, 1500.0)]}\n"
     ]
    }
   ],
   "source": [
    "print(dicionario_no_class1)"
   ]
  },
  {
   "cell_type": "code",
   "execution_count": 90,
   "metadata": {},
   "outputs": [
    {
     "name": "stdout",
     "output_type": "stream",
     "text": [
      "45926320819\n",
      "45926320819\n",
      "45926320819\n"
     ]
    }
   ],
   "source": [
    "# Identificando qual é o elemento do no_class\n",
    "\n",
    "n = 0\n",
    "\n",
    "for m in menores_dist:\n",
    "    print(dicionario_no_class1[round(n/multiplo)][0])"
   ]
  },
  {
   "cell_type": "code",
   "execution_count": null,
   "metadata": {},
   "outputs": [],
   "source": [
    "m = 0\n",
    "\n",
    "for m in menores_dist:\n",
    "    print(dicionario_data1[round(m/len(no_class1))][1])\n",
    "    \n",
    "n = 0\n",
    "\n",
    "for m in menores_dist:\n",
    "    print(dicionario_no_class1[round(n/multiplo)][0])"
   ]
  },
  {
   "cell_type": "code",
   "execution_count": 93,
   "metadata": {},
   "outputs": [
    {
     "ename": "SyntaxError",
     "evalue": "invalid syntax (<ipython-input-93-10af5e7ffd09>, line 2)",
     "output_type": "error",
     "traceback": [
      "\u001b[0;36m  File \u001b[0;32m\"<ipython-input-93-10af5e7ffd09>\"\u001b[0;36m, line \u001b[0;32m2\u001b[0m\n\u001b[0;31m    item 'duck', count 2, minind 1\u001b[0m\n\u001b[0m         ^\u001b[0m\n\u001b[0;31mSyntaxError\u001b[0m\u001b[0;31m:\u001b[0m invalid syntax\n"
     ]
    }
   ],
   "source": []
  },
  {
   "cell_type": "code",
   "execution_count": 119,
   "metadata": {},
   "outputs": [],
   "source": [
    "# Função de Moda\n",
    "\n",
    "def moda(e):\n",
    "    repeticao = 0\n",
    "    num = e[0]\n",
    "      \n",
    "    for i in e:\n",
    "        frequencia = e.count(i)\n",
    "        if(frequencia> repeticao):\n",
    "            repeticao = frequencia\n",
    "            num = i\n",
    "  \n",
    "    return num\n",
    "  \n"
   ]
  },
  {
   "cell_type": "code",
   "execution_count": 104,
   "metadata": {},
   "outputs": [
    {
     "name": "stdout",
     "output_type": "stream",
     "text": [
      "2\n"
     ]
    }
   ],
   "source": [
    "e = [2, 1, 2, 2, 1, 3]\n",
    "print(moda(e))"
   ]
  },
  {
   "cell_type": "code",
   "execution_count": 26,
   "metadata": {},
   "outputs": [],
   "source": [
    "# Função ordenar pode não estar certo\n",
    "\n",
    "def ordenar(f):\n",
    "\n",
    "    for i in range(len(subdist)):\n",
    "        for indice4, numero2 in enumerate(subdist[i]):\n",
    "           dicionario_distancia2[indice4] = numero2\n",
    "        dicionario_dist_ordenado1 = dict(sorted(dicionario_distancia2.items(), key=lambda item: item[1]))\n",
    "        #print(dicionario_dist_ordenado1)\n",
    "        menores_dist1 = list(dicionario_dist_ordenado1)[:k]   \n",
    "        return menores_dist1"
   ]
  },
  {
   "cell_type": "code",
   "execution_count": 6,
   "metadata": {},
   "outputs": [
    {
     "name": "stdout",
     "output_type": "stream",
     "text": [
      "Dicionário das Distâncias em ordem:  {0: [830.6623862918075, 1456.0219778561036, 655.7438524302, 3491.4180500192183, 2605.7628441590764, 3327.160951922825, 4553.020975132884, 4750.789408087881, 4333.58973600409], 1: [2738.6127875258308, 2578.7593916455253, 2760.4347483684523, 1726.2676501632068, 721.1102550927978, 1256.9805089976535, 2672.0778431774775, 2949.5762407505254, 2238.302928559939], 2: [4076.763422127902, 4196.427051671458, 4084.1155713324274, 1029.5630140987, 2249.4443758403986, 1140.175425099138, 1086.2780491200215, 1509.96688705415, 866.0254037844386]}\n"
     ]
    },
    {
     "data": {
      "text/plain": [
       "[0, 1, 2]"
      ]
     },
     "execution_count": 6,
     "metadata": {},
     "output_type": "execute_result"
    }
   ],
   "source": [
    "i = 0\n",
    "j = 0\n",
    "k = 3\n",
    "dist = [] # Lista com distâncias\n",
    "dicionario_distancia = {} # Dicionário com distâncias\n",
    "\n",
    "dicionario_data1 = {} # Transformando Lista 'Data' em Dicionário\n",
    "for indice1, perfil1 in enumerate(data1):\n",
    "    dicionario_data1[indice1] = perfil1\n",
    "    \n",
    "dicionario_no_class1 = {} # Transformando Lista 'no_class' em Dicionário\n",
    "for indice2, perfil2 in enumerate(no_class1):\n",
    "    dicionario_no_class1[indice2] = perfil2\n",
    "\n",
    "# Função Distância\n",
    "def distancia(a, b, c):\n",
    "    c.append(sum([(x - y) ** 2 for x, y in zip(a, b)]) ** (1/2))\n",
    "    \n",
    "    \n",
    "\n",
    "\n",
    "# Função de Moda\n",
    "\n",
    "def moda(e):\n",
    "    repeticao = 0\n",
    "    num = e[0]\n",
    "      \n",
    "    for i in e:\n",
    "        frequencia = e.count(i)\n",
    "        if(frequencia> repeticao):\n",
    "            repeticao = frequencia\n",
    "            num = i\n",
    "  \n",
    "    return num\n",
    "    \n",
    "\n",
    "\n",
    "for j in range(len(no_class1)):\n",
    "    for i in range(len(data1)):\n",
    "        distancia(data1[i][2], no_class1[j][2], dist)\n",
    "        \n",
    "multiplo = int(len(dist)/len(no_class1))\n",
    "\n",
    "subdist = [dist[n:n+multiplo] for n in range(0, len(dist), multiplo)]\n",
    "\n",
    "\n",
    "for indice3, numero1 in enumerate(subdist):\n",
    "    dicionario_distancia[indice3] = numero1\n",
    "\n",
    "#for indice4, numero2 in enumerate(subdist[i]):\n",
    "#   dicionario_distancia2[indice4] = numero2\n",
    "    \n",
    "    \n",
    "dicionario_dist_ordenado = dict(sorted(dicionario_distancia.items(), key=lambda item: item[0]))\n",
    "\n",
    "print('Dicionário das Distâncias em ordem: ' , dicionario_dist_ordenado)\n",
    "\n",
    "menores_dist = list(dicionario_dist_ordenado)[:k]\n",
    "\n",
    "menores_dist"
   ]
  },
  {
   "cell_type": "code",
   "execution_count": 7,
   "metadata": {},
   "outputs": [
    {
     "name": "stdout",
     "output_type": "stream",
     "text": [
      "[[830.6623862918075, 1456.0219778561036, 655.7438524302, 3491.4180500192183, 2605.7628441590764, 3327.160951922825, 4553.020975132884, 4750.789408087881, 4333.58973600409], [2738.6127875258308, 2578.7593916455253, 2760.4347483684523, 1726.2676501632068, 721.1102550927978, 1256.9805089976535, 2672.0778431774775, 2949.5762407505254, 2238.302928559939], [4076.763422127902, 4196.427051671458, 4084.1155713324274, 1029.5630140987, 2249.4443758403986, 1140.175425099138, 1086.2780491200215, 1509.96688705415, 866.0254037844386]]\n"
     ]
    }
   ],
   "source": [
    "print(subdist)"
   ]
  },
  {
   "cell_type": "code",
   "execution_count": 63,
   "metadata": {
    "scrolled": true
   },
   "outputs": [
    {
     "name": "stdout",
     "output_type": "stream",
     "text": [
      "{2: 655.7438524302, 0: 830.6623862918075, 1: 1456.0219778561036, 4: 2605.7628441590764, 5: 3327.160951922825, 3: 3491.4180500192183, 8: 4333.58973600409, 6: 4553.020975132884, 7: 4750.789408087881}\n",
      "[2, 0, 1]\n",
      "['Conservador', 'Conservador', 'Conservador']\n",
      "A classe do CPF é:  Conservador\n",
      "{4: 721.1102550927978, 5: 1256.9805089976535, 3: 1726.2676501632068, 8: 2238.302928559939, 1: 2578.7593916455253, 6: 2672.0778431774775, 0: 2738.6127875258308, 2: 2760.4347483684523, 7: 2949.5762407505254}\n",
      "[4, 5, 3]\n",
      "['Conservador', 'Conservador', 'Conservador', 'Conservador', 'Conservador', 'Conservador']\n",
      "A classe do CPF é:  Conservador\n",
      "{8: 866.0254037844386, 3: 1029.5630140987, 6: 1086.2780491200215, 5: 1140.175425099138, 7: 1509.96688705415, 4: 2249.4443758403986, 0: 4076.763422127902, 2: 4084.1155713324274, 1: 4196.427051671458}\n",
      "[8, 3, 6]\n",
      "['Conservador', 'Conservador', 'Conservador', 'Conservador', 'Conservador', 'Conservador', 'Moderado', 'Conservador', 'Conservador']\n",
      "A classe do CPF é:  Conservador\n"
     ]
    }
   ],
   "source": [
    "# Modelo de como já identificar o perfil de cada CPF\n",
    "\n",
    "dicionario_distancia2 = {}\n",
    "m = 0\n",
    "classe1 = []\n",
    "\n",
    "for i in range(len(subdist)):\n",
    "    for indice4, numero2 in enumerate(subdist[i]):\n",
    "       dicionario_distancia2[indice4] = numero2\n",
    "    dicionario_dist_ordenado1 = dict(sorted(dicionario_distancia2.items(), key=lambda item: item[1]))\n",
    "    print(dicionario_dist_ordenado1)\n",
    "    menores_dist1 = list(dicionario_dist_ordenado1)[:k]\n",
    "\n",
    "    print(menores_dist1)\n",
    "    \n",
    "    for m in menores_dist1:\n",
    "        classe1.append(dicionario_data1[round(m/len(no_class1))][1])\n",
    "    print(classe1)\n",
    "\n",
    "    print('A classe do CPF é: ', moda(classe1))"
   ]
  },
  {
   "cell_type": "code",
   "execution_count": 61,
   "metadata": {},
   "outputs": [
    {
     "ename": "IndentationError",
     "evalue": "unexpected indent (<ipython-input-61-e2030f3e2307>, line 4)",
     "output_type": "error",
     "traceback": [
      "\u001b[0;36m  File \u001b[0;32m\"<ipython-input-61-e2030f3e2307>\"\u001b[0;36m, line \u001b[0;32m4\u001b[0m\n\u001b[0;31m    for m in menores_dist1:\u001b[0m\n\u001b[0m    ^\u001b[0m\n\u001b[0;31mIndentationError\u001b[0m\u001b[0;31m:\u001b[0m unexpected indent\n"
     ]
    }
   ],
   "source": [
    "\n",
    "\n"
   ]
  },
  {
   "cell_type": "code",
   "execution_count": 33,
   "metadata": {},
   "outputs": [
    {
     "name": "stdout",
     "output_type": "stream",
     "text": [
      "{2: 655.7438524302, 0: 830.6623862918075, 1: 1456.0219778561036, 4: 2605.7628441590764, 5: 3327.160951922825, 3: 3491.4180500192183, 8: 4333.58973600409, 6: 4553.020975132884, 7: 4750.789408087881}\n",
      "[2, 0, 1]\n",
      "['Conservador', 'Conservador', 'Conservador']\n",
      "A classe do CPF é:  Conservador\n",
      "{4: 721.1102550927978, 5: 1256.9805089976535, 3: 1726.2676501632068, 8: 2238.302928559939, 1: 2578.7593916455253, 6: 2672.0778431774775, 0: 2738.6127875258308, 2: 2760.4347483684523, 7: 2949.5762407505254}\n",
      "[4, 5, 3]\n",
      "['Conservador', 'Conservador', 'Conservador', 'Conservador', 'Conservador', 'Conservador']\n",
      "A classe do CPF é:  Conservador\n",
      "{8: 866.0254037844386, 3: 1029.5630140987, 6: 1086.2780491200215, 5: 1140.175425099138, 7: 1509.96688705415, 4: 2249.4443758403986, 0: 4076.763422127902, 2: 4084.1155713324274, 1: 4196.427051671458}\n",
      "[8, 3, 6]\n",
      "['Conservador', 'Conservador', 'Conservador', 'Conservador', 'Conservador', 'Conservador', 'Moderado', 'Conservador', 'Conservador']\n",
      "A classe do CPF é:  Conservador\n"
     ]
    }
   ],
   "source": [
    "i = 0\n",
    "j = 0\n",
    "k = 3\n",
    "dist = [] # Lista com distâncias\n",
    "dicionario_distancia = {} # Dicionário com distâncias\n",
    "\n",
    "dicionario_data1 = {} # Transformando Lista 'Data' em Dicionário\n",
    "for indice1, perfil1 in enumerate(data1):\n",
    "    dicionario_data1[indice1] = perfil1\n",
    "    \n",
    "dicionario_no_class1 = {} # Transformando Lista 'no_class' em Dicionário\n",
    "for indice2, perfil2 in enumerate(no_class1):\n",
    "    dicionario_no_class1[indice2] = perfil2\n",
    "\n",
    "# Função Distância\n",
    "def distancia(a, b, c):\n",
    "    c.append(sum([(x - y) ** 2 for x, y in zip(a, b)]) ** (1/2))\n",
    "    \n",
    "    \n",
    "\n",
    "\n",
    "# Função de Moda\n",
    "\n",
    "def moda(e):\n",
    "    repeticao = 0\n",
    "    num = e[0]\n",
    "      \n",
    "    for i in e:\n",
    "        frequencia = e.count(i)\n",
    "        if(frequencia> repeticao):\n",
    "            repeticao = frequencia\n",
    "            num = i\n",
    "  \n",
    "    return num\n",
    "    \n",
    "\n",
    "\n",
    "for j in range(len(no_class1)):\n",
    "    for i in range(len(data1)):\n",
    "        distancia(data1[i][2], no_class1[j][2], dist)\n",
    "        \n",
    "multiplo = int(len(dist)/len(no_class1))\n",
    "\n",
    "subdist = [dist[n:n+multiplo] for n in range(0, len(dist), multiplo)]\n",
    "\n",
    "\n",
    "for indice3, numero1 in enumerate(subdist):\n",
    "    dicionario_distancia[indice3] = numero1\n",
    "\n",
    "#for indice4, numero2 in enumerate(subdist[i]):\n",
    "#   dicionario_distancia2[indice4] = numero2\n",
    "    \n",
    "    \n",
    "#dicionario_dist_ordenado = dict(sorted(dicionario_distancia.items(), key=lambda item: item[0]))\n",
    "\n",
    "#print('Dicionário das Distâncias em ordem: ' , dicionario_dist_ordenado)\n",
    "\n",
    "#menores_dist = list(dicionario_dist_ordenado)[:k]\n",
    "\n",
    "#menores_dist\n",
    "\n",
    "\n",
    "dicionario_distancia2 = {}\n",
    "m = 0\n",
    "classe1 = []\n",
    "\n",
    "for i in range(len(subdist)):\n",
    "    for indice4, numero2 in enumerate(subdist[i]):\n",
    "       dicionario_distancia2[indice4] = numero2\n",
    "    dicionario_dist_ordenado1 = dict(sorted(dicionario_distancia2.items(), key=lambda item: item[1]))\n",
    "    print(dicionario_dist_ordenado1)\n",
    "    menores_dist1 = list(dicionario_dist_ordenado1)[:k]\n",
    "\n",
    "    print(menores_dist1)\n",
    "    \n",
    "    for m in menores_dist1:\n",
    "        classe1.append(dicionario_data1[round(m/len(no_class1))][1])\n",
    "    print(classe1)\n",
    "    \n",
    "\n",
    "    print('A classe do CPF é: ', moda(classe1))"
   ]
  },
  {
   "cell_type": "code",
   "execution_count": 53,
   "metadata": {},
   "outputs": [
    {
     "name": "stdout",
     "output_type": "stream",
     "text": [
      "[2, 0, 1]\n",
      "[4, 5, 3]\n",
      "[8, 3, 6]\n",
      "['Conservador', 'Conservador', 'Conservador', 'Moderado', 'Moderado', 'Moderado', 'Agressivo', 'Moderado', 'Agressivo']\n",
      "[['Conservador', 'Conservador', 'Conservador'], ['Moderado', 'Moderado', 'Moderado'], ['Agressivo', 'Moderado', 'Agressivo']]\n",
      "A classe do CPF é:  Conservador\n",
      "A classe do CPF é:  Moderado\n",
      "A classe do CPF é:  Agressivo\n"
     ]
    }
   ],
   "source": [
    "i = 0\n",
    "j = 0\n",
    "k = 3\n",
    "m = 0\n",
    "dist = [] # Lista com distâncias\n",
    "dicionario_distancia = {} # Dicionário com distâncias\n",
    "dicionario_distancia2 = {}\n",
    "classe1 = []\n",
    "\n",
    "dicionario_data1 = {} # Transformando Lista 'Data' em Dicionário\n",
    "for indice1, perfil1 in enumerate(data1):\n",
    "    dicionario_data1[indice1] = perfil1\n",
    "    \n",
    "dicionario_no_class1 = {} # Transformando Lista 'no_class' em Dicionário\n",
    "for indice2, perfil2 in enumerate(no_class1):\n",
    "    dicionario_no_class1[indice2] = perfil2\n",
    "\n",
    "# Função Distância\n",
    "def distancia(a, b, c):\n",
    "    c.append(sum([(x - y) ** 2 for x, y in zip(a, b)]) ** (1/2))\n",
    "    \n",
    "    \n",
    "\n",
    "\n",
    "# Função de Moda\n",
    "\n",
    "def moda(e):\n",
    "    repeticao = 0\n",
    "    num = e[0]\n",
    "      \n",
    "    for i in e:\n",
    "        frequencia = e.count(i)\n",
    "        if(frequencia> repeticao):\n",
    "            repeticao = frequencia\n",
    "            num = i\n",
    "  \n",
    "    return num\n",
    "\n",
    "\n",
    "def ordenar(f):\n",
    "\n",
    "    for i in range(len(subdist)):\n",
    "        for indice4, numero2 in enumerate(subdist[i]):\n",
    "           dicionario_distancia2[indice4] = numero2\n",
    "        dicionario_dist_ordenado1 = dict(sorted(dicionario_distancia2.items(), key=lambda item: item[1]))\n",
    "        #print(dicionario_dist_ordenado1)\n",
    "        menores_dist1 = list(dicionario_dist_ordenado1)[:k]   \n",
    "        return menores_dist1\n",
    "\n",
    "\n",
    "for j in range(len(no_class1)):\n",
    "    for i in range(len(data1)):\n",
    "        distancia(data1[i][2], no_class1[j][2], dist)\n",
    "        \n",
    "multiplo = int(len(dist)/len(no_class1))\n",
    "\n",
    "subdist = [dist[n:n+multiplo] for n in range(0, len(dist), multiplo)]\n",
    "\n",
    "\n",
    "for indice3, numero1 in enumerate(subdist):\n",
    "    dicionario_distancia[indice3] = numero1\n",
    "    \n",
    "for i in range(len(subdist)):\n",
    "    for indice4, numero2 in enumerate(subdist[i]):\n",
    "       dicionario_distancia2[indice4] = numero2\n",
    "    dicionario_dist_ordenado1 = dict(sorted(dicionario_distancia2.items(), key=lambda item: item[1]))\n",
    "    #print(dicionario_dist_ordenado1)\n",
    "    menores_dist1 = list(dicionario_dist_ordenado1)[:k]   \n",
    "    print(menores_dist1)\n",
    "    \n",
    "\n",
    "    \n",
    "    for m in menores_dist1:\n",
    "        classe1.append(dicionario_data1[m][1])\n",
    " \n",
    "print(classe1)\n",
    "subdist2 = [classe1[n:n+k] for n in range(0, len(classe1), k)]\n",
    "print(subdist2)\n",
    "\n",
    "for perfil3 in subdist2:\n",
    "        moda(perfil3)\n",
    "    \n",
    "    \n",
    "    \n",
    "        print('A classe do CPF é: ', moda(perfil3))"
   ]
  },
  {
   "cell_type": "code",
   "execution_count": 1,
   "metadata": {},
   "outputs": [
    {
     "name": "stdout",
     "output_type": "stream",
     "text": [
      "{'curso': 'Python Pro', 'escola': \"Let's Code\", 'unidade': 'Faria Lima'}\n"
     ]
    }
   ],
   "source": [
    "dicionario = {'curso':'Python Pro', 'escola':\"Let's Code\"}\n",
    "dicionario['unidade'] = 'Faria Lima'\n",
    "print(dicionario)"
   ]
  },
  {
   "cell_type": "code",
   "execution_count": 2,
   "metadata": {},
   "outputs": [
    {
     "name": "stdout",
     "output_type": "stream",
     "text": [
      "curso ---> Python Pro\n",
      "escola ---> Let's Code\n",
      "unidade ---> Faria Lima\n"
     ]
    }
   ],
   "source": [
    "dicionario = {'curso':'Python Pro', 'escola':\"Let's Code\"}\n",
    "dicionario['unidade'] = 'Faria Lima'\n",
    "\n",
    "for chave in dicionario:\n",
    "    print(chave, '--->', dicionario[chave])"
   ]
  },
  {
   "cell_type": "code",
   "execution_count": 3,
   "metadata": {},
   "outputs": [
    {
     "name": "stdout",
     "output_type": "stream",
     "text": [
      "{'escola': \"Let's Code\", 'unidade': 'Faria Lima', 'cursos': ['Python', 'Data Science']}\n"
     ]
    }
   ],
   "source": [
    "dicionario = {'escola':\"Let's Code\", 'unidade':'Faria Lima'}\n",
    "\n",
    "# Neste caso, 'cursos' ainda não existe.\n",
    "# Cairemos no else e será criada uma lista com a string 'Python'.\n",
    "if 'cursos' in dicionario:\n",
    "    dicionario['cursos'].append('Python')\n",
    "else:\n",
    "    dicionario['cursos'] = ['Python']\n",
    "\n",
    "# Agora a chave já existe. \n",
    "# Portanto, será adicionado 'Data Science' à lista. \n",
    "if 'cursos' in dicionario:\n",
    "    dicionario['cursos'].append('Data Science')\n",
    "else:\n",
    "    dicionario['cursos'] = ['Data Science']\n",
    "\n",
    "print(dicionario)"
   ]
  },
  {
   "cell_type": "code",
   "execution_count": 4,
   "metadata": {},
   "outputs": [
    {
     "name": "stdout",
     "output_type": "stream",
     "text": [
      "Aluno a mudar a nota: João\n",
      "Nova nota     : 3\n",
      "{'João': 3.0, 'Maria': 10, 'José': 4}\n"
     ]
    }
   ],
   "source": [
    "notas={'João'   :  9,\n",
    "       'Maria'  : 10,\n",
    "       'José'   : 4  }\n",
    "\n",
    "nome = input(\"Aluno a mudar a nota: \")\n",
    "nota = float(input(\"Nova nota     : \"))\n",
    "\n",
    "if nome in notas.keys():\n",
    "    notas[nome] = nota\n",
    "else:\n",
    "    print(\"Não existe esse aluno\")\n",
    "print(notas)"
   ]
  },
  {
   "cell_type": "code",
   "execution_count": 7,
   "metadata": {},
   "outputs": [
    {
     "ename": "NameError",
     "evalue": "name 'lista_perfis_corretos' is not defined",
     "output_type": "error",
     "traceback": [
      "\u001b[0;31m---------------------------------------------------------------------------\u001b[0m",
      "\u001b[0;31mNameError\u001b[0m                                 Traceback (most recent call last)",
      "\u001b[0;32m<ipython-input-7-2cc4e662edee>\u001b[0m in \u001b[0;36m<module>\u001b[0;34m\u001b[0m\n\u001b[1;32m      2\u001b[0m \u001b[0;34m\u001b[0m\u001b[0m\n\u001b[1;32m      3\u001b[0m \u001b[0;32mfor\u001b[0m \u001b[0mi\u001b[0m \u001b[0;32min\u001b[0m \u001b[0mrange\u001b[0m\u001b[0;34m(\u001b[0m\u001b[0mlen\u001b[0m\u001b[0;34m(\u001b[0m\u001b[0mno_class1\u001b[0m\u001b[0;34m)\u001b[0m\u001b[0;34m)\u001b[0m\u001b[0;34m:\u001b[0m\u001b[0;34m\u001b[0m\u001b[0;34m\u001b[0m\u001b[0m\n\u001b[0;32m----> 4\u001b[0;31m     \u001b[0mdicionario_final\u001b[0m\u001b[0;34m[\u001b[0m\u001b[0mno_class1\u001b[0m\u001b[0;34m[\u001b[0m\u001b[0mi\u001b[0m\u001b[0;34m]\u001b[0m\u001b[0;34m[\u001b[0m\u001b[0;36m0\u001b[0m\u001b[0;34m]\u001b[0m\u001b[0;34m]\u001b[0m \u001b[0;34m=\u001b[0m \u001b[0mlista_perfis_corretos\u001b[0m\u001b[0;34m[\u001b[0m\u001b[0mi\u001b[0m\u001b[0;34m]\u001b[0m\u001b[0;34m\u001b[0m\u001b[0;34m\u001b[0m\u001b[0m\n\u001b[0m\u001b[1;32m      5\u001b[0m \u001b[0mprint\u001b[0m\u001b[0;34m(\u001b[0m\u001b[0mdicionario_final\u001b[0m\u001b[0;34m)\u001b[0m\u001b[0;34m\u001b[0m\u001b[0;34m\u001b[0m\u001b[0m\n",
      "\u001b[0;31mNameError\u001b[0m: name 'lista_perfis_corretos' is not defined"
     ]
    }
   ],
   "source": [
    "dicionario_final = {}\n",
    "\n",
    "for i in range(len(no_class1)):\n",
    "    dicionario_final[no_class1[i][0]] = lista_perfis_corretos[i]\n",
    "print(dicionario_final)"
   ]
  },
  {
   "cell_type": "code",
   "execution_count": 8,
   "metadata": {},
   "outputs": [
    {
     "ename": "NameError",
     "evalue": "name 'data' is not defined",
     "output_type": "error",
     "traceback": [
      "\u001b[0;31m---------------------------------------------------------------------------\u001b[0m",
      "\u001b[0;31mNameError\u001b[0m                                 Traceback (most recent call last)",
      "\u001b[0;32m<ipython-input-8-3bb9a1070b4d>\u001b[0m in \u001b[0;36m<module>\u001b[0;34m\u001b[0m\n\u001b[1;32m     10\u001b[0m \u001b[0;34m\u001b[0m\u001b[0m\n\u001b[1;32m     11\u001b[0m \u001b[0mdicionario_data\u001b[0m \u001b[0;34m=\u001b[0m \u001b[0;34m{\u001b[0m\u001b[0;34m}\u001b[0m \u001b[0;31m# Transformando Lista 'Data' em Dicionário\u001b[0m\u001b[0;34m\u001b[0m\u001b[0;34m\u001b[0m\u001b[0m\n\u001b[0;32m---> 12\u001b[0;31m \u001b[0;32mfor\u001b[0m \u001b[0mindice1\u001b[0m\u001b[0;34m,\u001b[0m \u001b[0mperfil1\u001b[0m \u001b[0;32min\u001b[0m \u001b[0menumerate\u001b[0m\u001b[0;34m(\u001b[0m\u001b[0mdata\u001b[0m\u001b[0;34m)\u001b[0m\u001b[0;34m:\u001b[0m\u001b[0;34m\u001b[0m\u001b[0;34m\u001b[0m\u001b[0m\n\u001b[0m\u001b[1;32m     13\u001b[0m     \u001b[0mdicionario_data\u001b[0m\u001b[0;34m[\u001b[0m\u001b[0mindice1\u001b[0m\u001b[0;34m]\u001b[0m \u001b[0;34m=\u001b[0m \u001b[0mperfil1\u001b[0m\u001b[0;34m\u001b[0m\u001b[0;34m\u001b[0m\u001b[0m\n\u001b[1;32m     14\u001b[0m \u001b[0;34m\u001b[0m\u001b[0m\n",
      "\u001b[0;31mNameError\u001b[0m: name 'data' is not defined"
     ]
    }
   ],
   "source": [
    "i = 0\n",
    "j = 0\n",
    "k = 3\n",
    "m = 0\n",
    "\n",
    "dist = [] # Lista com distâncias\n",
    "dicionario_distancia1 = {} # Dicionário com distâncias\n",
    "dicionario_distancia2 = {}\n",
    "classe1 = [] # Lista com classe mais próximas de cada CPF\n",
    "\n",
    "dicionario_data = {} # Transformando Lista 'Data' em Dicionário\n",
    "for indice1, perfil1 in enumerate(data):\n",
    "    dicionario_data[indice1] = perfil1\n",
    "    \n",
    "dicionario_no_class = {} # Transformando Lista 'no_class' em Dicionário\n",
    "for indice2, perfil2 in enumerate(no_class):\n",
    "    dicionario_no_class[indice2] = perfil2\n",
    "\n",
    "# Função Distância\n",
    "def distancia(a, b, c):\n",
    "    c.append(sum([(x - y) ** 2 for x, y in zip(a, b)]) ** (1/2))\n",
    "\n",
    "\n",
    "# Função de Moda\n",
    "\n",
    "def moda(e):\n",
    "    repeticao = 0\n",
    "    num = e[0]\n",
    "      \n",
    "    for i in e:\n",
    "        frequencia = e.count(i)\n",
    "        if(frequencia> repeticao):\n",
    "            repeticao = frequencia\n",
    "            num = i\n",
    "  \n",
    "    return num\n",
    "    \n",
    "\n",
    "\n",
    "for j in range(len(no_class)):\n",
    "    for i in range(len(data)):\n",
    "        distancia(data[i][2], no_class[j][2], dist)\n",
    "        \n",
    "multiplo = int(len(dist)/len(no_class))\n",
    "\n",
    "subdist = [dist[n:n+multiplo] for n in range(0, len(dist), multiplo)]\n",
    "\n",
    "\n",
    "for indice3, numero1 in enumerate(subdist):\n",
    "    dicionario_distancia1[indice3] = numero1\n",
    "\n",
    "\n",
    "\n",
    "# Modelo de como já identificar o perfil de cada CPF\n",
    "\n",
    "for i in range(len(subdist)):\n",
    "    for indice4, numero2 in enumerate(subdist[i]):\n",
    "        dicionario_distancia2[indice4] = numero2\n",
    "    dicionario_dist_ordenado1 = dict(sorted(dicionario_distancia2.items(), key=lambda item: item[1]))\n",
    "    #print(dicionario_dist_ordenado1)\n",
    "    menores_dist1 = list(dicionario_dist_ordenado1)[:k]\n",
    "\n",
    "    #print(menores_dist1)\n",
    "    \n",
    "    for m in menores_dist1:\n",
    "        classe1.append(dicionario_data[m][1])\n",
    "    #print(classe1)    \n",
    "    subdist2 = [classe1[n:n+k] for n in range(0, len(classe1), k)]\n",
    "    #print(subdist2)\n",
    "\n",
    "for perfil3 in subdist2:\n",
    "    print(moda(perfil3))"
   ]
  },
  {
   "cell_type": "code",
   "execution_count": 9,
   "metadata": {},
   "outputs": [
    {
     "ename": "NameError",
     "evalue": "name 'data' is not defined",
     "output_type": "error",
     "traceback": [
      "\u001b[0;31m---------------------------------------------------------------------------\u001b[0m",
      "\u001b[0;31mNameError\u001b[0m                                 Traceback (most recent call last)",
      "\u001b[0;32m<ipython-input-9-807dd5f1be7b>\u001b[0m in \u001b[0;36m<module>\u001b[0;34m\u001b[0m\n\u001b[1;32m     11\u001b[0m \u001b[0;34m\u001b[0m\u001b[0m\n\u001b[1;32m     12\u001b[0m \u001b[0mdicionario_data\u001b[0m \u001b[0;34m=\u001b[0m \u001b[0;34m{\u001b[0m\u001b[0;34m}\u001b[0m \u001b[0;31m# Transformando Lista 'Data' em Dicionário\u001b[0m\u001b[0;34m\u001b[0m\u001b[0;34m\u001b[0m\u001b[0m\n\u001b[0;32m---> 13\u001b[0;31m \u001b[0;32mfor\u001b[0m \u001b[0mindice1\u001b[0m\u001b[0;34m,\u001b[0m \u001b[0mperfil1\u001b[0m \u001b[0;32min\u001b[0m \u001b[0menumerate\u001b[0m\u001b[0;34m(\u001b[0m\u001b[0mdata\u001b[0m\u001b[0;34m)\u001b[0m\u001b[0;34m:\u001b[0m\u001b[0;34m\u001b[0m\u001b[0;34m\u001b[0m\u001b[0m\n\u001b[0m\u001b[1;32m     14\u001b[0m     \u001b[0mdicionario_data\u001b[0m\u001b[0;34m[\u001b[0m\u001b[0mindice1\u001b[0m\u001b[0;34m]\u001b[0m \u001b[0;34m=\u001b[0m \u001b[0mperfil1\u001b[0m\u001b[0;34m\u001b[0m\u001b[0;34m\u001b[0m\u001b[0m\n\u001b[1;32m     15\u001b[0m \u001b[0;34m\u001b[0m\u001b[0m\n",
      "\u001b[0;31mNameError\u001b[0m: name 'data' is not defined"
     ]
    }
   ],
   "source": [
    "i = 0\n",
    "j = 0\n",
    "k = 3\n",
    "m = 0\n",
    "\n",
    "dist = [] # Lista com distâncias\n",
    "dicionario_distancia1 = {} # Dicionário com distâncias\n",
    "dicionario_distancia2 = {}\n",
    "classe1 = [] # Lista com classe mais próximas de cada CPF\n",
    "lista_perfis_corretos = []\n",
    "\n",
    "dicionario_data = {} # Transformando Lista 'Data' em Dicionário\n",
    "for indice1, perfil1 in enumerate(data):\n",
    "    dicionario_data[indice1] = perfil1\n",
    "    \n",
    "dicionario_no_class = {} # Transformando Lista 'no_class' em Dicionário\n",
    "for indice2, perfil2 in enumerate(no_class):\n",
    "    dicionario_no_class[indice2] = perfil2\n",
    "\n",
    "# Função Distância\n",
    "def distancia(a, b, c):\n",
    "    c.append(sum([(x - y) ** 2 for x, y in zip(a, b)]) ** (1/2))\n",
    "\n",
    "\n",
    "# Função de Moda\n",
    "\n",
    "def moda(e):\n",
    "    repeticao = 0\n",
    "    num = e[0]\n",
    "      \n",
    "    for i in e:\n",
    "        frequencia = e.count(i)\n",
    "        if(frequencia> repeticao):\n",
    "            repeticao = frequencia\n",
    "            num = i\n",
    "  \n",
    "    return num\n",
    "    \n",
    "\n",
    "\n",
    "for j in range(len(no_class)):\n",
    "    for i in range(len(data)):\n",
    "        distancia(data[i][2], no_class[j][2], dist)\n",
    "        \n",
    "multiplo = int(len(dist)/len(no_class))\n",
    "\n",
    "subdist = [dist[n:n+multiplo] for n in range(0, len(dist), multiplo)]\n",
    "\n",
    "\n",
    "for indice3, numero1 in enumerate(subdist):\n",
    "    dicionario_distancia1[indice3] = numero1\n",
    "\n",
    "\n",
    "\n",
    "# Modelo de como já identificar o perfil de cada CPF\n",
    "\n",
    "for i in range(len(subdist)):\n",
    "    for indice4, numero2 in enumerate(subdist[i]):\n",
    "        dicionario_distancia2[indice4] = numero2\n",
    "    dicionario_dist_ordenado1 = dict(sorted(dicionario_distancia2.items(), key=lambda item: item[1]))\n",
    "    menores_dist1 = list(dicionario_dist_ordenado1)[:k]\n",
    "\n",
    "    \n",
    "    for m in menores_dist1:\n",
    "        classe1.append(dicionario_data[m][1])\n",
    "\n",
    "    subdist2 = [classe1[n:n+k] for n in range(0, len(classe1), k)]\n",
    "\n",
    "\n",
    "for perfil3 in subdist2:\n",
    "    lista_perfis_corretos.append(moda(perfil3))\n",
    "# print(lista_perfis_corretos)\n",
    "\n",
    "\n",
    "dicionario_final = {}\n",
    "\n",
    "for i in range(len(no_class)):\n",
    "    dicionario_final[no_class[i][0]] = lista_perfis_corretos[i]\n",
    "print(dicionario_final)"
   ]
  },
  {
   "cell_type": "code",
   "execution_count": null,
   "metadata": {},
   "outputs": [],
   "source": []
  }
 ],
 "metadata": {
  "kernelspec": {
   "display_name": "Python 3",
   "language": "python",
   "name": "python3"
  },
  "language_info": {
   "codemirror_mode": {
    "name": "ipython",
    "version": 3
   },
   "file_extension": ".py",
   "mimetype": "text/x-python",
   "name": "python",
   "nbconvert_exporter": "python",
   "pygments_lexer": "ipython3",
   "version": "3.9.5"
  }
 },
 "nbformat": 4,
 "nbformat_minor": 4
}
