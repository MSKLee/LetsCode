{
 "cells": [
  {
   "cell_type": "markdown",
   "metadata": {},
   "source": [
    "# Programação Orientada a Objetos"
   ]
  },
  {
   "cell_type": "markdown",
   "metadata": {},
   "source": [
    "### Funções\n",
    "\n",
    "- Reutilizar o código (fazemos uma função para códigos que utilizamos mais de uma vez)\n",
    "- Modulariza o nosso código (fica mais fácil de encontrar erros)"
   ]
  },
  {
   "cell_type": "markdown",
   "metadata": {},
   "source": [
    "```\n",
    "\n",
    "def minha_funcao(argumentos):\n",
    "    return alguma_coisa\n",
    "    \n",
    "```"
   ]
  },
  {
   "cell_type": "markdown",
   "metadata": {},
   "source": [
    "Pensando num cenário de banco, onde temos um caixa que fala de um cliente:\n",
    "```\n",
    "\n",
    "def consultar_saldo(cpf_do_cliente):\n",
    "    saldo = consulta_saldo(cpf_do_cliente)\n",
    "    return saldo\n",
    "    \n",
    "```"
   ]
  },
  {
   "cell_type": "markdown",
   "metadata": {},
   "source": [
    "## Formalizando o que é POO\n",
    "\n",
    "É um paradigma de programação (estilo de programar) onde queremos organizar o nosso software (programa) por meio de conceitos do domínio do problema. Por exemplo: no banco temos que esses \"conceitos\"seriam: Cliente, Atendente, Cartão, Cheque, etc.\n",
    "\n",
    "Outros exemplos:\n",
    "- Agência\n",
    "- Investimentos\n",
    "- Ações\n",
    "- Gerente de conta\n",
    "- Seguros\n",
    "- Segurança"
   ]
  },
  {
   "cell_type": "markdown",
   "metadata": {},
   "source": [
    "### Classes e objetos\n",
    "\n",
    "Classe -> Molde\n",
    "\n",
    "Objetos -> Peças"
   ]
  },
  {
   "cell_type": "markdown",
   "metadata": {},
   "source": [
    "**Classes:** Elas são os moldes dos nossos objetos, são o \"conceito\" que vimos na definição de POO. A partir delas, conseguimos gerar vários objetos que compartilham as mesmas características e as mesmas funções\n",
    "\n",
    "**Objeto** é uma instância da classe, ou seja, ele vai ser o resultado depois de sair do \"molde\". Objetos de uma mesma classe tem as mesmas características e as mesmas funções."
   ]
  },
  {
   "cell_type": "markdown",
   "metadata": {},
   "source": [
    "## Criando nossa primeira classe em Python"
   ]
  },
  {
   "cell_type": "code",
   "execution_count": 1,
   "metadata": {},
   "outputs": [],
   "source": [
    "# Colocar a primeira letra da classe em maiúsculo\n",
    "class Cliente():\n",
    "    \n",
    "    # Método construtor\n",
    "    def __init__(self, investimento, perfil):\n",
    "        self.investimento = investimento\n",
    "        self.perfil = perfil"
   ]
  },
  {
   "cell_type": "markdown",
   "metadata": {},
   "source": [
    "## Atributos\n",
    "\n",
    "Os campos de características nós chamamos de atributos"
   ]
  },
  {
   "cell_type": "code",
   "execution_count": 5,
   "metadata": {},
   "outputs": [
    {
     "data": {
      "text/plain": [
       "10"
      ]
     },
     "execution_count": 5,
     "metadata": {},
     "output_type": "execute_result"
    }
   ],
   "source": [
    "pedro = Cliente(10, 'Conservador')\n",
    "pedro.investimento"
   ]
  },
  {
   "cell_type": "code",
   "execution_count": 6,
   "metadata": {},
   "outputs": [],
   "source": [
    "joao = Cliente(100000, 'Agressivo')"
   ]
  },
  {
   "cell_type": "code",
   "execution_count": 7,
   "metadata": {},
   "outputs": [
    {
     "data": {
      "text/plain": [
       "(100000, 'Agressivo')"
      ]
     },
     "execution_count": 7,
     "metadata": {},
     "output_type": "execute_result"
    }
   ],
   "source": [
    "joao.investimento, joao.perfil"
   ]
  },
  {
   "cell_type": "code",
   "execution_count": 8,
   "metadata": {},
   "outputs": [
    {
     "data": {
      "text/plain": [
       "__main__.Cliente"
      ]
     },
     "execution_count": 8,
     "metadata": {},
     "output_type": "execute_result"
    }
   ],
   "source": [
    "type(joao)"
   ]
  },
  {
   "cell_type": "code",
   "execution_count": 10,
   "metadata": {},
   "outputs": [
    {
     "data": {
      "text/plain": [
       "__main__.Cliente"
      ]
     },
     "execution_count": 10,
     "metadata": {},
     "output_type": "execute_result"
    }
   ],
   "source": [
    "type(pedro)"
   ]
  },
  {
   "cell_type": "markdown",
   "metadata": {},
   "source": [
    "## Métodos"
   ]
  },
  {
   "cell_type": "code",
   "execution_count": 11,
   "metadata": {},
   "outputs": [],
   "source": [
    "class Cliente():\n",
    "    \n",
    "    # Método construtor\n",
    "    def __init__(self, investimento, perfil):\n",
    "        self.investimento = investimento\n",
    "        self.perfil = perfil\n",
    "        \n",
    "    # Métodos é o nome que damos para função dentro de uma classe\n",
    "    def quantidade_investimento(self):\n",
    "        if self.perfil == 'Conservador':\n",
    "            return 0.1 * self.investimento\n",
    "        elif self.perfil == 'Moderado':\n",
    "            return 0.5 * self.investimento\n",
    "        else:\n",
    "            return self.investimento"
   ]
  },
  {
   "cell_type": "code",
   "execution_count": 12,
   "metadata": {},
   "outputs": [],
   "source": [
    "pedro = Cliente(10, 'Conservador')\n",
    "joao = Cliente(100000, 'Agressivo')"
   ]
  },
  {
   "cell_type": "code",
   "execution_count": 13,
   "metadata": {},
   "outputs": [
    {
     "data": {
      "text/plain": [
       "('Conservador', 10)"
      ]
     },
     "execution_count": 13,
     "metadata": {},
     "output_type": "execute_result"
    }
   ],
   "source": [
    "pedro.perfil, pedro.investimento"
   ]
  },
  {
   "cell_type": "code",
   "execution_count": 14,
   "metadata": {},
   "outputs": [
    {
     "data": {
      "text/plain": [
       "('Agressivo', 100000)"
      ]
     },
     "execution_count": 14,
     "metadata": {},
     "output_type": "execute_result"
    }
   ],
   "source": [
    "joao.perfil, joao.investimento"
   ]
  },
  {
   "cell_type": "code",
   "execution_count": 16,
   "metadata": {},
   "outputs": [
    {
     "data": {
      "text/plain": [
       "1.0"
      ]
     },
     "execution_count": 16,
     "metadata": {},
     "output_type": "execute_result"
    }
   ],
   "source": [
    "pedro.quantidade_investimento()"
   ]
  },
  {
   "cell_type": "code",
   "execution_count": 18,
   "metadata": {},
   "outputs": [
    {
     "data": {
      "text/plain": [
       "100000"
      ]
     },
     "execution_count": 18,
     "metadata": {},
     "output_type": "execute_result"
    }
   ],
   "source": [
    "joao.quantidade_investimento()"
   ]
  },
  {
   "cell_type": "code",
   "execution_count": 27,
   "metadata": {},
   "outputs": [],
   "source": [
    "class Cliente():\n",
    "    \n",
    "    # Método construtor\n",
    "    def __init__(self, investimento, perfil):\n",
    "        self.investimento = investimento\n",
    "        self.perfil = perfil\n",
    "        \n",
    "    # Métodos é o nome que damos para função dentro de uma classe\n",
    "    def quantidade_investimento(self):\n",
    "        if self.perfil == 'Conservador':\n",
    "            self.carteira_investimento = 0.1 * self.investimento\n",
    "            return self.carteira_investimento\n",
    "        elif self.perfil == 'Moderado':\n",
    "            self.carteira_investimento = 0.5 * self.investimento\n",
    "            return self.carteira_investimento\n",
    "        else:\n",
    "            self.carteira_investimento = self.investimento\n",
    "            return self.carteira_investimento"
   ]
  },
  {
   "cell_type": "code",
   "execution_count": 28,
   "metadata": {},
   "outputs": [],
   "source": [
    "pedro = Cliente(10, 'Conservador')\n",
    "joao = Cliente(100000, 'Agressivo')"
   ]
  },
  {
   "cell_type": "code",
   "execution_count": 29,
   "metadata": {},
   "outputs": [
    {
     "data": {
      "text/plain": [
       "('Conservador', 10)"
      ]
     },
     "execution_count": 29,
     "metadata": {},
     "output_type": "execute_result"
    }
   ],
   "source": [
    "pedro.perfil, pedro.investimento"
   ]
  },
  {
   "cell_type": "code",
   "execution_count": 30,
   "metadata": {},
   "outputs": [
    {
     "data": {
      "text/plain": [
       "('Agressivo', 100000)"
      ]
     },
     "execution_count": 30,
     "metadata": {},
     "output_type": "execute_result"
    }
   ],
   "source": [
    "joao.perfil, joao.investimento"
   ]
  },
  {
   "cell_type": "code",
   "execution_count": 31,
   "metadata": {},
   "outputs": [
    {
     "data": {
      "text/plain": [
       "1.0"
      ]
     },
     "execution_count": 31,
     "metadata": {},
     "output_type": "execute_result"
    }
   ],
   "source": [
    "pedro.quantidade_investimento()"
   ]
  },
  {
   "cell_type": "code",
   "execution_count": 32,
   "metadata": {},
   "outputs": [
    {
     "data": {
      "text/plain": [
       "100000"
      ]
     },
     "execution_count": 32,
     "metadata": {},
     "output_type": "execute_result"
    }
   ],
   "source": [
    "joao.quantidade_investimento()"
   ]
  },
  {
   "cell_type": "code",
   "execution_count": 33,
   "metadata": {},
   "outputs": [
    {
     "data": {
      "text/plain": [
       "1.0"
      ]
     },
     "execution_count": 33,
     "metadata": {},
     "output_type": "execute_result"
    }
   ],
   "source": [
    "pedro.carteira_investimento"
   ]
  },
  {
   "cell_type": "markdown",
   "metadata": {},
   "source": [
    "### EXEMPLO: Pessoa\n",
    "\n",
    "A pessoa deve possuir no mínimo duas características que são: Altura e Peso.\n",
    "\n",
    "Devemos conseguir calcular o IMC de uma pessoa (imc = peso(kg) / (altura ** 2))"
   ]
  },
  {
   "cell_type": "code",
   "execution_count": 44,
   "metadata": {},
   "outputs": [],
   "source": [
    "class Pessoa():\n",
    "    def __init__(self, altura, peso, idade):\n",
    "        self.altura = altura\n",
    "        self.peso = peso\n",
    "        self.idade = idade\n",
    "        self.imc = peso / (altura ** 2)\n",
    "        \n",
    "    def calcular_imc(self):\n",
    "        imc = self.peso / (self.altura ** 2)\n",
    "        return imc"
   ]
  },
  {
   "cell_type": "code",
   "execution_count": 45,
   "metadata": {},
   "outputs": [],
   "source": [
    "Joao = Pessoa(1.9, 80, 26)"
   ]
  },
  {
   "cell_type": "code",
   "execution_count": 46,
   "metadata": {},
   "outputs": [
    {
     "data": {
      "text/plain": [
       "22.1606648199446"
      ]
     },
     "execution_count": 46,
     "metadata": {},
     "output_type": "execute_result"
    }
   ],
   "source": [
    "Joao.calcular_imc()"
   ]
  },
  {
   "cell_type": "code",
   "execution_count": 48,
   "metadata": {},
   "outputs": [
    {
     "data": {
      "text/plain": [
       "22.1606648199446"
      ]
     },
     "execution_count": 48,
     "metadata": {},
     "output_type": "execute_result"
    }
   ],
   "source": [
    "Joao.imc"
   ]
  },
  {
   "cell_type": "code",
   "execution_count": 55,
   "metadata": {},
   "outputs": [],
   "source": [
    "class Pessoa():\n",
    "    def __init__(self, altura, peso, idade):\n",
    "        self.altura = altura\n",
    "        self.peso = peso\n",
    "        self.idade = idade\n",
    "        self.imc = self.calcular_imc()\n",
    "        \n",
    "    def calcular_imc(self):\n",
    "        imc = self.peso / (self.altura ** 2)\n",
    "        return imc"
   ]
  },
  {
   "cell_type": "code",
   "execution_count": 56,
   "metadata": {},
   "outputs": [],
   "source": [
    "Joao = Pessoa(1.9, 80, 26)"
   ]
  },
  {
   "cell_type": "code",
   "execution_count": 58,
   "metadata": {},
   "outputs": [
    {
     "data": {
      "text/plain": [
       "22.1606648199446"
      ]
     },
     "execution_count": 58,
     "metadata": {},
     "output_type": "execute_result"
    }
   ],
   "source": [
    "Joao.calcular_imc()"
   ]
  },
  {
   "cell_type": "code",
   "execution_count": 59,
   "metadata": {},
   "outputs": [
    {
     "data": {
      "text/plain": [
       "22.1606648199446"
      ]
     },
     "execution_count": 59,
     "metadata": {},
     "output_type": "execute_result"
    }
   ],
   "source": [
    "Joao.imc"
   ]
  },
  {
   "cell_type": "code",
   "execution_count": 111,
   "metadata": {},
   "outputs": [],
   "source": [
    "class Pessoa():\n",
    "    def __init__(self, nome, altura, peso, idade, escolaridade, sexo,  especializacoes, estado_civil = 'Solteiro'):\n",
    "        self.nome = nome\n",
    "        self.altura = altura\n",
    "        self.peso = peso\n",
    "        self.idade = idade\n",
    "        self.imc = self.calcular_imc()\n",
    "        self.escolaridade = escolaridade\n",
    "        self.estado_civil = estado_civil\n",
    "        self.sexo = sexo\n",
    "        self.especializacoes = especializacoes\n",
    "        \n",
    "    def calcular_imc(self):\n",
    "        imc = self.peso / (self.altura ** 2)\n",
    "        return imc\n",
    "    \n",
    "    def informacoes_pessoais(self):\n",
    "        print(f'{self.nome}, {self.idade} anos, cursou até {self.escolaridade}, atualmente está {self.estado_civil} e possui IMC de {self.imc}')\n",
    "        \n",
    "        \n",
    "    def conta_especializacoes(self):\n",
    "        return len(self.especializacoes)"
   ]
  },
  {
   "cell_type": "code",
   "execution_count": 105,
   "metadata": {},
   "outputs": [],
   "source": [
    "Joao = Pessoa('Joao', 1.9, 80, 26, 'Ensino superior cursando', 'Masculino', ['Curso de Primeiros Socorros'])"
   ]
  },
  {
   "cell_type": "code",
   "execution_count": 102,
   "metadata": {},
   "outputs": [
    {
     "name": "stdout",
     "output_type": "stream",
     "text": [
      "Joao, 26 anos, cursou até Ensino superior cursando, atualmente está Solteiro e possui IMC de 22.1606648199446\n"
     ]
    }
   ],
   "source": [
    "Joao.informacoes_pessoais()"
   ]
  },
  {
   "cell_type": "code",
   "execution_count": 104,
   "metadata": {},
   "outputs": [],
   "source": [
    "Pedro = Pessoa('Pedro', 1.7, 60, 32, 'Ensino superior completo', 'Masculino', [])"
   ]
  },
  {
   "cell_type": "code",
   "execution_count": 97,
   "metadata": {},
   "outputs": [
    {
     "name": "stdout",
     "output_type": "stream",
     "text": [
      "Pedro, 32 anos, cursou até Ensino superior completo, atualmente está Solteiro e possui IMC de 20.761245674740486\n"
     ]
    }
   ],
   "source": [
    "Pedro.informacoes_pessoais()"
   ]
  },
  {
   "cell_type": "code",
   "execution_count": 106,
   "metadata": {},
   "outputs": [
    {
     "data": {
      "text/plain": [
       "1"
      ]
     },
     "execution_count": 106,
     "metadata": {},
     "output_type": "execute_result"
    }
   ],
   "source": [
    "Joao.conta_especializacoes()"
   ]
  },
  {
   "cell_type": "code",
   "execution_count": 107,
   "metadata": {},
   "outputs": [
    {
     "data": {
      "text/plain": [
       "0"
      ]
     },
     "execution_count": 107,
     "metadata": {},
     "output_type": "execute_result"
    }
   ],
   "source": [
    "Pedro.conta_especializacoes()"
   ]
  },
  {
   "cell_type": "code",
   "execution_count": 108,
   "metadata": {},
   "outputs": [
    {
     "data": {
      "text/plain": [
       "['Curso de Primeiros Socorros']"
      ]
     },
     "execution_count": 108,
     "metadata": {},
     "output_type": "execute_result"
    }
   ],
   "source": [
    "Joao.especializacoes"
   ]
  },
  {
   "cell_type": "code",
   "execution_count": 109,
   "metadata": {},
   "outputs": [
    {
     "data": {
      "text/plain": [
       "[]"
      ]
     },
     "execution_count": 109,
     "metadata": {},
     "output_type": "execute_result"
    }
   ],
   "source": [
    "Pedro.especializacoes"
   ]
  },
  {
   "cell_type": "markdown",
   "metadata": {},
   "source": [
    "### Calculando Taxa de Metabolismo Basal"
   ]
  },
  {
   "cell_type": "code",
   "execution_count": 112,
   "metadata": {},
   "outputs": [
    {
     "ename": "SyntaxError",
     "evalue": "invalid syntax (<ipython-input-112-e64ef075333a>, line 25)",
     "output_type": "error",
     "traceback": [
      "\u001b[0;36m  File \u001b[0;32m\"<ipython-input-112-e64ef075333a>\"\u001b[0;36m, line \u001b[0;32m25\u001b[0m\n\u001b[0;31m    if sexo ==\u001b[0m\n\u001b[0m               ^\u001b[0m\n\u001b[0;31mSyntaxError\u001b[0m\u001b[0;31m:\u001b[0m invalid syntax\n"
     ]
    }
   ],
   "source": [
    "class Pessoa():\n",
    "    def __init__(self, nome, altura, peso, idade, escolaridade, estado_civil, especializacoes):\n",
    "        self.nome = nome\n",
    "        self.altura = altura\n",
    "        self.peso = peso\n",
    "        self.idade = idade\n",
    "        self.imc = self.calcular_imc()\n",
    "        self.escolaridade = escolaridade\n",
    "        self.estado_civil = estado_civil\n",
    "        self.sexo = sexo\n",
    "        self.especializacoes = especializacoes\n",
    "        \n",
    "    def calcular_imc(self):\n",
    "        imc = self.peso / (self.altura ** 2)\n",
    "        return imc\n",
    "    \n",
    "    def informacoes_pessoais(self):\n",
    "        print(f'{self.nome}, {self.idade} anos, cursou até {self.escolaridade}, atualmente está {self.estado_civil} e possui IMC de {self.imc}')\n",
    "        \n",
    "        \n",
    "    def conta_especializacoes(self):\n",
    "        return len(self.especializacoes)\n",
    "    \n",
    "    def calcula_tmb(self, sexo):\n",
    "        if sexo == "
   ]
  },
  {
   "cell_type": "code",
   "execution_count": 110,
   "metadata": {},
   "outputs": [
    {
     "ename": "TypeError",
     "evalue": "__init__() missing 1 required positional argument: 'especializacoes'",
     "output_type": "error",
     "traceback": [
      "\u001b[0;31m---------------------------------------------------------------------------\u001b[0m",
      "\u001b[0;31mTypeError\u001b[0m                                 Traceback (most recent call last)",
      "\u001b[0;32m<ipython-input-110-3004e7bb1218>\u001b[0m in \u001b[0;36m<module>\u001b[0;34m\u001b[0m\n\u001b[0;32m----> 1\u001b[0;31m \u001b[0mJoao\u001b[0m \u001b[0;34m=\u001b[0m \u001b[0mPessoa\u001b[0m\u001b[0;34m(\u001b[0m\u001b[0;34m'Joao'\u001b[0m\u001b[0;34m,\u001b[0m \u001b[0;36m1.9\u001b[0m\u001b[0;34m,\u001b[0m \u001b[0;36m80\u001b[0m\u001b[0;34m,\u001b[0m \u001b[0;36m26\u001b[0m\u001b[0;34m,\u001b[0m \u001b[0;34m'Ensino superior cursando'\u001b[0m\u001b[0;34m,\u001b[0m \u001b[0;34m'Casado'\u001b[0m\u001b[0;34m)\u001b[0m\u001b[0;34m\u001b[0m\u001b[0;34m\u001b[0m\u001b[0m\n\u001b[0m",
      "\u001b[0;31mTypeError\u001b[0m: __init__() missing 1 required positional argument: 'especializacoes'"
     ]
    }
   ],
   "source": [
    "Joao = Pessoa('Joao', 1.9, 80, 26, 'Ensino superior cursando', 'Casado')\n",
    "Maria = Pessoa('Maria', 1.7, 75, 29, 'Ensino superior completo', 'Solteira', ['Curso de primeiros socorros'])"
   ]
  },
  {
   "cell_type": "code",
   "execution_count": null,
   "metadata": {},
   "outputs": [],
   "source": []
  },
  {
   "cell_type": "markdown",
   "metadata": {},
   "source": [
    "## Exercicios\n",
    "\n",
    "1. Crie uma classe Bola cujos atributos são cor e raio. Crie um método para calcular a área dessa bola (obs. a área de uma esfera é  $$4*\\pi*r^2$$). Crie um método que imprime cor da bola. Crie um método para calcular volume da bola (obs. o volume de uma esfera é $(4*\\pi*r^2)/3$). Crie um objeto classe e calcule a área e o volume"
   ]
  },
  {
   "cell_type": "code",
   "execution_count": 113,
   "metadata": {},
   "outputs": [],
   "source": [
    "class Bola():\n",
    "    \n",
    "    def __init__(self, cor, raio):\n",
    "        self.cor = cor\n",
    "        self.raio = raio\n",
    "        self.pi = 3.14\n",
    "        \n",
    "    def calcula_area(self):\n",
    "        return 4 * self.pi * (self.raio ** 2)\n",
    "    \n",
    "    def calcula_volume(self):\n",
    "        return (4 * self.pi * (self.raio ** 3))\n",
    "    \n",
    "    def imprime_cor_bola(self):\n",
    "        return self.cor"
   ]
  },
  {
   "cell_type": "code",
   "execution_count": 114,
   "metadata": {},
   "outputs": [],
   "source": [
    "bola = Bola('vermelha', 3)"
   ]
  },
  {
   "cell_type": "code",
   "execution_count": 119,
   "metadata": {},
   "outputs": [
    {
     "name": "stdout",
     "output_type": "stream",
     "text": [
      "A cor da bola é vermelha\n"
     ]
    }
   ],
   "source": [
    "print(f'A cor da bola é {bola.imprime_cor_bola()}')"
   ]
  },
  {
   "cell_type": "code",
   "execution_count": 120,
   "metadata": {},
   "outputs": [
    {
     "name": "stdout",
     "output_type": "stream",
     "text": [
      "A area da bola é: 37.68/nO volume é: <bound method Bola.calcula_volume of <__main__.Bola object at 0x10ae37220>>\n"
     ]
    }
   ],
   "source": [
    "print(f'A area da bola é: {bola.calcula_area()}/nO volume é: {bola.calcula_volume}')"
   ]
  },
  {
   "cell_type": "code",
   "execution_count": null,
   "metadata": {},
   "outputs": [],
   "source": []
  },
  {
   "cell_type": "code",
   "execution_count": 123,
   "metadata": {},
   "outputs": [],
   "source": [
    "class Retangulo():\n",
    "    \n",
    "    def __init__(self, lado_a, lado_b):\n",
    "        self.lado_a = lado_a\n",
    "        self.lado_b = lado_b\n",
    "        \n",
    "    def calcula_area(self):\n",
    "        \"\"\"\n",
    "        Calcula area do retangulo\n",
    "        \n",
    "        \n",
    "        Args: Nenhum\n",
    "        Retorno: Área do retângulo (float)\n",
    "       \"\"\"\n",
    "        return self.lado_a *self.lado_b\n",
    "\n",
    "    def calcula_perimetro(self):\n",
    "        \"\"\"\n",
    "        Calcula perimetro do retangulo\n",
    "        \n",
    "        Args: Nenhum\n",
    "        Retorno: perimetro do retangulo (float)\n",
    "        \"\"\"\n",
    "\n",
    "        return self.lado_a *2 +  self.lado_b *2"
   ]
  },
  {
   "cell_type": "code",
   "execution_count": 124,
   "metadata": {},
   "outputs": [],
   "source": [
    "ret = Retangulo(2, 2)"
   ]
  },
  {
   "cell_type": "code",
   "execution_count": 125,
   "metadata": {},
   "outputs": [
    {
     "data": {
      "text/plain": [
       "4"
      ]
     },
     "execution_count": 125,
     "metadata": {},
     "output_type": "execute_result"
    }
   ],
   "source": [
    "ret.calcula_area()"
   ]
  },
  {
   "cell_type": "code",
   "execution_count": 126,
   "metadata": {},
   "outputs": [
    {
     "data": {
      "text/plain": [
       "8"
      ]
     },
     "execution_count": 126,
     "metadata": {},
     "output_type": "execute_result"
    }
   ],
   "source": [
    "ret.calcula_perimetro()"
   ]
  },
  {
   "cell_type": "markdown",
   "metadata": {},
   "source": [
    "### Queremos agora criar uma classe para qualquer poligono e calcular o perimetro dele"
   ]
  },
  {
   "cell_type": "code",
   "execution_count": 131,
   "metadata": {},
   "outputs": [],
   "source": [
    "class Poligono():\n",
    "    \"\"\"\n",
    "    \n",
    "    Classe que define um poligono.\n",
    "    \n",
    "    Atributos:\n",
    "    lados: uma lista contendo todos os lados do poligono\n",
    "    \"\"\"\n",
    "    \n",
    "    def __init__(self, lados):\n",
    "        self.lados = lados\n",
    "        \n",
    "    def calcula_perimetro(self):\n",
    "        perimetro = 0\n",
    "        for lado in self.lados:\n",
    "            perimetro += lado\n",
    "        return perimetro"
   ]
  },
  {
   "cell_type": "markdown",
   "metadata": {},
   "source": [
    "[2, 3, 7, 4, 5, 9]\n",
    "\n",
    "\n",
    "- - - - -\n",
    "\n",
    "perimetro = 0\n",
    "lado = 2\n",
    "perimetro = 0 + 2 = 2\n",
    "\n",
    "- - - - -\n",
    "\n",
    "perimetro = 2\n",
    "lado = 3\n",
    "perimetro = 2 + 3 = 5\n",
    "\n",
    "- - - - -\n",
    "\n",
    "perimetro = 5\n",
    "lado = 7\n",
    "perimetro = 5 + 7 = 12\n",
    "\n",
    "- - - - -\n",
    "\n",
    "perimetro = 12\n",
    "lado = 4\n",
    "perimetro = 12 + 4 = 16\n",
    "- - - - -\n",
    "\n",
    "perimetro = 16\n",
    "lado = 5\n",
    "perimetro = 16 + 5 = 21\n",
    "\n",
    "- - - - -\n",
    "\n",
    "perimetro = 21\n",
    "lado = 9\n",
    "perimetro = 21 + 9 = 30\n",
    "\n",
    "- - - - -"
   ]
  },
  {
   "cell_type": "code",
   "execution_count": 132,
   "metadata": {},
   "outputs": [],
   "source": [
    "pentagono = Poligono([4, 6, 90, 20, 100])"
   ]
  },
  {
   "cell_type": "code",
   "execution_count": 133,
   "metadata": {},
   "outputs": [
    {
     "data": {
      "text/plain": [
       "220"
      ]
     },
     "execution_count": 133,
     "metadata": {},
     "output_type": "execute_result"
    }
   ],
   "source": [
    "pentagono.calcula_perimetro()"
   ]
  },
  {
   "cell_type": "code",
   "execution_count": 134,
   "metadata": {},
   "outputs": [],
   "source": [
    "heptagono = Poligono([5, 12, 26, 87, 13, 2, 10])"
   ]
  },
  {
   "cell_type": "code",
   "execution_count": 135,
   "metadata": {},
   "outputs": [
    {
     "data": {
      "text/plain": [
       "155"
      ]
     },
     "execution_count": 135,
     "metadata": {},
     "output_type": "execute_result"
    }
   ],
   "source": [
    "heptagono.calcula_perimetro()"
   ]
  },
  {
   "cell_type": "markdown",
   "metadata": {},
   "source": [
    "3. Crie uma class ContaCorrente com os atributos cliente(que deve ser um objeto da classe Cliente) e saldo. Crie métodos para depósito, saque transferência. Os métodos de saque e transferência devem verificar se é possível realizar a transação."
   ]
  },
  {
   "cell_type": "code",
   "execution_count": 154,
   "metadata": {},
   "outputs": [],
   "source": [
    "class ContaCorrente():\n",
    "\n",
    "    ## Cliente é um objeto da conta cliente\n",
    "    def __init__(self, cliente, saldo):\n",
    "        self.cliente = cliente\n",
    "        self.saldo = saldo\n",
    "        \n",
    "        \n",
    "    def depositar(self, deposito):\n",
    "        self.saldo += deposito\n",
    "        return self.saldo\n",
    "    \n",
    "    def sacar(self, saque):\n",
    "        if self.saldo >= saque:\n",
    "            self.saldo -= saque\n",
    "            return self.saldo\n",
    "        else:\n",
    "            print('Voce esta pobre!')\n",
    "            \n",
    "    ## contato_cc é um objeto da classe conta corrente\n",
    "    def transferir(self, transferencia, contato_cc):\n",
    "        \n",
    "\n",
    "        if self.saldo >= transferencia:\n",
    "            # primeiro, tirar dinheiro da minha conta\n",
    "            self.saldo -= transferencia\n",
    "            #segundo, colocar o dinheiro na conta do contato\n",
    "            contato_cc.saldo += transferencia\n",
    "            return self.saldo\n",
    "\n",
    "        else: \n",
    "            print('Voce esta pobre!')\n",
    "            "
   ]
  },
  {
   "cell_type": "code",
   "execution_count": 137,
   "metadata": {},
   "outputs": [],
   "source": [
    "class Cliente():\n",
    "    \n",
    "    def __init__(self, nome, cpf, telefone):\n",
    "        self.nome = nome\n",
    "        self.cpf = cpf\n",
    "        self.telefone = telefone\n",
    "        \n",
    "        \n",
    "    def visualizar_informacoes(self):\n",
    "        print(f'Nome: {self.nome}\\nCPF: {self.cpf}\\nTelefone: {self.telefone}')"
   ]
  },
  {
   "cell_type": "code",
   "execution_count": 138,
   "metadata": {},
   "outputs": [],
   "source": [
    "joao = Cliente('Joao', '123456789', '198765432')\n",
    "pedro = Cliente('Pedro', '876876654', '234654345')"
   ]
  },
  {
   "cell_type": "code",
   "execution_count": 139,
   "metadata": {},
   "outputs": [
    {
     "name": "stdout",
     "output_type": "stream",
     "text": [
      "Nome: Joao\n",
      "CPF: 123456789\n",
      "Telefone: 198765432\n"
     ]
    }
   ],
   "source": [
    "joao.visualizar_informacoes()"
   ]
  },
  {
   "cell_type": "code",
   "execution_count": 140,
   "metadata": {},
   "outputs": [
    {
     "name": "stdout",
     "output_type": "stream",
     "text": [
      "Nome: Pedro\n",
      "CPF: 876876654\n",
      "Telefone: 234654345\n"
     ]
    }
   ],
   "source": [
    "pedro.visualizar_informacoes()"
   ]
  },
  {
   "cell_type": "code",
   "execution_count": 141,
   "metadata": {},
   "outputs": [],
   "source": [
    "cc_pedro = ContaCorrente(pedro, 1000)\n",
    "cc_joao = ContaCorrente(joao, 600)"
   ]
  },
  {
   "cell_type": "code",
   "execution_count": 142,
   "metadata": {},
   "outputs": [
    {
     "data": {
      "text/plain": [
       "700"
      ]
     },
     "execution_count": 142,
     "metadata": {},
     "output_type": "execute_result"
    }
   ],
   "source": [
    "## Joao depositou 100 reais na sua conta\n",
    "cc_joao.depositar(100)"
   ]
  },
  {
   "cell_type": "code",
   "execution_count": 145,
   "metadata": {},
   "outputs": [
    {
     "data": {
      "text/plain": [
       "800"
      ]
     },
     "execution_count": 145,
     "metadata": {},
     "output_type": "execute_result"
    }
   ],
   "source": [
    "## Pedro sacou 200 reais\n",
    "cc_pedro.sacar(100)"
   ]
  },
  {
   "cell_type": "code",
   "execution_count": 155,
   "metadata": {},
   "outputs": [
    {
     "ename": "AttributeError",
     "evalue": "'ContaCorrente' object has no attribute 'transferir'",
     "output_type": "error",
     "traceback": [
      "\u001b[0;31m---------------------------------------------------------------------------\u001b[0m",
      "\u001b[0;31mAttributeError\u001b[0m                            Traceback (most recent call last)",
      "\u001b[0;32m<ipython-input-155-2e93d045b8d8>\u001b[0m in \u001b[0;36m<module>\u001b[0;34m\u001b[0m\n\u001b[1;32m      1\u001b[0m \u001b[0;31m## Pedro devia 600 reais para Joao, vai fazer uma transferencia\u001b[0m\u001b[0;34m\u001b[0m\u001b[0;34m\u001b[0m\u001b[0;34m\u001b[0m\u001b[0m\n\u001b[1;32m      2\u001b[0m \u001b[0;34m\u001b[0m\u001b[0m\n\u001b[0;32m----> 3\u001b[0;31m \u001b[0mcc_pedro\u001b[0m\u001b[0;34m.\u001b[0m\u001b[0mtransferir\u001b[0m\u001b[0;34m(\u001b[0m\u001b[0;36m600\u001b[0m\u001b[0;34m,\u001b[0m \u001b[0mcc_joao\u001b[0m\u001b[0;34m)\u001b[0m\u001b[0;34m\u001b[0m\u001b[0;34m\u001b[0m\u001b[0m\n\u001b[0m",
      "\u001b[0;31mAttributeError\u001b[0m: 'ContaCorrente' object has no attribute 'transferir'"
     ]
    }
   ],
   "source": [
    "## Pedro devia 600 reais para Joao, vai fazer uma transferencia\n",
    "\n",
    "cc_pedro.transferir(600, cc_joao)"
   ]
  },
  {
   "cell_type": "code",
   "execution_count": null,
   "metadata": {},
   "outputs": [],
   "source": [
    "## Pedro precisou sacar 300 reais para pagar uma conta\n",
    "cc_pedro.sacar(300)"
   ]
  },
  {
   "cell_type": "code",
   "execution_count": 151,
   "metadata": {},
   "outputs": [],
   "source": [
    "nome = 'Pedro'"
   ]
  },
  {
   "cell_type": "code",
   "execution_count": 152,
   "metadata": {},
   "outputs": [
    {
     "data": {
      "text/plain": [
       "'pedro'"
      ]
     },
     "execution_count": 152,
     "metadata": {},
     "output_type": "execute_result"
    }
   ],
   "source": [
    "nome.lower()"
   ]
  },
  {
   "cell_type": "markdown",
   "metadata": {},
   "source": [
    "# Exercícios"
   ]
  },
  {
   "cell_type": "code",
   "execution_count": 34,
   "metadata": {},
   "outputs": [
    {
     "data": {
      "text/plain": [
       "(1256.0, 4186.666666666667)"
      ]
     },
     "execution_count": 34,
     "metadata": {},
     "output_type": "execute_result"
    }
   ],
   "source": [
    "# Exercício 1\n",
    "\n",
    "class Bola:\n",
    "\n",
    "    def __init__ (self, cor, raio):\n",
    "        self.cor = cor\n",
    "        self.raio = raio\n",
    "        self.pi = 3.14\n",
    "        \n",
    "    def cor_da_bola(self):\n",
    "        return self.cor\n",
    "    \n",
    "    def area_da_bola (self):\n",
    "        area = 4 * self.pi * self.raio * self.raio\n",
    "        return area\n",
    "    \n",
    "    def volume_da_bola(self):\n",
    "        volume = 4 * self.pi * self.raio * self.raio * self.raio / 3\n",
    "        return volume\n",
    "    \n",
    "bola1 = Bola('azul', 10)\n",
    "bola1.area_da_bola(), bola1.volume_da_bola()"
   ]
  },
  {
   "cell_type": "code",
   "execution_count": 29,
   "metadata": {},
   "outputs": [],
   "source": [
    "bola1 = Bola('azul', 10)"
   ]
  },
  {
   "cell_type": "code",
   "execution_count": 30,
   "metadata": {},
   "outputs": [
    {
     "data": {
      "text/plain": [
       "'azul'"
      ]
     },
     "execution_count": 30,
     "metadata": {},
     "output_type": "execute_result"
    }
   ],
   "source": [
    "bola1.cor_da_bola()"
   ]
  },
  {
   "cell_type": "code",
   "execution_count": 31,
   "metadata": {},
   "outputs": [
    {
     "data": {
      "text/plain": [
       "1256.0"
      ]
     },
     "execution_count": 31,
     "metadata": {},
     "output_type": "execute_result"
    }
   ],
   "source": [
    "bola1.area_da_bola()"
   ]
  },
  {
   "cell_type": "code",
   "execution_count": 32,
   "metadata": {},
   "outputs": [
    {
     "data": {
      "text/plain": [
       "4186.666666666667"
      ]
     },
     "execution_count": 32,
     "metadata": {},
     "output_type": "execute_result"
    }
   ],
   "source": [
    "bola1.volume_da_bola()"
   ]
  },
  {
   "cell_type": "code",
   "execution_count": 36,
   "metadata": {},
   "outputs": [
    {
     "data": {
      "text/plain": [
       "840"
      ]
     },
     "execution_count": 36,
     "metadata": {},
     "output_type": "execute_result"
    }
   ],
   "source": [
    "# Exercício 2\n",
    "\n",
    "class Retangulo:\n",
    "    \n",
    "    def __init__ (self, lado_a, lado_b):\n",
    "        self.lado_a = lado_a\n",
    "        self.lado_b = lado_b\n",
    "        \n",
    "    def area_retangulo(self):\n",
    "        area = self.lado_a * self.lado_b\n",
    "        return area\n",
    "\n",
    "retangulo1 = Retangulo(42, 20)\n",
    "\n",
    "retangulo1.area_retangulo()"
   ]
  },
  {
   "cell_type": "code",
   "execution_count": 59,
   "metadata": {},
   "outputs": [],
   "source": [
    "# Exercício 3\n",
    "\n",
    "class Funcionario:\n",
    "    \n",
    "\n",
    "    \n",
    "    def __init__(self, nome, email):\n",
    "        self.nome = nome\n",
    "        self.email = email\n",
    "        \n",
    "    def horas_trabalhadas(self, mes, horas):\n",
    "        dicionario1 = {}\n",
    "        dicionario1[mes] = horas\n",
    "        self.mes = mes\n",
    "        self.horas = horas\n",
    "        \n",
    "    def salario_hora(self, salario):\n",
    "        dicionario2 = {}\n",
    "        dicionario2[self.mes] = salario\n",
    "        self.salario = salario\n",
    "        \n",
    "    \n",
    "    def visualizar_informacoes(self):\n",
    "        return f' O funcionário {self.nome} recebeu {self.horas * self.salario} no mês {self.mes}'"
   ]
  },
  {
   "cell_type": "code",
   "execution_count": 60,
   "metadata": {},
   "outputs": [],
   "source": [
    "func1 = Funcionario('Michel', 'mic')"
   ]
  },
  {
   "cell_type": "code",
   "execution_count": 61,
   "metadata": {},
   "outputs": [],
   "source": [
    "func1.horas_trabalhadas(2, 130)"
   ]
  },
  {
   "cell_type": "code",
   "execution_count": 62,
   "metadata": {},
   "outputs": [],
   "source": [
    "func1.salario_hora(40)"
   ]
  },
  {
   "cell_type": "code",
   "execution_count": 63,
   "metadata": {},
   "outputs": [
    {
     "data": {
      "text/plain": [
       "' O funcionário Michel recebeu 5200 no mês 2'"
      ]
     },
     "execution_count": 63,
     "metadata": {},
     "output_type": "execute_result"
    }
   ],
   "source": [
    "func1.visualizar_informacoes()"
   ]
  },
  {
   "cell_type": "code",
   "execution_count": 72,
   "metadata": {},
   "outputs": [],
   "source": [
    "# Exercício 4\n",
    "\n",
    "class Televisor:\n",
    "    def __init__ (self, fabricante, modelo, canal_atual, lista_de_canais, volume):\n",
    "        self.fabricante = fabricante\n",
    "        self.modelo = modelo\n",
    "        self.canal_atual = canal_atual\n",
    "        self.lista_de_canais = lista_de_canais\n",
    "        self.volume = volume\n",
    "        \n",
    "    def Som(self, numero):\n",
    "        volume_final = self.volume + numero\n",
    "        return volume_final\n",
    "        \n",
    "    def Canais(self, numero):\n",
    "        canal_final = self.canal_atual + numero\n",
    "        return canal_final\n",
    "        \n",
    "    def Sintonizar(self, canal):\n",
    "        if canal in self.lista_de_canais:\n",
    "            pass\n",
    "        else:\n",
    "            self.lista_de_canais.append(canal)\n",
    "        return self.lista_de_canais   \n",
    "            "
   ]
  },
  {
   "cell_type": "code",
   "execution_count": 73,
   "metadata": {},
   "outputs": [],
   "source": [
    "tele1 = Televisor('Samsung', 'LED', 3, [1,2,3,4], 2)"
   ]
  },
  {
   "cell_type": "code",
   "execution_count": 74,
   "metadata": {},
   "outputs": [
    {
     "data": {
      "text/plain": [
       "0"
      ]
     },
     "execution_count": 74,
     "metadata": {},
     "output_type": "execute_result"
    }
   ],
   "source": [
    "tele1.Som(-2)"
   ]
  },
  {
   "cell_type": "code",
   "execution_count": 75,
   "metadata": {},
   "outputs": [
    {
     "data": {
      "text/plain": [
       "2"
      ]
     },
     "execution_count": 75,
     "metadata": {},
     "output_type": "execute_result"
    }
   ],
   "source": [
    "tele1.Canais(-1)"
   ]
  },
  {
   "cell_type": "code",
   "execution_count": 76,
   "metadata": {},
   "outputs": [
    {
     "data": {
      "text/plain": [
       "[1, 2, 3, 4, 5]"
      ]
     },
     "execution_count": 76,
     "metadata": {},
     "output_type": "execute_result"
    }
   ],
   "source": [
    "tele1.Sintonizar(5)"
   ]
  },
  {
   "cell_type": "code",
   "execution_count": 70,
   "metadata": {},
   "outputs": [],
   "source": [
    "lista_de_canais = [1, 2, 3, 4]\n",
    "\n",
    "def Canal2(canal):\n",
    "    if canal in lista_de_canais:\n",
    "        pass\n",
    "    else:\n",
    "        lista_de_canais.append(canal)\n",
    "    return lista_de_canais"
   ]
  },
  {
   "cell_type": "code",
   "execution_count": 71,
   "metadata": {},
   "outputs": [
    {
     "data": {
      "text/plain": [
       "[1, 2, 3, 4, 5]"
      ]
     },
     "execution_count": 71,
     "metadata": {},
     "output_type": "execute_result"
    }
   ],
   "source": [
    "Canal2(5)"
   ]
  },
  {
   "cell_type": "code",
   "execution_count": 61,
   "metadata": {},
   "outputs": [
    {
     "data": {
      "text/plain": [
       "True"
      ]
     },
     "execution_count": 61,
     "metadata": {},
     "output_type": "execute_result"
    }
   ],
   "source": [
    "4 in lista_de_canais"
   ]
  },
  {
   "cell_type": "code",
   "execution_count": null,
   "metadata": {},
   "outputs": [],
   "source": []
  }
 ],
 "metadata": {
  "kernelspec": {
   "display_name": "Python 3",
   "language": "python",
   "name": "python3"
  },
  "language_info": {
   "codemirror_mode": {
    "name": "ipython",
    "version": 3
   },
   "file_extension": ".py",
   "mimetype": "text/x-python",
   "name": "python",
   "nbconvert_exporter": "python",
   "pygments_lexer": "ipython3",
   "version": "3.9.5"
  }
 },
 "nbformat": 4,
 "nbformat_minor": 4
}
