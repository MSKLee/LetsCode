{
 "cells": [
  {
   "cell_type": "markdown",
   "metadata": {},
   "source": [
    "# Aula 2 - Variáveis, entradas e saídas"
   ]
  },
  {
   "cell_type": "code",
   "execution_count": 11,
   "metadata": {},
   "outputs": [],
   "source": [
    "x = 20"
   ]
  },
  {
   "cell_type": "code",
   "execution_count": 1,
   "metadata": {},
   "outputs": [],
   "source": [
    "y = 'Luciano'"
   ]
  },
  {
   "cell_type": "markdown",
   "metadata": {},
   "source": [
    "## Tipos de Variáveis"
   ]
  },
  {
   "cell_type": "markdown",
   "metadata": {},
   "source": [
    "* int: números inteiros ou seja, números sem parte decimal\n",
    "* float: números reais, ou seja, números com parte decimal\n",
    "* str: cadeias de caracteres, ou seja, dados textuais\n",
    "* bool: valores lógicos, ou seja, apenas um entre dois valores possíveis"
   ]
  },
  {
   "cell_type": "code",
   "execution_count": 4,
   "metadata": {},
   "outputs": [],
   "source": [
    "idade = 27 # uma variável inteira\n",
    "salario = 5835.87 # decimal no python é \".\" e não vírgula -> variável é do tipo float\n",
    "nome = 'Luciano' # variável tipo string. STRING aspas simples ou aspas duplas\n",
    "nome_alternativa = \"Let's Code\"# variável do tipo string ou str\n",
    "receberNewsletter = True #variável do tipo booleana ATENÇAO: primeira letra maiúscula"
   ]
  },
  {
   "cell_type": "markdown",
   "metadata": {},
   "source": [
    "## Comentários dentro do código"
   ]
  },
  {
   "cell_type": "code",
   "execution_count": 6,
   "metadata": {},
   "outputs": [
    {
     "data": {
      "text/plain": [
       "'\\nO python irá ignorar um bloco de linhas com aspas triplas\\n'"
      ]
     },
     "execution_count": 6,
     "metadata": {},
     "output_type": "execute_result"
    }
   ],
   "source": [
    "# o python usa o # para comentar uma linha, ou seja, o python vai ignorar tudo que vem depois do # nessa linha\n",
    "\n",
    "'''\n",
    "O python irá ignorar um bloco de linhas com aspas triplas\n",
    "'''\n"
   ]
  },
  {
   "cell_type": "markdown",
   "metadata": {},
   "source": [
    "## Saídas"
   ]
  },
  {
   "cell_type": "markdown",
   "metadata": {},
   "source": [
    "Dados gerados pelo programa -> função print"
   ]
  },
  {
   "cell_type": "code",
   "execution_count": 9,
   "metadata": {
    "scrolled": true
   },
   "outputs": [
    {
     "name": "stdout",
     "output_type": "stream",
     "text": [
      "Olá, mundo\n"
     ]
    }
   ],
   "source": [
    "print('Olá, mundo')"
   ]
  },
  {
   "cell_type": "code",
   "execution_count": 12,
   "metadata": {},
   "outputs": [
    {
     "name": "stdout",
     "output_type": "stream",
     "text": [
      "20\n"
     ]
    }
   ],
   "source": [
    "print(x)"
   ]
  },
  {
   "cell_type": "code",
   "execution_count": 13,
   "metadata": {},
   "outputs": [
    {
     "ename": "NameError",
     "evalue": "name 'z' is not defined",
     "output_type": "error",
     "traceback": [
      "\u001b[0;31m---------------------------------------------------------------------------\u001b[0m",
      "\u001b[0;31mNameError\u001b[0m                                 Traceback (most recent call last)",
      "\u001b[0;32m<ipython-input-13-c01ac3f50fdc>\u001b[0m in \u001b[0;36m<module>\u001b[0;34m\u001b[0m\n\u001b[0;32m----> 1\u001b[0;31m \u001b[0mprint\u001b[0m\u001b[0;34m(\u001b[0m\u001b[0mz\u001b[0m\u001b[0;34m)\u001b[0m\u001b[0;34m\u001b[0m\u001b[0;34m\u001b[0m\u001b[0m\n\u001b[0m",
      "\u001b[0;31mNameError\u001b[0m: name 'z' is not defined"
     ]
    }
   ],
   "source": [
    "print(z)"
   ]
  },
  {
   "cell_type": "code",
   "execution_count": 14,
   "metadata": {},
   "outputs": [
    {
     "data": {
      "text/plain": [
       "20"
      ]
     },
     "execution_count": 14,
     "metadata": {},
     "output_type": "execute_result"
    }
   ],
   "source": [
    "# no jupyter não precisa colocar print, se o que for gerado estive na última linha da célula\n",
    "x"
   ]
  },
  {
   "cell_type": "code",
   "execution_count": 15,
   "metadata": {},
   "outputs": [],
   "source": [
    "var1 = 20\n",
    "var2 = 30\n",
    "var3 = 50"
   ]
  },
  {
   "cell_type": "code",
   "execution_count": 16,
   "metadata": {},
   "outputs": [
    {
     "data": {
      "text/plain": [
       "30"
      ]
     },
     "execution_count": 16,
     "metadata": {},
     "output_type": "execute_result"
    }
   ],
   "source": [
    "var2"
   ]
  },
  {
   "cell_type": "code",
   "execution_count": 17,
   "metadata": {},
   "outputs": [
    {
     "data": {
      "text/plain": [
       "30"
      ]
     },
     "execution_count": 17,
     "metadata": {},
     "output_type": "execute_result"
    }
   ],
   "source": [
    "var3\n",
    "var2"
   ]
  },
  {
   "cell_type": "code",
   "execution_count": 18,
   "metadata": {},
   "outputs": [
    {
     "name": "stdout",
     "output_type": "stream",
     "text": [
      "Meu nome é Luciano\n"
     ]
    }
   ],
   "source": [
    "print('Meu nome é', nome) #exemplo de 2 saídas (uma string é uma variável)"
   ]
  },
  {
   "cell_type": "markdown",
   "metadata": {},
   "source": [
    "## Entradas"
   ]
  },
  {
   "cell_type": "markdown",
   "metadata": {},
   "source": [
    "Dados fornecidos pelo usuário (por exemplo, dados pelo teclado) -> função input\n",
    "\n",
    "input() # -> abre um campo para colocar o dado"
   ]
  },
  {
   "cell_type": "code",
   "execution_count": 1,
   "metadata": {},
   "outputs": [
    {
     "name": "stdout",
     "output_type": "stream",
     "text": [
      "2\n"
     ]
    }
   ],
   "source": [
    "z = 2 # atribuindo o valor 2 a variável z -> é um tipo de entrada\n",
    "\n",
    "z = input() # pedindo um dado do teclado"
   ]
  },
  {
   "cell_type": "code",
   "execution_count": 2,
   "metadata": {},
   "outputs": [
    {
     "name": "stdout",
     "output_type": "stream",
     "text": [
      "Digite o seu nome:Luciano\n",
      "Nome digitado é Luciano\n"
     ]
    }
   ],
   "source": [
    "armazenar_nome = input('Digite o seu nome:')\n",
    "\n",
    "print('Nome digitado é', armazenar_nome)"
   ]
  },
  {
   "cell_type": "code",
   "execution_count": 3,
   "metadata": {},
   "outputs": [
    {
     "data": {
      "text/plain": [
       "str"
      ]
     },
     "execution_count": 3,
     "metadata": {},
     "output_type": "execute_result"
    }
   ],
   "source": [
    "type(z)"
   ]
  },
  {
   "cell_type": "markdown",
   "metadata": {},
   "source": [
    "* Tipos de Entrada"
   ]
  },
  {
   "cell_type": "code",
   "execution_count": null,
   "metadata": {},
   "outputs": [],
   "source": [
    "input('Texto') # sempre vai \"vai pegar\" uma string como entrada"
   ]
  },
  {
   "cell_type": "code",
   "execution_count": 4,
   "metadata": {},
   "outputs": [
    {
     "name": "stdout",
     "output_type": "stream",
     "text": [
      "Digite um número30\n",
      "Digite outro número20\n",
      "30 <class 'str'>\n",
      "20 <class 'str'>\n"
     ]
    }
   ],
   "source": [
    "a = input('Digite um número')\n",
    "b= input('Digite outro número')\n",
    "\n",
    "print(a,type(a))\n",
    "print(b, type(b))"
   ]
  },
  {
   "cell_type": "code",
   "execution_count": 6,
   "metadata": {},
   "outputs": [
    {
     "data": {
      "text/plain": [
       "50"
      ]
     },
     "execution_count": 6,
     "metadata": {},
     "output_type": "execute_result"
    }
   ],
   "source": [
    "a + b"
   ]
  },
  {
   "cell_type": "markdown",
   "metadata": {},
   "source": [
    "## Operadores"
   ]
  },
  {
   "cell_type": "code",
   "execution_count": 5,
   "metadata": {},
   "outputs": [
    {
     "name": "stdout",
     "output_type": "stream",
     "text": [
      "Digite um número30\n",
      "Digite um outro número20\n"
     ]
    }
   ],
   "source": [
    "a = int(input('Digite um número'))\n",
    "b = int(input('Digite um outro número'))"
   ]
  },
  {
   "cell_type": "code",
   "execution_count": 10,
   "metadata": {},
   "outputs": [],
   "source": [
    "soma = a + b\n",
    "subtracao = a - b\n",
    "multiplicacao = a * b\n",
    "divisao = a / b\n",
    "divisao_inteira = a // b\n",
    "resto_divisao = a % b\n",
    "potencia = a ** 2"
   ]
  },
  {
   "cell_type": "code",
   "execution_count": 11,
   "metadata": {},
   "outputs": [
    {
     "name": "stdout",
     "output_type": "stream",
     "text": [
      "Soma 50\n",
      "Subtração 10\n",
      "Multiplicação 600\n",
      "Divisão 1.5\n",
      "Divisão inteira 1\n",
      "Resto de Divisão 10\n",
      "Ao Quadrado 900\n"
     ]
    }
   ],
   "source": [
    "print('Soma', soma)\n",
    "print('Subtração', subtracao)\n",
    "print('Multiplicação', multiplicacao)\n",
    "print('Divisão', divisao)\n",
    "print('Divisão inteira', divisao_inteira)\n",
    "print('Resto de Divisão', resto_divisao)\n",
    "print('Ao Quadrado', potencia)"
   ]
  },
  {
   "cell_type": "markdown",
   "metadata": {},
   "source": [
    "## Operadores Lógicos"
   ]
  },
  {
   "cell_type": "markdown",
   "metadata": {},
   "source": [
    "### Operadores Booleanas"
   ]
  },
  {
   "cell_type": "code",
   "execution_count": 12,
   "metadata": {},
   "outputs": [
    {
     "data": {
      "text/plain": [
       "False"
      ]
     },
     "execution_count": 12,
     "metadata": {},
     "output_type": "execute_result"
    }
   ],
   "source": [
    "5 == 3"
   ]
  },
  {
   "cell_type": "code",
   "execution_count": 13,
   "metadata": {},
   "outputs": [
    {
     "data": {
      "text/plain": [
       "True"
      ]
     },
     "execution_count": 13,
     "metadata": {},
     "output_type": "execute_result"
    }
   ],
   "source": [
    "5 != 3"
   ]
  },
  {
   "cell_type": "markdown",
   "metadata": {},
   "source": [
    "### Conjunções lógicas"
   ]
  },
  {
   "cell_type": "markdown",
   "metadata": {},
   "source": [
    "* and: verdadeiro se condição 1 for verdadeiro **e** condição 2 for verdadeiro\n",
    "* or? verdadeiro se condição 1 for verdadeiro **ou** condição 2 for verdadeiro"
   ]
  },
  {
   "cell_type": "code",
   "execution_count": 18,
   "metadata": {},
   "outputs": [
    {
     "name": "stdout",
     "output_type": "stream",
     "text": [
      "Digite a média do aluno6\n",
      "Digite a frequencia do aluno0.75\n",
      "Média: 6.0 \n",
      "Frequência: 0.75\n",
      "Aluno aprovado: True\n"
     ]
    }
   ],
   "source": [
    "# aprovado -> média tem que ser maior ou igual a 6. E a frequência tem que ser maior ou igual que 0.75\n",
    "\n",
    "media = float(input('Digite a média do aluno'))\n",
    "freq = float(input('Digite a frequencia do aluno'))\n",
    "\n",
    "print('Média:', media, '\\nFrequência:', freq) # \"\\n\" para apresentar em outra linha\n",
    "\n",
    "aprovado = media >= 6.0 and freq >= 0.75\n",
    "\n",
    "print('Aluno aprovado:', aprovado)"
   ]
  },
  {
   "cell_type": "code",
   "execution_count": 19,
   "metadata": {},
   "outputs": [
    {
     "name": "stdout",
     "output_type": "stream",
     "text": [
      "Digite a média do aluno6\n",
      "Digite a frequencia do aluno0.7\n",
      "Média: 6.0 \n",
      "Frequência: 0.7\n",
      "Aluno aprovado: False\n"
     ]
    }
   ],
   "source": [
    "media = float(input('Digite a média do aluno'))\n",
    "freq = float(input('Digite a frequencia do aluno'))\n",
    "\n",
    "print('Média:', media, '\\nFrequência:', freq) # \"\\n\" para apresentar em outra linha\n",
    "\n",
    "aprovado = media >= 6.0 and freq >= 0.75\n",
    "\n",
    "print('Aluno aprovado:', aprovado)"
   ]
  },
  {
   "cell_type": "markdown",
   "metadata": {},
   "source": [
    "Se a condição media >= 6.0 and freq >= 0.75 for verdadeira, a variável aprovado vai ser True, caso contrário, vai ser False"
   ]
  },
  {
   "cell_type": "code",
   "execution_count": 20,
   "metadata": {},
   "outputs": [
    {
     "name": "stdout",
     "output_type": "stream",
     "text": [
      "Digite o dia do mês para encerrar a promoção: 10\n",
      "Digite o dia do mês atual: 9\n",
      "Digite a quantidade de itens no estoque: 0\n",
      "Acabou a promoção ou o estoque? True\n"
     ]
    }
   ],
   "source": [
    "# Se tem estoque e ainda não encerrou a promoção, vai ser True, caso contrário, vai ser False\n",
    "\n",
    "diaFinal = int(input('Digite o dia do mês para encerrar a promoção: '))\n",
    "diaAtual = int(input('Digite o dia do mês atual: '))\n",
    "estoque = int(input('Digite a quantidade de itens no estoque: '))\n",
    "\n",
    "acabou = diaAtual > diaFinal or estoque == 0\n",
    "print('Acabou a promoção ou o estoque?', acabou)"
   ]
  }
 ],
 "metadata": {
  "kernelspec": {
   "display_name": "Python 3",
   "language": "python",
   "name": "python3"
  },
  "language_info": {
   "codemirror_mode": {
    "name": "ipython",
    "version": 3
   },
   "file_extension": ".py",
   "mimetype": "text/x-python",
   "name": "python",
   "nbconvert_exporter": "python",
   "pygments_lexer": "ipython3",
   "version": "3.9.5"
  }
 },
 "nbformat": 4,
 "nbformat_minor": 4
}
