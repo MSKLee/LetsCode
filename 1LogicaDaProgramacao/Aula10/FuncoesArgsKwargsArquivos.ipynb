{
 "cells": [
  {
   "cell_type": "markdown",
   "metadata": {},
   "source": [
    "# Mais sofre funções e argumentos"
   ]
  },
  {
   "cell_type": "markdown",
   "metadata": {},
   "source": [
    "## Revisão"
   ]
  },
  {
   "cell_type": "code",
   "execution_count": 1,
   "metadata": {},
   "outputs": [],
   "source": [
    "#Função genérica\n",
    "def nome(argumentos):\n",
    "    #definição da função\n",
    "    #return --> opcional\n",
    "    pass"
   ]
  },
  {
   "cell_type": "code",
   "execution_count": 2,
   "metadata": {},
   "outputs": [
    {
     "name": "stdout",
     "output_type": "stream",
     "text": [
      "Isso é uma função\n"
     ]
    }
   ],
   "source": [
    "#Exemplo de função\n",
    "def mostra_algo_na_tela():\n",
    "    print('Isso é uma função')\n",
    "\n",
    "\n",
    "mostra_algo_na_tela() #chamando a função"
   ]
  },
  {
   "cell_type": "code",
   "execution_count": 3,
   "metadata": {},
   "outputs": [
    {
     "name": "stdout",
     "output_type": "stream",
     "text": [
      "Texto necessário\n"
     ]
    }
   ],
   "source": [
    "#Exemplo com arguemento e sem retorno\n",
    "def mostra_algo_na_tela_arg(texto):\n",
    "    print(texto)\n",
    "\n",
    "mostra_algo_na_tela_arg('Texto necessário')"
   ]
  },
  {
   "cell_type": "code",
   "execution_count": 4,
   "metadata": {},
   "outputs": [
    {
     "data": {
      "text/plain": [
       "12"
      ]
     },
     "execution_count": 4,
     "metadata": {},
     "output_type": "execute_result"
    }
   ],
   "source": [
    "#Exemplo com argumento e retorno\n",
    "def perimetro_triangulo(a,b,c):\n",
    "    perimetro = a + b + c\n",
    "    \n",
    "    return perimetro\n",
    "    \n",
    "\n",
    "perimetro_triangulo(3,4,5)"
   ]
  },
  {
   "cell_type": "code",
   "execution_count": 5,
   "metadata": {},
   "outputs": [
    {
     "data": {
      "text/plain": [
       "18"
      ]
     },
     "execution_count": 5,
     "metadata": {},
     "output_type": "execute_result"
    }
   ],
   "source": [
    "def perimetro_quadrilatero(a,b,c,d):\n",
    "    perimetro = a + b + c + d\n",
    "    \n",
    "    return perimetro\n",
    "\n",
    "perimetro_quadrilatero(3,4,5,6)"
   ]
  },
  {
   "cell_type": "code",
   "execution_count": 6,
   "metadata": {},
   "outputs": [
    {
     "data": {
      "text/plain": [
       "25"
      ]
     },
     "execution_count": 6,
     "metadata": {},
     "output_type": "execute_result"
    }
   ],
   "source": [
    "def perimetro_pentagono(a,b,c,d,e):\n",
    "    perimetro = a + b + c + d + e\n",
    "    \n",
    "    return perimetro\n",
    "\n",
    "perimetro_pentagono(3,4,5,6,7)"
   ]
  },
  {
   "cell_type": "code",
   "execution_count": 7,
   "metadata": {},
   "outputs": [
    {
     "data": {
      "text/plain": [
       "25"
      ]
     },
     "execution_count": 7,
     "metadata": {},
     "output_type": "execute_result"
    }
   ],
   "source": [
    "#Função que calcula o perímetro de qualquer polígono usando *args\n",
    "def perimetro(*lados):\n",
    "    perimetro = 0\n",
    "    \n",
    "    for lado in lados:\n",
    "        perimetro = perimetro + lado\n",
    "    \n",
    "    return perimetro\n",
    "\n",
    "perimetro(3,4,5,6,7,)"
   ]
  },
  {
   "cell_type": "code",
   "execution_count": 8,
   "metadata": {},
   "outputs": [
    {
     "name": "stdout",
     "output_type": "stream",
     "text": [
      "25\n"
     ]
    }
   ],
   "source": [
    "#Função que calcula o perímetro de qualquer polígono\n",
    "#--> iterando pelo índice\n",
    "def perimetro(*lados):\n",
    "    perimetro = 0\n",
    "    \n",
    "    n = len(lados) #número de lados --> tamanho da tupla\n",
    "    for i in range(n):\n",
    "        perimetro += lados[i]\n",
    "    \n",
    "    return perimetro\n",
    "\n",
    "print(perimetro(3,4,5,6,7))"
   ]
  },
  {
   "cell_type": "code",
   "execution_count": 9,
   "metadata": {},
   "outputs": [
    {
     "name": "stdout",
     "output_type": "stream",
     "text": [
      "Digite os lados do poligono: 1\n"
     ]
    },
    {
     "data": {
      "text/plain": [
       "'1'"
      ]
     },
     "execution_count": 9,
     "metadata": {},
     "output_type": "execute_result"
    }
   ],
   "source": [
    "#Exemplo do Lucas\n",
    "\n",
    "lados = input('Digite os lados do poligono: ')\n",
    "lados"
   ]
  },
  {
   "cell_type": "code",
   "execution_count": 10,
   "metadata": {},
   "outputs": [
    {
     "data": {
      "text/plain": [
       "25"
      ]
     },
     "execution_count": 10,
     "metadata": {},
     "output_type": "execute_result"
    }
   ],
   "source": [
    "#Função que calcula o perímetro de qualquer polígono\n",
    "#--> iterando pelo índice\n",
    "def perimetro(*lados):\n",
    "    perimetro = 0\n",
    "    \n",
    "    n = len(lados) #número de lados --> tamanho da tupla\n",
    "    for i in range(n):\n",
    "        perimetro += lados[i]\n",
    "    \n",
    "    return perimetro\n",
    "\n",
    "\n",
    "lista = (3, 4, 5, 6,7)\n",
    "\n",
    "perimetro(*lista)"
   ]
  },
  {
   "cell_type": "code",
   "execution_count": 11,
   "metadata": {},
   "outputs": [
    {
     "name": "stdout",
     "output_type": "stream",
     "text": [
      "Digite o nome:1\n",
      "Digite o DDD:1\n",
      "Digite o numero de notas:1\n",
      "Digite uma nota:1\n",
      "Notas de 1 (ddd: 1):\n",
      "1\n"
     ]
    }
   ],
   "source": [
    "#Mostrando o uso do *args com entrada do usuário\n",
    "def dados_usuarios(nome,DDD,*args):\n",
    "    print(f'Notas de {nome} (ddd: {DDD}):')\n",
    "    \n",
    "    for nota in args:\n",
    "        print(nota)\n",
    "\n",
    "        \n",
    "nome = input('Digite o nome:')\n",
    "ddd = int(input('Digite o DDD:'))\n",
    "\n",
    "n = int(input('Digite o numero de notas:'))\n",
    "\n",
    "notas = []\n",
    "for i in range(n):\n",
    "    notas.append(int(input('Digite uma nota:')))\n",
    "\n",
    "dados_usuarios(nome, ddd, *notas)"
   ]
  },
  {
   "cell_type": "code",
   "execution_count": 12,
   "metadata": {},
   "outputs": [
    {
     "name": "stdout",
     "output_type": "stream",
     "text": [
      "(46) 99876-5000\n"
     ]
    }
   ],
   "source": [
    "#Outros aspectos de funções: argumentos posicionais (a ordem é importante)\n",
    "\n",
    "def celular(numero, ddd = 11):\n",
    "    print(f'({ddd}) {numero}')\n",
    "\n",
    "celular('99876-5000',46)"
   ]
  },
  {
   "cell_type": "code",
   "execution_count": 13,
   "metadata": {},
   "outputs": [
    {
     "name": "stdout",
     "output_type": "stream",
     "text": [
      "nome Lucas\n",
      "ddd 32\n",
      "notaFinal 9.2\n"
     ]
    }
   ],
   "source": [
    "#Passando dicionários para funções: usando o **kwargs\n",
    "def usuarios(**kwargs):\n",
    "    for chave, valor in kwargs.items():\n",
    "        print(chave, valor)\n",
    "\n",
    "\n",
    "dados = {\n",
    "    'nome':'Lucas',\n",
    "    'ddd': 32,\n",
    "}\n",
    "\n",
    "usuarios(nome='Lucas',ddd=32, notaFinal = 9.2)"
   ]
  },
  {
   "cell_type": "code",
   "execution_count": 14,
   "metadata": {},
   "outputs": [
    {
     "data": {
      "text/plain": [
       "'Lucas'"
      ]
     },
     "execution_count": 14,
     "metadata": {},
     "output_type": "execute_result"
    }
   ],
   "source": [
    "#Passando dicionários para funções: construindo um dicionário\n",
    "def usuarios(**kwargs):\n",
    "    novo_dicionario = {}\n",
    "    \n",
    "    for chave, valor in kwargs.items():\n",
    "        novo_dicionario[chave] = valor\n",
    "    \n",
    "    #print(novo_dicionario)\n",
    "    \n",
    "    return novo_dicionario\n",
    "        \n",
    "\n",
    "\n",
    "\n",
    "dados = usuarios(nome='Lucas',ddd=32, notaFinal = 9.2, peso = 80)\n",
    "dados['nome']"
   ]
  },
  {
   "cell_type": "code",
   "execution_count": 15,
   "metadata": {},
   "outputs": [
    {
     "name": "stdout",
     "output_type": "stream",
     "text": [
      "Tamanho do args: 4\n"
     ]
    }
   ],
   "source": [
    "#Usando *args e **kwargs: para usarem ambos ao mesmo tempo, é necessário que o *args venha \n",
    "# antes do **kwargs\n",
    "\n",
    "def  nome(a, b, c = 'f', *args, **kwargs):\n",
    "    print(f'Tamanho do args: {len(args)}')\n",
    "\n",
    "\n",
    "nome(1, 2,'f',5,4,True,'casa',sapato = 45)"
   ]
  },
  {
   "cell_type": "markdown",
   "metadata": {},
   "source": [
    "## Trabalhando com arquivos"
   ]
  },
  {
   "cell_type": "code",
   "execution_count": 23,
   "metadata": {},
   "outputs": [
    {
     "name": "stdout",
     "output_type": "stream",
     "text": [
      "Time Pontos\n",
      "Santos 11 \n",
      "Gremio 02\n",
      "Internacional 09   \n",
      "Flamengo 09\n",
      "Bahia 11\n"
     ]
    }
   ],
   "source": [
    "#Abrindo um arquivo para leitura\n",
    "# Modos de abertura: \n",
    "#--> r = read, w = write, a = append\n",
    "\n",
    "\n",
    "try:\n",
    "    arquivo = open('times.txt','r') # 'times.txt' é o arquivo que será aberto, 'r' = read\n",
    "    \n",
    "    conteudo = arquivo.read()\n",
    "    \n",
    "    print(conteudo)\n",
    "    \n",
    "    arquivo.close()\n",
    "\n",
    "except FileNotFoundError:\n",
    "    print('Arquivo nao encontrado!')"
   ]
  },
  {
   "cell_type": "code",
   "execution_count": 18,
   "metadata": {},
   "outputs": [
    {
     "name": "stdout",
     "output_type": "stream",
     "text": [
      "Lucas ddd: 32\n",
      "Amanda ddd: 11\n",
      "Fim da primeira leitura\n",
      "Alexandre ddd: 11\n"
     ]
    }
   ],
   "source": [
    "#Escrevendo em um arquivo novo\n",
    "\n",
    "arq_escrita = open('alunos.txt','w') #o arquivo é criado ou sobrescrito (conteúdo anterior é perdido)\n",
    "\n",
    "arq_escrita.write('Lucas ddd: 32\\n')\n",
    "arq_escrita.write('Amanda ddd: 11')\n",
    "\n",
    "arq_escrita.close()\n",
    "\n",
    "#Lendo o arquivo escrito\n",
    "arq_leitura = open('alunos.txt','r')\n",
    "conteudo = arq_leitura.read()\n",
    "print(conteudo)\n",
    "arq_leitura.close()\n",
    "print(\"Fim da primeira leitura\")\n",
    "\n",
    "\n",
    "\n",
    "#Reescrevendo no arquivo 'alunos.txt'\n",
    "arq_escrita = open('alunos.txt','w')\n",
    "\n",
    "arq_escrita.write('Alexandre ddd: 11')\n",
    "\n",
    "arq_escrita.close()\n",
    "\n",
    "\n",
    "\n",
    "#Lendo o arquivo escrito\n",
    "arq_leitura = open('alunos.txt','r')\n",
    "conteudo = arq_leitura.read()\n",
    "print(conteudo)\n",
    "arq_leitura.close()"
   ]
  },
  {
   "cell_type": "code",
   "execution_count": 19,
   "metadata": {},
   "outputs": [
    {
     "name": "stdout",
     "output_type": "stream",
     "text": [
      "Lucas ddd: 32\n",
      "Amanda ddd: 11\n",
      "\n",
      "Fim da primeira leitura\n",
      "Lucas ddd: 32\n",
      "Amanda ddd: 11\n",
      "Alexandre ddd: 11\n"
     ]
    }
   ],
   "source": [
    "#Escrevendo em um arquivo novo\n",
    "arq_escrita = open('alunos.txt','w')\n",
    "\n",
    "arq_escrita.write('Lucas ddd: 32\\n')\n",
    "arq_escrita.write('Amanda ddd: 11\\n')\n",
    "\n",
    "arq_escrita.close()\n",
    "\n",
    "#Lendo o arquivo escrito\n",
    "arq_leitura = open('alunos.txt','r')\n",
    "conteudo = arq_leitura.read()\n",
    "print(conteudo)\n",
    "arq_leitura.close()\n",
    "print(\"Fim da primeira leitura\")\n",
    "\n",
    "\n",
    "\n",
    "#Reescrevendo no arquivo 'alunos.txt' com o modo 'a' (append) -->cria o arquivo, caso não\n",
    "# exista, ou acrescenta novas linhas no arquivo existente\n",
    "arq_escrita = open('alunos.txt','a')\n",
    "\n",
    "arq_escrita.write('Alexandre ddd: 11')\n",
    "\n",
    "arq_escrita.close()\n",
    "\n",
    "\n",
    "\n",
    "#Lendo o arquivo escrito\n",
    "arq_leitura = open('alunos.txt','r')\n",
    "conteudo = arq_leitura.read()\n",
    "print(conteudo)\n",
    "arq_leitura.close()"
   ]
  },
  {
   "cell_type": "code",
   "execution_count": 20,
   "metadata": {},
   "outputs": [],
   "source": [
    "#Abrindo um arquivo novo no modo 'a' (append) -->cria o arquivo, caso não\n",
    "# exista, ou acrescenta novas linhas no arquivo existente\n",
    "arq_escrita = open('atletas.txt','a')\n",
    "\n",
    "arq_escrita.write('Alexandre carateca')\n",
    "\n",
    "arq_escrita.close()"
   ]
  },
  {
   "cell_type": "code",
   "execution_count": 27,
   "metadata": {},
   "outputs": [
    {
     "name": "stdout",
     "output_type": "stream",
     "text": [
      "['Nome, Idade, Altura, Peso']\n",
      "['Amanda, 20, 1.60, 50']\n",
      "['Carlos, 21, 1.65, 72']\n",
      "['Diego, 30, 1.82, 93']\n",
      "['Fernanda, 16, 1.70, 67']\n",
      "['Paulo, 28, 1.87, 70']\n",
      "['Raquel, 42, 1.55, 80']\n"
     ]
    }
   ],
   "source": [
    "#Abrindo arquivos do tipo *.csv\n",
    "import csv\n",
    "\n",
    "arqcsv = open('dados_pessoais.csv','r')#abrindo para a leitura\n",
    "planilha = csv.reader(arqcsv, delimiter = ';', lineterminator = '\\n' )\n",
    "\n",
    "for linha in planilha:\n",
    "    print(linha)\n",
    "\n",
    "arqcsv.close()"
   ]
  },
  {
   "cell_type": "code",
   "execution_count": 22,
   "metadata": {},
   "outputs": [],
   "source": [
    "#Escrevendo em um arquivo CSV\n",
    "\n",
    "import csv\n",
    "\n",
    "\n",
    "arqcsv = open('minha_planilha.csv','w')\n",
    "\n",
    "arq_escrita = csv.writer(arqcsv, delimiter = ' ', lineterminator = '\\n')\n",
    "\n",
    "arq_escrita.writerow(['Nome', 'Peso', 'Altura'])\n",
    "\n",
    "arq_escrita.writerow(['Alexandre', '80', '1.85'])\n",
    "\n",
    "\n",
    "arqcsv.close()"
   ]
  },
  {
   "cell_type": "markdown",
   "metadata": {},
   "source": [
    "- Exercício: fazer um programa que leia o arquivo 'dados.csv', cria e escreve outro arquivo 'dados_imc.csv' com as mesmas informações acrescentando uma coluna com o valor do IMC (índice de massa corpórea) de cada indivíduo.\n",
    "- Tabela mostrando o arquivo 'dados.csv'\n",
    "\n",
    " Nome | Idade | Altura |Peso |\n",
    "    ---- | ------ |---- | ------|\n",
    "    Amada | 20 | 1.60 | 50|\n",
    "    Carlos|21|1.65|72|\n",
    "    Diego|30|1.82|93|\n",
    "    Fernanda|16|1.70|67|\n",
    "    Paulo|28|1.87|70|\n",
    "    Raquel|42|1.55|80|\n",
    "\n",
    "'dados.csv': Nome;Idade;Altura;Peso Amanda;20;1.60;50 Carlos;21;1.65;72 Diego;30;1.82;93 Fernanda;16;1.70;67 Paulo;28;1.87;70 Raquel;42;1.55;80"
   ]
  },
  {
   "cell_type": "markdown",
   "metadata": {},
   "source": [
    "### Exercícios -  LC | Tuplas e Dicionários"
   ]
  },
  {
   "cell_type": "code",
   "execution_count": 154,
   "metadata": {},
   "outputs": [
    {
     "name": "stdout",
     "output_type": "stream",
     "text": [
      "Digite alguns elementos para compor uma lista e digite \"end\" quando acabar\n",
      "Digite um elemento: 4\n",
      "Digite um outro elemento: 5\n",
      "Digite um outro elemento: e\n",
      "Digite um outro elemento: end\n",
      "False\n",
      "['4', '5', 'e']\n"
     ]
    }
   ],
   "source": [
    "print('Digite alguns elementos para compor uma lista e digite \"end\" quando acabar')\n",
    "lista = []\n",
    "lista_digit = []\n",
    "soma = 0\n",
    "i = 0\n",
    "\n",
    "entrada = input('Digite um elemento: ')\n",
    "\n",
    "\n",
    "while entrada != 'end':\n",
    "    lista.append(entrada)\n",
    "    entrada = input('Digite um outro elemento: ')\n",
    "\n",
    "\n",
    "for elemento in lista:\n",
    "    lista_digit.append(elemento.isdigit())\n",
    "    \n",
    "while True:\n",
    "    try:\n",
    "        lista_digit.index(False)\n",
    "        print(False)\n",
    "        break\n",
    "    \n",
    "    except ValueError as err:\n",
    "        print(True)\n",
    "        break\n",
    "\n",
    "print(lista)"
   ]
  },
  {
   "cell_type": "code",
   "execution_count": 155,
   "metadata": {},
   "outputs": [
    {
     "name": "stdout",
     "output_type": "stream",
     "text": [
      "Digite alguns elementos para compor uma lista e digite \"end\" quando acabar\n",
      "Digite um elemento: 4\n",
      "Digite um outro elemento: 3\n",
      "Digite um outro elemento: e\n",
      "Digite um outro elemento: end\n",
      "False\n",
      "['4', '3', 'e']\n"
     ]
    }
   ],
   "source": [
    "def lista4():\n",
    "    print('Digite alguns elementos para compor uma lista e digite \"end\" quando acabar')\n",
    "    lista = []\n",
    "    lista_digit = []\n",
    "    soma = 0\n",
    "    i = 0\n",
    "\n",
    "    entrada = input('Digite um elemento: ')\n",
    "\n",
    "\n",
    "    while entrada != 'end':\n",
    "        lista.append(entrada)\n",
    "        entrada = input('Digite um outro elemento: ')\n",
    "\n",
    "\n",
    "    for elemento in lista:\n",
    "        lista_digit.append(elemento.isdigit())\n",
    "\n",
    "    while True:\n",
    "        try:\n",
    "            lista_digit.index(False)\n",
    "            print(False)\n",
    "            break\n",
    "\n",
    "        except ValueError as err:\n",
    "            print(True)\n",
    "            break\n",
    "\n",
    "    print(lista)\n",
    "    \n",
    "lista4()"
   ]
  },
  {
   "cell_type": "code",
   "execution_count": 158,
   "metadata": {},
   "outputs": [
    {
     "name": "stdout",
     "output_type": "stream",
     "text": [
      "Digite o valor de \"a\": 4\n",
      "Digite o valor de \"b\": 8\n",
      "Digite o valor de \"c\": 2\n",
      "[-1.7071067811865475, -0.2928932188134524]\n"
     ]
    }
   ],
   "source": [
    "def baskara():\n",
    "    a = int(input('Digite o valor de \"a\": '))\n",
    "    b = int(input('Digite o valor de \"b\": '))\n",
    "    c = int(input('Digite o valor de \"c\": '))\n",
    "    lista = []\n",
    "\n",
    "    delta = (b ** 2) - (4 * a * c)\n",
    "    x_m = (- b)/(2 * a)\n",
    "    y_m = (- delta) / (4 * a)\n",
    "    raiz1 = ((- b) - (delta) ** (1 / 2)) / (2 * a)\n",
    "    raiz2 = ((- b) + (delta) ** (1 / 2)) / (2 * a)\n",
    "\n",
    "\n",
    "    if delta < 0:\n",
    "        lista.append('')\n",
    "    elif delta == 0:\n",
    "        lista.append(raiz1)\n",
    "    elif delta > 0:\n",
    "        lista.append(raiz1)\n",
    "        lista.append(raiz2)\n",
    "\n",
    "    print(lista)\n",
    "    \n",
    "baskara() "
   ]
  },
  {
   "cell_type": "code",
   "execution_count": 159,
   "metadata": {},
   "outputs": [
    {
     "name": "stdout",
     "output_type": "stream",
     "text": [
      "Digite o valor de \"a\": 5\n",
      "Digite o valor de \"b\": 8\n",
      "Digite o valor de \"c\": 3\n",
      "4\n",
      "[-1.0, -0.6]\n"
     ]
    }
   ],
   "source": [
    "a = int(input('Digite o valor de \"a\": '))\n",
    "b = int(input('Digite o valor de \"b\": '))\n",
    "c = int(input('Digite o valor de \"c\": '))\n",
    "lista = []\n",
    "\n",
    "delta = (b ** 2) - (4 * a * c)\n",
    "x_m = (- b)/(2 * a)\n",
    "y_m = (- delta) / (4 * a)\n",
    "raiz1 = ((- b) - (delta) ** (1 / 2)) / (2 * a)\n",
    "raiz2 = ((- b) + (delta) ** (1 / 2)) / (2 * a)\n",
    "\n",
    "\n",
    "if delta < 0:\n",
    "    lista.append('')\n",
    "elif delta == 0:\n",
    "    lista.append(raiz1)\n",
    "elif delta > 0:\n",
    "    lista.append(raiz1)\n",
    "    lista.append(raiz2)\n",
    "\n",
    "print(delta)\n",
    "print(lista)"
   ]
  },
  {
   "cell_type": "code",
   "execution_count": null,
   "metadata": {},
   "outputs": [],
   "source": []
  }
 ],
 "metadata": {
  "kernelspec": {
   "display_name": "Python 3",
   "language": "python",
   "name": "python3"
  },
  "language_info": {
   "codemirror_mode": {
    "name": "ipython",
    "version": 3
   },
   "file_extension": ".py",
   "mimetype": "text/x-python",
   "name": "python",
   "nbconvert_exporter": "python",
   "pygments_lexer": "ipython3",
   "version": "3.9.5"
  }
 },
 "nbformat": 4,
 "nbformat_minor": 4
}
