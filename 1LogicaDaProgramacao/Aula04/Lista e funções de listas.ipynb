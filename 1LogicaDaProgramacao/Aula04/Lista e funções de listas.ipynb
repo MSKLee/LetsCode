{
 "cells": [
  {
   "cell_type": "markdown",
   "metadata": {},
   "source": [
    "# 1 Listas"
   ]
  },
  {
   "cell_type": "markdown",
   "metadata": {},
   "source": [
    "Listas são coleções de objetos no Python"
   ]
  },
  {
   "cell_type": "code",
   "execution_count": 2,
   "metadata": {},
   "outputs": [
    {
     "name": "stdout",
     "output_type": "stream",
     "text": [
      "[]\n",
      "[]\n",
      "[1, 4.6, -7, 8, 10, 'vinte']\n"
     ]
    }
   ],
   "source": [
    "primeira_lista = [] # criando uma lista vazia\n",
    "print(primeira_lista)\n",
    "\n",
    "segunda_lista = list() # criando uma lista vazia\n",
    "print(segunda_lista)\n",
    "\n",
    "terceira_lista = [1, 4.6, -7, 8, 10, 'vinte'] # criando lista com objetos -valores, int, float, str\n",
    "print(terceira_lista)"
   ]
  },
  {
   "cell_type": "markdown",
   "metadata": {},
   "source": [
    "A lista possui valores e índices (automaticamente)"
   ]
  },
  {
   "cell_type": "markdown",
   "metadata": {},
   "source": [
    "elemento 1 , 4.6 , -7 , 8 , 10 , 'vinte'\n",
    "\n",
    "índice   0  , 1  ,  2 , 3,  4  ,   5"
   ]
  },
  {
   "cell_type": "markdown",
   "metadata": {},
   "source": [
    "A lista é mutável. Podemos modificar os valores já existentes"
   ]
  },
  {
   "cell_type": "code",
   "execution_count": 4,
   "metadata": {},
   "outputs": [
    {
     "name": "stdout",
     "output_type": "stream",
     "text": [
      "[1, 4.6, -7, 'oito', 10, 'vinte']\n"
     ]
    }
   ],
   "source": [
    "terceira_lista = [1, 4.6, -7, 8, 10, 'vinte'] # lista de valores\n",
    "terceira_lista[3] = 'oito' # acessando o valor do índice 3\n",
    "print(terceira_lista)"
   ]
  },
  {
   "cell_type": "markdown",
   "metadata": {},
   "source": [
    "* Quebrando as listas"
   ]
  },
  {
   "cell_type": "markdown",
   "metadata": {},
   "source": [
    "Criar subconjuntos -> 'slice'"
   ]
  },
  {
   "cell_type": "code",
   "execution_count": 9,
   "metadata": {},
   "outputs": [],
   "source": [
    "impares = [1, 3, 5, 7, 9, 11, 13, 15, 17]\n"
   ]
  },
  {
   "cell_type": "code",
   "execution_count": 10,
   "metadata": {},
   "outputs": [
    {
     "data": {
      "text/plain": [
       "13"
      ]
     },
     "execution_count": 10,
     "metadata": {},
     "output_type": "execute_result"
    }
   ],
   "source": [
    "impares[6] # acessar o nº13 da lista -> acessar pelo índice"
   ]
  },
  {
   "cell_type": "code",
   "execution_count": 14,
   "metadata": {},
   "outputs": [
    {
     "data": {
      "text/plain": [
       "1"
      ]
     },
     "execution_count": 14,
     "metadata": {},
     "output_type": "execute_result"
    }
   ],
   "source": [
    "impares[0] # índice zero"
   ]
  },
  {
   "cell_type": "code",
   "execution_count": 13,
   "metadata": {},
   "outputs": [
    {
     "data": {
      "text/plain": [
       "[7, 9, 11]"
      ]
     },
     "execution_count": 13,
     "metadata": {},
     "output_type": "execute_result"
    }
   ],
   "source": [
    "# acessar os valores 7, 9 e 11\n",
    "impares[3:6] # iniciando com o índice 3 e vai até o 6 (Exclusivo)"
   ]
  },
  {
   "cell_type": "code",
   "execution_count": 15,
   "metadata": {},
   "outputs": [
    {
     "data": {
      "text/plain": [
       "[1, 3, 5, 7, 9, 11]"
      ]
     },
     "execution_count": 15,
     "metadata": {},
     "output_type": "execute_result"
    }
   ],
   "source": [
    "# outra forma de quebrar a lista é usando valores do início ou até o fim\n",
    "impares[:6] # omitindo o valor 0:6"
   ]
  },
  {
   "cell_type": "code",
   "execution_count": 16,
   "metadata": {},
   "outputs": [
    {
     "data": {
      "text/plain": [
       "[11, 13, 15, 17]"
      ]
     },
     "execution_count": 16,
     "metadata": {},
     "output_type": "execute_result"
    }
   ],
   "source": [
    "impares[5:] #quebra da lista do índice 5 até o final"
   ]
  },
  {
   "cell_type": "code",
   "execution_count": 19,
   "metadata": {},
   "outputs": [
    {
     "data": {
      "text/plain": [
       "[3, 6, 9]"
      ]
     },
     "execution_count": 19,
     "metadata": {},
     "output_type": "execute_result"
    }
   ],
   "source": [
    "numeros = [0, 1, 2, 3, 4, 5, 6, 7, 8, 9, 10, 11, 12, 13, 14, 15]\n",
    "# múltiplos de 3 abaixo de 10:\n",
    "numeros[3:10:3] # posição"
   ]
  },
  {
   "cell_type": "markdown",
   "metadata": {},
   "source": [
    "* Percorrendo listas"
   ]
  },
  {
   "cell_type": "code",
   "execution_count": 20,
   "metadata": {},
   "outputs": [],
   "source": [
    "pares = [0, 2, 4, 6, 8]"
   ]
  },
  {
   "cell_type": "code",
   "execution_count": 28,
   "metadata": {},
   "outputs": [
    {
     "name": "stdout",
     "output_type": "stream",
     "text": [
      "5\n"
     ]
    }
   ],
   "source": [
    "# qual o tamanho?\n",
    "tamanho = len(pares)\n",
    "print(tamanho)"
   ]
  },
  {
   "cell_type": "code",
   "execution_count": 30,
   "metadata": {},
   "outputs": [
    {
     "name": "stdout",
     "output_type": "stream",
     "text": [
      "0\n",
      "2\n",
      "4\n",
      "6\n",
      "8\n"
     ]
    }
   ],
   "source": [
    "for indice in range(tamanho): # percorrendo a lista\n",
    "    print(pares[indice])"
   ]
  },
  {
   "cell_type": "code",
   "execution_count": 31,
   "metadata": {},
   "outputs": [
    {
     "name": "stdout",
     "output_type": "stream",
     "text": [
      "0\n",
      "2\n",
      "4\n",
      "6\n",
      "8\n"
     ]
    }
   ],
   "source": [
    "# maneira mais fácil de percorrer a lista\n",
    "pares = [0, 2, 4, 6, 8]\n",
    "\n",
    "for elemento in pares:\n",
    "     print(elemento)"
   ]
  },
  {
   "cell_type": "code",
   "execution_count": 33,
   "metadata": {},
   "outputs": [
    {
     "name": "stdout",
     "output_type": "stream",
     "text": [
      "0\n",
      "2\n",
      "4\n",
      "6\n",
      "8\n"
     ]
    }
   ],
   "source": [
    "for intem in pares:\n",
    "    print(intem)"
   ]
  },
  {
   "cell_type": "markdown",
   "metadata": {},
   "source": [
    "## Funções de listas"
   ]
  },
  {
   "cell_type": "markdown",
   "metadata": {},
   "source": [
    "* Adicionar elementos a lista"
   ]
  },
  {
   "cell_type": "code",
   "execution_count": 38,
   "metadata": {},
   "outputs": [
    {
     "name": "stdout",
     "output_type": "stream",
     "text": [
      "[0, 2, 4, 6, 8, 10]\n"
     ]
    }
   ],
   "source": [
    "pares = [0, 2, 4, 6, 8]\n",
    "\n",
    "# incluir o número 10 nessa lista\n",
    "\n",
    "pares.append(10) # acrescentar o valor no final da lista\n",
    "\n",
    "print(pares)"
   ]
  },
  {
   "cell_type": "code",
   "execution_count": 40,
   "metadata": {},
   "outputs": [
    {
     "name": "stdout",
     "output_type": "stream",
     "text": [
      "[0, 2, 4, 6, 8, 10]\n"
     ]
    }
   ],
   "source": [
    "# Outra forma de adicionar elemento com a posição de lista\n",
    "\n",
    "pares = [0, 2, 4, 8, 10]\n",
    "\n",
    "# acrescentar o valor 6 na posição 3\n",
    "pares.insert(3, 6) # função insert precisa da posição seguida do valor que quero adicionar\n",
    "\n",
    "print(pares)"
   ]
  },
  {
   "cell_type": "markdown",
   "metadata": {},
   "source": [
    "* Remover um elemento"
   ]
  },
  {
   "cell_type": "code",
   "execution_count": 47,
   "metadata": {},
   "outputs": [
    {
     "name": "stdout",
     "output_type": "stream",
     "text": [
      "[1, 3, 5, 7, 9]\n"
     ]
    }
   ],
   "source": [
    "impares = [1, 3, 3, 5, 7, 9]\n",
    "\n",
    "impares. remove(3) # a função remove o valor - nesse caso a função remove vai remover o primeiro valor 3\n",
    "\n",
    "print(impares)"
   ]
  },
  {
   "cell_type": "code",
   "execution_count": 50,
   "metadata": {},
   "outputs": [
    {
     "name": "stdout",
     "output_type": "stream",
     "text": [
      "[1, 3, 5, 7]\n"
     ]
    }
   ],
   "source": [
    "impares = [1, 3, 5, 7, 9]\n",
    "\n",
    "impares.pop(4) # pop remove o valor da posição, nesse caso o índice 4\n",
    "\n",
    "print(impares)"
   ]
  },
  {
   "cell_type": "code",
   "execution_count": 51,
   "metadata": {},
   "outputs": [
    {
     "data": {
      "text/plain": [
       "8"
      ]
     },
     "execution_count": 51,
     "metadata": {},
     "output_type": "execute_result"
    }
   ],
   "source": [
    "variavel = [1, 3, 4, 8, 10]\n",
    "variavel.pop(3) # mostra qual valor ele irá remover da posição dada"
   ]
  },
  {
   "cell_type": "code",
   "execution_count": 54,
   "metadata": {},
   "outputs": [
    {
     "name": "stdout",
     "output_type": "stream",
     "text": [
      "[1, 10]\n"
     ]
    },
    {
     "ename": "IndexError",
     "evalue": "pop index out of range",
     "output_type": "error",
     "traceback": [
      "\u001b[0;31m---------------------------------------------------------------------------\u001b[0m",
      "\u001b[0;31mIndexError\u001b[0m                                Traceback (most recent call last)",
      "\u001b[0;32m<ipython-input-54-90d108c66343>\u001b[0m in \u001b[0;36m<module>\u001b[0;34m\u001b[0m\n\u001b[1;32m      1\u001b[0m \u001b[0mprint\u001b[0m\u001b[0;34m(\u001b[0m\u001b[0mvariavel\u001b[0m\u001b[0;34m)\u001b[0m\u001b[0;34m\u001b[0m\u001b[0;34m\u001b[0m\u001b[0m\n\u001b[0;32m----> 2\u001b[0;31m \u001b[0mvariavel\u001b[0m\u001b[0;34m.\u001b[0m\u001b[0mpop\u001b[0m\u001b[0;34m(\u001b[0m\u001b[0;36m3\u001b[0m\u001b[0;34m)\u001b[0m\u001b[0;34m\u001b[0m\u001b[0;34m\u001b[0m\u001b[0m\n\u001b[0m",
      "\u001b[0;31mIndexError\u001b[0m: pop index out of range"
     ]
    }
   ],
   "source": [
    "print(variavel)\n",
    "variavel.pop(3)"
   ]
  },
  {
   "cell_type": "markdown",
   "metadata": {},
   "source": [
    "Atenção: essa funções alteram o valor da lista. Se eu quero guardar ou salvar a lista anterior, preciso associar a outra variável"
   ]
  },
  {
   "cell_type": "code",
   "execution_count": 63,
   "metadata": {},
   "outputs": [
    {
     "name": "stdout",
     "output_type": "stream",
     "text": [
      "[12, 45, 78, 98, 100]\n",
      "[12, 45, 78, 98]\n",
      "[12, 45, 78, 98, 100]\n"
     ]
    }
   ],
   "source": [
    "lista1 = [12, 45, 78, 98]\n",
    "# copiar essa lista\n",
    "lista2 = lista1[:]\n",
    "lista3 = lista1 # apenas dando 2 nomes a mesma lista, tudo que acontecer com lista1, vai alterar a lista3\n",
    "\n",
    "#modificar a lista1\n",
    "lista1.append(100)\n",
    "\n",
    "print(lista1)\n",
    "print(lista2)\n",
    "print(lista3)"
   ]
  },
  {
   "cell_type": "code",
   "execution_count": 60,
   "metadata": {},
   "outputs": [
    {
     "name": "stdout",
     "output_type": "stream",
     "text": [
      "[0, 2, 4, 6, 8, 10, 10]\n"
     ]
    }
   ],
   "source": [
    "pares.append(10)\n",
    "print(pares)"
   ]
  },
  {
   "cell_type": "markdown",
   "metadata": {},
   "source": [
    "* Ordenar lista"
   ]
  },
  {
   "cell_type": "markdown",
   "metadata": {},
   "source": [
    "Ordem crescente"
   ]
  },
  {
   "cell_type": "code",
   "execution_count": 82,
   "metadata": {},
   "outputs": [
    {
     "name": "stdout",
     "output_type": "stream",
     "text": [
      "[0, 1, 1, 2, 3, 5, 8, 13]\n"
     ]
    }
   ],
   "source": [
    "fibonacci = [8, 1, 0 , 5, 13, 1, 3, 2]\n",
    "\n",
    "fibonacci.sort()\n",
    "\n",
    "print(fibonacci)"
   ]
  },
  {
   "cell_type": "markdown",
   "metadata": {},
   "source": [
    "Ordem decrescente"
   ]
  },
  {
   "cell_type": "code",
   "execution_count": 76,
   "metadata": {},
   "outputs": [
    {
     "name": "stdout",
     "output_type": "stream",
     "text": [
      "[13, 8, 5, 3, 2, 1, 1, 0]\n"
     ]
    }
   ],
   "source": [
    "fibonacci = [8, 1, 0 , 5, 13, 1, 3, 2]\n",
    "\n",
    "fibonacci.sort(reverse = True) #ordenar a lista\n",
    "\n",
    "print(fibonacci)"
   ]
  },
  {
   "cell_type": "code",
   "execution_count": 77,
   "metadata": {},
   "outputs": [
    {
     "name": "stdout",
     "output_type": "stream",
     "text": [
      "[2, 3, 1, 13, 5, 0, 1, 8]\n"
     ]
    }
   ],
   "source": [
    "# outra forma de ordenar de forma reversa\n",
    "\n",
    "fibonacci = [8, 1, 0, 5, 13, 1, 3, 2]\n",
    "\n",
    "fibonacci.reverse() # escrevendo a lista de forma reversa (de trás para frente), mudando a posição\n",
    "\n",
    "print(fibonacci)"
   ]
  },
  {
   "cell_type": "markdown",
   "metadata": {},
   "source": [
    "* Buscar elemento"
   ]
  },
  {
   "cell_type": "code",
   "execution_count": 79,
   "metadata": {},
   "outputs": [
    {
     "data": {
      "text/plain": [
       "4"
      ]
     },
     "execution_count": 79,
     "metadata": {},
     "output_type": "execute_result"
    }
   ],
   "source": [
    "pi = [ 3, 1, 4, 1, 5, 9, 2, 6, 5]\n",
    "\n",
    "posicao = pi.index(5) # quero saber o índice de valor 5. A função index dá o índice do valor 5.\n",
    "# Dá a posição do primeiro valor encontrado\n",
    "\n",
    "posicao"
   ]
  },
  {
   "cell_type": "code",
   "execution_count": 80,
   "metadata": {},
   "outputs": [
    {
     "name": "stdout",
     "output_type": "stream",
     "text": [
      "9 9 1\n"
     ]
    }
   ],
   "source": [
    "pi = [ 3, 1, 4, 1, 5, 9, 2, 6, 5]\n",
    "\n",
    "# para saber o tamanho da lista\n",
    "tamanho = len(pi)\n",
    "maior = max(pi) # função max me dá o maior valor da lista\n",
    "menor = min(pi) # função min me dá o menor valor da lista\n",
    "\n",
    "print(tamanho, maior, menor)"
   ]
  },
  {
   "cell_type": "code",
   "execution_count": null,
   "metadata": {},
   "outputs": [],
   "source": []
  },
  {
   "cell_type": "code",
   "execution_count": null,
   "metadata": {},
   "outputs": [],
   "source": []
  },
  {
   "cell_type": "markdown",
   "metadata": {},
   "source": [
    "## Exercícios"
   ]
  },
  {
   "cell_type": "code",
   "execution_count": 45,
   "metadata": {},
   "outputs": [
    {
     "name": "stdout",
     "output_type": "stream",
     "text": [
      "1\n",
      "3\n",
      "5\n",
      "7\n",
      "9\n"
     ]
    }
   ],
   "source": [
    "impares = [1, 3, 5, 7, 9]\n",
    "tamanho = len(impares)\n",
    "\n",
    "for i in range(tamanho):\n",
    "    print(impares[i])"
   ]
  },
  {
   "cell_type": "code",
   "execution_count": 44,
   "metadata": {},
   "outputs": [
    {
     "name": "stdout",
     "output_type": "stream",
     "text": [
      "1\n",
      "3\n",
      "5\n",
      "7\n",
      "9\n"
     ]
    }
   ],
   "source": [
    "impares = [1, 3, 5, 7, 9]\n",
    "tamanho = len(impares)\n",
    "i = 0\n",
    "\n",
    "while i < tamanho:\n",
    "    print(impares[i])\n",
    "    i = i + 1\n"
   ]
  },
  {
   "cell_type": "code",
   "execution_count": 81,
   "metadata": {},
   "outputs": [
    {
     "name": "stdout",
     "output_type": "stream",
     "text": [
      "Digite um número inteiro do final de uma lista: 10\n",
      "[0, 1, 2, 3, 4, 5, 6, 7, 8, 9]\n"
     ]
    }
   ],
   "source": [
    "numero = int(input('Digite um número inteiro do final de uma lista: '))\n",
    "lista = []\n",
    "i = 1\n",
    "\n",
    "for i in range(numero):\n",
    "    lista.append(i)\n",
    "print(lista)\n"
   ]
  },
  {
   "cell_type": "code",
   "execution_count": 125,
   "metadata": {},
   "outputs": [
    {
     "name": "stdout",
     "output_type": "stream",
     "text": [
      "[0, 2, 4, 6, 8, 10]\n"
     ]
    }
   ],
   "source": [
    "lista1 = [0, 1, 2, 3, 4, 5, 6, 7, 8, 9, 10]\n",
    "lista2 = []\n",
    "\n",
    "\n",
    "for valor in lista1:\n",
    "    if valor % 2 == 0:\n",
    "        lista2.append(valor)\n",
    "        \n",
    "print(lista2)"
   ]
  },
  {
   "cell_type": "code",
   "execution_count": 146,
   "metadata": {},
   "outputs": [
    {
     "ename": "SyntaxError",
     "evalue": "invalid syntax (<ipython-input-146-0942ff8abfe4>, line 1)",
     "output_type": "error",
     "traceback": [
      "\u001b[0;36m  File \u001b[0;32m\"<ipython-input-146-0942ff8abfe4>\"\u001b[0;36m, line \u001b[0;32m1\u001b[0m\n\u001b[0;31m    lista1 = int(input[]))\u001b[0m\n\u001b[0m                       ^\u001b[0m\n\u001b[0;31mSyntaxError\u001b[0m\u001b[0;31m:\u001b[0m invalid syntax\n"
     ]
    }
   ],
   "source": [
    "for numero\n",
    "    numero = int(input('Digite um numero da lista: ' ))\n",
    "\n",
    "for numero in lista1\n",
    "    lista1.append(numero)\n",
    "\n",
    "lista1 = []\n",
    "lista2 = []\n",
    "\n",
    "\n",
    "for valor in lista1:\n",
    "    if valor % 2 == 0:\n",
    "        lista2.append(valor)\n",
    "        \n",
    "print(lista2)"
   ]
  },
  {
   "cell_type": "code",
   "execution_count": 145,
   "metadata": {},
   "outputs": [
    {
     "name": "stdout",
     "output_type": "stream",
     "text": [
      "10\n"
     ]
    }
   ],
   "source": [
    "lista = [0, 1, 2, 3, 4, 5, 6, 7, 8, 9, 10, 1]\n",
    "maximo = 0\n",
    "\n",
    "lista.sort()\n",
    "\n",
    "for i in lista:\n",
    "    if i > maximo:\n",
    "        maximo = i\n",
    "        \n",
    "print(maximo)"
   ]
  },
  {
   "cell_type": "code",
   "execution_count": 155,
   "metadata": {},
   "outputs": [
    {
     "ename": "IndentationError",
     "evalue": "unexpected indent (<ipython-input-155-688bf74bc2d2>, line 8)",
     "output_type": "error",
     "traceback": [
      "\u001b[0;36m  File \u001b[0;32m\"<ipython-input-155-688bf74bc2d2>\"\u001b[0;36m, line \u001b[0;32m8\u001b[0m\n\u001b[0;31m    maximo1 = max(lista)\u001b[0m\n\u001b[0m    ^\u001b[0m\n\u001b[0;31mIndentationError\u001b[0m\u001b[0;31m:\u001b[0m unexpected indent\n"
     ]
    }
   ],
   "source": [
    "lista = [0, 1, 2, 3, 4, 5, 6, 7, 8, 9, 10, 1]\n",
    "\n",
    "print(max(lista))\n",
    "maximo1 = max(lista)\n",
    "lista.remove(maximo1)\n",
    "\n",
    "print(max(lista))\n",
    "    maximo1 = max(lista)\n",
    "    lista.remove(maximo1)\n",
    "    \n",
    "print(max(lista))\n",
    "    maximo1 = max(lista)\n",
    "    lista.remove(maximo1)"
   ]
  },
  {
   "cell_type": "code",
   "execution_count": 168,
   "metadata": {},
   "outputs": [
    {
     "name": "stdout",
     "output_type": "stream",
     "text": [
      "10\n",
      "9\n",
      "8\n"
     ]
    }
   ],
   "source": [
    "lista = [0, 1, 2, 3, 4, 5, 6, 7, 8, 9, 10, 1]\n",
    "\n",
    "maximo1 = max(lista)\n",
    "print(maximo1)\n",
    "lista.remove(maximo1)\n",
    "\n",
    "maximo2 = max(lista)\n",
    "print(maximo2)\n",
    "lista.remove(maximo2)\n",
    "\n",
    "maximo3 = max(lista)\n",
    "print(maximo3)"
   ]
  },
  {
   "cell_type": "code",
   "execution_count": 191,
   "metadata": {},
   "outputs": [
    {
     "name": "stdout",
     "output_type": "stream",
     "text": [
      "[3, 6, 8]\n"
     ]
    }
   ],
   "source": [
    "lista1 = [1, 4, 5]\n",
    "lista2 = [2, 2, 3]\n",
    "\n",
    "tamanho1 = len(lista1)\n",
    "tamanho2 = len(lista2)\n",
    "i = 0\n",
    "\n",
    "lista_final = []\n",
    "\n",
    "if tamanho1 == tamanho2:\n",
    "    for i in range(tamanho1):\n",
    "        soma = lista1[i] + lista2[i]\n",
    "        lista_final.append(soma)\n",
    "\n",
    "    \n",
    "\n",
    "print(lista_final)"
   ]
  },
  {
   "cell_type": "code",
   "execution_count": 192,
   "metadata": {
    "scrolled": true
   },
   "outputs": [
    {
     "name": "stdout",
     "output_type": "stream",
     "text": [
      "[2, 8, 15]\n"
     ]
    }
   ],
   "source": [
    "lista1 = [1, 4, 5]\n",
    "lista2 = [2, 2, 3]\n",
    "\n",
    "tamanho1 = len(lista1)\n",
    "tamanho2 = len(lista2)\n",
    "i = 0\n",
    "\n",
    "lista_final = []\n",
    "\n",
    "if tamanho1 == tamanho2:\n",
    "    for i in range(tamanho1):\n",
    "        soma = lista1[i] * lista2[i]\n",
    "        lista_final.append(soma)\n",
    "\n",
    "    \n",
    "\n",
    "print(lista_final)"
   ]
  },
  {
   "cell_type": "code",
   "execution_count": 199,
   "metadata": {},
   "outputs": [
    {
     "name": "stdout",
     "output_type": "stream",
     "text": [
      "Digite um número: 1\n",
      "Digite um outro número: \n",
      "Digite um outro número: 2\n",
      "Digite um outro número: 3\n",
      "Digite um outro número: 5\n",
      "Digite um outro número: 3\n",
      "['1', '3', '2', '3', '5']\n"
     ]
    }
   ],
   "source": [
    "n1 = input('Digite um número: ')\n",
    "n2 = input('Digite um outro número: ')\n",
    "n3 = input('Digite um outro número: ')\n",
    "n4 = input('Digite um outro número: ')\n",
    "n5 = input('Digite um outro número: ')\n",
    "\n",
    "lista = []\n",
    "\n",
    "if n1.isnumeric():\n",
    "    lista.append(n1)\n",
    "else:\n",
    "    n1 = input('Digite um número: ')\n",
    "    lista.append(n1)\n",
    "    \n",
    "    \n",
    "    \n",
    "if n2.isnumeric():\n",
    "    lista.append(n2)\n",
    "else:\n",
    "    n2 = input('Digite um outro número: ')\n",
    "    lista.append(n2)\n",
    "    \n",
    "    \n",
    "    \n",
    "if n3.isnumeric():\n",
    "    lista.append(n3)\n",
    "else:\n",
    "    n3 = input('Digite um outro número: ')\n",
    "    lista.append(n3)\n",
    "    \n",
    "    \n",
    "\n",
    "if n4.isnumeric():\n",
    "    lista.append(n4)\n",
    "else:\n",
    "    n4 = input('Digite um outro número: ')\n",
    "    lista.append(n4)\n",
    "    \n",
    "    \n",
    "\n",
    "if n5.isnumeric():\n",
    "    lista.append(n5)\n",
    "else:\n",
    "    n5 = input('Digite um outro número: ')\n",
    "    lista.append(n5)\n",
    "\n",
    "\n",
    "\n",
    "    \n",
    "print(lista)"
   ]
  },
  {
   "cell_type": "code",
   "execution_count": 201,
   "metadata": {},
   "outputs": [
    {
     "name": "stdout",
     "output_type": "stream",
     "text": [
      "Digite um número: 1\n",
      "Digite um outro número: 2\n",
      "Digite um outro número: 3\n",
      "Digite um outro número: 4\n",
      "Digite um outro número: 5\n",
      "[1.0, 2.0, 3.0, 4.0, 5.0]\n"
     ]
    }
   ],
   "source": [
    "n1 = input('Digite um número: ')\n",
    "n2 = input('Digite um outro número: ')\n",
    "n3 = input('Digite um outro número: ')\n",
    "n4 = input('Digite um outro número: ')\n",
    "n5 = input('Digite um outro número: ')\n",
    "\n",
    "lista = []\n",
    "\n",
    "if n1.isnumeric():\n",
    "    lista.append(n1)\n",
    "else:\n",
    "    n1 = input('Digite um número: ')\n",
    "    lista.append(n1)\n",
    "    \n",
    "    \n",
    "    \n",
    "if n2.isnumeric():\n",
    "    lista.append(n2)\n",
    "else:\n",
    "    n2 = input('Digite um outro número: ')\n",
    "    lista.append(n2)\n",
    "    \n",
    "    \n",
    "    \n",
    "if n3.isnumeric():\n",
    "    lista.append(n3)\n",
    "else:\n",
    "    n3 = input('Digite um outro número: ')\n",
    "    lista.append(n3)\n",
    "    \n",
    "    \n",
    "\n",
    "if n4.isnumeric():\n",
    "    lista.append(n4)\n",
    "else:\n",
    "    n4 = input('Digite um outro número: ')\n",
    "    lista.append(n4)\n",
    "    \n",
    "    \n",
    "\n",
    "if n5.isnumeric():\n",
    "    lista.append(n5)\n",
    "else:\n",
    "    n5 = input('Digite um outro número: ')\n",
    "    lista.append(n5)\n",
    "\n",
    "\n",
    "tamanho = len(lista)\n",
    "i = 0\n",
    "lista_nova = []\n",
    "\n",
    "for i in range(tamanho):\n",
    "    lista_nova.append(float(lista[i]))\n",
    "    \n",
    "print(lista_nova)"
   ]
  },
  {
   "cell_type": "code",
   "execution_count": 205,
   "metadata": {},
   "outputs": [
    {
     "name": "stdout",
     "output_type": "stream",
     "text": [
      "Digite uma nota: 765\n",
      "Digite uma outra nota: 76\n",
      "Digite uma outra nota: 9\n",
      "Digite uma outra nota: 4\n",
      "As notas informadas são:  [765.0, 76.0, 9.0, 4.0]\n",
      "A média das notas é:  213.5\n"
     ]
    }
   ],
   "source": [
    "n1 = float(input('Digite uma nota: '))\n",
    "n2 = float(input('Digite uma outra nota: '))\n",
    "n3 = float(input('Digite uma outra nota: '))\n",
    "n4 = float(input('Digite uma outra nota: '))\n",
    "\n",
    "\n",
    "lista = []\n",
    "\n",
    "\n",
    "lista.append(n1)\n",
    "lista.append(n2)\n",
    "lista.append(n3)\n",
    "lista.append(n4)\n",
    "    \n",
    "\n",
    "media = (n1 + n2 + n3 + n4)/4\n",
    "\n",
    "print('As notas informadas são: ', lista)\n",
    "print('A média das notas é: ' , media)"
   ]
  },
  {
   "cell_type": "code",
   "execution_count": 238,
   "metadata": {},
   "outputs": [
    {
     "name": "stdout",
     "output_type": "stream",
     "text": [
      "Essa é a lista com os 4 primeiros números:  [13, 83, 2, 42]\n",
      "Essa é a lista com os 5 últimos números:  [42, 34, 78, 81, 37, 15]\n",
      "Essa é a lista contendo apenas os elementos das posições pares:  [78, 34, 42, 42, 2]\n",
      "Essa é a lista contendo apenas os elementos das posições ímpares:  [15, 37, 81, 83, 13]\n",
      "Essa é a lista inversa da lista sorteada:  [15, 37, 81, 78, 34, 42, 42, 2, 83, 13]\n",
      "Essa é a lista inversa dos 5 primeiros números:  [15, 37, 81, 78, 34]\n",
      "Essa é a lista inversa dos 5 últimos números:  [42, 42, 2, 83, 13]\n"
     ]
    }
   ],
   "source": [
    "import random\n",
    "\n",
    "n1 = random.randint(1, 100)\n",
    "n2 = random.randint(1, 100)\n",
    "n3 = random.randint(1, 100)\n",
    "n4 = random.randint(1, 100)\n",
    "n5 = random.randint(1, 100)\n",
    "n6 = random.randint(1, 100)\n",
    "n7 = random.randint(1, 100)\n",
    "n8 = random.randint(1, 100)\n",
    "n9 = random.randint(1, 100)\n",
    "n10 = random.randint(1, 100)\n",
    "\n",
    "lista = []\n",
    "\n",
    "lista.append(n1)\n",
    "lista.append(n2)\n",
    "lista.append(n3)\n",
    "lista.append(n4)\n",
    "lista.append(n5)\n",
    "lista.append(n6)\n",
    "lista.append(n7)\n",
    "lista.append(n8)\n",
    "lista.append(n9)\n",
    "lista.append(n10)\n",
    "\n",
    "a = lista[:4]\n",
    "b = lista[4:]\n",
    "c = []\n",
    "d = []\n",
    "e = lista.reverse()\n",
    "f = lista[:5]\n",
    "g = lista[5:]\n",
    "\n",
    "\n",
    "for valor1 in lista:\n",
    "    if valor1 % 2 == 0:\n",
    "        c.append(valor1)\n",
    "        \n",
    "for valor2 in lista:\n",
    "    if valor2 % 2 != 0:\n",
    "        d.append(valor2)\n",
    "        \n",
    "\n",
    "print('Essa é a lista com os 4 primeiros números: ' , a)\n",
    "print('Essa é a lista com os 5 últimos números: ' , b)\n",
    "print('Essa é a lista contendo apenas os elementos das posições pares: ' , c)\n",
    "print('Essa é a lista contendo apenas os elementos das posições ímpares: ' , d)\n",
    "print('Essa é a lista inversa da lista sorteada: ' , lista)\n",
    "print('Essa é a lista inversa dos 5 primeiros números: ' , f)\n",
    "print('Essa é a lista inversa dos 5 últimos números: ' , g)"
   ]
  },
  {
   "cell_type": "code",
   "execution_count": 237,
   "metadata": {},
   "outputs": [
    {
     "name": "stdout",
     "output_type": "stream",
     "text": [
      "Esses são os números sorteados:  [76, 38, 87, 41, 75, 88, 20, 72, 81, 35]\n",
      "Esta é a quantidade de números acima de 50:  4\n"
     ]
    }
   ],
   "source": [
    "import random\n",
    "\n",
    "n1 = random.randint(1, 100)\n",
    "n2 = random.randint(1, 100)\n",
    "n3 = random.randint(1, 100)\n",
    "n4 = random.randint(1, 100)\n",
    "n5 = random.randint(1, 100)\n",
    "n6 = random.randint(1, 100)\n",
    "n7 = random.randint(1, 100)\n",
    "n8 = random.randint(1, 100)\n",
    "n9 = random.randint(1, 100)\n",
    "n10 = random.randint(1, 100)\n",
    "\n",
    "lista = []\n",
    "\n",
    "lista.append(n1)\n",
    "lista.append(n2)\n",
    "lista.append(n3)\n",
    "lista.append(n4)\n",
    "lista.append(n5)\n",
    "lista.append(n6)\n",
    "lista.append(n7)\n",
    "lista.append(n8)\n",
    "lista.append(n9)\n",
    "lista.append(n10)\n",
    "\n",
    "soma = 0\n",
    "lista_nova = []\n",
    "\n",
    "for valor in lista:\n",
    "    if valor < 50:\n",
    "        soma = soma + 1\n",
    "        lista_nova.append(valor)\n",
    "\n",
    "print('Esses são os números sorteados: ' , lista)\n",
    "print('Esta é a quantidade de números acima de 50: ' , soma)"
   ]
  },
  {
   "cell_type": "code",
   "execution_count": 239,
   "metadata": {},
   "outputs": [
    {
     "name": "stdout",
     "output_type": "stream",
     "text": [
      "Esse é o maior número sorteado:  95\n",
      "Esse é o menor número sorteado:  7\n",
      "Essa é a média dos números sorteados:  51.5\n",
      "Essa é a soma dos números sorteados:  515\n"
     ]
    }
   ],
   "source": [
    "import random\n",
    "\n",
    "n1 = random.randint(1, 100)\n",
    "n2 = random.randint(1, 100)\n",
    "n3 = random.randint(1, 100)\n",
    "n4 = random.randint(1, 100)\n",
    "n5 = random.randint(1, 100)\n",
    "n6 = random.randint(1, 100)\n",
    "n7 = random.randint(1, 100)\n",
    "n8 = random.randint(1, 100)\n",
    "n9 = random.randint(1, 100)\n",
    "n10 = random.randint(1, 100)\n",
    "\n",
    "lista = []\n",
    "\n",
    "lista.append(n1)\n",
    "lista.append(n2)\n",
    "lista.append(n3)\n",
    "lista.append(n4)\n",
    "lista.append(n5)\n",
    "lista.append(n6)\n",
    "lista.append(n7)\n",
    "lista.append(n8)\n",
    "lista.append(n9)\n",
    "lista.append(n10)\n",
    "\n",
    "a = max(lista)\n",
    "b = min(lista)\n",
    "c = (n1 + n2 + n3 + n4 + n5 + n6 + n7 + n8 + n9 + n10)/10\n",
    "d = n1 + n2 + n3 + n4 + n5 + n6 + n7 + n8 + n9 + n10\n",
    "\n",
    "\n",
    "print('Esse é o maior número sorteado: ' , a)\n",
    "print('Esse é o menor número sorteado: ' , b)\n",
    "print('Essa é a média dos números sorteados: ' , c)\n",
    "print('Essa é a soma dos números sorteados: ' , d)"
   ]
  },
  {
   "cell_type": "code",
   "execution_count": 28,
   "metadata": {},
   "outputs": [
    {
     "name": "stdout",
     "output_type": "stream",
     "text": [
      "Digite seu nome de um aluno: Michel\n",
      "Digite a idade desse aluno: 29\n",
      "Digite o número de provas que esse aluno fez: 3\n",
      "Digite um nota desse aluno: 10\n",
      "Digite um nota desse aluno: 9\n",
      "Digite um nota desse aluno: 6\n",
      "['Michel', 29, [10.0, 9.0, 6.0], 8.333333333333334, True]\n"
     ]
    }
   ],
   "source": [
    "nome = str(input('Digite seu nome de um aluno: ' ))\n",
    "idade = int(input('Digite a idade desse aluno: ' ))\n",
    "quant = int(input('Digite o número de provas que esse aluno fez: ' ))\n",
    "\n",
    "i = 1\n",
    "soma = 0\n",
    "boletim = []\n",
    "dados = []\n",
    "\n",
    "for i in range(quant):\n",
    "    i = i + 1\n",
    "    if i <= quant:\n",
    "        nota = float(input('Digite um nota desse aluno: ' ))\n",
    "        soma = soma + nota\n",
    "        media = soma / i\n",
    "        boletim.append(nota)\n",
    "\n",
    "teste = media > 5\n",
    "        \n",
    "dados.append(nome)\n",
    "dados.append(idade)\n",
    "dados.append(boletim)\n",
    "dados.append(media)\n",
    "dados.append(teste)\n",
    "\n",
    "print(dados)\n"
   ]
  },
  {
   "cell_type": "code",
   "execution_count": 52,
   "metadata": {},
   "outputs": [
    {
     "name": "stdout",
     "output_type": "stream",
     "text": [
      "Digite seu nome de um aluno: Michel\n",
      "Digite a idade desse aluno: 29\n",
      "Digite o número de provas que esse aluno fez: 3\n",
      "Digite um nota desse aluno: 9\n",
      "Digite um nota desse aluno: 8\n",
      "Digite um nota desse aluno: 7\n",
      "['Michel', 29, [9.0, 8.0, 7.0], 8.0, True]\n"
     ]
    }
   ],
   "source": [
    "nome = str(input('Digite seu nome de um aluno: ' ))\n",
    "idade = int(input('Digite a idade desse aluno: ' ))\n",
    "quant = int(input('Digite o número de provas que esse aluno fez: ' ))\n",
    "\n",
    "i = 1\n",
    "soma = 0\n",
    "boletim = []\n",
    "boletim2 = boletim[:]\n",
    "dados = []\n",
    "\n",
    "for i in range(quant):\n",
    "    i = i + 1\n",
    "    if i <= quant:\n",
    "        nota = float(input('Digite um nota desse aluno: ' ))\n",
    "        boletim.append(nota)\n",
    "        boletim2.append(nota)\n",
    "maximo = max(boletim2)\n",
    "minimo = min(boletim2)\n",
    "boletim2.remove(maximo)\n",
    "boletim2.remove(minimo)\n",
    "\n",
    "tamanho = len(boletim2)\n",
    "\n",
    "for j in range(tamanho):\n",
    "            soma = boletim2[j] + soma\n",
    "            media = soma / tamanho\n",
    "\n",
    "teste = media > 5\n",
    "        \n",
    "dados.append(nome)\n",
    "dados.append(idade)\n",
    "dados.append(boletim)\n",
    "dados.append(media)\n",
    "dados.append(teste)\n",
    "\n",
    "print(dados)"
   ]
  },
  {
   "cell_type": "code",
   "execution_count": 125,
   "metadata": {},
   "outputs": [
    {
     "name": "stdout",
     "output_type": "stream",
     "text": [
      "Digite o seu CPF, só com números: 41001527879\n",
      "Este foi o CPF digitado:  41001527879\n",
      "Continuaremos a validação do último dígito\n",
      "O CPF digitado é um CPF válido\n"
     ]
    }
   ],
   "source": [
    "cpf = str(input('Digite o seu CPF, só com números: ' ))\n",
    "tamanho = len(cpf)\n",
    "\n",
    "print('Este foi o CPF digitado: ' , cpf)\n",
    "\n",
    "lista_cpf1 = list(cpf)\n",
    "lista_cpf2 = lista_cpf1[:]\n",
    "lista_cpf2.pop(10)\n",
    "lista_cpf2.pop(9)\n",
    "\n",
    "\n",
    "lista_i = []\n",
    "\n",
    "for i in range(8, -1, -1):\n",
    "    lista_i.append(i + 2)\n",
    "product1 = [int(x)*int(y) for x,y in zip(lista_cpf2,lista_i)]\n",
    "\n",
    "n = 0\n",
    "soma1 = 0\n",
    "\n",
    "tamanho2 = len(product1)\n",
    "for n in range(tamanho2):\n",
    "    soma1 = soma1 + int(product1[n])\n",
    "    n += 1\n",
    "\n",
    "\n",
    "validacao1 =  soma1 * 10 % 11\n",
    "\n",
    "\n",
    "if validacao1 == int(lista_cpf1[9]):\n",
    "    lista_cpf2.append(validacao1)\n",
    "    print('Continuaremos a validação do último dígito')\n",
    "else:\n",
    "    print('CPF inválido')\n",
    "\n",
    "\n",
    "lista_m = []\n",
    "for m in range(9, -1, -1):\n",
    "    lista_m.append(m + 2)\n",
    "\n",
    "product2 = [int(a)*int(b) for a,b in zip(lista_cpf2,lista_m)]\n",
    "\n",
    "m = 0\n",
    "soma2 = 0\n",
    "\n",
    "tamanho3 = len(product2)\n",
    "for n in range(tamanho3):\n",
    "    soma2 += product2[m]\n",
    "    m += 1\n",
    "\n",
    "validacao2 =  soma2 * 10 % 11\n",
    "if validacao2 == int(lista_cpf1[10]):\n",
    "    lista_cpf2.append(validacao2)\n",
    "    print('O CPF digitado é um CPF válido')\n",
    "else:\n",
    "    print('CPF inválido')    "
   ]
  },
  {
   "cell_type": "code",
   "execution_count": 126,
   "metadata": {},
   "outputs": [
    {
     "name": "stdout",
     "output_type": "stream",
     "text": [
      "41001527879\n",
      "['4', '1', '0', '0', '1', '5', '2', '7', '8']\n",
      "[10, 9, 8, 7, 6, 5, 4, 3, 2]\n",
      "[40, 9, 0, 0, 6, 25, 8, 21, 16]\n",
      "125\n",
      "[40, 49, 49, 49, 55, 80, 88, 109, 125]\n",
      "7\n",
      "7\n",
      "['4', '1', '0', '0', '1', '5', '2', '7', '8', 7]\n",
      "[11, 10, 9, 8, 7, 6, 5, 4, 3, 2]\n",
      "167\n",
      "['4', '1', '0', '0', '1', '5', '2', '7', '8', 7, 9]\n"
     ]
    }
   ],
   "source": [
    "cpf = \"41001527879\"\n",
    "tamanho = len(cpf)\n",
    "\n",
    "print(cpf)\n",
    "\n",
    "lista_cpf1 = list(cpf)\n",
    "lista_cpf2 = lista_cpf1[:]\n",
    "lista_cpf2.pop(10)\n",
    "lista_cpf2.pop(9)\n",
    "print(lista_cpf2)\n",
    "\n",
    "\n",
    "lista_i = []\n",
    "\n",
    "for i in range(8, -1, -1):\n",
    "    lista_i.append(i + 2)\n",
    "print(lista_i)\n",
    "product1 = [int(x)*int(y) for x,y in zip(lista_cpf2,lista_i)]\n",
    "print(product1)\n",
    "\n",
    "n = 0\n",
    "soma1 = 0\n",
    "lista_aux = []\n",
    "\n",
    "tamanho2 = len(product1)\n",
    "for n in range(tamanho2):\n",
    "    soma1 = soma1 + int(product1[n])\n",
    "    lista_aux.append(soma1)\n",
    "    n += 1\n",
    "print(soma1)\n",
    "print(lista_aux)\n",
    "\n",
    "validacao1 =  soma1 * 10 % 11\n",
    "print(validacao1)\n",
    "print(lista_cpf1[9])\n",
    "\n",
    "if validacao1 == int(lista_cpf1[9]):\n",
    "    lista_cpf2.append(validacao1)\n",
    "print(lista_cpf2)\n",
    "\n",
    "\n",
    "lista_m = []\n",
    "for m in range(9, -1, -1):\n",
    "    lista_m.append(m + 2)\n",
    "print(lista_m)\n",
    "\n",
    "product2 = [int(a)*int(b) for a,b in zip(lista_cpf2,lista_m)]\n",
    "\n",
    "m = 0\n",
    "soma2 = 0\n",
    "\n",
    "tamanho3 = len(product2)\n",
    "for n in range(tamanho3):\n",
    "    soma2 += product2[m]\n",
    "    m += 1\n",
    "print(soma2)\n",
    "\n",
    "validacao2 =  soma2 * 10 % 11\n",
    "if validacao2 == int(lista_cpf1[10]):\n",
    "    lista_cpf2.append(validacao2)\n",
    "print(lista_cpf2)"
   ]
  },
  {
   "cell_type": "code",
   "execution_count": null,
   "metadata": {},
   "outputs": [],
   "source": [
    "cpf = str(input('Digite o seu CPF, só com números: ' ))\n",
    "tamanho = len(cpf)\n",
    "\n",
    "while True:\n",
    "\n",
    "    if tamanho == 11 and cpf.isnumeric() == True:\n",
    "        print(tamanho)\n",
    "        print(cpf)        \n",
    "\n",
    "    \n",
    "    else:\n",
    "        cpf2 = str(input('Digite um CPF válido, só com números: ' ))\n",
    "        break\n",
    "        print(cpf2)\n",
    "        tamanho = len(cpf2)\n",
    "        print(tamanho)\n"
   ]
  },
  {
   "cell_type": "code",
   "execution_count": 32,
   "metadata": {},
   "outputs": [
    {
     "name": "stdout",
     "output_type": "stream",
     "text": [
      "[10, 9, 8, 7, 6, 5, 4, 3, 2]\n"
     ]
    }
   ],
   "source": [
    "lista_i = []\n",
    "\n",
    "for i in range(8, -1, -1):\n",
    "    lista_i.append(i + 2)\n",
    "print(lista_i)"
   ]
  },
  {
   "cell_type": "code",
   "execution_count": 53,
   "metadata": {},
   "outputs": [
    {
     "name": "stdout",
     "output_type": "stream",
     "text": [
      "[11, 10, 9, 8, 7, 6, 5, 4, 3, 2]\n"
     ]
    }
   ],
   "source": [
    "lista_m = []\n",
    "for m in range(9, -1, -1):\n",
    "    lista_m.append(m + 2)\n",
    "print(lista_m)"
   ]
  },
  {
   "cell_type": "code",
   "execution_count": 52,
   "metadata": {},
   "outputs": [
    {
     "name": "stdout",
     "output_type": "stream",
     "text": [
      "[8, 4, 10, 27, 35, 20]\n",
      "104\n"
     ]
    }
   ],
   "source": [
    "list1 = [2,4,5,3,5,4]\n",
    "list2 = [4,1,2,9,7,5]\n",
    "product = [x*y for x,y in zip(list1,list2)]\n",
    "print(product)\n",
    "\n",
    "n = 0\n",
    "soma = 0\n",
    "\n",
    "tamanho2 = len(product)\n",
    "for n in range(tamanho2):\n",
    "    soma += product[n]\n",
    "    n += 1\n",
    "print(soma)\n",
    "    "
   ]
  },
  {
   "cell_type": "code",
   "execution_count": 47,
   "metadata": {},
   "outputs": [
    {
     "name": "stdout",
     "output_type": "stream",
     "text": [
      "[1, 2, 3, 4, 5, 6, 7, 8, 9, 1]\n"
     ]
    }
   ],
   "source": [
    "lista_cpf = [1, 2, 3, 4, 5, 6, 7, 8, 9, 1, 2, 10]\n",
    "lista_cpf.pop(10)\n",
    "lista_cpf.pop(10)\n",
    "print(lista_cpf)\n"
   ]
  },
  {
   "cell_type": "code",
   "execution_count": 187,
   "metadata": {},
   "outputs": [
    {
     "name": "stdout",
     "output_type": "stream",
     "text": [
      "[3, 6, 8]\n"
     ]
    }
   ],
   "source": [
    "lista1 = [1, 4, 5]\n",
    "lista2 = [2, 2, 3]\n",
    "\n",
    "tamanho1 = len(lista1)\n",
    "tamanho2 = len(lista2)\n",
    "i = 0\n",
    "\n",
    "lista_final = []\n",
    "\n",
    "if tamanho1 >= tamanho2:\n",
    "    for i in range(tamanho1):\n",
    "        soma = lista1[i] + lista2[i]\n",
    "        lista_final.append(soma)\n",
    "        \n",
    "else:\n",
    "    for i in range(tamanho2):\n",
    "        soma = lista1[i] + lista2[i]\n",
    "        lista_final.append(soma)\n",
    "    \n",
    "\n",
    "print(lista_final)"
   ]
  },
  {
   "cell_type": "markdown",
   "metadata": {},
   "source": [
    "https://campuscode.com.br/conteudos/o-calculo-do-digito-verificador-do-cpf-e-do-cnpj"
   ]
  },
  {
   "cell_type": "code",
   "execution_count": null,
   "metadata": {},
   "outputs": [],
   "source": []
  }
 ],
 "metadata": {
  "kernelspec": {
   "display_name": "Python 3",
   "language": "python",
   "name": "python3"
  },
  "language_info": {
   "codemirror_mode": {
    "name": "ipython",
    "version": 3
   },
   "file_extension": ".py",
   "mimetype": "text/x-python",
   "name": "python",
   "nbconvert_exporter": "python",
   "pygments_lexer": "ipython3",
   "version": "3.9.5"
  }
 },
 "nbformat": 4,
 "nbformat_minor": 4
}
