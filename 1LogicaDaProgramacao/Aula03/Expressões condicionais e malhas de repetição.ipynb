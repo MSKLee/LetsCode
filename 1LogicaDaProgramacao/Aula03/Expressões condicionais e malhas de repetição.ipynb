{
 "cells": [
  {
   "cell_type": "markdown",
   "metadata": {},
   "source": [
    "# Expressões Condicionais"
   ]
  },
  {
   "cell_type": "markdown",
   "metadata": {},
   "source": [
    "Se"
   ]
  },
  {
   "cell_type": "code",
   "execution_count": 37,
   "metadata": {},
   "outputs": [
    {
     "name": "stdout",
     "output_type": "stream",
     "text": [
      "Digite 1 para sim e 0 para não\n",
      "Mora perto da vítima? 1\n",
      "Já trabalhou com a vítima? 1\n",
      "Telefou para a vítima? 1\n",
      "Esteve no local do crime? 0\n",
      "Devia para a vítima? 0\n",
      "Cúmplice\n"
     ]
    }
   ],
   "source": [
    "print('Digite 1 para sim e 0 para não')\n",
    "\n",
    "distancia = int(input('Mora perto da vítima? '))\n",
    "trabalho = int(input('Já trabalhou com a vítima? '))\n",
    "telefone = int(input('Telefou para a vítima? '))\n",
    "local = int(input('Esteve no local do crime? '))\n",
    "divida = int(input('Devia para a vítima? '))\n",
    "\n",
    "soma = distancia + trabalho + telefone + local + divida\n",
    "\n",
    "if soma == 5:\n",
    "    print('Assassino')\n",
    "\n",
    "if soma == 4 or soma == 3:\n",
    "    print('Cúmplice')\n",
    "    \n",
    "if soma == 2:\n",
    "    print('Suspeito')\n",
    "    \n",
    "if soma <= 1:\n",
    "    print('Liberado')\n",
    "\n"
   ]
  },
  {
   "cell_type": "code",
   "execution_count": 52,
   "metadata": {},
   "outputs": [
    {
     "name": "stdout",
     "output_type": "stream",
     "text": [
      "Digite uma idade: 10\n",
      "Obrigado\n"
     ]
    }
   ],
   "source": [
    "idade = int(input('Digite uma idade: '))\n",
    "\n",
    "while idade <= 0 or idade > 120:\n",
    "    print('Digite a idade entre 0 e 120')\n",
    "    idade = int(input('Digite uma idade: '))\n",
    "\n",
    "print('Obrigado')\n",
    "\n"
   ]
  },
  {
   "cell_type": "code",
   "execution_count": 75,
   "metadata": {},
   "outputs": [
    {
     "name": "stdout",
     "output_type": "stream",
     "text": [
      "Digite um preço: 150\n",
      "Caro\n"
     ]
    }
   ],
   "source": [
    "preco1 = float(input('Digite um preço: '))\n",
    "\n",
    "if preco1 <= 50:\n",
    "    preco2 = preco1 * (1 + 0.05)\n",
    "    \n",
    "    \n",
    "if preco1 > 50 and preco1 < 100:\n",
    "    preco2 = preco1 * (1 + 0.10)\n",
    " \n",
    "    \n",
    "if preco1 >= 100 and preco1 <= 150:\n",
    "    preco2 = preco1 * (1 + 0.13)\n",
    "\n",
    "    \n",
    "if preco1 > 150:\n",
    "    preco2 = preco1 * (1 + 0.15)\n",
    "    \n",
    "    \n",
    "if preco2 <= 80:\n",
    "    print('Barato')\n",
    "    \n",
    "if preco2 > 80 and preco2 <= 115:\n",
    "    print('Razoável')\n",
    "    \n",
    "if preco2 > 115 and preco2 <= 150:\n",
    "    print('Normal')\n",
    "    \n",
    "if preco2 > 150 and preco2 <= 170:\n",
    "    print('Caro')\n",
    "    \n",
    "if preco2 > 170:\n",
    "    print('Muito Caro')"
   ]
  },
  {
   "cell_type": "code",
   "execution_count": 84,
   "metadata": {},
   "outputs": [
    {
     "name": "stdout",
     "output_type": "stream",
     "text": [
      "Digite um número: 415\n",
      "Digite um outro número: 84\n",
      "Digite um outro número: 414461446\n",
      "O maior dele é:  414461446.0\n"
     ]
    }
   ],
   "source": [
    "numero1 = float(input('Digite um número: '))\n",
    "numero2 = float(input('Digite um outro número: '))\n",
    "numero3 = float(input('Digite um outro número: '))\n",
    "\n",
    "print('O maior deles é: ' , max(numero1, numero2, numero3))"
   ]
  },
  {
   "cell_type": "code",
   "execution_count": 85,
   "metadata": {},
   "outputs": [
    {
     "name": "stdout",
     "output_type": "stream",
     "text": [
      "Digite um número: 25674025\n",
      "Digite um outro número: 056727\n",
      "Digite um outro número: 0567202670\n",
      "Digite um outro número: 0267\n",
      "O maior deles é:  567202670.0\n"
     ]
    }
   ],
   "source": [
    "numero1 = float(input('Digite um número: '))\n",
    "numero2 = float(input('Digite um outro número: '))\n",
    "numero3 = float(input('Digite um outro número: '))\n",
    "numero4 = float(input('Digite um outro número: '))\n",
    "\n",
    "print('O maior deles é: ' , max(numero1, numero2, numero3, numero4))"
   ]
  },
  {
   "cell_type": "code",
   "execution_count": 98,
   "metadata": {},
   "outputs": [
    {
     "name": "stdout",
     "output_type": "stream",
     "text": [
      "Responda com \"Sim\" ou \"Não\" \n",
      "Sente dor no corpo? Não\n",
      "Você tem febre? Não\n",
      "Você tem tosse? Não\n",
      "Está com congestão nasal? Não\n",
      "Tem manchas pelo corpo? Não\n",
      "Sem doenças\n"
     ]
    }
   ],
   "source": [
    "print('Responda com \"Sim\" ou \"Não\" ')\n",
    "\n",
    "a = str(input('Sente dor no corpo? '))\n",
    "b = str(input('Você tem febre? '))\n",
    "c = str(input('Você tem tosse? '))\n",
    "d = str(input('Está com congestão nasal? '))\n",
    "e = str(input('Tem manchas pelo corpo? '))\n",
    "\n",
    "if a == 'Sim' and b == 'Sim' and c == 'Não' and d == 'Não' and e =='Sim':\n",
    "    print ('Dengue')\n",
    "    \n",
    "if b == 'Sim' and c == 'Sim' and d == 'Sim' and e =='Não':\n",
    "    print ('Gripe')\n",
    "    \n",
    "if b== 'Não' and c == 'Não' and d == 'Não' and e =='Não':\n",
    "    print ('Sem doenças')   \n"
   ]
  },
  {
   "cell_type": "code",
   "execution_count": 106,
   "metadata": {},
   "outputs": [
    {
     "name": "stdout",
     "output_type": "stream",
     "text": [
      "Digite o valor final da sequência: 10\n",
      "1\n",
      "2\n",
      "3\n",
      "4\n",
      "5\n",
      "6\n",
      "7\n",
      "8\n",
      "9\n",
      "10\n"
     ]
    }
   ],
   "source": [
    "final = int(input('Digite o valor final da sequência: '))\n",
    "numero = 1\n",
    "\n",
    "while numero <= final:\n",
    "    print(numero)\n",
    "    numero = numero + 1"
   ]
  },
  {
   "cell_type": "code",
   "execution_count": 228,
   "metadata": {
    "scrolled": false
   },
   "outputs": [
    {
     "name": "stdout",
     "output_type": "stream",
     "text": [
      "Digite um número inteiro: 5\n",
      "O fatorial do número é: 120\n"
     ]
    }
   ],
   "source": [
    "numero = int(input('Digite um número inteiro: '))\n",
    "fatorial = 1\n",
    "i = 1\n",
    "\n",
    "while i <= numero:\n",
    "    fatorial *= i\n",
    "    i += 1\n",
    "\n",
    "print('O fatorial do número é:',fatorial)\n",
    "    \n"
   ]
  },
  {
   "cell_type": "code",
   "execution_count": 267,
   "metadata": {},
   "outputs": [
    {
     "name": "stdout",
     "output_type": "stream",
     "text": [
      "Digite o final de uma sequência: 7\n",
      "A soma dos número é: 28\n"
     ]
    }
   ],
   "source": [
    "final = int(input('Digite o final de uma sequência: '))\n",
    "soma = 0\n",
    "i = 1\n",
    "\n",
    "while i <= final:\n",
    "    soma += i\n",
    "    i += 1\n",
    "        \n",
    "print('A soma dos número é:',soma)"
   ]
  },
  {
   "cell_type": "code",
   "execution_count": 286,
   "metadata": {},
   "outputs": [
    {
     "name": "stdout",
     "output_type": "stream",
     "text": [
      "9 x 1 = 9\n",
      "9 x 2 = 18\n",
      "9 x 3 = 27\n",
      "9 x 4 = 36\n",
      "9 x 5 = 45\n",
      "9 x 6 = 54\n",
      "9 x 7 = 63\n",
      "9 x 8 = 72\n",
      "9 x 9 = 81\n",
      "9 x 10 = 90\n"
     ]
    }
   ],
   "source": [
    "final = 10\n",
    "i = 1\n",
    "\n",
    "while i <= final:\n",
    "    resultado = 9 * i\n",
    "    i += 1    \n",
    "    print(f'9 x {i-1} =',resultado)"
   ]
  },
  {
   "cell_type": "code",
   "execution_count": 278,
   "metadata": {},
   "outputs": [
    {
     "name": "stdout",
     "output_type": "stream",
     "text": [
      "Temperatura em graus Farenheit: 30\n",
      "Temperatura em graus Celsius: 13.11111111111111\n"
     ]
    }
   ],
   "source": [
    "tempF = int(input('Temperatura em graus Farenheit: '))\n",
    "\n",
    "tempC = (((5 * tempF) - 32) / 9)\n",
    "print(f'Temperatura em graus Celsius: {tempC}')"
   ]
  },
  {
   "cell_type": "code",
   "execution_count": 13,
   "metadata": {},
   "outputs": [
    {
     "name": "stdout",
     "output_type": "stream",
     "text": [
      "Digite um número inteiro: 5\n",
      "1\n",
      "5\n"
     ]
    }
   ],
   "source": [
    "numero = int(input('Digite um número inteiro: ' ))\n",
    "\n",
    "i = 1\n",
    "\n",
    "while i <= numero:\n",
    " \n",
    "    resto = numero % i\n",
    "    i += 1\n",
    "    \n",
    "    if resto == 0:\n",
    "        print(i-1)"
   ]
  },
  {
   "cell_type": "code",
   "execution_count": 44,
   "metadata": {},
   "outputs": [
    {
     "name": "stdout",
     "output_type": "stream",
     "text": [
      "Digite um número: 0\n",
      "Visto que o último número digitado foi zero, segue a soma dos números digitados:  0\n"
     ]
    }
   ],
   "source": [
    "numero = float(input('Digite um número: ' ))\n",
    "soma = 0\n",
    "    \n",
    "while numero != 0:\n",
    "    soma = soma + numero\n",
    "    numero = float(input('Digite um número: ' ))\n",
    "print('Visto que o último número digitado foi zero, segue a soma dos números digitados: ' , soma)\n"
   ]
  },
  {
   "cell_type": "code",
   "execution_count": 73,
   "metadata": {},
   "outputs": [
    {
     "name": "stdout",
     "output_type": "stream",
     "text": [
      "Adivinhe o número sorteado de 1 à 10: 2\n",
      "Resposta errada\n",
      "Adivinhe o número sorteado de 1 à 10: 3\n",
      "Resposta correta\n"
     ]
    }
   ],
   "source": [
    "import random\n",
    "\n",
    "numero = int(input('Adivinhe o número sorteado de 1 à 10: ' ))\n",
    "sorteado = random.randint(1, 10)\n",
    "\n",
    "while numero != sorteado:\n",
    "        print('Resposta errada')\n",
    "        numero = int(input('Adivinhe o número sorteado de 1 à 10: ' ))\n",
    "        \n",
    "print('Resposta correta')"
   ]
  },
  {
   "cell_type": "code",
   "execution_count": 99,
   "metadata": {},
   "outputs": [
    {
     "name": "stdout",
     "output_type": "stream",
     "text": [
      "Digite a sua idade: 5\n",
      "Obrigado!\n",
      "Digite seu salário: 1\n",
      "Obrigado!\n",
      "Digite seu sexo: M\n",
      "Obrigado!\n"
     ]
    }
   ],
   "source": [
    "idade = int(input('Digite a sua idade: ' ))\n",
    "\n",
    "while idade < 0 or idade > 150:\n",
    "    print('Digite uma idade entre 0 e 120' )\n",
    "    idade = int(input('Digite a sua idade: ' ))\n",
    "    \n",
    "print('Obrigado!')\n",
    "\n",
    "salario = float(input('Digite seu salário: ' ))\n",
    "\n",
    "while salario <= 0:\n",
    "    print('Digite um salário maior do que zero' )\n",
    "    salario = float(input('Digite seu salário: ' ))\n",
    "    \n",
    "print('Obrigado!')\n",
    "\n",
    "\n",
    "sexo = input('Digite seu sexo: ')\n",
    "\n",
    "while sexo != 'M' and sexo != 'F' and sexo != 'Outro':\n",
    "    print('Digite entre uma das opções M , F ou Outro')\n",
    "    sexo = input('Digite seu sexo: ')\n",
    "    \n",
    "print('Obrigado!')"
   ]
  },
  {
   "cell_type": "code",
   "execution_count": 50,
   "metadata": {},
   "outputs": [
    {
     "name": "stdout",
     "output_type": "stream",
     "text": [
      "1000 A soma dos mil termos da série = 2.0\n"
     ]
    }
   ],
   "source": [
    "i = 0\n",
    "soma = 0\n",
    "divisao = 1\n",
    "\n",
    "\n",
    "for i in range(1000):\n",
    "    i = i  + 1\n",
    "    soma = divisao + soma\n",
    "    divisao = divisao / 2\n",
    "print(i , 'A soma dos mil termos da série =' , soma)\n",
    "    "
   ]
  },
  {
   "cell_type": "code",
   "execution_count": 51,
   "metadata": {},
   "outputs": [
    {
     "name": "stdout",
     "output_type": "stream",
     "text": [
      "1000 A soma dos mil termos da série = 1.7182818284590455\n"
     ]
    }
   ],
   "source": [
    "i = 0\n",
    "soma = 0\n",
    "divisao = 1\n",
    "fatorial = 1\n",
    "\n",
    "for i in range(1000):\n",
    "    i = i + 1\n",
    "    fatorial = fatorial * i\n",
    "    soma = (1 / fatorial) + soma\n",
    "print(i, 'A soma dos mil termos da série =' , soma)"
   ]
  },
  {
   "cell_type": "code",
   "execution_count": null,
   "metadata": {},
   "outputs": [],
   "source": []
  }
 ],
 "metadata": {
  "kernelspec": {
   "display_name": "Python 3",
   "language": "python",
   "name": "python3"
  },
  "language_info": {
   "codemirror_mode": {
    "name": "ipython",
    "version": 3
   },
   "file_extension": ".py",
   "mimetype": "text/x-python",
   "name": "python",
   "nbconvert_exporter": "python",
   "pygments_lexer": "ipython3",
   "version": "3.9.5"
  }
 },
 "nbformat": 4,
 "nbformat_minor": 4
}
